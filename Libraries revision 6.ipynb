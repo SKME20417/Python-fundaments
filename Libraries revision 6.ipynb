{
 "cells": [
  {
   "cell_type": "code",
   "execution_count": 1,
   "id": "2cf9ce64",
   "metadata": {},
   "outputs": [
    {
     "name": "stdout",
     "output_type": "stream",
     "text": [
      "hello world\n"
     ]
    }
   ],
   "source": [
    "print('hello world')"
   ]
  },
  {
   "cell_type": "code",
   "execution_count": 3,
   "id": "5dfd8a9b",
   "metadata": {},
   "outputs": [],
   "source": [
    "# This is a comment"
   ]
  },
  {
   "cell_type": "code",
   "execution_count": 4,
   "id": "58f42e26",
   "metadata": {},
   "outputs": [
    {
     "name": "stdout",
     "output_type": "stream",
     "text": [
      "machine learning\n"
     ]
    }
   ],
   "source": [
    "print('machine learning')"
   ]
  },
  {
   "cell_type": "code",
   "execution_count": 5,
   "id": "91324436",
   "metadata": {},
   "outputs": [
    {
     "name": "stdout",
     "output_type": "stream",
     "text": [
      "hello students\n"
     ]
    }
   ],
   "source": [
    "print('hello students')"
   ]
  },
  {
   "cell_type": "code",
   "execution_count": 6,
   "id": "998ed05c",
   "metadata": {},
   "outputs": [
    {
     "name": "stdout",
     "output_type": "stream",
     "text": [
      "python machine learning 100\n"
     ]
    }
   ],
   "source": [
    "print('python', 'machine learning', 100)"
   ]
  },
  {
   "cell_type": "code",
   "execution_count": 7,
   "id": "45b8a5ff",
   "metadata": {},
   "outputs": [],
   "source": [
    "i = 5"
   ]
  },
  {
   "cell_type": "code",
   "execution_count": 8,
   "id": "14ed9ba1",
   "metadata": {},
   "outputs": [
    {
     "data": {
      "text/plain": [
       "int"
      ]
     },
     "execution_count": 8,
     "metadata": {},
     "output_type": "execute_result"
    }
   ],
   "source": [
    "type(i)"
   ]
  },
  {
   "cell_type": "code",
   "execution_count": 9,
   "id": "e7f0bb9b",
   "metadata": {},
   "outputs": [
    {
     "name": "stdout",
     "output_type": "stream",
     "text": [
      "5\n"
     ]
    }
   ],
   "source": [
    "print(i)"
   ]
  },
  {
   "cell_type": "code",
   "execution_count": 10,
   "id": "0779fb8e",
   "metadata": {},
   "outputs": [],
   "source": [
    "i = 'machine learning'"
   ]
  },
  {
   "cell_type": "code",
   "execution_count": 11,
   "id": "4b05fa66",
   "metadata": {},
   "outputs": [
    {
     "name": "stdout",
     "output_type": "stream",
     "text": [
      "machine learning\n"
     ]
    }
   ],
   "source": [
    "print(i)"
   ]
  },
  {
   "cell_type": "code",
   "execution_count": 12,
   "id": "3671358d",
   "metadata": {},
   "outputs": [
    {
     "data": {
      "text/plain": [
       "str"
      ]
     },
     "execution_count": 12,
     "metadata": {},
     "output_type": "execute_result"
    }
   ],
   "source": [
    "type(i)"
   ]
  },
  {
   "cell_type": "code",
   "execution_count": 13,
   "id": "b650caf5",
   "metadata": {},
   "outputs": [],
   "source": [
    "my_f = 56.3"
   ]
  },
  {
   "cell_type": "code",
   "execution_count": 15,
   "id": "27644df5",
   "metadata": {},
   "outputs": [
    {
     "name": "stdout",
     "output_type": "stream",
     "text": [
      "56.3\n",
      "<class 'float'>\n"
     ]
    }
   ],
   "source": [
    "print(my_f)\n",
    "type(my_f)\n",
    "print(type(my_f))"
   ]
  },
  {
   "cell_type": "code",
   "execution_count": 16,
   "id": "391930c6",
   "metadata": {},
   "outputs": [],
   "source": [
    "my_bool = True # False"
   ]
  },
  {
   "cell_type": "code",
   "execution_count": 17,
   "id": "4d6f5f1a",
   "metadata": {},
   "outputs": [
    {
     "name": "stdout",
     "output_type": "stream",
     "text": [
      "True\n"
     ]
    },
    {
     "data": {
      "text/plain": [
       "bool"
      ]
     },
     "execution_count": 17,
     "metadata": {},
     "output_type": "execute_result"
    }
   ],
   "source": [
    "print(my_bool)\n",
    "type(my_bool)"
   ]
  },
  {
   "cell_type": "code",
   "execution_count": 18,
   "id": "9dbf1744",
   "metadata": {},
   "outputs": [],
   "source": [
    "my_n = None\n"
   ]
  },
  {
   "cell_type": "code",
   "execution_count": 19,
   "id": "4771050d",
   "metadata": {},
   "outputs": [
    {
     "name": "stdout",
     "output_type": "stream",
     "text": [
      "None\n"
     ]
    },
    {
     "data": {
      "text/plain": [
       "NoneType"
      ]
     },
     "execution_count": 19,
     "metadata": {},
     "output_type": "execute_result"
    }
   ],
   "source": [
    "print(my_n)\n",
    "type(my_n)"
   ]
  },
  {
   "cell_type": "code",
   "execution_count": 23,
   "id": "589b38ae",
   "metadata": {},
   "outputs": [
    {
     "name": "stdout",
     "output_type": "stream",
     "text": [
      "Enter your name:sanjay kumar\n"
     ]
    }
   ],
   "source": [
    "name = input('Enter your name:')"
   ]
  },
  {
   "cell_type": "code",
   "execution_count": 24,
   "id": "41e0a80e",
   "metadata": {},
   "outputs": [
    {
     "name": "stdout",
     "output_type": "stream",
     "text": [
      "sanjay kumar\n"
     ]
    },
    {
     "data": {
      "text/plain": [
       "str"
      ]
     },
     "execution_count": 24,
     "metadata": {},
     "output_type": "execute_result"
    }
   ],
   "source": [
    "print(name)\n",
    "type(name)"
   ]
  },
  {
   "cell_type": "code",
   "execution_count": 27,
   "id": "4da95740",
   "metadata": {},
   "outputs": [],
   "source": [
    "num = '8'\n",
    "\n"
   ]
  },
  {
   "cell_type": "code",
   "execution_count": 29,
   "id": "8c833f2c",
   "metadata": {},
   "outputs": [
    {
     "name": "stdout",
     "output_type": "stream",
     "text": [
      "<class 'str'>\n"
     ]
    }
   ],
   "source": [
    "print(type(num))"
   ]
  },
  {
   "cell_type": "code",
   "execution_count": 30,
   "id": "4008a2ab",
   "metadata": {},
   "outputs": [],
   "source": [
    "num = int(num)"
   ]
  },
  {
   "cell_type": "code",
   "execution_count": 31,
   "id": "c6073c5a",
   "metadata": {},
   "outputs": [
    {
     "data": {
      "text/plain": [
       "int"
      ]
     },
     "execution_count": 31,
     "metadata": {},
     "output_type": "execute_result"
    }
   ],
   "source": [
    "type(num)"
   ]
  },
  {
   "cell_type": "code",
   "execution_count": 33,
   "id": "d37d55bb",
   "metadata": {},
   "outputs": [
    {
     "name": "stdout",
     "output_type": "stream",
     "text": [
      "Whats your age: 25\n"
     ]
    }
   ],
   "source": [
    "age = int(input('Whats your age: '))"
   ]
  },
  {
   "cell_type": "code",
   "execution_count": 34,
   "id": "23d21007",
   "metadata": {},
   "outputs": [
    {
     "name": "stdout",
     "output_type": "stream",
     "text": [
      "25\n"
     ]
    },
    {
     "data": {
      "text/plain": [
       "int"
      ]
     },
     "execution_count": 34,
     "metadata": {},
     "output_type": "execute_result"
    }
   ],
   "source": [
    "print(age)\n",
    "type(age)"
   ]
  },
  {
   "cell_type": "code",
   "execution_count": 35,
   "id": "83396706",
   "metadata": {},
   "outputs": [],
   "source": [
    "no1 = 12\n",
    "no2 = 3"
   ]
  },
  {
   "cell_type": "code",
   "execution_count": 36,
   "id": "b899f785",
   "metadata": {},
   "outputs": [
    {
     "data": {
      "text/plain": [
       "15"
      ]
     },
     "execution_count": 36,
     "metadata": {},
     "output_type": "execute_result"
    }
   ],
   "source": [
    "12+3"
   ]
  },
  {
   "cell_type": "code",
   "execution_count": 37,
   "id": "ce14f464",
   "metadata": {},
   "outputs": [
    {
     "data": {
      "text/plain": [
       "9"
      ]
     },
     "execution_count": 37,
     "metadata": {},
     "output_type": "execute_result"
    }
   ],
   "source": [
    "12-3"
   ]
  },
  {
   "cell_type": "code",
   "execution_count": 38,
   "id": "7c253de3",
   "metadata": {},
   "outputs": [
    {
     "data": {
      "text/plain": [
       "36"
      ]
     },
     "execution_count": 38,
     "metadata": {},
     "output_type": "execute_result"
    }
   ],
   "source": [
    "12*3"
   ]
  },
  {
   "cell_type": "code",
   "execution_count": 39,
   "id": "cdc55ae0",
   "metadata": {},
   "outputs": [
    {
     "data": {
      "text/plain": [
       "4.0"
      ]
     },
     "execution_count": 39,
     "metadata": {},
     "output_type": "execute_result"
    }
   ],
   "source": [
    "12/3"
   ]
  },
  {
   "cell_type": "code",
   "execution_count": 40,
   "id": "7b1039f3",
   "metadata": {},
   "outputs": [
    {
     "data": {
      "text/plain": [
       "4"
      ]
     },
     "execution_count": 40,
     "metadata": {},
     "output_type": "execute_result"
    }
   ],
   "source": [
    "12//3"
   ]
  },
  {
   "cell_type": "code",
   "execution_count": 41,
   "id": "c91aa6a8",
   "metadata": {},
   "outputs": [
    {
     "data": {
      "text/plain": [
       "1728"
      ]
     },
     "execution_count": 41,
     "metadata": {},
     "output_type": "execute_result"
    }
   ],
   "source": [
    "12**3"
   ]
  },
  {
   "cell_type": "code",
   "execution_count": 42,
   "id": "ac8b917e",
   "metadata": {},
   "outputs": [
    {
     "data": {
      "text/plain": [
       "0"
      ]
     },
     "execution_count": 42,
     "metadata": {},
     "output_type": "execute_result"
    }
   ],
   "source": [
    "12%3"
   ]
  },
  {
   "cell_type": "code",
   "execution_count": 45,
   "id": "66f446dd",
   "metadata": {},
   "outputs": [],
   "source": [
    "add = no1+no2\n",
    "sub = no1-no2\n",
    "mul = no1*no2\n",
    "div = no1/no2\n",
    "f_div = no1//no2\n",
    "exp = no1**no2\n",
    "\n",
    "mod = no1%no2"
   ]
  },
  {
   "cell_type": "code",
   "execution_count": 46,
   "id": "677b1820",
   "metadata": {},
   "outputs": [
    {
     "name": "stdout",
     "output_type": "stream",
     "text": [
      "15 9 36 4.0 4 1728 0\n"
     ]
    }
   ],
   "source": [
    "print(add, sub , mul, div, f_div, exp, mod)"
   ]
  },
  {
   "cell_type": "code",
   "execution_count": 50,
   "id": "64960d2a",
   "metadata": {},
   "outputs": [
    {
     "name": "stdout",
     "output_type": "stream",
     "text": [
      "a+b = 15\n",
      "a-b = 9\n",
      "a*b = 36\n",
      "a/b = 4.0\n",
      "a//b = 4\n",
      "a**b = 1728\n",
      "a%b = 0\n"
     ]
    }
   ],
   "source": [
    "print(\"a+b =\", add)\n",
    "print(\"a-b =\", sub)\n",
    "print(\"a*b =\", mul)\n",
    "print(\"a/b =\", div)\n",
    "print(\"a//b =\", f_div)\n",
    "print(\"a**b =\", exp)\n",
    "print(\"a%b =\", mod)\n"
   ]
  },
  {
   "cell_type": "code",
   "execution_count": 56,
   "id": "e33f2d77",
   "metadata": {},
   "outputs": [
    {
     "name": "stdout",
     "output_type": "stream",
     "text": [
      "a>b :  True\n",
      "a<b :  False\n",
      "a>=b : True\n",
      "a<=b : False\n",
      "a==b : False\n",
      "a!=b : True\n"
     ]
    }
   ],
   "source": [
    "print(\"a>b : \", no1>no2)\n",
    "print('a<b : ', no1<no2)\n",
    "print('a>=b :', no1>=no2)\n",
    "print(\"a<=b :\", no1<=no2)\n",
    "print(\"a==b :\", no1==no2)\n",
    "print(\"a!=b :\", no1!=no2)"
   ]
  },
  {
   "cell_type": "code",
   "execution_count": 60,
   "id": "5bd761ab",
   "metadata": {},
   "outputs": [
    {
     "name": "stdout",
     "output_type": "stream",
     "text": [
      "False\n"
     ]
    }
   ],
   "source": [
    "print((10>5) and (10<6))"
   ]
  },
  {
   "cell_type": "code",
   "execution_count": 61,
   "id": "1b3f24ea",
   "metadata": {},
   "outputs": [
    {
     "name": "stdout",
     "output_type": "stream",
     "text": [
      "False\n"
     ]
    }
   ],
   "source": [
    "print((10>5) & (10<6))"
   ]
  },
  {
   "cell_type": "code",
   "execution_count": 65,
   "id": "58c60c42",
   "metadata": {},
   "outputs": [
    {
     "name": "stdout",
     "output_type": "stream",
     "text": [
      "True\n"
     ]
    }
   ],
   "source": [
    "print((10>5) or (10<3))"
   ]
  },
  {
   "cell_type": "code",
   "execution_count": 66,
   "id": "69b0d583",
   "metadata": {},
   "outputs": [
    {
     "data": {
      "text/plain": [
       "True"
      ]
     },
     "execution_count": 66,
     "metadata": {},
     "output_type": "execute_result"
    }
   ],
   "source": [
    "not False"
   ]
  },
  {
   "cell_type": "code",
   "execution_count": 67,
   "id": "e81537ce",
   "metadata": {},
   "outputs": [
    {
     "data": {
      "text/plain": [
       "False"
      ]
     },
     "execution_count": 67,
     "metadata": {},
     "output_type": "execute_result"
    }
   ],
   "source": [
    "not True"
   ]
  },
  {
   "cell_type": "code",
   "execution_count": 68,
   "id": "93b30dae",
   "metadata": {},
   "outputs": [
    {
     "name": "stdout",
     "output_type": "stream",
     "text": [
      "True\n"
     ]
    }
   ],
   "source": [
    "print((10>5) | (10<3))"
   ]
  },
  {
   "cell_type": "code",
   "execution_count": 70,
   "id": "4c246867",
   "metadata": {},
   "outputs": [
    {
     "name": "stdout",
     "output_type": "stream",
     "text": [
      "0\n"
     ]
    }
   ],
   "source": [
    "print(10 & 4)"
   ]
  },
  {
   "cell_type": "code",
   "execution_count": 71,
   "id": "ed14ebad",
   "metadata": {},
   "outputs": [
    {
     "name": "stdout",
     "output_type": "stream",
     "text": [
      "14\n"
     ]
    }
   ],
   "source": [
    "print(10 | 4)"
   ]
  },
  {
   "cell_type": "code",
   "execution_count": 72,
   "id": "e5f68772",
   "metadata": {},
   "outputs": [
    {
     "name": "stdout",
     "output_type": "stream",
     "text": [
      "14\n"
     ]
    }
   ],
   "source": [
    "print(10^4)"
   ]
  },
  {
   "cell_type": "code",
   "execution_count": 74,
   "id": "b2381c02",
   "metadata": {},
   "outputs": [
    {
     "data": {
      "text/plain": [
       "True"
      ]
     },
     "execution_count": 74,
     "metadata": {},
     "output_type": "execute_result"
    }
   ],
   "source": [
    "\"GOOD\" in 'good GOOD morning'"
   ]
  },
  {
   "cell_type": "code",
   "execution_count": 75,
   "id": "c62297d0",
   "metadata": {},
   "outputs": [],
   "source": [
    "age = 14"
   ]
  },
  {
   "cell_type": "code",
   "execution_count": 76,
   "id": "2b5e59b4",
   "metadata": {},
   "outputs": [
    {
     "name": "stdout",
     "output_type": "stream",
     "text": [
      "grow up first\n"
     ]
    }
   ],
   "source": [
    "if age>=18:\n",
    "    print('you are eligible to vote')\n",
    "else:\n",
    "    print('grow up first')"
   ]
  },
  {
   "cell_type": "code",
   "execution_count": 79,
   "id": "07289053",
   "metadata": {},
   "outputs": [
    {
     "name": "stdout",
     "output_type": "stream",
     "text": [
      "grow up kid\n"
     ]
    }
   ],
   "source": [
    "age = 11\n",
    "\n",
    "if age>=18:\n",
    "    print('you can vote')\n",
    "elif age>=15:\n",
    "    print('it will take 2 years to you to vote')\n",
    "else:\n",
    "    print('grow up kid')"
   ]
  },
  {
   "cell_type": "code",
   "execution_count": 83,
   "id": "972c78b9",
   "metadata": {},
   "outputs": [
    {
     "name": "stdout",
     "output_type": "stream",
     "text": [
      "2 ,4 ,6 ,8 ,10 ,12 ,14 ,16 ,18 ,20 ,"
     ]
    }
   ],
   "source": [
    "i = 1\n",
    "\n",
    "while i<=20:\n",
    "    if i%2==0:\n",
    "        print(i, end=\" ,\")\n",
    "\n",
    "    i+=1"
   ]
  },
  {
   "cell_type": "code",
   "execution_count": 88,
   "id": "0262c687",
   "metadata": {},
   "outputs": [
    {
     "name": "stdout",
     "output_type": "stream",
     "text": [
      "2 , 4 , 6 , 8 , 10 , 12 , 14 , 16 , 18 , 20 , "
     ]
    }
   ],
   "source": [
    "for i in range(1,21):\n",
    "    if i%2==0:\n",
    "        print(i, end=\" , \")\n",
    "    "
   ]
  },
  {
   "cell_type": "code",
   "execution_count": 86,
   "id": "592c4792",
   "metadata": {},
   "outputs": [
    {
     "data": {
      "text/plain": [
       "[1, 2, 3, 4, 5, 6, 7, 8, 9, 10, 11, 12, 13, 14, 15, 16, 17, 18, 19, 20]"
      ]
     },
     "execution_count": 86,
     "metadata": {},
     "output_type": "execute_result"
    }
   ],
   "source": [
    "list(range(1,21))"
   ]
  },
  {
   "cell_type": "code",
   "execution_count": 89,
   "id": "d678ceba",
   "metadata": {},
   "outputs": [
    {
     "name": "stdout",
     "output_type": "stream",
     "text": [
      "2 4 6 8 10 12 14 16 18 20 "
     ]
    }
   ],
   "source": [
    "for i in range(2,21,2):\n",
    "    print(i, end=\" \")"
   ]
  },
  {
   "cell_type": "code",
   "execution_count": 91,
   "id": "dba9c2d9",
   "metadata": {},
   "outputs": [
    {
     "name": "stdout",
     "output_type": "stream",
     "text": [
      "9x1=9\n",
      "9x2=18\n",
      "9x3=27\n",
      "9x4=36\n",
      "9x5=45\n",
      "9x6=54\n",
      "9x7=63\n",
      "9x8=72\n",
      "9x9=81\n",
      "9x10=90\n",
      "all done\n"
     ]
    }
   ],
   "source": [
    "n = 9\n",
    "\n",
    "for i in  range(1,11):\n",
    "    print(\"{}x{}={}\".format(n,i,n*i))\n",
    "else:\n",
    "    print('all done')"
   ]
  },
  {
   "cell_type": "code",
   "execution_count": 94,
   "id": "919a0fa5",
   "metadata": {},
   "outputs": [],
   "source": [
    "for i in range(1, 10):\n",
    "    if (i==5):\n",
    "        continue\n",
    "    print(i)"
   ]
  },
  {
   "cell_type": "code",
   "execution_count": 97,
   "id": "93f69ae8",
   "metadata": {},
   "outputs": [
    {
     "name": "stdout",
     "output_type": "stream",
     "text": [
      "1\n",
      "2\n",
      "3\n",
      "4\n",
      "6\n",
      "7\n",
      "8\n",
      "9\n"
     ]
    }
   ],
   "source": [
    "for i in range(1,10):\n",
    "    if (i==5):\n",
    "        continue\n",
    "    print(i)"
   ]
  },
  {
   "cell_type": "code",
   "execution_count": 101,
   "id": "d46ff272",
   "metadata": {},
   "outputs": [
    {
     "name": "stdout",
     "output_type": "stream",
     "text": [
      "enter any number8\n"
     ]
    }
   ],
   "source": [
    "num = int(input('enter any number'))"
   ]
  },
  {
   "cell_type": "code",
   "execution_count": 102,
   "id": "6c2c6966",
   "metadata": {},
   "outputs": [],
   "source": [
    "def oddevencheck(number):\n",
    "    if number%2==0:\n",
    "        print('The given number is even')\n",
    "        print(number)\n",
    "    else:\n",
    "        print('The number is odd')\n",
    "        print(number)\n",
    "    "
   ]
  },
  {
   "cell_type": "code",
   "execution_count": 103,
   "id": "801325f0",
   "metadata": {},
   "outputs": [
    {
     "name": "stdout",
     "output_type": "stream",
     "text": [
      "The given number is even\n",
      "8\n"
     ]
    }
   ],
   "source": [
    "oddevencheck(num)"
   ]
  },
  {
   "cell_type": "code",
   "execution_count": 108,
   "id": "9a4856b1",
   "metadata": {},
   "outputs": [
    {
     "name": "stdout",
     "output_type": "stream",
     "text": [
      "enter first number:15\n",
      "enter second number:1226\n",
      "enter third number:29\n"
     ]
    }
   ],
   "source": [
    "num1 = int(input('enter first number:'))\n",
    "num2 = int(input('enter second number:'))\n",
    "num3 = int(input('enter third number:'))"
   ]
  },
  {
   "cell_type": "code",
   "execution_count": 109,
   "id": "2be35d9b",
   "metadata": {},
   "outputs": [
    {
     "name": "stdout",
     "output_type": "stream",
     "text": [
      "num2 is largest 1226\n"
     ]
    }
   ],
   "source": [
    "if (num1>num2) and (num1>num3):\n",
    "    print('num1 is largest', num1)\n",
    "elif (num2>num3) and (num2>num1):\n",
    "    print('num2 is largest', num2)\n",
    "else:\n",
    "    print('num3 is largest', num3)"
   ]
  },
  {
   "cell_type": "code",
   "execution_count": 134,
   "id": "19e24525",
   "metadata": {},
   "outputs": [
    {
     "name": "stdout",
     "output_type": "stream",
     "text": [
      "enter your number:5\n"
     ]
    }
   ],
   "source": [
    "number = int(input('enter your number:'))\n"
   ]
  },
  {
   "cell_type": "code",
   "execution_count": 121,
   "id": "f4a0b809",
   "metadata": {},
   "outputs": [
    {
     "name": "stdout",
     "output_type": "stream",
     "text": [
      "120\n"
     ]
    }
   ],
   "source": [
    "factorial = 1\n",
    "\n",
    "if (number<0):\n",
    "    print('sorry i can not calculate factorial of a negative number')\n",
    "elif (number==1):\n",
    "    print('The factorial of 1 is 1')\n",
    "else:\n",
    "    for i in range(1,number+1):\n",
    "        factorial*=i\n",
    "\n",
    "print(factorial)"
   ]
  },
  {
   "cell_type": "code",
   "execution_count": null,
   "id": "cd1c0cfc",
   "metadata": {},
   "outputs": [],
   "source": []
  },
  {
   "cell_type": "code",
   "execution_count": 147,
   "id": "c25e0c71",
   "metadata": {},
   "outputs": [],
   "source": [
    "def factori(number):\n",
    "    if number<0:\n",
    "        print('negative number can not calulate factorial')\n",
    "    elif number==1:\n",
    "        print('the factorial of a number is one 1 ')\n",
    "    else:\n",
    "        return (number * factori(number-1))"
   ]
  },
  {
   "cell_type": "code",
   "execution_count": 148,
   "id": "8c0290ee",
   "metadata": {},
   "outputs": [
    {
     "name": "stdout",
     "output_type": "stream",
     "text": [
      "the factorial of a number is one 1 \n"
     ]
    },
    {
     "ename": "TypeError",
     "evalue": "unsupported operand type(s) for *: 'int' and 'NoneType'",
     "output_type": "error",
     "traceback": [
      "\u001b[1;31m---------------------------------------------------------------------------\u001b[0m",
      "\u001b[1;31mTypeError\u001b[0m                                 Traceback (most recent call last)",
      "Input \u001b[1;32mIn [148]\u001b[0m, in \u001b[0;36m<cell line: 1>\u001b[1;34m()\u001b[0m\n\u001b[1;32m----> 1\u001b[0m \u001b[43mfactorial\u001b[49m\u001b[43m(\u001b[49m\u001b[43mnumber\u001b[49m\u001b[43m)\u001b[49m\n",
      "Input \u001b[1;32mIn [135]\u001b[0m, in \u001b[0;36mfactorial\u001b[1;34m(number)\u001b[0m\n\u001b[0;32m      5\u001b[0m     \u001b[38;5;28mprint\u001b[39m(\u001b[38;5;124m'\u001b[39m\u001b[38;5;124mthe factorial of a number is one 1 \u001b[39m\u001b[38;5;124m'\u001b[39m)\n\u001b[0;32m      6\u001b[0m \u001b[38;5;28;01melse\u001b[39;00m:\n\u001b[1;32m----> 7\u001b[0m     \u001b[38;5;28;01mreturn\u001b[39;00m (number \u001b[38;5;241m*\u001b[39m \u001b[43mfactorial\u001b[49m\u001b[43m(\u001b[49m\u001b[43mnumber\u001b[49m\u001b[38;5;241;43m-\u001b[39;49m\u001b[38;5;241;43m1\u001b[39;49m\u001b[43m)\u001b[49m)\n",
      "Input \u001b[1;32mIn [135]\u001b[0m, in \u001b[0;36mfactorial\u001b[1;34m(number)\u001b[0m\n\u001b[0;32m      5\u001b[0m     \u001b[38;5;28mprint\u001b[39m(\u001b[38;5;124m'\u001b[39m\u001b[38;5;124mthe factorial of a number is one 1 \u001b[39m\u001b[38;5;124m'\u001b[39m)\n\u001b[0;32m      6\u001b[0m \u001b[38;5;28;01melse\u001b[39;00m:\n\u001b[1;32m----> 7\u001b[0m     \u001b[38;5;28;01mreturn\u001b[39;00m (number \u001b[38;5;241m*\u001b[39m \u001b[43mfactorial\u001b[49m\u001b[43m(\u001b[49m\u001b[43mnumber\u001b[49m\u001b[38;5;241;43m-\u001b[39;49m\u001b[38;5;241;43m1\u001b[39;49m\u001b[43m)\u001b[49m)\n",
      "    \u001b[1;31m[... skipping similar frames: factorial at line 7 (1 times)]\u001b[0m\n",
      "Input \u001b[1;32mIn [135]\u001b[0m, in \u001b[0;36mfactorial\u001b[1;34m(number)\u001b[0m\n\u001b[0;32m      5\u001b[0m     \u001b[38;5;28mprint\u001b[39m(\u001b[38;5;124m'\u001b[39m\u001b[38;5;124mthe factorial of a number is one 1 \u001b[39m\u001b[38;5;124m'\u001b[39m)\n\u001b[0;32m      6\u001b[0m \u001b[38;5;28;01melse\u001b[39;00m:\n\u001b[1;32m----> 7\u001b[0m     \u001b[38;5;28;01mreturn\u001b[39;00m (\u001b[43mnumber\u001b[49m\u001b[43m \u001b[49m\u001b[38;5;241;43m*\u001b[39;49m\u001b[43m \u001b[49m\u001b[43mfactorial\u001b[49m\u001b[43m(\u001b[49m\u001b[43mnumber\u001b[49m\u001b[38;5;241;43m-\u001b[39;49m\u001b[38;5;241;43m1\u001b[39;49m\u001b[43m)\u001b[49m)\n",
      "\u001b[1;31mTypeError\u001b[0m: unsupported operand type(s) for *: 'int' and 'NoneType'"
     ]
    }
   ],
   "source": [
    "factorial(number)"
   ]
  },
  {
   "cell_type": "code",
   "execution_count": 125,
   "id": "24258030",
   "metadata": {},
   "outputs": [
    {
     "name": "stdout",
     "output_type": "stream",
     "text": [
      "The factorial of 7 is 5040\n"
     ]
    }
   ],
   "source": [
    "# Python program to find the factorial of a number provided by the user\n",
    "# using recursion\n",
    "\n",
    "def factorial(x):\n",
    "    \"\"\"This is a recursive function\n",
    "    to find the factorial of an integer\"\"\"\n",
    "\n",
    "    if x == 1:\n",
    "        return 1\n",
    "    else:\n",
    "        # recursive call to the function\n",
    "        return (x * factorial(x-1))\n",
    "\n",
    "\n",
    "# change the value for a different result\n",
    "num = 7\n",
    "\n",
    "# to take input from the user\n",
    "# num = int(input(\"Enter a number: \"))\n",
    "\n",
    "# call the factorial function\n",
    "result = factorial(num)\n",
    "print(\"The factorial of\", num, \"is\", result)"
   ]
  },
  {
   "cell_type": "code",
   "execution_count": 158,
   "id": "864951a3",
   "metadata": {},
   "outputs": [],
   "source": [
    "def fac(x):\n",
    "    if x==1:\n",
    "        return 1\n",
    "    elif x<0:\n",
    "        print('negative number')\n",
    "    else:\n",
    "        return (x * fac(x-1))"
   ]
  },
  {
   "cell_type": "code",
   "execution_count": 159,
   "id": "0e2f1b8e",
   "metadata": {},
   "outputs": [
    {
     "name": "stdout",
     "output_type": "stream",
     "text": [
      "negative number\n"
     ]
    }
   ],
   "source": [
    "fac(-1)"
   ]
  },
  {
   "cell_type": "code",
   "execution_count": 149,
   "id": "eb6f3843",
   "metadata": {},
   "outputs": [
    {
     "name": "stdout",
     "output_type": "stream",
     "text": [
      "enter any number:5\n"
     ]
    }
   ],
   "source": [
    "num = int(input('enter any number:'))"
   ]
  },
  {
   "cell_type": "code",
   "execution_count": 164,
   "id": "caef0f47",
   "metadata": {},
   "outputs": [],
   "source": [
    "def facto(x):\n",
    "    if x==1:\n",
    "        return 1\n",
    "    elif x<0:\n",
    "        return(f'sorry we can not calculate factorial of negative number')\n",
    "    else:\n",
    "        return (x * facto(x-1))\n",
    "    \n",
    "    \n",
    "    \n",
    "      \n",
    " "
   ]
  },
  {
   "cell_type": "code",
   "execution_count": 166,
   "id": "6a8b9d14",
   "metadata": {},
   "outputs": [
    {
     "data": {
      "text/plain": [
       "720"
      ]
     },
     "execution_count": 166,
     "metadata": {},
     "output_type": "execute_result"
    }
   ],
   "source": [
    "facto(6)"
   ]
  },
  {
   "cell_type": "code",
   "execution_count": 210,
   "id": "086fb38f",
   "metadata": {},
   "outputs": [
    {
     "name": "stdout",
     "output_type": "stream",
     "text": [
      "enter any number:11\n"
     ]
    }
   ],
   "source": [
    "num = int(input('enter any number:'))"
   ]
  },
  {
   "cell_type": "code",
   "execution_count": 211,
   "id": "c165aed8",
   "metadata": {},
   "outputs": [],
   "source": [
    "def primecheck(x):\n",
    "    is_prime = True\n",
    "    for i in range(2,x):\n",
    "        if x%i==0:\n",
    "            is_prime = False\n",
    "    return is_prime\n",
    "\n",
    "        "
   ]
  },
  {
   "cell_type": "code",
   "execution_count": 212,
   "id": "c4ddb154",
   "metadata": {},
   "outputs": [
    {
     "data": {
      "text/plain": [
       "True"
      ]
     },
     "execution_count": 212,
     "metadata": {},
     "output_type": "execute_result"
    }
   ],
   "source": [
    "primecheck(num)"
   ]
  },
  {
   "cell_type": "code",
   "execution_count": 225,
   "id": "b2bd721e",
   "metadata": {},
   "outputs": [
    {
     "name": "stdout",
     "output_type": "stream",
     "text": [
      "enter any number:8\n"
     ]
    }
   ],
   "source": [
    "num = int(input('enter any number:'))"
   ]
  },
  {
   "cell_type": "code",
   "execution_count": 220,
   "id": "8d0b72dc",
   "metadata": {},
   "outputs": [],
   "source": [
    "def primecheck(x):\n",
    "    is_prime = True\n",
    "    for i in range(2,x):\n",
    "        if x%i==0:\n",
    "            is_prime = False\n",
    "            print('number is not prime')\n",
    "    return is_prime"
   ]
  },
  {
   "cell_type": "code",
   "execution_count": 221,
   "id": "b084a0d3",
   "metadata": {},
   "outputs": [
    {
     "data": {
      "text/plain": [
       "True"
      ]
     },
     "execution_count": 221,
     "metadata": {},
     "output_type": "execute_result"
    }
   ],
   "source": [
    "primecheck(num)"
   ]
  },
  {
   "cell_type": "code",
   "execution_count": 226,
   "id": "e7c659f6",
   "metadata": {},
   "outputs": [
    {
     "name": "stdout",
     "output_type": "stream",
     "text": [
      "number is not prime\n"
     ]
    }
   ],
   "source": [
    "is_prime = True\n",
    "\n",
    "\n",
    "if num>1:\n",
    "    for i in range(2,num):\n",
    "        if num%i==0:\n",
    "            is_prime = False\n",
    "            break\n",
    "            \n",
    "if is_prime:\n",
    "    print('The number is prime')\n",
    "else:\n",
    "    print('number is not prime')"
   ]
  },
  {
   "cell_type": "code",
   "execution_count": 249,
   "id": "87633ac7",
   "metadata": {},
   "outputs": [],
   "source": [
    "my_str = 'Welcome To the Course'"
   ]
  },
  {
   "cell_type": "code",
   "execution_count": 228,
   "id": "8d64c843",
   "metadata": {},
   "outputs": [
    {
     "name": "stdout",
     "output_type": "stream",
     "text": [
      "welcome to the course\n"
     ]
    }
   ],
   "source": [
    "print(my_str)"
   ]
  },
  {
   "cell_type": "code",
   "execution_count": 230,
   "id": "3c246942",
   "metadata": {},
   "outputs": [
    {
     "name": "stdout",
     "output_type": "stream",
     "text": [
      "<class 'str'>\n"
     ]
    }
   ],
   "source": [
    "print(type(my_str))"
   ]
  },
  {
   "cell_type": "code",
   "execution_count": 231,
   "id": "781abd25",
   "metadata": {},
   "outputs": [
    {
     "data": {
      "text/plain": [
       "'w'"
      ]
     },
     "execution_count": 231,
     "metadata": {},
     "output_type": "execute_result"
    }
   ],
   "source": [
    "my_str[0]"
   ]
  },
  {
   "cell_type": "code",
   "execution_count": 232,
   "id": "dc8e7e77",
   "metadata": {},
   "outputs": [
    {
     "data": {
      "text/plain": [
       "'m'"
      ]
     },
     "execution_count": 232,
     "metadata": {},
     "output_type": "execute_result"
    }
   ],
   "source": [
    "my_str[5]"
   ]
  },
  {
   "cell_type": "code",
   "execution_count": 233,
   "id": "0b6d33e2",
   "metadata": {},
   "outputs": [
    {
     "data": {
      "text/plain": [
       "21"
      ]
     },
     "execution_count": 233,
     "metadata": {},
     "output_type": "execute_result"
    }
   ],
   "source": [
    "len(my_str)"
   ]
  },
  {
   "cell_type": "code",
   "execution_count": 238,
   "id": "b671932d",
   "metadata": {},
   "outputs": [
    {
     "name": "stdout",
     "output_type": "stream",
     "text": [
      "e\n"
     ]
    }
   ],
   "source": [
    "print(my_str[len(my_str)-1])"
   ]
  },
  {
   "cell_type": "code",
   "execution_count": 239,
   "id": "7f2012a3",
   "metadata": {},
   "outputs": [
    {
     "data": {
      "text/plain": [
       "'c'"
      ]
     },
     "execution_count": 239,
     "metadata": {},
     "output_type": "execute_result"
    }
   ],
   "source": [
    "my_str[-6]"
   ]
  },
  {
   "cell_type": "code",
   "execution_count": 240,
   "id": "608413d5",
   "metadata": {},
   "outputs": [
    {
     "data": {
      "text/plain": [
       "'e'"
      ]
     },
     "execution_count": 240,
     "metadata": {},
     "output_type": "execute_result"
    }
   ],
   "source": [
    "my_str[-1]"
   ]
  },
  {
   "cell_type": "code",
   "execution_count": 241,
   "id": "03904b53",
   "metadata": {},
   "outputs": [
    {
     "data": {
      "text/plain": [
       "'lcom'"
      ]
     },
     "execution_count": 241,
     "metadata": {},
     "output_type": "execute_result"
    }
   ],
   "source": [
    "my_str[2:6]"
   ]
  },
  {
   "cell_type": "code",
   "execution_count": 242,
   "id": "f9614bf2",
   "metadata": {},
   "outputs": [
    {
     "data": {
      "text/plain": [
       "'lcome'"
      ]
     },
     "execution_count": 242,
     "metadata": {},
     "output_type": "execute_result"
    }
   ],
   "source": [
    "my_str[2:7]"
   ]
  },
  {
   "cell_type": "code",
   "execution_count": 243,
   "id": "ecd6962f",
   "metadata": {},
   "outputs": [
    {
     "data": {
      "text/plain": [
       "'welcome to the course'"
      ]
     },
     "execution_count": 243,
     "metadata": {},
     "output_type": "execute_result"
    }
   ],
   "source": [
    "my_str[:]"
   ]
  },
  {
   "cell_type": "code",
   "execution_count": 244,
   "id": "d844a422",
   "metadata": {},
   "outputs": [
    {
     "data": {
      "text/plain": [
       "'esruoc eht ot emoclew'"
      ]
     },
     "execution_count": 244,
     "metadata": {},
     "output_type": "execute_result"
    }
   ],
   "source": [
    "my_str[::-1]"
   ]
  },
  {
   "cell_type": "code",
   "execution_count": 245,
   "id": "ed3646ef",
   "metadata": {},
   "outputs": [
    {
     "data": {
      "text/plain": [
       "'welcome to the cour'"
      ]
     },
     "execution_count": 245,
     "metadata": {},
     "output_type": "execute_result"
    }
   ],
   "source": [
    "my_str[:-2]"
   ]
  },
  {
   "cell_type": "code",
   "execution_count": 246,
   "id": "f64038c1",
   "metadata": {},
   "outputs": [
    {
     "data": {
      "text/plain": [
       "'welcome to the course'"
      ]
     },
     "execution_count": 246,
     "metadata": {},
     "output_type": "execute_result"
    }
   ],
   "source": [
    "my_str"
   ]
  },
  {
   "cell_type": "code",
   "execution_count": 247,
   "id": "f60efc85",
   "metadata": {},
   "outputs": [
    {
     "name": "stdout",
     "output_type": "stream",
     "text": [
      "welcome to the course\n"
     ]
    }
   ],
   "source": [
    "print(my_str)"
   ]
  },
  {
   "cell_type": "code",
   "execution_count": 250,
   "id": "00910773",
   "metadata": {},
   "outputs": [
    {
     "data": {
      "text/plain": [
       "'Welcome To the Course'"
      ]
     },
     "execution_count": 250,
     "metadata": {},
     "output_type": "execute_result"
    }
   ],
   "source": [
    "my_str"
   ]
  },
  {
   "cell_type": "code",
   "execution_count": 251,
   "id": "f42018d2",
   "metadata": {},
   "outputs": [
    {
     "data": {
      "text/plain": [
       "'welcome to the course'"
      ]
     },
     "execution_count": 251,
     "metadata": {},
     "output_type": "execute_result"
    }
   ],
   "source": [
    "my_str.lower()"
   ]
  },
  {
   "cell_type": "code",
   "execution_count": 252,
   "id": "35e8e229",
   "metadata": {},
   "outputs": [
    {
     "data": {
      "text/plain": [
       "'WELCOME TO THE COURSE'"
      ]
     },
     "execution_count": 252,
     "metadata": {},
     "output_type": "execute_result"
    }
   ],
   "source": [
    "my_str.upper()"
   ]
  },
  {
   "cell_type": "code",
   "execution_count": 253,
   "id": "e41952da",
   "metadata": {},
   "outputs": [
    {
     "data": {
      "text/plain": [
       "'Welcome to the course'"
      ]
     },
     "execution_count": 253,
     "metadata": {},
     "output_type": "execute_result"
    }
   ],
   "source": [
    "my_str.capitalize()"
   ]
  },
  {
   "cell_type": "code",
   "execution_count": 254,
   "id": "1c7bffe8",
   "metadata": {},
   "outputs": [
    {
     "data": {
      "text/plain": [
       "'Welcome To The Course'"
      ]
     },
     "execution_count": 254,
     "metadata": {},
     "output_type": "execute_result"
    }
   ],
   "source": [
    "my_str.title()"
   ]
  },
  {
   "cell_type": "code",
   "execution_count": 255,
   "id": "13b94906",
   "metadata": {},
   "outputs": [
    {
     "data": {
      "text/plain": [
       "3"
      ]
     },
     "execution_count": 255,
     "metadata": {},
     "output_type": "execute_result"
    }
   ],
   "source": [
    "my_str.find('come')"
   ]
  },
  {
   "cell_type": "code",
   "execution_count": 256,
   "id": "eaa2221c",
   "metadata": {},
   "outputs": [
    {
     "data": {
      "text/plain": [
       "12"
      ]
     },
     "execution_count": 256,
     "metadata": {},
     "output_type": "execute_result"
    }
   ],
   "source": [
    "my_str.find('h')"
   ]
  },
  {
   "cell_type": "code",
   "execution_count": 257,
   "id": "b0535f69",
   "metadata": {},
   "outputs": [
    {
     "data": {
      "text/plain": [
       "-1"
      ]
     },
     "execution_count": 257,
     "metadata": {},
     "output_type": "execute_result"
    }
   ],
   "source": [
    "my_str.find('z')"
   ]
  },
  {
   "cell_type": "code",
   "execution_count": 259,
   "id": "f986aee1",
   "metadata": {},
   "outputs": [
    {
     "data": {
      "text/plain": [
       "['W', 'lcom', ' To th', ' Cours', '']"
      ]
     },
     "execution_count": 259,
     "metadata": {},
     "output_type": "execute_result"
    }
   ],
   "source": [
    "my_str.split('e')"
   ]
  },
  {
   "cell_type": "code",
   "execution_count": 260,
   "id": "2b57d02b",
   "metadata": {},
   "outputs": [
    {
     "data": {
      "text/plain": [
       "'abcpqr'"
      ]
     },
     "execution_count": 260,
     "metadata": {},
     "output_type": "execute_result"
    }
   ],
   "source": [
    "'abc' + 'pqr'"
   ]
  },
  {
   "cell_type": "code",
   "execution_count": 262,
   "id": "2d09e4a1",
   "metadata": {},
   "outputs": [
    {
     "data": {
      "text/plain": [
       "'abc5'"
      ]
     },
     "execution_count": 262,
     "metadata": {},
     "output_type": "execute_result"
    }
   ],
   "source": [
    "'abc' + str(5)"
   ]
  },
  {
   "cell_type": "code",
   "execution_count": 263,
   "id": "7c90a683",
   "metadata": {},
   "outputs": [
    {
     "data": {
      "text/plain": [
       "'MachinelearningMachinelearningMachinelearningMachinelearningMachinelearningMachinelearningMachinelearningMachinelearningMachinelearningMachinelearningMachinelearningMachinelearningMachinelearningMachinelearningMachinelearningMachinelearningMachinelearningMachinelearningMachinelearningMachinelearning'"
      ]
     },
     "execution_count": 263,
     "metadata": {},
     "output_type": "execute_result"
    }
   ],
   "source": [
    "'Machinelearning'*20"
   ]
  },
  {
   "cell_type": "code",
   "execution_count": 265,
   "id": "ba195517",
   "metadata": {},
   "outputs": [],
   "source": [
    "my_lst = [6,3,2,8,4]"
   ]
  },
  {
   "cell_type": "code",
   "execution_count": 266,
   "id": "31894c15",
   "metadata": {},
   "outputs": [
    {
     "name": "stdout",
     "output_type": "stream",
     "text": [
      "[6, 3, 2, 8, 4]\n"
     ]
    }
   ],
   "source": [
    "print(my_lst)"
   ]
  },
  {
   "cell_type": "code",
   "execution_count": 267,
   "id": "24c2aa25",
   "metadata": {},
   "outputs": [
    {
     "data": {
      "text/plain": [
       "list"
      ]
     },
     "execution_count": 267,
     "metadata": {},
     "output_type": "execute_result"
    }
   ],
   "source": [
    "type(my_lst)"
   ]
  },
  {
   "cell_type": "code",
   "execution_count": 268,
   "id": "918031b7",
   "metadata": {},
   "outputs": [
    {
     "data": {
      "text/plain": [
       "6"
      ]
     },
     "execution_count": 268,
     "metadata": {},
     "output_type": "execute_result"
    }
   ],
   "source": [
    "my_lst[0]"
   ]
  },
  {
   "cell_type": "code",
   "execution_count": 269,
   "id": "5859cd5e",
   "metadata": {},
   "outputs": [
    {
     "data": {
      "text/plain": [
       "4"
      ]
     },
     "execution_count": 269,
     "metadata": {},
     "output_type": "execute_result"
    }
   ],
   "source": [
    "my_lst[-1]"
   ]
  },
  {
   "cell_type": "code",
   "execution_count": 271,
   "id": "6dbe180d",
   "metadata": {},
   "outputs": [
    {
     "data": {
      "text/plain": [
       "[3, 2, 8]"
      ]
     },
     "execution_count": 271,
     "metadata": {},
     "output_type": "execute_result"
    }
   ],
   "source": [
    "my_lst[1:-1]"
   ]
  },
  {
   "cell_type": "code",
   "execution_count": 273,
   "id": "36281ee4",
   "metadata": {},
   "outputs": [],
   "source": [
    "my_lst[0] = 90"
   ]
  },
  {
   "cell_type": "code",
   "execution_count": 274,
   "id": "31174786",
   "metadata": {},
   "outputs": [
    {
     "data": {
      "text/plain": [
       "[90, 3, 2, 8, 4]"
      ]
     },
     "execution_count": 274,
     "metadata": {},
     "output_type": "execute_result"
    }
   ],
   "source": [
    "my_lst"
   ]
  },
  {
   "cell_type": "code",
   "execution_count": 277,
   "id": "438690d1",
   "metadata": {},
   "outputs": [],
   "source": [
    "my_lst.sort(reverse=True)"
   ]
  },
  {
   "cell_type": "code",
   "execution_count": 278,
   "id": "742d6bfb",
   "metadata": {},
   "outputs": [
    {
     "data": {
      "text/plain": [
       "[90, 8, 4, 3, 2]"
      ]
     },
     "execution_count": 278,
     "metadata": {},
     "output_type": "execute_result"
    }
   ],
   "source": [
    "my_lst"
   ]
  },
  {
   "cell_type": "code",
   "execution_count": 279,
   "id": "df029253",
   "metadata": {},
   "outputs": [],
   "source": [
    "my_lst.append(33)"
   ]
  },
  {
   "cell_type": "code",
   "execution_count": 281,
   "id": "4c117863",
   "metadata": {},
   "outputs": [
    {
     "name": "stdout",
     "output_type": "stream",
     "text": [
      "[90, 8, 4, 3, 2, 33]\n"
     ]
    }
   ],
   "source": [
    "\n",
    "print(my_lst)"
   ]
  },
  {
   "cell_type": "code",
   "execution_count": 282,
   "id": "75dd2630",
   "metadata": {},
   "outputs": [],
   "source": [
    "my_lst.insert(2,152)"
   ]
  },
  {
   "cell_type": "code",
   "execution_count": 283,
   "id": "692d8a89",
   "metadata": {},
   "outputs": [
    {
     "data": {
      "text/plain": [
       "[90, 8, 152, 4, 3, 2, 33]"
      ]
     },
     "execution_count": 283,
     "metadata": {},
     "output_type": "execute_result"
    }
   ],
   "source": [
    "\n",
    "my_lst"
   ]
  },
  {
   "cell_type": "code",
   "execution_count": 284,
   "id": "d37ff4a3",
   "metadata": {},
   "outputs": [
    {
     "data": {
      "text/plain": [
       "33"
      ]
     },
     "execution_count": 284,
     "metadata": {},
     "output_type": "execute_result"
    }
   ],
   "source": [
    "my_lst.pop()"
   ]
  },
  {
   "cell_type": "code",
   "execution_count": 285,
   "id": "a63a75fe",
   "metadata": {},
   "outputs": [
    {
     "data": {
      "text/plain": [
       "[90, 8, 152, 4, 3, 2]"
      ]
     },
     "execution_count": 285,
     "metadata": {},
     "output_type": "execute_result"
    }
   ],
   "source": [
    "my_lst"
   ]
  },
  {
   "cell_type": "code",
   "execution_count": 288,
   "id": "e0184926",
   "metadata": {},
   "outputs": [
    {
     "data": {
      "text/plain": [
       "152"
      ]
     },
     "execution_count": 288,
     "metadata": {},
     "output_type": "execute_result"
    }
   ],
   "source": [
    "my_lst.pop(2)"
   ]
  },
  {
   "cell_type": "code",
   "execution_count": 289,
   "id": "c34175b1",
   "metadata": {},
   "outputs": [
    {
     "data": {
      "text/plain": [
       "[90, 8, 4, 3, 2]"
      ]
     },
     "execution_count": 289,
     "metadata": {},
     "output_type": "execute_result"
    }
   ],
   "source": [
    "my_lst"
   ]
  },
  {
   "cell_type": "code",
   "execution_count": 291,
   "id": "7e6435bf",
   "metadata": {},
   "outputs": [
    {
     "data": {
      "text/plain": [
       "[2, 3, 4, 8, 90]"
      ]
     },
     "execution_count": 291,
     "metadata": {},
     "output_type": "execute_result"
    }
   ],
   "source": [
    "my_lst[::-1]"
   ]
  },
  {
   "cell_type": "code",
   "execution_count": 293,
   "id": "3692d8bf",
   "metadata": {},
   "outputs": [],
   "source": [
    "my_lst.reverse()"
   ]
  },
  {
   "cell_type": "code",
   "execution_count": 294,
   "id": "c219fe6a",
   "metadata": {},
   "outputs": [
    {
     "data": {
      "text/plain": [
       "[2, 3, 4, 8, 90]"
      ]
     },
     "execution_count": 294,
     "metadata": {},
     "output_type": "execute_result"
    }
   ],
   "source": [
    "my_lst"
   ]
  },
  {
   "cell_type": "code",
   "execution_count": 295,
   "id": "5f3236ba",
   "metadata": {},
   "outputs": [
    {
     "data": {
      "text/plain": [
       "[2, 3, 4, 8, 90]"
      ]
     },
     "execution_count": 295,
     "metadata": {},
     "output_type": "execute_result"
    }
   ],
   "source": [
    "my_lst"
   ]
  },
  {
   "cell_type": "code",
   "execution_count": 296,
   "id": "1e4b9049",
   "metadata": {},
   "outputs": [
    {
     "data": {
      "text/plain": [
       "True"
      ]
     },
     "execution_count": 296,
     "metadata": {},
     "output_type": "execute_result"
    }
   ],
   "source": [
    "4 in my_lst"
   ]
  },
  {
   "cell_type": "code",
   "execution_count": 297,
   "id": "32ed33a9",
   "metadata": {},
   "outputs": [
    {
     "data": {
      "text/plain": [
       "True"
      ]
     },
     "execution_count": 297,
     "metadata": {},
     "output_type": "execute_result"
    }
   ],
   "source": [
    "9 not in my_lst"
   ]
  },
  {
   "cell_type": "code",
   "execution_count": 299,
   "id": "d442927f",
   "metadata": {},
   "outputs": [
    {
     "name": "stdout",
     "output_type": "stream",
     "text": [
      "4\n",
      "9\n",
      "16\n",
      "64\n",
      "8100\n"
     ]
    }
   ],
   "source": [
    "for i in my_lst:\n",
    "    print(i**2)"
   ]
  },
  {
   "cell_type": "code",
   "execution_count": 300,
   "id": "a7448ebd",
   "metadata": {},
   "outputs": [
    {
     "data": {
      "text/plain": [
       "[4, 9, 16, 64, 8100]"
      ]
     },
     "execution_count": 300,
     "metadata": {},
     "output_type": "execute_result"
    }
   ],
   "source": [
    "[i**2 for i in my_lst]"
   ]
  },
  {
   "cell_type": "code",
   "execution_count": 301,
   "id": "60db8d92",
   "metadata": {},
   "outputs": [
    {
     "name": "stdout",
     "output_type": "stream",
     "text": [
      "[8, 27, 64, 512, 729000]\n"
     ]
    }
   ],
   "source": [
    "new_l1 = []\n",
    "\n",
    "for i in my_lst:\n",
    "    new_l1.append(i**3)\n",
    "print(new_l1)"
   ]
  },
  {
   "cell_type": "code",
   "execution_count": 303,
   "id": "616c086b",
   "metadata": {},
   "outputs": [],
   "source": [
    "newls2 = [i**3 for i in my_lst]"
   ]
  },
  {
   "cell_type": "code",
   "execution_count": 304,
   "id": "1024b543",
   "metadata": {},
   "outputs": [
    {
     "data": {
      "text/plain": [
       "[8, 27, 64, 512, 729000]"
      ]
     },
     "execution_count": 304,
     "metadata": {},
     "output_type": "execute_result"
    }
   ],
   "source": [
    "newls2"
   ]
  },
  {
   "cell_type": "code",
   "execution_count": 306,
   "id": "333919e9",
   "metadata": {},
   "outputs": [],
   "source": [
    "l5 = [4,5,6,23.36,6.9,True, False, [1,5,9], (3,6,9), \"machine\", \"python\"]"
   ]
  },
  {
   "cell_type": "code",
   "execution_count": 307,
   "id": "adf51646",
   "metadata": {},
   "outputs": [
    {
     "name": "stdout",
     "output_type": "stream",
     "text": [
      "[4, 5, 6, 23.36, 6.9, True, False, [1, 5, 9], (3, 6, 9), 'machine', 'python']\n"
     ]
    }
   ],
   "source": [
    "print(l5)"
   ]
  },
  {
   "cell_type": "code",
   "execution_count": 308,
   "id": "1b96791e",
   "metadata": {},
   "outputs": [
    {
     "data": {
      "text/plain": [
       "11"
      ]
     },
     "execution_count": 308,
     "metadata": {},
     "output_type": "execute_result"
    }
   ],
   "source": [
    "len(l5)"
   ]
  },
  {
   "cell_type": "code",
   "execution_count": 310,
   "id": "739f6c38",
   "metadata": {},
   "outputs": [],
   "source": [
    "list_2d = [[1,2,3],[4,5,6],[7,8,9]]"
   ]
  },
  {
   "cell_type": "code",
   "execution_count": 311,
   "id": "41b1ab71",
   "metadata": {},
   "outputs": [
    {
     "name": "stdout",
     "output_type": "stream",
     "text": [
      "[[1, 2, 3], [4, 5, 6], [7, 8, 9]]\n"
     ]
    }
   ],
   "source": [
    "print(list_2d)"
   ]
  },
  {
   "cell_type": "code",
   "execution_count": 313,
   "id": "b0d4dc25",
   "metadata": {},
   "outputs": [
    {
     "data": {
      "text/plain": [
       "5"
      ]
     },
     "execution_count": 313,
     "metadata": {},
     "output_type": "execute_result"
    }
   ],
   "source": [
    "list_2d[1][1]"
   ]
  },
  {
   "cell_type": "code",
   "execution_count": 315,
   "id": "65ea436a",
   "metadata": {},
   "outputs": [
    {
     "data": {
      "text/plain": [
       "9"
      ]
     },
     "execution_count": 315,
     "metadata": {},
     "output_type": "execute_result"
    }
   ],
   "source": [
    "list_2d[2][-1]"
   ]
  },
  {
   "cell_type": "code",
   "execution_count": 316,
   "id": "d6f71c6c",
   "metadata": {},
   "outputs": [],
   "source": [
    "tup1 = (8,9,\"hello\", 88)"
   ]
  },
  {
   "cell_type": "code",
   "execution_count": 317,
   "id": "a43935e6",
   "metadata": {},
   "outputs": [
    {
     "name": "stdout",
     "output_type": "stream",
     "text": [
      "(8, 9, 'hello', 88)\n"
     ]
    }
   ],
   "source": [
    "print(tup1)"
   ]
  },
  {
   "cell_type": "code",
   "execution_count": 318,
   "id": "e4c1e2c5",
   "metadata": {},
   "outputs": [
    {
     "data": {
      "text/plain": [
       "tuple"
      ]
     },
     "execution_count": 318,
     "metadata": {},
     "output_type": "execute_result"
    }
   ],
   "source": [
    "type(tup1)"
   ]
  },
  {
   "cell_type": "code",
   "execution_count": 319,
   "id": "79da358b",
   "metadata": {},
   "outputs": [
    {
     "data": {
      "text/plain": [
       "8"
      ]
     },
     "execution_count": 319,
     "metadata": {},
     "output_type": "execute_result"
    }
   ],
   "source": [
    "tup1[0]"
   ]
  },
  {
   "cell_type": "code",
   "execution_count": 320,
   "id": "1dd8ad05",
   "metadata": {},
   "outputs": [
    {
     "data": {
      "text/plain": [
       "88"
      ]
     },
     "execution_count": 320,
     "metadata": {},
     "output_type": "execute_result"
    }
   ],
   "source": [
    "tup1[-1]"
   ]
  },
  {
   "cell_type": "code",
   "execution_count": 322,
   "id": "d829fc7e",
   "metadata": {},
   "outputs": [
    {
     "ename": "TypeError",
     "evalue": "'tuple' object does not support item assignment",
     "output_type": "error",
     "traceback": [
      "\u001b[1;31m---------------------------------------------------------------------------\u001b[0m",
      "\u001b[1;31mTypeError\u001b[0m                                 Traceback (most recent call last)",
      "Input \u001b[1;32mIn [322]\u001b[0m, in \u001b[0;36m<cell line: 1>\u001b[1;34m()\u001b[0m\n\u001b[1;32m----> 1\u001b[0m tup1[\u001b[38;5;241m1\u001b[39m] \u001b[38;5;241m=\u001b[39m \u001b[38;5;241m85\u001b[39m\n",
      "\u001b[1;31mTypeError\u001b[0m: 'tuple' object does not support item assignment"
     ]
    }
   ],
   "source": [
    "tup1[1] = 85"
   ]
  },
  {
   "cell_type": "code",
   "execution_count": 323,
   "id": "fa2fa71e",
   "metadata": {},
   "outputs": [
    {
     "name": "stdout",
     "output_type": "stream",
     "text": [
      "8\n",
      "9\n",
      "hello\n",
      "88\n"
     ]
    }
   ],
   "source": [
    "for i in tup1:\n",
    "    print(i)"
   ]
  },
  {
   "cell_type": "code",
   "execution_count": 325,
   "id": "7e3872c4",
   "metadata": {},
   "outputs": [],
   "source": [
    "my_set = {9,7,7,1,8,9,7,5,1}"
   ]
  },
  {
   "cell_type": "code",
   "execution_count": 327,
   "id": "95419b40",
   "metadata": {},
   "outputs": [
    {
     "ename": "TypeError",
     "evalue": "'set' object is not subscriptable",
     "output_type": "error",
     "traceback": [
      "\u001b[1;31m---------------------------------------------------------------------------\u001b[0m",
      "\u001b[1;31mTypeError\u001b[0m                                 Traceback (most recent call last)",
      "Input \u001b[1;32mIn [327]\u001b[0m, in \u001b[0;36m<cell line: 1>\u001b[1;34m()\u001b[0m\n\u001b[1;32m----> 1\u001b[0m \u001b[43mmy_set\u001b[49m\u001b[43m[\u001b[49m\u001b[38;5;241;43m2\u001b[39;49m\u001b[43m]\u001b[49m\n",
      "\u001b[1;31mTypeError\u001b[0m: 'set' object is not subscriptable"
     ]
    }
   ],
   "source": [
    "my_set[2]"
   ]
  },
  {
   "cell_type": "code",
   "execution_count": 328,
   "id": "1a75cc2b",
   "metadata": {},
   "outputs": [
    {
     "data": {
      "text/plain": [
       "{1, 5, 7, 8, 9}"
      ]
     },
     "execution_count": 328,
     "metadata": {},
     "output_type": "execute_result"
    }
   ],
   "source": [
    "my_set"
   ]
  },
  {
   "cell_type": "code",
   "execution_count": 329,
   "id": "3c3f28e2",
   "metadata": {},
   "outputs": [
    {
     "data": {
      "text/plain": [
       "set"
      ]
     },
     "execution_count": 329,
     "metadata": {},
     "output_type": "execute_result"
    }
   ],
   "source": [
    "type(my_set)"
   ]
  },
  {
   "cell_type": "code",
   "execution_count": 334,
   "id": "da8a0d89",
   "metadata": {},
   "outputs": [],
   "source": [
    "my_set.add(99)"
   ]
  },
  {
   "cell_type": "code",
   "execution_count": 335,
   "id": "8eee3cfa",
   "metadata": {},
   "outputs": [
    {
     "data": {
      "text/plain": [
       "{1, 5, 7, 8, 9, 99}"
      ]
     },
     "execution_count": 335,
     "metadata": {},
     "output_type": "execute_result"
    }
   ],
   "source": [
    "my_set"
   ]
  },
  {
   "cell_type": "code",
   "execution_count": 336,
   "id": "231d537b",
   "metadata": {},
   "outputs": [],
   "source": [
    "my_set.remove(99)"
   ]
  },
  {
   "cell_type": "code",
   "execution_count": 337,
   "id": "b567a6aa",
   "metadata": {},
   "outputs": [
    {
     "data": {
      "text/plain": [
       "{1, 5, 7, 8, 9}"
      ]
     },
     "execution_count": 337,
     "metadata": {},
     "output_type": "execute_result"
    }
   ],
   "source": [
    "my_set"
   ]
  },
  {
   "cell_type": "code",
   "execution_count": 338,
   "id": "9a8ab862",
   "metadata": {},
   "outputs": [
    {
     "name": "stdout",
     "output_type": "stream",
     "text": [
      "{1, 5, 7, 8, 9}\n"
     ]
    }
   ],
   "source": [
    "print(my_set)"
   ]
  },
  {
   "cell_type": "code",
   "execution_count": 340,
   "id": "36366819",
   "metadata": {},
   "outputs": [],
   "source": [
    "l = [6,3,7,6,4,1,0,9,2,1,0,8,6,4,7]"
   ]
  },
  {
   "cell_type": "code",
   "execution_count": 341,
   "id": "eeba27a0",
   "metadata": {},
   "outputs": [
    {
     "name": "stdout",
     "output_type": "stream",
     "text": [
      "[6, 3, 7, 6, 4, 1, 0, 9, 2, 1, 0, 8, 6, 4, 7]\n"
     ]
    }
   ],
   "source": [
    "print(l)"
   ]
  },
  {
   "cell_type": "code",
   "execution_count": 343,
   "id": "f7021294",
   "metadata": {},
   "outputs": [],
   "source": [
    "s1 = set(l)"
   ]
  },
  {
   "cell_type": "code",
   "execution_count": 346,
   "id": "5371f361",
   "metadata": {},
   "outputs": [],
   "source": [
    "l = list(s1)"
   ]
  },
  {
   "cell_type": "code",
   "execution_count": 347,
   "id": "75319214",
   "metadata": {},
   "outputs": [
    {
     "data": {
      "text/plain": [
       "[0, 1, 2, 3, 4, 6, 7, 8, 9]"
      ]
     },
     "execution_count": 347,
     "metadata": {},
     "output_type": "execute_result"
    }
   ],
   "source": [
    "l"
   ]
  },
  {
   "cell_type": "code",
   "execution_count": 349,
   "id": "1bb4ef48",
   "metadata": {},
   "outputs": [],
   "source": [
    "user_info = {'name' : 'sanjay',\n",
    "'age':30,\n",
    "'nationality':'indian'}"
   ]
  },
  {
   "cell_type": "code",
   "execution_count": 350,
   "id": "3b9dd5f8",
   "metadata": {},
   "outputs": [
    {
     "name": "stdout",
     "output_type": "stream",
     "text": [
      "{'name': 'sanjay', 'age': 30, 'nationality': 'indian'}\n"
     ]
    }
   ],
   "source": [
    "print(user_info)"
   ]
  },
  {
   "cell_type": "code",
   "execution_count": 351,
   "id": "8deb45e8",
   "metadata": {},
   "outputs": [
    {
     "data": {
      "text/plain": [
       "dict"
      ]
     },
     "execution_count": 351,
     "metadata": {},
     "output_type": "execute_result"
    }
   ],
   "source": [
    "type(user_info)"
   ]
  },
  {
   "cell_type": "code",
   "execution_count": 352,
   "id": "4f280f0c",
   "metadata": {},
   "outputs": [
    {
     "data": {
      "text/plain": [
       "'sanjay'"
      ]
     },
     "execution_count": 352,
     "metadata": {},
     "output_type": "execute_result"
    }
   ],
   "source": [
    "user_info['name']"
   ]
  },
  {
   "cell_type": "code",
   "execution_count": 353,
   "id": "a77754dd",
   "metadata": {},
   "outputs": [
    {
     "data": {
      "text/plain": [
       "'indian'"
      ]
     },
     "execution_count": 353,
     "metadata": {},
     "output_type": "execute_result"
    }
   ],
   "source": [
    "user_info['nationality']"
   ]
  },
  {
   "cell_type": "code",
   "execution_count": 354,
   "id": "08fe14a1",
   "metadata": {},
   "outputs": [
    {
     "ename": "KeyError",
     "evalue": "'hobby'",
     "output_type": "error",
     "traceback": [
      "\u001b[1;31m---------------------------------------------------------------------------\u001b[0m",
      "\u001b[1;31mKeyError\u001b[0m                                  Traceback (most recent call last)",
      "Input \u001b[1;32mIn [354]\u001b[0m, in \u001b[0;36m<cell line: 1>\u001b[1;34m()\u001b[0m\n\u001b[1;32m----> 1\u001b[0m \u001b[43muser_info\u001b[49m\u001b[43m[\u001b[49m\u001b[38;5;124;43m'\u001b[39;49m\u001b[38;5;124;43mhobby\u001b[39;49m\u001b[38;5;124;43m'\u001b[39;49m\u001b[43m]\u001b[49m\n",
      "\u001b[1;31mKeyError\u001b[0m: 'hobby'"
     ]
    }
   ],
   "source": [
    "user_info['hobby']"
   ]
  },
  {
   "cell_type": "code",
   "execution_count": 355,
   "id": "d8b79415",
   "metadata": {},
   "outputs": [],
   "source": [
    "user_info.get('hobby')"
   ]
  },
  {
   "cell_type": "code",
   "execution_count": 356,
   "id": "1897b26b",
   "metadata": {},
   "outputs": [],
   "source": [
    "user_info['Hobby'] = ['singing', 'dancing', 'coding']"
   ]
  },
  {
   "cell_type": "code",
   "execution_count": 357,
   "id": "653207d9",
   "metadata": {},
   "outputs": [
    {
     "data": {
      "text/plain": [
       "{'name': 'sanjay',\n",
       " 'age': 30,\n",
       " 'nationality': 'indian',\n",
       " 'Hobby': ['singing', 'dancing', 'coding']}"
      ]
     },
     "execution_count": 357,
     "metadata": {},
     "output_type": "execute_result"
    }
   ],
   "source": [
    "user_info"
   ]
  },
  {
   "cell_type": "code",
   "execution_count": 358,
   "id": "9226a80b",
   "metadata": {},
   "outputs": [
    {
     "data": {
      "text/plain": [
       "dict_keys(['name', 'age', 'nationality', 'Hobby'])"
      ]
     },
     "execution_count": 358,
     "metadata": {},
     "output_type": "execute_result"
    }
   ],
   "source": [
    "user_info.keys()"
   ]
  },
  {
   "cell_type": "code",
   "execution_count": 359,
   "id": "5064934e",
   "metadata": {},
   "outputs": [
    {
     "data": {
      "text/plain": [
       "dict_values(['sanjay', 30, 'indian', ['singing', 'dancing', 'coding']])"
      ]
     },
     "execution_count": 359,
     "metadata": {},
     "output_type": "execute_result"
    }
   ],
   "source": [
    "user_info.values()"
   ]
  },
  {
   "cell_type": "code",
   "execution_count": 360,
   "id": "0273cf26",
   "metadata": {},
   "outputs": [
    {
     "data": {
      "text/plain": [
       "dict_items([('name', 'sanjay'), ('age', 30), ('nationality', 'indian'), ('Hobby', ['singing', 'dancing', 'coding'])])"
      ]
     },
     "execution_count": 360,
     "metadata": {},
     "output_type": "execute_result"
    }
   ],
   "source": [
    "user_info.items()"
   ]
  },
  {
   "cell_type": "code",
   "execution_count": 366,
   "id": "60e96fc2",
   "metadata": {},
   "outputs": [
    {
     "name": "stdout",
     "output_type": "stream",
     "text": [
      "name : sanjay\n",
      "age : 30\n",
      "nationality : indian\n",
      "Hobby : ['singing', 'dancing', 'coding']\n"
     ]
    }
   ],
   "source": [
    "for k,v in user_info.items():\n",
    "    print(k, \":\" ,v)"
   ]
  },
  {
   "cell_type": "code",
   "execution_count": 368,
   "id": "ff1bdf4c",
   "metadata": {},
   "outputs": [
    {
     "data": {
      "text/plain": [
       "30"
      ]
     },
     "execution_count": 368,
     "metadata": {},
     "output_type": "execute_result"
    }
   ],
   "source": [
    "user_info.pop('age')"
   ]
  },
  {
   "cell_type": "code",
   "execution_count": 369,
   "id": "d382acee",
   "metadata": {},
   "outputs": [
    {
     "data": {
      "text/plain": [
       "{'name': 'sanjay',\n",
       " 'nationality': 'indian',\n",
       " 'Hobby': ['singing', 'dancing', 'coding']}"
      ]
     },
     "execution_count": 369,
     "metadata": {},
     "output_type": "execute_result"
    }
   ],
   "source": [
    "user_info"
   ]
  },
  {
   "cell_type": "code",
   "execution_count": 371,
   "id": "cbca7d17",
   "metadata": {},
   "outputs": [],
   "source": [
    "user_info['name'] = 'john'"
   ]
  },
  {
   "cell_type": "code",
   "execution_count": 372,
   "id": "f6d23cc5",
   "metadata": {},
   "outputs": [
    {
     "data": {
      "text/plain": [
       "{'name': 'john',\n",
       " 'nationality': 'indian',\n",
       " 'Hobby': ['singing', 'dancing', 'coding']}"
      ]
     },
     "execution_count": 372,
     "metadata": {},
     "output_type": "execute_result"
    }
   ],
   "source": [
    "user_info"
   ]
  },
  {
   "cell_type": "code",
   "execution_count": 377,
   "id": "6ec6a81f",
   "metadata": {},
   "outputs": [],
   "source": [
    "str1 = \"coding\""
   ]
  },
  {
   "cell_type": "code",
   "execution_count": 378,
   "id": "76f5b398",
   "metadata": {},
   "outputs": [],
   "source": [
    "rev_str = str1[::-1]"
   ]
  },
  {
   "cell_type": "code",
   "execution_count": 379,
   "id": "fb808b16",
   "metadata": {},
   "outputs": [
    {
     "data": {
      "text/plain": [
       "'gnidoc'"
      ]
     },
     "execution_count": 379,
     "metadata": {},
     "output_type": "execute_result"
    }
   ],
   "source": [
    "rev_str"
   ]
  },
  {
   "cell_type": "code",
   "execution_count": 380,
   "id": "2a85a54e",
   "metadata": {},
   "outputs": [
    {
     "name": "stdout",
     "output_type": "stream",
     "text": [
      "The given string is not palindrome\n"
     ]
    }
   ],
   "source": [
    "if (str1==rev_str):\n",
    "    print('The given string is palindrome')\n",
    "else:\n",
    "    print('The given string is not palindrome')"
   ]
  },
  {
   "cell_type": "code",
   "execution_count": 390,
   "id": "85269db2",
   "metadata": {},
   "outputs": [
    {
     "name": "stdout",
     "output_type": "stream",
     "text": [
      "coding given string is not palindrome\n"
     ]
    }
   ],
   "source": [
    "s1 = 'coding'\n",
    "is_palindrome = True\n",
    "start = 0\n",
    "end = len(s1)-1\n",
    "\n",
    "while (start<=end):\n",
    "    if s1[start] != s1[end]:\n",
    "        is_palindrome= False\n",
    "        break\n",
    "    start+=1\n",
    "    end-=1\n",
    "    \n",
    "if is_palindrome:\n",
    "    print(\"{} given string is palindrome\".format(s1))\n",
    "else:\n",
    "    print(\"{} given string is not palindrome\".format(s1))\n",
    "        "
   ]
  },
  {
   "cell_type": "code",
   "execution_count": 391,
   "id": "6b32bed4",
   "metadata": {},
   "outputs": [],
   "source": [
    "def palindrome_check(s):\n",
    "    is_palindrome = True\n",
    "    if s != s[::-1]:\n",
    "        is_palindrome = False\n",
    "    return is_palindrome"
   ]
  },
  {
   "cell_type": "code",
   "execution_count": 394,
   "id": "8b1c5823",
   "metadata": {},
   "outputs": [],
   "source": [
    "s1 = 'madam'"
   ]
  },
  {
   "cell_type": "code",
   "execution_count": 395,
   "id": "18e0119b",
   "metadata": {},
   "outputs": [
    {
     "data": {
      "text/plain": [
       "True"
      ]
     },
     "execution_count": 395,
     "metadata": {},
     "output_type": "execute_result"
    }
   ],
   "source": [
    "palindrome_check(s1)"
   ]
  },
  {
   "cell_type": "code",
   "execution_count": 399,
   "id": "b180582e",
   "metadata": {},
   "outputs": [
    {
     "name": "stdout",
     "output_type": "stream",
     "text": [
      "enter any word:computer vision\n"
     ]
    }
   ],
   "source": [
    "str1 = input('enter any word:')"
   ]
  },
  {
   "cell_type": "code",
   "execution_count": 400,
   "id": "04b23709",
   "metadata": {},
   "outputs": [],
   "source": [
    "def reverse_string(s):\n",
    "    return s[::-1]"
   ]
  },
  {
   "cell_type": "code",
   "execution_count": 401,
   "id": "d1bf7dd7",
   "metadata": {},
   "outputs": [
    {
     "data": {
      "text/plain": [
       "'noisiv retupmoc'"
      ]
     },
     "execution_count": 401,
     "metadata": {},
     "output_type": "execute_result"
    }
   ],
   "source": [
    "reverse_string(str1)"
   ]
  },
  {
   "cell_type": "code",
   "execution_count": 403,
   "id": "49be3976",
   "metadata": {},
   "outputs": [],
   "source": [
    "lst = [12,15,14,16,18,20]"
   ]
  },
  {
   "cell_type": "code",
   "execution_count": 404,
   "id": "0cd535ea",
   "metadata": {},
   "outputs": [],
   "source": [
    "def min_max_check(l):\n",
    "    return max(l), min(l)"
   ]
  },
  {
   "cell_type": "code",
   "execution_count": 405,
   "id": "1915a33e",
   "metadata": {},
   "outputs": [
    {
     "data": {
      "text/plain": [
       "(20, 12)"
      ]
     },
     "execution_count": 405,
     "metadata": {},
     "output_type": "execute_result"
    }
   ],
   "source": [
    "min_max_check(lst)"
   ]
  },
  {
   "cell_type": "code",
   "execution_count": null,
   "id": "f43be0d7",
   "metadata": {},
   "outputs": [],
   "source": []
  }
 ],
 "metadata": {
  "kernelspec": {
   "display_name": "Python 3 (ipykernel)",
   "language": "python",
   "name": "python3"
  },
  "language_info": {
   "codemirror_mode": {
    "name": "ipython",
    "version": 3
   },
   "file_extension": ".py",
   "mimetype": "text/x-python",
   "name": "python",
   "nbconvert_exporter": "python",
   "pygments_lexer": "ipython3",
   "version": "3.8.8"
  }
 },
 "nbformat": 4,
 "nbformat_minor": 5
}
