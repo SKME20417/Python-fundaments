{
 "cells": [
  {
   "cell_type": "code",
   "execution_count": 1,
   "id": "00d75521",
   "metadata": {},
   "outputs": [],
   "source": [
    "l = ['a', 'b', 'c']"
   ]
  },
  {
   "cell_type": "code",
   "execution_count": 2,
   "id": "e92a45a9",
   "metadata": {},
   "outputs": [
    {
     "data": {
      "text/plain": [
       "'a***b***c'"
      ]
     },
     "execution_count": 2,
     "metadata": {},
     "output_type": "execute_result"
    }
   ],
   "source": [
    "\"***\".join(l)"
   ]
  },
  {
   "cell_type": "code",
   "execution_count": 3,
   "id": "3986bbd1",
   "metadata": {},
   "outputs": [
    {
     "name": "stdout",
     "output_type": "stream",
     "text": [
      "4 12 "
     ]
    }
   ],
   "source": [
    "l1 = [1,2]\n",
    "l2 = [4,6]\n",
    "\n",
    "for (x,y) in zip(l1,l2):\n",
    "    print(x*y, end= \" \")"
   ]
  },
  {
   "cell_type": "code",
   "execution_count": 5,
   "id": "c5ec4a22",
   "metadata": {},
   "outputs": [],
   "source": [
    "l = ['12','34','5']\n"
   ]
  },
  {
   "cell_type": "code",
   "execution_count": 10,
   "id": "8785f968",
   "metadata": {},
   "outputs": [],
   "source": [
    "t = tuple(map(list,(list(set(l)))))"
   ]
  },
  {
   "cell_type": "code",
   "execution_count": 14,
   "id": "05446270",
   "metadata": {},
   "outputs": [
    {
     "data": {
      "text/plain": [
       "[['1', '2'], ['3', '4'], ['5']]"
      ]
     },
     "execution_count": 14,
     "metadata": {},
     "output_type": "execute_result"
    }
   ],
   "source": [
    "sorted(t, key=lambda q : (q[-1]))"
   ]
  },
  {
   "cell_type": "code",
   "execution_count": 15,
   "id": "fb2d2064",
   "metadata": {},
   "outputs": [],
   "source": [
    "l = [1,2,3,4,5,6,7,8,9]"
   ]
  },
  {
   "cell_type": "code",
   "execution_count": 17,
   "id": "c1ae504e",
   "metadata": {},
   "outputs": [],
   "source": [
    "l = l[::-4]"
   ]
  },
  {
   "cell_type": "code",
   "execution_count": 19,
   "id": "41170a40",
   "metadata": {},
   "outputs": [],
   "source": [
    "l = l[-5-5:3]"
   ]
  },
  {
   "cell_type": "code",
   "execution_count": 21,
   "id": "9db5d2d8",
   "metadata": {},
   "outputs": [],
   "source": [
    "l = l[0:-1+2]"
   ]
  },
  {
   "cell_type": "code",
   "execution_count": 22,
   "id": "3d067c76",
   "metadata": {},
   "outputs": [
    {
     "data": {
      "text/plain": [
       "[9]"
      ]
     },
     "execution_count": 22,
     "metadata": {},
     "output_type": "execute_result"
    }
   ],
   "source": [
    "l[-2::]"
   ]
  },
  {
   "cell_type": "code",
   "execution_count": 23,
   "id": "45a158f1",
   "metadata": {},
   "outputs": [],
   "source": [
    "l = [2,]*3"
   ]
  },
  {
   "cell_type": "code",
   "execution_count": 24,
   "id": "8db97a44",
   "metadata": {},
   "outputs": [
    {
     "data": {
      "text/plain": [
       "[2, 2, 2]"
      ]
     },
     "execution_count": 24,
     "metadata": {},
     "output_type": "execute_result"
    }
   ],
   "source": [
    "l"
   ]
  },
  {
   "cell_type": "code",
   "execution_count": 25,
   "id": "0061350f",
   "metadata": {},
   "outputs": [
    {
     "data": {
      "text/plain": [
       "[2, 2, 2]"
      ]
     },
     "execution_count": 25,
     "metadata": {},
     "output_type": "execute_result"
    }
   ],
   "source": [
    "l\n"
   ]
  },
  {
   "cell_type": "code",
   "execution_count": 26,
   "id": "bf070858",
   "metadata": {},
   "outputs": [],
   "source": [
    "del l"
   ]
  },
  {
   "cell_type": "code",
   "execution_count": 27,
   "id": "9b98f381",
   "metadata": {},
   "outputs": [
    {
     "ename": "NameError",
     "evalue": "name 'l' is not defined",
     "output_type": "error",
     "traceback": [
      "\u001b[1;31m---------------------------------------------------------------------------\u001b[0m",
      "\u001b[1;31mNameError\u001b[0m                                 Traceback (most recent call last)",
      "Input \u001b[1;32mIn [27]\u001b[0m, in \u001b[0;36m<cell line: 1>\u001b[1;34m()\u001b[0m\n\u001b[1;32m----> 1\u001b[0m \u001b[43ml\u001b[49m\n",
      "\u001b[1;31mNameError\u001b[0m: name 'l' is not defined"
     ]
    }
   ],
   "source": [
    "l"
   ]
  },
  {
   "cell_type": "code",
   "execution_count": 29,
   "id": "da2ab1b7",
   "metadata": {},
   "outputs": [],
   "source": [
    "def numbers(n):\n",
    "    for i in n:\n",
    "        yield (i**2)\n",
    "        \n",
    "c = numbers([2,6,1,9,5])"
   ]
  },
  {
   "cell_type": "code",
   "execution_count": 32,
   "id": "773f8e70",
   "metadata": {},
   "outputs": [
    {
     "name": "stdout",
     "output_type": "stream",
     "text": [
      "[]\n"
     ]
    }
   ],
   "source": [
    "print(list(sorted(c)))"
   ]
  },
  {
   "cell_type": "code",
   "execution_count": 35,
   "id": "25cf86a8",
   "metadata": {},
   "outputs": [],
   "source": [
    "a = 0+ True*True\n",
    "b = 0+ True* False\n",
    "\n",
    "\n",
    "c = ((1+0)*(b-a))**11"
   ]
  },
  {
   "cell_type": "code",
   "execution_count": 36,
   "id": "be9e90aa",
   "metadata": {},
   "outputs": [
    {
     "data": {
      "text/plain": [
       "int"
      ]
     },
     "execution_count": 36,
     "metadata": {},
     "output_type": "execute_result"
    }
   ],
   "source": [
    "type(c)"
   ]
  },
  {
   "cell_type": "code",
   "execution_count": 38,
   "id": "f9e3f40f",
   "metadata": {},
   "outputs": [
    {
     "data": {
      "text/plain": [
       "-2.428571428571429"
      ]
     },
     "execution_count": 38,
     "metadata": {},
     "output_type": "execute_result"
    }
   ],
   "source": [
    "(0.31-.395)/.035\n"
   ]
  },
  {
   "cell_type": "code",
   "execution_count": 1,
   "id": "2a3bbf1d",
   "metadata": {},
   "outputs": [
    {
     "name": "stdout",
     "output_type": "stream",
     "text": [
      "dog\n"
     ]
    }
   ],
   "source": [
    "x = 'cat'\n",
    "def f():\n",
    "    x = 'bird'\n",
    "    def g():\n",
    "        x = 'dog'\n",
    "        y = 'fish'\n",
    "        print(x)\n",
    "    g()\n",
    "f()"
   ]
  },
  {
   "cell_type": "code",
   "execution_count": 3,
   "id": "f83b768d",
   "metadata": {},
   "outputs": [],
   "source": [
    "mat = [[1,2,3],\n",
    "[4,5,6],\n",
    "[7,8,9]\n",
    "]"
   ]
  },
  {
   "cell_type": "code",
   "execution_count": null,
   "id": "90370d2b",
   "metadata": {},
   "outputs": [],
   "source": [
    "[rfor row in mat]"
   ]
  },
  {
   "cell_type": "code",
   "execution_count": 4,
   "id": "fb698783",
   "metadata": {},
   "outputs": [],
   "source": [
    "l = [1,2]"
   ]
  },
  {
   "cell_type": "code",
   "execution_count": 5,
   "id": "818963dc",
   "metadata": {},
   "outputs": [
    {
     "data": {
      "text/plain": [
       "2"
      ]
     },
     "execution_count": 5,
     "metadata": {},
     "output_type": "execute_result"
    }
   ],
   "source": [
    "len(l)"
   ]
  },
  {
   "cell_type": "code",
   "execution_count": 6,
   "id": "a8061f4b",
   "metadata": {},
   "outputs": [],
   "source": [
    "l2 = [1,2,3]"
   ]
  },
  {
   "cell_type": "code",
   "execution_count": 9,
   "id": "509b5ccd",
   "metadata": {},
   "outputs": [
    {
     "data": {
      "text/plain": [
       "((1, 1), (2, 2))"
      ]
     },
     "execution_count": 9,
     "metadata": {},
     "output_type": "execute_result"
    }
   ],
   "source": [
    "tuple(zip(l,l2))"
   ]
  },
  {
   "cell_type": "code",
   "execution_count": 10,
   "id": "7170bc4f",
   "metadata": {},
   "outputs": [
    {
     "ename": "AttributeError",
     "evalue": "'function' object has no attribute 'get'",
     "output_type": "error",
     "traceback": [
      "\u001b[1;31m---------------------------------------------------------------------------\u001b[0m",
      "\u001b[1;31mAttributeError\u001b[0m                            Traceback (most recent call last)",
      "Input \u001b[1;32mIn [10]\u001b[0m, in \u001b[0;36m<cell line: 5>\u001b[1;34m()\u001b[0m\n\u001b[0;32m      1\u001b[0m \u001b[38;5;28;01mfrom\u001b[39;00m \u001b[38;5;21;01murllib\u001b[39;00m\u001b[38;5;21;01m.\u001b[39;00m\u001b[38;5;21;01mrequest\u001b[39;00m \u001b[38;5;28;01mimport\u001b[39;00m urlopen\n\u001b[0;32m      3\u001b[0m ex \u001b[38;5;241m=\u001b[39m \u001b[38;5;124m\"\u001b[39m\u001b[38;5;124mpython 4.0\u001b[39m\u001b[38;5;124m\"\u001b[39m\n\u001b[1;32m----> 5\u001b[0m \u001b[43murlopen\u001b[49m\u001b[38;5;241;43m.\u001b[39;49m\u001b[43mget\u001b[49m(\u001b[38;5;124m\"\u001b[39m\u001b[38;5;124mhttps://www.python.org/downloads/\u001b[39m\u001b[38;5;124m\"\u001b[39m)\n",
      "\u001b[1;31mAttributeError\u001b[0m: 'function' object has no attribute 'get'"
     ]
    }
   ],
   "source": [
    "from urllib.request import urlopen\n",
    "\n",
    "ex = \"python 4.0\"\n",
    "\n",
    "with urlopen(\"https://www.python.org/downloads/\")"
   ]
  },
  {
   "cell_type": "code",
   "execution_count": 11,
   "id": "18ed598b",
   "metadata": {},
   "outputs": [],
   "source": [
    "A = \"abc\".join('def')"
   ]
  },
  {
   "cell_type": "code",
   "execution_count": 12,
   "id": "5ab2263d",
   "metadata": {},
   "outputs": [
    {
     "data": {
      "text/plain": [
       "'dabceabcf'"
      ]
     },
     "execution_count": 12,
     "metadata": {},
     "output_type": "execute_result"
    }
   ],
   "source": [
    "A"
   ]
  },
  {
   "cell_type": "code",
   "execution_count": 17,
   "id": "655301c0",
   "metadata": {},
   "outputs": [],
   "source": [
    "C = \"abc\"+R\"def\""
   ]
  },
  {
   "cell_type": "code",
   "execution_count": 18,
   "id": "135a17cc",
   "metadata": {},
   "outputs": [
    {
     "data": {
      "text/plain": [
       "'abcdef'"
      ]
     },
     "execution_count": 18,
     "metadata": {},
     "output_type": "execute_result"
    }
   ],
   "source": [
    "C"
   ]
  },
  {
   "cell_type": "code",
   "execution_count": 15,
   "id": "fd134d82",
   "metadata": {},
   "outputs": [],
   "source": [
    "D = \"abc\" \\\n",
    "\"def\""
   ]
  },
  {
   "cell_type": "code",
   "execution_count": 16,
   "id": "e9a69d67",
   "metadata": {},
   "outputs": [
    {
     "data": {
      "text/plain": [
       "'abcdef'"
      ]
     },
     "execution_count": 16,
     "metadata": {},
     "output_type": "execute_result"
    }
   ],
   "source": [
    "D"
   ]
  },
  {
   "cell_type": "code",
   "execution_count": 21,
   "id": "0b5e7ed7",
   "metadata": {},
   "outputs": [],
   "source": [
    "e = enumerate('python')"
   ]
  },
  {
   "cell_type": "code",
   "execution_count": 25,
   "id": "e32b7057",
   "metadata": {},
   "outputs": [
    {
     "ename": "NameError",
     "evalue": "name 'Enum' is not defined",
     "output_type": "error",
     "traceback": [
      "\u001b[1;31m---------------------------------------------------------------------------\u001b[0m",
      "\u001b[1;31mNameError\u001b[0m                                 Traceback (most recent call last)",
      "Input \u001b[1;32mIn [25]\u001b[0m, in \u001b[0;36m<cell line: 2>\u001b[1;34m()\u001b[0m\n\u001b[0;32m      1\u001b[0m \u001b[38;5;28mstr\u001b[39m(\u001b[38;5;28mtype\u001b[39m(e)) \u001b[38;5;241m==\u001b[39m \u001b[38;5;124m\"\u001b[39m\u001b[38;5;124m<class \u001b[39m\u001b[38;5;124m'\u001b[39m\u001b[38;5;124mpython\u001b[39m\u001b[38;5;124m'\u001b[39m\u001b[38;5;124m>\u001b[39m\u001b[38;5;124m\"\u001b[39m\n\u001b[1;32m----> 2\u001b[0m \u001b[38;5;28misinstance\u001b[39m(e,\u001b[43mEnum\u001b[49m)\n",
      "\u001b[1;31mNameError\u001b[0m: name 'Enum' is not defined"
     ]
    }
   ],
   "source": [
    "str(type(e)) == \"<class 'python'>\"\n",
    "isinstance(e,Enum)"
   ]
  },
  {
   "cell_type": "code",
   "execution_count": 26,
   "id": "04c3721d",
   "metadata": {},
   "outputs": [
    {
     "data": {
      "text/plain": [
       "[(0, 'p'), (1, 'y'), (2, 't'), (3, 'h'), (4, 'o'), (5, 'n')]"
      ]
     },
     "execution_count": 26,
     "metadata": {},
     "output_type": "execute_result"
    }
   ],
   "source": [
    "list(enumerate('python'))"
   ]
  },
  {
   "cell_type": "code",
   "execution_count": 27,
   "id": "ec0959d7",
   "metadata": {},
   "outputs": [],
   "source": [
    "def d():\n",
    "    __doc__ = \"dfghjdfghjkfghj.\\nsdfghjdfghj\"\n",
    "    pass"
   ]
  },
  {
   "cell_type": "code",
   "execution_count": 28,
   "id": "01c5f617",
   "metadata": {},
   "outputs": [
    {
     "data": {
      "text/plain": [
       "'I need b, m, and c.'"
      ]
     },
     "execution_count": 28,
     "metadata": {},
     "output_type": "execute_result"
    }
   ],
   "source": [
    "\"I need %s, %s, and %s.\"%(\"b\",\"m\", \"c\")"
   ]
  },
  {
   "cell_type": "code",
   "execution_count": 29,
   "id": "5991ed17",
   "metadata": {},
   "outputs": [],
   "source": [
    "v = [\" i need\", \"bread\", \"milk\", \"and\", \"cheese\"]"
   ]
  },
  {
   "cell_type": "code",
   "execution_count": 30,
   "id": "67f4c0f2",
   "metadata": {},
   "outputs": [
    {
     "data": {
      "text/plain": [
       "' i need bread milk and cheese'"
      ]
     },
     "execution_count": 30,
     "metadata": {},
     "output_type": "execute_result"
    }
   ],
   "source": [
    "\" \".join(v)"
   ]
  },
  {
   "cell_type": "code",
   "execution_count": 31,
   "id": "7cc67c20",
   "metadata": {},
   "outputs": [],
   "source": [
    "class square:\n",
    "    def __init__(self,side):\n",
    "        self.side = side\n",
    "        \n",
    "    def area(self):\n",
    "        return self.side**2\n",
    "    \n",
    "class cube(square):\n",
    "    def sur_area(self):\n",
    "        area = super().area()\n",
    "        return 6* area"
   ]
  },
  {
   "cell_type": "code",
   "execution_count": 33,
   "id": "035d06dc",
   "metadata": {},
   "outputs": [
    {
     "data": {
      "text/plain": [
       "216"
      ]
     },
     "execution_count": 33,
     "metadata": {},
     "output_type": "execute_result"
    }
   ],
   "source": [
    "cube(6).sur_area()"
   ]
  },
  {
   "cell_type": "code",
   "execution_count": 34,
   "id": "28343e35",
   "metadata": {},
   "outputs": [
    {
     "ename": "TypeError",
     "evalue": "__init__() missing 1 required positional argument: 'side'",
     "output_type": "error",
     "traceback": [
      "\u001b[1;31m---------------------------------------------------------------------------\u001b[0m",
      "\u001b[1;31mTypeError\u001b[0m                                 Traceback (most recent call last)",
      "Input \u001b[1;32mIn [34]\u001b[0m, in \u001b[0;36m<cell line: 1>\u001b[1;34m()\u001b[0m\n\u001b[1;32m----> 1\u001b[0m \u001b[43mcube\u001b[49m\u001b[43m(\u001b[49m\u001b[43m)\u001b[49m\u001b[38;5;241m.\u001b[39msur_area(\u001b[38;5;241m6\u001b[39m)\n",
      "\u001b[1;31mTypeError\u001b[0m: __init__() missing 1 required positional argument: 'side'"
     ]
    }
   ],
   "source": [
    "cube().sur_area(6)"
   ]
  },
  {
   "cell_type": "code",
   "execution_count": 2,
   "id": "d1446d11",
   "metadata": {},
   "outputs": [
    {
     "data": {
      "text/plain": [
       "['-7', '1', '15', '2', '300']"
      ]
     },
     "execution_count": 2,
     "metadata": {},
     "output_type": "execute_result"
    }
   ],
   "source": [
    "sorted([\"1\",\"2\",\"15\",\"-7\",\"300\"])"
   ]
  },
  {
   "cell_type": "code",
   "execution_count": 3,
   "id": "abadd54e",
   "metadata": {},
   "outputs": [],
   "source": [
    "f = lambda n: 1 if n<=1 else n*f(n-1)"
   ]
  },
  {
   "cell_type": "code",
   "execution_count": 4,
   "id": "28d64d8e",
   "metadata": {},
   "outputs": [
    {
     "data": {
      "text/plain": [
       "24"
      ]
     },
     "execution_count": 4,
     "metadata": {},
     "output_type": "execute_result"
    }
   ],
   "source": [
    "f(4)"
   ]
  },
  {
   "cell_type": "code",
   "execution_count": 9,
   "id": "c46f1d29",
   "metadata": {},
   "outputs": [],
   "source": [
    "def b(sequence_list):\n",
    "    root = {}\n",
    "    for sequemce in sequence_list:\n",
    "        base = root\n",
    "        for word in Fistname.split(\" \"):\n",
    "            if not base.get(word):\n",
    "                base[word] = {}\n",
    "            base = base[word]\n",
    "    return root\n",
    "    \n"
   ]
  },
  {
   "cell_type": "code",
   "execution_count": 10,
   "id": "7d0d94f0",
   "metadata": {},
   "outputs": [
    {
     "ename": "NameError",
     "evalue": "name 'Fistname' is not defined",
     "output_type": "error",
     "traceback": [
      "\u001b[1;31m---------------------------------------------------------------------------\u001b[0m",
      "\u001b[1;31mNameError\u001b[0m                                 Traceback (most recent call last)",
      "Input \u001b[1;32mIn [10]\u001b[0m, in \u001b[0;36m<cell line: 1>\u001b[1;34m()\u001b[0m\n\u001b[1;32m----> 1\u001b[0m tree \u001b[38;5;241m=\u001b[39m \u001b[43mb\u001b[49m\u001b[43m(\u001b[49m\u001b[43m[\u001b[49m\u001b[38;5;124;43m\"\u001b[39;49m\u001b[38;5;124;43mhello world\u001b[39;49m\u001b[38;5;124;43m\"\u001b[39;49m\u001b[43m,\u001b[49m\u001b[43m \u001b[49m\u001b[38;5;124;43m\"\u001b[39;49m\u001b[38;5;124;43mHello there\u001b[39;49m\u001b[38;5;124;43m\"\u001b[39;49m\u001b[43m]\u001b[49m\u001b[43m)\u001b[49m\n",
      "Input \u001b[1;32mIn [9]\u001b[0m, in \u001b[0;36mb\u001b[1;34m(sequence_list)\u001b[0m\n\u001b[0;32m      3\u001b[0m \u001b[38;5;28;01mfor\u001b[39;00m sequemce \u001b[38;5;129;01min\u001b[39;00m sequence_list:\n\u001b[0;32m      4\u001b[0m     base \u001b[38;5;241m=\u001b[39m root\n\u001b[1;32m----> 5\u001b[0m     \u001b[38;5;28;01mfor\u001b[39;00m word \u001b[38;5;129;01min\u001b[39;00m \u001b[43mFistname\u001b[49m\u001b[38;5;241m.\u001b[39msplit(\u001b[38;5;124m\"\u001b[39m\u001b[38;5;124m \u001b[39m\u001b[38;5;124m\"\u001b[39m):\n\u001b[0;32m      6\u001b[0m         \u001b[38;5;28;01mif\u001b[39;00m \u001b[38;5;129;01mnot\u001b[39;00m base\u001b[38;5;241m.\u001b[39mget(word):\n\u001b[0;32m      7\u001b[0m             base[word] \u001b[38;5;241m=\u001b[39m {}\n",
      "\u001b[1;31mNameError\u001b[0m: name 'Fistname' is not defined"
     ]
    }
   ],
   "source": [
    "tree = b([\"hello world\", \"Hello there\"])"
   ]
  },
  {
   "cell_type": "code",
   "execution_count": 11,
   "id": "f8e3dbae",
   "metadata": {},
   "outputs": [],
   "source": [
    "def has_pos_neg(nums):\n",
    "    has_pos = False\n",
    "    has_neg = False\n",
    "    for num in nums:\n",
    "        has_pos = num>0\n",
    "        has_neg = num<0\n",
    "    return (has_pos,has_neg)"
   ]
  },
  {
   "cell_type": "code",
   "execution_count": 15,
   "id": "8254c930",
   "metadata": {},
   "outputs": [
    {
     "data": {
      "text/plain": [
       "(True, False)"
      ]
     },
     "execution_count": 15,
     "metadata": {},
     "output_type": "execute_result"
    }
   ],
   "source": [
    "has_pos_neg([0,1,2])"
   ]
  },
  {
   "cell_type": "code",
   "execution_count": 18,
   "id": "8533f2da",
   "metadata": {},
   "outputs": [],
   "source": [
    "def d(items):\n",
    "    i = 0\n",
    "    while i< len(items):\n",
    "        if len(items[i]) == 0:\n",
    "            del items[i]\n",
    "        i+=1\n"
   ]
  },
  {
   "cell_type": "code",
   "execution_count": 22,
   "id": "60709510",
   "metadata": {},
   "outputs": [],
   "source": [
    "d(names)"
   ]
  },
  {
   "cell_type": "code",
   "execution_count": 21,
   "id": "5e502f3e",
   "metadata": {},
   "outputs": [],
   "source": [
    "names = [\"rachel\", \" \", \"meghana\", \" \", \" \", \"tim\"];"
   ]
  },
  {
   "cell_type": "code",
   "execution_count": 1,
   "id": "6c418e3a",
   "metadata": {},
   "outputs": [],
   "source": [
    "def func(a,b):\n",
    "    a+=1\n",
    "    b.append(1)\n",
    "    \n",
    "a,b = 0, []"
   ]
  },
  {
   "cell_type": "code",
   "execution_count": 2,
   "id": "fe1330ef",
   "metadata": {},
   "outputs": [
    {
     "name": "stdout",
     "output_type": "stream",
     "text": [
      "0 [1]\n"
     ]
    }
   ],
   "source": [
    "func(a,b)\n",
    "print(a,b)"
   ]
  },
  {
   "cell_type": "code",
   "execution_count": 2,
   "id": "b707bd36",
   "metadata": {},
   "outputs": [],
   "source": [
    "n = 1234\n",
    "\n"
   ]
  },
  {
   "cell_type": "code",
   "execution_count": 6,
   "id": "61b93644",
   "metadata": {},
   "outputs": [],
   "source": [
    "digits = [int(i)  for i in str(n)]"
   ]
  },
  {
   "cell_type": "code",
   "execution_count": 7,
   "id": "27c40da7",
   "metadata": {},
   "outputs": [],
   "source": [
    "import numpy as np"
   ]
  },
  {
   "cell_type": "code",
   "execution_count": 8,
   "id": "3871a8a5",
   "metadata": {},
   "outputs": [
    {
     "data": {
      "text/plain": [
       "10"
      ]
     },
     "execution_count": 8,
     "metadata": {},
     "output_type": "execute_result"
    }
   ],
   "source": [
    "np.sum(digits)"
   ]
  },
  {
   "cell_type": "code",
   "execution_count": null,
   "id": "b97df67b",
   "metadata": {},
   "outputs": [],
   "source": []
  },
  {
   "cell_type": "code",
   "execution_count": 48,
   "id": "4296c6b1",
   "metadata": {},
   "outputs": [],
   "source": [
    "class Circle():\n",
    "    def __init__(self, radius):\n",
    "        self.radius = radius\n",
    "        \n",
    "    def area(self):\n",
    "        return np.pi*(self.radius)**2\n",
    "        "
   ]
  },
  {
   "cell_type": "code",
   "execution_count": 49,
   "id": "9f1d6885",
   "metadata": {},
   "outputs": [],
   "source": [
    "class Cylinder(Circle):\n",
    "    def __init__(self, radius, height):\n",
    "        super().__init__(radius)\n",
    "        self.height = height\n",
    "        \n",
    "        \n",
    "    def area(self):\n",
    "        return 2*(np.pi)*(self.radius)**2 + 2 * (np.pi) * (self.radius) * (self.height)\n",
    "    \n",
    "    def volume(self):\n",
    "        v = (np.pi) * ((self.radius)**2) * (self.height)\n",
    "        return v\n",
    "        "
   ]
  },
  {
   "cell_type": "code",
   "execution_count": 53,
   "id": "f89ea9c7",
   "metadata": {},
   "outputs": [],
   "source": [
    "n = 159"
   ]
  },
  {
   "cell_type": "code",
   "execution_count": 54,
   "id": "c40673ea",
   "metadata": {},
   "outputs": [],
   "source": [
    "def sum(n):\n",
    "    d = [int(i) for i in str(n)]\n",
    "    d1 = np.sum(d)\n",
    "    d2 =[int(k[0]) for k in str(d1)]\n",
    "    d3 =  np.sum(d2)\n",
    "    return d3\n",
    "    "
   ]
  },
  {
   "cell_type": "code",
   "execution_count": 55,
   "id": "01566af1",
   "metadata": {},
   "outputs": [
    {
     "data": {
      "text/plain": [
       "6"
      ]
     },
     "execution_count": 55,
     "metadata": {},
     "output_type": "execute_result"
    }
   ],
   "source": [
    "sum(n)"
   ]
  },
  {
   "cell_type": "code",
   "execution_count": null,
   "id": "a146f53b",
   "metadata": {},
   "outputs": [],
   "source": [
    "n = 1234"
   ]
  },
  {
   "cell_type": "code",
   "execution_count": 57,
   "id": "13a14eb0",
   "metadata": {},
   "outputs": [
    {
     "data": {
      "text/plain": [
       "'0b110000'"
      ]
     },
     "execution_count": 57,
     "metadata": {},
     "output_type": "execute_result"
    }
   ],
   "source": [
    "bin(48)"
   ]
  },
  {
   "cell_type": "code",
   "execution_count": 58,
   "id": "a3a97ca7",
   "metadata": {},
   "outputs": [
    {
     "data": {
      "text/plain": [
       "6"
      ]
     },
     "execution_count": 58,
     "metadata": {},
     "output_type": "execute_result"
    }
   ],
   "source": [
    "48>>3"
   ]
  },
  {
   "cell_type": "code",
   "execution_count": 59,
   "id": "dc4b8e51",
   "metadata": {},
   "outputs": [],
   "source": [
    "x = 5\n",
    "def func():\n",
    "    x+=3\n",
    "    print(x)"
   ]
  },
  {
   "cell_type": "code",
   "execution_count": 60,
   "id": "1f0e2d7f",
   "metadata": {},
   "outputs": [
    {
     "ename": "UnboundLocalError",
     "evalue": "local variable 'x' referenced before assignment",
     "output_type": "error",
     "traceback": [
      "\u001b[1;31m---------------------------------------------------------------------------\u001b[0m",
      "\u001b[1;31mUnboundLocalError\u001b[0m                         Traceback (most recent call last)",
      "Input \u001b[1;32mIn [60]\u001b[0m, in \u001b[0;36m<cell line: 1>\u001b[1;34m()\u001b[0m\n\u001b[1;32m----> 1\u001b[0m \u001b[43mfunc\u001b[49m\u001b[43m(\u001b[49m\u001b[43m)\u001b[49m\n",
      "Input \u001b[1;32mIn [59]\u001b[0m, in \u001b[0;36mfunc\u001b[1;34m()\u001b[0m\n\u001b[0;32m      2\u001b[0m \u001b[38;5;28;01mdef\u001b[39;00m \u001b[38;5;21mfunc\u001b[39m():\n\u001b[1;32m----> 3\u001b[0m     x\u001b[38;5;241m+\u001b[39m\u001b[38;5;241m=\u001b[39m\u001b[38;5;241m3\u001b[39m\n\u001b[0;32m      4\u001b[0m     \u001b[38;5;28mprint\u001b[39m(x)\n",
      "\u001b[1;31mUnboundLocalError\u001b[0m: local variable 'x' referenced before assignment"
     ]
    }
   ],
   "source": [
    "func()"
   ]
  },
  {
   "cell_type": "code",
   "execution_count": null,
   "id": "16083e33",
   "metadata": {},
   "outputs": [],
   "source": [
    "3\n",
    "6\n",
    "9\n",
    "12\n",
    "15\n",
    "18\n"
   ]
  },
  {
   "cell_type": "code",
   "execution_count": 61,
   "id": "4126aa60",
   "metadata": {},
   "outputs": [
    {
     "name": "stdout",
     "output_type": "stream",
     "text": [
      "salary: 12000\n",
      "8000\n"
     ]
    }
   ],
   "source": [
    "x = 8000\n",
    "\n",
    "def s():\n",
    "    x = 12000\n",
    "    print(\"salary:\", x)\n",
    "    \n",
    "s()\n",
    "print(x)"
   ]
  },
  {
   "cell_type": "code",
   "execution_count": 62,
   "id": "ed3df4ae",
   "metadata": {},
   "outputs": [],
   "source": [
    "var= \"James Bond\"\n",
    "#print(var[2::-1])"
   ]
  },
  {
   "cell_type": "code",
   "execution_count": 66,
   "id": "13ba7260",
   "metadata": {},
   "outputs": [
    {
     "data": {
      "text/plain": [
       "'maJ'"
      ]
     },
     "execution_count": 66,
     "metadata": {},
     "output_type": "execute_result"
    }
   ],
   "source": [
    "var[2::-1]"
   ]
  },
  {
   "cell_type": "code",
   "execution_count": 67,
   "id": "a5443542",
   "metadata": {},
   "outputs": [
    {
     "ename": "TypeError",
     "evalue": "append() takes exactly one argument (2 given)",
     "output_type": "error",
     "traceback": [
      "\u001b[1;31m---------------------------------------------------------------------------\u001b[0m",
      "\u001b[1;31mTypeError\u001b[0m                                 Traceback (most recent call last)",
      "Input \u001b[1;32mIn [67]\u001b[0m, in \u001b[0;36m<cell line: 2>\u001b[1;34m()\u001b[0m\n\u001b[0;32m      1\u001b[0m sampleList \u001b[38;5;241m=\u001b[39m [\u001b[38;5;124m\"\u001b[39m\u001b[38;5;124mJon\u001b[39m\u001b[38;5;124m\"\u001b[39m, \u001b[38;5;124m\"\u001b[39m\u001b[38;5;124mKelly\u001b[39m\u001b[38;5;124m\"\u001b[39m, \u001b[38;5;124m\"\u001b[39m\u001b[38;5;124mJessa\u001b[39m\u001b[38;5;124m\"\u001b[39m]\n\u001b[1;32m----> 2\u001b[0m \u001b[43msampleList\u001b[49m\u001b[38;5;241;43m.\u001b[39;49m\u001b[43mappend\u001b[49m\u001b[43m(\u001b[49m\u001b[38;5;241;43m2\u001b[39;49m\u001b[43m,\u001b[49m\u001b[43m \u001b[49m\u001b[38;5;124;43m\"\u001b[39;49m\u001b[38;5;124;43mScott\u001b[39;49m\u001b[38;5;124;43m\"\u001b[39;49m\u001b[43m)\u001b[49m\n\u001b[0;32m      3\u001b[0m \u001b[38;5;28mprint\u001b[39m(sampleList)\n",
      "\u001b[1;31mTypeError\u001b[0m: append() takes exactly one argument (2 given)"
     ]
    }
   ],
   "source": [
    "sampleList = [\"Jon\", \"Kelly\", \"Jessa\"]\n",
    "sampleList.append(2, \"Scott\")\n",
    "print(sampleList)"
   ]
  },
  {
   "cell_type": "code",
   "execution_count": 68,
   "id": "8c470b38",
   "metadata": {},
   "outputs": [
    {
     "ename": "TypeError",
     "evalue": "'float' object cannot be interpreted as an integer",
     "output_type": "error",
     "traceback": [
      "\u001b[1;31m---------------------------------------------------------------------------\u001b[0m",
      "\u001b[1;31mTypeError\u001b[0m                                 Traceback (most recent call last)",
      "Input \u001b[1;32mIn [68]\u001b[0m, in \u001b[0;36m<cell line: 1>\u001b[1;34m()\u001b[0m\n\u001b[1;32m----> 1\u001b[0m \u001b[38;5;28;01mfor\u001b[39;00m x \u001b[38;5;129;01min\u001b[39;00m \u001b[38;5;28;43mrange\u001b[39;49m\u001b[43m(\u001b[49m\u001b[38;5;241;43m0.5\u001b[39;49m\u001b[43m,\u001b[49m\u001b[43m \u001b[49m\u001b[38;5;241;43m5.5\u001b[39;49m\u001b[43m,\u001b[49m\u001b[43m \u001b[49m\u001b[38;5;241;43m0.5\u001b[39;49m\u001b[43m)\u001b[49m:\n\u001b[0;32m      2\u001b[0m   \u001b[38;5;28mprint\u001b[39m(x)\n",
      "\u001b[1;31mTypeError\u001b[0m: 'float' object cannot be interpreted as an integer"
     ]
    }
   ],
   "source": [
    "for x in range(0.5, 5.5, 0.5):\n",
    "  print(x)"
   ]
  },
  {
   "cell_type": "code",
   "execution_count": 69,
   "id": "08134cd2",
   "metadata": {},
   "outputs": [
    {
     "data": {
      "text/plain": [
       "25"
      ]
     },
     "execution_count": 69,
     "metadata": {},
     "output_type": "execute_result"
    }
   ],
   "source": [
    "5**2"
   ]
  },
  {
   "cell_type": "code",
   "execution_count": 70,
   "id": "acb9b66f",
   "metadata": {},
   "outputs": [
    {
     "data": {
      "text/plain": [
       "125"
      ]
     },
     "execution_count": 70,
     "metadata": {},
     "output_type": "execute_result"
    }
   ],
   "source": [
    "5**3"
   ]
  },
  {
   "cell_type": "code",
   "execution_count": 71,
   "id": "f1f62084",
   "metadata": {},
   "outputs": [
    {
     "ename": "TypeError",
     "evalue": "add() takes exactly one argument (2 given)",
     "output_type": "error",
     "traceback": [
      "\u001b[1;31m---------------------------------------------------------------------------\u001b[0m",
      "\u001b[1;31mTypeError\u001b[0m                                 Traceback (most recent call last)",
      "Input \u001b[1;32mIn [71]\u001b[0m, in \u001b[0;36m<cell line: 2>\u001b[1;34m()\u001b[0m\n\u001b[0;32m      1\u001b[0m sampleSet \u001b[38;5;241m=\u001b[39m {\u001b[38;5;124m\"\u001b[39m\u001b[38;5;124mJodi\u001b[39m\u001b[38;5;124m\"\u001b[39m, \u001b[38;5;124m\"\u001b[39m\u001b[38;5;124mEric\u001b[39m\u001b[38;5;124m\"\u001b[39m, \u001b[38;5;124m\"\u001b[39m\u001b[38;5;124mGarry\u001b[39m\u001b[38;5;124m\"\u001b[39m}\n\u001b[1;32m----> 2\u001b[0m \u001b[43msampleSet\u001b[49m\u001b[38;5;241;43m.\u001b[39;49m\u001b[43madd\u001b[49m\u001b[43m(\u001b[49m\u001b[38;5;241;43m1\u001b[39;49m\u001b[43m,\u001b[49m\u001b[43m \u001b[49m\u001b[38;5;124;43m\"\u001b[39;49m\u001b[38;5;124;43mVicki\u001b[39;49m\u001b[38;5;124;43m\"\u001b[39;49m\u001b[43m)\u001b[49m\n\u001b[0;32m      3\u001b[0m \u001b[38;5;28mprint\u001b[39m(sampleSet)\n",
      "\u001b[1;31mTypeError\u001b[0m: add() takes exactly one argument (2 given)"
     ]
    }
   ],
   "source": [
    "sampleSet = {\"Jodi\", \"Eric\", \"Garry\"}\n",
    "sampleSet.add(1, \"Vicki\")\n",
    "print(sampleSet)"
   ]
  },
  {
   "cell_type": "code",
   "execution_count": 72,
   "id": "290b1a00",
   "metadata": {},
   "outputs": [
    {
     "name": "stdout",
     "output_type": "stream",
     "text": [
      "True\n",
      "False\n"
     ]
    }
   ],
   "source": [
    "listOne = [20, 40, 60, 80]\n",
    "listTwo = [20, 40, 60, 80]\n",
    "\n",
    "print(listOne == listTwo)\n",
    "print(listOne is listTwo)"
   ]
  },
  {
   "cell_type": "code",
   "execution_count": 73,
   "id": "66ea6742",
   "metadata": {},
   "outputs": [
    {
     "data": {
      "text/plain": [
       "'aaaaaa'"
      ]
     },
     "execution_count": 73,
     "metadata": {},
     "output_type": "execute_result"
    }
   ],
   "source": [
    "\"a\"*2*3"
   ]
  },
  {
   "cell_type": "code",
   "execution_count": 74,
   "id": "e6e0965e",
   "metadata": {},
   "outputs": [
    {
     "name": "stdout",
     "output_type": "stream",
     "text": [
      "182.0\n"
     ]
    }
   ],
   "source": [
    "x = 36 / 4 * (3 +  2) * 4 + 2\n",
    "print(x)"
   ]
  },
  {
   "cell_type": "code",
   "execution_count": 75,
   "id": "0378bc6b",
   "metadata": {},
   "outputs": [],
   "source": [
    "x = 75\n",
    "\n",
    "def func():\n",
    "    x = x+1\n",
    "    print(x)"
   ]
  },
  {
   "cell_type": "code",
   "execution_count": 77,
   "id": "520d6396",
   "metadata": {},
   "outputs": [
    {
     "ename": "UnboundLocalError",
     "evalue": "local variable 'x' referenced before assignment",
     "output_type": "error",
     "traceback": [
      "\u001b[1;31m---------------------------------------------------------------------------\u001b[0m",
      "\u001b[1;31mUnboundLocalError\u001b[0m                         Traceback (most recent call last)",
      "Input \u001b[1;32mIn [77]\u001b[0m, in \u001b[0;36m<cell line: 1>\u001b[1;34m()\u001b[0m\n\u001b[1;32m----> 1\u001b[0m \u001b[43mfunc\u001b[49m\u001b[43m(\u001b[49m\u001b[43m)\u001b[49m\n",
      "Input \u001b[1;32mIn [75]\u001b[0m, in \u001b[0;36mfunc\u001b[1;34m()\u001b[0m\n\u001b[0;32m      3\u001b[0m \u001b[38;5;28;01mdef\u001b[39;00m \u001b[38;5;21mfunc\u001b[39m():\n\u001b[1;32m----> 4\u001b[0m     x \u001b[38;5;241m=\u001b[39m \u001b[43mx\u001b[49m\u001b[38;5;241m+\u001b[39m\u001b[38;5;241m1\u001b[39m\n\u001b[0;32m      5\u001b[0m     \u001b[38;5;28mprint\u001b[39m(x)\n",
      "\u001b[1;31mUnboundLocalError\u001b[0m: local variable 'x' referenced before assignment"
     ]
    }
   ],
   "source": [
    "func()\n"
   ]
  },
  {
   "cell_type": "code",
   "execution_count": 78,
   "id": "e1a7be05",
   "metadata": {},
   "outputs": [
    {
     "name": "stdout",
     "output_type": "stream",
     "text": [
      "False True True True\n"
     ]
    }
   ],
   "source": [
    "print(bool(0), bool(3.14159), bool(-3), bool(1.0+1j))"
   ]
  },
  {
   "cell_type": "code",
   "execution_count": null,
   "id": "6f38062d",
   "metadata": {},
   "outputs": [],
   "source": [
    "print(type({}) is set)"
   ]
  },
  {
   "cell_type": "code",
   "execution_count": 80,
   "id": "dfd88e4b",
   "metadata": {},
   "outputs": [
    {
     "name": "stdout",
     "output_type": "stream",
     "text": [
      "<class 'dict'>\n"
     ]
    }
   ],
   "source": [
    "print(type({}))"
   ]
  },
  {
   "cell_type": "code",
   "execution_count": 81,
   "id": "9784b029",
   "metadata": {},
   "outputs": [],
   "source": [
    "s = {}"
   ]
  },
  {
   "cell_type": "code",
   "execution_count": 82,
   "id": "03943352",
   "metadata": {},
   "outputs": [
    {
     "data": {
      "text/plain": [
       "dict"
      ]
     },
     "execution_count": 82,
     "metadata": {},
     "output_type": "execute_result"
    }
   ],
   "source": [
    "type(s)"
   ]
  },
  {
   "cell_type": "code",
   "execution_count": 83,
   "id": "a3d3e92a",
   "metadata": {},
   "outputs": [],
   "source": [
    "str1 = 'Ault\\'Kelly'"
   ]
  },
  {
   "cell_type": "code",
   "execution_count": 84,
   "id": "ed171933",
   "metadata": {},
   "outputs": [
    {
     "data": {
      "text/plain": [
       "\"Ault'Kelly\""
      ]
     },
     "execution_count": 84,
     "metadata": {},
     "output_type": "execute_result"
    }
   ],
   "source": [
    "str1"
   ]
  },
  {
   "cell_type": "code",
   "execution_count": 85,
   "id": "3172bfe0",
   "metadata": {},
   "outputs": [
    {
     "ename": "SyntaxError",
     "evalue": "invalid syntax (1117046052.py, line 1)",
     "output_type": "error",
     "traceback": [
      "\u001b[1;36m  Input \u001b[1;32mIn [85]\u001b[1;36m\u001b[0m\n\u001b[1;33m    str1 = 'Ault\\\\'Kelly'\u001b[0m\n\u001b[1;37m                   ^\u001b[0m\n\u001b[1;31mSyntaxError\u001b[0m\u001b[1;31m:\u001b[0m invalid syntax\n"
     ]
    }
   ],
   "source": [
    "str1 = 'Ault\\\\'Kelly'"
   ]
  },
  {
   "cell_type": "code",
   "execution_count": 86,
   "id": "1e59d730",
   "metadata": {},
   "outputs": [],
   "source": [
    "str1 = \"\"\"Ault'Kelly\"\"\""
   ]
  },
  {
   "cell_type": "code",
   "execution_count": 87,
   "id": "2c53db80",
   "metadata": {},
   "outputs": [
    {
     "data": {
      "text/plain": [
       "\"Ault'Kelly\""
      ]
     },
     "execution_count": 87,
     "metadata": {},
     "output_type": "execute_result"
    }
   ],
   "source": [
    "str1"
   ]
  },
  {
   "cell_type": "code",
   "execution_count": 88,
   "id": "a68e462d",
   "metadata": {},
   "outputs": [],
   "source": [
    "x = 50\n",
    "\n",
    "def func1():\n",
    "    x = 25\n",
    "    print(x)\n",
    "    \n"
   ]
  },
  {
   "cell_type": "code",
   "execution_count": 89,
   "id": "0671cf91",
   "metadata": {},
   "outputs": [
    {
     "name": "stdout",
     "output_type": "stream",
     "text": [
      "25\n"
     ]
    }
   ],
   "source": [
    "func1()"
   ]
  },
  {
   "cell_type": "code",
   "execution_count": 90,
   "id": "9b368b5c",
   "metadata": {},
   "outputs": [
    {
     "name": "stdout",
     "output_type": "stream",
     "text": [
      "50\n"
     ]
    }
   ],
   "source": [
    "print(x)"
   ]
  },
  {
   "cell_type": "code",
   "execution_count": 91,
   "id": "b328fdd6",
   "metadata": {},
   "outputs": [
    {
     "name": "stdout",
     "output_type": "stream",
     "text": [
      "25\n",
      "50\n"
     ]
    }
   ],
   "source": [
    "x = 50\n",
    "def fun1():\n",
    "    x = 25\n",
    "    print(x)\n",
    "    \n",
    "fun1()\n",
    "print(x)"
   ]
  },
  {
   "cell_type": "code",
   "execution_count": 1,
   "id": "d020ef53",
   "metadata": {},
   "outputs": [
    {
     "ename": "NameError",
     "evalue": "name 'x' is not defined",
     "output_type": "error",
     "traceback": [
      "\u001b[1;31m---------------------------------------------------------------------------\u001b[0m",
      "\u001b[1;31mNameError\u001b[0m                                 Traceback (most recent call last)",
      "Input \u001b[1;32mIn [1]\u001b[0m, in \u001b[0;36m<cell line: 5>\u001b[1;34m()\u001b[0m\n\u001b[0;32m      3\u001b[0m     \u001b[38;5;28;01mreturn\u001b[39;00m x\n\u001b[0;32m      4\u001b[0m func()\n\u001b[1;32m----> 5\u001b[0m \u001b[38;5;28mprint\u001b[39m(\u001b[43mx\u001b[49m)\n",
      "\u001b[1;31mNameError\u001b[0m: name 'x' is not defined"
     ]
    }
   ],
   "source": [
    "def func():\n",
    "    x = 500\n",
    "    return x\n",
    "func()\n",
    "print(x)"
   ]
  },
  {
   "cell_type": "code",
   "execution_count": 95,
   "id": "2917b739",
   "metadata": {},
   "outputs": [
    {
     "name": "stdout",
     "output_type": "stream",
     "text": [
      "50\n"
     ]
    }
   ],
   "source": [
    "print(x)"
   ]
  },
  {
   "cell_type": "code",
   "execution_count": 4,
   "id": "e24221d7",
   "metadata": {},
   "outputs": [],
   "source": [
    "def f1():\n",
    "    x = 500\n",
    "    print(x)"
   ]
  },
  {
   "cell_type": "code",
   "execution_count": 6,
   "id": "cab17ac0",
   "metadata": {},
   "outputs": [
    {
     "name": "stdout",
     "output_type": "stream",
     "text": [
      "500\n"
     ]
    },
    {
     "ename": "NameError",
     "evalue": "name 'x' is not defined",
     "output_type": "error",
     "traceback": [
      "\u001b[1;31m---------------------------------------------------------------------------\u001b[0m",
      "\u001b[1;31mNameError\u001b[0m                                 Traceback (most recent call last)",
      "Input \u001b[1;32mIn [6]\u001b[0m, in \u001b[0;36m<cell line: 2>\u001b[1;34m()\u001b[0m\n\u001b[0;32m      1\u001b[0m f1()\n\u001b[1;32m----> 2\u001b[0m \u001b[38;5;28mprint\u001b[39m(\u001b[43mx\u001b[49m)\n",
      "\u001b[1;31mNameError\u001b[0m: name 'x' is not defined"
     ]
    }
   ],
   "source": [
    "f1()\n",
    "print(x)"
   ]
  },
  {
   "cell_type": "code",
   "execution_count": 8,
   "id": "663ba781",
   "metadata": {},
   "outputs": [
    {
     "data": {
      "text/plain": [
       "range"
      ]
     },
     "execution_count": 8,
     "metadata": {},
     "output_type": "execute_result"
    }
   ],
   "source": [
    "type(range(5))"
   ]
  },
  {
   "cell_type": "code",
   "execution_count": 9,
   "id": "296fa319",
   "metadata": {},
   "outputs": [
    {
     "name": "stdout",
     "output_type": "stream",
     "text": [
      "20\n"
     ]
    }
   ],
   "source": [
    "x = 50\n",
    "def f2():\n",
    "    global x\n",
    "    x = 20\n",
    "f2()\n",
    "print(x)"
   ]
  },
  {
   "cell_type": "code",
   "execution_count": 10,
   "id": "9c64940a",
   "metadata": {},
   "outputs": [],
   "source": [
    "f2()"
   ]
  },
  {
   "cell_type": "code",
   "execution_count": 12,
   "id": "3d4a45ac",
   "metadata": {},
   "outputs": [
    {
     "data": {
      "text/plain": [
       "int"
      ]
     },
     "execution_count": 12,
     "metadata": {},
     "output_type": "execute_result"
    }
   ],
   "source": [
    "type(0xFF)"
   ]
  },
  {
   "cell_type": "code",
   "execution_count": 13,
   "id": "32b71765",
   "metadata": {},
   "outputs": [
    {
     "name": "stdout",
     "output_type": "stream",
     "text": [
      "True\n"
     ]
    }
   ],
   "source": [
    "print(type([]) is list)"
   ]
  },
  {
   "cell_type": "code",
   "execution_count": 15,
   "id": "3e9b7e80",
   "metadata": {},
   "outputs": [
    {
     "name": "stdout",
     "output_type": "stream",
     "text": [
      "76\n",
      "76\n"
     ]
    }
   ],
   "source": [
    "x = 75\n",
    "def myfunc():\n",
    "    global x\n",
    "    x = x + 1\n",
    "    print(x)\n",
    "\n",
    "myfunc()\n",
    "print(x)"
   ]
  },
  {
   "cell_type": "code",
   "execution_count": 25,
   "id": "20a80549",
   "metadata": {},
   "outputs": [],
   "source": [
    "number1 = 20\n",
    "number2 = 30\n",
    "\n",
    "def multiplication_sum(number1, number2):\n",
    "    res = number1*number2\n",
    "    if res<=1000:\n",
    "        return res\n",
    "    else:\n",
    "        return number1+number2"
   ]
  },
  {
   "cell_type": "code",
   "execution_count": 26,
   "id": "50c7f1c4",
   "metadata": {},
   "outputs": [
    {
     "data": {
      "text/plain": [
       "600"
      ]
     },
     "execution_count": 26,
     "metadata": {},
     "output_type": "execute_result"
    }
   ],
   "source": [
    "multiplication_sum(number1,number2)"
   ]
  },
  {
   "cell_type": "code",
   "execution_count": 27,
   "id": "232c2a6d",
   "metadata": {},
   "outputs": [
    {
     "name": "stdout",
     "output_type": "stream",
     "text": [
      "0\n",
      "1\n",
      "2\n",
      "3\n",
      "4\n",
      "5\n",
      "6\n",
      "7\n",
      "8\n",
      "9\n",
      "10\n"
     ]
    }
   ],
   "source": [
    "for i in range(11):\n",
    "    print(i)\n",
    "    "
   ]
  },
  {
   "cell_type": "code",
   "execution_count": 30,
   "id": "13b56b13",
   "metadata": {},
   "outputs": [
    {
     "name": "stdout",
     "output_type": "stream",
     "text": [
      "Current number 0 Previous number 0 sum: 0\n",
      "Current number 1 Previous number 0 sum: 1\n",
      "Current number 2 Previous number 1 sum: 3\n",
      "Current number 3 Previous number 2 sum: 5\n",
      "Current number 4 Previous number 3 sum: 7\n",
      "Current number 5 Previous number 4 sum: 9\n",
      "Current number 6 Previous number 5 sum: 11\n",
      "Current number 7 Previous number 6 sum: 13\n",
      "Current number 8 Previous number 7 sum: 15\n",
      "Current number 9 Previous number 8 sum: 17\n"
     ]
    }
   ],
   "source": [
    "previous_num = 0\n",
    "\n",
    "for i in range(10):\n",
    "    print(\"Current number\", i , \"Previous number\", previous_num, 'sum:', previous_num+i)\n",
    "    previous_num = i\n",
    "    \n",
    "    \n"
   ]
  },
  {
   "cell_type": "code",
   "execution_count": 37,
   "id": "6e36328b",
   "metadata": {},
   "outputs": [
    {
     "name": "stdout",
     "output_type": "stream",
     "text": [
      "Enter the stg:pynative\n"
     ]
    }
   ],
   "source": [
    "str12 = input(\"Enter the stg:\", )\n",
    "\n",
    "def even_index(n):\n",
    "    return n[0::2]\n",
    "    "
   ]
  },
  {
   "cell_type": "code",
   "execution_count": 38,
   "id": "1d872f30",
   "metadata": {},
   "outputs": [
    {
     "data": {
      "text/plain": [
       "'pntv'"
      ]
     },
     "execution_count": 38,
     "metadata": {},
     "output_type": "execute_result"
    }
   ],
   "source": [
    "even_index(str12)"
   ]
  },
  {
   "cell_type": "code",
   "execution_count": 40,
   "id": "1a20a4da",
   "metadata": {},
   "outputs": [],
   "source": [
    "size = len(str12)"
   ]
  },
  {
   "cell_type": "code",
   "execution_count": 41,
   "id": "4f74a144",
   "metadata": {},
   "outputs": [
    {
     "name": "stdout",
     "output_type": "stream",
     "text": [
      "p\n",
      "n\n",
      "t\n",
      "v\n"
     ]
    }
   ],
   "source": [
    "for i in range(0,size-1,2):\n",
    "    print(str12[i])"
   ]
  },
  {
   "cell_type": "code",
   "execution_count": 42,
   "id": "dfa90554",
   "metadata": {},
   "outputs": [],
   "source": [
    "l  = list(str12)\n"
   ]
  },
  {
   "cell_type": "code",
   "execution_count": 43,
   "id": "7233ad2b",
   "metadata": {},
   "outputs": [
    {
     "data": {
      "text/plain": [
       "['p', 'y', 'n', 'a', 't', 'i', 'v', 'e']"
      ]
     },
     "execution_count": 43,
     "metadata": {},
     "output_type": "execute_result"
    }
   ],
   "source": [
    "l"
   ]
  },
  {
   "cell_type": "code",
   "execution_count": 45,
   "id": "649ee661",
   "metadata": {},
   "outputs": [
    {
     "name": "stdout",
     "output_type": "stream",
     "text": [
      "p\n",
      "n\n",
      "t\n",
      "v\n"
     ]
    }
   ],
   "source": [
    "for i in l[0::2]:\n",
    "    print(i)"
   ]
  },
  {
   "cell_type": "code",
   "execution_count": 46,
   "id": "5dc75647",
   "metadata": {},
   "outputs": [
    {
     "name": "stdout",
     "output_type": "stream",
     "text": [
      "enter word:pynative\n"
     ]
    }
   ],
   "source": [
    "word = input(\"enter word:\", )"
   ]
  },
  {
   "cell_type": "code",
   "execution_count": 54,
   "id": "5ee014e4",
   "metadata": {},
   "outputs": [],
   "source": [
    "def newword(n,i):\n",
    "    return n[i:]\n",
    "    "
   ]
  },
  {
   "cell_type": "code",
   "execution_count": 55,
   "id": "964c7d99",
   "metadata": {},
   "outputs": [
    {
     "data": {
      "text/plain": [
       "'tive'"
      ]
     },
     "execution_count": 55,
     "metadata": {},
     "output_type": "execute_result"
    }
   ],
   "source": [
    "newword(word,4)"
   ]
  },
  {
   "cell_type": "code",
   "execution_count": 57,
   "id": "14deae4e",
   "metadata": {},
   "outputs": [
    {
     "data": {
      "text/plain": [
       "'tive'"
      ]
     },
     "execution_count": 57,
     "metadata": {},
     "output_type": "execute_result"
    }
   ],
   "source": [
    "word[4:]"
   ]
  },
  {
   "cell_type": "code",
   "execution_count": 74,
   "id": "0c8251c0",
   "metadata": {},
   "outputs": [],
   "source": [
    "numbers_x = [10, 20, 30, 40, 10]\n",
    "#numbers_y = [75, 65, 35, 75, 30]"
   ]
  },
  {
   "cell_type": "code",
   "execution_count": 62,
   "id": "32c4536f",
   "metadata": {},
   "outputs": [
    {
     "name": "stdout",
     "output_type": "stream",
     "text": [
      "True\n",
      "False\n",
      "False\n",
      "False\n"
     ]
    }
   ],
   "source": [
    "for i in range(0,len(numbers_x)-1):\n",
    "    if numbers_x[i] == numbers_x[len(numbers_x)-1]:\n",
    "        print('True')\n",
    "    else:\n",
    "        print('False')"
   ]
  },
  {
   "cell_type": "code",
   "execution_count": 66,
   "id": "3d2586db",
   "metadata": {},
   "outputs": [
    {
     "name": "stdout",
     "output_type": "stream",
     "text": [
      "False\n"
     ]
    }
   ],
   "source": [
    "if numbers_y[0] == numbers_y[len(numbers_y)-1]:\n",
    "    print('True')\n",
    "else:\n",
    "    print('False')"
   ]
  },
  {
   "cell_type": "code",
   "execution_count": 64,
   "id": "96a59a5b",
   "metadata": {},
   "outputs": [],
   "source": [
    "numbers_y = [75, 65, 35, 75, 30]"
   ]
  },
  {
   "cell_type": "code",
   "execution_count": 67,
   "id": "e4442056",
   "metadata": {},
   "outputs": [],
   "source": [
    "def check(n):\n",
    "    if n[0] == n[len(n)-1]:\n",
    "        print('True')\n",
    "    else:\n",
    "        print(\"False\")"
   ]
  },
  {
   "cell_type": "code",
   "execution_count": 70,
   "id": "ac394d69",
   "metadata": {},
   "outputs": [],
   "source": [
    "numbers_y = [75, 65, 35, 75, 30]"
   ]
  },
  {
   "cell_type": "code",
   "execution_count": 71,
   "id": "222ad6b0",
   "metadata": {},
   "outputs": [
    {
     "name": "stdout",
     "output_type": "stream",
     "text": [
      "False\n"
     ]
    }
   ],
   "source": [
    "check(numbers_y)"
   ]
  },
  {
   "cell_type": "code",
   "execution_count": 72,
   "id": "82813aef",
   "metadata": {},
   "outputs": [],
   "source": [
    "def first_last(num):\n",
    "    fist_num = num[0]\n",
    "    last_num = num[-1]\n",
    "    if fist_num==last_num:\n",
    "        print('True')\n",
    "    else:\n",
    "        print('False')"
   ]
  },
  {
   "cell_type": "code",
   "execution_count": 73,
   "id": "cd60a865",
   "metadata": {},
   "outputs": [
    {
     "name": "stdout",
     "output_type": "stream",
     "text": [
      "False\n"
     ]
    }
   ],
   "source": [
    "first_last(numbers_y)"
   ]
  },
  {
   "cell_type": "code",
   "execution_count": 75,
   "id": "327cf576",
   "metadata": {},
   "outputs": [
    {
     "name": "stdout",
     "output_type": "stream",
     "text": [
      "True\n"
     ]
    }
   ],
   "source": [
    "first_last(numbers_x)"
   ]
  },
  {
   "cell_type": "code",
   "execution_count": 76,
   "id": "8f2dee59",
   "metadata": {},
   "outputs": [],
   "source": [
    "l = [10, 20, 33, 46, 55]"
   ]
  },
  {
   "cell_type": "code",
   "execution_count": 77,
   "id": "a8763e6f",
   "metadata": {},
   "outputs": [
    {
     "name": "stdout",
     "output_type": "stream",
     "text": [
      "10\n",
      "20\n",
      "55\n"
     ]
    }
   ],
   "source": [
    "for i in l:\n",
    "    if i%5==0:\n",
    "        print(i)"
   ]
  },
  {
   "cell_type": "code",
   "execution_count": 88,
   "id": "1bc0502c",
   "metadata": {},
   "outputs": [],
   "source": [
    "str_x = \"Emma is good developer. Emma is a writer\""
   ]
  },
  {
   "cell_type": "code",
   "execution_count": 82,
   "id": "0ddf973f",
   "metadata": {},
   "outputs": [
    {
     "name": "stdout",
     "output_type": "stream",
     "text": [
      "Emma appeared 2 times\n"
     ]
    }
   ],
   "source": [
    "print('Emma appeared', str_x.count(\"Emma\") ,'times')"
   ]
  },
  {
   "cell_type": "code",
   "execution_count": 85,
   "id": "f5cdaac8",
   "metadata": {},
   "outputs": [
    {
     "data": {
      "text/plain": [
       "'Emma'"
      ]
     },
     "execution_count": 85,
     "metadata": {},
     "output_type": "execute_result"
    }
   ],
   "source": [
    "str_x[0:0+4]"
   ]
  },
  {
   "cell_type": "code",
   "execution_count": 89,
   "id": "86514800",
   "metadata": {},
   "outputs": [],
   "source": [
    "def d(statement):\n",
    "    count = 0\n",
    "    for i in range(len(statement)-1):\n",
    "        count += statement[i:i+4] == \"Emma\"\n",
    "    return count"
   ]
  },
  {
   "cell_type": "code",
   "execution_count": 90,
   "id": "a194f834",
   "metadata": {},
   "outputs": [
    {
     "data": {
      "text/plain": [
       "2"
      ]
     },
     "execution_count": 90,
     "metadata": {},
     "output_type": "execute_result"
    }
   ],
   "source": [
    "d(str_x)"
   ]
  },
  {
   "cell_type": "code",
   "execution_count": 91,
   "id": "2f502350",
   "metadata": {},
   "outputs": [
    {
     "name": "stdout",
     "output_type": "stream",
     "text": [
      "Emma appeared  2 times\n"
     ]
    }
   ],
   "source": [
    "count = d(\"Emma is good developer. Emma is a writer\")\n",
    "print(\"Emma appeared \", count, \"times\")"
   ]
  },
  {
   "cell_type": "code",
   "execution_count": 101,
   "id": "b9e52ff6",
   "metadata": {},
   "outputs": [
    {
     "name": "stdout",
     "output_type": "stream",
     "text": [
      "1 \n",
      "2 2 \n",
      "3 3 3 \n",
      "4 4 4 4 \n",
      "5 5 5 5 5 \n"
     ]
    }
   ],
   "source": [
    "n = 5\n",
    "\n",
    "\n",
    "for i in range(1,n+1):\n",
    "    for j in range(i):\n",
    "        print(i, end= \" \")\n",
    "    print()"
   ]
  },
  {
   "cell_type": "code",
   "execution_count": 110,
   "id": "1ef39801",
   "metadata": {},
   "outputs": [],
   "source": [
    "class Vehicle:\n",
    "    def __init__(self,name, max_speed, mileage):\n",
    "        self.max_speed = max_speed\n",
    "        self.mileage = mileage\n",
    "        self.name = na\n",
    "        \n",
    "        "
   ]
  },
  {
   "cell_type": "code",
   "execution_count": 105,
   "id": "c9fe43b4",
   "metadata": {},
   "outputs": [],
   "source": [
    "modelX = Vehicle(240,18)"
   ]
  },
  {
   "cell_type": "code",
   "execution_count": 106,
   "id": "17b05865",
   "metadata": {},
   "outputs": [
    {
     "name": "stdout",
     "output_type": "stream",
     "text": [
      "240 18\n"
     ]
    }
   ],
   "source": [
    "print(modelX.max_speed, modelX.mileage)"
   ]
  },
  {
   "cell_type": "code",
   "execution_count": 107,
   "id": "0329aa76",
   "metadata": {},
   "outputs": [],
   "source": [
    "class circle:\n",
    "    pass"
   ]
  },
  {
   "cell_type": "code",
   "execution_count": 116,
   "id": "1cf2d92f",
   "metadata": {},
   "outputs": [],
   "source": [
    "class Bus(Vehicle):\n",
    "    pass"
   ]
  },
  {
   "cell_type": "code",
   "execution_count": 109,
   "id": "f037a169",
   "metadata": {},
   "outputs": [
    {
     "data": {
      "text/plain": [
       "<function Bus.mro()>"
      ]
     },
     "execution_count": 109,
     "metadata": {},
     "output_type": "execute_result"
    }
   ],
   "source": [
    "Bus.mro"
   ]
  },
  {
   "cell_type": "code",
   "execution_count": 114,
   "id": "5f19b1f7",
   "metadata": {},
   "outputs": [],
   "source": [
    "modelX = Vehicle('School Volvo',240,18)"
   ]
  },
  {
   "cell_type": "code",
   "execution_count": 115,
   "id": "fb1fcca2",
   "metadata": {},
   "outputs": [
    {
     "data": {
      "text/plain": [
       "'School Volvo'"
      ]
     },
     "execution_count": 115,
     "metadata": {},
     "output_type": "execute_result"
    }
   ],
   "source": [
    "modelX.name"
   ]
  },
  {
   "cell_type": "code",
   "execution_count": 119,
   "id": "03c02b30",
   "metadata": {},
   "outputs": [],
   "source": [
    "b1 = Bus('maruti', 250,15)"
   ]
  },
  {
   "cell_type": "code",
   "execution_count": 120,
   "id": "23a36596",
   "metadata": {},
   "outputs": [
    {
     "data": {
      "text/plain": [
       "'maruti'"
      ]
     },
     "execution_count": 120,
     "metadata": {},
     "output_type": "execute_result"
    }
   ],
   "source": [
    "b1.name"
   ]
  },
  {
   "cell_type": "code",
   "execution_count": 122,
   "id": "06e67168",
   "metadata": {},
   "outputs": [],
   "source": [
    "class Vehicle:\n",
    "    def __init__(self, name, max_speed, mileage):\n",
    "        self.name = name\n",
    "        self.max_speed = max_speed\n",
    "        self.mileage = mileage\n",
    "        \n",
    "    def seating_capacity(self,capacity):\n",
    "        return f\"the seating capacity of a {self.name} is {capacity} passengers\"\n",
    "        \n",
    "        "
   ]
  },
  {
   "cell_type": "code",
   "execution_count": 130,
   "id": "93386d38",
   "metadata": {},
   "outputs": [],
   "source": [
    "class Bus(Vehicle):\n",
    "    def seating_capacity(self,capacity = 50):\n",
    "        return f\"the seating capacity of a {self.name} is {capacity} passengers\"\n",
    "    \n",
    "        "
   ]
  },
  {
   "cell_type": "code",
   "execution_count": 131,
   "id": "651a7412",
   "metadata": {},
   "outputs": [
    {
     "name": "stdout",
     "output_type": "stream",
     "text": [
      "the seating capacity of a School Volvo is 50 passengers\n"
     ]
    }
   ],
   "source": [
    "School_bus = Bus(\"School Volvo\", 180, 12)\n",
    "print(School_bus.seating_capacity())"
   ]
  },
  {
   "cell_type": "code",
   "execution_count": 132,
   "id": "cdfca129",
   "metadata": {},
   "outputs": [
    {
     "data": {
      "text/plain": [
       "2"
      ]
     },
     "execution_count": 132,
     "metadata": {},
     "output_type": "execute_result"
    }
   ],
   "source": [
    "2%6"
   ]
  },
  {
   "cell_type": "code",
   "execution_count": 133,
   "id": "eb4aa5c4",
   "metadata": {},
   "outputs": [
    {
     "data": {
      "text/plain": [
       "0"
      ]
     },
     "execution_count": 133,
     "metadata": {},
     "output_type": "execute_result"
    }
   ],
   "source": [
    "12%6"
   ]
  },
  {
   "cell_type": "code",
   "execution_count": 134,
   "id": "ce127491",
   "metadata": {},
   "outputs": [
    {
     "data": {
      "text/plain": [
       "1"
      ]
     },
     "execution_count": 134,
     "metadata": {},
     "output_type": "execute_result"
    }
   ],
   "source": [
    "13%6"
   ]
  },
  {
   "cell_type": "code",
   "execution_count": 135,
   "id": "25535bfc",
   "metadata": {},
   "outputs": [
    {
     "data": {
      "text/plain": [
       "216"
      ]
     },
     "execution_count": 135,
     "metadata": {},
     "output_type": "execute_result"
    }
   ],
   "source": [
    "2*3**3*4"
   ]
  },
  {
   "cell_type": "code",
   "execution_count": 137,
   "id": "2dd1f2bb",
   "metadata": {},
   "outputs": [
    {
     "data": {
      "text/plain": [
       "9"
      ]
     },
     "execution_count": 137,
     "metadata": {},
     "output_type": "execute_result"
    }
   ],
   "source": [
    "36//4"
   ]
  },
  {
   "cell_type": "code",
   "execution_count": 138,
   "id": "de1ac64e",
   "metadata": {},
   "outputs": [
    {
     "ename": "SyntaxError",
     "evalue": "invalid syntax (1797599455.py, line 2)",
     "output_type": "error",
     "traceback": [
      "\u001b[1;36m  Input \u001b[1;32mIn [138]\u001b[1;36m\u001b[0m\n\u001b[1;33m    x = y +=2\u001b[0m\n\u001b[1;37m          ^\u001b[0m\n\u001b[1;31mSyntaxError\u001b[0m\u001b[1;31m:\u001b[0m invalid syntax\n"
     ]
    }
   ],
   "source": [
    "y = 10\n",
    "x = y +=2\n",
    "print(x)"
   ]
  },
  {
   "cell_type": "code",
   "execution_count": 139,
   "id": "bebd75c6",
   "metadata": {},
   "outputs": [
    {
     "data": {
      "text/plain": [
       "2"
      ]
     },
     "execution_count": 139,
     "metadata": {},
     "output_type": "execute_result"
    }
   ],
   "source": [
    "10-4*2"
   ]
  },
  {
   "cell_type": "code",
   "execution_count": 140,
   "id": "2f2c0f78",
   "metadata": {},
   "outputs": [],
   "source": [
    "x = 10\n",
    "y = 50\n",
    "if x ** 2 > 100 and y < 100:\n",
    "    print(x, y)"
   ]
  },
  {
   "cell_type": "code",
   "execution_count": 141,
   "id": "f3615730",
   "metadata": {},
   "outputs": [
    {
     "name": "stdout",
     "output_type": "stream",
     "text": [
      "50\n"
     ]
    }
   ],
   "source": [
    "x = 100\n",
    "y = 50\n",
    "print(x and y)\n"
   ]
  },
  {
   "cell_type": "code",
   "execution_count": 142,
   "id": "ec426d3b",
   "metadata": {},
   "outputs": [
    {
     "name": "stdout",
     "output_type": "stream",
     "text": [
      "50\n"
     ]
    }
   ],
   "source": [
    "x = 100\n",
    "y = 50\n",
    "print(x and y)"
   ]
  },
  {
   "cell_type": "code",
   "execution_count": 146,
   "id": "392414c2",
   "metadata": {},
   "outputs": [
    {
     "data": {
      "text/plain": [
       "-5"
      ]
     },
     "execution_count": 146,
     "metadata": {},
     "output_type": "execute_result"
    }
   ],
   "source": [
    "-18//4"
   ]
  },
  {
   "cell_type": "code",
   "execution_count": 147,
   "id": "cf3e2c53",
   "metadata": {},
   "outputs": [
    {
     "data": {
      "text/plain": [
       "512"
      ]
     },
     "execution_count": 147,
     "metadata": {},
     "output_type": "execute_result"
    }
   ],
   "source": [
    "2**3**2"
   ]
  },
  {
   "cell_type": "code",
   "execution_count": 148,
   "id": "a6392bb7",
   "metadata": {},
   "outputs": [
    {
     "name": "stdout",
     "output_type": "stream",
     "text": [
      "[10, 20, 30, 40]\n",
      "[10, 20, 30, 40]\n"
     ]
    }
   ],
   "source": [
    "a = [10, 20]\n",
    "b = a\n",
    "b += [30, 40]\n",
    "print(a)\n",
    "print(b)"
   ]
  },
  {
   "cell_type": "code",
   "execution_count": 153,
   "id": "7c3645d8",
   "metadata": {},
   "outputs": [
    {
     "name": "stdout",
     "output_type": "stream",
     "text": [
      "aaa\n"
     ]
    }
   ],
   "source": [
    "f = open('test.txt.txt', 'r')\n",
    "print(f.readline(3))\n",
    "f.close()"
   ]
  },
  {
   "cell_type": "code",
   "execution_count": 156,
   "id": "c24b3a95",
   "metadata": {},
   "outputs": [
    {
     "name": "stdout",
     "output_type": "stream",
     "text": [
      "PYnative // is for // Python Lovers//"
     ]
    }
   ],
   "source": [
    "print('PYnative ', end='//')\n",
    "print(' is for ', end='//')\n",
    "print(' Python Lovers', end='//')"
   ]
  },
  {
   "cell_type": "code",
   "execution_count": null,
   "id": "adfd09e0",
   "metadata": {},
   "outputs": [],
   "source": [
    "x = float('NaN')\n",
    "print('%f, %e, %F, %E' % (x, x, x, x))"
   ]
  },
  {
   "cell_type": "code",
   "execution_count": 159,
   "id": "e5dd0e7f",
   "metadata": {},
   "outputs": [
    {
     "name": "stdout",
     "output_type": "stream",
     "text": [
      "nan,nan,NAN,NAN\n"
     ]
    }
   ],
   "source": [
    "x = float('NaN')\n",
    "\n",
    "print('%f,%e,%F,%E' % (x,x,x,x))"
   ]
  },
  {
   "cell_type": "code",
   "execution_count": null,
   "id": "ddb2d565",
   "metadata": {},
   "outputs": [],
   "source": [
    "print('%d %d %.2f' % (11, '22', 11.22))"
   ]
  },
  {
   "cell_type": "code",
   "execution_count": 161,
   "id": "6580c9eb",
   "metadata": {},
   "outputs": [
    {
     "name": "stdout",
     "output_type": "stream",
     "text": [
      "11 22 11.22\n"
     ]
    }
   ],
   "source": [
    "print('%d %d %.2f' %(11,22,11.22))"
   ]
  },
  {
   "cell_type": "code",
   "execution_count": null,
   "id": "fa2f78f0",
   "metadata": {},
   "outputs": [],
   "source": [
    "print(sep='--', 'Ben', 25, 'California')"
   ]
  },
  {
   "cell_type": "code",
   "execution_count": 163,
   "id": "9b2a4f68",
   "metadata": {},
   "outputs": [
    {
     "ename": "SyntaxError",
     "evalue": "positional argument follows keyword argument (1709515899.py, line 1)",
     "output_type": "error",
     "traceback": [
      "\u001b[1;36m  Input \u001b[1;32mIn [163]\u001b[1;36m\u001b[0m\n\u001b[1;33m    print(sep='--', 'Ben', 25, 'California')\u001b[0m\n\u001b[1;37m                    ^\u001b[0m\n\u001b[1;31mSyntaxError\u001b[0m\u001b[1;31m:\u001b[0m positional argument follows keyword argument\n"
     ]
    }
   ],
   "source": [
    "print(sep='--', 'Ben', 25, 'California')"
   ]
  },
  {
   "cell_type": "code",
   "execution_count": null,
   "id": "9dd297d6",
   "metadata": {},
   "outputs": [],
   "source": [
    "print('[%c]' % 65)"
   ]
  },
  {
   "cell_type": "code",
   "execution_count": 164,
   "id": "12460cce",
   "metadata": {},
   "outputs": [
    {
     "name": "stdout",
     "output_type": "stream",
     "text": [
      "[A]\n"
     ]
    }
   ],
   "source": [
    "print('[%c]' % 65)"
   ]
  },
  {
   "cell_type": "code",
   "execution_count": 165,
   "id": "b7714dc8",
   "metadata": {},
   "outputs": [
    {
     "name": "stdout",
     "output_type": "stream",
     "text": [
      "f, F\n"
     ]
    }
   ],
   "source": [
    "print('%x, %X' % (15,15))"
   ]
  },
  {
   "cell_type": "code",
   "execution_count": null,
   "id": "1f0793ab",
   "metadata": {},
   "outputs": [],
   "source": [
    "print('%x, %X' % (15, 15))"
   ]
  },
  {
   "cell_type": "code",
   "execution_count": 167,
   "id": "9961547d",
   "metadata": {},
   "outputs": [],
   "source": [
    "class Vehicle:\n",
    "    \n",
    "    color = 'white'\n",
    "\n",
    "    def __init__(self, name, max_speed, mileage):\n",
    "        self.name = name\n",
    "        self.max_speed = max_speed\n",
    "        self.mileage = mileage\n",
    "\n",
    "class Bus(Vehicle):\n",
    "    pass\n",
    "\n",
    "class Car(Vehicle):\n",
    "    pass"
   ]
  },
  {
   "cell_type": "code",
   "execution_count": 169,
   "id": "97150c70",
   "metadata": {},
   "outputs": [],
   "source": [
    "School_bus  = Bus(\"School Volvo\", 180, 12)"
   ]
  },
  {
   "cell_type": "code",
   "execution_count": 173,
   "id": "28b20e95",
   "metadata": {},
   "outputs": [],
   "source": [
    "car = Car(\"Audi Q5\", 240, 18)"
   ]
  },
  {
   "cell_type": "code",
   "execution_count": 174,
   "id": "0844fe45",
   "metadata": {},
   "outputs": [
    {
     "name": "stdout",
     "output_type": "stream",
     "text": [
      "white 180 12 School Volvo\n"
     ]
    }
   ],
   "source": [
    "print(School_bus.color, School_bus.max_speed, School_bus.mileage, School_bus.name)"
   ]
  },
  {
   "cell_type": "code",
   "execution_count": 175,
   "id": "68a369c5",
   "metadata": {},
   "outputs": [],
   "source": [
    "class Vehicle:\n",
    "    def __init__(self, name, mileage, capacity):\n",
    "        self.name = name\n",
    "        self.mileage = mileage\n",
    "        self.capacity = capacity\n",
    "        \n",
    "    def fare(self):\n",
    "        return self.capacity*100"
   ]
  },
  {
   "cell_type": "code",
   "execution_count": 176,
   "id": "b25cddad",
   "metadata": {},
   "outputs": [],
   "source": [
    "import numpy as np"
   ]
  },
  {
   "cell_type": "code",
   "execution_count": 186,
   "id": "4998bfa8",
   "metadata": {},
   "outputs": [],
   "source": [
    "class Bus(Vehicle):\n",
    "    def fare(self):\n",
    "        total_amount = super().fare()\n",
    "        total_amount += total_amount *10 // 100\n",
    "        return total_amount\n",
    "        "
   ]
  },
  {
   "cell_type": "code",
   "execution_count": 187,
   "id": "2bf14045",
   "metadata": {},
   "outputs": [],
   "source": [
    "bus = Bus(\"School Volvo\", 12, 50)"
   ]
  },
  {
   "cell_type": "code",
   "execution_count": 188,
   "id": "e2f62591",
   "metadata": {},
   "outputs": [
    {
     "data": {
      "text/plain": [
       "50"
      ]
     },
     "execution_count": 188,
     "metadata": {},
     "output_type": "execute_result"
    }
   ],
   "source": [
    "bus.capacity"
   ]
  },
  {
   "cell_type": "code",
   "execution_count": 189,
   "id": "924c14b1",
   "metadata": {},
   "outputs": [
    {
     "data": {
      "text/plain": [
       "5500"
      ]
     },
     "execution_count": 189,
     "metadata": {},
     "output_type": "execute_result"
    }
   ],
   "source": [
    "bus.fare()"
   ]
  },
  {
   "cell_type": "code",
   "execution_count": 190,
   "id": "bc53542d",
   "metadata": {},
   "outputs": [],
   "source": [
    "class Vehicle:\n",
    "    def __init__(self, name, mileage, capacity):\n",
    "        self.name = name\n",
    "        self.mileage = mileage\n",
    "        self.capacity = capacity\n",
    "\n",
    "class Bus(Vehicle):\n",
    "    pass\n",
    "\n",
    "School_bus = Bus(\"School Volvo\", 12, 50)"
   ]
  },
  {
   "cell_type": "code",
   "execution_count": 191,
   "id": "8ade434a",
   "metadata": {},
   "outputs": [
    {
     "data": {
      "text/plain": [
       "__main__.Bus"
      ]
     },
     "execution_count": 191,
     "metadata": {},
     "output_type": "execute_result"
    }
   ],
   "source": [
    "type(School_bus)"
   ]
  },
  {
   "cell_type": "code",
   "execution_count": 192,
   "id": "513ef32b",
   "metadata": {},
   "outputs": [
    {
     "data": {
      "text/plain": [
       "type"
      ]
     },
     "execution_count": 192,
     "metadata": {},
     "output_type": "execute_result"
    }
   ],
   "source": [
    "type(Bus)"
   ]
  },
  {
   "cell_type": "code",
   "execution_count": 193,
   "id": "bfa20c14",
   "metadata": {},
   "outputs": [],
   "source": [
    "v1 = Vehicle(\"fghj\", 25, 258)"
   ]
  },
  {
   "cell_type": "code",
   "execution_count": 194,
   "id": "1a5ee471",
   "metadata": {},
   "outputs": [
    {
     "data": {
      "text/plain": [
       "__main__.Vehicle"
      ]
     },
     "execution_count": 194,
     "metadata": {},
     "output_type": "execute_result"
    }
   ],
   "source": [
    "type(v1)"
   ]
  },
  {
   "cell_type": "code",
   "execution_count": 195,
   "id": "2dc83840",
   "metadata": {},
   "outputs": [],
   "source": [
    "class Vehicle:\n",
    "    def __init__(self, name, mileage, capacity):\n",
    "        self.name = name\n",
    "        self.mileage = mileage\n",
    "        self.capacity = capacity\n",
    "\n",
    "class Bus(Vehicle):\n",
    "    pass\n",
    "\n",
    "School_bus = Bus(\"School Volvo\", 12, 50)"
   ]
  },
  {
   "cell_type": "code",
   "execution_count": 198,
   "id": "835a6824",
   "metadata": {},
   "outputs": [
    {
     "name": "stdout",
     "output_type": "stream",
     "text": [
      "True\n"
     ]
    }
   ],
   "source": [
    "print(isinstance(School_bus,Vehicle ))"
   ]
  },
  {
   "cell_type": "code",
   "execution_count": 199,
   "id": "dfe616f0",
   "metadata": {},
   "outputs": [],
   "source": [
    "def greet(name, age):\n",
    "    print('my name is :', name)\n",
    "    print('my age is :', age)"
   ]
  },
  {
   "cell_type": "code",
   "execution_count": 202,
   "id": "048f0d02",
   "metadata": {},
   "outputs": [
    {
     "name": "stdout",
     "output_type": "stream",
     "text": [
      "my name is : sanjay\n",
      "my age is : 30\n"
     ]
    }
   ],
   "source": [
    "greet('sanjay', 30)"
   ]
  },
  {
   "cell_type": "code",
   "execution_count": 207,
   "id": "3352169b",
   "metadata": {},
   "outputs": [],
   "source": [
    "def func1(*args):\n",
    "    for i in args:\n",
    "        print(i)\n",
    "    "
   ]
  },
  {
   "cell_type": "code",
   "execution_count": 208,
   "id": "31ba7fe7",
   "metadata": {},
   "outputs": [
    {
     "name": "stdout",
     "output_type": "stream",
     "text": [
      "25\n",
      "26\n",
      "27\n",
      "28\n"
     ]
    }
   ],
   "source": [
    "func1(25,26,27,28)"
   ]
  },
  {
   "cell_type": "code",
   "execution_count": 209,
   "id": "b62f84e0",
   "metadata": {},
   "outputs": [
    {
     "name": "stdout",
     "output_type": "stream",
     "text": [
      "20\n",
      "40\n",
      "60\n"
     ]
    }
   ],
   "source": [
    "func1(20, 40, 60)"
   ]
  },
  {
   "cell_type": "code",
   "execution_count": 210,
   "id": "e9bd2a9e",
   "metadata": {},
   "outputs": [
    {
     "name": "stdout",
     "output_type": "stream",
     "text": [
      "80\n",
      "100\n"
     ]
    }
   ],
   "source": [
    "func1(80, 100)"
   ]
  },
  {
   "cell_type": "code",
   "execution_count": 211,
   "id": "6538199e",
   "metadata": {},
   "outputs": [],
   "source": [
    "def calculation(a,b):\n",
    "    return a+b, a-b, a*b, a/b, a//b"
   ]
  },
  {
   "cell_type": "code",
   "execution_count": 214,
   "id": "32559aaf",
   "metadata": {},
   "outputs": [],
   "source": [
    "d,f,g,h,j = calculation(40,10)"
   ]
  },
  {
   "cell_type": "code",
   "execution_count": 215,
   "id": "6273b592",
   "metadata": {},
   "outputs": [
    {
     "data": {
      "text/plain": [
       "30"
      ]
     },
     "execution_count": 215,
     "metadata": {},
     "output_type": "execute_result"
    }
   ],
   "source": [
    "f"
   ]
  },
  {
   "cell_type": "code",
   "execution_count": 216,
   "id": "f1c4b214",
   "metadata": {},
   "outputs": [
    {
     "data": {
      "text/plain": [
       "400"
      ]
     },
     "execution_count": 216,
     "metadata": {},
     "output_type": "execute_result"
    }
   ],
   "source": [
    "\n",
    "g"
   ]
  },
  {
   "cell_type": "code",
   "execution_count": 217,
   "id": "ae31e230",
   "metadata": {},
   "outputs": [
    {
     "data": {
      "text/plain": [
       "50"
      ]
     },
     "execution_count": 217,
     "metadata": {},
     "output_type": "execute_result"
    }
   ],
   "source": [
    "d"
   ]
  },
  {
   "cell_type": "code",
   "execution_count": 1,
   "id": "b9bcab90",
   "metadata": {},
   "outputs": [],
   "source": [
    "def show_employee(employeesname , salary = 9000):\n",
    "    print(employeesname, salary)\n",
    "    "
   ]
  },
  {
   "cell_type": "code",
   "execution_count": 2,
   "id": "c2ad4270",
   "metadata": {},
   "outputs": [
    {
     "name": "stdout",
     "output_type": "stream",
     "text": [
      "Ben 12000\n"
     ]
    }
   ],
   "source": [
    "show_employee(\"Ben\", 12000)\n"
   ]
  },
  {
   "cell_type": "code",
   "execution_count": 3,
   "id": "ef2a7b93",
   "metadata": {},
   "outputs": [
    {
     "name": "stdout",
     "output_type": "stream",
     "text": [
      "Jessa 9000\n"
     ]
    }
   ],
   "source": [
    "show_employee(\"Jessa\")"
   ]
  },
  {
   "cell_type": "code",
   "execution_count": 7,
   "id": "6bcb5fba",
   "metadata": {},
   "outputs": [],
   "source": [
    "def out_func(a,b):\n",
    "    #square = a**2\n",
    "    \n",
    "    def inner_func(a,b):\n",
    "        return a+b\n",
    "    \n",
    "    add = inner_func(a,b)\n",
    "    return add+5"
   ]
  },
  {
   "cell_type": "code",
   "execution_count": 8,
   "id": "5e0acddd",
   "metadata": {},
   "outputs": [
    {
     "data": {
      "text/plain": [
       "20"
      ]
     },
     "execution_count": 8,
     "metadata": {},
     "output_type": "execute_result"
    }
   ],
   "source": [
    "out_func(5,10)"
   ]
  },
  {
   "cell_type": "code",
   "execution_count": 9,
   "id": "6076e784",
   "metadata": {},
   "outputs": [],
   "source": [
    "def addition(num):\n",
    "    if num:\n",
    "        return num + addition(num-1)\n",
    "    else:\n",
    "        return 0"
   ]
  },
  {
   "cell_type": "code",
   "execution_count": 12,
   "id": "a3d7e00f",
   "metadata": {},
   "outputs": [
    {
     "name": "stdout",
     "output_type": "stream",
     "text": [
      "55\n"
     ]
    }
   ],
   "source": [
    "res  = addition(10)\n",
    "print(res)"
   ]
  },
  {
   "cell_type": "code",
   "execution_count": 14,
   "id": "6d6c0b74",
   "metadata": {},
   "outputs": [
    {
     "data": {
      "text/plain": [
       "15"
      ]
     },
     "execution_count": 14,
     "metadata": {},
     "output_type": "execute_result"
    }
   ],
   "source": [
    "addition(5)"
   ]
  },
  {
   "cell_type": "code",
   "execution_count": 15,
   "id": "d2d4ede7",
   "metadata": {},
   "outputs": [],
   "source": [
    "def display_student(name,age):\n",
    "    print(name, age)"
   ]
  },
  {
   "cell_type": "code",
   "execution_count": 16,
   "id": "83da286d",
   "metadata": {},
   "outputs": [
    {
     "name": "stdout",
     "output_type": "stream",
     "text": [
      "manoj 25\n"
     ]
    }
   ],
   "source": [
    "display_student('manoj', 25)"
   ]
  },
  {
   "cell_type": "code",
   "execution_count": 19,
   "id": "db7a8eb1",
   "metadata": {},
   "outputs": [],
   "source": [
    "new_name_function = display_student"
   ]
  },
  {
   "cell_type": "code",
   "execution_count": 20,
   "id": "9096ed16",
   "metadata": {},
   "outputs": [
    {
     "name": "stdout",
     "output_type": "stream",
     "text": [
      "manoj 26\n"
     ]
    }
   ],
   "source": [
    "new_name_function('manoj', 26)"
   ]
  },
  {
   "cell_type": "code",
   "execution_count": 21,
   "id": "3dce7040",
   "metadata": {},
   "outputs": [],
   "source": [
    "def list_even(a,b):\n",
    "    if a>=4 and b<=31:\n",
    "        for i in range(a,b,2):\n",
    "            print(i)\n",
    "    else:\n",
    "        pass"
   ]
  },
  {
   "cell_type": "code",
   "execution_count": 22,
   "id": "a5bb6f92",
   "metadata": {},
   "outputs": [],
   "source": [
    "list_even(2,36)"
   ]
  },
  {
   "cell_type": "code",
   "execution_count": 25,
   "id": "7ff6ef04",
   "metadata": {},
   "outputs": [
    {
     "data": {
      "text/plain": [
       "[4, 6, 8, 10, 12, 14, 16, 18, 20, 22, 24, 26, 28]"
      ]
     },
     "execution_count": 25,
     "metadata": {},
     "output_type": "execute_result"
    }
   ],
   "source": [
    "list(range(4,30,2))"
   ]
  },
  {
   "cell_type": "code",
   "execution_count": 26,
   "id": "ccdf1872",
   "metadata": {},
   "outputs": [],
   "source": [
    "x = [4, 6, 8, 24, 12, 2]"
   ]
  },
  {
   "cell_type": "code",
   "execution_count": 27,
   "id": "565c401e",
   "metadata": {},
   "outputs": [],
   "source": [
    "import numpy as np"
   ]
  },
  {
   "cell_type": "code",
   "execution_count": 28,
   "id": "6af00fd2",
   "metadata": {},
   "outputs": [
    {
     "data": {
      "text/plain": [
       "24"
      ]
     },
     "execution_count": 28,
     "metadata": {},
     "output_type": "execute_result"
    }
   ],
   "source": [
    "np.max(x)"
   ]
  },
  {
   "cell_type": "code",
   "execution_count": 29,
   "id": "e8b31f30",
   "metadata": {},
   "outputs": [
    {
     "data": {
      "text/plain": [
       "24"
      ]
     },
     "execution_count": 29,
     "metadata": {},
     "output_type": "execute_result"
    }
   ],
   "source": [
    "max(x)"
   ]
  },
  {
   "cell_type": "code",
   "execution_count": 30,
   "id": "d781b0aa",
   "metadata": {},
   "outputs": [],
   "source": [
    "def outer(a,b):\n",
    "    def inner(c,d):\n",
    "        return c+d\n",
    "    \n",
    "    return inner(a,b)\n",
    "    return a\n",
    "    "
   ]
  },
  {
   "cell_type": "code",
   "execution_count": 33,
   "id": "277b7118",
   "metadata": {},
   "outputs": [
    {
     "data": {
      "text/plain": [
       "15"
      ]
     },
     "execution_count": 33,
     "metadata": {},
     "output_type": "execute_result"
    }
   ],
   "source": [
    "outer(5,10)"
   ]
  },
  {
   "cell_type": "code",
   "execution_count": 32,
   "id": "a9c71601",
   "metadata": {},
   "outputs": [
    {
     "name": "stdout",
     "output_type": "stream",
     "text": [
      "15\n"
     ]
    }
   ],
   "source": [
    "def outer_fun(a, b):\n",
    "    def inner_fun(c, d):\n",
    "        return c + d\n",
    "\n",
    "    return inner_fun(a, b)\n",
    "    return a\n",
    "\n",
    "result = outer_fun(5, 10)\n",
    "print(result)"
   ]
  },
  {
   "cell_type": "code",
   "execution_count": 34,
   "id": "765673d9",
   "metadata": {},
   "outputs": [
    {
     "name": "stdout",
     "output_type": "stream",
     "text": [
      "emp\n",
      "salary\n"
     ]
    }
   ],
   "source": [
    "def display(**kwargs):\n",
    "    for i in kwargs:\n",
    "        print(i)\n",
    "\n",
    "display(emp=\"Kelly\", salary=9000)"
   ]
  },
  {
   "cell_type": "code",
   "execution_count": 35,
   "id": "2529b8f1",
   "metadata": {},
   "outputs": [
    {
     "name": "stdout",
     "output_type": "stream",
     "text": [
      "15\n"
     ]
    }
   ],
   "source": [
    "def outer_fun(a, b):\n",
    "    def inner_fun(c, d):\n",
    "        return c + d\n",
    "    return inner_fun(a, b)\n",
    "\n",
    "res = outer_fun(5, 10)\n",
    "print(res)"
   ]
  },
  {
   "cell_type": "code",
   "execution_count": 38,
   "id": "d6a9dd25",
   "metadata": {},
   "outputs": [
    {
     "ename": "NameError",
     "evalue": "name 'num' is not defined",
     "output_type": "error",
     "traceback": [
      "\u001b[1;31m---------------------------------------------------------------------------\u001b[0m",
      "\u001b[1;31mNameError\u001b[0m                                 Traceback (most recent call last)",
      "Input \u001b[1;32mIn [38]\u001b[0m, in \u001b[0;36m<cell line: 5>\u001b[1;34m()\u001b[0m\n\u001b[0;32m      2\u001b[0m     \u001b[38;5;28;01mreturn\u001b[39;00m num \u001b[38;5;241m+\u001b[39m \u001b[38;5;241m25\u001b[39m\n\u001b[0;32m      4\u001b[0m fun1(\u001b[38;5;241m5\u001b[39m)\n\u001b[1;32m----> 5\u001b[0m \u001b[38;5;28mprint\u001b[39m(\u001b[43mnum\u001b[49m)\n",
      "\u001b[1;31mNameError\u001b[0m: name 'num' is not defined"
     ]
    }
   ],
   "source": [
    "def fun1(num):\n",
    "    return num + 25\n",
    "\n",
    "fun1(5)\n",
    "print(num)"
   ]
  },
  {
   "cell_type": "code",
   "execution_count": 39,
   "id": "24b01dc5",
   "metadata": {},
   "outputs": [
    {
     "ename": "TypeError",
     "evalue": "display_person() got an unexpected keyword argument 'name'",
     "output_type": "error",
     "traceback": [
      "\u001b[1;31m---------------------------------------------------------------------------\u001b[0m",
      "\u001b[1;31mTypeError\u001b[0m                                 Traceback (most recent call last)",
      "Input \u001b[1;32mIn [39]\u001b[0m, in \u001b[0;36m<cell line: 5>\u001b[1;34m()\u001b[0m\n\u001b[0;32m      2\u001b[0m     \u001b[38;5;28;01mfor\u001b[39;00m i \u001b[38;5;129;01min\u001b[39;00m args:\n\u001b[0;32m      3\u001b[0m         \u001b[38;5;28mprint\u001b[39m(i)\n\u001b[1;32m----> 5\u001b[0m \u001b[43mdisplay_person\u001b[49m\u001b[43m(\u001b[49m\u001b[43mname\u001b[49m\u001b[38;5;241;43m=\u001b[39;49m\u001b[38;5;124;43m\"\u001b[39;49m\u001b[38;5;124;43mEmma\u001b[39;49m\u001b[38;5;124;43m\"\u001b[39;49m\u001b[43m,\u001b[49m\u001b[43m \u001b[49m\u001b[43mage\u001b[49m\u001b[38;5;241;43m=\u001b[39;49m\u001b[38;5;124;43m\"\u001b[39;49m\u001b[38;5;124;43m25\u001b[39;49m\u001b[38;5;124;43m\"\u001b[39;49m\u001b[43m)\u001b[49m\n",
      "\u001b[1;31mTypeError\u001b[0m: display_person() got an unexpected keyword argument 'name'"
     ]
    }
   ],
   "source": [
    "def display_person(*args):\n",
    "    for i in args:\n",
    "        print(i)\n",
    "\n",
    "display_person(name=\"Emma\", age=\"25\")"
   ]
  },
  {
   "cell_type": "code",
   "execution_count": 6,
   "id": "fb29de8c",
   "metadata": {},
   "outputs": [
    {
     "name": "stdout",
     "output_type": "stream",
     "text": [
      "10\n",
      "11\n",
      "12\n",
      "13\n"
     ]
    }
   ],
   "source": [
    "for num in range(10, 14):\n",
    "   for i in range(2, num):\n",
    "       if num%i == 1:\n",
    "          print(num)\n",
    "          break"
   ]
  },
  {
   "cell_type": "code",
   "execution_count": 9,
   "id": "0333d680",
   "metadata": {},
   "outputs": [
    {
     "data": {
      "text/plain": [
       "[2, 1, 0, -1, -2, -3, -4]"
      ]
     },
     "execution_count": 9,
     "metadata": {},
     "output_type": "execute_result"
    }
   ],
   "source": [
    "list(range(2,-5,-1))"
   ]
  },
  {
   "cell_type": "code",
   "execution_count": 10,
   "id": "710cf539",
   "metadata": {},
   "outputs": [
    {
     "name": "stdout",
     "output_type": "stream",
     "text": [
      "21\n"
     ]
    }
   ],
   "source": [
    "var = 10\n",
    "for i in range(10):\n",
    "    for j in range(2, 10, 1):\n",
    "        if var % 2 == 0:\n",
    "            continue\n",
    "            var += 1\n",
    "    var+=1\n",
    "else:\n",
    "    var+=1\n",
    "print(var)"
   ]
  },
  {
   "cell_type": "code",
   "execution_count": 13,
   "id": "3ae6e110",
   "metadata": {},
   "outputs": [
    {
     "data": {
      "text/plain": [
       "[-2, -3, -4]"
      ]
     },
     "execution_count": 13,
     "metadata": {},
     "output_type": "execute_result"
    }
   ],
   "source": [
    "list(range(-2,-5,-1))"
   ]
  },
  {
   "cell_type": "code",
   "execution_count": 14,
   "id": "1f399e4d",
   "metadata": {},
   "outputs": [
    {
     "name": "stdout",
     "output_type": "stream",
     "text": [
      "J, h, o, n, "
     ]
    }
   ],
   "source": [
    "for l in 'Jhon':\n",
    "   if l == 'o':\n",
    "      pass\n",
    "   print(l, end=\", \")"
   ]
  },
  {
   "cell_type": "code",
   "execution_count": 15,
   "id": "950c0e7e",
   "metadata": {},
   "outputs": [
    {
     "name": "stdout",
     "output_type": "stream",
     "text": [
      "1\n",
      "2\n",
      "3\n",
      "4\n",
      "5\n",
      "6\n",
      "7\n",
      "8\n",
      "9\n",
      "10\n",
      "11\n",
      "12\n",
      "13\n",
      "14\n",
      "15\n",
      "16\n",
      "17\n",
      "18\n",
      "19\n",
      "20\n",
      "21\n",
      "22\n",
      "23\n",
      "24\n",
      "25\n",
      "26\n",
      "27\n",
      "28\n",
      "29\n",
      "30\n",
      "31\n",
      "32\n",
      "33\n",
      "34\n",
      "35\n",
      "36\n",
      "37\n",
      "38\n",
      "39\n",
      "40\n",
      "41\n",
      "42\n",
      "43\n",
      "44\n",
      "45\n",
      "46\n",
      "47\n",
      "48\n",
      "49\n",
      "50\n",
      "51\n",
      "52\n",
      "53\n",
      "54\n",
      "55\n",
      "56\n",
      "57\n",
      "58\n",
      "59\n",
      "60\n",
      "61\n",
      "62\n",
      "63\n",
      "64\n",
      "65\n",
      "66\n",
      "67\n",
      "68\n",
      "69\n",
      "70\n",
      "71\n",
      "72\n",
      "73\n",
      "74\n",
      "75\n",
      "76\n",
      "77\n",
      "78\n",
      "79\n",
      "80\n",
      "81\n",
      "82\n",
      "83\n",
      "84\n",
      "85\n",
      "86\n",
      "87\n",
      "88\n",
      "89\n",
      "90\n"
     ]
    }
   ],
   "source": [
    "x = 0\n",
    "for i in range(10):\n",
    "  for j in range(-1, -10, -1):\n",
    "    x += 1\n",
    "    print(x)"
   ]
  },
  {
   "cell_type": "code",
   "execution_count": 16,
   "id": "65c4ac2a",
   "metadata": {},
   "outputs": [
    {
     "data": {
      "text/plain": [
       "[0, 1, 2, 3, 4, 5, 6, 7, 8, 9]"
      ]
     },
     "execution_count": 16,
     "metadata": {},
     "output_type": "execute_result"
    }
   ],
   "source": [
    "list(range(10))"
   ]
  },
  {
   "cell_type": "code",
   "execution_count": 17,
   "id": "803aa395",
   "metadata": {},
   "outputs": [
    {
     "name": "stdout",
     "output_type": "stream",
     "text": [
      "True\n"
     ]
    }
   ],
   "source": [
    "a, b = 12, 5\n",
    "if a + b:\n",
    "    print('True')\n",
    "else:\n",
    "  print('False')"
   ]
  },
  {
   "cell_type": "code",
   "execution_count": 18,
   "id": "394a1fa6",
   "metadata": {},
   "outputs": [
    {
     "ename": "SyntaxError",
     "evalue": "invalid syntax (3995538411.py, line 1)",
     "output_type": "error",
     "traceback": [
      "\u001b[1;36m  Input \u001b[1;32mIn [18]\u001b[1;36m\u001b[0m\n\u001b[1;33m    if -3\u001b[0m\n\u001b[1;37m         ^\u001b[0m\n\u001b[1;31mSyntaxError\u001b[0m\u001b[1;31m:\u001b[0m invalid syntax\n"
     ]
    }
   ],
   "source": [
    "if -3"
   ]
  },
  {
   "cell_type": "code",
   "execution_count": 19,
   "id": "c63e378e",
   "metadata": {},
   "outputs": [
    {
     "ename": "SyntaxError",
     "evalue": "invalid syntax (3995538411.py, line 1)",
     "output_type": "error",
     "traceback": [
      "\u001b[1;36m  Input \u001b[1;32mIn [19]\u001b[1;36m\u001b[0m\n\u001b[1;33m    if -3\u001b[0m\n\u001b[1;37m         ^\u001b[0m\n\u001b[1;31mSyntaxError\u001b[0m\u001b[1;31m:\u001b[0m invalid syntax\n"
     ]
    }
   ],
   "source": [
    "if -3"
   ]
  },
  {
   "cell_type": "code",
   "execution_count": 20,
   "id": "67b4096e",
   "metadata": {},
   "outputs": [
    {
     "name": "stdout",
     "output_type": "stream",
     "text": [
      "100\n"
     ]
    }
   ],
   "source": [
    "x = 0\n",
    "while (x < 100):\n",
    "  x+=2\n",
    "print(x)"
   ]
  },
  {
   "cell_type": "code",
   "execution_count": 21,
   "id": "9ade6bc1",
   "metadata": {},
   "outputs": [],
   "source": [
    "x = -5j"
   ]
  },
  {
   "cell_type": "code",
   "execution_count": 22,
   "id": "c9b0e78b",
   "metadata": {},
   "outputs": [
    {
     "data": {
      "text/plain": [
       "complex"
      ]
     },
     "execution_count": 22,
     "metadata": {},
     "output_type": "execute_result"
    }
   ],
   "source": [
    "type(x)"
   ]
  },
  {
   "cell_type": "code",
   "execution_count": 23,
   "id": "ec07e9e8",
   "metadata": {},
   "outputs": [
    {
     "name": "stdout",
     "output_type": "stream",
     "text": [
      "253\n",
      "252\n"
     ]
    }
   ],
   "source": [
    "import math\n",
    "print(math.ceil(252.4))\n",
    "print(math.floor(252.4))"
   ]
  },
  {
   "cell_type": "code",
   "execution_count": 24,
   "id": "ac1c1eca",
   "metadata": {},
   "outputs": [],
   "source": [
    "z = complex(1.25)"
   ]
  },
  {
   "cell_type": "code",
   "execution_count": 25,
   "id": "2cd561d3",
   "metadata": {},
   "outputs": [
    {
     "data": {
      "text/plain": [
       "(1.25+0j)"
      ]
     },
     "execution_count": 25,
     "metadata": {},
     "output_type": "execute_result"
    }
   ],
   "source": [
    "z"
   ]
  },
  {
   "cell_type": "code",
   "execution_count": 26,
   "id": "1bad0fed",
   "metadata": {},
   "outputs": [
    {
     "name": "stdout",
     "output_type": "stream",
     "text": [
      "100.256\n",
      "100.0\n"
     ]
    }
   ],
   "source": [
    "print(round(100.2563, 3))\n",
    "print(round(100.000056, 3))"
   ]
  },
  {
   "cell_type": "code",
   "execution_count": 28,
   "id": "055725a6",
   "metadata": {},
   "outputs": [],
   "source": [
    "a = 10.1256\n",
    "b = -10.5\n",
    "c = 42e3\n",
    "d = -68.7e100"
   ]
  },
  {
   "cell_type": "code",
   "execution_count": 29,
   "id": "68f311be",
   "metadata": {},
   "outputs": [
    {
     "data": {
      "text/plain": [
       "float"
      ]
     },
     "execution_count": 29,
     "metadata": {},
     "output_type": "execute_result"
    }
   ],
   "source": [
    "type(a)"
   ]
  },
  {
   "cell_type": "code",
   "execution_count": 30,
   "id": "db4f8de8",
   "metadata": {},
   "outputs": [
    {
     "data": {
      "text/plain": [
       "float"
      ]
     },
     "execution_count": 30,
     "metadata": {},
     "output_type": "execute_result"
    }
   ],
   "source": [
    "type(b)"
   ]
  },
  {
   "cell_type": "code",
   "execution_count": 31,
   "id": "13c42773",
   "metadata": {},
   "outputs": [
    {
     "data": {
      "text/plain": [
       "float"
      ]
     },
     "execution_count": 31,
     "metadata": {},
     "output_type": "execute_result"
    }
   ],
   "source": [
    "type(c)"
   ]
  },
  {
   "cell_type": "code",
   "execution_count": 32,
   "id": "1eef7af4",
   "metadata": {},
   "outputs": [
    {
     "data": {
      "text/plain": [
       "float"
      ]
     },
     "execution_count": 32,
     "metadata": {},
     "output_type": "execute_result"
    }
   ],
   "source": [
    "type(d)"
   ]
  },
  {
   "cell_type": "code",
   "execution_count": 35,
   "id": "a63a6442",
   "metadata": {},
   "outputs": [
    {
     "data": {
      "text/plain": [
       "int"
      ]
     },
     "execution_count": 35,
     "metadata": {},
     "output_type": "execute_result"
    }
   ],
   "source": [
    "type(-2147483648 )"
   ]
  },
  {
   "cell_type": "code",
   "execution_count": 36,
   "id": "27888f75",
   "metadata": {},
   "outputs": [
    {
     "name": "stdout",
     "output_type": "stream",
     "text": [
      "5\n",
      "8\n",
      "31\n"
     ]
    }
   ],
   "source": [
    "print(0b101)\n",
    "print(0o10)\n",
    "print(0x1F)"
   ]
  },
  {
   "cell_type": "code",
   "execution_count": 37,
   "id": "19413965",
   "metadata": {},
   "outputs": [
    {
     "name": "stdout",
     "output_type": "stream",
     "text": [
      "False\n"
     ]
    }
   ],
   "source": [
    "print( (1.1 + 2.2) == 3.3 )"
   ]
  },
  {
   "cell_type": "code",
   "execution_count": 38,
   "id": "a0e22eec",
   "metadata": {},
   "outputs": [
    {
     "name": "stdout",
     "output_type": "stream",
     "text": [
      "2\n"
     ]
    }
   ],
   "source": [
    "print(int(2.999))"
   ]
  },
  {
   "cell_type": "code",
   "execution_count": 42,
   "id": "241990e2",
   "metadata": {},
   "outputs": [
    {
     "data": {
      "text/plain": [
       "str"
      ]
     },
     "execution_count": 42,
     "metadata": {},
     "output_type": "execute_result"
    }
   ],
   "source": [
    "type(ascii('char'))"
   ]
  },
  {
   "cell_type": "code",
   "execution_count": 43,
   "id": "8301e165",
   "metadata": {},
   "outputs": [
    {
     "data": {
      "text/plain": [
       "'5'"
      ]
     },
     "execution_count": 43,
     "metadata": {},
     "output_type": "execute_result"
    }
   ],
   "source": [
    "ascii(5)"
   ]
  },
  {
   "cell_type": "code",
   "execution_count": 44,
   "id": "a0439f7d",
   "metadata": {},
   "outputs": [],
   "source": [
    "str1 = \"PYnative\""
   ]
  },
  {
   "cell_type": "code",
   "execution_count": 46,
   "id": "573121df",
   "metadata": {},
   "outputs": [
    {
     "data": {
      "text/plain": [
       "'PYnativ'"
      ]
     },
     "execution_count": 46,
     "metadata": {},
     "output_type": "execute_result"
    }
   ],
   "source": [
    "str1[:-1]"
   ]
  },
  {
   "cell_type": "code",
   "execution_count": 47,
   "id": "c8ffeb4d",
   "metadata": {},
   "outputs": [
    {
     "name": "stdout",
     "output_type": "stream",
     "text": [
      "6\n"
     ]
    }
   ],
   "source": [
    "str1 = \"my isname isisis jameis isis bond\";\n",
    "sub = \"is\";\n",
    "print(str1.count(sub, 4))"
   ]
  },
  {
   "cell_type": "code",
   "execution_count": 48,
   "id": "52af24d9",
   "metadata": {},
   "outputs": [],
   "source": [
    "e = l"
   ]
  },
  {
   "cell_type": "code",
   "execution_count": 49,
   "id": "2773acc7",
   "metadata": {},
   "outputs": [
    {
     "data": {
      "text/plain": [
       "str"
      ]
     },
     "execution_count": 49,
     "metadata": {},
     "output_type": "execute_result"
    }
   ],
   "source": [
    "type(e)"
   ]
  },
  {
   "cell_type": "code",
   "execution_count": 54,
   "id": "9cffcbb1",
   "metadata": {},
   "outputs": [
    {
     "name": "stdout",
     "output_type": "stream",
     "text": [
      "False\n"
     ]
    }
   ],
   "source": [
    "str = \"My salary is 7000f\"\n",
    "print(str.isalnum())"
   ]
  },
  {
   "cell_type": "code",
   "execution_count": 55,
   "id": "1f85156e",
   "metadata": {},
   "outputs": [
    {
     "data": {
      "text/plain": [
       "False"
      ]
     },
     "execution_count": 55,
     "metadata": {},
     "output_type": "execute_result"
    }
   ],
   "source": [
    "str.isalnum()"
   ]
  },
  {
   "cell_type": "code",
   "execution_count": 56,
   "id": "1c9c2200",
   "metadata": {},
   "outputs": [],
   "source": [
    "f = \"15jk\""
   ]
  },
  {
   "cell_type": "code",
   "execution_count": 57,
   "id": "f6cd2197",
   "metadata": {},
   "outputs": [
    {
     "data": {
      "text/plain": [
       "True"
      ]
     },
     "execution_count": 57,
     "metadata": {},
     "output_type": "execute_result"
    }
   ],
   "source": [
    "f.isalnum()"
   ]
  },
  {
   "cell_type": "code",
   "execution_count": 58,
   "id": "e6638725",
   "metadata": {},
   "outputs": [
    {
     "ename": "TypeError",
     "evalue": "'str' object is not callable",
     "output_type": "error",
     "traceback": [
      "\u001b[1;31m---------------------------------------------------------------------------\u001b[0m",
      "\u001b[1;31mTypeError\u001b[0m                                 Traceback (most recent call last)",
      "Input \u001b[1;32mIn [58]\u001b[0m, in \u001b[0;36m<cell line: 1>\u001b[1;34m()\u001b[0m\n\u001b[1;32m----> 1\u001b[0m strOne \u001b[38;5;241m=\u001b[39m \u001b[38;5;28;43mstr\u001b[39;49m\u001b[43m(\u001b[49m\u001b[38;5;124;43m\"\u001b[39;49m\u001b[38;5;124;43mpynative\u001b[39;49m\u001b[38;5;124;43m\"\u001b[39;49m\u001b[43m)\u001b[49m\n\u001b[0;32m      2\u001b[0m strTwo \u001b[38;5;241m=\u001b[39m \u001b[38;5;124m\"\u001b[39m\u001b[38;5;124mpynative\u001b[39m\u001b[38;5;124m\"\u001b[39m\n\u001b[0;32m      3\u001b[0m \u001b[38;5;28mprint\u001b[39m(strOne \u001b[38;5;241m==\u001b[39m strTwo)\n",
      "\u001b[1;31mTypeError\u001b[0m: 'str' object is not callable"
     ]
    }
   ],
   "source": [
    "strOne = str(\"pynative\")\n",
    "strTwo = \"pynative\"\n",
    "print(strOne == strTwo)\n",
    "print(strOne is strTwo)"
   ]
  },
  {
   "cell_type": "code",
   "execution_count": 59,
   "id": "08085828",
   "metadata": {},
   "outputs": [
    {
     "ename": "TypeError",
     "evalue": "'str' object is not callable",
     "output_type": "error",
     "traceback": [
      "\u001b[1;31m---------------------------------------------------------------------------\u001b[0m",
      "\u001b[1;31mTypeError\u001b[0m                                 Traceback (most recent call last)",
      "Input \u001b[1;32mIn [59]\u001b[0m, in \u001b[0;36m<cell line: 1>\u001b[1;34m()\u001b[0m\n\u001b[1;32m----> 1\u001b[0m strOne \u001b[38;5;241m=\u001b[39m \u001b[38;5;28;43mstr\u001b[39;49m\u001b[43m(\u001b[49m\u001b[38;5;124;43m\"\u001b[39;49m\u001b[38;5;124;43mpynative\u001b[39;49m\u001b[38;5;124;43m\"\u001b[39;49m\u001b[43m)\u001b[49m\n",
      "\u001b[1;31mTypeError\u001b[0m: 'str' object is not callable"
     ]
    }
   ],
   "source": [
    "strOne = str(\"pynative\")"
   ]
  },
  {
   "cell_type": "code",
   "execution_count": 60,
   "id": "49d01432",
   "metadata": {},
   "outputs": [
    {
     "data": {
      "text/plain": [
       "112"
      ]
     },
     "execution_count": 60,
     "metadata": {},
     "output_type": "execute_result"
    }
   ],
   "source": [
    "ord('p')"
   ]
  },
  {
   "cell_type": "code",
   "execution_count": 61,
   "id": "89c7ca45",
   "metadata": {},
   "outputs": [
    {
     "name": "stdout",
     "output_type": "stream",
     "text": [
      "True\n",
      "False\n"
     ]
    }
   ],
   "source": [
    "print(\"John\" > \"Jhon\")\n",
    "print(\"Emma\" < \"Emm\")"
   ]
  },
  {
   "cell_type": "code",
   "execution_count": 62,
   "id": "040b99a7",
   "metadata": {},
   "outputs": [
    {
     "data": {
      "text/plain": [
       "'\\x05'"
      ]
     },
     "execution_count": 62,
     "metadata": {},
     "output_type": "execute_result"
    }
   ],
   "source": [
    "chr(5)"
   ]
  },
  {
   "cell_type": "code",
   "execution_count": 63,
   "id": "4e7de000",
   "metadata": {},
   "outputs": [
    {
     "data": {
      "text/plain": [
       "112"
      ]
     },
     "execution_count": 63,
     "metadata": {},
     "output_type": "execute_result"
    }
   ],
   "source": [
    "ord('p')"
   ]
  },
  {
   "cell_type": "code",
   "execution_count": 64,
   "id": "24a4e305",
   "metadata": {},
   "outputs": [
    {
     "data": {
      "text/plain": [
       "'p'"
      ]
     },
     "execution_count": 64,
     "metadata": {},
     "output_type": "execute_result"
    }
   ],
   "source": [
    "chr(112)"
   ]
  },
  {
   "cell_type": "code",
   "execution_count": 65,
   "id": "d3db084c",
   "metadata": {},
   "outputs": [
    {
     "ename": "TypeError",
     "evalue": "'str' object is not callable",
     "output_type": "error",
     "traceback": [
      "\u001b[1;31m---------------------------------------------------------------------------\u001b[0m",
      "\u001b[1;31mTypeError\u001b[0m                                 Traceback (most recent call last)",
      "Input \u001b[1;32mIn [65]\u001b[0m, in \u001b[0;36m<cell line: 1>\u001b[1;34m()\u001b[0m\n\u001b[1;32m----> 1\u001b[0m strOne \u001b[38;5;241m=\u001b[39m \u001b[38;5;28;43mstr\u001b[39;49m\u001b[43m(\u001b[49m\u001b[38;5;124;43m\"\u001b[39;49m\u001b[38;5;124;43mpynative\u001b[39;49m\u001b[38;5;124;43m\"\u001b[39;49m\u001b[43m)\u001b[49m\n\u001b[0;32m      2\u001b[0m strTwo \u001b[38;5;241m=\u001b[39m \u001b[38;5;124m\"\u001b[39m\u001b[38;5;124mpynative\u001b[39m\u001b[38;5;124m\"\u001b[39m\n\u001b[0;32m      3\u001b[0m \u001b[38;5;28mprint\u001b[39m(strOne \u001b[38;5;241m==\u001b[39m strTwo)\n",
      "\u001b[1;31mTypeError\u001b[0m: 'str' object is not callable"
     ]
    }
   ],
   "source": [
    "strOne = str(\"pynative\")\n",
    "strTwo = \"pynative\"\n",
    "print(strOne == strTwo)\n",
    "print(strOne is strTwo)"
   ]
  },
  {
   "cell_type": "code",
   "execution_count": 72,
   "id": "cbfc16de",
   "metadata": {},
   "outputs": [
    {
     "name": "stdout",
     "output_type": "stream",
     "text": [
      "[5, 15]\n"
     ]
    }
   ],
   "source": [
    "aList = [5, 10, 15, 25]\n",
    "print(aList[::2])"
   ]
  },
  {
   "cell_type": "code",
   "execution_count": 70,
   "id": "bd1f8f85",
   "metadata": {},
   "outputs": [
    {
     "data": {
      "text/plain": [
       "[25, 10]"
      ]
     },
     "execution_count": 70,
     "metadata": {},
     "output_type": "execute_result"
    }
   ],
   "source": [
    "aList[::-2]"
   ]
  },
  {
   "cell_type": "code",
   "execution_count": 73,
   "id": "1a0a4ebf",
   "metadata": {},
   "outputs": [
    {
     "name": "stdout",
     "output_type": "stream",
     "text": [
      "zara\n"
     ]
    }
   ],
   "source": [
    "list1 = ['xyz', 'zara', 'PYnative']\n",
    "print (max(list1))"
   ]
  },
  {
   "cell_type": "code",
   "execution_count": 74,
   "id": "5fccf9a8",
   "metadata": {},
   "outputs": [
    {
     "name": "stdout",
     "output_type": "stream",
     "text": [
      "[10, 20, 30, 40, 50, 60]\n",
      "[10, 20, 30, 40, 50, 60, 60]\n"
     ]
    }
   ],
   "source": [
    "sampleList = [10, 20, 30, 40, 50]\n",
    "sampleList.append(60)\n",
    "print(sampleList)\n",
    "\n",
    "sampleList.append(60)\n",
    "print(sampleList)"
   ]
  },
  {
   "cell_type": "code",
   "execution_count": 75,
   "id": "d8174615",
   "metadata": {},
   "outputs": [
    {
     "name": "stdout",
     "output_type": "stream",
     "text": [
      "40\n",
      "[20, 30, 40]\n"
     ]
    }
   ],
   "source": [
    "sampleList = [10, 20, 30, 40, 50]\n",
    "print(sampleList[-2])\n",
    "print(sampleList[-4:-1])"
   ]
  },
  {
   "cell_type": "code",
   "execution_count": 82,
   "id": "ce2a0d59",
   "metadata": {},
   "outputs": [],
   "source": [
    "aList = ['a', 'b', 'c', 'd']"
   ]
  },
  {
   "cell_type": "code",
   "execution_count": 77,
   "id": "56665d69",
   "metadata": {},
   "outputs": [
    {
     "ename": "TypeError",
     "evalue": "copy() takes no arguments (1 given)",
     "output_type": "error",
     "traceback": [
      "\u001b[1;31m---------------------------------------------------------------------------\u001b[0m",
      "\u001b[1;31mTypeError\u001b[0m                                 Traceback (most recent call last)",
      "Input \u001b[1;32mIn [77]\u001b[0m, in \u001b[0;36m<cell line: 2>\u001b[1;34m()\u001b[0m\n\u001b[0;32m      1\u001b[0m newlist \u001b[38;5;241m=\u001b[39m []\n\u001b[1;32m----> 2\u001b[0m \u001b[43mnewlist\u001b[49m\u001b[38;5;241;43m.\u001b[39;49m\u001b[43mcopy\u001b[49m\u001b[43m(\u001b[49m\u001b[43maList\u001b[49m\u001b[43m)\u001b[49m\n",
      "\u001b[1;31mTypeError\u001b[0m: copy() takes no arguments (1 given)"
     ]
    }
   ],
   "source": [
    "newlist = []\n",
    "newlist.copy(aList)"
   ]
  },
  {
   "cell_type": "code",
   "execution_count": 78,
   "id": "11019c99",
   "metadata": {},
   "outputs": [
    {
     "name": "stdout",
     "output_type": "stream",
     "text": [
      "[]\n"
     ]
    }
   ],
   "source": [
    "sampleList = [10, 20, 30, 40]\n",
    "del sampleList[0:6]\n",
    "print(sampleList)"
   ]
  },
  {
   "cell_type": "code",
   "execution_count": 79,
   "id": "46b2311d",
   "metadata": {},
   "outputs": [
    {
     "name": "stdout",
     "output_type": "stream",
     "text": [
      "[2, 4, 6, 8, 10, 12, 14]\n"
     ]
    }
   ],
   "source": [
    "aList = [1, 2, 3, 4, 5, 6, 7]\n",
    "pow2 =  [2 * x for x in aList]\n",
    "print(pow2)"
   ]
  },
  {
   "cell_type": "code",
   "execution_count": 81,
   "id": "d6e37a1f",
   "metadata": {},
   "outputs": [
    {
     "data": {
      "text/plain": [
       "[1, 2, 3, 4, 5, 6, 7]"
      ]
     },
     "execution_count": 81,
     "metadata": {},
     "output_type": "execute_result"
    }
   ],
   "source": [
    "list(aList)"
   ]
  },
  {
   "cell_type": "code",
   "execution_count": 85,
   "id": "2078e9b1",
   "metadata": {},
   "outputs": [],
   "source": [
    "newlist = list(aList)"
   ]
  },
  {
   "cell_type": "code",
   "execution_count": 86,
   "id": "8b2958e1",
   "metadata": {},
   "outputs": [
    {
     "data": {
      "text/plain": [
       "['a', 'b', 'c', 'd']"
      ]
     },
     "execution_count": 86,
     "metadata": {},
     "output_type": "execute_result"
    }
   ],
   "source": [
    "newlist"
   ]
  },
  {
   "cell_type": "code",
   "execution_count": 87,
   "id": "d3a6bf8c",
   "metadata": {},
   "outputs": [],
   "source": [
    "import numpy as np"
   ]
  },
  {
   "cell_type": "code",
   "execution_count": 89,
   "id": "b7365c6b",
   "metadata": {},
   "outputs": [],
   "source": [
    "def volume(Dia):\n",
    "    radius = Dia/2\n",
    "    volume = 4/3 * np.pi * (radius**3)\n",
    "    return volume"
   ]
  },
  {
   "cell_type": "code",
   "execution_count": 90,
   "id": "7737da8b",
   "metadata": {},
   "outputs": [
    {
     "data": {
      "text/plain": [
       "904.7786842338603"
      ]
     },
     "execution_count": 90,
     "metadata": {},
     "output_type": "execute_result"
    }
   ],
   "source": [
    "volume(12)"
   ]
  },
  {
   "cell_type": "code",
   "execution_count": 91,
   "id": "5b1e1f67",
   "metadata": {},
   "outputs": [],
   "source": [
    "s1 = {1,2,3}"
   ]
  },
  {
   "cell_type": "code",
   "execution_count": 92,
   "id": "e5cb2bcb",
   "metadata": {},
   "outputs": [
    {
     "data": {
      "text/plain": [
       "set"
      ]
     },
     "execution_count": 92,
     "metadata": {},
     "output_type": "execute_result"
    }
   ],
   "source": [
    "type(s1)"
   ]
  },
  {
   "cell_type": "code",
   "execution_count": 93,
   "id": "748050f1",
   "metadata": {},
   "outputs": [],
   "source": [
    "s2 = s1"
   ]
  },
  {
   "cell_type": "code",
   "execution_count": 94,
   "id": "c839c3fd",
   "metadata": {},
   "outputs": [
    {
     "data": {
      "text/plain": [
       "{1, 2, 3}"
      ]
     },
     "execution_count": 94,
     "metadata": {},
     "output_type": "execute_result"
    }
   ],
   "source": [
    "s2"
   ]
  },
  {
   "cell_type": "code",
   "execution_count": 95,
   "id": "ad6cdd7c",
   "metadata": {},
   "outputs": [],
   "source": [
    "set1 = {\"Yellow\", \"Orange\", \"Black\"}\n",
    "set2 = {\"Orange\", \"Blue\", \"Pink\"}\n"
   ]
  },
  {
   "cell_type": "code",
   "execution_count": 96,
   "id": "6b142947",
   "metadata": {},
   "outputs": [],
   "source": [
    "set1.difference_update(set2)"
   ]
  },
  {
   "cell_type": "code",
   "execution_count": 97,
   "id": "5556aab4",
   "metadata": {},
   "outputs": [
    {
     "data": {
      "text/plain": [
       "{'Black', 'Yellow'}"
      ]
     },
     "execution_count": 97,
     "metadata": {},
     "output_type": "execute_result"
    }
   ],
   "source": [
    "set1"
   ]
  },
  {
   "cell_type": "code",
   "execution_count": 98,
   "id": "dd8e121f",
   "metadata": {},
   "outputs": [
    {
     "ename": "TypeError",
     "evalue": "'set' object is not subscriptable",
     "output_type": "error",
     "traceback": [
      "\u001b[1;31m---------------------------------------------------------------------------\u001b[0m",
      "\u001b[1;31mTypeError\u001b[0m                                 Traceback (most recent call last)",
      "Input \u001b[1;32mIn [98]\u001b[0m, in \u001b[0;36m<cell line: 2>\u001b[1;34m()\u001b[0m\n\u001b[0;32m      1\u001b[0m sampleSet \u001b[38;5;241m=\u001b[39m {\u001b[38;5;124m\"\u001b[39m\u001b[38;5;124mYellow\u001b[39m\u001b[38;5;124m\"\u001b[39m, \u001b[38;5;124m\"\u001b[39m\u001b[38;5;124mOrange\u001b[39m\u001b[38;5;124m\"\u001b[39m, \u001b[38;5;124m\"\u001b[39m\u001b[38;5;124mBlack\u001b[39m\u001b[38;5;124m\"\u001b[39m}\n\u001b[1;32m----> 2\u001b[0m \u001b[38;5;28mprint\u001b[39m(\u001b[43msampleSet\u001b[49m\u001b[43m[\u001b[49m\u001b[38;5;241;43m1\u001b[39;49m\u001b[43m]\u001b[49m)\n",
      "\u001b[1;31mTypeError\u001b[0m: 'set' object is not subscriptable"
     ]
    }
   ],
   "source": [
    "sampleSet = {\"Yellow\", \"Orange\", \"Black\"}\n",
    "print(sampleSet[1])"
   ]
  },
  {
   "cell_type": "code",
   "execution_count": 99,
   "id": "6f0c11fd",
   "metadata": {},
   "outputs": [
    {
     "name": "stdout",
     "output_type": "stream",
     "text": [
      "{'Yellow', 'Black', 'Orange'}\n"
     ]
    }
   ],
   "source": [
    "sampleSet = {\"Yellow\", \"Orange\", \"Black\"}\n",
    "sampleSet.discard(\"Blue\")\n",
    "print(sampleSet)"
   ]
  },
  {
   "cell_type": "code",
   "execution_count": 100,
   "id": "b5c6b6fa",
   "metadata": {},
   "outputs": [
    {
     "name": "stdout",
     "output_type": "stream",
     "text": [
      "{40, 10, 50, 20, '10', 60, 30}\n"
     ]
    }
   ],
   "source": [
    "set1 = {10, 20, 30, 40}\n",
    "set2 = {50, 20, \"10\", 60}\n",
    "\n",
    "set3 = set1.union(set2)\n",
    "print(set3)"
   ]
  },
  {
   "cell_type": "code",
   "execution_count": 101,
   "id": "7ddd8811",
   "metadata": {},
   "outputs": [
    {
     "ename": "TypeError",
     "evalue": "unhashable type: 'list'",
     "output_type": "error",
     "traceback": [
      "\u001b[1;31m---------------------------------------------------------------------------\u001b[0m",
      "\u001b[1;31mTypeError\u001b[0m                                 Traceback (most recent call last)",
      "Input \u001b[1;32mIn [101]\u001b[0m, in \u001b[0;36m<cell line: 1>\u001b[1;34m()\u001b[0m\n\u001b[1;32m----> 1\u001b[0m aSet \u001b[38;5;241m=\u001b[39m {\u001b[38;5;241m1\u001b[39m, \u001b[38;5;124m'\u001b[39m\u001b[38;5;124mPYnative\u001b[39m\u001b[38;5;124m'\u001b[39m, [\u001b[38;5;124m'\u001b[39m\u001b[38;5;124mabc\u001b[39m\u001b[38;5;124m'\u001b[39m, \u001b[38;5;124m'\u001b[39m\u001b[38;5;124mxyz\u001b[39m\u001b[38;5;124m'\u001b[39m], \u001b[38;5;28;01mTrue\u001b[39;00m}\n\u001b[0;32m      2\u001b[0m \u001b[38;5;28mprint\u001b[39m(aSet)\n",
      "\u001b[1;31mTypeError\u001b[0m: unhashable type: 'list'"
     ]
    }
   ],
   "source": [
    "aSet = {1, 'PYnative', ['abc', 'xyz'], True}\n",
    "print(aSet)"
   ]
  },
  {
   "cell_type": "code",
   "execution_count": 104,
   "id": "88096edd",
   "metadata": {},
   "outputs": [],
   "source": [
    "s1 = {2,1,2,3, 'sanjay'}"
   ]
  },
  {
   "cell_type": "code",
   "execution_count": 106,
   "id": "27a2325a",
   "metadata": {},
   "outputs": [
    {
     "name": "stdout",
     "output_type": "stream",
     "text": [
      "{'PYnative', 1, ('abc', 'xyz')}\n"
     ]
    }
   ],
   "source": [
    "aSet = {1, 'PYnative', ('abc', 'xyz'), True}\n",
    "print(aSet)"
   ]
  },
  {
   "cell_type": "code",
   "execution_count": 107,
   "id": "f2d2a2fa",
   "metadata": {},
   "outputs": [
    {
     "name": "stdout",
     "output_type": "stream",
     "text": [
      "{'Pink', 'Blue'}\n"
     ]
    }
   ],
   "source": [
    "set1 = {\"Yellow\", \"Orange\", \"Black\"}\n",
    "set2 = {\"Orange\", \"Blue\", \"Pink\"}\n",
    "\n",
    "set3 = set2.difference(set1)\n",
    "print(set3)"
   ]
  },
  {
   "cell_type": "code",
   "execution_count": 108,
   "id": "e426281c",
   "metadata": {},
   "outputs": [
    {
     "name": "stdout",
     "output_type": "stream",
     "text": [
      "{'Yellow', 'Black', 'Blue', 'Orange'}\n"
     ]
    }
   ],
   "source": [
    "sampleSet = {\"Yellow\", \"Orange\", \"Black\"}\n",
    "sampleSet.add(\"Blue\")\n",
    "sampleSet.add(\"Orange\")\n",
    "print(sampleSet)"
   ]
  },
  {
   "cell_type": "code",
   "execution_count": 109,
   "id": "72dd00d1",
   "metadata": {},
   "outputs": [
    {
     "name": "stdout",
     "output_type": "stream",
     "text": [
      "{'Yellow', 'Black', 'Orange'}\n"
     ]
    }
   ],
   "source": [
    "sampleSet = {\"Yellow\", \"Orange\", \"Black\"}\n",
    "sampleSet.discard(\"Blue\")\n",
    "print(sampleSet)"
   ]
  },
  {
   "cell_type": "code",
   "execution_count": 110,
   "id": "321a74c3",
   "metadata": {},
   "outputs": [],
   "source": [
    "sampleSet = {\"Yellow\", \"Orange\", \"Black\"}"
   ]
  },
  {
   "cell_type": "code",
   "execution_count": 112,
   "id": "080cc311",
   "metadata": {},
   "outputs": [],
   "source": [
    "sampleSet.discard('Orange')"
   ]
  },
  {
   "cell_type": "code",
   "execution_count": 113,
   "id": "c1dad09b",
   "metadata": {},
   "outputs": [
    {
     "name": "stdout",
     "output_type": "stream",
     "text": [
      "{'Blue', 'Black', 'Yellow', 'Green', 'Orange', 'Red'}\n"
     ]
    }
   ],
   "source": [
    "sampleSet = {\"Yellow\", \"Orange\", \"Black\"}\n",
    "sampleSet.update([\"Blue\", \"Green\", \"Red\"])\n",
    "print(sampleSet)"
   ]
  },
  {
   "cell_type": "code",
   "execution_count": 116,
   "id": "ba0517ed",
   "metadata": {},
   "outputs": [
    {
     "ename": "TypeError",
     "evalue": "'set' object does not support item deletion",
     "output_type": "error",
     "traceback": [
      "\u001b[1;31m---------------------------------------------------------------------------\u001b[0m",
      "\u001b[1;31mTypeError\u001b[0m                                 Traceback (most recent call last)",
      "Input \u001b[1;32mIn [116]\u001b[0m, in \u001b[0;36m<cell line: 1>\u001b[1;34m()\u001b[0m\n\u001b[1;32m----> 1\u001b[0m \u001b[38;5;28;01mdel\u001b[39;00m sampleSet[\u001b[38;5;124m'\u001b[39m\u001b[38;5;124mGreen\u001b[39m\u001b[38;5;124m'\u001b[39m]\n",
      "\u001b[1;31mTypeError\u001b[0m: 'set' object does not support item deletion"
     ]
    }
   ],
   "source": [
    "del sampleSet['Green']"
   ]
  },
  {
   "cell_type": "code",
   "execution_count": 117,
   "id": "d1f79f20",
   "metadata": {},
   "outputs": [
    {
     "ename": "TypeError",
     "evalue": "'set' object is not subscriptable",
     "output_type": "error",
     "traceback": [
      "\u001b[1;31m---------------------------------------------------------------------------\u001b[0m",
      "\u001b[1;31mTypeError\u001b[0m                                 Traceback (most recent call last)",
      "Input \u001b[1;32mIn [117]\u001b[0m, in \u001b[0;36m<cell line: 1>\u001b[1;34m()\u001b[0m\n\u001b[1;32m----> 1\u001b[0m \u001b[43msampleSet\u001b[49m\u001b[43m[\u001b[49m\u001b[38;5;241;43m2\u001b[39;49m\u001b[43m]\u001b[49m\n",
      "\u001b[1;31mTypeError\u001b[0m: 'set' object is not subscriptable"
     ]
    }
   ],
   "source": [
    "sampleSet[2]"
   ]
  },
  {
   "cell_type": "code",
   "execution_count": 119,
   "id": "bc872e3f",
   "metadata": {},
   "outputs": [],
   "source": [
    "dict1 = {2:5, 3:6}"
   ]
  },
  {
   "cell_type": "code",
   "execution_count": 121,
   "id": "15060ff7",
   "metadata": {},
   "outputs": [],
   "source": [
    "dict2 = dict(dict1)"
   ]
  },
  {
   "cell_type": "code",
   "execution_count": 122,
   "id": "4c7887ac",
   "metadata": {},
   "outputs": [
    {
     "data": {
      "text/plain": [
       "{2: 5, 3: 6}"
      ]
     },
     "execution_count": 122,
     "metadata": {},
     "output_type": "execute_result"
    }
   ],
   "source": [
    "dict2"
   ]
  },
  {
   "cell_type": "code",
   "execution_count": 123,
   "id": "2249e36c",
   "metadata": {},
   "outputs": [],
   "source": [
    "dict3 = dict1"
   ]
  },
  {
   "cell_type": "code",
   "execution_count": 124,
   "id": "e29aaf09",
   "metadata": {},
   "outputs": [
    {
     "data": {
      "text/plain": [
       "{2: 5, 3: 6}"
      ]
     },
     "execution_count": 124,
     "metadata": {},
     "output_type": "execute_result"
    }
   ],
   "source": [
    "dict3"
   ]
  },
  {
   "cell_type": "code",
   "execution_count": 132,
   "id": "54baa810",
   "metadata": {},
   "outputs": [],
   "source": [
    "student = { \n",
    "  \"name\": \"Emma\", \n",
    "  \"class\": 9, \n",
    "  \"marks\": 75 \n",
    "}"
   ]
  },
  {
   "cell_type": "code",
   "execution_count": 127,
   "id": "834acd6b",
   "metadata": {},
   "outputs": [
    {
     "data": {
      "text/plain": [
       "75"
      ]
     },
     "execution_count": 127,
     "metadata": {},
     "output_type": "execute_result"
    }
   ],
   "source": [
    "student.pop('marks')"
   ]
  },
  {
   "cell_type": "code",
   "execution_count": 131,
   "id": "bb87bee2",
   "metadata": {},
   "outputs": [
    {
     "data": {
      "text/plain": [
       "{'name': 'Emma', 'class': 9}"
      ]
     },
     "execution_count": 131,
     "metadata": {},
     "output_type": "execute_result"
    }
   ],
   "source": [
    "student"
   ]
  },
  {
   "cell_type": "code",
   "execution_count": 130,
   "id": "76c4cd11",
   "metadata": {},
   "outputs": [],
   "source": [
    "del student['marks']"
   ]
  },
  {
   "cell_type": "code",
   "execution_count": 133,
   "id": "6342bdf2",
   "metadata": {},
   "outputs": [],
   "source": [
    "student = {1: {'name': 'Emma', 'age': '27', 'sex': 'Female'},\n",
    "           2: {'name': 'Mike', 'age': '22', 'sex': 'Male'}}"
   ]
  },
  {
   "cell_type": "code",
   "execution_count": 135,
   "id": "a1dc84ab",
   "metadata": {},
   "outputs": [],
   "source": [
    "student.clear()"
   ]
  },
  {
   "cell_type": "code",
   "execution_count": 136,
   "id": "6029bf1d",
   "metadata": {},
   "outputs": [
    {
     "data": {
      "text/plain": [
       "{}"
      ]
     },
     "execution_count": 136,
     "metadata": {},
     "output_type": "execute_result"
    }
   ],
   "source": [
    "student"
   ]
  },
  {
   "cell_type": "code",
   "execution_count": 137,
   "id": "7e72a821",
   "metadata": {},
   "outputs": [
    {
     "name": "stdout",
     "output_type": "stream",
     "text": [
      "True\n"
     ]
    }
   ],
   "source": [
    "dict1 = {\"key1\":1, \"key2\":2}\n",
    "dict2 = {\"key2\":2, \"key1\":1}\n",
    "print(dict1 == dict2)"
   ]
  },
  {
   "cell_type": "code",
   "execution_count": 140,
   "id": "7e11c89a",
   "metadata": {},
   "outputs": [],
   "source": [
    "dict1.get('age')"
   ]
  },
  {
   "cell_type": "code",
   "execution_count": 143,
   "id": "c3e640f9",
   "metadata": {},
   "outputs": [
    {
     "data": {
      "text/plain": [
       "dict"
      ]
     },
     "execution_count": 143,
     "metadata": {},
     "output_type": "execute_result"
    }
   ],
   "source": [
    "type(dict())"
   ]
  },
  {
   "cell_type": "code",
   "execution_count": 144,
   "id": "3a283975",
   "metadata": {},
   "outputs": [
    {
     "ename": "TypeError",
     "evalue": "'>' not supported between instances of 'str' and 'int'",
     "output_type": "error",
     "traceback": [
      "\u001b[1;31m---------------------------------------------------------------------------\u001b[0m",
      "\u001b[1;31mTypeError\u001b[0m                                 Traceback (most recent call last)",
      "Input \u001b[1;32mIn [144]\u001b[0m, in \u001b[0;36m<cell line: 2>\u001b[1;34m()\u001b[0m\n\u001b[0;32m      1\u001b[0m tuple1 \u001b[38;5;241m=\u001b[39m (\u001b[38;5;241m1120\u001b[39m, \u001b[38;5;124m'\u001b[39m\u001b[38;5;124ma\u001b[39m\u001b[38;5;124m'\u001b[39m)\n\u001b[1;32m----> 2\u001b[0m \u001b[38;5;28mprint\u001b[39m(\u001b[38;5;28;43mmax\u001b[39;49m\u001b[43m(\u001b[49m\u001b[43mtuple1\u001b[49m\u001b[43m)\u001b[49m)\n",
      "\u001b[1;31mTypeError\u001b[0m: '>' not supported between instances of 'str' and 'int'"
     ]
    }
   ],
   "source": [
    "tuple1 = (1120, 'a')\n",
    "print(max(tuple1))"
   ]
  },
  {
   "cell_type": "code",
   "execution_count": 145,
   "id": "88565d25",
   "metadata": {},
   "outputs": [],
   "source": [
    "aTuple = (\"Orange\", [10, 20, 30], (5, 15, 25))"
   ]
  },
  {
   "cell_type": "code",
   "execution_count": 149,
   "id": "408ddc54",
   "metadata": {},
   "outputs": [
    {
     "ename": "IndexError",
     "evalue": "tuple index out of range",
     "output_type": "error",
     "traceback": [
      "\u001b[1;31m---------------------------------------------------------------------------\u001b[0m",
      "\u001b[1;31mIndexError\u001b[0m                                Traceback (most recent call last)",
      "Input \u001b[1;32mIn [149]\u001b[0m, in \u001b[0;36m<cell line: 1>\u001b[1;34m()\u001b[0m\n\u001b[1;32m----> 1\u001b[0m \u001b[43maTuple\u001b[49m\u001b[43m[\u001b[49m\u001b[38;5;241;43m1\u001b[39;49m\u001b[43m:\u001b[49m\u001b[38;5;241;43m2\u001b[39;49m\u001b[43m]\u001b[49m\u001b[43m[\u001b[49m\u001b[38;5;241;43m1\u001b[39;49m\u001b[43m]\u001b[49m\n",
      "\u001b[1;31mIndexError\u001b[0m: tuple index out of range"
     ]
    }
   ],
   "source": [
    "aTuple[1:2][1]"
   ]
  },
  {
   "cell_type": "code",
   "execution_count": 150,
   "id": "9e23e6d2",
   "metadata": {},
   "outputs": [
    {
     "name": "stdout",
     "output_type": "stream",
     "text": [
      "400\n",
      "(200, 300, 400)\n"
     ]
    }
   ],
   "source": [
    "aTuple = (100, 200, 300, 400, 500)\n",
    "print(aTuple[-2])\n",
    "print(aTuple[-4:-1])"
   ]
  },
  {
   "cell_type": "code",
   "execution_count": 151,
   "id": "af0fe306",
   "metadata": {},
   "outputs": [
    {
     "ename": "NameError",
     "evalue": "name 'fp' is not defined",
     "output_type": "error",
     "traceback": [
      "\u001b[1;31m---------------------------------------------------------------------------\u001b[0m",
      "\u001b[1;31mNameError\u001b[0m                                 Traceback (most recent call last)",
      "Input \u001b[1;32mIn [151]\u001b[0m, in \u001b[0;36m<cell line: 1>\u001b[1;34m()\u001b[0m\n\u001b[1;32m----> 1\u001b[0m \u001b[43mfp\u001b[49m\u001b[38;5;241m.\u001b[39mseek(\u001b[38;5;241m5\u001b[39m, \u001b[38;5;241m1\u001b[39m)\n",
      "\u001b[1;31mNameError\u001b[0m: name 'fp' is not defined"
     ]
    }
   ],
   "source": [
    "fp.seek(5, 1)"
   ]
  },
  {
   "cell_type": "code",
   "execution_count": 152,
   "id": "22e507f0",
   "metadata": {},
   "outputs": [],
   "source": [
    "import os"
   ]
  },
  {
   "cell_type": "code",
   "execution_count": 153,
   "id": "dffcde23",
   "metadata": {},
   "outputs": [],
   "source": [
    "import shutil"
   ]
  },
  {
   "cell_type": "code",
   "execution_count": null,
   "id": "246cdf4b",
   "metadata": {},
   "outputs": [],
   "source": [
    "shutil.copy"
   ]
  },
  {
   "cell_type": "code",
   "execution_count": 1,
   "id": "f6500aed",
   "metadata": {},
   "outputs": [],
   "source": [
    "import random"
   ]
  },
  {
   "cell_type": "code",
   "execution_count": 3,
   "id": "f4500ed0",
   "metadata": {},
   "outputs": [
    {
     "data": {
      "text/plain": [
       "4"
      ]
     },
     "execution_count": 3,
     "metadata": {},
     "output_type": "execute_result"
    }
   ],
   "source": [
    "random.SystemRandom().randint(2,5)"
   ]
  },
  {
   "cell_type": "code",
   "execution_count": 4,
   "id": "6a65a13f",
   "metadata": {},
   "outputs": [],
   "source": [
    "import secrets"
   ]
  },
  {
   "cell_type": "code",
   "execution_count": 7,
   "id": "218a0f18",
   "metadata": {},
   "outputs": [
    {
     "data": {
      "text/plain": [
       "2"
      ]
     },
     "execution_count": 7,
     "metadata": {},
     "output_type": "execute_result"
    }
   ],
   "source": [
    "secrets.randbelow(5)"
   ]
  },
  {
   "cell_type": "code",
   "execution_count": 10,
   "id": "b4eb2608",
   "metadata": {},
   "outputs": [
    {
     "data": {
      "text/plain": [
       "177"
      ]
     },
     "execution_count": 10,
     "metadata": {},
     "output_type": "execute_result"
    }
   ],
   "source": [
    "random.randrange(99,200,3)"
   ]
  },
  {
   "cell_type": "code",
   "execution_count": 14,
   "id": "4ea7ba05",
   "metadata": {},
   "outputs": [
    {
     "data": {
      "text/plain": [
       "34.216375836890386"
      ]
     },
     "execution_count": 14,
     "metadata": {},
     "output_type": "execute_result"
    }
   ],
   "source": [
    "random.uniform(20.5,50.5)"
   ]
  },
  {
   "cell_type": "code",
   "execution_count": 15,
   "id": "46e47778",
   "metadata": {},
   "outputs": [
    {
     "data": {
      "text/plain": [
       "(3,\n",
       " (926613985,\n",
       "  4046784669,\n",
       "  1759689589,\n",
       "  2584803972,\n",
       "  2943136626,\n",
       "  3533547933,\n",
       "  2936555144,\n",
       "  818485896,\n",
       "  2741934405,\n",
       "  634333182,\n",
       "  313033063,\n",
       "  4020437198,\n",
       "  3566263528,\n",
       "  1891498535,\n",
       "  2567848443,\n",
       "  767674880,\n",
       "  2464844438,\n",
       "  567426459,\n",
       "  1413329755,\n",
       "  977865861,\n",
       "  4243937035,\n",
       "  2308020549,\n",
       "  1667573293,\n",
       "  2455005303,\n",
       "  4277421947,\n",
       "  215650938,\n",
       "  2617596912,\n",
       "  398430104,\n",
       "  3370764221,\n",
       "  1626515305,\n",
       "  1623357545,\n",
       "  2547284574,\n",
       "  697483290,\n",
       "  1455595991,\n",
       "  3199187733,\n",
       "  1668110453,\n",
       "  1271239092,\n",
       "  2691251096,\n",
       "  311756917,\n",
       "  2358937368,\n",
       "  79708170,\n",
       "  2395604728,\n",
       "  3504174993,\n",
       "  2324535127,\n",
       "  4087048589,\n",
       "  3208342369,\n",
       "  1924288027,\n",
       "  1005212458,\n",
       "  2592141314,\n",
       "  3876128838,\n",
       "  2873377489,\n",
       "  2142492937,\n",
       "  3657130823,\n",
       "  107254785,\n",
       "  2689643737,\n",
       "  2128416647,\n",
       "  4164113985,\n",
       "  1309437362,\n",
       "  2969269855,\n",
       "  1270371495,\n",
       "  3401450545,\n",
       "  2261695319,\n",
       "  4036855579,\n",
       "  1228537215,\n",
       "  513824282,\n",
       "  2468480892,\n",
       "  2086405982,\n",
       "  4286352794,\n",
       "  2839150873,\n",
       "  132572911,\n",
       "  1685587669,\n",
       "  2498425789,\n",
       "  2667150071,\n",
       "  1462804093,\n",
       "  2740792549,\n",
       "  149763458,\n",
       "  3584545926,\n",
       "  2857650041,\n",
       "  1653589890,\n",
       "  423381186,\n",
       "  1735523929,\n",
       "  2216911805,\n",
       "  1797606250,\n",
       "  2953926207,\n",
       "  3662369290,\n",
       "  333913069,\n",
       "  554723934,\n",
       "  2171169358,\n",
       "  2980615521,\n",
       "  670774363,\n",
       "  3966623693,\n",
       "  4213157614,\n",
       "  1763866872,\n",
       "  1950394015,\n",
       "  1369703845,\n",
       "  2645889785,\n",
       "  1932563463,\n",
       "  2994042799,\n",
       "  1786159609,\n",
       "  4062973181,\n",
       "  151637328,\n",
       "  4192577114,\n",
       "  2717155922,\n",
       "  2796246478,\n",
       "  896884073,\n",
       "  1192889214,\n",
       "  1840372632,\n",
       "  3695102650,\n",
       "  189701854,\n",
       "  1507831221,\n",
       "  2957520651,\n",
       "  2998966179,\n",
       "  892730443,\n",
       "  865633747,\n",
       "  463765043,\n",
       "  542872450,\n",
       "  4146114230,\n",
       "  4207239823,\n",
       "  3176561645,\n",
       "  1272857954,\n",
       "  2703826706,\n",
       "  4221171664,\n",
       "  4027122557,\n",
       "  337516821,\n",
       "  573988522,\n",
       "  2248538121,\n",
       "  2121562958,\n",
       "  2684695451,\n",
       "  3728456850,\n",
       "  2231755925,\n",
       "  1419923785,\n",
       "  922753791,\n",
       "  547022957,\n",
       "  2319535796,\n",
       "  2022395665,\n",
       "  3521420008,\n",
       "  3029317993,\n",
       "  3842048990,\n",
       "  2588243877,\n",
       "  3392057478,\n",
       "  3762170342,\n",
       "  1574207830,\n",
       "  4032698317,\n",
       "  1668274075,\n",
       "  906428900,\n",
       "  3141500910,\n",
       "  328320712,\n",
       "  2451619392,\n",
       "  1318231355,\n",
       "  1053621055,\n",
       "  4116785384,\n",
       "  3764720556,\n",
       "  1348068954,\n",
       "  1276055300,\n",
       "  2398830532,\n",
       "  2528528963,\n",
       "  353761463,\n",
       "  2620264604,\n",
       "  1544692186,\n",
       "  905177794,\n",
       "  2066251973,\n",
       "  480020447,\n",
       "  99917719,\n",
       "  3144734012,\n",
       "  2259516959,\n",
       "  1725092160,\n",
       "  2469710068,\n",
       "  2770874473,\n",
       "  1004332063,\n",
       "  1786305930,\n",
       "  2445503919,\n",
       "  2698801664,\n",
       "  2958497885,\n",
       "  446065898,\n",
       "  2187291873,\n",
       "  1933425197,\n",
       "  4238081646,\n",
       "  1188648252,\n",
       "  2115175396,\n",
       "  4292015736,\n",
       "  2572887693,\n",
       "  242383251,\n",
       "  1458271117,\n",
       "  2890164932,\n",
       "  1571189316,\n",
       "  2358843862,\n",
       "  184857618,\n",
       "  3758629258,\n",
       "  2423483853,\n",
       "  2776448555,\n",
       "  3094187511,\n",
       "  3791743352,\n",
       "  1690038767,\n",
       "  4286764956,\n",
       "  527187350,\n",
       "  4216201750,\n",
       "  220732181,\n",
       "  1958385528,\n",
       "  2611096803,\n",
       "  1157796180,\n",
       "  339869571,\n",
       "  3053392224,\n",
       "  1607804220,\n",
       "  619658896,\n",
       "  1040471928,\n",
       "  2766600830,\n",
       "  3746725942,\n",
       "  3672321512,\n",
       "  1130692816,\n",
       "  1514663031,\n",
       "  3566861032,\n",
       "  2247242138,\n",
       "  4064461060,\n",
       "  2717764180,\n",
       "  2436141421,\n",
       "  1212387091,\n",
       "  2373295456,\n",
       "  618029300,\n",
       "  3546109357,\n",
       "  200607220,\n",
       "  190288047,\n",
       "  3716674141,\n",
       "  1470070901,\n",
       "  3492258770,\n",
       "  2780567716,\n",
       "  2101653970,\n",
       "  3757591615,\n",
       "  2832848609,\n",
       "  2345927787,\n",
       "  4170660919,\n",
       "  1341922797,\n",
       "  4163108143,\n",
       "  447712886,\n",
       "  1131838635,\n",
       "  3704983590,\n",
       "  2112159406,\n",
       "  3324267960,\n",
       "  4246126106,\n",
       "  1334692617,\n",
       "  1660158172,\n",
       "  1025908142,\n",
       "  1533975532,\n",
       "  2485243138,\n",
       "  3657714821,\n",
       "  1938835112,\n",
       "  3399045927,\n",
       "  445991621,\n",
       "  1392386468,\n",
       "  3597633992,\n",
       "  3268916996,\n",
       "  1969921082,\n",
       "  534454454,\n",
       "  617598563,\n",
       "  1198876514,\n",
       "  2854697033,\n",
       "  3709542799,\n",
       "  951917249,\n",
       "  3343339975,\n",
       "  2333258405,\n",
       "  2230817736,\n",
       "  10996774,\n",
       "  832071050,\n",
       "  1025201805,\n",
       "  4288348959,\n",
       "  1731023002,\n",
       "  602447192,\n",
       "  2272555791,\n",
       "  2367585135,\n",
       "  1838703332,\n",
       "  426642182,\n",
       "  620140149,\n",
       "  2889558162,\n",
       "  2784977284,\n",
       "  1726569934,\n",
       "  3473555601,\n",
       "  102468625,\n",
       "  2030318508,\n",
       "  1194800603,\n",
       "  2050934481,\n",
       "  1819902818,\n",
       "  360576468,\n",
       "  716606936,\n",
       "  4061160097,\n",
       "  4162728220,\n",
       "  3951389387,\n",
       "  4137498904,\n",
       "  4141525978,\n",
       "  1231224064,\n",
       "  2522356637,\n",
       "  1286522323,\n",
       "  2024319531,\n",
       "  1158262177,\n",
       "  4226756187,\n",
       "  1055912702,\n",
       "  977789762,\n",
       "  4051540109,\n",
       "  3513125854,\n",
       "  3680738224,\n",
       "  3704017476,\n",
       "  2959826190,\n",
       "  2932513373,\n",
       "  4244801266,\n",
       "  2151546941,\n",
       "  454078473,\n",
       "  1112663948,\n",
       "  2182525067,\n",
       "  2792093248,\n",
       "  3900560420,\n",
       "  1771341817,\n",
       "  2921588949,\n",
       "  854573759,\n",
       "  2854192687,\n",
       "  3427707662,\n",
       "  2408360683,\n",
       "  2290536935,\n",
       "  8029471,\n",
       "  3627229331,\n",
       "  3346106411,\n",
       "  1817261439,\n",
       "  3127181707,\n",
       "  3154819237,\n",
       "  3573999621,\n",
       "  2997751563,\n",
       "  324555878,\n",
       "  4213139712,\n",
       "  71364759,\n",
       "  1781640299,\n",
       "  226027770,\n",
       "  1918714985,\n",
       "  1906977961,\n",
       "  375395280,\n",
       "  3680985321,\n",
       "  4172419355,\n",
       "  2122238998,\n",
       "  2307051703,\n",
       "  3932473582,\n",
       "  3941102214,\n",
       "  4271524869,\n",
       "  2606923570,\n",
       "  2899173544,\n",
       "  3563972242,\n",
       "  3856120062,\n",
       "  3530391655,\n",
       "  4294870254,\n",
       "  2173228362,\n",
       "  2711451159,\n",
       "  394149239,\n",
       "  2902710810,\n",
       "  2114408382,\n",
       "  3025848891,\n",
       "  4280792729,\n",
       "  3190043749,\n",
       "  528645708,\n",
       "  2331535664,\n",
       "  1220223109,\n",
       "  4218398041,\n",
       "  2067861735,\n",
       "  1425013392,\n",
       "  992979173,\n",
       "  1081426623,\n",
       "  1297586651,\n",
       "  3122090949,\n",
       "  780657688,\n",
       "  477615878,\n",
       "  342930113,\n",
       "  3544840201,\n",
       "  3305335174,\n",
       "  1157767576,\n",
       "  2637295616,\n",
       "  3280242903,\n",
       "  3548924101,\n",
       "  63305816,\n",
       "  3113326649,\n",
       "  2150781831,\n",
       "  2741418481,\n",
       "  2141415709,\n",
       "  1469212482,\n",
       "  3877001758,\n",
       "  852263799,\n",
       "  4009659565,\n",
       "  209337420,\n",
       "  1721678262,\n",
       "  605517455,\n",
       "  3160885097,\n",
       "  708153803,\n",
       "  2390580218,\n",
       "  281488282,\n",
       "  2716992046,\n",
       "  2148143621,\n",
       "  2121090571,\n",
       "  3304526538,\n",
       "  3537361977,\n",
       "  1447125213,\n",
       "  2454040572,\n",
       "  3024630955,\n",
       "  3191271653,\n",
       "  2576840101,\n",
       "  3626092628,\n",
       "  1552899247,\n",
       "  4187846596,\n",
       "  3109900158,\n",
       "  2622457276,\n",
       "  3826385517,\n",
       "  2364795620,\n",
       "  3685361000,\n",
       "  52270493,\n",
       "  1040983270,\n",
       "  2691398393,\n",
       "  692365517,\n",
       "  2108460247,\n",
       "  1926065104,\n",
       "  3526526450,\n",
       "  2545319727,\n",
       "  1506747692,\n",
       "  4098331465,\n",
       "  3097216558,\n",
       "  3600570586,\n",
       "  1193434579,\n",
       "  4166838997,\n",
       "  3541918897,\n",
       "  3968565783,\n",
       "  824822534,\n",
       "  1125829619,\n",
       "  699384197,\n",
       "  3898793605,\n",
       "  522834244,\n",
       "  3656291638,\n",
       "  1184215001,\n",
       "  486653899,\n",
       "  3730554763,\n",
       "  65444802,\n",
       "  2965167348,\n",
       "  95237525,\n",
       "  3126870211,\n",
       "  3577488072,\n",
       "  1172212017,\n",
       "  2947218026,\n",
       "  680448490,\n",
       "  1012319050,\n",
       "  2775838747,\n",
       "  1577709696,\n",
       "  3720130837,\n",
       "  368901400,\n",
       "  2164455312,\n",
       "  1719555765,\n",
       "  2044088647,\n",
       "  2710102163,\n",
       "  651328435,\n",
       "  2498771307,\n",
       "  3349312846,\n",
       "  3746883149,\n",
       "  3656795212,\n",
       "  3290134319,\n",
       "  1301286661,\n",
       "  570803092,\n",
       "  2118792385,\n",
       "  2795795860,\n",
       "  1079518567,\n",
       "  2447153549,\n",
       "  404987124,\n",
       "  1099039290,\n",
       "  3696142536,\n",
       "  394287059,\n",
       "  1430107111,\n",
       "  2424488131,\n",
       "  1751921753,\n",
       "  50484062,\n",
       "  2568943037,\n",
       "  3396168683,\n",
       "  896390138,\n",
       "  1777003549,\n",
       "  3032528858,\n",
       "  429205438,\n",
       "  2356305530,\n",
       "  1469165737,\n",
       "  3947412972,\n",
       "  2078175452,\n",
       "  2079906114,\n",
       "  61596765,\n",
       "  2696529984,\n",
       "  3072454739,\n",
       "  3449156404,\n",
       "  713660805,\n",
       "  3835657519,\n",
       "  2087615959,\n",
       "  3606058534,\n",
       "  1828675443,\n",
       "  1058392104,\n",
       "  391056283,\n",
       "  153564562,\n",
       "  2800946337,\n",
       "  3355406763,\n",
       "  3637960128,\n",
       "  305763382,\n",
       "  2693661328,\n",
       "  3169319788,\n",
       "  2937712107,\n",
       "  197457729,\n",
       "  1511101345,\n",
       "  2961010877,\n",
       "  4005424007,\n",
       "  1256196919,\n",
       "  623943357,\n",
       "  3628226914,\n",
       "  3150543536,\n",
       "  1748844708,\n",
       "  1737137453,\n",
       "  2964338167,\n",
       "  3260555012,\n",
       "  1854185527,\n",
       "  1102259018,\n",
       "  2152620703,\n",
       "  903612282,\n",
       "  3864569119,\n",
       "  1757300636,\n",
       "  2068193511,\n",
       "  650427166,\n",
       "  1919743714,\n",
       "  1323240172,\n",
       "  1440089128,\n",
       "  4243937380,\n",
       "  1213104779,\n",
       "  2965176963,\n",
       "  1459380313,\n",
       "  3096800995,\n",
       "  1505394071,\n",
       "  375325508,\n",
       "  4031586047,\n",
       "  604111075,\n",
       "  891215221,\n",
       "  1112925615,\n",
       "  2806604693,\n",
       "  3823183085,\n",
       "  1685845483,\n",
       "  1676829104,\n",
       "  1583211750,\n",
       "  4235142212,\n",
       "  3255444354,\n",
       "  2687242781,\n",
       "  876547073,\n",
       "  4184615601,\n",
       "  3133154764,\n",
       "  1170292162,\n",
       "  2369181138,\n",
       "  258972611,\n",
       "  1291846879,\n",
       "  921217495,\n",
       "  1789150741,\n",
       "  4121525946,\n",
       "  3531167799,\n",
       "  775211601,\n",
       "  1782694435,\n",
       "  1980484889,\n",
       "  3977986904,\n",
       "  1996716027,\n",
       "  2480857698,\n",
       "  1520085938,\n",
       "  2588163174,\n",
       "  833139209,\n",
       "  3536703975,\n",
       "  1523402132,\n",
       "  2148231429,\n",
       "  2784629178,\n",
       "  838785514,\n",
       "  2067280722,\n",
       "  329864963,\n",
       "  4131198214,\n",
       "  1082533137,\n",
       "  365797793,\n",
       "  2311082216,\n",
       "  4167682387,\n",
       "  4130939098,\n",
       "  612380042,\n",
       "  1821681878,\n",
       "  4045031867,\n",
       "  608751031,\n",
       "  260292869,\n",
       "  3858565448,\n",
       "  1185660017,\n",
       "  755574149,\n",
       "  3878879439,\n",
       "  2347036478,\n",
       "  829173092,\n",
       "  872365154,\n",
       "  2911679311,\n",
       "  987571584,\n",
       "  943782974,\n",
       "  742757282,\n",
       "  293328673,\n",
       "  3985356596,\n",
       "  375247650,\n",
       "  781321359,\n",
       "  3554429733,\n",
       "  2780667420,\n",
       "  3943149944,\n",
       "  351620104,\n",
       "  281268145,\n",
       "  2632058498,\n",
       "  15648501,\n",
       "  204205524,\n",
       "  587667160,\n",
       "  3889558750,\n",
       "  2305814055,\n",
       "  3964710582,\n",
       "  2186775678,\n",
       "  2622016366,\n",
       "  1080294611,\n",
       "  1619795210,\n",
       "  3041913174,\n",
       "  2936043767,\n",
       "  3045203855,\n",
       "  3304768808,\n",
       "  2230687433,\n",
       "  2340130650,\n",
       "  2073971063,\n",
       "  3246906100,\n",
       "  906775932,\n",
       "  3358426420,\n",
       "  3487921174,\n",
       "  1244646080,\n",
       "  2101307629,\n",
       "  1221538977,\n",
       "  1630814093,\n",
       "  453133706,\n",
       "  5),\n",
       " None)"
      ]
     },
     "execution_count": 15,
     "metadata": {},
     "output_type": "execute_result"
    }
   ],
   "source": [
    "random.getstate()"
   ]
  },
  {
   "cell_type": "code",
   "execution_count": 17,
   "id": "04b3e928",
   "metadata": {},
   "outputs": [
    {
     "ename": "TypeError",
     "evalue": "'int' object is not subscriptable",
     "output_type": "error",
     "traceback": [
      "\u001b[1;31m---------------------------------------------------------------------------\u001b[0m",
      "\u001b[1;31mTypeError\u001b[0m                                 Traceback (most recent call last)",
      "Input \u001b[1;32mIn [17]\u001b[0m, in \u001b[0;36m<cell line: 1>\u001b[1;34m()\u001b[0m\n\u001b[1;32m----> 1\u001b[0m \u001b[43mrandom\u001b[49m\u001b[38;5;241;43m.\u001b[39;49m\u001b[43msetstate\u001b[49m\u001b[43m(\u001b[49m\u001b[38;5;241;43m5\u001b[39;49m\u001b[43m)\u001b[49m\n",
      "File \u001b[1;32m~\\anaconda3\\lib\\random.py:161\u001b[0m, in \u001b[0;36mRandom.setstate\u001b[1;34m(self, state)\u001b[0m\n\u001b[0;32m    159\u001b[0m \u001b[38;5;28;01mdef\u001b[39;00m \u001b[38;5;21msetstate\u001b[39m(\u001b[38;5;28mself\u001b[39m, state):\n\u001b[0;32m    160\u001b[0m     \u001b[38;5;124;03m\"\"\"Restore internal state from object returned by getstate().\"\"\"\u001b[39;00m\n\u001b[1;32m--> 161\u001b[0m     version \u001b[38;5;241m=\u001b[39m \u001b[43mstate\u001b[49m\u001b[43m[\u001b[49m\u001b[38;5;241;43m0\u001b[39;49m\u001b[43m]\u001b[49m\n\u001b[0;32m    162\u001b[0m     \u001b[38;5;28;01mif\u001b[39;00m version \u001b[38;5;241m==\u001b[39m \u001b[38;5;241m3\u001b[39m:\n\u001b[0;32m    163\u001b[0m         version, internalstate, \u001b[38;5;28mself\u001b[39m\u001b[38;5;241m.\u001b[39mgauss_next \u001b[38;5;241m=\u001b[39m state\n",
      "\u001b[1;31mTypeError\u001b[0m: 'int' object is not subscriptable"
     ]
    }
   ],
   "source": [
    "random.setstate(5)"
   ]
  },
  {
   "cell_type": "code",
   "execution_count": 18,
   "id": "93b86699",
   "metadata": {},
   "outputs": [],
   "source": [
    "random.seed()"
   ]
  },
  {
   "cell_type": "code",
   "execution_count": 21,
   "id": "09d2ae11",
   "metadata": {},
   "outputs": [],
   "source": [
    "str1 = 'PYnative'"
   ]
  },
  {
   "cell_type": "code",
   "execution_count": 27,
   "id": "aa66ba0c",
   "metadata": {},
   "outputs": [
    {
     "data": {
      "text/plain": [
       "['t', 'P']"
      ]
     },
     "execution_count": 27,
     "metadata": {},
     "output_type": "execute_result"
    }
   ],
   "source": [
    "random.sample(str1,2)"
   ]
  },
  {
   "cell_type": "code",
   "execution_count": 28,
   "id": "c8b4b940",
   "metadata": {},
   "outputs": [
    {
     "data": {
      "text/plain": [
       "'820b3b688b96459b8c01008d99e352aafb94edd2c19bc68a15d583f8806c77ca'"
      ]
     },
     "execution_count": 28,
     "metadata": {},
     "output_type": "execute_result"
    }
   ],
   "source": [
    "secrets.token_hex(32)"
   ]
  },
  {
   "cell_type": "code",
   "execution_count": 29,
   "id": "808137eb",
   "metadata": {},
   "outputs": [],
   "source": [
    "numberList = [100, 200, 300, 400, 500]"
   ]
  },
  {
   "cell_type": "code",
   "execution_count": 37,
   "id": "768ef4a0",
   "metadata": {},
   "outputs": [
    {
     "data": {
      "text/plain": [
       "[400, 100, 500]"
      ]
     },
     "execution_count": 37,
     "metadata": {},
     "output_type": "execute_result"
    }
   ],
   "source": [
    "random.choices(numberList, weights=(10, 5, 15, 20, 50), k=3)"
   ]
  },
  {
   "cell_type": "code",
   "execution_count": 38,
   "id": "ac99d81c",
   "metadata": {},
   "outputs": [],
   "source": [
    "import uuid"
   ]
  },
  {
   "cell_type": "code",
   "execution_count": null,
   "id": "b4187504",
   "metadata": {},
   "outputs": [],
   "source": [
    "uuid.uuid4()"
   ]
  },
  {
   "cell_type": "code",
   "execution_count": 39,
   "id": "1f023807",
   "metadata": {},
   "outputs": [],
   "source": [
    "samplelist = [20, 40, 60, 80, 100, 120, 140, 160, 180, 200]"
   ]
  },
  {
   "cell_type": "code",
   "execution_count": 41,
   "id": "a9684f39",
   "metadata": {},
   "outputs": [
    {
     "ename": "TypeError",
     "evalue": "choice() takes 2 positional arguments but 3 were given",
     "output_type": "error",
     "traceback": [
      "\u001b[1;31m---------------------------------------------------------------------------\u001b[0m",
      "\u001b[1;31mTypeError\u001b[0m                                 Traceback (most recent call last)",
      "Input \u001b[1;32mIn [41]\u001b[0m, in \u001b[0;36m<cell line: 1>\u001b[1;34m()\u001b[0m\n\u001b[1;32m----> 1\u001b[0m \u001b[43mrandom\u001b[49m\u001b[38;5;241;43m.\u001b[39;49m\u001b[43mchoice\u001b[49m\u001b[43m(\u001b[49m\u001b[43msamplelist\u001b[49m\u001b[43m,\u001b[49m\u001b[38;5;241;43m4\u001b[39;49m\u001b[43m)\u001b[49m\n",
      "\u001b[1;31mTypeError\u001b[0m: choice() takes 2 positional arguments but 3 were given"
     ]
    }
   ],
   "source": [
    "random.choice(samplelist,4)"
   ]
  },
  {
   "cell_type": "code",
   "execution_count": 55,
   "id": "2cd2c30c",
   "metadata": {},
   "outputs": [
    {
     "name": "stdout",
     "output_type": "stream",
     "text": [
      "yes the given number is palindrom\n"
     ]
    }
   ],
   "source": [
    "original_number =  121\n",
    "\n",
    "rev_number = int(str(original_number)[::-1])\n",
    "\n",
    "if (original_number==rev_number):\n",
    "    print(\"yes the given number is palindrom\")\n",
    "else:\n",
    "    print('no number is not palindrom')"
   ]
  },
  {
   "cell_type": "code",
   "execution_count": 56,
   "id": "bc6e59ec",
   "metadata": {},
   "outputs": [
    {
     "data": {
      "text/plain": [
       "12"
      ]
     },
     "execution_count": 56,
     "metadata": {},
     "output_type": "execute_result"
    }
   ],
   "source": [
    "125//10"
   ]
  },
  {
   "cell_type": "code",
   "execution_count": 67,
   "id": "c19923a1",
   "metadata": {},
   "outputs": [
    {
     "name": "stdout",
     "output_type": "stream",
     "text": [
      "original number 111\n",
      "Given number palindrome\n",
      "original number 126\n",
      "Given number is not palindrome\n"
     ]
    }
   ],
   "source": [
    "def palindrome(number):\n",
    "    print(\"original number\", number)\n",
    "    original_num = number\n",
    "    \n",
    "    # reverse the given number\n",
    "    reverse_num = 0\n",
    "    while number > 0:\n",
    "        reminder = number % 10\n",
    "        reverse_num = (reverse_num * 10) + reminder\n",
    "        number = number // 10\n",
    "\n",
    "    # check numbers\n",
    "    if original_num == reverse_num:\n",
    "        print(\"Given number palindrome\")\n",
    "    else:\n",
    "        print(\"Given number is not palindrome\")\n",
    "\n",
    "palindrome(111)\n",
    "palindrome(126)"
   ]
  },
  {
   "cell_type": "code",
   "execution_count": 65,
   "id": "e4280006",
   "metadata": {},
   "outputs": [
    {
     "name": "stdout",
     "output_type": "stream",
     "text": [
      "Given number is not palindrome\n"
     ]
    }
   ],
   "source": [
    "plaindrom(121)"
   ]
  },
  {
   "cell_type": "code",
   "execution_count": 73,
   "id": "b9b5d0f4",
   "metadata": {},
   "outputs": [],
   "source": [
    "list1 = [10, 20, 25, 30, 35]\n",
    "list2 = [40, 45, 60, 75, 90]"
   ]
  },
  {
   "cell_type": "code",
   "execution_count": 74,
   "id": "2f7cb77b",
   "metadata": {},
   "outputs": [],
   "source": [
    "\n",
    "def newlist(list1,list2):\n",
    "    new_lst = []\n",
    "    for i in list1:\n",
    "        if i%2!=0:\n",
    "            new_lst.append(i)\n",
    "            \n",
    "    for i in list2:\n",
    "        if i%2==0:\n",
    "            new_lst.append(i)\n",
    "            \n",
    "    return new_lst\n",
    "            \n",
    "    "
   ]
  },
  {
   "cell_type": "code",
   "execution_count": 75,
   "id": "88a8b8bb",
   "metadata": {},
   "outputs": [
    {
     "data": {
      "text/plain": [
       "[25, 35, 40, 60, 90]"
      ]
     },
     "execution_count": 75,
     "metadata": {},
     "output_type": "execute_result"
    }
   ],
   "source": [
    "newlist(list1,list2)"
   ]
  },
  {
   "cell_type": "code",
   "execution_count": 79,
   "id": "7dc4517c",
   "metadata": {},
   "outputs": [
    {
     "name": "stdout",
     "output_type": "stream",
     "text": [
      "Enter the number:7536\n"
     ]
    }
   ],
   "source": [
    "number  = int(input('Enter the number:', ))"
   ]
  },
  {
   "cell_type": "code",
   "execution_count": 82,
   "id": "08affc14",
   "metadata": {},
   "outputs": [
    {
     "data": {
      "text/plain": [
       "['7536']"
      ]
     },
     "execution_count": 82,
     "metadata": {},
     "output_type": "execute_result"
    }
   ],
   "source": [
    "str(number).split()[::-1]"
   ]
  },
  {
   "cell_type": "code",
   "execution_count": 22,
   "id": "e270c90e",
   "metadata": {},
   "outputs": [],
   "source": [
    "number = 15963\n",
    "\n",
    "\n",
    "\n",
    "def reverse_number(number):\n",
    "    rev_num = 0\n",
    "    while number>0:\n",
    "        remainder = number%10\n",
    "        rev_num = (rev_num*10)+remainder\n",
    "        number = number//10\n",
    "        \n",
    "    return rev_num\n",
    "        "
   ]
  },
  {
   "cell_type": "code",
   "execution_count": 23,
   "id": "a0c60978",
   "metadata": {},
   "outputs": [
    {
     "data": {
      "text/plain": [
       "36951"
      ]
     },
     "execution_count": 23,
     "metadata": {},
     "output_type": "execute_result"
    }
   ],
   "source": [
    "reverse_number(number)"
   ]
  },
  {
   "cell_type": "code",
   "execution_count": 25,
   "id": "22fdcdb5",
   "metadata": {},
   "outputs": [],
   "source": [
    "number = 7536\n",
    "\n",
    "def new_rev(number):\n",
    "    digits = 0\n",
    "    while number>0:\n",
    "        digits = number%10\n",
    "        number = number//10\n",
    "        print(digits, end=\" \")"
   ]
  },
  {
   "cell_type": "code",
   "execution_count": 27,
   "id": "d40c66fa",
   "metadata": {},
   "outputs": [
    {
     "name": "stdout",
     "output_type": "stream",
     "text": [
      "6 3 2 5 1 "
     ]
    }
   ],
   "source": [
    "number = 15236\n",
    "new_rev(number)"
   ]
  },
  {
   "cell_type": "code",
   "execution_count": 28,
   "id": "b84fbccc",
   "metadata": {},
   "outputs": [],
   "source": [
    "list1 = [10, 20, 25, 30, 35]\n",
    "list2 = [40, 45, 60, 75, 90]"
   ]
  },
  {
   "cell_type": "code",
   "execution_count": 29,
   "id": "4a475973",
   "metadata": {},
   "outputs": [],
   "source": [
    "def new_lst(list1, list2):\n",
    "    newww_lst = []\n",
    "    for i in list1:\n",
    "        if i%2!=0:\n",
    "            newww_lst.append(i)\n",
    "            \n",
    "    for j in list2:\n",
    "        if j%2==0:\n",
    "            newww_lst.append(j)\n",
    "            \n",
    "    return newww_lst"
   ]
  },
  {
   "cell_type": "code",
   "execution_count": 30,
   "id": "7516aab3",
   "metadata": {},
   "outputs": [
    {
     "data": {
      "text/plain": [
       "[25, 35, 40, 60, 90]"
      ]
     },
     "execution_count": 30,
     "metadata": {},
     "output_type": "execute_result"
    }
   ],
   "source": [
    "new_lst(list1,list2)"
   ]
  },
  {
   "cell_type": "code",
   "execution_count": 33,
   "id": "2770b75e",
   "metadata": {},
   "outputs": [],
   "source": [
    "original_number =  121"
   ]
  },
  {
   "cell_type": "code",
   "execution_count": 43,
   "id": "8a8d2571",
   "metadata": {},
   "outputs": [],
   "source": [
    "def palindrome(number):\n",
    "    original_num = number\n",
    "    \n",
    "    rev_num = 0\n",
    "    \n",
    "    while number>0:\n",
    "        remainder = number%10\n",
    "        rev_num = (rev_num*10)+remainder\n",
    "        number = number//10\n",
    "        \n",
    "    if (original_num) == (rev_num):\n",
    "        print('given nuber is plaindrome')\n",
    "    else:\n",
    "        print('the given number is not palindrome')"
   ]
  },
  {
   "cell_type": "code",
   "execution_count": 45,
   "id": "6e655e8e",
   "metadata": {},
   "outputs": [
    {
     "name": "stdout",
     "output_type": "stream",
     "text": [
      "the given number is not palindrome\n"
     ]
    }
   ],
   "source": [
    "palindrome(125)"
   ]
  },
  {
   "cell_type": "code",
   "execution_count": 48,
   "id": "42be3206",
   "metadata": {},
   "outputs": [
    {
     "name": "stdout",
     "output_type": "stream",
     "text": [
      "enter your income:45000\n"
     ]
    }
   ],
   "source": [
    "income = int(input('enter your income:', ))\n",
    "payable_tax = 0\n",
    "def income_tax(income):\n",
    "    if income<=10000:\n",
    "        payable_tax = 0\n",
    "    elif income<=20000:\n",
    "        x = income - 10000\n",
    "        payable_tax = x * 10 / 100\n",
    "    else:\n",
    "        payable_tax = 0\n",
    "        payable_tax = 10000 * 10 / 100\n",
    "        payable_tax += (income - 20000) * 20 / 100\n",
    "    \n",
    "    return payable_tax    "
   ]
  },
  {
   "cell_type": "code",
   "execution_count": 49,
   "id": "4457e822",
   "metadata": {},
   "outputs": [
    {
     "data": {
      "text/plain": [
       "6000.0"
      ]
     },
     "execution_count": 49,
     "metadata": {},
     "output_type": "execute_result"
    }
   ],
   "source": [
    "income_tax(income)"
   ]
  },
  {
   "cell_type": "code",
   "execution_count": 53,
   "id": "92a32b5e",
   "metadata": {},
   "outputs": [
    {
     "name": "stdout",
     "output_type": "stream",
     "text": [
      "Enter your income:45000\n"
     ]
    }
   ],
   "source": [
    "income = int(input('Enter your income:', ))\n",
    "payable_tax = 0"
   ]
  },
  {
   "cell_type": "code",
   "execution_count": 54,
   "id": "38a78238",
   "metadata": {},
   "outputs": [],
   "source": [
    "def income_tax(income):\n",
    "    if income<=10000:\n",
    "        payable_tax = 0\n",
    "        \n",
    "    elif income<=20000:\n",
    "        x = income-10000\n",
    "        payable_tax += x * 10 / 100\n",
    "        \n",
    "    else:\n",
    "        payable_tax = 0\n",
    "        \n",
    "        payable_tax = 10000 * 10 / 100\n",
    "        \n",
    "        payable_tax += (income - 20000) * 20 / 100\n",
    "        \n",
    "    return payable_tax\n",
    "    "
   ]
  },
  {
   "cell_type": "code",
   "execution_count": 55,
   "id": "e5dc129c",
   "metadata": {},
   "outputs": [
    {
     "data": {
      "text/plain": [
       "6000.0"
      ]
     },
     "execution_count": 55,
     "metadata": {},
     "output_type": "execute_result"
    }
   ],
   "source": [
    "income_tax(income)"
   ]
  },
  {
   "cell_type": "code",
   "execution_count": 62,
   "id": "9d53cc42",
   "metadata": {},
   "outputs": [
    {
     "name": "stdout",
     "output_type": "stream",
     "text": [
      "1 2 3 4 5 6 7 8 9 10 \n",
      "2 4 6 8 10 12 14 16 18 20 \n",
      "3 6 9 12 15 18 21 24 27 30 \n",
      "4 8 12 16 20 24 28 32 36 40 \n",
      "5 10 15 20 25 30 35 40 45 50 \n",
      "6 12 18 24 30 36 42 48 54 60 \n",
      "7 14 21 28 35 42 49 56 63 70 \n",
      "8 16 24 32 40 48 56 64 72 80 \n",
      "9 18 27 36 45 54 63 72 81 90 \n",
      "10 20 30 40 50 60 70 80 90 100 \n"
     ]
    }
   ],
   "source": [
    "for i in range(1,11):\n",
    "    for j in range(1,11):\n",
    "        print(i*j, end= \" \")\n",
    "    print()"
   ]
  },
  {
   "cell_type": "code",
   "execution_count": 72,
   "id": "9de5cdd6",
   "metadata": {},
   "outputs": [
    {
     "name": "stdout",
     "output_type": "stream",
     "text": [
      "\n",
      "* \n",
      "* * \n",
      "* * * \n",
      "* * * * \n",
      "* * * * * \n",
      "* * * * \n",
      "* * * \n",
      "* * \n",
      "* \n"
     ]
    }
   ],
   "source": [
    "for i in range(5):\n",
    "    for j in range(i):\n",
    "        print('*', end= \" \")\n",
    "    print()\n",
    "    \n",
    "for i in range(5, 0, -1):\n",
    "    for j in range(i):\n",
    "        print('*', end= \" \")\n",
    "    print()\n"
   ]
  },
  {
   "cell_type": "code",
   "execution_count": 76,
   "id": "1ac482c9",
   "metadata": {},
   "outputs": [
    {
     "name": "stdout",
     "output_type": "stream",
     "text": [
      "* * * * * * \n",
      "* * * * * \n",
      "* * * * \n",
      "* * * \n",
      "* * \n",
      "* \n"
     ]
    }
   ],
   "source": [
    "n = 5\n",
    "for i in range(6, 0,-1):\n",
    "    for j in range(i):\n",
    "        print('*', end= \" \")\n",
    "    print()"
   ]
  },
  {
   "cell_type": "code",
   "execution_count": 77,
   "id": "8fc9d2e9",
   "metadata": {},
   "outputs": [],
   "source": [
    "def exponent(base, exp):\n",
    "    return base**exp\n",
    "    "
   ]
  },
  {
   "cell_type": "code",
   "execution_count": 78,
   "id": "dda432a2",
   "metadata": {},
   "outputs": [
    {
     "data": {
      "text/plain": [
       "625"
      ]
     },
     "execution_count": 78,
     "metadata": {},
     "output_type": "execute_result"
    }
   ],
   "source": [
    "exponent(5,4)"
   ]
  },
  {
   "cell_type": "code",
   "execution_count": 79,
   "id": "4b805959",
   "metadata": {},
   "outputs": [
    {
     "data": {
      "text/plain": [
       "32"
      ]
     },
     "execution_count": 79,
     "metadata": {},
     "output_type": "execute_result"
    }
   ],
   "source": [
    "exponent(2,5)"
   ]
  },
  {
   "cell_type": "code",
   "execution_count": 86,
   "id": "650836ea",
   "metadata": {},
   "outputs": [],
   "source": [
    "def exponent(base, exp):\n",
    "    num = exp\n",
    "    result = 1\n",
    "    while num>0:\n",
    "        result*=base\n",
    "        num-=1\n",
    "    print(base, \"raises to the power of\", exp, \"is: \", result)"
   ]
  },
  {
   "cell_type": "code",
   "execution_count": 87,
   "id": "2d77f4a7",
   "metadata": {},
   "outputs": [
    {
     "name": "stdout",
     "output_type": "stream",
     "text": [
      "2 raises to the power of 5 is:  32\n"
     ]
    }
   ],
   "source": [
    "exponent(2,5)"
   ]
  },
  {
   "cell_type": "code",
   "execution_count": 88,
   "id": "471ce98a",
   "metadata": {},
   "outputs": [],
   "source": [
    "def exp(base,ex):\n",
    "    num = ex\n",
    "    res = 1\n",
    "    while num>0:\n",
    "        res*=base\n",
    "        num-=1\n",
    "    print(base,\"raises to the poswer of\", ex, \"is: \", res)"
   ]
  },
  {
   "cell_type": "code",
   "execution_count": 89,
   "id": "44ba8a70",
   "metadata": {},
   "outputs": [
    {
     "name": "stdout",
     "output_type": "stream",
     "text": [
      "5 raises to the poswer of 4 is:  625\n"
     ]
    }
   ],
   "source": [
    "exp(5,4)"
   ]
  },
  {
   "cell_type": "code",
   "execution_count": 94,
   "id": "e30a7f4c",
   "metadata": {},
   "outputs": [
    {
     "name": "stdout",
     "output_type": "stream",
     "text": [
      "Enter first number:12\n",
      "Enter second number:13\n"
     ]
    },
    {
     "data": {
      "text/plain": [
       "156"
      ]
     },
     "execution_count": 94,
     "metadata": {},
     "output_type": "execute_result"
    }
   ],
   "source": [
    "num1 = int(input('Enter first number:', ))\n",
    "num2 = int(input('Enter second number:', ))\n",
    "def multiplication(num1, num2):\n",
    "    return num1*num2\n",
    "multiplication(num1, num2)"
   ]
  },
  {
   "cell_type": "code",
   "execution_count": 95,
   "id": "1bc5e1f3",
   "metadata": {},
   "outputs": [
    {
     "name": "stdout",
     "output_type": "stream",
     "text": [
      "Name ** Is ** James\n"
     ]
    }
   ],
   "source": [
    "print('Name',\"**\",'Is',\"**\" ,'James')"
   ]
  },
  {
   "cell_type": "code",
   "execution_count": 96,
   "id": "8358fae0",
   "metadata": {},
   "outputs": [
    {
     "name": "stdout",
     "output_type": "stream",
     "text": [
      "Name**Is**James\n"
     ]
    }
   ],
   "source": [
    "print('Name', 'Is', 'James', sep=\"**\")"
   ]
  },
  {
   "cell_type": "code",
   "execution_count": null,
   "id": "7f1719bf",
   "metadata": {},
   "outputs": [],
   "source": []
  },
  {
   "cell_type": "code",
   "execution_count": 99,
   "id": "de089b99",
   "metadata": {},
   "outputs": [
    {
     "name": "stdout",
     "output_type": "stream",
     "text": [
      "The octal number of decimal number 8 is 0o10\n"
     ]
    }
   ],
   "source": [
    "n = 8\n",
    "print(f\"The octal number of decimal number {n} is {oct(n)}\")"
   ]
  },
  {
   "cell_type": "code",
   "execution_count": 100,
   "id": "ba5d7e50",
   "metadata": {},
   "outputs": [
    {
     "name": "stdout",
     "output_type": "stream",
     "text": [
      "10\n"
     ]
    }
   ],
   "source": [
    "n = 8\n",
    "\n",
    "print(\"%o\" % n)"
   ]
  },
  {
   "cell_type": "code",
   "execution_count": 101,
   "id": "3ad21ca8",
   "metadata": {},
   "outputs": [
    {
     "name": "stdout",
     "output_type": "stream",
     "text": [
      "458.54\n"
     ]
    }
   ],
   "source": [
    "num = 458.541315\n",
    "\n",
    "print(round(num,2) )"
   ]
  },
  {
   "cell_type": "code",
   "execution_count": 102,
   "id": "24a0b81e",
   "metadata": {},
   "outputs": [
    {
     "name": "stdout",
     "output_type": "stream",
     "text": [
      "458.54\n"
     ]
    }
   ],
   "source": [
    "num = 458.541315\n",
    "\n",
    "print(\"%0.2f\" % num)"
   ]
  },
  {
   "cell_type": "code",
   "execution_count": 104,
   "id": "9c1fe762",
   "metadata": {},
   "outputs": [],
   "source": [
    "lst = []\n",
    "\n",
    "def float_lst():\n",
    "    for i in range(0,5):\n",
    "        item = float(input())\n",
    "        lst.append(item)\n",
    "    return lst"
   ]
  },
  {
   "cell_type": "code",
   "execution_count": 105,
   "id": "8be54f40",
   "metadata": {},
   "outputs": [
    {
     "name": "stdout",
     "output_type": "stream",
     "text": [
      "48.36\n",
      "45.98\n",
      "25.36\n",
      "12.45\n",
      "25.78\n"
     ]
    },
    {
     "data": {
      "text/plain": [
       "[48.36, 45.98, 25.36, 12.45, 25.78]"
      ]
     },
     "execution_count": 105,
     "metadata": {},
     "output_type": "execute_result"
    }
   ],
   "source": [
    "float_lst()"
   ]
  },
  {
   "cell_type": "code",
   "execution_count": 131,
   "id": "1e95b0ed",
   "metadata": {},
   "outputs": [],
   "source": []
  },
  {
   "cell_type": "code",
   "execution_count": null,
   "id": "43f0347e",
   "metadata": {},
   "outputs": [],
   "source": []
  },
  {
   "cell_type": "code",
   "execution_count": 134,
   "id": "ea94fecb",
   "metadata": {},
   "outputs": [],
   "source": [
    "with open(\"file1.txt\", \"r\") as f:\n",
    "    lines = f.readlines()\n",
    "    \n",
    "with open(\"file2.txt\", \"w\") as f:\n",
    "    coun = 0\n",
    "    for line in lines:\n",
    "      \n",
    "\n",
    "        if coun==4:\n",
    "            coun+=1\n",
    "            continue\n",
    "\n",
    "        else:\n",
    "            f.write(line)\n",
    "        coun+=1\n",
    "            \n"
   ]
  },
  {
   "cell_type": "code",
   "execution_count": null,
   "id": "1e399ea2",
   "metadata": {},
   "outputs": [],
   "source": []
  },
  {
   "cell_type": "code",
   "execution_count": 141,
   "id": "cdf62341",
   "metadata": {},
   "outputs": [],
   "source": [
    "def str_input():\n",
    "    full_name =  input(\"Enter three string:\", )\n",
    "    name_list = full_name.split()\n",
    "    name1 = name_list[0]\n",
    "    name2 = name_list[1]\n",
    "    name3 = name_list[2]\n",
    "    \n",
    "    return[ name1, name2, name3]"
   ]
  },
  {
   "cell_type": "code",
   "execution_count": 142,
   "id": "c45c6ebd",
   "metadata": {},
   "outputs": [
    {
     "name": "stdout",
     "output_type": "stream",
     "text": [
      "Enter three string:Emma Jessa Kelly\n"
     ]
    },
    {
     "data": {
      "text/plain": [
       "['Emma', 'Jessa', 'Kelly']"
      ]
     },
     "execution_count": 142,
     "metadata": {},
     "output_type": "execute_result"
    }
   ],
   "source": [
    "str_input()"
   ]
  },
  {
   "cell_type": "code",
   "execution_count": 145,
   "id": "b38e5c67",
   "metadata": {},
   "outputs": [
    {
     "name": "stdout",
     "output_type": "stream",
     "text": [
      "Enter three string:Emma Jessa Kelly\n"
     ]
    }
   ],
   "source": [
    "str1, str2, str3 = input(\"Enter three string:\",).split()"
   ]
  },
  {
   "cell_type": "code",
   "execution_count": 146,
   "id": "c32614c0",
   "metadata": {},
   "outputs": [
    {
     "name": "stdout",
     "output_type": "stream",
     "text": [
      "Name1: Emma\n",
      "Name2: Jessa\n",
      "Name3: Kelly\n"
     ]
    }
   ],
   "source": [
    "print('Name1:', str1)\n",
    "print('Name2:', str2)\n",
    "print('Name3:', str3)"
   ]
  },
  {
   "cell_type": "code",
   "execution_count": 147,
   "id": "c5acceb6",
   "metadata": {},
   "outputs": [],
   "source": [
    "totalMoney = 1000\n",
    "quantity = 3\n",
    "price = 450"
   ]
  },
  {
   "cell_type": "code",
   "execution_count": 155,
   "id": "2bdd8ea4",
   "metadata": {},
   "outputs": [
    {
     "name": "stdout",
     "output_type": "stream",
     "text": [
      "I have 1000 dollars so I can buy 3 football for 450.00 dollars.\n"
     ]
    }
   ],
   "source": [
    "print(\"I have {0} dollars so I can buy {1} football for {2:0.2f} dollars.\".format(totalMoney,quantity,price))"
   ]
  },
  {
   "cell_type": "code",
   "execution_count": 156,
   "id": "d825a665",
   "metadata": {},
   "outputs": [],
   "source": [
    "import os"
   ]
  },
  {
   "cell_type": "code",
   "execution_count": 158,
   "id": "11f59674",
   "metadata": {},
   "outputs": [
    {
     "data": {
      "text/plain": [
       "47"
      ]
     },
     "execution_count": 158,
     "metadata": {},
     "output_type": "execute_result"
    }
   ],
   "source": [
    "os.stat(\"file1.txt\").st_size"
   ]
  },
  {
   "cell_type": "code",
   "execution_count": 159,
   "id": "7052e6b3",
   "metadata": {},
   "outputs": [],
   "source": [
    "f = open(\"file3.txt\", \"w\")"
   ]
  },
  {
   "cell_type": "code",
   "execution_count": 163,
   "id": "89a57481",
   "metadata": {},
   "outputs": [
    {
     "name": "stdout",
     "output_type": "stream",
     "text": [
      "file is empty\n"
     ]
    }
   ],
   "source": [
    "size = os.stat(\"file3.txt\").st_size\n",
    "\n",
    "if size == 0:\n",
    "    print('file is empty')"
   ]
  },
  {
   "cell_type": "code",
   "execution_count": 166,
   "id": "8a7eea1b",
   "metadata": {},
   "outputs": [
    {
     "name": "stdout",
     "output_type": "stream",
     "text": [
      "line4\n",
      "\n"
     ]
    }
   ],
   "source": [
    "with open(\"file1.txt\", \"r\") as f:\n",
    "    lines = f.readlines()\n",
    "    \n",
    "    print(lines[3])"
   ]
  },
  {
   "cell_type": "code",
   "execution_count": null,
   "id": "6c03b772",
   "metadata": {},
   "outputs": [],
   "source": []
  },
  {
   "cell_type": "code",
   "execution_count": null,
   "id": "b984541e",
   "metadata": {},
   "outputs": [],
   "source": []
  }
 ],
 "metadata": {
  "kernelspec": {
   "display_name": "Python 3 (ipykernel)",
   "language": "python",
   "name": "python3"
  },
  "language_info": {
   "codemirror_mode": {
    "name": "ipython",
    "version": 3
   },
   "file_extension": ".py",
   "mimetype": "text/x-python",
   "name": "python",
   "nbconvert_exporter": "python",
   "pygments_lexer": "ipython3",
   "version": "3.8.8"
  }
 },
 "nbformat": 4,
 "nbformat_minor": 5
}
