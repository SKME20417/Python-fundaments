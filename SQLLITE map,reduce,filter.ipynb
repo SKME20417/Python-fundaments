{
 "cells": [
  {
   "cell_type": "code",
   "execution_count": 1,
   "id": "b6be7123",
   "metadata": {},
   "outputs": [],
   "source": [
    "import sqlite3"
   ]
  },
  {
   "cell_type": "code",
   "execution_count": 2,
   "id": "21722149",
   "metadata": {},
   "outputs": [
    {
     "data": {
      "text/plain": [
       "<sqlite3.Connection at 0x165028f4210>"
      ]
     },
     "execution_count": 2,
     "metadata": {},
     "output_type": "execute_result"
    }
   ],
   "source": [
    "sqlite3.connect('inueron.db')"
   ]
  },
  {
   "cell_type": "code",
   "execution_count": 3,
   "id": "d94f7989",
   "metadata": {},
   "outputs": [
    {
     "name": "stdout",
     "output_type": "stream",
     "text": [
      " Volume in drive C is Windows-SSD\n",
      " Volume Serial Number is 9640-2F36\n",
      "\n",
      " Directory of C:\\Users\\nimbu\\Documents\\Python_script\n",
      "\n",
      "05/02/2022  04:20 PM    <DIR>          .\n",
      "04/28/2022  10:19 AM    <DIR>          ..\n",
      "05/02/2022  10:50 AM    <DIR>          .ipynb_checkpoints\n",
      "04/13/2022  12:31 PM    <DIR>          blue\n",
      "04/28/2022  06:03 PM             5,963 car_evaluation.csv\n",
      "04/28/2022  06:11 PM            53,631 cardata.csv\n",
      "04/14/2022  12:35 PM    <DIR>          Courier invoices\n",
      "04/21/2022  06:55 PM    <DIR>          courier_bill\n",
      "04/22/2022  12:46 PM           170,781 Courierwise Shipment bill compilation.ipynb\n",
      "04/20/2022  03:08 PM    <DIR>          development\n",
      "04/20/2022  03:05 PM           612,069 development.zip\n",
      "04/21/2022  07:44 PM         2,902,669 DTDC_finall_march_22.csv\n",
      "04/22/2022  10:48 AM         2,898,050 DTDC_finalll_march_22.csv\n",
      "04/25/2022  10:39 AM    <DIR>          ecomm\n",
      "04/27/2022  01:58 PM    <DIR>          employee_practice\n",
      "04/25/2022  02:26 PM    <DIR>          final\n",
      "04/11/2022  06:08 PM    <DIR>          finance\n",
      "04/27/2022  05:13 PM            11,903 glass (1).data\n",
      "04/27/2022  04:32 PM            10,053 glass.csv\n",
      "05/02/2022  04:20 PM                 0 inueron.db\n",
      "04/21/2022  12:53 PM    <DIR>          newemployee\n",
      "05/02/2022  03:16 PM    <DIR>          nimbus\n",
      "04/04/2022  03:08 PM         1,226,775 pickerr_nimbus_data.csv\n",
      "04/26/2022  10:34 AM    <DIR>          sales\n",
      "04/01/2022  04:34 PM           373,757 shopifyorderdata.csv\n",
      "04/26/2022  04:36 PM               121 SourcewiseLeadCount.csv\n",
      "05/02/2022  04:18 PM            45,270 SQLLITE _map ,reduce ,filter,zip.ipynb\n",
      "05/02/2022  04:19 PM               605 SQLLITE.ipynb\n",
      "              14 File(s)      8,311,647 bytes\n",
      "              14 Dir(s)  406,964,547,584 bytes free\n"
     ]
    }
   ],
   "source": [
    "ls"
   ]
  },
  {
   "cell_type": "code",
   "execution_count": 4,
   "id": "a5fb024d",
   "metadata": {},
   "outputs": [],
   "source": [
    "db = sqlite3.connect('marketing.db')"
   ]
  },
  {
   "cell_type": "code",
   "execution_count": 5,
   "id": "7c9d500f",
   "metadata": {},
   "outputs": [
    {
     "name": "stdout",
     "output_type": "stream",
     "text": [
      " Volume in drive C is Windows-SSD\n",
      " Volume Serial Number is 9640-2F36\n",
      "\n",
      " Directory of C:\\Users\\nimbu\\Documents\\Python_script\n",
      "\n",
      "05/02/2022  04:23 PM    <DIR>          .\n",
      "04/28/2022  10:19 AM    <DIR>          ..\n",
      "05/02/2022  04:21 PM    <DIR>          .ipynb_checkpoints\n",
      "04/13/2022  12:31 PM    <DIR>          blue\n",
      "04/28/2022  06:03 PM             5,963 car_evaluation.csv\n",
      "04/28/2022  06:11 PM            53,631 cardata.csv\n",
      "04/14/2022  12:35 PM    <DIR>          Courier invoices\n",
      "04/21/2022  06:55 PM    <DIR>          courier_bill\n",
      "04/22/2022  12:46 PM           170,781 Courierwise Shipment bill compilation.ipynb\n",
      "04/20/2022  03:08 PM    <DIR>          development\n",
      "04/20/2022  03:05 PM           612,069 development.zip\n",
      "04/21/2022  07:44 PM         2,902,669 DTDC_finall_march_22.csv\n",
      "04/22/2022  10:48 AM         2,898,050 DTDC_finalll_march_22.csv\n",
      "04/25/2022  10:39 AM    <DIR>          ecomm\n",
      "04/27/2022  01:58 PM    <DIR>          employee_practice\n",
      "04/25/2022  02:26 PM    <DIR>          final\n",
      "04/11/2022  06:08 PM    <DIR>          finance\n",
      "04/27/2022  05:13 PM            11,903 glass (1).data\n",
      "04/27/2022  04:32 PM            10,053 glass.csv\n",
      "05/02/2022  04:20 PM                 0 inueron.db\n",
      "05/02/2022  04:23 PM                 0 marketing.db\n",
      "04/21/2022  12:53 PM    <DIR>          newemployee\n",
      "05/02/2022  03:16 PM    <DIR>          nimbus\n",
      "04/04/2022  03:08 PM         1,226,775 pickerr_nimbus_data.csv\n",
      "04/26/2022  10:34 AM    <DIR>          sales\n",
      "04/01/2022  04:34 PM           373,757 shopifyorderdata.csv\n",
      "04/26/2022  04:36 PM               121 SourcewiseLeadCount.csv\n",
      "05/02/2022  04:21 PM            45,282 SQLLITE _map ,reduce ,filter,zip.ipynb\n",
      "05/02/2022  04:23 PM             3,682 SQLLITE.ipynb\n",
      "              15 File(s)      8,314,736 bytes\n",
      "              14 Dir(s)  406,963,486,720 bytes free\n"
     ]
    }
   ],
   "source": [
    "ls"
   ]
  },
  {
   "cell_type": "code",
   "execution_count": 6,
   "id": "87e44263",
   "metadata": {},
   "outputs": [],
   "source": [
    "cursor = db.cursor()"
   ]
  },
  {
   "cell_type": "code",
   "execution_count": 7,
   "id": "9527fe2f",
   "metadata": {},
   "outputs": [
    {
     "data": {
      "text/plain": [
       "<sqlite3.Cursor at 0x16502a47ab0>"
      ]
     },
     "execution_count": 7,
     "metadata": {},
     "output_type": "execute_result"
    }
   ],
   "source": [
    "cursor.execute('create table fsdas(name text, batchid int, marks rael)')"
   ]
  },
  {
   "cell_type": "code",
   "execution_count": 12,
   "id": "b122269d",
   "metadata": {},
   "outputs": [
    {
     "name": "stdout",
     "output_type": "stream",
     "text": [
      " Volume in drive C is Windows-SSD\n",
      " Volume Serial Number is 9640-2F36\n",
      "\n",
      " Directory of C:\\Users\\nimbu\\Documents\\Python_script\n",
      "\n",
      "05/02/2022  04:31 PM    <DIR>          .\n",
      "04/28/2022  10:19 AM    <DIR>          ..\n",
      "05/02/2022  04:21 PM    <DIR>          .ipynb_checkpoints\n",
      "04/13/2022  12:31 PM    <DIR>          blue\n",
      "04/28/2022  06:03 PM             5,963 car_evaluation.csv\n",
      "04/28/2022  06:11 PM            53,631 cardata.csv\n",
      "04/14/2022  12:35 PM    <DIR>          Courier invoices\n",
      "04/21/2022  06:55 PM    <DIR>          courier_bill\n",
      "04/22/2022  12:46 PM           170,781 Courierwise Shipment bill compilation.ipynb\n",
      "04/20/2022  03:08 PM    <DIR>          development\n",
      "04/20/2022  03:05 PM           612,069 development.zip\n",
      "04/21/2022  07:44 PM         2,902,669 DTDC_finall_march_22.csv\n",
      "04/22/2022  10:48 AM         2,898,050 DTDC_finalll_march_22.csv\n",
      "04/25/2022  10:39 AM    <DIR>          ecomm\n",
      "04/27/2022  01:58 PM    <DIR>          employee_practice\n",
      "04/25/2022  02:26 PM    <DIR>          final\n",
      "04/11/2022  06:08 PM    <DIR>          finance\n",
      "04/27/2022  05:13 PM            11,903 glass (1).data\n",
      "04/27/2022  04:32 PM            10,053 glass.csv\n",
      "05/02/2022  04:20 PM                 0 inueron.db\n",
      "05/02/2022  04:29 PM             8,192 marketing.db\n",
      "04/21/2022  12:53 PM    <DIR>          newemployee\n",
      "05/02/2022  03:16 PM    <DIR>          nimbus\n",
      "04/04/2022  03:08 PM         1,226,775 pickerr_nimbus_data.csv\n",
      "04/26/2022  10:34 AM    <DIR>          sales\n",
      "04/01/2022  04:34 PM           373,757 shopifyorderdata.csv\n",
      "04/26/2022  04:36 PM               121 SourcewiseLeadCount.csv\n",
      "05/02/2022  04:21 PM            45,282 SQLLITE _map ,reduce ,filter,zip.ipynb\n",
      "05/02/2022  04:31 PM             7,448 SQLLITE.ipynb\n",
      "              15 File(s)      8,326,694 bytes\n",
      "              14 Dir(s)  406,962,487,296 bytes free\n"
     ]
    }
   ],
   "source": [
    "ls"
   ]
  },
  {
   "cell_type": "code",
   "execution_count": 15,
   "id": "0351d866",
   "metadata": {},
   "outputs": [
    {
     "data": {
      "text/plain": [
       "<sqlite3.Cursor at 0x16502a47ab0>"
      ]
     },
     "execution_count": 15,
     "metadata": {},
     "output_type": "execute_result"
    }
   ],
   "source": [
    "cursor.execute(\"insert into fsdas values('sanjay', 3536, 98.78)\")"
   ]
  },
  {
   "cell_type": "code",
   "execution_count": 23,
   "id": "b42c14d0",
   "metadata": {},
   "outputs": [
    {
     "data": {
      "text/plain": [
       "<sqlite3.Cursor at 0x16502a47ab0>"
      ]
     },
     "execution_count": 23,
     "metadata": {},
     "output_type": "execute_result"
    }
   ],
   "source": [
    "cursor.execute(\"insert into fsdas values('sanjay', 3536, 98.78)\")\n",
    "cursor.execute(\"insert into fsdas values('sanjay', 3536, 98.78)\")\n",
    "cursor.execute(\"insert into fsdas values('sanjay', 3536, 98.78)\")\n",
    "cursor.execute(\"insert into fsdas values('sanjay', 3536, 98.78)\")\n",
    "cursor.execute(\"insert into fsdas values('sanjay', 3536, 98.78)\")\n",
    "cursor.execute(\"insert into fsdas values('sanjay', 3536, 98.78)\")"
   ]
  },
  {
   "cell_type": "code",
   "execution_count": 26,
   "id": "a95fb31c",
   "metadata": {},
   "outputs": [],
   "source": [
    "data = cursor.execute('select * from fsdas')"
   ]
  },
  {
   "cell_type": "code",
   "execution_count": 27,
   "id": "4be0fe52",
   "metadata": {},
   "outputs": [
    {
     "name": "stdout",
     "output_type": "stream",
     "text": [
      "('sanjay', 3536, 98.78)\n",
      "('sanjay', 3536, 98.78)\n",
      "('sanjay', 3536, 98.78)\n",
      "('sanjay', 3536, 98.78)\n",
      "('sanjay', 3536, 98.78)\n",
      "('sanjay', 3536, 98.78)\n",
      "('sanjay', 3536, 98.78)\n",
      "('sanjay', 3536, 98.78)\n",
      "('sanjay', 3536, 98.78)\n",
      "('sanjay', 3536, 98.78)\n",
      "('sanjay', 3536, 98.78)\n",
      "('sanjay', 3536, 98.78)\n",
      "('sanjay', 3536, 98.78)\n",
      "('sanjay', 3536, 98.78)\n",
      "('sanjay', 3536, 98.78)\n",
      "('sanjay', 3536, 98.78)\n",
      "('sanjay', 3536, 98.78)\n",
      "('sanjay', 3536, 98.78)\n",
      "('sanjay', 3536, 98.78)\n"
     ]
    }
   ],
   "source": [
    "for i in data:\n",
    "    print(i)"
   ]
  },
  {
   "cell_type": "code",
   "execution_count": 28,
   "id": "e63ec754",
   "metadata": {},
   "outputs": [],
   "source": [
    "mkdir promotion"
   ]
  },
  {
   "cell_type": "code",
   "execution_count": 29,
   "id": "ec4a405c",
   "metadata": {},
   "outputs": [],
   "source": [
    "db.commit()"
   ]
  },
  {
   "cell_type": "code",
   "execution_count": 30,
   "id": "3b82239a",
   "metadata": {},
   "outputs": [],
   "source": [
    "db.close()"
   ]
  },
  {
   "cell_type": "code",
   "execution_count": 31,
   "id": "16e483be",
   "metadata": {},
   "outputs": [
    {
     "name": "stdout",
     "output_type": "stream",
     "text": [
      " Volume in drive C is Windows-SSD\n",
      " Volume Serial Number is 9640-2F36\n",
      "\n",
      " Directory of C:\\Users\\nimbu\\Documents\\Python_script\n",
      "\n",
      "05/02/2022  04:41 PM    <DIR>          .\n",
      "04/28/2022  10:19 AM    <DIR>          ..\n",
      "05/02/2022  04:21 PM    <DIR>          .ipynb_checkpoints\n",
      "04/13/2022  12:31 PM    <DIR>          blue\n",
      "04/28/2022  06:03 PM             5,963 car_evaluation.csv\n",
      "04/28/2022  06:11 PM            53,631 cardata.csv\n",
      "04/14/2022  12:35 PM    <DIR>          Courier invoices\n",
      "04/21/2022  06:55 PM    <DIR>          courier_bill\n",
      "04/22/2022  12:46 PM           170,781 Courierwise Shipment bill compilation.ipynb\n",
      "04/20/2022  03:08 PM    <DIR>          development\n",
      "04/20/2022  03:05 PM           612,069 development.zip\n",
      "04/21/2022  07:44 PM         2,902,669 DTDC_finall_march_22.csv\n",
      "04/22/2022  10:48 AM         2,898,050 DTDC_finalll_march_22.csv\n",
      "04/25/2022  10:39 AM    <DIR>          ecomm\n",
      "04/27/2022  01:58 PM    <DIR>          employee_practice\n",
      "04/25/2022  02:26 PM    <DIR>          final\n",
      "04/11/2022  06:08 PM    <DIR>          finance\n",
      "04/27/2022  05:13 PM            11,903 glass (1).data\n",
      "04/27/2022  04:32 PM            10,053 glass.csv\n",
      "05/02/2022  04:20 PM                 0 inueron.db\n",
      "05/02/2022  04:40 PM             8,192 marketing.db\n",
      "04/21/2022  12:53 PM    <DIR>          newemployee\n",
      "05/02/2022  03:16 PM    <DIR>          nimbus\n",
      "04/04/2022  03:08 PM         1,226,775 pickerr_nimbus_data.csv\n",
      "05/02/2022  04:39 PM    <DIR>          promotion\n",
      "04/26/2022  10:34 AM    <DIR>          sales\n",
      "04/01/2022  04:34 PM           373,757 shopifyorderdata.csv\n",
      "04/26/2022  04:36 PM               121 SourcewiseLeadCount.csv\n",
      "05/02/2022  04:21 PM            45,282 SQLLITE _map ,reduce ,filter,zip.ipynb\n",
      "05/02/2022  04:41 PM            11,909 SQLLITE.ipynb\n",
      "              15 File(s)      8,331,155 bytes\n",
      "              15 Dir(s)  406,962,282,496 bytes free\n"
     ]
    }
   ],
   "source": [
    "ls"
   ]
  },
  {
   "cell_type": "code",
   "execution_count": 32,
   "id": "a7ee8699",
   "metadata": {},
   "outputs": [
    {
     "name": "stdout",
     "output_type": "stream",
     "text": [
      " Volume in drive C is Windows-SSD\n",
      " Volume Serial Number is 9640-2F36\n",
      "\n",
      " Directory of C:\\Users\\nimbu\\Documents\\Python_script\n",
      "\n",
      "05/02/2022  04:43 PM    <DIR>          .\n",
      "04/28/2022  10:19 AM    <DIR>          ..\n",
      "05/02/2022  04:21 PM    <DIR>          .ipynb_checkpoints\n",
      "04/13/2022  12:31 PM    <DIR>          blue\n",
      "04/28/2022  06:03 PM             5,963 car_evaluation.csv\n",
      "04/28/2022  06:11 PM            53,631 cardata.csv\n",
      "04/14/2022  12:35 PM    <DIR>          Courier invoices\n",
      "04/21/2022  06:55 PM    <DIR>          courier_bill\n",
      "04/22/2022  12:46 PM           170,781 Courierwise Shipment bill compilation.ipynb\n",
      "04/20/2022  03:08 PM    <DIR>          development\n",
      "04/20/2022  03:05 PM           612,069 development.zip\n",
      "04/21/2022  07:44 PM         2,902,669 DTDC_finall_march_22.csv\n",
      "04/22/2022  10:48 AM         2,898,050 DTDC_finalll_march_22.csv\n",
      "04/25/2022  10:39 AM    <DIR>          ecomm\n",
      "04/27/2022  01:58 PM    <DIR>          employee_practice\n",
      "04/25/2022  02:26 PM    <DIR>          final\n",
      "04/11/2022  06:08 PM    <DIR>          finance\n",
      "04/27/2022  05:13 PM            11,903 glass (1).data\n",
      "04/27/2022  04:32 PM            10,053 glass.csv\n",
      "05/02/2022  04:20 PM                 0 inueron.db\n",
      "05/02/2022  04:40 PM             8,192 marketing.db\n",
      "04/21/2022  12:53 PM    <DIR>          newemployee\n",
      "05/02/2022  03:16 PM    <DIR>          nimbus\n",
      "04/04/2022  03:08 PM         1,226,775 pickerr_nimbus_data.csv\n",
      "05/02/2022  04:39 PM    <DIR>          promotion\n",
      "04/26/2022  10:34 AM    <DIR>          sales\n",
      "04/01/2022  04:34 PM           373,757 shopifyorderdata.csv\n",
      "04/26/2022  04:36 PM               121 SourcewiseLeadCount.csv\n",
      "05/02/2022  04:21 PM            45,282 SQLLITE _map ,reduce ,filter,zip.ipynb\n",
      "05/02/2022  04:43 PM            14,405 SQLLITE.ipynb\n",
      "              15 File(s)      8,333,651 bytes\n",
      "              15 Dir(s)  406,997,491,712 bytes free\n"
     ]
    }
   ],
   "source": [
    "ls"
   ]
  },
  {
   "cell_type": "code",
   "execution_count": 33,
   "id": "ca6e43c2",
   "metadata": {},
   "outputs": [],
   "source": [
    "db = sqlite3.connect('marketing.db')"
   ]
  },
  {
   "cell_type": "code",
   "execution_count": 34,
   "id": "dd85b3bb",
   "metadata": {},
   "outputs": [],
   "source": [
    "cursor = db.cursor()"
   ]
  },
  {
   "cell_type": "code",
   "execution_count": 39,
   "id": "5fd7e44a",
   "metadata": {},
   "outputs": [],
   "source": [
    "for i in cursor.execute('select * from fsdas where marks > 400'):\n",
    "    print(i)"
   ]
  },
  {
   "cell_type": "code",
   "execution_count": 41,
   "id": "b933f615",
   "metadata": {},
   "outputs": [],
   "source": [
    "data = cursor.execute('select * from fsdas')"
   ]
  },
  {
   "cell_type": "code",
   "execution_count": 42,
   "id": "d6a2ac0c",
   "metadata": {},
   "outputs": [
    {
     "name": "stdout",
     "output_type": "stream",
     "text": [
      "('sanjay', 3536, 98.78)\n",
      "('sanjay', 3536, 98.78)\n",
      "('sanjay', 3536, 98.78)\n",
      "('sanjay', 3536, 98.78)\n",
      "('sanjay', 3536, 98.78)\n",
      "('sanjay', 3536, 98.78)\n",
      "('sanjay', 3536, 98.78)\n",
      "('sanjay', 3536, 98.78)\n",
      "('sanjay', 3536, 98.78)\n",
      "('sanjay', 3536, 98.78)\n",
      "('sanjay', 3536, 98.78)\n",
      "('sanjay', 3536, 98.78)\n",
      "('sanjay', 3536, 98.78)\n",
      "('sanjay', 3536, 98.78)\n",
      "('sanjay', 3536, 98.78)\n",
      "('sanjay', 3536, 98.78)\n",
      "('sanjay', 3536, 98.78)\n",
      "('sanjay', 3536, 98.78)\n",
      "('sanjay', 3536, 98.78)\n"
     ]
    }
   ],
   "source": [
    "for i in data:\n",
    "    print(i)"
   ]
  },
  {
   "cell_type": "code",
   "execution_count": 49,
   "id": "572f85ca",
   "metadata": {},
   "outputs": [],
   "source": [
    "s = cursor.execute(\"select * from fsdas where marks>50\")"
   ]
  },
  {
   "cell_type": "code",
   "execution_count": 50,
   "id": "969a1c48",
   "metadata": {},
   "outputs": [
    {
     "name": "stdout",
     "output_type": "stream",
     "text": [
      "('sanjay', 3536, 98.78)\n",
      "('sanjay', 3536, 98.78)\n",
      "('sanjay', 3536, 98.78)\n",
      "('sanjay', 3536, 98.78)\n",
      "('sanjay', 3536, 98.78)\n",
      "('sanjay', 3536, 98.78)\n",
      "('sanjay', 3536, 98.78)\n",
      "('sanjay', 3536, 98.78)\n",
      "('sanjay', 3536, 98.78)\n",
      "('sanjay', 3536, 98.78)\n",
      "('sanjay', 3536, 98.78)\n",
      "('sanjay', 3536, 98.78)\n",
      "('sanjay', 3536, 98.78)\n",
      "('sanjay', 3536, 98.78)\n",
      "('sanjay', 3536, 98.78)\n",
      "('sanjay', 3536, 98.78)\n",
      "('sanjay', 3536, 98.78)\n",
      "('sanjay', 3536, 98.78)\n",
      "('sanjay', 3536, 98.78)\n"
     ]
    }
   ],
   "source": [
    "for i in s:\n",
    "    print(i)\n",
    "    "
   ]
  },
  {
   "cell_type": "code",
   "execution_count": 52,
   "id": "b7808b9a",
   "metadata": {},
   "outputs": [
    {
     "name": "stdout",
     "output_type": "stream",
     "text": [
      "('sanjay', 3536, 98.78)\n",
      "('sanjay', 3536, 98.78)\n",
      "('sanjay', 3536, 98.78)\n",
      "('sanjay', 3536, 98.78)\n",
      "('sanjay', 3536, 98.78)\n",
      "('sanjay', 3536, 98.78)\n",
      "('sanjay', 3536, 98.78)\n",
      "('sanjay', 3536, 98.78)\n",
      "('sanjay', 3536, 98.78)\n",
      "('sanjay', 3536, 98.78)\n",
      "('sanjay', 3536, 98.78)\n",
      "('sanjay', 3536, 98.78)\n",
      "('sanjay', 3536, 98.78)\n",
      "('sanjay', 3536, 98.78)\n",
      "('sanjay', 3536, 98.78)\n",
      "('sanjay', 3536, 98.78)\n",
      "('sanjay', 3536, 98.78)\n",
      "('sanjay', 3536, 98.78)\n",
      "('sanjay', 3536, 98.78)\n"
     ]
    }
   ],
   "source": [
    "for i in cursor.execute(\"select * from fsdas where name = 'sanjay' \"):\n",
    "    print(i)"
   ]
  },
  {
   "cell_type": "code",
   "execution_count": 54,
   "id": "30a3a028",
   "metadata": {},
   "outputs": [
    {
     "name": "stdout",
     "output_type": "stream",
     "text": [
      "('sanjay', 98.78)\n",
      "('sanjay', 98.78)\n",
      "('sanjay', 98.78)\n",
      "('sanjay', 98.78)\n",
      "('sanjay', 98.78)\n",
      "('sanjay', 98.78)\n",
      "('sanjay', 98.78)\n",
      "('sanjay', 98.78)\n",
      "('sanjay', 98.78)\n",
      "('sanjay', 98.78)\n",
      "('sanjay', 98.78)\n",
      "('sanjay', 98.78)\n",
      "('sanjay', 98.78)\n",
      "('sanjay', 98.78)\n",
      "('sanjay', 98.78)\n",
      "('sanjay', 98.78)\n",
      "('sanjay', 98.78)\n",
      "('sanjay', 98.78)\n",
      "('sanjay', 98.78)\n"
     ]
    }
   ],
   "source": [
    "for i  in cursor.execute(\"select name, marks from fsdas\"):\n",
    "    print(i)"
   ]
  },
  {
   "cell_type": "code",
   "execution_count": 58,
   "id": "a5de731d",
   "metadata": {},
   "outputs": [],
   "source": [
    "f  = cursor.execute(\"select name,marks from fsdas order by marks desc\")"
   ]
  },
  {
   "cell_type": "code",
   "execution_count": 59,
   "id": "f95247d8",
   "metadata": {},
   "outputs": [
    {
     "name": "stdout",
     "output_type": "stream",
     "text": [
      "('sanjay', 98.78)\n",
      "('sanjay', 98.78)\n",
      "('sanjay', 98.78)\n",
      "('sanjay', 98.78)\n",
      "('sanjay', 98.78)\n",
      "('sanjay', 98.78)\n",
      "('sanjay', 98.78)\n",
      "('sanjay', 98.78)\n",
      "('sanjay', 98.78)\n",
      "('sanjay', 98.78)\n",
      "('sanjay', 98.78)\n",
      "('sanjay', 98.78)\n",
      "('sanjay', 98.78)\n",
      "('sanjay', 98.78)\n",
      "('sanjay', 98.78)\n",
      "('sanjay', 98.78)\n",
      "('sanjay', 98.78)\n",
      "('sanjay', 98.78)\n",
      "('sanjay', 98.78)\n"
     ]
    }
   ],
   "source": [
    "for i in f:\n",
    "    print(i)"
   ]
  },
  {
   "cell_type": "code",
   "execution_count": 60,
   "id": "2b017b3d",
   "metadata": {},
   "outputs": [],
   "source": [
    "db.close()"
   ]
  },
  {
   "cell_type": "code",
   "execution_count": 61,
   "id": "f5a4fdf1",
   "metadata": {},
   "outputs": [],
   "source": [
    "db = sqlite3.connect('person.db')"
   ]
  },
  {
   "cell_type": "code",
   "execution_count": 62,
   "id": "b7aaebd1",
   "metadata": {},
   "outputs": [
    {
     "name": "stdout",
     "output_type": "stream",
     "text": [
      " Volume in drive C is Windows-SSD\n",
      " Volume Serial Number is 9640-2F36\n",
      "\n",
      " Directory of C:\\Users\\nimbu\\Documents\\Python_script\n",
      "\n",
      "05/02/2022  05:05 PM    <DIR>          .\n",
      "04/28/2022  10:19 AM    <DIR>          ..\n",
      "05/02/2022  04:21 PM    <DIR>          .ipynb_checkpoints\n",
      "04/13/2022  12:31 PM    <DIR>          blue\n",
      "04/28/2022  06:03 PM             5,963 car_evaluation.csv\n",
      "04/28/2022  06:11 PM            53,631 cardata.csv\n",
      "04/14/2022  12:35 PM    <DIR>          Courier invoices\n",
      "04/21/2022  06:55 PM    <DIR>          courier_bill\n",
      "04/22/2022  12:46 PM           170,781 Courierwise Shipment bill compilation.ipynb\n",
      "04/20/2022  03:08 PM    <DIR>          development\n",
      "04/20/2022  03:05 PM           612,069 development.zip\n",
      "04/21/2022  07:44 PM         2,902,669 DTDC_finall_march_22.csv\n",
      "04/22/2022  10:48 AM         2,898,050 DTDC_finalll_march_22.csv\n",
      "04/25/2022  10:39 AM    <DIR>          ecomm\n",
      "04/27/2022  01:58 PM    <DIR>          employee_practice\n",
      "04/25/2022  02:26 PM    <DIR>          final\n",
      "04/11/2022  06:08 PM    <DIR>          finance\n",
      "04/27/2022  05:13 PM            11,903 glass (1).data\n",
      "04/27/2022  04:32 PM            10,053 glass.csv\n",
      "05/02/2022  04:20 PM                 0 inueron.db\n",
      "05/02/2022  04:40 PM             8,192 marketing.db\n",
      "04/21/2022  12:53 PM    <DIR>          newemployee\n",
      "05/02/2022  03:16 PM    <DIR>          nimbus\n",
      "05/02/2022  05:05 PM                 0 person.db\n",
      "04/04/2022  03:08 PM         1,226,775 pickerr_nimbus_data.csv\n",
      "05/02/2022  04:39 PM    <DIR>          promotion\n",
      "04/26/2022  10:34 AM    <DIR>          sales\n",
      "04/01/2022  04:34 PM           373,757 shopifyorderdata.csv\n",
      "04/26/2022  04:36 PM               121 SourcewiseLeadCount.csv\n",
      "05/02/2022  04:21 PM            45,282 SQLLITE _map ,reduce ,filter,zip.ipynb\n",
      "05/02/2022  05:03 PM            22,639 SQLLITE.ipynb\n",
      "              16 File(s)      8,341,885 bytes\n",
      "              15 Dir(s)  406,986,780,672 bytes free\n"
     ]
    }
   ],
   "source": [
    "ls"
   ]
  },
  {
   "cell_type": "code",
   "execution_count": 63,
   "id": "990acdf9",
   "metadata": {},
   "outputs": [],
   "source": [
    "cursor = db.cursor()"
   ]
  },
  {
   "cell_type": "code",
   "execution_count": 65,
   "id": "ea4aa075",
   "metadata": {},
   "outputs": [
    {
     "data": {
      "text/plain": [
       "<sqlite3.Cursor at 0x16502a33c70>"
      ]
     },
     "execution_count": 65,
     "metadata": {},
     "output_type": "execute_result"
    }
   ],
   "source": [
    "cursor.execute(\"create table persontable(name text, email text, age int, salary real)\")"
   ]
  },
  {
   "cell_type": "code",
   "execution_count": 66,
   "id": "3b53a882",
   "metadata": {},
   "outputs": [
    {
     "name": "stdout",
     "output_type": "stream",
     "text": [
      " Volume in drive C is Windows-SSD\n",
      " Volume Serial Number is 9640-2F36\n",
      "\n",
      " Directory of C:\\Users\\nimbu\\Documents\\Python_script\n",
      "\n",
      "05/02/2022  05:06 PM    <DIR>          .\n",
      "04/28/2022  10:19 AM    <DIR>          ..\n",
      "05/02/2022  04:21 PM    <DIR>          .ipynb_checkpoints\n",
      "04/13/2022  12:31 PM    <DIR>          blue\n",
      "04/28/2022  06:03 PM             5,963 car_evaluation.csv\n",
      "04/28/2022  06:11 PM            53,631 cardata.csv\n",
      "04/14/2022  12:35 PM    <DIR>          Courier invoices\n",
      "04/21/2022  06:55 PM    <DIR>          courier_bill\n",
      "04/22/2022  12:46 PM           170,781 Courierwise Shipment bill compilation.ipynb\n",
      "04/20/2022  03:08 PM    <DIR>          development\n",
      "04/20/2022  03:05 PM           612,069 development.zip\n",
      "04/21/2022  07:44 PM         2,902,669 DTDC_finall_march_22.csv\n",
      "04/22/2022  10:48 AM         2,898,050 DTDC_finalll_march_22.csv\n",
      "04/25/2022  10:39 AM    <DIR>          ecomm\n",
      "04/27/2022  01:58 PM    <DIR>          employee_practice\n",
      "04/25/2022  02:26 PM    <DIR>          final\n",
      "04/11/2022  06:08 PM    <DIR>          finance\n",
      "04/27/2022  05:13 PM            11,903 glass (1).data\n",
      "04/27/2022  04:32 PM            10,053 glass.csv\n",
      "05/02/2022  04:20 PM                 0 inueron.db\n",
      "05/02/2022  04:40 PM             8,192 marketing.db\n",
      "04/21/2022  12:53 PM    <DIR>          newemployee\n",
      "05/02/2022  03:16 PM    <DIR>          nimbus\n",
      "05/02/2022  05:06 PM             8,192 person.db\n",
      "04/04/2022  03:08 PM         1,226,775 pickerr_nimbus_data.csv\n",
      "05/02/2022  04:39 PM    <DIR>          promotion\n",
      "04/26/2022  10:34 AM    <DIR>          sales\n",
      "04/01/2022  04:34 PM           373,757 shopifyorderdata.csv\n",
      "04/26/2022  04:36 PM               121 SourcewiseLeadCount.csv\n",
      "05/02/2022  04:21 PM            45,282 SQLLITE _map ,reduce ,filter,zip.ipynb\n",
      "05/02/2022  05:05 PM            25,718 SQLLITE.ipynb\n",
      "              16 File(s)      8,353,156 bytes\n",
      "              15 Dir(s)  406,986,543,104 bytes free\n"
     ]
    }
   ],
   "source": [
    "ls"
   ]
  },
  {
   "cell_type": "code",
   "execution_count": 68,
   "id": "4573675b",
   "metadata": {},
   "outputs": [
    {
     "data": {
      "text/plain": [
       "<sqlite3.Cursor at 0x16502a33c70>"
      ]
     },
     "execution_count": 68,
     "metadata": {},
     "output_type": "execute_result"
    }
   ],
   "source": [
    "cursor.execute(\"insert into persontable values('sudh', 'sudh@gmail.com', 35, 15000)\")"
   ]
  },
  {
   "cell_type": "code",
   "execution_count": 70,
   "id": "b2066e9b",
   "metadata": {},
   "outputs": [
    {
     "data": {
      "text/plain": [
       "<sqlite3.Cursor at 0x16502a33c70>"
      ]
     },
     "execution_count": 70,
     "metadata": {},
     "output_type": "execute_result"
    }
   ],
   "source": [
    "cursor.execute(\"insert into persontable values('prashant', 'prashant@gmail.com', 38, 20000)\")\n",
    "cursor.execute(\"insert into persontable values('rohit', 'rohit@gmail.com', 37, 30000)\")\n",
    "cursor.execute(\"insert into persontable values('mukesh', 'mukesh@gmail.com', 36, 35000)\")\n",
    "cursor.execute(\"insert into persontable values('jon', 'jonh@gmail.com', 40, 25000)\")\n",
    "cursor.execute(\"insert into persontable values('mak', 'makh@gmail.com', 50, 45000)\")\n",
    "cursor.execute(\"insert into persontable values('sam', 'sam@gmail.com', 30, 50000)\")\n",
    "cursor.execute(\"insert into persontable values('don', 'don@gmail.com', 20, 10000)\")"
   ]
  },
  {
   "cell_type": "code",
   "execution_count": 72,
   "id": "0df60a05",
   "metadata": {},
   "outputs": [
    {
     "name": "stdout",
     "output_type": "stream",
     "text": [
      "('sudh', 'sudh@gmail.com', 35, 15000.0)\n",
      "('prashant', 'prashant@gmail.com', 38, 20000.0)\n",
      "('prashant', 'prashant@gmail.com', 38, 20000.0)\n",
      "('rohit', 'rohit@gmail.com', 37, 30000.0)\n",
      "('mukesh', 'mukesh@gmail.com', 36, 35000.0)\n",
      "('jon', 'jonh@gmail.com', 40, 25000.0)\n",
      "('mak', 'makh@gmail.com', 50, 45000.0)\n",
      "('sam', 'sam@gmail.com', 30, 50000.0)\n",
      "('don', 'don@gmail.com', 20, 10000.0)\n"
     ]
    }
   ],
   "source": [
    "for i in cursor.execute(\"select * from persontable\"):\n",
    "    print(i)"
   ]
  },
  {
   "cell_type": "code",
   "execution_count": 73,
   "id": "d159c60c",
   "metadata": {},
   "outputs": [],
   "source": [
    "db.commit()"
   ]
  },
  {
   "cell_type": "code",
   "execution_count": 74,
   "id": "0043fc35",
   "metadata": {},
   "outputs": [],
   "source": [
    "db.close()"
   ]
  },
  {
   "cell_type": "code",
   "execution_count": 75,
   "id": "0c49619a",
   "metadata": {},
   "outputs": [
    {
     "name": "stdout",
     "output_type": "stream",
     "text": [
      " Volume in drive C is Windows-SSD\n",
      " Volume Serial Number is 9640-2F36\n",
      "\n",
      " Directory of C:\\Users\\nimbu\\Documents\\Python_script\n",
      "\n",
      "05/02/2022  05:13 PM    <DIR>          .\n",
      "04/28/2022  10:19 AM    <DIR>          ..\n",
      "05/02/2022  04:21 PM    <DIR>          .ipynb_checkpoints\n",
      "04/13/2022  12:31 PM    <DIR>          blue\n",
      "04/28/2022  06:03 PM             5,963 car_evaluation.csv\n",
      "04/28/2022  06:11 PM            53,631 cardata.csv\n",
      "04/14/2022  12:35 PM    <DIR>          Courier invoices\n",
      "04/21/2022  06:55 PM    <DIR>          courier_bill\n",
      "04/22/2022  12:46 PM           170,781 Courierwise Shipment bill compilation.ipynb\n",
      "04/20/2022  03:08 PM    <DIR>          development\n",
      "04/20/2022  03:05 PM           612,069 development.zip\n",
      "04/21/2022  07:44 PM         2,902,669 DTDC_finall_march_22.csv\n",
      "04/22/2022  10:48 AM         2,898,050 DTDC_finalll_march_22.csv\n",
      "04/25/2022  10:39 AM    <DIR>          ecomm\n",
      "04/27/2022  01:58 PM    <DIR>          employee_practice\n",
      "04/25/2022  02:26 PM    <DIR>          final\n",
      "04/11/2022  06:08 PM    <DIR>          finance\n",
      "04/27/2022  05:13 PM            11,903 glass (1).data\n",
      "04/27/2022  04:32 PM            10,053 glass.csv\n",
      "05/02/2022  04:20 PM                 0 inueron.db\n",
      "05/02/2022  04:40 PM             8,192 marketing.db\n",
      "04/21/2022  12:53 PM    <DIR>          newemployee\n",
      "05/02/2022  03:16 PM    <DIR>          nimbus\n",
      "05/02/2022  05:13 PM             8,192 person.db\n",
      "04/04/2022  03:08 PM         1,226,775 pickerr_nimbus_data.csv\n",
      "05/02/2022  04:39 PM    <DIR>          promotion\n",
      "04/26/2022  10:34 AM    <DIR>          sales\n",
      "04/01/2022  04:34 PM           373,757 shopifyorderdata.csv\n",
      "04/26/2022  04:36 PM               121 SourcewiseLeadCount.csv\n",
      "05/02/2022  04:21 PM            45,282 SQLLITE _map ,reduce ,filter,zip.ipynb\n",
      "05/02/2022  05:11 PM            30,914 SQLLITE.ipynb\n",
      "              16 File(s)      8,358,352 bytes\n",
      "              15 Dir(s)  406,986,858,496 bytes free\n"
     ]
    }
   ],
   "source": [
    "ls"
   ]
  },
  {
   "cell_type": "code",
   "execution_count": 76,
   "id": "a959a151",
   "metadata": {},
   "outputs": [],
   "source": [
    "db = sqlite3.connect(\"marketing.db\")"
   ]
  },
  {
   "cell_type": "code",
   "execution_count": 77,
   "id": "7cb05b3e",
   "metadata": {},
   "outputs": [],
   "source": [
    "cursor = db.cursor()"
   ]
  },
  {
   "cell_type": "code",
   "execution_count": 79,
   "id": "63b2a04d",
   "metadata": {},
   "outputs": [
    {
     "name": "stdout",
     "output_type": "stream",
     "text": [
      "('sanjay', 3536, 98.78)\n",
      "('sanjay', 3536, 98.78)\n",
      "('sanjay', 3536, 98.78)\n",
      "('sanjay', 3536, 98.78)\n",
      "('sanjay', 3536, 98.78)\n",
      "('sanjay', 3536, 98.78)\n",
      "('sanjay', 3536, 98.78)\n",
      "('sanjay', 3536, 98.78)\n",
      "('sanjay', 3536, 98.78)\n",
      "('sanjay', 3536, 98.78)\n",
      "('sanjay', 3536, 98.78)\n",
      "('sanjay', 3536, 98.78)\n",
      "('sanjay', 3536, 98.78)\n",
      "('sanjay', 3536, 98.78)\n",
      "('sanjay', 3536, 98.78)\n",
      "('sanjay', 3536, 98.78)\n",
      "('sanjay', 3536, 98.78)\n",
      "('sanjay', 3536, 98.78)\n",
      "('sanjay', 3536, 98.78)\n"
     ]
    }
   ],
   "source": [
    "\n",
    "for i in cursor.execute(\"select * from fsdas\"):\n",
    "    print(i)"
   ]
  },
  {
   "cell_type": "code",
   "execution_count": 80,
   "id": "dda28bd4",
   "metadata": {},
   "outputs": [
    {
     "data": {
      "text/plain": [
       "<sqlite3.Cursor at 0x165029583b0>"
      ]
     },
     "execution_count": 80,
     "metadata": {},
     "output_type": "execute_result"
    }
   ],
   "source": [
    "cursor.execute(\"drop table fsdas\")"
   ]
  },
  {
   "cell_type": "code",
   "execution_count": 81,
   "id": "8b39fbbf",
   "metadata": {},
   "outputs": [
    {
     "ename": "OperationalError",
     "evalue": "no such table: fsdas",
     "output_type": "error",
     "traceback": [
      "\u001b[1;31m---------------------------------------------------------------------------\u001b[0m",
      "\u001b[1;31mOperationalError\u001b[0m                          Traceback (most recent call last)",
      "\u001b[1;32m~\\AppData\\Local\\Temp/ipykernel_13120/4283987974.py\u001b[0m in \u001b[0;36m<module>\u001b[1;34m\u001b[0m\n\u001b[1;32m----> 1\u001b[1;33m \u001b[0mcursor\u001b[0m\u001b[1;33m.\u001b[0m\u001b[0mexecute\u001b[0m\u001b[1;33m(\u001b[0m\u001b[1;34m\"select * from fsdas\"\u001b[0m\u001b[1;33m)\u001b[0m\u001b[1;33m\u001b[0m\u001b[1;33m\u001b[0m\u001b[0m\n\u001b[0m",
      "\u001b[1;31mOperationalError\u001b[0m: no such table: fsdas"
     ]
    }
   ],
   "source": [
    "cursor.execute(\"select * from fsdas\")"
   ]
  },
  {
   "cell_type": "code",
   "execution_count": 82,
   "id": "c1d24235",
   "metadata": {},
   "outputs": [
    {
     "name": "stdout",
     "output_type": "stream",
     "text": [
      " Volume in drive C is Windows-SSD\n",
      " Volume Serial Number is 9640-2F36\n",
      "\n",
      " Directory of C:\\Users\\nimbu\\Documents\\Python_script\n",
      "\n",
      "05/02/2022  05:15 PM    <DIR>          .\n",
      "04/28/2022  10:19 AM    <DIR>          ..\n",
      "05/02/2022  04:21 PM    <DIR>          .ipynb_checkpoints\n",
      "04/13/2022  12:31 PM    <DIR>          blue\n",
      "04/28/2022  06:03 PM             5,963 car_evaluation.csv\n",
      "04/28/2022  06:11 PM            53,631 cardata.csv\n",
      "04/14/2022  12:35 PM    <DIR>          Courier invoices\n",
      "04/21/2022  06:55 PM    <DIR>          courier_bill\n",
      "04/22/2022  12:46 PM           170,781 Courierwise Shipment bill compilation.ipynb\n",
      "04/20/2022  03:08 PM    <DIR>          development\n",
      "04/20/2022  03:05 PM           612,069 development.zip\n",
      "04/21/2022  07:44 PM         2,902,669 DTDC_finall_march_22.csv\n",
      "04/22/2022  10:48 AM         2,898,050 DTDC_finalll_march_22.csv\n",
      "04/25/2022  10:39 AM    <DIR>          ecomm\n",
      "04/27/2022  01:58 PM    <DIR>          employee_practice\n",
      "04/25/2022  02:26 PM    <DIR>          final\n",
      "04/11/2022  06:08 PM    <DIR>          finance\n",
      "04/27/2022  05:13 PM            11,903 glass (1).data\n",
      "04/27/2022  04:32 PM            10,053 glass.csv\n",
      "05/02/2022  04:20 PM                 0 inueron.db\n",
      "05/02/2022  05:15 PM             8,192 marketing.db\n",
      "04/21/2022  12:53 PM    <DIR>          newemployee\n",
      "05/02/2022  03:16 PM    <DIR>          nimbus\n",
      "05/02/2022  05:13 PM             8,192 person.db\n",
      "04/04/2022  03:08 PM         1,226,775 pickerr_nimbus_data.csv\n",
      "05/02/2022  04:39 PM    <DIR>          promotion\n",
      "04/26/2022  10:34 AM    <DIR>          sales\n",
      "04/01/2022  04:34 PM           373,757 shopifyorderdata.csv\n",
      "04/26/2022  04:36 PM               121 SourcewiseLeadCount.csv\n",
      "05/02/2022  04:21 PM            45,282 SQLLITE _map ,reduce ,filter,zip.ipynb\n",
      "05/02/2022  05:15 PM            36,475 SQLLITE.ipynb\n",
      "              16 File(s)      8,363,913 bytes\n",
      "              15 Dir(s)  406,987,546,624 bytes free\n"
     ]
    }
   ],
   "source": [
    "ls"
   ]
  },
  {
   "cell_type": "code",
   "execution_count": 83,
   "id": "c12a88b6",
   "metadata": {},
   "outputs": [],
   "source": [
    "db.close()"
   ]
  },
  {
   "cell_type": "code",
   "execution_count": 84,
   "id": "c1f52cde",
   "metadata": {},
   "outputs": [],
   "source": [
    "db = sqlite3.connect('person.db')"
   ]
  },
  {
   "cell_type": "code",
   "execution_count": 86,
   "id": "cce51ab5",
   "metadata": {},
   "outputs": [],
   "source": [
    "c = db.cursor()"
   ]
  },
  {
   "cell_type": "code",
   "execution_count": 90,
   "id": "c5b4f5d4",
   "metadata": {},
   "outputs": [],
   "source": [
    "d = c.execute(\"select * from persontable limit 2 \")"
   ]
  },
  {
   "cell_type": "code",
   "execution_count": 91,
   "id": "4a816af4",
   "metadata": {},
   "outputs": [
    {
     "name": "stdout",
     "output_type": "stream",
     "text": [
      "('sudh', 'sudh@gmail.com', 35, 15000.0)\n",
      "('prashant', 'prashant@gmail.com', 38, 20000.0)\n"
     ]
    }
   ],
   "source": [
    "for i in d:\n",
    "    print(i)"
   ]
  },
  {
   "cell_type": "code",
   "execution_count": 92,
   "id": "90562917",
   "metadata": {},
   "outputs": [],
   "source": [
    "db.close()"
   ]
  },
  {
   "cell_type": "code",
   "execution_count": 93,
   "id": "eb631c9a",
   "metadata": {},
   "outputs": [],
   "source": [
    "db = sqlite3.connect(\"job.db\")"
   ]
  },
  {
   "cell_type": "code",
   "execution_count": 94,
   "id": "2b61b446",
   "metadata": {},
   "outputs": [],
   "source": [
    "c = db.cursor()"
   ]
  },
  {
   "cell_type": "code",
   "execution_count": 95,
   "id": "5d4ad847",
   "metadata": {},
   "outputs": [
    {
     "data": {
      "text/plain": [
       "<sqlite3.Cursor at 0x16502af2650>"
      ]
     },
     "execution_count": 95,
     "metadata": {},
     "output_type": "execute_result"
    }
   ],
   "source": [
    "c.execute(\"create table student(student_id int, student_name text, student_mailid text, marks int)\")"
   ]
  },
  {
   "cell_type": "code",
   "execution_count": 110,
   "id": "a02eeb14",
   "metadata": {},
   "outputs": [
    {
     "data": {
      "text/plain": [
       "<sqlite3.Cursor at 0x16502af2650>"
      ]
     },
     "execution_count": 110,
     "metadata": {},
     "output_type": "execute_result"
    }
   ],
   "source": [
    "c.execute(\"create table address(student_id int, pincode int, location text, nearby text, phone_no int)\")"
   ]
  },
  {
   "cell_type": "code",
   "execution_count": 109,
   "id": "f3e6cb1b",
   "metadata": {},
   "outputs": [
    {
     "data": {
      "text/plain": [
       "<sqlite3.Cursor at 0x16502af2650>"
      ]
     },
     "execution_count": 109,
     "metadata": {},
     "output_type": "execute_result"
    }
   ],
   "source": [
    "c.execute(\"drop table address\")"
   ]
  },
  {
   "cell_type": "code",
   "execution_count": 102,
   "id": "62dd89a5",
   "metadata": {},
   "outputs": [
    {
     "name": "stdout",
     "output_type": "stream",
     "text": [
      " Volume in drive C is Windows-SSD\n",
      " Volume Serial Number is 9640-2F36\n",
      "\n",
      " Directory of C:\\Users\\nimbu\\Documents\\Python_script\n",
      "\n",
      "05/02/2022  05:36 PM    <DIR>          .\n",
      "04/28/2022  10:19 AM    <DIR>          ..\n",
      "05/02/2022  04:21 PM    <DIR>          .ipynb_checkpoints\n",
      "04/13/2022  12:31 PM    <DIR>          blue\n",
      "04/28/2022  06:03 PM             5,963 car_evaluation.csv\n",
      "04/28/2022  06:11 PM            53,631 cardata.csv\n",
      "04/14/2022  12:35 PM    <DIR>          Courier invoices\n",
      "04/21/2022  06:55 PM    <DIR>          courier_bill\n",
      "04/22/2022  12:46 PM           170,781 Courierwise Shipment bill compilation.ipynb\n",
      "04/20/2022  03:08 PM    <DIR>          development\n",
      "04/20/2022  03:05 PM           612,069 development.zip\n",
      "04/21/2022  07:44 PM         2,902,669 DTDC_finall_march_22.csv\n",
      "04/22/2022  10:48 AM         2,898,050 DTDC_finalll_march_22.csv\n",
      "04/25/2022  10:39 AM    <DIR>          ecomm\n",
      "04/27/2022  01:58 PM    <DIR>          employee_practice\n",
      "04/25/2022  02:26 PM    <DIR>          final\n",
      "04/11/2022  06:08 PM    <DIR>          finance\n",
      "04/27/2022  05:13 PM            11,903 glass (1).data\n",
      "04/27/2022  04:32 PM            10,053 glass.csv\n",
      "05/02/2022  04:20 PM                 0 inueron.db\n",
      "05/02/2022  05:36 PM            12,288 job.db\n",
      "05/02/2022  05:15 PM             8,192 marketing.db\n",
      "04/21/2022  12:53 PM    <DIR>          newemployee\n",
      "05/02/2022  03:16 PM    <DIR>          nimbus\n",
      "05/02/2022  05:13 PM             8,192 person.db\n",
      "04/04/2022  03:08 PM         1,226,775 pickerr_nimbus_data.csv\n",
      "05/02/2022  04:39 PM    <DIR>          promotion\n",
      "04/26/2022  10:34 AM    <DIR>          sales\n",
      "04/01/2022  04:34 PM           373,757 shopifyorderdata.csv\n",
      "04/26/2022  04:36 PM               121 SourcewiseLeadCount.csv\n",
      "05/02/2022  04:21 PM            45,282 SQLLITE _map ,reduce ,filter,zip.ipynb\n",
      "05/02/2022  05:35 PM            42,160 SQLLITE.ipynb\n",
      "              17 File(s)      8,381,886 bytes\n",
      "              15 Dir(s)  406,986,878,976 bytes free\n"
     ]
    }
   ],
   "source": [
    "ls"
   ]
  },
  {
   "cell_type": "code",
   "execution_count": 105,
   "id": "a4734836",
   "metadata": {},
   "outputs": [
    {
     "data": {
      "text/plain": [
       "<sqlite3.Cursor at 0x16502af2650>"
      ]
     },
     "execution_count": 105,
     "metadata": {},
     "output_type": "execute_result"
    }
   ],
   "source": [
    "c.execute(\"insert into student values(234,'sudhansu', 'sudhanshu@ineuron.ai', 234)\")"
   ]
  },
  {
   "cell_type": "code",
   "execution_count": 106,
   "id": "e56beb47",
   "metadata": {},
   "outputs": [
    {
     "data": {
      "text/plain": [
       "<sqlite3.Cursor at 0x16502af2650>"
      ]
     },
     "execution_count": 106,
     "metadata": {},
     "output_type": "execute_result"
    }
   ],
   "source": [
    "c.execute(\"insert into student values(235,'sudhansu', 'sudhanshu@ineuron.ai', 235)\")\n",
    "c.execute(\"insert into student values(236,'sudhansu', 'sudhanshu@ineuron.ai', 234)\")\n",
    "c.execute(\"insert into student values(237,'sudhansu', 'sudhanshu@ineuron.ai', 234)\")\n",
    "c.execute(\"insert into student values(238,'sudhansu', 'sudhanshu@ineuron.ai', 234)\")\n",
    "c.execute(\"insert into student values(239,'sudhansu', 'sudhanshu@ineuron.ai', 234)\")\n",
    "c.execute(\"insert into student values(2310,'sudhansu', 'sudhanshu@ineuron.ai', 234)\")\n",
    "c.execute(\"insert into student values(2311,'sudhansu', 'sudhanshu@ineuron.ai', 234)\")\n",
    "c.execute(\"insert into student values(2312,'sudhansu', 'sudhanshu@ineuron.ai', 234)\")"
   ]
  },
  {
   "cell_type": "code",
   "execution_count": 111,
   "id": "0d8c2beb",
   "metadata": {},
   "outputs": [
    {
     "data": {
      "text/plain": [
       "<sqlite3.Cursor at 0x16502af2650>"
      ]
     },
     "execution_count": 111,
     "metadata": {},
     "output_type": "execute_result"
    }
   ],
   "source": [
    "c.execute(\"insert into address values(235 , 56034 , 'whitefeild' , 'ineuron office' , 2563265977456 )\")"
   ]
  },
  {
   "cell_type": "code",
   "execution_count": 112,
   "id": "6c14c945",
   "metadata": {},
   "outputs": [
    {
     "data": {
      "text/plain": [
       "<sqlite3.Cursor at 0x16502af2650>"
      ]
     },
     "execution_count": 112,
     "metadata": {},
     "output_type": "execute_result"
    }
   ],
   "source": [
    "c.execute(\"insert into address values(236 , 56034 , 'whitefeild' , 'ineuron office' , 2563265977456 )\")\n",
    "c.execute(\"insert into address values(237 , 56034 , 'whitefeild' , 'ineuron office' , 2563265977456 )\")\n",
    "c.execute(\"insert into address values(238 , 56034 , 'whitefeild' , 'ineuron office' , 2563265977456 )\")\n",
    "c.execute(\"insert into address values(239 , 56034 , 'whitefeild' , 'ineuron office' , 2563265977456 )\")\n",
    "c.execute(\"insert into address values(23510 , 56034 , 'whitefeild' , 'ineuron office' , 2563265977456 )\")\n",
    "c.execute(\"insert into address values(23511 , 56034 , 'whitefeild' , 'ineuron office' , 2563265977456 )\")\n",
    "c.execute(\"insert into address values(23512 , 56034 , 'whitefeild' , 'ineuron office' , 2563265977456 )\")\n",
    "c.execute(\"insert into address values(23513 , 56034 , 'whitefeild' , 'ineuron office' , 2563265977456 )\")\n",
    "c.execute(\"insert into address values(23514 , 56034 , 'whitefeild' , 'ineuron office' , 2563265977456 )\")"
   ]
  },
  {
   "cell_type": "code",
   "execution_count": 113,
   "id": "1ce33b85",
   "metadata": {},
   "outputs": [
    {
     "data": {
      "text/plain": [
       "<sqlite3.Cursor at 0x16502af2650>"
      ]
     },
     "execution_count": 113,
     "metadata": {},
     "output_type": "execute_result"
    }
   ],
   "source": [
    "c.execute(\"insert into address values(236 , 560034 , 'whitefelid' ,'ineuron office ' , 2423543454353 )\")\n",
    "c.execute(\"insert into address values(237 , 560034 , 'whitefelid' ,'ineuron office ' , 2423543454353 )\")\n",
    "c.execute(\"insert into address values(238 , 560034 , 'whitefelid' ,'ineuron office ' , 2423543454353 )\")\n",
    "c.execute(\"insert into address values(239 , 560034 , 'whitefelid' ,'ineuron office ' , 2423543454353 )\")\n",
    "c.execute(\"insert into address values(210 , 560034 , 'whitefelid' ,'ineuron office ' , 2423543454353 )\")\n",
    "c.execute(\"insert into address values(23345 , 560034 , 'whitefelid' ,'ineuron office ' , 2423543454353 )\")\n",
    "c.execute(\"insert into address values(23345 , 560034 , 'whitefelid' ,'ineuron office ' , 2423543454353 )\")\n",
    "c.execute(\"insert into address values(23654 , 560034 , 'whitefelid' ,'ineuron office ' , 2423543454353 )\")\n",
    "c.execute(\"insert into address values(235345 , 560034 , 'whitefelid' ,'ineuron office ' , 2423543454353 )\")\n",
    "c.execute(\"insert into address values(23665 , 560034 , 'whitefelid' ,'ineuron office ' , 2423543454353 )\")\n",
    "c.execute(\"insert into address values(23623 , 560034 , 'whitefelid' ,'ineuron office ' , 2423543454353 )\")\n",
    "c.execute(\"insert into address values(23689 , 560034 , 'whitefelid' ,'ineuron office ' , 2423543454353 )\")\n",
    "c.execute(\"insert into address values(23609 , 560034 , 'whitefelid' ,'ineuron office ' , 2423543454353 )\")\n",
    "c.execute(\"insert into address values(23632 , 560034 , 'whitefelid' ,'ineuron office ' , 2423543454353 )\")\n",
    "c.execute(\"insert into address values(23689 , 560034 , 'whitefelid' ,'ineuron office ' , 2423543454353 )\")\n",
    "c.execute(\"insert into address values(23623 , 560034 , 'whitefelid' ,'ineuron office ' , 2423543454353 )\")\n",
    "c.execute(\"insert into address values(23698 , 560034 , 'whitefelid' ,'ineuron office ' , 2423543454353 )\")\n",
    "c.execute(\"insert into address values(23623 , 560034 , 'whitefelid' ,'ineuron office ' , 2423543454353 )\")\n",
    "c.execute(\"insert into address values(23689 , 560034 , 'whitefelid' ,'ineuron office ' , 2423543454353 )\")\n",
    "c.execute(\"insert into address values(23623 , 560034 , 'whitefelid' ,'ineuron office ' , 2423543454353 )\")\n",
    "c.execute(\"insert into address values(23690 , 560034 , 'whitefelid' ,'ineuron office ' , 2423543454353 )\")\n"
   ]
  },
  {
   "cell_type": "code",
   "execution_count": 114,
   "id": "1565d305",
   "metadata": {},
   "outputs": [
    {
     "data": {
      "text/plain": [
       "<sqlite3.Cursor at 0x16502af2650>"
      ]
     },
     "execution_count": 114,
     "metadata": {},
     "output_type": "execute_result"
    }
   ],
   "source": [
    "c.execute(\"insert into student values(234,'sudhashu' , 'sudhanshu@ineuron.ai' , 234)\")\n",
    "c.execute(\"insert into student values(235,'sudhashu' , 'sudhanshu@ineuron.ai' , 234)\")\n",
    "c.execute(\"insert into student values(236,'sudhashu' , 'sudhanshu@ineuron.ai' , 234)\")\n",
    "c.execute(\"insert into student values(237,'sudhashu' , 'sudhanshu@ineuron.ai' , 234)\")\n",
    "c.execute(\"insert into student values(238,'sudhashu' , 'sudhanshu@ineuron.ai' , 234)\")\n",
    "c.execute(\"insert into student values(239,'sudhashu' , 'sudhanshu@ineuron.ai' , 234)\")\n",
    "c.execute(\"insert into student values(2310,'sudhashu' , 'sudhanshu@ineuron.ai' , 234)\")\n",
    "c.execute(\"insert into student values(2311,'sudhashu' , 'sudhanshu@ineuron.ai' , 234)\")\n",
    "c.execute(\"insert into student values(2343,'sudhashu' , 'sudhanshu@ineuron.ai' , 234)\")\n",
    "c.execute(\"insert into student values(233543,'sudhashu' , 'sudhanshu@ineuron.ai' , 234)\")\n",
    "c.execute(\"insert into student values(23345,'sudhashu' , 'sudhanshu@ineuron.ai' , 234)\")\n",
    "c.execute(\"insert into student values(233543,'sudhashu' , 'sudhanshu@ineuron.ai' , 234)\")"
   ]
  },
  {
   "cell_type": "code",
   "execution_count": 116,
   "id": "233b64a2",
   "metadata": {},
   "outputs": [
    {
     "name": "stdout",
     "output_type": "stream",
     "text": [
      "(235, 56034, 'whitefeild', 'ineuron office', 2563265977456)\n",
      "(236, 56034, 'whitefeild', 'ineuron office', 2563265977456)\n",
      "(237, 56034, 'whitefeild', 'ineuron office', 2563265977456)\n",
      "(238, 56034, 'whitefeild', 'ineuron office', 2563265977456)\n",
      "(239, 56034, 'whitefeild', 'ineuron office', 2563265977456)\n",
      "(23510, 56034, 'whitefeild', 'ineuron office', 2563265977456)\n",
      "(23511, 56034, 'whitefeild', 'ineuron office', 2563265977456)\n",
      "(23512, 56034, 'whitefeild', 'ineuron office', 2563265977456)\n",
      "(23513, 56034, 'whitefeild', 'ineuron office', 2563265977456)\n",
      "(23514, 56034, 'whitefeild', 'ineuron office', 2563265977456)\n",
      "(236, 560034, 'whitefelid', 'ineuron office ', 2423543454353)\n",
      "(237, 560034, 'whitefelid', 'ineuron office ', 2423543454353)\n",
      "(238, 560034, 'whitefelid', 'ineuron office ', 2423543454353)\n",
      "(239, 560034, 'whitefelid', 'ineuron office ', 2423543454353)\n",
      "(210, 560034, 'whitefelid', 'ineuron office ', 2423543454353)\n",
      "(23345, 560034, 'whitefelid', 'ineuron office ', 2423543454353)\n",
      "(23345, 560034, 'whitefelid', 'ineuron office ', 2423543454353)\n",
      "(23654, 560034, 'whitefelid', 'ineuron office ', 2423543454353)\n",
      "(235345, 560034, 'whitefelid', 'ineuron office ', 2423543454353)\n",
      "(23665, 560034, 'whitefelid', 'ineuron office ', 2423543454353)\n",
      "(23623, 560034, 'whitefelid', 'ineuron office ', 2423543454353)\n",
      "(23689, 560034, 'whitefelid', 'ineuron office ', 2423543454353)\n",
      "(23609, 560034, 'whitefelid', 'ineuron office ', 2423543454353)\n",
      "(23632, 560034, 'whitefelid', 'ineuron office ', 2423543454353)\n",
      "(23689, 560034, 'whitefelid', 'ineuron office ', 2423543454353)\n",
      "(23623, 560034, 'whitefelid', 'ineuron office ', 2423543454353)\n",
      "(23698, 560034, 'whitefelid', 'ineuron office ', 2423543454353)\n",
      "(23623, 560034, 'whitefelid', 'ineuron office ', 2423543454353)\n",
      "(23689, 560034, 'whitefelid', 'ineuron office ', 2423543454353)\n",
      "(23623, 560034, 'whitefelid', 'ineuron office ', 2423543454353)\n",
      "(23690, 560034, 'whitefelid', 'ineuron office ', 2423543454353)\n"
     ]
    }
   ],
   "source": [
    "for i in c.execute(\"select * from address\"):\n",
    "    print(i)"
   ]
  },
  {
   "cell_type": "code",
   "execution_count": 118,
   "id": "1cea341f",
   "metadata": {},
   "outputs": [
    {
     "name": "stdout",
     "output_type": "stream",
     "text": [
      "(234, 'sudhansu', 'sudhanshu@ineuron.ai', 234)\n",
      "(235, 'sudhansu', 'sudhanshu@ineuron.ai', 235)\n",
      "(236, 'sudhansu', 'sudhanshu@ineuron.ai', 234)\n",
      "(237, 'sudhansu', 'sudhanshu@ineuron.ai', 234)\n",
      "(238, 'sudhansu', 'sudhanshu@ineuron.ai', 234)\n",
      "(239, 'sudhansu', 'sudhanshu@ineuron.ai', 234)\n",
      "(2310, 'sudhansu', 'sudhanshu@ineuron.ai', 234)\n",
      "(2311, 'sudhansu', 'sudhanshu@ineuron.ai', 234)\n",
      "(2312, 'sudhansu', 'sudhanshu@ineuron.ai', 234)\n",
      "(234, 'sudhashu', 'sudhanshu@ineuron.ai', 234)\n",
      "(235, 'sudhashu', 'sudhanshu@ineuron.ai', 234)\n",
      "(236, 'sudhashu', 'sudhanshu@ineuron.ai', 234)\n",
      "(237, 'sudhashu', 'sudhanshu@ineuron.ai', 234)\n",
      "(238, 'sudhashu', 'sudhanshu@ineuron.ai', 234)\n",
      "(239, 'sudhashu', 'sudhanshu@ineuron.ai', 234)\n",
      "(2310, 'sudhashu', 'sudhanshu@ineuron.ai', 234)\n",
      "(2311, 'sudhashu', 'sudhanshu@ineuron.ai', 234)\n",
      "(2343, 'sudhashu', 'sudhanshu@ineuron.ai', 234)\n",
      "(233543, 'sudhashu', 'sudhanshu@ineuron.ai', 234)\n",
      "(23345, 'sudhashu', 'sudhanshu@ineuron.ai', 234)\n",
      "(233543, 'sudhashu', 'sudhanshu@ineuron.ai', 234)\n"
     ]
    }
   ],
   "source": [
    "for i in c.execute(\"select * from student\"):\n",
    "    print(i)"
   ]
  },
  {
   "cell_type": "code",
   "execution_count": 123,
   "id": "91f889da",
   "metadata": {},
   "outputs": [
    {
     "name": "stdout",
     "output_type": "stream",
     "text": [
      "(234, 'sudhansu', 'sudhanshu@ineuron.ai', 234, None, None, None, None, None)\n",
      "(235, 'sudhansu', 'sudhanshu@ineuron.ai', 235, 235, 56034, 'whitefeild', 'ineuron office', 2563265977456)\n",
      "(236, 'sudhansu', 'sudhanshu@ineuron.ai', 234, 236, 56034, 'whitefeild', 'ineuron office', 2563265977456)\n",
      "(236, 'sudhansu', 'sudhanshu@ineuron.ai', 234, 236, 560034, 'whitefelid', 'ineuron office ', 2423543454353)\n",
      "(237, 'sudhansu', 'sudhanshu@ineuron.ai', 234, 237, 56034, 'whitefeild', 'ineuron office', 2563265977456)\n",
      "(237, 'sudhansu', 'sudhanshu@ineuron.ai', 234, 237, 560034, 'whitefelid', 'ineuron office ', 2423543454353)\n",
      "(238, 'sudhansu', 'sudhanshu@ineuron.ai', 234, 238, 56034, 'whitefeild', 'ineuron office', 2563265977456)\n",
      "(238, 'sudhansu', 'sudhanshu@ineuron.ai', 234, 238, 560034, 'whitefelid', 'ineuron office ', 2423543454353)\n",
      "(239, 'sudhansu', 'sudhanshu@ineuron.ai', 234, 239, 56034, 'whitefeild', 'ineuron office', 2563265977456)\n",
      "(239, 'sudhansu', 'sudhanshu@ineuron.ai', 234, 239, 560034, 'whitefelid', 'ineuron office ', 2423543454353)\n",
      "(2310, 'sudhansu', 'sudhanshu@ineuron.ai', 234, None, None, None, None, None)\n",
      "(2311, 'sudhansu', 'sudhanshu@ineuron.ai', 234, None, None, None, None, None)\n",
      "(2312, 'sudhansu', 'sudhanshu@ineuron.ai', 234, None, None, None, None, None)\n",
      "(234, 'sudhashu', 'sudhanshu@ineuron.ai', 234, None, None, None, None, None)\n",
      "(235, 'sudhashu', 'sudhanshu@ineuron.ai', 234, 235, 56034, 'whitefeild', 'ineuron office', 2563265977456)\n",
      "(236, 'sudhashu', 'sudhanshu@ineuron.ai', 234, 236, 56034, 'whitefeild', 'ineuron office', 2563265977456)\n",
      "(236, 'sudhashu', 'sudhanshu@ineuron.ai', 234, 236, 560034, 'whitefelid', 'ineuron office ', 2423543454353)\n",
      "(237, 'sudhashu', 'sudhanshu@ineuron.ai', 234, 237, 56034, 'whitefeild', 'ineuron office', 2563265977456)\n",
      "(237, 'sudhashu', 'sudhanshu@ineuron.ai', 234, 237, 560034, 'whitefelid', 'ineuron office ', 2423543454353)\n",
      "(238, 'sudhashu', 'sudhanshu@ineuron.ai', 234, 238, 56034, 'whitefeild', 'ineuron office', 2563265977456)\n",
      "(238, 'sudhashu', 'sudhanshu@ineuron.ai', 234, 238, 560034, 'whitefelid', 'ineuron office ', 2423543454353)\n",
      "(239, 'sudhashu', 'sudhanshu@ineuron.ai', 234, 239, 56034, 'whitefeild', 'ineuron office', 2563265977456)\n",
      "(239, 'sudhashu', 'sudhanshu@ineuron.ai', 234, 239, 560034, 'whitefelid', 'ineuron office ', 2423543454353)\n",
      "(2310, 'sudhashu', 'sudhanshu@ineuron.ai', 234, None, None, None, None, None)\n",
      "(2311, 'sudhashu', 'sudhanshu@ineuron.ai', 234, None, None, None, None, None)\n",
      "(2343, 'sudhashu', 'sudhanshu@ineuron.ai', 234, None, None, None, None, None)\n",
      "(233543, 'sudhashu', 'sudhanshu@ineuron.ai', 234, None, None, None, None, None)\n",
      "(23345, 'sudhashu', 'sudhanshu@ineuron.ai', 234, 23345, 560034, 'whitefelid', 'ineuron office ', 2423543454353)\n",
      "(23345, 'sudhashu', 'sudhanshu@ineuron.ai', 234, 23345, 560034, 'whitefelid', 'ineuron office ', 2423543454353)\n",
      "(233543, 'sudhashu', 'sudhanshu@ineuron.ai', 234, None, None, None, None, None)\n"
     ]
    }
   ],
   "source": [
    "for i in c.execute(\"select * from student s left join address a on s.student_id = a.student_id \"):\n",
    "    print(i)"
   ]
  },
  {
   "cell_type": "code",
   "execution_count": 125,
   "id": "6a3e9f15",
   "metadata": {},
   "outputs": [
    {
     "name": "stdout",
     "output_type": "stream",
     "text": [
      "(234, 'sudhansu', 'sudhanshu@ineuron.ai', 234, None, None, None, None, None)\n",
      "(235, 'sudhansu', 'sudhanshu@ineuron.ai', 235, 235, 56034, 'whitefeild', 'ineuron office', 2563265977456)\n",
      "(236, 'sudhansu', 'sudhanshu@ineuron.ai', 234, 236, 56034, 'whitefeild', 'ineuron office', 2563265977456)\n",
      "(236, 'sudhansu', 'sudhanshu@ineuron.ai', 234, 236, 560034, 'whitefelid', 'ineuron office ', 2423543454353)\n",
      "(237, 'sudhansu', 'sudhanshu@ineuron.ai', 234, 237, 56034, 'whitefeild', 'ineuron office', 2563265977456)\n",
      "(237, 'sudhansu', 'sudhanshu@ineuron.ai', 234, 237, 560034, 'whitefelid', 'ineuron office ', 2423543454353)\n",
      "(238, 'sudhansu', 'sudhanshu@ineuron.ai', 234, 238, 56034, 'whitefeild', 'ineuron office', 2563265977456)\n",
      "(238, 'sudhansu', 'sudhanshu@ineuron.ai', 234, 238, 560034, 'whitefelid', 'ineuron office ', 2423543454353)\n",
      "(239, 'sudhansu', 'sudhanshu@ineuron.ai', 234, 239, 56034, 'whitefeild', 'ineuron office', 2563265977456)\n",
      "(239, 'sudhansu', 'sudhanshu@ineuron.ai', 234, 239, 560034, 'whitefelid', 'ineuron office ', 2423543454353)\n",
      "(2310, 'sudhansu', 'sudhanshu@ineuron.ai', 234, None, None, None, None, None)\n",
      "(2311, 'sudhansu', 'sudhanshu@ineuron.ai', 234, None, None, None, None, None)\n",
      "(2312, 'sudhansu', 'sudhanshu@ineuron.ai', 234, None, None, None, None, None)\n",
      "(234, 'sudhashu', 'sudhanshu@ineuron.ai', 234, None, None, None, None, None)\n",
      "(235, 'sudhashu', 'sudhanshu@ineuron.ai', 234, 235, 56034, 'whitefeild', 'ineuron office', 2563265977456)\n",
      "(236, 'sudhashu', 'sudhanshu@ineuron.ai', 234, 236, 56034, 'whitefeild', 'ineuron office', 2563265977456)\n",
      "(236, 'sudhashu', 'sudhanshu@ineuron.ai', 234, 236, 560034, 'whitefelid', 'ineuron office ', 2423543454353)\n",
      "(237, 'sudhashu', 'sudhanshu@ineuron.ai', 234, 237, 56034, 'whitefeild', 'ineuron office', 2563265977456)\n",
      "(237, 'sudhashu', 'sudhanshu@ineuron.ai', 234, 237, 560034, 'whitefelid', 'ineuron office ', 2423543454353)\n",
      "(238, 'sudhashu', 'sudhanshu@ineuron.ai', 234, 238, 56034, 'whitefeild', 'ineuron office', 2563265977456)\n",
      "(238, 'sudhashu', 'sudhanshu@ineuron.ai', 234, 238, 560034, 'whitefelid', 'ineuron office ', 2423543454353)\n",
      "(239, 'sudhashu', 'sudhanshu@ineuron.ai', 234, 239, 56034, 'whitefeild', 'ineuron office', 2563265977456)\n",
      "(239, 'sudhashu', 'sudhanshu@ineuron.ai', 234, 239, 560034, 'whitefelid', 'ineuron office ', 2423543454353)\n",
      "(2310, 'sudhashu', 'sudhanshu@ineuron.ai', 234, None, None, None, None, None)\n",
      "(2311, 'sudhashu', 'sudhanshu@ineuron.ai', 234, None, None, None, None, None)\n",
      "(2343, 'sudhashu', 'sudhanshu@ineuron.ai', 234, None, None, None, None, None)\n",
      "(233543, 'sudhashu', 'sudhanshu@ineuron.ai', 234, None, None, None, None, None)\n",
      "(23345, 'sudhashu', 'sudhanshu@ineuron.ai', 234, 23345, 560034, 'whitefelid', 'ineuron office ', 2423543454353)\n",
      "(23345, 'sudhashu', 'sudhanshu@ineuron.ai', 234, 23345, 560034, 'whitefelid', 'ineuron office ', 2423543454353)\n",
      "(233543, 'sudhashu', 'sudhanshu@ineuron.ai', 234, None, None, None, None, None)\n"
     ]
    }
   ],
   "source": [
    "for i in c.execute(\"select * from student s left join address a on s.student_id = a.student_id where s.student_id is not null\"):\n",
    "    print(i)"
   ]
  },
  {
   "cell_type": "code",
   "execution_count": 127,
   "id": "d0117eda",
   "metadata": {
    "scrolled": true
   },
   "outputs": [
    {
     "name": "stdout",
     "output_type": "stream",
     "text": [
      "(235, 'sudhansu', 'sudhanshu@ineuron.ai', 235, 235, 56034, 'whitefeild', 'ineuron office', 2563265977456)\n",
      "(236, 'sudhansu', 'sudhanshu@ineuron.ai', 234, 236, 56034, 'whitefeild', 'ineuron office', 2563265977456)\n",
      "(236, 'sudhansu', 'sudhanshu@ineuron.ai', 234, 236, 560034, 'whitefelid', 'ineuron office ', 2423543454353)\n",
      "(237, 'sudhansu', 'sudhanshu@ineuron.ai', 234, 237, 56034, 'whitefeild', 'ineuron office', 2563265977456)\n",
      "(237, 'sudhansu', 'sudhanshu@ineuron.ai', 234, 237, 560034, 'whitefelid', 'ineuron office ', 2423543454353)\n",
      "(238, 'sudhansu', 'sudhanshu@ineuron.ai', 234, 238, 56034, 'whitefeild', 'ineuron office', 2563265977456)\n",
      "(238, 'sudhansu', 'sudhanshu@ineuron.ai', 234, 238, 560034, 'whitefelid', 'ineuron office ', 2423543454353)\n",
      "(239, 'sudhansu', 'sudhanshu@ineuron.ai', 234, 239, 56034, 'whitefeild', 'ineuron office', 2563265977456)\n",
      "(239, 'sudhansu', 'sudhanshu@ineuron.ai', 234, 239, 560034, 'whitefelid', 'ineuron office ', 2423543454353)\n",
      "(235, 'sudhashu', 'sudhanshu@ineuron.ai', 234, 235, 56034, 'whitefeild', 'ineuron office', 2563265977456)\n",
      "(236, 'sudhashu', 'sudhanshu@ineuron.ai', 234, 236, 56034, 'whitefeild', 'ineuron office', 2563265977456)\n",
      "(236, 'sudhashu', 'sudhanshu@ineuron.ai', 234, 236, 560034, 'whitefelid', 'ineuron office ', 2423543454353)\n",
      "(237, 'sudhashu', 'sudhanshu@ineuron.ai', 234, 237, 56034, 'whitefeild', 'ineuron office', 2563265977456)\n",
      "(237, 'sudhashu', 'sudhanshu@ineuron.ai', 234, 237, 560034, 'whitefelid', 'ineuron office ', 2423543454353)\n",
      "(238, 'sudhashu', 'sudhanshu@ineuron.ai', 234, 238, 56034, 'whitefeild', 'ineuron office', 2563265977456)\n",
      "(238, 'sudhashu', 'sudhanshu@ineuron.ai', 234, 238, 560034, 'whitefelid', 'ineuron office ', 2423543454353)\n",
      "(239, 'sudhashu', 'sudhanshu@ineuron.ai', 234, 239, 56034, 'whitefeild', 'ineuron office', 2563265977456)\n",
      "(239, 'sudhashu', 'sudhanshu@ineuron.ai', 234, 239, 560034, 'whitefelid', 'ineuron office ', 2423543454353)\n",
      "(23345, 'sudhashu', 'sudhanshu@ineuron.ai', 234, 23345, 560034, 'whitefelid', 'ineuron office ', 2423543454353)\n",
      "(23345, 'sudhashu', 'sudhanshu@ineuron.ai', 234, 23345, 560034, 'whitefelid', 'ineuron office ', 2423543454353)\n"
     ]
    }
   ],
   "source": [
    "for i in c.execute(\"select * from student s inner join address a on s.student_id = a.student_id\"):\n",
    "    print(i)"
   ]
  },
  {
   "cell_type": "code",
   "execution_count": 129,
   "id": "e629f8a4",
   "metadata": {},
   "outputs": [
    {
     "name": "stdout",
     "output_type": "stream",
     "text": [
      "(235, 56034, 'whitefeild', 'ineuron office', 2563265977456, 235, 'sudhansu', 'sudhanshu@ineuron.ai', 235)\n",
      "(235, 56034, 'whitefeild', 'ineuron office', 2563265977456, 235, 'sudhashu', 'sudhanshu@ineuron.ai', 234)\n",
      "(236, 56034, 'whitefeild', 'ineuron office', 2563265977456, 236, 'sudhansu', 'sudhanshu@ineuron.ai', 234)\n",
      "(236, 56034, 'whitefeild', 'ineuron office', 2563265977456, 236, 'sudhashu', 'sudhanshu@ineuron.ai', 234)\n",
      "(237, 56034, 'whitefeild', 'ineuron office', 2563265977456, 237, 'sudhansu', 'sudhanshu@ineuron.ai', 234)\n",
      "(237, 56034, 'whitefeild', 'ineuron office', 2563265977456, 237, 'sudhashu', 'sudhanshu@ineuron.ai', 234)\n",
      "(238, 56034, 'whitefeild', 'ineuron office', 2563265977456, 238, 'sudhansu', 'sudhanshu@ineuron.ai', 234)\n",
      "(238, 56034, 'whitefeild', 'ineuron office', 2563265977456, 238, 'sudhashu', 'sudhanshu@ineuron.ai', 234)\n",
      "(239, 56034, 'whitefeild', 'ineuron office', 2563265977456, 239, 'sudhansu', 'sudhanshu@ineuron.ai', 234)\n",
      "(239, 56034, 'whitefeild', 'ineuron office', 2563265977456, 239, 'sudhashu', 'sudhanshu@ineuron.ai', 234)\n",
      "(23510, 56034, 'whitefeild', 'ineuron office', 2563265977456, None, None, None, None)\n",
      "(23511, 56034, 'whitefeild', 'ineuron office', 2563265977456, None, None, None, None)\n",
      "(23512, 56034, 'whitefeild', 'ineuron office', 2563265977456, None, None, None, None)\n",
      "(23513, 56034, 'whitefeild', 'ineuron office', 2563265977456, None, None, None, None)\n",
      "(23514, 56034, 'whitefeild', 'ineuron office', 2563265977456, None, None, None, None)\n",
      "(236, 560034, 'whitefelid', 'ineuron office ', 2423543454353, 236, 'sudhansu', 'sudhanshu@ineuron.ai', 234)\n",
      "(236, 560034, 'whitefelid', 'ineuron office ', 2423543454353, 236, 'sudhashu', 'sudhanshu@ineuron.ai', 234)\n",
      "(237, 560034, 'whitefelid', 'ineuron office ', 2423543454353, 237, 'sudhansu', 'sudhanshu@ineuron.ai', 234)\n",
      "(237, 560034, 'whitefelid', 'ineuron office ', 2423543454353, 237, 'sudhashu', 'sudhanshu@ineuron.ai', 234)\n",
      "(238, 560034, 'whitefelid', 'ineuron office ', 2423543454353, 238, 'sudhansu', 'sudhanshu@ineuron.ai', 234)\n",
      "(238, 560034, 'whitefelid', 'ineuron office ', 2423543454353, 238, 'sudhashu', 'sudhanshu@ineuron.ai', 234)\n",
      "(239, 560034, 'whitefelid', 'ineuron office ', 2423543454353, 239, 'sudhansu', 'sudhanshu@ineuron.ai', 234)\n",
      "(239, 560034, 'whitefelid', 'ineuron office ', 2423543454353, 239, 'sudhashu', 'sudhanshu@ineuron.ai', 234)\n",
      "(210, 560034, 'whitefelid', 'ineuron office ', 2423543454353, None, None, None, None)\n",
      "(23345, 560034, 'whitefelid', 'ineuron office ', 2423543454353, 23345, 'sudhashu', 'sudhanshu@ineuron.ai', 234)\n",
      "(23345, 560034, 'whitefelid', 'ineuron office ', 2423543454353, 23345, 'sudhashu', 'sudhanshu@ineuron.ai', 234)\n",
      "(23654, 560034, 'whitefelid', 'ineuron office ', 2423543454353, None, None, None, None)\n",
      "(235345, 560034, 'whitefelid', 'ineuron office ', 2423543454353, None, None, None, None)\n",
      "(23665, 560034, 'whitefelid', 'ineuron office ', 2423543454353, None, None, None, None)\n",
      "(23623, 560034, 'whitefelid', 'ineuron office ', 2423543454353, None, None, None, None)\n",
      "(23689, 560034, 'whitefelid', 'ineuron office ', 2423543454353, None, None, None, None)\n",
      "(23609, 560034, 'whitefelid', 'ineuron office ', 2423543454353, None, None, None, None)\n",
      "(23632, 560034, 'whitefelid', 'ineuron office ', 2423543454353, None, None, None, None)\n",
      "(23689, 560034, 'whitefelid', 'ineuron office ', 2423543454353, None, None, None, None)\n",
      "(23623, 560034, 'whitefelid', 'ineuron office ', 2423543454353, None, None, None, None)\n",
      "(23698, 560034, 'whitefelid', 'ineuron office ', 2423543454353, None, None, None, None)\n",
      "(23623, 560034, 'whitefelid', 'ineuron office ', 2423543454353, None, None, None, None)\n",
      "(23689, 560034, 'whitefelid', 'ineuron office ', 2423543454353, None, None, None, None)\n",
      "(23623, 560034, 'whitefelid', 'ineuron office ', 2423543454353, None, None, None, None)\n",
      "(23690, 560034, 'whitefelid', 'ineuron office ', 2423543454353, None, None, None, None)\n"
     ]
    }
   ],
   "source": [
    "for i in c.execute(\"select * from address s left join student a on s.student_id = a.student_id\"):\n",
    "    print(i)"
   ]
  },
  {
   "cell_type": "code",
   "execution_count": 130,
   "id": "f44f4b82",
   "metadata": {},
   "outputs": [
    {
     "name": "stdout",
     "output_type": "stream",
     "text": [
      "(234, 'sudhansu', 'sudhanshu@ineuron.ai', 234)\n",
      "(235, 'sudhansu', 'sudhanshu@ineuron.ai', 235)\n",
      "(236, 'sudhansu', 'sudhanshu@ineuron.ai', 234)\n",
      "(237, 'sudhansu', 'sudhanshu@ineuron.ai', 234)\n",
      "(238, 'sudhansu', 'sudhanshu@ineuron.ai', 234)\n",
      "(239, 'sudhansu', 'sudhanshu@ineuron.ai', 234)\n",
      "(2310, 'sudhansu', 'sudhanshu@ineuron.ai', 234)\n",
      "(2311, 'sudhansu', 'sudhanshu@ineuron.ai', 234)\n",
      "(2312, 'sudhansu', 'sudhanshu@ineuron.ai', 234)\n",
      "(234, 'sudhashu', 'sudhanshu@ineuron.ai', 234)\n",
      "(235, 'sudhashu', 'sudhanshu@ineuron.ai', 234)\n",
      "(236, 'sudhashu', 'sudhanshu@ineuron.ai', 234)\n",
      "(237, 'sudhashu', 'sudhanshu@ineuron.ai', 234)\n",
      "(238, 'sudhashu', 'sudhanshu@ineuron.ai', 234)\n",
      "(239, 'sudhashu', 'sudhanshu@ineuron.ai', 234)\n",
      "(2310, 'sudhashu', 'sudhanshu@ineuron.ai', 234)\n",
      "(2311, 'sudhashu', 'sudhanshu@ineuron.ai', 234)\n",
      "(2343, 'sudhashu', 'sudhanshu@ineuron.ai', 234)\n",
      "(233543, 'sudhashu', 'sudhanshu@ineuron.ai', 234)\n",
      "(23345, 'sudhashu', 'sudhanshu@ineuron.ai', 234)\n",
      "(233543, 'sudhashu', 'sudhanshu@ineuron.ai', 234)\n"
     ]
    }
   ],
   "source": [
    "for i in c.execute(\"select * from  student\"):\n",
    "    print(i)"
   ]
  },
  {
   "cell_type": "code",
   "execution_count": 134,
   "id": "a6ffbf50",
   "metadata": {},
   "outputs": [],
   "source": [
    "for i in c.execute(\"delete from student where student_id >2000\"):\n",
    "    print(i)"
   ]
  },
  {
   "cell_type": "code",
   "execution_count": 135,
   "id": "f339ea25",
   "metadata": {},
   "outputs": [
    {
     "name": "stdout",
     "output_type": "stream",
     "text": [
      "(234, 'sudhansu', 'sudhanshu@ineuron.ai', 234)\n",
      "(235, 'sudhansu', 'sudhanshu@ineuron.ai', 235)\n",
      "(236, 'sudhansu', 'sudhanshu@ineuron.ai', 234)\n",
      "(237, 'sudhansu', 'sudhanshu@ineuron.ai', 234)\n",
      "(238, 'sudhansu', 'sudhanshu@ineuron.ai', 234)\n",
      "(239, 'sudhansu', 'sudhanshu@ineuron.ai', 234)\n",
      "(234, 'sudhashu', 'sudhanshu@ineuron.ai', 234)\n",
      "(235, 'sudhashu', 'sudhanshu@ineuron.ai', 234)\n",
      "(236, 'sudhashu', 'sudhanshu@ineuron.ai', 234)\n",
      "(237, 'sudhashu', 'sudhanshu@ineuron.ai', 234)\n",
      "(238, 'sudhashu', 'sudhanshu@ineuron.ai', 234)\n",
      "(239, 'sudhashu', 'sudhanshu@ineuron.ai', 234)\n"
     ]
    }
   ],
   "source": [
    "for i in c.execute(\"select * from  student\"):\n",
    "    print(i)"
   ]
  },
  {
   "cell_type": "code",
   "execution_count": 138,
   "id": "c1c8bcdc",
   "metadata": {},
   "outputs": [],
   "source": [
    "data = c.execute(\"select * from student\")"
   ]
  },
  {
   "cell_type": "code",
   "execution_count": 139,
   "id": "67e48e30",
   "metadata": {},
   "outputs": [
    {
     "data": {
      "text/plain": [
       "[(234, 'sudhansu', 'sudhanshu@ineuron.ai', 234),\n",
       " (235, 'sudhansu', 'sudhanshu@ineuron.ai', 235),\n",
       " (236, 'sudhansu', 'sudhanshu@ineuron.ai', 234),\n",
       " (237, 'sudhansu', 'sudhanshu@ineuron.ai', 234),\n",
       " (238, 'sudhansu', 'sudhanshu@ineuron.ai', 234),\n",
       " (239, 'sudhansu', 'sudhanshu@ineuron.ai', 234),\n",
       " (234, 'sudhashu', 'sudhanshu@ineuron.ai', 234),\n",
       " (235, 'sudhashu', 'sudhanshu@ineuron.ai', 234),\n",
       " (236, 'sudhashu', 'sudhanshu@ineuron.ai', 234),\n",
       " (237, 'sudhashu', 'sudhanshu@ineuron.ai', 234),\n",
       " (238, 'sudhashu', 'sudhanshu@ineuron.ai', 234),\n",
       " (239, 'sudhashu', 'sudhanshu@ineuron.ai', 234)]"
      ]
     },
     "execution_count": 139,
     "metadata": {},
     "output_type": "execute_result"
    }
   ],
   "source": [
    "data.fetchall()"
   ]
  },
  {
   "cell_type": "code",
   "execution_count": 141,
   "id": "362b0227",
   "metadata": {},
   "outputs": [],
   "source": [
    "data = c.execute(\"update student set student_id = 2000 where student_id = 236\")"
   ]
  },
  {
   "cell_type": "code",
   "execution_count": 144,
   "id": "c12bae30",
   "metadata": {},
   "outputs": [],
   "source": [
    "data = c.execute(\"select * from student\")"
   ]
  },
  {
   "cell_type": "code",
   "execution_count": 145,
   "id": "b9ec35e0",
   "metadata": {},
   "outputs": [
    {
     "data": {
      "text/plain": [
       "[(234, 'sudhansu', 'sudhanshu@ineuron.ai', 234),\n",
       " (235, 'sudhansu', 'sudhanshu@ineuron.ai', 235),\n",
       " (2000, 'sudhansu', 'sudhanshu@ineuron.ai', 234),\n",
       " (237, 'sudhansu', 'sudhanshu@ineuron.ai', 234),\n",
       " (238, 'sudhansu', 'sudhanshu@ineuron.ai', 234),\n",
       " (239, 'sudhansu', 'sudhanshu@ineuron.ai', 234),\n",
       " (234, 'sudhashu', 'sudhanshu@ineuron.ai', 234),\n",
       " (235, 'sudhashu', 'sudhanshu@ineuron.ai', 234),\n",
       " (2000, 'sudhashu', 'sudhanshu@ineuron.ai', 234),\n",
       " (237, 'sudhashu', 'sudhanshu@ineuron.ai', 234),\n",
       " (238, 'sudhashu', 'sudhanshu@ineuron.ai', 234),\n",
       " (239, 'sudhashu', 'sudhanshu@ineuron.ai', 234)]"
      ]
     },
     "execution_count": 145,
     "metadata": {},
     "output_type": "execute_result"
    }
   ],
   "source": [
    "data.fetchall()"
   ]
  },
  {
   "cell_type": "code",
   "execution_count": 146,
   "id": "481b1c75",
   "metadata": {},
   "outputs": [],
   "source": [
    "l = [1,2,3,4,5,6,7,8,9]"
   ]
  },
  {
   "cell_type": "code",
   "execution_count": 148,
   "id": "dcd2d9a0",
   "metadata": {},
   "outputs": [],
   "source": [
    "def add_one(a):\n",
    "    return a+1"
   ]
  },
  {
   "cell_type": "code",
   "execution_count": 149,
   "id": "2c08d27a",
   "metadata": {},
   "outputs": [
    {
     "data": {
      "text/plain": [
       "6"
      ]
     },
     "execution_count": 149,
     "metadata": {},
     "output_type": "execute_result"
    }
   ],
   "source": [
    "add_one(5)"
   ]
  },
  {
   "cell_type": "code",
   "execution_count": 155,
   "id": "a32c660c",
   "metadata": {},
   "outputs": [
    {
     "data": {
      "text/plain": [
       "[2, 3, 4, 5, 6, 7, 8, 9, 10]"
      ]
     },
     "execution_count": 155,
     "metadata": {},
     "output_type": "execute_result"
    }
   ],
   "source": [
    "list(map(add_one,l))"
   ]
  },
  {
   "cell_type": "code",
   "execution_count": 156,
   "id": "0696c7c9",
   "metadata": {},
   "outputs": [],
   "source": [
    "def even(e):\n",
    "    return e%2==0"
   ]
  },
  {
   "cell_type": "code",
   "execution_count": 158,
   "id": "1e687996",
   "metadata": {},
   "outputs": [
    {
     "data": {
      "text/plain": [
       "False"
      ]
     },
     "execution_count": 158,
     "metadata": {},
     "output_type": "execute_result"
    }
   ],
   "source": [
    "even(15)"
   ]
  },
  {
   "cell_type": "code",
   "execution_count": 160,
   "id": "4ddd6c2a",
   "metadata": {},
   "outputs": [
    {
     "data": {
      "text/plain": [
       "[2, 4, 6, 8]"
      ]
     },
     "execution_count": 160,
     "metadata": {},
     "output_type": "execute_result"
    }
   ],
   "source": [
    "list(filter(even,l))"
   ]
  },
  {
   "cell_type": "code",
   "execution_count": 161,
   "id": "b8a08819",
   "metadata": {},
   "outputs": [],
   "source": [
    "from functools import reduce"
   ]
  },
  {
   "cell_type": "code",
   "execution_count": 163,
   "id": "981e334e",
   "metadata": {},
   "outputs": [],
   "source": [
    "db.close()"
   ]
  },
  {
   "cell_type": "code",
   "execution_count": 164,
   "id": "11211542",
   "metadata": {},
   "outputs": [],
   "source": [
    "def add(r):\n",
    "    return r+5"
   ]
  },
  {
   "cell_type": "code",
   "execution_count": 165,
   "id": "18e4bca5",
   "metadata": {},
   "outputs": [],
   "source": [
    "l = [1,2,3,4,5,6]"
   ]
  },
  {
   "cell_type": "code",
   "execution_count": 167,
   "id": "ae2d00cd",
   "metadata": {},
   "outputs": [
    {
     "data": {
      "text/plain": [
       "[6, 7, 8, 9, 10, 11]"
      ]
     },
     "execution_count": 167,
     "metadata": {},
     "output_type": "execute_result"
    }
   ],
   "source": [
    "list(map(add,l))"
   ]
  },
  {
   "cell_type": "code",
   "execution_count": 169,
   "id": "4d59f573",
   "metadata": {},
   "outputs": [
    {
     "name": "stdout",
     "output_type": "stream",
     "text": [
      "[6, 7, 8, 9, 10, 11]\n"
     ]
    }
   ],
   "source": [
    "l1 = []\n",
    "\n",
    "for i in l:\n",
    "    l1.append(i+5)\n",
    "    \n",
    "print(l1)"
   ]
  },
  {
   "cell_type": "code",
   "execution_count": 173,
   "id": "110a2ef9",
   "metadata": {},
   "outputs": [
    {
     "data": {
      "text/plain": [
       "[1.0,\n",
       " 1.4142135623730951,\n",
       " 1.7320508075688772,\n",
       " 2.0,\n",
       " 2.23606797749979,\n",
       " 2.449489742783178]"
      ]
     },
     "execution_count": 173,
     "metadata": {},
     "output_type": "execute_result"
    }
   ],
   "source": [
    "[i**0.5 for i in l]"
   ]
  },
  {
   "cell_type": "code",
   "execution_count": 180,
   "id": "cb9a0225",
   "metadata": {},
   "outputs": [],
   "source": [
    "l1 = ['234', '345', '547', '896', '258','258963']"
   ]
  },
  {
   "cell_type": "code",
   "execution_count": 175,
   "id": "aedbe0d3",
   "metadata": {},
   "outputs": [],
   "source": [
    "def convert(d):\n",
    "    return int(d)"
   ]
  },
  {
   "cell_type": "code",
   "execution_count": 177,
   "id": "e339f01c",
   "metadata": {},
   "outputs": [
    {
     "data": {
      "text/plain": [
       "[234, 345, 547, 896, 258]"
      ]
     },
     "execution_count": 177,
     "metadata": {},
     "output_type": "execute_result"
    }
   ],
   "source": [
    "list(map(convert,l1))"
   ]
  },
  {
   "cell_type": "code",
   "execution_count": 178,
   "id": "8a1f13b8",
   "metadata": {},
   "outputs": [
    {
     "data": {
      "text/plain": [
       "258"
      ]
     },
     "execution_count": 178,
     "metadata": {},
     "output_type": "execute_result"
    }
   ],
   "source": [
    "convert('258')"
   ]
  },
  {
   "cell_type": "code",
   "execution_count": 182,
   "id": "94b843de",
   "metadata": {},
   "outputs": [
    {
     "data": {
      "text/plain": [
       "[234, 345, 547, 896, 258, 258963]"
      ]
     },
     "execution_count": 182,
     "metadata": {},
     "output_type": "execute_result"
    }
   ],
   "source": [
    "list(map(lambda x: int(x),l1))"
   ]
  },
  {
   "cell_type": "code",
   "execution_count": 186,
   "id": "9db8f8b0",
   "metadata": {},
   "outputs": [],
   "source": [
    "l1 = list(map(lambda x: int(x)+5, l1))"
   ]
  },
  {
   "cell_type": "code",
   "execution_count": 187,
   "id": "a4002238",
   "metadata": {},
   "outputs": [
    {
     "data": {
      "text/plain": [
       "[239, 350, 552, 901, 263, 258968]"
      ]
     },
     "execution_count": 187,
     "metadata": {},
     "output_type": "execute_result"
    }
   ],
   "source": [
    "l1"
   ]
  },
  {
   "cell_type": "code",
   "execution_count": 188,
   "id": "128d855a",
   "metadata": {},
   "outputs": [],
   "source": [
    "l =[4,5,6,7,78,8,78]"
   ]
  },
  {
   "cell_type": "code",
   "execution_count": 190,
   "id": "053ca6dc",
   "metadata": {},
   "outputs": [
    {
     "data": {
      "text/plain": [
       "[4, 6, 78, 8, 78]"
      ]
     },
     "execution_count": 190,
     "metadata": {},
     "output_type": "execute_result"
    }
   ],
   "source": [
    "list(filter(lambda x: (x%2==0),l))"
   ]
  },
  {
   "cell_type": "code",
   "execution_count": 191,
   "id": "7f919abc",
   "metadata": {},
   "outputs": [],
   "source": [
    "def test4(r):\n",
    "    if r%2==0:\n",
    "        return r"
   ]
  },
  {
   "cell_type": "code",
   "execution_count": 193,
   "id": "39d196c7",
   "metadata": {},
   "outputs": [
    {
     "data": {
      "text/plain": [
       "[4, 6, 78, 8, 78]"
      ]
     },
     "execution_count": 193,
     "metadata": {},
     "output_type": "execute_result"
    }
   ],
   "source": [
    "list(filter(test4,l))"
   ]
  },
  {
   "cell_type": "code",
   "execution_count": 194,
   "id": "3ed96c10",
   "metadata": {},
   "outputs": [
    {
     "data": {
      "text/plain": [
       "[4, 6, 78, 8, 78]"
      ]
     },
     "execution_count": 194,
     "metadata": {},
     "output_type": "execute_result"
    }
   ],
   "source": [
    "[i for i in l if i%2==0]"
   ]
  },
  {
   "cell_type": "code",
   "execution_count": 196,
   "id": "9800f2e7",
   "metadata": {},
   "outputs": [
    {
     "data": {
      "text/plain": [
       "filter"
      ]
     },
     "execution_count": 196,
     "metadata": {},
     "output_type": "execute_result"
    }
   ],
   "source": [
    "type(filter(test4,l))"
   ]
  },
  {
   "cell_type": "code",
   "execution_count": 198,
   "id": "52557e3d",
   "metadata": {},
   "outputs": [
    {
     "data": {
      "text/plain": [
       "[4, 6, 78, 8, 78]"
      ]
     },
     "execution_count": 198,
     "metadata": {},
     "output_type": "execute_result"
    }
   ],
   "source": [
    "list(filter(lambda x: (x%2==0), l))"
   ]
  },
  {
   "cell_type": "code",
   "execution_count": 200,
   "id": "8dcfdcef",
   "metadata": {},
   "outputs": [
    {
     "data": {
      "text/plain": [
       "[6, 78, 78]"
      ]
     },
     "execution_count": 200,
     "metadata": {},
     "output_type": "execute_result"
    }
   ],
   "source": [
    "list(filter(lambda x: x%3==0, l))"
   ]
  },
  {
   "cell_type": "code",
   "execution_count": 202,
   "id": "25810d04",
   "metadata": {},
   "outputs": [],
   "source": [
    "from functools import reduce"
   ]
  },
  {
   "cell_type": "code",
   "execution_count": 228,
   "id": "a79d7378",
   "metadata": {},
   "outputs": [],
   "source": [
    "l2 = [3,4,5,6,7,8]"
   ]
  },
  {
   "cell_type": "code",
   "execution_count": 207,
   "id": "fe266946",
   "metadata": {},
   "outputs": [
    {
     "data": {
      "text/plain": [
       "33"
      ]
     },
     "execution_count": 207,
     "metadata": {},
     "output_type": "execute_result"
    }
   ],
   "source": [
    "reduce(lambda a,b:a+b, l)"
   ]
  },
  {
   "cell_type": "code",
   "execution_count": 205,
   "id": "4bd38720",
   "metadata": {},
   "outputs": [
    {
     "data": {
      "text/plain": [
       "33"
      ]
     },
     "execution_count": 205,
     "metadata": {},
     "output_type": "execute_result"
    }
   ],
   "source": [
    "sum(l)"
   ]
  },
  {
   "cell_type": "code",
   "execution_count": 219,
   "id": "94a74f35",
   "metadata": {},
   "outputs": [],
   "source": [
    "def test5(a,b):\n",
    "    return a+b"
   ]
  },
  {
   "cell_type": "code",
   "execution_count": 217,
   "id": "1de6401d",
   "metadata": {},
   "outputs": [
    {
     "ename": "TypeError",
     "evalue": "test5() missing 1 required positional argument: 'c'",
     "output_type": "error",
     "traceback": [
      "\u001b[1;31m---------------------------------------------------------------------------\u001b[0m",
      "\u001b[1;31mTypeError\u001b[0m                                 Traceback (most recent call last)",
      "\u001b[1;32m~\\AppData\\Local\\Temp/ipykernel_13120/3822575765.py\u001b[0m in \u001b[0;36m<module>\u001b[1;34m\u001b[0m\n\u001b[1;32m----> 1\u001b[1;33m \u001b[0mreduce\u001b[0m\u001b[1;33m(\u001b[0m\u001b[0mtest5\u001b[0m\u001b[1;33m,\u001b[0m\u001b[0ml\u001b[0m\u001b[1;33m)\u001b[0m\u001b[1;33m\u001b[0m\u001b[1;33m\u001b[0m\u001b[0m\n\u001b[0m",
      "\u001b[1;31mTypeError\u001b[0m: test5() missing 1 required positional argument: 'c'"
     ]
    }
   ],
   "source": [
    "reduce(test5,l)"
   ]
  },
  {
   "cell_type": "code",
   "execution_count": 218,
   "id": "cecc507f",
   "metadata": {},
   "outputs": [
    {
     "data": {
      "text/plain": [
       "22"
      ]
     },
     "execution_count": 218,
     "metadata": {},
     "output_type": "execute_result"
    }
   ],
   "source": [
    "test5(5,8,9)"
   ]
  },
  {
   "cell_type": "code",
   "execution_count": 224,
   "id": "8af2f43a",
   "metadata": {},
   "outputs": [],
   "source": [
    "l = [8]"
   ]
  },
  {
   "cell_type": "code",
   "execution_count": 225,
   "id": "2ecf15aa",
   "metadata": {},
   "outputs": [
    {
     "data": {
      "text/plain": [
       "8"
      ]
     },
     "execution_count": 225,
     "metadata": {},
     "output_type": "execute_result"
    }
   ],
   "source": [
    "reduce(test5,l)"
   ]
  },
  {
   "cell_type": "code",
   "execution_count": 231,
   "id": "1e57ce82",
   "metadata": {},
   "outputs": [
    {
     "data": {
      "text/plain": [
       "0.0004464285714285714"
      ]
     },
     "execution_count": 231,
     "metadata": {},
     "output_type": "execute_result"
    }
   ],
   "source": [
    "reduce(lambda x,y:x/y,l2)"
   ]
  },
  {
   "cell_type": "code",
   "execution_count": 239,
   "id": "336dc1e2",
   "metadata": {},
   "outputs": [],
   "source": [
    "l = [1,2,3,4]\n",
    "l1 = [3,4,5,7,8]\n",
    "l2 = ['sudhanshu', 'kumatr', 'krish', 'sunny','ineuron', 'rohit']"
   ]
  },
  {
   "cell_type": "code",
   "execution_count": 240,
   "id": "390dfe8b",
   "metadata": {},
   "outputs": [
    {
     "data": {
      "text/plain": [
       "[(1, 3, 'sudhanshu'), (2, 4, 'kumatr'), (3, 5, 'krish'), (4, 7, 'sunny')]"
      ]
     },
     "execution_count": 240,
     "metadata": {},
     "output_type": "execute_result"
    }
   ],
   "source": [
    "list(zip(l,l1,l2))"
   ]
  },
  {
   "cell_type": "code",
   "execution_count": null,
   "id": "a037ed8a",
   "metadata": {},
   "outputs": [],
   "source": []
  }
 ],
 "metadata": {
  "kernelspec": {
   "display_name": "Python 3 (ipykernel)",
   "language": "python",
   "name": "python3"
  },
  "language_info": {
   "codemirror_mode": {
    "name": "ipython",
    "version": 3
   },
   "file_extension": ".py",
   "mimetype": "text/x-python",
   "name": "python",
   "nbconvert_exporter": "python",
   "pygments_lexer": "ipython3",
   "version": "3.9.7"
  }
 },
 "nbformat": 4,
 "nbformat_minor": 5
}
