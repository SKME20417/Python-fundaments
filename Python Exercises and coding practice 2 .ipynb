{
 "cells": [
  {
   "cell_type": "code",
   "execution_count": 1,
   "id": "cb7b3f5f",
   "metadata": {},
   "outputs": [
    {
     "name": "stdout",
     "output_type": "stream",
     "text": [
      "machine learning\n"
     ]
    }
   ],
   "source": [
    "print('machine learning')"
   ]
  },
  {
   "cell_type": "code",
   "execution_count": 2,
   "id": "0630d79c",
   "metadata": {},
   "outputs": [],
   "source": [
    "import sys"
   ]
  },
  {
   "cell_type": "code",
   "execution_count": null,
   "id": "e4ea11d3",
   "metadata": {},
   "outputs": [],
   "source": [
    "sys.argv()"
   ]
  },
  {
   "cell_type": "code",
   "execution_count": 7,
   "id": "c590f43f",
   "metadata": {},
   "outputs": [],
   "source": [
    "sys.argv[1]\n",
    "\n",
    "f = (9/5)*c+32"
   ]
  },
  {
   "cell_type": "code",
   "execution_count": 6,
   "id": "c3504e22",
   "metadata": {},
   "outputs": [
    {
     "data": {
      "text/plain": [
       "98.60000000000001"
      ]
     },
     "execution_count": 6,
     "metadata": {},
     "output_type": "execute_result"
    }
   ],
   "source": [
    "f"
   ]
  },
  {
   "cell_type": "code",
   "execution_count": 17,
   "id": "ebd0c764",
   "metadata": {},
   "outputs": [],
   "source": [
    "f = (9/5)*c+32"
   ]
  },
  {
   "cell_type": "code",
   "execution_count": 18,
   "id": "fd50ce65",
   "metadata": {},
   "outputs": [],
   "source": [
    "c = 40"
   ]
  },
  {
   "cell_type": "code",
   "execution_count": 19,
   "id": "8a365891",
   "metadata": {},
   "outputs": [
    {
     "data": {
      "text/plain": [
       "104.0"
      ]
     },
     "execution_count": 19,
     "metadata": {},
     "output_type": "execute_result"
    }
   ],
   "source": [
    "f"
   ]
  },
  {
   "cell_type": "code",
   "execution_count": 23,
   "id": "057713df",
   "metadata": {},
   "outputs": [],
   "source": [
    "num1 = 5\n",
    "num2 = 10"
   ]
  },
  {
   "cell_type": "code",
   "execution_count": 24,
   "id": "43102e1c",
   "metadata": {},
   "outputs": [],
   "source": [
    "num1,num2 = num2,num1"
   ]
  },
  {
   "cell_type": "code",
   "execution_count": 25,
   "id": "d03f37e4",
   "metadata": {},
   "outputs": [
    {
     "data": {
      "text/plain": [
       "10"
      ]
     },
     "execution_count": 25,
     "metadata": {},
     "output_type": "execute_result"
    }
   ],
   "source": [
    "num1"
   ]
  },
  {
   "cell_type": "code",
   "execution_count": 26,
   "id": "e79b07da",
   "metadata": {},
   "outputs": [
    {
     "data": {
      "text/plain": [
       "5"
      ]
     },
     "execution_count": 26,
     "metadata": {},
     "output_type": "execute_result"
    }
   ],
   "source": [
    "num2"
   ]
  },
  {
   "cell_type": "code",
   "execution_count": 28,
   "id": "a5447f1b",
   "metadata": {},
   "outputs": [],
   "source": [
    "num1 = 5\n",
    "num2 = 4"
   ]
  },
  {
   "cell_type": "code",
   "execution_count": 29,
   "id": "b2f641ee",
   "metadata": {},
   "outputs": [
    {
     "data": {
      "text/plain": [
       "9"
      ]
     },
     "execution_count": 29,
     "metadata": {},
     "output_type": "execute_result"
    }
   ],
   "source": [
    "num1+num2"
   ]
  },
  {
   "cell_type": "code",
   "execution_count": 30,
   "id": "59579f5b",
   "metadata": {},
   "outputs": [
    {
     "data": {
      "text/plain": [
       "20"
      ]
     },
     "execution_count": 30,
     "metadata": {},
     "output_type": "execute_result"
    }
   ],
   "source": [
    "num1*num2"
   ]
  },
  {
   "cell_type": "code",
   "execution_count": 31,
   "id": "a300ee65",
   "metadata": {},
   "outputs": [
    {
     "data": {
      "text/plain": [
       "1.25"
      ]
     },
     "execution_count": 31,
     "metadata": {},
     "output_type": "execute_result"
    }
   ],
   "source": [
    "num1/num2"
   ]
  },
  {
   "cell_type": "code",
   "execution_count": 32,
   "id": "8d70ea7b",
   "metadata": {},
   "outputs": [
    {
     "data": {
      "text/plain": [
       "True"
      ]
     },
     "execution_count": 32,
     "metadata": {},
     "output_type": "execute_result"
    }
   ],
   "source": [
    "num1>num2"
   ]
  },
  {
   "cell_type": "code",
   "execution_count": 33,
   "id": "3e39cdc9",
   "metadata": {},
   "outputs": [
    {
     "data": {
      "text/plain": [
       "4"
      ]
     },
     "execution_count": 33,
     "metadata": {},
     "output_type": "execute_result"
    }
   ],
   "source": [
    "num1&num2"
   ]
  },
  {
   "cell_type": "code",
   "execution_count": 40,
   "id": "5367ff43",
   "metadata": {},
   "outputs": [
    {
     "name": "stdout",
     "output_type": "stream",
     "text": [
      "enter the year:2000\n"
     ]
    }
   ],
   "source": [
    "year = int(input('enter the year:', ))"
   ]
  },
  {
   "cell_type": "code",
   "execution_count": 41,
   "id": "b7191a4c",
   "metadata": {},
   "outputs": [
    {
     "data": {
      "text/plain": [
       "2000"
      ]
     },
     "execution_count": 41,
     "metadata": {},
     "output_type": "execute_result"
    }
   ],
   "source": [
    "year"
   ]
  },
  {
   "cell_type": "code",
   "execution_count": 42,
   "id": "3765ceee",
   "metadata": {},
   "outputs": [
    {
     "name": "stdout",
     "output_type": "stream",
     "text": [
      "leap year\n"
     ]
    }
   ],
   "source": [
    "if (year%400==0):\n",
    "    print('leap year')\n",
    "elif(year%4==0) and (year%100!=0):\n",
    "    print('this is also lear year')\n",
    "else:\n",
    "    print('not a leap year')"
   ]
  },
  {
   "cell_type": "code",
   "execution_count": 43,
   "id": "2c77433d",
   "metadata": {},
   "outputs": [],
   "source": [
    "n = 10\n",
    "s = 0\n",
    "\n",
    "for i in range(n):\n",
    "    if i%2!=0:\n",
    "        s+=i\n",
    "        "
   ]
  },
  {
   "cell_type": "code",
   "execution_count": 44,
   "id": "903fa242",
   "metadata": {},
   "outputs": [
    {
     "data": {
      "text/plain": [
       "25"
      ]
     },
     "execution_count": 44,
     "metadata": {},
     "output_type": "execute_result"
    }
   ],
   "source": [
    "s"
   ]
  },
  {
   "cell_type": "code",
   "execution_count": 46,
   "id": "384db33a",
   "metadata": {},
   "outputs": [],
   "source": [
    "s = 0\n",
    "n = 10\n",
    "for i in range(1,n,2):\n",
    "    s+=i"
   ]
  },
  {
   "cell_type": "code",
   "execution_count": 47,
   "id": "313947e9",
   "metadata": {},
   "outputs": [
    {
     "data": {
      "text/plain": [
       "25"
      ]
     },
     "execution_count": 47,
     "metadata": {},
     "output_type": "execute_result"
    }
   ],
   "source": [
    "s"
   ]
  },
  {
   "cell_type": "code",
   "execution_count": 51,
   "id": "64def8d6",
   "metadata": {},
   "outputs": [
    {
     "name": "stdout",
     "output_type": "stream",
     "text": [
      "260\n"
     ]
    }
   ],
   "source": [
    "base_price = 50\n",
    "distance = 21\n",
    "time = 40\n",
    "\n",
    "amount_for_distance = 0\n",
    "if distance<=5:\n",
    "    amount_for_distance = 0\n",
    "else:\n",
    "    amount_for_distance = (distance-5)*10\n",
    "    \n",
    "amount_for_time = 0\n",
    "\n",
    "if time<=15:\n",
    "    amount_for_time = 0\n",
    "else:\n",
    "    amount_for_time= (time-15)*2\n",
    "    \n",
    "total = base_price+amount_for_distance+amount_for_time\n",
    "print(total)\n",
    "    \n",
    "    "
   ]
  },
  {
   "cell_type": "code",
   "execution_count": 60,
   "id": "45e8ab77",
   "metadata": {},
   "outputs": [],
   "source": [
    "n = 5\n",
    "\n",
    "s = 1\n",
    "\n",
    "for i in range(1,n+1):\n",
    "    s*=i"
   ]
  },
  {
   "cell_type": "code",
   "execution_count": 61,
   "id": "67c5b8b8",
   "metadata": {},
   "outputs": [
    {
     "name": "stdout",
     "output_type": "stream",
     "text": [
      "120\n"
     ]
    }
   ],
   "source": [
    "print(s)"
   ]
  },
  {
   "cell_type": "code",
   "execution_count": 64,
   "id": "0932eb08",
   "metadata": {},
   "outputs": [
    {
     "data": {
      "text/plain": [
       "3628800"
      ]
     },
     "execution_count": 64,
     "metadata": {},
     "output_type": "execute_result"
    }
   ],
   "source": []
  },
  {
   "cell_type": "code",
   "execution_count": 69,
   "id": "2396538e",
   "metadata": {},
   "outputs": [],
   "source": [
    "def fact(n):\n",
    "    if (n==0 or n==1):\n",
    "        return 1\n",
    "    else:\n",
    "        return fact(n-1)*n"
   ]
  },
  {
   "cell_type": "code",
   "execution_count": 70,
   "id": "eaf9c70f",
   "metadata": {},
   "outputs": [
    {
     "data": {
      "text/plain": [
       "120"
      ]
     },
     "execution_count": 70,
     "metadata": {},
     "output_type": "execute_result"
    }
   ],
   "source": [
    "fact(5)"
   ]
  },
  {
   "cell_type": "code",
   "execution_count": 71,
   "id": "e0199df5",
   "metadata": {},
   "outputs": [],
   "source": [
    "n = 2534"
   ]
  },
  {
   "cell_type": "code",
   "execution_count": 73,
   "id": "26520ee4",
   "metadata": {},
   "outputs": [
    {
     "data": {
      "text/plain": [
       "'2'"
      ]
     },
     "execution_count": 73,
     "metadata": {},
     "output_type": "execute_result"
    }
   ],
   "source": []
  },
  {
   "cell_type": "code",
   "execution_count": 77,
   "id": "546604f3",
   "metadata": {},
   "outputs": [
    {
     "data": {
      "text/plain": [
       "4"
      ]
     },
     "execution_count": 77,
     "metadata": {},
     "output_type": "execute_result"
    }
   ],
   "source": [
    "2534%10"
   ]
  },
  {
   "cell_type": "code",
   "execution_count": 78,
   "id": "6e403b3b",
   "metadata": {},
   "outputs": [
    {
     "data": {
      "text/plain": [
       "253"
      ]
     },
     "execution_count": 78,
     "metadata": {},
     "output_type": "execute_result"
    }
   ],
   "source": [
    "2534//10"
   ]
  },
  {
   "cell_type": "code",
   "execution_count": 80,
   "id": "7ac2bc88",
   "metadata": {},
   "outputs": [
    {
     "name": "stdout",
     "output_type": "stream",
     "text": [
      "14\n"
     ]
    }
   ],
   "source": [
    "n =  2534\n",
    "digt_sum = 0\n",
    "\n",
    "while (n!=0):\n",
    "    rem = n%10\n",
    "    digt_sum+=rem\n",
    "    n//=10\n",
    "    \n",
    "print(digt_sum)\n",
    "    "
   ]
  },
  {
   "cell_type": "code",
   "execution_count": 81,
   "id": "80fbbac0",
   "metadata": {},
   "outputs": [],
   "source": [
    "def digt_sum(n):\n",
    "    if n==0:\n",
    "        return 0\n",
    "    else:\n",
    "        return n%10+digt_sum(n//10)\n",
    "    "
   ]
  },
  {
   "cell_type": "code",
   "execution_count": 83,
   "id": "b56fe746",
   "metadata": {},
   "outputs": [
    {
     "name": "stdout",
     "output_type": "stream",
     "text": [
      "14\n"
     ]
    }
   ],
   "source": [
    "print(digt_sum(2534))"
   ]
  },
  {
   "cell_type": "code",
   "execution_count": 89,
   "id": "d0f36055",
   "metadata": {},
   "outputs": [
    {
     "data": {
      "text/plain": [
       "'o'"
      ]
     },
     "execution_count": 89,
     "metadata": {},
     "output_type": "execute_result"
    }
   ],
   "source": [
    "a[(len(\"JaSonAy\")-1)//2]"
   ]
  },
  {
   "cell_type": "code",
   "execution_count": 88,
   "id": "1f33526e",
   "metadata": {},
   "outputs": [],
   "source": [
    "a = \"JaSonAy\""
   ]
  },
  {
   "cell_type": "code",
   "execution_count": 91,
   "id": "169ab9f4",
   "metadata": {},
   "outputs": [
    {
     "name": "stdout",
     "output_type": "stream",
     "text": [
      "enter st:jassonay\n"
     ]
    }
   ],
   "source": [
    "s = input('enter st:', )"
   ]
  },
  {
   "cell_type": "code",
   "execution_count": 92,
   "id": "1061cf01",
   "metadata": {},
   "outputs": [
    {
     "data": {
      "text/plain": [
       "'jassonay'"
      ]
     },
     "execution_count": 92,
     "metadata": {},
     "output_type": "execute_result"
    }
   ],
   "source": [
    "s"
   ]
  },
  {
   "cell_type": "code",
   "execution_count": 98,
   "id": "afb6b0c4",
   "metadata": {},
   "outputs": [
    {
     "name": "stdout",
     "output_type": "stream",
     "text": [
      "enter st:JhonDipPeta\n"
     ]
    },
    {
     "data": {
      "text/plain": [
       "'Dip'"
      ]
     },
     "execution_count": 98,
     "metadata": {},
     "output_type": "execute_result"
    }
   ],
   "source": [
    "s = input('enter st:', )\n",
    "\n",
    "mid = len(s)//2\n",
    "\n",
    "s[mid-1:mid+2]"
   ]
  },
  {
   "cell_type": "code",
   "execution_count": 99,
   "id": "987179c9",
   "metadata": {},
   "outputs": [
    {
     "name": "stdout",
     "output_type": "stream",
     "text": [
      "enter your st:HellO\n"
     ]
    }
   ],
   "source": [
    "st = input('enter your st:',)"
   ]
  },
  {
   "cell_type": "code",
   "execution_count": 102,
   "id": "7a2cf2af",
   "metadata": {},
   "outputs": [
    {
     "name": "stdout",
     "output_type": "stream",
     "text": [
      "ellHO\n"
     ]
    }
   ],
   "source": [
    "left = \"\"\n",
    "right = \"\"\n",
    "\n",
    "for i in st:\n",
    "    if i in \"abcdefghijklmnopqrstuvwxyz\":\n",
    "        left+=i\n",
    "    else:\n",
    "        right+=i\n",
    "        \n",
    "print(left+right)"
   ]
  },
  {
   "cell_type": "code",
   "execution_count": 116,
   "id": "eb0e2856",
   "metadata": {},
   "outputs": [],
   "source": [
    "s1 = \"cdng python\"\n",
    "\n",
    "s2 = \"coding minutes\""
   ]
  },
  {
   "cell_type": "code",
   "execution_count": 117,
   "id": "b0645cb7",
   "metadata": {},
   "outputs": [
    {
     "name": "stdout",
     "output_type": "stream",
     "text": [
      "False\n"
     ]
    }
   ],
   "source": [
    "flag = True\n",
    "for i in s1:\n",
    "    if s2.find(i)==-1:\n",
    "        flag = False\n",
    "        break\n",
    "print(flag)\n",
    "        "
   ]
  },
  {
   "cell_type": "code",
   "execution_count": 139,
   "id": "6d5af02c",
   "metadata": {},
   "outputs": [],
   "source": [
    "lst = [ [3,7], [0,-2] ]"
   ]
  },
  {
   "cell_type": "code",
   "execution_count": 140,
   "id": "33ba7723",
   "metadata": {},
   "outputs": [],
   "source": [
    "def diagonal_sum(lst):\n",
    "    result = 0\n",
    "    for i in range(0,len(lst)):\n",
    "        result += lst[i][i]\n",
    "    print(result)"
   ]
  },
  {
   "cell_type": "code",
   "execution_count": 141,
   "id": "b7209ede",
   "metadata": {},
   "outputs": [
    {
     "name": "stdout",
     "output_type": "stream",
     "text": [
      "1\n"
     ]
    }
   ],
   "source": [
    "diagonal_sum(lst)"
   ]
  },
  {
   "cell_type": "code",
   "execution_count": 1,
   "id": "c5a22ad4",
   "metadata": {},
   "outputs": [],
   "source": [
    "import sqlite3"
   ]
  },
  {
   "cell_type": "code",
   "execution_count": 2,
   "id": "c0fb7f59",
   "metadata": {},
   "outputs": [],
   "source": [
    "import pandas as pd"
   ]
  },
  {
   "cell_type": "code",
   "execution_count": 8,
   "id": "df588c91",
   "metadata": {},
   "outputs": [],
   "source": [
    "conn  = sqlite3.Connection(\"database1.sqlite\")"
   ]
  },
  {
   "cell_type": "code",
   "execution_count": 10,
   "id": "9eba19d8",
   "metadata": {},
   "outputs": [],
   "source": [
    "cursor  = conn.execute(\"select * from Reviews limit 5\")"
   ]
  },
  {
   "cell_type": "code",
   "execution_count": 11,
   "id": "ab92350f",
   "metadata": {},
   "outputs": [
    {
     "data": {
      "text/plain": [
       "[(1,\n",
       "  'B001E4KFG0',\n",
       "  'A3SGXH7AUHU8GW',\n",
       "  'delmartian',\n",
       "  1,\n",
       "  1,\n",
       "  5,\n",
       "  1303862400,\n",
       "  'Good Quality Dog Food',\n",
       "  'I have bought several of the Vitality canned dog food products and have found them all to be of good quality. The product looks more like a stew than a processed meat and it smells better. My Labrador is finicky and she appreciates this product better than  most.'),\n",
       " (2,\n",
       "  'B00813GRG4',\n",
       "  'A1D87F6ZCVE5NK',\n",
       "  'dll pa',\n",
       "  0,\n",
       "  0,\n",
       "  1,\n",
       "  1346976000,\n",
       "  'Not as Advertised',\n",
       "  'Product arrived labeled as Jumbo Salted Peanuts...the peanuts were actually small sized unsalted. Not sure if this was an error or if the vendor intended to represent the product as \"Jumbo\".'),\n",
       " (3,\n",
       "  'B000LQOCH0',\n",
       "  'ABXLMWJIXXAIN',\n",
       "  'Natalia Corres \"Natalia Corres\"',\n",
       "  1,\n",
       "  1,\n",
       "  4,\n",
       "  1219017600,\n",
       "  '\"Delight\" says it all',\n",
       "  'This is a confection that has been around a few centuries.  It is a light, pillowy citrus gelatin with nuts - in this case Filberts. And it is cut into tiny squares and then liberally coated with powdered sugar.  And it is a tiny mouthful of heaven.  Not too chewy, and very flavorful.  I highly recommend this yummy treat.  If you are familiar with the story of C.S. Lewis\\' \"The Lion, The Witch, and The Wardrobe\" - this is the treat that seduces Edmund into selling out his Brother and Sisters to the Witch.'),\n",
       " (4,\n",
       "  'B000UA0QIQ',\n",
       "  'A395BORC6FGVXV',\n",
       "  'Karl',\n",
       "  3,\n",
       "  3,\n",
       "  2,\n",
       "  1307923200,\n",
       "  'Cough Medicine',\n",
       "  'If you are looking for the secret ingredient in Robitussin I believe I have found it.  I got this in addition to the Root Beer Extract I ordered (which was good) and made some cherry soda.  The flavor is very medicinal.'),\n",
       " (5,\n",
       "  'B006K2ZZ7K',\n",
       "  'A1UQRSCLF8GW1T',\n",
       "  'Michael D. Bigham \"M. Wassir\"',\n",
       "  0,\n",
       "  0,\n",
       "  5,\n",
       "  1350777600,\n",
       "  'Great taffy',\n",
       "  'Great taffy at a great price.  There was a wide assortment of yummy taffy.  Delivery was very quick.  If your a taffy lover, this is a deal.')]"
      ]
     },
     "execution_count": 11,
     "metadata": {},
     "output_type": "execute_result"
    }
   ],
   "source": [
    "cursor.fetchall()"
   ]
  },
  {
   "cell_type": "code",
   "execution_count": 12,
   "id": "e01cbd64",
   "metadata": {},
   "outputs": [
    {
     "data": {
      "text/html": [
       "<div>\n",
       "<style scoped>\n",
       "    .dataframe tbody tr th:only-of-type {\n",
       "        vertical-align: middle;\n",
       "    }\n",
       "\n",
       "    .dataframe tbody tr th {\n",
       "        vertical-align: top;\n",
       "    }\n",
       "\n",
       "    .dataframe thead th {\n",
       "        text-align: right;\n",
       "    }\n",
       "</style>\n",
       "<table border=\"1\" class=\"dataframe\">\n",
       "  <thead>\n",
       "    <tr style=\"text-align: right;\">\n",
       "      <th></th>\n",
       "      <th>UserId</th>\n",
       "      <th>count_score</th>\n",
       "    </tr>\n",
       "  </thead>\n",
       "  <tbody>\n",
       "    <tr>\n",
       "      <th>0</th>\n",
       "      <td>A3OXHLG6DIBRW8</td>\n",
       "      <td>448</td>\n",
       "    </tr>\n",
       "    <tr>\n",
       "      <th>1</th>\n",
       "      <td>A1YUL9PCJR3JTY</td>\n",
       "      <td>421</td>\n",
       "    </tr>\n",
       "    <tr>\n",
       "      <th>2</th>\n",
       "      <td>AY12DBB0U420B</td>\n",
       "      <td>389</td>\n",
       "    </tr>\n",
       "    <tr>\n",
       "      <th>3</th>\n",
       "      <td>A281NPSIMI1C2R</td>\n",
       "      <td>365</td>\n",
       "    </tr>\n",
       "    <tr>\n",
       "      <th>4</th>\n",
       "      <td>A1Z54EM24Y40LL</td>\n",
       "      <td>256</td>\n",
       "    </tr>\n",
       "  </tbody>\n",
       "</table>\n",
       "</div>"
      ],
      "text/plain": [
       "           UserId  count_score\n",
       "0  A3OXHLG6DIBRW8          448\n",
       "1  A1YUL9PCJR3JTY          421\n",
       "2   AY12DBB0U420B          389\n",
       "3  A281NPSIMI1C2R          365\n",
       "4  A1Z54EM24Y40LL          256"
      ]
     },
     "execution_count": 12,
     "metadata": {},
     "output_type": "execute_result"
    }
   ],
   "source": [
    "pd.read_sql_query(\"SELECT UserId, Count(Score) count_score FROM Reviews GROUP BY UserId ORDER BY count_score DESC LIMIT 5\", conn)"
   ]
  },
  {
   "cell_type": "code",
   "execution_count": 14,
   "id": "7cde4416",
   "metadata": {},
   "outputs": [],
   "source": [
    "Score = pd.read_sql_query(\"SELECT Score FROM Reviews\", conn)"
   ]
  },
  {
   "cell_type": "code",
   "execution_count": 15,
   "id": "f42be3e2",
   "metadata": {},
   "outputs": [
    {
     "data": {
      "text/plain": [
       "(568454, 1)"
      ]
     },
     "execution_count": 15,
     "metadata": {},
     "output_type": "execute_result"
    }
   ],
   "source": [
    "Score.shape"
   ]
  },
  {
   "cell_type": "code",
   "execution_count": 16,
   "id": "2fba3763",
   "metadata": {},
   "outputs": [
    {
     "data": {
      "text/plain": [
       "array([[<AxesSubplot:title={'center':'Score'}>]], dtype=object)"
      ]
     },
     "execution_count": 16,
     "metadata": {},
     "output_type": "execute_result"
    },
    {
     "data": {
      "image/png": "[encoded data removed]",
      "text/plain": [
       "<Figure size 432x288 with 1 Axes>"
      ]
     },
     "metadata": {
      "needs_background": "light"
     },
     "output_type": "display_data"
    }
   ],
   "source": [
    "Score.hist()"
   ]
  },
  {
   "cell_type": "code",
   "execution_count": 27,
   "id": "44009324",
   "metadata": {},
   "outputs": [
    {
     "data": {
      "text/html": [
       "<div>\n",
       "<style scoped>\n",
       "    .dataframe tbody tr th:only-of-type {\n",
       "        vertical-align: middle;\n",
       "    }\n",
       "\n",
       "    .dataframe tbody tr th {\n",
       "        vertical-align: top;\n",
       "    }\n",
       "\n",
       "    .dataframe thead th {\n",
       "        text-align: right;\n",
       "    }\n",
       "</style>\n",
       "<table border=\"1\" class=\"dataframe\">\n",
       "  <thead>\n",
       "    <tr style=\"text-align: right;\">\n",
       "      <th></th>\n",
       "      <th>UserId</th>\n",
       "      <th>count_score</th>\n",
       "    </tr>\n",
       "  </thead>\n",
       "  <tbody>\n",
       "    <tr>\n",
       "      <th>0</th>\n",
       "      <td>A3OXHLG6DIBRW8</td>\n",
       "      <td>448</td>\n",
       "    </tr>\n",
       "    <tr>\n",
       "      <th>1</th>\n",
       "      <td>A1YUL9PCJR3JTY</td>\n",
       "      <td>421</td>\n",
       "    </tr>\n",
       "    <tr>\n",
       "      <th>2</th>\n",
       "      <td>AY12DBB0U420B</td>\n",
       "      <td>389</td>\n",
       "    </tr>\n",
       "    <tr>\n",
       "      <th>3</th>\n",
       "      <td>A281NPSIMI1C2R</td>\n",
       "      <td>365</td>\n",
       "    </tr>\n",
       "    <tr>\n",
       "      <th>4</th>\n",
       "      <td>A1Z54EM24Y40LL</td>\n",
       "      <td>256</td>\n",
       "    </tr>\n",
       "  </tbody>\n",
       "</table>\n",
       "</div>"
      ],
      "text/plain": [
       "           UserId  count_score\n",
       "0  A3OXHLG6DIBRW8          448\n",
       "1  A1YUL9PCJR3JTY          421\n",
       "2   AY12DBB0U420B          389\n",
       "3  A281NPSIMI1C2R          365\n",
       "4  A1Z54EM24Y40LL          256"
      ]
     },
     "execution_count": 27,
     "metadata": {},
     "output_type": "execute_result"
    }
   ],
   "source": [
    "pd.read_sql_query(\"SELECT UserId, Count(Score) count_score FROM Reviews GROUP BY UserId ORDER BY count_score DESC LIMIT 5\", conn)"
   ]
  },
  {
   "cell_type": "code",
   "execution_count": 34,
   "id": "c83ab94c",
   "metadata": {},
   "outputs": [
    {
     "data": {
      "text/html": [
       "<div>\n",
       "<style scoped>\n",
       "    .dataframe tbody tr th:only-of-type {\n",
       "        vertical-align: middle;\n",
       "    }\n",
       "\n",
       "    .dataframe tbody tr th {\n",
       "        vertical-align: top;\n",
       "    }\n",
       "\n",
       "    .dataframe thead th {\n",
       "        text-align: right;\n",
       "    }\n",
       "</style>\n",
       "<table border=\"1\" class=\"dataframe\">\n",
       "  <thead>\n",
       "    <tr style=\"text-align: right;\">\n",
       "      <th></th>\n",
       "      <th>UserId</th>\n",
       "      <th>score_count</th>\n",
       "    </tr>\n",
       "  </thead>\n",
       "  <tbody>\n",
       "    <tr>\n",
       "      <th>0</th>\n",
       "      <td>A3OXHLG6DIBRW8</td>\n",
       "      <td>448</td>\n",
       "    </tr>\n",
       "    <tr>\n",
       "      <th>1</th>\n",
       "      <td>A1YUL9PCJR3JTY</td>\n",
       "      <td>421</td>\n",
       "    </tr>\n",
       "    <tr>\n",
       "      <th>2</th>\n",
       "      <td>AY12DBB0U420B</td>\n",
       "      <td>389</td>\n",
       "    </tr>\n",
       "    <tr>\n",
       "      <th>3</th>\n",
       "      <td>A281NPSIMI1C2R</td>\n",
       "      <td>365</td>\n",
       "    </tr>\n",
       "    <tr>\n",
       "      <th>4</th>\n",
       "      <td>A1Z54EM24Y40LL</td>\n",
       "      <td>256</td>\n",
       "    </tr>\n",
       "  </tbody>\n",
       "</table>\n",
       "</div>"
      ],
      "text/plain": [
       "           UserId  score_count\n",
       "0  A3OXHLG6DIBRW8          448\n",
       "1  A1YUL9PCJR3JTY          421\n",
       "2   AY12DBB0U420B          389\n",
       "3  A281NPSIMI1C2R          365\n",
       "4  A1Z54EM24Y40LL          256"
      ]
     },
     "execution_count": 34,
     "metadata": {},
     "output_type": "execute_result"
    }
   ],
   "source": [
    "pd.read_sql_query(\"select UserId, Count(Score) as score_count from reviews group by UserId order by score_count desc limit 5\", conn)"
   ]
  },
  {
   "cell_type": "code",
   "execution_count": 1,
   "id": "4e6b7b2c",
   "metadata": {},
   "outputs": [],
   "source": [
    "#14"
   ]
  },
  {
   "cell_type": "code",
   "execution_count": 2,
   "id": "a71937d5",
   "metadata": {},
   "outputs": [],
   "source": [
    "lst = [78, 86, 66, 81, 66, 81, 50, 81, 23, 45, 79, 62, 86, 33]"
   ]
  },
  {
   "cell_type": "code",
   "execution_count": 6,
   "id": "6e66de35",
   "metadata": {},
   "outputs": [],
   "source": [
    "lst.sort(reverse=True)"
   ]
  },
  {
   "cell_type": "code",
   "execution_count": 9,
   "id": "d93b8d03",
   "metadata": {},
   "outputs": [
    {
     "data": {
      "text/plain": [
       "[86, 86, 81, 81, 81, 79, 78, 66, 66, 62, 50, 45, 33, 23]"
      ]
     },
     "execution_count": 9,
     "metadata": {},
     "output_type": "execute_result"
    }
   ],
   "source": [
    "lst"
   ]
  },
  {
   "cell_type": "code",
   "execution_count": 15,
   "id": "60f6b88a",
   "metadata": {},
   "outputs": [
    {
     "name": "stdout",
     "output_type": "stream",
     "text": [
      "86\n"
     ]
    }
   ],
   "source": [
    "highest = lst[0]\n",
    "print(highest)"
   ]
  },
  {
   "cell_type": "code",
   "execution_count": 14,
   "id": "f171e911",
   "metadata": {},
   "outputs": [
    {
     "name": "stdout",
     "output_type": "stream",
     "text": [
      "81\n"
     ]
    }
   ],
   "source": [
    "for i in lst:\n",
    "    if (i!=highest):\n",
    "        print(i)\n",
    "        break"
   ]
  },
  {
   "cell_type": "code",
   "execution_count": 21,
   "id": "c76de20f",
   "metadata": {},
   "outputs": [],
   "source": [
    "#lst = [5,2,7,9,3,2,0]\n",
    "lst = [8,8,8]"
   ]
  },
  {
   "cell_type": "code",
   "execution_count": 22,
   "id": "a3a995f5",
   "metadata": {},
   "outputs": [],
   "source": [
    "lst.sort(reverse=True)"
   ]
  },
  {
   "cell_type": "code",
   "execution_count": 23,
   "id": "1c9bec6b",
   "metadata": {},
   "outputs": [],
   "source": [
    "highest = lst[0]"
   ]
  },
  {
   "cell_type": "code",
   "execution_count": 24,
   "id": "88e0622c",
   "metadata": {},
   "outputs": [
    {
     "name": "stdout",
     "output_type": "stream",
     "text": [
      "None\n"
     ]
    }
   ],
   "source": [
    "flag = True\n",
    "for i in lst:\n",
    "    if (i!=highest):\n",
    "        print(i)\n",
    "        flag = False\n",
    "        break\n",
    "        \n",
    "if flag:\n",
    "    print('None')\n",
    "        "
   ]
  },
  {
   "cell_type": "code",
   "execution_count": 25,
   "id": "b54b5bcc",
   "metadata": {},
   "outputs": [
    {
     "ename": "SyntaxError",
     "evalue": "invalid character in identifier (1239918940.py, line 1)",
     "output_type": "error",
     "traceback": [
      "\u001b[1;36m  Input \u001b[1;32mIn [25]\u001b[1;36m\u001b[0m\n\u001b[1;33m    [(“Hello Buddy”, 11), (“sample”, 6), (“to”, 2), (“how are you”, 11)]\u001b[0m\n\u001b[1;37m           ^\u001b[0m\n\u001b[1;31mSyntaxError\u001b[0m\u001b[1;31m:\u001b[0m invalid character in identifier\n"
     ]
    }
   ],
   "source": [
    "[(“Hello Buddy”, 11), (“sample”, 6), (“to”, 2), (“how are you”, 11)]"
   ]
  },
  {
   "cell_type": "code",
   "execution_count": 26,
   "id": "67725c3d",
   "metadata": {},
   "outputs": [],
   "source": [
    "#16"
   ]
  },
  {
   "cell_type": "code",
   "execution_count": 4,
   "id": "e0c96145",
   "metadata": {},
   "outputs": [],
   "source": [
    "import pandas as pd"
   ]
  },
  {
   "cell_type": "code",
   "execution_count": 6,
   "id": "6f3d2dbf",
   "metadata": {},
   "outputs": [],
   "source": [
    "df = pd.DataFrame(lst)"
   ]
  },
  {
   "cell_type": "code",
   "execution_count": 13,
   "id": "ec170113",
   "metadata": {},
   "outputs": [
    {
     "data": {
      "text/plain": [
       "20.447869928561865"
      ]
     },
     "execution_count": 13,
     "metadata": {},
     "output_type": "execute_result"
    }
   ],
   "source": [
    "df[0].std()"
   ]
  },
  {
   "cell_type": "code",
   "execution_count": 14,
   "id": "c090e5a7",
   "metadata": {},
   "outputs": [],
   "source": [
    "import numpy as np"
   ]
  },
  {
   "cell_type": "code",
   "execution_count": 20,
   "id": "e1337250",
   "metadata": {},
   "outputs": [],
   "source": [
    "range = df.max() - df.min()"
   ]
  },
  {
   "cell_type": "code",
   "execution_count": 18,
   "id": "b0797495",
   "metadata": {},
   "outputs": [
    {
     "data": {
      "text/plain": [
       "0    23\n",
       "dtype: int64"
      ]
     },
     "execution_count": 18,
     "metadata": {},
     "output_type": "execute_result"
    }
   ],
   "source": [
    "df.min()"
   ]
  },
  {
   "cell_type": "code",
   "execution_count": 19,
   "id": "dcd1af75",
   "metadata": {},
   "outputs": [
    {
     "data": {
      "text/plain": [
       "0    86\n",
       "dtype: int64"
      ]
     },
     "execution_count": 19,
     "metadata": {},
     "output_type": "execute_result"
    }
   ],
   "source": [
    "df.max()"
   ]
  },
  {
   "cell_type": "code",
   "execution_count": 21,
   "id": "2f5a3ad0",
   "metadata": {},
   "outputs": [
    {
     "name": "stdout",
     "output_type": "stream",
     "text": [
      "0    63\n",
      "dtype: int64\n"
     ]
    }
   ],
   "source": [
    "print(range)"
   ]
  },
  {
   "cell_type": "code",
   "execution_count": 22,
   "id": "b92cc792",
   "metadata": {},
   "outputs": [
    {
     "data": {
      "text/plain": [
       "[78, 86, 66, 81, 66, 81, 50, 81, 23, 45, 79, 62, 86, 33]"
      ]
     },
     "execution_count": 22,
     "metadata": {},
     "output_type": "execute_result"
    }
   ],
   "source": [
    "lst"
   ]
  },
  {
   "cell_type": "code",
   "execution_count": 26,
   "id": "de875674",
   "metadata": {},
   "outputs": [],
   "source": [
    "q1 = np.percentile(lst,25,interpolation='midpoint')"
   ]
  },
  {
   "cell_type": "code",
   "execution_count": 27,
   "id": "39a82159",
   "metadata": {},
   "outputs": [],
   "source": [
    "q3 = np.percentile(lst,75,interpolation='midpoint')"
   ]
  },
  {
   "cell_type": "code",
   "execution_count": 28,
   "id": "611c135d",
   "metadata": {},
   "outputs": [],
   "source": [
    "IQR = q3-q1"
   ]
  },
  {
   "cell_type": "code",
   "execution_count": 29,
   "id": "c6bb6fbf",
   "metadata": {},
   "outputs": [
    {
     "name": "stdout",
     "output_type": "stream",
     "text": [
      "25.0\n"
     ]
    }
   ],
   "source": [
    "print(IQR)"
   ]
  },
  {
   "cell_type": "code",
   "execution_count": 30,
   "id": "2b68f9f1",
   "metadata": {},
   "outputs": [],
   "source": [
    "%matplotlib inline"
   ]
  },
  {
   "cell_type": "code",
   "execution_count": 31,
   "id": "9e0509db",
   "metadata": {},
   "outputs": [],
   "source": [
    "import matplotlib.pyplot as plt"
   ]
  },
  {
   "cell_type": "code",
   "execution_count": 33,
   "id": "64b35d7b",
   "metadata": {},
   "outputs": [],
   "source": [
    "import scipy.stats as stats"
   ]
  },
  {
   "cell_type": "code",
   "execution_count": 35,
   "id": "aed41bcb",
   "metadata": {},
   "outputs": [],
   "source": [
    "df = pd.DataFrame({'name':['jone', 'kers', 'hyt', 'hju', 'dtfhy', 'ikju', 'ploki'],\n",
    "             'salary':[50000,54000,50000,189000,55000,40000,59000],\n",
    "             'Hours':[41,40,36,30,35,39,40],\n",
    "             'Grade':[50,50,46,95,50,5,57]})"
   ]
  },
  {
   "cell_type": "code",
   "execution_count": 36,
   "id": "5e83b393",
   "metadata": {},
   "outputs": [
    {
     "data": {
      "text/html": [
       "<div>\n",
       "<style scoped>\n",
       "    .dataframe tbody tr th:only-of-type {\n",
       "        vertical-align: middle;\n",
       "    }\n",
       "\n",
       "    .dataframe tbody tr th {\n",
       "        vertical-align: top;\n",
       "    }\n",
       "\n",
       "    .dataframe thead th {\n",
       "        text-align: right;\n",
       "    }\n",
       "</style>\n",
       "<table border=\"1\" class=\"dataframe\">\n",
       "  <thead>\n",
       "    <tr style=\"text-align: right;\">\n",
       "      <th></th>\n",
       "      <th>name</th>\n",
       "      <th>salary</th>\n",
       "      <th>Hours</th>\n",
       "      <th>Grade</th>\n",
       "    </tr>\n",
       "  </thead>\n",
       "  <tbody>\n",
       "    <tr>\n",
       "      <th>0</th>\n",
       "      <td>jone</td>\n",
       "      <td>50000</td>\n",
       "      <td>41</td>\n",
       "      <td>50</td>\n",
       "    </tr>\n",
       "    <tr>\n",
       "      <th>1</th>\n",
       "      <td>kers</td>\n",
       "      <td>54000</td>\n",
       "      <td>40</td>\n",
       "      <td>50</td>\n",
       "    </tr>\n",
       "    <tr>\n",
       "      <th>2</th>\n",
       "      <td>hyt</td>\n",
       "      <td>50000</td>\n",
       "      <td>36</td>\n",
       "      <td>46</td>\n",
       "    </tr>\n",
       "    <tr>\n",
       "      <th>3</th>\n",
       "      <td>hju</td>\n",
       "      <td>189000</td>\n",
       "      <td>30</td>\n",
       "      <td>95</td>\n",
       "    </tr>\n",
       "    <tr>\n",
       "      <th>4</th>\n",
       "      <td>dtfhy</td>\n",
       "      <td>55000</td>\n",
       "      <td>35</td>\n",
       "      <td>50</td>\n",
       "    </tr>\n",
       "    <tr>\n",
       "      <th>5</th>\n",
       "      <td>ikju</td>\n",
       "      <td>40000</td>\n",
       "      <td>39</td>\n",
       "      <td>5</td>\n",
       "    </tr>\n",
       "    <tr>\n",
       "      <th>6</th>\n",
       "      <td>ploki</td>\n",
       "      <td>59000</td>\n",
       "      <td>40</td>\n",
       "      <td>57</td>\n",
       "    </tr>\n",
       "  </tbody>\n",
       "</table>\n",
       "</div>"
      ],
      "text/plain": [
       "    name  salary  Hours  Grade\n",
       "0   jone   50000     41     50\n",
       "1   kers   54000     40     50\n",
       "2    hyt   50000     36     46\n",
       "3    hju  189000     30     95\n",
       "4  dtfhy   55000     35     50\n",
       "5   ikju   40000     39      5\n",
       "6  ploki   59000     40     57"
      ]
     },
     "execution_count": 36,
     "metadata": {},
     "output_type": "execute_result"
    }
   ],
   "source": [
    "df"
   ]
  },
  {
   "cell_type": "code",
   "execution_count": 37,
   "id": "f13bfb62",
   "metadata": {},
   "outputs": [
    {
     "data": {
      "text/plain": [
       "Index(['name', 'salary', 'Hours', 'Grade'], dtype='object')"
      ]
     },
     "execution_count": 37,
     "metadata": {},
     "output_type": "execute_result"
    }
   ],
   "source": [
    "df.columns"
   ]
  },
  {
   "cell_type": "code",
   "execution_count": 38,
   "id": "6b5db377",
   "metadata": {},
   "outputs": [],
   "source": [
    "numcols = ['salary', 'Hours', 'Grade']"
   ]
  },
  {
   "cell_type": "code",
   "execution_count": 56,
   "id": "6bc27eca",
   "metadata": {},
   "outputs": [
    {
     "name": "stdout",
     "output_type": "stream",
     "text": [
      "salary skewness:2.57316410755049\n",
      "salary kurtosis:6.719828837773431\n"
     ]
    },
    {
     "data": {
      "image/png": "[encoded data removed]",
      "text/plain": [
       "<Figure size 432x288 with 1 Axes>"
      ]
     },
     "metadata": {
      "needs_background": "light"
     },
     "output_type": "display_data"
    },
    {
     "name": "stdout",
     "output_type": "stream",
     "text": [
      "\n",
      "Hours skewness:-1.194570307262883\n",
      "Hours kurtosis:0.9412265624999989\n"
     ]
    },
    {
     "data": {
      "image/png": "[encoded data removed]",
      "text/plain": [
       "<Figure size 432x288 with 1 Axes>"
      ]
     },
     "metadata": {
      "needs_background": "light"
     },
     "output_type": "display_data"
    },
    {
     "name": "stdout",
     "output_type": "stream",
     "text": [
      "\n",
      "Grade skewness:-0.06512433009682762\n",
      "Grade kurtosis:2.7484764913773034\n"
     ]
    },
    {
     "data": {
      "image/png": "[encoded data removed]",
      "text/plain": [
       "<Figure size 432x288 with 1 Axes>"
      ]
     },
     "metadata": {
      "needs_background": "light"
     },
     "output_type": "display_data"
    },
    {
     "name": "stdout",
     "output_type": "stream",
     "text": [
      "\n"
     ]
    }
   ],
   "source": [
    "for col in numcols:\n",
    "    print(df[col].name + \" skewness:\" + str(df[col].skew()))\n",
    "    print(df[col].name + \" kurtosis:\" + str(df[col].kurt()))\n",
    "    density = stats.gaussian_kde(df[col])\n",
    "    n,x,_ = plt.hist(df[col], histtype='step', bins = 25)\n",
    "    plt.plot(x, density(x)*6)\n",
    "    plt.show()\n",
    "    print()"
   ]
  },
  {
   "cell_type": "code",
   "execution_count": 58,
   "id": "8842f1c4",
   "metadata": {},
   "outputs": [
    {
     "data": {
      "text/plain": [
       "'salary'"
      ]
     },
     "execution_count": 58,
     "metadata": {},
     "output_type": "execute_result"
    }
   ],
   "source": [
    "df['salary'].name"
   ]
  },
  {
   "cell_type": "code",
   "execution_count": 60,
   "id": "4b8defa6",
   "metadata": {},
   "outputs": [],
   "source": [
    "x_axis = np.arange(-3,3,0.1)"
   ]
  },
  {
   "cell_type": "code",
   "execution_count": 61,
   "id": "5633ab0a",
   "metadata": {},
   "outputs": [],
   "source": [
    "from scipy.stats import norm"
   ]
  },
  {
   "cell_type": "code",
   "execution_count": 63,
   "id": "88fa80fb",
   "metadata": {},
   "outputs": [],
   "source": [
    "y_axis = norm.pdf(x_axis,0,1)"
   ]
  },
  {
   "cell_type": "code",
   "execution_count": 65,
   "id": "f6428125",
   "metadata": {},
   "outputs": [
    {
     "data": {
      "image/png": "[encoded data removed]",
      "text/plain": [
       "<Figure size 432x288 with 1 Axes>"
      ]
     },
     "metadata": {
      "needs_background": "light"
     },
     "output_type": "display_data"
    }
   ],
   "source": [
    "plt.plot(x_axis,y_axis)\n",
    "plt.show()"
   ]
  },
  {
   "cell_type": "code",
   "execution_count": 73,
   "id": "0a081e33",
   "metadata": {},
   "outputs": [
    {
     "ename": "NameError",
     "evalue": "name 'strings' is not defined",
     "output_type": "error",
     "traceback": [
      "\u001b[1;31m---------------------------------------------------------------------------\u001b[0m",
      "\u001b[1;31mNameError\u001b[0m                                 Traceback (most recent call last)",
      "Input \u001b[1;32mIn [73]\u001b[0m, in \u001b[0;36m<cell line: 1>\u001b[1;34m()\u001b[0m\n\u001b[1;32m----> 1\u001b[0m lst_of_tuples \u001b[38;5;241m=\u001b[39m [(strings[i], magnitudes[i]) \u001b[38;5;28;01mfor\u001b[39;00m i \u001b[38;5;129;01min\u001b[39;00m \u001b[38;5;28mrange\u001b[39m(\u001b[38;5;28mlen\u001b[39m(\u001b[43mstrings\u001b[49m))]\n",
      "\u001b[1;31mNameError\u001b[0m: name 'strings' is not defined"
     ]
    }
   ],
   "source": [
    "lst_of_tuples = [(strings[i], magnitudes[i]) for i in range(len(strings))]"
   ]
  },
  {
   "cell_type": "code",
   "execution_count": 85,
   "id": "c365563e",
   "metadata": {},
   "outputs": [
    {
     "name": "stdout",
     "output_type": "stream",
     "text": [
      "Hello Buddy how are you\n"
     ]
    }
   ],
   "source": [
    "max_ele = -10000\n",
    "\n",
    "for i in lst_of_tuples:\n",
    "   if (i[1]>max_ele):\n",
    "    max_ele = i[1]\n",
    "    \n",
    "s = \"\"\n",
    "\n",
    "for i in lst_of_tuples:\n",
    "    if (i[1]==max_ele):\n",
    "        s+=i[0]+\" \"\n",
    "print(s.strip())\n",
    "    "
   ]
  },
  {
   "cell_type": "code",
   "execution_count": 83,
   "id": "13ebc106",
   "metadata": {},
   "outputs": [],
   "source": [
    "lst_of_tuples = [('Hello Buddy', 11), ('sample', 6), ('to', 2), ('how are you', 11)]"
   ]
  },
  {
   "cell_type": "code",
   "execution_count": 80,
   "id": "912244ad",
   "metadata": {},
   "outputs": [],
   "source": [
    "data = [(1, 'sravan'), (2, 'ojaswi'), (3, 'bobby'),\n",
    "        (4, 'rohith'), (5, 'gnanesh')]"
   ]
  },
  {
   "cell_type": "code",
   "execution_count": 88,
   "id": "d389a3e4",
   "metadata": {},
   "outputs": [
    {
     "data": {
      "text/plain": [
       "11"
      ]
     },
     "execution_count": 88,
     "metadata": {},
     "output_type": "execute_result"
    }
   ],
   "source": [
    "lst_of_tuples[0][1]"
   ]
  },
  {
   "cell_type": "code",
   "execution_count": 91,
   "id": "f561fcb9",
   "metadata": {},
   "outputs": [
    {
     "name": "stdout",
     "output_type": "stream",
     "text": [
      "Hello Buddy how are you\n"
     ]
    }
   ],
   "source": [
    "max_ele = -10000\n",
    "\n",
    "for i in lst_of_tuples:\n",
    "    if (i[1]>max_ele):\n",
    "        max_ele = i[1]\n",
    "        \n",
    "s = \" \"\n",
    "\n",
    "for i in lst_of_tuples:\n",
    "    if (i[1] == max_ele):\n",
    "        s+=i[0]+\" \"\n",
    "        \n",
    "print(s.strip())"
   ]
  },
  {
   "cell_type": "code",
   "execution_count": 99,
   "id": "4e3f5cc5",
   "metadata": {},
   "outputs": [],
   "source": [
    "lst_of_tup = [(3, -1), (-4, -3), (1, 3), (-2, 5), (-4, 2), (-9, -3)]"
   ]
  },
  {
   "cell_type": "code",
   "execution_count": 101,
   "id": "a4b51ec9",
   "metadata": {},
   "outputs": [
    {
     "name": "stdout",
     "output_type": "stream",
     "text": [
      "[(3, -1), (4, -3), (1, -3), (2, -5), (4, -2), (9, -3)]\n"
     ]
    }
   ],
   "source": [
    "new_lst = []\n",
    "\n",
    "for i in lst_of_tup:\n",
    "    temp = (abs(i[0]),-abs(i[1]))\n",
    "    new_lst.append(temp)\n",
    "    \n",
    "print(new_lst)"
   ]
  },
  {
   "cell_type": "code",
   "execution_count": 103,
   "id": "7a8e68e2",
   "metadata": {},
   "outputs": [],
   "source": [
    "Input = [{5, 3, 2, 6, 1}, {7, 5, 3, 8, 2}, {9, 3}, {0, 3, 6, 7}]"
   ]
  },
  {
   "cell_type": "code",
   "execution_count": 108,
   "id": "5c5698b6",
   "metadata": {},
   "outputs": [
    {
     "name": "stdout",
     "output_type": "stream",
     "text": [
      "{0, 1, 8, 9}\n"
     ]
    }
   ],
   "source": [
    "res = set()\n",
    "for i in Input:\n",
    "    res = res.symmetric_difference(i)\n",
    "print(res)\n",
    "    "
   ]
  },
  {
   "cell_type": "code",
   "execution_count": 109,
   "id": "203c3522",
   "metadata": {},
   "outputs": [],
   "source": [
    "test_list = [{2, 6, 0}, {7, 5, 3, 2}, {5, 4, 3, 6}]\n",
    "res = set()\n",
    "\n",
    "for i in test_list:\n",
    "    res = res.symmetric_difference(i)"
   ]
  },
  {
   "cell_type": "code",
   "execution_count": 110,
   "id": "7331b3ea",
   "metadata": {},
   "outputs": [
    {
     "name": "stdout",
     "output_type": "stream",
     "text": [
      "{0, 4, 7}\n"
     ]
    }
   ],
   "source": [
    "print(res)"
   ]
  },
  {
   "cell_type": "code",
   "execution_count": 1,
   "id": "706ea593",
   "metadata": {},
   "outputs": [
    {
     "data": {
      "text/plain": [
       "False"
      ]
     },
     "execution_count": 1,
     "metadata": {},
     "output_type": "execute_result"
    }
   ],
   "source": [
    "1>2"
   ]
  },
  {
   "cell_type": "code",
   "execution_count": 2,
   "id": "3252ad79",
   "metadata": {},
   "outputs": [
    {
     "data": {
      "text/plain": [
       "True"
      ]
     },
     "execution_count": 2,
     "metadata": {},
     "output_type": "execute_result"
    }
   ],
   "source": [
    "2>1"
   ]
  },
  {
   "cell_type": "code",
   "execution_count": 3,
   "id": "8e29a797",
   "metadata": {},
   "outputs": [],
   "source": [
    "while True:\n",
    "    break"
   ]
  },
  {
   "cell_type": "code",
   "execution_count": 4,
   "id": "74335cd2",
   "metadata": {},
   "outputs": [
    {
     "ename": "KeyboardInterrupt",
     "evalue": "",
     "output_type": "error",
     "traceback": [
      "\u001b[1;31m---------------------------------------------------------------------------\u001b[0m",
      "\u001b[1;31mKeyboardInterrupt\u001b[0m                         Traceback (most recent call last)",
      "Input \u001b[1;32mIn [4]\u001b[0m, in \u001b[0;36m<cell line: 2>\u001b[1;34m()\u001b[0m\n\u001b[0;32m      1\u001b[0m \u001b[38;5;28;01mwhile\u001b[39;00m \u001b[38;5;28;01mTrue\u001b[39;00m:\n\u001b[1;32m----> 2\u001b[0m     \u001b[38;5;28;01mcontinue\u001b[39;00m\n\u001b[0;32m      3\u001b[0m     \u001b[38;5;28mprint\u001b[39m(\u001b[38;5;124m'\u001b[39m\u001b[38;5;124m42\u001b[39m\u001b[38;5;124m'\u001b[39m)\n",
      "\u001b[1;31mKeyboardInterrupt\u001b[0m: "
     ]
    }
   ],
   "source": [
    "while True:\n",
    "    continue\n",
    "    print('42')"
   ]
  },
  {
   "cell_type": "code",
   "execution_count": 5,
   "id": "054ca859",
   "metadata": {},
   "outputs": [],
   "source": [
    "class coffeee:\n",
    "    pass\n",
    "    "
   ]
  },
  {
   "cell_type": "code",
   "execution_count": 6,
   "id": "b5e1600f",
   "metadata": {},
   "outputs": [],
   "source": [
    "def say_hi():\n",
    "    print('hi')"
   ]
  },
  {
   "cell_type": "code",
   "execution_count": 11,
   "id": "f7491a90",
   "metadata": {},
   "outputs": [
    {
     "name": "stdout",
     "output_type": "stream",
     "text": [
      "enter your number : 55\n",
      "big number\n"
     ]
    }
   ],
   "source": [
    "x = int(input('enter your number : ', ))\n",
    "\n",
    "if x>50:\n",
    "    print('big number')\n",
    "elif x==50:\n",
    "    print('same number')\n",
    "else:\n",
    "    print('small number')"
   ]
  },
  {
   "cell_type": "code",
   "execution_count": 12,
   "id": "63a2341a",
   "metadata": {},
   "outputs": [
    {
     "name": "stdout",
     "output_type": "stream",
     "text": [
      "0\n",
      "1\n",
      "2\n",
      "3\n",
      "4\n"
     ]
    }
   ],
   "source": [
    "for i in range(5):\n",
    "    print(i)"
   ]
  },
  {
   "cell_type": "code",
   "execution_count": 13,
   "id": "c9136a5b",
   "metadata": {},
   "outputs": [
    {
     "name": "stdout",
     "output_type": "stream",
     "text": [
      "0\n",
      "1\n",
      "2\n"
     ]
    }
   ],
   "source": [
    "j = 0\n",
    "while j<3:\n",
    "    print(j)\n",
    "    \n",
    "    j+=1"
   ]
  },
  {
   "cell_type": "code",
   "execution_count": 14,
   "id": "bc798195",
   "metadata": {},
   "outputs": [
    {
     "data": {
      "text/plain": [
       "False"
      ]
     },
     "execution_count": 14,
     "metadata": {},
     "output_type": "execute_result"
    }
   ],
   "source": [
    "42 in [45,12,25]"
   ]
  },
  {
   "cell_type": "code",
   "execution_count": 15,
   "id": "2ccf7b23",
   "metadata": {},
   "outputs": [],
   "source": [
    "y = x = 3"
   ]
  },
  {
   "cell_type": "code",
   "execution_count": 16,
   "id": "fdd14cf6",
   "metadata": {},
   "outputs": [
    {
     "data": {
      "text/plain": [
       "True"
      ]
     },
     "execution_count": 16,
     "metadata": {},
     "output_type": "execute_result"
    }
   ],
   "source": [
    "y is x"
   ]
  },
  {
   "cell_type": "code",
   "execution_count": 18,
   "id": "43ab94da",
   "metadata": {},
   "outputs": [
    {
     "data": {
      "text/plain": [
       "False"
      ]
     },
     "execution_count": 18,
     "metadata": {},
     "output_type": "execute_result"
    }
   ],
   "source": [
    "y = 3\n",
    "x = 33\n",
    "\n",
    "y is x"
   ]
  },
  {
   "cell_type": "code",
   "execution_count": 19,
   "id": "ad8ef8d9",
   "metadata": {},
   "outputs": [
    {
     "data": {
      "text/plain": [
       "False"
      ]
     },
     "execution_count": 19,
     "metadata": {},
     "output_type": "execute_result"
    }
   ],
   "source": [
    "[3] is [3]"
   ]
  },
  {
   "cell_type": "code",
   "execution_count": 20,
   "id": "15684465",
   "metadata": {},
   "outputs": [
    {
     "name": "stdout",
     "output_type": "stream",
     "text": [
      "\n"
     ]
    },
    {
     "data": {
      "text/plain": [
       "True"
      ]
     },
     "execution_count": 20,
     "metadata": {},
     "output_type": "execute_result"
    }
   ],
   "source": [
    "print() is None"
   ]
  },
  {
   "cell_type": "code",
   "execution_count": 22,
   "id": "0ac7b083",
   "metadata": {},
   "outputs": [
    {
     "data": {
      "text/plain": [
       "6"
      ]
     },
     "execution_count": 22,
     "metadata": {},
     "output_type": "execute_result"
    }
   ],
   "source": [
    "(lambda x:x+3)(3)"
   ]
  },
  {
   "cell_type": "code",
   "execution_count": 23,
   "id": "dbae6b8c",
   "metadata": {},
   "outputs": [],
   "source": [
    "def increment(x):\n",
    "    return x+1"
   ]
  },
  {
   "cell_type": "code",
   "execution_count": 24,
   "id": "8e2457fd",
   "metadata": {},
   "outputs": [
    {
     "data": {
      "text/plain": [
       "6"
      ]
     },
     "execution_count": 24,
     "metadata": {},
     "output_type": "execute_result"
    }
   ],
   "source": [
    "increment(5)"
   ]
  },
  {
   "cell_type": "code",
   "execution_count": 25,
   "id": "2786c8a6",
   "metadata": {},
   "outputs": [
    {
     "data": {
      "text/plain": [
       "True"
      ]
     },
     "execution_count": 25,
     "metadata": {},
     "output_type": "execute_result"
    }
   ],
   "source": [
    "1<2 and 0<=1 and 3>2 and 2>=2 and 1==1and 1!=0"
   ]
  },
  {
   "cell_type": "code",
   "execution_count": 27,
   "id": "45c5ec60",
   "metadata": {},
   "outputs": [
    {
     "data": {
      "text/plain": [
       "False"
      ]
     },
     "execution_count": 27,
     "metadata": {},
     "output_type": "execute_result"
    }
   ],
   "source": [
    "bool(None or 0 or 0.0 or '' or [] or{} or set())"
   ]
  },
  {
   "cell_type": "code",
   "execution_count": 29,
   "id": "77090e58",
   "metadata": {},
   "outputs": [
    {
     "data": {
      "text/plain": [
       "1"
      ]
     },
     "execution_count": 29,
     "metadata": {},
     "output_type": "execute_result"
    }
   ],
   "source": [
    "3//2"
   ]
  },
  {
   "cell_type": "code",
   "execution_count": 30,
   "id": "a36e4429",
   "metadata": {},
   "outputs": [
    {
     "data": {
      "text/plain": [
       "5"
      ]
     },
     "execution_count": 30,
     "metadata": {},
     "output_type": "execute_result"
    }
   ],
   "source": [
    "3+2"
   ]
  },
  {
   "cell_type": "code",
   "execution_count": 31,
   "id": "26f862d0",
   "metadata": {},
   "outputs": [
    {
     "data": {
      "text/plain": [
       "1"
      ]
     },
     "execution_count": 31,
     "metadata": {},
     "output_type": "execute_result"
    }
   ],
   "source": [
    "3-2"
   ]
  },
  {
   "cell_type": "code",
   "execution_count": 32,
   "id": "ad28e784",
   "metadata": {},
   "outputs": [
    {
     "data": {
      "text/plain": [
       "6"
      ]
     },
     "execution_count": 32,
     "metadata": {},
     "output_type": "execute_result"
    }
   ],
   "source": [
    "3*2"
   ]
  },
  {
   "cell_type": "code",
   "execution_count": 33,
   "id": "00258076",
   "metadata": {},
   "outputs": [
    {
     "data": {
      "text/plain": [
       "1.5"
      ]
     },
     "execution_count": 33,
     "metadata": {},
     "output_type": "execute_result"
    }
   ],
   "source": [
    "3/2"
   ]
  },
  {
   "cell_type": "code",
   "execution_count": 34,
   "id": "0953dd52",
   "metadata": {},
   "outputs": [
    {
     "data": {
      "text/plain": [
       "1"
      ]
     },
     "execution_count": 34,
     "metadata": {},
     "output_type": "execute_result"
    }
   ],
   "source": [
    "3//2"
   ]
  },
  {
   "cell_type": "code",
   "execution_count": 35,
   "id": "f5847b9d",
   "metadata": {},
   "outputs": [
    {
     "data": {
      "text/plain": [
       "1"
      ]
     },
     "execution_count": 35,
     "metadata": {},
     "output_type": "execute_result"
    }
   ],
   "source": [
    "3%2"
   ]
  },
  {
   "cell_type": "code",
   "execution_count": 38,
   "id": "1a52cc0d",
   "metadata": {},
   "outputs": [
    {
     "name": "stdout",
     "output_type": "stream",
     "text": [
      "33\n"
     ]
    }
   ],
   "source": [
    "print(abs(-x))"
   ]
  },
  {
   "cell_type": "code",
   "execution_count": 39,
   "id": "986206f7",
   "metadata": {},
   "outputs": [
    {
     "data": {
      "text/plain": [
       "3"
      ]
     },
     "execution_count": 39,
     "metadata": {},
     "output_type": "execute_result"
    }
   ],
   "source": [
    "int(3.9)"
   ]
  },
  {
   "cell_type": "code",
   "execution_count": 40,
   "id": "99733f6a",
   "metadata": {},
   "outputs": [
    {
     "data": {
      "text/plain": [
       "3.0"
      ]
     },
     "execution_count": 40,
     "metadata": {},
     "output_type": "execute_result"
    }
   ],
   "source": [
    "float(3)"
   ]
  },
  {
   "cell_type": "code",
   "execution_count": 41,
   "id": "35df8602",
   "metadata": {},
   "outputs": [
    {
     "data": {
      "text/plain": [
       "9"
      ]
     },
     "execution_count": 41,
     "metadata": {},
     "output_type": "execute_result"
    }
   ],
   "source": [
    "3**2"
   ]
  },
  {
   "cell_type": "code",
   "execution_count": 42,
   "id": "048da834",
   "metadata": {},
   "outputs": [
    {
     "ename": "SyntaxError",
     "evalue": "unexpected character after line continuation character (3345935461.py, line 1)",
     "output_type": "error",
     "traceback": [
      "\u001b[1;36m  Input \u001b[1;32mIn [42]\u001b[1;36m\u001b[0m\n\u001b[1;33m    \\n\u001b[0m\n\u001b[1;37m      ^\u001b[0m\n\u001b[1;31mSyntaxError\u001b[0m\u001b[1;31m:\u001b[0m unexpected character after line continuation character\n"
     ]
    }
   ],
   "source": [
    "\\n"
   ]
  },
  {
   "cell_type": "code",
   "execution_count": 43,
   "id": "4280d379",
   "metadata": {},
   "outputs": [
    {
     "ename": "SyntaxError",
     "evalue": "unexpected character after line continuation character (2873307453.py, line 1)",
     "output_type": "error",
     "traceback": [
      "\u001b[1;36m  Input \u001b[1;32mIn [43]\u001b[1;36m\u001b[0m\n\u001b[1;33m    \\t\u001b[0m\n\u001b[1;37m      ^\u001b[0m\n\u001b[1;31mSyntaxError\u001b[0m\u001b[1;31m:\u001b[0m unexpected character after line continuation character\n"
     ]
    }
   ],
   "source": [
    "\\t"
   ]
  },
  {
   "cell_type": "code",
   "execution_count": 44,
   "id": "9f1d05fd",
   "metadata": {},
   "outputs": [
    {
     "ename": "SyntaxError",
     "evalue": "unexpected character after line continuation character (3635547724.py, line 1)",
     "output_type": "error",
     "traceback": [
      "\u001b[1;36m  Input \u001b[1;32mIn [44]\u001b[1;36m\u001b[0m\n\u001b[1;33m    \\s\u001b[0m\n\u001b[1;37m      ^\u001b[0m\n\u001b[1;31mSyntaxError\u001b[0m\u001b[1;31m:\u001b[0m unexpected character after line continuation character\n"
     ]
    }
   ],
   "source": [
    "\\s"
   ]
  },
  {
   "cell_type": "code",
   "execution_count": 45,
   "id": "50efca0d",
   "metadata": {},
   "outputs": [],
   "source": [
    "s = \"The youngest pope was 11 years\""
   ]
  },
  {
   "cell_type": "code",
   "execution_count": 46,
   "id": "616e040f",
   "metadata": {},
   "outputs": [
    {
     "data": {
      "text/plain": [
       "'T'"
      ]
     },
     "execution_count": 46,
     "metadata": {},
     "output_type": "execute_result"
    }
   ],
   "source": [
    "s[0]"
   ]
  },
  {
   "cell_type": "code",
   "execution_count": 47,
   "id": "478c494d",
   "metadata": {},
   "outputs": [
    {
     "data": {
      "text/plain": [
       "'he'"
      ]
     },
     "execution_count": 47,
     "metadata": {},
     "output_type": "execute_result"
    }
   ],
   "source": [
    "s[1:3]"
   ]
  },
  {
   "cell_type": "code",
   "execution_count": 48,
   "id": "59b071b9",
   "metadata": {},
   "outputs": [
    {
     "data": {
      "text/plain": [
       "'ars'"
      ]
     },
     "execution_count": 48,
     "metadata": {},
     "output_type": "execute_result"
    }
   ],
   "source": [
    "s[-3:]"
   ]
  },
  {
   "cell_type": "code",
   "execution_count": 49,
   "id": "7ffc85af",
   "metadata": {},
   "outputs": [
    {
     "data": {
      "text/plain": [
       "'sraey 11 saw epop tsegnuoy ehT'"
      ]
     },
     "execution_count": 49,
     "metadata": {},
     "output_type": "execute_result"
    }
   ],
   "source": [
    "s[::-1]"
   ]
  },
  {
   "cell_type": "code",
   "execution_count": 51,
   "id": "eab19f31",
   "metadata": {},
   "outputs": [
    {
     "data": {
      "text/plain": [
       "'The youngest pope was 11 years'"
      ]
     },
     "execution_count": 51,
     "metadata": {},
     "output_type": "execute_result"
    }
   ],
   "source": [
    "\" \".join(s.split())"
   ]
  },
  {
   "cell_type": "code",
   "execution_count": 52,
   "id": "657f4092",
   "metadata": {},
   "outputs": [],
   "source": [
    "y = \" Hello world\\t\\n \""
   ]
  },
  {
   "cell_type": "code",
   "execution_count": 53,
   "id": "04985b6b",
   "metadata": {},
   "outputs": [
    {
     "data": {
      "text/plain": [
       "'hi'"
      ]
     },
     "execution_count": 53,
     "metadata": {},
     "output_type": "execute_result"
    }
   ],
   "source": [
    "\"HI\".lower()"
   ]
  },
  {
   "cell_type": "code",
   "execution_count": 54,
   "id": "f5fd0587",
   "metadata": {},
   "outputs": [
    {
     "data": {
      "text/plain": [
       "'HI'"
      ]
     },
     "execution_count": 54,
     "metadata": {},
     "output_type": "execute_result"
    }
   ],
   "source": [
    "'hi'.upper()"
   ]
  },
  {
   "cell_type": "code",
   "execution_count": 55,
   "id": "92a5c1cd",
   "metadata": {},
   "outputs": [
    {
     "data": {
      "text/plain": [
       "True"
      ]
     },
     "execution_count": 55,
     "metadata": {},
     "output_type": "execute_result"
    }
   ],
   "source": [
    "\"hello\".startswith('he')"
   ]
  },
  {
   "cell_type": "code",
   "execution_count": 56,
   "id": "c5c36960",
   "metadata": {},
   "outputs": [
    {
     "data": {
      "text/plain": [
       "True"
      ]
     },
     "execution_count": 56,
     "metadata": {},
     "output_type": "execute_result"
    }
   ],
   "source": [
    "'hello'.endswith('lo')"
   ]
  },
  {
   "cell_type": "code",
   "execution_count": 57,
   "id": "d2407ba1",
   "metadata": {},
   "outputs": [
    {
     "data": {
      "text/plain": [
       "2"
      ]
     },
     "execution_count": 57,
     "metadata": {},
     "output_type": "execute_result"
    }
   ],
   "source": [
    "'hello'.find('ll')"
   ]
  },
  {
   "cell_type": "code",
   "execution_count": 58,
   "id": "189fb7f9",
   "metadata": {},
   "outputs": [
    {
     "data": {
      "text/plain": [
       "'meat'"
      ]
     },
     "execution_count": 58,
     "metadata": {},
     "output_type": "execute_result"
    }
   ],
   "source": [
    "\"cheat\".replace(\"ch\", \"m\")"
   ]
  },
  {
   "cell_type": "code",
   "execution_count": 59,
   "id": "a970aa98",
   "metadata": {},
   "outputs": [
    {
     "data": {
      "text/plain": [
       "'hi my name'"
      ]
     },
     "execution_count": 59,
     "metadata": {},
     "output_type": "execute_result"
    }
   ],
   "source": [
    "\" \".join([\"hi\", 'my', 'name'])"
   ]
  },
  {
   "cell_type": "code",
   "execution_count": 60,
   "id": "a015d1e2",
   "metadata": {},
   "outputs": [
    {
     "data": {
      "text/plain": [
       "11"
      ]
     },
     "execution_count": 60,
     "metadata": {},
     "output_type": "execute_result"
    }
   ],
   "source": [
    "len('hello world')"
   ]
  },
  {
   "cell_type": "code",
   "execution_count": 61,
   "id": "9d80ccd7",
   "metadata": {},
   "outputs": [
    {
     "data": {
      "text/plain": [
       "True"
      ]
     },
     "execution_count": 61,
     "metadata": {},
     "output_type": "execute_result"
    }
   ],
   "source": [
    "'ear' in 'earth'"
   ]
  },
  {
   "cell_type": "code",
   "execution_count": 62,
   "id": "aaf1f832",
   "metadata": {},
   "outputs": [],
   "source": [
    "l = [1,2,3]"
   ]
  },
  {
   "cell_type": "code",
   "execution_count": 63,
   "id": "d279abc7",
   "metadata": {},
   "outputs": [
    {
     "data": {
      "text/plain": [
       "3"
      ]
     },
     "execution_count": 63,
     "metadata": {},
     "output_type": "execute_result"
    }
   ],
   "source": [
    "len(l)"
   ]
  },
  {
   "cell_type": "code",
   "execution_count": 64,
   "id": "7b3561a2",
   "metadata": {},
   "outputs": [],
   "source": [
    "l.append(5)"
   ]
  },
  {
   "cell_type": "code",
   "execution_count": 65,
   "id": "5af29b2c",
   "metadata": {},
   "outputs": [
    {
     "data": {
      "text/plain": [
       "[1, 2, 3, 5]"
      ]
     },
     "execution_count": 65,
     "metadata": {},
     "output_type": "execute_result"
    }
   ],
   "source": [
    "l"
   ]
  },
  {
   "cell_type": "code",
   "execution_count": 66,
   "id": "38eb7f7f",
   "metadata": {},
   "outputs": [],
   "source": [
    "l.insert(2,25)"
   ]
  },
  {
   "cell_type": "code",
   "execution_count": 67,
   "id": "4b56ed2c",
   "metadata": {},
   "outputs": [
    {
     "data": {
      "text/plain": [
       "[1, 2, 25, 3, 5]"
      ]
     },
     "execution_count": 67,
     "metadata": {},
     "output_type": "execute_result"
    }
   ],
   "source": [
    "l"
   ]
  },
  {
   "cell_type": "code",
   "execution_count": 68,
   "id": "52606973",
   "metadata": {},
   "outputs": [
    {
     "data": {
      "text/plain": [
       "[1, 2, 25, 3, 5, 5]"
      ]
     },
     "execution_count": 68,
     "metadata": {},
     "output_type": "execute_result"
    }
   ],
   "source": [
    "l + [5]"
   ]
  },
  {
   "cell_type": "code",
   "execution_count": 69,
   "id": "77a14a48",
   "metadata": {},
   "outputs": [],
   "source": [
    "l.remove(5)"
   ]
  },
  {
   "cell_type": "code",
   "execution_count": 70,
   "id": "cf38b90b",
   "metadata": {},
   "outputs": [
    {
     "data": {
      "text/plain": [
       "[1, 2, 25, 3]"
      ]
     },
     "execution_count": 70,
     "metadata": {},
     "output_type": "execute_result"
    }
   ],
   "source": [
    "l"
   ]
  },
  {
   "cell_type": "code",
   "execution_count": 71,
   "id": "8ad6b264",
   "metadata": {},
   "outputs": [
    {
     "data": {
      "text/plain": [
       "[1, 2, 25, 3]"
      ]
     },
     "execution_count": 71,
     "metadata": {},
     "output_type": "execute_result"
    }
   ],
   "source": [
    "l"
   ]
  },
  {
   "cell_type": "code",
   "execution_count": 72,
   "id": "fc01772b",
   "metadata": {},
   "outputs": [],
   "source": [
    "l.sort()"
   ]
  },
  {
   "cell_type": "code",
   "execution_count": 73,
   "id": "2c99460d",
   "metadata": {},
   "outputs": [
    {
     "data": {
      "text/plain": [
       "[1, 2, 3, 25]"
      ]
     },
     "execution_count": 73,
     "metadata": {},
     "output_type": "execute_result"
    }
   ],
   "source": [
    "l\n"
   ]
  },
  {
   "cell_type": "code",
   "execution_count": 74,
   "id": "a65a05fd",
   "metadata": {},
   "outputs": [],
   "source": [
    "l.reverse()"
   ]
  },
  {
   "cell_type": "code",
   "execution_count": 75,
   "id": "d513cf61",
   "metadata": {},
   "outputs": [
    {
     "data": {
      "text/plain": [
       "[25, 3, 2, 1]"
      ]
     },
     "execution_count": 75,
     "metadata": {},
     "output_type": "execute_result"
    }
   ],
   "source": [
    "l"
   ]
  },
  {
   "cell_type": "code",
   "execution_count": 79,
   "id": "114a7d47",
   "metadata": {},
   "outputs": [
    {
     "ename": "ValueError",
     "evalue": "2 is not in list",
     "output_type": "error",
     "traceback": [
      "\u001b[1;31m---------------------------------------------------------------------------\u001b[0m",
      "\u001b[1;31mValueError\u001b[0m                                Traceback (most recent call last)",
      "Input \u001b[1;32mIn [79]\u001b[0m, in \u001b[0;36m<cell line: 1>\u001b[1;34m()\u001b[0m\n\u001b[1;32m----> 1\u001b[0m \u001b[43m[\u001b[49m\u001b[38;5;241;43m2\u001b[39;49m\u001b[43m,\u001b[49m\u001b[38;5;241;43m2\u001b[39;49m\u001b[43m,\u001b[49m\u001b[38;5;241;43m4\u001b[39;49m\u001b[43m]\u001b[49m\u001b[38;5;241;43m.\u001b[39;49m\u001b[43mindex\u001b[49m\u001b[43m(\u001b[49m\u001b[38;5;241;43m2\u001b[39;49m\u001b[43m,\u001b[49m\u001b[38;5;241;43m2\u001b[39;49m\u001b[43m)\u001b[49m\n",
      "\u001b[1;31mValueError\u001b[0m: 2 is not in list"
     ]
    }
   ],
   "source": [
    "[2,2,4].index(2,2)"
   ]
  },
  {
   "cell_type": "code",
   "execution_count": 80,
   "id": "4ca28076",
   "metadata": {},
   "outputs": [],
   "source": [
    "stack = [3]"
   ]
  },
  {
   "cell_type": "code",
   "execution_count": 81,
   "id": "a7fd16ec",
   "metadata": {},
   "outputs": [],
   "source": [
    "stack.append(3)"
   ]
  },
  {
   "cell_type": "code",
   "execution_count": 82,
   "id": "411b1572",
   "metadata": {},
   "outputs": [
    {
     "data": {
      "text/plain": [
       "[3, 3]"
      ]
     },
     "execution_count": 82,
     "metadata": {},
     "output_type": "execute_result"
    }
   ],
   "source": [
    "stack\n"
   ]
  },
  {
   "cell_type": "code",
   "execution_count": 83,
   "id": "b86e6746",
   "metadata": {},
   "outputs": [
    {
     "data": {
      "text/plain": [
       "3"
      ]
     },
     "execution_count": 83,
     "metadata": {},
     "output_type": "execute_result"
    }
   ],
   "source": [
    "stack.pop()"
   ]
  },
  {
   "cell_type": "code",
   "execution_count": 84,
   "id": "37aaec75",
   "metadata": {},
   "outputs": [
    {
     "data": {
      "text/plain": [
       "[3]"
      ]
     },
     "execution_count": 84,
     "metadata": {},
     "output_type": "execute_result"
    }
   ],
   "source": [
    "stack"
   ]
  },
  {
   "cell_type": "code",
   "execution_count": 85,
   "id": "003115fd",
   "metadata": {},
   "outputs": [],
   "source": [
    "basket = {'apple', 'eggs','banana', 'orange'}"
   ]
  },
  {
   "cell_type": "code",
   "execution_count": 87,
   "id": "4e5ea112",
   "metadata": {},
   "outputs": [
    {
     "data": {
      "text/plain": [
       "{'apple', 'banana', 'eggs', 'orange'}"
      ]
     },
     "execution_count": 87,
     "metadata": {},
     "output_type": "execute_result"
    }
   ],
   "source": [
    "set(['apple', 'eggs',\n",
    "'banana', 'orange'])"
   ]
  },
  {
   "cell_type": "code",
   "execution_count": 88,
   "id": "ff68f211",
   "metadata": {},
   "outputs": [],
   "source": [
    "cal = {'apple' : 52, 'banana' : 89,\n",
    "'choco' : 546}"
   ]
  },
  {
   "cell_type": "code",
   "execution_count": 90,
   "id": "1c9b6ae0",
   "metadata": {},
   "outputs": [
    {
     "data": {
      "text/plain": [
       "True"
      ]
     },
     "execution_count": 90,
     "metadata": {},
     "output_type": "execute_result"
    }
   ],
   "source": [
    "cal['apple']<cal['choco']"
   ]
  },
  {
   "cell_type": "code",
   "execution_count": 92,
   "id": "d0bb4b9f",
   "metadata": {},
   "outputs": [],
   "source": [
    "cal['cappu'] = 74"
   ]
  },
  {
   "cell_type": "code",
   "execution_count": 93,
   "id": "23511b8c",
   "metadata": {},
   "outputs": [
    {
     "data": {
      "text/plain": [
       "{'apple': 52, 'banana': 89, 'choco': 546, 'cappu': 74}"
      ]
     },
     "execution_count": 93,
     "metadata": {},
     "output_type": "execute_result"
    }
   ],
   "source": [
    "cal"
   ]
  },
  {
   "cell_type": "code",
   "execution_count": 95,
   "id": "909c3443",
   "metadata": {},
   "outputs": [
    {
     "data": {
      "text/plain": [
       "dict_keys(['apple', 'banana', 'choco', 'cappu'])"
      ]
     },
     "execution_count": 95,
     "metadata": {},
     "output_type": "execute_result"
    }
   ],
   "source": [
    "cal.keys()"
   ]
  },
  {
   "cell_type": "code",
   "execution_count": 97,
   "id": "8e98b452",
   "metadata": {},
   "outputs": [
    {
     "data": {
      "text/plain": [
       "True"
      ]
     },
     "execution_count": 97,
     "metadata": {},
     "output_type": "execute_result"
    }
   ],
   "source": [
    "52 in cal.values()"
   ]
  },
  {
   "cell_type": "code",
   "execution_count": 101,
   "id": "bbd641b9",
   "metadata": {},
   "outputs": [
    {
     "data": {
      "text/plain": [
       "{'apple': 52, 'banana': 89, 'cappu': 74}"
      ]
     },
     "execution_count": 101,
     "metadata": {},
     "output_type": "execute_result"
    }
   ],
   "source": [
    "{k:v for k,v in cal.items() if v<500 }"
   ]
  },
  {
   "cell_type": "code",
   "execution_count": 103,
   "id": "7408a753",
   "metadata": {},
   "outputs": [
    {
     "data": {
      "text/plain": [
       "['Hi sanjay', 'Hi sachin', 'Hi rohit']"
      ]
     },
     "execution_count": 103,
     "metadata": {},
     "output_type": "execute_result"
    }
   ],
   "source": [
    "[\"Hi \" + x for x in [\"sanjay\", \"sachin\", \"rohit\"]]"
   ]
  },
  {
   "cell_type": "code",
   "execution_count": 104,
   "id": "34a164dc",
   "metadata": {},
   "outputs": [
    {
     "data": {
      "text/plain": [
       "[0, 0, 2]"
      ]
     },
     "execution_count": 104,
     "metadata": {},
     "output_type": "execute_result"
    }
   ],
   "source": [
    "[x*y for x in range(3) for y in range(4) if x>y]"
   ]
  },
  {
   "cell_type": "code",
   "execution_count": 105,
   "id": "9b335a11",
   "metadata": {},
   "outputs": [
    {
     "data": {
      "text/plain": [
       "{0, 4}"
      ]
     },
     "execution_count": 105,
     "metadata": {},
     "output_type": "execute_result"
    }
   ],
   "source": [
    "{x**2 for x in [0,2,4] if x<4}"
   ]
  },
  {
   "cell_type": "code",
   "execution_count": 113,
   "id": "78faf9a0",
   "metadata": {},
   "outputs": [],
   "source": [
    "lst_of_tuples =  [('Hello Buddy', 11), ('sample', 6), ('to', 2), ('how are you', 11)]"
   ]
  },
  {
   "cell_type": "code",
   "execution_count": 115,
   "id": "775f60bf",
   "metadata": {},
   "outputs": [
    {
     "name": "stdout",
     "output_type": "stream",
     "text": [
      "Hello Buddy how are you\n"
     ]
    }
   ],
   "source": [
    "max_ele = -1000\n",
    "\n",
    "for ele in lst_of_tuples:\n",
    "   if (ele[1]>max_ele):\n",
    "    max_ele = ele[1]\n",
    "    \n",
    "s=\"\"\n",
    "\n",
    "for ele in lst_of_tuples:\n",
    "    if(ele[1]==max_ele):\n",
    "        s+=ele[0]+\" \"\n",
    "        \n",
    "print(s.strip())"
   ]
  },
  {
   "cell_type": "code",
   "execution_count": 116,
   "id": "1d55cf52",
   "metadata": {},
   "outputs": [
    {
     "data": {
      "text/plain": [
       "'Hello Buddy how are you '"
      ]
     },
     "execution_count": 116,
     "metadata": {},
     "output_type": "execute_result"
    }
   ],
   "source": [
    "s"
   ]
  },
  {
   "cell_type": "code",
   "execution_count": 117,
   "id": "3e30ec1e",
   "metadata": {},
   "outputs": [],
   "source": [
    "lst_of_tup = [(3, -1), (-4, -3), (1, 3), (-2, 5), (-4, 2), (-9, -3)]"
   ]
  },
  {
   "cell_type": "code",
   "execution_count": 119,
   "id": "e401264d",
   "metadata": {},
   "outputs": [
    {
     "name": "stdout",
     "output_type": "stream",
     "text": [
      "[(3, -1), (4, -3), (1, -3), (2, -5), (4, -2), (9, -3)]\n"
     ]
    }
   ],
   "source": [
    "new_lst = []\n",
    "for i in lst_of_tup:\n",
    "    temp = (abs(i[0]), -abs(i[1]))\n",
    "    new_lst.append(temp)\n",
    "    \n",
    "print(new_lst)"
   ]
  },
  {
   "cell_type": "code",
   "execution_count": 120,
   "id": "7193b8ec",
   "metadata": {},
   "outputs": [],
   "source": [
    "Input  = [{5, 3, 2, 6, 1}, {7, 5, 3, 8, 2}, {9, 3}, {0, 3, 6, 7}]"
   ]
  },
  {
   "cell_type": "code",
   "execution_count": 123,
   "id": "3f662a1f",
   "metadata": {},
   "outputs": [
    {
     "name": "stdout",
     "output_type": "stream",
     "text": [
      "{0, 1, 8, 9}\n"
     ]
    }
   ],
   "source": [
    "res = set()\n",
    "for i in Input:\n",
    "    res = res.symmetric_difference(i)\n",
    "print(res)\n",
    "    "
   ]
  },
  {
   "cell_type": "code",
   "execution_count": 124,
   "id": "00584da6",
   "metadata": {},
   "outputs": [
    {
     "name": "stdout",
     "output_type": "stream",
     "text": [
      "{0, 1, 8, 9}\n"
     ]
    }
   ],
   "source": [
    "Input  = [{5, 3, 2, 6, 1}, {7, 5, 3, 8, 2}, {9, 3}, {0, 3, 6, 7}]\n",
    "\n",
    "res = set()\n",
    "\n",
    "for i in Input:\n",
    "    res = res.symmetric_difference(i)\n",
    "print(res)"
   ]
  },
  {
   "cell_type": "code",
   "execution_count": 130,
   "id": "7de9e240",
   "metadata": {},
   "outputs": [],
   "source": [
    "Input =  ['a' , 'b' , 'a', 'c' , 'a' , 'b' , 'd' , 'c' , 'a']"
   ]
  },
  {
   "cell_type": "code",
   "execution_count": 134,
   "id": "a8a18360",
   "metadata": {},
   "outputs": [
    {
     "name": "stdout",
     "output_type": "stream",
     "text": [
      "a\n"
     ]
    }
   ],
   "source": [
    "lst = set(Input)\n",
    "maxi = -1000\n",
    "res = \"\"\n",
    "\n",
    "for i in lst:\n",
    "    if(Input.count(i)>maxi):\n",
    "        maxi = Input.count(i)\n",
    "        res = i\n",
    "        \n",
    "print(res)       "
   ]
  },
  {
   "cell_type": "code",
   "execution_count": 135,
   "id": "ca68606a",
   "metadata": {},
   "outputs": [],
   "source": [
    "Input =  { 1 : 'p' , 2 : 'q' , 3 : 'r' }"
   ]
  },
  {
   "cell_type": "code",
   "execution_count": 137,
   "id": "c3c86597",
   "metadata": {},
   "outputs": [
    {
     "name": "stdout",
     "output_type": "stream",
     "text": [
      "{'p': 1, 'q': 2, 'r': 3}\n"
     ]
    }
   ],
   "source": [
    "rev_dic = {v:k for k,v in Input.items()}\n",
    "print(rev_dic)"
   ]
  },
  {
   "cell_type": "code",
   "execution_count": 139,
   "id": "a370d4ea",
   "metadata": {},
   "outputs": [
    {
     "name": "stdout",
     "output_type": "stream",
     "text": [
      "{'p': 1, 'q': 2, 'r': 3}\n"
     ]
    }
   ],
   "source": [
    "d = dict()\n",
    "\n",
    "for k,v in Input.items():\n",
    "    d[v]=k\n",
    "print(d)"
   ]
  },
  {
   "cell_type": "code",
   "execution_count": 12,
   "id": "b547d0e1",
   "metadata": {},
   "outputs": [],
   "source": [
    "Input =  {5:5,8:9,8:7,1:2,10:0,7:8}"
   ]
  },
  {
   "cell_type": "code",
   "execution_count": 18,
   "id": "350319ba",
   "metadata": {},
   "outputs": [
    {
     "data": {
      "text/plain": [
       "[5, 8, 1, 10, 7]"
      ]
     },
     "execution_count": 18,
     "metadata": {},
     "output_type": "execute_result"
    }
   ],
   "source": [
    "key = [k for k in Input.keys()]\n",
    "key"
   ]
  },
  {
   "cell_type": "code",
   "execution_count": 19,
   "id": "c22853a8",
   "metadata": {},
   "outputs": [
    {
     "data": {
      "text/plain": [
       "[5, 7, 2, 0, 8]"
      ]
     },
     "execution_count": 19,
     "metadata": {},
     "output_type": "execute_result"
    }
   ],
   "source": [
    "value = [v for v in Input.values()]\n",
    "value"
   ]
  },
  {
   "cell_type": "code",
   "execution_count": 17,
   "id": "1bee1675",
   "metadata": {},
   "outputs": [
    {
     "name": "stdout",
     "output_type": "stream",
     "text": [
      "2\n"
     ]
    }
   ],
   "source": [
    "dic = {}\n",
    "\n",
    "for k,v in zip(key, value):\n",
    "    dic[k] = v\n",
    "    \n",
    "newdict = {}\n",
    "\n",
    "for key,val in dic.items():\n",
    "\n",
    "    if (key+val) in newdict:\n",
    "\n",
    "        newdict[key+val] = newdict[key+val] + 1\n",
    "\n",
    "    else:\n",
    "\n",
    "        newdict[key+val] = 1\n",
    "\n",
    "print(sum([1 for val in newdict.values() if val > 1]))\n"
   ]
  },
  {
   "cell_type": "code",
   "execution_count": 16,
   "id": "df195d0d",
   "metadata": {},
   "outputs": [
    {
     "data": {
      "text/plain": [
       "[(5, 5), (8, 7), (1, 2), (10, 0), (7, 8)]"
      ]
     },
     "execution_count": 16,
     "metadata": {},
     "output_type": "execute_result"
    }
   ],
   "source": [
    "list(zip(key, value))"
   ]
  },
  {
   "cell_type": "code",
   "execution_count": 20,
   "id": "35677b0c",
   "metadata": {},
   "outputs": [
    {
     "data": {
      "text/plain": [
       "{5: 5, 8: 7, 1: 2, 10: 0, 7: 8}"
      ]
     },
     "execution_count": 20,
     "metadata": {},
     "output_type": "execute_result"
    }
   ],
   "source": [
    "dic"
   ]
  },
  {
   "cell_type": "code",
   "execution_count": 28,
   "id": "dc469fa9",
   "metadata": {},
   "outputs": [
    {
     "data": {
      "text/plain": [
       "{10: 2, 15: 2, 3: 1}"
      ]
     },
     "execution_count": 28,
     "metadata": {},
     "output_type": "execute_result"
    }
   ],
   "source": [
    "Input =  {5:5,8:9,8:7,1:2,10:0,7:8}\n",
    "\n",
    "\n",
    "newdic = {}\n",
    "\n",
    "for k,v in Input.items():\n",
    "    if (k+v) in newdic:\n",
    "        newdic[k+v] = newdic[k+v]+1\n",
    "        \n",
    "    else:\n",
    "        newdic[k+v] = 1\n",
    "        \n",
    "newdic"
   ]
  },
  {
   "cell_type": "code",
   "execution_count": 29,
   "id": "2dca6213",
   "metadata": {},
   "outputs": [
    {
     "name": "stdout",
     "output_type": "stream",
     "text": [
      "2\n"
     ]
    }
   ],
   "source": [
    "print(sum([1 for v in newdic.values() if v>1]))"
   ]
  },
  {
   "cell_type": "code",
   "execution_count": 30,
   "id": "665763ec",
   "metadata": {},
   "outputs": [],
   "source": [
    "class SchoolMember:\n",
    "    def __init__(self,name,age):\n",
    "        self.name = name\n",
    "        self.age = age\n",
    "        \n",
    "    def introduce(self):\n",
    "        return f\"Hi, my name is {self.name} and i am {self.age} old\""
   ]
  },
  {
   "cell_type": "code",
   "execution_count": 31,
   "id": "d7ba4aaa",
   "metadata": {},
   "outputs": [],
   "source": [
    "class Student(SchoolMember):\n",
    "    def __init__(self,name,age,my_class,roll_no):\n",
    "        super().__init__(name, age)\n",
    "        self.my_class = my_class\n",
    "        self.roll_no = roll_no\n",
    "        \n",
    "    def introduce(self):\n",
    "        return (f\"I am in {self.my_class} class. My roll number is {self.roll_no}.\")"
   ]
  },
  {
   "cell_type": "code",
   "execution_count": 32,
   "id": "cf629ec5",
   "metadata": {},
   "outputs": [],
   "source": [
    "class Teacher(SchoolMember):\n",
    "    def __init__(self,name,age,subject,salary):\n",
    "        super().__init__(name,age)\n",
    "        self.subject = subject\n",
    "        self.salary = salary\n",
    "        \n",
    "    def introduce(self):\n",
    "        return f\"I Teach {self.subject} subject. My salary is {self.salary}.\""
   ]
  },
  {
   "cell_type": "code",
   "execution_count": 43,
   "id": "c8d73b30",
   "metadata": {},
   "outputs": [],
   "source": [
    "num1 = 5\n",
    "num2 = 10"
   ]
  },
  {
   "cell_type": "code",
   "execution_count": 40,
   "id": "05c9c2c2",
   "metadata": {},
   "outputs": [],
   "source": [
    "num1 = num2\n",
    "num2 = num1"
   ]
  },
  {
   "cell_type": "code",
   "execution_count": 47,
   "id": "d1cc8463",
   "metadata": {},
   "outputs": [
    {
     "data": {
      "text/plain": [
       "10"
      ]
     },
     "execution_count": 47,
     "metadata": {},
     "output_type": "execute_result"
    }
   ],
   "source": [
    "num1"
   ]
  },
  {
   "cell_type": "code",
   "execution_count": 48,
   "id": "5f9e1a7f",
   "metadata": {},
   "outputs": [
    {
     "data": {
      "text/plain": [
       "5"
      ]
     },
     "execution_count": 48,
     "metadata": {},
     "output_type": "execute_result"
    }
   ],
   "source": [
    "num2"
   ]
  },
  {
   "cell_type": "code",
   "execution_count": 46,
   "id": "f6d7f685",
   "metadata": {},
   "outputs": [],
   "source": [
    "num1,num2 = num2, num1"
   ]
  },
  {
   "cell_type": "code",
   "execution_count": 51,
   "id": "779d1945",
   "metadata": {},
   "outputs": [
    {
     "name": "stdout",
     "output_type": "stream",
     "text": [
      "enter your string:machine learning \n",
      "enter your string:is fun\n"
     ]
    }
   ],
   "source": [
    "s1 = input('enter your string:', )\n",
    "s2 = input('enter your string:', )"
   ]
  },
  {
   "cell_type": "code",
   "execution_count": 52,
   "id": "7a9c8cd6",
   "metadata": {},
   "outputs": [
    {
     "data": {
      "text/plain": [
       "'machine learning is fun'"
      ]
     },
     "execution_count": 52,
     "metadata": {},
     "output_type": "execute_result"
    }
   ],
   "source": [
    "s1+s2"
   ]
  },
  {
   "cell_type": "code",
   "execution_count": 53,
   "id": "bb98cc05",
   "metadata": {},
   "outputs": [
    {
     "data": {
      "text/plain": [
       "'ach'"
      ]
     },
     "execution_count": 53,
     "metadata": {},
     "output_type": "execute_result"
    }
   ],
   "source": [
    "s1[1:4]"
   ]
  },
  {
   "cell_type": "code",
   "execution_count": 54,
   "id": "96d62b4f",
   "metadata": {},
   "outputs": [],
   "source": [
    "a = 10\n",
    "b = 11.5\n",
    "c = 5+6j\n",
    "d = None\n",
    "e = \"machine learning\""
   ]
  },
  {
   "cell_type": "code",
   "execution_count": 55,
   "id": "917a8b0a",
   "metadata": {},
   "outputs": [
    {
     "name": "stdout",
     "output_type": "stream",
     "text": [
      "10 11.5 (5+6j) None\n"
     ]
    }
   ],
   "source": [
    "print(a,b,c,d)"
   ]
  },
  {
   "cell_type": "code",
   "execution_count": 56,
   "id": "1d22eeb9",
   "metadata": {},
   "outputs": [
    {
     "data": {
      "text/plain": [
       "(10, 11.5, (5+6j), None)"
      ]
     },
     "execution_count": 56,
     "metadata": {},
     "output_type": "execute_result"
    }
   ],
   "source": [
    "a,b,c,d"
   ]
  },
  {
   "cell_type": "code",
   "execution_count": 57,
   "id": "e74a0996",
   "metadata": {},
   "outputs": [
    {
     "data": {
      "text/plain": [
       "10"
      ]
     },
     "execution_count": 57,
     "metadata": {},
     "output_type": "execute_result"
    }
   ],
   "source": [
    "a"
   ]
  },
  {
   "cell_type": "code",
   "execution_count": 59,
   "id": "73f542bd",
   "metadata": {},
   "outputs": [
    {
     "name": "stdout",
     "output_type": "stream",
     "text": [
      "<class 'int'>\n"
     ]
    }
   ],
   "source": [
    "print(type(a))"
   ]
  },
  {
   "cell_type": "code",
   "execution_count": 61,
   "id": "471a0d72",
   "metadata": {},
   "outputs": [
    {
     "name": "stdout",
     "output_type": "stream",
     "text": [
      "<class 'float'>\n"
     ]
    }
   ],
   "source": [
    "print(type(b))"
   ]
  },
  {
   "cell_type": "code",
   "execution_count": 64,
   "id": "22aa7d8e",
   "metadata": {},
   "outputs": [
    {
     "name": "stdout",
     "output_type": "stream",
     "text": [
      "<class 'complex'>\n"
     ]
    }
   ],
   "source": [
    "print(type(c))"
   ]
  },
  {
   "cell_type": "code",
   "execution_count": 66,
   "id": "0813e858",
   "metadata": {},
   "outputs": [
    {
     "data": {
      "text/plain": [
       "NoneType"
      ]
     },
     "execution_count": 66,
     "metadata": {},
     "output_type": "execute_result"
    }
   ],
   "source": [
    "type(d)"
   ]
  },
  {
   "cell_type": "code",
   "execution_count": 68,
   "id": "6ca32163",
   "metadata": {},
   "outputs": [
    {
     "data": {
      "text/plain": [
       "str"
      ]
     },
     "execution_count": 68,
     "metadata": {},
     "output_type": "execute_result"
    }
   ],
   "source": [
    "type(e)"
   ]
  },
  {
   "cell_type": "code",
   "execution_count": 69,
   "id": "75b641b1",
   "metadata": {},
   "outputs": [
    {
     "name": "stdout",
     "output_type": "stream",
     "text": [
      "enter first number:15\n"
     ]
    }
   ],
   "source": [
    "a = int(input(\"enter first number:\", ))"
   ]
  },
  {
   "cell_type": "code",
   "execution_count": 70,
   "id": "b39ad885",
   "metadata": {},
   "outputs": [
    {
     "name": "stdout",
     "output_type": "stream",
     "text": [
      "enter first number:52\n"
     ]
    }
   ],
   "source": [
    "b = int(input(\"enter first number:\", ))"
   ]
  },
  {
   "cell_type": "code",
   "execution_count": 71,
   "id": "dafa6b83",
   "metadata": {},
   "outputs": [
    {
     "data": {
      "text/plain": [
       "15"
      ]
     },
     "execution_count": 71,
     "metadata": {},
     "output_type": "execute_result"
    }
   ],
   "source": [
    "a+b\n",
    "\n"
   ]
  },
  {
   "cell_type": "code",
   "execution_count": null,
   "id": "a9814a8c",
   "metadata": {},
   "outputs": [],
   "source": [
    "a-b\n"
   ]
  },
  {
   "cell_type": "code",
   "execution_count": 78,
   "id": "8adc6fbe",
   "metadata": {},
   "outputs": [
    {
     "data": {
      "text/plain": [
       "15"
      ]
     },
     "execution_count": 78,
     "metadata": {},
     "output_type": "execute_result"
    }
   ],
   "source": [
    "a%b"
   ]
  },
  {
   "cell_type": "code",
   "execution_count": 74,
   "id": "5a9d3e5c",
   "metadata": {},
   "outputs": [
    {
     "data": {
      "text/plain": [
       "0.28846153846153844"
      ]
     },
     "execution_count": 74,
     "metadata": {},
     "output_type": "execute_result"
    }
   ],
   "source": [
    "(a/b)"
   ]
  },
  {
   "cell_type": "code",
   "execution_count": 75,
   "id": "f3607855",
   "metadata": {},
   "outputs": [
    {
     "data": {
      "text/plain": [
       "780"
      ]
     },
     "execution_count": 75,
     "metadata": {},
     "output_type": "execute_result"
    }
   ],
   "source": [
    "a*b"
   ]
  },
  {
   "cell_type": "code",
   "execution_count": 76,
   "id": "8f6cfa64",
   "metadata": {},
   "outputs": [
    {
     "data": {
      "text/plain": [
       "14346483754816115705326675655584267587983049452304840087890625"
      ]
     },
     "execution_count": 76,
     "metadata": {},
     "output_type": "execute_result"
    }
   ],
   "source": [
    "(a**b)"
   ]
  },
  {
   "cell_type": "code",
   "execution_count": 77,
   "id": "a655b60d",
   "metadata": {},
   "outputs": [
    {
     "data": {
      "text/plain": [
       "0"
      ]
     },
     "execution_count": 77,
     "metadata": {},
     "output_type": "execute_result"
    }
   ],
   "source": [
    "a//b"
   ]
  },
  {
   "cell_type": "code",
   "execution_count": 79,
   "id": "8c00acd7",
   "metadata": {},
   "outputs": [],
   "source": [
    "import time"
   ]
  },
  {
   "cell_type": "code",
   "execution_count": 83,
   "id": "10ed122d",
   "metadata": {},
   "outputs": [
    {
     "data": {
      "text/plain": [
       "time.struct_time(tm_year=2022, tm_mon=8, tm_mday=18, tm_hour=20, tm_min=50, tm_sec=51, tm_wday=3, tm_yday=230, tm_isdst=0)"
      ]
     },
     "execution_count": 83,
     "metadata": {},
     "output_type": "execute_result"
    }
   ],
   "source": [
    "ltime = time.localtime()\n",
    "ltime"
   ]
  },
  {
   "cell_type": "code",
   "execution_count": 86,
   "id": "8e75131e",
   "metadata": {},
   "outputs": [
    {
     "data": {
      "text/plain": [
       "'Thu Aug 18 20:50:51 India Standard Time 2022'"
      ]
     },
     "execution_count": 86,
     "metadata": {},
     "output_type": "execute_result"
    }
   ],
   "source": [
    "time.strftime(\"%a %b %d %H:%M:%S %Z %Y\",ltime)"
   ]
  },
  {
   "cell_type": "code",
   "execution_count": 87,
   "id": "cbbd4cc4",
   "metadata": {},
   "outputs": [],
   "source": [
    "lst = [2,5,8,3]"
   ]
  },
  {
   "cell_type": "code",
   "execution_count": 88,
   "id": "ad6f6861",
   "metadata": {},
   "outputs": [],
   "source": [
    "lst.append(1000)"
   ]
  },
  {
   "cell_type": "code",
   "execution_count": 89,
   "id": "8e6f06a1",
   "metadata": {},
   "outputs": [
    {
     "data": {
      "text/plain": [
       "[2, 5, 8, 3, 1000]"
      ]
     },
     "execution_count": 89,
     "metadata": {},
     "output_type": "execute_result"
    }
   ],
   "source": [
    "lst"
   ]
  },
  {
   "cell_type": "code",
   "execution_count": 90,
   "id": "25ca9f5c",
   "metadata": {},
   "outputs": [],
   "source": [
    "mylst = []"
   ]
  },
  {
   "cell_type": "code",
   "execution_count": 91,
   "id": "3a7614f0",
   "metadata": {},
   "outputs": [],
   "source": [
    "mylst1 = [1,2,3]"
   ]
  },
  {
   "cell_type": "code",
   "execution_count": 108,
   "id": "76a4326c",
   "metadata": {},
   "outputs": [],
   "source": [
    "mylst2 = [12,2.3,None, 'machine', (22,25), [1,2,3]]"
   ]
  },
  {
   "cell_type": "code",
   "execution_count": 95,
   "id": "0d4f826d",
   "metadata": {},
   "outputs": [],
   "source": [
    "mylst1.extend([12])"
   ]
  },
  {
   "cell_type": "code",
   "execution_count": 97,
   "id": "b504bea0",
   "metadata": {},
   "outputs": [
    {
     "data": {
      "text/plain": [
       "[1, 2, 3, 12, 12, 12, 12]"
      ]
     },
     "execution_count": 97,
     "metadata": {},
     "output_type": "execute_result"
    }
   ],
   "source": [
    "mylst1+ [12,12,12]"
   ]
  },
  {
   "cell_type": "code",
   "execution_count": 100,
   "id": "afe77913",
   "metadata": {},
   "outputs": [],
   "source": [
    "del mylst1[2]\n"
   ]
  },
  {
   "cell_type": "code",
   "execution_count": 101,
   "id": "6ccfbab7",
   "metadata": {},
   "outputs": [
    {
     "data": {
      "text/plain": [
       "[1, 2, 12]"
      ]
     },
     "execution_count": 101,
     "metadata": {},
     "output_type": "execute_result"
    }
   ],
   "source": [
    "mylst1"
   ]
  },
  {
   "cell_type": "code",
   "execution_count": 105,
   "id": "8e6e4199",
   "metadata": {},
   "outputs": [],
   "source": [
    "del mylst2[1:4]"
   ]
  },
  {
   "cell_type": "code",
   "execution_count": 106,
   "id": "65bcab1b",
   "metadata": {},
   "outputs": [
    {
     "data": {
      "text/plain": [
       "[12, (22, 25), [1, 2, 3]]"
      ]
     },
     "execution_count": 106,
     "metadata": {},
     "output_type": "execute_result"
    }
   ],
   "source": [
    "mylst2\n"
   ]
  },
  {
   "cell_type": "code",
   "execution_count": 110,
   "id": "c233abe8",
   "metadata": {},
   "outputs": [
    {
     "data": {
      "text/plain": [
       "[1, 2, 3]"
      ]
     },
     "execution_count": 110,
     "metadata": {},
     "output_type": "execute_result"
    }
   ],
   "source": [
    "mylst2.pop()"
   ]
  },
  {
   "cell_type": "code",
   "execution_count": 115,
   "id": "02aa6d42",
   "metadata": {},
   "outputs": [
    {
     "data": {
      "text/plain": [
       "[12, 2.3, None, 'machine', (22, 25)]"
      ]
     },
     "execution_count": 115,
     "metadata": {},
     "output_type": "execute_result"
    }
   ],
   "source": [
    "mylst2"
   ]
  },
  {
   "cell_type": "code",
   "execution_count": 116,
   "id": "3a84d2e7",
   "metadata": {},
   "outputs": [],
   "source": [
    "mylst2.remove('machine')"
   ]
  },
  {
   "cell_type": "code",
   "execution_count": 117,
   "id": "4acf61c4",
   "metadata": {},
   "outputs": [
    {
     "data": {
      "text/plain": [
       "[12, 2.3, None, (22, 25)]"
      ]
     },
     "execution_count": 117,
     "metadata": {},
     "output_type": "execute_result"
    }
   ],
   "source": [
    "mylst2"
   ]
  },
  {
   "cell_type": "code",
   "execution_count": 118,
   "id": "941e4fea",
   "metadata": {},
   "outputs": [
    {
     "data": {
      "text/plain": [
       "12"
      ]
     },
     "execution_count": 118,
     "metadata": {},
     "output_type": "execute_result"
    }
   ],
   "source": [
    "mylst2.pop(0)"
   ]
  },
  {
   "cell_type": "code",
   "execution_count": 119,
   "id": "fc6defe5",
   "metadata": {},
   "outputs": [
    {
     "data": {
      "text/plain": [
       "[2.3, None, (22, 25)]"
      ]
     },
     "execution_count": 119,
     "metadata": {},
     "output_type": "execute_result"
    }
   ],
   "source": [
    "mylst2"
   ]
  },
  {
   "cell_type": "code",
   "execution_count": 120,
   "id": "7ced6355",
   "metadata": {},
   "outputs": [],
   "source": [
    "t1 = tuple()"
   ]
  },
  {
   "cell_type": "code",
   "execution_count": 121,
   "id": "18abdf7a",
   "metadata": {},
   "outputs": [
    {
     "data": {
      "text/plain": [
       "tuple"
      ]
     },
     "execution_count": 121,
     "metadata": {},
     "output_type": "execute_result"
    }
   ],
   "source": [
    "type(t1)"
   ]
  },
  {
   "cell_type": "code",
   "execution_count": 130,
   "id": "ca633b5b",
   "metadata": {},
   "outputs": [],
   "source": [
    "t2 = (1,2,3,(4,5,6), \"computer vision\")"
   ]
  },
  {
   "cell_type": "code",
   "execution_count": 131,
   "id": "2d0cf586",
   "metadata": {},
   "outputs": [
    {
     "data": {
      "text/plain": [
       "tuple"
      ]
     },
     "execution_count": 131,
     "metadata": {},
     "output_type": "execute_result"
    }
   ],
   "source": [
    "type(t2)"
   ]
  },
  {
   "cell_type": "code",
   "execution_count": 132,
   "id": "71a3dab5",
   "metadata": {},
   "outputs": [
    {
     "data": {
      "text/plain": [
       "(1, 2, 3, (4, 5, 6), 'computer vision')"
      ]
     },
     "execution_count": 132,
     "metadata": {},
     "output_type": "execute_result"
    }
   ],
   "source": [
    "t2"
   ]
  },
  {
   "cell_type": "code",
   "execution_count": 135,
   "id": "34266841",
   "metadata": {},
   "outputs": [],
   "source": [
    "t3 = (5,)"
   ]
  },
  {
   "cell_type": "code",
   "execution_count": 136,
   "id": "4021ab17",
   "metadata": {},
   "outputs": [
    {
     "data": {
      "text/plain": [
       "tuple"
      ]
     },
     "execution_count": 136,
     "metadata": {},
     "output_type": "execute_result"
    }
   ],
   "source": [
    "type(t3)"
   ]
  },
  {
   "cell_type": "code",
   "execution_count": 137,
   "id": "2630e809",
   "metadata": {},
   "outputs": [],
   "source": [
    "t4 = 6,"
   ]
  },
  {
   "cell_type": "code",
   "execution_count": 139,
   "id": "392af146",
   "metadata": {},
   "outputs": [
    {
     "data": {
      "text/plain": [
       "tuple"
      ]
     },
     "execution_count": 139,
     "metadata": {},
     "output_type": "execute_result"
    }
   ],
   "source": [
    "type(t4)"
   ]
  },
  {
   "cell_type": "code",
   "execution_count": 140,
   "id": "a6f6c765",
   "metadata": {},
   "outputs": [],
   "source": [
    "t5 = 4,5,6"
   ]
  },
  {
   "cell_type": "code",
   "execution_count": 141,
   "id": "b81f5a89",
   "metadata": {},
   "outputs": [
    {
     "data": {
      "text/plain": [
       "tuple"
      ]
     },
     "execution_count": 141,
     "metadata": {},
     "output_type": "execute_result"
    }
   ],
   "source": [
    "type(t5)"
   ]
  },
  {
   "cell_type": "code",
   "execution_count": 146,
   "id": "f598b8e8",
   "metadata": {},
   "outputs": [],
   "source": [
    "a , b , c = t5"
   ]
  },
  {
   "cell_type": "code",
   "execution_count": 147,
   "id": "d09f0fb7",
   "metadata": {},
   "outputs": [
    {
     "data": {
      "text/plain": [
       "4"
      ]
     },
     "execution_count": 147,
     "metadata": {},
     "output_type": "execute_result"
    }
   ],
   "source": [
    "a"
   ]
  },
  {
   "cell_type": "code",
   "execution_count": 148,
   "id": "17a8f7ed",
   "metadata": {},
   "outputs": [
    {
     "data": {
      "text/plain": [
       "5"
      ]
     },
     "execution_count": 148,
     "metadata": {},
     "output_type": "execute_result"
    }
   ],
   "source": [
    "b"
   ]
  },
  {
   "cell_type": "code",
   "execution_count": 149,
   "id": "e24c39a2",
   "metadata": {},
   "outputs": [
    {
     "data": {
      "text/plain": [
       "6"
      ]
     },
     "execution_count": 149,
     "metadata": {},
     "output_type": "execute_result"
    }
   ],
   "source": [
    "c"
   ]
  },
  {
   "cell_type": "code",
   "execution_count": 154,
   "id": "bb55d771",
   "metadata": {},
   "outputs": [],
   "source": [
    "d1 ={1:'apple', 2:'ball', \"name\":['machine', 'learning']}"
   ]
  },
  {
   "cell_type": "code",
   "execution_count": 155,
   "id": "9466dbc4",
   "metadata": {},
   "outputs": [
    {
     "data": {
      "text/plain": [
       "dict"
      ]
     },
     "execution_count": 155,
     "metadata": {},
     "output_type": "execute_result"
    }
   ],
   "source": [
    "type(d1)"
   ]
  },
  {
   "cell_type": "code",
   "execution_count": 160,
   "id": "d74797b2",
   "metadata": {},
   "outputs": [
    {
     "data": {
      "text/plain": [
       "{1: 'apple', 2: 'ball', 'name': ['machine', 'learning']}"
      ]
     },
     "execution_count": 160,
     "metadata": {},
     "output_type": "execute_result"
    }
   ],
   "source": [
    "dict([(1,'apple'), (2,'ball'), (\"name\",['machine', 'learning'])])"
   ]
  },
  {
   "cell_type": "code",
   "execution_count": 164,
   "id": "5627612f",
   "metadata": {},
   "outputs": [],
   "source": [
    "d1.get(5)"
   ]
  },
  {
   "cell_type": "code",
   "execution_count": 180,
   "id": "da85b0ef",
   "metadata": {},
   "outputs": [
    {
     "name": "stdout",
     "output_type": "stream",
     "text": [
      "enter first number: 20\n",
      "enter second number: 24\n",
      "enter third number: 28\n"
     ]
    }
   ],
   "source": [
    "a = int(input('enter first number: ', ))\n",
    "b = int(input('enter second number: ', ))\n",
    "c = int(input('enter third number: ', ))"
   ]
  },
  {
   "cell_type": "code",
   "execution_count": 177,
   "id": "99a90df7",
   "metadata": {},
   "outputs": [
    {
     "name": "stdout",
     "output_type": "stream",
     "text": [
      "18 is largets\n"
     ]
    }
   ],
   "source": [
    "if (a>b) and (a>c):\n",
    "    print(f\"{a}is largest\")\n",
    "elif (b>c) and (b>a):\n",
    "    print(f'{b} is largest')\n",
    "else:\n",
    "    print(f\"{c} is largets\")"
   ]
  },
  {
   "cell_type": "code",
   "execution_count": 181,
   "id": "c18265ff",
   "metadata": {},
   "outputs": [],
   "source": [
    "if (a>=b) and (a>=c):\n",
    "    largets = a\n",
    "elif (b>=a) and (b>=c):\n",
    "    largets = b\n",
    "    \n",
    "else:\n",
    "     largets = c\n",
    "    "
   ]
  },
  {
   "cell_type": "code",
   "execution_count": 182,
   "id": "33b7ec29",
   "metadata": {},
   "outputs": [
    {
     "name": "stdout",
     "output_type": "stream",
     "text": [
      "the largets number among three is 28\n"
     ]
    }
   ],
   "source": [
    "print(\"the largets number among three is {}\".format(largets))"
   ]
  },
  {
   "cell_type": "code",
   "execution_count": 190,
   "id": "e055d84c",
   "metadata": {},
   "outputs": [
    {
     "name": "stdout",
     "output_type": "stream",
     "text": [
      "Enter temprature : 45\n",
      "enter unit(c for celcius or f for fehranite): j\n"
     ]
    }
   ],
   "source": [
    "temp = float(input('Enter temprature : ', ))\n",
    "unit = input('enter unit(c for celcius or f for fehranite): ', )"
   ]
  },
  {
   "cell_type": "code",
   "execution_count": 191,
   "id": "0cb084d4",
   "metadata": {},
   "outputs": [
    {
     "name": "stdout",
     "output_type": "stream",
     "text": [
      "unknow unit\n"
     ]
    }
   ],
   "source": [
    "if (unit==\"c\" or unit == \"C\"):\n",
    "    new_temp = (9/5*temp)+32\n",
    "    print(\"tem in f is :\", new_temp)\n",
    "elif (unit=='f' or unit == \"F\"):\n",
    "    new_temp = 5/9*(temp-32)\n",
    "    print(\"tem in c is :\", new_temp)\n",
    "else:\n",
    "    print(\"unknow unit\")"
   ]
  },
  {
   "cell_type": "code",
   "execution_count": 195,
   "id": "b2aa3bfc",
   "metadata": {},
   "outputs": [
    {
     "name": "stdout",
     "output_type": "stream",
     "text": [
      "\n",
      "* \n",
      "* * \n",
      "* * * \n",
      "* * * * \n"
     ]
    }
   ],
   "source": [
    "n = 5\n",
    "\n",
    "for i in range(5):\n",
    "    for j in range(i):\n",
    "        print('*', end=\" \")\n",
    "    print()\n",
    "    \n",
    "for i in range(n)"
   ]
  },
  {
   "cell_type": "code",
   "execution_count": 202,
   "id": "43503d41",
   "metadata": {},
   "outputs": [
    {
     "name": "stdout",
     "output_type": "stream",
     "text": [
      "\n",
      "* \n",
      "* * \n",
      "* * * \n",
      "* * * * \n",
      "* * * * * \n",
      "* * * * \n",
      "* * * \n",
      "* * \n",
      "* \n"
     ]
    }
   ],
   "source": [
    "n = 5\n",
    "\n",
    "for i in range(n):\n",
    "    for j in range(i):\n",
    "        print('*', end=\" \")\n",
    "    print()\n",
    "for i in range(n,0,-1):\n",
    "    for j in range(i):\n",
    "        print('*', end=\" \")\n",
    "    print()"
   ]
  },
  {
   "cell_type": "code",
   "execution_count": 205,
   "id": "b93107e7",
   "metadata": {},
   "outputs": [
    {
     "name": "stdout",
     "output_type": "stream",
     "text": [
      "Enter lower number:0\n",
      "Enter upper number:20\n",
      "2\n",
      "3\n",
      "5\n",
      "7\n",
      "11\n",
      "13\n",
      "17\n",
      "19\n"
     ]
    }
   ],
   "source": [
    "lower = int(input('Enter lower number:', ))\n",
    "upper = int(input('Enter upper number:', ))\n",
    "\n",
    "\n",
    "for i in range(lower,upper+1):\n",
    "    if i>1:\n",
    "        for j in range(2,i):\n",
    "            if (i%j==0):\n",
    "                break\n",
    "        else:\n",
    "            print(i)"
   ]
  },
  {
   "cell_type": "code",
   "execution_count": 207,
   "id": "1d7b34d5",
   "metadata": {},
   "outputs": [
    {
     "data": {
      "text/plain": [
       "[]"
      ]
     },
     "execution_count": 207,
     "metadata": {},
     "output_type": "execute_result"
    }
   ],
   "source": [
    "list(range(2,2))"
   ]
  },
  {
   "cell_type": "code",
   "execution_count": 210,
   "id": "106cde10",
   "metadata": {},
   "outputs": [
    {
     "name": "stdout",
     "output_type": "stream",
     "text": [
      "Enter lower number:10\n",
      "Enter upper number:50\n",
      "11\n",
      "13\n",
      "17\n",
      "19\n",
      "23\n",
      "29\n",
      "31\n",
      "37\n",
      "41\n",
      "43\n",
      "47\n"
     ]
    }
   ],
   "source": [
    "lower = int(input('Enter lower number:', ))\n",
    "upper = int(input('Enter upper number:', ))\n",
    "\n",
    "for i in range(lower,upper+1):\n",
    "    if i>1:\n",
    "        for j in range(2,i):\n",
    "            if (i%j==0):\n",
    "                break\n",
    "        else:\n",
    "            print(i)"
   ]
  },
  {
   "cell_type": "code",
   "execution_count": 213,
   "id": "3af64d51",
   "metadata": {},
   "outputs": [],
   "source": [
    "def factorial(n):\n",
    "    if n==1:\n",
    "        return n\n",
    "    else:\n",
    "        return n*factorial(n-1)"
   ]
  },
  {
   "cell_type": "code",
   "execution_count": 216,
   "id": "468be346",
   "metadata": {},
   "outputs": [
    {
     "name": "stdout",
     "output_type": "stream",
     "text": [
      "enter the number:5\n",
      "the factorial of a number is 120\n"
     ]
    }
   ],
   "source": [
    "num = int(input('enter the number:', ))\n",
    "\n",
    "if num<0:\n",
    "    print(\"sorry factorial can not be calculated\")\n",
    "elif num==0:\n",
    "    print(\"the factorial of 0 is 1\")\n",
    "else:\n",
    "    print('the factorial of a number is', factorial(num))"
   ]
  },
  {
   "cell_type": "code",
   "execution_count": 12,
   "id": "2af70624",
   "metadata": {},
   "outputs": [
    {
     "name": "stdout",
     "output_type": "stream",
     "text": [
      "enter number : 21\n"
     ]
    }
   ],
   "source": [
    "n = int(input('enter number : ', ))\n",
    "\n",
    "if (n>=2) and (n<5):\n",
    "    if n%2==0:\n",
    "        print('not Weird')\n",
    "elif (n>=6) and (n<=20):\n",
    "    if n%2==0:\n",
    "        print('weird')\n",
    "elif (n>20):\n",
    "    if n%2==0:\n",
    "        print('Weird')\n",
    "else:\n",
    "    print('Weird')\n"
   ]
  },
  {
   "cell_type": "code",
   "execution_count": null,
   "id": "b4d1d494",
   "metadata": {},
   "outputs": [],
   "source": [
    "Task\n",
    "Given an integer, , perform the following conditional actions:\n",
    "\n",
    "If  is odd, print Weird\n",
    "If  is even and in the inclusive range of 2 to 5, print Not Weird\n",
    "If  is even and in the inclusive range of 6 to 20 , print Weird\n",
    "If  is even and greater than 20 , print Not Weird"
   ]
  },
  {
   "cell_type": "code",
   "execution_count": 18,
   "id": "7659179a",
   "metadata": {},
   "outputs": [
    {
     "name": "stdout",
     "output_type": "stream",
     "text": [
      "Enter the number:21\n",
      "Weird\n"
     ]
    }
   ],
   "source": [
    "n = int(input('Enter the number:', ))\n",
    "\n",
    "if (n%2!=0):\n",
    "    print('Weird')\n",
    "else:\n",
    "    if n in range(6,21):\n",
    "        print('Weird')\n",
    "    else:\n",
    "        print('Not Weird')\n",
    "    "
   ]
  },
  {
   "cell_type": "code",
   "execution_count": 21,
   "id": "7b94843b",
   "metadata": {},
   "outputs": [
    {
     "name": "stdout",
     "output_type": "stream",
     "text": [
      "enter base value :3\n",
      "enter pre value :4\n",
      "enter hypo value :5\n",
      "It is a right traingle\n"
     ]
    }
   ],
   "source": [
    "base  = int(input(\"enter base value :\", ))\n",
    "pre  = int(input(\"enter pre value :\", ))\n",
    "hypo  = int(input(\"enter hypo value :\", ))\n",
    "\n",
    "if (hypo**2) == ((base**2)+(pre**2)):\n",
    "    print('It is a right traingle')\n",
    "else:\n",
    "    print('It is not a right traingle')\n",
    "    "
   ]
  },
  {
   "cell_type": "code",
   "execution_count": 1,
   "id": "cac217e6",
   "metadata": {},
   "outputs": [],
   "source": [
    "def feb3(n):\n",
    "    a,b = 0,1\n",
    "    res = []\n",
    "    while b<n:\n",
    "        res.append(b)\n",
    "        a, b = b, a+b\n",
    "    return res"
   ]
  },
  {
   "cell_type": "code",
   "execution_count": 2,
   "id": "596d41e7",
   "metadata": {},
   "outputs": [
    {
     "data": {
      "text/plain": [
       "[1, 1, 2, 3, 5]"
      ]
     },
     "execution_count": 2,
     "metadata": {},
     "output_type": "execute_result"
    }
   ],
   "source": [
    "feb3(6)"
   ]
  },
  {
   "cell_type": "code",
   "execution_count": 1,
   "id": "bd7b03cd",
   "metadata": {},
   "outputs": [],
   "source": [
    "import Fabionacci"
   ]
  },
  {
   "cell_type": "code",
   "execution_count": 2,
   "id": "11e04605",
   "metadata": {},
   "outputs": [
    {
     "data": {
      "text/plain": [
       "[1, 1, 2, 3]"
      ]
     },
     "execution_count": 2,
     "metadata": {},
     "output_type": "execute_result"
    }
   ],
   "source": [
    "Fabionacci.feb2(5)"
   ]
  },
  {
   "cell_type": "code",
   "execution_count": 3,
   "id": "2fb78214",
   "metadata": {},
   "outputs": [
    {
     "name": "stdout",
     "output_type": "stream",
     "text": [
      "b b b b \n"
     ]
    }
   ],
   "source": [
    "Fabionacci.feb1(5)"
   ]
  },
  {
   "cell_type": "code",
   "execution_count": 4,
   "id": "ac7c27af",
   "metadata": {},
   "outputs": [],
   "source": [
    "import hello"
   ]
  },
  {
   "cell_type": "code",
   "execution_count": 5,
   "id": "157c3205",
   "metadata": {},
   "outputs": [
    {
     "name": "stdout",
     "output_type": "stream",
     "text": [
      "Hello sanjay\n"
     ]
    }
   ],
   "source": [
    "hello.greet('sanjay')"
   ]
  },
  {
   "cell_type": "code",
   "execution_count": 8,
   "id": "636e8e29",
   "metadata": {},
   "outputs": [],
   "source": [
    "from hello import greet"
   ]
  },
  {
   "cell_type": "code",
   "execution_count": 9,
   "id": "e63e8da1",
   "metadata": {},
   "outputs": [
    {
     "name": "stdout",
     "output_type": "stream",
     "text": [
      "Hello sanjay\n"
     ]
    }
   ],
   "source": [
    "greet('sanjay')"
   ]
  },
  {
   "cell_type": "code",
   "execution_count": 10,
   "id": "ece370ed",
   "metadata": {},
   "outputs": [
    {
     "name": "stdout",
     "output_type": "stream",
     "text": [
      "Enter the input text:sdfghj\n"
     ]
    }
   ],
   "source": [
    "import Input"
   ]
  },
  {
   "cell_type": "code",
   "execution_count": 13,
   "id": "a71fd7e8",
   "metadata": {},
   "outputs": [
    {
     "name": "stdout",
     "output_type": "stream",
     "text": [
      "Enter inputtext:machine\n",
      "Enter outputtext:python\n"
     ]
    },
    {
     "ename": "FileNotFoundError",
     "evalue": "[Errno 2] No such file or directory: 'machine'",
     "output_type": "error",
     "traceback": [
      "\u001b[1;31m---------------------------------------------------------------------------\u001b[0m",
      "\u001b[1;31mFileNotFoundError\u001b[0m                         Traceback (most recent call last)",
      "Input \u001b[1;32mIn [13]\u001b[0m, in \u001b[0;36m<cell line: 4>\u001b[1;34m()\u001b[0m\n\u001b[0;32m      1\u001b[0m infile \u001b[38;5;241m=\u001b[39m \u001b[38;5;28minput\u001b[39m(\u001b[38;5;124m'\u001b[39m\u001b[38;5;124mEnter inputtext:\u001b[39m\u001b[38;5;124m'\u001b[39m, )\n\u001b[0;32m      2\u001b[0m outfile \u001b[38;5;241m=\u001b[39m \u001b[38;5;28minput\u001b[39m(\u001b[38;5;124m'\u001b[39m\u001b[38;5;124mEnter outputtext:\u001b[39m\u001b[38;5;124m'\u001b[39m, )\n\u001b[1;32m----> 4\u001b[0m f1 \u001b[38;5;241m=\u001b[39m \u001b[38;5;28;43mopen\u001b[39;49m\u001b[43m(\u001b[49m\u001b[43minfile\u001b[49m\u001b[43m,\u001b[49m\u001b[43m \u001b[49m\u001b[38;5;124;43m\"\u001b[39;49m\u001b[38;5;124;43mr\u001b[39;49m\u001b[38;5;124;43m\"\u001b[39;49m\u001b[43m)\u001b[49m\n\u001b[0;32m      5\u001b[0m content \u001b[38;5;241m=\u001b[39m f1\u001b[38;5;241m.\u001b[39mread()\n\u001b[0;32m      7\u001b[0m f2 \u001b[38;5;241m=\u001b[39m \u001b[38;5;28mopen\u001b[39m(outfile, \u001b[38;5;124m\"\u001b[39m\u001b[38;5;124mw\u001b[39m\u001b[38;5;124m\"\u001b[39m)\n",
      "\u001b[1;31mFileNotFoundError\u001b[0m: [Errno 2] No such file or directory: 'machine'"
     ]
    }
   ],
   "source": [
    "infile = input('Enter inputtext:', )\n",
    "outfile = input('Enter outputtext:', )\n",
    "\n",
    "f1 = open(infile, \"r\")\n",
    "content = f1.read()\n",
    "\n",
    "f2 = open(outfile, \"w\")\n",
    "f2.write(content)\n",
    "\n",
    "f1.close()\n",
    "f2.close()"
   ]
  },
  {
   "cell_type": "code",
   "execution_count": 14,
   "id": "0a9ee917",
   "metadata": {},
   "outputs": [
    {
     "name": "stdout",
     "output_type": "stream",
     "text": [
      "enter text:, machine learning\n"
     ]
    }
   ],
   "source": [
    "import infile"
   ]
  },
  {
   "cell_type": "code",
   "execution_count": 15,
   "id": "91fd4200",
   "metadata": {},
   "outputs": [
    {
     "data": {
      "text/plain": [
       "'machine learning'"
      ]
     },
     "execution_count": 15,
     "metadata": {},
     "output_type": "execute_result"
    }
   ],
   "source": [
    "infile.a"
   ]
  },
  {
   "cell_type": "code",
   "execution_count": 19,
   "id": "1608bac1",
   "metadata": {},
   "outputs": [],
   "source": [
    "f1 = open('infile.py')"
   ]
  },
  {
   "cell_type": "code",
   "execution_count": 21,
   "id": "fbe99e91",
   "metadata": {},
   "outputs": [],
   "source": [
    "content = f1.read()"
   ]
  },
  {
   "cell_type": "code",
   "execution_count": 25,
   "id": "b3671c3e",
   "metadata": {},
   "outputs": [],
   "source": [
    "import outfile"
   ]
  },
  {
   "cell_type": "code",
   "execution_count": 30,
   "id": "2fdd5164",
   "metadata": {},
   "outputs": [],
   "source": [
    "def unique_file(input_file, output_file):\n",
    "    read_file = open(input_file, \"r\")\n",
    "    content = read_file.read()\n",
    "    read_file.close()\n",
    "    depclicates = []\n",
    "    word_list = content.split()\n",
    "    out_file = open(outfile, \"w\")\n",
    "    for word in word_list:\n",
    "        if word not in depclicates:\n",
    "            depclicates.append(word)\n",
    "            out_file.write(str(word)+\"\\n\")\n",
    "    out_file.close()"
   ]
  },
  {
   "cell_type": "code",
   "execution_count": 32,
   "id": "bf7f767e",
   "metadata": {},
   "outputs": [],
   "source": [
    "#unique_file('samplefile.txt', \"unique_output.txt\")\n",
    "#for line in sorted(open(unique_output.txt)):\n",
    "    #print(line, end=\" \")"
   ]
  },
  {
   "cell_type": "code",
   "execution_count": null,
   "id": "1bfed223",
   "metadata": {},
   "outputs": [],
   "source": []
  }
 ],
 "metadata": {
  "kernelspec": {
   "display_name": "Python 3 (ipykernel)",
   "language": "python",
   "name": "python3"
  },
  "language_info": {
   "codemirror_mode": {
    "name": "ipython",
    "version": 3
   },
   "file_extension": ".py",
   "mimetype": "text/x-python",
   "name": "python",
   "nbconvert_exporter": "python",
   "pygments_lexer": "ipython3",
   "version": "3.8.8"
  }
 },
 "nbformat": 4,
 "nbformat_minor": 5
}
