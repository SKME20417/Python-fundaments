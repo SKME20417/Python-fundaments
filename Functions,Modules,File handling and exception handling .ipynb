{
 "cells": [
  {
   "cell_type": "code",
   "execution_count": 1,
   "id": "3b96dcf1",
   "metadata": {},
   "outputs": [],
   "source": [
    "def greetings(name):\n",
    "    \n",
    "    \"\"\"This function will greet you\"\"\"\n",
    "    \n",
    "    print(\"Hello\", name)"
   ]
  },
  {
   "cell_type": "code",
   "execution_count": 2,
   "id": "b334fb3e",
   "metadata": {},
   "outputs": [
    {
     "name": "stdout",
     "output_type": "stream",
     "text": [
      "Hello sanjay\n"
     ]
    }
   ],
   "source": [
    "greetings(\"sanjay\")"
   ]
  },
  {
   "cell_type": "code",
   "execution_count": 3,
   "id": "e429db74",
   "metadata": {},
   "outputs": [
    {
     "name": "stdout",
     "output_type": "stream",
     "text": [
      "<function greetings at 0x000002486543B3A0>\n"
     ]
    }
   ],
   "source": [
    "print(greetings)"
   ]
  },
  {
   "cell_type": "code",
   "execution_count": 4,
   "id": "4a777b92",
   "metadata": {},
   "outputs": [
    {
     "data": {
      "text/plain": [
       "function"
      ]
     },
     "execution_count": 4,
     "metadata": {},
     "output_type": "execute_result"
    }
   ],
   "source": [
    "type(greetings)"
   ]
  },
  {
   "cell_type": "code",
   "execution_count": 5,
   "id": "4c5ab444",
   "metadata": {},
   "outputs": [
    {
     "name": "stdout",
     "output_type": "stream",
     "text": [
      "Hello rohit\n"
     ]
    }
   ],
   "source": [
    "greetings(\"rohit\")"
   ]
  },
  {
   "cell_type": "code",
   "execution_count": 6,
   "id": "6739f774",
   "metadata": {},
   "outputs": [
    {
     "data": {
      "text/plain": [
       "'This function will greet you'"
      ]
     },
     "execution_count": 6,
     "metadata": {},
     "output_type": "execute_result"
    }
   ],
   "source": [
    "greetings.__doc__"
   ]
  },
  {
   "cell_type": "code",
   "execution_count": 7,
   "id": "624a8d8a",
   "metadata": {},
   "outputs": [],
   "source": [
    "def greetings(name):\n",
    "    \"\"\"This function will greet you\"\"\"\n",
    "    print(\"Good Morning\", name)"
   ]
  },
  {
   "cell_type": "code",
   "execution_count": 8,
   "id": "ff0ec757",
   "metadata": {},
   "outputs": [
    {
     "name": "stdout",
     "output_type": "stream",
     "text": [
      "Good Morning suman\n"
     ]
    }
   ],
   "source": [
    "greetings(\"suman\")"
   ]
  },
  {
   "cell_type": "code",
   "execution_count": 9,
   "id": "6e07b0e9",
   "metadata": {},
   "outputs": [
    {
     "name": "stdout",
     "output_type": "stream",
     "text": [
      "Good Morning kholi\n"
     ]
    }
   ],
   "source": [
    "greetings(\"kholi\")"
   ]
  },
  {
   "cell_type": "code",
   "execution_count": 10,
   "id": "8fc5aa5c",
   "metadata": {},
   "outputs": [
    {
     "data": {
      "text/plain": [
       "function"
      ]
     },
     "execution_count": 10,
     "metadata": {},
     "output_type": "execute_result"
    }
   ],
   "source": [
    "type(greetings)"
   ]
  },
  {
   "cell_type": "code",
   "execution_count": 11,
   "id": "87a022d4",
   "metadata": {},
   "outputs": [
    {
     "data": {
      "text/plain": [
       "'This function will greet you'"
      ]
     },
     "execution_count": 11,
     "metadata": {},
     "output_type": "execute_result"
    }
   ],
   "source": [
    "greetings.__doc__"
   ]
  },
  {
   "cell_type": "code",
   "execution_count": 12,
   "id": "75eba814",
   "metadata": {},
   "outputs": [
    {
     "name": "stdout",
     "output_type": "stream",
     "text": [
      "<function greetings at 0x000002486543B040>\n"
     ]
    }
   ],
   "source": [
    "print(greetings)"
   ]
  },
  {
   "cell_type": "code",
   "execution_count": 13,
   "id": "27d7c5f8",
   "metadata": {},
   "outputs": [],
   "source": [
    "def add(a,b):\n",
    "    \"\"\"This will add 2 numbers \"\"\"\n",
    "    c = a+b\n",
    "    return c"
   ]
  },
  {
   "cell_type": "code",
   "execution_count": 14,
   "id": "8679d0bb",
   "metadata": {},
   "outputs": [],
   "source": [
    "s = add(5,3)"
   ]
  },
  {
   "cell_type": "code",
   "execution_count": 15,
   "id": "5f79cacf",
   "metadata": {},
   "outputs": [
    {
     "name": "stdout",
     "output_type": "stream",
     "text": [
      "8\n"
     ]
    }
   ],
   "source": [
    "print(s)"
   ]
  },
  {
   "cell_type": "code",
   "execution_count": 16,
   "id": "c69aa452",
   "metadata": {},
   "outputs": [
    {
     "data": {
      "text/plain": [
       "9"
      ]
     },
     "execution_count": 16,
     "metadata": {},
     "output_type": "execute_result"
    }
   ],
   "source": [
    "add(5,4)"
   ]
  },
  {
   "cell_type": "code",
   "execution_count": 17,
   "id": "5de9f61e",
   "metadata": {},
   "outputs": [],
   "source": [
    "def product(lst):\n",
    "    \"\"\"\n",
    "    parametrs : it is a list\n",
    "    \n",
    "    return : product of all elements in a list\n",
    "    \n",
    "    \"\"\"\n",
    "    p = 1\n",
    "    \n",
    "    for i in lst:\n",
    "        p*=i\n",
    "        \n",
    "    return p"
   ]
  },
  {
   "cell_type": "code",
   "execution_count": 18,
   "id": "6a0553d1",
   "metadata": {},
   "outputs": [],
   "source": [
    "res = [5,3,4,8]"
   ]
  },
  {
   "cell_type": "code",
   "execution_count": 19,
   "id": "9efb7722",
   "metadata": {},
   "outputs": [],
   "source": [
    "d = product(res)"
   ]
  },
  {
   "cell_type": "code",
   "execution_count": 20,
   "id": "90aba57e",
   "metadata": {},
   "outputs": [
    {
     "name": "stdout",
     "output_type": "stream",
     "text": [
      "480\n"
     ]
    }
   ],
   "source": [
    "print(d)"
   ]
  },
  {
   "cell_type": "code",
   "execution_count": 21,
   "id": "e2b52cdf",
   "metadata": {},
   "outputs": [],
   "source": [
    "f = [8,9,2,5,1]"
   ]
  },
  {
   "cell_type": "code",
   "execution_count": 22,
   "id": "e1045f7e",
   "metadata": {},
   "outputs": [
    {
     "data": {
      "text/plain": [
       "720"
      ]
     },
     "execution_count": 22,
     "metadata": {},
     "output_type": "execute_result"
    }
   ],
   "source": [
    "product(f)"
   ]
  },
  {
   "cell_type": "code",
   "execution_count": 23,
   "id": "c104f9ee",
   "metadata": {},
   "outputs": [],
   "source": [
    "def calculator(a,b):\n",
    "    \"\"\"This will calculate 5 basic arithmetic operations \"\"\"\n",
    "    res1 = a+b\n",
    "    res2 = a-b\n",
    "    res3 = a*b\n",
    "    res4 = a/b\n",
    "    res5 = a**b\n",
    "    \n",
    "    return [res1,res2,res3,res4,res5]"
   ]
  },
  {
   "cell_type": "code",
   "execution_count": 24,
   "id": "c0fc0856",
   "metadata": {},
   "outputs": [
    {
     "data": {
      "text/plain": [
       "[9, 3, 18, 2.0, 216]"
      ]
     },
     "execution_count": 24,
     "metadata": {},
     "output_type": "execute_result"
    }
   ],
   "source": [
    "calculator(6,3)"
   ]
  },
  {
   "cell_type": "code",
   "execution_count": 25,
   "id": "1aee7ffa",
   "metadata": {},
   "outputs": [],
   "source": [
    "def calculator(a,b):\n",
    "    \"\"\"This will calculate 5 basic arithmetic operations \"\"\"\n",
    "    return a+b,a-b,a*b,a/b,a**b"
   ]
  },
  {
   "cell_type": "code",
   "execution_count": 26,
   "id": "11167cdf",
   "metadata": {},
   "outputs": [],
   "source": [
    "result = calculator(6,3)"
   ]
  },
  {
   "cell_type": "code",
   "execution_count": 27,
   "id": "166a933e",
   "metadata": {},
   "outputs": [
    {
     "name": "stdout",
     "output_type": "stream",
     "text": [
      "(9, 3, 18, 2.0, 216)\n"
     ]
    }
   ],
   "source": [
    "print(result)"
   ]
  },
  {
   "cell_type": "code",
   "execution_count": 28,
   "id": "ca031d91",
   "metadata": {},
   "outputs": [],
   "source": [
    "age = 24"
   ]
  },
  {
   "cell_type": "code",
   "execution_count": 29,
   "id": "f29dbdbe",
   "metadata": {},
   "outputs": [
    {
     "name": "stdout",
     "output_type": "stream",
     "text": [
      "24\n"
     ]
    }
   ],
   "source": [
    "print(age)"
   ]
  },
  {
   "cell_type": "code",
   "execution_count": 30,
   "id": "6a811777",
   "metadata": {},
   "outputs": [
    {
     "name": "stdout",
     "output_type": "stream",
     "text": [
      "{'__name__': '__main__', '__doc__': 'Automatically created module for IPython interactive environment', '__package__': None, '__loader__': None, '__spec__': None, '__builtin__': <module 'builtins' (built-in)>, '__builtins__': <module 'builtins' (built-in)>, '_ih': ['', 'def greetings(name):\\n    \\n    \"\"\"This function will greet you\"\"\"\\n    \\n    print(\"Hello\", name)', 'greetings(\"sanjay\")', 'print(greetings)', 'type(greetings)', 'greetings(\"rohit\")', 'greetings.__doc__', 'def greetings(name):\\n    \"\"\"This function will greet you\"\"\"\\n    print(\"Good Morning\", name)', 'greetings(\"suman\")', 'greetings(\"kholi\")', 'type(greetings)', 'greetings.__doc__', 'print(greetings)', 'def add(a,b):\\n    \"\"\"This will add 2 numbers \"\"\"\\n    c = a+b\\n    return c', 's = add(5,3)', 'print(s)', 'add(5,4)', 'def product(lst):\\n    \"\"\"\\n    parametrs : it is a list\\n    \\n    return : product of all elements in a list\\n    \\n    \"\"\"\\n    p = 1\\n    \\n    for i in lst:\\n        p*=i\\n        \\n    return p', 'res = [5,3,4,8]', 'd = product(res)', 'print(d)', 'f = [8,9,2,5,1]', 'product(f)', 'def calculator(a,b):\\n    \"\"\"This will calculate 5 basic arithmetic operations \"\"\"\\n    res1 = a+b\\n    res2 = a-b\\n    res3 = a*b\\n    res4 = a/b\\n    res5 = a**b\\n    \\n    return [res1,res2,res3,res4,res5]', 'calculator(6,3)', 'def calculator(a,b):\\n    \"\"\"This will calculate 5 basic arithmetic operations \"\"\"\\n    return a+b,a-b,a*b,a/b,a**b', 'result = calculator(6,3)', 'print(result)', 'age = 24', 'print(age)', 'print(globals())'], '_oh': {4: <class 'function'>, 6: 'This function will greet you', 10: <class 'function'>, 11: 'This function will greet you', 16: 9, 22: 720, 24: [9, 3, 18, 2.0, 216]}, '_dh': ['C:\\\\Users\\\\skme2\\\\OneDrive\\\\Desktop\\\\python'], 'In': ['', 'def greetings(name):\\n    \\n    \"\"\"This function will greet you\"\"\"\\n    \\n    print(\"Hello\", name)', 'greetings(\"sanjay\")', 'print(greetings)', 'type(greetings)', 'greetings(\"rohit\")', 'greetings.__doc__', 'def greetings(name):\\n    \"\"\"This function will greet you\"\"\"\\n    print(\"Good Morning\", name)', 'greetings(\"suman\")', 'greetings(\"kholi\")', 'type(greetings)', 'greetings.__doc__', 'print(greetings)', 'def add(a,b):\\n    \"\"\"This will add 2 numbers \"\"\"\\n    c = a+b\\n    return c', 's = add(5,3)', 'print(s)', 'add(5,4)', 'def product(lst):\\n    \"\"\"\\n    parametrs : it is a list\\n    \\n    return : product of all elements in a list\\n    \\n    \"\"\"\\n    p = 1\\n    \\n    for i in lst:\\n        p*=i\\n        \\n    return p', 'res = [5,3,4,8]', 'd = product(res)', 'print(d)', 'f = [8,9,2,5,1]', 'product(f)', 'def calculator(a,b):\\n    \"\"\"This will calculate 5 basic arithmetic operations \"\"\"\\n    res1 = a+b\\n    res2 = a-b\\n    res3 = a*b\\n    res4 = a/b\\n    res5 = a**b\\n    \\n    return [res1,res2,res3,res4,res5]', 'calculator(6,3)', 'def calculator(a,b):\\n    \"\"\"This will calculate 5 basic arithmetic operations \"\"\"\\n    return a+b,a-b,a*b,a/b,a**b', 'result = calculator(6,3)', 'print(result)', 'age = 24', 'print(age)', 'print(globals())'], 'Out': {4: <class 'function'>, 6: 'This function will greet you', 10: <class 'function'>, 11: 'This function will greet you', 16: 9, 22: 720, 24: [9, 3, 18, 2.0, 216]}, 'get_ipython': <bound method InteractiveShell.get_ipython of <ipykernel.zmqshell.ZMQInteractiveShell object at 0x00000248652F2F10>>, 'exit': <IPython.core.autocall.ZMQExitAutocall object at 0x000002486539F7F0>, 'quit': <IPython.core.autocall.ZMQExitAutocall object at 0x000002486539F7F0>, '_': [9, 3, 18, 2.0, 216], '__': 720, '___': 9, '_i': 'print(age)', '_ii': 'age = 24', '_iii': 'print(result)', '_i1': 'def greetings(name):\\n    \\n    \"\"\"This function will greet you\"\"\"\\n    \\n    print(\"Hello\", name)', 'greetings': <function greetings at 0x000002486543B040>, '_i2': 'greetings(\"sanjay\")', '_i3': 'print(greetings)', '_i4': 'type(greetings)', '_4': <class 'function'>, '_i5': 'greetings(\"rohit\")', '_i6': 'greetings.__doc__', '_6': 'This function will greet you', '_i7': 'def greetings(name):\\n    \"\"\"This function will greet you\"\"\"\\n    print(\"Good Morning\", name)', '_i8': 'greetings(\"suman\")', '_i9': 'greetings(\"kholi\")', '_i10': 'type(greetings)', '_10': <class 'function'>, '_i11': 'greetings.__doc__', '_11': 'This function will greet you', '_i12': 'print(greetings)', '_i13': 'def add(a,b):\\n    \"\"\"This will add 2 numbers \"\"\"\\n    c = a+b\\n    return c', 'add': <function add at 0x000002486543B160>, '_i14': 's = add(5,3)', 's': 8, '_i15': 'print(s)', '_i16': 'add(5,4)', '_16': 9, '_i17': 'def product(lst):\\n    \"\"\"\\n    parametrs : it is a list\\n    \\n    return : product of all elements in a list\\n    \\n    \"\"\"\\n    p = 1\\n    \\n    for i in lst:\\n        p*=i\\n        \\n    return p', 'product': <function product at 0x000002486543B4C0>, '_i18': 'res = [5,3,4,8]', 'res': [5, 3, 4, 8], '_i19': 'd = product(res)', 'd': 480, '_i20': 'print(d)', '_i21': 'f = [8,9,2,5,1]', 'f': [8, 9, 2, 5, 1], '_i22': 'product(f)', '_22': 720, '_i23': 'def calculator(a,b):\\n    \"\"\"This will calculate 5 basic arithmetic operations \"\"\"\\n    res1 = a+b\\n    res2 = a-b\\n    res3 = a*b\\n    res4 = a/b\\n    res5 = a**b\\n    \\n    return [res1,res2,res3,res4,res5]', 'calculator': <function calculator at 0x000002486543B670>, '_i24': 'calculator(6,3)', '_24': [9, 3, 18, 2.0, 216], '_i25': 'def calculator(a,b):\\n    \"\"\"This will calculate 5 basic arithmetic operations \"\"\"\\n    return a+b,a-b,a*b,a/b,a**b', '_i26': 'result = calculator(6,3)', 'result': (9, 3, 18, 2.0, 216), '_i27': 'print(result)', '_i28': 'age = 24', 'age': 24, '_i29': 'print(age)', '_i30': 'print(globals())'}\n"
     ]
    }
   ],
   "source": [
    "print(globals())"
   ]
  },
  {
   "cell_type": "code",
   "execution_count": 31,
   "id": "5f9c93d7",
   "metadata": {},
   "outputs": [],
   "source": [
    "globals()[\"age\"]= 27"
   ]
  },
  {
   "cell_type": "code",
   "execution_count": 32,
   "id": "b0d10002",
   "metadata": {},
   "outputs": [
    {
     "data": {
      "text/plain": [
       "27"
      ]
     },
     "execution_count": 32,
     "metadata": {},
     "output_type": "execute_result"
    }
   ],
   "source": [
    "age"
   ]
  },
  {
   "cell_type": "code",
   "execution_count": 33,
   "id": "3d2dce22",
   "metadata": {},
   "outputs": [],
   "source": [
    "age = 29"
   ]
  },
  {
   "cell_type": "code",
   "execution_count": 34,
   "id": "627e7ece",
   "metadata": {},
   "outputs": [
    {
     "data": {
      "text/plain": [
       "29"
      ]
     },
     "execution_count": 34,
     "metadata": {},
     "output_type": "execute_result"
    }
   ],
   "source": [
    "age"
   ]
  },
  {
   "cell_type": "code",
   "execution_count": 35,
   "id": "3deb4373",
   "metadata": {},
   "outputs": [],
   "source": [
    "globals()[\"age\"]= 30"
   ]
  },
  {
   "cell_type": "code",
   "execution_count": 36,
   "id": "bc32aa4d",
   "metadata": {},
   "outputs": [
    {
     "data": {
      "text/plain": [
       "30"
      ]
     },
     "execution_count": 36,
     "metadata": {},
     "output_type": "execute_result"
    }
   ],
   "source": [
    "age"
   ]
  },
  {
   "cell_type": "code",
   "execution_count": 37,
   "id": "61ffac2f",
   "metadata": {},
   "outputs": [
    {
     "name": "stdout",
     "output_type": "stream",
     "text": [
      "100\n",
      "66\n",
      "100\n"
     ]
    },
    {
     "ename": "NameError",
     "evalue": "name 'local_var' is not defined",
     "output_type": "error",
     "traceback": [
      "\u001b[1;31m---------------------------------------------------------------------------\u001b[0m",
      "\u001b[1;31mNameError\u001b[0m                                 Traceback (most recent call last)",
      "\u001b[1;32m<ipython-input-37-340b6b6f304d>\u001b[0m in \u001b[0;36m<module>\u001b[1;34m\u001b[0m\n\u001b[0;32m      9\u001b[0m \u001b[0mtest_func\u001b[0m\u001b[1;33m(\u001b[0m\u001b[1;33m)\u001b[0m\u001b[1;33m\u001b[0m\u001b[1;33m\u001b[0m\u001b[0m\n\u001b[0;32m     10\u001b[0m \u001b[0mprint\u001b[0m\u001b[1;33m(\u001b[0m\u001b[0mglobal_var\u001b[0m\u001b[1;33m)\u001b[0m\u001b[1;33m\u001b[0m\u001b[1;33m\u001b[0m\u001b[0m\n\u001b[1;32m---> 11\u001b[1;33m \u001b[0mprint\u001b[0m\u001b[1;33m(\u001b[0m\u001b[0mlocal_var\u001b[0m\u001b[1;33m)\u001b[0m\u001b[1;33m\u001b[0m\u001b[1;33m\u001b[0m\u001b[0m\n\u001b[0m",
      "\u001b[1;31mNameError\u001b[0m: name 'local_var' is not defined"
     ]
    }
   ],
   "source": [
    "global_var = 100\n",
    "\n",
    "def test_func():\n",
    "    local_var = 66\n",
    "    \n",
    "    print(global_var)\n",
    "    print(local_var)\n",
    "    \n",
    "test_func()\n",
    "print(global_var)\n",
    "print(local_var)"
   ]
  },
  {
   "cell_type": "code",
   "execution_count": null,
   "id": "5bb6251a",
   "metadata": {},
   "outputs": [],
   "source": [
    "x = 45\n",
    "\n",
    "def tes_t():\n",
    "    global x\n",
    "    x= 22\n",
    "    print(x)\n",
    "tes_t()\n",
    "print(x)"
   ]
  },
  {
   "cell_type": "code",
   "execution_count": 38,
   "id": "edcf208e",
   "metadata": {},
   "outputs": [
    {
     "data": {
      "text/plain": [
       "<function __main__.<lambda>(a, b)>"
      ]
     },
     "execution_count": 38,
     "metadata": {},
     "output_type": "execute_result"
    }
   ],
   "source": [
    "(lambda a,b : a+b)"
   ]
  },
  {
   "cell_type": "code",
   "execution_count": 39,
   "id": "6587e9d3",
   "metadata": {},
   "outputs": [
    {
     "data": {
      "text/plain": [
       "0"
      ]
     },
     "execution_count": 39,
     "metadata": {},
     "output_type": "execute_result"
    }
   ],
   "source": [
    "(lambda x,y : x+y if x>y else 0)(5,40)"
   ]
  },
  {
   "cell_type": "code",
   "execution_count": 40,
   "id": "2bf201ca",
   "metadata": {},
   "outputs": [
    {
     "data": {
      "text/plain": [
       "15625"
      ]
     },
     "execution_count": 40,
     "metadata": {},
     "output_type": "execute_result"
    }
   ],
   "source": [
    "(lambda s,t : s*t if s>t else s**t)(5,6)"
   ]
  },
  {
   "cell_type": "code",
   "execution_count": 41,
   "id": "5e1b9573",
   "metadata": {},
   "outputs": [],
   "source": [
    "names = [(\"machin\", 5),('shishker', 8),('audh', 2)]"
   ]
  },
  {
   "cell_type": "code",
   "execution_count": 42,
   "id": "2ea52778",
   "metadata": {},
   "outputs": [
    {
     "data": {
      "text/plain": [
       "[('audh', 2), ('machin', 5), ('shishker', 8)]"
      ]
     },
     "execution_count": 42,
     "metadata": {},
     "output_type": "execute_result"
    }
   ],
   "source": [
    "sorted(names)"
   ]
  },
  {
   "cell_type": "code",
   "execution_count": 43,
   "id": "4be960dc",
   "metadata": {},
   "outputs": [
    {
     "data": {
      "text/plain": [
       "[('shishker', 8), ('machin', 5), ('audh', 2)]"
      ]
     },
     "execution_count": 43,
     "metadata": {},
     "output_type": "execute_result"
    }
   ],
   "source": [
    "sorted(names, key = lambda x: x[1], reverse= True)"
   ]
  },
  {
   "cell_type": "code",
   "execution_count": 44,
   "id": "69bb9734",
   "metadata": {},
   "outputs": [
    {
     "data": {
      "text/plain": [
       "[('audh', 2), ('machin', 5), ('shishker', 8)]"
      ]
     },
     "execution_count": 44,
     "metadata": {},
     "output_type": "execute_result"
    }
   ],
   "source": [
    "sorted(names, key = lambda x: x[1])"
   ]
  },
  {
   "cell_type": "code",
   "execution_count": 45,
   "id": "ff2be8eb",
   "metadata": {},
   "outputs": [],
   "source": [
    "def Lcm(a,b):\n",
    "    \"\"\"It will give Lcm of 2 numbers \"\"\"\n",
    "    max_num = a if a>b else b\n",
    "    \n",
    "    while True:\n",
    "        if (max_num%a==0) and (max_num%b==0):\n",
    "            return max_num\n",
    "        else:\n",
    "            max_num+=1\n",
    "    \n",
    "        "
   ]
  },
  {
   "cell_type": "code",
   "execution_count": 46,
   "id": "4d4caf0a",
   "metadata": {},
   "outputs": [
    {
     "data": {
      "text/plain": [
       "15"
      ]
     },
     "execution_count": 46,
     "metadata": {},
     "output_type": "execute_result"
    }
   ],
   "source": [
    "Lcm(3,5)"
   ]
  },
  {
   "cell_type": "code",
   "execution_count": 47,
   "id": "6bfc3d92",
   "metadata": {},
   "outputs": [
    {
     "data": {
      "text/plain": [
       "36"
      ]
     },
     "execution_count": 47,
     "metadata": {},
     "output_type": "execute_result"
    }
   ],
   "source": [
    "Lcm(4,18)"
   ]
  },
  {
   "cell_type": "code",
   "execution_count": 48,
   "id": "5bda7de8",
   "metadata": {},
   "outputs": [
    {
     "data": {
      "text/plain": [
       "16"
      ]
     },
     "execution_count": 48,
     "metadata": {},
     "output_type": "execute_result"
    }
   ],
   "source": [
    "Lcm(4,16)"
   ]
  },
  {
   "cell_type": "code",
   "execution_count": 49,
   "id": "3eae87dd",
   "metadata": {},
   "outputs": [
    {
     "data": {
      "text/plain": [
       "36"
      ]
     },
     "execution_count": 49,
     "metadata": {},
     "output_type": "execute_result"
    }
   ],
   "source": [
    "Lcm(9,12)"
   ]
  },
  {
   "cell_type": "code",
   "execution_count": 58,
   "id": "ffb701a4",
   "metadata": {},
   "outputs": [],
   "source": [
    "def greeting(name):\n",
    "    \"\"\"\n",
    "    This function will greet you \n",
    "    \"\"\"\n",
    "    print(\"Good morning\", name)\n",
    "    "
   ]
  },
  {
   "cell_type": "code",
   "execution_count": 51,
   "id": "0a2e5e24",
   "metadata": {},
   "outputs": [
    {
     "name": "stdout",
     "output_type": "stream",
     "text": [
      "Good morning sanjay kumar\n"
     ]
    }
   ],
   "source": [
    "greeting(\"sanjay kumar\")"
   ]
  },
  {
   "cell_type": "code",
   "execution_count": 53,
   "id": "dab69466",
   "metadata": {},
   "outputs": [
    {
     "name": "stdout",
     "output_type": "stream",
     "text": [
      "<function greeting at 0x00000248663AD1F0>\n"
     ]
    }
   ],
   "source": [
    "print(greeting)"
   ]
  },
  {
   "cell_type": "code",
   "execution_count": 54,
   "id": "47df1972",
   "metadata": {},
   "outputs": [
    {
     "data": {
      "text/plain": [
       "function"
      ]
     },
     "execution_count": 54,
     "metadata": {},
     "output_type": "execute_result"
    }
   ],
   "source": [
    "type(greeting)"
   ]
  },
  {
   "cell_type": "code",
   "execution_count": 55,
   "id": "e0783ec3",
   "metadata": {},
   "outputs": [
    {
     "name": "stdout",
     "output_type": "stream",
     "text": [
      "Good morning sachin kumar\n"
     ]
    }
   ],
   "source": [
    "greeting(\"sachin kumar\")"
   ]
  },
  {
   "cell_type": "code",
   "execution_count": 57,
   "id": "5ca4fd64",
   "metadata": {},
   "outputs": [
    {
     "name": "stdout",
     "output_type": "stream",
     "text": [
      "\n",
      "    This function will greet you \n",
      "    \n"
     ]
    }
   ],
   "source": [
    "print(greeting.__doc__)"
   ]
  },
  {
   "cell_type": "code",
   "execution_count": 59,
   "id": "85506027",
   "metadata": {},
   "outputs": [],
   "source": [
    "def add(a,b):\n",
    "    \"\"\"This function will add two numbers\"\"\"\n",
    "    c= a+b\n",
    "    return c"
   ]
  },
  {
   "cell_type": "code",
   "execution_count": 60,
   "id": "201e4d89",
   "metadata": {},
   "outputs": [
    {
     "data": {
      "text/plain": [
       "11"
      ]
     },
     "execution_count": 60,
     "metadata": {},
     "output_type": "execute_result"
    }
   ],
   "source": [
    "add(5,6)"
   ]
  },
  {
   "cell_type": "code",
   "execution_count": 62,
   "id": "674b2550",
   "metadata": {},
   "outputs": [],
   "source": [
    "new_num = add(15,25)"
   ]
  },
  {
   "cell_type": "code",
   "execution_count": 63,
   "id": "c4abded0",
   "metadata": {},
   "outputs": [
    {
     "name": "stdout",
     "output_type": "stream",
     "text": [
      "40\n"
     ]
    }
   ],
   "source": [
    "print(new_num)"
   ]
  },
  {
   "cell_type": "code",
   "execution_count": 64,
   "id": "c74701e9",
   "metadata": {},
   "outputs": [],
   "source": [
    "def product(lst):\n",
    "    \"\"\"Parameters: it will accept list\n",
    "    return: product of all elements\n",
    "    \"\"\"\n",
    "    p = 1\n",
    "    \n",
    "    for i in lst:\n",
    "        p*=i\n",
    "    return p"
   ]
  },
  {
   "cell_type": "code",
   "execution_count": 65,
   "id": "97b91531",
   "metadata": {},
   "outputs": [],
   "source": [
    "lst1 = [2,3,5]"
   ]
  },
  {
   "cell_type": "code",
   "execution_count": 66,
   "id": "85c6b496",
   "metadata": {},
   "outputs": [
    {
     "data": {
      "text/plain": [
       "30"
      ]
     },
     "execution_count": 66,
     "metadata": {},
     "output_type": "execute_result"
    }
   ],
   "source": [
    "product(lst1)"
   ]
  },
  {
   "cell_type": "code",
   "execution_count": 67,
   "id": "2e5594e3",
   "metadata": {},
   "outputs": [],
   "source": [
    "lst2 = [2,5,8,1,3,0]"
   ]
  },
  {
   "cell_type": "code",
   "execution_count": 68,
   "id": "9ec700b2",
   "metadata": {},
   "outputs": [],
   "source": [
    "s = product(lst2)"
   ]
  },
  {
   "cell_type": "code",
   "execution_count": 69,
   "id": "152eae4f",
   "metadata": {},
   "outputs": [
    {
     "name": "stdout",
     "output_type": "stream",
     "text": [
      "0\n"
     ]
    }
   ],
   "source": [
    "print(s)"
   ]
  },
  {
   "cell_type": "code",
   "execution_count": 72,
   "id": "a20ff4c6",
   "metadata": {},
   "outputs": [],
   "source": [
    "def calculator(a,b):\n",
    "    \"\"\"This function will calculate all arithmetic operations\"\"\"\n",
    "    res1 = a+b\n",
    "    res2 = a-b\n",
    "    res3 = a*b\n",
    "    res4 = a/b\n",
    "    return [res1,res2,res3,res4]"
   ]
  },
  {
   "cell_type": "code",
   "execution_count": 73,
   "id": "521f72cc",
   "metadata": {},
   "outputs": [
    {
     "data": {
      "text/plain": [
       "[9, 3, 18, 2.0]"
      ]
     },
     "execution_count": 73,
     "metadata": {},
     "output_type": "execute_result"
    }
   ],
   "source": [
    "calculator(6,3)"
   ]
  },
  {
   "cell_type": "code",
   "execution_count": 74,
   "id": "b877c90a",
   "metadata": {},
   "outputs": [],
   "source": [
    "def calculator(a,b):\n",
    "    \"\"\"This function will calculate all arithmetic operations\"\"\"\n",
    "    return a+b,a-b,a*b,a/b"
   ]
  },
  {
   "cell_type": "code",
   "execution_count": 75,
   "id": "9c4101c1",
   "metadata": {},
   "outputs": [
    {
     "data": {
      "text/plain": [
       "(15, 5, 50, 2.0)"
      ]
     },
     "execution_count": 75,
     "metadata": {},
     "output_type": "execute_result"
    }
   ],
   "source": [
    "calculator(10,5)"
   ]
  },
  {
   "cell_type": "code",
   "execution_count": 1,
   "id": "126102b1",
   "metadata": {},
   "outputs": [],
   "source": [
    "age = 24"
   ]
  },
  {
   "cell_type": "code",
   "execution_count": 2,
   "id": "47cfadb3",
   "metadata": {},
   "outputs": [
    {
     "name": "stdout",
     "output_type": "stream",
     "text": [
      "24\n"
     ]
    }
   ],
   "source": [
    "print(age)"
   ]
  },
  {
   "cell_type": "code",
   "execution_count": 8,
   "id": "96ade992",
   "metadata": {},
   "outputs": [
    {
     "name": "stdout",
     "output_type": "stream",
     "text": [
      "24\n"
     ]
    }
   ],
   "source": [
    "print(globals()['age'])"
   ]
  },
  {
   "cell_type": "code",
   "execution_count": 9,
   "id": "1ed8322e",
   "metadata": {},
   "outputs": [],
   "source": [
    "age = 247"
   ]
  },
  {
   "cell_type": "code",
   "execution_count": 10,
   "id": "4b877263",
   "metadata": {},
   "outputs": [
    {
     "data": {
      "text/plain": [
       "247"
      ]
     },
     "execution_count": 10,
     "metadata": {},
     "output_type": "execute_result"
    }
   ],
   "source": [
    "age"
   ]
  },
  {
   "cell_type": "code",
   "execution_count": 13,
   "id": "20560ba5",
   "metadata": {},
   "outputs": [],
   "source": [
    "globals()['age'] = 528"
   ]
  },
  {
   "cell_type": "code",
   "execution_count": 14,
   "id": "daf5305f",
   "metadata": {},
   "outputs": [
    {
     "data": {
      "text/plain": [
       "528"
      ]
     },
     "execution_count": 14,
     "metadata": {},
     "output_type": "execute_result"
    }
   ],
   "source": [
    "age"
   ]
  },
  {
   "cell_type": "code",
   "execution_count": 19,
   "id": "7e00998d",
   "metadata": {},
   "outputs": [
    {
     "name": "stdout",
     "output_type": "stream",
     "text": [
      "26\n",
      "26\n"
     ]
    }
   ],
   "source": [
    "age = 15\n",
    "\n",
    "\n",
    "def test_func():\n",
    "    global age\n",
    "    age = 26\n",
    "    print(age)\n",
    "    \n",
    "test_func()\n",
    "print(age)\n"
   ]
  },
  {
   "cell_type": "code",
   "execution_count": 22,
   "id": "ebdeb30b",
   "metadata": {},
   "outputs": [],
   "source": [
    "add = (lambda a,b : a+b)"
   ]
  },
  {
   "cell_type": "code",
   "execution_count": 23,
   "id": "5bfd1674",
   "metadata": {},
   "outputs": [
    {
     "data": {
      "text/plain": [
       "9"
      ]
     },
     "execution_count": 23,
     "metadata": {},
     "output_type": "execute_result"
    }
   ],
   "source": [
    "add(5,4)"
   ]
  },
  {
   "cell_type": "code",
   "execution_count": 30,
   "id": "18a0854e",
   "metadata": {},
   "outputs": [],
   "source": [
    "f = (lambda x,y : x+y if x+y>0 else 0)"
   ]
  },
  {
   "cell_type": "code",
   "execution_count": 31,
   "id": "a268ce24",
   "metadata": {},
   "outputs": [
    {
     "data": {
      "text/plain": [
       "0"
      ]
     },
     "execution_count": 31,
     "metadata": {},
     "output_type": "execute_result"
    }
   ],
   "source": [
    "f(5,-8)"
   ]
  },
  {
   "cell_type": "code",
   "execution_count": 32,
   "id": "af6a5d34",
   "metadata": {},
   "outputs": [],
   "source": [
    "names = [('Prateek', 5), ('Mohit',2), ('Abhi', 6 )]"
   ]
  },
  {
   "cell_type": "code",
   "execution_count": 37,
   "id": "6b8caba1",
   "metadata": {},
   "outputs": [
    {
     "data": {
      "text/plain": [
       "[('Abhi', 6), ('Prateek', 5), ('Mohit', 2)]"
      ]
     },
     "execution_count": 37,
     "metadata": {},
     "output_type": "execute_result"
    }
   ],
   "source": [
    "sorted(names, key = lambda x:x[1], reverse= True )"
   ]
  },
  {
   "cell_type": "code",
   "execution_count": 39,
   "id": "aac31cd4",
   "metadata": {},
   "outputs": [],
   "source": [
    "def Lcm(a,b):\n",
    "    \"\"\"It will give us lcm of two numbers\"\"\"\n",
    "    max_num = (a if a>b else b)\n",
    "    \n",
    "    while True:\n",
    "        if(max_num%a==0) and (max_num%b==0):\n",
    "            return max_num\n",
    "    \n",
    "        else:\n",
    "            max_num+=1"
   ]
  },
  {
   "cell_type": "code",
   "execution_count": 41,
   "id": "f8ee2d0c",
   "metadata": {},
   "outputs": [
    {
     "data": {
      "text/plain": [
       "12"
      ]
     },
     "execution_count": 41,
     "metadata": {},
     "output_type": "execute_result"
    }
   ],
   "source": [
    "Lcm(3,4)"
   ]
  },
  {
   "cell_type": "code",
   "execution_count": 42,
   "id": "529258dd",
   "metadata": {},
   "outputs": [
    {
     "data": {
      "text/plain": [
       "36"
      ]
     },
     "execution_count": 42,
     "metadata": {},
     "output_type": "execute_result"
    }
   ],
   "source": [
    "Lcm(4,18)"
   ]
  },
  {
   "cell_type": "code",
   "execution_count": 43,
   "id": "9e92e805",
   "metadata": {},
   "outputs": [
    {
     "data": {
      "text/plain": [
       "16"
      ]
     },
     "execution_count": 43,
     "metadata": {},
     "output_type": "execute_result"
    }
   ],
   "source": [
    "Lcm(4,16)"
   ]
  },
  {
   "cell_type": "code",
   "execution_count": 44,
   "id": "c4d22d5d",
   "metadata": {},
   "outputs": [
    {
     "data": {
      "text/plain": [
       "15"
      ]
     },
     "execution_count": 44,
     "metadata": {},
     "output_type": "execute_result"
    }
   ],
   "source": [
    "Lcm(3,5)"
   ]
  },
  {
   "cell_type": "code",
   "execution_count": 50,
   "id": "e3039bdb",
   "metadata": {},
   "outputs": [],
   "source": [
    "def intro(name, natinality = 'Indian'):\n",
    "    print(\"my name is :\", name)\n",
    "    print(\"i am :\", natinality)"
   ]
  },
  {
   "cell_type": "code",
   "execution_count": 51,
   "id": "c59a841c",
   "metadata": {},
   "outputs": [
    {
     "name": "stdout",
     "output_type": "stream",
     "text": [
      "my name is : sanjay\n",
      "i am : Indian\n"
     ]
    }
   ],
   "source": [
    "intro(\"sanjay\")"
   ]
  },
  {
   "cell_type": "code",
   "execution_count": 52,
   "id": "9e888514",
   "metadata": {},
   "outputs": [
    {
     "name": "stdout",
     "output_type": "stream",
     "text": [
      "my name is : mohit\n",
      "i am : Indian\n"
     ]
    }
   ],
   "source": [
    "intro('mohit')"
   ]
  },
  {
   "cell_type": "code",
   "execution_count": 53,
   "id": "17f537e3",
   "metadata": {},
   "outputs": [
    {
     "name": "stdout",
     "output_type": "stream",
     "text": [
      "my name is : prateek\n",
      "i am : american\n"
     ]
    }
   ],
   "source": [
    "intro('prateek', 'american')"
   ]
  },
  {
   "cell_type": "code",
   "execution_count": 62,
   "id": "1fcaef16",
   "metadata": {},
   "outputs": [],
   "source": [
    "def test5(*args):\n",
    "    print(args)\n",
    "    print(type(args))\n",
    "    \n",
    "    for i in args:\n",
    "        print(i*2)"
   ]
  },
  {
   "cell_type": "code",
   "execution_count": 63,
   "id": "47089677",
   "metadata": {},
   "outputs": [
    {
     "name": "stdout",
     "output_type": "stream",
     "text": [
      "(1, 2, 'sachin', 23.56)\n",
      "<class 'tuple'>\n",
      "2\n",
      "4\n",
      "sachinsachin\n",
      "47.12\n"
     ]
    }
   ],
   "source": [
    "test5(1,2,'sachin', 23.56)"
   ]
  },
  {
   "cell_type": "code",
   "execution_count": 73,
   "id": "706a456d",
   "metadata": {},
   "outputs": [],
   "source": [
    "def test6(**kwargs):\n",
    "    print(kwargs)\n",
    "    print(type(kwargs))\n",
    "    \n",
    "    for k,v in kwargs.items():\n",
    "        print(k, \":\", v)"
   ]
  },
  {
   "cell_type": "code",
   "execution_count": 75,
   "id": "400805d9",
   "metadata": {},
   "outputs": [
    {
     "name": "stdout",
     "output_type": "stream",
     "text": [
      "{'name': 'sanjay', 'age': 24, 'natinality': 'Indian ', 'hobby': ['coding', 'singing', 'dancing']}\n",
      "<class 'dict'>\n",
      "name : sanjay\n",
      "age : 24\n",
      "natinality : Indian \n",
      "hobby : ['coding', 'singing', 'dancing']\n"
     ]
    }
   ],
   "source": [
    "test6(name = 'sanjay', age = 24, natinality = 'Indian ', hobby = ['coding', 'singing', 'dancing'])"
   ]
  },
  {
   "cell_type": "code",
   "execution_count": 76,
   "id": "201bf93c",
   "metadata": {},
   "outputs": [
    {
     "name": "stdout",
     "output_type": "stream",
     "text": [
      "{'name': 'prateek', 'age': 34, 'natinality': 'american ', 'hobbys': ['coding', 'singing', 'dancing']}\n",
      "<class 'dict'>\n",
      "name : prateek\n",
      "age : 34\n",
      "natinality : american \n",
      "hobbys : ['coding', 'singing', 'dancing']\n"
     ]
    }
   ],
   "source": [
    "test6(name = 'prateek', age = 34, natinality = 'american ', hobbys = ['coding', 'singing', 'dancing'])"
   ]
  },
  {
   "cell_type": "code",
   "execution_count": 83,
   "id": "52228b5b",
   "metadata": {},
   "outputs": [],
   "source": [
    "def combination(a,b,c,age=18,*args, **kwargs):\n",
    "    print(a,b,c,age)\n",
    "    print(args)\n",
    "    print(kwargs)"
   ]
  },
  {
   "cell_type": "code",
   "execution_count": 84,
   "id": "8618dc8f",
   "metadata": {},
   "outputs": [
    {
     "name": "stdout",
     "output_type": "stream",
     "text": [
      "100 104 15 1000\n",
      "(23, 25, 14, 48, 16, 17, 2000, 3000, 456, 799)\n",
      "{'x': 8, 'g': 9, 'h': 6, 'd': 8}\n"
     ]
    }
   ],
   "source": [
    "combination(100,104,15,1000,23,25,14,48,16,17,2000,3000,456,799, x=8, g= 9, h=6, d=8)"
   ]
  },
  {
   "cell_type": "code",
   "execution_count": 86,
   "id": "764accf9",
   "metadata": {},
   "outputs": [
    {
     "data": {
      "text/plain": [
       "1"
      ]
     },
     "execution_count": 86,
     "metadata": {},
     "output_type": "execute_result"
    }
   ],
   "source": [
    "abs(-1)"
   ]
  },
  {
   "cell_type": "code",
   "execution_count": 92,
   "id": "b959756c",
   "metadata": {},
   "outputs": [
    {
     "data": {
      "text/plain": [
       "78.523655"
      ]
     },
     "execution_count": 92,
     "metadata": {},
     "output_type": "execute_result"
    }
   ],
   "source": [
    "round(78.5236549,6)"
   ]
  },
  {
   "cell_type": "code",
   "execution_count": 94,
   "id": "45695b58",
   "metadata": {},
   "outputs": [
    {
     "data": {
      "text/plain": [
       "False"
      ]
     },
     "execution_count": 94,
     "metadata": {},
     "output_type": "execute_result"
    }
   ],
   "source": [
    "lst = [1,2,3,0]\n",
    "all(lst)"
   ]
  },
  {
   "cell_type": "code",
   "execution_count": 95,
   "id": "cc339671",
   "metadata": {},
   "outputs": [
    {
     "data": {
      "text/plain": [
       "False"
      ]
     },
     "execution_count": 95,
     "metadata": {},
     "output_type": "execute_result"
    }
   ],
   "source": [
    "tup = (0,2,3,4) # 0 is present\n",
    "\n",
    "all(tup)"
   ]
  },
  {
   "cell_type": "code",
   "execution_count": 96,
   "id": "8f6d4035",
   "metadata": {},
   "outputs": [
    {
     "data": {
      "text/plain": [
       "False"
      ]
     },
     "execution_count": 96,
     "metadata": {},
     "output_type": "execute_result"
    }
   ],
   "source": [
    "lst = [False, 1, 2] \n",
    "all(lst)"
   ]
  },
  {
   "cell_type": "code",
   "execution_count": 97,
   "id": "b6e785fe",
   "metadata": {},
   "outputs": [
    {
     "data": {
      "text/plain": [
       "True"
      ]
     },
     "execution_count": 97,
     "metadata": {},
     "output_type": "execute_result"
    }
   ],
   "source": [
    "lst = []\n",
    "\n",
    "all(lst)"
   ]
  },
  {
   "cell_type": "code",
   "execution_count": 99,
   "id": "4206498a",
   "metadata": {},
   "outputs": [
    {
     "data": {
      "text/plain": [
       "True"
      ]
     },
     "execution_count": 99,
     "metadata": {},
     "output_type": "execute_result"
    }
   ],
   "source": [
    "lst = [1,2,3,0]\n",
    "any(lst)"
   ]
  },
  {
   "cell_type": "code",
   "execution_count": 100,
   "id": "ea4248aa",
   "metadata": {},
   "outputs": [
    {
     "data": {
      "text/plain": [
       "True"
      ]
     },
     "execution_count": 100,
     "metadata": {},
     "output_type": "execute_result"
    }
   ],
   "source": [
    "lst = [False, 0, -1]\n",
    "any(lst)"
   ]
  },
  {
   "cell_type": "code",
   "execution_count": 101,
   "id": "1366d270",
   "metadata": {},
   "outputs": [
    {
     "data": {
      "text/plain": [
       "False"
      ]
     },
     "execution_count": 101,
     "metadata": {},
     "output_type": "execute_result"
    }
   ],
   "source": [
    "lst = []        # empty list \n",
    "any(lst)"
   ]
  },
  {
   "cell_type": "code",
   "execution_count": 102,
   "id": "12762f52",
   "metadata": {},
   "outputs": [
    {
     "data": {
      "text/plain": [
       "False"
      ]
     },
     "execution_count": 102,
     "metadata": {},
     "output_type": "execute_result"
    }
   ],
   "source": [
    "lst = [0]*5       # all zeros\n",
    "any(lst)"
   ]
  },
  {
   "cell_type": "code",
   "execution_count": 103,
   "id": "bbefe061",
   "metadata": {},
   "outputs": [],
   "source": [
    "lst = [1,2,3,4]"
   ]
  },
  {
   "cell_type": "code",
   "execution_count": 105,
   "id": "2d307b72",
   "metadata": {},
   "outputs": [
    {
     "name": "stdout",
     "output_type": "stream",
     "text": [
      "['__add__', '__class__', '__contains__', '__delattr__', '__delitem__', '__dir__', '__doc__', '__eq__', '__format__', '__ge__', '__getattribute__', '__getitem__', '__gt__', '__hash__', '__iadd__', '__imul__', '__init__', '__init_subclass__', '__iter__', '__le__', '__len__', '__lt__', '__mul__', '__ne__', '__new__', '__reduce__', '__reduce_ex__', '__repr__', '__reversed__', '__rmul__', '__setattr__', '__setitem__', '__sizeof__', '__str__', '__subclasshook__', 'append', 'clear', 'copy', 'count', 'extend', 'index', 'insert', 'pop', 'remove', 'reverse', 'sort']\n"
     ]
    }
   ],
   "source": [
    "print(dir(lst))"
   ]
  },
  {
   "cell_type": "code",
   "execution_count": 106,
   "id": "1b72bced",
   "metadata": {},
   "outputs": [],
   "source": [
    "fruits = ['apple', 'mango', 'banana', 'grapes']"
   ]
  },
  {
   "cell_type": "code",
   "execution_count": 110,
   "id": "e4705531",
   "metadata": {},
   "outputs": [
    {
     "name": "stdout",
     "output_type": "stream",
     "text": [
      "15 apple\n",
      "16 mango\n",
      "17 banana\n",
      "18 grapes\n"
     ]
    }
   ],
   "source": [
    "for indx,i in enumerate(fruits,15):\n",
    "    print(indx,i)"
   ]
  },
  {
   "cell_type": "code",
   "execution_count": 111,
   "id": "7f851f76",
   "metadata": {},
   "outputs": [],
   "source": [
    "lst = [3,6,8,2,5,1,0]"
   ]
  },
  {
   "cell_type": "code",
   "execution_count": 112,
   "id": "86e0b50f",
   "metadata": {},
   "outputs": [
    {
     "data": {
      "text/plain": [
       "25"
      ]
     },
     "execution_count": 112,
     "metadata": {},
     "output_type": "execute_result"
    }
   ],
   "source": [
    "sum(lst)"
   ]
  },
  {
   "cell_type": "code",
   "execution_count": 113,
   "id": "328f4b01",
   "metadata": {},
   "outputs": [
    {
     "data": {
      "text/plain": [
       "0"
      ]
     },
     "execution_count": 113,
     "metadata": {},
     "output_type": "execute_result"
    }
   ],
   "source": [
    "min(lst)"
   ]
  },
  {
   "cell_type": "code",
   "execution_count": 114,
   "id": "5fc94b9b",
   "metadata": {},
   "outputs": [
    {
     "data": {
      "text/plain": [
       "8"
      ]
     },
     "execution_count": 114,
     "metadata": {},
     "output_type": "execute_result"
    }
   ],
   "source": [
    "max(lst)"
   ]
  },
  {
   "cell_type": "code",
   "execution_count": 117,
   "id": "f2433aa1",
   "metadata": {},
   "outputs": [
    {
     "data": {
      "text/plain": [
       "3.5714"
      ]
     },
     "execution_count": 117,
     "metadata": {},
     "output_type": "execute_result"
    }
   ],
   "source": [
    "round(sum(lst)/len(lst),4)"
   ]
  },
  {
   "cell_type": "code",
   "execution_count": 118,
   "id": "44782cc8",
   "metadata": {},
   "outputs": [],
   "source": [
    "def add_one(x):\n",
    "    return x+1"
   ]
  },
  {
   "cell_type": "code",
   "execution_count": 119,
   "id": "fd15432c",
   "metadata": {},
   "outputs": [
    {
     "data": {
      "text/plain": [
       "16"
      ]
     },
     "execution_count": 119,
     "metadata": {},
     "output_type": "execute_result"
    }
   ],
   "source": [
    "add_one(15)"
   ]
  },
  {
   "cell_type": "code",
   "execution_count": 120,
   "id": "7407debf",
   "metadata": {},
   "outputs": [
    {
     "data": {
      "text/plain": [
       "[3, 6, 8, 2, 5, 1, 0]"
      ]
     },
     "execution_count": 120,
     "metadata": {},
     "output_type": "execute_result"
    }
   ],
   "source": [
    "lst"
   ]
  },
  {
   "cell_type": "code",
   "execution_count": 122,
   "id": "f2522bf1",
   "metadata": {},
   "outputs": [],
   "source": [
    "import numpy as np"
   ]
  },
  {
   "cell_type": "code",
   "execution_count": 124,
   "id": "00ef1c28",
   "metadata": {},
   "outputs": [],
   "source": [
    "a = np.array(lst)"
   ]
  },
  {
   "cell_type": "code",
   "execution_count": 125,
   "id": "315cd908",
   "metadata": {},
   "outputs": [
    {
     "data": {
      "text/plain": [
       "array([4, 7, 9, 3, 6, 2, 1])"
      ]
     },
     "execution_count": 125,
     "metadata": {},
     "output_type": "execute_result"
    }
   ],
   "source": [
    "a+1"
   ]
  },
  {
   "cell_type": "code",
   "execution_count": 126,
   "id": "56540641",
   "metadata": {},
   "outputs": [
    {
     "data": {
      "text/plain": [
       "[3, 6, 8, 2, 5, 1, 0]"
      ]
     },
     "execution_count": 126,
     "metadata": {},
     "output_type": "execute_result"
    }
   ],
   "source": [
    "lst"
   ]
  },
  {
   "cell_type": "code",
   "execution_count": 127,
   "id": "6648ff2a",
   "metadata": {},
   "outputs": [
    {
     "data": {
      "text/plain": [
       "<map at 0x217665d0d90>"
      ]
     },
     "execution_count": 127,
     "metadata": {},
     "output_type": "execute_result"
    }
   ],
   "source": [
    "#map(add_one,lst)"
   ]
  },
  {
   "cell_type": "code",
   "execution_count": 128,
   "id": "b97f5df6",
   "metadata": {},
   "outputs": [
    {
     "name": "stdout",
     "output_type": "stream",
     "text": [
      "[4, 7, 9, 3, 6, 2, 1]\n"
     ]
    }
   ],
   "source": [
    "ls= []\n",
    "for i in lst:\n",
    "    ls.append(i+1)\n",
    "print(ls)"
   ]
  },
  {
   "cell_type": "code",
   "execution_count": 129,
   "id": "20e9b4b8",
   "metadata": {},
   "outputs": [
    {
     "data": {
      "text/plain": [
       "[3, 6, 8, 2, 5, 1, 0]"
      ]
     },
     "execution_count": 129,
     "metadata": {},
     "output_type": "execute_result"
    }
   ],
   "source": [
    "lst"
   ]
  },
  {
   "cell_type": "code",
   "execution_count": 130,
   "id": "cb1023e9",
   "metadata": {},
   "outputs": [],
   "source": [
    "new_list = [5,8,9,6,3,7,5]"
   ]
  },
  {
   "cell_type": "code",
   "execution_count": 132,
   "id": "53669403",
   "metadata": {},
   "outputs": [],
   "source": [
    "f = map(add_one,new_list)"
   ]
  },
  {
   "cell_type": "code",
   "execution_count": 133,
   "id": "84ddfa28",
   "metadata": {},
   "outputs": [
    {
     "data": {
      "text/plain": [
       "<map at 0x21766cd0730>"
      ]
     },
     "execution_count": 133,
     "metadata": {},
     "output_type": "execute_result"
    }
   ],
   "source": [
    "f"
   ]
  },
  {
   "cell_type": "code",
   "execution_count": 134,
   "id": "f1d9da7e",
   "metadata": {},
   "outputs": [
    {
     "name": "stdout",
     "output_type": "stream",
     "text": [
      "<map object at 0x0000021766CD0730>\n"
     ]
    }
   ],
   "source": [
    "print(f)"
   ]
  },
  {
   "cell_type": "code",
   "execution_count": 135,
   "id": "68af84ef",
   "metadata": {},
   "outputs": [
    {
     "data": {
      "text/plain": [
       "[6, 9, 10, 7, 4, 8, 6]"
      ]
     },
     "execution_count": 135,
     "metadata": {},
     "output_type": "execute_result"
    }
   ],
   "source": [
    "list(f)"
   ]
  },
  {
   "cell_type": "code",
   "execution_count": 137,
   "id": "22a0bb2d",
   "metadata": {},
   "outputs": [
    {
     "data": {
      "text/plain": [
       "[105, 108, 109, 106, 103, 107, 105]"
      ]
     },
     "execution_count": 137,
     "metadata": {},
     "output_type": "execute_result"
    }
   ],
   "source": [
    "list(map(lambda x:x+100, new_list))"
   ]
  },
  {
   "cell_type": "code",
   "execution_count": 138,
   "id": "141f173d",
   "metadata": {},
   "outputs": [
    {
     "data": {
      "text/plain": [
       "[5, 8, 9, 6, 3, 7, 5]"
      ]
     },
     "execution_count": 138,
     "metadata": {},
     "output_type": "execute_result"
    }
   ],
   "source": [
    "new_list"
   ]
  },
  {
   "cell_type": "code",
   "execution_count": 139,
   "id": "e8c87048",
   "metadata": {},
   "outputs": [
    {
     "name": "stdout",
     "output_type": "stream",
     "text": [
      "[8, 6]\n"
     ]
    }
   ],
   "source": [
    "m = []\n",
    "\n",
    "for i in new_list:\n",
    "    if i%2==0:\n",
    "        m.append(i)\n",
    "print(m)"
   ]
  },
  {
   "cell_type": "code",
   "execution_count": 140,
   "id": "26d50206",
   "metadata": {},
   "outputs": [],
   "source": [
    "def even_num(x):\n",
    "    return x%2==0"
   ]
  },
  {
   "cell_type": "code",
   "execution_count": 142,
   "id": "8903221d",
   "metadata": {},
   "outputs": [
    {
     "data": {
      "text/plain": [
       "[8, 6]"
      ]
     },
     "execution_count": 142,
     "metadata": {},
     "output_type": "execute_result"
    }
   ],
   "source": [
    "list(filter(even_num,new_list))"
   ]
  },
  {
   "cell_type": "code",
   "execution_count": 144,
   "id": "b4a77128",
   "metadata": {},
   "outputs": [
    {
     "data": {
      "text/plain": [
       "[5, 9, 3, 7, 5]"
      ]
     },
     "execution_count": 144,
     "metadata": {},
     "output_type": "execute_result"
    }
   ],
   "source": [
    "list(filter(lambda x:x%2!=0, new_list))"
   ]
  },
  {
   "cell_type": "code",
   "execution_count": 145,
   "id": "50b74437",
   "metadata": {},
   "outputs": [],
   "source": [
    "\n",
    "lst = [1,2,3,4,5]\n"
   ]
  },
  {
   "cell_type": "code",
   "execution_count": 146,
   "id": "90fe58e7",
   "metadata": {},
   "outputs": [
    {
     "name": "stdout",
     "output_type": "stream",
     "text": [
      "120\n"
     ]
    }
   ],
   "source": [
    "product = 1\n",
    "for i in lst:\n",
    "    product*=i\n",
    "print(product)\n",
    "    "
   ]
  },
  {
   "cell_type": "code",
   "execution_count": 149,
   "id": "292c987e",
   "metadata": {},
   "outputs": [],
   "source": [
    "def multiply(a,b):\n",
    "    return a*b"
   ]
  },
  {
   "cell_type": "code",
   "execution_count": 150,
   "id": "2003d2f7",
   "metadata": {},
   "outputs": [
    {
     "data": {
      "text/plain": [
       "30"
      ]
     },
     "execution_count": 150,
     "metadata": {},
     "output_type": "execute_result"
    }
   ],
   "source": [
    "multiply(5,6)"
   ]
  },
  {
   "cell_type": "code",
   "execution_count": 151,
   "id": "e270a8a2",
   "metadata": {},
   "outputs": [],
   "source": [
    "from functools import reduce"
   ]
  },
  {
   "cell_type": "code",
   "execution_count": 152,
   "id": "ebbb0039",
   "metadata": {},
   "outputs": [
    {
     "data": {
      "text/plain": [
       "120"
      ]
     },
     "execution_count": 152,
     "metadata": {},
     "output_type": "execute_result"
    }
   ],
   "source": [
    "reduce(multiply,lst)"
   ]
  },
  {
   "cell_type": "code",
   "execution_count": 153,
   "id": "489115b5",
   "metadata": {},
   "outputs": [
    {
     "data": {
      "text/plain": [
       "226800"
      ]
     },
     "execution_count": 153,
     "metadata": {},
     "output_type": "execute_result"
    }
   ],
   "source": [
    "reduce(lambda x,y:x*y, new_list)"
   ]
  },
  {
   "cell_type": "code",
   "execution_count": 158,
   "id": "283a7b11",
   "metadata": {},
   "outputs": [],
   "source": [
    "import math as m"
   ]
  },
  {
   "cell_type": "code",
   "execution_count": 159,
   "id": "346684e3",
   "metadata": {},
   "outputs": [
    {
     "name": "stdout",
     "output_type": "stream",
     "text": [
      "['__doc__', '__loader__', '__name__', '__package__', '__spec__', 'acos', 'acosh', 'asin', 'asinh', 'atan', 'atan2', 'atanh', 'ceil', 'comb', 'copysign', 'cos', 'cosh', 'degrees', 'dist', 'e', 'erf', 'erfc', 'exp', 'expm1', 'fabs', 'factorial', 'floor', 'fmod', 'frexp', 'fsum', 'gamma', 'gcd', 'hypot', 'inf', 'isclose', 'isfinite', 'isinf', 'isnan', 'isqrt', 'ldexp', 'lgamma', 'log', 'log10', 'log1p', 'log2', 'modf', 'nan', 'perm', 'pi', 'pow', 'prod', 'radians', 'remainder', 'sin', 'sinh', 'sqrt', 'tan', 'tanh', 'tau', 'trunc']\n"
     ]
    }
   ],
   "source": [
    "print(dir(math))"
   ]
  },
  {
   "cell_type": "code",
   "execution_count": 160,
   "id": "3d4fa469",
   "metadata": {},
   "outputs": [
    {
     "data": {
      "text/plain": [
       "-0.5215510020869119"
      ]
     },
     "execution_count": 160,
     "metadata": {},
     "output_type": "execute_result"
    }
   ],
   "source": [
    "m.sin(56)"
   ]
  },
  {
   "cell_type": "code",
   "execution_count": 161,
   "id": "129ae25e",
   "metadata": {},
   "outputs": [
    {
     "data": {
      "text/plain": [
       "25852016738884976640000"
      ]
     },
     "execution_count": 161,
     "metadata": {},
     "output_type": "execute_result"
    }
   ],
   "source": [
    "m.factorial(23)"
   ]
  },
  {
   "cell_type": "code",
   "execution_count": 162,
   "id": "695545a6",
   "metadata": {},
   "outputs": [
    {
     "data": {
      "text/plain": [
       "24"
      ]
     },
     "execution_count": 162,
     "metadata": {},
     "output_type": "execute_result"
    }
   ],
   "source": [
    "m.ceil(23.256)"
   ]
  },
  {
   "cell_type": "code",
   "execution_count": 163,
   "id": "d948721f",
   "metadata": {},
   "outputs": [],
   "source": [
    "import random"
   ]
  },
  {
   "cell_type": "code",
   "execution_count": 165,
   "id": "a894a95f",
   "metadata": {},
   "outputs": [
    {
     "data": {
      "text/plain": [
       "11"
      ]
     },
     "execution_count": 165,
     "metadata": {},
     "output_type": "execute_result"
    }
   ],
   "source": [
    "random.randint(1,20)"
   ]
  },
  {
   "cell_type": "code",
   "execution_count": 177,
   "id": "312f2c4e",
   "metadata": {},
   "outputs": [
    {
     "data": {
      "text/plain": [
       "31.116541"
      ]
     },
     "execution_count": 177,
     "metadata": {},
     "output_type": "execute_result"
    }
   ],
   "source": [
    "round((random.random()*50)+10, 6)"
   ]
  },
  {
   "cell_type": "code",
   "execution_count": 178,
   "id": "97d85a54",
   "metadata": {},
   "outputs": [],
   "source": [
    "import os"
   ]
  },
  {
   "cell_type": "code",
   "execution_count": 180,
   "id": "ab33cf0e",
   "metadata": {},
   "outputs": [
    {
     "name": "stdout",
     "output_type": "stream",
     "text": [
      "['DirEntry', 'F_OK', 'MutableMapping', 'O_APPEND', 'O_BINARY', 'O_CREAT', 'O_EXCL', 'O_NOINHERIT', 'O_RANDOM', 'O_RDONLY', 'O_RDWR', 'O_SEQUENTIAL', 'O_SHORT_LIVED', 'O_TEMPORARY', 'O_TEXT', 'O_TRUNC', 'O_WRONLY', 'P_DETACH', 'P_NOWAIT', 'P_NOWAITO', 'P_OVERLAY', 'P_WAIT', 'PathLike', 'R_OK', 'SEEK_CUR', 'SEEK_END', 'SEEK_SET', 'TMP_MAX', 'W_OK', 'X_OK', '_AddedDllDirectory', '_Environ', '__all__', '__builtins__', '__cached__', '__doc__', '__file__', '__loader__', '__name__', '__package__', '__spec__', '_check_methods', '_execvpe', '_exists', '_exit', '_fspath', '_get_exports_list', '_putenv', '_unsetenv', '_wrap_close', 'abc', 'abort', 'access', 'add_dll_directory', 'altsep', 'chdir', 'chmod', 'close', 'closerange', 'cpu_count', 'curdir', 'defpath', 'device_encoding', 'devnull', 'dup', 'dup2', 'environ', 'error', 'execl', 'execle', 'execlp', 'execlpe', 'execv', 'execve', 'execvp', 'execvpe', 'extsep', 'fdopen', 'fsdecode', 'fsencode', 'fspath', 'fstat', 'fsync', 'ftruncate', 'get_exec_path', 'get_handle_inheritable', 'get_inheritable', 'get_terminal_size', 'getcwd', 'getcwdb', 'getenv', 'getlogin', 'getpid', 'getppid', 'isatty', 'kill', 'linesep', 'link', 'listdir', 'lseek', 'lstat', 'makedirs', 'mkdir', 'name', 'open', 'pardir', 'path', 'pathsep', 'pipe', 'popen', 'putenv', 'read', 'readlink', 'remove', 'removedirs', 'rename', 'renames', 'replace', 'rmdir', 'scandir', 'sep', 'set_handle_inheritable', 'set_inheritable', 'spawnl', 'spawnle', 'spawnv', 'spawnve', 'st', 'startfile', 'stat', 'stat_result', 'statvfs_result', 'strerror', 'supports_bytes_environ', 'supports_dir_fd', 'supports_effective_ids', 'supports_fd', 'supports_follow_symlinks', 'symlink', 'sys', 'system', 'terminal_size', 'times', 'times_result', 'truncate', 'umask', 'uname_result', 'unlink', 'urandom', 'utime', 'waitpid', 'walk', 'write']\n"
     ]
    }
   ],
   "source": [
    "print(dir(os))"
   ]
  },
  {
   "cell_type": "code",
   "execution_count": 181,
   "id": "09a615a2",
   "metadata": {},
   "outputs": [
    {
     "data": {
      "text/plain": [
       "'C:\\\\Users\\\\skme2\\\\OneDrive\\\\Desktop\\\\python'"
      ]
     },
     "execution_count": 181,
     "metadata": {},
     "output_type": "execute_result"
    }
   ],
   "source": [
    "os.getcwd()"
   ]
  },
  {
   "cell_type": "code",
   "execution_count": 182,
   "id": "d9bc0f61",
   "metadata": {},
   "outputs": [],
   "source": [
    "os.mkdir('newly_created')"
   ]
  },
  {
   "cell_type": "code",
   "execution_count": 186,
   "id": "194cd518",
   "metadata": {},
   "outputs": [],
   "source": [
    "os.removedirs('newly_created/')"
   ]
  },
  {
   "cell_type": "code",
   "execution_count": 188,
   "id": "5c66005b",
   "metadata": {},
   "outputs": [],
   "source": [
    "import sys"
   ]
  },
  {
   "cell_type": "code",
   "execution_count": 190,
   "id": "8e103656",
   "metadata": {},
   "outputs": [
    {
     "name": "stdout",
     "output_type": "stream",
     "text": [
      "['__breakpointhook__', '__displayhook__', '__doc__', '__excepthook__', '__interactivehook__', '__loader__', '__name__', '__package__', '__spec__', '__stderr__', '__stdin__', '__stdout__', '__unraisablehook__', '_base_executable', '_clear_type_cache', '_current_frames', '_debugmallocstats', '_enablelegacywindowsfsencoding', '_framework', '_getframe', '_git', '_home', '_xoptions', 'addaudithook', 'api_version', 'argv', 'audit', 'base_exec_prefix', 'base_prefix', 'breakpointhook', 'builtin_module_names', 'byteorder', 'call_tracing', 'callstats', 'copyright', 'displayhook', 'dllhandle', 'dont_write_bytecode', 'exc_info', 'excepthook', 'exec_prefix', 'executable', 'exit', 'flags', 'float_info', 'float_repr_style', 'get_asyncgen_hooks', 'get_coroutine_origin_tracking_depth', 'getallocatedblocks', 'getcheckinterval', 'getdefaultencoding', 'getfilesystemencodeerrors', 'getfilesystemencoding', 'getprofile', 'getrecursionlimit', 'getrefcount', 'getsizeof', 'getswitchinterval', 'gettrace', 'getwindowsversion', 'hash_info', 'hexversion', 'implementation', 'int_info', 'intern', 'is_finalizing', 'last_traceback', 'last_type', 'last_value', 'maxsize', 'maxunicode', 'meta_path', 'modules', 'path', 'path_hooks', 'path_importer_cache', 'platform', 'prefix', 'ps1', 'ps2', 'ps3', 'pycache_prefix', 'set_asyncgen_hooks', 'set_coroutine_origin_tracking_depth', 'setcheckinterval', 'setprofile', 'setrecursionlimit', 'setswitchinterval', 'settrace', 'stderr', 'stdin', 'stdout', 'thread_info', 'unraisablehook', 'version', 'version_info', 'warnoptions', 'winver']\n"
     ]
    }
   ],
   "source": [
    "print(dir(sys))"
   ]
  },
  {
   "cell_type": "code",
   "execution_count": 191,
   "id": "c276dc89",
   "metadata": {},
   "outputs": [
    {
     "data": {
      "text/plain": [
       "'3.8.8 (default, Apr 13 2021, 15:08:03) [MSC v.1916 64 bit (AMD64)]'"
      ]
     },
     "execution_count": 191,
     "metadata": {},
     "output_type": "execute_result"
    }
   ],
   "source": [
    "sys.version"
   ]
  },
  {
   "cell_type": "code",
   "execution_count": 192,
   "id": "ac3d7ba2",
   "metadata": {},
   "outputs": [
    {
     "data": {
      "text/plain": [
       "sys.version_info(major=3, minor=8, micro=8, releaselevel='final', serial=0)"
      ]
     },
     "execution_count": 192,
     "metadata": {},
     "output_type": "execute_result"
    }
   ],
   "source": [
    "sys.version_info"
   ]
  },
  {
   "cell_type": "code",
   "execution_count": 193,
   "id": "8ff70600",
   "metadata": {},
   "outputs": [
    {
     "data": {
      "text/plain": [
       "['C:\\\\Users\\\\skme2\\\\OneDrive\\\\Desktop\\\\python',\n",
       " 'C:\\\\Users\\\\skme2\\\\anaconda3\\\\python38.zip',\n",
       " 'C:\\\\Users\\\\skme2\\\\anaconda3\\\\DLLs',\n",
       " 'C:\\\\Users\\\\skme2\\\\anaconda3\\\\lib',\n",
       " 'C:\\\\Users\\\\skme2\\\\anaconda3',\n",
       " '',\n",
       " 'C:\\\\Users\\\\skme2\\\\AppData\\\\Roaming\\\\Python\\\\Python38\\\\site-packages',\n",
       " 'C:\\\\Users\\\\skme2\\\\anaconda3\\\\lib\\\\site-packages',\n",
       " 'C:\\\\Users\\\\skme2\\\\anaconda3\\\\lib\\\\site-packages\\\\locket-0.2.1-py3.8.egg',\n",
       " 'C:\\\\Users\\\\skme2\\\\anaconda3\\\\lib\\\\site-packages\\\\win32',\n",
       " 'C:\\\\Users\\\\skme2\\\\anaconda3\\\\lib\\\\site-packages\\\\win32\\\\lib',\n",
       " 'C:\\\\Users\\\\skme2\\\\anaconda3\\\\lib\\\\site-packages\\\\Pythonwin',\n",
       " 'C:\\\\Users\\\\skme2\\\\anaconda3\\\\lib\\\\site-packages\\\\IPython\\\\extensions',\n",
       " 'C:\\\\Users\\\\skme2\\\\.ipython']"
      ]
     },
     "execution_count": 193,
     "metadata": {},
     "output_type": "execute_result"
    }
   ],
   "source": [
    "sys.path"
   ]
  },
  {
   "cell_type": "code",
   "execution_count": 194,
   "id": "ecdf5ec4",
   "metadata": {},
   "outputs": [],
   "source": [
    "import time"
   ]
  },
  {
   "cell_type": "code",
   "execution_count": 195,
   "id": "8787ead3",
   "metadata": {},
   "outputs": [
    {
     "data": {
      "text/plain": [
       "'Wed Dec  1 21:17:04 2021'"
      ]
     },
     "execution_count": 195,
     "metadata": {},
     "output_type": "execute_result"
    }
   ],
   "source": [
    "time.ctime()"
   ]
  },
  {
   "cell_type": "code",
   "execution_count": 196,
   "id": "38594d9b",
   "metadata": {},
   "outputs": [],
   "source": [
    "import datetime"
   ]
  },
  {
   "cell_type": "code",
   "execution_count": 198,
   "id": "ff52cf6b",
   "metadata": {},
   "outputs": [
    {
     "data": {
      "text/plain": [
       "datetime.datetime(2021, 12, 1, 21, 17, 31, 788830)"
      ]
     },
     "execution_count": 198,
     "metadata": {},
     "output_type": "execute_result"
    }
   ],
   "source": [
    "datetime.datetime.today()"
   ]
  },
  {
   "cell_type": "code",
   "execution_count": 199,
   "id": "d7c1003f",
   "metadata": {},
   "outputs": [],
   "source": [
    "from math import *"
   ]
  },
  {
   "cell_type": "code",
   "execution_count": 201,
   "id": "71602721",
   "metadata": {},
   "outputs": [],
   "source": [
    "f = open('example.txt')"
   ]
  },
  {
   "cell_type": "code",
   "execution_count": 202,
   "id": "65132681",
   "metadata": {},
   "outputs": [
    {
     "data": {
      "text/plain": [
       "False"
      ]
     },
     "execution_count": 202,
     "metadata": {},
     "output_type": "execute_result"
    }
   ],
   "source": [
    "f.closed"
   ]
  },
  {
   "cell_type": "code",
   "execution_count": 204,
   "id": "9892a221",
   "metadata": {},
   "outputs": [],
   "source": [
    "f = open('example.txt', mode='w')"
   ]
  },
  {
   "cell_type": "code",
   "execution_count": 208,
   "id": "abf79c3e",
   "metadata": {},
   "outputs": [
    {
     "data": {
      "text/plain": [
       "17"
      ]
     },
     "execution_count": 208,
     "metadata": {},
     "output_type": "execute_result"
    }
   ],
   "source": [
    "f.write('\\n this is my file')"
   ]
  },
  {
   "cell_type": "code",
   "execution_count": 211,
   "id": "62542f86",
   "metadata": {},
   "outputs": [],
   "source": [
    "f= open('test6.txt', 'w')"
   ]
  },
  {
   "cell_type": "code",
   "execution_count": 212,
   "id": "c5f8ad8b",
   "metadata": {},
   "outputs": [
    {
     "data": {
      "text/plain": [
       "False"
      ]
     },
     "execution_count": 212,
     "metadata": {},
     "output_type": "execute_result"
    }
   ],
   "source": [
    "f.closed"
   ]
  },
  {
   "cell_type": "code",
   "execution_count": 213,
   "id": "2083adc0",
   "metadata": {},
   "outputs": [
    {
     "data": {
      "text/plain": [
       "False"
      ]
     },
     "execution_count": 213,
     "metadata": {},
     "output_type": "execute_result"
    }
   ],
   "source": [
    "f.closed"
   ]
  },
  {
   "cell_type": "code",
   "execution_count": 216,
   "id": "823933cf",
   "metadata": {},
   "outputs": [],
   "source": [
    "f.close()"
   ]
  },
  {
   "cell_type": "code",
   "execution_count": 217,
   "id": "90244d0b",
   "metadata": {},
   "outputs": [
    {
     "data": {
      "text/plain": [
       "True"
      ]
     },
     "execution_count": 217,
     "metadata": {},
     "output_type": "execute_result"
    }
   ],
   "source": [
    "f.closed"
   ]
  },
  {
   "cell_type": "code",
   "execution_count": 219,
   "id": "be092943",
   "metadata": {},
   "outputs": [
    {
     "name": "stdout",
     "output_type": "stream",
     "text": [
      "inside: False\n",
      "outside: True\n"
     ]
    }
   ],
   "source": [
    "with open('example.txt') as f:\n",
    "    print('inside:', f.closed)\n",
    "print('outside:', f.closed)"
   ]
  },
  {
   "cell_type": "code",
   "execution_count": 227,
   "id": "0fd5b162",
   "metadata": {},
   "outputs": [
    {
     "name": "stdout",
     "output_type": "stream",
     "text": [
      "31\n"
     ]
    }
   ],
   "source": [
    "with open('example.txt','w') as f:\n",
    "    r1 = f.write('This file is genrated by python')\n",
    "print(r1)"
   ]
  },
  {
   "cell_type": "code",
   "execution_count": 228,
   "id": "5e44b161",
   "metadata": {},
   "outputs": [
    {
     "name": "stdout",
     "output_type": "stream",
     "text": [
      "18\n"
     ]
    }
   ],
   "source": [
    "with open('example.txt', 'a') as f:\n",
    "    r2= f.write('this is magic line')\n",
    "print(r2)"
   ]
  },
  {
   "cell_type": "code",
   "execution_count": 229,
   "id": "9b9f14ab",
   "metadata": {},
   "outputs": [
    {
     "name": "stdout",
     "output_type": "stream",
     "text": [
      "21\n"
     ]
    }
   ],
   "source": [
    "with open('example.txt', 'a') as f:\n",
    "    r3 = f.write('now the magic starts\\n')\n",
    "print(r3)"
   ]
  },
  {
   "cell_type": "code",
   "execution_count": 226,
   "id": "63a34417",
   "metadata": {},
   "outputs": [],
   "source": [
    "with open('example.txt', 'a') as f:\n",
    "    f.write('\\n I am learning file handling\\n')"
   ]
  },
  {
   "cell_type": "code",
   "execution_count": 249,
   "id": "ddde6867",
   "metadata": {},
   "outputs": [],
   "source": [
    "with open('example.txt', 'r') as f:\n",
    "    data = f.read()\n",
    "    #data2 = f.readlines()\n",
    "    #data3 = f.readline()"
   ]
  },
  {
   "cell_type": "code",
   "execution_count": 250,
   "id": "b6c83987",
   "metadata": {},
   "outputs": [
    {
     "name": "stdout",
     "output_type": "stream",
     "text": [
      "This file is genrated by pythonthis is magic linenow the magic starts\n",
      "artifical intelligence is branch of computer science with is conserned with building smatrt and intelligent machine\n",
      "machine learning is a technique of implementing ai that can learn from the data by themselves without being explicitly programmed \n",
      "\n"
     ]
    }
   ],
   "source": [
    "print(data)"
   ]
  },
  {
   "cell_type": "code",
   "execution_count": 252,
   "id": "b261212b",
   "metadata": {},
   "outputs": [],
   "source": [
    "with  open('example.txt', 'r') as f:\n",
    "    c = f.readline()"
   ]
  },
  {
   "cell_type": "code",
   "execution_count": 253,
   "id": "8a26d19c",
   "metadata": {},
   "outputs": [
    {
     "data": {
      "text/plain": [
       "'This file is genrated by pythonthis is magic linenow the magic starts\\n'"
      ]
     },
     "execution_count": 253,
     "metadata": {},
     "output_type": "execute_result"
    }
   ],
   "source": [
    "c"
   ]
  },
  {
   "cell_type": "code",
   "execution_count": 255,
   "id": "e7221061",
   "metadata": {},
   "outputs": [],
   "source": [
    "with open('example.txt', 'r') as f:\n",
    "    r =  f.readlines()"
   ]
  },
  {
   "cell_type": "code",
   "execution_count": 256,
   "id": "13ca8f5e",
   "metadata": {},
   "outputs": [
    {
     "data": {
      "text/plain": [
       "['This file is genrated by pythonthis is magic linenow the magic starts\\n',\n",
       " 'artifical intelligence is branch of computer science with is conserned with building smatrt and intelligent machine\\n',\n",
       " 'machine learning is a technique of implementing ai that can learn from the data by themselves without being explicitly programmed \\n']"
      ]
     },
     "execution_count": 256,
     "metadata": {},
     "output_type": "execute_result"
    }
   ],
   "source": [
    "r"
   ]
  },
  {
   "cell_type": "code",
   "execution_count": 257,
   "id": "38785b08",
   "metadata": {},
   "outputs": [
    {
     "name": "stdout",
     "output_type": "stream",
     "text": [
      "This file is genrated by pythonthis is magic linenow the magic starts\n",
      "\n",
      "artifical intelligence is branch of computer science with is conserned with building smatrt and intelligent machine\n",
      "\n",
      "machine learning is a technique of implementing ai that can learn from the data by themselves without being explicitly programmed \n",
      "\n"
     ]
    }
   ],
   "source": [
    "for i in r:\n",
    "    print(i)"
   ]
  },
  {
   "cell_type": "code",
   "execution_count": 271,
   "id": "2d96da9d",
   "metadata": {},
   "outputs": [
    {
     "name": "stdout",
     "output_type": "stream",
     "text": [
      "This\n",
      " file \n",
      "is genrate\n",
      "d \n",
      "by pythonthis i\n",
      "37\n",
      "5\n",
      "file is ge\n",
      "0\n",
      "0\n"
     ]
    }
   ],
   "source": [
    "with open('example.txt', 'r') as f:\n",
    "    data = f.read(4)\n",
    "    print(data)\n",
    "    \n",
    "    data = f.read(6)\n",
    "    print(data)\n",
    "    \n",
    "    data = f.read(10)\n",
    "    print(data)\n",
    "    \n",
    "    data = f.read(2)\n",
    "    print(data)\n",
    "    \n",
    "    data = f.read(15)\n",
    "    print(data)\n",
    "    \n",
    "    print(f.tell())\n",
    "    \n",
    "    f.seek(5)\n",
    "    \n",
    "    print(f.tell())\n",
    "    \n",
    "    print(f.read(10))\n",
    "    \n",
    "    print(f.seek(0))\n",
    "    print(f.tell())"
   ]
  },
  {
   "cell_type": "code",
   "execution_count": 275,
   "id": "9c4f661c",
   "metadata": {},
   "outputs": [
    {
     "name": "stdout",
     "output_type": "stream",
     "text": [
      "This file is genrated by pythonthis is magic linenow the magic starts\n",
      "artifical intelligence is branch of computer science with is conserned with building smatrt and intelligent machine\n",
      "machine learning is a technique of implementing ai that can learn from the data by themselves without being explicitly programmed \n",
      "\n"
     ]
    }
   ],
   "source": [
    "with open('example.txt') as f:\n",
    "    print(f.read())"
   ]
  },
  {
   "cell_type": "code",
   "execution_count": 274,
   "id": "c1bdc565",
   "metadata": {},
   "outputs": [
    {
     "data": {
      "text/plain": [
       "'This file is genrated by pythonthis is magic linenow the magic starts\\nartifical intelligence is branch of computer science with is conserned with building smatrt and intelligent machine\\nmachine learning is a technique of implementing ai that can learn from the data by themselves without being explicitly programmed \\n'"
      ]
     },
     "execution_count": 274,
     "metadata": {},
     "output_type": "execute_result"
    }
   ],
   "source": [
    "d"
   ]
  },
  {
   "cell_type": "code",
   "execution_count": 279,
   "id": "19f7dba3",
   "metadata": {},
   "outputs": [
    {
     "name": "stdout",
     "output_type": "stream",
     "text": [
      "20\n"
     ]
    }
   ],
   "source": [
    "with open('example.txt', 'a') as f:\n",
    "    d = f.write('\\n this is new line \\n')\n",
    "    print(d)"
   ]
  },
  {
   "cell_type": "code",
   "execution_count": 280,
   "id": "3b4b3bd8",
   "metadata": {},
   "outputs": [
    {
     "name": "stdout",
     "output_type": "stream",
     "text": [
      "This file is genrated by pythonthis is magic linenow the magic starts\n",
      "artifical intelligence is branch of computer science with is conserned with building smatrt and intelligent machine\n",
      "machine learning is a technique of implementing ai that can learn from the data by themselves without being explicitly programmed \n",
      "\n",
      " this is new line \n",
      "\n",
      " this is new line \n",
      "\n",
      " this is new line \n",
      "\n"
     ]
    }
   ],
   "source": [
    "with open('example.txt', 'r') as f:\n",
    "    print(f.read())"
   ]
  },
  {
   "cell_type": "code",
   "execution_count": 281,
   "id": "095f4791",
   "metadata": {},
   "outputs": [],
   "source": [
    "import os"
   ]
  },
  {
   "cell_type": "code",
   "execution_count": 284,
   "id": "f2dea774",
   "metadata": {},
   "outputs": [
    {
     "name": "stdout",
     "output_type": "stream",
     "text": [
      "['This file is genrated by pythonthis is magic linenow the magic starts\\n', 'artifical intelligence is branch of computer science with is conserned with building smatrt and intelligent machine\\n', 'machine learning is a technique of implementing ai that can learn from the data by themselves without being explicitly programmed \\n', '\\n', ' this is new line \\n', '\\n', ' this is new line \\n', '\\n', ' this is new line \\n']\n"
     ]
    }
   ],
   "source": [
    "data = None\n",
    "with open('example.txt', 'r') as f:\n",
    "    data = f.readlines()\n",
    "print(data)"
   ]
  },
  {
   "cell_type": "code",
   "execution_count": 289,
   "id": "2320cd17",
   "metadata": {},
   "outputs": [],
   "source": [
    "data[2] = 'Python is fun. \\n'"
   ]
  },
  {
   "cell_type": "code",
   "execution_count": 292,
   "id": "756f7990",
   "metadata": {},
   "outputs": [],
   "source": [
    "data_to_write = ''.join(data)"
   ]
  },
  {
   "cell_type": "code",
   "execution_count": 294,
   "id": "ba973783",
   "metadata": {},
   "outputs": [
    {
     "name": "stdout",
     "output_type": "stream",
     "text": [
      "This file is genrated by pythonthis is magic linenow the magic starts\n",
      "artifical intelligence is branch of computer science with is conserned with building smatrt and intelligent machine\n",
      "Python is fun. \n",
      "\n",
      " this is new line \n",
      "\n",
      " this is new line \n",
      "\n",
      " this is new line \n",
      "\n"
     ]
    }
   ],
   "source": [
    "print(data_to_write)"
   ]
  },
  {
   "cell_type": "code",
   "execution_count": 295,
   "id": "4b394e29",
   "metadata": {},
   "outputs": [],
   "source": [
    "with open('temp.txt', 'w') as f:\n",
    "    f.write(data_to_write)"
   ]
  },
  {
   "cell_type": "code",
   "execution_count": 296,
   "id": "04f0585e",
   "metadata": {},
   "outputs": [
    {
     "ename": "PermissionError",
     "evalue": "[WinError 32] The process cannot access the file because it is being used by another process: 'example.txt'",
     "output_type": "error",
     "traceback": [
      "\u001b[1;31m---------------------------------------------------------------------------\u001b[0m",
      "\u001b[1;31mPermissionError\u001b[0m                           Traceback (most recent call last)",
      "\u001b[1;32m<ipython-input-296-c364e1e371e4>\u001b[0m in \u001b[0;36m<module>\u001b[1;34m\u001b[0m\n\u001b[1;32m----> 1\u001b[1;33m \u001b[0mos\u001b[0m\u001b[1;33m.\u001b[0m\u001b[0mremove\u001b[0m\u001b[1;33m(\u001b[0m\u001b[1;34m'example.txt'\u001b[0m\u001b[1;33m)\u001b[0m\u001b[1;33m\u001b[0m\u001b[1;33m\u001b[0m\u001b[0m\n\u001b[0m",
      "\u001b[1;31mPermissionError\u001b[0m: [WinError 32] The process cannot access the file because it is being used by another process: 'example.txt'"
     ]
    }
   ],
   "source": [
    "os.remove('example.txt')"
   ]
  },
  {
   "cell_type": "code",
   "execution_count": 297,
   "id": "689bf5de",
   "metadata": {},
   "outputs": [],
   "source": [
    "os.rename('temp.txt', 'changed file')"
   ]
  },
  {
   "cell_type": "code",
   "execution_count": 300,
   "id": "bb57dc8e",
   "metadata": {},
   "outputs": [
    {
     "name": "stdout",
     "output_type": "stream",
     "text": [
      "23\n"
     ]
    }
   ],
   "source": [
    "b = 23\n",
    "print(b)"
   ]
  },
  {
   "cell_type": "code",
   "execution_count": 302,
   "id": "e7b76374",
   "metadata": {},
   "outputs": [],
   "source": [
    "if 5>3:\n",
    "    pass"
   ]
  },
  {
   "cell_type": "code",
   "execution_count": 303,
   "id": "fb17d9d3",
   "metadata": {},
   "outputs": [],
   "source": [
    "import random"
   ]
  },
  {
   "cell_type": "code",
   "execution_count": 304,
   "id": "7e8f14af",
   "metadata": {},
   "outputs": [
    {
     "ename": "ModuleNotFoundError",
     "evalue": "No module named 'dontknow'",
     "output_type": "error",
     "traceback": [
      "\u001b[1;31m---------------------------------------------------------------------------\u001b[0m",
      "\u001b[1;31mModuleNotFoundError\u001b[0m                       Traceback (most recent call last)",
      "\u001b[1;32m<ipython-input-304-bcd87af70373>\u001b[0m in \u001b[0;36m<module>\u001b[1;34m\u001b[0m\n\u001b[1;32m----> 1\u001b[1;33m \u001b[1;32mimport\u001b[0m \u001b[0mdontknow\u001b[0m\u001b[1;33m\u001b[0m\u001b[1;33m\u001b[0m\u001b[0m\n\u001b[0m",
      "\u001b[1;31mModuleNotFoundError\u001b[0m: No module named 'dontknow'"
     ]
    }
   ],
   "source": [
    "import dontknow"
   ]
  },
  {
   "cell_type": "code",
   "execution_count": 305,
   "id": "7d7c0d6b",
   "metadata": {},
   "outputs": [
    {
     "ename": "AttributeError",
     "evalue": "'str' object has no attribute 'sort'",
     "output_type": "error",
     "traceback": [
      "\u001b[1;31m---------------------------------------------------------------------------\u001b[0m",
      "\u001b[1;31mAttributeError\u001b[0m                            Traceback (most recent call last)",
      "\u001b[1;32m<ipython-input-305-9cf80fa222fb>\u001b[0m in \u001b[0;36m<module>\u001b[1;34m\u001b[0m\n\u001b[1;32m----> 1\u001b[1;33m \u001b[1;34m'sanjaykumar'\u001b[0m\u001b[1;33m.\u001b[0m\u001b[0msort\u001b[0m\u001b[1;33m(\u001b[0m\u001b[1;33m)\u001b[0m\u001b[1;33m\u001b[0m\u001b[1;33m\u001b[0m\u001b[0m\n\u001b[0m",
      "\u001b[1;31mAttributeError\u001b[0m: 'str' object has no attribute 'sort'"
     ]
    }
   ],
   "source": [
    "'sanjaykumar'.sort()"
   ]
  },
  {
   "cell_type": "code",
   "execution_count": 306,
   "id": "5e950691",
   "metadata": {},
   "outputs": [
    {
     "ename": "TypeError",
     "evalue": "can only concatenate str (not \"int\") to str",
     "output_type": "error",
     "traceback": [
      "\u001b[1;31m---------------------------------------------------------------------------\u001b[0m",
      "\u001b[1;31mTypeError\u001b[0m                                 Traceback (most recent call last)",
      "\u001b[1;32m<ipython-input-306-41bee7ab6d33>\u001b[0m in \u001b[0;36m<module>\u001b[1;34m\u001b[0m\n\u001b[1;32m----> 1\u001b[1;33m \u001b[1;34m'hello'\u001b[0m \u001b[1;33m+\u001b[0m \u001b[1;36m1\u001b[0m\u001b[1;33m\u001b[0m\u001b[1;33m\u001b[0m\u001b[0m\n\u001b[0m",
      "\u001b[1;31mTypeError\u001b[0m: can only concatenate str (not \"int\") to str"
     ]
    }
   ],
   "source": [
    "'hello' + 1"
   ]
  },
  {
   "cell_type": "code",
   "execution_count": 312,
   "id": "03c09b25",
   "metadata": {},
   "outputs": [
    {
     "name": "stdout",
     "output_type": "stream",
     "text": [
      "['ArithmeticError', 'AssertionError', 'AttributeError', 'BaseException', 'BlockingIOError', 'BrokenPipeError', 'BufferError', 'BytesWarning', 'ChildProcessError', 'ConnectionAbortedError', 'ConnectionError', 'ConnectionRefusedError', 'ConnectionResetError', 'DeprecationWarning', 'EOFError', 'Ellipsis', 'EnvironmentError', 'Exception', 'False', 'FileExistsError', 'FileNotFoundError', 'FloatingPointError', 'FutureWarning', 'GeneratorExit', 'IOError', 'ImportError', 'ImportWarning', 'IndentationError', 'IndexError', 'InterruptedError', 'IsADirectoryError', 'KeyError', 'KeyboardInterrupt', 'LookupError', 'MemoryError', 'ModuleNotFoundError', 'NameError', 'None', 'NotADirectoryError', 'NotImplemented', 'NotImplementedError', 'OSError', 'OverflowError', 'PendingDeprecationWarning', 'PermissionError', 'ProcessLookupError', 'RecursionError', 'ReferenceError', 'ResourceWarning', 'RuntimeError', 'RuntimeWarning', 'StopAsyncIteration', 'StopIteration', 'SyntaxError', 'SyntaxWarning', 'SystemError', 'SystemExit', 'TabError', 'TimeoutError', 'True', 'TypeError', 'UnboundLocalError', 'UnicodeDecodeError', 'UnicodeEncodeError', 'UnicodeError', 'UnicodeTranslateError', 'UnicodeWarning', 'UserWarning', 'ValueError', 'Warning', 'WindowsError', 'ZeroDivisionError', '__IPYTHON__', '__build_class__', '__debug__', '__doc__', '__import__', '__loader__', '__name__', '__package__', '__spec__', 'abs', 'all', 'any', 'ascii', 'bin', 'bool', 'breakpoint', 'bytearray', 'bytes', 'callable', 'chr', 'classmethod', 'compile', 'complex', 'copyright', 'credits', 'delattr', 'dict', 'dir', 'display', 'divmod', 'enumerate', 'eval', 'exec', 'filter', 'float', 'format', 'frozenset', 'get_ipython', 'getattr', 'globals', 'hasattr', 'hash', 'help', 'hex', 'id', 'input', 'int', 'isinstance', 'issubclass', 'iter', 'len', 'license', 'list', 'locals', 'map', 'max', 'memoryview', 'min', 'next', 'object', 'oct', 'open', 'ord', 'pow', 'print', 'property', 'range', 'repr', 'reversed', 'round', 'set', 'setattr', 'slice', 'sorted', 'staticmethod', 'str', 'sum', 'super', 'tuple', 'type', 'vars', 'zip']\n"
     ]
    }
   ],
   "source": [
    "print(dir(__builtins__))"
   ]
  },
  {
   "cell_type": "code",
   "execution_count": 313,
   "id": "c9ea8635",
   "metadata": {},
   "outputs": [],
   "source": [
    "import sys"
   ]
  },
  {
   "cell_type": "code",
   "execution_count": 314,
   "id": "2db785e1",
   "metadata": {},
   "outputs": [
    {
     "name": "stdout",
     "output_type": "stream",
     "text": [
      "Current ele : 2\n",
      "Result : 2.5\n",
      "--------------------------------------------------\n",
      "Current ele : 0\n",
      "Error caused : division by zero\n",
      "<class 'ZeroDivisionError'>\n",
      "--------------------------------------------------\n",
      "Current ele : hello\n",
      "Error caused : invalid literal for int() with base 10: 'hello'\n",
      "<class 'ValueError'>\n",
      "--------------------------------------------------\n",
      "Current ele : None\n",
      "Error caused : int() argument must be a string, a bytes-like object or a number, not 'NoneType'\n",
      "<class 'TypeError'>\n",
      "--------------------------------------------------\n",
      "\n",
      "There are 100 more lines.\n"
     ]
    }
   ],
   "source": [
    "lst = [2, 0, 'hello', None]\n",
    "\n",
    "for ele in lst:\n",
    "    try:\n",
    "        print(\"Current ele :\", ele)\n",
    "        res = 5/int(ele)\n",
    "        print(\"Result :\", res)\n",
    "    except Exception as e:\n",
    "        print(\"Error caused :\", e)\n",
    "        print( sys.exc_info()[0] )\n",
    "    print(\"-\"*50)\n",
    "    \n",
    "print(\"\\nThere are 100 more lines.\")"
   ]
  },
  {
   "cell_type": "code",
   "execution_count": 324,
   "id": "68e288fd",
   "metadata": {},
   "outputs": [
    {
     "name": "stdout",
     "output_type": "stream",
     "text": [
      "current ele: 2\n",
      "result: 2.5\n",
      "--------------------------------------------------\n",
      "current ele: 0\n",
      "error caused: division by zero\n",
      "<class 'ZeroDivisionError'>\n",
      "--------------------------------------------------\n",
      "current ele: hello\n",
      "error caused: invalid literal for int() with base 10: 'hello'\n",
      "<class 'ValueError'>\n",
      "--------------------------------------------------\n",
      "current ele: None\n",
      "error caused: int() argument must be a string, a bytes-like object or a number, not 'NoneType'\n",
      "<class 'TypeError'>\n",
      "--------------------------------------------------\n",
      "n number of more lines\n"
     ]
    }
   ],
   "source": [
    "lst = [2, 0, 'hello', None]\n",
    "for i in lst:\n",
    "    try:\n",
    "        print('current ele:', i)\n",
    "        res = 5/int(i)\n",
    "        print('result:', res)\n",
    "    except Exception as e:\n",
    "        print('error caused:', e)\n",
    "        print(sys.exc_info()[0])\n",
    "    print('-'*50)\n",
    "print('n number of more lines')"
   ]
  },
  {
   "cell_type": "code",
   "execution_count": 325,
   "id": "51dc699e",
   "metadata": {},
   "outputs": [
    {
     "name": "stdout",
     "output_type": "stream",
     "text": [
      "Current ele : 2\n",
      "Result : 2.5\n",
      "--------------------------------------------------\n",
      "Current ele : 0\n",
      "Dont't divide by zero division by zero\n",
      "--------------------------------------------------\n",
      "Current ele : hello\n",
      "ValueError occured : invalid literal for int() with base 10: 'hello'\n",
      "--------------------------------------------------\n",
      "Current ele : None\n",
      "Error caused : int() argument must be a string, a bytes-like object or a number, not 'NoneType'\n",
      "<class 'TypeError'>\n",
      "--------------------------------------------------\n",
      "\n",
      "There are 100 more lines.\n"
     ]
    }
   ],
   "source": [
    "lst = [2, 0, 'hello', None]\n",
    "\n",
    "for ele in lst:\n",
    "    try:\n",
    "        print(\"Current ele :\", ele)\n",
    "        res = 5/int(ele)\n",
    "        print(\"Result :\", res)\n",
    "    except ValueError as ve:\n",
    "        print(\"ValueError occured :\", ve)\n",
    "    except ZeroDivisionError as ze:\n",
    "        print(\"Dont't divide by zero\", ze)\n",
    "    except Exception as e:\n",
    "        print(\"Error caused :\", e)\n",
    "        print( sys.exc_info()[0] )\n",
    "    print(\"-\"*50)\n",
    "    \n",
    "print(\"\\nThere are 100 more lines.\")"
   ]
  },
  {
   "cell_type": "code",
   "execution_count": 327,
   "id": "0b79e58f",
   "metadata": {},
   "outputs": [
    {
     "name": "stdout",
     "output_type": "stream",
     "text": [
      "error caused: division by zero\n",
      "I will always be executed\n"
     ]
    }
   ],
   "source": [
    "try:\n",
    "    res = 5/0\n",
    "    print('divisio:', res)\n",
    "except Exception as e:\n",
    "    print('error caused:', e)\n",
    "finally:\n",
    "    #f.close()\n",
    "    #f.ds connection()\n",
    "    print('I will always be executed')"
   ]
  },
  {
   "cell_type": "code",
   "execution_count": 328,
   "id": "4028d6ac",
   "metadata": {},
   "outputs": [
    {
     "ename": "Exception",
     "evalue": "Error...",
     "output_type": "error",
     "traceback": [
      "\u001b[1;31m---------------------------------------------------------------------------\u001b[0m",
      "\u001b[1;31mException\u001b[0m                                 Traceback (most recent call last)",
      "\u001b[1;32m<ipython-input-328-097ddd0253cf>\u001b[0m in \u001b[0;36m<module>\u001b[1;34m\u001b[0m\n\u001b[1;32m----> 1\u001b[1;33m \u001b[1;32mraise\u001b[0m \u001b[0mException\u001b[0m\u001b[1;33m(\u001b[0m\u001b[1;34m'Error...'\u001b[0m\u001b[1;33m)\u001b[0m\u001b[1;33m\u001b[0m\u001b[1;33m\u001b[0m\u001b[0m\n\u001b[0m\u001b[0;32m      2\u001b[0m \u001b[0mprint\u001b[0m\u001b[1;33m(\u001b[0m\u001b[1;34m'new code'\u001b[0m\u001b[1;33m)\u001b[0m\u001b[1;33m\u001b[0m\u001b[1;33m\u001b[0m\u001b[0m\n",
      "\u001b[1;31mException\u001b[0m: Error..."
     ]
    }
   ],
   "source": [
    "raise Exception('Error...')\n",
    "print('new code')"
   ]
  },
  {
   "cell_type": "code",
   "execution_count": 329,
   "id": "10fdc28c",
   "metadata": {},
   "outputs": [
    {
     "name": "stdout",
     "output_type": "stream",
     "text": [
      "Enter your name :d\n",
      "Error occured : Name cannot be less than 4 charaters.\n",
      "<class 'ValueError'>\n",
      "100 lines of code\n"
     ]
    }
   ],
   "source": [
    "try:\n",
    "    name = input(\"Enter your name :\")\n",
    "    \n",
    "    if len(name) < 4:\n",
    "        raise ValueError(\"Name cannot be less than 4 charaters.\")\n",
    "    print(\"Hello\",name)\n",
    "    \n",
    "except Exception as e:\n",
    "    print(\"Error occured :\", e)\n",
    "    print(sys.exc_info()[0])\n",
    "    \n",
    "print(\"100 lines of code\")"
   ]
  },
  {
   "cell_type": "code",
   "execution_count": 334,
   "id": "e11a4d24",
   "metadata": {},
   "outputs": [
    {
     "name": "stdout",
     "output_type": "stream",
     "text": [
      "Enter your name:abc\n",
      "error occured: name can not be less than 4 charaters.\n",
      "you can not leave me alone\n",
      "this is new code\n"
     ]
    }
   ],
   "source": [
    "try:\n",
    "    name = input('Enter your name:')\n",
    "\n",
    "\n",
    "    if len(name)<4:\n",
    "        raise ValueError('name can not be less than 4 charaters.')\n",
    "    print('Hello:', name)\n",
    "except Exception as e:\n",
    "    print('error occured:', e)\n",
    "\n",
    "finally:\n",
    "    print('you can not leave me alone')\n",
    "    \n",
    "print('this is new code')\n",
    "        "
   ]
  },
  {
   "cell_type": "code",
   "execution_count": null,
   "id": "c10e7017",
   "metadata": {},
   "outputs": [],
   "source": []
  }
 ],
 "metadata": {
  "kernelspec": {
   "display_name": "Python 3",
   "language": "python",
   "name": "python3"
  },
  "language_info": {
   "codemirror_mode": {
    "name": "ipython",
    "version": 3
   },
   "file_extension": ".py",
   "mimetype": "text/x-python",
   "name": "python",
   "nbconvert_exporter": "python",
   "pygments_lexer": "ipython3",
   "version": "3.8.8"
  }
 },
 "nbformat": 4,
 "nbformat_minor": 5
}
