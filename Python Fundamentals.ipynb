{
 "cells": [
  {
   "cell_type": "markdown",
   "id": "e1b543c9",
   "metadata": {},
   "source": [
    "# Python Basics\n",
    "## Jupyter Overview"
   ]
  },
  {
   "cell_type": "code",
   "execution_count": 1,
   "id": "9edd8be6",
   "metadata": {},
   "outputs": [],
   "source": [
    "# This is a comment, it will not be executed  "
   ]
  },
  {
   "cell_type": "code",
   "execution_count": 2,
   "id": "1188e19a",
   "metadata": {},
   "outputs": [
    {
     "name": "stdout",
     "output_type": "stream",
     "text": [
      "Hello world\n"
     ]
    }
   ],
   "source": [
    "print(\"Hello world\")"
   ]
  },
  {
   "cell_type": "code",
   "execution_count": 3,
   "id": "62a560ef",
   "metadata": {},
   "outputs": [
    {
     "name": "stdout",
     "output_type": "stream",
     "text": [
      "hello students\n"
     ]
    }
   ],
   "source": [
    "print(\"hello students\")"
   ]
  },
  {
   "cell_type": "code",
   "execution_count": 4,
   "id": "67ef2d1c",
   "metadata": {},
   "outputs": [
    {
     "name": "stdout",
     "output_type": "stream",
     "text": [
      "Data science 100 ml\n"
     ]
    }
   ],
   "source": [
    "print(\"Data science\", 100, \"ml\")"
   ]
  },
  {
   "cell_type": "code",
   "execution_count": 5,
   "id": "80fbb716",
   "metadata": {},
   "outputs": [],
   "source": [
    "i = 50"
   ]
  },
  {
   "cell_type": "code",
   "execution_count": 6,
   "id": "4076e6af",
   "metadata": {},
   "outputs": [
    {
     "name": "stdout",
     "output_type": "stream",
     "text": [
      "50\n"
     ]
    }
   ],
   "source": [
    "print(i)"
   ]
  },
  {
   "cell_type": "code",
   "execution_count": 7,
   "id": "4fb9e3d2",
   "metadata": {},
   "outputs": [
    {
     "data": {
      "text/plain": [
       "int"
      ]
     },
     "execution_count": 7,
     "metadata": {},
     "output_type": "execute_result"
    }
   ],
   "source": [
    "type(i)"
   ]
  },
  {
   "cell_type": "code",
   "execution_count": 8,
   "id": "59db8378",
   "metadata": {},
   "outputs": [],
   "source": [
    "abv1 = 10"
   ]
  },
  {
   "cell_type": "code",
   "execution_count": 9,
   "id": "9a45a3de",
   "metadata": {},
   "outputs": [
    {
     "data": {
      "text/plain": [
       "int"
      ]
     },
     "execution_count": 9,
     "metadata": {},
     "output_type": "execute_result"
    }
   ],
   "source": [
    "type(abv1)"
   ]
  },
  {
   "cell_type": "code",
   "execution_count": 10,
   "id": "414eee07",
   "metadata": {},
   "outputs": [
    {
     "data": {
      "text/plain": [
       "140717581282640"
      ]
     },
     "execution_count": 10,
     "metadata": {},
     "output_type": "execute_result"
    }
   ],
   "source": [
    "id(i)"
   ]
  },
  {
   "cell_type": "code",
   "execution_count": 11,
   "id": "959e7877",
   "metadata": {},
   "outputs": [
    {
     "data": {
      "text/plain": [
       "140717581281360"
      ]
     },
     "execution_count": 11,
     "metadata": {},
     "output_type": "execute_result"
    }
   ],
   "source": [
    "id(abv1)"
   ]
  },
  {
   "cell_type": "code",
   "execution_count": 12,
   "id": "eaaddad1",
   "metadata": {},
   "outputs": [],
   "source": [
    "i = \"machine learning\""
   ]
  },
  {
   "cell_type": "code",
   "execution_count": 13,
   "id": "627ef4cb",
   "metadata": {},
   "outputs": [
    {
     "data": {
      "text/plain": [
       "str"
      ]
     },
     "execution_count": 13,
     "metadata": {},
     "output_type": "execute_result"
    }
   ],
   "source": [
    "type(i)"
   ]
  },
  {
   "cell_type": "code",
   "execution_count": 14,
   "id": "70270e17",
   "metadata": {},
   "outputs": [
    {
     "data": {
      "text/plain": [
       "2778911425440"
      ]
     },
     "execution_count": 14,
     "metadata": {},
     "output_type": "execute_result"
    }
   ],
   "source": [
    "id(i)"
   ]
  },
  {
   "cell_type": "code",
   "execution_count": 15,
   "id": "0ccef5ef",
   "metadata": {},
   "outputs": [],
   "source": [
    "my_num = 55"
   ]
  },
  {
   "cell_type": "code",
   "execution_count": 16,
   "id": "8b7a2ddb",
   "metadata": {},
   "outputs": [
    {
     "name": "stdout",
     "output_type": "stream",
     "text": [
      "55\n",
      "<class 'int'>\n"
     ]
    }
   ],
   "source": [
    "print(my_num)\n",
    "print(type(my_num))"
   ]
  },
  {
   "cell_type": "code",
   "execution_count": 17,
   "id": "e5ec526c",
   "metadata": {},
   "outputs": [],
   "source": [
    "my_f = 45.36"
   ]
  },
  {
   "cell_type": "code",
   "execution_count": 18,
   "id": "0600e328",
   "metadata": {},
   "outputs": [
    {
     "name": "stdout",
     "output_type": "stream",
     "text": [
      "45.36\n",
      "<class 'float'>\n"
     ]
    }
   ],
   "source": [
    "print(my_f)\n",
    "print(type(my_f))"
   ]
  },
  {
   "cell_type": "code",
   "execution_count": 19,
   "id": "83767046",
   "metadata": {},
   "outputs": [],
   "source": [
    "my_c = 5+12j"
   ]
  },
  {
   "cell_type": "code",
   "execution_count": 20,
   "id": "e57e85d4",
   "metadata": {},
   "outputs": [
    {
     "name": "stdout",
     "output_type": "stream",
     "text": [
      "(5+12j)\n",
      "<class 'complex'>\n"
     ]
    }
   ],
   "source": [
    "print(my_c)\n",
    "print(type(my_c))"
   ]
  },
  {
   "cell_type": "code",
   "execution_count": 21,
   "id": "06f6f8eb",
   "metadata": {},
   "outputs": [],
   "source": [
    "my_st = \"Python is fun\""
   ]
  },
  {
   "cell_type": "code",
   "execution_count": 22,
   "id": "ca2a036c",
   "metadata": {},
   "outputs": [
    {
     "name": "stdout",
     "output_type": "stream",
     "text": [
      "Python is fun\n",
      "<class 'str'>\n"
     ]
    }
   ],
   "source": [
    "print(my_st)\n",
    "print(type(my_st))"
   ]
  },
  {
   "cell_type": "code",
   "execution_count": 23,
   "id": "69872beb",
   "metadata": {},
   "outputs": [],
   "source": [
    "my_bool = True # False"
   ]
  },
  {
   "cell_type": "code",
   "execution_count": 24,
   "id": "13b21da6",
   "metadata": {},
   "outputs": [
    {
     "name": "stdout",
     "output_type": "stream",
     "text": [
      "True\n",
      "<class 'bool'>\n"
     ]
    }
   ],
   "source": [
    "print(my_bool)\n",
    "print(type(my_bool))"
   ]
  },
  {
   "cell_type": "code",
   "execution_count": 25,
   "id": "1c86321c",
   "metadata": {},
   "outputs": [],
   "source": [
    "my_n = None "
   ]
  },
  {
   "cell_type": "code",
   "execution_count": 26,
   "id": "9a5ccc23",
   "metadata": {},
   "outputs": [
    {
     "data": {
      "text/plain": [
       "<function print>"
      ]
     },
     "execution_count": 26,
     "metadata": {},
     "output_type": "execute_result"
    }
   ],
   "source": [
    "print"
   ]
  },
  {
   "cell_type": "code",
   "execution_count": 27,
   "id": "0341e33f",
   "metadata": {},
   "outputs": [
    {
     "name": "stdout",
     "output_type": "stream",
     "text": [
      "None\n",
      "<class 'NoneType'>\n"
     ]
    },
    {
     "data": {
      "text/plain": [
       "140717581047936"
      ]
     },
     "execution_count": 27,
     "metadata": {},
     "output_type": "execute_result"
    }
   ],
   "source": [
    "print(my_n)\n",
    "print(type(my_n))\n",
    "id(my_n)"
   ]
  },
  {
   "cell_type": "code",
   "execution_count": 28,
   "id": "07f68b91",
   "metadata": {},
   "outputs": [
    {
     "name": "stdout",
     "output_type": "stream",
     "text": [
      "enter your name : sanjay kumar\n"
     ]
    }
   ],
   "source": [
    "name = input(\"enter your name : \")"
   ]
  },
  {
   "cell_type": "code",
   "execution_count": 29,
   "id": "65b5ef08",
   "metadata": {},
   "outputs": [
    {
     "name": "stdout",
     "output_type": "stream",
     "text": [
      "sanjay kumar\n"
     ]
    }
   ],
   "source": [
    "print(name)"
   ]
  },
  {
   "cell_type": "code",
   "execution_count": 30,
   "id": "059b6c93",
   "metadata": {},
   "outputs": [
    {
     "data": {
      "text/plain": [
       "str"
      ]
     },
     "execution_count": 30,
     "metadata": {},
     "output_type": "execute_result"
    }
   ],
   "source": [
    "type(name)"
   ]
  },
  {
   "cell_type": "code",
   "execution_count": 31,
   "id": "2b59965e",
   "metadata": {},
   "outputs": [
    {
     "name": "stdout",
     "output_type": "stream",
     "text": [
      "Enter your age : 28\n"
     ]
    }
   ],
   "source": [
    "age = int(input(\"Enter your age : \"))"
   ]
  },
  {
   "cell_type": "code",
   "execution_count": 32,
   "id": "08406717",
   "metadata": {},
   "outputs": [
    {
     "data": {
      "text/plain": [
       "int"
      ]
     },
     "execution_count": 32,
     "metadata": {},
     "output_type": "execute_result"
    }
   ],
   "source": [
    "type(age)"
   ]
  },
  {
   "cell_type": "code",
   "execution_count": 33,
   "id": "de3b34b5",
   "metadata": {},
   "outputs": [],
   "source": [
    "num = 8"
   ]
  },
  {
   "cell_type": "code",
   "execution_count": 34,
   "id": "66e26299",
   "metadata": {},
   "outputs": [
    {
     "data": {
      "text/plain": [
       "int"
      ]
     },
     "execution_count": 34,
     "metadata": {},
     "output_type": "execute_result"
    }
   ],
   "source": [
    "type(num)"
   ]
  },
  {
   "cell_type": "code",
   "execution_count": 35,
   "id": "5505b26f",
   "metadata": {},
   "outputs": [],
   "source": [
    "num = \"8\""
   ]
  },
  {
   "cell_type": "code",
   "execution_count": 36,
   "id": "ab365c7c",
   "metadata": {},
   "outputs": [
    {
     "data": {
      "text/plain": [
       "str"
      ]
     },
     "execution_count": 36,
     "metadata": {},
     "output_type": "execute_result"
    }
   ],
   "source": [
    "type(num)"
   ]
  },
  {
   "cell_type": "code",
   "execution_count": 37,
   "id": "9ba4cc52",
   "metadata": {},
   "outputs": [
    {
     "name": "stdout",
     "output_type": "stream",
     "text": [
      "8\n",
      "<class 'str'>\n"
     ]
    }
   ],
   "source": [
    "print(num)\n",
    "print(type(num))"
   ]
  },
  {
   "cell_type": "code",
   "execution_count": 38,
   "id": "eea66bdc",
   "metadata": {},
   "outputs": [
    {
     "name": "stdout",
     "output_type": "stream",
     "text": [
      "8\n",
      "<class 'int'>\n"
     ]
    }
   ],
   "source": [
    "num = int(num)\n",
    "print(num)\n",
    "print(type(num))"
   ]
  },
  {
   "cell_type": "code",
   "execution_count": 39,
   "id": "28d3854c",
   "metadata": {},
   "outputs": [
    {
     "data": {
      "text/plain": [
       "8.0"
      ]
     },
     "execution_count": 39,
     "metadata": {},
     "output_type": "execute_result"
    }
   ],
   "source": [
    "float(num)"
   ]
  },
  {
   "cell_type": "code",
   "execution_count": 40,
   "id": "4f14ab69",
   "metadata": {},
   "outputs": [
    {
     "data": {
      "text/plain": [
       "(8+0j)"
      ]
     },
     "execution_count": 40,
     "metadata": {},
     "output_type": "execute_result"
    }
   ],
   "source": [
    "complex(num)"
   ]
  },
  {
   "cell_type": "code",
   "execution_count": 41,
   "id": "b40c1c4b",
   "metadata": {},
   "outputs": [
    {
     "data": {
      "text/plain": [
       "True"
      ]
     },
     "execution_count": 41,
     "metadata": {},
     "output_type": "execute_result"
    }
   ],
   "source": [
    "bool(num)"
   ]
  },
  {
   "cell_type": "code",
   "execution_count": 42,
   "id": "1c3a9550",
   "metadata": {},
   "outputs": [],
   "source": [
    "number = 852"
   ]
  },
  {
   "cell_type": "code",
   "execution_count": 43,
   "id": "a36f91e2",
   "metadata": {},
   "outputs": [],
   "source": [
    "a = 1+2+\\\n",
    "    3+4+5+\\\n",
    "    6+7+8+9"
   ]
  },
  {
   "cell_type": "code",
   "execution_count": 44,
   "id": "4c334262",
   "metadata": {},
   "outputs": [
    {
     "name": "stdout",
     "output_type": "stream",
     "text": [
      "45\n"
     ]
    }
   ],
   "source": [
    "print(a)"
   ]
  },
  {
   "cell_type": "code",
   "execution_count": 45,
   "id": "d2d651d8",
   "metadata": {},
   "outputs": [],
   "source": [
    "g = (1+2+3+4+\n",
    "    5+3+4+\n",
    "    8+5+\n",
    "    2+3+\n",
    "    4)"
   ]
  },
  {
   "cell_type": "code",
   "execution_count": 46,
   "id": "f3576cf9",
   "metadata": {},
   "outputs": [
    {
     "name": "stdout",
     "output_type": "stream",
     "text": [
      "44\n"
     ]
    }
   ],
   "source": [
    "print(g)"
   ]
  },
  {
   "cell_type": "code",
   "execution_count": 47,
   "id": "8b1ac941",
   "metadata": {},
   "outputs": [
    {
     "name": "stdout",
     "output_type": "stream",
     "text": [
      "the value of a is 15 and b is 69\n"
     ]
    }
   ],
   "source": [
    "a = 15\n",
    "b = 69\n",
    "\n",
    "print(\"the value of a is {} and b is {}\".format(a,b))"
   ]
  },
  {
   "cell_type": "code",
   "execution_count": 48,
   "id": "5b866f22",
   "metadata": {},
   "outputs": [
    {
     "name": "stdout",
     "output_type": "stream",
     "text": [
      "the value of j is 25 and i is 15\n"
     ]
    }
   ],
   "source": [
    "j = 15\n",
    "i = 25\n",
    "\n",
    "print(\"the value of j is {1} and i is {0}\".format(j,i))"
   ]
  },
  {
   "cell_type": "code",
   "execution_count": 49,
   "id": "0903f333",
   "metadata": {},
   "outputs": [
    {
     "name": "stdout",
     "output_type": "stream",
     "text": [
      "Hello Sanjay kumar and Good morning\n"
     ]
    }
   ],
   "source": [
    "name = \"Sanjay kumar\"\n",
    "greetings = \"Good morning\"\n",
    "\n",
    "print(\"Hello {n} and {g}\".format(g=greetings,n=name))"
   ]
  },
  {
   "cell_type": "markdown",
   "id": "91e78368",
   "metadata": {},
   "source": [
    "# Operators and Expressions"
   ]
  },
  {
   "cell_type": "code",
   "execution_count": 50,
   "id": "99a764af",
   "metadata": {},
   "outputs": [],
   "source": [
    "no1 = 12\n",
    "no2 = 3"
   ]
  },
  {
   "cell_type": "code",
   "execution_count": 51,
   "id": "0b41c5bb",
   "metadata": {},
   "outputs": [],
   "source": [
    "add = no1+no2\n",
    "sub = no1-no2\n",
    "div = no1/no2\n",
    "mul = no1*no2\n",
    "f_div = no1//no2\n",
    "mod = no1%no2"
   ]
  },
  {
   "cell_type": "code",
   "execution_count": 52,
   "id": "7c195629",
   "metadata": {},
   "outputs": [
    {
     "name": "stdout",
     "output_type": "stream",
     "text": [
      "a+b = 15\n",
      "a-b = 9\n",
      "a/b = 4.0\n",
      "a*b = 36\n",
      "a//b = 4\n",
      "a%b = 0\n"
     ]
    }
   ],
   "source": [
    "print(\"a+b = {}\".format(add))\n",
    "print(\"a-b = {}\".format(sub))\n",
    "print(\"a/b = {}\".format(div))\n",
    "print(\"a*b = {}\".format(mul))\n",
    "print(\"a//b = {}\".format(f_div))\n",
    "print(\"a%b = {}\".format(mod))"
   ]
  },
  {
   "cell_type": "code",
   "execution_count": 53,
   "id": "8093de19",
   "metadata": {},
   "outputs": [
    {
     "name": "stdout",
     "output_type": "stream",
     "text": [
      "12 3\n"
     ]
    }
   ],
   "source": [
    "print(no1,no2)"
   ]
  },
  {
   "cell_type": "code",
   "execution_count": 54,
   "id": "1f79cef3",
   "metadata": {},
   "outputs": [
    {
     "data": {
      "text/plain": [
       "True"
      ]
     },
     "execution_count": 54,
     "metadata": {},
     "output_type": "execute_result"
    }
   ],
   "source": [
    "no1>no2"
   ]
  },
  {
   "cell_type": "code",
   "execution_count": 55,
   "id": "653a5527",
   "metadata": {},
   "outputs": [
    {
     "data": {
      "text/plain": [
       "False"
      ]
     },
     "execution_count": 55,
     "metadata": {},
     "output_type": "execute_result"
    }
   ],
   "source": [
    "no1<no2"
   ]
  },
  {
   "cell_type": "code",
   "execution_count": 56,
   "id": "e54c2a04",
   "metadata": {},
   "outputs": [
    {
     "data": {
      "text/plain": [
       "False"
      ]
     },
     "execution_count": 56,
     "metadata": {},
     "output_type": "execute_result"
    }
   ],
   "source": [
    "no1==no2"
   ]
  },
  {
   "cell_type": "code",
   "execution_count": 57,
   "id": "551e1ce3",
   "metadata": {},
   "outputs": [
    {
     "data": {
      "text/plain": [
       "True"
      ]
     },
     "execution_count": 57,
     "metadata": {},
     "output_type": "execute_result"
    }
   ],
   "source": [
    "no1==no1"
   ]
  },
  {
   "cell_type": "code",
   "execution_count": 58,
   "id": "6088d98a",
   "metadata": {},
   "outputs": [
    {
     "data": {
      "text/plain": [
       "True"
      ]
     },
     "execution_count": 58,
     "metadata": {},
     "output_type": "execute_result"
    }
   ],
   "source": [
    "no1!= no2"
   ]
  },
  {
   "cell_type": "code",
   "execution_count": 59,
   "id": "debd4096",
   "metadata": {},
   "outputs": [
    {
     "data": {
      "text/plain": [
       "True"
      ]
     },
     "execution_count": 59,
     "metadata": {},
     "output_type": "execute_result"
    }
   ],
   "source": [
    "no1>=no2"
   ]
  },
  {
   "cell_type": "code",
   "execution_count": 60,
   "id": "39274532",
   "metadata": {},
   "outputs": [
    {
     "data": {
      "text/plain": [
       "False"
      ]
     },
     "execution_count": 60,
     "metadata": {},
     "output_type": "execute_result"
    }
   ],
   "source": [
    "no1<=no2"
   ]
  },
  {
   "cell_type": "code",
   "execution_count": 61,
   "id": "0711f2a2",
   "metadata": {},
   "outputs": [
    {
     "data": {
      "text/plain": [
       "True"
      ]
     },
     "execution_count": 61,
     "metadata": {},
     "output_type": "execute_result"
    }
   ],
   "source": [
    "10>5 and 15>10"
   ]
  },
  {
   "cell_type": "code",
   "execution_count": 62,
   "id": "99e2ecfa",
   "metadata": {},
   "outputs": [
    {
     "data": {
      "text/plain": [
       "False"
      ]
     },
     "execution_count": 62,
     "metadata": {},
     "output_type": "execute_result"
    }
   ],
   "source": [
    "10<9 and 15>12"
   ]
  },
  {
   "cell_type": "code",
   "execution_count": 63,
   "id": "a8aeedcc",
   "metadata": {},
   "outputs": [
    {
     "data": {
      "text/plain": [
       "False"
      ]
     },
     "execution_count": 63,
     "metadata": {},
     "output_type": "execute_result"
    }
   ],
   "source": [
    "15>14 and 10<9"
   ]
  },
  {
   "cell_type": "code",
   "execution_count": 64,
   "id": "f7a93117",
   "metadata": {},
   "outputs": [
    {
     "data": {
      "text/plain": [
       "False"
      ]
     },
     "execution_count": 64,
     "metadata": {},
     "output_type": "execute_result"
    }
   ],
   "source": [
    "15>19 and 10<15"
   ]
  },
  {
   "cell_type": "code",
   "execution_count": 65,
   "id": "4f509c4b",
   "metadata": {},
   "outputs": [
    {
     "data": {
      "text/plain": [
       "False"
      ]
     },
     "execution_count": 65,
     "metadata": {},
     "output_type": "execute_result"
    }
   ],
   "source": [
    "14>15 or 14<10"
   ]
  },
  {
   "cell_type": "code",
   "execution_count": 66,
   "id": "0538c73f",
   "metadata": {},
   "outputs": [
    {
     "data": {
      "text/plain": [
       "False"
      ]
     },
     "execution_count": 66,
     "metadata": {},
     "output_type": "execute_result"
    }
   ],
   "source": [
    "not((18>20) or (15>12))"
   ]
  },
  {
   "cell_type": "code",
   "execution_count": 67,
   "id": "646c1c9e",
   "metadata": {},
   "outputs": [
    {
     "data": {
      "text/plain": [
       "False"
      ]
     },
     "execution_count": 67,
     "metadata": {},
     "output_type": "execute_result"
    }
   ],
   "source": [
    "not((15>12) or (69<10))"
   ]
  },
  {
   "cell_type": "code",
   "execution_count": 68,
   "id": "90c64eda",
   "metadata": {},
   "outputs": [
    {
     "data": {
      "text/plain": [
       "'0b1010'"
      ]
     },
     "execution_count": 68,
     "metadata": {},
     "output_type": "execute_result"
    }
   ],
   "source": [
    "bin(10)"
   ]
  },
  {
   "cell_type": "code",
   "execution_count": 69,
   "id": "1b0a641d",
   "metadata": {},
   "outputs": [
    {
     "data": {
      "text/plain": [
       "'0b1111'"
      ]
     },
     "execution_count": 69,
     "metadata": {},
     "output_type": "execute_result"
    }
   ],
   "source": [
    "bin(15)"
   ]
  },
  {
   "cell_type": "code",
   "execution_count": 70,
   "id": "89fedc98",
   "metadata": {},
   "outputs": [
    {
     "data": {
      "text/plain": [
       "'0b11001'"
      ]
     },
     "execution_count": 70,
     "metadata": {},
     "output_type": "execute_result"
    }
   ],
   "source": [
    "bin(25)"
   ]
  },
  {
   "cell_type": "code",
   "execution_count": 71,
   "id": "e39694de",
   "metadata": {},
   "outputs": [
    {
     "data": {
      "text/plain": [
       "'0b1000101'"
      ]
     },
     "execution_count": 71,
     "metadata": {},
     "output_type": "execute_result"
    }
   ],
   "source": [
    "bin(69)"
   ]
  },
  {
   "cell_type": "code",
   "execution_count": 72,
   "id": "4a57b503",
   "metadata": {},
   "outputs": [
    {
     "data": {
      "text/plain": [
       "0"
      ]
     },
     "execution_count": 72,
     "metadata": {},
     "output_type": "execute_result"
    }
   ],
   "source": [
    "10&4"
   ]
  },
  {
   "cell_type": "code",
   "execution_count": 73,
   "id": "d9a805cb",
   "metadata": {},
   "outputs": [
    {
     "data": {
      "text/plain": [
       "14"
      ]
     },
     "execution_count": 73,
     "metadata": {},
     "output_type": "execute_result"
    }
   ],
   "source": [
    "10|4"
   ]
  },
  {
   "cell_type": "code",
   "execution_count": 74,
   "id": "1dda5608",
   "metadata": {},
   "outputs": [
    {
     "data": {
      "text/plain": [
       "14"
      ]
     },
     "execution_count": 74,
     "metadata": {},
     "output_type": "execute_result"
    }
   ],
   "source": [
    "10^4"
   ]
  },
  {
   "cell_type": "code",
   "execution_count": 75,
   "id": "789b6076",
   "metadata": {},
   "outputs": [],
   "source": [
    "l = 147"
   ]
  },
  {
   "cell_type": "code",
   "execution_count": 76,
   "id": "582cb632",
   "metadata": {},
   "outputs": [],
   "source": [
    "l = l+2"
   ]
  },
  {
   "cell_type": "code",
   "execution_count": 77,
   "id": "a763f87f",
   "metadata": {},
   "outputs": [
    {
     "name": "stdout",
     "output_type": "stream",
     "text": [
      "149\n"
     ]
    }
   ],
   "source": [
    "print(l)"
   ]
  },
  {
   "cell_type": "code",
   "execution_count": 78,
   "id": "98e1b640",
   "metadata": {},
   "outputs": [],
   "source": [
    "l+=1"
   ]
  },
  {
   "cell_type": "code",
   "execution_count": 79,
   "id": "4b67d416",
   "metadata": {},
   "outputs": [
    {
     "data": {
      "text/plain": [
       "150"
      ]
     },
     "execution_count": 79,
     "metadata": {},
     "output_type": "execute_result"
    }
   ],
   "source": [
    "l"
   ]
  },
  {
   "cell_type": "code",
   "execution_count": 80,
   "id": "82a1d6c7",
   "metadata": {},
   "outputs": [],
   "source": [
    "l-=5"
   ]
  },
  {
   "cell_type": "code",
   "execution_count": 81,
   "id": "53032fd4",
   "metadata": {},
   "outputs": [
    {
     "data": {
      "text/plain": [
       "145"
      ]
     },
     "execution_count": 81,
     "metadata": {},
     "output_type": "execute_result"
    }
   ],
   "source": [
    "l"
   ]
  },
  {
   "cell_type": "code",
   "execution_count": 82,
   "id": "c0f4d6da",
   "metadata": {},
   "outputs": [],
   "source": [
    "l*=2"
   ]
  },
  {
   "cell_type": "code",
   "execution_count": 83,
   "id": "85b48699",
   "metadata": {},
   "outputs": [
    {
     "data": {
      "text/plain": [
       "290"
      ]
     },
     "execution_count": 83,
     "metadata": {},
     "output_type": "execute_result"
    }
   ],
   "source": [
    "l"
   ]
  },
  {
   "cell_type": "code",
   "execution_count": 84,
   "id": "8cb4873e",
   "metadata": {},
   "outputs": [],
   "source": [
    "l/=29"
   ]
  },
  {
   "cell_type": "code",
   "execution_count": 85,
   "id": "cb1306b0",
   "metadata": {},
   "outputs": [
    {
     "data": {
      "text/plain": [
       "10.0"
      ]
     },
     "execution_count": 85,
     "metadata": {},
     "output_type": "execute_result"
    }
   ],
   "source": [
    "l"
   ]
  },
  {
   "cell_type": "code",
   "execution_count": 86,
   "id": "ffeba6b6",
   "metadata": {},
   "outputs": [],
   "source": [
    "l//=3"
   ]
  },
  {
   "cell_type": "code",
   "execution_count": 87,
   "id": "6632faf9",
   "metadata": {},
   "outputs": [
    {
     "data": {
      "text/plain": [
       "3.0"
      ]
     },
     "execution_count": 87,
     "metadata": {},
     "output_type": "execute_result"
    }
   ],
   "source": [
    "l"
   ]
  },
  {
   "cell_type": "code",
   "execution_count": 88,
   "id": "72cb0e7b",
   "metadata": {},
   "outputs": [
    {
     "data": {
      "text/plain": [
       "2.5"
      ]
     },
     "execution_count": 88,
     "metadata": {},
     "output_type": "execute_result"
    }
   ],
   "source": [
    "5/2"
   ]
  },
  {
   "cell_type": "code",
   "execution_count": 89,
   "id": "a0db6ffc",
   "metadata": {},
   "outputs": [
    {
     "data": {
      "text/plain": [
       "2"
      ]
     },
     "execution_count": 89,
     "metadata": {},
     "output_type": "execute_result"
    }
   ],
   "source": [
    "5//2"
   ]
  },
  {
   "cell_type": "code",
   "execution_count": 90,
   "id": "1a126c3b",
   "metadata": {},
   "outputs": [
    {
     "data": {
      "text/plain": [
       "3.0"
      ]
     },
     "execution_count": 90,
     "metadata": {},
     "output_type": "execute_result"
    }
   ],
   "source": [
    "l"
   ]
  },
  {
   "cell_type": "code",
   "execution_count": 91,
   "id": "2c6c24f6",
   "metadata": {},
   "outputs": [],
   "source": [
    "l%=2"
   ]
  },
  {
   "cell_type": "code",
   "execution_count": 92,
   "id": "a06bd50c",
   "metadata": {},
   "outputs": [
    {
     "data": {
      "text/plain": [
       "1.0"
      ]
     },
     "execution_count": 92,
     "metadata": {},
     "output_type": "execute_result"
    }
   ],
   "source": [
    "l"
   ]
  },
  {
   "cell_type": "markdown",
   "id": "40b72ce4",
   "metadata": {},
   "source": [
    "# multiple assignment"
   ]
  },
  {
   "cell_type": "code",
   "execution_count": 93,
   "id": "9dca5194",
   "metadata": {},
   "outputs": [],
   "source": [
    "a,b,c = \"data science\", \"ml\", 23.25"
   ]
  },
  {
   "cell_type": "code",
   "execution_count": 94,
   "id": "ca775b34",
   "metadata": {},
   "outputs": [
    {
     "name": "stdout",
     "output_type": "stream",
     "text": [
      "data science ml 23.25\n"
     ]
    }
   ],
   "source": [
    "print(a,b,c)"
   ]
  },
  {
   "cell_type": "code",
   "execution_count": 95,
   "id": "d3050869",
   "metadata": {},
   "outputs": [],
   "source": [
    "a=b=c=15"
   ]
  },
  {
   "cell_type": "code",
   "execution_count": 96,
   "id": "ceeb06b7",
   "metadata": {},
   "outputs": [
    {
     "name": "stdout",
     "output_type": "stream",
     "text": [
      "15 15 15\n"
     ]
    }
   ],
   "source": [
    "print(a,b,c)"
   ]
  },
  {
   "cell_type": "code",
   "execution_count": 97,
   "id": "111187c5",
   "metadata": {},
   "outputs": [],
   "source": [
    "my_str = \"Good morning\""
   ]
  },
  {
   "cell_type": "code",
   "execution_count": 98,
   "id": "07893aa8",
   "metadata": {},
   "outputs": [
    {
     "data": {
      "text/plain": [
       "True"
      ]
     },
     "execution_count": 98,
     "metadata": {},
     "output_type": "execute_result"
    }
   ],
   "source": [
    "\"Good\" in my_str"
   ]
  },
  {
   "cell_type": "code",
   "execution_count": 99,
   "id": "9601af58",
   "metadata": {},
   "outputs": [
    {
     "data": {
      "text/plain": [
       "True"
      ]
     },
     "execution_count": 99,
     "metadata": {},
     "output_type": "execute_result"
    }
   ],
   "source": [
    "\"o\" in my_str"
   ]
  },
  {
   "cell_type": "code",
   "execution_count": 100,
   "id": "9cfbe226",
   "metadata": {},
   "outputs": [
    {
     "data": {
      "text/plain": [
       "False"
      ]
     },
     "execution_count": 100,
     "metadata": {},
     "output_type": "execute_result"
    }
   ],
   "source": [
    "\"z\" in my_str"
   ]
  },
  {
   "cell_type": "code",
   "execution_count": 101,
   "id": "77253f76",
   "metadata": {},
   "outputs": [
    {
     "data": {
      "text/plain": [
       "True"
      ]
     },
     "execution_count": 101,
     "metadata": {},
     "output_type": "execute_result"
    }
   ],
   "source": [
    "\"k\"  not in my_str"
   ]
  },
  {
   "cell_type": "code",
   "execution_count": 102,
   "id": "d95363ad",
   "metadata": {},
   "outputs": [],
   "source": [
    "n1 = 1000\n",
    "n2 = 1000"
   ]
  },
  {
   "cell_type": "code",
   "execution_count": 103,
   "id": "87da28c1",
   "metadata": {},
   "outputs": [
    {
     "data": {
      "text/plain": [
       "True"
      ]
     },
     "execution_count": 103,
     "metadata": {},
     "output_type": "execute_result"
    }
   ],
   "source": [
    "n1==n2"
   ]
  },
  {
   "cell_type": "code",
   "execution_count": 104,
   "id": "82a7377d",
   "metadata": {},
   "outputs": [
    {
     "data": {
      "text/plain": [
       "False"
      ]
     },
     "execution_count": 104,
     "metadata": {},
     "output_type": "execute_result"
    }
   ],
   "source": [
    "n1 is n2"
   ]
  },
  {
   "cell_type": "code",
   "execution_count": 105,
   "id": "165b00e0",
   "metadata": {},
   "outputs": [
    {
     "data": {
      "text/plain": [
       "True"
      ]
     },
     "execution_count": 105,
     "metadata": {},
     "output_type": "execute_result"
    }
   ],
   "source": [
    "n1 is not n2"
   ]
  },
  {
   "cell_type": "code",
   "execution_count": 106,
   "id": "e65ee7eb",
   "metadata": {},
   "outputs": [
    {
     "data": {
      "text/plain": [
       "2778911833616"
      ]
     },
     "execution_count": 106,
     "metadata": {},
     "output_type": "execute_result"
    }
   ],
   "source": [
    "id(n1)"
   ]
  },
  {
   "cell_type": "code",
   "execution_count": 107,
   "id": "987d70f7",
   "metadata": {},
   "outputs": [
    {
     "data": {
      "text/plain": [
       "2778911833008"
      ]
     },
     "execution_count": 107,
     "metadata": {},
     "output_type": "execute_result"
    }
   ],
   "source": [
    "id(n2)"
   ]
  },
  {
   "cell_type": "markdown",
   "id": "7431dc4f",
   "metadata": {},
   "source": [
    "# Control Flow"
   ]
  },
  {
   "cell_type": "code",
   "execution_count": 114,
   "id": "c344d5dd",
   "metadata": {},
   "outputs": [
    {
     "name": "stdout",
     "output_type": "stream",
     "text": [
      "grow up kid\n"
     ]
    }
   ],
   "source": [
    "age = 14\n",
    "\n",
    "if(age>=18):\n",
    "    print(\"you are eligible to vote\")\n",
    "else:\n",
    "    print(\"grow up kid\")"
   ]
  },
  {
   "cell_type": "code",
   "execution_count": 115,
   "id": "b17cc2cb",
   "metadata": {},
   "outputs": [
    {
     "name": "stdout",
     "output_type": "stream",
     "text": [
      "Enter you income12000\n",
      "you can submit tex\n",
      "its your responsiblity\n"
     ]
    }
   ],
   "source": [
    "income = int(input(\"Enter you income\"))\n",
    "\n",
    "if income>10000:\n",
    "    print(\"you can submit tex\")\n",
    "    print(\"its your responsiblity\")\n",
    "else:\n",
    "    print(\"earn more\")\n",
    "    print(\"earn as fast as you can\")\n"
   ]
  },
  {
   "cell_type": "code",
   "execution_count": 116,
   "id": "a121c6e3",
   "metadata": {},
   "outputs": [
    {
     "ename": "NameError",
     "evalue": "name 'n' is not defined",
     "output_type": "error",
     "traceback": [
      "\u001b[1;31m---------------------------------------------------------------------------\u001b[0m",
      "\u001b[1;31mNameError\u001b[0m                                 Traceback (most recent call last)",
      "\u001b[1;32m<ipython-input-116-3615ea738f6c>\u001b[0m in \u001b[0;36m<module>\u001b[1;34m\u001b[0m\n\u001b[0;32m      3\u001b[0m \u001b[1;32mif\u001b[0m \u001b[0mnum\u001b[0m\u001b[1;33m>\u001b[0m\u001b[1;36m0\u001b[0m\u001b[1;33m:\u001b[0m\u001b[1;33m\u001b[0m\u001b[1;33m\u001b[0m\u001b[0m\n\u001b[0;32m      4\u001b[0m     \u001b[0mprint\u001b[0m\u001b[1;33m(\u001b[0m\u001b[1;34m\"positive number\"\u001b[0m\u001b[1;33m)\u001b[0m\u001b[1;33m\u001b[0m\u001b[1;33m\u001b[0m\u001b[0m\n\u001b[1;32m----> 5\u001b[1;33m \u001b[1;32melif\u001b[0m \u001b[0mn\u001b[0m\u001b[1;33m:\u001b[0m\u001b[1;33m\u001b[0m\u001b[1;33m\u001b[0m\u001b[0m\n\u001b[0m\u001b[0;32m      6\u001b[0m     \u001b[0mprint\u001b[0m\u001b[1;33m(\u001b[0m\u001b[1;34m\"um==0zero\"\u001b[0m\u001b[1;33m)\u001b[0m\u001b[1;33m\u001b[0m\u001b[1;33m\u001b[0m\u001b[0m\n\u001b[0;32m      7\u001b[0m \u001b[1;32melse\u001b[0m\u001b[1;33m:\u001b[0m\u001b[1;33m\u001b[0m\u001b[1;33m\u001b[0m\u001b[0m\n",
      "\u001b[1;31mNameError\u001b[0m: name 'n' is not defined"
     ]
    }
   ],
   "source": [
    "num = -2\n",
    "\n",
    "if num>0:\n",
    "    print(\"positive number\")\n",
    "elif n:\n",
    "    print(\"um==0zero\")\n",
    "else:\n",
    "    print(\"negative number\")"
   ]
  },
  {
   "cell_type": "code",
   "execution_count": 117,
   "id": "3b3b2b71",
   "metadata": {},
   "outputs": [
    {
     "name": "stdout",
     "output_type": "stream",
     "text": [
      "Enter your income12000\n",
      "earn more\n"
     ]
    }
   ],
   "source": [
    "income = int(input(\"Enter your income\"))\n",
    "\n",
    "if income>=15000:\n",
    "    if 15000<income<25000:\n",
    "        print(\"submit tax\")\n",
    "    else:\n",
    "        print(\"black money\")\n",
    "else:\n",
    "    print(\"earn more\")"
   ]
  },
  {
   "cell_type": "code",
   "execution_count": 118,
   "id": "296c2fcb",
   "metadata": {},
   "outputs": [
    {
     "name": "stdout",
     "output_type": "stream",
     "text": [
      "the greatest number among three is 1000\n"
     ]
    }
   ],
   "source": [
    "num1 = 1000\n",
    "num2 = 200\n",
    "num3 = 30\n",
    "\n",
    "if num1>num2 and num1>num3:\n",
    "    largest = num1\n",
    "elif num2>num1 and num2>num3:\n",
    "    largest = num2\n",
    "else:\n",
    "    largest = num3\n",
    "    \n",
    "print(\"the greatest number among three is {}\".format(largest))"
   ]
  },
  {
   "cell_type": "code",
   "execution_count": 119,
   "id": "de7ae39f",
   "metadata": {},
   "outputs": [
    {
     "name": "stdout",
     "output_type": "stream",
     "text": [
      "2,4,6,8,10,12,14,16,18,20,"
     ]
    }
   ],
   "source": [
    "i = 1\n",
    "\n",
    "while i<=20:\n",
    "    if i%2==0:\n",
    "        print(i, end = \",\")\n",
    "    i+=1"
   ]
  },
  {
   "cell_type": "code",
   "execution_count": 120,
   "id": "1fa97787",
   "metadata": {},
   "outputs": [
    {
     "data": {
      "text/plain": [
       "[2, 4, 6, 8, 10, 12, 14, 16, 18]"
      ]
     },
     "execution_count": 120,
     "metadata": {},
     "output_type": "execute_result"
    }
   ],
   "source": [
    "list(range(2,20,2))"
   ]
  },
  {
   "cell_type": "code",
   "execution_count": 121,
   "id": "cd94af98",
   "metadata": {},
   "outputs": [
    {
     "name": "stdout",
     "output_type": "stream",
     "text": [
      "2, 4, 6, 8, 10, 12, 14, 16, 18, 20, "
     ]
    }
   ],
   "source": [
    "for i in range(2,21):\n",
    "    if i%2==0:\n",
    "        print(i, end = \", \")"
   ]
  },
  {
   "cell_type": "code",
   "execution_count": 122,
   "id": "b9600fda",
   "metadata": {},
   "outputs": [
    {
     "name": "stdout",
     "output_type": "stream",
     "text": [
      "2 4 6 8 10 12 14 16 18 20 "
     ]
    }
   ],
   "source": [
    "for i in range(2,21,2):\n",
    "    print(i, end = \" \")"
   ]
  },
  {
   "cell_type": "code",
   "execution_count": 123,
   "id": "b7d4fcf5",
   "metadata": {},
   "outputs": [
    {
     "name": "stdout",
     "output_type": "stream",
     "text": [
      "1 3 5 7 9 11 13 15 17 19 \n",
      "no element left\n"
     ]
    }
   ],
   "source": [
    "for i in range(1,21):\n",
    "    if i%2!=0:\n",
    "        print(i, end = \" \")\n",
    "else:\n",
    "    print()\n",
    "    print(\"no element left\")"
   ]
  },
  {
   "cell_type": "code",
   "execution_count": 124,
   "id": "65dd472e",
   "metadata": {},
   "outputs": [
    {
     "name": "stdout",
     "output_type": "stream",
     "text": [
      "11 x 1 = 11\n",
      "11 x 2 = 22\n",
      "11 x 3 = 33\n",
      "11 x 4 = 44\n",
      "11 x 5 = 55\n",
      "11 x 6 = 66\n",
      "11 x 7 = 77\n",
      "11 x 8 = 88\n",
      "11 x 9 = 99\n",
      "11 x 10 = 110\n",
      "\n",
      "no element left\n"
     ]
    }
   ],
   "source": [
    "n = 11\n",
    "\n",
    "for i in range(1,11):\n",
    "    print(\"{} x {} = {}\".format(n,i,n*i))\n",
    "else:\n",
    "    print()\n",
    "    print(\"no element left\")"
   ]
  },
  {
   "cell_type": "code",
   "execution_count": 125,
   "id": "68cb2614",
   "metadata": {},
   "outputs": [
    {
     "name": "stdout",
     "output_type": "stream",
     "text": [
      "*\n",
      "**\n",
      "***\n",
      "****\n",
      "*****\n"
     ]
    }
   ],
   "source": [
    "n= 5\n",
    "\n",
    "for i in range(1,n+1):\n",
    "    for j in range(1,i+1):\n",
    "        print(\"*\", end = \"\")\n",
    "    print()"
   ]
  },
  {
   "cell_type": "code",
   "execution_count": 126,
   "id": "43922ef0",
   "metadata": {},
   "outputs": [
    {
     "data": {
      "text/plain": [
       "'hellohellohello'"
      ]
     },
     "execution_count": 126,
     "metadata": {},
     "output_type": "execute_result"
    }
   ],
   "source": [
    "\"hello\"*3\n"
   ]
  },
  {
   "cell_type": "code",
   "execution_count": 127,
   "id": "d93c02c5",
   "metadata": {},
   "outputs": [
    {
     "name": "stdout",
     "output_type": "stream",
     "text": [
      "*\n",
      "**\n",
      "***\n",
      "****\n",
      "*****\n",
      "******\n",
      "*******\n",
      "********\n",
      "*********\n",
      "**********\n"
     ]
    }
   ],
   "source": [
    "for i in range(1,11):\n",
    "    print(\"*\" * i )"
   ]
  },
  {
   "cell_type": "code",
   "execution_count": 128,
   "id": "cf3fcc02",
   "metadata": {},
   "outputs": [
    {
     "name": "stdout",
     "output_type": "stream",
     "text": [
      "*****\n",
      "****\n",
      "***\n",
      "**\n",
      "*\n"
     ]
    }
   ],
   "source": [
    "t = [5,4,3,2,1]\n",
    "for i in t:\n",
    "    print(\"*\"*i)\n",
    "    "
   ]
  },
  {
   "cell_type": "code",
   "execution_count": 129,
   "id": "14ab771a",
   "metadata": {},
   "outputs": [
    {
     "name": "stdout",
     "output_type": "stream",
     "text": [
      "the sum of first 5 numbers are 15\n"
     ]
    }
   ],
   "source": [
    "n = 5\n",
    "s = 0\n",
    "for i in range(1,n+1):\n",
    "    s+=i\n",
    "print(\"the sum of first {} numbers are {}\".format(n,s))"
   ]
  },
  {
   "cell_type": "code",
   "execution_count": 130,
   "id": "5e47bbf8",
   "metadata": {},
   "outputs": [
    {
     "name": "stdout",
     "output_type": "stream",
     "text": [
      "the given number 19 is prime\n"
     ]
    }
   ],
   "source": [
    "n = 19\n",
    "num_prime = True\n",
    "\n",
    "for i in range(2,n):\n",
    "    if n%i==0:\n",
    "        num_prime = False\n",
    "if(num_prime):\n",
    "    print(\"the given number {} is prime\".format(n))\n",
    "else:\n",
    "    print(\"the given number {} is not prime\".format(n))"
   ]
  },
  {
   "cell_type": "code",
   "execution_count": 131,
   "id": "26e399c7",
   "metadata": {},
   "outputs": [
    {
     "name": "stdout",
     "output_type": "stream",
     "text": [
      "2\n",
      "3\n",
      "4\n",
      "5\n",
      "6\n",
      "7\n",
      "8\n",
      "9\n"
     ]
    }
   ],
   "source": [
    "for i in range(2,21):\n",
    "    if i==10:\n",
    "        break\n",
    "    print(i)\n",
    "else:\n",
    "    print(\"no elements left\")\n",
    "        "
   ]
  },
  {
   "cell_type": "code",
   "execution_count": 132,
   "id": "fda82377",
   "metadata": {},
   "outputs": [
    {
     "name": "stdout",
     "output_type": "stream",
     "text": [
      "2\n",
      "3\n",
      "4\n",
      "5\n",
      "6\n",
      "7\n",
      "8\n",
      "9\n",
      "11\n",
      "12\n",
      "13\n",
      "14\n",
      "15\n",
      "16\n",
      "17\n",
      "18\n",
      "19\n",
      "20\n",
      "no elements left\n"
     ]
    }
   ],
   "source": [
    "for i in range(2,21):\n",
    "    if i==10:\n",
    "        continue\n",
    "    print(i)\n",
    "else:\n",
    "    print(\"no elements left\")"
   ]
  },
  {
   "cell_type": "code",
   "execution_count": 133,
   "id": "4d076dd5",
   "metadata": {},
   "outputs": [],
   "source": [
    "for i in range(2,21):\n",
    "    pass"
   ]
  },
  {
   "cell_type": "markdown",
   "id": "f153c64a",
   "metadata": {},
   "source": [
    "# Python Fundamentals\n",
    "- Python basics\n",
    "- Operators and Expresstions\n",
    "- Control Flow"
   ]
  },
  {
   "cell_type": "markdown",
   "id": "2bca7eb1",
   "metadata": {},
   "source": [
    "## Python Basics"
   ]
  },
  {
   "cell_type": "code",
   "execution_count": 134,
   "id": "a6bb5389",
   "metadata": {},
   "outputs": [
    {
     "name": "stdout",
     "output_type": "stream",
     "text": [
      "Hello world\n"
     ]
    }
   ],
   "source": [
    "print('Hello world')"
   ]
  },
  {
   "cell_type": "code",
   "execution_count": 135,
   "id": "23a0e356",
   "metadata": {},
   "outputs": [
    {
     "name": "stdout",
     "output_type": "stream",
     "text": [
      "Hello students\n"
     ]
    }
   ],
   "source": [
    "print('Hello students')"
   ]
  },
  {
   "cell_type": "code",
   "execution_count": 136,
   "id": "a10c649e",
   "metadata": {},
   "outputs": [
    {
     "name": "stdout",
     "output_type": "stream",
     "text": [
      "Python is Fun\n"
     ]
    }
   ],
   "source": [
    "print(\"Python is Fun\")"
   ]
  },
  {
   "cell_type": "code",
   "execution_count": 137,
   "id": "a5c4d43f",
   "metadata": {},
   "outputs": [
    {
     "name": "stdout",
     "output_type": "stream",
     "text": [
      "Data science ML 100 cv\n"
     ]
    }
   ],
   "source": [
    "print(\"Data science\", \"ML\", 100, \"cv\")"
   ]
  },
  {
   "cell_type": "code",
   "execution_count": 138,
   "id": "2d635bc5",
   "metadata": {},
   "outputs": [],
   "source": [
    "abc = 80"
   ]
  },
  {
   "cell_type": "code",
   "execution_count": 139,
   "id": "7795a62f",
   "metadata": {},
   "outputs": [],
   "source": [
    "i = 56"
   ]
  },
  {
   "cell_type": "code",
   "execution_count": 140,
   "id": "56fa0c33",
   "metadata": {},
   "outputs": [],
   "source": [
    "k = \"Python is very intersting\""
   ]
  },
  {
   "cell_type": "code",
   "execution_count": 141,
   "id": "8a1a68cf",
   "metadata": {},
   "outputs": [
    {
     "name": "stdout",
     "output_type": "stream",
     "text": [
      "80\n"
     ]
    }
   ],
   "source": [
    "print(abc)"
   ]
  },
  {
   "cell_type": "code",
   "execution_count": 142,
   "id": "5725b1ba",
   "metadata": {},
   "outputs": [
    {
     "name": "stdout",
     "output_type": "stream",
     "text": [
      "56\n"
     ]
    }
   ],
   "source": [
    "print(i)"
   ]
  },
  {
   "cell_type": "code",
   "execution_count": 143,
   "id": "3b87d893",
   "metadata": {},
   "outputs": [
    {
     "name": "stdout",
     "output_type": "stream",
     "text": [
      "Python is very intersting\n"
     ]
    }
   ],
   "source": [
    "print(k)"
   ]
  },
  {
   "cell_type": "code",
   "execution_count": 144,
   "id": "ecf52bff",
   "metadata": {},
   "outputs": [
    {
     "data": {
      "text/plain": [
       "str"
      ]
     },
     "execution_count": 144,
     "metadata": {},
     "output_type": "execute_result"
    }
   ],
   "source": [
    "type(k)"
   ]
  },
  {
   "cell_type": "code",
   "execution_count": 179,
   "id": "0f1980a9",
   "metadata": {},
   "outputs": [
    {
     "data": {
      "text/plain": [
       "int"
      ]
     },
     "execution_count": 179,
     "metadata": {},
     "output_type": "execute_result"
    }
   ],
   "source": [
    "type(i)"
   ]
  },
  {
   "cell_type": "code",
   "execution_count": 180,
   "id": "64bf42af",
   "metadata": {},
   "outputs": [
    {
     "data": {
      "text/plain": [
       "int"
      ]
     },
     "execution_count": 180,
     "metadata": {},
     "output_type": "execute_result"
    }
   ],
   "source": [
    "type(abc)"
   ]
  },
  {
   "cell_type": "code",
   "execution_count": 181,
   "id": "00c4e4a1",
   "metadata": {},
   "outputs": [
    {
     "ename": "SyntaxError",
     "evalue": "invalid syntax (<ipython-input-181-7c51a5bf4cc0>, line 1)",
     "output_type": "error",
     "traceback": [
      "\u001b[1;36m  File \u001b[1;32m\"<ipython-input-181-7c51a5bf4cc0>\"\u001b[1;36m, line \u001b[1;32m1\u001b[0m\n\u001b[1;33m    1abc = 58\u001b[0m\n\u001b[1;37m     ^\u001b[0m\n\u001b[1;31mSyntaxError\u001b[0m\u001b[1;31m:\u001b[0m invalid syntax\n"
     ]
    }
   ],
   "source": [
    "1abc = 58"
   ]
  },
  {
   "cell_type": "code",
   "execution_count": 182,
   "id": "2407e394",
   "metadata": {},
   "outputs": [],
   "source": [
    "abc1 = 58"
   ]
  },
  {
   "cell_type": "code",
   "execution_count": 183,
   "id": "8da3362d",
   "metadata": {},
   "outputs": [
    {
     "name": "stdout",
     "output_type": "stream",
     "text": [
      "58\n"
     ]
    }
   ],
   "source": [
    "print(abc1)"
   ]
  },
  {
   "cell_type": "code",
   "execution_count": 184,
   "id": "5de08656",
   "metadata": {},
   "outputs": [
    {
     "data": {
      "text/plain": [
       "int"
      ]
     },
     "execution_count": 184,
     "metadata": {},
     "output_type": "execute_result"
    }
   ],
   "source": [
    "type(abc1)"
   ]
  },
  {
   "cell_type": "code",
   "execution_count": 185,
   "id": "592b7da9",
   "metadata": {},
   "outputs": [
    {
     "data": {
      "text/plain": [
       "140717581282896"
      ]
     },
     "execution_count": 185,
     "metadata": {},
     "output_type": "execute_result"
    }
   ],
   "source": [
    "id(abc1)"
   ]
  },
  {
   "cell_type": "code",
   "execution_count": 186,
   "id": "7d189aa2",
   "metadata": {},
   "outputs": [
    {
     "data": {
      "text/plain": [
       "140717581282832"
      ]
     },
     "execution_count": 186,
     "metadata": {},
     "output_type": "execute_result"
    }
   ],
   "source": [
    "id(i)"
   ]
  },
  {
   "cell_type": "code",
   "execution_count": 187,
   "id": "b0e1da4a",
   "metadata": {},
   "outputs": [
    {
     "data": {
      "text/plain": [
       "2778912783136"
      ]
     },
     "execution_count": 187,
     "metadata": {},
     "output_type": "execute_result"
    }
   ],
   "source": [
    "id(k)"
   ]
  },
  {
   "cell_type": "code",
   "execution_count": 188,
   "id": "2d668212",
   "metadata": {},
   "outputs": [],
   "source": [
    "s = \"i am learning Data science\""
   ]
  },
  {
   "cell_type": "code",
   "execution_count": 189,
   "id": "a980f270",
   "metadata": {},
   "outputs": [
    {
     "data": {
      "text/plain": [
       "2778912619856"
      ]
     },
     "execution_count": 189,
     "metadata": {},
     "output_type": "execute_result"
    }
   ],
   "source": [
    "id(s)"
   ]
  },
  {
   "cell_type": "code",
   "execution_count": 190,
   "id": "7adcdea3",
   "metadata": {},
   "outputs": [
    {
     "data": {
      "text/plain": [
       "'i am learning Data science'"
      ]
     },
     "execution_count": 190,
     "metadata": {},
     "output_type": "execute_result"
    }
   ],
   "source": [
    "s"
   ]
  },
  {
   "cell_type": "code",
   "execution_count": 191,
   "id": "a97ef8f9",
   "metadata": {},
   "outputs": [
    {
     "data": {
      "text/plain": [
       "str"
      ]
     },
     "execution_count": 191,
     "metadata": {},
     "output_type": "execute_result"
    }
   ],
   "source": [
    "type(s)"
   ]
  },
  {
   "cell_type": "code",
   "execution_count": 192,
   "id": "c7e4408d",
   "metadata": {},
   "outputs": [],
   "source": [
    "s = 258"
   ]
  },
  {
   "cell_type": "code",
   "execution_count": 193,
   "id": "069167e4",
   "metadata": {},
   "outputs": [
    {
     "data": {
      "text/plain": [
       "258"
      ]
     },
     "execution_count": 193,
     "metadata": {},
     "output_type": "execute_result"
    }
   ],
   "source": [
    "s"
   ]
  },
  {
   "cell_type": "code",
   "execution_count": 194,
   "id": "3edffe44",
   "metadata": {},
   "outputs": [
    {
     "data": {
      "text/plain": [
       "int"
      ]
     },
     "execution_count": 194,
     "metadata": {},
     "output_type": "execute_result"
    }
   ],
   "source": [
    "type(s)"
   ]
  },
  {
   "cell_type": "code",
   "execution_count": 195,
   "id": "bf3884dc",
   "metadata": {},
   "outputs": [
    {
     "data": {
      "text/plain": [
       "2778911431568"
      ]
     },
     "execution_count": 195,
     "metadata": {},
     "output_type": "execute_result"
    }
   ],
   "source": [
    "id(s)"
   ]
  },
  {
   "cell_type": "markdown",
   "id": "f7c7b283",
   "metadata": {},
   "source": [
    "# Data types\n",
    "- int\n",
    "- string\n",
    "- float\n",
    "- complex\n",
    "- Boolean\n",
    "- None"
   ]
  },
  {
   "cell_type": "code",
   "execution_count": 196,
   "id": "399e0161",
   "metadata": {},
   "outputs": [],
   "source": [
    "my_num = 55"
   ]
  },
  {
   "cell_type": "code",
   "execution_count": 197,
   "id": "18a55117",
   "metadata": {},
   "outputs": [
    {
     "data": {
      "text/plain": [
       "int"
      ]
     },
     "execution_count": 197,
     "metadata": {},
     "output_type": "execute_result"
    }
   ],
   "source": [
    "type(my_num)"
   ]
  },
  {
   "cell_type": "code",
   "execution_count": 198,
   "id": "50e09272",
   "metadata": {},
   "outputs": [
    {
     "name": "stdout",
     "output_type": "stream",
     "text": [
      "55\n"
     ]
    }
   ],
   "source": [
    "print(my_num)"
   ]
  },
  {
   "cell_type": "code",
   "execution_count": 199,
   "id": "72f19573",
   "metadata": {},
   "outputs": [
    {
     "data": {
      "text/plain": [
       "140717581282800"
      ]
     },
     "execution_count": 199,
     "metadata": {},
     "output_type": "execute_result"
    }
   ],
   "source": [
    "id(my_num)"
   ]
  },
  {
   "cell_type": "code",
   "execution_count": 200,
   "id": "9cd945fb",
   "metadata": {},
   "outputs": [
    {
     "name": "stdout",
     "output_type": "stream",
     "text": [
      "Data science is very easy\n"
     ]
    },
    {
     "data": {
      "text/plain": [
       "2778912751824"
      ]
     },
     "execution_count": 200,
     "metadata": {},
     "output_type": "execute_result"
    }
   ],
   "source": [
    "my_str = \"Data science is very easy\"\n",
    "\n",
    "print(my_str)\n",
    "type(my_str)\n",
    "id(my_str)"
   ]
  },
  {
   "cell_type": "code",
   "execution_count": 201,
   "id": "114da4cd",
   "metadata": {},
   "outputs": [
    {
     "data": {
      "text/plain": [
       "str"
      ]
     },
     "execution_count": 201,
     "metadata": {},
     "output_type": "execute_result"
    }
   ],
   "source": [
    "type(my_str)"
   ]
  },
  {
   "cell_type": "code",
   "execution_count": 202,
   "id": "19c5f85f",
   "metadata": {},
   "outputs": [
    {
     "name": "stdout",
     "output_type": "stream",
     "text": [
      "58.36\n"
     ]
    },
    {
     "data": {
      "text/plain": [
       "float"
      ]
     },
     "execution_count": 202,
     "metadata": {},
     "output_type": "execute_result"
    }
   ],
   "source": [
    "my_f = 58.36\n",
    "\n",
    "print(my_f)\n",
    "type(my_f)"
   ]
  },
  {
   "cell_type": "code",
   "execution_count": 203,
   "id": "dca02b1d",
   "metadata": {},
   "outputs": [
    {
     "name": "stdout",
     "output_type": "stream",
     "text": [
      "True\n"
     ]
    },
    {
     "data": {
      "text/plain": [
       "bool"
      ]
     },
     "execution_count": 203,
     "metadata": {},
     "output_type": "execute_result"
    }
   ],
   "source": [
    "my_b = True # False\n",
    "\n",
    "print(my_b)\n",
    "type(my_b)"
   ]
  },
  {
   "cell_type": "code",
   "execution_count": 204,
   "id": "0670ee8c",
   "metadata": {},
   "outputs": [
    {
     "name": "stdout",
     "output_type": "stream",
     "text": [
      "(5+6j)\n"
     ]
    },
    {
     "data": {
      "text/plain": [
       "complex"
      ]
     },
     "execution_count": 204,
     "metadata": {},
     "output_type": "execute_result"
    }
   ],
   "source": [
    "my_c = 5+6j\n",
    "print(my_c)\n",
    "type(my_c)"
   ]
  },
  {
   "cell_type": "code",
   "execution_count": 205,
   "id": "b4459285",
   "metadata": {},
   "outputs": [
    {
     "name": "stdout",
     "output_type": "stream",
     "text": [
      "None\n"
     ]
    },
    {
     "data": {
      "text/plain": [
       "NoneType"
      ]
     },
     "execution_count": 205,
     "metadata": {},
     "output_type": "execute_result"
    }
   ],
   "source": [
    "my_n = None\n",
    "print(my_n)\n",
    "type(my_n)"
   ]
  },
  {
   "cell_type": "code",
   "execution_count": 206,
   "id": "0bbafc2e",
   "metadata": {},
   "outputs": [
    {
     "data": {
      "text/plain": [
       "140717581047936"
      ]
     },
     "execution_count": 206,
     "metadata": {},
     "output_type": "execute_result"
    }
   ],
   "source": [
    "id(my_n)"
   ]
  },
  {
   "cell_type": "code",
   "execution_count": 214,
   "id": "52a7831c",
   "metadata": {},
   "outputs": [
    {
     "name": "stdout",
     "output_type": "stream",
     "text": [
      "Enter your name : sanjay kumar\n"
     ]
    }
   ],
   "source": [
    "name = input(\"Enter your name : \")"
   ]
  },
  {
   "cell_type": "code",
   "execution_count": 215,
   "id": "2ff055e1",
   "metadata": {},
   "outputs": [
    {
     "name": "stdout",
     "output_type": "stream",
     "text": [
      "sanjay kumar\n"
     ]
    }
   ],
   "source": [
    "print(name)"
   ]
  },
  {
   "cell_type": "code",
   "execution_count": 216,
   "id": "0732b527",
   "metadata": {},
   "outputs": [
    {
     "data": {
      "text/plain": [
       "2778912839856"
      ]
     },
     "execution_count": 216,
     "metadata": {},
     "output_type": "execute_result"
    }
   ],
   "source": [
    "id(name)"
   ]
  },
  {
   "cell_type": "code",
   "execution_count": 217,
   "id": "2ad0eda0",
   "metadata": {},
   "outputs": [
    {
     "data": {
      "text/plain": [
       "str"
      ]
     },
     "execution_count": 217,
     "metadata": {},
     "output_type": "execute_result"
    }
   ],
   "source": [
    "type(name)"
   ]
  },
  {
   "cell_type": "code",
   "execution_count": 218,
   "id": "9ef699b8",
   "metadata": {},
   "outputs": [],
   "source": [
    "num = \"8\""
   ]
  },
  {
   "cell_type": "code",
   "execution_count": 219,
   "id": "c5560867",
   "metadata": {},
   "outputs": [
    {
     "data": {
      "text/plain": [
       "str"
      ]
     },
     "execution_count": 219,
     "metadata": {},
     "output_type": "execute_result"
    }
   ],
   "source": [
    "type(num)"
   ]
  },
  {
   "cell_type": "code",
   "execution_count": 220,
   "id": "6a2be893",
   "metadata": {},
   "outputs": [
    {
     "data": {
      "text/plain": [
       "8"
      ]
     },
     "execution_count": 220,
     "metadata": {},
     "output_type": "execute_result"
    }
   ],
   "source": [
    "int(num)"
   ]
  },
  {
   "cell_type": "code",
   "execution_count": 221,
   "id": "a0173a88",
   "metadata": {},
   "outputs": [
    {
     "data": {
      "text/plain": [
       "8.0"
      ]
     },
     "execution_count": 221,
     "metadata": {},
     "output_type": "execute_result"
    }
   ],
   "source": [
    "float(num)"
   ]
  },
  {
   "cell_type": "code",
   "execution_count": 222,
   "id": "889fddff",
   "metadata": {},
   "outputs": [
    {
     "data": {
      "text/plain": [
       "(8+0j)"
      ]
     },
     "execution_count": 222,
     "metadata": {},
     "output_type": "execute_result"
    }
   ],
   "source": [
    "complex(num)"
   ]
  },
  {
   "cell_type": "code",
   "execution_count": 223,
   "id": "0ec51887",
   "metadata": {},
   "outputs": [
    {
     "data": {
      "text/plain": [
       "True"
      ]
     },
     "execution_count": 223,
     "metadata": {},
     "output_type": "execute_result"
    }
   ],
   "source": [
    "bool(num)"
   ]
  },
  {
   "cell_type": "code",
   "execution_count": 228,
   "id": "3a95bd1a",
   "metadata": {},
   "outputs": [
    {
     "name": "stdout",
     "output_type": "stream",
     "text": [
      "mention your age : 28\n"
     ]
    }
   ],
   "source": [
    "age = int(input(\"mention your age : \"))"
   ]
  },
  {
   "cell_type": "code",
   "execution_count": 229,
   "id": "317fc3bf",
   "metadata": {},
   "outputs": [
    {
     "data": {
      "text/plain": [
       "int"
      ]
     },
     "execution_count": 229,
     "metadata": {},
     "output_type": "execute_result"
    }
   ],
   "source": [
    "type(age)"
   ]
  },
  {
   "cell_type": "code",
   "execution_count": 230,
   "id": "5ce2de82",
   "metadata": {},
   "outputs": [],
   "source": [
    "num = 8 # single line statement"
   ]
  },
  {
   "cell_type": "code",
   "execution_count": 231,
   "id": "882f21a6",
   "metadata": {},
   "outputs": [
    {
     "data": {
      "text/plain": [
       "8"
      ]
     },
     "execution_count": 231,
     "metadata": {},
     "output_type": "execute_result"
    }
   ],
   "source": [
    "num"
   ]
  },
  {
   "cell_type": "code",
   "execution_count": 232,
   "id": "d86c7b9d",
   "metadata": {},
   "outputs": [],
   "source": [
    "s = 1+2+3+\\\n",
    "    4+5+6+\\\n",
    "    7+8+9\n",
    "    "
   ]
  },
  {
   "cell_type": "code",
   "execution_count": 233,
   "id": "1c30d9a2",
   "metadata": {},
   "outputs": [
    {
     "data": {
      "text/plain": [
       "45"
      ]
     },
     "execution_count": 233,
     "metadata": {},
     "output_type": "execute_result"
    }
   ],
   "source": [
    "s"
   ]
  },
  {
   "cell_type": "code",
   "execution_count": 234,
   "id": "3c8f9ce1",
   "metadata": {},
   "outputs": [],
   "source": [
    "s = (1+2+3+\n",
    "    4+5+6+\n",
    "    7+8+9)"
   ]
  },
  {
   "cell_type": "code",
   "execution_count": 235,
   "id": "ab88ea9f",
   "metadata": {},
   "outputs": [
    {
     "data": {
      "text/plain": [
       "45"
      ]
     },
     "execution_count": 235,
     "metadata": {},
     "output_type": "execute_result"
    }
   ],
   "source": [
    "s"
   ]
  },
  {
   "cell_type": "markdown",
   "id": "26e10b08",
   "metadata": {},
   "source": [
    "#### Output Formatting"
   ]
  },
  {
   "cell_type": "code",
   "execution_count": 236,
   "id": "334923e7",
   "metadata": {},
   "outputs": [
    {
     "name": "stdout",
     "output_type": "stream",
     "text": [
      "The value of a is 10 and b is 20\n"
     ]
    }
   ],
   "source": [
    "a = 10\n",
    "b = 20\n",
    "\n",
    "print(\"The value of a is {} and b is {}\".format(a,b))"
   ]
  },
  {
   "cell_type": "code",
   "execution_count": 240,
   "id": "1f0c7ae8",
   "metadata": {},
   "outputs": [
    {
     "name": "stdout",
     "output_type": "stream",
     "text": [
      "The value of a is 20 and b is 10\n"
     ]
    }
   ],
   "source": [
    "a = 10\n",
    "b = 20\n",
    "\n",
    "print(\"The value of a is {1} and b is {0}\".format(a,b))"
   ]
  },
  {
   "cell_type": "code",
   "execution_count": 242,
   "id": "2258b543",
   "metadata": {},
   "outputs": [
    {
     "name": "stdout",
     "output_type": "stream",
     "text": [
      "Hello mister Sanjay Kumar i would like to say Good Morning to you\n"
     ]
    }
   ],
   "source": [
    "name = \"Sanjay Kumar\"\n",
    "Greetings = \"Good Morning\"\n",
    "\n",
    "print(\"Hello mister {} i would like to say {} to you\".format(name, Greetings))"
   ]
  },
  {
   "cell_type": "markdown",
   "id": "10bc8e35",
   "metadata": {},
   "source": [
    "# Operators and expressions"
   ]
  },
  {
   "cell_type": "markdown",
   "id": "c340b570",
   "metadata": {},
   "source": [
    "# Arithmetic Operators"
   ]
  },
  {
   "cell_type": "code",
   "execution_count": 243,
   "id": "8201e59f",
   "metadata": {},
   "outputs": [],
   "source": [
    "no1 = 12\n",
    "no2 = 3"
   ]
  },
  {
   "cell_type": "code",
   "execution_count": 244,
   "id": "93272957",
   "metadata": {},
   "outputs": [],
   "source": [
    "add = no1+no2\n",
    "sub = no1-no2\n",
    "mul = no1*no2\n",
    "div = no1/no2\n",
    "f_div = no1//no2\n",
    "exp = no1**no2\n",
    "mod = no1%no2"
   ]
  },
  {
   "cell_type": "code",
   "execution_count": 245,
   "id": "cb18b619",
   "metadata": {},
   "outputs": [
    {
     "name": "stdout",
     "output_type": "stream",
     "text": [
      "a+b = 15\n",
      "a-b = 9\n",
      "a*b = 36\n",
      "a/b = 4.0\n",
      "a//b = 4\n",
      "a**b = 1728\n",
      "a%b = 0\n"
     ]
    }
   ],
   "source": [
    "print(\"a+b = {}\".format(add))\n",
    "print(\"a-b = {}\".format(sub))\n",
    "print(\"a*b = {}\".format(mul))\n",
    "print(\"a/b = {}\".format(div))\n",
    "print(\"a//b = {}\".format(f_div))\n",
    "print(\"a**b = {}\".format(exp))\n",
    "print(\"a%b = {}\".format(mod))"
   ]
  },
  {
   "cell_type": "code",
   "execution_count": 246,
   "id": "17d8c5ca",
   "metadata": {},
   "outputs": [
    {
     "data": {
      "text/plain": [
       "8"
      ]
     },
     "execution_count": 246,
     "metadata": {},
     "output_type": "execute_result"
    }
   ],
   "source": [
    "5+3"
   ]
  },
  {
   "cell_type": "code",
   "execution_count": 247,
   "id": "56bb96c0",
   "metadata": {},
   "outputs": [
    {
     "data": {
      "text/plain": [
       "1"
      ]
     },
     "execution_count": 247,
     "metadata": {},
     "output_type": "execute_result"
    }
   ],
   "source": [
    "3-2"
   ]
  },
  {
   "cell_type": "code",
   "execution_count": 248,
   "id": "5477427b",
   "metadata": {},
   "outputs": [
    {
     "data": {
      "text/plain": [
       "24"
      ]
     },
     "execution_count": 248,
     "metadata": {},
     "output_type": "execute_result"
    }
   ],
   "source": [
    "8*3"
   ]
  },
  {
   "cell_type": "code",
   "execution_count": 249,
   "id": "25b09e79",
   "metadata": {},
   "outputs": [
    {
     "data": {
      "text/plain": [
       "5.0"
      ]
     },
     "execution_count": 249,
     "metadata": {},
     "output_type": "execute_result"
    }
   ],
   "source": [
    "25/5"
   ]
  },
  {
   "cell_type": "code",
   "execution_count": 250,
   "id": "39d27677",
   "metadata": {},
   "outputs": [
    {
     "data": {
      "text/plain": [
       "4"
      ]
     },
     "execution_count": 250,
     "metadata": {},
     "output_type": "execute_result"
    }
   ],
   "source": [
    "25//6"
   ]
  },
  {
   "cell_type": "code",
   "execution_count": 251,
   "id": "44b3906b",
   "metadata": {},
   "outputs": [
    {
     "data": {
      "text/plain": [
       "36"
      ]
     },
     "execution_count": 251,
     "metadata": {},
     "output_type": "execute_result"
    }
   ],
   "source": [
    "6**2"
   ]
  },
  {
   "cell_type": "code",
   "execution_count": 252,
   "id": "68a05323",
   "metadata": {},
   "outputs": [
    {
     "data": {
      "text/plain": [
       "1"
      ]
     },
     "execution_count": 252,
     "metadata": {},
     "output_type": "execute_result"
    }
   ],
   "source": [
    "25%4"
   ]
  },
  {
   "cell_type": "code",
   "execution_count": 253,
   "id": "e38d3e76",
   "metadata": {},
   "outputs": [
    {
     "name": "stdout",
     "output_type": "stream",
     "text": [
      "12 3\n"
     ]
    }
   ],
   "source": [
    "print(no1, no2)"
   ]
  },
  {
   "cell_type": "code",
   "execution_count": 254,
   "id": "f29c6992",
   "metadata": {},
   "outputs": [
    {
     "data": {
      "text/plain": [
       "True"
      ]
     },
     "execution_count": 254,
     "metadata": {},
     "output_type": "execute_result"
    }
   ],
   "source": [
    "12>3"
   ]
  },
  {
   "cell_type": "code",
   "execution_count": 255,
   "id": "0fd6055b",
   "metadata": {},
   "outputs": [
    {
     "data": {
      "text/plain": [
       "False"
      ]
     },
     "execution_count": 255,
     "metadata": {},
     "output_type": "execute_result"
    }
   ],
   "source": [
    "12<3"
   ]
  },
  {
   "cell_type": "code",
   "execution_count": 256,
   "id": "6b2f6101",
   "metadata": {},
   "outputs": [
    {
     "data": {
      "text/plain": [
       "True"
      ]
     },
     "execution_count": 256,
     "metadata": {},
     "output_type": "execute_result"
    }
   ],
   "source": [
    "no1>=no2"
   ]
  },
  {
   "cell_type": "code",
   "execution_count": 257,
   "id": "cfc9ef73",
   "metadata": {},
   "outputs": [
    {
     "data": {
      "text/plain": [
       "False"
      ]
     },
     "execution_count": 257,
     "metadata": {},
     "output_type": "execute_result"
    }
   ],
   "source": [
    "no1<=no2"
   ]
  },
  {
   "cell_type": "code",
   "execution_count": 258,
   "id": "78595164",
   "metadata": {},
   "outputs": [
    {
     "data": {
      "text/plain": [
       "False"
      ]
     },
     "execution_count": 258,
     "metadata": {},
     "output_type": "execute_result"
    }
   ],
   "source": [
    "no1==no2"
   ]
  },
  {
   "cell_type": "code",
   "execution_count": 259,
   "id": "99af85c3",
   "metadata": {},
   "outputs": [
    {
     "name": "stdout",
     "output_type": "stream",
     "text": [
      "True\n"
     ]
    }
   ],
   "source": [
    "print(no1!=no2)"
   ]
  },
  {
   "cell_type": "code",
   "execution_count": 260,
   "id": "d837930f",
   "metadata": {},
   "outputs": [
    {
     "name": "stdout",
     "output_type": "stream",
     "text": [
      "True\n"
     ]
    }
   ],
   "source": [
    "print(no1==no1)"
   ]
  },
  {
   "cell_type": "code",
   "execution_count": 261,
   "id": "52061157",
   "metadata": {},
   "outputs": [
    {
     "data": {
      "text/plain": [
       "False"
      ]
     },
     "execution_count": 261,
     "metadata": {},
     "output_type": "execute_result"
    }
   ],
   "source": [
    "not(10>5) and (15!=10)"
   ]
  },
  {
   "cell_type": "code",
   "execution_count": 262,
   "id": "19835717",
   "metadata": {},
   "outputs": [
    {
     "data": {
      "text/plain": [
       "True"
      ]
     },
     "execution_count": 262,
     "metadata": {},
     "output_type": "execute_result"
    }
   ],
   "source": [
    "not(14==10) and (5>3)"
   ]
  },
  {
   "cell_type": "code",
   "execution_count": 263,
   "id": "09ade8f6",
   "metadata": {},
   "outputs": [
    {
     "data": {
      "text/plain": [
       "True"
      ]
     },
     "execution_count": 263,
     "metadata": {},
     "output_type": "execute_result"
    }
   ],
   "source": [
    "not(45==12) or (12<10)"
   ]
  },
  {
   "cell_type": "code",
   "execution_count": 264,
   "id": "27e58d8b",
   "metadata": {},
   "outputs": [
    {
     "data": {
      "text/plain": [
       "False"
      ]
     },
     "execution_count": 264,
     "metadata": {},
     "output_type": "execute_result"
    }
   ],
   "source": [
    "not((45==12)or(12<15))"
   ]
  },
  {
   "cell_type": "code",
   "execution_count": 265,
   "id": "c98f94cb",
   "metadata": {},
   "outputs": [
    {
     "data": {
      "text/plain": [
       "'0b1010'"
      ]
     },
     "execution_count": 265,
     "metadata": {},
     "output_type": "execute_result"
    }
   ],
   "source": [
    "bin(10)"
   ]
  },
  {
   "cell_type": "code",
   "execution_count": 266,
   "id": "66e9022c",
   "metadata": {},
   "outputs": [
    {
     "data": {
      "text/plain": [
       "'0b100'"
      ]
     },
     "execution_count": 266,
     "metadata": {},
     "output_type": "execute_result"
    }
   ],
   "source": [
    "bin(4)"
   ]
  },
  {
   "cell_type": "code",
   "execution_count": 267,
   "id": "b393f7fc",
   "metadata": {},
   "outputs": [
    {
     "data": {
      "text/plain": [
       "0"
      ]
     },
     "execution_count": 267,
     "metadata": {},
     "output_type": "execute_result"
    }
   ],
   "source": [
    "10&4"
   ]
  },
  {
   "cell_type": "code",
   "execution_count": 268,
   "id": "66c3a28d",
   "metadata": {},
   "outputs": [
    {
     "data": {
      "text/plain": [
       "14"
      ]
     },
     "execution_count": 268,
     "metadata": {},
     "output_type": "execute_result"
    }
   ],
   "source": [
    "10|4"
   ]
  },
  {
   "cell_type": "code",
   "execution_count": 269,
   "id": "8c841656",
   "metadata": {},
   "outputs": [
    {
     "data": {
      "text/plain": [
       "14"
      ]
     },
     "execution_count": 269,
     "metadata": {},
     "output_type": "execute_result"
    }
   ],
   "source": [
    "10^4"
   ]
  },
  {
   "cell_type": "code",
   "execution_count": 270,
   "id": "50ff5df4",
   "metadata": {},
   "outputs": [],
   "source": [
    "a = 5"
   ]
  },
  {
   "cell_type": "code",
   "execution_count": 271,
   "id": "5fe6ce14",
   "metadata": {},
   "outputs": [],
   "source": [
    "a = a+1"
   ]
  },
  {
   "cell_type": "code",
   "execution_count": 272,
   "id": "c6fe1ea1",
   "metadata": {},
   "outputs": [
    {
     "data": {
      "text/plain": [
       "6"
      ]
     },
     "execution_count": 272,
     "metadata": {},
     "output_type": "execute_result"
    }
   ],
   "source": [
    "a"
   ]
  },
  {
   "cell_type": "code",
   "execution_count": 273,
   "id": "f8046b01",
   "metadata": {},
   "outputs": [],
   "source": [
    "a+=1"
   ]
  },
  {
   "cell_type": "code",
   "execution_count": 274,
   "id": "2ac6f728",
   "metadata": {},
   "outputs": [
    {
     "data": {
      "text/plain": [
       "7"
      ]
     },
     "execution_count": 274,
     "metadata": {},
     "output_type": "execute_result"
    }
   ],
   "source": [
    "a"
   ]
  },
  {
   "cell_type": "code",
   "execution_count": 275,
   "id": "04711eda",
   "metadata": {},
   "outputs": [],
   "source": [
    "a-=2"
   ]
  },
  {
   "cell_type": "code",
   "execution_count": 276,
   "id": "ed90b726",
   "metadata": {},
   "outputs": [
    {
     "data": {
      "text/plain": [
       "5"
      ]
     },
     "execution_count": 276,
     "metadata": {},
     "output_type": "execute_result"
    }
   ],
   "source": [
    "a"
   ]
  },
  {
   "cell_type": "code",
   "execution_count": 277,
   "id": "0d21c760",
   "metadata": {},
   "outputs": [],
   "source": [
    "a*=5"
   ]
  },
  {
   "cell_type": "code",
   "execution_count": 278,
   "id": "a63b518f",
   "metadata": {},
   "outputs": [
    {
     "data": {
      "text/plain": [
       "25"
      ]
     },
     "execution_count": 278,
     "metadata": {},
     "output_type": "execute_result"
    }
   ],
   "source": [
    "a"
   ]
  },
  {
   "cell_type": "code",
   "execution_count": 279,
   "id": "0c2f457c",
   "metadata": {},
   "outputs": [],
   "source": [
    "a/=5"
   ]
  },
  {
   "cell_type": "code",
   "execution_count": 280,
   "id": "119aa16c",
   "metadata": {},
   "outputs": [
    {
     "data": {
      "text/plain": [
       "5.0"
      ]
     },
     "execution_count": 280,
     "metadata": {},
     "output_type": "execute_result"
    }
   ],
   "source": [
    "a"
   ]
  },
  {
   "cell_type": "code",
   "execution_count": 281,
   "id": "ca2777cf",
   "metadata": {},
   "outputs": [],
   "source": [
    "a//=2"
   ]
  },
  {
   "cell_type": "code",
   "execution_count": 282,
   "id": "0daedb14",
   "metadata": {},
   "outputs": [
    {
     "data": {
      "text/plain": [
       "2.0"
      ]
     },
     "execution_count": 282,
     "metadata": {},
     "output_type": "execute_result"
    }
   ],
   "source": [
    "a"
   ]
  },
  {
   "cell_type": "code",
   "execution_count": 283,
   "id": "1b686a58",
   "metadata": {},
   "outputs": [],
   "source": [
    "a = b = c = 70"
   ]
  },
  {
   "cell_type": "code",
   "execution_count": 284,
   "id": "aeb1c0f0",
   "metadata": {},
   "outputs": [
    {
     "name": "stdout",
     "output_type": "stream",
     "text": [
      "70 70 70\n"
     ]
    }
   ],
   "source": [
    "print(a,b,c)"
   ]
  },
  {
   "cell_type": "code",
   "execution_count": 285,
   "id": "49b4b480",
   "metadata": {},
   "outputs": [],
   "source": [
    "a, b, c = \"Ml\", 100, 5+6j "
   ]
  },
  {
   "cell_type": "code",
   "execution_count": 286,
   "id": "d5b119b9",
   "metadata": {},
   "outputs": [
    {
     "data": {
      "text/plain": [
       "'Ml'"
      ]
     },
     "execution_count": 286,
     "metadata": {},
     "output_type": "execute_result"
    }
   ],
   "source": [
    "a"
   ]
  },
  {
   "cell_type": "code",
   "execution_count": 287,
   "id": "d45de436",
   "metadata": {},
   "outputs": [
    {
     "data": {
      "text/plain": [
       "100"
      ]
     },
     "execution_count": 287,
     "metadata": {},
     "output_type": "execute_result"
    }
   ],
   "source": [
    "b"
   ]
  },
  {
   "cell_type": "code",
   "execution_count": 288,
   "id": "3d7bfb4a",
   "metadata": {},
   "outputs": [
    {
     "data": {
      "text/plain": [
       "(5+6j)"
      ]
     },
     "execution_count": 288,
     "metadata": {},
     "output_type": "execute_result"
    }
   ],
   "source": [
    "c"
   ]
  },
  {
   "cell_type": "code",
   "execution_count": 289,
   "id": "51e5ca99",
   "metadata": {},
   "outputs": [
    {
     "name": "stdout",
     "output_type": "stream",
     "text": [
      "Ml 100 (5+6j)\n"
     ]
    }
   ],
   "source": [
    "print(a,b,c)"
   ]
  },
  {
   "cell_type": "code",
   "execution_count": 290,
   "id": "fa6296f2",
   "metadata": {},
   "outputs": [],
   "source": [
    "my_str = \"Good Morning\""
   ]
  },
  {
   "cell_type": "code",
   "execution_count": 291,
   "id": "de15c481",
   "metadata": {},
   "outputs": [
    {
     "data": {
      "text/plain": [
       "True"
      ]
     },
     "execution_count": 291,
     "metadata": {},
     "output_type": "execute_result"
    }
   ],
   "source": [
    "\"Good\" in my_str"
   ]
  },
  {
   "cell_type": "code",
   "execution_count": 292,
   "id": "d7103813",
   "metadata": {},
   "outputs": [
    {
     "data": {
      "text/plain": [
       "False"
      ]
     },
     "execution_count": 292,
     "metadata": {},
     "output_type": "execute_result"
    }
   ],
   "source": [
    "\"bad\" in my_str"
   ]
  },
  {
   "cell_type": "code",
   "execution_count": 293,
   "id": "14de961d",
   "metadata": {},
   "outputs": [
    {
     "data": {
      "text/plain": [
       "True"
      ]
     },
     "execution_count": 293,
     "metadata": {},
     "output_type": "execute_result"
    }
   ],
   "source": [
    "\"bad\" not in my_str"
   ]
  },
  {
   "cell_type": "code",
   "execution_count": 294,
   "id": "7e14a155",
   "metadata": {},
   "outputs": [
    {
     "data": {
      "text/plain": [
       "True"
      ]
     },
     "execution_count": 294,
     "metadata": {},
     "output_type": "execute_result"
    }
   ],
   "source": [
    "\"o\" in my_str"
   ]
  },
  {
   "cell_type": "code",
   "execution_count": 295,
   "id": "f711fee6",
   "metadata": {},
   "outputs": [
    {
     "data": {
      "text/plain": [
       "False"
      ]
     },
     "execution_count": 295,
     "metadata": {},
     "output_type": "execute_result"
    }
   ],
   "source": [
    "\"z\" in my_str"
   ]
  },
  {
   "cell_type": "code",
   "execution_count": 296,
   "id": "18b8b218",
   "metadata": {},
   "outputs": [],
   "source": [
    "n1 = 1000\n",
    "n2 = 1000"
   ]
  },
  {
   "cell_type": "code",
   "execution_count": 297,
   "id": "9343ac39",
   "metadata": {},
   "outputs": [
    {
     "data": {
      "text/plain": [
       "2778911930128"
      ]
     },
     "execution_count": 297,
     "metadata": {},
     "output_type": "execute_result"
    }
   ],
   "source": [
    "id(n1)"
   ]
  },
  {
   "cell_type": "code",
   "execution_count": 298,
   "id": "45a0c869",
   "metadata": {},
   "outputs": [
    {
     "data": {
      "text/plain": [
       "2778911930096"
      ]
     },
     "execution_count": 298,
     "metadata": {},
     "output_type": "execute_result"
    }
   ],
   "source": [
    "id(n2)"
   ]
  },
  {
   "cell_type": "code",
   "execution_count": 299,
   "id": "38765cdd",
   "metadata": {},
   "outputs": [
    {
     "data": {
      "text/plain": [
       "False"
      ]
     },
     "execution_count": 299,
     "metadata": {},
     "output_type": "execute_result"
    }
   ],
   "source": [
    "n1 is n2"
   ]
  },
  {
   "cell_type": "code",
   "execution_count": 300,
   "id": "0c2f77f9",
   "metadata": {},
   "outputs": [
    {
     "data": {
      "text/plain": [
       "True"
      ]
     },
     "execution_count": 300,
     "metadata": {},
     "output_type": "execute_result"
    }
   ],
   "source": [
    "n1 is not n2"
   ]
  },
  {
   "cell_type": "code",
   "execution_count": 301,
   "id": "7362f660",
   "metadata": {},
   "outputs": [
    {
     "data": {
      "text/plain": [
       "True"
      ]
     },
     "execution_count": 301,
     "metadata": {},
     "output_type": "execute_result"
    }
   ],
   "source": [
    "n1 == n2"
   ]
  },
  {
   "cell_type": "markdown",
   "id": "23cca049",
   "metadata": {},
   "source": [
    "# Control Flow"
   ]
  },
  {
   "cell_type": "code",
   "execution_count": 305,
   "id": "5c578d73",
   "metadata": {},
   "outputs": [
    {
     "name": "stdout",
     "output_type": "stream",
     "text": [
      "Enter your age : 28\n",
      "you are eligible to vote\n",
      "always exercise your vote\n"
     ]
    }
   ],
   "source": [
    "age = int(input(\"Enter your age : \" ))\n",
    "\n",
    "if age>=18:\n",
    "    print(\"you are eligible to vote\")\n",
    "    print(\"always exercise your vote\")\n",
    "else:\n",
    "    print(\"Grow up kid\")\n",
    "    print(\"focus on development\")"
   ]
  },
  {
   "cell_type": "code",
   "execution_count": 306,
   "id": "83b4a025",
   "metadata": {},
   "outputs": [
    {
     "name": "stdout",
     "output_type": "stream",
     "text": [
      "negative number\n"
     ]
    }
   ],
   "source": [
    "num = -5\n",
    "\n",
    "if num>0:\n",
    "    print(\"positive number\")\n",
    "elif num == 0:\n",
    "    print(\"zero number\")\n",
    "else:\n",
    "    print(\"negative number\")"
   ]
  },
  {
   "cell_type": "code",
   "execution_count": 307,
   "id": "97de60cd",
   "metadata": {},
   "outputs": [
    {
     "name": "stdout",
     "output_type": "stream",
     "text": [
      "negative number\n"
     ]
    }
   ],
   "source": [
    "num = -15\n",
    "\n",
    "if num>=0:\n",
    "    if num == 0:\n",
    "        print(\"zero number\")\n",
    "    else:\n",
    "        print(\"positive number\")\n",
    "else:\n",
    "    print(\"negative number\")"
   ]
  },
  {
   "cell_type": "code",
   "execution_count": 308,
   "id": "faf23d7e",
   "metadata": {},
   "outputs": [
    {
     "name": "stdout",
     "output_type": "stream",
     "text": [
      "mention your income800\n",
      "you must earn more\n"
     ]
    }
   ],
   "source": [
    "income = int(input(\"mention your income\"))\n",
    "\n",
    "if income>=1000:\n",
    "    if income == 1000:\n",
    "        print(\"you can submit your tax\")\n",
    "    elif 1000<income<5000:\n",
    "        print(\"you are elite citezen\")\n",
    "    else:\n",
    "        print(\"you must recieve gift\")\n",
    "elif 1000>income>500:\n",
    "    print(\"you must earn more\")\n",
    "else:\n",
    "    print(\"change your job\")"
   ]
  },
  {
   "cell_type": "code",
   "execution_count": 309,
   "id": "7c9f02b9",
   "metadata": {},
   "outputs": [
    {
     "name": "stdout",
     "output_type": "stream",
     "text": [
      "The largest number among three is 1000\n"
     ]
    }
   ],
   "source": [
    "a = 1000\n",
    "b = 200\n",
    "c = 30\n",
    "\n",
    "if a>b and a>c:\n",
    "    largest = a\n",
    "elif b>c and b>a:\n",
    "    largest = b\n",
    "else:\n",
    "    largest = c \n",
    "    \n",
    "print(\"The largest number among three is {}\".format(largest))"
   ]
  },
  {
   "cell_type": "code",
   "execution_count": 310,
   "id": "8a238237",
   "metadata": {},
   "outputs": [
    {
     "name": "stdout",
     "output_type": "stream",
     "text": [
      "1 , 2 , 9 , 4 , 25 , 6 , 49 , 8 , 81 , 10 , 121 , 12 , 169 , 14 , 225 , 16 , 289 , 18 , 361 , 20 , "
     ]
    }
   ],
   "source": [
    "i = 1 \n",
    "\n",
    "while i<=20:\n",
    "    if i%2==0:\n",
    "        print(i , end = \" , \")\n",
    "    else:\n",
    "        print(i**2 , end = \" , \")\n",
    "    \n",
    "    i+=1"
   ]
  },
  {
   "cell_type": "code",
   "execution_count": 311,
   "id": "253aadde",
   "metadata": {},
   "outputs": [
    {
     "data": {
      "text/plain": [
       "[1, 3, 5, 7, 9, 11, 13, 15, 17, 19]"
      ]
     },
     "execution_count": 311,
     "metadata": {},
     "output_type": "execute_result"
    }
   ],
   "source": [
    "list(range(1,21,2))"
   ]
  },
  {
   "cell_type": "code",
   "execution_count": 312,
   "id": "61bf1a1d",
   "metadata": {},
   "outputs": [
    {
     "name": "stdout",
     "output_type": "stream",
     "text": [
      "2 , 4 , 6 , 8 , 10 , 12 , 14 , 16 , 18 , 20 , all over\n"
     ]
    }
   ],
   "source": [
    "for i in range(1,21):\n",
    "    if i%2==0:\n",
    "        print(i, end = \" , \")\n",
    "print(\"all over\")"
   ]
  },
  {
   "cell_type": "code",
   "execution_count": 313,
   "id": "2be4ff05",
   "metadata": {},
   "outputs": [
    {
     "name": "stdout",
     "output_type": "stream",
     "text": [
      "2\n",
      "4\n",
      "6\n",
      "8\n",
      "10\n",
      "12\n",
      "14\n",
      "16\n",
      "18\n",
      "20\n"
     ]
    }
   ],
   "source": [
    "for u in range(2,21,2):\n",
    "    print(u)"
   ]
  },
  {
   "cell_type": "code",
   "execution_count": 314,
   "id": "7f0fd44d",
   "metadata": {},
   "outputs": [
    {
     "name": "stdout",
     "output_type": "stream",
     "text": [
      "2 , 9 , 4 , 25 , 6 , 49 , 8 , 81 , 10 , 121 , 12 , 169 , 14 , 225 , 16 , 289 , 18 , 361 , 20 , no elements left\n"
     ]
    }
   ],
   "source": [
    "for i in range(2,21):\n",
    "    if i%2==0:\n",
    "        print(i, end = \" , \")\n",
    "    else:\n",
    "        print(i**2, end = \" , \")\n",
    "print(\"no elements left\")\n",
    "    "
   ]
  },
  {
   "cell_type": "code",
   "execution_count": 315,
   "id": "e49956df",
   "metadata": {},
   "outputs": [
    {
     "name": "stdout",
     "output_type": "stream",
     "text": [
      "8x1 = 8\n",
      "8x2 = 16\n",
      "8x3 = 24\n",
      "8x4 = 32\n",
      "8x5 = 40\n",
      "8x6 = 48\n",
      "8x7 = 56\n",
      "8x8 = 64\n",
      "8x9 = 72\n",
      "8x10 = 80\n",
      "No elements left\n"
     ]
    }
   ],
   "source": [
    "n = 8\n",
    "\n",
    "for i in range(1,11):\n",
    "    print(\"{}x{} = {}\".format(n,i,n*i))\n",
    "\n",
    "print(\"No elements left\")"
   ]
  },
  {
   "cell_type": "code",
   "execution_count": 316,
   "id": "74dabe66",
   "metadata": {},
   "outputs": [
    {
     "name": "stdout",
     "output_type": "stream",
     "text": [
      "*  \n",
      "*  *  \n",
      "*  *  *  \n",
      "*  *  *  *  \n",
      "*  *  *  *  *  \n"
     ]
    }
   ],
   "source": [
    "n = 5 \n",
    "\n",
    "for i in range(1,n+1):\n",
    "    for j in range(1,i+1):\n",
    "        print(\"*\", end = \"  \")\n",
    "    print()"
   ]
  },
  {
   "cell_type": "code",
   "execution_count": 318,
   "id": "a6c6ec26",
   "metadata": {},
   "outputs": [
    {
     "name": "stdout",
     "output_type": "stream",
     "text": [
      "pattern printing : 5\n",
      "*\n",
      "**\n",
      "***\n",
      "****\n",
      "*****\n"
     ]
    }
   ],
   "source": [
    "n = int(input(\"pattern printing : \"))\n",
    "\n",
    "for i in range(1,n+1):\n",
    "    for j in range(1,i+1):\n",
    "        print(\"*\", end = \"\")\n",
    "    print()"
   ]
  },
  {
   "cell_type": "code",
   "execution_count": 319,
   "id": "a0bb0c89",
   "metadata": {},
   "outputs": [
    {
     "data": {
      "text/plain": [
       "'hellohellohello'"
      ]
     },
     "execution_count": 319,
     "metadata": {},
     "output_type": "execute_result"
    }
   ],
   "source": [
    "\"hello\"*3"
   ]
  },
  {
   "cell_type": "code",
   "execution_count": 320,
   "id": "47b5b14d",
   "metadata": {},
   "outputs": [
    {
     "name": "stdout",
     "output_type": "stream",
     "text": [
      "*\n",
      "**\n",
      "***\n",
      "****\n",
      "*****\n"
     ]
    }
   ],
   "source": [
    "for i in range(1,6):\n",
    "    print(\"*\"* i, end = \"\")\n",
    "    \n",
    "    print()"
   ]
  },
  {
   "cell_type": "code",
   "execution_count": 321,
   "id": "802610e3",
   "metadata": {},
   "outputs": [
    {
     "name": "stdout",
     "output_type": "stream",
     "text": [
      "*****\n",
      "****\n",
      "***\n",
      "**\n",
      "*\n"
     ]
    }
   ],
   "source": [
    "lst = [5,4,3,2,1]\n",
    "\n",
    "for i in lst:\n",
    "    print(\"*\"*i)\n",
    "    "
   ]
  },
  {
   "cell_type": "code",
   "execution_count": 322,
   "id": "d0b8cf51",
   "metadata": {},
   "outputs": [
    {
     "name": "stdout",
     "output_type": "stream",
     "text": [
      "*****\n",
      "****\n",
      "***\n",
      "**\n",
      "*\n"
     ]
    }
   ],
   "source": [
    "n = 5 \n",
    "\n",
    "while n>=1:\n",
    "    print(\"*\"*n)\n",
    "    \n",
    "    n-=1"
   ]
  },
  {
   "cell_type": "code",
   "execution_count": 323,
   "id": "ce01c21e",
   "metadata": {},
   "outputs": [
    {
     "name": "stdout",
     "output_type": "stream",
     "text": [
      "enter numbers : 2\n",
      "The sum of first 2 numbers are 3\n"
     ]
    }
   ],
   "source": [
    "n = int(input(\"enter numbers : \"))\n",
    "\n",
    "s = 0\n",
    "\n",
    "for i in range(1,n+1):\n",
    "    s+=i\n",
    "print(\"The sum of first {} numbers are {}\".format(n,s))"
   ]
  },
  {
   "cell_type": "code",
   "execution_count": 324,
   "id": "e37fc996",
   "metadata": {},
   "outputs": [
    {
     "name": "stdout",
     "output_type": "stream",
     "text": [
      "enter your number : 23\n",
      "The given number 23 is Prime\n"
     ]
    }
   ],
   "source": [
    "num = int(input(\"enter your number : \"))\n",
    "\n",
    "is_prime = True \n",
    "\n",
    "for i in range(2,num):\n",
    "    if num%i==0:\n",
    "        is_prime = False\n",
    "        \n",
    "if (is_prime):\n",
    "    print(\"The given number {} is Prime\".format(num))\n",
    "else:\n",
    "    print(\"The given number {} is not Prime\".format(num))"
   ]
  },
  {
   "cell_type": "code",
   "execution_count": 325,
   "id": "bdfe5dff",
   "metadata": {},
   "outputs": [
    {
     "name": "stdout",
     "output_type": "stream",
     "text": [
      "1\n",
      "2\n",
      "3\n",
      "4\n"
     ]
    }
   ],
   "source": [
    "for i in range(1,11):\n",
    "    if i == 5:\n",
    "        break\n",
    "    print(i)\n",
    "else:\n",
    "    print(\"All done\")"
   ]
  },
  {
   "cell_type": "code",
   "execution_count": 326,
   "id": "e9161616",
   "metadata": {},
   "outputs": [
    {
     "name": "stdout",
     "output_type": "stream",
     "text": [
      "1\n",
      "2\n",
      "3\n",
      "4\n",
      "6\n",
      "7\n",
      "8\n",
      "9\n",
      "10\n",
      "All done\n"
     ]
    }
   ],
   "source": [
    "for i in range(1,11):\n",
    "    if i == 5:\n",
    "        continue\n",
    "    print(i)\n",
    "else:\n",
    "    print(\"All done\")"
   ]
  },
  {
   "cell_type": "code",
   "execution_count": 327,
   "id": "adf5660f",
   "metadata": {},
   "outputs": [
    {
     "name": "stdout",
     "output_type": "stream",
     "text": [
      "1\n",
      "2\n",
      "3\n",
      "4\n",
      "5\n",
      "6\n",
      "7\n",
      "8\n",
      "9\n",
      "10\n"
     ]
    }
   ],
   "source": [
    "for i in range(1,11):\n",
    "    print(i)"
   ]
  },
  {
   "cell_type": "markdown",
   "id": "4512d761",
   "metadata": {},
   "source": [
    "# Python Fundamentals\n",
    "* Python Basics \n",
    "* operators and expressions\n",
    "* Control Flow"
   ]
  },
  {
   "cell_type": "markdown",
   "id": "33771aea",
   "metadata": {},
   "source": [
    "### Python Basics\n"
   ]
  },
  {
   "cell_type": "code",
   "execution_count": 2,
   "id": "7a3109aa",
   "metadata": {},
   "outputs": [
    {
     "name": "stdout",
     "output_type": "stream",
     "text": [
      "Hello world\n"
     ]
    }
   ],
   "source": [
    "# this is comment\n",
    "print(\"Hello world\")"
   ]
  },
  {
   "cell_type": "code",
   "execution_count": 3,
   "id": "72fb1a74",
   "metadata": {},
   "outputs": [
    {
     "name": "stdout",
     "output_type": "stream",
     "text": [
      "Hello students\n"
     ]
    }
   ],
   "source": [
    "print(\"Hello students\")"
   ]
  },
  {
   "cell_type": "code",
   "execution_count": 4,
   "id": "fa09ed7a",
   "metadata": {},
   "outputs": [
    {
     "name": "stdout",
     "output_type": "stream",
     "text": [
      "data science 100 machine learning \n"
     ]
    }
   ],
   "source": [
    "print(\"data science\", 100 , 'machine learning ')"
   ]
  },
  {
   "cell_type": "code",
   "execution_count": 5,
   "id": "8874d03f",
   "metadata": {},
   "outputs": [],
   "source": [
    "i = 80"
   ]
  },
  {
   "cell_type": "code",
   "execution_count": 6,
   "id": "feeb61bb",
   "metadata": {},
   "outputs": [
    {
     "name": "stdout",
     "output_type": "stream",
     "text": [
      "80\n"
     ]
    }
   ],
   "source": [
    "print(i)"
   ]
  },
  {
   "cell_type": "code",
   "execution_count": 7,
   "id": "f4cd4249",
   "metadata": {},
   "outputs": [
    {
     "data": {
      "text/plain": [
       "80"
      ]
     },
     "execution_count": 7,
     "metadata": {},
     "output_type": "execute_result"
    }
   ],
   "source": [
    "i"
   ]
  },
  {
   "cell_type": "code",
   "execution_count": 8,
   "id": "ab74b53b",
   "metadata": {},
   "outputs": [],
   "source": [
    "abc1 = 45"
   ]
  },
  {
   "cell_type": "code",
   "execution_count": 9,
   "id": "f91214af",
   "metadata": {},
   "outputs": [
    {
     "ename": "SyntaxError",
     "evalue": "invalid syntax (<ipython-input-9-2dbf43ca1d0f>, line 1)",
     "output_type": "error",
     "traceback": [
      "\u001b[1;36m  File \u001b[1;32m\"<ipython-input-9-2dbf43ca1d0f>\"\u001b[1;36m, line \u001b[1;32m1\u001b[0m\n\u001b[1;33m    1abc = 65\u001b[0m\n\u001b[1;37m     ^\u001b[0m\n\u001b[1;31mSyntaxError\u001b[0m\u001b[1;31m:\u001b[0m invalid syntax\n"
     ]
    }
   ],
   "source": [
    "1abc = 65"
   ]
  },
  {
   "cell_type": "code",
   "execution_count": 10,
   "id": "5bdf6911",
   "metadata": {},
   "outputs": [
    {
     "data": {
      "text/plain": [
       "int"
      ]
     },
     "execution_count": 10,
     "metadata": {},
     "output_type": "execute_result"
    }
   ],
   "source": [
    "type(i)"
   ]
  },
  {
   "cell_type": "code",
   "execution_count": 11,
   "id": "9836c6eb",
   "metadata": {},
   "outputs": [
    {
     "data": {
      "text/plain": [
       "140712885498128"
      ]
     },
     "execution_count": 11,
     "metadata": {},
     "output_type": "execute_result"
    }
   ],
   "source": [
    "id(i)"
   ]
  },
  {
   "cell_type": "code",
   "execution_count": 12,
   "id": "fc7cded2",
   "metadata": {},
   "outputs": [
    {
     "data": {
      "text/plain": [
       "140712885497008"
      ]
     },
     "execution_count": 12,
     "metadata": {},
     "output_type": "execute_result"
    }
   ],
   "source": [
    "id(abc1)"
   ]
  },
  {
   "cell_type": "code",
   "execution_count": 21,
   "id": "aab639b4",
   "metadata": {},
   "outputs": [
    {
     "data": {
      "text/plain": [
       "'computer vision'"
      ]
     },
     "execution_count": 21,
     "metadata": {},
     "output_type": "execute_result"
    }
   ],
   "source": [
    "i "
   ]
  },
  {
   "cell_type": "code",
   "execution_count": null,
   "id": "750f96ea",
   "metadata": {},
   "outputs": [],
   "source": []
  },
  {
   "cell_type": "code",
   "execution_count": 22,
   "id": "d7bce561",
   "metadata": {},
   "outputs": [
    {
     "data": {
      "text/plain": [
       "str"
      ]
     },
     "execution_count": 22,
     "metadata": {},
     "output_type": "execute_result"
    }
   ],
   "source": [
    "type(i)"
   ]
  },
  {
   "cell_type": "code",
   "execution_count": 23,
   "id": "b37365a4",
   "metadata": {},
   "outputs": [],
   "source": [
    "i = \"computer vision\""
   ]
  },
  {
   "cell_type": "code",
   "execution_count": 24,
   "id": "bb932e35",
   "metadata": {},
   "outputs": [
    {
     "data": {
      "text/plain": [
       "str"
      ]
     },
     "execution_count": 24,
     "metadata": {},
     "output_type": "execute_result"
    }
   ],
   "source": [
    "type(i)"
   ]
  },
  {
   "cell_type": "code",
   "execution_count": 25,
   "id": "c976640e",
   "metadata": {},
   "outputs": [
    {
     "data": {
      "text/plain": [
       "1758416986352"
      ]
     },
     "execution_count": 25,
     "metadata": {},
     "output_type": "execute_result"
    }
   ],
   "source": [
    "id(i)"
   ]
  },
  {
   "cell_type": "code",
   "execution_count": 26,
   "id": "101269bd",
   "metadata": {},
   "outputs": [],
   "source": [
    "a = 45"
   ]
  },
  {
   "cell_type": "code",
   "execution_count": 27,
   "id": "5b613ce0",
   "metadata": {},
   "outputs": [
    {
     "data": {
      "text/plain": [
       "int"
      ]
     },
     "execution_count": 27,
     "metadata": {},
     "output_type": "execute_result"
    }
   ],
   "source": [
    "type(a)"
   ]
  },
  {
   "cell_type": "code",
   "execution_count": 28,
   "id": "1bccb104",
   "metadata": {},
   "outputs": [
    {
     "data": {
      "text/plain": [
       "140712885497008"
      ]
     },
     "execution_count": 28,
     "metadata": {},
     "output_type": "execute_result"
    }
   ],
   "source": [
    "id(a)"
   ]
  },
  {
   "cell_type": "code",
   "execution_count": 29,
   "id": "30b346f0",
   "metadata": {},
   "outputs": [],
   "source": [
    "a = \"natural language processing\""
   ]
  },
  {
   "cell_type": "code",
   "execution_count": 30,
   "id": "758362ce",
   "metadata": {},
   "outputs": [
    {
     "data": {
      "text/plain": [
       "str"
      ]
     },
     "execution_count": 30,
     "metadata": {},
     "output_type": "execute_result"
    }
   ],
   "source": [
    "type(a)"
   ]
  },
  {
   "cell_type": "code",
   "execution_count": 31,
   "id": "4b232233",
   "metadata": {},
   "outputs": [
    {
     "data": {
      "text/plain": [
       "1758418482000"
      ]
     },
     "execution_count": 31,
     "metadata": {},
     "output_type": "execute_result"
    }
   ],
   "source": [
    "id(a)"
   ]
  },
  {
   "cell_type": "markdown",
   "id": "34ceb59b",
   "metadata": {},
   "source": [
    "# Basic Datatype\n",
    "* int\n",
    "* string\n",
    "* float\n",
    "* complex\n",
    "* Boolean \n",
    "* None"
   ]
  },
  {
   "cell_type": "code",
   "execution_count": 32,
   "id": "6feb327b",
   "metadata": {},
   "outputs": [],
   "source": [
    "my_num = 55"
   ]
  },
  {
   "cell_type": "code",
   "execution_count": 33,
   "id": "4942c2f7",
   "metadata": {},
   "outputs": [
    {
     "name": "stdout",
     "output_type": "stream",
     "text": [
      "55\n"
     ]
    }
   ],
   "source": [
    "print(my_num)"
   ]
  },
  {
   "cell_type": "code",
   "execution_count": 35,
   "id": "a0e54178",
   "metadata": {},
   "outputs": [
    {
     "name": "stdout",
     "output_type": "stream",
     "text": [
      "<class 'int'>\n"
     ]
    }
   ],
   "source": [
    "print(type(my_num))"
   ]
  },
  {
   "cell_type": "code",
   "execution_count": 36,
   "id": "222ad99c",
   "metadata": {},
   "outputs": [
    {
     "data": {
      "text/plain": [
       "140712885497328"
      ]
     },
     "execution_count": 36,
     "metadata": {},
     "output_type": "execute_result"
    }
   ],
   "source": [
    "id(my_num)"
   ]
  },
  {
   "cell_type": "code",
   "execution_count": 37,
   "id": "e92fbc8b",
   "metadata": {},
   "outputs": [],
   "source": [
    "my_str = \"Python is fun\""
   ]
  },
  {
   "cell_type": "code",
   "execution_count": 38,
   "id": "cbd7a751",
   "metadata": {},
   "outputs": [
    {
     "data": {
      "text/plain": [
       "str"
      ]
     },
     "execution_count": 38,
     "metadata": {},
     "output_type": "execute_result"
    }
   ],
   "source": [
    "type(my_str)"
   ]
  },
  {
   "cell_type": "code",
   "execution_count": 39,
   "id": "7b8a1c44",
   "metadata": {},
   "outputs": [
    {
     "name": "stdout",
     "output_type": "stream",
     "text": [
      "Python is fun\n"
     ]
    }
   ],
   "source": [
    "print(my_str)"
   ]
  },
  {
   "cell_type": "code",
   "execution_count": 40,
   "id": "1661c4cb",
   "metadata": {},
   "outputs": [
    {
     "data": {
      "text/plain": [
       "1758417414256"
      ]
     },
     "execution_count": 40,
     "metadata": {},
     "output_type": "execute_result"
    }
   ],
   "source": [
    "id(my_str)"
   ]
  },
  {
   "cell_type": "code",
   "execution_count": 41,
   "id": "ce032289",
   "metadata": {},
   "outputs": [],
   "source": [
    "my_bool = True # False "
   ]
  },
  {
   "cell_type": "code",
   "execution_count": 42,
   "id": "c3923ba9",
   "metadata": {},
   "outputs": [
    {
     "data": {
      "text/plain": [
       "bool"
      ]
     },
     "execution_count": 42,
     "metadata": {},
     "output_type": "execute_result"
    }
   ],
   "source": [
    "type(my_bool)"
   ]
  },
  {
   "cell_type": "code",
   "execution_count": 43,
   "id": "ff3d7178",
   "metadata": {},
   "outputs": [
    {
     "name": "stdout",
     "output_type": "stream",
     "text": [
      "True\n"
     ]
    }
   ],
   "source": [
    "print(my_bool)"
   ]
  },
  {
   "cell_type": "code",
   "execution_count": 44,
   "id": "7a39056a",
   "metadata": {},
   "outputs": [
    {
     "data": {
      "text/plain": [
       "140712885213008"
      ]
     },
     "execution_count": 44,
     "metadata": {},
     "output_type": "execute_result"
    }
   ],
   "source": [
    "id(my_bool)"
   ]
  },
  {
   "cell_type": "code",
   "execution_count": 45,
   "id": "2e02ada7",
   "metadata": {},
   "outputs": [],
   "source": [
    "my_f = 45.23"
   ]
  },
  {
   "cell_type": "code",
   "execution_count": 46,
   "id": "de018bab",
   "metadata": {},
   "outputs": [
    {
     "name": "stdout",
     "output_type": "stream",
     "text": [
      "45.23\n"
     ]
    }
   ],
   "source": [
    "print(my_f)"
   ]
  },
  {
   "cell_type": "code",
   "execution_count": 47,
   "id": "ea7628cf",
   "metadata": {},
   "outputs": [
    {
     "data": {
      "text/plain": [
       "float"
      ]
     },
     "execution_count": 47,
     "metadata": {},
     "output_type": "execute_result"
    }
   ],
   "source": [
    "type(my_f)"
   ]
  },
  {
   "cell_type": "code",
   "execution_count": 48,
   "id": "11c4a0d2",
   "metadata": {},
   "outputs": [
    {
     "data": {
      "text/plain": [
       "1758418712304"
      ]
     },
     "execution_count": 48,
     "metadata": {},
     "output_type": "execute_result"
    }
   ],
   "source": [
    "id(my_f)"
   ]
  },
  {
   "cell_type": "code",
   "execution_count": 49,
   "id": "a0b8b1ad",
   "metadata": {},
   "outputs": [],
   "source": [
    "my_c = 45+23j"
   ]
  },
  {
   "cell_type": "code",
   "execution_count": 50,
   "id": "d06d908c",
   "metadata": {},
   "outputs": [
    {
     "name": "stdout",
     "output_type": "stream",
     "text": [
      "(45+23j)\n"
     ]
    }
   ],
   "source": [
    "print(my_c)"
   ]
  },
  {
   "cell_type": "code",
   "execution_count": 52,
   "id": "69a23775",
   "metadata": {},
   "outputs": [
    {
     "data": {
      "text/plain": [
       "complex"
      ]
     },
     "execution_count": 52,
     "metadata": {},
     "output_type": "execute_result"
    }
   ],
   "source": [
    "type(my_c)\n"
   ]
  },
  {
   "cell_type": "code",
   "execution_count": 53,
   "id": "0826fb55",
   "metadata": {},
   "outputs": [
    {
     "data": {
      "text/plain": [
       "1758418672784"
      ]
     },
     "execution_count": 53,
     "metadata": {},
     "output_type": "execute_result"
    }
   ],
   "source": [
    "id(my_c)"
   ]
  },
  {
   "cell_type": "code",
   "execution_count": 54,
   "id": "88760fd7",
   "metadata": {},
   "outputs": [],
   "source": [
    "my_n = None"
   ]
  },
  {
   "cell_type": "code",
   "execution_count": 55,
   "id": "22d470ea",
   "metadata": {},
   "outputs": [
    {
     "name": "stdout",
     "output_type": "stream",
     "text": [
      "None\n"
     ]
    }
   ],
   "source": [
    "print(my_n)"
   ]
  },
  {
   "cell_type": "code",
   "execution_count": 56,
   "id": "a0a9a733",
   "metadata": {},
   "outputs": [
    {
     "data": {
      "text/plain": [
       "NoneType"
      ]
     },
     "execution_count": 56,
     "metadata": {},
     "output_type": "execute_result"
    }
   ],
   "source": [
    "type(my_n)"
   ]
  },
  {
   "cell_type": "code",
   "execution_count": 57,
   "id": "f9962e40",
   "metadata": {},
   "outputs": [
    {
     "data": {
      "text/plain": [
       "140712885262464"
      ]
     },
     "execution_count": 57,
     "metadata": {},
     "output_type": "execute_result"
    }
   ],
   "source": [
    "id(my_n)"
   ]
  },
  {
   "cell_type": "code",
   "execution_count": 60,
   "id": "6a20ed16",
   "metadata": {},
   "outputs": [
    {
     "name": "stdout",
     "output_type": "stream",
     "text": [
      "23.0\n"
     ]
    }
   ],
   "source": [
    "print(my_c.imag)"
   ]
  },
  {
   "cell_type": "code",
   "execution_count": 61,
   "id": "4bc6f9ab",
   "metadata": {},
   "outputs": [
    {
     "name": "stdout",
     "output_type": "stream",
     "text": [
      "45.0\n"
     ]
    }
   ],
   "source": [
    "print(my_c.real)"
   ]
  },
  {
   "cell_type": "code",
   "execution_count": 62,
   "id": "0d4e6d27",
   "metadata": {},
   "outputs": [
    {
     "data": {
      "text/plain": [
       "<function complex.conjugate>"
      ]
     },
     "execution_count": 62,
     "metadata": {},
     "output_type": "execute_result"
    }
   ],
   "source": [
    "my_c.conjugate"
   ]
  },
  {
   "cell_type": "markdown",
   "id": "847bebb0",
   "metadata": {},
   "source": [
    "# Input"
   ]
  },
  {
   "cell_type": "code",
   "execution_count": 63,
   "id": "8e7a6dd7",
   "metadata": {},
   "outputs": [
    {
     "name": "stdout",
     "output_type": "stream",
     "text": [
      "Enter your name : Sanjay Kumar\n"
     ]
    }
   ],
   "source": [
    "name = input(\"Enter your name : \")"
   ]
  },
  {
   "cell_type": "code",
   "execution_count": 64,
   "id": "c76eea57",
   "metadata": {},
   "outputs": [
    {
     "data": {
      "text/plain": [
       "str"
      ]
     },
     "execution_count": 64,
     "metadata": {},
     "output_type": "execute_result"
    }
   ],
   "source": [
    "type(name )"
   ]
  },
  {
   "cell_type": "code",
   "execution_count": 65,
   "id": "a90f4d09",
   "metadata": {},
   "outputs": [
    {
     "name": "stdout",
     "output_type": "stream",
     "text": [
      "Sanjay Kumar\n"
     ]
    }
   ],
   "source": [
    "print(name )"
   ]
  },
  {
   "cell_type": "markdown",
   "id": "20ee09ce",
   "metadata": {},
   "source": [
    "# Type casting "
   ]
  },
  {
   "cell_type": "code",
   "execution_count": 66,
   "id": "b9ff4ac4",
   "metadata": {},
   "outputs": [],
   "source": [
    "a = \"8\""
   ]
  },
  {
   "cell_type": "code",
   "execution_count": 67,
   "id": "fcef57cc",
   "metadata": {},
   "outputs": [
    {
     "data": {
      "text/plain": [
       "str"
      ]
     },
     "execution_count": 67,
     "metadata": {},
     "output_type": "execute_result"
    }
   ],
   "source": [
    "type(a)"
   ]
  },
  {
   "cell_type": "code",
   "execution_count": 69,
   "id": "cec84fce",
   "metadata": {},
   "outputs": [],
   "source": [
    "b = int(a)"
   ]
  },
  {
   "cell_type": "code",
   "execution_count": 70,
   "id": "6cea330d",
   "metadata": {},
   "outputs": [
    {
     "data": {
      "text/plain": [
       "int"
      ]
     },
     "execution_count": 70,
     "metadata": {},
     "output_type": "execute_result"
    }
   ],
   "source": [
    "type(b)"
   ]
  },
  {
   "cell_type": "code",
   "execution_count": 71,
   "id": "c6219e5d",
   "metadata": {},
   "outputs": [
    {
     "data": {
      "text/plain": [
       "8.0"
      ]
     },
     "execution_count": 71,
     "metadata": {},
     "output_type": "execute_result"
    }
   ],
   "source": [
    "float(a)"
   ]
  },
  {
   "cell_type": "code",
   "execution_count": 72,
   "id": "65a10b23",
   "metadata": {},
   "outputs": [
    {
     "data": {
      "text/plain": [
       "(8+0j)"
      ]
     },
     "execution_count": 72,
     "metadata": {},
     "output_type": "execute_result"
    }
   ],
   "source": [
    "complex(a)"
   ]
  },
  {
   "cell_type": "code",
   "execution_count": 73,
   "id": "82249e0e",
   "metadata": {},
   "outputs": [
    {
     "data": {
      "text/plain": [
       "True"
      ]
     },
     "execution_count": 73,
     "metadata": {},
     "output_type": "execute_result"
    }
   ],
   "source": [
    "bool(a)"
   ]
  },
  {
   "cell_type": "code",
   "execution_count": 75,
   "id": "81cc36ac",
   "metadata": {},
   "outputs": [],
   "source": [
    "v = 45"
   ]
  },
  {
   "cell_type": "code",
   "execution_count": 76,
   "id": "a91293b8",
   "metadata": {},
   "outputs": [
    {
     "data": {
      "text/plain": [
       "'45'"
      ]
     },
     "execution_count": 76,
     "metadata": {},
     "output_type": "execute_result"
    }
   ],
   "source": [
    "str(v)"
   ]
  },
  {
   "cell_type": "code",
   "execution_count": 77,
   "id": "f386c149",
   "metadata": {},
   "outputs": [
    {
     "name": "stdout",
     "output_type": "stream",
     "text": [
      "Enter your age : 28\n"
     ]
    }
   ],
   "source": [
    "age = int (input(\"Enter your age : \"))"
   ]
  },
  {
   "cell_type": "code",
   "execution_count": 78,
   "id": "c7d32634",
   "metadata": {},
   "outputs": [
    {
     "data": {
      "text/plain": [
       "int"
      ]
     },
     "execution_count": 78,
     "metadata": {},
     "output_type": "execute_result"
    }
   ],
   "source": [
    "type(age)"
   ]
  },
  {
   "cell_type": "markdown",
   "id": "5b5cf9c0",
   "metadata": {},
   "source": [
    "# Python Statements \n",
    "* single line statement\n",
    "* multiline statement\n"
   ]
  },
  {
   "cell_type": "code",
   "execution_count": 79,
   "id": "377fa808",
   "metadata": {},
   "outputs": [],
   "source": [
    "s = 45"
   ]
  },
  {
   "cell_type": "code",
   "execution_count": 80,
   "id": "a9bddc34",
   "metadata": {},
   "outputs": [],
   "source": [
    "e = \"english\""
   ]
  },
  {
   "cell_type": "code",
   "execution_count": 81,
   "id": "c34e3b6c",
   "metadata": {},
   "outputs": [],
   "source": [
    "a = 1+2+3+\\\n",
    "    4+5+6+\\\n",
    "    7+8+9"
   ]
  },
  {
   "cell_type": "code",
   "execution_count": 82,
   "id": "ef7572bf",
   "metadata": {},
   "outputs": [
    {
     "data": {
      "text/plain": [
       "45"
      ]
     },
     "execution_count": 82,
     "metadata": {},
     "output_type": "execute_result"
    }
   ],
   "source": [
    "a"
   ]
  },
  {
   "cell_type": "code",
   "execution_count": 84,
   "id": "b62a5ee7",
   "metadata": {},
   "outputs": [],
   "source": [
    "a = (1+2+3+\n",
    "    4+5+6+7+\n",
    "    8+9+1)"
   ]
  },
  {
   "cell_type": "code",
   "execution_count": 85,
   "id": "d16a96f8",
   "metadata": {},
   "outputs": [
    {
     "data": {
      "text/plain": [
       "46"
      ]
     },
     "execution_count": 85,
     "metadata": {},
     "output_type": "execute_result"
    }
   ],
   "source": [
    "a"
   ]
  },
  {
   "cell_type": "markdown",
   "id": "f51ffc3b",
   "metadata": {},
   "source": [
    "# Output formatting"
   ]
  },
  {
   "cell_type": "code",
   "execution_count": 86,
   "id": "6598bded",
   "metadata": {},
   "outputs": [
    {
     "name": "stdout",
     "output_type": "stream",
     "text": [
      "The value of a is 10 and b is 20\n"
     ]
    }
   ],
   "source": [
    "a = 10\n",
    "b = 20\n",
    "\n",
    "print(\"The value of a is {} and b is {}\".format(a,b))"
   ]
  },
  {
   "cell_type": "code",
   "execution_count": 88,
   "id": "3e198737",
   "metadata": {},
   "outputs": [
    {
     "name": "stdout",
     "output_type": "stream",
     "text": [
      "The value of a is 20 and b is 10\n"
     ]
    }
   ],
   "source": [
    "a = 10\n",
    "b = 20\n",
    "\n",
    "print(\"The value of a is {1} and b is {0}\".format(a,b))"
   ]
  },
  {
   "cell_type": "code",
   "execution_count": 91,
   "id": "c8c8231c",
   "metadata": {},
   "outputs": [
    {
     "name": "stdout",
     "output_type": "stream",
     "text": [
      "Hello sanjay and Good morning\n"
     ]
    }
   ],
   "source": [
    "name = \"sanjay\"\n",
    "greetings = \"Good morning\"\n",
    "\n",
    "print(\"Hello {n} and {g}\".format( g = greetings, n = name ,))"
   ]
  },
  {
   "cell_type": "markdown",
   "id": "81b0827c",
   "metadata": {},
   "source": [
    "# Operators and expressions"
   ]
  },
  {
   "cell_type": "markdown",
   "id": "999e1c8b",
   "metadata": {},
   "source": [
    "# Arithmetic operators "
   ]
  },
  {
   "cell_type": "code",
   "execution_count": 92,
   "id": "206f584f",
   "metadata": {},
   "outputs": [],
   "source": [
    "# +-*///**%"
   ]
  },
  {
   "cell_type": "code",
   "execution_count": 93,
   "id": "2470380f",
   "metadata": {},
   "outputs": [
    {
     "data": {
      "text/plain": [
       "48"
      ]
     },
     "execution_count": 93,
     "metadata": {},
     "output_type": "execute_result"
    }
   ],
   "source": [
    "23+25"
   ]
  },
  {
   "cell_type": "code",
   "execution_count": 94,
   "id": "def8bc1d",
   "metadata": {},
   "outputs": [
    {
     "data": {
      "text/plain": [
       "22"
      ]
     },
     "execution_count": 94,
     "metadata": {},
     "output_type": "execute_result"
    }
   ],
   "source": [
    "45-23"
   ]
  },
  {
   "cell_type": "code",
   "execution_count": 95,
   "id": "97c3563c",
   "metadata": {},
   "outputs": [
    {
     "data": {
      "text/plain": [
       "6"
      ]
     },
     "execution_count": 95,
     "metadata": {},
     "output_type": "execute_result"
    }
   ],
   "source": [
    "2*3"
   ]
  },
  {
   "cell_type": "code",
   "execution_count": 96,
   "id": "906743b0",
   "metadata": {},
   "outputs": [
    {
     "data": {
      "text/plain": [
       "9.0"
      ]
     },
     "execution_count": 96,
     "metadata": {},
     "output_type": "execute_result"
    }
   ],
   "source": [
    "45/5"
   ]
  },
  {
   "cell_type": "code",
   "execution_count": 97,
   "id": "63307862",
   "metadata": {},
   "outputs": [
    {
     "data": {
      "text/plain": [
       "9"
      ]
     },
     "execution_count": 97,
     "metadata": {},
     "output_type": "execute_result"
    }
   ],
   "source": [
    "45//5"
   ]
  },
  {
   "cell_type": "code",
   "execution_count": 98,
   "id": "307f7755",
   "metadata": {},
   "outputs": [
    {
     "data": {
      "text/plain": [
       "32"
      ]
     },
     "execution_count": 98,
     "metadata": {},
     "output_type": "execute_result"
    }
   ],
   "source": [
    "2**5"
   ]
  },
  {
   "cell_type": "code",
   "execution_count": 99,
   "id": "ddd04c74",
   "metadata": {},
   "outputs": [
    {
     "data": {
      "text/plain": [
       "243"
      ]
     },
     "execution_count": 99,
     "metadata": {},
     "output_type": "execute_result"
    }
   ],
   "source": [
    "3**5"
   ]
  },
  {
   "cell_type": "code",
   "execution_count": 100,
   "id": "28899e20",
   "metadata": {},
   "outputs": [
    {
     "data": {
      "text/plain": [
       "0"
      ]
     },
     "execution_count": 100,
     "metadata": {},
     "output_type": "execute_result"
    }
   ],
   "source": [
    "12%2"
   ]
  },
  {
   "cell_type": "code",
   "execution_count": 101,
   "id": "8b3089d5",
   "metadata": {},
   "outputs": [
    {
     "data": {
      "text/plain": [
       "0"
      ]
     },
     "execution_count": 101,
     "metadata": {},
     "output_type": "execute_result"
    }
   ],
   "source": [
    "12%3"
   ]
  },
  {
   "cell_type": "code",
   "execution_count": 102,
   "id": "c7486a55",
   "metadata": {},
   "outputs": [
    {
     "data": {
      "text/plain": [
       "0"
      ]
     },
     "execution_count": 102,
     "metadata": {},
     "output_type": "execute_result"
    }
   ],
   "source": [
    "12%4"
   ]
  },
  {
   "cell_type": "code",
   "execution_count": 103,
   "id": "47061048",
   "metadata": {},
   "outputs": [
    {
     "data": {
      "text/plain": [
       "2"
      ]
     },
     "execution_count": 103,
     "metadata": {},
     "output_type": "execute_result"
    }
   ],
   "source": [
    "12%5"
   ]
  },
  {
   "cell_type": "markdown",
   "id": "fb36d91a",
   "metadata": {},
   "source": [
    "# Comparison Operators"
   ]
  },
  {
   "cell_type": "code",
   "execution_count": 104,
   "id": "395746c3",
   "metadata": {},
   "outputs": [],
   "source": [
    "# ><>=<===!="
   ]
  },
  {
   "cell_type": "code",
   "execution_count": 105,
   "id": "9ecb8da3",
   "metadata": {},
   "outputs": [
    {
     "data": {
      "text/plain": [
       "False"
      ]
     },
     "execution_count": 105,
     "metadata": {},
     "output_type": "execute_result"
    }
   ],
   "source": [
    "2>3"
   ]
  },
  {
   "cell_type": "code",
   "execution_count": 106,
   "id": "c9693e12",
   "metadata": {},
   "outputs": [
    {
     "data": {
      "text/plain": [
       "True"
      ]
     },
     "execution_count": 106,
     "metadata": {},
     "output_type": "execute_result"
    }
   ],
   "source": [
    "2<3"
   ]
  },
  {
   "cell_type": "code",
   "execution_count": 107,
   "id": "7e13b37f",
   "metadata": {},
   "outputs": [
    {
     "data": {
      "text/plain": [
       "False"
      ]
     },
     "execution_count": 107,
     "metadata": {},
     "output_type": "execute_result"
    }
   ],
   "source": [
    "5>=6"
   ]
  },
  {
   "cell_type": "code",
   "execution_count": 108,
   "id": "6960cfe4",
   "metadata": {},
   "outputs": [
    {
     "data": {
      "text/plain": [
       "True"
      ]
     },
     "execution_count": 108,
     "metadata": {},
     "output_type": "execute_result"
    }
   ],
   "source": [
    "5<=6"
   ]
  },
  {
   "cell_type": "code",
   "execution_count": 109,
   "id": "07b82d03",
   "metadata": {},
   "outputs": [
    {
     "data": {
      "text/plain": [
       "True"
      ]
     },
     "execution_count": 109,
     "metadata": {},
     "output_type": "execute_result"
    }
   ],
   "source": [
    "5==5"
   ]
  },
  {
   "cell_type": "code",
   "execution_count": 110,
   "id": "c033669c",
   "metadata": {},
   "outputs": [
    {
     "data": {
      "text/plain": [
       "False"
      ]
     },
     "execution_count": 110,
     "metadata": {},
     "output_type": "execute_result"
    }
   ],
   "source": [
    "5==6"
   ]
  },
  {
   "cell_type": "code",
   "execution_count": 111,
   "id": "c986e64e",
   "metadata": {},
   "outputs": [
    {
     "data": {
      "text/plain": [
       "True"
      ]
     },
     "execution_count": 111,
     "metadata": {},
     "output_type": "execute_result"
    }
   ],
   "source": [
    "5!=6"
   ]
  },
  {
   "cell_type": "markdown",
   "id": "618ac165",
   "metadata": {},
   "source": [
    "# Logical operator "
   ]
  },
  {
   "cell_type": "code",
   "execution_count": 112,
   "id": "e33c63e3",
   "metadata": {},
   "outputs": [],
   "source": [
    "# And , or , Not "
   ]
  },
  {
   "cell_type": "code",
   "execution_count": 115,
   "id": "588f8aae",
   "metadata": {},
   "outputs": [
    {
     "data": {
      "text/plain": [
       "True"
      ]
     },
     "execution_count": 115,
     "metadata": {},
     "output_type": "execute_result"
    }
   ],
   "source": [
    "not (5>4 and 4<3)"
   ]
  },
  {
   "cell_type": "code",
   "execution_count": 116,
   "id": "99240bca",
   "metadata": {},
   "outputs": [
    {
     "data": {
      "text/plain": [
       "False"
      ]
     },
     "execution_count": 116,
     "metadata": {},
     "output_type": "execute_result"
    }
   ],
   "source": [
    "not(5>6 or 5<8)"
   ]
  },
  {
   "cell_type": "markdown",
   "id": "0436a565",
   "metadata": {},
   "source": [
    "# Bitwise operator "
   ]
  },
  {
   "cell_type": "code",
   "execution_count": 117,
   "id": "7c372d58",
   "metadata": {},
   "outputs": [],
   "source": [
    "# &, |, ^"
   ]
  },
  {
   "cell_type": "code",
   "execution_count": 118,
   "id": "912202ab",
   "metadata": {},
   "outputs": [
    {
     "data": {
      "text/plain": [
       "0"
      ]
     },
     "execution_count": 118,
     "metadata": {},
     "output_type": "execute_result"
    }
   ],
   "source": [
    "10& 4"
   ]
  },
  {
   "cell_type": "code",
   "execution_count": 119,
   "id": "723e01d4",
   "metadata": {},
   "outputs": [
    {
     "data": {
      "text/plain": [
       "14"
      ]
     },
     "execution_count": 119,
     "metadata": {},
     "output_type": "execute_result"
    }
   ],
   "source": [
    "10|4"
   ]
  },
  {
   "cell_type": "code",
   "execution_count": 120,
   "id": "376f9b3d",
   "metadata": {},
   "outputs": [
    {
     "data": {
      "text/plain": [
       "14"
      ]
     },
     "execution_count": 120,
     "metadata": {},
     "output_type": "execute_result"
    }
   ],
   "source": [
    "10^4"
   ]
  },
  {
   "cell_type": "markdown",
   "id": "19aa1930",
   "metadata": {},
   "source": [
    "# Assignment operator "
   ]
  },
  {
   "cell_type": "code",
   "execution_count": 121,
   "id": "899881aa",
   "metadata": {},
   "outputs": [],
   "source": [
    "# = , +=,-=,*=,/="
   ]
  },
  {
   "cell_type": "code",
   "execution_count": 122,
   "id": "87739bf3",
   "metadata": {},
   "outputs": [],
   "source": [
    "a = 5"
   ]
  },
  {
   "cell_type": "code",
   "execution_count": 123,
   "id": "6a329bce",
   "metadata": {},
   "outputs": [],
   "source": [
    "a = a+2"
   ]
  },
  {
   "cell_type": "code",
   "execution_count": 124,
   "id": "931c2302",
   "metadata": {},
   "outputs": [
    {
     "data": {
      "text/plain": [
       "7"
      ]
     },
     "execution_count": 124,
     "metadata": {},
     "output_type": "execute_result"
    }
   ],
   "source": [
    "a"
   ]
  },
  {
   "cell_type": "code",
   "execution_count": 125,
   "id": "415d9006",
   "metadata": {},
   "outputs": [],
   "source": [
    "a+=2"
   ]
  },
  {
   "cell_type": "code",
   "execution_count": 126,
   "id": "f18827d5",
   "metadata": {},
   "outputs": [
    {
     "data": {
      "text/plain": [
       "9"
      ]
     },
     "execution_count": 126,
     "metadata": {},
     "output_type": "execute_result"
    }
   ],
   "source": [
    "a"
   ]
  },
  {
   "cell_type": "code",
   "execution_count": 127,
   "id": "2283f2a0",
   "metadata": {},
   "outputs": [],
   "source": [
    "a-=5"
   ]
  },
  {
   "cell_type": "code",
   "execution_count": 128,
   "id": "abc07016",
   "metadata": {},
   "outputs": [
    {
     "data": {
      "text/plain": [
       "4"
      ]
     },
     "execution_count": 128,
     "metadata": {},
     "output_type": "execute_result"
    }
   ],
   "source": [
    "a\n"
   ]
  },
  {
   "cell_type": "code",
   "execution_count": 129,
   "id": "fb699a19",
   "metadata": {},
   "outputs": [],
   "source": [
    "a*=5"
   ]
  },
  {
   "cell_type": "code",
   "execution_count": 130,
   "id": "fdac5c6f",
   "metadata": {},
   "outputs": [
    {
     "data": {
      "text/plain": [
       "20"
      ]
     },
     "execution_count": 130,
     "metadata": {},
     "output_type": "execute_result"
    }
   ],
   "source": [
    "a"
   ]
  },
  {
   "cell_type": "code",
   "execution_count": 131,
   "id": "28226bfd",
   "metadata": {},
   "outputs": [],
   "source": [
    "a/=4"
   ]
  },
  {
   "cell_type": "code",
   "execution_count": 132,
   "id": "2dc8684d",
   "metadata": {},
   "outputs": [
    {
     "data": {
      "text/plain": [
       "5.0"
      ]
     },
     "execution_count": 132,
     "metadata": {},
     "output_type": "execute_result"
    }
   ],
   "source": [
    "a"
   ]
  },
  {
   "cell_type": "markdown",
   "id": "384399cc",
   "metadata": {},
   "source": [
    "# Special operators "
   ]
  },
  {
   "cell_type": "code",
   "execution_count": 133,
   "id": "7694eff1",
   "metadata": {},
   "outputs": [],
   "source": [
    "# in and is "
   ]
  },
  {
   "cell_type": "code",
   "execution_count": 134,
   "id": "80b32a94",
   "metadata": {},
   "outputs": [],
   "source": [
    "str = \"Good morning \""
   ]
  },
  {
   "cell_type": "code",
   "execution_count": 135,
   "id": "4e7943a3",
   "metadata": {},
   "outputs": [
    {
     "data": {
      "text/plain": [
       "True"
      ]
     },
     "execution_count": 135,
     "metadata": {},
     "output_type": "execute_result"
    }
   ],
   "source": [
    "\"g\" in str"
   ]
  },
  {
   "cell_type": "code",
   "execution_count": 136,
   "id": "c0d7181a",
   "metadata": {},
   "outputs": [
    {
     "data": {
      "text/plain": [
       "False"
      ]
     },
     "execution_count": 136,
     "metadata": {},
     "output_type": "execute_result"
    }
   ],
   "source": [
    "\"z\" in str"
   ]
  },
  {
   "cell_type": "code",
   "execution_count": 137,
   "id": "b712c3f8",
   "metadata": {},
   "outputs": [
    {
     "data": {
      "text/plain": [
       "True"
      ]
     },
     "execution_count": 137,
     "metadata": {},
     "output_type": "execute_result"
    }
   ],
   "source": [
    "\"bad \" not in str"
   ]
  },
  {
   "cell_type": "code",
   "execution_count": 138,
   "id": "9fb38591",
   "metadata": {},
   "outputs": [],
   "source": [
    "a = 1000"
   ]
  },
  {
   "cell_type": "code",
   "execution_count": 139,
   "id": "ade19516",
   "metadata": {},
   "outputs": [
    {
     "data": {
      "text/plain": [
       "1758422871920"
      ]
     },
     "execution_count": 139,
     "metadata": {},
     "output_type": "execute_result"
    }
   ],
   "source": [
    "id(a)"
   ]
  },
  {
   "cell_type": "code",
   "execution_count": 144,
   "id": "f9ec072b",
   "metadata": {},
   "outputs": [],
   "source": [
    "b = 1000"
   ]
  },
  {
   "cell_type": "code",
   "execution_count": 145,
   "id": "c4feeb4a",
   "metadata": {},
   "outputs": [
    {
     "data": {
      "text/plain": [
       "1758422869168"
      ]
     },
     "execution_count": 145,
     "metadata": {},
     "output_type": "execute_result"
    }
   ],
   "source": [
    "id(B)"
   ]
  },
  {
   "cell_type": "code",
   "execution_count": 146,
   "id": "ec3ba61b",
   "metadata": {},
   "outputs": [
    {
     "data": {
      "text/plain": [
       "True"
      ]
     },
     "execution_count": 146,
     "metadata": {},
     "output_type": "execute_result"
    }
   ],
   "source": [
    "a == b"
   ]
  },
  {
   "cell_type": "code",
   "execution_count": 147,
   "id": "1a5fa961",
   "metadata": {},
   "outputs": [
    {
     "data": {
      "text/plain": [
       "False"
      ]
     },
     "execution_count": 147,
     "metadata": {},
     "output_type": "execute_result"
    }
   ],
   "source": [
    "a is b"
   ]
  },
  {
   "cell_type": "code",
   "execution_count": 148,
   "id": "d6dd856c",
   "metadata": {},
   "outputs": [
    {
     "data": {
      "text/plain": [
       "True"
      ]
     },
     "execution_count": 148,
     "metadata": {},
     "output_type": "execute_result"
    }
   ],
   "source": [
    "a is not b"
   ]
  },
  {
   "cell_type": "code",
   "execution_count": 149,
   "id": "c38bf601",
   "metadata": {},
   "outputs": [
    {
     "data": {
      "text/plain": [
       "'0b1010'"
      ]
     },
     "execution_count": 149,
     "metadata": {},
     "output_type": "execute_result"
    }
   ],
   "source": [
    "bin(10)"
   ]
  },
  {
   "cell_type": "code",
   "execution_count": 150,
   "id": "44d8d446",
   "metadata": {},
   "outputs": [],
   "source": [
    "a,b,c = \"ml\", 100, \"datascinece\""
   ]
  },
  {
   "cell_type": "code",
   "execution_count": 151,
   "id": "0a256a0f",
   "metadata": {},
   "outputs": [
    {
     "data": {
      "text/plain": [
       "'ml'"
      ]
     },
     "execution_count": 151,
     "metadata": {},
     "output_type": "execute_result"
    }
   ],
   "source": [
    "a"
   ]
  },
  {
   "cell_type": "code",
   "execution_count": 152,
   "id": "c985d88c",
   "metadata": {},
   "outputs": [
    {
     "data": {
      "text/plain": [
       "100"
      ]
     },
     "execution_count": 152,
     "metadata": {},
     "output_type": "execute_result"
    }
   ],
   "source": [
    "b"
   ]
  },
  {
   "cell_type": "code",
   "execution_count": 153,
   "id": "665ef2fd",
   "metadata": {},
   "outputs": [
    {
     "data": {
      "text/plain": [
       "'datascinece'"
      ]
     },
     "execution_count": 153,
     "metadata": {},
     "output_type": "execute_result"
    }
   ],
   "source": [
    "c"
   ]
  },
  {
   "cell_type": "code",
   "execution_count": 154,
   "id": "ae89828a",
   "metadata": {},
   "outputs": [],
   "source": [
    "a= b= c = 10"
   ]
  },
  {
   "cell_type": "code",
   "execution_count": 155,
   "id": "b30142f2",
   "metadata": {},
   "outputs": [
    {
     "data": {
      "text/plain": [
       "10"
      ]
     },
     "execution_count": 155,
     "metadata": {},
     "output_type": "execute_result"
    }
   ],
   "source": [
    "c"
   ]
  },
  {
   "cell_type": "markdown",
   "id": "f8f4be13",
   "metadata": {},
   "source": [
    "# Control Flow"
   ]
  },
  {
   "cell_type": "code",
   "execution_count": 156,
   "id": "1e5080f1",
   "metadata": {},
   "outputs": [],
   "source": [
    "# Conditional statments if,elif,else\n",
    "# loops"
   ]
  },
  {
   "cell_type": "code",
   "execution_count": 160,
   "id": "302d6b2e",
   "metadata": {},
   "outputs": [
    {
     "name": "stdout",
     "output_type": "stream",
     "text": [
      "grow up kid\n"
     ]
    }
   ],
   "source": [
    "age = 17\n",
    "\n",
    "if age>=18:\n",
    "    print(\"you are eligible to vote\")\n",
    "else:\n",
    "    print(\"grow up kid\")"
   ]
  },
  {
   "cell_type": "code",
   "execution_count": 166,
   "id": "53679cc4",
   "metadata": {},
   "outputs": [
    {
     "name": "stdout",
     "output_type": "stream",
     "text": [
      "Enter your income : 800\n",
      "earn more\n",
      "bad people\n"
     ]
    }
   ],
   "source": [
    "income = int(input(\"Enter your income : \"))\n",
    " \n",
    "if income>=1000:\n",
    "    print(\"yor can submit your tax\")\n",
    "    print(\"good citizen\")\n",
    "else:\n",
    "    print(\"earn more\")\n",
    "    print(\"bad people\")"
   ]
  },
  {
   "cell_type": "code",
   "execution_count": 170,
   "id": "f41f7320",
   "metadata": {},
   "outputs": [
    {
     "name": "stdout",
     "output_type": "stream",
     "text": [
      "negative number\n"
     ]
    }
   ],
   "source": [
    "num = -5\n",
    "\n",
    "\n",
    "if num > 0:\n",
    "    print(\"positive number\")\n",
    "elif num==0:\n",
    "    print(\"zerro\")\n",
    "else:\n",
    "    print(\"negative number\")"
   ]
  },
  {
   "cell_type": "code",
   "execution_count": 173,
   "id": "7fdf67cb",
   "metadata": {},
   "outputs": [
    {
     "name": "stdout",
     "output_type": "stream",
     "text": [
      "positive number\n"
     ]
    }
   ],
   "source": [
    "num  = 2\n",
    "\n",
    "\n",
    "\n",
    "if num >=0:\n",
    "    if num==0:\n",
    "        print(\"zero number\")\n",
    "    else:\n",
    "        print('positive number')\n",
    "else:\n",
    "    print(\"negative number\")"
   ]
  },
  {
   "cell_type": "code",
   "execution_count": 176,
   "id": "3f2cbc05",
   "metadata": {},
   "outputs": [
    {
     "name": "stdout",
     "output_type": "stream",
     "text": [
      "Give me discount : 80\n",
      "gold items\n"
     ]
    }
   ],
   "source": [
    "discount = int(input(\"Give me discount : \"))\n",
    "\n",
    "if discount>=70:\n",
    "    if discount == 70:\n",
    "        print(\"premium item\")\n",
    "    else:\n",
    "        print(\"gold items\")\n",
    "else:\n",
    "    print(\"bad items\")"
   ]
  },
  {
   "cell_type": "code",
   "execution_count": 179,
   "id": "e743db5e",
   "metadata": {},
   "outputs": [
    {
     "name": "stdout",
     "output_type": "stream",
     "text": [
      "The largest number among three is 1000\n"
     ]
    }
   ],
   "source": [
    "num1 = 1000\n",
    "num2 = 200\n",
    "num3 = 30\n",
    "\n",
    "\n",
    "if num1>num2 and num1>num3:\n",
    "    largest = num1\n",
    "elif num2>num3 and num2>num1:\n",
    "    largest = num2\n",
    "else:\n",
    "    largest = num3\n",
    "\n",
    "print(\"The largest number among three is {}\".format(largest))"
   ]
  },
  {
   "cell_type": "code",
   "execution_count": 185,
   "id": "21d25b85",
   "metadata": {},
   "outputs": [
    {
     "name": "stdout",
     "output_type": "stream",
     "text": [
      "2 , 4 , 6 , 8 , 10 , 12 , 14 , 16 , 18 , 20 , \n",
      "all done\n"
     ]
    }
   ],
   "source": [
    "i = 1\n",
    "while i<=20:\n",
    "    if i%2==0:\n",
    "        print(i, end = \" , \")\n",
    "    i+=1\n",
    "else:\n",
    "    print()\n",
    "    print(\"all done\")"
   ]
  },
  {
   "cell_type": "code",
   "execution_count": 190,
   "id": "a726f116",
   "metadata": {},
   "outputs": [
    {
     "data": {
      "text/plain": [
       "[0, 1, 2, 3, 4]"
      ]
     },
     "execution_count": 190,
     "metadata": {},
     "output_type": "execute_result"
    }
   ],
   "source": [
    "list(range(5))"
   ]
  },
  {
   "cell_type": "code",
   "execution_count": 192,
   "id": "8e0588a6",
   "metadata": {},
   "outputs": [
    {
     "data": {
      "text/plain": [
       "[2, 4, 6, 8, 10, 12, 14, 16, 18, 20]"
      ]
     },
     "execution_count": 192,
     "metadata": {},
     "output_type": "execute_result"
    }
   ],
   "source": [
    "list(range(2,21,2))"
   ]
  },
  {
   "cell_type": "code",
   "execution_count": 196,
   "id": "4e9135f6",
   "metadata": {},
   "outputs": [
    {
     "name": "stdout",
     "output_type": "stream",
     "text": [
      "2, 4, 6, 8, 10, 12, 14, 16, 18, 20, \n",
      "No elements left \n"
     ]
    }
   ],
   "source": [
    "for i in range(2,21):\n",
    "    if i%2==0:\n",
    "        print(i, end = \", \")\n",
    "else:\n",
    "    print()\n",
    "    print(\"No elements left \")"
   ]
  },
  {
   "cell_type": "code",
   "execution_count": 198,
   "id": "d0d3ce0f",
   "metadata": {},
   "outputs": [
    {
     "name": "stdout",
     "output_type": "stream",
     "text": [
      "2 , 4 , 6 , 8 , 10 , 12 , 14 , 16 , 18 , 20 , "
     ]
    }
   ],
   "source": [
    "for i in range(2,21,2):\n",
    "    print(i, end = \" , \")"
   ]
  },
  {
   "cell_type": "code",
   "execution_count": 202,
   "id": "043f6be8",
   "metadata": {},
   "outputs": [
    {
     "name": "stdout",
     "output_type": "stream",
     "text": [
      "1 , 3 , 5 , 7 , 9 , 11 , 13 , 15 , 17 , 19 , \n",
      "finished \n"
     ]
    }
   ],
   "source": [
    "for i in range(1,21,2):\n",
    "    print(i, end = \" , \")\n",
    "else:\n",
    "    print()\n",
    "    print(\"finished \")"
   ]
  },
  {
   "cell_type": "code",
   "execution_count": 204,
   "id": "a7290aa1",
   "metadata": {},
   "outputs": [
    {
     "name": "stdout",
     "output_type": "stream",
     "text": [
      "5x1 = 5\n",
      "5x2 = 10\n",
      "5x3 = 15\n",
      "5x4 = 20\n",
      "5x5 = 25\n",
      "5x6 = 30\n",
      "5x7 = 35\n",
      "5x8 = 40\n",
      "5x9 = 45\n",
      "5x10 = 50\n",
      "All done\n"
     ]
    }
   ],
   "source": [
    "n = 5\n",
    "\n",
    "for i in range(1,11):\n",
    "    print(\"{}x{} = {}\".format(n, i, n*i))\n",
    "else:\n",
    "    print(\"All done\")\n",
    "    "
   ]
  },
  {
   "cell_type": "markdown",
   "id": "a8cf6b4c",
   "metadata": {},
   "source": [
    "# Pattern printing"
   ]
  },
  {
   "cell_type": "code",
   "execution_count": 212,
   "id": "711d37b4",
   "metadata": {},
   "outputs": [],
   "source": [
    "n = 15 "
   ]
  },
  {
   "cell_type": "code",
   "execution_count": 213,
   "id": "c36d002e",
   "metadata": {},
   "outputs": [
    {
     "name": "stdout",
     "output_type": "stream",
     "text": [
      "* \n",
      "* * \n",
      "* * * \n",
      "* * * * \n",
      "* * * * * \n",
      "* * * * * * \n",
      "* * * * * * * \n",
      "* * * * * * * * \n",
      "* * * * * * * * * \n",
      "* * * * * * * * * * \n",
      "* * * * * * * * * * * \n",
      "* * * * * * * * * * * * \n",
      "* * * * * * * * * * * * * \n",
      "* * * * * * * * * * * * * * \n",
      "* * * * * * * * * * * * * * * \n"
     ]
    }
   ],
   "source": [
    "for i in range(1,n+1):\n",
    "    for j in range(1,i+1):\n",
    "        print(\"*\", end = \" \")\n",
    "    print()"
   ]
  },
  {
   "cell_type": "code",
   "execution_count": 214,
   "id": "12287165",
   "metadata": {},
   "outputs": [
    {
     "data": {
      "text/plain": [
       "'hellohellohellohellohello'"
      ]
     },
     "execution_count": 214,
     "metadata": {},
     "output_type": "execute_result"
    }
   ],
   "source": [
    "\"hello\"*5"
   ]
  },
  {
   "cell_type": "code",
   "execution_count": 215,
   "id": "5f44276c",
   "metadata": {},
   "outputs": [
    {
     "name": "stdout",
     "output_type": "stream",
     "text": [
      "*\n",
      "**\n",
      "***\n",
      "****\n",
      "*****\n",
      "******\n",
      "*******\n",
      "********\n",
      "*********\n",
      "**********\n",
      "***********\n",
      "************\n",
      "*************\n",
      "**************\n",
      "***************\n"
     ]
    }
   ],
   "source": [
    "for i in range(1,n+1):\n",
    "    print(\"*\"* i)"
   ]
  },
  {
   "cell_type": "code",
   "execution_count": 216,
   "id": "711b9d7d",
   "metadata": {},
   "outputs": [],
   "source": [
    "lst = [5,4,3,2,1]"
   ]
  },
  {
   "cell_type": "code",
   "execution_count": 218,
   "id": "9da1565d",
   "metadata": {},
   "outputs": [
    {
     "name": "stdout",
     "output_type": "stream",
     "text": [
      "*****\n",
      "****\n",
      "***\n",
      "**\n",
      "*\n"
     ]
    }
   ],
   "source": [
    "for i in lst:\n",
    "    print(\"*\"*i)"
   ]
  },
  {
   "cell_type": "code",
   "execution_count": 223,
   "id": "eb69c910",
   "metadata": {},
   "outputs": [],
   "source": [
    "n = 10\n",
    "s = 0"
   ]
  },
  {
   "cell_type": "code",
   "execution_count": 224,
   "id": "b8f8a036",
   "metadata": {},
   "outputs": [
    {
     "name": "stdout",
     "output_type": "stream",
     "text": [
      "The sum of first 10 natural numbers are 55\n"
     ]
    }
   ],
   "source": [
    "for i in range(1,n+1):\n",
    "    s+=i\n",
    "print(\"The sum of first {} natural numbers are {}\".format(n, s))\n",
    "    "
   ]
  },
  {
   "cell_type": "code",
   "execution_count": 229,
   "id": "999ef5b9",
   "metadata": {},
   "outputs": [
    {
     "name": "stdout",
     "output_type": "stream",
     "text": [
      "The given number 13 is prime \n"
     ]
    }
   ],
   "source": [
    "n = 13\n",
    "is_prime = True\n",
    "\n",
    "for i in range(2,n):\n",
    "    if n%i==0:\n",
    "        is_prime = False\n",
    "if is_prime:\n",
    "    print(\"The given number {} is prime \".format(n))\n",
    "else:\n",
    "    print(\"The given number {} is not prime \".format(n))\n",
    "        "
   ]
  },
  {
   "cell_type": "markdown",
   "id": "cc5f5db6",
   "metadata": {},
   "source": [
    "# Break, Continue, and pass"
   ]
  },
  {
   "cell_type": "code",
   "execution_count": 232,
   "id": "5b2494d2",
   "metadata": {},
   "outputs": [
    {
     "name": "stdout",
     "output_type": "stream",
     "text": [
      "1\n",
      "2\n",
      "3\n",
      "4\n"
     ]
    }
   ],
   "source": [
    "for i in range(1,11):\n",
    "    if i ==5:\n",
    "        break\n",
    "    print(i)\n",
    "else:\n",
    "    print(\"No elemnts left\")"
   ]
  },
  {
   "cell_type": "code",
   "execution_count": 233,
   "id": "dc77db50",
   "metadata": {},
   "outputs": [
    {
     "name": "stdout",
     "output_type": "stream",
     "text": [
      "1\n",
      "2\n",
      "3\n",
      "4\n",
      "6\n",
      "7\n",
      "8\n",
      "9\n",
      "10\n",
      "No elemnts left\n"
     ]
    }
   ],
   "source": [
    "for i in range(1,11):\n",
    "    if i ==5:\n",
    "        continue\n",
    "    print(i)\n",
    "else:\n",
    "    print(\"No elemnts left\")"
   ]
  },
  {
   "cell_type": "code",
   "execution_count": 235,
   "id": "0f1f19c3",
   "metadata": {},
   "outputs": [],
   "source": [
    "for i in range(1,11):\n",
    "    pass\n",
    "  "
   ]
  },
  {
   "cell_type": "code",
   "execution_count": 238,
   "id": "9ff863a3",
   "metadata": {},
   "outputs": [],
   "source": [
    "if(5>3):\n",
    "    pass"
   ]
  },
  {
   "cell_type": "code",
   "execution_count": null,
   "id": "2bb21774",
   "metadata": {},
   "outputs": [],
   "source": []
  }
 ],
 "metadata": {
  "kernelspec": {
   "display_name": "Python 3",
   "language": "python",
   "name": "python3"
  },
  "language_info": {
   "codemirror_mode": {
    "name": "ipython",
    "version": 3
   },
   "file_extension": ".py",
   "mimetype": "text/x-python",
   "name": "python",
   "nbconvert_exporter": "python",
   "pygments_lexer": "ipython3",
   "version": "3.8.8"
  }
 },
 "nbformat": 4,
 "nbformat_minor": 5
}
