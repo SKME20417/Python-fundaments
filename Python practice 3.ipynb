{
 "cells": [
  {
   "cell_type": "code",
   "execution_count": 4,
   "id": "1939ac8c",
   "metadata": {},
   "outputs": [
    {
     "name": "stdout",
     "output_type": "stream",
     "text": [
      "1\n",
      "2\n",
      "3\n",
      "4\n",
      "5\n",
      "6\n",
      "7\n",
      "8\n",
      "9\n",
      "10\n"
     ]
    }
   ],
   "source": [
    "n = 1\n",
    "while n<=10:\n",
    "    print(n)\n",
    "    n+=1"
   ]
  },
  {
   "cell_type": "code",
   "execution_count": 6,
   "id": "2a606ff0",
   "metadata": {},
   "outputs": [
    {
     "name": "stdout",
     "output_type": "stream",
     "text": [
      "1 \n",
      "1 2 \n",
      "1 2 3 \n",
      "1 2 3 4 \n",
      "1 2 3 4 5 \n"
     ]
    }
   ],
   "source": [
    "n = 5\n",
    "for i in range(1,n+1):\n",
    "    for j in range(1,i+1):\n",
    "        print(j, end=\" \")\n",
    "    print()"
   ]
  },
  {
   "cell_type": "code",
   "execution_count": 7,
   "id": "f1f0fd82",
   "metadata": {},
   "outputs": [
    {
     "name": "stdout",
     "output_type": "stream",
     "text": [
      "enter:10\n"
     ]
    }
   ],
   "source": [
    "number = int(input(\"enter:\", ))"
   ]
  },
  {
   "cell_type": "code",
   "execution_count": 8,
   "id": "46f51bd0",
   "metadata": {},
   "outputs": [
    {
     "name": "stdout",
     "output_type": "stream",
     "text": [
      "55\n"
     ]
    }
   ],
   "source": [
    "sum = 0\n",
    "\n",
    "for i in range(1,number+1):\n",
    "    sum+=i\n",
    "    \n",
    "print(sum)"
   ]
  },
  {
   "cell_type": "code",
   "execution_count": 15,
   "id": "73187779",
   "metadata": {},
   "outputs": [
    {
     "ename": "TypeError",
     "evalue": "'int' object is not callable",
     "output_type": "error",
     "traceback": [
      "\u001b[1;31m---------------------------------------------------------------------------\u001b[0m",
      "\u001b[1;31mTypeError\u001b[0m                                 Traceback (most recent call last)",
      "Input \u001b[1;32mIn [15]\u001b[0m, in \u001b[0;36m<cell line: 2>\u001b[1;34m()\u001b[0m\n\u001b[0;32m      1\u001b[0m number \u001b[38;5;241m=\u001b[39m \u001b[38;5;241m10\u001b[39m\n\u001b[1;32m----> 2\u001b[0m x \u001b[38;5;241m=\u001b[39m \u001b[38;5;28;43msum\u001b[39;49m\u001b[43m(\u001b[49m\u001b[38;5;28;43mrange\u001b[39;49m\u001b[43m(\u001b[49m\u001b[38;5;241;43m1\u001b[39;49m\u001b[43m,\u001b[49m\u001b[43mnumber\u001b[49m\u001b[38;5;241;43m+\u001b[39;49m\u001b[38;5;241;43m1\u001b[39;49m\u001b[43m)\u001b[49m\u001b[43m)\u001b[49m\n",
      "\u001b[1;31mTypeError\u001b[0m: 'int' object is not callable"
     ]
    }
   ],
   "source": [
    "number = 10\n",
    "x = sum(range(1,number+1))"
   ]
  },
  {
   "cell_type": "code",
   "execution_count": 16,
   "id": "79c713b5",
   "metadata": {},
   "outputs": [],
   "source": [
    "import numpy as np"
   ]
  },
  {
   "cell_type": "code",
   "execution_count": 19,
   "id": "e57287be",
   "metadata": {},
   "outputs": [
    {
     "data": {
      "text/plain": [
       "55"
      ]
     },
     "execution_count": 19,
     "metadata": {},
     "output_type": "execute_result"
    }
   ],
   "source": [
    "np.sum(list(range(1,number+1)))"
   ]
  },
  {
   "cell_type": "code",
   "execution_count": 22,
   "id": "f3998d3e",
   "metadata": {},
   "outputs": [
    {
     "name": "stdout",
     "output_type": "stream",
     "text": [
      "2\n",
      "4\n",
      "6\n",
      "8\n",
      "10\n",
      "12\n",
      "14\n",
      "16\n",
      "18\n",
      "20\n"
     ]
    }
   ],
   "source": [
    "n = 2\n",
    "\n",
    "for i in range(1,11):\n",
    "    product = n*i\n",
    "    print(product)"
   ]
  },
  {
   "cell_type": "code",
   "execution_count": 23,
   "id": "f3b1b267",
   "metadata": {},
   "outputs": [],
   "source": [
    "numbers = [12, 75, 150, 180, 145, 525, 50]"
   ]
  },
  {
   "cell_type": "code",
   "execution_count": 27,
   "id": "6328b248",
   "metadata": {},
   "outputs": [
    {
     "name": "stdout",
     "output_type": "stream",
     "text": [
      "75\n",
      "150\n",
      "145\n"
     ]
    }
   ],
   "source": [
    "for i in numbers:\n",
    "    if i>500:\n",
    "        break\n",
    "    elif i>150:\n",
    "        continue\n",
    "    else:\n",
    "        if i%5==0:\n",
    "            print(i)\n",
    "        \n",
    "        \n",
    "        "
   ]
  },
  {
   "cell_type": "code",
   "execution_count": 34,
   "id": "571a0e76",
   "metadata": {},
   "outputs": [
    {
     "name": "stdout",
     "output_type": "stream",
     "text": [
      "5\n"
     ]
    }
   ],
   "source": [
    "number = 75869\n",
    "\n",
    "counter = 0\n",
    "\n",
    "while number!=0:\n",
    "    number = number//10\n",
    "    counter+=1\n",
    "print(counter)"
   ]
  },
  {
   "cell_type": "code",
   "execution_count": 39,
   "id": "a2364936",
   "metadata": {},
   "outputs": [
    {
     "name": "stdout",
     "output_type": "stream",
     "text": [
      "7\n"
     ]
    }
   ],
   "source": [
    "num = 2536985\n",
    "\n",
    "\n",
    "coun = 0\n",
    "\n",
    "\n",
    "while num!=0:\n",
    "    num = num//10\n",
    "    coun+=1\n",
    "    \n",
    "print(coun)"
   ]
  },
  {
   "cell_type": "code",
   "execution_count": 53,
   "id": "378d302f",
   "metadata": {},
   "outputs": [
    {
     "name": "stdout",
     "output_type": "stream",
     "text": [
      "5 4 3 2 1 \n",
      "4 3 2 1 \n",
      "3 2 1 \n",
      "2 1 \n",
      "1 \n"
     ]
    }
   ],
   "source": [
    "for i in range(5,0,-1):\n",
    "    for j in range(i,0,-1):\n",
    "        print(j, end= \" \")\n",
    "    print()"
   ]
  },
  {
   "cell_type": "code",
   "execution_count": 54,
   "id": "c2b1dca6",
   "metadata": {},
   "outputs": [],
   "source": [
    "list1 = [10, 20, 30, 40, 50]"
   ]
  },
  {
   "cell_type": "code",
   "execution_count": 61,
   "id": "b443a687",
   "metadata": {},
   "outputs": [
    {
     "name": "stdout",
     "output_type": "stream",
     "text": [
      "50\n",
      "40\n",
      "30\n",
      "20\n",
      "10\n"
     ]
    }
   ],
   "source": [
    "for i in range(len(list1)-1,-1,-1 ):\n",
    "    print(list1[i])"
   ]
  },
  {
   "cell_type": "code",
   "execution_count": 62,
   "id": "7ee2f450",
   "metadata": {},
   "outputs": [],
   "source": [
    "list2 = [10, 20, 30, 40, 50]"
   ]
  },
  {
   "cell_type": "code",
   "execution_count": 64,
   "id": "db41cdc9",
   "metadata": {},
   "outputs": [],
   "source": [
    "rev_list = reversed(list2)"
   ]
  },
  {
   "cell_type": "code",
   "execution_count": 65,
   "id": "9cf73874",
   "metadata": {},
   "outputs": [
    {
     "name": "stdout",
     "output_type": "stream",
     "text": [
      "50\n",
      "40\n",
      "30\n",
      "20\n",
      "10\n"
     ]
    }
   ],
   "source": [
    "for i in rev_list:\n",
    "    print(i)"
   ]
  },
  {
   "cell_type": "code",
   "execution_count": 68,
   "id": "088cc291",
   "metadata": {},
   "outputs": [
    {
     "name": "stdout",
     "output_type": "stream",
     "text": [
      "50\n",
      "40\n",
      "30\n",
      "20\n",
      "10\n"
     ]
    }
   ],
   "source": [
    "for i in (list2[::-1]):\n",
    "    print(i)"
   ]
  },
  {
   "cell_type": "code",
   "execution_count": 82,
   "id": "49beb172",
   "metadata": {},
   "outputs": [
    {
     "name": "stdout",
     "output_type": "stream",
     "text": [
      "-10\n",
      "-9\n",
      "-8\n",
      "-7\n",
      "-6\n",
      "-5\n",
      "-4\n",
      "-3\n",
      "-2\n",
      "-1\n"
     ]
    }
   ],
   "source": [
    "for num in range(-10,0,1):\n",
    "    print(num)"
   ]
  },
  {
   "cell_type": "code",
   "execution_count": 84,
   "id": "11545c24",
   "metadata": {},
   "outputs": [
    {
     "name": "stdout",
     "output_type": "stream",
     "text": [
      "0\n",
      "1\n",
      "2\n",
      "3\n",
      "4\n",
      "Done\n"
     ]
    }
   ],
   "source": [
    "for i in range(5):\n",
    "    print(i)\n",
    "else:\n",
    "    print('Done')\n",
    "    "
   ]
  },
  {
   "cell_type": "code",
   "execution_count": 103,
   "id": "f1bf8c52",
   "metadata": {},
   "outputs": [],
   "source": [
    "start = 1\n",
    "end = 20"
   ]
  },
  {
   "cell_type": "code",
   "execution_count": 104,
   "id": "e99c15f6",
   "metadata": {},
   "outputs": [
    {
     "name": "stdout",
     "output_type": "stream",
     "text": [
      "2\n",
      "3\n",
      "5\n",
      "7\n",
      "11\n",
      "13\n",
      "17\n",
      "19\n"
     ]
    }
   ],
   "source": [
    "for i in range(start, end+1):\n",
    "    if i>1:\n",
    "        for j in range(2,i):\n",
    "            if i%j==0:\n",
    "                break\n",
    "        else:\n",
    "            print(i)\n",
    "     "
   ]
  },
  {
   "cell_type": "code",
   "execution_count": 108,
   "id": "776cbe87",
   "metadata": {},
   "outputs": [
    {
     "name": "stdout",
     "output_type": "stream",
     "text": [
      "0 1 1 2 3 5 8 13 21 34 "
     ]
    }
   ],
   "source": [
    "num1 = 0\n",
    "num2 = 1\n",
    "\n",
    "for i in range(10):\n",
    "    print(num1, end=\" \")\n",
    "    \n",
    "    res = num1+num2\n",
    "    \n",
    "    num1 = num2\n",
    "    num2 = res\n",
    "    \n",
    "    \n",
    "        "
   ]
  },
  {
   "cell_type": "code",
   "execution_count": 120,
   "id": "171e6d9e",
   "metadata": {},
   "outputs": [
    {
     "name": "stdout",
     "output_type": "stream",
     "text": [
      "3628800\n"
     ]
    }
   ],
   "source": [
    "fac = 1\n",
    "num = 10\n",
    "\n",
    "if num<0:\n",
    "    print(\"we can not calculate factorial of negative number\")\n",
    "    \n",
    "elif num==0:\n",
    "    print(\"the factorial of zero is 1\")\n",
    "\n",
    "else:\n",
    "    for i in range(1,num+1):\n",
    "        fac*=i\n",
    "        \n",
    "    print(fac)\n",
    "    "
   ]
  },
  {
   "cell_type": "code",
   "execution_count": 121,
   "id": "862f7992",
   "metadata": {},
   "outputs": [],
   "source": []
  },
  {
   "cell_type": "code",
   "execution_count": 124,
   "id": "c44cde57",
   "metadata": {},
   "outputs": [],
   "source": [
    "num = 76542\n",
    " rev = 0"
   ]
  },
  {
   "cell_type": "code",
   "execution_count": 128,
   "id": "181e4709",
   "metadata": {},
   "outputs": [
    {
     "name": "stdout",
     "output_type": "stream",
     "text": [
      "24567\n"
     ]
    }
   ],
   "source": [
    "while num>0:\n",
    "    remainder = num%10\n",
    "    rev = rev*10+remainder\n",
    "    num = num//10\n",
    "    \n",
    "print(rev)\n",
    "    "
   ]
  },
  {
   "cell_type": "code",
   "execution_count": 129,
   "id": "a230822d",
   "metadata": {},
   "outputs": [
    {
     "name": "stdout",
     "output_type": "stream",
     "text": [
      "20\n",
      "40\n",
      "60\n",
      "80\n",
      "100\n"
     ]
    }
   ],
   "source": [
    "my_list = [10, 20, 30, 40, 50, 60, 70, 80, 90, 100]\n",
    "\n",
    "for i in range(1,len(my_list),2):\n",
    "    print(my_list[i])"
   ]
  },
  {
   "cell_type": "code",
   "execution_count": 131,
   "id": "04551bc8",
   "metadata": {},
   "outputs": [
    {
     "name": "stdout",
     "output_type": "stream",
     "text": [
      "20 40 60 80 100 "
     ]
    }
   ],
   "source": [
    "for i in my_list[1::2]:\n",
    "    print(i, end=\" \")"
   ]
  },
  {
   "cell_type": "code",
   "execution_count": 136,
   "id": "7ac6ce6e",
   "metadata": {},
   "outputs": [
    {
     "name": "stdout",
     "output_type": "stream",
     "text": [
      "Current Number is : 1 and the cube is 1\n",
      "Current Number is : 2 and the cube is 8\n",
      "Current Number is : 3 and the cube is 27\n",
      "Current Number is : 4 and the cube is 64\n",
      "Current Number is : 5 and the cube is 125\n",
      "Current Number is : 6 and the cube is 216\n"
     ]
    }
   ],
   "source": [
    "input_number = 6\n",
    "for i in range(1,input_number+1):\n",
    "    print(\"Current Number is :\", i ,  \"and the cube is\" ,i*i*i)"
   ]
  },
  {
   "cell_type": "code",
   "execution_count": 141,
   "id": "501804d5",
   "metadata": {},
   "outputs": [
    {
     "name": "stdout",
     "output_type": "stream",
     "text": [
      "2 + 22 + 222 + 2222 + 22222 + \n",
      "Sum of above series is: 24690\n"
     ]
    }
   ],
   "source": [
    "n = 5\n",
    "\n",
    "star = 2\n",
    "sum_seq = 0\n",
    "\n",
    "for i in range(n):\n",
    "    print(star , end= \" + \")\n",
    "    \n",
    "    sum_seq+=star\n",
    "    \n",
    "    star = (star*10)+2\n",
    "    \n",
    "print(\"\\nSum of above series is:\", sum_seq)"
   ]
  },
  {
   "cell_type": "code",
   "execution_count": 148,
   "id": "3792084f",
   "metadata": {},
   "outputs": [
    {
     "name": "stdout",
     "output_type": "stream",
     "text": [
      "2 + 22 + 222 + 2222 + 22222 + \n",
      "Sum of above series is: 24690\n"
     ]
    }
   ],
   "source": [
    "n = 5\n",
    "start = 2\n",
    "\n",
    "sum_seq = 0\n",
    "\n",
    "for i in range(0,n):\n",
    "    print(start, end= \" + \")\n",
    "    sum_seq+=start\n",
    "    \n",
    "    start = start * 10 + 2\n",
    "    \n",
    "print(\"\\nSum of above series is:\", sum_seq)"
   ]
  },
  {
   "cell_type": "code",
   "execution_count": 152,
   "id": "e0e3b9ae",
   "metadata": {},
   "outputs": [
    {
     "name": "stdout",
     "output_type": "stream",
     "text": [
      "\n",
      "* \n",
      "* * \n",
      "* * * \n",
      "* * * * \n",
      "* * * * * \n",
      "* * * * \n",
      "* * * \n",
      "* * \n",
      "* \n"
     ]
    }
   ],
   "source": [
    "n = 5\n",
    "\n",
    "for i in range(n):\n",
    "    for j in range(i):\n",
    "        print('*', end= \" \")\n",
    "    print()\n",
    "    \n",
    "for i in range(n,0,-1):\n",
    "    for j in range(i):\n",
    "        print('*', end= \" \")\n",
    "    print()"
   ]
  },
  {
   "cell_type": "code",
   "execution_count": 153,
   "id": "2a07f25d",
   "metadata": {},
   "outputs": [],
   "source": [
    "str1 = \"James\""
   ]
  },
  {
   "cell_type": "code",
   "execution_count": 157,
   "id": "f2683683",
   "metadata": {},
   "outputs": [],
   "source": [
    "new_str = \" \"\n",
    "\n",
    "for i in str1:\n",
    "    f = str1[0]\n",
    "    m = str1[len(str1)//2]\n",
    "    l = str1[len(str1)-1]\n",
    "    \n",
    "    new_str = f+m+l"
   ]
  },
  {
   "cell_type": "code",
   "execution_count": 158,
   "id": "31f62045",
   "metadata": {},
   "outputs": [
    {
     "data": {
      "text/plain": [
       "'Jms'"
      ]
     },
     "execution_count": 158,
     "metadata": {},
     "output_type": "execute_result"
    }
   ],
   "source": [
    "new_str"
   ]
  },
  {
   "cell_type": "code",
   "execution_count": 189,
   "id": "08cca5fa",
   "metadata": {},
   "outputs": [],
   "source": [
    "str1 = \"JaSonAy\"\n"
   ]
  },
  {
   "cell_type": "code",
   "execution_count": 190,
   "id": "064b9116",
   "metadata": {},
   "outputs": [
    {
     "data": {
      "text/plain": [
       "'Son'"
      ]
     },
     "execution_count": 190,
     "metadata": {},
     "output_type": "execute_result"
    }
   ],
   "source": [
    "def get_middel_three(str1):\n",
    "    mi = int(len(str1)/2)\n",
    "    res = str1[mi-1:mi+2]\n",
    "    \n",
    "    return res\n",
    "\n",
    "get_middel_three(str1)"
   ]
  },
  {
   "cell_type": "code",
   "execution_count": 10,
   "id": "112e5348",
   "metadata": {},
   "outputs": [],
   "source": [
    "s1 = \"Ault\"\n",
    "s2 = \"Kelly\"\n",
    "\n"
   ]
  },
  {
   "cell_type": "code",
   "execution_count": 11,
   "id": "c58adfa8",
   "metadata": {},
   "outputs": [],
   "source": [
    "def middle(s1,s2):\n",
    "    mi = (len(s1))//2\n",
    "    x = s1[:mi:]\n",
    "    x = x + s2\n",
    "    x = x + s1[mi:]\n",
    "    return x\n",
    "    "
   ]
  },
  {
   "cell_type": "code",
   "execution_count": 12,
   "id": "40175b3e",
   "metadata": {},
   "outputs": [
    {
     "data": {
      "text/plain": [
       "'AuKellylt'"
      ]
     },
     "execution_count": 12,
     "metadata": {},
     "output_type": "execute_result"
    }
   ],
   "source": [
    "middle(s1,s2)"
   ]
  },
  {
   "cell_type": "code",
   "execution_count": 13,
   "id": "d52e1b65",
   "metadata": {},
   "outputs": [],
   "source": [
    "s1 = \"America\"\n",
    "s2 = \"Japan\""
   ]
  },
  {
   "cell_type": "code",
   "execution_count": 20,
   "id": "a34f1209",
   "metadata": {},
   "outputs": [],
   "source": [
    "def new_str(s1,s2):\n",
    "    mi = s1[(len(s1))//2:((len(s1))//2)+1]\n",
    "    f = s1[0]\n",
    "    l = s1[len(s1)-1]\n",
    "    \n",
    "    mii = s2[(len(s2))//2]\n",
    "    fi = s2[0]\n",
    "    li = s2[len(s2)-1]\n",
    "    \n",
    "    return f+fi+mi+mii+l+li"
   ]
  },
  {
   "cell_type": "code",
   "execution_count": 21,
   "id": "7b6605b1",
   "metadata": {},
   "outputs": [
    {
     "data": {
      "text/plain": [
       "'AJrpan'"
      ]
     },
     "execution_count": 21,
     "metadata": {},
     "output_type": "execute_result"
    }
   ],
   "source": [
    "new_str(s1,s2)"
   ]
  },
  {
   "cell_type": "code",
   "execution_count": 25,
   "id": "5407f811",
   "metadata": {},
   "outputs": [],
   "source": [
    "def mix(s1,s2):\n",
    "    first = s1[0] + s2[0]\n",
    "    middle = s1[len(s1)//2:(len(s1)//2)+1] + s2[len(s2)//2:(len(s2)//2)+1]\n",
    "    last = s1[len(s1)-1] + s2[len(s2)-1]\n",
    "    \n",
    "    return first + middle + last"
   ]
  },
  {
   "cell_type": "code",
   "execution_count": 26,
   "id": "033057fb",
   "metadata": {},
   "outputs": [
    {
     "data": {
      "text/plain": [
       "'AJrpan'"
      ]
     },
     "execution_count": 26,
     "metadata": {},
     "output_type": "execute_result"
    }
   ],
   "source": [
    "mix(s1,s2)"
   ]
  },
  {
   "cell_type": "code",
   "execution_count": 23,
   "id": "6507ac85",
   "metadata": {},
   "outputs": [
    {
     "data": {
      "text/plain": [
       "True"
      ]
     },
     "execution_count": 23,
     "metadata": {},
     "output_type": "execute_result"
    }
   ],
   "source": [
    "str1 = 'PyNaTive'\n",
    "\n",
    "\"y\".islower()"
   ]
  },
  {
   "cell_type": "code",
   "execution_count": 22,
   "id": "7afaa467",
   "metadata": {},
   "outputs": [
    {
     "name": "stdout",
     "output_type": "stream",
     "text": [
      "yaivePNT\n"
     ]
    }
   ],
   "source": [
    "lower = []\n",
    "upper = []\n",
    "for i in str1:\n",
    "    if i.islower():\n",
    "        lower.append(i)\n",
    "    else:\n",
    "        upper.append(i)\n",
    "        \n",
    "        \n",
    "print(\"\".join(lower + upper))       \n",
    "        "
   ]
  },
  {
   "cell_type": "code",
   "execution_count": 26,
   "id": "3a976e4d",
   "metadata": {},
   "outputs": [],
   "source": [
    "str1 = \"P@#yn26at^&i5ve\""
   ]
  },
  {
   "cell_type": "code",
   "execution_count": 25,
   "id": "f57df61c",
   "metadata": {},
   "outputs": [
    {
     "name": "stdout",
     "output_type": "stream",
     "text": [
      "8 3 4\n"
     ]
    }
   ],
   "source": [
    "l = 0\n",
    "d = 0\n",
    "s = 0\n",
    "\n",
    "for i in str1:\n",
    "    if i in \"abcdefghijklmnopqrstuvwxyzABCDEFGHIJKLMNOPQRSTUVWXYZ\":\n",
    "        l+=1\n",
    "    elif i in \"0123456789\":\n",
    "        d+=1\n",
    "    else:\n",
    "        s+=1\n",
    "        \n",
    "print(l,d,s)"
   ]
  },
  {
   "cell_type": "code",
   "execution_count": 28,
   "id": "a055041a",
   "metadata": {},
   "outputs": [
    {
     "name": "stdout",
     "output_type": "stream",
     "text": [
      "8 3 4\n"
     ]
    }
   ],
   "source": [
    "l = 0\n",
    "d = 0\n",
    "s = 0\n",
    "\n",
    "for i in str1:\n",
    "    if i.isalpha():\n",
    "        l+=1\n",
    "    elif i.isdigit():\n",
    "        d+=1\n",
    "    else:\n",
    "        s+=1\n",
    "        \n",
    "print(l,d,s)\n",
    "        "
   ]
  },
  {
   "cell_type": "code",
   "execution_count": 29,
   "id": "b233f74d",
   "metadata": {},
   "outputs": [],
   "source": [
    "def check(string1):\n",
    "    l = 0\n",
    "    d = 0\n",
    "    s = 0\n",
    "\n",
    "    for i in str1:\n",
    "        if i.isalpha():\n",
    "            l+=1\n",
    "        elif i.isdigit():\n",
    "            d+=1\n",
    "        else:\n",
    "            s+=1\n",
    "            \n",
    "    return l,d,s\n",
    "    "
   ]
  },
  {
   "cell_type": "code",
   "execution_count": 30,
   "id": "93e11584",
   "metadata": {},
   "outputs": [
    {
     "data": {
      "text/plain": [
       "(8, 3, 4)"
      ]
     },
     "execution_count": 30,
     "metadata": {},
     "output_type": "execute_result"
    }
   ],
   "source": [
    "check(str1)"
   ]
  },
  {
   "cell_type": "code",
   "execution_count": 31,
   "id": "d036d840",
   "metadata": {},
   "outputs": [],
   "source": [
    "s1 = \"Abc\"\n",
    "s2 = \"Xyz\""
   ]
  },
  {
   "cell_type": "code",
   "execution_count": 32,
   "id": "172ee38b",
   "metadata": {},
   "outputs": [],
   "source": [
    "def mix(s1,s2):\n",
    "    f = s1[0] + s2[-1]\n",
    "    s = s1[1] + s2[-2]\n",
    "    l = s1[2] + s2[-3]\n",
    "    \n",
    "    return f+s+l"
   ]
  },
  {
   "cell_type": "code",
   "execution_count": 33,
   "id": "3bdd8eeb",
   "metadata": {},
   "outputs": [
    {
     "data": {
      "text/plain": [
       "'AzbycX'"
      ]
     },
     "execution_count": 33,
     "metadata": {},
     "output_type": "execute_result"
    }
   ],
   "source": [
    "mix(s1,s2)"
   ]
  },
  {
   "cell_type": "code",
   "execution_count": 34,
   "id": "bf1b569d",
   "metadata": {},
   "outputs": [
    {
     "data": {
      "text/plain": [
       "3"
      ]
     },
     "execution_count": 34,
     "metadata": {},
     "output_type": "execute_result"
    }
   ],
   "source": [
    "a = 2\n",
    "b = 3\n",
    "\n",
    "a if a>b else b"
   ]
  },
  {
   "cell_type": "code",
   "execution_count": 39,
   "id": "30283efc",
   "metadata": {},
   "outputs": [
    {
     "name": "stdout",
     "output_type": "stream",
     "text": [
      "AzbycX\n"
     ]
    }
   ],
   "source": [
    "s1 = \"Abc\"\n",
    "s2 = \"Xyz\"\n",
    "\n",
    "# get string length\n",
    "s1_length = len(s1)\n",
    "s2_length = len(s2)\n",
    "\n",
    "# get length of a bigger string\n",
    "length = s1_length if s1_length > s2_length else s2_length\n",
    "result = \"\"\n",
    "\n",
    "# reverse s2\n",
    "s2 = s2[::-1]\n",
    "\n",
    "# iterate string \n",
    "# s1 ascending and s2 descending\n",
    "for i in range(length):\n",
    "    if i < s1_length:\n",
    "        result = result + s1[i]\n",
    "    if i < s2_length:\n",
    "        result = result + s2[i]\n",
    "\n",
    "print(result)\n",
    "        "
   ]
  },
  {
   "cell_type": "code",
   "execution_count": 40,
   "id": "81ef7419",
   "metadata": {},
   "outputs": [],
   "source": [
    "s1 = \"Abc\"\n",
    "s2 = \"Xyz\""
   ]
  },
  {
   "cell_type": "code",
   "execution_count": 43,
   "id": "8301a24e",
   "metadata": {},
   "outputs": [
    {
     "name": "stdout",
     "output_type": "stream",
     "text": [
      "AzbycX\n"
     ]
    }
   ],
   "source": [
    "s2 = s2[::-1]\n",
    "\n",
    "result = \"\"\n",
    "\n",
    "s1_length = len(s1)\n",
    "\n",
    "s2_length = len(s2)\n",
    "\n",
    "length = s1_length if s1_length>s2_length else s2_length\n",
    "\n",
    "\n",
    "for i in range(length):\n",
    "    if i<s1_length:\n",
    "        result = result + s1[i]\n",
    "    if i< s2_length:\n",
    "        result = result + s2[i]\n",
    "        \n",
    "print(result)"
   ]
  },
  {
   "cell_type": "code",
   "execution_count": 46,
   "id": "ff1c4319",
   "metadata": {},
   "outputs": [
    {
     "data": {
      "text/plain": [
       "[6, 12, 18, 4, 12, 20, 28]"
      ]
     },
     "execution_count": 46,
     "metadata": {},
     "output_type": "execute_result"
    }
   ],
   "source": [
    "l1 = [3, 6, 9, 12, 15, 18, 21]\n",
    "l2 = [4, 8, 12, 16, 20, 24, 28]\n",
    "\n",
    "\n",
    "def new_lst(l1,l2):\n",
    "    \n",
    "    oddlst = []\n",
    "    evenlst = []\n",
    "    \n",
    "    for i in range(1,len(l1),2):\n",
    "        oddlst.append(l1[i])\n",
    "        \n",
    "    for i in range(0,len(l2),2):\n",
    "        evenlst.append(l2[i])\n",
    "        \n",
    "    return oddlst + evenlst\n",
    "\n",
    "new_lst(l1,l2)\n",
    "        \n",
    "        "
   ]
  },
  {
   "cell_type": "code",
   "execution_count": 52,
   "id": "294780f0",
   "metadata": {},
   "outputs": [
    {
     "name": "stdout",
     "output_type": "stream",
     "text": [
      "[34, 54, 11, 67, 89, 43, 94, 11]\n"
     ]
    }
   ],
   "source": [
    "list1 = [34, 54, 67, 89, 11, 43, 94]\n",
    "\n",
    "n = len(list1)\n",
    "if n>1:\n",
    "    s = list1.pop(4)\n",
    "    a = list1.insert(2,s)\n",
    "    b = list1.insert(n,s)\n",
    "    \n",
    "print(list1)"
   ]
  },
  {
   "cell_type": "code",
   "execution_count": 53,
   "id": "8ef3cf7d",
   "metadata": {},
   "outputs": [
    {
     "data": {
      "text/plain": [
       "[34, 54, 11, 67, 89, 43, 94, 11]"
      ]
     },
     "execution_count": 53,
     "metadata": {},
     "output_type": "execute_result"
    }
   ],
   "source": [
    "list1"
   ]
  },
  {
   "cell_type": "code",
   "execution_count": 61,
   "id": "6ae88961",
   "metadata": {},
   "outputs": [],
   "source": [
    "sample_list = [11, 45, 8, 23, 14, 12, 78, 45, 89]"
   ]
  },
  {
   "cell_type": "code",
   "execution_count": 64,
   "id": "d9651497",
   "metadata": {},
   "outputs": [
    {
     "data": {
      "text/plain": [
       "[8, 45, 11, 12, 14, 23, 89, 45, 78]"
      ]
     },
     "execution_count": 64,
     "metadata": {},
     "output_type": "execute_result"
    }
   ],
   "source": [
    "def split(l):\n",
    "    first_three = l[:len(l)//3][::-1]\n",
    "    next_three = l[len(l)//3:(len(l)//3)+3][::-1]\n",
    "    last_three = l[-3:][::-1]\n",
    "    return first_three + next_three + last_three\n",
    "split(sample_list)"
   ]
  },
  {
   "cell_type": "code",
   "execution_count": 65,
   "id": "d70d91d1",
   "metadata": {},
   "outputs": [
    {
     "data": {
      "text/plain": [
       "slice(0, 3, None)"
      ]
     },
     "execution_count": 65,
     "metadata": {},
     "output_type": "execute_result"
    }
   ],
   "source": [
    "slice(0,3)"
   ]
  },
  {
   "cell_type": "code",
   "execution_count": 67,
   "id": "66aa2436",
   "metadata": {},
   "outputs": [],
   "source": [
    "sample_list = [11, 45, 8, 11, 23, 45, 23, 45, 89]"
   ]
  },
  {
   "cell_type": "code",
   "execution_count": 68,
   "id": "fac579dd",
   "metadata": {},
   "outputs": [
    {
     "name": "stdout",
     "output_type": "stream",
     "text": [
      "{11: 2, 45: 3, 8: 1, 23: 2, 89: 1}\n"
     ]
    }
   ],
   "source": [
    "di = {}\n",
    "for i in sample_list:\n",
    "    if i in di:\n",
    "        di[i] +=1\n",
    "    else:\n",
    "        di[i] = 1\n",
    "        \n",
    "print(di)\n",
    "    "
   ]
  },
  {
   "cell_type": "code",
   "execution_count": 76,
   "id": "3360eed4",
   "metadata": {},
   "outputs": [],
   "source": [
    "first_list = [2, 3, 4, 5, 6, 7, 8]\n",
    "second_list = [4, 9, 16, 25, 36, 49, 64]"
   ]
  },
  {
   "cell_type": "code",
   "execution_count": 79,
   "id": "198a1024",
   "metadata": {},
   "outputs": [
    {
     "ename": "IndexError",
     "evalue": "list index out of range",
     "output_type": "error",
     "traceback": [
      "\u001b[1;31m---------------------------------------------------------------------------\u001b[0m",
      "\u001b[1;31mIndexError\u001b[0m                                Traceback (most recent call last)",
      "Input \u001b[1;32mIn [79]\u001b[0m, in \u001b[0;36m<cell line: 13>\u001b[1;34m()\u001b[0m\n\u001b[0;32m     10\u001b[0m             dict_construct[i] \u001b[38;5;241m=\u001b[39m s[i]\n\u001b[0;32m     11\u001b[0m     \u001b[38;5;28;01mreturn\u001b[39;00m dict_construct\n\u001b[1;32m---> 13\u001b[0m \u001b[43mmix\u001b[49m\u001b[43m(\u001b[49m\u001b[43mfirst_list\u001b[49m\u001b[43m,\u001b[49m\u001b[43msecond_list\u001b[49m\u001b[43m)\u001b[49m\n",
      "Input \u001b[1;32mIn [79]\u001b[0m, in \u001b[0;36mmix\u001b[1;34m(f, s)\u001b[0m\n\u001b[0;32m      8\u001b[0m         \u001b[38;5;28;01mpass\u001b[39;00m\n\u001b[0;32m      9\u001b[0m     \u001b[38;5;28;01melse\u001b[39;00m:\n\u001b[1;32m---> 10\u001b[0m         dict_construct[i] \u001b[38;5;241m=\u001b[39m \u001b[43ms\u001b[49m\u001b[43m[\u001b[49m\u001b[43mi\u001b[49m\u001b[43m]\u001b[49m\n\u001b[0;32m     11\u001b[0m \u001b[38;5;28;01mreturn\u001b[39;00m dict_construct\n",
      "\u001b[1;31mIndexError\u001b[0m: list index out of range"
     ]
    }
   ],
   "source": [
    "first_list = [2, 3, 4, 5, 6, 7, 8]\n",
    "second_list = [4, 9, 16, 25, 36, 49, 64]\n",
    "\n",
    "def mix(f,s):\n",
    "    dict_construct = dict()\n",
    "    for i in f:\n",
    "        if i in dict_construct:\n",
    "            pass\n",
    "        else:\n",
    "            dict_construct[i] = s[i]\n",
    "    return dict_construct\n",
    "            \n",
    "mix(first_list,second_list)"
   ]
  },
  {
   "cell_type": "code",
   "execution_count": 80,
   "id": "3064c6b5",
   "metadata": {},
   "outputs": [],
   "source": [
    "first_list = [2, 3, 4, 5, 6, 7, 8]\n",
    "second_list = [4, 9, 16, 25, 36, 49, 64]"
   ]
  },
  {
   "cell_type": "code",
   "execution_count": 83,
   "id": "3750a3ee",
   "metadata": {},
   "outputs": [
    {
     "data": {
      "text/plain": [
       "{(2, 4), (3, 9), (4, 16), (5, 25), (6, 36), (7, 49), (8, 64)}"
      ]
     },
     "execution_count": 83,
     "metadata": {},
     "output_type": "execute_result"
    }
   ],
   "source": [
    "set(zip(first_list,second_list))"
   ]
  },
  {
   "cell_type": "code",
   "execution_count": 85,
   "id": "7d527feb",
   "metadata": {},
   "outputs": [
    {
     "data": {
      "text/plain": [
       "{(2, 4), (3, 9), (4, 16), (5, 25), (6, 36), (7, 49), (8, 64)}"
      ]
     },
     "execution_count": 85,
     "metadata": {},
     "output_type": "execute_result"
    }
   ],
   "source": [
    "first_list = [2, 3, 4, 5, 6, 7, 8]\n",
    "second_list = [4, 9, 16, 25, 36, 49, 64]\n",
    "\n",
    "\n",
    "def zippp(a,b):\n",
    "    result = zip(a,b)\n",
    "    return set(result)\n",
    "\n",
    "zippp(first_list,second_list)"
   ]
  },
  {
   "cell_type": "code",
   "execution_count": 101,
   "id": "a7f8dec0",
   "metadata": {},
   "outputs": [
    {
     "data": {
      "text/plain": [
       "{23, 29, 42, 57, 65, 78, 83}"
      ]
     },
     "execution_count": 101,
     "metadata": {},
     "output_type": "execute_result"
    }
   ],
   "source": [
    "first_set = {23, 42, 65, 57, 78, 83, 29}\n",
    "second_set = {57, 83, 29, 67, 73, 43, 48}\n",
    "\n",
    "c = first_set.intersection(second_set)\n",
    "\n",
    "\n",
    "\n",
    "first_set.(c)\n",
    "\n",
    "first_set"
   ]
  },
  {
   "cell_type": "code",
   "execution_count": 102,
   "id": "c09df067",
   "metadata": {},
   "outputs": [],
   "source": [
    "def comm(s1,s2):\n",
    "    intersection_element = s1.intersection(s2)\n",
    "    for i in intersection_element:\n",
    "        s1.remove(i)\n",
    "        \n",
    "    return s1\n",
    "        \n",
    "    "
   ]
  },
  {
   "cell_type": "code",
   "execution_count": 103,
   "id": "dc6a1ebf",
   "metadata": {},
   "outputs": [],
   "source": [
    "first_set = {23, 42, 65, 57, 78, 83, 29}\n",
    "second_set = {57, 83, 29, 67, 73, 43, 48}"
   ]
  },
  {
   "cell_type": "code",
   "execution_count": 104,
   "id": "8eb3b60e",
   "metadata": {},
   "outputs": [
    {
     "data": {
      "text/plain": [
       "{23, 42, 65, 78}"
      ]
     },
     "execution_count": 104,
     "metadata": {},
     "output_type": "execute_result"
    }
   ],
   "source": [
    "comm(first_set,second_set)"
   ]
  },
  {
   "cell_type": "code",
   "execution_count": 4,
   "id": "f7d2f22b",
   "metadata": {},
   "outputs": [],
   "source": [
    "first_set = {27, 43, 34}\n",
    "second_set = {34, 93, 22, 27, 43, 53, 48}\n"
   ]
  },
  {
   "cell_type": "code",
   "execution_count": null,
   "id": "36093cde",
   "metadata": {},
   "outputs": [],
   "source": []
  },
  {
   "cell_type": "code",
   "execution_count": 5,
   "id": "e1ddfea1",
   "metadata": {},
   "outputs": [
    {
     "name": "stdout",
     "output_type": "stream",
     "text": [
      "First set is subset of second set: True\n",
      "Second set is subset of First set: False\n",
      "First set is Super set of second set: False\n",
      "Second set is Super set of First set: True\n"
     ]
    },
    {
     "data": {
      "text/plain": [
       "(set(), {22, 27, 34, 43, 48, 53, 93})"
      ]
     },
     "execution_count": 5,
     "metadata": {},
     "output_type": "execute_result"
    }
   ],
   "source": [
    "def check(s1,s2):\n",
    "    \n",
    "    if s1.issubset(s2):\n",
    "        print(\"First set is subset of second set:\", s1.issubset(s2))\n",
    "        s1.clear()\n",
    "        \n",
    "    if s2.issubset(s1)== False:\n",
    "        print(\"Second set is subset of First set:\",s2.issubset(s1) )\n",
    "        \n",
    "        \n",
    "    if s1.issuperset(s2)== False:\n",
    "        print(\"First set is Super set of second set:\", s1.issuperset(s2))\n",
    "\n",
    "    if s2.issuperset(s1):\n",
    "        print(\"Second set is Super set of First set:\", s2.issuperset(s1))\n",
    "        s2 = s1.union(s2) - s2.intersection(s1)\n",
    "        \n",
    "    return s1,s2\n",
    "\n",
    "\n",
    "check(first_set, second_set)\n",
    "        \n",
    "        \n",
    "    \n",
    "        \n",
    "    "
   ]
  },
  {
   "cell_type": "code",
   "execution_count": 6,
   "id": "202374a0",
   "metadata": {},
   "outputs": [],
   "source": [
    "roll_number = [47, 64, 69, 37, 76, 83, 95, 97]\n",
    "sample_dict = {'Jhon':47, 'Emma':69, 'Kelly':76, 'Jason':97}"
   ]
  },
  {
   "cell_type": "code",
   "execution_count": 10,
   "id": "49787adc",
   "metadata": {},
   "outputs": [],
   "source": [
    "roll_number = [i for i in roll_number if i in sample_dict.values()]\n",
    "    "
   ]
  },
  {
   "cell_type": "code",
   "execution_count": 11,
   "id": "c06f2f45",
   "metadata": {},
   "outputs": [
    {
     "data": {
      "text/plain": [
       "[47, 69, 76, 97]"
      ]
     },
     "execution_count": 11,
     "metadata": {},
     "output_type": "execute_result"
    }
   ],
   "source": [
    "roll_number"
   ]
  },
  {
   "cell_type": "code",
   "execution_count": 12,
   "id": "ff64d08d",
   "metadata": {},
   "outputs": [],
   "source": [
    "speed = {'jan': 47, 'feb': 52, 'march': 47, 'April': 44, 'May': 52, 'June': 53, 'july': 54, 'Aug': 44, 'Sept': 54}"
   ]
  },
  {
   "cell_type": "code",
   "execution_count": 14,
   "id": "69ec50d5",
   "metadata": {},
   "outputs": [],
   "source": [
    "l1 = [i for i in speed.values()]"
   ]
  },
  {
   "cell_type": "code",
   "execution_count": 16,
   "id": "c943269c",
   "metadata": {},
   "outputs": [],
   "source": [
    "l1 = list(set(l1))"
   ]
  },
  {
   "cell_type": "code",
   "execution_count": 17,
   "id": "be5555b8",
   "metadata": {},
   "outputs": [
    {
     "data": {
      "text/plain": [
       "[44, 47, 52, 53, 54]"
      ]
     },
     "execution_count": 17,
     "metadata": {},
     "output_type": "execute_result"
    }
   ],
   "source": [
    "l1"
   ]
  },
  {
   "cell_type": "code",
   "execution_count": 20,
   "id": "019fb5db",
   "metadata": {},
   "outputs": [
    {
     "name": "stdout",
     "output_type": "stream",
     "text": [
      "[47, 52, 44, 53, 54]\n"
     ]
    }
   ],
   "source": [
    "speed\n",
    "\n",
    "lst = []\n",
    "\n",
    "for i in speed.values():\n",
    "    if i not in lst:\n",
    "        lst.append(i)\n",
    "        \n",
    "print(lst)"
   ]
  },
  {
   "cell_type": "code",
   "execution_count": 21,
   "id": "7a57534d",
   "metadata": {},
   "outputs": [],
   "source": [
    "sample_list = [87, 45, 41, 65, 94, 41, 99, 94]"
   ]
  },
  {
   "cell_type": "code",
   "execution_count": 27,
   "id": "39d0f517",
   "metadata": {},
   "outputs": [],
   "source": [
    "def ops(lst):\n",
    "    unique_items = list(set(lst))\n",
    "    tup_ele = tuple(unique_items)\n",
    "    min_ele = min(tup_ele)\n",
    "    max_ele = max(tup_ele)\n",
    "    \n",
    "    return unique_items,tup_ele, min_ele, max_ele"
   ]
  },
  {
   "cell_type": "code",
   "execution_count": 28,
   "id": "4c6172dc",
   "metadata": {},
   "outputs": [
    {
     "data": {
      "text/plain": [
       "([65, 99, 41, 45, 87, 94], (65, 99, 41, 45, 87, 94), 41, 99)"
      ]
     },
     "execution_count": 28,
     "metadata": {},
     "output_type": "execute_result"
    }
   ],
   "source": [
    "ops(sample_list)"
   ]
  },
  {
   "cell_type": "code",
   "execution_count": 32,
   "id": "75cea15c",
   "metadata": {},
   "outputs": [],
   "source": [
    "list1 = [100, 200, 300, 400, 500]"
   ]
  },
  {
   "cell_type": "code",
   "execution_count": 30,
   "id": "aefdccf4",
   "metadata": {},
   "outputs": [],
   "source": [
    "list1.reverse()"
   ]
  },
  {
   "cell_type": "code",
   "execution_count": 34,
   "id": "39d6d5bc",
   "metadata": {},
   "outputs": [
    {
     "data": {
      "text/plain": [
       "[500, 400, 300, 200, 100]"
      ]
     },
     "execution_count": 34,
     "metadata": {},
     "output_type": "execute_result"
    }
   ],
   "source": [
    "list1[::-1]"
   ]
  },
  {
   "cell_type": "code",
   "execution_count": 35,
   "id": "5a8e2f74",
   "metadata": {},
   "outputs": [],
   "source": [
    "list1 = [\"M\", \"na\", \"i\", \"Ke\"]\n",
    "list2 = [\"y\", \"me\", \"s\", \"lly\"]"
   ]
  },
  {
   "cell_type": "code",
   "execution_count": 36,
   "id": "478b4f31",
   "metadata": {},
   "outputs": [],
   "source": [
    "def concat(lst1, lst2):\n",
    "    new_lst = []\n",
    "    for i in range(len(lst1)):\n",
    "        new_lst.append(lst1[i] + lst2[i])\n",
    "        \n",
    "    return new_lst"
   ]
  },
  {
   "cell_type": "code",
   "execution_count": 37,
   "id": "085252ba",
   "metadata": {},
   "outputs": [
    {
     "data": {
      "text/plain": [
       "['My', 'name', 'is', 'Kelly']"
      ]
     },
     "execution_count": 37,
     "metadata": {},
     "output_type": "execute_result"
    }
   ],
   "source": [
    "concat(list1, list2)"
   ]
  },
  {
   "cell_type": "code",
   "execution_count": 41,
   "id": "dedc57b8",
   "metadata": {},
   "outputs": [],
   "source": [
    "new_lst = [i+j for i, j in zip(list1, list2)]"
   ]
  },
  {
   "cell_type": "code",
   "execution_count": 42,
   "id": "9b5f266e",
   "metadata": {},
   "outputs": [
    {
     "name": "stdout",
     "output_type": "stream",
     "text": [
      "['My', 'name', 'is', 'Kelly']\n"
     ]
    }
   ],
   "source": [
    "print(new_lst)"
   ]
  },
  {
   "cell_type": "code",
   "execution_count": 43,
   "id": "7020b541",
   "metadata": {},
   "outputs": [],
   "source": [
    "numbers = [1, 2, 3, 4, 5, 6, 7]"
   ]
  },
  {
   "cell_type": "code",
   "execution_count": 45,
   "id": "47d5ca13",
   "metadata": {},
   "outputs": [],
   "source": [
    "res = [i**2 for i in numbers]"
   ]
  },
  {
   "cell_type": "code",
   "execution_count": 46,
   "id": "4b6c5a3f",
   "metadata": {},
   "outputs": [
    {
     "name": "stdout",
     "output_type": "stream",
     "text": [
      "[1, 4, 9, 16, 25, 36, 49]\n"
     ]
    }
   ],
   "source": [
    "print(res)"
   ]
  },
  {
   "cell_type": "code",
   "execution_count": 47,
   "id": "ce3537de",
   "metadata": {},
   "outputs": [
    {
     "name": "stdout",
     "output_type": "stream",
     "text": [
      "[1, 4, 9, 16, 25, 36, 49]\n"
     ]
    }
   ],
   "source": [
    "new_lst3 = []\n",
    "for i in numbers:\n",
    "    new_lst3.append(i*i)\n",
    "    \n",
    "print(new_lst3)"
   ]
  },
  {
   "cell_type": "code",
   "execution_count": 51,
   "id": "2dd5a30e",
   "metadata": {},
   "outputs": [
    {
     "name": "stdout",
     "output_type": "stream",
     "text": [
      "['Hello Dear', 'Hello Sir', 'take Dear', 'take Sir']\n"
     ]
    }
   ],
   "source": [
    "list1 = [\"Hello \", \"take \"]\n",
    "list2 = [\"Dear\", \"Sir\"]\n",
    "\n",
    "new_lst4 = []\n",
    "for i in list1:\n",
    "    for j in list2:\n",
    "        new_lst4.append(i + j)\n",
    "        \n",
    "print(new_lst4)\n",
    "        "
   ]
  },
  {
   "cell_type": "code",
   "execution_count": 50,
   "id": "8cae4766",
   "metadata": {},
   "outputs": [],
   "source": [
    "list1 = [\"Hello \", \"take \"]\n",
    "list2 = [\"Dear\", \"Sir\"]"
   ]
  },
  {
   "cell_type": "code",
   "execution_count": 52,
   "id": "03609fe6",
   "metadata": {},
   "outputs": [
    {
     "data": {
      "text/plain": [
       "['Hello Dear', 'Hello Sir', 'take Dear', 'take Sir']"
      ]
     },
     "execution_count": 52,
     "metadata": {},
     "output_type": "execute_result"
    }
   ],
   "source": [
    "[i + j for i in list1 for j in list2] "
   ]
  },
  {
   "cell_type": "code",
   "execution_count": 53,
   "id": "997081e9",
   "metadata": {},
   "outputs": [],
   "source": [
    "list1 = [10, 20, 30, 40]\n",
    "list2 = [100, 200, 300, 400]"
   ]
  },
  {
   "cell_type": "code",
   "execution_count": 64,
   "id": "9a36689c",
   "metadata": {},
   "outputs": [
    {
     "name": "stdout",
     "output_type": "stream",
     "text": [
      "10 400\n",
      "20 300\n",
      "30 200\n",
      "40 100\n"
     ]
    }
   ],
   "source": [
    "for i, j in zip(list1, list2[::-1]):\n",
    "    print(i, j)\n",
    "    "
   ]
  },
  {
   "cell_type": "code",
   "execution_count": 65,
   "id": "c27a9e3b",
   "metadata": {},
   "outputs": [],
   "source": [
    "list1 = [\"Mike\", \"\", \"Emma\", \"Kelly\", \"\", \"Brad\"]"
   ]
  },
  {
   "cell_type": "code",
   "execution_count": 68,
   "id": "c3f912da",
   "metadata": {},
   "outputs": [],
   "source": [
    "res = [i for i in list1 if i.isalpha()]"
   ]
  },
  {
   "cell_type": "code",
   "execution_count": 69,
   "id": "a70e594e",
   "metadata": {},
   "outputs": [
    {
     "name": "stdout",
     "output_type": "stream",
     "text": [
      "['Mike', 'Emma', 'Kelly', 'Brad']\n"
     ]
    }
   ],
   "source": [
    "print(res)"
   ]
  },
  {
   "cell_type": "code",
   "execution_count": 71,
   "id": "d6af5fb7",
   "metadata": {},
   "outputs": [
    {
     "data": {
      "text/plain": [
       "['Mike', 'Emma', 'Kelly', 'Brad']"
      ]
     },
     "execution_count": 71,
     "metadata": {},
     "output_type": "execute_result"
    }
   ],
   "source": [
    "list(filter(lambda x: x.isalpha(), list1))"
   ]
  },
  {
   "cell_type": "code",
   "execution_count": 72,
   "id": "4518ab9b",
   "metadata": {},
   "outputs": [
    {
     "data": {
      "text/plain": [
       "['Mike', 'Emma', 'Kelly', 'Brad']"
      ]
     },
     "execution_count": 72,
     "metadata": {},
     "output_type": "execute_result"
    }
   ],
   "source": [
    "list(filter(None, list1))"
   ]
  },
  {
   "cell_type": "code",
   "execution_count": 73,
   "id": "daec90c9",
   "metadata": {},
   "outputs": [],
   "source": [
    "list1 = [10, 20, [300, 400, [5000, 6000], 500], 30, 40]"
   ]
  },
  {
   "cell_type": "code",
   "execution_count": 79,
   "id": "bc709945",
   "metadata": {},
   "outputs": [],
   "source": [
    "list1[2][2].append(7000)"
   ]
  },
  {
   "cell_type": "code",
   "execution_count": 80,
   "id": "d9bccbab",
   "metadata": {},
   "outputs": [
    {
     "data": {
      "text/plain": [
       "[10, 20, [300, 400, [5000, 6000, 7000], 500], 30, 40]"
      ]
     },
     "execution_count": 80,
     "metadata": {},
     "output_type": "execute_result"
    }
   ],
   "source": [
    "list1"
   ]
  },
  {
   "cell_type": "code",
   "execution_count": 90,
   "id": "29e90a9d",
   "metadata": {},
   "outputs": [],
   "source": [
    "list1 = [\"a\", \"b\", [\"c\", [\"d\", \"e\", [\"f\", \"g\"], \"k\"], \"l\"], \"m\", \"n\"]\n",
    "\n",
    "# sub list to add\n",
    "sub_list = [\"h\", \"i\", \"j\"]"
   ]
  },
  {
   "cell_type": "code",
   "execution_count": 91,
   "id": "9a5a0a7d",
   "metadata": {},
   "outputs": [],
   "source": [
    "list1[2][1][2].extend(sub_list)"
   ]
  },
  {
   "cell_type": "code",
   "execution_count": 92,
   "id": "a8776ed1",
   "metadata": {},
   "outputs": [
    {
     "data": {
      "text/plain": [
       "['a', 'b', ['c', ['d', 'e', ['f', 'g', 'h', 'i', 'j'], 'k'], 'l'], 'm', 'n']"
      ]
     },
     "execution_count": 92,
     "metadata": {},
     "output_type": "execute_result"
    }
   ],
   "source": [
    "list1"
   ]
  },
  {
   "cell_type": "code",
   "execution_count": 101,
   "id": "aa374c1f",
   "metadata": {},
   "outputs": [],
   "source": [
    "list1 = [5, 10, 15, 20, 25, 50, 20]"
   ]
  },
  {
   "cell_type": "code",
   "execution_count": 103,
   "id": "e0da815a",
   "metadata": {},
   "outputs": [],
   "source": [
    "for i in range(len(list1)):\n",
    "    if i>1:\n",
    "        if list1[i]==20:\n",
    "            list1[i] = 200\n",
    "            break\n",
    "        "
   ]
  },
  {
   "cell_type": "code",
   "execution_count": 104,
   "id": "844530c7",
   "metadata": {},
   "outputs": [
    {
     "data": {
      "text/plain": [
       "[5, 10, 15, 200, 25, 50, 20]"
      ]
     },
     "execution_count": 104,
     "metadata": {},
     "output_type": "execute_result"
    }
   ],
   "source": [
    "list1"
   ]
  },
  {
   "cell_type": "code",
   "execution_count": 105,
   "id": "b8013dab",
   "metadata": {},
   "outputs": [],
   "source": [
    "list1 = [5, 10, 15, 20, 25, 50, 20]"
   ]
  },
  {
   "cell_type": "code",
   "execution_count": 108,
   "id": "33ac3cb2",
   "metadata": {},
   "outputs": [
    {
     "name": "stdout",
     "output_type": "stream",
     "text": [
      "[5, 10, 15, 200, 25, 50, 20]\n"
     ]
    }
   ],
   "source": [
    "indexx = list1.index(20)\n",
    "list1[indexx] = 200\n",
    "print(list1)"
   ]
  },
  {
   "cell_type": "code",
   "execution_count": 109,
   "id": "9c701ff1",
   "metadata": {},
   "outputs": [],
   "source": [
    "list1 = [5, 20, 15, 20, 25, 50, 20]"
   ]
  },
  {
   "cell_type": "code",
   "execution_count": 113,
   "id": "6da56e56",
   "metadata": {},
   "outputs": [
    {
     "name": "stdout",
     "output_type": "stream",
     "text": [
      "[5, 15, 25, 50]\n"
     ]
    }
   ],
   "source": [
    "for i in range(len(list1)):\n",
    "    if i>=0:\n",
    "        if list1[i] == 20:\n",
    "            list1.pop(i)\n",
    "        else:\n",
    "            pass\n",
    "print(list1)\n",
    "        "
   ]
  },
  {
   "cell_type": "code",
   "execution_count": 116,
   "id": "9f6882dc",
   "metadata": {},
   "outputs": [],
   "source": [
    "def remo(list1, val):\n",
    "    return [i for i in list1 if i!=val]\n",
    "    "
   ]
  },
  {
   "cell_type": "code",
   "execution_count": 118,
   "id": "fef9cf2a",
   "metadata": {},
   "outputs": [
    {
     "data": {
      "text/plain": [
       "[5, 15, 25, 50]"
      ]
     },
     "execution_count": 118,
     "metadata": {},
     "output_type": "execute_result"
    }
   ],
   "source": [
    "remo(list1, 20)"
   ]
  },
  {
   "cell_type": "code",
   "execution_count": 119,
   "id": "907ae751",
   "metadata": {},
   "outputs": [],
   "source": [
    "list1 = [5, 20, 15, 20, 25, 50, 20]"
   ]
  },
  {
   "cell_type": "code",
   "execution_count": 120,
   "id": "5be70688",
   "metadata": {},
   "outputs": [],
   "source": [
    "while 20 in list1:\n",
    "    list1.remove(20)"
   ]
  },
  {
   "cell_type": "code",
   "execution_count": 121,
   "id": "cb50bb4c",
   "metadata": {},
   "outputs": [
    {
     "data": {
      "text/plain": [
       "[5, 15, 25, 50]"
      ]
     },
     "execution_count": 121,
     "metadata": {},
     "output_type": "execute_result"
    }
   ],
   "source": [
    "list1"
   ]
  },
  {
   "cell_type": "code",
   "execution_count": 122,
   "id": "a1dc42c3",
   "metadata": {},
   "outputs": [
    {
     "data": {
      "text/plain": [
       "{'Ten': 10, 'Twenty': 20, 'Thirty': 30}"
      ]
     },
     "execution_count": 122,
     "metadata": {},
     "output_type": "execute_result"
    }
   ],
   "source": [
    "keys = ['Ten', 'Twenty', 'Thirty']\n",
    "values = [10, 20, 30]\n",
    "\n",
    "{i:j for i,j in zip(keys,values)}"
   ]
  },
  {
   "cell_type": "code",
   "execution_count": 124,
   "id": "69a959da",
   "metadata": {},
   "outputs": [
    {
     "data": {
      "text/plain": [
       "{'Ten': 10, 'Twenty': 20, 'Thirty': 30}"
      ]
     },
     "execution_count": 124,
     "metadata": {},
     "output_type": "execute_result"
    }
   ],
   "source": [
    "dict(zip(keys, values))"
   ]
  },
  {
   "cell_type": "code",
   "execution_count": 134,
   "id": "2fca8b27",
   "metadata": {},
   "outputs": [
    {
     "data": {
      "text/plain": [
       "{5: 7}"
      ]
     },
     "execution_count": 134,
     "metadata": {},
     "output_type": "execute_result"
    }
   ],
   "source": [
    "d = dict()\n",
    "\n",
    "d.update({5:7})\n",
    "d"
   ]
  },
  {
   "cell_type": "code",
   "execution_count": 135,
   "id": "24e94e8c",
   "metadata": {},
   "outputs": [
    {
     "name": "stdout",
     "output_type": "stream",
     "text": [
      "{'Ten': 10, 'Twenty': 20, 'Thirty': 30}\n"
     ]
    }
   ],
   "source": [
    "new_dict = dict()\n",
    "\n",
    "\n",
    "\n",
    "for i in range(len(keys)):\n",
    "    new_dict.update({keys[i]:values[i]})\n",
    "    \n",
    "print(new_dict)\n",
    "    "
   ]
  },
  {
   "cell_type": "code",
   "execution_count": 136,
   "id": "06a8ea4d",
   "metadata": {},
   "outputs": [],
   "source": [
    "dict1 = {'Ten': 10, 'Twenty': 20, 'Thirty': 30}\n",
    "dict2 = {'Thirty': 30, 'Fourty': 40, 'Fifty': 50}"
   ]
  },
  {
   "cell_type": "code",
   "execution_count": 137,
   "id": "856474f8",
   "metadata": {},
   "outputs": [],
   "source": [
    "dict1.update(dict2)"
   ]
  },
  {
   "cell_type": "code",
   "execution_count": 138,
   "id": "574f80c2",
   "metadata": {},
   "outputs": [
    {
     "data": {
      "text/plain": [
       "{'Ten': 10, 'Twenty': 20, 'Thirty': 30, 'Fourty': 40, 'Fifty': 50}"
      ]
     },
     "execution_count": 138,
     "metadata": {},
     "output_type": "execute_result"
    }
   ],
   "source": [
    "dict1"
   ]
  },
  {
   "cell_type": "code",
   "execution_count": 139,
   "id": "49299335",
   "metadata": {},
   "outputs": [],
   "source": [
    "dict1 = {'Ten': 10, 'Twenty': 20, 'Thirty': 30}\n",
    "dict2 = {'Thirty': 30, 'Fourty': 40, 'Fifty': 50}"
   ]
  },
  {
   "cell_type": "code",
   "execution_count": 141,
   "id": "5873bb20",
   "metadata": {},
   "outputs": [],
   "source": [
    "dict3 = {**dict1, **dict2}"
   ]
  },
  {
   "cell_type": "code",
   "execution_count": 142,
   "id": "5019c3dd",
   "metadata": {},
   "outputs": [
    {
     "data": {
      "text/plain": [
       "{'Ten': 10, 'Twenty': 20, 'Thirty': 30, 'Fourty': 40, 'Fifty': 50}"
      ]
     },
     "execution_count": 142,
     "metadata": {},
     "output_type": "execute_result"
    }
   ],
   "source": [
    "dict3\n"
   ]
  },
  {
   "cell_type": "code",
   "execution_count": 143,
   "id": "16bed7fe",
   "metadata": {},
   "outputs": [],
   "source": [
    "dict1 = {'Ten': 10, 'Twenty': 20, 'Thirty': 30}\n",
    "dict2 = {'Thirty': 30, 'Fourty': 40, 'Fifty': 50}"
   ]
  },
  {
   "cell_type": "code",
   "execution_count": 144,
   "id": "3d59da19",
   "metadata": {},
   "outputs": [],
   "source": [
    "dict3 = dict1.copy()"
   ]
  },
  {
   "cell_type": "code",
   "execution_count": 145,
   "id": "e76f48ee",
   "metadata": {},
   "outputs": [],
   "source": [
    "dict3.update(dict2)"
   ]
  },
  {
   "cell_type": "code",
   "execution_count": 146,
   "id": "e2e88317",
   "metadata": {},
   "outputs": [
    {
     "data": {
      "text/plain": [
       "{'Ten': 10, 'Twenty': 20, 'Thirty': 30, 'Fourty': 40, 'Fifty': 50}"
      ]
     },
     "execution_count": 146,
     "metadata": {},
     "output_type": "execute_result"
    }
   ],
   "source": [
    "dict3\n"
   ]
  },
  {
   "cell_type": "code",
   "execution_count": 147,
   "id": "c072ceec",
   "metadata": {},
   "outputs": [],
   "source": [
    "sampleDict = {\n",
    "    \"class\": {\n",
    "        \"student\": {\n",
    "            \"name\": \"Mike\",\n",
    "            \"marks\": {\n",
    "                \"physics\": 70,\n",
    "                \"history\": 80\n",
    "            }\n",
    "        }\n",
    "    }\n",
    "}"
   ]
  },
  {
   "cell_type": "code",
   "execution_count": 159,
   "id": "dcc6c249",
   "metadata": {},
   "outputs": [
    {
     "name": "stdout",
     "output_type": "stream",
     "text": [
      "80\n"
     ]
    }
   ],
   "source": [
    "print(sampleDict['class']['student']['marks']['history'])"
   ]
  },
  {
   "cell_type": "code",
   "execution_count": 160,
   "id": "df97db91",
   "metadata": {},
   "outputs": [],
   "source": [
    "employees = ['Kelly', 'Emma']\n",
    "defaults = {\"designation\": 'Developer', \"salary\": 8000}"
   ]
  },
  {
   "cell_type": "code",
   "execution_count": 163,
   "id": "92b6d2e4",
   "metadata": {},
   "outputs": [
    {
     "name": "stdout",
     "output_type": "stream",
     "text": [
      "{'Kelly': {'designation': 'Developer', 'salary': 8000}, 'Emma': {'designation': 'Developer', 'salary': 8000}}\n"
     ]
    }
   ],
   "source": [
    "d = dict()\n",
    "\n",
    "for i in employees:\n",
    "    d[i] = defaults\n",
    "    \n",
    "print(d)"
   ]
  },
  {
   "cell_type": "code",
   "execution_count": 167,
   "id": "44bf7922",
   "metadata": {},
   "outputs": [
    {
     "name": "stdout",
     "output_type": "stream",
     "text": [
      "{'Kelly': {'designation': 'Developer', 'salary': 8000}, 'Emma': {'designation': 'Developer', 'salary': 8000}}\n"
     ]
    }
   ],
   "source": [
    "res = dict.fromkeys(employees, defaults)\n",
    "print(res)"
   ]
  },
  {
   "cell_type": "code",
   "execution_count": 168,
   "id": "1448006b",
   "metadata": {},
   "outputs": [
    {
     "data": {
      "text/plain": [
       "{'designation': 'Developer', 'salary': 8000}"
      ]
     },
     "execution_count": 168,
     "metadata": {},
     "output_type": "execute_result"
    }
   ],
   "source": [
    "res['Kelly']"
   ]
  },
  {
   "cell_type": "code",
   "execution_count": 169,
   "id": "8767ff97",
   "metadata": {},
   "outputs": [],
   "source": [
    "sample_dict = {\n",
    "    \"name\": \"Kelly\",\n",
    "    \"age\": 25,\n",
    "    \"salary\": 8000,\n",
    "    \"city\": \"New york\"}\n",
    "\n",
    "# Keys to extract\n",
    "keys = [\"name\", \"salary\"]"
   ]
  },
  {
   "cell_type": "code",
   "execution_count": 177,
   "id": "dc91d0c7",
   "metadata": {},
   "outputs": [],
   "source": [
    "new_dict = {i:sample_dict[i] for i in keys}"
   ]
  },
  {
   "cell_type": "code",
   "execution_count": 178,
   "id": "59a2d688",
   "metadata": {},
   "outputs": [
    {
     "data": {
      "text/plain": [
       "{'name': 'Kelly', 'salary': 8000}"
      ]
     },
     "execution_count": 178,
     "metadata": {},
     "output_type": "execute_result"
    }
   ],
   "source": [
    "new_dict"
   ]
  },
  {
   "cell_type": "code",
   "execution_count": 180,
   "id": "d401c99c",
   "metadata": {},
   "outputs": [
    {
     "data": {
      "text/plain": [
       "{'name': 'Kelly', 'salary': 8000}"
      ]
     },
     "execution_count": 180,
     "metadata": {},
     "output_type": "execute_result"
    }
   ],
   "source": [
    "sample_dict = {\n",
    "    \"name\": \"Kelly\",\n",
    "    \"age\": 25,\n",
    "    \"salary\": 8000,\n",
    "    \"city\": \"New york\"}\n",
    "\n",
    "# Keys to extract\n",
    "keys = [\"name\", \"salary\"]\n",
    "\n",
    "\n",
    "res = {}\n",
    "\n",
    "for i in keys:\n",
    "    res.update({i:sample_dict[i]})\n",
    "    \n",
    "res"
   ]
  },
  {
   "cell_type": "code",
   "execution_count": 181,
   "id": "862ff89e",
   "metadata": {},
   "outputs": [],
   "source": [
    "sample_dict = {\n",
    "    \"name\": \"Kelly\",\n",
    "    \"age\": 25,\n",
    "    \"salary\": 8000,\n",
    "    \"city\": \"New york\"\n",
    "}\n",
    "\n",
    "# Keys to remove\n",
    "keys = [\"name\", \"salary\"]\n",
    "\n"
   ]
  },
  {
   "cell_type": "code",
   "execution_count": 183,
   "id": "fd833aea",
   "metadata": {},
   "outputs": [
    {
     "name": "stdout",
     "output_type": "stream",
     "text": [
      "{'age': 25, 'city': 'New york'}\n"
     ]
    }
   ],
   "source": [
    "for i in keys:\n",
    "    if i in sample_dict.keys():\n",
    "        del sample_dict[i]\n",
    "        \n",
    "print(sample_dict)"
   ]
  },
  {
   "cell_type": "code",
   "execution_count": 192,
   "id": "657365da",
   "metadata": {},
   "outputs": [],
   "source": [
    "sample_dict = {\n",
    "    \"name\": \"Kelly\",\n",
    "    \"age\": 25,\n",
    "    \"salary\": 8000,\n",
    "    \"city\": \"New york\"\n",
    "}\n",
    "\n",
    "# Keys to remove\n",
    "keys = [\"name\", \"salary\"]\n",
    "\n",
    "\n"
   ]
  },
  {
   "cell_type": "code",
   "execution_count": 193,
   "id": "22684208",
   "metadata": {},
   "outputs": [
    {
     "name": "stdout",
     "output_type": "stream",
     "text": [
      "{'age': 25, 'city': 'New york'}\n"
     ]
    }
   ],
   "source": [
    "for i in keys:\n",
    "    sample_dict.pop(i)\n",
    "    \n",
    "print(sample_dict)"
   ]
  },
  {
   "cell_type": "code",
   "execution_count": 191,
   "id": "99156ace",
   "metadata": {},
   "outputs": [
    {
     "data": {
      "text/plain": [
       "{'age': 25, 'city': 'New york'}"
      ]
     },
     "execution_count": 191,
     "metadata": {},
     "output_type": "execute_result"
    }
   ],
   "source": [
    "{k: sample_dict[k] for k in sample_dict.keys()-keys}"
   ]
  },
  {
   "cell_type": "code",
   "execution_count": 194,
   "id": "37383364",
   "metadata": {},
   "outputs": [
    {
     "data": {
      "text/plain": [
       "dict_keys(['age', 'city'])"
      ]
     },
     "execution_count": 194,
     "metadata": {},
     "output_type": "execute_result"
    }
   ],
   "source": [
    "sample_dict.keys() - "
   ]
  },
  {
   "cell_type": "code",
   "execution_count": 196,
   "id": "a9627f9c",
   "metadata": {},
   "outputs": [],
   "source": [
    "sample_dict = {'a': 100, 'b': 200, 'c': 300}"
   ]
  },
  {
   "cell_type": "code",
   "execution_count": 200,
   "id": "0dfa2109",
   "metadata": {},
   "outputs": [
    {
     "name": "stdout",
     "output_type": "stream",
     "text": [
      "value is not presenet\n"
     ]
    }
   ],
   "source": [
    "if 40000 in sample_dict.values():\n",
    "    print('value is present')\n",
    "else:\n",
    "    print('value is not presenet')"
   ]
  },
  {
   "cell_type": "code",
   "execution_count": 201,
   "id": "67ff7300",
   "metadata": {},
   "outputs": [],
   "source": [
    "sample_dict = {\n",
    "  \"name\": \"Kelly\",\n",
    "  \"age\":25,\n",
    "  \"salary\": 8000,\n",
    "  \"city\": \"New york\"\n",
    "}"
   ]
  },
  {
   "cell_type": "code",
   "execution_count": 205,
   "id": "abd253c5",
   "metadata": {},
   "outputs": [],
   "source": [
    "list(sample_dict.keys())[3] = \"Location\""
   ]
  },
  {
   "cell_type": "code",
   "execution_count": 206,
   "id": "e6aa2504",
   "metadata": {},
   "outputs": [
    {
     "data": {
      "text/plain": [
       "{'name': 'Kelly', 'age': 25, 'salary': 8000, 'city': 'New york'}"
      ]
     },
     "execution_count": 206,
     "metadata": {},
     "output_type": "execute_result"
    }
   ],
   "source": [
    "sample_dict"
   ]
  },
  {
   "cell_type": "code",
   "execution_count": 208,
   "id": "14b21016",
   "metadata": {},
   "outputs": [],
   "source": [
    "l1 = list(sample_dict.keys())"
   ]
  },
  {
   "cell_type": "code",
   "execution_count": 210,
   "id": "7e2d2f9a",
   "metadata": {},
   "outputs": [],
   "source": [
    "l1[3] = \"Location\""
   ]
  },
  {
   "cell_type": "code",
   "execution_count": 211,
   "id": "39f4893c",
   "metadata": {},
   "outputs": [
    {
     "data": {
      "text/plain": [
       "['name', 'age', 'salary', 'Location']"
      ]
     },
     "execution_count": 211,
     "metadata": {},
     "output_type": "execute_result"
    }
   ],
   "source": [
    "l1"
   ]
  },
  {
   "cell_type": "code",
   "execution_count": 214,
   "id": "b2a5da97",
   "metadata": {},
   "outputs": [],
   "source": [
    "l2 = list(sample_dict.values())"
   ]
  },
  {
   "cell_type": "code",
   "execution_count": 215,
   "id": "840fe28f",
   "metadata": {},
   "outputs": [
    {
     "data": {
      "text/plain": [
       "{'name': 'Kelly', 'age': 25, 'salary': 8000, 'Location': 'New york'}"
      ]
     },
     "execution_count": 215,
     "metadata": {},
     "output_type": "execute_result"
    }
   ],
   "source": [
    "{k:v for k,v in zip(l1,l2)}"
   ]
  },
  {
   "cell_type": "code",
   "execution_count": 216,
   "id": "d5f79778",
   "metadata": {},
   "outputs": [],
   "source": [
    "sample_dict = {\n",
    "  \"name\": \"Kelly\",\n",
    "  \"age\":25,\n",
    "  \"salary\": 8000,\n",
    "  \"city\": \"New york\"\n",
    "}"
   ]
  },
  {
   "cell_type": "code",
   "execution_count": 217,
   "id": "ce4fca33",
   "metadata": {},
   "outputs": [],
   "source": [
    "sample_dict['Location'] = sample_dict.pop('city')"
   ]
  },
  {
   "cell_type": "code",
   "execution_count": 218,
   "id": "05b5c6e4",
   "metadata": {},
   "outputs": [
    {
     "data": {
      "text/plain": [
       "{'name': 'Kelly', 'age': 25, 'salary': 8000, 'Location': 'New york'}"
      ]
     },
     "execution_count": 218,
     "metadata": {},
     "output_type": "execute_result"
    }
   ],
   "source": [
    "sample_dict"
   ]
  },
  {
   "cell_type": "code",
   "execution_count": 219,
   "id": "f391bb69",
   "metadata": {},
   "outputs": [],
   "source": [
    "sample_dict = {\n",
    "  'Physics': 82,\n",
    "  'Math': 65,\n",
    "  'history': 75\n",
    "}"
   ]
  },
  {
   "cell_type": "code",
   "execution_count": 223,
   "id": "2d9f42dd",
   "metadata": {},
   "outputs": [
    {
     "name": "stdout",
     "output_type": "stream",
     "text": [
      "Math\n"
     ]
    }
   ],
   "source": [
    "print(min(sample_dict, key=sample_dict.get))"
   ]
  },
  {
   "cell_type": "code",
   "execution_count": 224,
   "id": "b8e99594",
   "metadata": {},
   "outputs": [
    {
     "data": {
      "text/plain": [
       "<function dict.get(key, default=None, /)>"
      ]
     },
     "execution_count": 224,
     "metadata": {},
     "output_type": "execute_result"
    }
   ],
   "source": [
    "sample_dict.get"
   ]
  },
  {
   "cell_type": "code",
   "execution_count": null,
   "id": "d9c83cda",
   "metadata": {},
   "outputs": [],
   "source": []
  },
  {
   "cell_type": "code",
   "execution_count": 225,
   "id": "c3172c45",
   "metadata": {},
   "outputs": [],
   "source": [
    "sample_dict = {\n",
    "    'emp1': {'name': 'Jhon', 'salary': 7500},\n",
    "    'emp2': {'name': 'Emma', 'salary': 8000},\n",
    "    'emp3': {'name': 'Brad', 'salary': 500}\n",
    "}"
   ]
  },
  {
   "cell_type": "code",
   "execution_count": 228,
   "id": "31bd05fb",
   "metadata": {},
   "outputs": [],
   "source": [
    "sample_dict['emp3']['salary'] = 8500"
   ]
  },
  {
   "cell_type": "code",
   "execution_count": 230,
   "id": "b4f6ad73",
   "metadata": {},
   "outputs": [
    {
     "name": "stdout",
     "output_type": "stream",
     "text": [
      "{'emp1': {'name': 'Jhon', 'salary': 7500}, 'emp2': {'name': 'Emma', 'salary': 8000}, 'emp3': {'name': 'Brad', 'salary': 8500}}\n"
     ]
    }
   ],
   "source": [
    "print(sample_dict)"
   ]
  },
  {
   "cell_type": "code",
   "execution_count": 248,
   "id": "9bca46fb",
   "metadata": {},
   "outputs": [],
   "source": [
    "s1 = \"Yn\"\n",
    "s2 = \"PYnative\""
   ]
  },
  {
   "cell_type": "code",
   "execution_count": 244,
   "id": "0cd00ab6",
   "metadata": {},
   "outputs": [
    {
     "name": "stdout",
     "output_type": "stream",
     "text": [
      "False\n"
     ]
    }
   ],
   "source": [
    "if s1 in s2:\n",
    "    print(\"True\")\n",
    "else:\n",
    "    print('False')"
   ]
  },
  {
   "cell_type": "code",
   "execution_count": 249,
   "id": "beceb685",
   "metadata": {},
   "outputs": [
    {
     "data": {
      "text/plain": [
       "True"
      ]
     },
     "execution_count": 249,
     "metadata": {},
     "output_type": "execute_result"
    }
   ],
   "source": [
    "def balance_check(s1,s2):\n",
    "    flag = True\n",
    "    for i in s1:\n",
    "        if i in s2:\n",
    "            continue\n",
    "        else:\n",
    "            flag = False\n",
    "            \n",
    "    return flag\n",
    "            \n",
    "balance_check(s1,s2)"
   ]
  },
  {
   "cell_type": "code",
   "execution_count": 257,
   "id": "7cfa2de5",
   "metadata": {},
   "outputs": [],
   "source": [
    "str1 = \"Welcome to USA. usa awesome, isn't it?\"\n",
    "tem_str1 = str1.lower()\n",
    "sub_str1 = 'USA'"
   ]
  },
  {
   "cell_type": "code",
   "execution_count": 258,
   "id": "49cdfb0c",
   "metadata": {},
   "outputs": [
    {
     "data": {
      "text/plain": [
       "\"welcome to usa. usa awesome, isn't it?\""
      ]
     },
     "execution_count": 258,
     "metadata": {},
     "output_type": "execute_result"
    }
   ],
   "source": [
    "tem_str1"
   ]
  },
  {
   "cell_type": "code",
   "execution_count": 260,
   "id": "be6dbcd0",
   "metadata": {},
   "outputs": [],
   "source": [
    "c = tem_str1.count(sub_str1.lower())"
   ]
  },
  {
   "cell_type": "code",
   "execution_count": 262,
   "id": "65a682a5",
   "metadata": {},
   "outputs": [
    {
     "name": "stdout",
     "output_type": "stream",
     "text": [
      "The USA count is: 2\n"
     ]
    }
   ],
   "source": [
    "print(\"The USA count is:\", c)"
   ]
  },
  {
   "cell_type": "code",
   "execution_count": 282,
   "id": "68ccdc54",
   "metadata": {},
   "outputs": [
    {
     "data": {
      "text/plain": [
       "False"
      ]
     },
     "execution_count": 282,
     "metadata": {},
     "output_type": "execute_result"
    }
   ],
   "source": [
    "str1 = \"PYnative29@#8496\"\n",
    "str1.isnumeric()"
   ]
  },
  {
   "cell_type": "code",
   "execution_count": 279,
   "id": "f832f42e",
   "metadata": {},
   "outputs": [
    {
     "data": {
      "text/plain": [
       "6.333333333333333"
      ]
     },
     "execution_count": 279,
     "metadata": {},
     "output_type": "execute_result"
    }
   ],
   "source": [
    "l1 = [int(i) for i in str1 if i.isnumeric()]\n",
    "sum(l1)\n",
    "len(l1)\n",
    "avg = sum(l1)/len(l1)\n",
    "avg"
   ]
  },
  {
   "cell_type": "code",
   "execution_count": 285,
   "id": "c896041e",
   "metadata": {},
   "outputs": [
    {
     "name": "stdout",
     "output_type": "stream",
     "text": [
      "38\n",
      "6.333333333333333\n"
     ]
    }
   ],
   "source": [
    "total = 0\n",
    "cnt = 0\n",
    "\n",
    "for i in str1:\n",
    "    if i.isdigit():\n",
    "        total+=int(i)\n",
    "        cnt+=1\n",
    "        \n",
    "print(total)\n",
    "print(total/cnt)\n",
    "        "
   ]
  },
  {
   "cell_type": "code",
   "execution_count": 286,
   "id": "be3fd53f",
   "metadata": {},
   "outputs": [],
   "source": [
    "import re"
   ]
  },
  {
   "cell_type": "code",
   "execution_count": 290,
   "id": "4c6b20f9",
   "metadata": {},
   "outputs": [],
   "source": [
    "l2 = [int(num) for num in re.findall(r\"\\d\", str1)]"
   ]
  },
  {
   "cell_type": "code",
   "execution_count": 292,
   "id": "08f276f6",
   "metadata": {},
   "outputs": [],
   "source": [
    "total = sum(l2)"
   ]
  },
  {
   "cell_type": "code",
   "execution_count": 293,
   "id": "367bdc05",
   "metadata": {},
   "outputs": [],
   "source": [
    "avg = total/len(l2)"
   ]
  },
  {
   "cell_type": "code",
   "execution_count": 294,
   "id": "51f12702",
   "metadata": {},
   "outputs": [
    {
     "data": {
      "text/plain": [
       "6.333333333333333"
      ]
     },
     "execution_count": 294,
     "metadata": {},
     "output_type": "execute_result"
    }
   ],
   "source": [
    "avg"
   ]
  },
  {
   "cell_type": "code",
   "execution_count": 295,
   "id": "ee915557",
   "metadata": {},
   "outputs": [],
   "source": [
    "str1 = \"Apple\""
   ]
  },
  {
   "cell_type": "code",
   "execution_count": 299,
   "id": "4be5e543",
   "metadata": {},
   "outputs": [],
   "source": [
    "res = {i:str1.count(i) for i in str1}"
   ]
  },
  {
   "cell_type": "code",
   "execution_count": 300,
   "id": "3fe087a1",
   "metadata": {},
   "outputs": [
    {
     "name": "stdout",
     "output_type": "stream",
     "text": [
      "{'A': 1, 'p': 2, 'l': 1, 'e': 1}\n"
     ]
    }
   ],
   "source": [
    "print(res)"
   ]
  },
  {
   "cell_type": "code",
   "execution_count": 302,
   "id": "ef39e32e",
   "metadata": {},
   "outputs": [
    {
     "name": "stdout",
     "output_type": "stream",
     "text": [
      "{'A': 1, 'p': 2, 'l': 1, 'e': 1}\n"
     ]
    }
   ],
   "source": [
    "s3 = {}\n",
    "for i in str1:\n",
    "    if i not in s3:\n",
    "        s3[i] = 1\n",
    "    else:\n",
    "        s3[i]+=1\n",
    "        \n",
    "print(s3)\n",
    "        \n",
    "        \n",
    "    "
   ]
  },
  {
   "cell_type": "code",
   "execution_count": 303,
   "id": "455c34c7",
   "metadata": {},
   "outputs": [],
   "source": [
    "str1 = \"PYnative\""
   ]
  },
  {
   "cell_type": "code",
   "execution_count": 305,
   "id": "0be7a769",
   "metadata": {},
   "outputs": [
    {
     "data": {
      "text/plain": [
       "'evitanYP'"
      ]
     },
     "execution_count": 305,
     "metadata": {},
     "output_type": "execute_result"
    }
   ],
   "source": [
    "str1[::-1]"
   ]
  },
  {
   "cell_type": "code",
   "execution_count": 311,
   "id": "f497e38e",
   "metadata": {},
   "outputs": [
    {
     "data": {
      "text/plain": [
       "'evitanYP'"
      ]
     },
     "execution_count": 311,
     "metadata": {},
     "output_type": "execute_result"
    }
   ],
   "source": [
    "\"\".join(reversed(str1))"
   ]
  },
  {
   "cell_type": "code",
   "execution_count": 313,
   "id": "e9f1fbd3",
   "metadata": {},
   "outputs": [
    {
     "data": {
      "text/plain": [
       "reversed"
      ]
     },
     "execution_count": 313,
     "metadata": {},
     "output_type": "execute_result"
    }
   ],
   "source": [
    "type(reversed(str1))"
   ]
  },
  {
   "cell_type": "code",
   "execution_count": 314,
   "id": "9df4444b",
   "metadata": {},
   "outputs": [],
   "source": [
    "str1 = \"Emma is a data scientist who knows Python. Emma works at google.\""
   ]
  },
  {
   "cell_type": "code",
   "execution_count": 316,
   "id": "0fbdd768",
   "metadata": {},
   "outputs": [
    {
     "data": {
      "text/plain": [
       "43"
      ]
     },
     "execution_count": 316,
     "metadata": {},
     "output_type": "execute_result"
    }
   ],
   "source": [
    "str1.find('Emma', 1)"
   ]
  },
  {
   "cell_type": "code",
   "execution_count": 317,
   "id": "bb0353ff",
   "metadata": {},
   "outputs": [
    {
     "data": {
      "text/plain": [
       "43"
      ]
     },
     "execution_count": 317,
     "metadata": {},
     "output_type": "execute_result"
    }
   ],
   "source": [
    "str1.rfind('Emma')"
   ]
  },
  {
   "cell_type": "code",
   "execution_count": 328,
   "id": "af79d418",
   "metadata": {},
   "outputs": [],
   "source": [
    "str1 = \"Emma-is-a-data-scientist\""
   ]
  },
  {
   "cell_type": "code",
   "execution_count": 333,
   "id": "db555e7e",
   "metadata": {},
   "outputs": [],
   "source": [
    "l1 = str1.split('-')"
   ]
  },
  {
   "cell_type": "code",
   "execution_count": 334,
   "id": "1610303f",
   "metadata": {},
   "outputs": [
    {
     "name": "stdout",
     "output_type": "stream",
     "text": [
      "Emma\n",
      "is\n",
      "a\n",
      "data\n",
      "scientist\n"
     ]
    }
   ],
   "source": [
    "for i in l1:\n",
    "    print(i)"
   ]
  },
  {
   "cell_type": "code",
   "execution_count": 335,
   "id": "f350dfd3",
   "metadata": {},
   "outputs": [
    {
     "name": "stdout",
     "output_type": "stream",
     "text": [
      "Emma\n",
      "is\n",
      "a\n",
      "data\n",
      "scientist\n"
     ]
    }
   ],
   "source": [
    "for i in str1.split('-'):\n",
    "    print(i)"
   ]
  },
  {
   "cell_type": "code",
   "execution_count": 336,
   "id": "f36df9aa",
   "metadata": {},
   "outputs": [],
   "source": [
    "str_list = [\"Emma\", \"Jon\", \"\", \"Kelly\", None, \"Eric\", \"\"]"
   ]
  },
  {
   "cell_type": "code",
   "execution_count": 338,
   "id": "e27cb3ae",
   "metadata": {},
   "outputs": [
    {
     "data": {
      "text/plain": [
       "['Emma', 'Jon', 'Kelly', 'Eric']"
      ]
     },
     "execution_count": 338,
     "metadata": {},
     "output_type": "execute_result"
    }
   ],
   "source": [
    "list(filter(None, str_list))"
   ]
  },
  {
   "cell_type": "code",
   "execution_count": 339,
   "id": "0a471c40",
   "metadata": {},
   "outputs": [],
   "source": [
    "new_lst = []\n",
    "for s in str_list:\n",
    "    if s:\n",
    "        new_lst.append(s)\n",
    "        "
   ]
  },
  {
   "cell_type": "code",
   "execution_count": 340,
   "id": "d6406d54",
   "metadata": {},
   "outputs": [
    {
     "data": {
      "text/plain": [
       "['Emma', 'Jon', 'Kelly', 'Eric']"
      ]
     },
     "execution_count": 340,
     "metadata": {},
     "output_type": "execute_result"
    }
   ],
   "source": [
    "new_lst"
   ]
  },
  {
   "cell_type": "code",
   "execution_count": 350,
   "id": "2064ca46",
   "metadata": {},
   "outputs": [],
   "source": [
    "import string"
   ]
  },
  {
   "cell_type": "code",
   "execution_count": null,
   "id": "60185b27",
   "metadata": {},
   "outputs": [],
   "source": []
  },
  {
   "cell_type": "code",
   "execution_count": 349,
   "id": "cf021111",
   "metadata": {},
   "outputs": [
    {
     "ename": "TypeError",
     "evalue": "maketrans expected at least 1 argument, got 0",
     "output_type": "error",
     "traceback": [
      "\u001b[1;31m---------------------------------------------------------------------------\u001b[0m",
      "\u001b[1;31mTypeError\u001b[0m                                 Traceback (most recent call last)",
      "Input \u001b[1;32mIn [349]\u001b[0m, in \u001b[0;36m<cell line: 3>\u001b[1;34m()\u001b[0m\n\u001b[0;32m      1\u001b[0m str1 \u001b[38;5;241m=\u001b[39m \u001b[38;5;124m\"\u001b[39m\u001b[38;5;124m/*Jon is @developer & musician\u001b[39m\u001b[38;5;124m\"\u001b[39m\n\u001b[1;32m----> 3\u001b[0m \u001b[43mstr1\u001b[49m\u001b[38;5;241;43m.\u001b[39;49m\u001b[43mmaketrans\u001b[49m\u001b[43m(\u001b[49m\u001b[43m)\u001b[49m\n",
      "\u001b[1;31mTypeError\u001b[0m: maketrans expected at least 1 argument, got 0"
     ]
    }
   ],
   "source": [
    "str1 = \"/*Jon is @developer & musician\"\n",
    "\n",
    "str1.maketrans()"
   ]
  },
  {
   "cell_type": "code",
   "execution_count": 356,
   "id": "3b20c61d",
   "metadata": {},
   "outputs": [],
   "source": [
    "new_str  = str1.translate(str.maketrans('','', string.punctuation))"
   ]
  },
  {
   "cell_type": "code",
   "execution_count": 353,
   "id": "4736bf20",
   "metadata": {},
   "outputs": [
    {
     "data": {
      "text/plain": [
       "'Jon is developer  musician'"
      ]
     },
     "execution_count": 353,
     "metadata": {},
     "output_type": "execute_result"
    }
   ],
   "source": [
    "new_str"
   ]
  },
  {
   "cell_type": "code",
   "execution_count": 348,
   "id": "f1e2d32d",
   "metadata": {},
   "outputs": [
    {
     "name": "stdout",
     "output_type": "stream",
     "text": [
      "Jonisdevelopermusician\n"
     ]
    }
   ],
   "source": [
    "newstr = \"\"\n",
    "\n",
    "for i in str1:\n",
    "    if i.isalpha():\n",
    "        newstr += i\n",
    "        \n",
    "print(newstr)"
   ]
  },
  {
   "cell_type": "code",
   "execution_count": 357,
   "id": "5b2435ed",
   "metadata": {},
   "outputs": [],
   "source": [
    "import re"
   ]
  },
  {
   "cell_type": "code",
   "execution_count": 360,
   "id": "336ad103",
   "metadata": {},
   "outputs": [
    {
     "name": "stdout",
     "output_type": "stream",
     "text": [
      "  Jon is  developer   musician\n"
     ]
    }
   ],
   "source": [
    "res = re.sub(r'[^\\w\\s]', \" \", str1)\n",
    "print(res)"
   ]
  },
  {
   "cell_type": "code",
   "execution_count": 370,
   "id": "be2403e7",
   "metadata": {},
   "outputs": [],
   "source": [
    "str1 = 'I am 25 years and 10 months old'"
   ]
  },
  {
   "cell_type": "code",
   "execution_count": 373,
   "id": "921c553e",
   "metadata": {},
   "outputs": [
    {
     "name": "stdout",
     "output_type": "stream",
     "text": [
      "2\n",
      "5\n",
      "1\n",
      "0\n"
     ]
    }
   ],
   "source": [
    "\n",
    "\n",
    "for i in str1:\n",
    "    if i.isdigit():\n",
    "        print(i)\n",
    "\n",
    "    "
   ]
  },
  {
   "cell_type": "code",
   "execution_count": 377,
   "id": "7a211fca",
   "metadata": {},
   "outputs": [],
   "source": [
    "res = \"\".join([i for i in str1 if i.isdigit()])"
   ]
  },
  {
   "cell_type": "code",
   "execution_count": 378,
   "id": "5653592f",
   "metadata": {},
   "outputs": [
    {
     "name": "stdout",
     "output_type": "stream",
     "text": [
      "2510\n"
     ]
    }
   ],
   "source": [
    "print(res)"
   ]
  },
  {
   "cell_type": "code",
   "execution_count": 382,
   "id": "1ed8fc87",
   "metadata": {},
   "outputs": [
    {
     "data": {
      "text/plain": [
       "['Emma25', 'is', 'Data', 'scientist50', 'and', 'AI', 'Expert']"
      ]
     },
     "execution_count": 382,
     "metadata": {},
     "output_type": "execute_result"
    }
   ],
   "source": [
    "str1 = \"Emma25 is Data scientist50 and AI Expert\"\n",
    "str1.split()"
   ]
  },
  {
   "cell_type": "code",
   "execution_count": 381,
   "id": "5b0859b4",
   "metadata": {},
   "outputs": [
    {
     "data": {
      "text/plain": [
       "'Emma25isDatascientist50andAIExpert'"
      ]
     },
     "execution_count": 381,
     "metadata": {},
     "output_type": "execute_result"
    }
   ],
   "source": [
    "\"\".join([i for i in str1 if i.isalnum()])"
   ]
  },
  {
   "cell_type": "code",
   "execution_count": 385,
   "id": "64afc61e",
   "metadata": {},
   "outputs": [
    {
     "name": "stdout",
     "output_type": "stream",
     "text": [
      "Emma25\n",
      "scientist50\n"
     ]
    }
   ],
   "source": [
    "for i in str1.split():\n",
    "    if i.isalpha():\n",
    "        pass\n",
    "    else:\n",
    "        print(i)"
   ]
  },
  {
   "cell_type": "code",
   "execution_count": 390,
   "id": "4843a3b2",
   "metadata": {},
   "outputs": [],
   "source": [
    "str1 = '/*Jon is @developer & musician!!'"
   ]
  },
  {
   "cell_type": "code",
   "execution_count": 391,
   "id": "b6215d8e",
   "metadata": {},
   "outputs": [],
   "source": [
    "import string"
   ]
  },
  {
   "cell_type": "code",
   "execution_count": 398,
   "id": "dc3a0679",
   "metadata": {},
   "outputs": [],
   "source": [
    "newstr = str1.translate(str.maketrans(\"\", \"\", string.punctuation))"
   ]
  },
  {
   "cell_type": "code",
   "execution_count": 399,
   "id": "bd76a098",
   "metadata": {},
   "outputs": [
    {
     "data": {
      "text/plain": [
       "'Jon is developer  musician251025102510251025102510'"
      ]
     },
     "execution_count": 399,
     "metadata": {},
     "output_type": "execute_result"
    }
   ],
   "source": [
    "new_str"
   ]
  },
  {
   "cell_type": "code",
   "execution_count": 400,
   "id": "00ea13cd",
   "metadata": {},
   "outputs": [],
   "source": [
    "import re"
   ]
  },
  {
   "cell_type": "code",
   "execution_count": 402,
   "id": "37c160ca",
   "metadata": {},
   "outputs": [
    {
     "ename": "error",
     "evalue": "bad escape \\z at position 4",
     "output_type": "error",
     "traceback": [
      "\u001b[1;31m---------------------------------------------------------------------------\u001b[0m",
      "\u001b[1;31merror\u001b[0m                                     Traceback (most recent call last)",
      "Input \u001b[1;32mIn [402]\u001b[0m, in \u001b[0;36m<cell line: 1>\u001b[1;34m()\u001b[0m\n\u001b[1;32m----> 1\u001b[0m \u001b[43mre\u001b[49m\u001b[38;5;241;43m.\u001b[39;49m\u001b[43msub\u001b[49m\u001b[43m(\u001b[49m\u001b[38;5;124;43mr\u001b[39;49m\u001b[38;5;124;43m'\u001b[39;49m\u001b[38;5;124;43m[^\u001b[39;49m\u001b[38;5;124;43m\\\u001b[39;49m\u001b[38;5;124;43mw\u001b[39;49m\u001b[38;5;124;43m\\\u001b[39;49m\u001b[38;5;124;43mz]\u001b[39;49m\u001b[38;5;124;43m'\u001b[39;49m\u001b[43m,\u001b[49m\u001b[43m \u001b[49m\u001b[38;5;124;43m\"\u001b[39;49m\u001b[38;5;124;43m#\u001b[39;49m\u001b[38;5;124;43m\"\u001b[39;49m\u001b[43m,\u001b[49m\u001b[43m \u001b[49m\u001b[43mstr1\u001b[49m\u001b[43m)\u001b[49m\n",
      "File \u001b[1;32m~\\anaconda3\\lib\\re.py:210\u001b[0m, in \u001b[0;36msub\u001b[1;34m(pattern, repl, string, count, flags)\u001b[0m\n\u001b[0;32m    203\u001b[0m \u001b[38;5;28;01mdef\u001b[39;00m \u001b[38;5;21msub\u001b[39m(pattern, repl, string, count\u001b[38;5;241m=\u001b[39m\u001b[38;5;241m0\u001b[39m, flags\u001b[38;5;241m=\u001b[39m\u001b[38;5;241m0\u001b[39m):\n\u001b[0;32m    204\u001b[0m     \u001b[38;5;124;03m\"\"\"Return the string obtained by replacing the leftmost\u001b[39;00m\n\u001b[0;32m    205\u001b[0m \u001b[38;5;124;03m    non-overlapping occurrences of the pattern in string by the\u001b[39;00m\n\u001b[0;32m    206\u001b[0m \u001b[38;5;124;03m    replacement repl.  repl can be either a string or a callable;\u001b[39;00m\n\u001b[0;32m    207\u001b[0m \u001b[38;5;124;03m    if a string, backslash escapes in it are processed.  If it is\u001b[39;00m\n\u001b[0;32m    208\u001b[0m \u001b[38;5;124;03m    a callable, it's passed the Match object and must return\u001b[39;00m\n\u001b[0;32m    209\u001b[0m \u001b[38;5;124;03m    a replacement string to be used.\"\"\"\u001b[39;00m\n\u001b[1;32m--> 210\u001b[0m     \u001b[38;5;28;01mreturn\u001b[39;00m \u001b[43m_compile\u001b[49m\u001b[43m(\u001b[49m\u001b[43mpattern\u001b[49m\u001b[43m,\u001b[49m\u001b[43m \u001b[49m\u001b[43mflags\u001b[49m\u001b[43m)\u001b[49m\u001b[38;5;241m.\u001b[39msub(repl, string, count)\n",
      "File \u001b[1;32m~\\anaconda3\\lib\\re.py:304\u001b[0m, in \u001b[0;36m_compile\u001b[1;34m(pattern, flags)\u001b[0m\n\u001b[0;32m    302\u001b[0m \u001b[38;5;28;01mif\u001b[39;00m \u001b[38;5;129;01mnot\u001b[39;00m sre_compile\u001b[38;5;241m.\u001b[39misstring(pattern):\n\u001b[0;32m    303\u001b[0m     \u001b[38;5;28;01mraise\u001b[39;00m \u001b[38;5;167;01mTypeError\u001b[39;00m(\u001b[38;5;124m\"\u001b[39m\u001b[38;5;124mfirst argument must be string or compiled pattern\u001b[39m\u001b[38;5;124m\"\u001b[39m)\n\u001b[1;32m--> 304\u001b[0m p \u001b[38;5;241m=\u001b[39m \u001b[43msre_compile\u001b[49m\u001b[38;5;241;43m.\u001b[39;49m\u001b[43mcompile\u001b[49m\u001b[43m(\u001b[49m\u001b[43mpattern\u001b[49m\u001b[43m,\u001b[49m\u001b[43m \u001b[49m\u001b[43mflags\u001b[49m\u001b[43m)\u001b[49m\n\u001b[0;32m    305\u001b[0m \u001b[38;5;28;01mif\u001b[39;00m \u001b[38;5;129;01mnot\u001b[39;00m (flags \u001b[38;5;241m&\u001b[39m DEBUG):\n\u001b[0;32m    306\u001b[0m     \u001b[38;5;28;01mif\u001b[39;00m \u001b[38;5;28mlen\u001b[39m(_cache) \u001b[38;5;241m>\u001b[39m\u001b[38;5;241m=\u001b[39m _MAXCACHE:\n\u001b[0;32m    307\u001b[0m         \u001b[38;5;66;03m# Drop the oldest item\u001b[39;00m\n",
      "File \u001b[1;32m~\\anaconda3\\lib\\sre_compile.py:764\u001b[0m, in \u001b[0;36mcompile\u001b[1;34m(p, flags)\u001b[0m\n\u001b[0;32m    762\u001b[0m \u001b[38;5;28;01mif\u001b[39;00m isstring(p):\n\u001b[0;32m    763\u001b[0m     pattern \u001b[38;5;241m=\u001b[39m p\n\u001b[1;32m--> 764\u001b[0m     p \u001b[38;5;241m=\u001b[39m \u001b[43msre_parse\u001b[49m\u001b[38;5;241;43m.\u001b[39;49m\u001b[43mparse\u001b[49m\u001b[43m(\u001b[49m\u001b[43mp\u001b[49m\u001b[43m,\u001b[49m\u001b[43m \u001b[49m\u001b[43mflags\u001b[49m\u001b[43m)\u001b[49m\n\u001b[0;32m    765\u001b[0m \u001b[38;5;28;01melse\u001b[39;00m:\n\u001b[0;32m    766\u001b[0m     pattern \u001b[38;5;241m=\u001b[39m \u001b[38;5;28;01mNone\u001b[39;00m\n",
      "File \u001b[1;32m~\\anaconda3\\lib\\sre_parse.py:948\u001b[0m, in \u001b[0;36mparse\u001b[1;34m(str, flags, state)\u001b[0m\n\u001b[0;32m    945\u001b[0m state\u001b[38;5;241m.\u001b[39mstr \u001b[38;5;241m=\u001b[39m \u001b[38;5;28mstr\u001b[39m\n\u001b[0;32m    947\u001b[0m \u001b[38;5;28;01mtry\u001b[39;00m:\n\u001b[1;32m--> 948\u001b[0m     p \u001b[38;5;241m=\u001b[39m \u001b[43m_parse_sub\u001b[49m\u001b[43m(\u001b[49m\u001b[43msource\u001b[49m\u001b[43m,\u001b[49m\u001b[43m \u001b[49m\u001b[43mstate\u001b[49m\u001b[43m,\u001b[49m\u001b[43m \u001b[49m\u001b[43mflags\u001b[49m\u001b[43m \u001b[49m\u001b[38;5;241;43m&\u001b[39;49m\u001b[43m \u001b[49m\u001b[43mSRE_FLAG_VERBOSE\u001b[49m\u001b[43m,\u001b[49m\u001b[43m \u001b[49m\u001b[38;5;241;43m0\u001b[39;49m\u001b[43m)\u001b[49m\n\u001b[0;32m    949\u001b[0m \u001b[38;5;28;01mexcept\u001b[39;00m Verbose:\n\u001b[0;32m    950\u001b[0m     \u001b[38;5;66;03m# the VERBOSE flag was switched on inside the pattern.  to be\u001b[39;00m\n\u001b[0;32m    951\u001b[0m     \u001b[38;5;66;03m# on the safe side, we'll parse the whole thing again...\u001b[39;00m\n\u001b[0;32m    952\u001b[0m     state \u001b[38;5;241m=\u001b[39m State()\n",
      "File \u001b[1;32m~\\anaconda3\\lib\\sre_parse.py:443\u001b[0m, in \u001b[0;36m_parse_sub\u001b[1;34m(source, state, verbose, nested)\u001b[0m\n\u001b[0;32m    441\u001b[0m start \u001b[38;5;241m=\u001b[39m source\u001b[38;5;241m.\u001b[39mtell()\n\u001b[0;32m    442\u001b[0m \u001b[38;5;28;01mwhile\u001b[39;00m \u001b[38;5;28;01mTrue\u001b[39;00m:\n\u001b[1;32m--> 443\u001b[0m     itemsappend(\u001b[43m_parse\u001b[49m\u001b[43m(\u001b[49m\u001b[43msource\u001b[49m\u001b[43m,\u001b[49m\u001b[43m \u001b[49m\u001b[43mstate\u001b[49m\u001b[43m,\u001b[49m\u001b[43m \u001b[49m\u001b[43mverbose\u001b[49m\u001b[43m,\u001b[49m\u001b[43m \u001b[49m\u001b[43mnested\u001b[49m\u001b[43m \u001b[49m\u001b[38;5;241;43m+\u001b[39;49m\u001b[43m \u001b[49m\u001b[38;5;241;43m1\u001b[39;49m\u001b[43m,\u001b[49m\n\u001b[0;32m    444\u001b[0m \u001b[43m                       \u001b[49m\u001b[38;5;129;43;01mnot\u001b[39;49;00m\u001b[43m \u001b[49m\u001b[43mnested\u001b[49m\u001b[43m \u001b[49m\u001b[38;5;129;43;01mand\u001b[39;49;00m\u001b[43m \u001b[49m\u001b[38;5;129;43;01mnot\u001b[39;49;00m\u001b[43m \u001b[49m\u001b[43mitems\u001b[49m\u001b[43m)\u001b[49m)\n\u001b[0;32m    445\u001b[0m     \u001b[38;5;28;01mif\u001b[39;00m \u001b[38;5;129;01mnot\u001b[39;00m sourcematch(\u001b[38;5;124m\"\u001b[39m\u001b[38;5;124m|\u001b[39m\u001b[38;5;124m\"\u001b[39m):\n\u001b[0;32m    446\u001b[0m         \u001b[38;5;28;01mbreak\u001b[39;00m\n",
      "File \u001b[1;32m~\\anaconda3\\lib\\sre_parse.py:554\u001b[0m, in \u001b[0;36m_parse\u001b[1;34m(source, state, verbose, nested, first)\u001b[0m\n\u001b[0;32m    552\u001b[0m     \u001b[38;5;28;01mbreak\u001b[39;00m\n\u001b[0;32m    553\u001b[0m \u001b[38;5;28;01melif\u001b[39;00m this[\u001b[38;5;241m0\u001b[39m] \u001b[38;5;241m==\u001b[39m \u001b[38;5;124m\"\u001b[39m\u001b[38;5;130;01m\\\\\u001b[39;00m\u001b[38;5;124m\"\u001b[39m:\n\u001b[1;32m--> 554\u001b[0m     code1 \u001b[38;5;241m=\u001b[39m \u001b[43m_class_escape\u001b[49m\u001b[43m(\u001b[49m\u001b[43msource\u001b[49m\u001b[43m,\u001b[49m\u001b[43m \u001b[49m\u001b[43mthis\u001b[49m\u001b[43m)\u001b[49m\n\u001b[0;32m    555\u001b[0m \u001b[38;5;28;01melse\u001b[39;00m:\n\u001b[0;32m    556\u001b[0m     \u001b[38;5;28;01mif\u001b[39;00m \u001b[38;5;28mset\u001b[39m \u001b[38;5;129;01mand\u001b[39;00m this \u001b[38;5;129;01min\u001b[39;00m \u001b[38;5;124m'\u001b[39m\u001b[38;5;124m-&~|\u001b[39m\u001b[38;5;124m'\u001b[39m \u001b[38;5;129;01mand\u001b[39;00m source\u001b[38;5;241m.\u001b[39mnext \u001b[38;5;241m==\u001b[39m this:\n",
      "File \u001b[1;32m~\\anaconda3\\lib\\sre_parse.py:349\u001b[0m, in \u001b[0;36m_class_escape\u001b[1;34m(source, escape)\u001b[0m\n\u001b[0;32m    347\u001b[0m     \u001b[38;5;28;01mif\u001b[39;00m \u001b[38;5;28mlen\u001b[39m(escape) \u001b[38;5;241m==\u001b[39m \u001b[38;5;241m2\u001b[39m:\n\u001b[0;32m    348\u001b[0m         \u001b[38;5;28;01mif\u001b[39;00m c \u001b[38;5;129;01min\u001b[39;00m ASCIILETTERS:\n\u001b[1;32m--> 349\u001b[0m             \u001b[38;5;28;01mraise\u001b[39;00m source\u001b[38;5;241m.\u001b[39merror(\u001b[38;5;124m'\u001b[39m\u001b[38;5;124mbad escape \u001b[39m\u001b[38;5;132;01m%s\u001b[39;00m\u001b[38;5;124m'\u001b[39m \u001b[38;5;241m%\u001b[39m escape, \u001b[38;5;28mlen\u001b[39m(escape))\n\u001b[0;32m    350\u001b[0m         \u001b[38;5;28;01mreturn\u001b[39;00m LITERAL, \u001b[38;5;28mord\u001b[39m(escape[\u001b[38;5;241m1\u001b[39m])\n\u001b[0;32m    351\u001b[0m \u001b[38;5;28;01mexcept\u001b[39;00m \u001b[38;5;167;01mValueError\u001b[39;00m:\n",
      "\u001b[1;31merror\u001b[0m: bad escape \\z at position 4"
     ]
    }
   ],
   "source": [
    "re.sub(r'[^\\w\\z]', \"#\", str1)"
   ]
  },
  {
   "cell_type": "code",
   "execution_count": 404,
   "id": "439162f3",
   "metadata": {},
   "outputs": [
    {
     "name": "stdout",
     "output_type": "stream",
     "text": [
      "!\n",
      "\"\n",
      "#\n",
      "$\n",
      "%\n",
      "&\n",
      "'\n",
      "(\n",
      ")\n",
      "*\n",
      "+\n",
      ",\n",
      "-\n",
      ".\n",
      "/\n",
      ":\n",
      ";\n",
      "<\n",
      "=\n",
      ">\n",
      "?\n",
      "@\n",
      "[\n",
      "\\\n",
      "]\n",
      "^\n",
      "_\n",
      "`\n",
      "{\n",
      "|\n",
      "}\n",
      "~\n"
     ]
    }
   ],
   "source": [
    "for c in string.punctuation:\n",
    "    print(c)"
   ]
  },
  {
   "cell_type": "code",
   "execution_count": 405,
   "id": "1bf8a64b",
   "metadata": {},
   "outputs": [
    {
     "data": {
      "text/plain": [
       "'/*Jon is @developer & musician!!'"
      ]
     },
     "execution_count": 405,
     "metadata": {},
     "output_type": "execute_result"
    }
   ],
   "source": [
    "str1"
   ]
  },
  {
   "cell_type": "code",
   "execution_count": 409,
   "id": "04430ad9",
   "metadata": {},
   "outputs": [],
   "source": [
    "for i in string.punctuation:\n",
    "    str1 = str1.replace(i,'#')"
   ]
  },
  {
   "cell_type": "code",
   "execution_count": 410,
   "id": "5a2ea18c",
   "metadata": {},
   "outputs": [
    {
     "data": {
      "text/plain": [
       "'##Jon is #developer # musician##'"
      ]
     },
     "execution_count": 410,
     "metadata": {},
     "output_type": "execute_result"
    }
   ],
   "source": [
    "str1"
   ]
  },
  {
   "cell_type": "code",
   "execution_count": null,
   "id": "b8bc6879",
   "metadata": {},
   "outputs": [],
   "source": []
  }
 ],
 "metadata": {
  "kernelspec": {
   "display_name": "Python 3 (ipykernel)",
   "language": "python",
   "name": "python3"
  },
  "language_info": {
   "codemirror_mode": {
    "name": "ipython",
    "version": 3
   },
   "file_extension": ".py",
   "mimetype": "text/x-python",
   "name": "python",
   "nbconvert_exporter": "python",
   "pygments_lexer": "ipython3",
   "version": "3.8.8"
  }
 },
 "nbformat": 4,
 "nbformat_minor": 5
}
