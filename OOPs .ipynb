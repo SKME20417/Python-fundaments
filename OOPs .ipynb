{
 "cells": [
  {
   "cell_type": "code",
   "execution_count": 172,
   "id": "ac421171",
   "metadata": {},
   "outputs": [],
   "source": [
    "class Human:\n",
    "    database = []\n",
    "    population = 0\n",
    "    seq_id = 101\n",
    "    \n",
    "    \n",
    "    def __init__(self,name,age, is_alive = True):\n",
    "        print('creating a new object')\n",
    "        self.name = name\n",
    "        self.age = age\n",
    "        self.is_alive = is_alive\n",
    "        self.id = Human.seq_id\n",
    "        Human.seq_id +=1\n",
    "        Human.population +=1\n",
    "        Human.database.append(self)\n",
    "        \n",
    "    def introduce(self):\n",
    "        print('Hi my name is {} and i am {} year old..'.format(self.name, self.age))\n",
    "        \n",
    "        \n",
    "    def die(self):\n",
    "        if self.is_alive:\n",
    "            print(self.name, \"is dying...\")\n",
    "            self.is_alive = False\n",
    "            Human.population -=1\n",
    "        else:\n",
    "            print(self.name,\"is already dead\")\n",
    "    \n",
    "    def __repr__(self):\n",
    "        return \"[{},{},{},{}]\".format(self.name,self.age,self.id, self.is_alive)\n",
    "        "
   ]
  },
  {
   "cell_type": "code",
   "execution_count": 173,
   "id": "e4f50f1c",
   "metadata": {},
   "outputs": [
    {
     "name": "stdout",
     "output_type": "stream",
     "text": [
      "creating a new object\n",
      "creating a new object\n",
      "creating a new object\n"
     ]
    }
   ],
   "source": [
    "h1 = Human('mohit', 25)\n",
    "h2 = Human('sachin', 28)\n",
    "h3 = Human('rohit', 30)"
   ]
  },
  {
   "cell_type": "code",
   "execution_count": 174,
   "id": "e256fd90",
   "metadata": {},
   "outputs": [
    {
     "data": {
      "text/plain": [
       "3"
      ]
     },
     "execution_count": 174,
     "metadata": {},
     "output_type": "execute_result"
    }
   ],
   "source": [
    "Human.population"
   ]
  },
  {
   "cell_type": "code",
   "execution_count": 175,
   "id": "60b14a79",
   "metadata": {},
   "outputs": [
    {
     "data": {
      "text/plain": [
       "[[mohit,25,101,True], [sachin,28,102,True], [rohit,30,103,True]]"
      ]
     },
     "execution_count": 175,
     "metadata": {},
     "output_type": "execute_result"
    }
   ],
   "source": [
    "Human.database"
   ]
  },
  {
   "cell_type": "code",
   "execution_count": 176,
   "id": "4e02acef",
   "metadata": {},
   "outputs": [
    {
     "data": {
      "text/plain": [
       "3"
      ]
     },
     "execution_count": 176,
     "metadata": {},
     "output_type": "execute_result"
    }
   ],
   "source": [
    "Human.population"
   ]
  },
  {
   "cell_type": "code",
   "execution_count": 177,
   "id": "bb7932f1",
   "metadata": {},
   "outputs": [
    {
     "data": {
      "text/plain": [
       "[[mohit,25,101,True], [sachin,28,102,True], [rohit,30,103,True]]"
      ]
     },
     "execution_count": 177,
     "metadata": {},
     "output_type": "execute_result"
    }
   ],
   "source": [
    "Human.database"
   ]
  },
  {
   "cell_type": "code",
   "execution_count": 178,
   "id": "c25bd3b5",
   "metadata": {},
   "outputs": [],
   "source": [
    "class Hitman(Human):\n",
    "    def __init__(self,name,age):\n",
    "        super().__init__(name,age)\n",
    "        \n",
    "        self.kill = 0\n",
    "        self.kill_list = []\n",
    "        \n",
    "    def introduce(self):\n",
    "        return ('Hi my name is {} and i have killed {}'.format(self.name, person))"
   ]
  },
  {
   "cell_type": "code",
   "execution_count": 179,
   "id": "920bce3b",
   "metadata": {},
   "outputs": [
    {
     "name": "stdout",
     "output_type": "stream",
     "text": [
      "creating a new object\n"
     ]
    }
   ],
   "source": [
    "hit = Hitman('james', 30)"
   ]
  },
  {
   "cell_type": "code",
   "execution_count": 180,
   "id": "f49dfbe0",
   "metadata": {},
   "outputs": [
    {
     "name": "stdout",
     "output_type": "stream",
     "text": [
      "Hi my name is james and i am 30 year old..\n"
     ]
    }
   ],
   "source": [
    "hit.introduce()"
   ]
  },
  {
   "cell_type": "code",
   "execution_count": 181,
   "id": "cb9473d2",
   "metadata": {},
   "outputs": [
    {
     "data": {
      "text/plain": [
       "4"
      ]
     },
     "execution_count": 181,
     "metadata": {},
     "output_type": "execute_result"
    }
   ],
   "source": [
    "Human.population"
   ]
  },
  {
   "cell_type": "code",
   "execution_count": 182,
   "id": "40ef1188",
   "metadata": {},
   "outputs": [
    {
     "data": {
      "text/plain": [
       "[[mohit,25,101,True],\n",
       " [sachin,28,102,True],\n",
       " [rohit,30,103,True],\n",
       " [james,30,104,True]]"
      ]
     },
     "execution_count": 182,
     "metadata": {},
     "output_type": "execute_result"
    }
   ],
   "source": [
    "Human.database"
   ]
  },
  {
   "cell_type": "code",
   "execution_count": 183,
   "id": "3086862f",
   "metadata": {},
   "outputs": [
    {
     "data": {
      "text/plain": [
       "[james,30,104,True]"
      ]
     },
     "execution_count": 183,
     "metadata": {},
     "output_type": "execute_result"
    }
   ],
   "source": [
    "hit"
   ]
  },
  {
   "cell_type": "code",
   "execution_count": 184,
   "id": "6fd4763f",
   "metadata": {},
   "outputs": [
    {
     "data": {
      "text/plain": [
       "[mohit,25,101,True]"
      ]
     },
     "execution_count": 184,
     "metadata": {},
     "output_type": "execute_result"
    }
   ],
   "source": [
    "h1"
   ]
  },
  {
   "cell_type": "code",
   "execution_count": 186,
   "id": "a99ea7e6",
   "metadata": {},
   "outputs": [
    {
     "data": {
      "text/plain": [
       "0"
      ]
     },
     "execution_count": 186,
     "metadata": {},
     "output_type": "execute_result"
    }
   ],
   "source": [
    "hit.kill"
   ]
  },
  {
   "cell_type": "code",
   "execution_count": 188,
   "id": "06276bf6",
   "metadata": {},
   "outputs": [
    {
     "data": {
      "text/plain": [
       "True"
      ]
     },
     "execution_count": 188,
     "metadata": {},
     "output_type": "execute_result"
    }
   ],
   "source": [
    "hit.is_alive"
   ]
  },
  {
   "cell_type": "code",
   "execution_count": 189,
   "id": "9c5c6320",
   "metadata": {},
   "outputs": [
    {
     "data": {
      "text/plain": [
       "0"
      ]
     },
     "execution_count": 189,
     "metadata": {},
     "output_type": "execute_result"
    }
   ],
   "source": [
    "hit.kill"
   ]
  },
  {
   "cell_type": "code",
   "execution_count": null,
   "id": "e0c3e1be",
   "metadata": {},
   "outputs": [],
   "source": [
    "h3."
   ]
  }
 ],
 "metadata": {
  "kernelspec": {
   "display_name": "Python 3",
   "language": "python",
   "name": "python3"
  },
  "language_info": {
   "codemirror_mode": {
    "name": "ipython",
    "version": 3
   },
   "file_extension": ".py",
   "mimetype": "text/x-python",
   "name": "python",
   "nbconvert_exporter": "python",
   "pygments_lexer": "ipython3",
   "version": "3.8.8"
  }
 },
 "nbformat": 4,
 "nbformat_minor": 5
}
