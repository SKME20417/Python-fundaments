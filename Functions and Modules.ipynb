{
 "cells": [
  {
   "cell_type": "code",
   "execution_count": 1,
   "id": "3b96dcf1",
   "metadata": {},
   "outputs": [],
   "source": [
    "def greetings(name):\n",
    "    \n",
    "    \"\"\"This function will greet you\"\"\"\n",
    "    \n",
    "    print(\"Hello\", name)"
   ]
  },
  {
   "cell_type": "code",
   "execution_count": 2,
   "id": "b334fb3e",
   "metadata": {},
   "outputs": [
    {
     "name": "stdout",
     "output_type": "stream",
     "text": [
      "Hello sanjay\n"
     ]
    }
   ],
   "source": [
    "greetings(\"sanjay\")"
   ]
  },
  {
   "cell_type": "code",
   "execution_count": 3,
   "id": "e429db74",
   "metadata": {},
   "outputs": [
    {
     "name": "stdout",
     "output_type": "stream",
     "text": [
      "<function greetings at 0x000002486543B3A0>\n"
     ]
    }
   ],
   "source": [
    "print(greetings)"
   ]
  },
  {
   "cell_type": "code",
   "execution_count": 4,
   "id": "4a777b92",
   "metadata": {},
   "outputs": [
    {
     "data": {
      "text/plain": [
       "function"
      ]
     },
     "execution_count": 4,
     "metadata": {},
     "output_type": "execute_result"
    }
   ],
   "source": [
    "type(greetings)"
   ]
  },
  {
   "cell_type": "code",
   "execution_count": 5,
   "id": "4c5ab444",
   "metadata": {},
   "outputs": [
    {
     "name": "stdout",
     "output_type": "stream",
     "text": [
      "Hello rohit\n"
     ]
    }
   ],
   "source": [
    "greetings(\"rohit\")"
   ]
  },
  {
   "cell_type": "code",
   "execution_count": 6,
   "id": "6739f774",
   "metadata": {},
   "outputs": [
    {
     "data": {
      "text/plain": [
       "'This function will greet you'"
      ]
     },
     "execution_count": 6,
     "metadata": {},
     "output_type": "execute_result"
    }
   ],
   "source": [
    "greetings.__doc__"
   ]
  },
  {
   "cell_type": "code",
   "execution_count": 7,
   "id": "624a8d8a",
   "metadata": {},
   "outputs": [],
   "source": [
    "def greetings(name):\n",
    "    \"\"\"This function will greet you\"\"\"\n",
    "    print(\"Good Morning\", name)"
   ]
  },
  {
   "cell_type": "code",
   "execution_count": 8,
   "id": "ff0ec757",
   "metadata": {},
   "outputs": [
    {
     "name": "stdout",
     "output_type": "stream",
     "text": [
      "Good Morning suman\n"
     ]
    }
   ],
   "source": [
    "greetings(\"suman\")"
   ]
  },
  {
   "cell_type": "code",
   "execution_count": 9,
   "id": "6e07b0e9",
   "metadata": {},
   "outputs": [
    {
     "name": "stdout",
     "output_type": "stream",
     "text": [
      "Good Morning kholi\n"
     ]
    }
   ],
   "source": [
    "greetings(\"kholi\")"
   ]
  },
  {
   "cell_type": "code",
   "execution_count": 10,
   "id": "8fc5aa5c",
   "metadata": {},
   "outputs": [
    {
     "data": {
      "text/plain": [
       "function"
      ]
     },
     "execution_count": 10,
     "metadata": {},
     "output_type": "execute_result"
    }
   ],
   "source": [
    "type(greetings)"
   ]
  },
  {
   "cell_type": "code",
   "execution_count": 11,
   "id": "87a022d4",
   "metadata": {},
   "outputs": [
    {
     "data": {
      "text/plain": [
       "'This function will greet you'"
      ]
     },
     "execution_count": 11,
     "metadata": {},
     "output_type": "execute_result"
    }
   ],
   "source": [
    "greetings.__doc__"
   ]
  },
  {
   "cell_type": "code",
   "execution_count": 12,
   "id": "75eba814",
   "metadata": {},
   "outputs": [
    {
     "name": "stdout",
     "output_type": "stream",
     "text": [
      "<function greetings at 0x000002486543B040>\n"
     ]
    }
   ],
   "source": [
    "print(greetings)"
   ]
  },
  {
   "cell_type": "code",
   "execution_count": 13,
   "id": "27d7c5f8",
   "metadata": {},
   "outputs": [],
   "source": [
    "def add(a,b):\n",
    "    \"\"\"This will add 2 numbers \"\"\"\n",
    "    c = a+b\n",
    "    return c"
   ]
  },
  {
   "cell_type": "code",
   "execution_count": 14,
   "id": "8679d0bb",
   "metadata": {},
   "outputs": [],
   "source": [
    "s = add(5,3)"
   ]
  },
  {
   "cell_type": "code",
   "execution_count": 15,
   "id": "5f79cacf",
   "metadata": {},
   "outputs": [
    {
     "name": "stdout",
     "output_type": "stream",
     "text": [
      "8\n"
     ]
    }
   ],
   "source": [
    "print(s)"
   ]
  },
  {
   "cell_type": "code",
   "execution_count": 16,
   "id": "c69aa452",
   "metadata": {},
   "outputs": [
    {
     "data": {
      "text/plain": [
       "9"
      ]
     },
     "execution_count": 16,
     "metadata": {},
     "output_type": "execute_result"
    }
   ],
   "source": [
    "add(5,4)"
   ]
  },
  {
   "cell_type": "code",
   "execution_count": 17,
   "id": "5de9f61e",
   "metadata": {},
   "outputs": [],
   "source": [
    "def product(lst):\n",
    "    \"\"\"\n",
    "    parametrs : it is a list\n",
    "    \n",
    "    return : product of all elements in a list\n",
    "    \n",
    "    \"\"\"\n",
    "    p = 1\n",
    "    \n",
    "    for i in lst:\n",
    "        p*=i\n",
    "        \n",
    "    return p"
   ]
  },
  {
   "cell_type": "code",
   "execution_count": 18,
   "id": "6a0553d1",
   "metadata": {},
   "outputs": [],
   "source": [
    "res = [5,3,4,8]"
   ]
  },
  {
   "cell_type": "code",
   "execution_count": 19,
   "id": "9efb7722",
   "metadata": {},
   "outputs": [],
   "source": [
    "d = product(res)"
   ]
  },
  {
   "cell_type": "code",
   "execution_count": 20,
   "id": "90aba57e",
   "metadata": {},
   "outputs": [
    {
     "name": "stdout",
     "output_type": "stream",
     "text": [
      "480\n"
     ]
    }
   ],
   "source": [
    "print(d)"
   ]
  },
  {
   "cell_type": "code",
   "execution_count": 21,
   "id": "e2b52cdf",
   "metadata": {},
   "outputs": [],
   "source": [
    "f = [8,9,2,5,1]"
   ]
  },
  {
   "cell_type": "code",
   "execution_count": 22,
   "id": "e1045f7e",
   "metadata": {},
   "outputs": [
    {
     "data": {
      "text/plain": [
       "720"
      ]
     },
     "execution_count": 22,
     "metadata": {},
     "output_type": "execute_result"
    }
   ],
   "source": [
    "product(f)"
   ]
  },
  {
   "cell_type": "code",
   "execution_count": 23,
   "id": "c104f9ee",
   "metadata": {},
   "outputs": [],
   "source": [
    "def calculator(a,b):\n",
    "    \"\"\"This will calculate 5 basic arithmetic operations \"\"\"\n",
    "    res1 = a+b\n",
    "    res2 = a-b\n",
    "    res3 = a*b\n",
    "    res4 = a/b\n",
    "    res5 = a**b\n",
    "    \n",
    "    return [res1,res2,res3,res4,res5]"
   ]
  },
  {
   "cell_type": "code",
   "execution_count": 24,
   "id": "c0fc0856",
   "metadata": {},
   "outputs": [
    {
     "data": {
      "text/plain": [
       "[9, 3, 18, 2.0, 216]"
      ]
     },
     "execution_count": 24,
     "metadata": {},
     "output_type": "execute_result"
    }
   ],
   "source": [
    "calculator(6,3)"
   ]
  },
  {
   "cell_type": "code",
   "execution_count": 25,
   "id": "1aee7ffa",
   "metadata": {},
   "outputs": [],
   "source": [
    "def calculator(a,b):\n",
    "    \"\"\"This will calculate 5 basic arithmetic operations \"\"\"\n",
    "    return a+b,a-b,a*b,a/b,a**b"
   ]
  },
  {
   "cell_type": "code",
   "execution_count": 26,
   "id": "11167cdf",
   "metadata": {},
   "outputs": [],
   "source": [
    "result = calculator(6,3)"
   ]
  },
  {
   "cell_type": "code",
   "execution_count": 27,
   "id": "166a933e",
   "metadata": {},
   "outputs": [
    {
     "name": "stdout",
     "output_type": "stream",
     "text": [
      "(9, 3, 18, 2.0, 216)\n"
     ]
    }
   ],
   "source": [
    "print(result)"
   ]
  },
  {
   "cell_type": "code",
   "execution_count": 28,
   "id": "ca031d91",
   "metadata": {},
   "outputs": [],
   "source": [
    "age = 24"
   ]
  },
  {
   "cell_type": "code",
   "execution_count": 29,
   "id": "f29dbdbe",
   "metadata": {},
   "outputs": [
    {
     "name": "stdout",
     "output_type": "stream",
     "text": [
      "24\n"
     ]
    }
   ],
   "source": [
    "print(age)"
   ]
  },
  {
   "cell_type": "code",
   "execution_count": 30,
   "id": "6a811777",
   "metadata": {},
   "outputs": [
    {
     "name": "stdout",
     "output_type": "stream",
     "text": [
      "{'__name__': '__main__', '__doc__': 'Automatically created module for IPython interactive environment', '__package__': None, '__loader__': None, '__spec__': None, '__builtin__': <module 'builtins' (built-in)>, '__builtins__': <module 'builtins' (built-in)>, '_ih': ['', 'def greetings(name):\\n    \\n    \"\"\"This function will greet you\"\"\"\\n    \\n    print(\"Hello\", name)', 'greetings(\"sanjay\")', 'print(greetings)', 'type(greetings)', 'greetings(\"rohit\")', 'greetings.__doc__', 'def greetings(name):\\n    \"\"\"This function will greet you\"\"\"\\n    print(\"Good Morning\", name)', 'greetings(\"suman\")', 'greetings(\"kholi\")', 'type(greetings)', 'greetings.__doc__', 'print(greetings)', 'def add(a,b):\\n    \"\"\"This will add 2 numbers \"\"\"\\n    c = a+b\\n    return c', 's = add(5,3)', 'print(s)', 'add(5,4)', 'def product(lst):\\n    \"\"\"\\n    parametrs : it is a list\\n    \\n    return : product of all elements in a list\\n    \\n    \"\"\"\\n    p = 1\\n    \\n    for i in lst:\\n        p*=i\\n        \\n    return p', 'res = [5,3,4,8]', 'd = product(res)', 'print(d)', 'f = [8,9,2,5,1]', 'product(f)', 'def calculator(a,b):\\n    \"\"\"This will calculate 5 basic arithmetic operations \"\"\"\\n    res1 = a+b\\n    res2 = a-b\\n    res3 = a*b\\n    res4 = a/b\\n    res5 = a**b\\n    \\n    return [res1,res2,res3,res4,res5]', 'calculator(6,3)', 'def calculator(a,b):\\n    \"\"\"This will calculate 5 basic arithmetic operations \"\"\"\\n    return a+b,a-b,a*b,a/b,a**b', 'result = calculator(6,3)', 'print(result)', 'age = 24', 'print(age)', 'print(globals())'], '_oh': {4: <class 'function'>, 6: 'This function will greet you', 10: <class 'function'>, 11: 'This function will greet you', 16: 9, 22: 720, 24: [9, 3, 18, 2.0, 216]}, '_dh': ['C:\\\\Users\\\\skme2\\\\OneDrive\\\\Desktop\\\\python'], 'In': ['', 'def greetings(name):\\n    \\n    \"\"\"This function will greet you\"\"\"\\n    \\n    print(\"Hello\", name)', 'greetings(\"sanjay\")', 'print(greetings)', 'type(greetings)', 'greetings(\"rohit\")', 'greetings.__doc__', 'def greetings(name):\\n    \"\"\"This function will greet you\"\"\"\\n    print(\"Good Morning\", name)', 'greetings(\"suman\")', 'greetings(\"kholi\")', 'type(greetings)', 'greetings.__doc__', 'print(greetings)', 'def add(a,b):\\n    \"\"\"This will add 2 numbers \"\"\"\\n    c = a+b\\n    return c', 's = add(5,3)', 'print(s)', 'add(5,4)', 'def product(lst):\\n    \"\"\"\\n    parametrs : it is a list\\n    \\n    return : product of all elements in a list\\n    \\n    \"\"\"\\n    p = 1\\n    \\n    for i in lst:\\n        p*=i\\n        \\n    return p', 'res = [5,3,4,8]', 'd = product(res)', 'print(d)', 'f = [8,9,2,5,1]', 'product(f)', 'def calculator(a,b):\\n    \"\"\"This will calculate 5 basic arithmetic operations \"\"\"\\n    res1 = a+b\\n    res2 = a-b\\n    res3 = a*b\\n    res4 = a/b\\n    res5 = a**b\\n    \\n    return [res1,res2,res3,res4,res5]', 'calculator(6,3)', 'def calculator(a,b):\\n    \"\"\"This will calculate 5 basic arithmetic operations \"\"\"\\n    return a+b,a-b,a*b,a/b,a**b', 'result = calculator(6,3)', 'print(result)', 'age = 24', 'print(age)', 'print(globals())'], 'Out': {4: <class 'function'>, 6: 'This function will greet you', 10: <class 'function'>, 11: 'This function will greet you', 16: 9, 22: 720, 24: [9, 3, 18, 2.0, 216]}, 'get_ipython': <bound method InteractiveShell.get_ipython of <ipykernel.zmqshell.ZMQInteractiveShell object at 0x00000248652F2F10>>, 'exit': <IPython.core.autocall.ZMQExitAutocall object at 0x000002486539F7F0>, 'quit': <IPython.core.autocall.ZMQExitAutocall object at 0x000002486539F7F0>, '_': [9, 3, 18, 2.0, 216], '__': 720, '___': 9, '_i': 'print(age)', '_ii': 'age = 24', '_iii': 'print(result)', '_i1': 'def greetings(name):\\n    \\n    \"\"\"This function will greet you\"\"\"\\n    \\n    print(\"Hello\", name)', 'greetings': <function greetings at 0x000002486543B040>, '_i2': 'greetings(\"sanjay\")', '_i3': 'print(greetings)', '_i4': 'type(greetings)', '_4': <class 'function'>, '_i5': 'greetings(\"rohit\")', '_i6': 'greetings.__doc__', '_6': 'This function will greet you', '_i7': 'def greetings(name):\\n    \"\"\"This function will greet you\"\"\"\\n    print(\"Good Morning\", name)', '_i8': 'greetings(\"suman\")', '_i9': 'greetings(\"kholi\")', '_i10': 'type(greetings)', '_10': <class 'function'>, '_i11': 'greetings.__doc__', '_11': 'This function will greet you', '_i12': 'print(greetings)', '_i13': 'def add(a,b):\\n    \"\"\"This will add 2 numbers \"\"\"\\n    c = a+b\\n    return c', 'add': <function add at 0x000002486543B160>, '_i14': 's = add(5,3)', 's': 8, '_i15': 'print(s)', '_i16': 'add(5,4)', '_16': 9, '_i17': 'def product(lst):\\n    \"\"\"\\n    parametrs : it is a list\\n    \\n    return : product of all elements in a list\\n    \\n    \"\"\"\\n    p = 1\\n    \\n    for i in lst:\\n        p*=i\\n        \\n    return p', 'product': <function product at 0x000002486543B4C0>, '_i18': 'res = [5,3,4,8]', 'res': [5, 3, 4, 8], '_i19': 'd = product(res)', 'd': 480, '_i20': 'print(d)', '_i21': 'f = [8,9,2,5,1]', 'f': [8, 9, 2, 5, 1], '_i22': 'product(f)', '_22': 720, '_i23': 'def calculator(a,b):\\n    \"\"\"This will calculate 5 basic arithmetic operations \"\"\"\\n    res1 = a+b\\n    res2 = a-b\\n    res3 = a*b\\n    res4 = a/b\\n    res5 = a**b\\n    \\n    return [res1,res2,res3,res4,res5]', 'calculator': <function calculator at 0x000002486543B670>, '_i24': 'calculator(6,3)', '_24': [9, 3, 18, 2.0, 216], '_i25': 'def calculator(a,b):\\n    \"\"\"This will calculate 5 basic arithmetic operations \"\"\"\\n    return a+b,a-b,a*b,a/b,a**b', '_i26': 'result = calculator(6,3)', 'result': (9, 3, 18, 2.0, 216), '_i27': 'print(result)', '_i28': 'age = 24', 'age': 24, '_i29': 'print(age)', '_i30': 'print(globals())'}\n"
     ]
    }
   ],
   "source": [
    "print(globals())"
   ]
  },
  {
   "cell_type": "code",
   "execution_count": 31,
   "id": "5f9c93d7",
   "metadata": {},
   "outputs": [],
   "source": [
    "globals()[\"age\"]= 27"
   ]
  },
  {
   "cell_type": "code",
   "execution_count": 32,
   "id": "b0d10002",
   "metadata": {},
   "outputs": [
    {
     "data": {
      "text/plain": [
       "27"
      ]
     },
     "execution_count": 32,
     "metadata": {},
     "output_type": "execute_result"
    }
   ],
   "source": [
    "age"
   ]
  },
  {
   "cell_type": "code",
   "execution_count": 33,
   "id": "3d2dce22",
   "metadata": {},
   "outputs": [],
   "source": [
    "age = 29"
   ]
  },
  {
   "cell_type": "code",
   "execution_count": 34,
   "id": "627e7ece",
   "metadata": {},
   "outputs": [
    {
     "data": {
      "text/plain": [
       "29"
      ]
     },
     "execution_count": 34,
     "metadata": {},
     "output_type": "execute_result"
    }
   ],
   "source": [
    "age"
   ]
  },
  {
   "cell_type": "code",
   "execution_count": 35,
   "id": "3deb4373",
   "metadata": {},
   "outputs": [],
   "source": [
    "globals()[\"age\"]= 30"
   ]
  },
  {
   "cell_type": "code",
   "execution_count": 36,
   "id": "bc32aa4d",
   "metadata": {},
   "outputs": [
    {
     "data": {
      "text/plain": [
       "30"
      ]
     },
     "execution_count": 36,
     "metadata": {},
     "output_type": "execute_result"
    }
   ],
   "source": [
    "age"
   ]
  },
  {
   "cell_type": "code",
   "execution_count": 37,
   "id": "61ffac2f",
   "metadata": {},
   "outputs": [
    {
     "name": "stdout",
     "output_type": "stream",
     "text": [
      "100\n",
      "66\n",
      "100\n"
     ]
    },
    {
     "ename": "NameError",
     "evalue": "name 'local_var' is not defined",
     "output_type": "error",
     "traceback": [
      "\u001b[1;31m---------------------------------------------------------------------------\u001b[0m",
      "\u001b[1;31mNameError\u001b[0m                                 Traceback (most recent call last)",
      "\u001b[1;32m<ipython-input-37-340b6b6f304d>\u001b[0m in \u001b[0;36m<module>\u001b[1;34m\u001b[0m\n\u001b[0;32m      9\u001b[0m \u001b[0mtest_func\u001b[0m\u001b[1;33m(\u001b[0m\u001b[1;33m)\u001b[0m\u001b[1;33m\u001b[0m\u001b[1;33m\u001b[0m\u001b[0m\n\u001b[0;32m     10\u001b[0m \u001b[0mprint\u001b[0m\u001b[1;33m(\u001b[0m\u001b[0mglobal_var\u001b[0m\u001b[1;33m)\u001b[0m\u001b[1;33m\u001b[0m\u001b[1;33m\u001b[0m\u001b[0m\n\u001b[1;32m---> 11\u001b[1;33m \u001b[0mprint\u001b[0m\u001b[1;33m(\u001b[0m\u001b[0mlocal_var\u001b[0m\u001b[1;33m)\u001b[0m\u001b[1;33m\u001b[0m\u001b[1;33m\u001b[0m\u001b[0m\n\u001b[0m",
      "\u001b[1;31mNameError\u001b[0m: name 'local_var' is not defined"
     ]
    }
   ],
   "source": [
    "global_var = 100\n",
    "\n",
    "def test_func():\n",
    "    local_var = 66\n",
    "    \n",
    "    print(global_var)\n",
    "    print(local_var)\n",
    "    \n",
    "test_func()\n",
    "print(global_var)\n",
    "print(local_var)"
   ]
  },
  {
   "cell_type": "code",
   "execution_count": null,
   "id": "5bb6251a",
   "metadata": {},
   "outputs": [],
   "source": [
    "x = 45\n",
    "\n",
    "def tes_t():\n",
    "    global x\n",
    "    x= 22\n",
    "    print(x)\n",
    "tes_t()\n",
    "print(x)"
   ]
  },
  {
   "cell_type": "code",
   "execution_count": 38,
   "id": "edcf208e",
   "metadata": {},
   "outputs": [
    {
     "data": {
      "text/plain": [
       "<function __main__.<lambda>(a, b)>"
      ]
     },
     "execution_count": 38,
     "metadata": {},
     "output_type": "execute_result"
    }
   ],
   "source": [
    "(lambda a,b : a+b)"
   ]
  },
  {
   "cell_type": "code",
   "execution_count": 39,
   "id": "6587e9d3",
   "metadata": {},
   "outputs": [
    {
     "data": {
      "text/plain": [
       "0"
      ]
     },
     "execution_count": 39,
     "metadata": {},
     "output_type": "execute_result"
    }
   ],
   "source": [
    "(lambda x,y : x+y if x>y else 0)(5,40)"
   ]
  },
  {
   "cell_type": "code",
   "execution_count": 40,
   "id": "2bf201ca",
   "metadata": {},
   "outputs": [
    {
     "data": {
      "text/plain": [
       "15625"
      ]
     },
     "execution_count": 40,
     "metadata": {},
     "output_type": "execute_result"
    }
   ],
   "source": [
    "(lambda s,t : s*t if s>t else s**t)(5,6)"
   ]
  },
  {
   "cell_type": "code",
   "execution_count": 41,
   "id": "5e1b9573",
   "metadata": {},
   "outputs": [],
   "source": [
    "names = [(\"machin\", 5),('shishker', 8),('audh', 2)]"
   ]
  },
  {
   "cell_type": "code",
   "execution_count": 42,
   "id": "2ea52778",
   "metadata": {},
   "outputs": [
    {
     "data": {
      "text/plain": [
       "[('audh', 2), ('machin', 5), ('shishker', 8)]"
      ]
     },
     "execution_count": 42,
     "metadata": {},
     "output_type": "execute_result"
    }
   ],
   "source": [
    "sorted(names)"
   ]
  },
  {
   "cell_type": "code",
   "execution_count": 43,
   "id": "4be960dc",
   "metadata": {},
   "outputs": [
    {
     "data": {
      "text/plain": [
       "[('shishker', 8), ('machin', 5), ('audh', 2)]"
      ]
     },
     "execution_count": 43,
     "metadata": {},
     "output_type": "execute_result"
    }
   ],
   "source": [
    "sorted(names, key = lambda x: x[1], reverse= True)"
   ]
  },
  {
   "cell_type": "code",
   "execution_count": 44,
   "id": "69bb9734",
   "metadata": {},
   "outputs": [
    {
     "data": {
      "text/plain": [
       "[('audh', 2), ('machin', 5), ('shishker', 8)]"
      ]
     },
     "execution_count": 44,
     "metadata": {},
     "output_type": "execute_result"
    }
   ],
   "source": [
    "sorted(names, key = lambda x: x[1])"
   ]
  },
  {
   "cell_type": "code",
   "execution_count": 45,
   "id": "ff2be8eb",
   "metadata": {},
   "outputs": [],
   "source": [
    "def Lcm(a,b):\n",
    "    \"\"\"It will give Lcm of 2 numbers \"\"\"\n",
    "    max_num = a if a>b else b\n",
    "    \n",
    "    while True:\n",
    "        if (max_num%a==0) and (max_num%b==0):\n",
    "            return max_num\n",
    "        else:\n",
    "            max_num+=1\n",
    "    \n",
    "        "
   ]
  },
  {
   "cell_type": "code",
   "execution_count": 46,
   "id": "4d4caf0a",
   "metadata": {},
   "outputs": [
    {
     "data": {
      "text/plain": [
       "15"
      ]
     },
     "execution_count": 46,
     "metadata": {},
     "output_type": "execute_result"
    }
   ],
   "source": [
    "Lcm(3,5)"
   ]
  },
  {
   "cell_type": "code",
   "execution_count": 47,
   "id": "6bfc3d92",
   "metadata": {},
   "outputs": [
    {
     "data": {
      "text/plain": [
       "36"
      ]
     },
     "execution_count": 47,
     "metadata": {},
     "output_type": "execute_result"
    }
   ],
   "source": [
    "Lcm(4,18)"
   ]
  },
  {
   "cell_type": "code",
   "execution_count": 48,
   "id": "5bda7de8",
   "metadata": {},
   "outputs": [
    {
     "data": {
      "text/plain": [
       "16"
      ]
     },
     "execution_count": 48,
     "metadata": {},
     "output_type": "execute_result"
    }
   ],
   "source": [
    "Lcm(4,16)"
   ]
  },
  {
   "cell_type": "code",
   "execution_count": 49,
   "id": "3eae87dd",
   "metadata": {},
   "outputs": [
    {
     "data": {
      "text/plain": [
       "36"
      ]
     },
     "execution_count": 49,
     "metadata": {},
     "output_type": "execute_result"
    }
   ],
   "source": [
    "Lcm(9,12)"
   ]
  },
  {
   "cell_type": "code",
   "execution_count": 58,
   "id": "ffb701a4",
   "metadata": {},
   "outputs": [],
   "source": [
    "def greeting(name):\n",
    "    \"\"\"\n",
    "    This function will greet you \n",
    "    \"\"\"\n",
    "    print(\"Good morning\", name)\n",
    "    "
   ]
  },
  {
   "cell_type": "code",
   "execution_count": 51,
   "id": "0a2e5e24",
   "metadata": {},
   "outputs": [
    {
     "name": "stdout",
     "output_type": "stream",
     "text": [
      "Good morning sanjay kumar\n"
     ]
    }
   ],
   "source": [
    "greeting(\"sanjay kumar\")"
   ]
  },
  {
   "cell_type": "code",
   "execution_count": 53,
   "id": "dab69466",
   "metadata": {},
   "outputs": [
    {
     "name": "stdout",
     "output_type": "stream",
     "text": [
      "<function greeting at 0x00000248663AD1F0>\n"
     ]
    }
   ],
   "source": [
    "print(greeting)"
   ]
  },
  {
   "cell_type": "code",
   "execution_count": 54,
   "id": "47df1972",
   "metadata": {},
   "outputs": [
    {
     "data": {
      "text/plain": [
       "function"
      ]
     },
     "execution_count": 54,
     "metadata": {},
     "output_type": "execute_result"
    }
   ],
   "source": [
    "type(greeting)"
   ]
  },
  {
   "cell_type": "code",
   "execution_count": 55,
   "id": "e0783ec3",
   "metadata": {},
   "outputs": [
    {
     "name": "stdout",
     "output_type": "stream",
     "text": [
      "Good morning sachin kumar\n"
     ]
    }
   ],
   "source": [
    "greeting(\"sachin kumar\")"
   ]
  },
  {
   "cell_type": "code",
   "execution_count": 57,
   "id": "5ca4fd64",
   "metadata": {},
   "outputs": [
    {
     "name": "stdout",
     "output_type": "stream",
     "text": [
      "\n",
      "    This function will greet you \n",
      "    \n"
     ]
    }
   ],
   "source": [
    "print(greeting.__doc__)"
   ]
  },
  {
   "cell_type": "code",
   "execution_count": 59,
   "id": "85506027",
   "metadata": {},
   "outputs": [],
   "source": [
    "def add(a,b):\n",
    "    \"\"\"This function will add two numbers\"\"\"\n",
    "    c= a+b\n",
    "    return c"
   ]
  },
  {
   "cell_type": "code",
   "execution_count": 60,
   "id": "201e4d89",
   "metadata": {},
   "outputs": [
    {
     "data": {
      "text/plain": [
       "11"
      ]
     },
     "execution_count": 60,
     "metadata": {},
     "output_type": "execute_result"
    }
   ],
   "source": [
    "add(5,6)"
   ]
  },
  {
   "cell_type": "code",
   "execution_count": 62,
   "id": "674b2550",
   "metadata": {},
   "outputs": [],
   "source": [
    "new_num = add(15,25)"
   ]
  },
  {
   "cell_type": "code",
   "execution_count": 63,
   "id": "c4abded0",
   "metadata": {},
   "outputs": [
    {
     "name": "stdout",
     "output_type": "stream",
     "text": [
      "40\n"
     ]
    }
   ],
   "source": [
    "print(new_num)"
   ]
  },
  {
   "cell_type": "code",
   "execution_count": 64,
   "id": "c74701e9",
   "metadata": {},
   "outputs": [],
   "source": [
    "def product(lst):\n",
    "    \"\"\"Parameters: it will accept list\n",
    "    return: product of all elements\n",
    "    \"\"\"\n",
    "    p = 1\n",
    "    \n",
    "    for i in lst:\n",
    "        p*=i\n",
    "    return p"
   ]
  },
  {
   "cell_type": "code",
   "execution_count": 65,
   "id": "97b91531",
   "metadata": {},
   "outputs": [],
   "source": [
    "lst1 = [2,3,5]"
   ]
  },
  {
   "cell_type": "code",
   "execution_count": 66,
   "id": "85c6b496",
   "metadata": {},
   "outputs": [
    {
     "data": {
      "text/plain": [
       "30"
      ]
     },
     "execution_count": 66,
     "metadata": {},
     "output_type": "execute_result"
    }
   ],
   "source": [
    "product(lst1)"
   ]
  },
  {
   "cell_type": "code",
   "execution_count": 67,
   "id": "2e5594e3",
   "metadata": {},
   "outputs": [],
   "source": [
    "lst2 = [2,5,8,1,3,0]"
   ]
  },
  {
   "cell_type": "code",
   "execution_count": 68,
   "id": "9ec700b2",
   "metadata": {},
   "outputs": [],
   "source": [
    "s = product(lst2)"
   ]
  },
  {
   "cell_type": "code",
   "execution_count": 69,
   "id": "152eae4f",
   "metadata": {},
   "outputs": [
    {
     "name": "stdout",
     "output_type": "stream",
     "text": [
      "0\n"
     ]
    }
   ],
   "source": [
    "print(s)"
   ]
  },
  {
   "cell_type": "code",
   "execution_count": 72,
   "id": "a20ff4c6",
   "metadata": {},
   "outputs": [],
   "source": [
    "def calculator(a,b):\n",
    "    \"\"\"This function will calculate all arithmetic operations\"\"\"\n",
    "    res1 = a+b\n",
    "    res2 = a-b\n",
    "    res3 = a*b\n",
    "    res4 = a/b\n",
    "    return [res1,res2,res3,res4]"
   ]
  },
  {
   "cell_type": "code",
   "execution_count": 73,
   "id": "521f72cc",
   "metadata": {},
   "outputs": [
    {
     "data": {
      "text/plain": [
       "[9, 3, 18, 2.0]"
      ]
     },
     "execution_count": 73,
     "metadata": {},
     "output_type": "execute_result"
    }
   ],
   "source": [
    "calculator(6,3)"
   ]
  },
  {
   "cell_type": "code",
   "execution_count": 74,
   "id": "b877c90a",
   "metadata": {},
   "outputs": [],
   "source": [
    "def calculator(a,b):\n",
    "    \"\"\"This function will calculate all arithmetic operations\"\"\"\n",
    "    return a+b,a-b,a*b,a/b"
   ]
  },
  {
   "cell_type": "code",
   "execution_count": 75,
   "id": "9c4101c1",
   "metadata": {},
   "outputs": [
    {
     "data": {
      "text/plain": [
       "(15, 5, 50, 2.0)"
      ]
     },
     "execution_count": 75,
     "metadata": {},
     "output_type": "execute_result"
    }
   ],
   "source": [
    "calculator(10,5)"
   ]
  },
  {
   "cell_type": "code",
   "execution_count": null,
   "id": "126102b1",
   "metadata": {},
   "outputs": [],
   "source": []
  }
 ],
 "metadata": {
  "kernelspec": {
   "display_name": "Python 3",
   "language": "python",
   "name": "python3"
  },
  "language_info": {
   "codemirror_mode": {
    "name": "ipython",
    "version": 3
   },
   "file_extension": ".py",
   "mimetype": "text/x-python",
   "name": "python",
   "nbconvert_exporter": "python",
   "pygments_lexer": "ipython3",
   "version": "3.8.8"
  }
 },
 "nbformat": 4,
 "nbformat_minor": 5
}
