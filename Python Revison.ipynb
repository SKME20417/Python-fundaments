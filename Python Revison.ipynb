{
 "cells": [
  {
   "cell_type": "markdown",
   "id": "07510ec0",
   "metadata": {},
   "source": [
    "# Python Fundamentals\n",
    "* Python Basics\n",
    "* Operators and Expressions\n",
    "* Control Flow"
   ]
  },
  {
   "cell_type": "markdown",
   "id": "571c4a75",
   "metadata": {},
   "source": [
    "# Python Basics"
   ]
  },
  {
   "cell_type": "code",
   "execution_count": null,
   "id": "3b8c1ba2",
   "metadata": {},
   "outputs": [],
   "source": [
    "print('Machine Learning')"
   ]
  },
  {
   "cell_type": "code",
   "execution_count": null,
   "id": "9d07e625",
   "metadata": {},
   "outputs": [],
   "source": [
    "print('Hello world')"
   ]
  },
  {
   "cell_type": "code",
   "execution_count": null,
   "id": "6902d49e",
   "metadata": {},
   "outputs": [],
   "source": [
    "print('Deep Learning')"
   ]
  },
  {
   "cell_type": "code",
   "execution_count": null,
   "id": "07dd6f48",
   "metadata": {},
   "outputs": [],
   "source": [
    "print('Data Science', 'Machine Learning', 150)"
   ]
  },
  {
   "cell_type": "code",
   "execution_count": null,
   "id": "bc87e92c",
   "metadata": {},
   "outputs": [],
   "source": [
    "i = 80"
   ]
  },
  {
   "cell_type": "code",
   "execution_count": null,
   "id": "85454bc7",
   "metadata": {},
   "outputs": [],
   "source": [
    "print(i)"
   ]
  },
  {
   "cell_type": "code",
   "execution_count": null,
   "id": "3c7eb8f6",
   "metadata": {},
   "outputs": [],
   "source": [
    "2abc1_ = 15"
   ]
  },
  {
   "cell_type": "code",
   "execution_count": null,
   "id": "0901cfbe",
   "metadata": {},
   "outputs": [],
   "source": [
    "abc_1 = 15"
   ]
  },
  {
   "cell_type": "code",
   "execution_count": null,
   "id": "e3f23ac5",
   "metadata": {},
   "outputs": [],
   "source": [
    "print(abc_1)"
   ]
  },
  {
   "cell_type": "code",
   "execution_count": null,
   "id": "11cb6d96",
   "metadata": {},
   "outputs": [],
   "source": [
    "type(abc_1)"
   ]
  },
  {
   "cell_type": "code",
   "execution_count": null,
   "id": "d04e3f7b",
   "metadata": {},
   "outputs": [],
   "source": [
    "id(abc_1)"
   ]
  },
  {
   "cell_type": "code",
   "execution_count": null,
   "id": "5f33e56a",
   "metadata": {},
   "outputs": [],
   "source": [
    "print(i)"
   ]
  },
  {
   "cell_type": "code",
   "execution_count": null,
   "id": "1bd81ce9",
   "metadata": {},
   "outputs": [],
   "source": [
    "i = 'Machine learning Deep Learning NLP'"
   ]
  },
  {
   "cell_type": "code",
   "execution_count": null,
   "id": "537bc9f5",
   "metadata": {},
   "outputs": [],
   "source": [
    "print(i)"
   ]
  },
  {
   "cell_type": "code",
   "execution_count": null,
   "id": "94c2dd5c",
   "metadata": {},
   "outputs": [],
   "source": [
    "type(i)"
   ]
  },
  {
   "cell_type": "code",
   "execution_count": null,
   "id": "dd56a617",
   "metadata": {},
   "outputs": [],
   "source": [
    "id(i)"
   ]
  },
  {
   "cell_type": "code",
   "execution_count": null,
   "id": "1c69edf5",
   "metadata": {},
   "outputs": [],
   "source": [
    "# int\n",
    "# str\n",
    "# float\n",
    "# boolean\n",
    "# Complex\n",
    "# None"
   ]
  },
  {
   "cell_type": "code",
   "execution_count": null,
   "id": "65f7e24d",
   "metadata": {},
   "outputs": [],
   "source": [
    "my_num = 55"
   ]
  },
  {
   "cell_type": "code",
   "execution_count": null,
   "id": "bd56c3a9",
   "metadata": {},
   "outputs": [],
   "source": [
    "print(my_num)"
   ]
  },
  {
   "cell_type": "code",
   "execution_count": null,
   "id": "20e4950b",
   "metadata": {},
   "outputs": [],
   "source": [
    "type(my_num)"
   ]
  },
  {
   "cell_type": "code",
   "execution_count": null,
   "id": "ea4d21cb",
   "metadata": {},
   "outputs": [],
   "source": [
    "id(my_num)"
   ]
  },
  {
   "cell_type": "code",
   "execution_count": null,
   "id": "3ea8f069",
   "metadata": {},
   "outputs": [],
   "source": [
    "my_fl =  98.7"
   ]
  },
  {
   "cell_type": "code",
   "execution_count": null,
   "id": "1a7778f3",
   "metadata": {},
   "outputs": [],
   "source": [
    "type(my_fl)"
   ]
  },
  {
   "cell_type": "code",
   "execution_count": null,
   "id": "ce8e5eff",
   "metadata": {},
   "outputs": [],
   "source": [
    "id(my_fl)"
   ]
  },
  {
   "cell_type": "code",
   "execution_count": null,
   "id": "113f4b89",
   "metadata": {},
   "outputs": [],
   "source": [
    "my_c = 4+3j"
   ]
  },
  {
   "cell_type": "code",
   "execution_count": null,
   "id": "bb050e69",
   "metadata": {},
   "outputs": [],
   "source": [
    "type(my_c)"
   ]
  },
  {
   "cell_type": "code",
   "execution_count": null,
   "id": "5226d8c2",
   "metadata": {},
   "outputs": [],
   "source": [
    "id(my_c)"
   ]
  },
  {
   "cell_type": "code",
   "execution_count": null,
   "id": "a8ce5010",
   "metadata": {},
   "outputs": [],
   "source": [
    "my_c.conjugate()"
   ]
  },
  {
   "cell_type": "code",
   "execution_count": null,
   "id": "e40ec278",
   "metadata": {},
   "outputs": [],
   "source": [
    "my_c.imag"
   ]
  },
  {
   "cell_type": "code",
   "execution_count": null,
   "id": "b07022f7",
   "metadata": {},
   "outputs": [],
   "source": [
    "my_c.real"
   ]
  },
  {
   "cell_type": "code",
   "execution_count": null,
   "id": "822e0a1e",
   "metadata": {},
   "outputs": [],
   "source": [
    "my_s = 'Machine learning is easy'\n",
    "print(my_s)\n",
    "print(type(my_s))\n",
    "id(my_s)"
   ]
  },
  {
   "cell_type": "code",
   "execution_count": null,
   "id": "ee076430",
   "metadata": {},
   "outputs": [],
   "source": [
    "my_bool = False  # True"
   ]
  },
  {
   "cell_type": "code",
   "execution_count": null,
   "id": "5cc5a0cc",
   "metadata": {},
   "outputs": [],
   "source": [
    "type(my_bool)"
   ]
  },
  {
   "cell_type": "code",
   "execution_count": null,
   "id": "3bb8c1ab",
   "metadata": {},
   "outputs": [],
   "source": [
    "id(my_bool)"
   ]
  },
  {
   "cell_type": "code",
   "execution_count": null,
   "id": "1a14ed0e",
   "metadata": {},
   "outputs": [],
   "source": [
    "my_n = None"
   ]
  },
  {
   "cell_type": "code",
   "execution_count": null,
   "id": "d92c45e6",
   "metadata": {},
   "outputs": [],
   "source": [
    "print(type(my_n))"
   ]
  },
  {
   "cell_type": "code",
   "execution_count": null,
   "id": "1dd34ca0",
   "metadata": {},
   "outputs": [],
   "source": [
    "id(my_n)"
   ]
  },
  {
   "cell_type": "code",
   "execution_count": null,
   "id": "79e8087c",
   "metadata": {},
   "outputs": [],
   "source": [
    "name = input('Enter your name : ' )"
   ]
  },
  {
   "cell_type": "code",
   "execution_count": null,
   "id": "4458c604",
   "metadata": {},
   "outputs": [],
   "source": [
    "print(name)"
   ]
  },
  {
   "cell_type": "code",
   "execution_count": null,
   "id": "bfc50a79",
   "metadata": {},
   "outputs": [],
   "source": [
    "type(name)"
   ]
  },
  {
   "cell_type": "code",
   "execution_count": null,
   "id": "18ba8de4",
   "metadata": {},
   "outputs": [],
   "source": [
    "num = '8' "
   ]
  },
  {
   "cell_type": "code",
   "execution_count": null,
   "id": "1ddae57c",
   "metadata": {},
   "outputs": [],
   "source": [
    "print(num)\n",
    "type(num)\n",
    "id(num)"
   ]
  },
  {
   "cell_type": "code",
   "execution_count": null,
   "id": "dbd5e449",
   "metadata": {},
   "outputs": [],
   "source": [
    "type(num)"
   ]
  },
  {
   "cell_type": "code",
   "execution_count": null,
   "id": "86f376fc",
   "metadata": {},
   "outputs": [],
   "source": [
    "num = int(num)"
   ]
  },
  {
   "cell_type": "code",
   "execution_count": null,
   "id": "c0336b1c",
   "metadata": {},
   "outputs": [],
   "source": [
    "print(num)\n",
    "type(num)"
   ]
  },
  {
   "cell_type": "code",
   "execution_count": null,
   "id": "7ffa1af1",
   "metadata": {},
   "outputs": [],
   "source": [
    "float(num)"
   ]
  },
  {
   "cell_type": "code",
   "execution_count": null,
   "id": "a53f3a50",
   "metadata": {},
   "outputs": [],
   "source": [
    "complex(num)"
   ]
  },
  {
   "cell_type": "code",
   "execution_count": null,
   "id": "75852b10",
   "metadata": {},
   "outputs": [],
   "source": [
    "str(num)"
   ]
  },
  {
   "cell_type": "code",
   "execution_count": null,
   "id": "0081354d",
   "metadata": {},
   "outputs": [],
   "source": [
    "age = int(input('enter your age: ' ))"
   ]
  },
  {
   "cell_type": "code",
   "execution_count": null,
   "id": "a490e2e6",
   "metadata": {},
   "outputs": [],
   "source": [
    "print(age)"
   ]
  },
  {
   "cell_type": "code",
   "execution_count": null,
   "id": "135b69b6",
   "metadata": {},
   "outputs": [],
   "source": [
    "type(age)"
   ]
  },
  {
   "cell_type": "code",
   "execution_count": null,
   "id": "5e8cacfa",
   "metadata": {},
   "outputs": [],
   "source": [
    "num = 5"
   ]
  },
  {
   "cell_type": "code",
   "execution_count": null,
   "id": "6f4c4682",
   "metadata": {},
   "outputs": [],
   "source": [
    "a = 1+2+3+\\\n",
    "    4+5+6+\\\n",
    "    7+8+9+\\\n",
    "    100"
   ]
  },
  {
   "cell_type": "code",
   "execution_count": null,
   "id": "671c00d6",
   "metadata": {},
   "outputs": [],
   "source": [
    "a"
   ]
  },
  {
   "cell_type": "code",
   "execution_count": null,
   "id": "432e6549",
   "metadata": {},
   "outputs": [],
   "source": [
    "a = (1+2+3+\n",
    "    4+5+6+\n",
    "    7+8+9+\n",
    "    10)"
   ]
  },
  {
   "cell_type": "code",
   "execution_count": null,
   "id": "575e3e2e",
   "metadata": {},
   "outputs": [],
   "source": [
    "a"
   ]
  },
  {
   "cell_type": "code",
   "execution_count": null,
   "id": "703fdb9c",
   "metadata": {},
   "outputs": [],
   "source": [
    "a = 10\n",
    "b = 20\n",
    "\n",
    "print('the value of a is {1} and b is {0}'.format(a,b))"
   ]
  },
  {
   "cell_type": "code",
   "execution_count": null,
   "id": "b9dd466f",
   "metadata": {},
   "outputs": [],
   "source": [
    "name = 'Sanjay'\n",
    "greetings = 'good morning'"
   ]
  },
  {
   "cell_type": "code",
   "execution_count": null,
   "id": "da595711",
   "metadata": {},
   "outputs": [],
   "source": [
    "print('hello {n}, {g}'.format(n = name, g = greetings))"
   ]
  },
  {
   "cell_type": "code",
   "execution_count": null,
   "id": "83533e95",
   "metadata": {},
   "outputs": [],
   "source": [
    "# Operators and Expressions"
   ]
  },
  {
   "cell_type": "code",
   "execution_count": null,
   "id": "13f6d16b",
   "metadata": {},
   "outputs": [],
   "source": [
    "no1 = 12\n",
    "no2 = 3"
   ]
  },
  {
   "cell_type": "code",
   "execution_count": null,
   "id": "8f251ce8",
   "metadata": {},
   "outputs": [],
   "source": [
    "add = no1+no2\n",
    "sub = no1-no2\n",
    "mul = no1*no2\n",
    "div = no1/no2\n",
    "f_div = no1//no2\n",
    "rem = no1%no2\n",
    "exp = no1**no2"
   ]
  },
  {
   "cell_type": "code",
   "execution_count": null,
   "id": "0111b5c0",
   "metadata": {},
   "outputs": [],
   "source": [
    "print('a+b = {}'.format(add))\n",
    "print('a-b = {}'.format(sub))\n",
    "print('a*b = {}'.format(mul))\n",
    "print('a/b = {}'.format(div))\n",
    "print('a//b = {}'.format(f_div))\n",
    "print('a%b = {}'.format(rem))\n",
    "print('a**b = {}'.format(exp))"
   ]
  },
  {
   "cell_type": "code",
   "execution_count": null,
   "id": "0de45f6f",
   "metadata": {},
   "outputs": [],
   "source": [
    "print(no1, no2)"
   ]
  },
  {
   "cell_type": "code",
   "execution_count": null,
   "id": "8134af51",
   "metadata": {},
   "outputs": [],
   "source": [
    "print(no1<no2)\n",
    "print(no1<=no2)\n",
    "print(no1>no2)\n",
    "print(no1>=no2)\n",
    "print(no1==no2)\n",
    "print(no1!=no2)\n"
   ]
  },
  {
   "cell_type": "code",
   "execution_count": null,
   "id": "0973cf95",
   "metadata": {},
   "outputs": [],
   "source": [
    "10>5 and 20!=3"
   ]
  },
  {
   "cell_type": "code",
   "execution_count": null,
   "id": "c0277d06",
   "metadata": {},
   "outputs": [],
   "source": [
    "10<5 and 10<6"
   ]
  },
  {
   "cell_type": "code",
   "execution_count": null,
   "id": "68523f44",
   "metadata": {},
   "outputs": [],
   "source": [
    "not True"
   ]
  },
  {
   "cell_type": "code",
   "execution_count": null,
   "id": "55e90afa",
   "metadata": {},
   "outputs": [],
   "source": [
    "not False"
   ]
  },
  {
   "cell_type": "code",
   "execution_count": null,
   "id": "0c5dc89f",
   "metadata": {},
   "outputs": [],
   "source": [
    "not(10!=5 and 5>7)"
   ]
  },
  {
   "cell_type": "code",
   "execution_count": null,
   "id": "5eba62e0",
   "metadata": {},
   "outputs": [],
   "source": [
    "bin(10)"
   ]
  },
  {
   "cell_type": "code",
   "execution_count": null,
   "id": "07c61f59",
   "metadata": {},
   "outputs": [],
   "source": [
    "bin(4)"
   ]
  },
  {
   "cell_type": "code",
   "execution_count": null,
   "id": "f4769f30",
   "metadata": {},
   "outputs": [],
   "source": [
    "10&4"
   ]
  },
  {
   "cell_type": "code",
   "execution_count": null,
   "id": "57850abd",
   "metadata": {},
   "outputs": [],
   "source": [
    "10|4"
   ]
  },
  {
   "cell_type": "code",
   "execution_count": null,
   "id": "a187609d",
   "metadata": {},
   "outputs": [],
   "source": [
    "4^4"
   ]
  },
  {
   "cell_type": "code",
   "execution_count": null,
   "id": "6ca6be5d",
   "metadata": {},
   "outputs": [],
   "source": [
    "a = 5"
   ]
  },
  {
   "cell_type": "code",
   "execution_count": null,
   "id": "2411bd6e",
   "metadata": {},
   "outputs": [],
   "source": [
    "a = a+1"
   ]
  },
  {
   "cell_type": "code",
   "execution_count": null,
   "id": "1870fe60",
   "metadata": {},
   "outputs": [],
   "source": [
    "a"
   ]
  },
  {
   "cell_type": "code",
   "execution_count": null,
   "id": "8a294f71",
   "metadata": {},
   "outputs": [],
   "source": [
    "a+=1"
   ]
  },
  {
   "cell_type": "code",
   "execution_count": null,
   "id": "f7406607",
   "metadata": {},
   "outputs": [],
   "source": [
    "a"
   ]
  },
  {
   "cell_type": "code",
   "execution_count": null,
   "id": "a7bb350b",
   "metadata": {},
   "outputs": [],
   "source": [
    "a-=2"
   ]
  },
  {
   "cell_type": "code",
   "execution_count": null,
   "id": "ce7b44b2",
   "metadata": {},
   "outputs": [],
   "source": [
    "a"
   ]
  },
  {
   "cell_type": "code",
   "execution_count": null,
   "id": "c8c4c390",
   "metadata": {},
   "outputs": [],
   "source": [
    "a*=5"
   ]
  },
  {
   "cell_type": "code",
   "execution_count": null,
   "id": "5d08175e",
   "metadata": {},
   "outputs": [],
   "source": [
    "a"
   ]
  },
  {
   "cell_type": "code",
   "execution_count": null,
   "id": "4d7c4e66",
   "metadata": {},
   "outputs": [],
   "source": [
    "a, b ,c ,d = 'ML', 'DL', '25.36', '78'"
   ]
  },
  {
   "cell_type": "code",
   "execution_count": null,
   "id": "9114f800",
   "metadata": {},
   "outputs": [],
   "source": [
    "a"
   ]
  },
  {
   "cell_type": "code",
   "execution_count": null,
   "id": "b37ab70b",
   "metadata": {},
   "outputs": [],
   "source": [
    "\n",
    "b"
   ]
  },
  {
   "cell_type": "code",
   "execution_count": null,
   "id": "7687b669",
   "metadata": {},
   "outputs": [],
   "source": [
    "c"
   ]
  },
  {
   "cell_type": "code",
   "execution_count": null,
   "id": "0be44850",
   "metadata": {},
   "outputs": [],
   "source": [
    "d"
   ]
  },
  {
   "cell_type": "code",
   "execution_count": null,
   "id": "fcbcca5a",
   "metadata": {},
   "outputs": [],
   "source": [
    "a= b =c= d= e = r = 789"
   ]
  },
  {
   "cell_type": "code",
   "execution_count": null,
   "id": "8d598cff",
   "metadata": {},
   "outputs": [],
   "source": [
    "d"
   ]
  },
  {
   "cell_type": "code",
   "execution_count": null,
   "id": "19fd4404",
   "metadata": {},
   "outputs": [],
   "source": [
    "\n",
    "b"
   ]
  },
  {
   "cell_type": "code",
   "execution_count": null,
   "id": "8512daf4",
   "metadata": {},
   "outputs": [],
   "source": [
    "e"
   ]
  },
  {
   "cell_type": "code",
   "execution_count": null,
   "id": "33b72b1d",
   "metadata": {},
   "outputs": [],
   "source": [
    "r"
   ]
  },
  {
   "cell_type": "code",
   "execution_count": null,
   "id": "b0da8f4e",
   "metadata": {},
   "outputs": [],
   "source": [
    "my_str = \"Good Morning\""
   ]
  },
  {
   "cell_type": "code",
   "execution_count": null,
   "id": "97b0495c",
   "metadata": {},
   "outputs": [],
   "source": [
    "'Good' not in my_str"
   ]
  },
  {
   "cell_type": "code",
   "execution_count": null,
   "id": "480cb08a",
   "metadata": {},
   "outputs": [],
   "source": [
    "'bad' not in my_str"
   ]
  },
  {
   "cell_type": "code",
   "execution_count": null,
   "id": "c05192e1",
   "metadata": {},
   "outputs": [],
   "source": [
    "'g' in my_str"
   ]
  },
  {
   "cell_type": "code",
   "execution_count": null,
   "id": "ec89688f",
   "metadata": {},
   "outputs": [],
   "source": [
    "n1 = 1000\n",
    "n2 = 1000"
   ]
  },
  {
   "cell_type": "code",
   "execution_count": null,
   "id": "e3b9b9cd",
   "metadata": {},
   "outputs": [],
   "source": [
    "id(n1)"
   ]
  },
  {
   "cell_type": "code",
   "execution_count": null,
   "id": "a9270eae",
   "metadata": {},
   "outputs": [],
   "source": [
    "id(n2)"
   ]
  },
  {
   "cell_type": "code",
   "execution_count": null,
   "id": "dfcc7845",
   "metadata": {},
   "outputs": [],
   "source": [
    "n1 is not n2"
   ]
  },
  {
   "cell_type": "code",
   "execution_count": null,
   "id": "f2c6453a",
   "metadata": {},
   "outputs": [],
   "source": [
    "n1 is n2"
   ]
  },
  {
   "cell_type": "code",
   "execution_count": null,
   "id": "e2c686b7",
   "metadata": {},
   "outputs": [],
   "source": [
    "n1 == n2"
   ]
  },
  {
   "cell_type": "code",
   "execution_count": null,
   "id": "d01dcfd5",
   "metadata": {},
   "outputs": [],
   "source": [
    "# Control Flow"
   ]
  },
  {
   "cell_type": "code",
   "execution_count": null,
   "id": "231fc7a2",
   "metadata": {},
   "outputs": [],
   "source": [
    "age = 15\n",
    "if (age>=18):\n",
    "    print('You are eligible to vote')\n",
    "    print('I am inside if block')\n",
    "else:\n",
    "    print('Grow up kid')\n",
    "    print('I am inside else block')"
   ]
  },
  {
   "cell_type": "code",
   "execution_count": null,
   "id": "e57418dd",
   "metadata": {},
   "outputs": [],
   "source": [
    "num = -5\n",
    "\n",
    "if num>0:\n",
    "    print('Positive number')\n",
    "elif num==0:\n",
    "    print('Zero number')\n",
    "else:\n",
    "    print('negative number')"
   ]
  },
  {
   "cell_type": "code",
   "execution_count": null,
   "id": "8a750d90",
   "metadata": {},
   "outputs": [],
   "source": [
    "num = -5\n",
    "\n",
    "if num>=0:\n",
    "    if num==0:\n",
    "        print('zero number')\n",
    "    else:\n",
    "        print('positive number')\n",
    "else:\n",
    "    print('negative number')"
   ]
  },
  {
   "cell_type": "code",
   "execution_count": null,
   "id": "0b06fb63",
   "metadata": {},
   "outputs": [],
   "source": [
    "num1 = 5000\n",
    "num2 = 600\n",
    "num3 = 400"
   ]
  },
  {
   "cell_type": "code",
   "execution_count": null,
   "id": "b6647c92",
   "metadata": {},
   "outputs": [],
   "source": [
    "if (num1>num2) and (num1>num3):\n",
    "    largest = num1\n",
    "elif (num2>num1) and (num2>num3):\n",
    "    largest = num2\n",
    "else:\n",
    "    largest = num3\n",
    "    \n",
    "print('The largest numbetr among three is {}'.format(largest))"
   ]
  },
  {
   "cell_type": "code",
   "execution_count": null,
   "id": "f8c1757f",
   "metadata": {},
   "outputs": [],
   "source": [
    "i = 1\n",
    "\n",
    "while (i<=20):\n",
    "    if i%2==0:\n",
    "        print(i, end= ' , ')\n",
    "    \n",
    "    i+=1"
   ]
  },
  {
   "cell_type": "code",
   "execution_count": null,
   "id": "01f31f72",
   "metadata": {},
   "outputs": [],
   "source": [
    "list(range(11))"
   ]
  },
  {
   "cell_type": "code",
   "execution_count": null,
   "id": "b0d10d93",
   "metadata": {},
   "outputs": [],
   "source": [
    "for i in range(2,21):\n",
    "    if i%2==0:\n",
    "        print(i, end = ' ')"
   ]
  },
  {
   "cell_type": "code",
   "execution_count": null,
   "id": "fb63f682",
   "metadata": {},
   "outputs": [],
   "source": [
    "for i in range(2,21,2):\n",
    "    print(i, end = ' ')\n",
    "else:\n",
    "    print()\n",
    "    print('no elements left')"
   ]
  },
  {
   "cell_type": "code",
   "execution_count": null,
   "id": "c236ab49",
   "metadata": {},
   "outputs": [],
   "source": [
    "n = 11\n",
    "\n",
    "for i in range(1,11):\n",
    "    print('{}*{}={}'.format(n,i,n*i))\n",
    "else:\n",
    "    print('no elements left')"
   ]
  },
  {
   "cell_type": "code",
   "execution_count": null,
   "id": "fda5ad8e",
   "metadata": {},
   "outputs": [],
   "source": [
    "n = 5\n",
    "\n",
    "for i in range(1,n+1):\n",
    "    for j in range(1,i+1):\n",
    "        print('*', end = ' ')\n",
    "    print()\n",
    "        "
   ]
  },
  {
   "cell_type": "code",
   "execution_count": null,
   "id": "a2dfe71f",
   "metadata": {},
   "outputs": [],
   "source": [
    "for i in range(1,n+1):\n",
    "    for j in range(1,i+1):\n",
    "        print('*', end = '')\n",
    "    print()"
   ]
  },
  {
   "cell_type": "code",
   "execution_count": null,
   "id": "e61e36b0",
   "metadata": {},
   "outputs": [],
   "source": [
    "'hello'*5"
   ]
  },
  {
   "cell_type": "code",
   "execution_count": null,
   "id": "7a291b81",
   "metadata": {},
   "outputs": [],
   "source": [
    "for i in range(1,n+1):\n",
    "    for j in range(1,i+1):\n",
    "        print('*', end = ' ')\n",
    "    print()"
   ]
  },
  {
   "cell_type": "code",
   "execution_count": null,
   "id": "94a42452",
   "metadata": {},
   "outputs": [],
   "source": [
    "for i in range(1,n+1):\n",
    "    print('*'*i, end = ' ')"
   ]
  },
  {
   "cell_type": "code",
   "execution_count": null,
   "id": "22807f9b",
   "metadata": {},
   "outputs": [],
   "source": [
    "n = int(input('enter any number'))\n",
    "for i in range(1,n+1):\n",
    "    for j in range(1,i+1):\n",
    "        print('*', end=' ')\n",
    "    print()"
   ]
  },
  {
   "cell_type": "code",
   "execution_count": null,
   "id": "f481a095",
   "metadata": {},
   "outputs": [],
   "source": [
    "n = int(input('enter any number'))\n",
    "for i in range(1,n+1):\n",
    "    print('* '*i)"
   ]
  },
  {
   "cell_type": "code",
   "execution_count": null,
   "id": "03b069cc",
   "metadata": {},
   "outputs": [],
   "source": [
    "list(range(5,0,-1))"
   ]
  },
  {
   "cell_type": "code",
   "execution_count": null,
   "id": "2d6d691a",
   "metadata": {},
   "outputs": [],
   "source": [
    "for i in range(5,0,-1):\n",
    "    print('* '* i)"
   ]
  },
  {
   "cell_type": "code",
   "execution_count": null,
   "id": "bcaf92ea",
   "metadata": {},
   "outputs": [],
   "source": [
    "n = 15\n",
    "s = 0\n",
    "\n",
    "for i in range(1,n+1):\n",
    "    s+=i\n",
    "print('The sum of first {} numbers are {}'.format(n, s))"
   ]
  },
  {
   "cell_type": "code",
   "execution_count": null,
   "id": "35425fd5",
   "metadata": {},
   "outputs": [],
   "source": [
    "n = int(input('enter any number'))\n",
    "\n",
    "is_prime = True\n",
    "\n",
    "\n",
    "for i in range(2,n):\n",
    "    if n%i==0:\n",
    "        is_prime = False\n",
    "        \n",
    "if is_prime:\n",
    "    print('the given {} number is prime'.format(n))\n",
    "else:\n",
    "    print('the given number is not prime'.format(n))"
   ]
  },
  {
   "cell_type": "code",
   "execution_count": null,
   "id": "705918f2",
   "metadata": {},
   "outputs": [],
   "source": [
    "for i in range(1,10):\n",
    "    pass"
   ]
  },
  {
   "cell_type": "code",
   "execution_count": null,
   "id": "e84cef54",
   "metadata": {},
   "outputs": [],
   "source": [
    "if 4<6:\n",
    "    pass"
   ]
  },
  {
   "cell_type": "code",
   "execution_count": null,
   "id": "05e6be16",
   "metadata": {},
   "outputs": [],
   "source": [
    "# 2 Python Inbuilt Data Structures"
   ]
  },
  {
   "cell_type": "markdown",
   "id": "202af95d",
   "metadata": {},
   "source": [
    "* String\n",
    "* List\n",
    "* Tuples\n",
    "* set\n",
    "* Dictionary"
   ]
  },
  {
   "cell_type": "code",
   "execution_count": null,
   "id": "1278e7c4",
   "metadata": {},
   "outputs": [],
   "source": [
    "my_str = 'Welocme To The Course'"
   ]
  },
  {
   "cell_type": "code",
   "execution_count": null,
   "id": "ed8f3bd4",
   "metadata": {},
   "outputs": [],
   "source": [
    "print(my_str)"
   ]
  },
  {
   "cell_type": "code",
   "execution_count": null,
   "id": "ffc2aede",
   "metadata": {},
   "outputs": [],
   "source": [
    "print(type(my_str))"
   ]
  },
  {
   "cell_type": "code",
   "execution_count": null,
   "id": "53632146",
   "metadata": {},
   "outputs": [],
   "source": [
    "my_str[0]"
   ]
  },
  {
   "cell_type": "code",
   "execution_count": null,
   "id": "534ebc85",
   "metadata": {},
   "outputs": [],
   "source": [
    "my_str[1]"
   ]
  },
  {
   "cell_type": "code",
   "execution_count": null,
   "id": "0409d002",
   "metadata": {},
   "outputs": [],
   "source": [
    "len(my_str)"
   ]
  },
  {
   "cell_type": "code",
   "execution_count": null,
   "id": "1a17dda1",
   "metadata": {},
   "outputs": [],
   "source": [
    "my_str[20]"
   ]
  },
  {
   "cell_type": "code",
   "execution_count": null,
   "id": "1b421aa1",
   "metadata": {},
   "outputs": [],
   "source": [
    "my_str[len(my_str)-1]"
   ]
  },
  {
   "cell_type": "code",
   "execution_count": null,
   "id": "7ae82382",
   "metadata": {},
   "outputs": [],
   "source": [
    "my_str[-1]"
   ]
  },
  {
   "cell_type": "code",
   "execution_count": null,
   "id": "2e8fa257",
   "metadata": {},
   "outputs": [],
   "source": [
    "my_str[-5]"
   ]
  },
  {
   "cell_type": "code",
   "execution_count": null,
   "id": "906f5b09",
   "metadata": {},
   "outputs": [],
   "source": [
    "print(my_str)"
   ]
  },
  {
   "cell_type": "code",
   "execution_count": null,
   "id": "2ced1f6f",
   "metadata": {},
   "outputs": [],
   "source": [
    "my_str[0:7]"
   ]
  },
  {
   "cell_type": "code",
   "execution_count": null,
   "id": "c50883a7",
   "metadata": {},
   "outputs": [],
   "source": [
    "my_str[4:15]"
   ]
  },
  {
   "cell_type": "code",
   "execution_count": null,
   "id": "8942550c",
   "metadata": {},
   "outputs": [],
   "source": [
    "my_str[0:-1]"
   ]
  },
  {
   "cell_type": "code",
   "execution_count": null,
   "id": "4a0bc825",
   "metadata": {},
   "outputs": [],
   "source": [
    "my_str[:]"
   ]
  },
  {
   "cell_type": "code",
   "execution_count": null,
   "id": "1370ba73",
   "metadata": {},
   "outputs": [],
   "source": [
    "my_str[2:14:2]"
   ]
  },
  {
   "cell_type": "code",
   "execution_count": null,
   "id": "959a44c7",
   "metadata": {},
   "outputs": [],
   "source": [
    "my_str[20:5:-2]"
   ]
  },
  {
   "cell_type": "code",
   "execution_count": null,
   "id": "58b89345",
   "metadata": {},
   "outputs": [],
   "source": [
    "my_str[::-1]"
   ]
  },
  {
   "cell_type": "code",
   "execution_count": null,
   "id": "ccf1d334",
   "metadata": {},
   "outputs": [],
   "source": [
    "print(my_str)"
   ]
  },
  {
   "cell_type": "code",
   "execution_count": null,
   "id": "42f16799",
   "metadata": {},
   "outputs": [],
   "source": [
    "my_str.lower()"
   ]
  },
  {
   "cell_type": "code",
   "execution_count": null,
   "id": "0bf2f4eb",
   "metadata": {},
   "outputs": [],
   "source": [
    "my_str.upper()"
   ]
  },
  {
   "cell_type": "code",
   "execution_count": null,
   "id": "43eb4db1",
   "metadata": {},
   "outputs": [],
   "source": [
    "my_str.title()"
   ]
  },
  {
   "cell_type": "code",
   "execution_count": null,
   "id": "994c06e9",
   "metadata": {},
   "outputs": [],
   "source": [
    "my_str.find('cme')"
   ]
  },
  {
   "cell_type": "code",
   "execution_count": null,
   "id": "136b2276",
   "metadata": {},
   "outputs": [],
   "source": [
    "my_str.find('come')"
   ]
  },
  {
   "cell_type": "code",
   "execution_count": null,
   "id": "e39d8400",
   "metadata": {},
   "outputs": [],
   "source": [
    "my_str.split()"
   ]
  },
  {
   "cell_type": "code",
   "execution_count": null,
   "id": "54d174ec",
   "metadata": {},
   "outputs": [],
   "source": [
    "my_str.split('o')"
   ]
  },
  {
   "cell_type": "code",
   "execution_count": null,
   "id": "d0c90841",
   "metadata": {},
   "outputs": [],
   "source": [
    "my_str.count('o')"
   ]
  },
  {
   "cell_type": "code",
   "execution_count": null,
   "id": "3ae7def5",
   "metadata": {},
   "outputs": [],
   "source": [
    "my_str = my_str.replace('Course', 'Programme')"
   ]
  },
  {
   "cell_type": "code",
   "execution_count": null,
   "id": "eb89eab0",
   "metadata": {},
   "outputs": [],
   "source": [
    "my_str"
   ]
  },
  {
   "cell_type": "code",
   "execution_count": null,
   "id": "bd5d82a3",
   "metadata": {},
   "outputs": [],
   "source": [
    "name = input('Enter your name : ', )"
   ]
  },
  {
   "cell_type": "code",
   "execution_count": null,
   "id": "88eff047",
   "metadata": {},
   "outputs": [],
   "source": [
    "name"
   ]
  },
  {
   "cell_type": "code",
   "execution_count": null,
   "id": "18a4835b",
   "metadata": {},
   "outputs": [],
   "source": [
    "name.lstrip()"
   ]
  },
  {
   "cell_type": "code",
   "execution_count": null,
   "id": "4d1aa57e",
   "metadata": {},
   "outputs": [],
   "source": [
    "name.rstrip()"
   ]
  },
  {
   "cell_type": "code",
   "execution_count": null,
   "id": "59ba6c8c",
   "metadata": {},
   "outputs": [],
   "source": [
    "name.strip()"
   ]
  },
  {
   "cell_type": "code",
   "execution_count": null,
   "id": "dbd9fed3",
   "metadata": {},
   "outputs": [],
   "source": [
    "name.capitalize()"
   ]
  },
  {
   "cell_type": "code",
   "execution_count": null,
   "id": "7a2ba77c",
   "metadata": {},
   "outputs": [],
   "source": [
    "A = 'abc' \n",
    "B = 'pqr'"
   ]
  },
  {
   "cell_type": "code",
   "execution_count": null,
   "id": "03be871d",
   "metadata": {},
   "outputs": [],
   "source": [
    "A+B"
   ]
  },
  {
   "cell_type": "code",
   "execution_count": null,
   "id": "9866f697",
   "metadata": {},
   "outputs": [],
   "source": [
    "'abc' + '25'"
   ]
  },
  {
   "cell_type": "code",
   "execution_count": null,
   "id": "7ee8c4d8",
   "metadata": {},
   "outputs": [],
   "source": [
    "'pqr' + str(36)"
   ]
  },
  {
   "cell_type": "code",
   "execution_count": null,
   "id": "536dc8bf",
   "metadata": {},
   "outputs": [],
   "source": [
    "'hello'*5"
   ]
  },
  {
   "cell_type": "code",
   "execution_count": null,
   "id": "cad256b4",
   "metadata": {},
   "outputs": [],
   "source": [
    "inp_str = \"This is an Input string to count vowels.\""
   ]
  },
  {
   "cell_type": "code",
   "execution_count": null,
   "id": "66ef45f7",
   "metadata": {},
   "outputs": [],
   "source": [
    "v = 0\n",
    "for i in inp_str:\n",
    "    if i in 'AEIOUaeiou':\n",
    "        v+=1\n",
    "print('the number of vowels in string are {}'.format(v))"
   ]
  },
  {
   "cell_type": "code",
   "execution_count": null,
   "id": "8a60fe07",
   "metadata": {},
   "outputs": [],
   "source": [
    "inp_str = \"coding\""
   ]
  },
  {
   "cell_type": "code",
   "execution_count": null,
   "id": "a4ab1674",
   "metadata": {},
   "outputs": [],
   "source": [
    "rev_str = inp_str[::-1]"
   ]
  },
  {
   "cell_type": "code",
   "execution_count": null,
   "id": "d3feba7f",
   "metadata": {},
   "outputs": [],
   "source": [
    "if inp_str == rev_str:\n",
    "    print('The given word is palindrome')\n",
    "else:\n",
    "    print('The given word is not palindrome')"
   ]
  },
  {
   "cell_type": "code",
   "execution_count": null,
   "id": "d88666a0",
   "metadata": {},
   "outputs": [],
   "source": [
    "inp_str = \"level\"\n",
    "\n",
    "start = 0\n",
    "end = len(inp_str)-1\n",
    "\n",
    "is_palindrome = True\n",
    "\n",
    "while (start<=end):\n",
    "    if inp_str[start] != inp_str[end]:\n",
    "        is_palindrome = False\n",
    "        break\n",
    "        \n",
    "    start+=1\n",
    "    end-=1\n",
    "        \n",
    "if is_palindrome:\n",
    "    print('{} is palindrome'.format(inp_str))\n",
    "else:\n",
    "    print('{} is not palindrome'.format(inp_str))\n",
    "        \n",
    "        "
   ]
  },
  {
   "cell_type": "code",
   "execution_count": null,
   "id": "1f251ab0",
   "metadata": {},
   "outputs": [],
   "source": [
    "lst = list()"
   ]
  },
  {
   "cell_type": "code",
   "execution_count": null,
   "id": "ea8e064d",
   "metadata": {},
   "outputs": [],
   "source": [
    "lst = []"
   ]
  },
  {
   "cell_type": "code",
   "execution_count": null,
   "id": "1f6ed697",
   "metadata": {},
   "outputs": [],
   "source": [
    "lst = [6,3,2,8,4]"
   ]
  },
  {
   "cell_type": "code",
   "execution_count": null,
   "id": "b408d936",
   "metadata": {},
   "outputs": [],
   "source": [
    "print(lst)"
   ]
  },
  {
   "cell_type": "code",
   "execution_count": null,
   "id": "c249ffd8",
   "metadata": {},
   "outputs": [],
   "source": [
    "type(lst)"
   ]
  },
  {
   "cell_type": "code",
   "execution_count": null,
   "id": "5292d47d",
   "metadata": {},
   "outputs": [],
   "source": [
    "lst[0]"
   ]
  },
  {
   "cell_type": "code",
   "execution_count": null,
   "id": "5ca41bb4",
   "metadata": {},
   "outputs": [],
   "source": [
    "lst[-1]"
   ]
  },
  {
   "cell_type": "code",
   "execution_count": null,
   "id": "3f30c5c5",
   "metadata": {},
   "outputs": [],
   "source": [
    "len(lst)"
   ]
  },
  {
   "cell_type": "code",
   "execution_count": null,
   "id": "718035ce",
   "metadata": {},
   "outputs": [],
   "source": [
    "lst[:-1]"
   ]
  },
  {
   "cell_type": "code",
   "execution_count": null,
   "id": "ea3b1cd0",
   "metadata": {},
   "outputs": [],
   "source": [
    "lst[1:-1]"
   ]
  },
  {
   "cell_type": "code",
   "execution_count": null,
   "id": "2e9ee19d",
   "metadata": {},
   "outputs": [],
   "source": [
    "lst[::-1]"
   ]
  },
  {
   "cell_type": "code",
   "execution_count": null,
   "id": "e5974ec6",
   "metadata": {},
   "outputs": [],
   "source": [
    "print(lst)"
   ]
  },
  {
   "cell_type": "code",
   "execution_count": null,
   "id": "c4564938",
   "metadata": {},
   "outputs": [],
   "source": [
    "lst[0] = 60"
   ]
  },
  {
   "cell_type": "code",
   "execution_count": null,
   "id": "038c39cc",
   "metadata": {},
   "outputs": [],
   "source": [
    "lst"
   ]
  },
  {
   "cell_type": "code",
   "execution_count": null,
   "id": "aa455ecb",
   "metadata": {},
   "outputs": [],
   "source": [
    "lst[0] = 160"
   ]
  },
  {
   "cell_type": "code",
   "execution_count": null,
   "id": "0cfd13e8",
   "metadata": {},
   "outputs": [],
   "source": [
    "lst\n"
   ]
  },
  {
   "cell_type": "code",
   "execution_count": null,
   "id": "d31030b5",
   "metadata": {},
   "outputs": [],
   "source": [
    "lst"
   ]
  },
  {
   "cell_type": "code",
   "execution_count": null,
   "id": "8fc3d251",
   "metadata": {},
   "outputs": [],
   "source": [
    "lst.append(1000)"
   ]
  },
  {
   "cell_type": "code",
   "execution_count": null,
   "id": "47e8e38a",
   "metadata": {},
   "outputs": [],
   "source": [
    "lst"
   ]
  },
  {
   "cell_type": "code",
   "execution_count": null,
   "id": "b802334c",
   "metadata": {},
   "outputs": [],
   "source": [
    "lst.insert(3,150)"
   ]
  },
  {
   "cell_type": "code",
   "execution_count": null,
   "id": "b67de2e2",
   "metadata": {},
   "outputs": [],
   "source": [
    "lst"
   ]
  },
  {
   "cell_type": "code",
   "execution_count": null,
   "id": "2523cc19",
   "metadata": {},
   "outputs": [],
   "source": [
    "lst.pop()"
   ]
  },
  {
   "cell_type": "code",
   "execution_count": null,
   "id": "18d88cfe",
   "metadata": {},
   "outputs": [],
   "source": [
    "lst"
   ]
  },
  {
   "cell_type": "code",
   "execution_count": null,
   "id": "ac85287e",
   "metadata": {},
   "outputs": [],
   "source": [
    "lst.pop(2)"
   ]
  },
  {
   "cell_type": "code",
   "execution_count": null,
   "id": "fea2e56b",
   "metadata": {},
   "outputs": [],
   "source": [
    "lst"
   ]
  },
  {
   "cell_type": "code",
   "execution_count": null,
   "id": "d1dc63bf",
   "metadata": {},
   "outputs": [],
   "source": [
    "lst.remove(150)"
   ]
  },
  {
   "cell_type": "code",
   "execution_count": null,
   "id": "5fd98eb9",
   "metadata": {},
   "outputs": [],
   "source": [
    "lst"
   ]
  },
  {
   "cell_type": "code",
   "execution_count": null,
   "id": "91c8a3e2",
   "metadata": {},
   "outputs": [],
   "source": [
    "lst"
   ]
  },
  {
   "cell_type": "code",
   "execution_count": null,
   "id": "f3b8ea30",
   "metadata": {},
   "outputs": [],
   "source": [
    "lst[::-1]"
   ]
  },
  {
   "cell_type": "code",
   "execution_count": null,
   "id": "803324cc",
   "metadata": {},
   "outputs": [],
   "source": [
    "lst"
   ]
  },
  {
   "cell_type": "code",
   "execution_count": null,
   "id": "06cda89f",
   "metadata": {},
   "outputs": [],
   "source": [
    "lst.reverse()"
   ]
  },
  {
   "cell_type": "code",
   "execution_count": null,
   "id": "d9470334",
   "metadata": {},
   "outputs": [],
   "source": [
    "lst"
   ]
  },
  {
   "cell_type": "code",
   "execution_count": null,
   "id": "d6373979",
   "metadata": {},
   "outputs": [],
   "source": [
    "lst.sort()"
   ]
  },
  {
   "cell_type": "code",
   "execution_count": null,
   "id": "3301af25",
   "metadata": {},
   "outputs": [],
   "source": [
    "lst"
   ]
  },
  {
   "cell_type": "code",
   "execution_count": null,
   "id": "a625982e",
   "metadata": {},
   "outputs": [],
   "source": [
    "lst.sort(reverse=True)"
   ]
  },
  {
   "cell_type": "code",
   "execution_count": null,
   "id": "7b16bbf7",
   "metadata": {},
   "outputs": [],
   "source": [
    "lst"
   ]
  },
  {
   "cell_type": "code",
   "execution_count": null,
   "id": "d9fa3828",
   "metadata": {},
   "outputs": [],
   "source": [
    "'8' in lst"
   ]
  },
  {
   "cell_type": "code",
   "execution_count": null,
   "id": "f3cc52a2",
   "metadata": {},
   "outputs": [],
   "source": [
    "8 in lst"
   ]
  },
  {
   "cell_type": "code",
   "execution_count": null,
   "id": "12f4d124",
   "metadata": {},
   "outputs": [],
   "source": [
    "25 not in lst"
   ]
  },
  {
   "cell_type": "code",
   "execution_count": null,
   "id": "fb561d6a",
   "metadata": {},
   "outputs": [],
   "source": [
    "lst.append([10,20,30])"
   ]
  },
  {
   "cell_type": "code",
   "execution_count": null,
   "id": "c44490b1",
   "metadata": {},
   "outputs": [],
   "source": [
    "lst"
   ]
  },
  {
   "cell_type": "code",
   "execution_count": null,
   "id": "f2021201",
   "metadata": {},
   "outputs": [],
   "source": [
    "lst.extend([15,16,17])"
   ]
  },
  {
   "cell_type": "code",
   "execution_count": null,
   "id": "b3795169",
   "metadata": {},
   "outputs": [],
   "source": [
    "lst"
   ]
  },
  {
   "cell_type": "code",
   "execution_count": null,
   "id": "0f304afb",
   "metadata": {},
   "outputs": [],
   "source": [
    "lst + [14,17,18]"
   ]
  },
  {
   "cell_type": "code",
   "execution_count": null,
   "id": "c5f9a163",
   "metadata": {},
   "outputs": [],
   "source": [
    "lst2 = [23,25,23.36,25.369,'machine learning', [1,2,3], (1,5,6), 6+7j]"
   ]
  },
  {
   "cell_type": "code",
   "execution_count": null,
   "id": "1c92d726",
   "metadata": {},
   "outputs": [],
   "source": [
    "type(lst2)"
   ]
  },
  {
   "cell_type": "code",
   "execution_count": null,
   "id": "760ebb97",
   "metadata": {},
   "outputs": [],
   "source": [
    "len(lst2)"
   ]
  },
  {
   "cell_type": "code",
   "execution_count": null,
   "id": "14e20063",
   "metadata": {},
   "outputs": [],
   "source": [
    "lst2.sort()"
   ]
  },
  {
   "cell_type": "code",
   "execution_count": null,
   "id": "534fa4fb",
   "metadata": {},
   "outputs": [],
   "source": [
    "lst2.reverse()"
   ]
  },
  {
   "cell_type": "code",
   "execution_count": null,
   "id": "8dbe5e9b",
   "metadata": {},
   "outputs": [],
   "source": [
    "lst2"
   ]
  },
  {
   "cell_type": "code",
   "execution_count": null,
   "id": "a3e50428",
   "metadata": {},
   "outputs": [],
   "source": [
    "s = \"This course belongs to Coding Minutes.\""
   ]
  },
  {
   "cell_type": "code",
   "execution_count": null,
   "id": "2e0af88f",
   "metadata": {},
   "outputs": [],
   "source": [
    "s = s.split()"
   ]
  },
  {
   "cell_type": "code",
   "execution_count": null,
   "id": "6eff06f5",
   "metadata": {},
   "outputs": [],
   "source": [
    "s"
   ]
  },
  {
   "cell_type": "code",
   "execution_count": null,
   "id": "75b73e06",
   "metadata": {},
   "outputs": [],
   "source": [
    "'--'.join(s)"
   ]
  },
  {
   "cell_type": "code",
   "execution_count": null,
   "id": "731ea112",
   "metadata": {},
   "outputs": [],
   "source": [
    "lst2"
   ]
  },
  {
   "cell_type": "code",
   "execution_count": null,
   "id": "5630a121",
   "metadata": {},
   "outputs": [],
   "source": [
    "for i in lst2:\n",
    "    print(i*2)"
   ]
  },
  {
   "cell_type": "code",
   "execution_count": null,
   "id": "c48e287d",
   "metadata": {},
   "outputs": [],
   "source": [
    "my_list = list(range(1,11))"
   ]
  },
  {
   "cell_type": "code",
   "execution_count": null,
   "id": "46bb36e8",
   "metadata": {},
   "outputs": [],
   "source": [
    "lst3 = []\n",
    "\n",
    "for i in my_list:\n",
    "    if i%2==0:\n",
    "        lst3.append(i**2)\n",
    "    else:\n",
    "        lst3.append(i**3)\n",
    "        \n",
    "print(lst3)\n",
    "   "
   ]
  },
  {
   "cell_type": "code",
   "execution_count": null,
   "id": "6a7bb015",
   "metadata": {},
   "outputs": [],
   "source": [
    "[i**2 for i in my_list if i%2==0]"
   ]
  },
  {
   "cell_type": "code",
   "execution_count": null,
   "id": "fbf1fbe7",
   "metadata": {},
   "outputs": [],
   "source": [
    "[i**2 if i%2==0 else i**3 for i in my_list]"
   ]
  },
  {
   "cell_type": "code",
   "execution_count": null,
   "id": "690e0457",
   "metadata": {},
   "outputs": [],
   "source": [
    "lst4 = [[1,2,3], [4,5,6], [7,8,9], [10,11,12]]"
   ]
  },
  {
   "cell_type": "code",
   "execution_count": null,
   "id": "0c9dd557",
   "metadata": {},
   "outputs": [],
   "source": [
    "lst4[1][1]"
   ]
  },
  {
   "cell_type": "code",
   "execution_count": null,
   "id": "0222427a",
   "metadata": {},
   "outputs": [],
   "source": [
    "lst4[2][-1]"
   ]
  },
  {
   "cell_type": "code",
   "execution_count": null,
   "id": "f9b11254",
   "metadata": {},
   "outputs": [],
   "source": [
    "A = [[1,2],\n",
    "    [3,4]]\n",
    "\n",
    "B = [[5,6],\n",
    "    [7,8]]"
   ]
  },
  {
   "cell_type": "code",
   "execution_count": null,
   "id": "2d5dba77",
   "metadata": {},
   "outputs": [],
   "source": [
    "C = [[None, None], \n",
    "    [None, None]]\n",
    "\n",
    "for i in range(2):\n",
    "    for j in range(2):\n",
    "        C[i][j] = A[i][j]+B[i][j]"
   ]
  },
  {
   "cell_type": "code",
   "execution_count": null,
   "id": "f31293c5",
   "metadata": {},
   "outputs": [],
   "source": [
    "C"
   ]
  },
  {
   "cell_type": "code",
   "execution_count": null,
   "id": "37f7feba",
   "metadata": {},
   "outputs": [],
   "source": [
    "[[None]*10]*10"
   ]
  },
  {
   "cell_type": "code",
   "execution_count": null,
   "id": "44ad7731",
   "metadata": {},
   "outputs": [],
   "source": [
    "lst = [1,2,3,4,5]\n",
    "\n",
    "abc = lst.copy()\n",
    "\n",
    "abc.append(25)\n",
    "\n",
    "print(lst)\n",
    "print(abc)"
   ]
  },
  {
   "cell_type": "code",
   "execution_count": null,
   "id": "12a95dec",
   "metadata": {},
   "outputs": [],
   "source": [
    "lst = [3,5,2,7,8,9]\n",
    "steps = 6"
   ]
  },
  {
   "cell_type": "code",
   "execution_count": null,
   "id": "537b7b0f",
   "metadata": {},
   "outputs": [],
   "source": [
    "n = len(lst)"
   ]
  },
  {
   "cell_type": "code",
   "execution_count": null,
   "id": "370dab21",
   "metadata": {},
   "outputs": [],
   "source": [
    "for _ in range(steps):\n",
    "    key = lst[-1]\n",
    "    for i in range(n-1,0,-1):\n",
    "        lst[i] = lst[i-1]\n",
    "    lst[0] = key\n",
    "    "
   ]
  },
  {
   "cell_type": "code",
   "execution_count": null,
   "id": "3cf027d4",
   "metadata": {},
   "outputs": [],
   "source": [
    "lst"
   ]
  },
  {
   "cell_type": "code",
   "execution_count": null,
   "id": "cb979943",
   "metadata": {},
   "outputs": [],
   "source": [
    "lst = [3,5,2,7,8,9]\n",
    "steps = 6\n",
    "\n",
    "\n",
    "for _ in range(steps):\n",
    "    key =  lst[-1]\n",
    "    for i in range(n-1, 0 , -1):\n",
    "        lst[i] =  lst[i-1]\n",
    "        \n",
    "    lst[0] = key"
   ]
  },
  {
   "cell_type": "code",
   "execution_count": null,
   "id": "29ceeed1",
   "metadata": {},
   "outputs": [],
   "source": [
    "lst"
   ]
  },
  {
   "cell_type": "code",
   "execution_count": null,
   "id": "20400de2",
   "metadata": {},
   "outputs": [],
   "source": [
    "t = tuple()"
   ]
  },
  {
   "cell_type": "code",
   "execution_count": null,
   "id": "7c0dcbab",
   "metadata": {},
   "outputs": [],
   "source": [
    "type(t)"
   ]
  },
  {
   "cell_type": "code",
   "execution_count": null,
   "id": "b4b76e96",
   "metadata": {},
   "outputs": [],
   "source": [
    "t = ()"
   ]
  },
  {
   "cell_type": "code",
   "execution_count": null,
   "id": "1e57a682",
   "metadata": {},
   "outputs": [],
   "source": [
    "type(t)"
   ]
  },
  {
   "cell_type": "code",
   "execution_count": null,
   "id": "a34c8538",
   "metadata": {},
   "outputs": [],
   "source": [
    "t = (23,23.36,5+3j,'nlp', [1,2,3], (2,3,5))"
   ]
  },
  {
   "cell_type": "code",
   "execution_count": null,
   "id": "4f9690a1",
   "metadata": {},
   "outputs": [],
   "source": [
    "type(t)"
   ]
  },
  {
   "cell_type": "code",
   "execution_count": null,
   "id": "2faad2d9",
   "metadata": {},
   "outputs": [],
   "source": [
    "t = ('mohit',)"
   ]
  },
  {
   "cell_type": "code",
   "execution_count": null,
   "id": "afdf3365",
   "metadata": {},
   "outputs": [],
   "source": [
    "type(t)"
   ]
  },
  {
   "cell_type": "code",
   "execution_count": null,
   "id": "6164dd86",
   "metadata": {},
   "outputs": [],
   "source": [
    "t = 'sanjay',"
   ]
  },
  {
   "cell_type": "code",
   "execution_count": null,
   "id": "486069cb",
   "metadata": {},
   "outputs": [],
   "source": [
    "type(t)"
   ]
  },
  {
   "cell_type": "code",
   "execution_count": null,
   "id": "63962bd2",
   "metadata": {},
   "outputs": [],
   "source": [
    "t "
   ]
  },
  {
   "cell_type": "code",
   "execution_count": null,
   "id": "918560be",
   "metadata": {},
   "outputs": [],
   "source": [
    "t = (23,23.36,5+3j,'nlp', [1,2,3], (2,3,5))"
   ]
  },
  {
   "cell_type": "code",
   "execution_count": null,
   "id": "ffc48edc",
   "metadata": {},
   "outputs": [],
   "source": [
    "t"
   ]
  },
  {
   "cell_type": "code",
   "execution_count": null,
   "id": "a40b9ca4",
   "metadata": {},
   "outputs": [],
   "source": [
    "t[0]"
   ]
  },
  {
   "cell_type": "code",
   "execution_count": null,
   "id": "592e83d6",
   "metadata": {},
   "outputs": [],
   "source": [
    "t[-1]"
   ]
  },
  {
   "cell_type": "code",
   "execution_count": null,
   "id": "c285b00a",
   "metadata": {},
   "outputs": [],
   "source": [
    "t[:-1]"
   ]
  },
  {
   "cell_type": "code",
   "execution_count": null,
   "id": "dc8d6751",
   "metadata": {},
   "outputs": [],
   "source": [
    "t[:]"
   ]
  },
  {
   "cell_type": "code",
   "execution_count": null,
   "id": "29e6000b",
   "metadata": {},
   "outputs": [],
   "source": [
    "t[::-1]"
   ]
  },
  {
   "cell_type": "code",
   "execution_count": null,
   "id": "d03db6a1",
   "metadata": {},
   "outputs": [],
   "source": [
    "t[0]"
   ]
  },
  {
   "cell_type": "code",
   "execution_count": null,
   "id": "2ac96af8",
   "metadata": {},
   "outputs": [],
   "source": [
    "t[0] = 123"
   ]
  },
  {
   "cell_type": "code",
   "execution_count": null,
   "id": "324b0f66",
   "metadata": {},
   "outputs": [],
   "source": [
    "lst = ['mohit', 'prateek', 'rohit']\n",
    "\n",
    "tup = (20, 30, lst, (1, 2, 3), 104.0)"
   ]
  },
  {
   "cell_type": "code",
   "execution_count": null,
   "id": "bef9afa7",
   "metadata": {},
   "outputs": [],
   "source": [
    "tup[2][1] = 'sanjay'"
   ]
  },
  {
   "cell_type": "code",
   "execution_count": null,
   "id": "82927e1d",
   "metadata": {},
   "outputs": [],
   "source": [
    "tup"
   ]
  },
  {
   "cell_type": "code",
   "execution_count": null,
   "id": "50a0e0df",
   "metadata": {},
   "outputs": [],
   "source": [
    "t"
   ]
  },
  {
   "cell_type": "code",
   "execution_count": null,
   "id": "b311463d",
   "metadata": {},
   "outputs": [],
   "source": [
    "for i in t:\n",
    "    print(i)"
   ]
  },
  {
   "cell_type": "code",
   "execution_count": null,
   "id": "aa92ee8c",
   "metadata": {},
   "outputs": [],
   "source": [
    "t1 = (1,2,3) \n",
    "t2 = (4,5,6)"
   ]
  },
  {
   "cell_type": "code",
   "execution_count": null,
   "id": "e526688b",
   "metadata": {},
   "outputs": [],
   "source": [
    "t1+t2"
   ]
  },
  {
   "cell_type": "code",
   "execution_count": null,
   "id": "b2bedb5a",
   "metadata": {},
   "outputs": [],
   "source": [
    "type((0))"
   ]
  },
  {
   "cell_type": "code",
   "execution_count": null,
   "id": "105871e0",
   "metadata": {},
   "outputs": [],
   "source": [
    "(0,)*10"
   ]
  },
  {
   "cell_type": "code",
   "execution_count": null,
   "id": "1ac16bad",
   "metadata": {},
   "outputs": [],
   "source": [
    "t = (1,2,3,4,5,6)"
   ]
  },
  {
   "cell_type": "code",
   "execution_count": null,
   "id": "46d3375f",
   "metadata": {},
   "outputs": [],
   "source": [
    "del t"
   ]
  },
  {
   "cell_type": "code",
   "execution_count": null,
   "id": "c7e10b37",
   "metadata": {},
   "outputs": [],
   "source": [
    "t"
   ]
  },
  {
   "cell_type": "code",
   "execution_count": null,
   "id": "1850811f",
   "metadata": {},
   "outputs": [],
   "source": [
    "my_set = {9,7,7,1,8,9,7,5,1}"
   ]
  },
  {
   "cell_type": "code",
   "execution_count": null,
   "id": "d909f751",
   "metadata": {},
   "outputs": [],
   "source": [
    "my_set"
   ]
  },
  {
   "cell_type": "code",
   "execution_count": null,
   "id": "9f459889",
   "metadata": {},
   "outputs": [],
   "source": [
    "type(my_set)"
   ]
  },
  {
   "cell_type": "code",
   "execution_count": null,
   "id": "7b73f4b4",
   "metadata": {},
   "outputs": [],
   "source": [
    "my_set.add(1000)"
   ]
  },
  {
   "cell_type": "code",
   "execution_count": null,
   "id": "93941e55",
   "metadata": {},
   "outputs": [],
   "source": [
    "my_set"
   ]
  },
  {
   "cell_type": "code",
   "execution_count": null,
   "id": "53565833",
   "metadata": {},
   "outputs": [],
   "source": [
    "my_set.add(11)\n",
    "my_set.add(11)\n",
    "my_set.add(11)\n",
    "my_set.add(11)"
   ]
  },
  {
   "cell_type": "code",
   "execution_count": null,
   "id": "f3a59cf2",
   "metadata": {},
   "outputs": [],
   "source": [
    "my_set"
   ]
  },
  {
   "cell_type": "code",
   "execution_count": null,
   "id": "867a0b3b",
   "metadata": {},
   "outputs": [],
   "source": [
    "my_set.remove(9)"
   ]
  },
  {
   "cell_type": "code",
   "execution_count": null,
   "id": "84db62c1",
   "metadata": {},
   "outputs": [],
   "source": [
    "my_set"
   ]
  },
  {
   "cell_type": "code",
   "execution_count": null,
   "id": "c13bc3f8",
   "metadata": {},
   "outputs": [],
   "source": [
    "my_set.remove(1000)"
   ]
  },
  {
   "cell_type": "code",
   "execution_count": null,
   "id": "251825ba",
   "metadata": {},
   "outputs": [],
   "source": [
    "my_set"
   ]
  },
  {
   "cell_type": "code",
   "execution_count": null,
   "id": "f18e03f7",
   "metadata": {},
   "outputs": [],
   "source": [
    "my_set.remove(1000)"
   ]
  },
  {
   "cell_type": "code",
   "execution_count": null,
   "id": "4cadf75c",
   "metadata": {},
   "outputs": [],
   "source": [
    "my_set.discard(1000)"
   ]
  },
  {
   "cell_type": "code",
   "execution_count": null,
   "id": "c43cd2cd",
   "metadata": {},
   "outputs": [],
   "source": [
    "my_set[0]"
   ]
  },
  {
   "cell_type": "code",
   "execution_count": null,
   "id": "fe3814f6",
   "metadata": {},
   "outputs": [],
   "source": [
    "my_set.update([10,12,13,5])"
   ]
  },
  {
   "cell_type": "code",
   "execution_count": null,
   "id": "619b01ca",
   "metadata": {},
   "outputs": [],
   "source": [
    "my_set"
   ]
  },
  {
   "cell_type": "code",
   "execution_count": null,
   "id": "9d758809",
   "metadata": {},
   "outputs": [],
   "source": [
    "s1 = {1, 3, 4, 5, 8}\n",
    "s2 = {4, 5, 6, 7, 1, 9}"
   ]
  },
  {
   "cell_type": "code",
   "execution_count": null,
   "id": "8b8f41da",
   "metadata": {},
   "outputs": [],
   "source": [
    "s1.union(s2)"
   ]
  },
  {
   "cell_type": "code",
   "execution_count": null,
   "id": "3947bdf7",
   "metadata": {},
   "outputs": [],
   "source": [
    "s1.intersection(s2)"
   ]
  },
  {
   "cell_type": "code",
   "execution_count": null,
   "id": "02b2ea4a",
   "metadata": {},
   "outputs": [],
   "source": [
    "s1|s2"
   ]
  },
  {
   "cell_type": "code",
   "execution_count": null,
   "id": "6d79767f",
   "metadata": {},
   "outputs": [],
   "source": [
    "s1&s2"
   ]
  },
  {
   "cell_type": "code",
   "execution_count": null,
   "id": "515a31c9",
   "metadata": {},
   "outputs": [],
   "source": [
    "s1-s2"
   ]
  },
  {
   "cell_type": "code",
   "execution_count": null,
   "id": "9dcffef9",
   "metadata": {},
   "outputs": [],
   "source": [
    "s2-s1"
   ]
  },
  {
   "cell_type": "code",
   "execution_count": null,
   "id": "b38bfbc9",
   "metadata": {},
   "outputs": [],
   "source": [
    "s1.difference(s2)"
   ]
  },
  {
   "cell_type": "code",
   "execution_count": null,
   "id": "bc42482b",
   "metadata": {},
   "outputs": [],
   "source": [
    "s1.symmetric_difference(s2)"
   ]
  },
  {
   "cell_type": "code",
   "execution_count": null,
   "id": "630bf4e0",
   "metadata": {},
   "outputs": [],
   "source": [
    "(s1|s2) - (s1&s2)"
   ]
  },
  {
   "cell_type": "code",
   "execution_count": null,
   "id": "fd924c6b",
   "metadata": {},
   "outputs": [],
   "source": [
    "\n",
    "some_list = [6,3,7,6,4,1,0,9,2,1,0,8,6,4,7]"
   ]
  },
  {
   "cell_type": "code",
   "execution_count": null,
   "id": "a0116338",
   "metadata": {},
   "outputs": [],
   "source": [
    "some_list = set(some_list)"
   ]
  },
  {
   "cell_type": "code",
   "execution_count": null,
   "id": "2ff9f6c3",
   "metadata": {},
   "outputs": [],
   "source": [
    "some_list = list(some_list)"
   ]
  },
  {
   "cell_type": "code",
   "execution_count": null,
   "id": "4b390940",
   "metadata": {},
   "outputs": [],
   "source": [
    "some_list"
   ]
  },
  {
   "cell_type": "code",
   "execution_count": null,
   "id": "95842b3a",
   "metadata": {},
   "outputs": [],
   "source": [
    "7 in {2,4,5,7,1,6,3,10}"
   ]
  },
  {
   "cell_type": "code",
   "execution_count": null,
   "id": "c9e1048c",
   "metadata": {},
   "outputs": [],
   "source": [
    "7 not in {2,4,5,7,1,6,3,10}"
   ]
  },
  {
   "cell_type": "code",
   "execution_count": null,
   "id": "e0c6b0de",
   "metadata": {},
   "outputs": [],
   "source": [
    "dic = {}"
   ]
  },
  {
   "cell_type": "code",
   "execution_count": null,
   "id": "fcdafb99",
   "metadata": {},
   "outputs": [],
   "source": [
    "type(dic)"
   ]
  },
  {
   "cell_type": "code",
   "execution_count": null,
   "id": "b0059c34",
   "metadata": {},
   "outputs": [],
   "source": [
    "dic = dict()"
   ]
  },
  {
   "cell_type": "code",
   "execution_count": null,
   "id": "bd4af962",
   "metadata": {},
   "outputs": [],
   "source": [
    "type(dic)"
   ]
  },
  {
   "cell_type": "code",
   "execution_count": null,
   "id": "5313fb24",
   "metadata": {},
   "outputs": [],
   "source": [
    "dic = dict([(1,'abc'),(2, 'xyz')])"
   ]
  },
  {
   "cell_type": "code",
   "execution_count": null,
   "id": "3c66edc5",
   "metadata": {},
   "outputs": [],
   "source": [
    "dic"
   ]
  },
  {
   "cell_type": "code",
   "execution_count": null,
   "id": "b38e3d4e",
   "metadata": {},
   "outputs": [],
   "source": [
    "type(dic)"
   ]
  },
  {
   "cell_type": "code",
   "execution_count": null,
   "id": "5aa24feb",
   "metadata": {},
   "outputs": [],
   "source": [
    "user_info = {'name':'sanjay',\n",
    "            'age':25,\n",
    "            'gender':'male',\n",
    "            'natinality':'indian'}"
   ]
  },
  {
   "cell_type": "code",
   "execution_count": null,
   "id": "81f42257",
   "metadata": {},
   "outputs": [],
   "source": [
    "user_info"
   ]
  },
  {
   "cell_type": "code",
   "execution_count": null,
   "id": "451fc84c",
   "metadata": {},
   "outputs": [],
   "source": [
    "type(user_info)"
   ]
  },
  {
   "cell_type": "code",
   "execution_count": null,
   "id": "8fb2c26e",
   "metadata": {},
   "outputs": [],
   "source": [
    "user_info['name']"
   ]
  },
  {
   "cell_type": "code",
   "execution_count": null,
   "id": "90cd6337",
   "metadata": {},
   "outputs": [],
   "source": [
    "user_info['natinality']"
   ]
  },
  {
   "cell_type": "code",
   "execution_count": null,
   "id": "5edf1e10",
   "metadata": {},
   "outputs": [],
   "source": [
    "user_info['hobby']"
   ]
  },
  {
   "cell_type": "code",
   "execution_count": null,
   "id": "7f4f4767",
   "metadata": {},
   "outputs": [],
   "source": [
    "user_info.get('hobby')"
   ]
  },
  {
   "cell_type": "code",
   "execution_count": null,
   "id": "42a727c0",
   "metadata": {},
   "outputs": [],
   "source": [
    "user_info.get('age')"
   ]
  },
  {
   "cell_type": "code",
   "execution_count": null,
   "id": "afc02f0d",
   "metadata": {},
   "outputs": [],
   "source": [
    "user_info"
   ]
  },
  {
   "cell_type": "code",
   "execution_count": null,
   "id": "a2facb16",
   "metadata": {},
   "outputs": [],
   "source": [
    "user_info['hobby'] = ['Singing', 'Cricket', 'Coding']"
   ]
  },
  {
   "cell_type": "code",
   "execution_count": null,
   "id": "74dfd37c",
   "metadata": {},
   "outputs": [],
   "source": [
    "print(user_info)"
   ]
  },
  {
   "cell_type": "code",
   "execution_count": null,
   "id": "cca69269",
   "metadata": {},
   "outputs": [],
   "source": [
    "user_info['hobby']"
   ]
  },
  {
   "cell_type": "code",
   "execution_count": null,
   "id": "7718e6c5",
   "metadata": {},
   "outputs": [],
   "source": [
    "user_info['name'] = 'kumar'"
   ]
  },
  {
   "cell_type": "code",
   "execution_count": null,
   "id": "5b3dae08",
   "metadata": {},
   "outputs": [],
   "source": [
    "user_info"
   ]
  },
  {
   "cell_type": "code",
   "execution_count": null,
   "id": "ed4994ae",
   "metadata": {},
   "outputs": [],
   "source": [
    "user_info.keys()"
   ]
  },
  {
   "cell_type": "code",
   "execution_count": null,
   "id": "81d2aca0",
   "metadata": {},
   "outputs": [],
   "source": [
    "user_info.values()"
   ]
  },
  {
   "cell_type": "code",
   "execution_count": null,
   "id": "b13b71bd",
   "metadata": {},
   "outputs": [],
   "source": [
    "user_info.items()"
   ]
  },
  {
   "cell_type": "code",
   "execution_count": null,
   "id": "722fa4b2",
   "metadata": {},
   "outputs": [],
   "source": [
    "for k,v in user_info.items():\n",
    "    print(k, \":\" , v)"
   ]
  },
  {
   "cell_type": "code",
   "execution_count": null,
   "id": "5422685e",
   "metadata": {},
   "outputs": [],
   "source": [
    "for i in user_info:\n",
    "    print(i, \":\", user_info[i])"
   ]
  },
  {
   "cell_type": "code",
   "execution_count": null,
   "id": "1f8b394b",
   "metadata": {},
   "outputs": [],
   "source": [
    "hash(566)"
   ]
  },
  {
   "cell_type": "code",
   "execution_count": null,
   "id": "95cf28e4",
   "metadata": {},
   "outputs": [],
   "source": [
    "hash(\"python\")"
   ]
  },
  {
   "cell_type": "code",
   "execution_count": null,
   "id": "59eebcb6",
   "metadata": {},
   "outputs": [],
   "source": [
    "hash( (4,5,6) )"
   ]
  },
  {
   "cell_type": "code",
   "execution_count": null,
   "id": "01de1e6d",
   "metadata": {},
   "outputs": [],
   "source": [
    "hash( [4,5,6] )"
   ]
  },
  {
   "cell_type": "code",
   "execution_count": null,
   "id": "860337a6",
   "metadata": {},
   "outputs": [],
   "source": [
    "\n",
    "hash('python')"
   ]
  },
  {
   "cell_type": "code",
   "execution_count": null,
   "id": "14c44d19",
   "metadata": {},
   "outputs": [],
   "source": [
    "\n",
    "user_info"
   ]
  },
  {
   "cell_type": "code",
   "execution_count": null,
   "id": "eb43a46d",
   "metadata": {},
   "outputs": [],
   "source": [
    "user_info.pop('           sanjay          ')"
   ]
  },
  {
   "cell_type": "code",
   "execution_count": null,
   "id": "71b490d6",
   "metadata": {},
   "outputs": [],
   "source": [
    "user_info"
   ]
  },
  {
   "cell_type": "code",
   "execution_count": null,
   "id": "5f984474",
   "metadata": {},
   "outputs": [],
   "source": [
    "user_info.pop('gender')"
   ]
  },
  {
   "cell_type": "code",
   "execution_count": null,
   "id": "02b4c700",
   "metadata": {},
   "outputs": [],
   "source": [
    "user_info"
   ]
  },
  {
   "cell_type": "code",
   "execution_count": null,
   "id": "1d28d53c",
   "metadata": {},
   "outputs": [],
   "source": [
    "del user_info['age']"
   ]
  },
  {
   "cell_type": "code",
   "execution_count": null,
   "id": "b1319ec5",
   "metadata": {},
   "outputs": [],
   "source": [
    "user_info"
   ]
  },
  {
   "cell_type": "code",
   "execution_count": null,
   "id": "995a3fbd",
   "metadata": {},
   "outputs": [],
   "source": [
    "del user_info"
   ]
  },
  {
   "cell_type": "code",
   "execution_count": null,
   "id": "ab60d154",
   "metadata": {},
   "outputs": [],
   "source": [
    "canteen_menu = {'samosa':15,\n",
    "               'pizza':50,\n",
    "               'burger':120,\n",
    "               'fruits':{'apple':140,\"mango\":160,\"banana\":40},\n",
    "               'chinease':150}"
   ]
  },
  {
   "cell_type": "code",
   "execution_count": null,
   "id": "12aa57df",
   "metadata": {},
   "outputs": [],
   "source": [
    "canteen_menu"
   ]
  },
  {
   "cell_type": "code",
   "execution_count": null,
   "id": "3a7978a8",
   "metadata": {},
   "outputs": [],
   "source": [
    "type(canteen_menu)"
   ]
  },
  {
   "cell_type": "code",
   "execution_count": null,
   "id": "c36a4ba5",
   "metadata": {},
   "outputs": [],
   "source": [
    "canteen_menu['fruits']['mango']"
   ]
  },
  {
   "cell_type": "code",
   "execution_count": null,
   "id": "5dfdb7a2",
   "metadata": {},
   "outputs": [],
   "source": [
    "canteen_menu['juice'] = [50,100,150]"
   ]
  },
  {
   "cell_type": "code",
   "execution_count": null,
   "id": "aa54bdfd",
   "metadata": {},
   "outputs": [],
   "source": [
    "canteen_menu"
   ]
  },
  {
   "cell_type": "code",
   "execution_count": null,
   "id": "d4c04b34",
   "metadata": {},
   "outputs": [],
   "source": [
    "canteen_menu['juice'][1]"
   ]
  },
  {
   "cell_type": "code",
   "execution_count": null,
   "id": "c80d0e82",
   "metadata": {},
   "outputs": [],
   "source": [
    "d = {'a' :1, 'b': 2, 'c': 3, 'd':4}"
   ]
  },
  {
   "cell_type": "code",
   "execution_count": null,
   "id": "1d2f948c",
   "metadata": {},
   "outputs": [],
   "source": [
    "for k,v in d.items():\n",
    "    print(k, \":\", v)"
   ]
  },
  {
   "cell_type": "code",
   "execution_count": null,
   "id": "9b69fd2d",
   "metadata": {},
   "outputs": [],
   "source": [
    "{k+'z': v**3 for k,v in d.items() if v>=2}"
   ]
  },
  {
   "cell_type": "code",
   "execution_count": null,
   "id": "c0e728c7",
   "metadata": {},
   "outputs": [],
   "source": [
    "d = {'a' :1, 'b': 2, 'c': 3, 'd':4}\n",
    "\n",
    "rev_d = {}\n",
    "\n",
    "for k,v in d.items():\n",
    "    rev_d[v] = k\n",
    "print(rev_d)"
   ]
  },
  {
   "cell_type": "code",
   "execution_count": null,
   "id": "49e20bb6",
   "metadata": {},
   "outputs": [],
   "source": [
    "{v:k for k,v in d.items()}"
   ]
  },
  {
   "cell_type": "code",
   "execution_count": null,
   "id": "ae9cdb00",
   "metadata": {},
   "outputs": [],
   "source": [
    "d = {'a' :1, 'b': 2, 'c': 3, 'd':4}\n",
    "\n",
    "rev_d = {}\n",
    "\n",
    "for k,v in d.items():\n",
    "    rev_d[v] = k\n",
    "    \n",
    "print(rev_d)"
   ]
  },
  {
   "cell_type": "code",
   "execution_count": null,
   "id": "b46ce3d8",
   "metadata": {},
   "outputs": [],
   "source": [
    "# Functions And Modules"
   ]
  },
  {
   "cell_type": "code",
   "execution_count": null,
   "id": "af7524dd",
   "metadata": {},
   "outputs": [],
   "source": [
    "abs?"
   ]
  },
  {
   "cell_type": "code",
   "execution_count": null,
   "id": "90633146",
   "metadata": {},
   "outputs": [],
   "source": [
    "def greeting(name):\n",
    "    \"\"\"This function will greet you\"\"\"\n",
    "    print('Good Morning', name)"
   ]
  },
  {
   "cell_type": "code",
   "execution_count": null,
   "id": "6304ad59",
   "metadata": {},
   "outputs": [],
   "source": [
    "greeting('Sanjay')"
   ]
  },
  {
   "cell_type": "code",
   "execution_count": null,
   "id": "006a63aa",
   "metadata": {},
   "outputs": [],
   "source": [
    "print(greeting)"
   ]
  },
  {
   "cell_type": "code",
   "execution_count": null,
   "id": "960d16d4",
   "metadata": {},
   "outputs": [],
   "source": [
    "type(greeting)"
   ]
  },
  {
   "cell_type": "code",
   "execution_count": null,
   "id": "ffaf6b94",
   "metadata": {},
   "outputs": [],
   "source": [
    "greeting('Prateek')"
   ]
  },
  {
   "cell_type": "code",
   "execution_count": null,
   "id": "5b55a050",
   "metadata": {},
   "outputs": [],
   "source": [
    "greeting.__doc__"
   ]
  },
  {
   "cell_type": "code",
   "execution_count": null,
   "id": "9e076bd3",
   "metadata": {},
   "outputs": [],
   "source": [
    "def add(a,b):\n",
    "    \"\"\"This function will add 2 numbers\"\"\"\n",
    "    c = a+b\n",
    "    return c"
   ]
  },
  {
   "cell_type": "code",
   "execution_count": null,
   "id": "912d19ca",
   "metadata": {},
   "outputs": [],
   "source": [
    "my_sum  = add(5,7)"
   ]
  },
  {
   "cell_type": "code",
   "execution_count": null,
   "id": "0f9a9331",
   "metadata": {},
   "outputs": [],
   "source": [
    "print(my_sum)"
   ]
  },
  {
   "cell_type": "code",
   "execution_count": null,
   "id": "310d12dc",
   "metadata": {},
   "outputs": [],
   "source": [
    "def product(lst):\n",
    "    \"\"\"\n",
    "    lst : It is a list\n",
    "    return: product of all elements inside a list\n",
    "    \n",
    "    \"\"\"\n",
    "    p = 1\n",
    "    \n",
    "    for i in lst:\n",
    "        p*=i\n",
    "        \n",
    "    return p"
   ]
  },
  {
   "cell_type": "code",
   "execution_count": null,
   "id": "b53dc058",
   "metadata": {},
   "outputs": [],
   "source": [
    "lst = [1,2,3,4,5]"
   ]
  },
  {
   "cell_type": "code",
   "execution_count": null,
   "id": "7fd00d5f",
   "metadata": {},
   "outputs": [],
   "source": [
    "product(lst)"
   ]
  },
  {
   "cell_type": "code",
   "execution_count": null,
   "id": "7e4b06ed",
   "metadata": {},
   "outputs": [],
   "source": [
    "\n",
    "lst2 = [3,7,9,10,5]"
   ]
  },
  {
   "cell_type": "code",
   "execution_count": null,
   "id": "0cea61a9",
   "metadata": {},
   "outputs": [],
   "source": [
    "product(lst2)"
   ]
  },
  {
   "cell_type": "code",
   "execution_count": null,
   "id": "be56dcb5",
   "metadata": {},
   "outputs": [],
   "source": [
    "def calculator(a,b):\n",
    "    \"\"\"calculates and returns 4 basic operations \"\"\"\n",
    "    return a+b, a-b, a*b, a/b"
   ]
  },
  {
   "cell_type": "code",
   "execution_count": null,
   "id": "65bd8205",
   "metadata": {},
   "outputs": [],
   "source": [
    "calculator(12,15)"
   ]
  },
  {
   "cell_type": "code",
   "execution_count": null,
   "id": "2a8b6478",
   "metadata": {},
   "outputs": [],
   "source": [
    "age = 24"
   ]
  },
  {
   "cell_type": "code",
   "execution_count": null,
   "id": "87a0f997",
   "metadata": {},
   "outputs": [],
   "source": [
    "\n",
    "print(age)"
   ]
  },
  {
   "cell_type": "code",
   "execution_count": null,
   "id": "afe82b09",
   "metadata": {},
   "outputs": [],
   "source": [
    "age"
   ]
  },
  {
   "cell_type": "code",
   "execution_count": null,
   "id": "3df3083a",
   "metadata": {},
   "outputs": [],
   "source": [
    "globals()['age'] = 27"
   ]
  },
  {
   "cell_type": "code",
   "execution_count": null,
   "id": "43ca88ab",
   "metadata": {},
   "outputs": [],
   "source": [
    "age"
   ]
  },
  {
   "cell_type": "code",
   "execution_count": null,
   "id": "11d0cdab",
   "metadata": {},
   "outputs": [],
   "source": [
    "age = 29"
   ]
  },
  {
   "cell_type": "code",
   "execution_count": null,
   "id": "a1cf0878",
   "metadata": {},
   "outputs": [],
   "source": [
    "age"
   ]
  },
  {
   "cell_type": "code",
   "execution_count": null,
   "id": "7b8b968c",
   "metadata": {},
   "outputs": [],
   "source": [
    "global_var = 100\n",
    "\n",
    "def test():\n",
    "    local_var = 55\n",
    "    print(global_var)\n",
    "    print(local_var)\n",
    "    \n",
    "test()\n",
    "print(global_var)\n",
    "print(local_var)"
   ]
  },
  {
   "cell_type": "code",
   "execution_count": null,
   "id": "73d5c0b2",
   "metadata": {},
   "outputs": [],
   "source": [
    "x = 45\n",
    "\n",
    "def test():\n",
    "    global x\n",
    "    x = 22\n",
    "    print(x)\n",
    "    \n",
    "test()\n",
    "print(x)"
   ]
  },
  {
   "cell_type": "code",
   "execution_count": null,
   "id": "1a41a333",
   "metadata": {},
   "outputs": [],
   "source": [
    "x = 45\n",
    "\n",
    "def test():\n",
    "    x = 22\n",
    "    print(x)\n",
    "    \n",
    "test()\n",
    "print(x)"
   ]
  },
  {
   "cell_type": "code",
   "execution_count": null,
   "id": "037e06d5",
   "metadata": {},
   "outputs": [],
   "source": [
    "s = lambda a,b:a+b"
   ]
  },
  {
   "cell_type": "code",
   "execution_count": null,
   "id": "12904e96",
   "metadata": {},
   "outputs": [],
   "source": [
    "s(5,7)"
   ]
  },
  {
   "cell_type": "code",
   "execution_count": null,
   "id": "7cf0c5b9",
   "metadata": {},
   "outputs": [],
   "source": [
    "func  = (lambda x,y: x+y if x+y>0 else 0)"
   ]
  },
  {
   "cell_type": "code",
   "execution_count": null,
   "id": "7f224488",
   "metadata": {},
   "outputs": [],
   "source": [
    "func(5, -40)"
   ]
  },
  {
   "cell_type": "code",
   "execution_count": null,
   "id": "e6a0d5a8",
   "metadata": {},
   "outputs": [],
   "source": [
    "names = [('Prateek', 5), ('Mohit',2), ('Abhi', 6 )]"
   ]
  },
  {
   "cell_type": "code",
   "execution_count": null,
   "id": "396e4d6a",
   "metadata": {},
   "outputs": [],
   "source": [
    "sorted(names, key=lambda x:x[1])"
   ]
  },
  {
   "cell_type": "code",
   "execution_count": null,
   "id": "06cca5da",
   "metadata": {},
   "outputs": [],
   "source": [
    "def lcm(a,b):\n",
    "    \"\"\"This function will return LCM\"\"\"\n",
    "    \n",
    "    max_num = (a if a>b else b)\n",
    "    \n",
    "    while True:\n",
    "        if (max_num%a==0) and (max_num%b==0):\n",
    "            return max_num\n",
    "        else:\n",
    "            max_num+=1"
   ]
  },
  {
   "cell_type": "code",
   "execution_count": null,
   "id": "182546d8",
   "metadata": {},
   "outputs": [],
   "source": [
    "lcm(3,5)"
   ]
  },
  {
   "cell_type": "markdown",
   "id": "87affd1a",
   "metadata": {},
   "source": [
    "lcm(2,5)"
   ]
  },
  {
   "cell_type": "code",
   "execution_count": null,
   "id": "67777c9b",
   "metadata": {},
   "outputs": [],
   "source": [
    "lcm(2,5)"
   ]
  },
  {
   "cell_type": "code",
   "execution_count": null,
   "id": "e3b74b47",
   "metadata": {},
   "outputs": [],
   "source": [
    "lcm(4,18)"
   ]
  },
  {
   "cell_type": "code",
   "execution_count": null,
   "id": "5b687fe5",
   "metadata": {},
   "outputs": [],
   "source": [
    "lcm(4,16)"
   ]
  },
  {
   "cell_type": "code",
   "execution_count": null,
   "id": "adf2e1a8",
   "metadata": {},
   "outputs": [],
   "source": [
    "def intro(name, nationality):\n",
    "    print(\"My name is\", name)\n",
    "    print(\"I'm\", nationality)"
   ]
  },
  {
   "cell_type": "code",
   "execution_count": null,
   "id": "81f301df",
   "metadata": {},
   "outputs": [],
   "source": [
    "intro('jone')"
   ]
  },
  {
   "cell_type": "code",
   "execution_count": null,
   "id": "2e962170",
   "metadata": {},
   "outputs": [],
   "source": [
    "intro(\"Mohit\", \"Indian\")"
   ]
  },
  {
   "cell_type": "code",
   "execution_count": null,
   "id": "c089ed9e",
   "metadata": {},
   "outputs": [],
   "source": [
    "intro(\"John\", \"American\")"
   ]
  },
  {
   "cell_type": "code",
   "execution_count": null,
   "id": "6af1f730",
   "metadata": {},
   "outputs": [],
   "source": [
    "\n",
    "intro(\"Indian\", \"Mohit\")"
   ]
  },
  {
   "cell_type": "code",
   "execution_count": null,
   "id": "3f24bda8",
   "metadata": {},
   "outputs": [],
   "source": [
    "def intro(name, nationality = 'Indian'):\n",
    "    print(\"My name is\", name)\n",
    "    print(\"I'm\", nationality)"
   ]
  },
  {
   "cell_type": "code",
   "execution_count": null,
   "id": "02631fde",
   "metadata": {},
   "outputs": [],
   "source": [
    "intro(\"Mohit\")"
   ]
  },
  {
   "cell_type": "code",
   "execution_count": null,
   "id": "83b670d5",
   "metadata": {},
   "outputs": [],
   "source": [
    "intro(\"John\", \"American\")"
   ]
  },
  {
   "cell_type": "code",
   "execution_count": null,
   "id": "6826cde2",
   "metadata": {},
   "outputs": [],
   "source": [
    "def test(a,b,c,d=0):\n",
    "    pass"
   ]
  },
  {
   "cell_type": "code",
   "execution_count": null,
   "id": "1ac5d0da",
   "metadata": {},
   "outputs": [],
   "source": [
    "def arg(*args):\n",
    "    print(args)\n",
    "    print(type(args))\n",
    "    \n",
    "    for i in args:\n",
    "        print(i*2)"
   ]
  },
  {
   "cell_type": "code",
   "execution_count": null,
   "id": "d12e1125",
   "metadata": {},
   "outputs": [],
   "source": [
    "arg(4,6,8, \"Mohit\", True)"
   ]
  },
  {
   "cell_type": "code",
   "execution_count": null,
   "id": "66c0a8bd",
   "metadata": {},
   "outputs": [],
   "source": [
    "def test(**kwargs):\n",
    "    print(kwargs)\n",
    "    print(type(kwargs))\n",
    "    \n",
    "    for k,v in kwargs.items():\n",
    "        print(k, \":\", v)"
   ]
  },
  {
   "cell_type": "code",
   "execution_count": null,
   "id": "f0807184",
   "metadata": {},
   "outputs": [],
   "source": [
    "test(name=\"Mohit\" , age = 24, hobby = [\"singing\", 'coding'] ,nationality = 'Indian')"
   ]
  },
  {
   "cell_type": "code",
   "execution_count": null,
   "id": "ea57cc53",
   "metadata": {},
   "outputs": [],
   "source": [
    "test(name='Prateek', age= 27, company = \"Google\" )"
   ]
  },
  {
   "cell_type": "code",
   "execution_count": null,
   "id": "a3925738",
   "metadata": {},
   "outputs": [],
   "source": [
    "def combination(a,b,c, age = 18, *args, **kwargs):\n",
    "    print(a,b,c,age)\n",
    "    print(args)\n",
    "    print(kwargs)"
   ]
  },
  {
   "cell_type": "code",
   "execution_count": null,
   "id": "aeeb7872",
   "metadata": {},
   "outputs": [],
   "source": [
    "combination(100,200, 300, 400, 500, 600, x= 78, y = 99, z = 0.0)"
   ]
  },
  {
   "cell_type": "code",
   "execution_count": null,
   "id": "c125e8a9",
   "metadata": {},
   "outputs": [],
   "source": [
    "abs(-1)"
   ]
  },
  {
   "cell_type": "code",
   "execution_count": null,
   "id": "c1b707f2",
   "metadata": {},
   "outputs": [],
   "source": [
    "round(78.92159, 5)"
   ]
  },
  {
   "cell_type": "code",
   "execution_count": null,
   "id": "fa4723a0",
   "metadata": {},
   "outputs": [],
   "source": [
    "lst = [1,2,3,4]"
   ]
  },
  {
   "cell_type": "code",
   "execution_count": null,
   "id": "599e9bf0",
   "metadata": {},
   "outputs": [],
   "source": [
    "all(lst)"
   ]
  },
  {
   "cell_type": "code",
   "execution_count": null,
   "id": "ef29f099",
   "metadata": {},
   "outputs": [],
   "source": [
    "tup = (0,2,3,4)\n",
    "all(tup)"
   ]
  },
  {
   "cell_type": "code",
   "execution_count": null,
   "id": "d68f7128",
   "metadata": {},
   "outputs": [],
   "source": [
    "lst = [False, 1, 2] \n",
    "all(lst)"
   ]
  },
  {
   "cell_type": "code",
   "execution_count": null,
   "id": "d34a3f16",
   "metadata": {},
   "outputs": [],
   "source": [
    "lst = []\n",
    "\n",
    "all(lst)"
   ]
  },
  {
   "cell_type": "code",
   "execution_count": null,
   "id": "19701799",
   "metadata": {},
   "outputs": [],
   "source": [
    "lst = [1,2,3,4]\n",
    "any(lst)"
   ]
  },
  {
   "cell_type": "code",
   "execution_count": null,
   "id": "603850eb",
   "metadata": {},
   "outputs": [],
   "source": [
    "lst = [False, 0, -1]\n",
    "any(lst)"
   ]
  },
  {
   "cell_type": "code",
   "execution_count": null,
   "id": "02f108c5",
   "metadata": {},
   "outputs": [],
   "source": [
    "lst = []         \n",
    "any(lst)"
   ]
  },
  {
   "cell_type": "code",
   "execution_count": null,
   "id": "77e4728d",
   "metadata": {},
   "outputs": [],
   "source": [
    "lst = [0]*5      \n",
    "any(lst)"
   ]
  },
  {
   "cell_type": "code",
   "execution_count": null,
   "id": "93ef9c30",
   "metadata": {},
   "outputs": [],
   "source": [
    "dir(lst)"
   ]
  },
  {
   "cell_type": "code",
   "execution_count": null,
   "id": "35c6ef7f",
   "metadata": {},
   "outputs": [],
   "source": [
    "fruits = ['apple', 'mango', 'banana', 'grapes']\n",
    "\n",
    "for idx, i in enumerate(fruits, start=10):\n",
    "    print(idx, i)"
   ]
  },
  {
   "cell_type": "code",
   "execution_count": null,
   "id": "49c7691c",
   "metadata": {},
   "outputs": [],
   "source": [
    "lst = [3,6,8,2,5,1,0]"
   ]
  },
  {
   "cell_type": "code",
   "execution_count": null,
   "id": "e5920636",
   "metadata": {},
   "outputs": [],
   "source": [
    "sum(lst)"
   ]
  },
  {
   "cell_type": "code",
   "execution_count": null,
   "id": "746c3689",
   "metadata": {},
   "outputs": [],
   "source": [
    "max(lst)"
   ]
  },
  {
   "cell_type": "code",
   "execution_count": null,
   "id": "4f122ae3",
   "metadata": {},
   "outputs": [],
   "source": [
    "min(lst)"
   ]
  },
  {
   "cell_type": "code",
   "execution_count": null,
   "id": "99e566e0",
   "metadata": {},
   "outputs": [],
   "source": [
    "round(sum(lst)/len(lst), 5)"
   ]
  },
  {
   "cell_type": "code",
   "execution_count": null,
   "id": "f6e2b4f2",
   "metadata": {},
   "outputs": [],
   "source": [
    "def add_one(x):\n",
    "    return x+1"
   ]
  },
  {
   "cell_type": "code",
   "execution_count": null,
   "id": "f31b6b75",
   "metadata": {},
   "outputs": [],
   "source": [
    "add_one(100)"
   ]
  },
  {
   "cell_type": "code",
   "execution_count": null,
   "id": "31b8303f",
   "metadata": {},
   "outputs": [],
   "source": [
    "def add_one(x):\n",
    "    return x+1"
   ]
  },
  {
   "cell_type": "code",
   "execution_count": null,
   "id": "467393cb",
   "metadata": {},
   "outputs": [],
   "source": [
    "add_one(15)"
   ]
  },
  {
   "cell_type": "code",
   "execution_count": null,
   "id": "66936c61",
   "metadata": {},
   "outputs": [],
   "source": [
    "lst"
   ]
  },
  {
   "cell_type": "code",
   "execution_count": null,
   "id": "16d99709",
   "metadata": {},
   "outputs": [],
   "source": [
    "l = []\n",
    "\n",
    "for i in lst:\n",
    "    l.append(i+1)\n",
    "    \n",
    "print(l)\n",
    "    "
   ]
  },
  {
   "cell_type": "code",
   "execution_count": null,
   "id": "7111f32d",
   "metadata": {},
   "outputs": [],
   "source": [
    "list(map(add_one, lst))"
   ]
  },
  {
   "cell_type": "code",
   "execution_count": null,
   "id": "fa2d33fa",
   "metadata": {},
   "outputs": [],
   "source": [
    "list(map(lambda x:x+1, lst))"
   ]
  },
  {
   "cell_type": "code",
   "execution_count": null,
   "id": "9da5e3ea",
   "metadata": {},
   "outputs": [],
   "source": [
    "l1 = []\n",
    "\n",
    "for i in lst:\n",
    "    if i%2==0:\n",
    "        l1.append(i)\n",
    "        \n",
    "print(l1)"
   ]
  },
  {
   "cell_type": "code",
   "execution_count": null,
   "id": "b5a43068",
   "metadata": {},
   "outputs": [],
   "source": [
    "lst"
   ]
  },
  {
   "cell_type": "code",
   "execution_count": null,
   "id": "f03d854a",
   "metadata": {},
   "outputs": [],
   "source": [
    "def is_even(x):\n",
    "    return x%2==0"
   ]
  },
  {
   "cell_type": "code",
   "execution_count": null,
   "id": "71c6e482",
   "metadata": {},
   "outputs": [],
   "source": [
    "list(filter(is_even, lst))"
   ]
  },
  {
   "cell_type": "code",
   "execution_count": null,
   "id": "c2ce4c75",
   "metadata": {},
   "outputs": [],
   "source": [
    "list(filter(lambda x:x%2==0, lst))"
   ]
  },
  {
   "cell_type": "code",
   "execution_count": null,
   "id": "0e59d76e",
   "metadata": {},
   "outputs": [],
   "source": [
    "\n",
    "\n",
    "lst = [1,2,3,4,5]"
   ]
  },
  {
   "cell_type": "code",
   "execution_count": null,
   "id": "ad07c96d",
   "metadata": {},
   "outputs": [],
   "source": [
    "product = 1\n",
    "for i in lst:\n",
    "    product*=i\n",
    "print(product)\n",
    "    "
   ]
  },
  {
   "cell_type": "code",
   "execution_count": null,
   "id": "c7cdadb7",
   "metadata": {},
   "outputs": [],
   "source": [
    "from functools import reduce"
   ]
  },
  {
   "cell_type": "code",
   "execution_count": null,
   "id": "a11f1595",
   "metadata": {},
   "outputs": [],
   "source": [
    "def multyply(x,y):\n",
    "    return x*y"
   ]
  },
  {
   "cell_type": "code",
   "execution_count": null,
   "id": "a094f4a7",
   "metadata": {},
   "outputs": [],
   "source": [
    "reduce(multyply, lst)"
   ]
  },
  {
   "cell_type": "code",
   "execution_count": null,
   "id": "7e059e5c",
   "metadata": {},
   "outputs": [],
   "source": [
    "reduce(lambda x,y:x*y, lst)"
   ]
  },
  {
   "cell_type": "code",
   "execution_count": null,
   "id": "0413591a",
   "metadata": {},
   "outputs": [],
   "source": [
    "import math"
   ]
  },
  {
   "cell_type": "code",
   "execution_count": null,
   "id": "67700f9b",
   "metadata": {},
   "outputs": [],
   "source": [
    "dir(math)"
   ]
  },
  {
   "cell_type": "code",
   "execution_count": null,
   "id": "205a4752",
   "metadata": {},
   "outputs": [],
   "source": [
    "math.pi"
   ]
  },
  {
   "cell_type": "code",
   "execution_count": null,
   "id": "4099ed79",
   "metadata": {},
   "outputs": [],
   "source": [
    "math.pow(3,2)"
   ]
  },
  {
   "cell_type": "code",
   "execution_count": null,
   "id": "8bf2885b",
   "metadata": {},
   "outputs": [],
   "source": [
    "math.factorial(5)"
   ]
  },
  {
   "cell_type": "code",
   "execution_count": null,
   "id": "13276dd7",
   "metadata": {},
   "outputs": [],
   "source": [
    "math.ceil(7.8)"
   ]
  },
  {
   "cell_type": "code",
   "execution_count": null,
   "id": "982bf20d",
   "metadata": {},
   "outputs": [],
   "source": [
    "import random"
   ]
  },
  {
   "cell_type": "code",
   "execution_count": null,
   "id": "e77a806a",
   "metadata": {},
   "outputs": [],
   "source": [
    "random.randint(0,20)"
   ]
  },
  {
   "cell_type": "code",
   "execution_count": null,
   "id": "ceb200f7",
   "metadata": {},
   "outputs": [],
   "source": [
    "round(random.random()*50,6)"
   ]
  },
  {
   "cell_type": "code",
   "execution_count": null,
   "id": "0f3ed916",
   "metadata": {},
   "outputs": [],
   "source": [
    "import os"
   ]
  },
  {
   "cell_type": "code",
   "execution_count": null,
   "id": "fe4482d4",
   "metadata": {},
   "outputs": [],
   "source": [
    "dir(os)"
   ]
  },
  {
   "cell_type": "code",
   "execution_count": null,
   "id": "a82b9816",
   "metadata": {},
   "outputs": [],
   "source": [
    "dir(random)"
   ]
  },
  {
   "cell_type": "code",
   "execution_count": null,
   "id": "8cbb4b95",
   "metadata": {},
   "outputs": [],
   "source": [
    "os.getcwd()"
   ]
  },
  {
   "cell_type": "code",
   "execution_count": null,
   "id": "1394d2eb",
   "metadata": {},
   "outputs": [],
   "source": [
    "os.mkdir('newly_created')"
   ]
  },
  {
   "cell_type": "code",
   "execution_count": null,
   "id": "332f739e",
   "metadata": {},
   "outputs": [],
   "source": [
    "os.removedirs('newly_created/')"
   ]
  },
  {
   "cell_type": "code",
   "execution_count": null,
   "id": "d7dd0221",
   "metadata": {},
   "outputs": [],
   "source": [
    "!touch test.py"
   ]
  },
  {
   "cell_type": "code",
   "execution_count": null,
   "id": "cb63bc1e",
   "metadata": {},
   "outputs": [],
   "source": [
    "os.remove(test.py)"
   ]
  },
  {
   "cell_type": "code",
   "execution_count": null,
   "id": "d760547e",
   "metadata": {},
   "outputs": [],
   "source": [
    "import sys"
   ]
  },
  {
   "cell_type": "code",
   "execution_count": null,
   "id": "71bb92c6",
   "metadata": {},
   "outputs": [],
   "source": [
    "dir(sys)"
   ]
  },
  {
   "cell_type": "code",
   "execution_count": null,
   "id": "f0a799e5",
   "metadata": {},
   "outputs": [],
   "source": [
    "sys.version"
   ]
  },
  {
   "cell_type": "code",
   "execution_count": null,
   "id": "f386a75a",
   "metadata": {},
   "outputs": [],
   "source": [
    "sys.path"
   ]
  },
  {
   "cell_type": "code",
   "execution_count": null,
   "id": "dbe01bdc",
   "metadata": {},
   "outputs": [],
   "source": [
    "import datetime"
   ]
  },
  {
   "cell_type": "code",
   "execution_count": null,
   "id": "3f793484",
   "metadata": {},
   "outputs": [],
   "source": [
    "datetime.datetime.now()"
   ]
  },
  {
   "cell_type": "code",
   "execution_count": null,
   "id": "67aa8f16",
   "metadata": {},
   "outputs": [],
   "source": [
    "from math import *"
   ]
  },
  {
   "cell_type": "code",
   "execution_count": null,
   "id": "2e42c035",
   "metadata": {},
   "outputs": [],
   "source": [
    "import math"
   ]
  },
  {
   "cell_type": "code",
   "execution_count": 1,
   "id": "19c4a6d9",
   "metadata": {},
   "outputs": [],
   "source": [
    "import my_custom"
   ]
  },
  {
   "cell_type": "code",
   "execution_count": 3,
   "id": "d65b9a85",
   "metadata": {},
   "outputs": [
    {
     "data": {
      "text/plain": [
       "'Hellosanjay'"
      ]
     },
     "execution_count": 3,
     "metadata": {},
     "output_type": "execute_result"
    }
   ],
   "source": [
    "my_custom.greeting('sanjay')"
   ]
  },
  {
   "cell_type": "code",
   "execution_count": 4,
   "id": "ac0f4729",
   "metadata": {},
   "outputs": [
    {
     "name": "stdout",
     "output_type": "stream",
     "text": [
      "__main__\n"
     ]
    }
   ],
   "source": [
    "print(__name__)"
   ]
  },
  {
   "cell_type": "code",
   "execution_count": 6,
   "id": "060df90c",
   "metadata": {},
   "outputs": [],
   "source": [
    "f = open('Example.txt')"
   ]
  },
  {
   "cell_type": "code",
   "execution_count": 8,
   "id": "207af03c",
   "metadata": {},
   "outputs": [
    {
     "data": {
      "text/plain": [
       "False"
      ]
     },
     "execution_count": 8,
     "metadata": {},
     "output_type": "execute_result"
    }
   ],
   "source": [
    "f.closed"
   ]
  },
  {
   "cell_type": "code",
   "execution_count": 10,
   "id": "47f40a0b",
   "metadata": {},
   "outputs": [],
   "source": [
    "f = open('Example.txt', 'rt')"
   ]
  },
  {
   "cell_type": "code",
   "execution_count": 12,
   "id": "50fd643f",
   "metadata": {},
   "outputs": [],
   "source": [
    "f = open('Testmatchcricket.txt', 'wt')"
   ]
  },
  {
   "cell_type": "code",
   "execution_count": 14,
   "id": "0a57eb2f",
   "metadata": {},
   "outputs": [
    {
     "data": {
      "text/plain": [
       "False"
      ]
     },
     "execution_count": 14,
     "metadata": {},
     "output_type": "execute_result"
    }
   ],
   "source": [
    "f.closed"
   ]
  },
  {
   "cell_type": "code",
   "execution_count": 15,
   "id": "7a2ad316",
   "metadata": {},
   "outputs": [],
   "source": [
    "f.close()"
   ]
  },
  {
   "cell_type": "code",
   "execution_count": 16,
   "id": "c5ca3ba9",
   "metadata": {},
   "outputs": [
    {
     "data": {
      "text/plain": [
       "True"
      ]
     },
     "execution_count": 16,
     "metadata": {},
     "output_type": "execute_result"
    }
   ],
   "source": [
    "f.closed"
   ]
  },
  {
   "cell_type": "code",
   "execution_count": 17,
   "id": "a4d3b059",
   "metadata": {},
   "outputs": [
    {
     "name": "stdout",
     "output_type": "stream",
     "text": [
      "Inside :  False\n",
      "Outside: True\n"
     ]
    }
   ],
   "source": [
    "with open('Example.txt', 'rt') as f:\n",
    "    print('Inside : ', f.closed)\n",
    "print('Outside:', f.closed)"
   ]
  },
  {
   "cell_type": "code",
   "execution_count": 20,
   "id": "a6959ac1",
   "metadata": {},
   "outputs": [
    {
     "name": "stdout",
     "output_type": "stream",
     "text": [
      "34 26\n"
     ]
    }
   ],
   "source": [
    "with open('newonefile.txt', 'wt') as f:\n",
    "    r1 = f.write('This file is generated by python \\n')\n",
    "    r2 = f.write('I love python programmming')\n",
    "    print(r1,r2)\n",
    "    "
   ]
  },
  {
   "cell_type": "code",
   "execution_count": 30,
   "id": "f94fe631",
   "metadata": {},
   "outputs": [
    {
     "name": "stdout",
     "output_type": "stream",
     "text": [
      "This\n",
      " file\n",
      "9\n",
      " is ge\n",
      "15\n",
      "This file is generated by python \n",
      "I love python programmming\n"
     ]
    }
   ],
   "source": [
    "with open('newonefile.txt', 'rt') as f:\n",
    "    data = f.read(4)\n",
    "    print(data)\n",
    "    \n",
    "    data1 = f.read(5)\n",
    "    print(data1)\n",
    "    \n",
    "    print(f.tell())\n",
    "    \n",
    "    print(f.read(6))\n",
    "    \n",
    "    print(f.tell())\n",
    "    \n",
    "    f.seek(0)\n",
    "    \n",
    "    print(f.read())\n",
    "    \n",
    "    "
   ]
  },
  {
   "cell_type": "code",
   "execution_count": 33,
   "id": "64671331",
   "metadata": {},
   "outputs": [
    {
     "name": "stdout",
     "output_type": "stream",
     "text": [
      "This file is generated by python \n",
      "\n",
      "I love python programmming\n"
     ]
    }
   ],
   "source": [
    "with open('newonefile.txt', 'rt') as f:\n",
    "    for i in f:\n",
    "        print(i)\n",
    "        "
   ]
  },
  {
   "cell_type": "code",
   "execution_count": 34,
   "id": "cf75b721",
   "metadata": {},
   "outputs": [
    {
     "name": "stdout",
     "output_type": "stream",
     "text": [
      "This file is generated by python \n",
      "\n",
      "I love python programmming\n"
     ]
    }
   ],
   "source": [
    "with open('newonefile.txt') as f:\n",
    "    data = f.readlines()\n",
    "    \n",
    "    \n",
    "    for i in data:\n",
    "        print(i)"
   ]
  },
  {
   "cell_type": "code",
   "execution_count": 36,
   "id": "7d1538f4",
   "metadata": {},
   "outputs": [
    {
     "name": "stdout",
     "output_type": "stream",
     "text": [
      "This file is generated by python \n",
      "I love python programmming\n"
     ]
    }
   ],
   "source": [
    "with open('newonefile.txt') as f:\n",
    "    print(f.read())"
   ]
  },
  {
   "cell_type": "code",
   "execution_count": 38,
   "id": "fa2bf097",
   "metadata": {},
   "outputs": [
    {
     "name": "stdout",
     "output_type": "stream",
     "text": [
      "19\n"
     ]
    }
   ],
   "source": [
    "with open('newonefile.txt', 'a') as f:\n",
    "    d = f.write('Alpha beta, gamma \\n')\n",
    "    f.write('python is fun')\n",
    "    print(d)"
   ]
  },
  {
   "cell_type": "code",
   "execution_count": 39,
   "id": "6bd25bcf",
   "metadata": {},
   "outputs": [
    {
     "name": "stdout",
     "output_type": "stream",
     "text": [
      "This file is generated by python \n",
      "I love python programmmingAlpha beta, gamma \n",
      "Alpha beta, gamma \n",
      "python is fun\n"
     ]
    }
   ],
   "source": [
    "with open('newonefile.txt') as f:\n",
    "    print(f.read())"
   ]
  },
  {
   "cell_type": "code",
   "execution_count": 1,
   "id": "5a7ae844",
   "metadata": {},
   "outputs": [],
   "source": [
    "import os"
   ]
  },
  {
   "cell_type": "code",
   "execution_count": 2,
   "id": "2c188961",
   "metadata": {},
   "outputs": [],
   "source": [
    "file_name = 'newonefile.txt'"
   ]
  },
  {
   "cell_type": "code",
   "execution_count": 3,
   "id": "6a2133ce",
   "metadata": {},
   "outputs": [
    {
     "name": "stdout",
     "output_type": "stream",
     "text": [
      "['This file is generated by python \\n', 'I love python programmmingAlpha beta, gamma \\n', 'Alpha beta, gamma \\n', 'python is fun']\n"
     ]
    }
   ],
   "source": [
    "with open(file_name) as f:\n",
    "    data = f.readlines()\n",
    "print(data)"
   ]
  },
  {
   "cell_type": "code",
   "execution_count": 6,
   "id": "f45b9c67",
   "metadata": {},
   "outputs": [],
   "source": [
    "data[-1] = 'Machine learning is very easy'"
   ]
  },
  {
   "cell_type": "code",
   "execution_count": 7,
   "id": "7805a524",
   "metadata": {},
   "outputs": [
    {
     "data": {
      "text/plain": [
       "['This file is generated by python \\n',\n",
       " 'I love python programmmingAlpha beta, gamma \\n',\n",
       " 'Alpha beta, gamma \\n',\n",
       " 'Machine learning is very easy']"
      ]
     },
     "execution_count": 7,
     "metadata": {},
     "output_type": "execute_result"
    }
   ],
   "source": [
    "data"
   ]
  },
  {
   "cell_type": "code",
   "execution_count": 9,
   "id": "588907c8",
   "metadata": {},
   "outputs": [],
   "source": [
    "data_to_write = \" \".join(data)"
   ]
  },
  {
   "cell_type": "code",
   "execution_count": 10,
   "id": "4c6f12c3",
   "metadata": {},
   "outputs": [
    {
     "name": "stdout",
     "output_type": "stream",
     "text": [
      "This file is generated by python \n",
      " I love python programmmingAlpha beta, gamma \n",
      " Alpha beta, gamma \n",
      " Machine learning is very easy\n"
     ]
    }
   ],
   "source": [
    "print(data_to_write)"
   ]
  },
  {
   "cell_type": "code",
   "execution_count": 11,
   "id": "cb694411",
   "metadata": {},
   "outputs": [],
   "source": [
    "with open('temp.txt', 'wt') as f:\n",
    "    f.write(data_to_write)"
   ]
  },
  {
   "cell_type": "code",
   "execution_count": 13,
   "id": "08231a21",
   "metadata": {},
   "outputs": [],
   "source": [
    "os.remove(file_name)"
   ]
  },
  {
   "cell_type": "code",
   "execution_count": 15,
   "id": "44572841",
   "metadata": {},
   "outputs": [
    {
     "ename": "FileNotFoundError",
     "evalue": "[WinError 2] The system cannot find the file specified: 'temp.txt' -> 'newonefile.txt'",
     "output_type": "error",
     "traceback": [
      "\u001b[1;31m---------------------------------------------------------------------------\u001b[0m",
      "\u001b[1;31mFileNotFoundError\u001b[0m                         Traceback (most recent call last)",
      "Input \u001b[1;32mIn [15]\u001b[0m, in \u001b[0;36m<cell line: 1>\u001b[1;34m()\u001b[0m\n\u001b[1;32m----> 1\u001b[0m \u001b[43mos\u001b[49m\u001b[38;5;241;43m.\u001b[39;49m\u001b[43mrename\u001b[49m\u001b[43m(\u001b[49m\u001b[38;5;124;43m'\u001b[39;49m\u001b[38;5;124;43mtemp.txt\u001b[39;49m\u001b[38;5;124;43m'\u001b[39;49m\u001b[43m,\u001b[49m\u001b[43m \u001b[49m\u001b[43mfile_name\u001b[49m\u001b[43m)\u001b[49m\n",
      "\u001b[1;31mFileNotFoundError\u001b[0m: [WinError 2] The system cannot find the file specified: 'temp.txt' -> 'newonefile.txt'"
     ]
    }
   ],
   "source": [
    "os.rename('temp.txt', file_name)"
   ]
  },
  {
   "cell_type": "code",
   "execution_count": 16,
   "id": "8f21eaa0",
   "metadata": {},
   "outputs": [
    {
     "ename": "NameError",
     "evalue": "name 'a' is not defined",
     "output_type": "error",
     "traceback": [
      "\u001b[1;31m---------------------------------------------------------------------------\u001b[0m",
      "\u001b[1;31mNameError\u001b[0m                                 Traceback (most recent call last)",
      "Input \u001b[1;32mIn [16]\u001b[0m, in \u001b[0;36m<cell line: 1>\u001b[1;34m()\u001b[0m\n\u001b[1;32m----> 1\u001b[0m \u001b[38;5;28mprint\u001b[39m(\u001b[43ma\u001b[49m)\n",
      "\u001b[1;31mNameError\u001b[0m: name 'a' is not defined"
     ]
    }
   ],
   "source": [
    "print(a)"
   ]
  },
  {
   "cell_type": "code",
   "execution_count": 18,
   "id": "6add01fb",
   "metadata": {},
   "outputs": [],
   "source": [
    "if (5>3):\n",
    "    pass"
   ]
  },
  {
   "cell_type": "code",
   "execution_count": 19,
   "id": "7ebe9ac4",
   "metadata": {},
   "outputs": [],
   "source": [
    "import random"
   ]
  },
  {
   "cell_type": "code",
   "execution_count": 20,
   "id": "902397fe",
   "metadata": {},
   "outputs": [
    {
     "ename": "ModuleNotFoundError",
     "evalue": "No module named 'dontknow'",
     "output_type": "error",
     "traceback": [
      "\u001b[1;31m---------------------------------------------------------------------------\u001b[0m",
      "\u001b[1;31mModuleNotFoundError\u001b[0m                       Traceback (most recent call last)",
      "Input \u001b[1;32mIn [20]\u001b[0m, in \u001b[0;36m<cell line: 1>\u001b[1;34m()\u001b[0m\n\u001b[1;32m----> 1\u001b[0m \u001b[38;5;28;01mimport\u001b[39;00m \u001b[38;5;21;01mdontknow\u001b[39;00m\n",
      "\u001b[1;31mModuleNotFoundError\u001b[0m: No module named 'dontknow'"
     ]
    }
   ],
   "source": [
    "import dontknow"
   ]
  },
  {
   "cell_type": "code",
   "execution_count": 21,
   "id": "afc090d9",
   "metadata": {},
   "outputs": [
    {
     "ename": "AttributeError",
     "evalue": "'str' object has no attribute 'sort'",
     "output_type": "error",
     "traceback": [
      "\u001b[1;31m---------------------------------------------------------------------------\u001b[0m",
      "\u001b[1;31mAttributeError\u001b[0m                            Traceback (most recent call last)",
      "Input \u001b[1;32mIn [21]\u001b[0m, in \u001b[0;36m<cell line: 1>\u001b[1;34m()\u001b[0m\n\u001b[1;32m----> 1\u001b[0m \u001b[38;5;124;43m\"\u001b[39;49m\u001b[38;5;124;43mmachine learning\u001b[39;49m\u001b[38;5;124;43m\"\u001b[39;49m\u001b[38;5;241;43m.\u001b[39;49m\u001b[43msort\u001b[49m()\n",
      "\u001b[1;31mAttributeError\u001b[0m: 'str' object has no attribute 'sort'"
     ]
    }
   ],
   "source": [
    "\"machine learning\".sort()"
   ]
  },
  {
   "cell_type": "code",
   "execution_count": 22,
   "id": "a9d25e8f",
   "metadata": {},
   "outputs": [
    {
     "ename": "TypeError",
     "evalue": "can only concatenate str (not \"int\") to str",
     "output_type": "error",
     "traceback": [
      "\u001b[1;31m---------------------------------------------------------------------------\u001b[0m",
      "\u001b[1;31mTypeError\u001b[0m                                 Traceback (most recent call last)",
      "Input \u001b[1;32mIn [22]\u001b[0m, in \u001b[0;36m<cell line: 1>\u001b[1;34m()\u001b[0m\n\u001b[1;32m----> 1\u001b[0m \u001b[38;5;124;43m\"\u001b[39;49m\u001b[38;5;124;43mHello\u001b[39;49m\u001b[38;5;124;43m\"\u001b[39;49m\u001b[43m \u001b[49m\u001b[38;5;241;43m+\u001b[39;49m\u001b[38;5;241;43m1\u001b[39;49m\n",
      "\u001b[1;31mTypeError\u001b[0m: can only concatenate str (not \"int\") to str"
     ]
    }
   ],
   "source": [
    "\"Hello\" +1 "
   ]
  },
  {
   "cell_type": "code",
   "execution_count": 25,
   "id": "6cd6dd42",
   "metadata": {},
   "outputs": [
    {
     "name": "stdout",
     "output_type": "stream",
     "text": [
      "['ArithmeticError', 'AssertionError', 'AttributeError', 'BaseException', 'BlockingIOError', 'BrokenPipeError', 'BufferError', 'BytesWarning', 'ChildProcessError', 'ConnectionAbortedError', 'ConnectionError', 'ConnectionRefusedError', 'ConnectionResetError', 'DeprecationWarning', 'EOFError', 'Ellipsis', 'EnvironmentError', 'Exception', 'False', 'FileExistsError', 'FileNotFoundError', 'FloatingPointError', 'FutureWarning', 'GeneratorExit', 'IOError', 'ImportError', 'ImportWarning', 'IndentationError', 'IndexError', 'InterruptedError', 'IsADirectoryError', 'KeyError', 'KeyboardInterrupt', 'LookupError', 'MemoryError', 'ModuleNotFoundError', 'NameError', 'None', 'NotADirectoryError', 'NotImplemented', 'NotImplementedError', 'OSError', 'OverflowError', 'PendingDeprecationWarning', 'PermissionError', 'ProcessLookupError', 'RecursionError', 'ReferenceError', 'ResourceWarning', 'RuntimeError', 'RuntimeWarning', 'StopAsyncIteration', 'StopIteration', 'SyntaxError', 'SyntaxWarning', 'SystemError', 'SystemExit', 'TabError', 'TimeoutError', 'True', 'TypeError', 'UnboundLocalError', 'UnicodeDecodeError', 'UnicodeEncodeError', 'UnicodeError', 'UnicodeTranslateError', 'UnicodeWarning', 'UserWarning', 'ValueError', 'Warning', 'WindowsError', 'ZeroDivisionError', '__IPYTHON__', '__build_class__', '__debug__', '__doc__', '__import__', '__loader__', '__name__', '__package__', '__spec__', 'abs', 'all', 'any', 'ascii', 'bin', 'bool', 'breakpoint', 'bytearray', 'bytes', 'callable', 'chr', 'classmethod', 'compile', 'complex', 'copyright', 'credits', 'delattr', 'dict', 'dir', 'display', 'divmod', 'enumerate', 'eval', 'exec', 'execfile', 'filter', 'float', 'format', 'frozenset', 'get_ipython', 'getattr', 'globals', 'hasattr', 'hash', 'help', 'hex', 'id', 'input', 'int', 'isinstance', 'issubclass', 'iter', 'len', 'license', 'list', 'locals', 'map', 'max', 'memoryview', 'min', 'next', 'object', 'oct', 'open', 'ord', 'pow', 'print', 'property', 'range', 'repr', 'reversed', 'round', 'runfile', 'set', 'setattr', 'slice', 'sorted', 'staticmethod', 'str', 'sum', 'super', 'tuple', 'type', 'vars', 'zip']\n"
     ]
    }
   ],
   "source": [
    "print(dir(__builtins__))"
   ]
  },
  {
   "cell_type": "code",
   "execution_count": 40,
   "id": "1f40fcf7",
   "metadata": {},
   "outputs": [],
   "source": [
    "import sys\n",
    "lst = [2, 0, 'Hello', None]"
   ]
  },
  {
   "cell_type": "code",
   "execution_count": 48,
   "id": "c2612532",
   "metadata": {},
   "outputs": [
    {
     "name": "stdout",
     "output_type": "stream",
     "text": [
      "Current element : 2\n",
      "Result :  2.5\n",
      "**************************************************\n",
      "Current element : 0\n",
      "Do not divide by Zero: division by zero\n",
      "**************************************************\n",
      "Current element : Hello\n",
      "Value error occured : invalid literal for int() with base 10: 'Hello'\n",
      "**************************************************\n",
      "Current element : None\n",
      "Error caused : int() argument must be a string, a bytes-like object or a number, not 'NoneType'\n",
      "<class 'TypeError'>\n",
      "**************************************************\n",
      "\n",
      " 100 number of lines\n"
     ]
    }
   ],
   "source": [
    "for i in lst:\n",
    "    try:\n",
    "        print('Current element :', i)\n",
    "        res = 5/int(i)\n",
    "        print(\"Result : \", res)\n",
    "        \n",
    "    except ZeroDivisionError as e:\n",
    "        print('Do not divide by Zero:', e)\n",
    "    except ValueError as e:\n",
    "        print('Value error occured :', e)\n",
    "    except Exception as e:\n",
    "        print('Error caused :', e)\n",
    "        print(sys.exc_info()[0])\n",
    "    print('*'*50)\n",
    "    \n",
    "print('\\n 100 number of lines')"
   ]
  },
  {
   "cell_type": "code",
   "execution_count": 56,
   "id": "fa360f7b",
   "metadata": {},
   "outputs": [
    {
     "name": "stdout",
     "output_type": "stream",
     "text": [
      "2.5\n",
      "\n",
      " 100 lines of code\n",
      "close db connection\n",
      "close a file\n",
      "i will always execute myself\n"
     ]
    }
   ],
   "source": [
    "try:\n",
    "    ans = 5/2\n",
    "    print(ans)\n",
    "except Exception as e:\n",
    "    print('Error occured:', e)\n",
    "    \n",
    "finally:\n",
    "    print('\\n 100 lines of code')\n",
    "    print('close db connection')\n",
    "    print('close a file')\n",
    "    print('i will always execute myself')"
   ]
  },
  {
   "cell_type": "code",
   "execution_count": 59,
   "id": "ea964d19",
   "metadata": {},
   "outputs": [
    {
     "ename": "Exception",
     "evalue": "mohit",
     "output_type": "error",
     "traceback": [
      "\u001b[1;31m---------------------------------------------------------------------------\u001b[0m",
      "\u001b[1;31mException\u001b[0m                                 Traceback (most recent call last)",
      "Input \u001b[1;32mIn [59]\u001b[0m, in \u001b[0;36m<cell line: 1>\u001b[1;34m()\u001b[0m\n\u001b[1;32m----> 1\u001b[0m \u001b[38;5;28;01mraise\u001b[39;00m \u001b[38;5;167;01mException\u001b[39;00m(\u001b[38;5;124m'\u001b[39m\u001b[38;5;124mmohit\u001b[39m\u001b[38;5;124m'\u001b[39m)\n\u001b[0;32m      2\u001b[0m \u001b[38;5;28mprint\u001b[39m(\u001b[38;5;124m'\u001b[39m\u001b[38;5;124m100 lines of code\u001b[39m\u001b[38;5;124m'\u001b[39m)\n",
      "\u001b[1;31mException\u001b[0m: mohit"
     ]
    }
   ],
   "source": [
    "raise Exception('mohit')\n",
    "print('100 lines of code')"
   ]
  },
  {
   "cell_type": "code",
   "execution_count": 75,
   "id": "47f31490",
   "metadata": {},
   "outputs": [
    {
     "name": "stdout",
     "output_type": "stream",
     "text": [
      "Enter your name :asd\n",
      "Error occured :  name can not be less than 4 charaters\n",
      "<class 'ValueError'>\n",
      "100 lines of code\n"
     ]
    }
   ],
   "source": [
    "import sys\n",
    "try:\n",
    "    name = input('Enter your name :', )\n",
    "    if len(name)<4:\n",
    "        raise ValueError('name can not be less than 4 charaters')\n",
    "    else:\n",
    "        print('Hello :', name)\n",
    "except Exception as e:\n",
    "    print('Error occured : ', e)\n",
    "    print(sys.exc_info()[0])\n",
    "    \n",
    "print('100 lines of code')"
   ]
  },
  {
   "cell_type": "code",
   "execution_count": 76,
   "id": "0df17724",
   "metadata": {},
   "outputs": [],
   "source": [
    "class Human:\n",
    "    pass"
   ]
  },
  {
   "cell_type": "code",
   "execution_count": 77,
   "id": "f980da3c",
   "metadata": {},
   "outputs": [],
   "source": [
    "mohit = Human()"
   ]
  },
  {
   "cell_type": "code",
   "execution_count": 78,
   "id": "72731a90",
   "metadata": {},
   "outputs": [
    {
     "data": {
      "text/plain": [
       "__main__.Human"
      ]
     },
     "execution_count": 78,
     "metadata": {},
     "output_type": "execute_result"
    }
   ],
   "source": [
    "type(mohit)"
   ]
  },
  {
   "cell_type": "code",
   "execution_count": 57,
   "id": "55703ee9",
   "metadata": {},
   "outputs": [],
   "source": [
    "class Human():\n",
    "    database = []\n",
    "    population = 0\n",
    "    id_seq = 101\n",
    "    \n",
    "    def __init__(self, name, age, is_alive = True):\n",
    "        print('Creating new object...')\n",
    "        self.name = name\n",
    "        self.age = age\n",
    "        self.is_alive = is_alive\n",
    "        self.id = Human.id_seq\n",
    "        Human.id_seq+=1\n",
    "        Human.population+=1\n",
    "        \n",
    "        Human.database.append(self)\n",
    "        \n",
    "        \n",
    "    def introduce(self):\n",
    "        print(\"Hi, my name is {} and i am {} years old\".format(self.name, self.age))\n",
    "        \n",
    "    def die(self):\n",
    "        if self.is_alive:\n",
    "            print('{} is dying...'.format(self.name))\n",
    "            self.is_alive = False\n",
    "            Human.population-=1\n",
    "        else:\n",
    "            print(self.name, \"is already dead..\")\n",
    "            \n",
    "    def __repr__(self):\n",
    "        return \"[{},{},{},{}]\".format(self.id, self.name, self.age, self.is_alive)\n",
    "        "
   ]
  },
  {
   "cell_type": "code",
   "execution_count": 58,
   "id": "085cadd8",
   "metadata": {},
   "outputs": [],
   "source": [
    "class Hitman(Human):\n",
    "    def __init__(self, name, age):\n",
    "        super().__init__(name, age)\n",
    "        self.kills = 0\n",
    "        self.kill_list = []\n",
    "    def kill(self, person):\n",
    "        \"\"\"person : object of human\"\"\"\n",
    "        \n",
    "        if(person.is_alive):\n",
    "            print(\"{} is killing {}\".format(self.name, person.name))\n",
    "            person.die()\n",
    "            self.kills += 1\n",
    "            self.kill_list.append(person)\n",
    "        else:\n",
    "            print(\"{} is already dead.\".format(person.name))\n",
    "            \n",
    "    def introduce(self):\n",
    "        print(\"Hi, my name is {} and i have killed {} number of persons\".format(self.name, self.kills))"
   ]
  },
  {
   "cell_type": "code",
   "execution_count": 59,
   "id": "a7c26808",
   "metadata": {},
   "outputs": [
    {
     "name": "stdout",
     "output_type": "stream",
     "text": [
      "Creating new object...\n",
      "Creating new object...\n",
      "Creating new object...\n"
     ]
    }
   ],
   "source": [
    "h1 = Human(\"Mohit\", 23)\n",
    "h2 = Human(\"Prateek\", 27)\n",
    "h3 = Human(\"Jatin\", 26)"
   ]
  },
  {
   "cell_type": "code",
   "execution_count": 60,
   "id": "773a39e7",
   "metadata": {},
   "outputs": [
    {
     "data": {
      "text/plain": [
       "3"
      ]
     },
     "execution_count": 60,
     "metadata": {},
     "output_type": "execute_result"
    }
   ],
   "source": [
    "Human.population"
   ]
  },
  {
   "cell_type": "code",
   "execution_count": 61,
   "id": "5e61d923",
   "metadata": {},
   "outputs": [
    {
     "data": {
      "text/plain": [
       "[[101,Mohit,23,True], [102,Prateek,27,True], [103,Jatin,26,True]]"
      ]
     },
     "execution_count": 61,
     "metadata": {},
     "output_type": "execute_result"
    }
   ],
   "source": [
    "Human.database"
   ]
  },
  {
   "cell_type": "code",
   "execution_count": 62,
   "id": "134c097c",
   "metadata": {},
   "outputs": [
    {
     "name": "stdout",
     "output_type": "stream",
     "text": [
      "Creating new object...\n"
     ]
    }
   ],
   "source": [
    "hit = Hitman(\"James\", 30)"
   ]
  },
  {
   "cell_type": "code",
   "execution_count": 63,
   "id": "49058d61",
   "metadata": {},
   "outputs": [
    {
     "data": {
      "text/plain": [
       "4"
      ]
     },
     "execution_count": 63,
     "metadata": {},
     "output_type": "execute_result"
    }
   ],
   "source": [
    "Human.population"
   ]
  },
  {
   "cell_type": "code",
   "execution_count": 72,
   "id": "c7422ebc",
   "metadata": {},
   "outputs": [
    {
     "name": "stdout",
     "output_type": "stream",
     "text": [
      "Creating new object...\n"
     ]
    }
   ],
   "source": [
    "bond = Hitman('james', 25)"
   ]
  },
  {
   "cell_type": "code",
   "execution_count": 73,
   "id": "874d5fd8",
   "metadata": {},
   "outputs": [
    {
     "data": {
      "text/plain": [
       "'james'"
      ]
     },
     "execution_count": 73,
     "metadata": {},
     "output_type": "execute_result"
    }
   ],
   "source": [
    "bond.name"
   ]
  },
  {
   "cell_type": "code",
   "execution_count": 76,
   "id": "6b06f05b",
   "metadata": {},
   "outputs": [
    {
     "name": "stdout",
     "output_type": "stream",
     "text": [
      "Hi, my name is james and i have killed 1 number of persons\n"
     ]
    }
   ],
   "source": [
    "bond.introduce()"
   ]
  },
  {
   "cell_type": "code",
   "execution_count": 75,
   "id": "e07623a8",
   "metadata": {},
   "outputs": [
    {
     "name": "stdout",
     "output_type": "stream",
     "text": [
      "james is killing Mohit\n",
      "Mohit is dying...\n"
     ]
    }
   ],
   "source": [
    "bond.kill(h1)"
   ]
  },
  {
   "cell_type": "code",
   "execution_count": 65,
   "id": "f8721280",
   "metadata": {},
   "outputs": [
    {
     "data": {
      "text/plain": [
       "[[101,Mohit,23,True],\n",
       " [102,Prateek,27,True],\n",
       " [103,Jatin,26,True],\n",
       " [104,James,30,True]]"
      ]
     },
     "execution_count": 65,
     "metadata": {},
     "output_type": "execute_result"
    }
   ],
   "source": [
    "Human.database"
   ]
  },
  {
   "cell_type": "code",
   "execution_count": 66,
   "id": "68dbce24",
   "metadata": {},
   "outputs": [
    {
     "name": "stdout",
     "output_type": "stream",
     "text": [
      "James is killing Prateek\n",
      "Prateek is dying...\n"
     ]
    }
   ],
   "source": [
    "hit.kill(h2)"
   ]
  },
  {
   "cell_type": "code",
   "execution_count": 67,
   "id": "de16248f",
   "metadata": {},
   "outputs": [
    {
     "data": {
      "text/plain": [
       "1"
      ]
     },
     "execution_count": 67,
     "metadata": {},
     "output_type": "execute_result"
    }
   ],
   "source": [
    "hit.kills"
   ]
  },
  {
   "cell_type": "code",
   "execution_count": 68,
   "id": "cfed2a48",
   "metadata": {},
   "outputs": [
    {
     "data": {
      "text/plain": [
       "[[102,Prateek,27,False]]"
      ]
     },
     "execution_count": 68,
     "metadata": {},
     "output_type": "execute_result"
    }
   ],
   "source": [
    "hit.kill_list"
   ]
  },
  {
   "cell_type": "code",
   "execution_count": 69,
   "id": "dfc1e86e",
   "metadata": {},
   "outputs": [
    {
     "name": "stdout",
     "output_type": "stream",
     "text": [
      "Prateek is already dead.\n"
     ]
    }
   ],
   "source": [
    "hit.kill(h2)"
   ]
  },
  {
   "cell_type": "code",
   "execution_count": 62,
   "id": "5a8c404f",
   "metadata": {},
   "outputs": [],
   "source": [
    "class A:\n",
    "    def m(self):\n",
    "        print('i am inside class A')\n",
    "\n",
    "class B(A):\n",
    "    def m1(self):\n",
    "        print('I am inside class B')\n",
    "\n",
    "class C(B):\n",
    "    def m1(self):\n",
    "        print('I am class c')\n",
    "        \n",
    "    def m2(self):\n",
    "        print('I am inside class c')\n"
   ]
  },
  {
   "cell_type": "code",
   "execution_count": 63,
   "id": "950e7e36",
   "metadata": {},
   "outputs": [],
   "source": [
    "obj1 = A()\n",
    "obj2 = B()"
   ]
  },
  {
   "cell_type": "code",
   "execution_count": 64,
   "id": "c3530303",
   "metadata": {},
   "outputs": [
    {
     "name": "stdout",
     "output_type": "stream",
     "text": [
      "i am inside class A\n"
     ]
    }
   ],
   "source": [
    "obj1.m()"
   ]
  },
  {
   "cell_type": "code",
   "execution_count": 65,
   "id": "7fbb0601",
   "metadata": {},
   "outputs": [
    {
     "name": "stdout",
     "output_type": "stream",
     "text": [
      "I am inside class B\n"
     ]
    }
   ],
   "source": [
    "obj2.m1()"
   ]
  },
  {
   "cell_type": "code",
   "execution_count": 66,
   "id": "b435361c",
   "metadata": {},
   "outputs": [],
   "source": [
    "obj3 = C()"
   ]
  },
  {
   "cell_type": "code",
   "execution_count": 67,
   "id": "57b78ddb",
   "metadata": {},
   "outputs": [
    {
     "name": "stdout",
     "output_type": "stream",
     "text": [
      "i am inside class A\n"
     ]
    }
   ],
   "source": [
    "obj3.m()"
   ]
  },
  {
   "cell_type": "code",
   "execution_count": 68,
   "id": "057b205f",
   "metadata": {},
   "outputs": [
    {
     "name": "stdout",
     "output_type": "stream",
     "text": [
      "I am class c\n"
     ]
    }
   ],
   "source": [
    "obj3.m1()"
   ]
  },
  {
   "cell_type": "code",
   "execution_count": 69,
   "id": "1063c9a3",
   "metadata": {},
   "outputs": [
    {
     "name": "stdout",
     "output_type": "stream",
     "text": [
      "I am inside class c\n"
     ]
    }
   ],
   "source": [
    "obj3.m2()"
   ]
  },
  {
   "cell_type": "code",
   "execution_count": 6,
   "id": "5c6e57bd",
   "metadata": {},
   "outputs": [],
   "source": [
    "class A():\n",
    "    def find(self):\n",
    "        print('Executed from class A')\n",
    "    \n",
    "class B():\n",
    "    def explore(self):\n",
    "        print('Executed from class B_explore')\n",
    "        \n",
    "    def discover(self):\n",
    "        print('Excuted from class B_discover')\n",
    "    \n",
    "class C(A,B):\n",
    "    def explore(self):\n",
    "        print('Excuted from class c')\n",
    "    "
   ]
  },
  {
   "cell_type": "code",
   "execution_count": 7,
   "id": "7cf6af6f",
   "metadata": {},
   "outputs": [],
   "source": [
    "obj1 = A()\n",
    "obj2 = B()\n",
    "obj3 = C()"
   ]
  },
  {
   "cell_type": "code",
   "execution_count": 8,
   "id": "188c4304",
   "metadata": {},
   "outputs": [
    {
     "name": "stdout",
     "output_type": "stream",
     "text": [
      "Executed from class A\n"
     ]
    }
   ],
   "source": [
    "obj1.find()"
   ]
  },
  {
   "cell_type": "code",
   "execution_count": 9,
   "id": "57e85608",
   "metadata": {},
   "outputs": [
    {
     "name": "stdout",
     "output_type": "stream",
     "text": [
      "Excuted from class B_discover\n"
     ]
    }
   ],
   "source": [
    "obj2.discover()"
   ]
  },
  {
   "cell_type": "code",
   "execution_count": 10,
   "id": "2b6875b3",
   "metadata": {},
   "outputs": [
    {
     "name": "stdout",
     "output_type": "stream",
     "text": [
      "Executed from class B_explore\n"
     ]
    }
   ],
   "source": [
    "obj2.explore()"
   ]
  },
  {
   "cell_type": "code",
   "execution_count": 11,
   "id": "8a5e14d6",
   "metadata": {},
   "outputs": [
    {
     "name": "stdout",
     "output_type": "stream",
     "text": [
      "Executed from class A\n"
     ]
    }
   ],
   "source": [
    "obj3.find()"
   ]
  },
  {
   "cell_type": "code",
   "execution_count": 12,
   "id": "9ed8ea53",
   "metadata": {},
   "outputs": [
    {
     "name": "stdout",
     "output_type": "stream",
     "text": [
      "Excuted from class c\n"
     ]
    }
   ],
   "source": [
    "obj3.explore()"
   ]
  },
  {
   "cell_type": "code",
   "execution_count": 13,
   "id": "6387287b",
   "metadata": {},
   "outputs": [
    {
     "name": "stdout",
     "output_type": "stream",
     "text": [
      "Excuted from class B_discover\n"
     ]
    }
   ],
   "source": [
    "obj3.discover()"
   ]
  },
  {
   "cell_type": "code",
   "execution_count": 14,
   "id": "60234d75",
   "metadata": {},
   "outputs": [],
   "source": [
    "class random():\n",
    "    pass"
   ]
  },
  {
   "cell_type": "code",
   "execution_count": 15,
   "id": "8e4baf8a",
   "metadata": {},
   "outputs": [],
   "source": [
    "#__new__\n",
    "#__init__\n",
    "#__str__"
   ]
  },
  {
   "cell_type": "code",
   "execution_count": 22,
   "id": "5604af41",
   "metadata": {},
   "outputs": [],
   "source": [
    "class A():\n",
    "    def find(self):\n",
    "        print('executed from class a_find')\n",
    "        \n",
    "    def discover(self):\n",
    "        print('executed from class a_discover')\n",
    "\n",
    "class B():\n",
    "    def explore(self):\n",
    "        print('executed from class b_explore')\n",
    "        \n",
    "    #def discover(self):\n",
    "        print('executed from class b_discover')\n",
    "        \n",
    "\n",
    "class C(B,A):\n",
    "    def explore(self):\n",
    "        print('executed from class c_expore')"
   ]
  },
  {
   "cell_type": "code",
   "execution_count": 23,
   "id": "7046f497",
   "metadata": {},
   "outputs": [],
   "source": [
    "obj = C()"
   ]
  },
  {
   "cell_type": "code",
   "execution_count": 24,
   "id": "5dc30d83",
   "metadata": {},
   "outputs": [
    {
     "name": "stdout",
     "output_type": "stream",
     "text": [
      "executed from class c_expore\n"
     ]
    }
   ],
   "source": [
    "obj.explore()"
   ]
  },
  {
   "cell_type": "code",
   "execution_count": 25,
   "id": "611d9122",
   "metadata": {},
   "outputs": [
    {
     "name": "stdout",
     "output_type": "stream",
     "text": [
      "executed from class a_find\n"
     ]
    }
   ],
   "source": [
    "obj.find()"
   ]
  },
  {
   "cell_type": "code",
   "execution_count": 26,
   "id": "53212aec",
   "metadata": {},
   "outputs": [
    {
     "name": "stdout",
     "output_type": "stream",
     "text": [
      "executed from class a_discover\n"
     ]
    }
   ],
   "source": [
    "obj.discover()"
   ]
  },
  {
   "cell_type": "code",
   "execution_count": null,
   "id": "12660777",
   "metadata": {},
   "outputs": [],
   "source": [
    "#MRO"
   ]
  },
  {
   "cell_type": "code",
   "execution_count": 28,
   "id": "3047fc46",
   "metadata": {},
   "outputs": [
    {
     "data": {
      "text/plain": [
       "[__main__.C, __main__.B, __main__.A, object]"
      ]
     },
     "execution_count": 28,
     "metadata": {},
     "output_type": "execute_result"
    }
   ],
   "source": [
    "C.mro()"
   ]
  },
  {
   "cell_type": "code",
   "execution_count": 30,
   "id": "fec58ffd",
   "metadata": {},
   "outputs": [],
   "source": [
    "#+-/*"
   ]
  },
  {
   "cell_type": "code",
   "execution_count": 31,
   "id": "53cfbb68",
   "metadata": {},
   "outputs": [
    {
     "data": {
      "text/plain": [
       "[1, 2, 3, 4, 5, 6]"
      ]
     },
     "execution_count": 31,
     "metadata": {},
     "output_type": "execute_result"
    }
   ],
   "source": [
    "[1,2,3] + [4,5,6]"
   ]
  },
  {
   "cell_type": "code",
   "execution_count": 32,
   "id": "49fdac48",
   "metadata": {},
   "outputs": [
    {
     "data": {
      "text/plain": [
       "20"
      ]
     },
     "execution_count": 32,
     "metadata": {},
     "output_type": "execute_result"
    }
   ],
   "source": [
    "15 + 5"
   ]
  },
  {
   "cell_type": "code",
   "execution_count": 34,
   "id": "65fc46e6",
   "metadata": {},
   "outputs": [
    {
     "data": {
      "text/plain": [
       "'machine learning'"
      ]
     },
     "execution_count": 34,
     "metadata": {},
     "output_type": "execute_result"
    }
   ],
   "source": [
    "'machine ' + 'learning'"
   ]
  },
  {
   "cell_type": "code",
   "execution_count": 35,
   "id": "98ad0046",
   "metadata": {},
   "outputs": [],
   "source": [
    "lst = [1,2,3,[4,5,6]]"
   ]
  },
  {
   "cell_type": "code",
   "execution_count": 39,
   "id": "c5ab9b35",
   "metadata": {},
   "outputs": [],
   "source": [
    "stg = 'machine learning is easy'"
   ]
  },
  {
   "cell_type": "code",
   "execution_count": 40,
   "id": "7618b86f",
   "metadata": {},
   "outputs": [
    {
     "data": {
      "text/plain": [
       "4"
      ]
     },
     "execution_count": 40,
     "metadata": {},
     "output_type": "execute_result"
    }
   ],
   "source": [
    "len(lst)"
   ]
  },
  {
   "cell_type": "code",
   "execution_count": 41,
   "id": "f36c1132",
   "metadata": {},
   "outputs": [
    {
     "data": {
      "text/plain": [
       "24"
      ]
     },
     "execution_count": 41,
     "metadata": {},
     "output_type": "execute_result"
    }
   ],
   "source": [
    "len(stg)"
   ]
  },
  {
   "cell_type": "code",
   "execution_count": 43,
   "id": "507dd4f0",
   "metadata": {},
   "outputs": [
    {
     "data": {
      "text/plain": [
       "1"
      ]
     },
     "execution_count": 43,
     "metadata": {},
     "output_type": "execute_result"
    }
   ],
   "source": [
    "len({1,1,1,1})"
   ]
  },
  {
   "cell_type": "code",
   "execution_count": 44,
   "id": "990dad12",
   "metadata": {},
   "outputs": [],
   "source": [
    "def my_sum(*args):\n",
    "    return sum(args)"
   ]
  },
  {
   "cell_type": "code",
   "execution_count": 45,
   "id": "3c0f3da4",
   "metadata": {},
   "outputs": [
    {
     "data": {
      "text/plain": [
       "20"
      ]
     },
     "execution_count": 45,
     "metadata": {},
     "output_type": "execute_result"
    }
   ],
   "source": [
    "my_sum(1,2,3,5,9)"
   ]
  },
  {
   "cell_type": "code",
   "execution_count": 53,
   "id": "9d33bf45",
   "metadata": {},
   "outputs": [],
   "source": [
    "class Animal():\n",
    "    def __init__(self):\n",
    "        self.color = 'White'\n",
    "        \n",
    "    def speak(self):\n",
    "        print('I will Speak')\n",
    "\n",
    "class Dog(Animal):\n",
    "    def speak(self):\n",
    "        print('Barkkkk.....')\n",
    "\n",
    "class Cat(Animal):\n",
    "    def speak(self):\n",
    "        print('meaoww....')\n",
    "\n",
    "class Duck(Animal):\n",
    "    def speak(self):\n",
    "        print('quack....')"
   ]
  },
  {
   "cell_type": "code",
   "execution_count": 54,
   "id": "3ef5de85",
   "metadata": {},
   "outputs": [],
   "source": [
    "dog = Dog()\n",
    "cat = Cat()\n",
    "duck = Duck()"
   ]
  },
  {
   "cell_type": "code",
   "execution_count": 55,
   "id": "a0876617",
   "metadata": {},
   "outputs": [
    {
     "name": "stdout",
     "output_type": "stream",
     "text": [
      "Barkkkk.....\n",
      "meaoww....\n",
      "quack....\n"
     ]
    }
   ],
   "source": [
    "for i in [dog,cat,duck]:\n",
    "    i.speak()"
   ]
  },
  {
   "cell_type": "code",
   "execution_count": 1,
   "id": "35fffb49",
   "metadata": {},
   "outputs": [],
   "source": [
    "my_lst = [2,5,15,10]"
   ]
  },
  {
   "cell_type": "code",
   "execution_count": 3,
   "id": "dc0b19db",
   "metadata": {},
   "outputs": [],
   "source": [
    "my_iter = iter(my_lst)"
   ]
  },
  {
   "cell_type": "code",
   "execution_count": 5,
   "id": "a56c6fbf",
   "metadata": {},
   "outputs": [
    {
     "data": {
      "text/plain": [
       "list_iterator"
      ]
     },
     "execution_count": 5,
     "metadata": {},
     "output_type": "execute_result"
    }
   ],
   "source": [
    "type(my_iter)\n"
   ]
  },
  {
   "cell_type": "code",
   "execution_count": 6,
   "id": "fc4ed796",
   "metadata": {},
   "outputs": [
    {
     "data": {
      "text/plain": [
       "2"
      ]
     },
     "execution_count": 6,
     "metadata": {},
     "output_type": "execute_result"
    }
   ],
   "source": [
    "next(my_iter)"
   ]
  },
  {
   "cell_type": "code",
   "execution_count": 7,
   "id": "6e6bf99a",
   "metadata": {},
   "outputs": [
    {
     "data": {
      "text/plain": [
       "5"
      ]
     },
     "execution_count": 7,
     "metadata": {},
     "output_type": "execute_result"
    }
   ],
   "source": [
    "next(my_iter)"
   ]
  },
  {
   "cell_type": "code",
   "execution_count": 8,
   "id": "cd165481",
   "metadata": {},
   "outputs": [
    {
     "data": {
      "text/plain": [
       "15"
      ]
     },
     "execution_count": 8,
     "metadata": {},
     "output_type": "execute_result"
    }
   ],
   "source": [
    "next(my_iter)"
   ]
  },
  {
   "cell_type": "code",
   "execution_count": 9,
   "id": "9b64c785",
   "metadata": {},
   "outputs": [
    {
     "data": {
      "text/plain": [
       "10"
      ]
     },
     "execution_count": 9,
     "metadata": {},
     "output_type": "execute_result"
    }
   ],
   "source": [
    "next(my_iter)"
   ]
  },
  {
   "cell_type": "code",
   "execution_count": 10,
   "id": "ff470349",
   "metadata": {},
   "outputs": [
    {
     "ename": "StopIteration",
     "evalue": "",
     "output_type": "error",
     "traceback": [
      "\u001b[1;31m---------------------------------------------------------------------------\u001b[0m",
      "\u001b[1;31mStopIteration\u001b[0m                             Traceback (most recent call last)",
      "Input \u001b[1;32mIn [10]\u001b[0m, in \u001b[0;36m<cell line: 1>\u001b[1;34m()\u001b[0m\n\u001b[1;32m----> 1\u001b[0m \u001b[38;5;28;43mnext\u001b[39;49m\u001b[43m(\u001b[49m\u001b[43mmy_iter\u001b[49m\u001b[43m)\u001b[49m\n",
      "\u001b[1;31mStopIteration\u001b[0m: "
     ]
    }
   ],
   "source": [
    "next(my_iter)"
   ]
  },
  {
   "cell_type": "code",
   "execution_count": 11,
   "id": "472f05d2",
   "metadata": {},
   "outputs": [
    {
     "data": {
      "text/plain": [
       "[2, 5, 15, 10]"
      ]
     },
     "execution_count": 11,
     "metadata": {},
     "output_type": "execute_result"
    }
   ],
   "source": [
    "my_lst"
   ]
  },
  {
   "cell_type": "code",
   "execution_count": 12,
   "id": "07c6f70c",
   "metadata": {},
   "outputs": [
    {
     "name": "stdout",
     "output_type": "stream",
     "text": [
      "2\n",
      "5\n",
      "15\n",
      "10\n"
     ]
    }
   ],
   "source": [
    "for i in my_lst:\n",
    "    print(i)"
   ]
  },
  {
   "cell_type": "code",
   "execution_count": 19,
   "id": "903ecc96",
   "metadata": {},
   "outputs": [
    {
     "name": "stdout",
     "output_type": "stream",
     "text": [
      "2\n",
      "5\n",
      "15\n",
      "10\n"
     ]
    }
   ],
   "source": [
    "my_iter = iter(my_lst)\n",
    "\n",
    "while True:\n",
    "    try:\n",
    "        res = next(my_iter)\n",
    "        print(res)\n",
    "    except StopIteration:\n",
    "        break"
   ]
  },
  {
   "cell_type": "code",
   "execution_count": 10,
   "id": "ec43635c",
   "metadata": {},
   "outputs": [],
   "source": [
    "class CubeNumber:\n",
    "    def __init__(self, number = 0):\n",
    "        self.number = number\n",
    "        \n",
    "    def __iter__(self):\n",
    "        self.ele = 0\n",
    "        return self\n",
    "    \n",
    "    def __next__(self):\n",
    "        if self.ele <= self.number:\n",
    "            result = self.ele**3\n",
    "            self.ele += 1\n",
    "            return result\n",
    "        else:\n",
    "            raise StopIteration"
   ]
  },
  {
   "cell_type": "code",
   "execution_count": 11,
   "id": "e4185aa1",
   "metadata": {},
   "outputs": [],
   "source": [
    "cn = CubeNumber(5)"
   ]
  },
  {
   "cell_type": "code",
   "execution_count": 12,
   "id": "cf6346a8",
   "metadata": {},
   "outputs": [],
   "source": [
    "my_iter = cn.__iter__()"
   ]
  },
  {
   "cell_type": "code",
   "execution_count": 13,
   "id": "1033752d",
   "metadata": {},
   "outputs": [
    {
     "data": {
      "text/plain": [
       "0"
      ]
     },
     "execution_count": 13,
     "metadata": {},
     "output_type": "execute_result"
    }
   ],
   "source": [
    "my_iter.__next__()"
   ]
  },
  {
   "cell_type": "code",
   "execution_count": 14,
   "id": "869711dd",
   "metadata": {},
   "outputs": [
    {
     "data": {
      "text/plain": [
       "1"
      ]
     },
     "execution_count": 14,
     "metadata": {},
     "output_type": "execute_result"
    }
   ],
   "source": [
    "my_iter.__next__()"
   ]
  },
  {
   "cell_type": "code",
   "execution_count": 15,
   "id": "7d790b8e",
   "metadata": {},
   "outputs": [
    {
     "data": {
      "text/plain": [
       "8"
      ]
     },
     "execution_count": 15,
     "metadata": {},
     "output_type": "execute_result"
    }
   ],
   "source": [
    "my_iter.__next__()"
   ]
  },
  {
   "cell_type": "code",
   "execution_count": 16,
   "id": "a9848857",
   "metadata": {},
   "outputs": [
    {
     "data": {
      "text/plain": [
       "27"
      ]
     },
     "execution_count": 16,
     "metadata": {},
     "output_type": "execute_result"
    }
   ],
   "source": [
    "my_iter.__next__()"
   ]
  },
  {
   "cell_type": "code",
   "execution_count": 17,
   "id": "bf08d704",
   "metadata": {},
   "outputs": [
    {
     "data": {
      "text/plain": [
       "64"
      ]
     },
     "execution_count": 17,
     "metadata": {},
     "output_type": "execute_result"
    }
   ],
   "source": [
    "my_iter.__next__()"
   ]
  },
  {
   "cell_type": "code",
   "execution_count": 18,
   "id": "6b24c968",
   "metadata": {},
   "outputs": [
    {
     "data": {
      "text/plain": [
       "125"
      ]
     },
     "execution_count": 18,
     "metadata": {},
     "output_type": "execute_result"
    }
   ],
   "source": [
    "my_iter.__next__()"
   ]
  },
  {
   "cell_type": "code",
   "execution_count": 19,
   "id": "cec16349",
   "metadata": {},
   "outputs": [
    {
     "ename": "StopIteration",
     "evalue": "",
     "output_type": "error",
     "traceback": [
      "\u001b[1;31m---------------------------------------------------------------------------\u001b[0m",
      "\u001b[1;31mStopIteration\u001b[0m                             Traceback (most recent call last)",
      "Input \u001b[1;32mIn [19]\u001b[0m, in \u001b[0;36m<cell line: 1>\u001b[1;34m()\u001b[0m\n\u001b[1;32m----> 1\u001b[0m \u001b[43mmy_iter\u001b[49m\u001b[38;5;241;43m.\u001b[39;49m\u001b[38;5;21;43m__next__\u001b[39;49m\u001b[43m(\u001b[49m\u001b[43m)\u001b[49m\n",
      "Input \u001b[1;32mIn [10]\u001b[0m, in \u001b[0;36mCubeNumber.__next__\u001b[1;34m(self)\u001b[0m\n\u001b[0;32m     13\u001b[0m     \u001b[38;5;28;01mreturn\u001b[39;00m result\n\u001b[0;32m     14\u001b[0m \u001b[38;5;28;01melse\u001b[39;00m:\n\u001b[1;32m---> 15\u001b[0m     \u001b[38;5;28;01mraise\u001b[39;00m \u001b[38;5;167;01mStopIteration\u001b[39;00m\n",
      "\u001b[1;31mStopIteration\u001b[0m: "
     ]
    }
   ],
   "source": [
    "my_iter.__next__()"
   ]
  },
  {
   "cell_type": "code",
   "execution_count": 20,
   "id": "eb8b19a2",
   "metadata": {},
   "outputs": [
    {
     "name": "stdout",
     "output_type": "stream",
     "text": [
      "0\n",
      "1\n",
      "8\n",
      "27\n",
      "64\n",
      "125\n"
     ]
    }
   ],
   "source": [
    "for i in cn:\n",
    "    print(i)"
   ]
  },
  {
   "cell_type": "code",
   "execution_count": 24,
   "id": "fcfeb78e",
   "metadata": {},
   "outputs": [],
   "source": [
    "def my_generator():\n",
    "    n = 1\n",
    "    print('first time')\n",
    "    yield n\n",
    "    \n",
    "    n+=1\n",
    "    print('second time')\n",
    "    yield n\n",
    "    \n",
    "    n+=1\n",
    "    print('third time')\n",
    "    yield n"
   ]
  },
  {
   "cell_type": "code",
   "execution_count": 25,
   "id": "e1431dae",
   "metadata": {},
   "outputs": [],
   "source": [
    "my_gen = my_generator()"
   ]
  },
  {
   "cell_type": "code",
   "execution_count": 27,
   "id": "ad40fbd3",
   "metadata": {},
   "outputs": [
    {
     "data": {
      "text/plain": [
       "generator"
      ]
     },
     "execution_count": 27,
     "metadata": {},
     "output_type": "execute_result"
    }
   ],
   "source": [
    "type(my_gen)"
   ]
  },
  {
   "cell_type": "code",
   "execution_count": 28,
   "id": "67176157",
   "metadata": {},
   "outputs": [
    {
     "name": "stdout",
     "output_type": "stream",
     "text": [
      "first time\n"
     ]
    },
    {
     "data": {
      "text/plain": [
       "1"
      ]
     },
     "execution_count": 28,
     "metadata": {},
     "output_type": "execute_result"
    }
   ],
   "source": [
    "next(my_gen)"
   ]
  },
  {
   "cell_type": "code",
   "execution_count": 29,
   "id": "22714e97",
   "metadata": {},
   "outputs": [
    {
     "name": "stdout",
     "output_type": "stream",
     "text": [
      "second time\n"
     ]
    },
    {
     "data": {
      "text/plain": [
       "2"
      ]
     },
     "execution_count": 29,
     "metadata": {},
     "output_type": "execute_result"
    }
   ],
   "source": [
    "next(my_gen)"
   ]
  },
  {
   "cell_type": "code",
   "execution_count": 30,
   "id": "9c3e5bc8",
   "metadata": {},
   "outputs": [
    {
     "name": "stdout",
     "output_type": "stream",
     "text": [
      "third time\n"
     ]
    },
    {
     "data": {
      "text/plain": [
       "3"
      ]
     },
     "execution_count": 30,
     "metadata": {},
     "output_type": "execute_result"
    }
   ],
   "source": [
    "next(my_gen)"
   ]
  },
  {
   "cell_type": "code",
   "execution_count": 31,
   "id": "b71a9bbc",
   "metadata": {},
   "outputs": [
    {
     "ename": "StopIteration",
     "evalue": "",
     "output_type": "error",
     "traceback": [
      "\u001b[1;31m---------------------------------------------------------------------------\u001b[0m",
      "\u001b[1;31mStopIteration\u001b[0m                             Traceback (most recent call last)",
      "Input \u001b[1;32mIn [31]\u001b[0m, in \u001b[0;36m<cell line: 1>\u001b[1;34m()\u001b[0m\n\u001b[1;32m----> 1\u001b[0m \u001b[38;5;28;43mnext\u001b[39;49m\u001b[43m(\u001b[49m\u001b[43mmy_gen\u001b[49m\u001b[43m)\u001b[49m\n",
      "\u001b[1;31mStopIteration\u001b[0m: "
     ]
    }
   ],
   "source": [
    "next(my_gen)"
   ]
  },
  {
   "cell_type": "code",
   "execution_count": 42,
   "id": "77467607",
   "metadata": {},
   "outputs": [],
   "source": [
    "def counter_func(n):\n",
    "    i = 1\n",
    "    while (i<=n):\n",
    "        return i\n",
    "        \n",
    "        i+=1\n",
    "    "
   ]
  },
  {
   "cell_type": "code",
   "execution_count": 43,
   "id": "b39ffb3c",
   "metadata": {},
   "outputs": [
    {
     "data": {
      "text/plain": [
       "1"
      ]
     },
     "execution_count": 43,
     "metadata": {},
     "output_type": "execute_result"
    }
   ],
   "source": [
    "counter_func(5)"
   ]
  },
  {
   "cell_type": "code",
   "execution_count": 54,
   "id": "0b652a08",
   "metadata": {},
   "outputs": [],
   "source": [
    "def counter_gen(n):\n",
    "    i = 1\n",
    "    while (i<=n):\n",
    "        yield i\n",
    "        \n",
    "        i+=1"
   ]
  },
  {
   "cell_type": "code",
   "execution_count": 55,
   "id": "29aec2e2",
   "metadata": {},
   "outputs": [],
   "source": [
    "my_gen = counter_gen(5)"
   ]
  },
  {
   "cell_type": "code",
   "execution_count": 47,
   "id": "9be89a97",
   "metadata": {},
   "outputs": [
    {
     "data": {
      "text/plain": [
       "1"
      ]
     },
     "execution_count": 47,
     "metadata": {},
     "output_type": "execute_result"
    }
   ],
   "source": [
    "next(my_gen)"
   ]
  },
  {
   "cell_type": "code",
   "execution_count": 48,
   "id": "b5b4939c",
   "metadata": {},
   "outputs": [
    {
     "data": {
      "text/plain": [
       "2"
      ]
     },
     "execution_count": 48,
     "metadata": {},
     "output_type": "execute_result"
    }
   ],
   "source": [
    "next(my_gen)"
   ]
  },
  {
   "cell_type": "code",
   "execution_count": 49,
   "id": "83e2f253",
   "metadata": {},
   "outputs": [
    {
     "data": {
      "text/plain": [
       "3"
      ]
     },
     "execution_count": 49,
     "metadata": {},
     "output_type": "execute_result"
    }
   ],
   "source": [
    "next(my_gen)"
   ]
  },
  {
   "cell_type": "code",
   "execution_count": 50,
   "id": "d036a6fd",
   "metadata": {},
   "outputs": [
    {
     "data": {
      "text/plain": [
       "4"
      ]
     },
     "execution_count": 50,
     "metadata": {},
     "output_type": "execute_result"
    }
   ],
   "source": [
    "next(my_gen)"
   ]
  },
  {
   "cell_type": "code",
   "execution_count": 51,
   "id": "0bb28c29",
   "metadata": {},
   "outputs": [
    {
     "data": {
      "text/plain": [
       "5"
      ]
     },
     "execution_count": 51,
     "metadata": {},
     "output_type": "execute_result"
    }
   ],
   "source": [
    "next(my_gen)"
   ]
  },
  {
   "cell_type": "code",
   "execution_count": 52,
   "id": "5871b651",
   "metadata": {},
   "outputs": [
    {
     "ename": "StopIteration",
     "evalue": "",
     "output_type": "error",
     "traceback": [
      "\u001b[1;31m---------------------------------------------------------------------------\u001b[0m",
      "\u001b[1;31mStopIteration\u001b[0m                             Traceback (most recent call last)",
      "Input \u001b[1;32mIn [52]\u001b[0m, in \u001b[0;36m<cell line: 1>\u001b[1;34m()\u001b[0m\n\u001b[1;32m----> 1\u001b[0m \u001b[38;5;28;43mnext\u001b[39;49m\u001b[43m(\u001b[49m\u001b[43mmy_gen\u001b[49m\u001b[43m)\u001b[49m\n",
      "\u001b[1;31mStopIteration\u001b[0m: "
     ]
    }
   ],
   "source": [
    "next(my_gen)"
   ]
  },
  {
   "cell_type": "code",
   "execution_count": 56,
   "id": "4a690f36",
   "metadata": {},
   "outputs": [
    {
     "name": "stdout",
     "output_type": "stream",
     "text": [
      "1\n",
      "2\n",
      "3\n",
      "4\n",
      "5\n"
     ]
    }
   ],
   "source": [
    "for i in my_gen:\n",
    "    print(i)"
   ]
  },
  {
   "cell_type": "code",
   "execution_count": 66,
   "id": "81213108",
   "metadata": {},
   "outputs": [],
   "source": [
    "def reverse_string(st):\n",
    "    for i in range(len(st)-1,-1,-1):\n",
    "        yield st[i]"
   ]
  },
  {
   "cell_type": "code",
   "execution_count": 67,
   "id": "3ccde88a",
   "metadata": {},
   "outputs": [
    {
     "name": "stdout",
     "output_type": "stream",
     "text": [
      "y\n",
      "a\n",
      "j\n",
      "n\n",
      "a\n",
      "s\n"
     ]
    }
   ],
   "source": [
    "for ele in reverse_string('sanjay'):\n",
    "    print(ele)"
   ]
  },
  {
   "cell_type": "code",
   "execution_count": 69,
   "id": "35361f4c",
   "metadata": {},
   "outputs": [],
   "source": [
    "my_gen = reverse_string('sachin')"
   ]
  },
  {
   "cell_type": "code",
   "execution_count": 70,
   "id": "ccc8f31e",
   "metadata": {},
   "outputs": [
    {
     "data": {
      "text/plain": [
       "'n'"
      ]
     },
     "execution_count": 70,
     "metadata": {},
     "output_type": "execute_result"
    }
   ],
   "source": [
    "next(my_gen)"
   ]
  },
  {
   "cell_type": "code",
   "execution_count": 71,
   "id": "2266a0e5",
   "metadata": {},
   "outputs": [
    {
     "data": {
      "text/plain": [
       "'i'"
      ]
     },
     "execution_count": 71,
     "metadata": {},
     "output_type": "execute_result"
    }
   ],
   "source": [
    "next(my_gen)"
   ]
  },
  {
   "cell_type": "code",
   "execution_count": 72,
   "id": "4e2d832c",
   "metadata": {},
   "outputs": [
    {
     "data": {
      "text/plain": [
       "'h'"
      ]
     },
     "execution_count": 72,
     "metadata": {},
     "output_type": "execute_result"
    }
   ],
   "source": [
    "next(my_gen)"
   ]
  },
  {
   "cell_type": "code",
   "execution_count": 73,
   "id": "26bc3ef0",
   "metadata": {},
   "outputs": [
    {
     "data": {
      "text/plain": [
       "'c'"
      ]
     },
     "execution_count": 73,
     "metadata": {},
     "output_type": "execute_result"
    }
   ],
   "source": [
    "next(my_gen)"
   ]
  },
  {
   "cell_type": "code",
   "execution_count": 74,
   "id": "6a890ac4",
   "metadata": {},
   "outputs": [
    {
     "data": {
      "text/plain": [
       "'a'"
      ]
     },
     "execution_count": 74,
     "metadata": {},
     "output_type": "execute_result"
    }
   ],
   "source": [
    "next(my_gen)"
   ]
  },
  {
   "cell_type": "code",
   "execution_count": 75,
   "id": "36782741",
   "metadata": {},
   "outputs": [
    {
     "data": {
      "text/plain": [
       "'s'"
      ]
     },
     "execution_count": 75,
     "metadata": {},
     "output_type": "execute_result"
    }
   ],
   "source": [
    "next(my_gen)"
   ]
  },
  {
   "cell_type": "code",
   "execution_count": 76,
   "id": "b6475728",
   "metadata": {},
   "outputs": [
    {
     "ename": "StopIteration",
     "evalue": "",
     "output_type": "error",
     "traceback": [
      "\u001b[1;31m---------------------------------------------------------------------------\u001b[0m",
      "\u001b[1;31mStopIteration\u001b[0m                             Traceback (most recent call last)",
      "Input \u001b[1;32mIn [76]\u001b[0m, in \u001b[0;36m<cell line: 1>\u001b[1;34m()\u001b[0m\n\u001b[1;32m----> 1\u001b[0m \u001b[38;5;28;43mnext\u001b[39;49m\u001b[43m(\u001b[49m\u001b[43mmy_gen\u001b[49m\u001b[43m)\u001b[49m\n",
      "\u001b[1;31mStopIteration\u001b[0m: "
     ]
    }
   ],
   "source": [
    "next(my_gen)"
   ]
  },
  {
   "cell_type": "code",
   "execution_count": 6,
   "id": "02b22a33",
   "metadata": {},
   "outputs": [],
   "source": [
    "squares_list  = [i**2 for i in range(10000000) if i%2==0]"
   ]
  },
  {
   "cell_type": "code",
   "execution_count": 4,
   "id": "04a0bbef",
   "metadata": {},
   "outputs": [],
   "source": [
    "squares_gen  = (i**2 for i in range(10000000) if i%2==0)"
   ]
  },
  {
   "cell_type": "code",
   "execution_count": 5,
   "id": "3d755f07",
   "metadata": {},
   "outputs": [
    {
     "name": "stdout",
     "output_type": "stream",
     "text": [
      "0\n",
      "4\n",
      "16\n",
      "36\n",
      "64\n",
      "100\n",
      "144\n",
      "196\n",
      "256\n",
      "324\n"
     ]
    }
   ],
   "source": [
    "idx = 0\n",
    "for i in squares_gen:\n",
    "    if idx == 10:\n",
    "        break\n",
    "    else:\n",
    "        print(i)\n",
    "        \n",
    "    idx+=1"
   ]
  },
  {
   "cell_type": "code",
   "execution_count": 7,
   "id": "3ee9200a",
   "metadata": {},
   "outputs": [
    {
     "name": "stdout",
     "output_type": "stream",
     "text": [
      "0\n",
      "4\n",
      "16\n",
      "36\n",
      "64\n",
      "100\n",
      "144\n",
      "196\n",
      "256\n",
      "324\n"
     ]
    }
   ],
   "source": [
    "idx = 0\n",
    "\n",
    "for i in squares_list:\n",
    "    if idx == 10:\n",
    "        break\n",
    "    else:\n",
    "        print(i)\n",
    "    idx += 1"
   ]
  },
  {
   "cell_type": "code",
   "execution_count": 8,
   "id": "2a003f79",
   "metadata": {},
   "outputs": [],
   "source": [
    "def add(ele):\n",
    "    return ele+1"
   ]
  },
  {
   "cell_type": "code",
   "execution_count": 9,
   "id": "af62a7a8",
   "metadata": {},
   "outputs": [],
   "source": [
    "def sub(ele):\n",
    "    return ele-1"
   ]
  },
  {
   "cell_type": "code",
   "execution_count": 10,
   "id": "019bb1ae",
   "metadata": {},
   "outputs": [],
   "source": [
    "def calculator(operator, number):\n",
    "    result = operator(number)\n",
    "    return result"
   ]
  },
  {
   "cell_type": "code",
   "execution_count": 13,
   "id": "85a01f96",
   "metadata": {},
   "outputs": [],
   "source": [
    "add??"
   ]
  },
  {
   "cell_type": "code",
   "execution_count": 14,
   "id": "90d3dfae",
   "metadata": {},
   "outputs": [
    {
     "data": {
      "text/plain": [
       "6"
      ]
     },
     "execution_count": 14,
     "metadata": {},
     "output_type": "execute_result"
    }
   ],
   "source": [
    "calculator(add,5)"
   ]
  },
  {
   "cell_type": "code",
   "execution_count": 15,
   "id": "69e6ba52",
   "metadata": {},
   "outputs": [
    {
     "data": {
      "text/plain": [
       "7"
      ]
     },
     "execution_count": 15,
     "metadata": {},
     "output_type": "execute_result"
    }
   ],
   "source": [
    "calculator(sub, 8)"
   ]
  },
  {
   "cell_type": "code",
   "execution_count": 16,
   "id": "c96a64fa",
   "metadata": {},
   "outputs": [],
   "source": [
    "sub??"
   ]
  },
  {
   "cell_type": "code",
   "execution_count": 35,
   "id": "05faf7a5",
   "metadata": {},
   "outputs": [],
   "source": [
    "def basic():\n",
    "    print('i am a very basic function')"
   ]
  },
  {
   "cell_type": "code",
   "execution_count": 36,
   "id": "1051d553",
   "metadata": {},
   "outputs": [
    {
     "name": "stdout",
     "output_type": "stream",
     "text": [
      "i am a very basic function\n"
     ]
    }
   ],
   "source": [
    "basic()"
   ]
  },
  {
   "cell_type": "code",
   "execution_count": 37,
   "id": "ed0eb6fc",
   "metadata": {},
   "outputs": [],
   "source": [
    "def add_features(func):\n",
    "    def wrapper():\n",
    "        print('='*30)\n",
    "        print('new features added')\n",
    "        print('='*30)\n",
    "        func()\n",
    "    return wrapper"
   ]
  },
  {
   "cell_type": "code",
   "execution_count": 38,
   "id": "5eba9d1e",
   "metadata": {},
   "outputs": [],
   "source": [
    "new_func = add_features(basic)"
   ]
  },
  {
   "cell_type": "code",
   "execution_count": 39,
   "id": "d541dada",
   "metadata": {},
   "outputs": [
    {
     "name": "stdout",
     "output_type": "stream",
     "text": [
      "==============================\n",
      "new features added\n",
      "==============================\n",
      "i am a very basic function\n"
     ]
    }
   ],
   "source": [
    "new_func()"
   ]
  },
  {
   "cell_type": "code",
   "execution_count": 51,
   "id": "19042e6f",
   "metadata": {},
   "outputs": [],
   "source": [
    "@star\n",
    "@add_features\n",
    "def basic():\n",
    "    print('i am a very basic function')"
   ]
  },
  {
   "cell_type": "code",
   "execution_count": 52,
   "id": "4314ead2",
   "metadata": {},
   "outputs": [
    {
     "name": "stdout",
     "output_type": "stream",
     "text": [
      "******************************\n",
      "==============================\n",
      "new features added\n",
      "==============================\n",
      "i am a very basic function\n",
      "******************************\n"
     ]
    }
   ],
   "source": [
    "basic()"
   ]
  },
  {
   "cell_type": "code",
   "execution_count": 50,
   "id": "4ee1e790",
   "metadata": {},
   "outputs": [],
   "source": [
    "def star(func):\n",
    "    def wrapper():\n",
    "        print('*'*30)\n",
    "        func()\n",
    "        print('*'*30)\n",
    "    return wrapper"
   ]
  },
  {
   "cell_type": "code",
   "execution_count": 53,
   "id": "9fc64f2e",
   "metadata": {},
   "outputs": [],
   "source": [
    "db = {\"sanjay\": \"sanj123\",\n",
    "     \"mohit\": \"moh123\",\n",
    "     'sachin':\"sac123\"}"
   ]
  },
  {
   "cell_type": "code",
   "execution_count": 54,
   "id": "bcf242af",
   "metadata": {},
   "outputs": [],
   "source": [
    "def login(func):\n",
    "    def wrapper(username,password,*args,**kwargs):\n",
    "        if username in db and db[username] == password:\n",
    "            func(*args, **kwargs)\n",
    "        else:\n",
    "            print('authentication failed')\n",
    "    return wrapper"
   ]
  },
  {
   "cell_type": "code",
   "execution_count": 57,
   "id": "b719f6f1",
   "metadata": {},
   "outputs": [],
   "source": [
    "@login\n",
    "def add(a,b):\n",
    "    print(a+b)"
   ]
  },
  {
   "cell_type": "code",
   "execution_count": 59,
   "id": "cd942581",
   "metadata": {},
   "outputs": [
    {
     "name": "stdout",
     "output_type": "stream",
     "text": [
      "11\n"
     ]
    }
   ],
   "source": [
    "add(\"sanjay\", \"sanj123\", 5,6)"
   ]
  },
  {
   "cell_type": "code",
   "execution_count": 9,
   "id": "dd6ff888",
   "metadata": {},
   "outputs": [],
   "source": [
    "db = {'kumar':'kum123',\n",
    "     'mohit':\"mo123\",\n",
    "     \"machine\":\"mac123\"}"
   ]
  },
  {
   "cell_type": "code",
   "execution_count": 10,
   "id": "de12b066",
   "metadata": {},
   "outputs": [],
   "source": [
    "def login(func):\n",
    "    def wrapper(username, password, *args,**kwargs):\n",
    "        if username in db and db[username] == password:\n",
    "            func(*args, **kwargs)\n",
    "        else:\n",
    "            print(\"authentication failed\")\n",
    "            \n",
    "    return wrapper"
   ]
  },
  {
   "cell_type": "code",
   "execution_count": 11,
   "id": "c53d8b5b",
   "metadata": {},
   "outputs": [],
   "source": [
    "@login\n",
    "def add(a,b):\n",
    "    print(a+b)"
   ]
  },
  {
   "cell_type": "code",
   "execution_count": 13,
   "id": "8ef3f752",
   "metadata": {},
   "outputs": [
    {
     "name": "stdout",
     "output_type": "stream",
     "text": [
      "65\n"
     ]
    }
   ],
   "source": [
    "add(\"machine\", \"mac123\", 5,60)"
   ]
  },
  {
   "cell_type": "code",
   "execution_count": 27,
   "id": "75125bd9",
   "metadata": {},
   "outputs": [],
   "source": [
    "def star(func):\n",
    "    def wrapper(*args, **kwargs):\n",
    "        print(\"*\"*30)\n",
    "        func(*args,**kwargs)\n",
    "        print(\"*\"*30)\n",
    "    return wrapper"
   ]
  },
  {
   "cell_type": "code",
   "execution_count": 30,
   "id": "952e3a99",
   "metadata": {},
   "outputs": [],
   "source": [
    "def doller(func):\n",
    "    def wrapper(*args, **kwargs):\n",
    "        print(\"$\"*30)\n",
    "        func(*args,**kwargs)\n",
    "        print(\"$\"*30)\n",
    "    return wrapper"
   ]
  },
  {
   "cell_type": "code",
   "execution_count": 33,
   "id": "f9ce437b",
   "metadata": {},
   "outputs": [],
   "source": [
    "@doller\n",
    "@star\n",
    "def main(message):\n",
    "    print(message)"
   ]
  },
  {
   "cell_type": "code",
   "execution_count": 34,
   "id": "3bcb03fc",
   "metadata": {},
   "outputs": [
    {
     "name": "stdout",
     "output_type": "stream",
     "text": [
      "$$$$$$$$$$$$$$$$$$$$$$$$$$$$$$\n",
      "******************************\n",
      "hello world\n",
      "******************************\n",
      "$$$$$$$$$$$$$$$$$$$$$$$$$$$$$$\n"
     ]
    }
   ],
   "source": [
    "\n",
    "main('hello world')"
   ]
  },
  {
   "cell_type": "code",
   "execution_count": null,
   "id": "7c15ac31",
   "metadata": {},
   "outputs": [],
   "source": []
  }
 ],
 "metadata": {
  "kernelspec": {
   "display_name": "Python 3 (ipykernel)",
   "language": "python",
   "name": "python3"
  },
  "language_info": {
   "codemirror_mode": {
    "name": "ipython",
    "version": 3
   },
   "file_extension": ".py",
   "mimetype": "text/x-python",
   "name": "python",
   "nbconvert_exporter": "python",
   "pygments_lexer": "ipython3",
   "version": "3.8.8"
  }
 },
 "nbformat": 4,
 "nbformat_minor": 5
}
