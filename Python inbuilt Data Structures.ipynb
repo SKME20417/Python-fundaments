{
 "cells": [
  {
   "cell_type": "code",
   "execution_count": 1,
   "id": "516b4291",
   "metadata": {},
   "outputs": [],
   "source": [
    "my_str = 'welcome to the course'"
   ]
  },
  {
   "cell_type": "code",
   "execution_count": 2,
   "id": "475a488b",
   "metadata": {},
   "outputs": [
    {
     "name": "stdout",
     "output_type": "stream",
     "text": [
      "welcome to the course\n"
     ]
    }
   ],
   "source": [
    "print(my_str)"
   ]
  },
  {
   "cell_type": "code",
   "execution_count": 3,
   "id": "5b2688cc",
   "metadata": {},
   "outputs": [
    {
     "data": {
      "text/plain": [
       "str"
      ]
     },
     "execution_count": 3,
     "metadata": {},
     "output_type": "execute_result"
    }
   ],
   "source": [
    "type(my_str)"
   ]
  },
  {
   "cell_type": "code",
   "execution_count": 4,
   "id": "86666bbf",
   "metadata": {},
   "outputs": [
    {
     "data": {
      "text/plain": [
       "'w'"
      ]
     },
     "execution_count": 4,
     "metadata": {},
     "output_type": "execute_result"
    }
   ],
   "source": [
    "my_str[0]"
   ]
  },
  {
   "cell_type": "code",
   "execution_count": 5,
   "id": "22302803",
   "metadata": {},
   "outputs": [
    {
     "data": {
      "text/plain": [
       "'m'"
      ]
     },
     "execution_count": 5,
     "metadata": {},
     "output_type": "execute_result"
    }
   ],
   "source": [
    "my_str[5]"
   ]
  },
  {
   "cell_type": "code",
   "execution_count": 6,
   "id": "26865616",
   "metadata": {},
   "outputs": [
    {
     "data": {
      "text/plain": [
       "'welcome to the course'"
      ]
     },
     "execution_count": 6,
     "metadata": {},
     "output_type": "execute_result"
    }
   ],
   "source": [
    "my_str[::]"
   ]
  },
  {
   "cell_type": "code",
   "execution_count": 7,
   "id": "e6521300",
   "metadata": {},
   "outputs": [
    {
     "data": {
      "text/plain": [
       "'esruoc eht ot emoclew'"
      ]
     },
     "execution_count": 7,
     "metadata": {},
     "output_type": "execute_result"
    }
   ],
   "source": [
    "my_str[::-1]"
   ]
  },
  {
   "cell_type": "code",
   "execution_count": 8,
   "id": "e13d136c",
   "metadata": {},
   "outputs": [
    {
     "data": {
      "text/plain": [
       "'w'"
      ]
     },
     "execution_count": 8,
     "metadata": {},
     "output_type": "execute_result"
    }
   ],
   "source": [
    "my_str[0::-1]"
   ]
  },
  {
   "cell_type": "code",
   "execution_count": 9,
   "id": "bd5dd710",
   "metadata": {},
   "outputs": [
    {
     "data": {
      "text/plain": [
       "21"
      ]
     },
     "execution_count": 9,
     "metadata": {},
     "output_type": "execute_result"
    }
   ],
   "source": [
    "len(my_str)"
   ]
  },
  {
   "cell_type": "code",
   "execution_count": 10,
   "id": "b1ded2ed",
   "metadata": {},
   "outputs": [
    {
     "data": {
      "text/plain": [
       "'e'"
      ]
     },
     "execution_count": 10,
     "metadata": {},
     "output_type": "execute_result"
    }
   ],
   "source": [
    "my_str[20]"
   ]
  },
  {
   "cell_type": "code",
   "execution_count": 11,
   "id": "a3ab4b09",
   "metadata": {},
   "outputs": [
    {
     "data": {
      "text/plain": [
       "'e'"
      ]
     },
     "execution_count": 11,
     "metadata": {},
     "output_type": "execute_result"
    }
   ],
   "source": [
    "my_str[-1]"
   ]
  },
  {
   "cell_type": "code",
   "execution_count": 12,
   "id": "58621409",
   "metadata": {},
   "outputs": [
    {
     "data": {
      "text/plain": [
       "'me to the co'"
      ]
     },
     "execution_count": 12,
     "metadata": {},
     "output_type": "execute_result"
    }
   ],
   "source": [
    "my_str[5:-4]"
   ]
  },
  {
   "cell_type": "code",
   "execution_count": 13,
   "id": "4a73cacc",
   "metadata": {},
   "outputs": [
    {
     "data": {
      "text/plain": [
       "'welcome to the course'"
      ]
     },
     "execution_count": 13,
     "metadata": {},
     "output_type": "execute_result"
    }
   ],
   "source": [
    "my_str"
   ]
  },
  {
   "cell_type": "code",
   "execution_count": 14,
   "id": "90229cdc",
   "metadata": {},
   "outputs": [
    {
     "data": {
      "text/plain": [
       "'me t'"
      ]
     },
     "execution_count": 14,
     "metadata": {},
     "output_type": "execute_result"
    }
   ],
   "source": [
    "my_str[5:9]"
   ]
  },
  {
   "cell_type": "code",
   "execution_count": 15,
   "id": "25e134ee",
   "metadata": {},
   "outputs": [
    {
     "data": {
      "text/plain": [
       "'esruoc eht ot emoclew'"
      ]
     },
     "execution_count": 15,
     "metadata": {},
     "output_type": "execute_result"
    }
   ],
   "source": [
    "my_str[::-1]"
   ]
  },
  {
   "cell_type": "code",
   "execution_count": 16,
   "id": "1a80ec31",
   "metadata": {},
   "outputs": [
    {
     "data": {
      "text/plain": [
       "'welcome to the cours'"
      ]
     },
     "execution_count": 16,
     "metadata": {},
     "output_type": "execute_result"
    }
   ],
   "source": [
    "my_str[0:-1]"
   ]
  },
  {
   "cell_type": "code",
   "execution_count": 17,
   "id": "fcba83e7",
   "metadata": {},
   "outputs": [
    {
     "data": {
      "text/plain": [
       "'welcome to the course'"
      ]
     },
     "execution_count": 17,
     "metadata": {},
     "output_type": "execute_result"
    }
   ],
   "source": [
    "my_str[:]"
   ]
  },
  {
   "cell_type": "code",
   "execution_count": 18,
   "id": "f5eb256a",
   "metadata": {},
   "outputs": [
    {
     "data": {
      "text/plain": [
       "'esruoc eht ot emoclew'"
      ]
     },
     "execution_count": 18,
     "metadata": {},
     "output_type": "execute_result"
    }
   ],
   "source": [
    "my_str[::-1]"
   ]
  },
  {
   "cell_type": "code",
   "execution_count": 19,
   "id": "b78795ac",
   "metadata": {},
   "outputs": [
    {
     "data": {
      "text/plain": [
       "'w'"
      ]
     },
     "execution_count": 19,
     "metadata": {},
     "output_type": "execute_result"
    }
   ],
   "source": [
    "my_str[0::-1]"
   ]
  },
  {
   "cell_type": "code",
   "execution_count": 20,
   "id": "f5e914b4",
   "metadata": {},
   "outputs": [
    {
     "data": {
      "text/plain": [
       "'ecm ote'"
      ]
     },
     "execution_count": 20,
     "metadata": {},
     "output_type": "execute_result"
    }
   ],
   "source": [
    "my_str[1:14:2]"
   ]
  },
  {
   "cell_type": "code",
   "execution_count": 21,
   "id": "99e38169",
   "metadata": {},
   "outputs": [
    {
     "data": {
      "text/plain": [
       "'eu tt'"
      ]
     },
     "execution_count": 21,
     "metadata": {},
     "output_type": "execute_result"
    }
   ],
   "source": [
    "my_str[-1:-15:-3]"
   ]
  },
  {
   "cell_type": "code",
   "execution_count": 22,
   "id": "540755d9",
   "metadata": {},
   "outputs": [
    {
     "data": {
      "text/plain": [
       "'esruoc eht ot emoclew'"
      ]
     },
     "execution_count": 22,
     "metadata": {},
     "output_type": "execute_result"
    }
   ],
   "source": [
    "my_str[::-1]"
   ]
  },
  {
   "cell_type": "code",
   "execution_count": 23,
   "id": "f6c6a490",
   "metadata": {},
   "outputs": [
    {
     "name": "stdout",
     "output_type": "stream",
     "text": [
      "welcome to the course\n"
     ]
    }
   ],
   "source": [
    "print(my_str)"
   ]
  },
  {
   "cell_type": "code",
   "execution_count": 24,
   "id": "756abb67",
   "metadata": {},
   "outputs": [
    {
     "data": {
      "text/plain": [
       "'WELCOME TO THE COURSE'"
      ]
     },
     "execution_count": 24,
     "metadata": {},
     "output_type": "execute_result"
    }
   ],
   "source": [
    "my_str.upper()"
   ]
  },
  {
   "cell_type": "code",
   "execution_count": 25,
   "id": "f9e63689",
   "metadata": {},
   "outputs": [
    {
     "data": {
      "text/plain": [
       "'welcome to the course'"
      ]
     },
     "execution_count": 25,
     "metadata": {},
     "output_type": "execute_result"
    }
   ],
   "source": [
    "my_str.lower()"
   ]
  },
  {
   "cell_type": "code",
   "execution_count": 26,
   "id": "fdefe190",
   "metadata": {},
   "outputs": [
    {
     "data": {
      "text/plain": [
       "'Welcome To The Course'"
      ]
     },
     "execution_count": 26,
     "metadata": {},
     "output_type": "execute_result"
    }
   ],
   "source": [
    "my_str.title()"
   ]
  },
  {
   "cell_type": "code",
   "execution_count": 27,
   "id": "fefeac0e",
   "metadata": {},
   "outputs": [
    {
     "data": {
      "text/plain": [
       "3"
      ]
     },
     "execution_count": 27,
     "metadata": {},
     "output_type": "execute_result"
    }
   ],
   "source": [
    "my_str.find('come')"
   ]
  },
  {
   "cell_type": "code",
   "execution_count": 28,
   "id": "998a0298",
   "metadata": {},
   "outputs": [
    {
     "data": {
      "text/plain": [
       "-1"
      ]
     },
     "execution_count": 28,
     "metadata": {},
     "output_type": "execute_result"
    }
   ],
   "source": [
    "my_str.find('machine')"
   ]
  },
  {
   "cell_type": "code",
   "execution_count": 29,
   "id": "45301491",
   "metadata": {},
   "outputs": [],
   "source": [
    "my_str1 = my_str.split()"
   ]
  },
  {
   "cell_type": "code",
   "execution_count": 30,
   "id": "cd29d4b8",
   "metadata": {},
   "outputs": [
    {
     "data": {
      "text/plain": [
       "'course'"
      ]
     },
     "execution_count": 30,
     "metadata": {},
     "output_type": "execute_result"
    }
   ],
   "source": [
    "my_str1[3]"
   ]
  },
  {
   "cell_type": "code",
   "execution_count": 31,
   "id": "2655fa7f",
   "metadata": {},
   "outputs": [
    {
     "data": {
      "text/plain": [
       "['welcome', 'to', 'the', 'course']"
      ]
     },
     "execution_count": 31,
     "metadata": {},
     "output_type": "execute_result"
    }
   ],
   "source": [
    "my_str1"
   ]
  },
  {
   "cell_type": "code",
   "execution_count": 32,
   "id": "736b3b3a",
   "metadata": {},
   "outputs": [
    {
     "data": {
      "text/plain": [
       "3"
      ]
     },
     "execution_count": 32,
     "metadata": {},
     "output_type": "execute_result"
    }
   ],
   "source": [
    "my_str.count('o')"
   ]
  },
  {
   "cell_type": "code",
   "execution_count": 33,
   "id": "9f289304",
   "metadata": {},
   "outputs": [
    {
     "data": {
      "text/plain": [
       "1"
      ]
     },
     "execution_count": 33,
     "metadata": {},
     "output_type": "execute_result"
    }
   ],
   "source": [
    "my_str.count('m')"
   ]
  },
  {
   "cell_type": "code",
   "execution_count": 34,
   "id": "a7ae455e",
   "metadata": {},
   "outputs": [],
   "source": [
    "m = my_str.replace('course', 'programme')"
   ]
  },
  {
   "cell_type": "code",
   "execution_count": 35,
   "id": "401c0002",
   "metadata": {},
   "outputs": [
    {
     "data": {
      "text/plain": [
       "'welcome to the course'"
      ]
     },
     "execution_count": 35,
     "metadata": {},
     "output_type": "execute_result"
    }
   ],
   "source": [
    "my_str"
   ]
  },
  {
   "cell_type": "code",
   "execution_count": 36,
   "id": "7634a4c4",
   "metadata": {},
   "outputs": [
    {
     "data": {
      "text/plain": [
       "'welcome to the programme'"
      ]
     },
     "execution_count": 36,
     "metadata": {},
     "output_type": "execute_result"
    }
   ],
   "source": [
    "m"
   ]
  },
  {
   "cell_type": "code",
   "execution_count": 37,
   "id": "6fc05f2b",
   "metadata": {},
   "outputs": [
    {
     "data": {
      "text/plain": [
       "'welcome to the course'"
      ]
     },
     "execution_count": 37,
     "metadata": {},
     "output_type": "execute_result"
    }
   ],
   "source": [
    "my_str"
   ]
  },
  {
   "cell_type": "code",
   "execution_count": 54,
   "id": "35312247",
   "metadata": {},
   "outputs": [
    {
     "name": "stdout",
     "output_type": "stream",
     "text": [
      "Enter your Name: \n"
     ]
    }
   ],
   "source": [
    "Name = input('Enter your Name: ')"
   ]
  },
  {
   "cell_type": "code",
   "execution_count": 55,
   "id": "f82d6829",
   "metadata": {},
   "outputs": [
    {
     "data": {
      "text/plain": [
       "''"
      ]
     },
     "execution_count": 55,
     "metadata": {},
     "output_type": "execute_result"
    }
   ],
   "source": [
    "Name"
   ]
  },
  {
   "cell_type": "code",
   "execution_count": 56,
   "id": "e8f830aa",
   "metadata": {},
   "outputs": [
    {
     "data": {
      "text/plain": [
       "0"
      ]
     },
     "execution_count": 56,
     "metadata": {},
     "output_type": "execute_result"
    }
   ],
   "source": [
    "len(Name)"
   ]
  },
  {
   "cell_type": "code",
   "execution_count": 57,
   "id": "fa2d909e",
   "metadata": {},
   "outputs": [
    {
     "data": {
      "text/plain": [
       "''"
      ]
     },
     "execution_count": 57,
     "metadata": {},
     "output_type": "execute_result"
    }
   ],
   "source": [
    "Name.lstrip()"
   ]
  },
  {
   "cell_type": "code",
   "execution_count": 58,
   "id": "7fc51b86",
   "metadata": {},
   "outputs": [
    {
     "data": {
      "text/plain": [
       "''"
      ]
     },
     "execution_count": 58,
     "metadata": {},
     "output_type": "execute_result"
    }
   ],
   "source": [
    "Name.rstrip()"
   ]
  },
  {
   "cell_type": "code",
   "execution_count": 59,
   "id": "3dbee55f",
   "metadata": {},
   "outputs": [
    {
     "data": {
      "text/plain": [
       "''"
      ]
     },
     "execution_count": 59,
     "metadata": {},
     "output_type": "execute_result"
    }
   ],
   "source": [
    "Name.strip()"
   ]
  },
  {
   "cell_type": "code",
   "execution_count": 60,
   "id": "803d0d3f",
   "metadata": {},
   "outputs": [
    {
     "data": {
      "text/plain": [
       "'abcpqr'"
      ]
     },
     "execution_count": 60,
     "metadata": {},
     "output_type": "execute_result"
    }
   ],
   "source": [
    "'abc'+ 'pqr'"
   ]
  },
  {
   "cell_type": "code",
   "execution_count": 61,
   "id": "f82f4628",
   "metadata": {},
   "outputs": [],
   "source": [
    "s1 = 'computer vision'"
   ]
  },
  {
   "cell_type": "code",
   "execution_count": 62,
   "id": "1b854bcc",
   "metadata": {},
   "outputs": [
    {
     "data": {
      "text/plain": [
       "'computer vision3'"
      ]
     },
     "execution_count": 62,
     "metadata": {},
     "output_type": "execute_result"
    }
   ],
   "source": [
    "s1+ str(3)"
   ]
  },
  {
   "cell_type": "code",
   "execution_count": 63,
   "id": "5243f00a",
   "metadata": {},
   "outputs": [
    {
     "data": {
      "text/plain": [
       "'computer visioncomputer visioncomputer visioncomputer visioncomputer visioncomputer visioncomputer vision'"
      ]
     },
     "execution_count": 63,
     "metadata": {},
     "output_type": "execute_result"
    }
   ],
   "source": [
    "s1*7"
   ]
  },
  {
   "cell_type": "code",
   "execution_count": 64,
   "id": "48723a4e",
   "metadata": {},
   "outputs": [
    {
     "name": "stdout",
     "output_type": "stream",
     "text": [
      "number of vowels 11\n"
     ]
    }
   ],
   "source": [
    "inp_str = \"This is an Input string to count vowels.\"\n",
    "cnt = 0\n",
    "\n",
    "for i in inp_str:\n",
    "    if i in 'aieouAIEOU':\n",
    "        cnt += 1\n",
    "print('number of vowels',cnt)\n",
    "    \n",
    "    "
   ]
  },
  {
   "cell_type": "code",
   "execution_count": 65,
   "id": "6ad3a941",
   "metadata": {},
   "outputs": [],
   "source": [
    "s = 'coding'"
   ]
  },
  {
   "cell_type": "code",
   "execution_count": 66,
   "id": "32357b9f",
   "metadata": {},
   "outputs": [],
   "source": [
    "r = s[::-1]"
   ]
  },
  {
   "cell_type": "code",
   "execution_count": 67,
   "id": "f44f80d9",
   "metadata": {},
   "outputs": [
    {
     "data": {
      "text/plain": [
       "'gnidoc'"
      ]
     },
     "execution_count": 67,
     "metadata": {},
     "output_type": "execute_result"
    }
   ],
   "source": [
    "r"
   ]
  },
  {
   "cell_type": "code",
   "execution_count": 68,
   "id": "6297a82c",
   "metadata": {},
   "outputs": [
    {
     "name": "stdout",
     "output_type": "stream",
     "text": [
      "The given word is not palindrom\n"
     ]
    }
   ],
   "source": [
    "if (s == r):\n",
    "    print('the given {} word is palindrom'.format(s))\n",
    "else:\n",
    "    print('The given word is not palindrom')"
   ]
  },
  {
   "cell_type": "code",
   "execution_count": 69,
   "id": "d5fae910",
   "metadata": {},
   "outputs": [
    {
     "ename": "SyntaxError",
     "evalue": "unexpected EOF while parsing (<ipython-input-69-596fb5877df7>, line 10)",
     "output_type": "error",
     "traceback": [
      "\u001b[1;36m  File \u001b[1;32m\"<ipython-input-69-596fb5877df7>\"\u001b[1;36m, line \u001b[1;32m10\u001b[0m\n\u001b[1;33m    \u001b[0m\n\u001b[1;37m    ^\u001b[0m\n\u001b[1;31mSyntaxError\u001b[0m\u001b[1;31m:\u001b[0m unexpected EOF while parsing\n"
     ]
    }
   ],
   "source": [
    "inp_str = \"coding\"\n",
    "re_str = inp_str[::-1]\n",
    "\n",
    "is_palindrom = True\n",
    "\n",
    "start = 0\n",
    "end = len(inp_str)-1\n",
    "\n",
    "while (inp_str[start]>=inp_str[end]):\n",
    "    "
   ]
  },
  {
   "cell_type": "markdown",
   "id": "6d9ec89e",
   "metadata": {},
   "source": [
    "# Strings"
   ]
  },
  {
   "cell_type": "code",
   "execution_count": 70,
   "id": "ce226b61",
   "metadata": {},
   "outputs": [],
   "source": [
    "my_str = \"Welcome to the Course\""
   ]
  },
  {
   "cell_type": "code",
   "execution_count": 71,
   "id": "5cdf7684",
   "metadata": {},
   "outputs": [
    {
     "name": "stdout",
     "output_type": "stream",
     "text": [
      "Welcome to the Course\n"
     ]
    }
   ],
   "source": [
    "print(my_str)"
   ]
  },
  {
   "cell_type": "code",
   "execution_count": 72,
   "id": "b4d6d1ae",
   "metadata": {},
   "outputs": [
    {
     "name": "stdout",
     "output_type": "stream",
     "text": [
      "<class 'str'>\n"
     ]
    }
   ],
   "source": [
    "print(type(my_str))"
   ]
  },
  {
   "cell_type": "code",
   "execution_count": 73,
   "id": "97147760",
   "metadata": {},
   "outputs": [
    {
     "data": {
      "text/plain": [
       "'W'"
      ]
     },
     "execution_count": 73,
     "metadata": {},
     "output_type": "execute_result"
    }
   ],
   "source": [
    "my_str[0]"
   ]
  },
  {
   "cell_type": "code",
   "execution_count": 74,
   "id": "77877765",
   "metadata": {},
   "outputs": [
    {
     "data": {
      "text/plain": [
       "'e'"
      ]
     },
     "execution_count": 74,
     "metadata": {},
     "output_type": "execute_result"
    }
   ],
   "source": [
    "my_str[1]"
   ]
  },
  {
   "cell_type": "code",
   "execution_count": 75,
   "id": "aedfcf5d",
   "metadata": {},
   "outputs": [
    {
     "data": {
      "text/plain": [
       "'m'"
      ]
     },
     "execution_count": 75,
     "metadata": {},
     "output_type": "execute_result"
    }
   ],
   "source": [
    "my_str[5]"
   ]
  },
  {
   "cell_type": "code",
   "execution_count": 76,
   "id": "a7dcb524",
   "metadata": {},
   "outputs": [
    {
     "data": {
      "text/plain": [
       "21"
      ]
     },
     "execution_count": 76,
     "metadata": {},
     "output_type": "execute_result"
    }
   ],
   "source": [
    "len(my_str)"
   ]
  },
  {
   "cell_type": "code",
   "execution_count": 77,
   "id": "54a2fee0",
   "metadata": {},
   "outputs": [
    {
     "data": {
      "text/plain": [
       "'e'"
      ]
     },
     "execution_count": 77,
     "metadata": {},
     "output_type": "execute_result"
    }
   ],
   "source": [
    "my_str[-1]"
   ]
  },
  {
   "cell_type": "code",
   "execution_count": 78,
   "id": "41119b0a",
   "metadata": {},
   "outputs": [
    {
     "data": {
      "text/plain": [
       "'e'"
      ]
     },
     "execution_count": 78,
     "metadata": {},
     "output_type": "execute_result"
    }
   ],
   "source": [
    "my_str[6]"
   ]
  },
  {
   "cell_type": "code",
   "execution_count": 79,
   "id": "61d791a0",
   "metadata": {},
   "outputs": [
    {
     "data": {
      "text/plain": [
       "'e'"
      ]
     },
     "execution_count": 79,
     "metadata": {},
     "output_type": "execute_result"
    }
   ],
   "source": [
    "my_str[-1]"
   ]
  },
  {
   "cell_type": "code",
   "execution_count": 80,
   "id": "cc98a01d",
   "metadata": {},
   "outputs": [
    {
     "data": {
      "text/plain": [
       "'e'"
      ]
     },
     "execution_count": 80,
     "metadata": {},
     "output_type": "execute_result"
    }
   ],
   "source": [
    "my_str[20]"
   ]
  },
  {
   "cell_type": "code",
   "execution_count": 81,
   "id": "b521b822",
   "metadata": {},
   "outputs": [
    {
     "data": {
      "text/plain": [
       "'e'"
      ]
     },
     "execution_count": 81,
     "metadata": {},
     "output_type": "execute_result"
    }
   ],
   "source": [
    "my_str[-1]"
   ]
  },
  {
   "cell_type": "code",
   "execution_count": 82,
   "id": "94f83888",
   "metadata": {},
   "outputs": [
    {
     "data": {
      "text/plain": [
       "'e'"
      ]
     },
     "execution_count": 82,
     "metadata": {},
     "output_type": "execute_result"
    }
   ],
   "source": [
    "my_str[len(my_str)-1]"
   ]
  },
  {
   "cell_type": "code",
   "execution_count": 83,
   "id": "07daca30",
   "metadata": {},
   "outputs": [
    {
     "data": {
      "text/plain": [
       "'C'"
      ]
     },
     "execution_count": 83,
     "metadata": {},
     "output_type": "execute_result"
    }
   ],
   "source": [
    "my_str[-6]"
   ]
  },
  {
   "cell_type": "code",
   "execution_count": 84,
   "id": "136fabcf",
   "metadata": {},
   "outputs": [
    {
     "data": {
      "text/plain": [
       "'Welco'"
      ]
     },
     "execution_count": 84,
     "metadata": {},
     "output_type": "execute_result"
    }
   ],
   "source": [
    "my_str[0:5]"
   ]
  },
  {
   "cell_type": "code",
   "execution_count": 85,
   "id": "06604664",
   "metadata": {},
   "outputs": [
    {
     "data": {
      "text/plain": [
       "'elcom'"
      ]
     },
     "execution_count": 85,
     "metadata": {},
     "output_type": "execute_result"
    }
   ],
   "source": [
    "my_str[1:6]"
   ]
  },
  {
   "cell_type": "code",
   "execution_count": 86,
   "id": "4e881d94",
   "metadata": {},
   "outputs": [
    {
     "data": {
      "text/plain": [
       "'me '"
      ]
     },
     "execution_count": 86,
     "metadata": {},
     "output_type": "execute_result"
    }
   ],
   "source": [
    "my_str[5:8]"
   ]
  },
  {
   "cell_type": "code",
   "execution_count": 87,
   "id": "5bd7d10d",
   "metadata": {},
   "outputs": [
    {
     "data": {
      "text/plain": [
       "''"
      ]
     },
     "execution_count": 87,
     "metadata": {},
     "output_type": "execute_result"
    }
   ],
   "source": [
    "my_str[-5:-1:-1]"
   ]
  },
  {
   "cell_type": "code",
   "execution_count": 88,
   "id": "adc60b42",
   "metadata": {},
   "outputs": [
    {
     "data": {
      "text/plain": [
       "'Welcome to the Course'"
      ]
     },
     "execution_count": 88,
     "metadata": {},
     "output_type": "execute_result"
    }
   ],
   "source": [
    "my_str[:]"
   ]
  },
  {
   "cell_type": "code",
   "execution_count": 89,
   "id": "5bc75051",
   "metadata": {},
   "outputs": [
    {
     "data": {
      "text/plain": [
       "'esruoC eht ot emocleW'"
      ]
     },
     "execution_count": 89,
     "metadata": {},
     "output_type": "execute_result"
    }
   ],
   "source": [
    "my_str[::-1]"
   ]
  },
  {
   "cell_type": "code",
   "execution_count": 90,
   "id": "d5b43220",
   "metadata": {},
   "outputs": [
    {
     "data": {
      "text/plain": [
       "'W'"
      ]
     },
     "execution_count": 90,
     "metadata": {},
     "output_type": "execute_result"
    }
   ],
   "source": [
    "my_str[0::-1]"
   ]
  },
  {
   "cell_type": "code",
   "execution_count": 91,
   "id": "47b1bd5b",
   "metadata": {},
   "outputs": [
    {
     "data": {
      "text/plain": [
       "'me to the Cou'"
      ]
     },
     "execution_count": 91,
     "metadata": {},
     "output_type": "execute_result"
    }
   ],
   "source": [
    "my_str[5:-3]"
   ]
  },
  {
   "cell_type": "code",
   "execution_count": 92,
   "id": "5b0afd5f",
   "metadata": {},
   "outputs": [
    {
     "data": {
      "text/plain": [
       "'Welcome to the Cour'"
      ]
     },
     "execution_count": 92,
     "metadata": {},
     "output_type": "execute_result"
    }
   ],
   "source": [
    "my_str[0:-2]"
   ]
  },
  {
   "cell_type": "code",
   "execution_count": 93,
   "id": "c1de6b63",
   "metadata": {},
   "outputs": [
    {
     "data": {
      "text/plain": [
       "'Welcome to the Course'"
      ]
     },
     "execution_count": 93,
     "metadata": {},
     "output_type": "execute_result"
    }
   ],
   "source": [
    "my_str"
   ]
  },
  {
   "cell_type": "code",
   "execution_count": 94,
   "id": "b6207f3e",
   "metadata": {},
   "outputs": [
    {
     "data": {
      "text/plain": [
       "'welcome to the course'"
      ]
     },
     "execution_count": 94,
     "metadata": {},
     "output_type": "execute_result"
    }
   ],
   "source": [
    "my_str.lower()"
   ]
  },
  {
   "cell_type": "code",
   "execution_count": 95,
   "id": "c51316a3",
   "metadata": {},
   "outputs": [
    {
     "data": {
      "text/plain": [
       "'WELCOME TO THE COURSE'"
      ]
     },
     "execution_count": 95,
     "metadata": {},
     "output_type": "execute_result"
    }
   ],
   "source": [
    "my_str.upper()"
   ]
  },
  {
   "cell_type": "code",
   "execution_count": 96,
   "id": "919805f9",
   "metadata": {},
   "outputs": [
    {
     "data": {
      "text/plain": [
       "'Welcome To The Course'"
      ]
     },
     "execution_count": 96,
     "metadata": {},
     "output_type": "execute_result"
    }
   ],
   "source": [
    "my_str.title()"
   ]
  },
  {
   "cell_type": "code",
   "execution_count": 97,
   "id": "fa3b3b8c",
   "metadata": {},
   "outputs": [
    {
     "data": {
      "text/plain": [
       "3"
      ]
     },
     "execution_count": 97,
     "metadata": {},
     "output_type": "execute_result"
    }
   ],
   "source": [
    "my_str.find(\"come\")"
   ]
  },
  {
   "cell_type": "code",
   "execution_count": 98,
   "id": "7fd69de1",
   "metadata": {},
   "outputs": [
    {
     "data": {
      "text/plain": [
       "11"
      ]
     },
     "execution_count": 98,
     "metadata": {},
     "output_type": "execute_result"
    }
   ],
   "source": [
    "my_str.find(\"the\")"
   ]
  },
  {
   "cell_type": "code",
   "execution_count": 99,
   "id": "e3398fb7",
   "metadata": {},
   "outputs": [
    {
     "data": {
      "text/plain": [
       "-1"
      ]
     },
     "execution_count": 99,
     "metadata": {},
     "output_type": "execute_result"
    }
   ],
   "source": [
    "my_str.find(\"machine\")"
   ]
  },
  {
   "cell_type": "code",
   "execution_count": 100,
   "id": "0241a664",
   "metadata": {},
   "outputs": [
    {
     "data": {
      "text/plain": [
       "['Welcome', 'to', 'the', 'Course']"
      ]
     },
     "execution_count": 100,
     "metadata": {},
     "output_type": "execute_result"
    }
   ],
   "source": [
    "my_str.split()"
   ]
  },
  {
   "cell_type": "code",
   "execution_count": 101,
   "id": "277effbc",
   "metadata": {},
   "outputs": [
    {
     "data": {
      "text/plain": [
       "['Welc', 'me t', ' the C', 'urse']"
      ]
     },
     "execution_count": 101,
     "metadata": {},
     "output_type": "execute_result"
    }
   ],
   "source": [
    "my_str.split(\"o\")"
   ]
  },
  {
   "cell_type": "code",
   "execution_count": 102,
   "id": "67caa77d",
   "metadata": {},
   "outputs": [
    {
     "data": {
      "text/plain": [
       "3"
      ]
     },
     "execution_count": 102,
     "metadata": {},
     "output_type": "execute_result"
    }
   ],
   "source": [
    "my_str.count(\"o\")"
   ]
  },
  {
   "cell_type": "code",
   "execution_count": 103,
   "id": "268ad95e",
   "metadata": {},
   "outputs": [
    {
     "data": {
      "text/plain": [
       "4"
      ]
     },
     "execution_count": 103,
     "metadata": {},
     "output_type": "execute_result"
    }
   ],
   "source": [
    "my_str.count(\"e\")"
   ]
  },
  {
   "cell_type": "code",
   "execution_count": 104,
   "id": "ebca8240",
   "metadata": {},
   "outputs": [],
   "source": [
    "new_str = my_str.replace(\"Course\", \"programme\")"
   ]
  },
  {
   "cell_type": "code",
   "execution_count": 105,
   "id": "04d7e785",
   "metadata": {},
   "outputs": [
    {
     "data": {
      "text/plain": [
       "'Welcome to the Course'"
      ]
     },
     "execution_count": 105,
     "metadata": {},
     "output_type": "execute_result"
    }
   ],
   "source": [
    "my_str"
   ]
  },
  {
   "cell_type": "code",
   "execution_count": 106,
   "id": "1e6419a5",
   "metadata": {},
   "outputs": [
    {
     "data": {
      "text/plain": [
       "'Welcome to the programme'"
      ]
     },
     "execution_count": 106,
     "metadata": {},
     "output_type": "execute_result"
    }
   ],
   "source": [
    "new_str"
   ]
  },
  {
   "cell_type": "code",
   "execution_count": 107,
   "id": "1acc3453",
   "metadata": {},
   "outputs": [
    {
     "name": "stdout",
     "output_type": "stream",
     "text": [
      "Enter your name : \n"
     ]
    }
   ],
   "source": [
    "name = input(\"Enter your name : \")"
   ]
  },
  {
   "cell_type": "code",
   "execution_count": 108,
   "id": "a419ca7b",
   "metadata": {},
   "outputs": [
    {
     "data": {
      "text/plain": [
       "0"
      ]
     },
     "execution_count": 108,
     "metadata": {},
     "output_type": "execute_result"
    }
   ],
   "source": [
    "len(name)"
   ]
  },
  {
   "cell_type": "code",
   "execution_count": 109,
   "id": "ad7a86eb",
   "metadata": {},
   "outputs": [
    {
     "data": {
      "text/plain": [
       "''"
      ]
     },
     "execution_count": 109,
     "metadata": {},
     "output_type": "execute_result"
    }
   ],
   "source": [
    "name.lstrip()"
   ]
  },
  {
   "cell_type": "code",
   "execution_count": 110,
   "id": "4b48d98f",
   "metadata": {},
   "outputs": [
    {
     "data": {
      "text/plain": [
       "''"
      ]
     },
     "execution_count": 110,
     "metadata": {},
     "output_type": "execute_result"
    }
   ],
   "source": [
    "name.rstrip()"
   ]
  },
  {
   "cell_type": "code",
   "execution_count": 111,
   "id": "4b62d03c",
   "metadata": {},
   "outputs": [
    {
     "data": {
      "text/plain": [
       "''"
      ]
     },
     "execution_count": 111,
     "metadata": {},
     "output_type": "execute_result"
    }
   ],
   "source": [
    "name.strip()"
   ]
  },
  {
   "cell_type": "code",
   "execution_count": 112,
   "id": "94546329",
   "metadata": {},
   "outputs": [
    {
     "data": {
      "text/plain": [
       "'Welcome to the Course'"
      ]
     },
     "execution_count": 112,
     "metadata": {},
     "output_type": "execute_result"
    }
   ],
   "source": [
    "my_str"
   ]
  },
  {
   "cell_type": "code",
   "execution_count": 113,
   "id": "d4a97d9d",
   "metadata": {},
   "outputs": [
    {
     "data": {
      "text/plain": [
       "'Welcome to the course'"
      ]
     },
     "execution_count": 113,
     "metadata": {},
     "output_type": "execute_result"
    }
   ],
   "source": [
    "my_str.capitalize()"
   ]
  },
  {
   "cell_type": "code",
   "execution_count": 114,
   "id": "ee732ded",
   "metadata": {},
   "outputs": [
    {
     "data": {
      "text/plain": [
       "'Welcome to the Course'"
      ]
     },
     "execution_count": 114,
     "metadata": {},
     "output_type": "execute_result"
    }
   ],
   "source": [
    "my_str"
   ]
  },
  {
   "cell_type": "code",
   "execution_count": 115,
   "id": "c0d2ed80",
   "metadata": {},
   "outputs": [],
   "source": [
    "s1 = \"abc\"\n",
    "s2 = \"pqr\""
   ]
  },
  {
   "cell_type": "code",
   "execution_count": 116,
   "id": "587cec50",
   "metadata": {},
   "outputs": [
    {
     "data": {
      "text/plain": [
       "'abcpqr'"
      ]
     },
     "execution_count": 116,
     "metadata": {},
     "output_type": "execute_result"
    }
   ],
   "source": [
    "s1+s2"
   ]
  },
  {
   "cell_type": "code",
   "execution_count": 117,
   "id": "6e23783a",
   "metadata": {},
   "outputs": [
    {
     "data": {
      "text/plain": [
       "'abc3'"
      ]
     },
     "execution_count": 117,
     "metadata": {},
     "output_type": "execute_result"
    }
   ],
   "source": [
    "s1+str(3)"
   ]
  },
  {
   "cell_type": "code",
   "execution_count": 118,
   "id": "fc64db81",
   "metadata": {},
   "outputs": [
    {
     "data": {
      "text/plain": [
       "'hellohellohellohellohellohellohellohellohellohellohellohellohellohello'"
      ]
     },
     "execution_count": 118,
     "metadata": {},
     "output_type": "execute_result"
    }
   ],
   "source": [
    "\"hello\"*14"
   ]
  },
  {
   "cell_type": "code",
   "execution_count": 119,
   "id": "c3475f48",
   "metadata": {},
   "outputs": [
    {
     "name": "stdout",
     "output_type": "stream",
     "text": [
      "The number of vowels in the given string is 11\n"
     ]
    }
   ],
   "source": [
    "inp_str = \"This is an Input string to count vowels.\"\n",
    "\n",
    "\n",
    "cnt = 0\n",
    "\n",
    "\n",
    "for i in inp_str:\n",
    "    if i in \"aieouAIEOU\":\n",
    "        cnt+=1\n",
    "print(\"The number of vowels in the given string is\",cnt)"
   ]
  },
  {
   "cell_type": "code",
   "execution_count": 120,
   "id": "03fa45cd",
   "metadata": {},
   "outputs": [
    {
     "name": "stdout",
     "output_type": "stream",
     "text": [
      "The number of vowels in the given string is 3\n"
     ]
    }
   ],
   "source": [
    "s = \"Elephant\"\n",
    "cnt = 0\n",
    "\n",
    "\n",
    "for i in s:\n",
    "    if i in \"aieouAIEOU\":\n",
    "        cnt+=1\n",
    "print(\"The number of vowels in the given string is\",cnt)"
   ]
  },
  {
   "cell_type": "code",
   "execution_count": 121,
   "id": "5c87ba3a",
   "metadata": {},
   "outputs": [
    {
     "name": "stdout",
     "output_type": "stream",
     "text": [
      "The given coding word is not a palindrom\n"
     ]
    }
   ],
   "source": [
    "inp_str = \"coding\"\n",
    "\n",
    "\n",
    "new_str = inp_str[::-1]\n",
    "\n",
    "\n",
    "if (inp_str==new_str):\n",
    "    print(\"The given {} word is palindrom\".format(inp_str))\n",
    "else:\n",
    "    print(\"The given {} word is not a palindrom\".format(inp_str))"
   ]
  },
  {
   "cell_type": "code",
   "execution_count": 122,
   "id": "f55c6048",
   "metadata": {},
   "outputs": [
    {
     "name": "stdout",
     "output_type": "stream",
     "text": [
      "The given data word is not a palindrom\n"
     ]
    }
   ],
   "source": [
    "inp_str = \"data\"\n",
    "\n",
    "start = 0\n",
    "end = len(inp_str)-1\n",
    "is_plaindrom = True\n",
    "\n",
    "while (start<=end):\n",
    "    if (inp_str[start] != inp_str[end]):\n",
    "        is_plaindrom = False\n",
    "        break\n",
    "        \n",
    "    start+=1\n",
    "    end-=1\n",
    "\n",
    "if (is_plaindrom):\n",
    "    print(\"The given {} word is palindrom\".format(inp_str))\n",
    "else:\n",
    "    print(\"The given {} word is not a palindrom\".format(inp_str))"
   ]
  },
  {
   "cell_type": "markdown",
   "id": "003e9a61",
   "metadata": {},
   "source": [
    "# List"
   ]
  },
  {
   "cell_type": "code",
   "execution_count": 123,
   "id": "cdfe4faa",
   "metadata": {},
   "outputs": [],
   "source": [
    "lst = list()"
   ]
  },
  {
   "cell_type": "code",
   "execution_count": 124,
   "id": "6f6a0fa0",
   "metadata": {},
   "outputs": [
    {
     "data": {
      "text/plain": [
       "list"
      ]
     },
     "execution_count": 124,
     "metadata": {},
     "output_type": "execute_result"
    }
   ],
   "source": [
    "type(lst)"
   ]
  },
  {
   "cell_type": "code",
   "execution_count": 125,
   "id": "b8721ff6",
   "metadata": {},
   "outputs": [],
   "source": [
    "lst1 = []"
   ]
  },
  {
   "cell_type": "code",
   "execution_count": 126,
   "id": "1217ae28",
   "metadata": {},
   "outputs": [
    {
     "data": {
      "text/plain": [
       "list"
      ]
     },
     "execution_count": 126,
     "metadata": {},
     "output_type": "execute_result"
    }
   ],
   "source": [
    "type(lst1)"
   ]
  },
  {
   "cell_type": "code",
   "execution_count": 127,
   "id": "be5701d6",
   "metadata": {},
   "outputs": [],
   "source": [
    "my_lst = [6,3,2,8,4]"
   ]
  },
  {
   "cell_type": "code",
   "execution_count": 128,
   "id": "2eb51058",
   "metadata": {},
   "outputs": [],
   "source": [
    "my_lst = [6,5,8,9,2]"
   ]
  },
  {
   "cell_type": "code",
   "execution_count": 129,
   "id": "0f4582dd",
   "metadata": {},
   "outputs": [
    {
     "name": "stdout",
     "output_type": "stream",
     "text": [
      "[6, 5, 8, 9, 2]\n"
     ]
    }
   ],
   "source": [
    "print(my_lst)"
   ]
  },
  {
   "cell_type": "code",
   "execution_count": 130,
   "id": "4752c23f",
   "metadata": {},
   "outputs": [
    {
     "data": {
      "text/plain": [
       "list"
      ]
     },
     "execution_count": 130,
     "metadata": {},
     "output_type": "execute_result"
    }
   ],
   "source": [
    "type(my_lst)"
   ]
  },
  {
   "cell_type": "code",
   "execution_count": 131,
   "id": "db834dae",
   "metadata": {},
   "outputs": [
    {
     "data": {
      "text/plain": [
       "8"
      ]
     },
     "execution_count": 131,
     "metadata": {},
     "output_type": "execute_result"
    }
   ],
   "source": [
    "my_lst[2]"
   ]
  },
  {
   "cell_type": "code",
   "execution_count": 132,
   "id": "7d0fd34c",
   "metadata": {},
   "outputs": [
    {
     "data": {
      "text/plain": [
       "2"
      ]
     },
     "execution_count": 132,
     "metadata": {},
     "output_type": "execute_result"
    }
   ],
   "source": [
    "my_lst[-1]"
   ]
  },
  {
   "cell_type": "code",
   "execution_count": 133,
   "id": "4bde9e0d",
   "metadata": {},
   "outputs": [
    {
     "data": {
      "text/plain": [
       "[5, 8, 9, 2]"
      ]
     },
     "execution_count": 133,
     "metadata": {},
     "output_type": "execute_result"
    }
   ],
   "source": [
    "my_lst[1:5]"
   ]
  },
  {
   "cell_type": "code",
   "execution_count": 134,
   "id": "3cae03ef",
   "metadata": {},
   "outputs": [
    {
     "data": {
      "text/plain": [
       "[2, 9, 8, 5, 6]"
      ]
     },
     "execution_count": 134,
     "metadata": {},
     "output_type": "execute_result"
    }
   ],
   "source": [
    "my_lst[::-1]"
   ]
  },
  {
   "cell_type": "code",
   "execution_count": 135,
   "id": "920d3080",
   "metadata": {},
   "outputs": [
    {
     "data": {
      "text/plain": [
       "5"
      ]
     },
     "execution_count": 135,
     "metadata": {},
     "output_type": "execute_result"
    }
   ],
   "source": [
    "len(my_lst)"
   ]
  },
  {
   "cell_type": "code",
   "execution_count": 136,
   "id": "9e950a39",
   "metadata": {},
   "outputs": [
    {
     "data": {
      "text/plain": [
       "[5, 8, 9]"
      ]
     },
     "execution_count": 136,
     "metadata": {},
     "output_type": "execute_result"
    }
   ],
   "source": [
    "my_lst[1:-1]\n"
   ]
  },
  {
   "cell_type": "code",
   "execution_count": 137,
   "id": "a1343230",
   "metadata": {},
   "outputs": [
    {
     "data": {
      "text/plain": [
       "[6, 5, 8, 9, 2]"
      ]
     },
     "execution_count": 137,
     "metadata": {},
     "output_type": "execute_result"
    }
   ],
   "source": [
    "my_lst"
   ]
  },
  {
   "cell_type": "code",
   "execution_count": 138,
   "id": "26ea1933",
   "metadata": {},
   "outputs": [],
   "source": [
    "my_lst[4]=100"
   ]
  },
  {
   "cell_type": "code",
   "execution_count": 139,
   "id": "b0243678",
   "metadata": {},
   "outputs": [
    {
     "data": {
      "text/plain": [
       "[6, 5, 8, 9, 100]"
      ]
     },
     "execution_count": 139,
     "metadata": {},
     "output_type": "execute_result"
    }
   ],
   "source": [
    "my_lst"
   ]
  },
  {
   "cell_type": "code",
   "execution_count": 140,
   "id": "402aa74b",
   "metadata": {},
   "outputs": [],
   "source": [
    "my_lst[2]=5236"
   ]
  },
  {
   "cell_type": "code",
   "execution_count": 141,
   "id": "9cb16daa",
   "metadata": {},
   "outputs": [
    {
     "data": {
      "text/plain": [
       "[6, 5, 5236, 9, 100]"
      ]
     },
     "execution_count": 141,
     "metadata": {},
     "output_type": "execute_result"
    }
   ],
   "source": [
    "my_lst"
   ]
  },
  {
   "cell_type": "code",
   "execution_count": 142,
   "id": "8a1ef6b3",
   "metadata": {},
   "outputs": [
    {
     "data": {
      "text/plain": [
       "['__add__',\n",
       " '__class__',\n",
       " '__contains__',\n",
       " '__delattr__',\n",
       " '__delitem__',\n",
       " '__dir__',\n",
       " '__doc__',\n",
       " '__eq__',\n",
       " '__format__',\n",
       " '__ge__',\n",
       " '__getattribute__',\n",
       " '__getitem__',\n",
       " '__gt__',\n",
       " '__hash__',\n",
       " '__iadd__',\n",
       " '__imul__',\n",
       " '__init__',\n",
       " '__init_subclass__',\n",
       " '__iter__',\n",
       " '__le__',\n",
       " '__len__',\n",
       " '__lt__',\n",
       " '__mul__',\n",
       " '__ne__',\n",
       " '__new__',\n",
       " '__reduce__',\n",
       " '__reduce_ex__',\n",
       " '__repr__',\n",
       " '__reversed__',\n",
       " '__rmul__',\n",
       " '__setattr__',\n",
       " '__setitem__',\n",
       " '__sizeof__',\n",
       " '__str__',\n",
       " '__subclasshook__',\n",
       " 'append',\n",
       " 'clear',\n",
       " 'copy',\n",
       " 'count',\n",
       " 'extend',\n",
       " 'index',\n",
       " 'insert',\n",
       " 'pop',\n",
       " 'remove',\n",
       " 'reverse',\n",
       " 'sort']"
      ]
     },
     "execution_count": 142,
     "metadata": {},
     "output_type": "execute_result"
    }
   ],
   "source": [
    "dir(my_lst)"
   ]
  },
  {
   "cell_type": "code",
   "execution_count": 143,
   "id": "737592f0",
   "metadata": {},
   "outputs": [
    {
     "name": "stdout",
     "output_type": "stream",
     "text": [
      "[6, 5, 5236, 9, 100]\n"
     ]
    }
   ],
   "source": [
    "print(my_lst)"
   ]
  },
  {
   "cell_type": "code",
   "execution_count": 144,
   "id": "89064885",
   "metadata": {},
   "outputs": [],
   "source": [
    "my_lst.append(800)"
   ]
  },
  {
   "cell_type": "code",
   "execution_count": 145,
   "id": "127f0359",
   "metadata": {},
   "outputs": [
    {
     "data": {
      "text/plain": [
       "[6, 5, 5236, 9, 100, 800]"
      ]
     },
     "execution_count": 145,
     "metadata": {},
     "output_type": "execute_result"
    }
   ],
   "source": [
    "my_lst"
   ]
  },
  {
   "cell_type": "code",
   "execution_count": 146,
   "id": "45327651",
   "metadata": {},
   "outputs": [],
   "source": [
    "my_lst.insert(2,600)"
   ]
  },
  {
   "cell_type": "code",
   "execution_count": 147,
   "id": "f6cfd401",
   "metadata": {},
   "outputs": [
    {
     "data": {
      "text/plain": [
       "[6, 5, 600, 5236, 9, 100, 800]"
      ]
     },
     "execution_count": 147,
     "metadata": {},
     "output_type": "execute_result"
    }
   ],
   "source": [
    "my_lst"
   ]
  },
  {
   "cell_type": "code",
   "execution_count": 148,
   "id": "00dfd698",
   "metadata": {},
   "outputs": [],
   "source": [
    "my_lst.insert(4,777)"
   ]
  },
  {
   "cell_type": "code",
   "execution_count": 149,
   "id": "03b409bf",
   "metadata": {},
   "outputs": [
    {
     "data": {
      "text/plain": [
       "[6, 5, 600, 5236, 777, 9, 100, 800]"
      ]
     },
     "execution_count": 149,
     "metadata": {},
     "output_type": "execute_result"
    }
   ],
   "source": [
    "my_lst"
   ]
  },
  {
   "cell_type": "code",
   "execution_count": 150,
   "id": "70b2fd61",
   "metadata": {},
   "outputs": [
    {
     "name": "stdout",
     "output_type": "stream",
     "text": [
      "Deleted element :  800\n",
      "[6, 5, 600, 5236, 777, 9, 100]\n"
     ]
    }
   ],
   "source": [
    "n = my_lst.pop()\n",
    "\n",
    "print(\"Deleted element : \",n)\n",
    "\n",
    "print(my_lst)"
   ]
  },
  {
   "cell_type": "code",
   "execution_count": 151,
   "id": "f0f90e04",
   "metadata": {},
   "outputs": [
    {
     "data": {
      "text/plain": [
       "[6, 5, 600, 5236, 777, 9, 100]"
      ]
     },
     "execution_count": 151,
     "metadata": {},
     "output_type": "execute_result"
    }
   ],
   "source": [
    "my_lst"
   ]
  },
  {
   "cell_type": "code",
   "execution_count": 152,
   "id": "2894ece6",
   "metadata": {},
   "outputs": [
    {
     "data": {
      "text/plain": [
       "5236"
      ]
     },
     "execution_count": 152,
     "metadata": {},
     "output_type": "execute_result"
    }
   ],
   "source": [
    "my_lst.pop(3)"
   ]
  },
  {
   "cell_type": "code",
   "execution_count": 153,
   "id": "cd5ab8db",
   "metadata": {},
   "outputs": [
    {
     "data": {
      "text/plain": [
       "[6, 5, 600, 777, 9, 100]"
      ]
     },
     "execution_count": 153,
     "metadata": {},
     "output_type": "execute_result"
    }
   ],
   "source": [
    "my_lst"
   ]
  },
  {
   "cell_type": "code",
   "execution_count": 154,
   "id": "a97b364e",
   "metadata": {},
   "outputs": [
    {
     "data": {
      "text/plain": [
       "600"
      ]
     },
     "execution_count": 154,
     "metadata": {},
     "output_type": "execute_result"
    }
   ],
   "source": [
    "my_lst.pop(2)"
   ]
  },
  {
   "cell_type": "code",
   "execution_count": 155,
   "id": "e9341800",
   "metadata": {},
   "outputs": [
    {
     "data": {
      "text/plain": [
       "[6, 5, 777, 9, 100]"
      ]
     },
     "execution_count": 155,
     "metadata": {},
     "output_type": "execute_result"
    }
   ],
   "source": [
    "my_lst"
   ]
  },
  {
   "cell_type": "code",
   "execution_count": 156,
   "id": "2c1dbcd0",
   "metadata": {},
   "outputs": [
    {
     "name": "stdout",
     "output_type": "stream",
     "text": [
      "Deleted element : 5\n"
     ]
    },
    {
     "data": {
      "text/plain": [
       "[6, 777, 9, 100]"
      ]
     },
     "execution_count": 156,
     "metadata": {},
     "output_type": "execute_result"
    }
   ],
   "source": [
    "m = my_lst.pop(1)\n",
    "print(\"Deleted element :\", m)\n",
    "\n",
    "my_lst"
   ]
  },
  {
   "cell_type": "code",
   "execution_count": 157,
   "id": "14dad143",
   "metadata": {},
   "outputs": [],
   "source": [
    "lst = [3,5,6,8,9,4,5]"
   ]
  },
  {
   "cell_type": "code",
   "execution_count": 158,
   "id": "d3792aac",
   "metadata": {},
   "outputs": [
    {
     "data": {
      "text/plain": [
       "[5, 4, 9, 8, 6, 5, 3]"
      ]
     },
     "execution_count": 158,
     "metadata": {},
     "output_type": "execute_result"
    }
   ],
   "source": [
    "lst[::-1]"
   ]
  },
  {
   "cell_type": "code",
   "execution_count": 159,
   "id": "30d345c4",
   "metadata": {},
   "outputs": [
    {
     "data": {
      "text/plain": [
       "[3, 5, 6, 8, 9, 4, 5]"
      ]
     },
     "execution_count": 159,
     "metadata": {},
     "output_type": "execute_result"
    }
   ],
   "source": [
    "lst"
   ]
  },
  {
   "cell_type": "code",
   "execution_count": 160,
   "id": "5d49a575",
   "metadata": {},
   "outputs": [],
   "source": [
    "lst.reverse()"
   ]
  },
  {
   "cell_type": "code",
   "execution_count": 161,
   "id": "f716337d",
   "metadata": {},
   "outputs": [
    {
     "data": {
      "text/plain": [
       "[5, 4, 9, 8, 6, 5, 3]"
      ]
     },
     "execution_count": 161,
     "metadata": {},
     "output_type": "execute_result"
    }
   ],
   "source": [
    "lst"
   ]
  },
  {
   "cell_type": "code",
   "execution_count": 162,
   "id": "b002c98b",
   "metadata": {},
   "outputs": [],
   "source": [
    "my_lst.remove(9)"
   ]
  },
  {
   "cell_type": "code",
   "execution_count": 163,
   "id": "2959aa16",
   "metadata": {},
   "outputs": [
    {
     "data": {
      "text/plain": [
       "[6, 777, 100]"
      ]
     },
     "execution_count": 163,
     "metadata": {},
     "output_type": "execute_result"
    }
   ],
   "source": [
    "my_lst"
   ]
  },
  {
   "cell_type": "code",
   "execution_count": 164,
   "id": "af402c56",
   "metadata": {},
   "outputs": [],
   "source": [
    "lst.remove(8)"
   ]
  },
  {
   "cell_type": "code",
   "execution_count": 165,
   "id": "e02ca501",
   "metadata": {},
   "outputs": [
    {
     "data": {
      "text/plain": [
       "[5, 4, 9, 6, 5, 3]"
      ]
     },
     "execution_count": 165,
     "metadata": {},
     "output_type": "execute_result"
    }
   ],
   "source": [
    "lst"
   ]
  },
  {
   "cell_type": "code",
   "execution_count": 166,
   "id": "3e029483",
   "metadata": {},
   "outputs": [],
   "source": [
    "lst.sort()"
   ]
  },
  {
   "cell_type": "code",
   "execution_count": 167,
   "id": "68f87abc",
   "metadata": {},
   "outputs": [
    {
     "data": {
      "text/plain": [
       "[3, 4, 5, 5, 6, 9]"
      ]
     },
     "execution_count": 167,
     "metadata": {},
     "output_type": "execute_result"
    }
   ],
   "source": [
    "lst"
   ]
  },
  {
   "cell_type": "code",
   "execution_count": 168,
   "id": "8ef12fa3",
   "metadata": {},
   "outputs": [],
   "source": [
    "lst.sort(reverse= True)"
   ]
  },
  {
   "cell_type": "code",
   "execution_count": 169,
   "id": "87052247",
   "metadata": {},
   "outputs": [
    {
     "data": {
      "text/plain": [
       "[9, 6, 5, 5, 4, 3]"
      ]
     },
     "execution_count": 169,
     "metadata": {},
     "output_type": "execute_result"
    }
   ],
   "source": [
    "lst"
   ]
  },
  {
   "cell_type": "code",
   "execution_count": 170,
   "id": "f7b25211",
   "metadata": {},
   "outputs": [
    {
     "data": {
      "text/plain": [
       "True"
      ]
     },
     "execution_count": 170,
     "metadata": {},
     "output_type": "execute_result"
    }
   ],
   "source": [
    "5 in lst"
   ]
  },
  {
   "cell_type": "code",
   "execution_count": 171,
   "id": "336a02ab",
   "metadata": {},
   "outputs": [
    {
     "data": {
      "text/plain": [
       "False"
      ]
     },
     "execution_count": 171,
     "metadata": {},
     "output_type": "execute_result"
    }
   ],
   "source": [
    "8 in lst"
   ]
  },
  {
   "cell_type": "code",
   "execution_count": 172,
   "id": "3e05e144",
   "metadata": {},
   "outputs": [
    {
     "data": {
      "text/plain": [
       "False"
      ]
     },
     "execution_count": 172,
     "metadata": {},
     "output_type": "execute_result"
    }
   ],
   "source": [
    "10 in lst"
   ]
  },
  {
   "cell_type": "code",
   "execution_count": 173,
   "id": "fe0cca4e",
   "metadata": {},
   "outputs": [
    {
     "data": {
      "text/plain": [
       "True"
      ]
     },
     "execution_count": 173,
     "metadata": {},
     "output_type": "execute_result"
    }
   ],
   "source": [
    "2  not in lst"
   ]
  },
  {
   "cell_type": "code",
   "execution_count": 174,
   "id": "d7a3391d",
   "metadata": {},
   "outputs": [
    {
     "data": {
      "text/plain": [
       "[9, 6, 5, 5, 4, 3]"
      ]
     },
     "execution_count": 174,
     "metadata": {},
     "output_type": "execute_result"
    }
   ],
   "source": [
    "lst"
   ]
  },
  {
   "cell_type": "code",
   "execution_count": 175,
   "id": "0906459a",
   "metadata": {},
   "outputs": [],
   "source": [
    "lst.append([5,8,9])"
   ]
  },
  {
   "cell_type": "code",
   "execution_count": 176,
   "id": "df4e2ada",
   "metadata": {},
   "outputs": [
    {
     "data": {
      "text/plain": [
       "[9, 6, 5, 5, 4, 3, [5, 8, 9]]"
      ]
     },
     "execution_count": 176,
     "metadata": {},
     "output_type": "execute_result"
    }
   ],
   "source": [
    "lst"
   ]
  },
  {
   "cell_type": "code",
   "execution_count": 177,
   "id": "1abeb153",
   "metadata": {},
   "outputs": [],
   "source": [
    "lst.extend([9,6,3])"
   ]
  },
  {
   "cell_type": "code",
   "execution_count": 178,
   "id": "e03d63b9",
   "metadata": {},
   "outputs": [
    {
     "data": {
      "text/plain": [
       "[9, 6, 5, 5, 4, 3, [5, 8, 9], 9, 6, 3]"
      ]
     },
     "execution_count": 178,
     "metadata": {},
     "output_type": "execute_result"
    }
   ],
   "source": [
    "lst"
   ]
  },
  {
   "cell_type": "code",
   "execution_count": 179,
   "id": "f1a5c789",
   "metadata": {},
   "outputs": [
    {
     "data": {
      "text/plain": [
       "[9, 6, 5, 5, 4, 3, [5, 8, 9], 9, 6, 3, 7, 8, 9]"
      ]
     },
     "execution_count": 179,
     "metadata": {},
     "output_type": "execute_result"
    }
   ],
   "source": [
    "lst + [7,8,9]"
   ]
  },
  {
   "cell_type": "code",
   "execution_count": 180,
   "id": "d14cf8c7",
   "metadata": {},
   "outputs": [],
   "source": [
    "l_st = [4,5,56.23,25.14,True,False,6+8j,\"machine learning\", [8,5,2],(1,4,7)]"
   ]
  },
  {
   "cell_type": "code",
   "execution_count": 181,
   "id": "5d743e45",
   "metadata": {},
   "outputs": [
    {
     "data": {
      "text/plain": [
       "list"
      ]
     },
     "execution_count": 181,
     "metadata": {},
     "output_type": "execute_result"
    }
   ],
   "source": [
    "type(l_st)"
   ]
  },
  {
   "cell_type": "code",
   "execution_count": 182,
   "id": "c8f43bdb",
   "metadata": {},
   "outputs": [
    {
     "data": {
      "text/plain": [
       "10"
      ]
     },
     "execution_count": 182,
     "metadata": {},
     "output_type": "execute_result"
    }
   ],
   "source": [
    "len(l_st)"
   ]
  },
  {
   "cell_type": "code",
   "execution_count": 183,
   "id": "4cac33f5",
   "metadata": {},
   "outputs": [],
   "source": [
    "l_st.reverse()"
   ]
  },
  {
   "cell_type": "code",
   "execution_count": 184,
   "id": "61922e44",
   "metadata": {},
   "outputs": [
    {
     "data": {
      "text/plain": [
       "[(1, 4, 7),\n",
       " [8, 5, 2],\n",
       " 'machine learning',\n",
       " (6+8j),\n",
       " False,\n",
       " True,\n",
       " 25.14,\n",
       " 56.23,\n",
       " 5,\n",
       " 4]"
      ]
     },
     "execution_count": 184,
     "metadata": {},
     "output_type": "execute_result"
    }
   ],
   "source": [
    "l_st"
   ]
  },
  {
   "cell_type": "code",
   "execution_count": 185,
   "id": "cec4f977",
   "metadata": {},
   "outputs": [
    {
     "data": {
      "text/plain": [
       "[4,\n",
       " 5,\n",
       " 56.23,\n",
       " 25.14,\n",
       " True,\n",
       " False,\n",
       " (6+8j),\n",
       " 'machine learning',\n",
       " [8, 5, 2],\n",
       " (1, 4, 7)]"
      ]
     },
     "execution_count": 185,
     "metadata": {},
     "output_type": "execute_result"
    }
   ],
   "source": [
    "l_st[::-1]"
   ]
  },
  {
   "cell_type": "code",
   "execution_count": 186,
   "id": "b4bd9d1b",
   "metadata": {},
   "outputs": [],
   "source": [
    "s = \"This course belongs to Coding Minutes.\""
   ]
  },
  {
   "cell_type": "code",
   "execution_count": 187,
   "id": "ce8171d6",
   "metadata": {},
   "outputs": [],
   "source": [
    "s1 = s.split()"
   ]
  },
  {
   "cell_type": "code",
   "execution_count": 188,
   "id": "3600c3b8",
   "metadata": {},
   "outputs": [],
   "source": [
    "s2 = \" \".join(s1)"
   ]
  },
  {
   "cell_type": "code",
   "execution_count": 189,
   "id": "d29eb126",
   "metadata": {},
   "outputs": [
    {
     "data": {
      "text/plain": [
       "'This course belongs to Coding Minutes.'"
      ]
     },
     "execution_count": 189,
     "metadata": {},
     "output_type": "execute_result"
    }
   ],
   "source": [
    "s2"
   ]
  },
  {
   "cell_type": "code",
   "execution_count": 190,
   "id": "4c3ee8cd",
   "metadata": {},
   "outputs": [
    {
     "data": {
      "text/plain": [
       "[(1, 4, 7),\n",
       " [8, 5, 2],\n",
       " 'machine learning',\n",
       " (6+8j),\n",
       " False,\n",
       " True,\n",
       " 25.14,\n",
       " 56.23,\n",
       " 5,\n",
       " 4]"
      ]
     },
     "execution_count": 190,
     "metadata": {},
     "output_type": "execute_result"
    }
   ],
   "source": [
    "l_st"
   ]
  },
  {
   "cell_type": "code",
   "execution_count": 191,
   "id": "0a887b61",
   "metadata": {},
   "outputs": [
    {
     "name": "stdout",
     "output_type": "stream",
     "text": [
      "(1, 4, 7, 1, 4, 7)\n",
      "[8, 5, 2, 8, 5, 2]\n",
      "machine learningmachine learning\n",
      "(12+16j)\n",
      "0\n",
      "2\n",
      "50.28\n",
      "112.46\n",
      "10\n",
      "8\n"
     ]
    }
   ],
   "source": [
    "for i in l_st:\n",
    "    print(i*2)"
   ]
  },
  {
   "cell_type": "code",
   "execution_count": 192,
   "id": "599dc9bc",
   "metadata": {},
   "outputs": [],
   "source": [
    "ls_t = list(range(1,11))"
   ]
  },
  {
   "cell_type": "code",
   "execution_count": 193,
   "id": "5cbb3cd1",
   "metadata": {},
   "outputs": [
    {
     "name": "stdout",
     "output_type": "stream",
     "text": [
      "[1, 4, 27, 16, 125, 36, 343, 64, 729, 100]\n"
     ]
    }
   ],
   "source": [
    "new_lst = []\n",
    "for i in ls_t:\n",
    "    if i%2==0:\n",
    "        new_lst.append(i**2)\n",
    "    else:\n",
    "        new_lst.append(i**3)\n",
    "print(new_lst)"
   ]
  },
  {
   "cell_type": "code",
   "execution_count": 194,
   "id": "ed1efae0",
   "metadata": {},
   "outputs": [],
   "source": [
    "ls_t = list(range(1,21))"
   ]
  },
  {
   "cell_type": "code",
   "execution_count": 195,
   "id": "9a5c4182",
   "metadata": {},
   "outputs": [
    {
     "data": {
      "text/plain": [
       "[4, 16, 36, 64, 100, 144, 196, 256, 324, 400]"
      ]
     },
     "execution_count": 195,
     "metadata": {},
     "output_type": "execute_result"
    }
   ],
   "source": [
    "[i**2 for i in ls_t if i%2==0]"
   ]
  },
  {
   "cell_type": "code",
   "execution_count": 196,
   "id": "b89e20a2",
   "metadata": {},
   "outputs": [],
   "source": [
    "k = [i**2 if i%2==0 else i**3 for i in ls_t]"
   ]
  },
  {
   "cell_type": "code",
   "execution_count": 197,
   "id": "80079c64",
   "metadata": {},
   "outputs": [
    {
     "name": "stdout",
     "output_type": "stream",
     "text": [
      "[1, 4, 27, 16, 125, 36, 343, 64, 729, 100, 1331, 144, 2197, 196, 3375, 256, 4913, 324, 6859, 400]\n"
     ]
    }
   ],
   "source": [
    "print(k)"
   ]
  },
  {
   "cell_type": "code",
   "execution_count": 198,
   "id": "f4eb6c14",
   "metadata": {},
   "outputs": [],
   "source": [
    "lst = [[1,2,3] , [4,5,6] , [7,8,9] , [1,5,9] ]"
   ]
  },
  {
   "cell_type": "code",
   "execution_count": 199,
   "id": "5f1158ec",
   "metadata": {},
   "outputs": [
    {
     "data": {
      "text/plain": [
       "5"
      ]
     },
     "execution_count": 199,
     "metadata": {},
     "output_type": "execute_result"
    }
   ],
   "source": [
    "lst[1][1]"
   ]
  },
  {
   "cell_type": "code",
   "execution_count": 200,
   "id": "4fdeb4f7",
   "metadata": {},
   "outputs": [
    {
     "data": {
      "text/plain": [
       "9"
      ]
     },
     "execution_count": 200,
     "metadata": {},
     "output_type": "execute_result"
    }
   ],
   "source": [
    "lst[-1][-1]"
   ]
  },
  {
   "cell_type": "code",
   "execution_count": 201,
   "id": "fcd7e3bf",
   "metadata": {},
   "outputs": [],
   "source": [
    "a = [[1,2],\n",
    "     [5,9]]\n",
    "\n",
    "b = [[4,7],\n",
    "     [6,9]]"
   ]
  },
  {
   "cell_type": "code",
   "execution_count": 202,
   "id": "3be799f4",
   "metadata": {},
   "outputs": [
    {
     "data": {
      "text/plain": [
       "[[1, 2], [5, 9]]"
      ]
     },
     "execution_count": 202,
     "metadata": {},
     "output_type": "execute_result"
    }
   ],
   "source": [
    "a"
   ]
  },
  {
   "cell_type": "code",
   "execution_count": 203,
   "id": "db34d5d1",
   "metadata": {},
   "outputs": [
    {
     "data": {
      "text/plain": [
       "[[4, 7], [6, 9]]"
      ]
     },
     "execution_count": 203,
     "metadata": {},
     "output_type": "execute_result"
    }
   ],
   "source": [
    "b"
   ]
  },
  {
   "cell_type": "code",
   "execution_count": 204,
   "id": "d05103e8",
   "metadata": {},
   "outputs": [],
   "source": [
    "c = [[None,None],[None,None]]"
   ]
  },
  {
   "cell_type": "code",
   "execution_count": 205,
   "id": "85c0cb11",
   "metadata": {},
   "outputs": [
    {
     "name": "stdout",
     "output_type": "stream",
     "text": [
      "[[5, 9], [11, 18]]\n"
     ]
    }
   ],
   "source": [
    "for i in range(2):\n",
    "    for j in range(2):\n",
    "        c[i][j] = a[i][j]+b[i][j]\n",
    "        \n",
    "print(c)"
   ]
  },
  {
   "cell_type": "code",
   "execution_count": 206,
   "id": "56d2d9ca",
   "metadata": {},
   "outputs": [],
   "source": [
    "c = [[None,None], [None,None]]"
   ]
  },
  {
   "cell_type": "code",
   "execution_count": 207,
   "id": "38fc3f8f",
   "metadata": {},
   "outputs": [
    {
     "data": {
      "text/plain": [
       "[[None, None, None, None, None],\n",
       " [None, None, None, None, None],\n",
       " [None, None, None, None, None],\n",
       " [None, None, None, None, None],\n",
       " [None, None, None, None, None]]"
      ]
     },
     "execution_count": 207,
     "metadata": {},
     "output_type": "execute_result"
    }
   ],
   "source": [
    "[[None]*5]*5"
   ]
  },
  {
   "cell_type": "code",
   "execution_count": 208,
   "id": "5efc25c9",
   "metadata": {},
   "outputs": [],
   "source": [
    "lst= [1,5,9,7,5,3]\n",
    "\n",
    "abc = lst.copy()\n",
    "\n",
    "abc.append([6,8,7])"
   ]
  },
  {
   "cell_type": "code",
   "execution_count": 209,
   "id": "f2167b64",
   "metadata": {},
   "outputs": [
    {
     "name": "stdout",
     "output_type": "stream",
     "text": [
      "[1, 5, 9, 7, 5, 3]\n",
      "[1, 5, 9, 7, 5, 3, [6, 8, 7]]\n"
     ]
    }
   ],
   "source": [
    "print(lst)\n",
    "print(abc)"
   ]
  },
  {
   "cell_type": "code",
   "execution_count": 210,
   "id": "d115a66a",
   "metadata": {},
   "outputs": [],
   "source": [
    "lst = [3,5,2,7,8,9]\n",
    "steps = 5"
   ]
  },
  {
   "cell_type": "code",
   "execution_count": 211,
   "id": "ce4e8b34",
   "metadata": {},
   "outputs": [],
   "source": [
    "n = len(lst)\n",
    "\n",
    "for _ in range(steps):\n",
    "    key = lst[-1]\n",
    "    for i in range(n-1,0,-1):\n",
    "        lst[i]= lst[i-1]\n",
    "\n",
    "    lst[0]=key\n"
   ]
  },
  {
   "cell_type": "code",
   "execution_count": 212,
   "id": "daf5905b",
   "metadata": {},
   "outputs": [
    {
     "data": {
      "text/plain": [
       "[5, 2, 7, 8, 9, 3]"
      ]
     },
     "execution_count": 212,
     "metadata": {},
     "output_type": "execute_result"
    }
   ],
   "source": [
    "lst"
   ]
  },
  {
   "cell_type": "markdown",
   "id": "78c90a15",
   "metadata": {},
   "source": [
    "Tuple"
   ]
  },
  {
   "cell_type": "markdown",
   "id": "463d55fc",
   "metadata": {},
   "source": [
    "# Tuple"
   ]
  },
  {
   "cell_type": "code",
   "execution_count": 213,
   "id": "5b10c7a0",
   "metadata": {},
   "outputs": [],
   "source": [
    "t = tuple()"
   ]
  },
  {
   "cell_type": "code",
   "execution_count": 214,
   "id": "29d4e328",
   "metadata": {},
   "outputs": [
    {
     "data": {
      "text/plain": [
       "tuple"
      ]
     },
     "execution_count": 214,
     "metadata": {},
     "output_type": "execute_result"
    }
   ],
   "source": [
    "type(t)"
   ]
  },
  {
   "cell_type": "code",
   "execution_count": 215,
   "id": "aabc1d5e",
   "metadata": {},
   "outputs": [],
   "source": [
    "tt = ()"
   ]
  },
  {
   "cell_type": "code",
   "execution_count": 216,
   "id": "879af560",
   "metadata": {},
   "outputs": [
    {
     "data": {
      "text/plain": [
       "tuple"
      ]
     },
     "execution_count": 216,
     "metadata": {},
     "output_type": "execute_result"
    }
   ],
   "source": [
    "type(tt)"
   ]
  },
  {
   "cell_type": "code",
   "execution_count": 217,
   "id": "929f47e4",
   "metadata": {},
   "outputs": [],
   "source": [
    "t = (6,5,8,10.23,56.25,5+6j,\"computer\",[1,2,3],(8,9,4))"
   ]
  },
  {
   "cell_type": "code",
   "execution_count": 218,
   "id": "66c197fb",
   "metadata": {},
   "outputs": [
    {
     "data": {
      "text/plain": [
       "tuple"
      ]
     },
     "execution_count": 218,
     "metadata": {},
     "output_type": "execute_result"
    }
   ],
   "source": [
    "type(t)"
   ]
  },
  {
   "cell_type": "code",
   "execution_count": 219,
   "id": "078d08c3",
   "metadata": {},
   "outputs": [],
   "source": [
    "g = \"machine learning\","
   ]
  },
  {
   "cell_type": "code",
   "execution_count": 220,
   "id": "f78a5451",
   "metadata": {},
   "outputs": [
    {
     "data": {
      "text/plain": [
       "tuple"
      ]
     },
     "execution_count": 220,
     "metadata": {},
     "output_type": "execute_result"
    }
   ],
   "source": [
    "type(g)"
   ]
  },
  {
   "cell_type": "code",
   "execution_count": 221,
   "id": "df760b36",
   "metadata": {},
   "outputs": [
    {
     "data": {
      "text/plain": [
       "(6, 5, 8, 10.23, 56.25, (5+6j), 'computer', [1, 2, 3], (8, 9, 4))"
      ]
     },
     "execution_count": 221,
     "metadata": {},
     "output_type": "execute_result"
    }
   ],
   "source": [
    "t"
   ]
  },
  {
   "cell_type": "code",
   "execution_count": 222,
   "id": "c72236fd",
   "metadata": {},
   "outputs": [
    {
     "data": {
      "text/plain": [
       "5"
      ]
     },
     "execution_count": 222,
     "metadata": {},
     "output_type": "execute_result"
    }
   ],
   "source": [
    "t[1]"
   ]
  },
  {
   "cell_type": "code",
   "execution_count": 223,
   "id": "e3fca124",
   "metadata": {},
   "outputs": [
    {
     "data": {
      "text/plain": [
       "(5+6j)"
      ]
     },
     "execution_count": 223,
     "metadata": {},
     "output_type": "execute_result"
    }
   ],
   "source": [
    "t[5]"
   ]
  },
  {
   "cell_type": "code",
   "execution_count": 224,
   "id": "da677cdc",
   "metadata": {},
   "outputs": [
    {
     "data": {
      "text/plain": [
       "(8, 9, 4)"
      ]
     },
     "execution_count": 224,
     "metadata": {},
     "output_type": "execute_result"
    }
   ],
   "source": [
    "t[-1]"
   ]
  },
  {
   "cell_type": "code",
   "execution_count": 225,
   "id": "268e0fff",
   "metadata": {},
   "outputs": [
    {
     "data": {
      "text/plain": [
       "(6, 5, 8, 10.23, 56.25, (5+6j), 'computer', [1, 2, 3], (8, 9, 4))"
      ]
     },
     "execution_count": 225,
     "metadata": {},
     "output_type": "execute_result"
    }
   ],
   "source": [
    "t[:]"
   ]
  },
  {
   "cell_type": "code",
   "execution_count": 226,
   "id": "73c61036",
   "metadata": {},
   "outputs": [
    {
     "data": {
      "text/plain": [
       "((8, 9, 4), [1, 2, 3], 'computer', (5+6j), 56.25, 10.23, 8, 5, 6)"
      ]
     },
     "execution_count": 226,
     "metadata": {},
     "output_type": "execute_result"
    }
   ],
   "source": [
    "t[::-1]"
   ]
  },
  {
   "cell_type": "code",
   "execution_count": 227,
   "id": "e918b6d7",
   "metadata": {},
   "outputs": [
    {
     "data": {
      "text/plain": [
       "(6,)"
      ]
     },
     "execution_count": 227,
     "metadata": {},
     "output_type": "execute_result"
    }
   ],
   "source": [
    "t[0::-1]"
   ]
  },
  {
   "cell_type": "code",
   "execution_count": 228,
   "id": "c00d9ef7",
   "metadata": {},
   "outputs": [
    {
     "data": {
      "text/plain": [
       "((5+6j), 'computer', [1, 2, 3])"
      ]
     },
     "execution_count": 228,
     "metadata": {},
     "output_type": "execute_result"
    }
   ],
   "source": [
    "t[5:8]"
   ]
  },
  {
   "cell_type": "code",
   "execution_count": 229,
   "id": "efa0c869",
   "metadata": {},
   "outputs": [
    {
     "data": {
      "text/plain": [
       "(6, 5, 8, 10.23, 56.25, (5+6j), 'computer', [1, 2, 3])"
      ]
     },
     "execution_count": 229,
     "metadata": {},
     "output_type": "execute_result"
    }
   ],
   "source": [
    "t[:-1]"
   ]
  },
  {
   "cell_type": "code",
   "execution_count": 230,
   "id": "e476dbb7",
   "metadata": {},
   "outputs": [
    {
     "ename": "TypeError",
     "evalue": "'tuple' object does not support item assignment",
     "output_type": "error",
     "traceback": [
      "\u001b[1;31m---------------------------------------------------------------------------\u001b[0m",
      "\u001b[1;31mTypeError\u001b[0m                                 Traceback (most recent call last)",
      "\u001b[1;32m<ipython-input-230-d8fbe023379d>\u001b[0m in \u001b[0;36m<module>\u001b[1;34m\u001b[0m\n\u001b[1;32m----> 1\u001b[1;33m \u001b[0mt\u001b[0m\u001b[1;33m[\u001b[0m\u001b[1;36m2\u001b[0m\u001b[1;33m]\u001b[0m\u001b[1;33m=\u001b[0m\u001b[1;36m369\u001b[0m\u001b[1;33m\u001b[0m\u001b[1;33m\u001b[0m\u001b[0m\n\u001b[0m",
      "\u001b[1;31mTypeError\u001b[0m: 'tuple' object does not support item assignment"
     ]
    }
   ],
   "source": [
    "t[2]=369"
   ]
  },
  {
   "cell_type": "code",
   "execution_count": null,
   "id": "658a9c6c",
   "metadata": {},
   "outputs": [],
   "source": [
    "lst = [\"mohit\", \"jatin\", \"sachin\"]"
   ]
  },
  {
   "cell_type": "code",
   "execution_count": 231,
   "id": "7ac64572",
   "metadata": {},
   "outputs": [],
   "source": [
    "tup = (10,20,25,lst,56.47)"
   ]
  },
  {
   "cell_type": "code",
   "execution_count": 232,
   "id": "8b5351ac",
   "metadata": {},
   "outputs": [
    {
     "data": {
      "text/plain": [
       "(10, 20, 25, [5, 2, 7, 8, 9, 3], 56.47)"
      ]
     },
     "execution_count": 232,
     "metadata": {},
     "output_type": "execute_result"
    }
   ],
   "source": [
    "tup"
   ]
  },
  {
   "cell_type": "code",
   "execution_count": 233,
   "id": "725de263",
   "metadata": {},
   "outputs": [],
   "source": [
    "tup[3][2]=\"dhoni\""
   ]
  },
  {
   "cell_type": "code",
   "execution_count": 234,
   "id": "3fdce992",
   "metadata": {},
   "outputs": [
    {
     "data": {
      "text/plain": [
       "(10, 20, 25, [5, 2, 'dhoni', 8, 9, 3], 56.47)"
      ]
     },
     "execution_count": 234,
     "metadata": {},
     "output_type": "execute_result"
    }
   ],
   "source": [
    "tup"
   ]
  },
  {
   "cell_type": "code",
   "execution_count": 235,
   "id": "8f1c757b",
   "metadata": {},
   "outputs": [
    {
     "data": {
      "text/plain": [
       "(6, 5, 8, 10.23, 56.25, (5+6j), 'computer', [1, 2, 3], (8, 9, 4))"
      ]
     },
     "execution_count": 235,
     "metadata": {},
     "output_type": "execute_result"
    }
   ],
   "source": [
    "t"
   ]
  },
  {
   "cell_type": "code",
   "execution_count": 236,
   "id": "f25c60d2",
   "metadata": {},
   "outputs": [
    {
     "data": {
      "text/plain": [
       "2"
      ]
     },
     "execution_count": 236,
     "metadata": {},
     "output_type": "execute_result"
    }
   ],
   "source": [
    "t.index(8)"
   ]
  },
  {
   "cell_type": "code",
   "execution_count": 237,
   "id": "09fb5464",
   "metadata": {},
   "outputs": [
    {
     "data": {
      "text/plain": [
       "2"
      ]
     },
     "execution_count": 237,
     "metadata": {},
     "output_type": "execute_result"
    }
   ],
   "source": [
    "t = (1,2,3,1,3,3,4,1)\n",
    "t.index(3)"
   ]
  },
  {
   "cell_type": "code",
   "execution_count": 238,
   "id": "930de878",
   "metadata": {},
   "outputs": [
    {
     "data": {
      "text/plain": [
       "3"
      ]
     },
     "execution_count": 238,
     "metadata": {},
     "output_type": "execute_result"
    }
   ],
   "source": [
    "t.count(3)"
   ]
  },
  {
   "cell_type": "code",
   "execution_count": 239,
   "id": "5668f765",
   "metadata": {},
   "outputs": [
    {
     "data": {
      "text/plain": [
       "1"
      ]
     },
     "execution_count": 239,
     "metadata": {},
     "output_type": "execute_result"
    }
   ],
   "source": [
    "t.count(2)"
   ]
  },
  {
   "cell_type": "code",
   "execution_count": 240,
   "id": "ddcb289f",
   "metadata": {},
   "outputs": [],
   "source": [
    "t = (6,5,8,10.23,56.25,5+6j,\"computer\",[1,2,3],(8,9,4))"
   ]
  },
  {
   "cell_type": "code",
   "execution_count": 241,
   "id": "0bf0455f",
   "metadata": {},
   "outputs": [
    {
     "name": "stdout",
     "output_type": "stream",
     "text": [
      "12\n",
      "10\n",
      "16\n",
      "20.46\n",
      "112.5\n",
      "(10+12j)\n",
      "computercomputer\n",
      "[1, 2, 3, 1, 2, 3]\n",
      "(8, 9, 4, 8, 9, 4)\n"
     ]
    }
   ],
   "source": [
    "for i in t:\n",
    "    print(i*2)"
   ]
  },
  {
   "cell_type": "code",
   "execution_count": 242,
   "id": "824687ef",
   "metadata": {},
   "outputs": [],
   "source": [
    "t = (1,2,3) + (4,5,6)"
   ]
  },
  {
   "cell_type": "code",
   "execution_count": 243,
   "id": "0df50941",
   "metadata": {},
   "outputs": [
    {
     "name": "stdout",
     "output_type": "stream",
     "text": [
      "(1, 2, 3, 4, 5, 6)\n"
     ]
    }
   ],
   "source": [
    "print(t)"
   ]
  },
  {
   "cell_type": "code",
   "execution_count": 244,
   "id": "a2bc53f3",
   "metadata": {},
   "outputs": [
    {
     "data": {
      "text/plain": [
       "(12, 12, 12, 12, 12, 12, 12, 12, 12, 12)"
      ]
     },
     "execution_count": 244,
     "metadata": {},
     "output_type": "execute_result"
    }
   ],
   "source": [
    "(12,)*10"
   ]
  },
  {
   "cell_type": "code",
   "execution_count": 245,
   "id": "20a30076",
   "metadata": {},
   "outputs": [],
   "source": [
    "tp  = (1,2,3,1,3,3,4,1)"
   ]
  },
  {
   "cell_type": "code",
   "execution_count": 246,
   "id": "656c6d47",
   "metadata": {},
   "outputs": [],
   "source": [
    "del tp"
   ]
  },
  {
   "cell_type": "code",
   "execution_count": 247,
   "id": "a63697bb",
   "metadata": {},
   "outputs": [
    {
     "ename": "NameError",
     "evalue": "name 'tp' is not defined",
     "output_type": "error",
     "traceback": [
      "\u001b[1;31m---------------------------------------------------------------------------\u001b[0m",
      "\u001b[1;31mNameError\u001b[0m                                 Traceback (most recent call last)",
      "\u001b[1;32m<ipython-input-247-6fc78332fdd4>\u001b[0m in \u001b[0;36m<module>\u001b[1;34m\u001b[0m\n\u001b[1;32m----> 1\u001b[1;33m \u001b[0mtp\u001b[0m\u001b[1;33m\u001b[0m\u001b[1;33m\u001b[0m\u001b[0m\n\u001b[0m",
      "\u001b[1;31mNameError\u001b[0m: name 'tp' is not defined"
     ]
    }
   ],
   "source": [
    "tp"
   ]
  },
  {
   "cell_type": "code",
   "execution_count": 248,
   "id": "8c62dbf6",
   "metadata": {},
   "outputs": [],
   "source": [
    "t = (6,5,8,10.23,56.25,5+6j,\"computer\",[1,2,3],(8,9,4))"
   ]
  },
  {
   "cell_type": "code",
   "execution_count": 249,
   "id": "c7228057",
   "metadata": {},
   "outputs": [
    {
     "data": {
      "text/plain": [
       "True"
      ]
     },
     "execution_count": 249,
     "metadata": {},
     "output_type": "execute_result"
    }
   ],
   "source": [
    "10.23 in t"
   ]
  },
  {
   "cell_type": "code",
   "execution_count": 250,
   "id": "16b95cd1",
   "metadata": {},
   "outputs": [
    {
     "data": {
      "text/plain": [
       "True"
      ]
     },
     "execution_count": 250,
     "metadata": {},
     "output_type": "execute_result"
    }
   ],
   "source": [
    "5 in t"
   ]
  },
  {
   "cell_type": "code",
   "execution_count": 251,
   "id": "21b52dbc",
   "metadata": {},
   "outputs": [
    {
     "data": {
      "text/plain": [
       "False"
      ]
     },
     "execution_count": 251,
     "metadata": {},
     "output_type": "execute_result"
    }
   ],
   "source": [
    "9 in t"
   ]
  },
  {
   "cell_type": "code",
   "execution_count": 252,
   "id": "62146a42",
   "metadata": {},
   "outputs": [
    {
     "data": {
      "text/plain": [
       "True"
      ]
     },
     "execution_count": 252,
     "metadata": {},
     "output_type": "execute_result"
    }
   ],
   "source": [
    "11 not in t"
   ]
  },
  {
   "cell_type": "code",
   "execution_count": 253,
   "id": "87a1e0d1",
   "metadata": {},
   "outputs": [],
   "source": [
    "t = (6,5,8,10.23,56.25,5+6j,\"computer\",[1,2,3],(8,9,4))"
   ]
  },
  {
   "cell_type": "code",
   "execution_count": 254,
   "id": "d3c35c27",
   "metadata": {},
   "outputs": [
    {
     "data": {
      "text/plain": [
       "9"
      ]
     },
     "execution_count": 254,
     "metadata": {},
     "output_type": "execute_result"
    }
   ],
   "source": [
    "len(t)"
   ]
  },
  {
   "cell_type": "code",
   "execution_count": 255,
   "id": "6100cb11",
   "metadata": {},
   "outputs": [],
   "source": [
    "a,b,c,d,e,f,g,h,i = t"
   ]
  },
  {
   "cell_type": "code",
   "execution_count": 256,
   "id": "2a96ca17",
   "metadata": {},
   "outputs": [
    {
     "name": "stdout",
     "output_type": "stream",
     "text": [
      "6 5 8 10.23 56.25 (5+6j) computer [1, 2, 3] (8, 9, 4)\n"
     ]
    }
   ],
   "source": [
    "print(*t)"
   ]
  },
  {
   "cell_type": "code",
   "execution_count": 257,
   "id": "8f0b0f96",
   "metadata": {},
   "outputs": [
    {
     "data": {
      "text/plain": [
       "6"
      ]
     },
     "execution_count": 257,
     "metadata": {},
     "output_type": "execute_result"
    }
   ],
   "source": [
    "a"
   ]
  },
  {
   "cell_type": "code",
   "execution_count": 258,
   "id": "38a745eb",
   "metadata": {},
   "outputs": [
    {
     "data": {
      "text/plain": [
       "5"
      ]
     },
     "execution_count": 258,
     "metadata": {},
     "output_type": "execute_result"
    }
   ],
   "source": [
    "b"
   ]
  },
  {
   "cell_type": "code",
   "execution_count": 259,
   "id": "c5c58518",
   "metadata": {},
   "outputs": [
    {
     "data": {
      "text/plain": [
       "8"
      ]
     },
     "execution_count": 259,
     "metadata": {},
     "output_type": "execute_result"
    }
   ],
   "source": [
    "c"
   ]
  },
  {
   "cell_type": "code",
   "execution_count": 260,
   "id": "a675f62e",
   "metadata": {},
   "outputs": [
    {
     "data": {
      "text/plain": [
       "10.23"
      ]
     },
     "execution_count": 260,
     "metadata": {},
     "output_type": "execute_result"
    }
   ],
   "source": [
    "d"
   ]
  },
  {
   "cell_type": "code",
   "execution_count": 261,
   "id": "c6d03062",
   "metadata": {},
   "outputs": [
    {
     "data": {
      "text/plain": [
       "56.25"
      ]
     },
     "execution_count": 261,
     "metadata": {},
     "output_type": "execute_result"
    }
   ],
   "source": [
    "e"
   ]
  },
  {
   "cell_type": "code",
   "execution_count": 262,
   "id": "c93f8978",
   "metadata": {},
   "outputs": [
    {
     "data": {
      "text/plain": [
       "(5+6j)"
      ]
     },
     "execution_count": 262,
     "metadata": {},
     "output_type": "execute_result"
    }
   ],
   "source": [
    "f"
   ]
  },
  {
   "cell_type": "code",
   "execution_count": 263,
   "id": "0538fdf4",
   "metadata": {},
   "outputs": [
    {
     "data": {
      "text/plain": [
       "'computer'"
      ]
     },
     "execution_count": 263,
     "metadata": {},
     "output_type": "execute_result"
    }
   ],
   "source": [
    "g"
   ]
  },
  {
   "cell_type": "code",
   "execution_count": 264,
   "id": "9a9cd6c9",
   "metadata": {},
   "outputs": [
    {
     "data": {
      "text/plain": [
       "[1, 2, 3]"
      ]
     },
     "execution_count": 264,
     "metadata": {},
     "output_type": "execute_result"
    }
   ],
   "source": [
    "h"
   ]
  },
  {
   "cell_type": "code",
   "execution_count": 265,
   "id": "9d61aec9",
   "metadata": {},
   "outputs": [
    {
     "data": {
      "text/plain": [
       "(8, 9, 4)"
      ]
     },
     "execution_count": 265,
     "metadata": {},
     "output_type": "execute_result"
    }
   ],
   "source": [
    "i"
   ]
  },
  {
   "cell_type": "code",
   "execution_count": 266,
   "id": "c88300e8",
   "metadata": {},
   "outputs": [
    {
     "name": "stdout",
     "output_type": "stream",
     "text": [
      "6 5 8 10.23 56.25 (5+6j) computer [1, 2, 3] (8, 9, 4)\n"
     ]
    }
   ],
   "source": [
    "print(*t)"
   ]
  },
  {
   "cell_type": "markdown",
   "id": "e88014af",
   "metadata": {},
   "source": [
    "# sets"
   ]
  },
  {
   "cell_type": "code",
   "execution_count": 267,
   "id": "d0c62366",
   "metadata": {},
   "outputs": [],
   "source": [
    "s = set()"
   ]
  },
  {
   "cell_type": "code",
   "execution_count": 268,
   "id": "b63cb2b7",
   "metadata": {},
   "outputs": [
    {
     "data": {
      "text/plain": [
       "set"
      ]
     },
     "execution_count": 268,
     "metadata": {},
     "output_type": "execute_result"
    }
   ],
   "source": [
    "type(s)"
   ]
  },
  {
   "cell_type": "code",
   "execution_count": 269,
   "id": "d5a7c700",
   "metadata": {},
   "outputs": [],
   "source": [
    "s1 = {2}"
   ]
  },
  {
   "cell_type": "code",
   "execution_count": 270,
   "id": "e3d5da3b",
   "metadata": {},
   "outputs": [
    {
     "data": {
      "text/plain": [
       "set"
      ]
     },
     "execution_count": 270,
     "metadata": {},
     "output_type": "execute_result"
    }
   ],
   "source": [
    "type(s1)"
   ]
  },
  {
   "cell_type": "code",
   "execution_count": 271,
   "id": "154e6b70",
   "metadata": {},
   "outputs": [],
   "source": [
    "my_set = {2,5,1,2,5,8,3,6,6,2,1,5,6,9,7,8,9}"
   ]
  },
  {
   "cell_type": "code",
   "execution_count": 272,
   "id": "ac85c98d",
   "metadata": {},
   "outputs": [
    {
     "data": {
      "text/plain": [
       "set"
      ]
     },
     "execution_count": 272,
     "metadata": {},
     "output_type": "execute_result"
    }
   ],
   "source": [
    "type(my_set)"
   ]
  },
  {
   "cell_type": "code",
   "execution_count": 273,
   "id": "75674eaa",
   "metadata": {},
   "outputs": [
    {
     "data": {
      "text/plain": [
       "{1, 2, 3, 5, 6, 7, 8, 9}"
      ]
     },
     "execution_count": 273,
     "metadata": {},
     "output_type": "execute_result"
    }
   ],
   "source": [
    "my_set"
   ]
  },
  {
   "cell_type": "code",
   "execution_count": 274,
   "id": "14f8ae76",
   "metadata": {},
   "outputs": [],
   "source": [
    "my_set.add(10)"
   ]
  },
  {
   "cell_type": "code",
   "execution_count": 275,
   "id": "9e2e0a80",
   "metadata": {},
   "outputs": [
    {
     "data": {
      "text/plain": [
       "{1, 2, 3, 5, 6, 7, 8, 9, 10}"
      ]
     },
     "execution_count": 275,
     "metadata": {},
     "output_type": "execute_result"
    }
   ],
   "source": [
    "my_set"
   ]
  },
  {
   "cell_type": "code",
   "execution_count": 276,
   "id": "82ed5a4e",
   "metadata": {},
   "outputs": [],
   "source": [
    "my_set.add(10)"
   ]
  },
  {
   "cell_type": "code",
   "execution_count": 277,
   "id": "a4f4f67a",
   "metadata": {},
   "outputs": [
    {
     "data": {
      "text/plain": [
       "{1, 2, 3, 5, 6, 7, 8, 9, 10}"
      ]
     },
     "execution_count": 277,
     "metadata": {},
     "output_type": "execute_result"
    }
   ],
   "source": [
    "my_set"
   ]
  },
  {
   "cell_type": "code",
   "execution_count": 278,
   "id": "719e0a69",
   "metadata": {},
   "outputs": [],
   "source": [
    "my_set.remove(7)"
   ]
  },
  {
   "cell_type": "code",
   "execution_count": 279,
   "id": "7f5ddc7b",
   "metadata": {},
   "outputs": [
    {
     "data": {
      "text/plain": [
       "{1, 2, 3, 5, 6, 8, 9, 10}"
      ]
     },
     "execution_count": 279,
     "metadata": {},
     "output_type": "execute_result"
    }
   ],
   "source": [
    "my_set"
   ]
  },
  {
   "cell_type": "code",
   "execution_count": 280,
   "id": "a35cbf6d",
   "metadata": {},
   "outputs": [
    {
     "ename": "KeyError",
     "evalue": "11",
     "output_type": "error",
     "traceback": [
      "\u001b[1;31m---------------------------------------------------------------------------\u001b[0m",
      "\u001b[1;31mKeyError\u001b[0m                                  Traceback (most recent call last)",
      "\u001b[1;32m<ipython-input-280-510be6ce8725>\u001b[0m in \u001b[0;36m<module>\u001b[1;34m\u001b[0m\n\u001b[1;32m----> 1\u001b[1;33m \u001b[0mmy_set\u001b[0m\u001b[1;33m.\u001b[0m\u001b[0mremove\u001b[0m\u001b[1;33m(\u001b[0m\u001b[1;36m11\u001b[0m\u001b[1;33m)\u001b[0m\u001b[1;33m\u001b[0m\u001b[1;33m\u001b[0m\u001b[0m\n\u001b[0m",
      "\u001b[1;31mKeyError\u001b[0m: 11"
     ]
    }
   ],
   "source": [
    "\n",
    "my_set.remove(11)"
   ]
  },
  {
   "cell_type": "code",
   "execution_count": 281,
   "id": "23dc48ed",
   "metadata": {},
   "outputs": [],
   "source": [
    "my_set.discard(11)"
   ]
  },
  {
   "cell_type": "code",
   "execution_count": 282,
   "id": "cdb3a1cf",
   "metadata": {},
   "outputs": [
    {
     "data": {
      "text/plain": [
       "{1, 2, 3, 5, 6, 8, 9, 10}"
      ]
     },
     "execution_count": 282,
     "metadata": {},
     "output_type": "execute_result"
    }
   ],
   "source": [
    "my_set"
   ]
  },
  {
   "cell_type": "code",
   "execution_count": 283,
   "id": "35a14dbe",
   "metadata": {},
   "outputs": [],
   "source": [
    "my_set.discard(6)"
   ]
  },
  {
   "cell_type": "code",
   "execution_count": 284,
   "id": "7693fbcb",
   "metadata": {},
   "outputs": [
    {
     "data": {
      "text/plain": [
       "{1, 2, 3, 5, 8, 9, 10}"
      ]
     },
     "execution_count": 284,
     "metadata": {},
     "output_type": "execute_result"
    }
   ],
   "source": [
    "my_set"
   ]
  },
  {
   "cell_type": "code",
   "execution_count": 285,
   "id": "5adab23b",
   "metadata": {},
   "outputs": [],
   "source": [
    "my_set.add(12)"
   ]
  },
  {
   "cell_type": "code",
   "execution_count": 286,
   "id": "c20271ab",
   "metadata": {},
   "outputs": [
    {
     "data": {
      "text/plain": [
       "{1, 2, 3, 5, 8, 9, 10, 12}"
      ]
     },
     "execution_count": 286,
     "metadata": {},
     "output_type": "execute_result"
    }
   ],
   "source": [
    "my_set"
   ]
  },
  {
   "cell_type": "code",
   "execution_count": 287,
   "id": "27d3e819",
   "metadata": {},
   "outputs": [],
   "source": [
    "my_set.update([13,14,15])"
   ]
  },
  {
   "cell_type": "code",
   "execution_count": 288,
   "id": "8eddfa3f",
   "metadata": {},
   "outputs": [
    {
     "data": {
      "text/plain": [
       "{1, 2, 3, 5, 8, 9, 10, 12, 13, 14, 15}"
      ]
     },
     "execution_count": 288,
     "metadata": {},
     "output_type": "execute_result"
    }
   ],
   "source": [
    "my_set"
   ]
  },
  {
   "cell_type": "code",
   "execution_count": 289,
   "id": "b46eaecb",
   "metadata": {},
   "outputs": [],
   "source": [
    "s1 = {1,2,3,4,5,6}\n",
    "s2 = {4,5,6,7,8,9}"
   ]
  },
  {
   "cell_type": "code",
   "execution_count": 290,
   "id": "62e79c73",
   "metadata": {},
   "outputs": [
    {
     "data": {
      "text/plain": [
       "{1, 2, 3, 4, 5, 6, 7, 8, 9}"
      ]
     },
     "execution_count": 290,
     "metadata": {},
     "output_type": "execute_result"
    }
   ],
   "source": [
    "s1.union(s2)"
   ]
  },
  {
   "cell_type": "code",
   "execution_count": 291,
   "id": "b420bf77",
   "metadata": {},
   "outputs": [
    {
     "data": {
      "text/plain": [
       "{1, 2, 3, 4, 5, 6, 7, 8, 9}"
      ]
     },
     "execution_count": 291,
     "metadata": {},
     "output_type": "execute_result"
    }
   ],
   "source": [
    "s1 | s2"
   ]
  },
  {
   "cell_type": "code",
   "execution_count": 292,
   "id": "69241036",
   "metadata": {},
   "outputs": [
    {
     "data": {
      "text/plain": [
       "{4, 5, 6}"
      ]
     },
     "execution_count": 292,
     "metadata": {},
     "output_type": "execute_result"
    }
   ],
   "source": [
    "s1.intersection(s2)"
   ]
  },
  {
   "cell_type": "code",
   "execution_count": 293,
   "id": "52ab9712",
   "metadata": {},
   "outputs": [
    {
     "data": {
      "text/plain": [
       "{4, 5, 6}"
      ]
     },
     "execution_count": 293,
     "metadata": {},
     "output_type": "execute_result"
    }
   ],
   "source": [
    "s1 & s2"
   ]
  },
  {
   "cell_type": "code",
   "execution_count": 294,
   "id": "f64ebe19",
   "metadata": {},
   "outputs": [
    {
     "data": {
      "text/plain": [
       "{1, 2, 3}"
      ]
     },
     "execution_count": 294,
     "metadata": {},
     "output_type": "execute_result"
    }
   ],
   "source": [
    "s1-s2"
   ]
  },
  {
   "cell_type": "code",
   "execution_count": 295,
   "id": "b7dc2ab4",
   "metadata": {},
   "outputs": [
    {
     "data": {
      "text/plain": [
       "{7, 8, 9}"
      ]
     },
     "execution_count": 295,
     "metadata": {},
     "output_type": "execute_result"
    }
   ],
   "source": [
    "s2-s1"
   ]
  },
  {
   "cell_type": "code",
   "execution_count": 296,
   "id": "c06f18d2",
   "metadata": {},
   "outputs": [
    {
     "data": {
      "text/plain": [
       "{1, 2, 3}"
      ]
     },
     "execution_count": 296,
     "metadata": {},
     "output_type": "execute_result"
    }
   ],
   "source": [
    "s1.difference(s2)"
   ]
  },
  {
   "cell_type": "code",
   "execution_count": 297,
   "id": "cef4707a",
   "metadata": {},
   "outputs": [
    {
     "data": {
      "text/plain": [
       "{1, 2, 3, 7, 8, 9}"
      ]
     },
     "execution_count": 297,
     "metadata": {},
     "output_type": "execute_result"
    }
   ],
   "source": [
    "s1.symmetric_difference(s2)"
   ]
  },
  {
   "cell_type": "code",
   "execution_count": 298,
   "id": "e540e638",
   "metadata": {},
   "outputs": [
    {
     "data": {
      "text/plain": [
       "{1, 2, 3, 7, 8, 9}"
      ]
     },
     "execution_count": 298,
     "metadata": {},
     "output_type": "execute_result"
    }
   ],
   "source": [
    "(s1 | s2)- (s1&s2)"
   ]
  },
  {
   "cell_type": "code",
   "execution_count": 299,
   "id": "a15381f4",
   "metadata": {},
   "outputs": [],
   "source": [
    "some_list = [6,3,7,6,4,1,0,9,2,1,0,8,6,4,7]"
   ]
  },
  {
   "cell_type": "code",
   "execution_count": 300,
   "id": "6400bb92",
   "metadata": {},
   "outputs": [],
   "source": [
    "some_list = set(some_list)"
   ]
  },
  {
   "cell_type": "code",
   "execution_count": 301,
   "id": "65392723",
   "metadata": {},
   "outputs": [
    {
     "name": "stdout",
     "output_type": "stream",
     "text": [
      "{0, 1, 2, 3, 4, 6, 7, 8, 9}\n"
     ]
    }
   ],
   "source": [
    "print(some_list)"
   ]
  },
  {
   "cell_type": "code",
   "execution_count": 302,
   "id": "93875893",
   "metadata": {},
   "outputs": [],
   "source": [
    "some_list = list(some_list)"
   ]
  },
  {
   "cell_type": "code",
   "execution_count": 303,
   "id": "1d014e92",
   "metadata": {},
   "outputs": [
    {
     "data": {
      "text/plain": [
       "[0, 1, 2, 3, 4, 6, 7, 8, 9]"
      ]
     },
     "execution_count": 303,
     "metadata": {},
     "output_type": "execute_result"
    }
   ],
   "source": [
    "some_list"
   ]
  },
  {
   "cell_type": "code",
   "execution_count": 304,
   "id": "89b07c68",
   "metadata": {},
   "outputs": [],
   "source": [
    "my_set = {2,5,1,2,5,8,3,6,6,2,1,5,6,9,7,8,9}"
   ]
  },
  {
   "cell_type": "code",
   "execution_count": 305,
   "id": "00bcd1e0",
   "metadata": {},
   "outputs": [
    {
     "data": {
      "text/plain": [
       "True"
      ]
     },
     "execution_count": 305,
     "metadata": {},
     "output_type": "execute_result"
    }
   ],
   "source": [
    "2 in my_set"
   ]
  },
  {
   "cell_type": "code",
   "execution_count": 306,
   "id": "cf6684e6",
   "metadata": {},
   "outputs": [
    {
     "data": {
      "text/plain": [
       "False"
      ]
     },
     "execution_count": 306,
     "metadata": {},
     "output_type": "execute_result"
    }
   ],
   "source": [
    "15 in my_set"
   ]
  },
  {
   "cell_type": "code",
   "execution_count": 307,
   "id": "8c4a4de7",
   "metadata": {},
   "outputs": [
    {
     "data": {
      "text/plain": [
       "True"
      ]
     },
     "execution_count": 307,
     "metadata": {},
     "output_type": "execute_result"
    }
   ],
   "source": [
    "30 not in my_set"
   ]
  },
  {
   "cell_type": "code",
   "execution_count": 308,
   "id": "358cb839",
   "metadata": {},
   "outputs": [],
   "source": [
    "dic = {}"
   ]
  },
  {
   "cell_type": "code",
   "execution_count": 309,
   "id": "a239d679",
   "metadata": {},
   "outputs": [
    {
     "data": {
      "text/plain": [
       "dict"
      ]
     },
     "execution_count": 309,
     "metadata": {},
     "output_type": "execute_result"
    }
   ],
   "source": [
    "type(dic)"
   ]
  },
  {
   "cell_type": "code",
   "execution_count": 310,
   "id": "e29556c9",
   "metadata": {},
   "outputs": [],
   "source": [
    "d = dict()"
   ]
  },
  {
   "cell_type": "code",
   "execution_count": 311,
   "id": "75d893fd",
   "metadata": {},
   "outputs": [
    {
     "data": {
      "text/plain": [
       "dict"
      ]
     },
     "execution_count": 311,
     "metadata": {},
     "output_type": "execute_result"
    }
   ],
   "source": [
    "type(d)"
   ]
  },
  {
   "cell_type": "code",
   "execution_count": 312,
   "id": "beceadf5",
   "metadata": {},
   "outputs": [],
   "source": [
    "my_d = dict([(1, \"abc\"),(2, \"xyz\")])"
   ]
  },
  {
   "cell_type": "code",
   "execution_count": 313,
   "id": "4419d04d",
   "metadata": {},
   "outputs": [
    {
     "data": {
      "text/plain": [
       "{1: 'abc', 2: 'xyz'}"
      ]
     },
     "execution_count": 313,
     "metadata": {},
     "output_type": "execute_result"
    }
   ],
   "source": [
    "my_d"
   ]
  },
  {
   "cell_type": "code",
   "execution_count": 314,
   "id": "3f6ccae0",
   "metadata": {},
   "outputs": [],
   "source": [
    "user_info = {\n",
    "    \"name\" : \"sanjay kumar\",\n",
    "    \"age\" : 28,\n",
    "    \"nationality\": \"indian\"\n",
    "}"
   ]
  },
  {
   "cell_type": "code",
   "execution_count": 315,
   "id": "cfaf79b8",
   "metadata": {},
   "outputs": [
    {
     "data": {
      "text/plain": [
       "{'name': 'sanjay kumar', 'age': 28, 'nationality': 'indian'}"
      ]
     },
     "execution_count": 315,
     "metadata": {},
     "output_type": "execute_result"
    }
   ],
   "source": [
    "user_info"
   ]
  },
  {
   "cell_type": "code",
   "execution_count": 316,
   "id": "fae0d1a8",
   "metadata": {},
   "outputs": [
    {
     "data": {
      "text/plain": [
       "dict"
      ]
     },
     "execution_count": 316,
     "metadata": {},
     "output_type": "execute_result"
    }
   ],
   "source": [
    "type(user_info)"
   ]
  },
  {
   "cell_type": "code",
   "execution_count": 317,
   "id": "4e23a3f3",
   "metadata": {},
   "outputs": [
    {
     "data": {
      "text/plain": [
       "{'name': 'sanjay kumar', 'age': 28, 'nationality': 'indian'}"
      ]
     },
     "execution_count": 317,
     "metadata": {},
     "output_type": "execute_result"
    }
   ],
   "source": [
    "user_info\n"
   ]
  },
  {
   "cell_type": "code",
   "execution_count": 318,
   "id": "77a31f99",
   "metadata": {},
   "outputs": [
    {
     "data": {
      "text/plain": [
       "'sanjay kumar'"
      ]
     },
     "execution_count": 318,
     "metadata": {},
     "output_type": "execute_result"
    }
   ],
   "source": [
    "user_info[\"name\"]"
   ]
  },
  {
   "cell_type": "code",
   "execution_count": 319,
   "id": "87d87fe2",
   "metadata": {},
   "outputs": [
    {
     "data": {
      "text/plain": [
       "'indian'"
      ]
     },
     "execution_count": 319,
     "metadata": {},
     "output_type": "execute_result"
    }
   ],
   "source": [
    "user_info[\"nationality\"]"
   ]
  },
  {
   "cell_type": "code",
   "execution_count": 320,
   "id": "a4663385",
   "metadata": {},
   "outputs": [
    {
     "data": {
      "text/plain": [
       "28"
      ]
     },
     "execution_count": 320,
     "metadata": {},
     "output_type": "execute_result"
    }
   ],
   "source": [
    "user_info[\"age\"]"
   ]
  },
  {
   "cell_type": "code",
   "execution_count": 321,
   "id": "dd84cbda",
   "metadata": {},
   "outputs": [
    {
     "ename": "KeyError",
     "evalue": "'hobby'",
     "output_type": "error",
     "traceback": [
      "\u001b[1;31m---------------------------------------------------------------------------\u001b[0m",
      "\u001b[1;31mKeyError\u001b[0m                                  Traceback (most recent call last)",
      "\u001b[1;32m<ipython-input-321-0d4ff7a9330a>\u001b[0m in \u001b[0;36m<module>\u001b[1;34m\u001b[0m\n\u001b[1;32m----> 1\u001b[1;33m \u001b[0muser_info\u001b[0m\u001b[1;33m[\u001b[0m\u001b[1;34m\"hobby\"\u001b[0m\u001b[1;33m]\u001b[0m\u001b[1;33m\u001b[0m\u001b[1;33m\u001b[0m\u001b[0m\n\u001b[0m",
      "\u001b[1;31mKeyError\u001b[0m: 'hobby'"
     ]
    }
   ],
   "source": [
    "user_info[\"hobby\"]"
   ]
  },
  {
   "cell_type": "code",
   "execution_count": 322,
   "id": "37113a6d",
   "metadata": {},
   "outputs": [
    {
     "data": {
      "text/plain": [
       "'sanjay kumar'"
      ]
     },
     "execution_count": 322,
     "metadata": {},
     "output_type": "execute_result"
    }
   ],
   "source": [
    "user_info.get(\"name\")"
   ]
  },
  {
   "cell_type": "code",
   "execution_count": 323,
   "id": "4a529524",
   "metadata": {},
   "outputs": [],
   "source": [
    "user_info.get(\"hobby\")"
   ]
  },
  {
   "cell_type": "code",
   "execution_count": 324,
   "id": "13787761",
   "metadata": {},
   "outputs": [],
   "source": [
    "user_info['hobby'] = ['singing', 'playing', 'dancing']"
   ]
  },
  {
   "cell_type": "code",
   "execution_count": 325,
   "id": "a91b34c4",
   "metadata": {},
   "outputs": [
    {
     "data": {
      "text/plain": [
       "{'name': 'sanjay kumar',\n",
       " 'age': 28,\n",
       " 'nationality': 'indian',\n",
       " 'hobby': ['singing', 'playing', 'dancing']}"
      ]
     },
     "execution_count": 325,
     "metadata": {},
     "output_type": "execute_result"
    }
   ],
   "source": [
    "user_info"
   ]
  },
  {
   "cell_type": "code",
   "execution_count": 326,
   "id": "1be0d588",
   "metadata": {},
   "outputs": [],
   "source": [
    "user_info['name'] = 'mohit sharam'"
   ]
  },
  {
   "cell_type": "code",
   "execution_count": 327,
   "id": "d9432a89",
   "metadata": {},
   "outputs": [
    {
     "data": {
      "text/plain": [
       "{'name': 'mohit sharam',\n",
       " 'age': 28,\n",
       " 'nationality': 'indian',\n",
       " 'hobby': ['singing', 'playing', 'dancing']}"
      ]
     },
     "execution_count": 327,
     "metadata": {},
     "output_type": "execute_result"
    }
   ],
   "source": [
    "user_info"
   ]
  },
  {
   "cell_type": "code",
   "execution_count": 328,
   "id": "12affc5d",
   "metadata": {},
   "outputs": [
    {
     "data": {
      "text/plain": [
       "{'name': 'mohit sharam',\n",
       " 'age': 28,\n",
       " 'nationality': 'indian',\n",
       " 'hobby': ['singing', 'playing', 'dancing']}"
      ]
     },
     "execution_count": 328,
     "metadata": {},
     "output_type": "execute_result"
    }
   ],
   "source": [
    "user_info"
   ]
  },
  {
   "cell_type": "code",
   "execution_count": 329,
   "id": "920b1ade",
   "metadata": {},
   "outputs": [
    {
     "data": {
      "text/plain": [
       "['name', 'age', 'nationality', 'hobby']"
      ]
     },
     "execution_count": 329,
     "metadata": {},
     "output_type": "execute_result"
    }
   ],
   "source": [
    "list(user_info.keys())"
   ]
  },
  {
   "cell_type": "code",
   "execution_count": 330,
   "id": "6a60f546",
   "metadata": {},
   "outputs": [
    {
     "data": {
      "text/plain": [
       "['mohit sharam', 28, 'indian', ['singing', 'playing', 'dancing']]"
      ]
     },
     "execution_count": 330,
     "metadata": {},
     "output_type": "execute_result"
    }
   ],
   "source": [
    "list(user_info.values())"
   ]
  },
  {
   "cell_type": "code",
   "execution_count": 331,
   "id": "97fd76fc",
   "metadata": {},
   "outputs": [
    {
     "data": {
      "text/plain": [
       "[('name', 'mohit sharam'),\n",
       " ('age', 28),\n",
       " ('nationality', 'indian'),\n",
       " ('hobby', ['singing', 'playing', 'dancing'])]"
      ]
     },
     "execution_count": 331,
     "metadata": {},
     "output_type": "execute_result"
    }
   ],
   "source": [
    "list(user_info.items())"
   ]
  },
  {
   "cell_type": "code",
   "execution_count": 332,
   "id": "bb429d55",
   "metadata": {},
   "outputs": [
    {
     "data": {
      "text/plain": [
       "dict_items([('name', 'mohit sharam'), ('age', 28), ('nationality', 'indian'), ('hobby', ['singing', 'playing', 'dancing'])])"
      ]
     },
     "execution_count": 332,
     "metadata": {},
     "output_type": "execute_result"
    }
   ],
   "source": [
    "user_info.items()"
   ]
  },
  {
   "cell_type": "code",
   "execution_count": 333,
   "id": "2c5fd65b",
   "metadata": {},
   "outputs": [
    {
     "name": "stdout",
     "output_type": "stream",
     "text": [
      "name : mohit sharam\n",
      "age : 28\n",
      "nationality : indian\n",
      "hobby : ['singing', 'playing', 'dancing']\n"
     ]
    }
   ],
   "source": [
    "for k,v in user_info.items():\n",
    "    print(k, \":\", v )"
   ]
  },
  {
   "cell_type": "code",
   "execution_count": 334,
   "id": "83a60d09",
   "metadata": {},
   "outputs": [
    {
     "data": {
      "text/plain": [
       "{'name': 'mohit sharam',\n",
       " 'age': 28,\n",
       " 'nationality': 'indian',\n",
       " 'hobby': ['singing', 'playing', 'dancing']}"
      ]
     },
     "execution_count": 334,
     "metadata": {},
     "output_type": "execute_result"
    }
   ],
   "source": [
    "user_info"
   ]
  },
  {
   "cell_type": "code",
   "execution_count": 335,
   "id": "677e6e7b",
   "metadata": {},
   "outputs": [
    {
     "name": "stdout",
     "output_type": "stream",
     "text": [
      "name : mohit sharam\n",
      "age : 28\n",
      "nationality : indian\n",
      "hobby : ['singing', 'playing', 'dancing']\n"
     ]
    }
   ],
   "source": [
    "for i in user_info:\n",
    "    print(i, \":\", user_info[i])"
   ]
  },
  {
   "cell_type": "code",
   "execution_count": 336,
   "id": "3da8b06a",
   "metadata": {},
   "outputs": [
    {
     "data": {
      "text/plain": [
       "'mohit sharam'"
      ]
     },
     "execution_count": 336,
     "metadata": {},
     "output_type": "execute_result"
    }
   ],
   "source": [
    "user_info['name']"
   ]
  },
  {
   "cell_type": "code",
   "execution_count": 337,
   "id": "97b430fa",
   "metadata": {},
   "outputs": [
    {
     "data": {
      "text/plain": [
       "28"
      ]
     },
     "execution_count": 337,
     "metadata": {},
     "output_type": "execute_result"
    }
   ],
   "source": [
    "user_info['age']"
   ]
  },
  {
   "cell_type": "code",
   "execution_count": 338,
   "id": "4e871ba0",
   "metadata": {},
   "outputs": [
    {
     "data": {
      "text/plain": [
       "599"
      ]
     },
     "execution_count": 338,
     "metadata": {},
     "output_type": "execute_result"
    }
   ],
   "source": [
    "hash(599)"
   ]
  },
  {
   "cell_type": "code",
   "execution_count": 339,
   "id": "b857303a",
   "metadata": {},
   "outputs": [
    {
     "data": {
      "text/plain": [
       "2172419356344242548"
      ]
     },
     "execution_count": 339,
     "metadata": {},
     "output_type": "execute_result"
    }
   ],
   "source": [
    "hash('python')"
   ]
  },
  {
   "cell_type": "code",
   "execution_count": 340,
   "id": "3b0dbb94",
   "metadata": {},
   "outputs": [
    {
     "data": {
      "text/plain": [
       "599"
      ]
     },
     "execution_count": 340,
     "metadata": {},
     "output_type": "execute_result"
    }
   ],
   "source": [
    "hash(599,)"
   ]
  },
  {
   "cell_type": "code",
   "execution_count": 341,
   "id": "e8273625",
   "metadata": {},
   "outputs": [
    {
     "ename": "TypeError",
     "evalue": "unhashable type: 'list'",
     "output_type": "error",
     "traceback": [
      "\u001b[1;31m---------------------------------------------------------------------------\u001b[0m",
      "\u001b[1;31mTypeError\u001b[0m                                 Traceback (most recent call last)",
      "\u001b[1;32m<ipython-input-341-9797218c984a>\u001b[0m in \u001b[0;36m<module>\u001b[1;34m\u001b[0m\n\u001b[1;32m----> 1\u001b[1;33m \u001b[0mhash\u001b[0m\u001b[1;33m(\u001b[0m\u001b[1;33m[\u001b[0m\u001b[1;36m2\u001b[0m\u001b[1;33m,\u001b[0m\u001b[1;36m5\u001b[0m\u001b[1;33m,\u001b[0m\u001b[1;36m8\u001b[0m\u001b[1;33m]\u001b[0m\u001b[1;33m)\u001b[0m\u001b[1;33m\u001b[0m\u001b[1;33m\u001b[0m\u001b[0m\n\u001b[0m",
      "\u001b[1;31mTypeError\u001b[0m: unhashable type: 'list'"
     ]
    }
   ],
   "source": [
    "hash([2,5,8])"
   ]
  },
  {
   "cell_type": "code",
   "execution_count": 342,
   "id": "2b0cd940",
   "metadata": {},
   "outputs": [
    {
     "data": {
      "text/plain": [
       "28"
      ]
     },
     "execution_count": 342,
     "metadata": {},
     "output_type": "execute_result"
    }
   ],
   "source": [
    "user_info.pop('age')"
   ]
  },
  {
   "cell_type": "code",
   "execution_count": 343,
   "id": "253ecd73",
   "metadata": {},
   "outputs": [
    {
     "data": {
      "text/plain": [
       "{'name': 'mohit sharam',\n",
       " 'nationality': 'indian',\n",
       " 'hobby': ['singing', 'playing', 'dancing']}"
      ]
     },
     "execution_count": 343,
     "metadata": {},
     "output_type": "execute_result"
    }
   ],
   "source": [
    "user_info\n"
   ]
  },
  {
   "cell_type": "code",
   "execution_count": 344,
   "id": "fad09829",
   "metadata": {},
   "outputs": [
    {
     "ename": "KeyError",
     "evalue": "'age'",
     "output_type": "error",
     "traceback": [
      "\u001b[1;31m---------------------------------------------------------------------------\u001b[0m",
      "\u001b[1;31mKeyError\u001b[0m                                  Traceback (most recent call last)",
      "\u001b[1;32m<ipython-input-344-8a1ec0272046>\u001b[0m in \u001b[0;36m<module>\u001b[1;34m\u001b[0m\n\u001b[1;32m----> 1\u001b[1;33m \u001b[0muser_info\u001b[0m\u001b[1;33m.\u001b[0m\u001b[0mpop\u001b[0m\u001b[1;33m(\u001b[0m\u001b[1;34m'age'\u001b[0m\u001b[1;33m)\u001b[0m\u001b[1;33m\u001b[0m\u001b[1;33m\u001b[0m\u001b[0m\n\u001b[0m",
      "\u001b[1;31mKeyError\u001b[0m: 'age'"
     ]
    }
   ],
   "source": [
    "user_info.pop('age')"
   ]
  },
  {
   "cell_type": "code",
   "execution_count": 345,
   "id": "9f88659b",
   "metadata": {},
   "outputs": [],
   "source": [
    "del user_info['nationality']"
   ]
  },
  {
   "cell_type": "code",
   "execution_count": 346,
   "id": "d1c1d30c",
   "metadata": {},
   "outputs": [
    {
     "data": {
      "text/plain": [
       "{'name': 'mohit sharam', 'hobby': ['singing', 'playing', 'dancing']}"
      ]
     },
     "execution_count": 346,
     "metadata": {},
     "output_type": "execute_result"
    }
   ],
   "source": [
    "user_info"
   ]
  },
  {
   "cell_type": "code",
   "execution_count": 347,
   "id": "6cd8b9d5",
   "metadata": {},
   "outputs": [],
   "source": [
    "del user_info['name']"
   ]
  },
  {
   "cell_type": "code",
   "execution_count": 348,
   "id": "4ab7bbfe",
   "metadata": {},
   "outputs": [
    {
     "data": {
      "text/plain": [
       "{'hobby': ['singing', 'playing', 'dancing']}"
      ]
     },
     "execution_count": 348,
     "metadata": {},
     "output_type": "execute_result"
    }
   ],
   "source": [
    "user_info"
   ]
  },
  {
   "cell_type": "code",
   "execution_count": 349,
   "id": "8684f6c1",
   "metadata": {},
   "outputs": [
    {
     "ename": "KeyError",
     "evalue": "'name'",
     "output_type": "error",
     "traceback": [
      "\u001b[1;31m---------------------------------------------------------------------------\u001b[0m",
      "\u001b[1;31mKeyError\u001b[0m                                  Traceback (most recent call last)",
      "\u001b[1;32m<ipython-input-349-1a3aa1d89ba7>\u001b[0m in \u001b[0;36m<module>\u001b[1;34m\u001b[0m\n\u001b[1;32m----> 1\u001b[1;33m \u001b[1;32mdel\u001b[0m \u001b[0muser_info\u001b[0m\u001b[1;33m[\u001b[0m\u001b[1;34m'name'\u001b[0m\u001b[1;33m]\u001b[0m\u001b[1;33m\u001b[0m\u001b[1;33m\u001b[0m\u001b[0m\n\u001b[0m",
      "\u001b[1;31mKeyError\u001b[0m: 'name'"
     ]
    }
   ],
   "source": [
    "del user_info['name']"
   ]
  },
  {
   "cell_type": "code",
   "execution_count": 350,
   "id": "e0e4d848",
   "metadata": {},
   "outputs": [],
   "source": [
    "canteen_menu = {\n",
    "    'samosa' : 10,\n",
    "    'pizza': 25,\n",
    "    'fruits': {\n",
    "        'apple' : 14,\n",
    "        'mango': 36,\n",
    "        'grapes': 89\n",
    "    }\n",
    "}"
   ]
  },
  {
   "cell_type": "code",
   "execution_count": 351,
   "id": "27005a65",
   "metadata": {},
   "outputs": [
    {
     "data": {
      "text/plain": [
       "{'samosa': 10, 'pizza': 25, 'fruits': {'apple': 14, 'mango': 36, 'grapes': 89}}"
      ]
     },
     "execution_count": 351,
     "metadata": {},
     "output_type": "execute_result"
    }
   ],
   "source": [
    "canteen_menu"
   ]
  },
  {
   "cell_type": "code",
   "execution_count": 352,
   "id": "2d4f873f",
   "metadata": {},
   "outputs": [
    {
     "data": {
      "text/plain": [
       "25"
      ]
     },
     "execution_count": 352,
     "metadata": {},
     "output_type": "execute_result"
    }
   ],
   "source": [
    "canteen_menu['pizza']"
   ]
  },
  {
   "cell_type": "code",
   "execution_count": 353,
   "id": "b5298fbc",
   "metadata": {},
   "outputs": [
    {
     "data": {
      "text/plain": [
       "{'apple': 14, 'mango': 36, 'grapes': 89}"
      ]
     },
     "execution_count": 353,
     "metadata": {},
     "output_type": "execute_result"
    }
   ],
   "source": [
    "canteen_menu['fruits']"
   ]
  },
  {
   "cell_type": "code",
   "execution_count": 354,
   "id": "22861e82",
   "metadata": {},
   "outputs": [
    {
     "data": {
      "text/plain": [
       "36"
      ]
     },
     "execution_count": 354,
     "metadata": {},
     "output_type": "execute_result"
    }
   ],
   "source": [
    "canteen_menu['fruits']['mango']"
   ]
  },
  {
   "cell_type": "code",
   "execution_count": 355,
   "id": "cdff8fa6",
   "metadata": {},
   "outputs": [],
   "source": [
    "canteen_menu['juice'] = [58,89,100]"
   ]
  },
  {
   "cell_type": "code",
   "execution_count": 356,
   "id": "7099f014",
   "metadata": {},
   "outputs": [
    {
     "data": {
      "text/plain": [
       "{'samosa': 10,\n",
       " 'pizza': 25,\n",
       " 'fruits': {'apple': 14, 'mango': 36, 'grapes': 89},\n",
       " 'juice': [58, 89, 100]}"
      ]
     },
     "execution_count": 356,
     "metadata": {},
     "output_type": "execute_result"
    }
   ],
   "source": [
    "canteen_menu"
   ]
  },
  {
   "cell_type": "code",
   "execution_count": 357,
   "id": "69e81ecd",
   "metadata": {},
   "outputs": [
    {
     "data": {
      "text/plain": [
       "100"
      ]
     },
     "execution_count": 357,
     "metadata": {},
     "output_type": "execute_result"
    }
   ],
   "source": [
    "canteen_menu['juice'][-1]"
   ]
  },
  {
   "cell_type": "code",
   "execution_count": 358,
   "id": "1bdd54c6",
   "metadata": {},
   "outputs": [],
   "source": [
    "d = {'a':1, 'b':2, 'c':3}"
   ]
  },
  {
   "cell_type": "code",
   "execution_count": 359,
   "id": "ecb1d9ee",
   "metadata": {},
   "outputs": [
    {
     "data": {
      "text/plain": [
       "dict"
      ]
     },
     "execution_count": 359,
     "metadata": {},
     "output_type": "execute_result"
    }
   ],
   "source": [
    "type(d)"
   ]
  },
  {
   "cell_type": "code",
   "execution_count": 360,
   "id": "253ba531",
   "metadata": {},
   "outputs": [
    {
     "name": "stdout",
     "output_type": "stream",
     "text": [
      "{'a': 1, 'b': 2, 'c': 3}\n",
      "a : 1\n",
      "b : 2\n",
      "c : 3\n"
     ]
    }
   ],
   "source": [
    "print(d)\n",
    "for k,v in d.items():\n",
    "    print(k, ':', v)"
   ]
  },
  {
   "cell_type": "code",
   "execution_count": 361,
   "id": "a7026207",
   "metadata": {},
   "outputs": [],
   "source": [
    "d = {'a':1, 'b':2, 'c':3, 'd':4, 'e':5}"
   ]
  },
  {
   "cell_type": "code",
   "execution_count": 362,
   "id": "ecffc086",
   "metadata": {},
   "outputs": [
    {
     "data": {
      "text/plain": [
       "{'b': 2, 'c': 3, 'd': 4, 'e': 5}"
      ]
     },
     "execution_count": 362,
     "metadata": {},
     "output_type": "execute_result"
    }
   ],
   "source": [
    "{k:v for k,v in d.items() if v>=2}"
   ]
  },
  {
   "cell_type": "code",
   "execution_count": 363,
   "id": "dd636d16",
   "metadata": {},
   "outputs": [],
   "source": [
    "n = {k + 'z' :v**2 for k,v in d.items() if v>=2}"
   ]
  },
  {
   "cell_type": "code",
   "execution_count": 364,
   "id": "b0b7f9ca",
   "metadata": {},
   "outputs": [
    {
     "name": "stdout",
     "output_type": "stream",
     "text": [
      "{'bz': 4, 'cz': 9, 'dz': 16, 'ez': 25}\n"
     ]
    }
   ],
   "source": [
    "print(n)"
   ]
  },
  {
   "cell_type": "code",
   "execution_count": 365,
   "id": "b681eb19",
   "metadata": {},
   "outputs": [],
   "source": [
    "n = {k + 'd': v**3 for k,v in d.items() if v>=2}"
   ]
  },
  {
   "cell_type": "code",
   "execution_count": 366,
   "id": "7a3a2d91",
   "metadata": {},
   "outputs": [
    {
     "data": {
      "text/plain": [
       "{'bd': 8, 'cd': 27, 'dd': 64, 'ed': 125}"
      ]
     },
     "execution_count": 366,
     "metadata": {},
     "output_type": "execute_result"
    }
   ],
   "source": [
    "n"
   ]
  },
  {
   "cell_type": "code",
   "execution_count": 367,
   "id": "e316c653",
   "metadata": {},
   "outputs": [],
   "source": [
    "d = {'a':1, 'b':2, 'c':3, 'd':4, 'e':5}\n",
    "\n",
    "f = {v : k for k,v in d.items()}"
   ]
  },
  {
   "cell_type": "code",
   "execution_count": 368,
   "id": "157779f5",
   "metadata": {},
   "outputs": [
    {
     "name": "stdout",
     "output_type": "stream",
     "text": [
      "{1: 'a', 2: 'b', 3: 'c', 4: 'd', 5: 'e'}\n"
     ]
    }
   ],
   "source": [
    "print(f)"
   ]
  },
  {
   "cell_type": "code",
   "execution_count": 369,
   "id": "dfd512fc",
   "metadata": {},
   "outputs": [],
   "source": [
    "d = {'a':1, 'b':2, 'c':3, 'd':4, 'e':5}"
   ]
  },
  {
   "cell_type": "code",
   "execution_count": 370,
   "id": "30240dd8",
   "metadata": {},
   "outputs": [
    {
     "name": "stdout",
     "output_type": "stream",
     "text": [
      "{1: 'a', 2: 'b', 3: 'c', 4: 'd', 5: 'e'}\n"
     ]
    }
   ],
   "source": [
    "di = dict()\n",
    "\n",
    "for k,v in d.items():\n",
    "    di[v] = k\n",
    "    \n",
    "    \n",
    "print(di)\n",
    "    "
   ]
  },
  {
   "cell_type": "markdown",
   "id": "b063d379",
   "metadata": {},
   "source": [
    "# Python inbuilt data structures"
   ]
  },
  {
   "cell_type": "markdown",
   "id": "cb6a5f8a",
   "metadata": {},
   "source": [
    "## strings"
   ]
  },
  {
   "cell_type": "code",
   "execution_count": 1,
   "id": "ccdebe8f",
   "metadata": {},
   "outputs": [],
   "source": [
    "my_str = \"Welcome To The Course\""
   ]
  },
  {
   "cell_type": "code",
   "execution_count": 2,
   "id": "8e7c57ca",
   "metadata": {},
   "outputs": [
    {
     "name": "stdout",
     "output_type": "stream",
     "text": [
      "Welcome To The Course\n"
     ]
    }
   ],
   "source": [
    "print(my_str)"
   ]
  },
  {
   "cell_type": "code",
   "execution_count": 3,
   "id": "432168c4",
   "metadata": {},
   "outputs": [
    {
     "data": {
      "text/plain": [
       "str"
      ]
     },
     "execution_count": 3,
     "metadata": {},
     "output_type": "execute_result"
    }
   ],
   "source": [
    "type(my_str)"
   ]
  },
  {
   "cell_type": "code",
   "execution_count": 4,
   "id": "548931db",
   "metadata": {},
   "outputs": [
    {
     "name": "stdout",
     "output_type": "stream",
     "text": [
      "<class 'str'>\n"
     ]
    }
   ],
   "source": [
    "print(type(my_str))"
   ]
  },
  {
   "cell_type": "code",
   "execution_count": 5,
   "id": "cbaa191f",
   "metadata": {},
   "outputs": [
    {
     "data": {
      "text/plain": [
       "'W'"
      ]
     },
     "execution_count": 5,
     "metadata": {},
     "output_type": "execute_result"
    }
   ],
   "source": [
    "my_str[0]"
   ]
  },
  {
   "cell_type": "code",
   "execution_count": 6,
   "id": "34b69ade",
   "metadata": {},
   "outputs": [
    {
     "data": {
      "text/plain": [
       "'m'"
      ]
     },
     "execution_count": 6,
     "metadata": {},
     "output_type": "execute_result"
    }
   ],
   "source": [
    "my_str[5]"
   ]
  },
  {
   "cell_type": "code",
   "execution_count": 7,
   "id": "efdf2ae6",
   "metadata": {},
   "outputs": [
    {
     "data": {
      "text/plain": [
       "'T'"
      ]
     },
     "execution_count": 7,
     "metadata": {},
     "output_type": "execute_result"
    }
   ],
   "source": [
    "my_str[8]"
   ]
  },
  {
   "cell_type": "code",
   "execution_count": 8,
   "id": "e104a8db",
   "metadata": {},
   "outputs": [
    {
     "data": {
      "text/plain": [
       "'l'"
      ]
     },
     "execution_count": 8,
     "metadata": {},
     "output_type": "execute_result"
    }
   ],
   "source": [
    "my_str[2]"
   ]
  },
  {
   "cell_type": "code",
   "execution_count": 9,
   "id": "570ca233",
   "metadata": {},
   "outputs": [
    {
     "data": {
      "text/plain": [
       "21"
      ]
     },
     "execution_count": 9,
     "metadata": {},
     "output_type": "execute_result"
    }
   ],
   "source": [
    "len(my_str)"
   ]
  },
  {
   "cell_type": "code",
   "execution_count": 10,
   "id": "fa46d562",
   "metadata": {},
   "outputs": [
    {
     "data": {
      "text/plain": [
       "'e'"
      ]
     },
     "execution_count": 10,
     "metadata": {},
     "output_type": "execute_result"
    }
   ],
   "source": [
    "my_str[20]"
   ]
  },
  {
   "cell_type": "code",
   "execution_count": 11,
   "id": "d10098ce",
   "metadata": {},
   "outputs": [
    {
     "data": {
      "text/plain": [
       "'e'"
      ]
     },
     "execution_count": 11,
     "metadata": {},
     "output_type": "execute_result"
    }
   ],
   "source": [
    "my_str[-1]"
   ]
  },
  {
   "cell_type": "code",
   "execution_count": 15,
   "id": "f17fb483",
   "metadata": {},
   "outputs": [
    {
     "name": "stdout",
     "output_type": "stream",
     "text": [
      "e\n"
     ]
    }
   ],
   "source": [
    "print(my_str[len(my_str)-1])"
   ]
  },
  {
   "cell_type": "code",
   "execution_count": 16,
   "id": "8126f5b9",
   "metadata": {},
   "outputs": [
    {
     "data": {
      "text/plain": [
       "'e'"
      ]
     },
     "execution_count": 16,
     "metadata": {},
     "output_type": "execute_result"
    }
   ],
   "source": [
    "my_str[-1]"
   ]
  },
  {
   "cell_type": "code",
   "execution_count": 17,
   "id": "92911a05",
   "metadata": {},
   "outputs": [
    {
     "data": {
      "text/plain": [
       "'o'"
      ]
     },
     "execution_count": 17,
     "metadata": {},
     "output_type": "execute_result"
    }
   ],
   "source": [
    "my_str[-5]"
   ]
  },
  {
   "cell_type": "code",
   "execution_count": 18,
   "id": "fe2e73b1",
   "metadata": {},
   "outputs": [
    {
     "data": {
      "text/plain": [
       "'s'"
      ]
     },
     "execution_count": 18,
     "metadata": {},
     "output_type": "execute_result"
    }
   ],
   "source": [
    "my_str[-2]"
   ]
  },
  {
   "cell_type": "code",
   "execution_count": 19,
   "id": "977441da",
   "metadata": {},
   "outputs": [
    {
     "data": {
      "text/plain": [
       "'Welcome To The Course'"
      ]
     },
     "execution_count": 19,
     "metadata": {},
     "output_type": "execute_result"
    }
   ],
   "source": [
    "my_str"
   ]
  },
  {
   "cell_type": "code",
   "execution_count": 20,
   "id": "3fcb265c",
   "metadata": {},
   "outputs": [
    {
     "data": {
      "text/plain": [
       "'Welco'"
      ]
     },
     "execution_count": 20,
     "metadata": {},
     "output_type": "execute_result"
    }
   ],
   "source": [
    "my_str[0:5]"
   ]
  },
  {
   "cell_type": "code",
   "execution_count": 21,
   "id": "1ab199ea",
   "metadata": {},
   "outputs": [
    {
     "data": {
      "text/plain": [
       "'Welcome T'"
      ]
     },
     "execution_count": 21,
     "metadata": {},
     "output_type": "execute_result"
    }
   ],
   "source": [
    "my_str[0:9]"
   ]
  },
  {
   "cell_type": "code",
   "execution_count": 22,
   "id": "5ccae82d",
   "metadata": {},
   "outputs": [
    {
     "data": {
      "text/plain": [
       "'Welcome To The Course'"
      ]
     },
     "execution_count": 22,
     "metadata": {},
     "output_type": "execute_result"
    }
   ],
   "source": [
    "my_str[0:]"
   ]
  },
  {
   "cell_type": "code",
   "execution_count": 23,
   "id": "f3096230",
   "metadata": {},
   "outputs": [
    {
     "data": {
      "text/plain": [
       "'esruoC ehT oT emocleW'"
      ]
     },
     "execution_count": 23,
     "metadata": {},
     "output_type": "execute_result"
    }
   ],
   "source": [
    "my_str[::-1]"
   ]
  },
  {
   "cell_type": "code",
   "execution_count": 24,
   "id": "869a9ba0",
   "metadata": {},
   "outputs": [
    {
     "data": {
      "text/plain": [
       "'W'"
      ]
     },
     "execution_count": 24,
     "metadata": {},
     "output_type": "execute_result"
    }
   ],
   "source": [
    "my_str[0::-1]"
   ]
  },
  {
   "cell_type": "code",
   "execution_count": 25,
   "id": "5812b4a6",
   "metadata": {},
   "outputs": [
    {
     "data": {
      "text/plain": [
       "'Welcome To The Cours'"
      ]
     },
     "execution_count": 25,
     "metadata": {},
     "output_type": "execute_result"
    }
   ],
   "source": [
    "my_str[0:-1]"
   ]
  },
  {
   "cell_type": "code",
   "execution_count": 26,
   "id": "8852af6d",
   "metadata": {},
   "outputs": [
    {
     "data": {
      "text/plain": [
       "'elcome To The Cour'"
      ]
     },
     "execution_count": 26,
     "metadata": {},
     "output_type": "execute_result"
    }
   ],
   "source": [
    "my_str[1:-2]"
   ]
  },
  {
   "cell_type": "code",
   "execution_count": 27,
   "id": "a8c28a36",
   "metadata": {},
   "outputs": [
    {
     "data": {
      "text/plain": [
       "'Welcome To The Course'"
      ]
     },
     "execution_count": 27,
     "metadata": {},
     "output_type": "execute_result"
    }
   ],
   "source": [
    "my_str[:]"
   ]
  },
  {
   "cell_type": "code",
   "execution_count": 28,
   "id": "c1848360",
   "metadata": {},
   "outputs": [
    {
     "data": {
      "text/plain": [
       "'WloeT'"
      ]
     },
     "execution_count": 28,
     "metadata": {},
     "output_type": "execute_result"
    }
   ],
   "source": [
    "my_str[0:9:2]"
   ]
  },
  {
   "cell_type": "code",
   "execution_count": 29,
   "id": "4b3e982f",
   "metadata": {},
   "outputs": [
    {
     "data": {
      "text/plain": [
       "'er'"
      ]
     },
     "execution_count": 29,
     "metadata": {},
     "output_type": "execute_result"
    }
   ],
   "source": [
    "my_str[20:-5:-2]"
   ]
  },
  {
   "cell_type": "markdown",
   "id": "e3255906",
   "metadata": {},
   "source": [
    "# Important methods related to strings"
   ]
  },
  {
   "cell_type": "code",
   "execution_count": 30,
   "id": "e87a7e42",
   "metadata": {},
   "outputs": [
    {
     "data": {
      "text/plain": [
       "'Welcome To The Course'"
      ]
     },
     "execution_count": 30,
     "metadata": {},
     "output_type": "execute_result"
    }
   ],
   "source": [
    "my_str"
   ]
  },
  {
   "cell_type": "code",
   "execution_count": 31,
   "id": "a3d01aa3",
   "metadata": {},
   "outputs": [
    {
     "data": {
      "text/plain": [
       "'welcome to the course'"
      ]
     },
     "execution_count": 31,
     "metadata": {},
     "output_type": "execute_result"
    }
   ],
   "source": [
    "my_str.lower()"
   ]
  },
  {
   "cell_type": "code",
   "execution_count": 32,
   "id": "974b95c5",
   "metadata": {},
   "outputs": [
    {
     "data": {
      "text/plain": [
       "'WELCOME TO THE COURSE'"
      ]
     },
     "execution_count": 32,
     "metadata": {},
     "output_type": "execute_result"
    }
   ],
   "source": [
    "my_str.upper()"
   ]
  },
  {
   "cell_type": "code",
   "execution_count": 33,
   "id": "d0d41d45",
   "metadata": {},
   "outputs": [
    {
     "data": {
      "text/plain": [
       "'Welcome to the course'"
      ]
     },
     "execution_count": 33,
     "metadata": {},
     "output_type": "execute_result"
    }
   ],
   "source": [
    "my_str.capitalize()"
   ]
  },
  {
   "cell_type": "code",
   "execution_count": 34,
   "id": "bd477bea",
   "metadata": {},
   "outputs": [
    {
     "data": {
      "text/plain": [
       "'Welcome To The Course'"
      ]
     },
     "execution_count": 34,
     "metadata": {},
     "output_type": "execute_result"
    }
   ],
   "source": [
    "my_str.title()"
   ]
  },
  {
   "cell_type": "code",
   "execution_count": 35,
   "id": "2099846f",
   "metadata": {},
   "outputs": [
    {
     "data": {
      "text/plain": [
       "3"
      ]
     },
     "execution_count": 35,
     "metadata": {},
     "output_type": "execute_result"
    }
   ],
   "source": [
    "my_str.find(\"come\")"
   ]
  },
  {
   "cell_type": "code",
   "execution_count": 36,
   "id": "97e4c223",
   "metadata": {},
   "outputs": [
    {
     "data": {
      "text/plain": [
       "-1"
      ]
     },
     "execution_count": 36,
     "metadata": {},
     "output_type": "execute_result"
    }
   ],
   "source": [
    "my_str.find(\"bad\")"
   ]
  },
  {
   "cell_type": "code",
   "execution_count": 37,
   "id": "cc3fe189",
   "metadata": {},
   "outputs": [
    {
     "data": {
      "text/plain": [
       "-1"
      ]
     },
     "execution_count": 37,
     "metadata": {},
     "output_type": "execute_result"
    }
   ],
   "source": [
    "my_str.find(\"machine\")"
   ]
  },
  {
   "cell_type": "code",
   "execution_count": 39,
   "id": "c50c9ea7",
   "metadata": {},
   "outputs": [
    {
     "data": {
      "text/plain": [
       "11"
      ]
     },
     "execution_count": 39,
     "metadata": {},
     "output_type": "execute_result"
    }
   ],
   "source": [
    "my_str.find(\"The\")"
   ]
  },
  {
   "cell_type": "code",
   "execution_count": 42,
   "id": "b8b8e263",
   "metadata": {},
   "outputs": [
    {
     "data": {
      "text/plain": [
       "['Welc', 'me T', ' The C', 'urse']"
      ]
     },
     "execution_count": 42,
     "metadata": {},
     "output_type": "execute_result"
    }
   ],
   "source": [
    "my_str.split(\"o\")"
   ]
  },
  {
   "cell_type": "code",
   "execution_count": 43,
   "id": "2aa8373a",
   "metadata": {},
   "outputs": [
    {
     "data": {
      "text/plain": [
       "3"
      ]
     },
     "execution_count": 43,
     "metadata": {},
     "output_type": "execute_result"
    }
   ],
   "source": [
    "my_str.count(\"o\")"
   ]
  },
  {
   "cell_type": "code",
   "execution_count": 44,
   "id": "1361cc7c",
   "metadata": {},
   "outputs": [
    {
     "data": {
      "text/plain": [
       "2"
      ]
     },
     "execution_count": 44,
     "metadata": {},
     "output_type": "execute_result"
    }
   ],
   "source": [
    "my_str.count(\"T\")"
   ]
  },
  {
   "cell_type": "code",
   "execution_count": 46,
   "id": "82398a6c",
   "metadata": {},
   "outputs": [
    {
     "data": {
      "text/plain": [
       "'Welcome To The programme'"
      ]
     },
     "execution_count": 46,
     "metadata": {},
     "output_type": "execute_result"
    }
   ],
   "source": [
    "my_str.replace(\"Course\", \"programme\")"
   ]
  },
  {
   "cell_type": "code",
   "execution_count": 47,
   "id": "abb1a865",
   "metadata": {},
   "outputs": [
    {
     "data": {
      "text/plain": [
       "'Welcome To The Course'"
      ]
     },
     "execution_count": 47,
     "metadata": {},
     "output_type": "execute_result"
    }
   ],
   "source": [
    "my_str"
   ]
  },
  {
   "cell_type": "code",
   "execution_count": 48,
   "id": "90be863a",
   "metadata": {},
   "outputs": [
    {
     "name": "stdout",
     "output_type": "stream",
     "text": [
      "Enter your name :      Sanjay Kumar    \n"
     ]
    }
   ],
   "source": [
    "name = input(\"Enter your name : \")"
   ]
  },
  {
   "cell_type": "code",
   "execution_count": 49,
   "id": "ca3485ef",
   "metadata": {},
   "outputs": [
    {
     "data": {
      "text/plain": [
       "'     Sanjay Kumar    '"
      ]
     },
     "execution_count": 49,
     "metadata": {},
     "output_type": "execute_result"
    }
   ],
   "source": [
    "name "
   ]
  },
  {
   "cell_type": "code",
   "execution_count": 50,
   "id": "8d1dce2c",
   "metadata": {},
   "outputs": [
    {
     "data": {
      "text/plain": [
       "21"
      ]
     },
     "execution_count": 50,
     "metadata": {},
     "output_type": "execute_result"
    }
   ],
   "source": [
    "len(name)"
   ]
  },
  {
   "cell_type": "code",
   "execution_count": 51,
   "id": "f3ef6266",
   "metadata": {},
   "outputs": [
    {
     "data": {
      "text/plain": [
       "'Sanjay Kumar    '"
      ]
     },
     "execution_count": 51,
     "metadata": {},
     "output_type": "execute_result"
    }
   ],
   "source": [
    "name.lstrip()"
   ]
  },
  {
   "cell_type": "code",
   "execution_count": 52,
   "id": "3aeab379",
   "metadata": {},
   "outputs": [
    {
     "data": {
      "text/plain": [
       "'     Sanjay Kumar'"
      ]
     },
     "execution_count": 52,
     "metadata": {},
     "output_type": "execute_result"
    }
   ],
   "source": [
    "name.rstrip()"
   ]
  },
  {
   "cell_type": "code",
   "execution_count": 53,
   "id": "4cfbc84f",
   "metadata": {},
   "outputs": [
    {
     "data": {
      "text/plain": [
       "'Sanjay Kumar'"
      ]
     },
     "execution_count": 53,
     "metadata": {},
     "output_type": "execute_result"
    }
   ],
   "source": [
    "name.strip()"
   ]
  },
  {
   "cell_type": "markdown",
   "id": "20144de2",
   "metadata": {},
   "source": [
    "# Few operations on strings"
   ]
  },
  {
   "cell_type": "code",
   "execution_count": 55,
   "id": "da1b84f7",
   "metadata": {},
   "outputs": [
    {
     "data": {
      "text/plain": [
       "'abcpqr'"
      ]
     },
     "execution_count": 55,
     "metadata": {},
     "output_type": "execute_result"
    }
   ],
   "source": [
    "\"abc\" + \"pqr\""
   ]
  },
  {
   "cell_type": "code",
   "execution_count": 56,
   "id": "87ffcac5",
   "metadata": {},
   "outputs": [],
   "source": [
    "s1 = \"sdf\"\n",
    "s2 = \"rty\""
   ]
  },
  {
   "cell_type": "code",
   "execution_count": 57,
   "id": "55265b61",
   "metadata": {},
   "outputs": [
    {
     "data": {
      "text/plain": [
       "'sdfrty'"
      ]
     },
     "execution_count": 57,
     "metadata": {},
     "output_type": "execute_result"
    }
   ],
   "source": [
    "s1+s2"
   ]
  },
  {
   "cell_type": "code",
   "execution_count": 58,
   "id": "8950e6cf",
   "metadata": {},
   "outputs": [
    {
     "ename": "TypeError",
     "evalue": "can only concatenate str (not \"int\") to str",
     "output_type": "error",
     "traceback": [
      "\u001b[1;31m---------------------------------------------------------------------------\u001b[0m",
      "\u001b[1;31mTypeError\u001b[0m                                 Traceback (most recent call last)",
      "\u001b[1;32m<ipython-input-58-291bd825a651>\u001b[0m in \u001b[0;36m<module>\u001b[1;34m\u001b[0m\n\u001b[1;32m----> 1\u001b[1;33m \u001b[0ms1\u001b[0m\u001b[1;33m+\u001b[0m\u001b[1;36m6\u001b[0m\u001b[1;33m\u001b[0m\u001b[1;33m\u001b[0m\u001b[0m\n\u001b[0m",
      "\u001b[1;31mTypeError\u001b[0m: can only concatenate str (not \"int\") to str"
     ]
    }
   ],
   "source": [
    "s1+6"
   ]
  },
  {
   "cell_type": "code",
   "execution_count": 59,
   "id": "bf89aedf",
   "metadata": {},
   "outputs": [
    {
     "data": {
      "text/plain": [
       "'sdf6'"
      ]
     },
     "execution_count": 59,
     "metadata": {},
     "output_type": "execute_result"
    }
   ],
   "source": [
    "s1+str(6)"
   ]
  },
  {
   "cell_type": "code",
   "execution_count": 60,
   "id": "8e4a9701",
   "metadata": {},
   "outputs": [
    {
     "data": {
      "text/plain": [
       "'hellohellohellohellohellohello'"
      ]
     },
     "execution_count": 60,
     "metadata": {},
     "output_type": "execute_result"
    }
   ],
   "source": [
    "\"hello\"*6"
   ]
  },
  {
   "cell_type": "code",
   "execution_count": 61,
   "id": "73a16d9b",
   "metadata": {},
   "outputs": [
    {
     "data": {
      "text/plain": [
       "'goodgoodgoodgoodgoodgoodgoodgoodgood'"
      ]
     },
     "execution_count": 61,
     "metadata": {},
     "output_type": "execute_result"
    }
   ],
   "source": [
    "\"good\"*9"
   ]
  },
  {
   "cell_type": "code",
   "execution_count": 74,
   "id": "2b4053cd",
   "metadata": {},
   "outputs": [],
   "source": [
    "inp_str = \"This is an Input string to count vowels.\""
   ]
  },
  {
   "cell_type": "code",
   "execution_count": 75,
   "id": "2e307149",
   "metadata": {},
   "outputs": [
    {
     "name": "stdout",
     "output_type": "stream",
     "text": [
      "The number of vowels are 11\n"
     ]
    }
   ],
   "source": [
    "cnt = 0\n",
    "for i in inp_str:\n",
    "    if i in \"AEIOUaeiou\":\n",
    "        cnt+=1\n",
    "\n",
    "print(\"The number of vowels are {}\".format(cnt))"
   ]
  },
  {
   "cell_type": "code",
   "execution_count": 77,
   "id": "ba470842",
   "metadata": {},
   "outputs": [],
   "source": [
    "s = \"computer vision machine learning \""
   ]
  },
  {
   "cell_type": "code",
   "execution_count": 79,
   "id": "6a311624",
   "metadata": {},
   "outputs": [
    {
     "name": "stdout",
     "output_type": "stream",
     "text": [
      "The number of vowels are :  12\n"
     ]
    }
   ],
   "source": [
    "cnt = 0\n",
    "for i in s:\n",
    "    if i in \"aeiouAEIOU\":\n",
    "        cnt+= 1\n",
    "print(\"The number of vowels are : \", cnt)"
   ]
  },
  {
   "cell_type": "code",
   "execution_count": 84,
   "id": "0a6966ae",
   "metadata": {},
   "outputs": [],
   "source": [
    "inp_str = \"coding\""
   ]
  },
  {
   "cell_type": "code",
   "execution_count": 85,
   "id": "3cd4aa18",
   "metadata": {},
   "outputs": [],
   "source": [
    "rev_str  = inp_str[::-1]"
   ]
  },
  {
   "cell_type": "code",
   "execution_count": 86,
   "id": "b9d3929a",
   "metadata": {},
   "outputs": [
    {
     "name": "stdout",
     "output_type": "stream",
     "text": [
      "The given word coding is not palindrom\n"
     ]
    }
   ],
   "source": [
    "if inp_str == rev_str:\n",
    "    print(\"The given word {} is palindrom\".format(inp_str))\n",
    "else:\n",
    "    print(\"The given word {} is not palindrom\".format(inp_str))"
   ]
  },
  {
   "cell_type": "code",
   "execution_count": 93,
   "id": "4fd92975",
   "metadata": {},
   "outputs": [
    {
     "name": "stdout",
     "output_type": "stream",
     "text": [
      "The given word madam is palindrom\n"
     ]
    }
   ],
   "source": [
    "inp_str = \"madam\"\n",
    "\n",
    "start = 0\n",
    "end = len(inp_str)-1\n",
    "\n",
    "is_palindrom = True\n",
    "\n",
    "while start<=end:\n",
    "    if inp_str[start]!=inp_str[end]:\n",
    "        is_palindrom = False\n",
    "        break\n",
    "        \n",
    "    start+=1\n",
    "    end-=1\n",
    "if is_palindrom:\n",
    "    print(\"The given word {} is palindrom\".format(inp_str))\n",
    "else:\n",
    "    print(\"The given word {} is not palindrom\".format(inp_str))"
   ]
  },
  {
   "cell_type": "markdown",
   "id": "75a8ee21",
   "metadata": {},
   "source": [
    "# List"
   ]
  },
  {
   "cell_type": "code",
   "execution_count": 94,
   "id": "5bc1b3c3",
   "metadata": {},
   "outputs": [],
   "source": [
    "lst = []"
   ]
  },
  {
   "cell_type": "code",
   "execution_count": 95,
   "id": "b05f8c76",
   "metadata": {},
   "outputs": [
    {
     "data": {
      "text/plain": [
       "list"
      ]
     },
     "execution_count": 95,
     "metadata": {},
     "output_type": "execute_result"
    }
   ],
   "source": [
    "type(lst)"
   ]
  },
  {
   "cell_type": "code",
   "execution_count": 97,
   "id": "a344989a",
   "metadata": {},
   "outputs": [],
   "source": [
    "lst1= list()"
   ]
  },
  {
   "cell_type": "code",
   "execution_count": 98,
   "id": "cd1ec7eb",
   "metadata": {},
   "outputs": [
    {
     "data": {
      "text/plain": [
       "list"
      ]
     },
     "execution_count": 98,
     "metadata": {},
     "output_type": "execute_result"
    }
   ],
   "source": [
    "type(lst1)"
   ]
  },
  {
   "cell_type": "code",
   "execution_count": 99,
   "id": "2ac0e7b0",
   "metadata": {},
   "outputs": [],
   "source": [
    "lst2 = [5,6,7,8,9]"
   ]
  },
  {
   "cell_type": "code",
   "execution_count": 100,
   "id": "da7f2f56",
   "metadata": {},
   "outputs": [
    {
     "data": {
      "text/plain": [
       "list"
      ]
     },
     "execution_count": 100,
     "metadata": {},
     "output_type": "execute_result"
    }
   ],
   "source": [
    "type(lst2)"
   ]
  },
  {
   "cell_type": "code",
   "execution_count": 101,
   "id": "3ed61c27",
   "metadata": {},
   "outputs": [
    {
     "data": {
      "text/plain": [
       "5"
      ]
     },
     "execution_count": 101,
     "metadata": {},
     "output_type": "execute_result"
    }
   ],
   "source": [
    "lst2[0]"
   ]
  },
  {
   "cell_type": "code",
   "execution_count": 102,
   "id": "3f5cb14e",
   "metadata": {},
   "outputs": [
    {
     "data": {
      "text/plain": [
       "9"
      ]
     },
     "execution_count": 102,
     "metadata": {},
     "output_type": "execute_result"
    }
   ],
   "source": [
    "lst2[-1]"
   ]
  },
  {
   "cell_type": "code",
   "execution_count": 104,
   "id": "bbdf171d",
   "metadata": {},
   "outputs": [
    {
     "data": {
      "text/plain": [
       "[5, 6, 7]"
      ]
     },
     "execution_count": 104,
     "metadata": {},
     "output_type": "execute_result"
    }
   ],
   "source": [
    "lst2[0:3]"
   ]
  },
  {
   "cell_type": "code",
   "execution_count": 105,
   "id": "1d479f39",
   "metadata": {},
   "outputs": [
    {
     "data": {
      "text/plain": [
       "[9, 8, 7, 6, 5]"
      ]
     },
     "execution_count": 105,
     "metadata": {},
     "output_type": "execute_result"
    }
   ],
   "source": [
    "lst2[::-1]"
   ]
  },
  {
   "cell_type": "code",
   "execution_count": 106,
   "id": "1c943549",
   "metadata": {},
   "outputs": [
    {
     "data": {
      "text/plain": [
       "5"
      ]
     },
     "execution_count": 106,
     "metadata": {},
     "output_type": "execute_result"
    }
   ],
   "source": [
    "len(lst2)"
   ]
  },
  {
   "cell_type": "code",
   "execution_count": 107,
   "id": "a4fcea82",
   "metadata": {},
   "outputs": [
    {
     "data": {
      "text/plain": [
       "[6, 7, 8]"
      ]
     },
     "execution_count": 107,
     "metadata": {},
     "output_type": "execute_result"
    }
   ],
   "source": [
    "lst2[1:-1]"
   ]
  },
  {
   "cell_type": "code",
   "execution_count": 109,
   "id": "bc692778",
   "metadata": {},
   "outputs": [],
   "source": [
    "lst2[2] = 100"
   ]
  },
  {
   "cell_type": "code",
   "execution_count": 110,
   "id": "df9e2048",
   "metadata": {},
   "outputs": [
    {
     "data": {
      "text/plain": [
       "[5, 6, 100, 8, 9]"
      ]
     },
     "execution_count": 110,
     "metadata": {},
     "output_type": "execute_result"
    }
   ],
   "source": [
    "lst2"
   ]
  },
  {
   "cell_type": "markdown",
   "id": "3c43fcea",
   "metadata": {},
   "source": [
    "# Some important methods for list\n"
   ]
  },
  {
   "cell_type": "code",
   "execution_count": 111,
   "id": "96e6180d",
   "metadata": {},
   "outputs": [
    {
     "data": {
      "text/plain": [
       "[5, 6, 100, 8, 9]"
      ]
     },
     "execution_count": 111,
     "metadata": {},
     "output_type": "execute_result"
    }
   ],
   "source": [
    "lst2"
   ]
  },
  {
   "cell_type": "code",
   "execution_count": 112,
   "id": "751bc967",
   "metadata": {},
   "outputs": [],
   "source": [
    "lst2.append(500)"
   ]
  },
  {
   "cell_type": "code",
   "execution_count": 113,
   "id": "c287e10b",
   "metadata": {},
   "outputs": [
    {
     "data": {
      "text/plain": [
       "[5, 6, 100, 8, 9, 500]"
      ]
     },
     "execution_count": 113,
     "metadata": {},
     "output_type": "execute_result"
    }
   ],
   "source": [
    "lst2"
   ]
  },
  {
   "cell_type": "code",
   "execution_count": 114,
   "id": "75fdaf14",
   "metadata": {},
   "outputs": [],
   "source": [
    "lst2.insert(3,400)"
   ]
  },
  {
   "cell_type": "code",
   "execution_count": 115,
   "id": "16cc0b5d",
   "metadata": {},
   "outputs": [
    {
     "data": {
      "text/plain": [
       "[5, 6, 100, 400, 8, 9, 500]"
      ]
     },
     "execution_count": 115,
     "metadata": {},
     "output_type": "execute_result"
    }
   ],
   "source": [
    "lst2"
   ]
  },
  {
   "cell_type": "code",
   "execution_count": 116,
   "id": "2cf32365",
   "metadata": {},
   "outputs": [
    {
     "data": {
      "text/plain": [
       "500"
      ]
     },
     "execution_count": 116,
     "metadata": {},
     "output_type": "execute_result"
    }
   ],
   "source": [
    "lst2.pop()"
   ]
  },
  {
   "cell_type": "code",
   "execution_count": 117,
   "id": "e68c8a7a",
   "metadata": {},
   "outputs": [
    {
     "data": {
      "text/plain": [
       "[5, 6, 100, 400, 8, 9]"
      ]
     },
     "execution_count": 117,
     "metadata": {},
     "output_type": "execute_result"
    }
   ],
   "source": [
    "lst2"
   ]
  },
  {
   "cell_type": "code",
   "execution_count": 118,
   "id": "0eab031f",
   "metadata": {},
   "outputs": [
    {
     "data": {
      "text/plain": [
       "100"
      ]
     },
     "execution_count": 118,
     "metadata": {},
     "output_type": "execute_result"
    }
   ],
   "source": [
    "lst2.pop(2)"
   ]
  },
  {
   "cell_type": "code",
   "execution_count": 119,
   "id": "5c09124a",
   "metadata": {},
   "outputs": [
    {
     "data": {
      "text/plain": [
       "[5, 6, 400, 8, 9]"
      ]
     },
     "execution_count": 119,
     "metadata": {},
     "output_type": "execute_result"
    }
   ],
   "source": [
    "lst2"
   ]
  },
  {
   "cell_type": "code",
   "execution_count": 120,
   "id": "af0af512",
   "metadata": {},
   "outputs": [],
   "source": [
    "lst2.append(600)"
   ]
  },
  {
   "cell_type": "code",
   "execution_count": 121,
   "id": "4c807d4d",
   "metadata": {},
   "outputs": [],
   "source": [
    "lst2.append(700)"
   ]
  },
  {
   "cell_type": "code",
   "execution_count": 122,
   "id": "9fcf8adf",
   "metadata": {},
   "outputs": [],
   "source": [
    "lst2.append(800)"
   ]
  },
  {
   "cell_type": "code",
   "execution_count": 123,
   "id": "3efa0cb5",
   "metadata": {},
   "outputs": [
    {
     "data": {
      "text/plain": [
       "[5, 6, 400, 8, 9, 600, 700, 800]"
      ]
     },
     "execution_count": 123,
     "metadata": {},
     "output_type": "execute_result"
    }
   ],
   "source": [
    "lst2"
   ]
  },
  {
   "cell_type": "code",
   "execution_count": 124,
   "id": "a19f8102",
   "metadata": {},
   "outputs": [],
   "source": [
    "lst2.remove(400)"
   ]
  },
  {
   "cell_type": "code",
   "execution_count": 125,
   "id": "cf4b38bc",
   "metadata": {},
   "outputs": [
    {
     "data": {
      "text/plain": [
       "[5, 6, 8, 9, 600, 700, 800]"
      ]
     },
     "execution_count": 125,
     "metadata": {},
     "output_type": "execute_result"
    }
   ],
   "source": [
    "lst2"
   ]
  },
  {
   "cell_type": "code",
   "execution_count": 128,
   "id": "090fc300",
   "metadata": {},
   "outputs": [],
   "source": [
    "lst2.remove(5)"
   ]
  },
  {
   "cell_type": "code",
   "execution_count": 129,
   "id": "65476a16",
   "metadata": {},
   "outputs": [
    {
     "data": {
      "text/plain": [
       "[6, 8, 9, 600, 700, 800]"
      ]
     },
     "execution_count": 129,
     "metadata": {},
     "output_type": "execute_result"
    }
   ],
   "source": [
    "lst2"
   ]
  },
  {
   "cell_type": "code",
   "execution_count": 131,
   "id": "42f3e53f",
   "metadata": {},
   "outputs": [],
   "source": [
    "lst2.reverse()"
   ]
  },
  {
   "cell_type": "code",
   "execution_count": 132,
   "id": "02421f80",
   "metadata": {},
   "outputs": [
    {
     "data": {
      "text/plain": [
       "[800, 700, 600, 9, 8, 6]"
      ]
     },
     "execution_count": 132,
     "metadata": {},
     "output_type": "execute_result"
    }
   ],
   "source": [
    "lst2"
   ]
  },
  {
   "cell_type": "code",
   "execution_count": 137,
   "id": "bb4d9857",
   "metadata": {},
   "outputs": [],
   "source": [
    "lst2.sort(reverse=True)"
   ]
  },
  {
   "cell_type": "code",
   "execution_count": 138,
   "id": "605a71d7",
   "metadata": {},
   "outputs": [
    {
     "data": {
      "text/plain": [
       "[800, 700, 600, 9, 8, 6]"
      ]
     },
     "execution_count": 138,
     "metadata": {},
     "output_type": "execute_result"
    }
   ],
   "source": [
    "lst2"
   ]
  },
  {
   "cell_type": "code",
   "execution_count": 139,
   "id": "6ca43689",
   "metadata": {},
   "outputs": [
    {
     "data": {
      "text/plain": [
       "True"
      ]
     },
     "execution_count": 139,
     "metadata": {},
     "output_type": "execute_result"
    }
   ],
   "source": [
    "700 in lst2"
   ]
  },
  {
   "cell_type": "code",
   "execution_count": 140,
   "id": "72518f41",
   "metadata": {},
   "outputs": [
    {
     "data": {
      "text/plain": [
       "False"
      ]
     },
     "execution_count": 140,
     "metadata": {},
     "output_type": "execute_result"
    }
   ],
   "source": [
    "600 not in lst2"
   ]
  },
  {
   "cell_type": "code",
   "execution_count": 142,
   "id": "7d3da9a4",
   "metadata": {},
   "outputs": [
    {
     "data": {
      "text/plain": [
       "True"
      ]
     },
     "execution_count": 142,
     "metadata": {},
     "output_type": "execute_result"
    }
   ],
   "source": [
    "8 in lst2"
   ]
  },
  {
   "cell_type": "code",
   "execution_count": 143,
   "id": "ddbec052",
   "metadata": {},
   "outputs": [],
   "source": [
    "lst2.append([10,20,30])"
   ]
  },
  {
   "cell_type": "code",
   "execution_count": 144,
   "id": "032d4fdb",
   "metadata": {},
   "outputs": [
    {
     "data": {
      "text/plain": [
       "[800, 700, 600, 9, 8, 6, [10, 20, 30]]"
      ]
     },
     "execution_count": 144,
     "metadata": {},
     "output_type": "execute_result"
    }
   ],
   "source": [
    "lst2"
   ]
  },
  {
   "cell_type": "code",
   "execution_count": 145,
   "id": "549d5583",
   "metadata": {},
   "outputs": [],
   "source": [
    "lst2.extend([40,50,60])"
   ]
  },
  {
   "cell_type": "code",
   "execution_count": 146,
   "id": "6708be54",
   "metadata": {},
   "outputs": [
    {
     "data": {
      "text/plain": [
       "[800, 700, 600, 9, 8, 6, [10, 20, 30], 40, 50, 60]"
      ]
     },
     "execution_count": 146,
     "metadata": {},
     "output_type": "execute_result"
    }
   ],
   "source": [
    "lst2"
   ]
  },
  {
   "cell_type": "code",
   "execution_count": 147,
   "id": "baf03a3e",
   "metadata": {},
   "outputs": [
    {
     "data": {
      "text/plain": [
       "[800, 700, 600, 9, 8, 6, [10, 20, 30], 40, 50, 60, 8, 6, 7]"
      ]
     },
     "execution_count": 147,
     "metadata": {},
     "output_type": "execute_result"
    }
   ],
   "source": [
    "lst2 + [8,6,7]"
   ]
  },
  {
   "cell_type": "code",
   "execution_count": 148,
   "id": "de779cb1",
   "metadata": {},
   "outputs": [],
   "source": [
    "lst3 = [10,20,30,45.23,2.3,True, False, 5+6j, \"coding\", [5,6,7,8], (8,5,2)]"
   ]
  },
  {
   "cell_type": "code",
   "execution_count": 149,
   "id": "15f3bf7a",
   "metadata": {},
   "outputs": [
    {
     "data": {
      "text/plain": [
       "list"
      ]
     },
     "execution_count": 149,
     "metadata": {},
     "output_type": "execute_result"
    }
   ],
   "source": [
    "type(lst3)"
   ]
  },
  {
   "cell_type": "code",
   "execution_count": 150,
   "id": "bdb34445",
   "metadata": {},
   "outputs": [
    {
     "data": {
      "text/plain": [
       "11"
      ]
     },
     "execution_count": 150,
     "metadata": {},
     "output_type": "execute_result"
    }
   ],
   "source": [
    "len(lst3)"
   ]
  },
  {
   "cell_type": "code",
   "execution_count": 152,
   "id": "ecc454cc",
   "metadata": {},
   "outputs": [],
   "source": [
    "lst3.reverse()"
   ]
  },
  {
   "cell_type": "code",
   "execution_count": 153,
   "id": "0013f715",
   "metadata": {},
   "outputs": [
    {
     "data": {
      "text/plain": [
       "[(8, 5, 2),\n",
       " [5, 6, 7, 8],\n",
       " 'coding',\n",
       " (5+6j),\n",
       " 45.23,\n",
       " 30,\n",
       " 20,\n",
       " 10,\n",
       " 2.3,\n",
       " True,\n",
       " False]"
      ]
     },
     "execution_count": 153,
     "metadata": {},
     "output_type": "execute_result"
    }
   ],
   "source": [
    "lst3"
   ]
  },
  {
   "cell_type": "code",
   "execution_count": 155,
   "id": "ff975ddd",
   "metadata": {},
   "outputs": [],
   "source": [
    "s = \"This course belongs to Coding Minutes and i am learning it.\""
   ]
  },
  {
   "cell_type": "code",
   "execution_count": 157,
   "id": "6feafabf",
   "metadata": {},
   "outputs": [],
   "source": [
    "s1 = s.split()"
   ]
  },
  {
   "cell_type": "code",
   "execution_count": 158,
   "id": "af395016",
   "metadata": {},
   "outputs": [
    {
     "data": {
      "text/plain": [
       "['This',\n",
       " 'course',\n",
       " 'belongs',\n",
       " 'to',\n",
       " 'Coding',\n",
       " 'Minutes',\n",
       " 'and',\n",
       " 'i',\n",
       " 'am',\n",
       " 'learning',\n",
       " 'it.']"
      ]
     },
     "execution_count": 158,
     "metadata": {},
     "output_type": "execute_result"
    }
   ],
   "source": [
    "s1"
   ]
  },
  {
   "cell_type": "code",
   "execution_count": 161,
   "id": "3f8dbca4",
   "metadata": {},
   "outputs": [
    {
     "data": {
      "text/plain": [
       "'This*course*belongs*to*Coding*Minutes*and*i*am*learning*it.'"
      ]
     },
     "execution_count": 161,
     "metadata": {},
     "output_type": "execute_result"
    }
   ],
   "source": [
    "\"*\".join(s1)"
   ]
  },
  {
   "cell_type": "code",
   "execution_count": 162,
   "id": "c2cda7b0",
   "metadata": {},
   "outputs": [
    {
     "data": {
      "text/plain": [
       "[(8, 5, 2),\n",
       " [5, 6, 7, 8],\n",
       " 'coding',\n",
       " (5+6j),\n",
       " 45.23,\n",
       " 30,\n",
       " 20,\n",
       " 10,\n",
       " 2.3,\n",
       " True,\n",
       " False]"
      ]
     },
     "execution_count": 162,
     "metadata": {},
     "output_type": "execute_result"
    }
   ],
   "source": [
    "lst3"
   ]
  },
  {
   "cell_type": "code",
   "execution_count": 164,
   "id": "000f1e72",
   "metadata": {},
   "outputs": [
    {
     "name": "stdout",
     "output_type": "stream",
     "text": [
      "(8, 5, 2, 8, 5, 2)\n",
      "[5, 6, 7, 8, 5, 6, 7, 8]\n",
      "codingcoding\n",
      "(10+12j)\n",
      "90.46\n",
      "60\n",
      "40\n",
      "20\n",
      "4.6\n",
      "2\n",
      "0\n"
     ]
    }
   ],
   "source": [
    "for i in lst3:\n",
    "    print(i*2)"
   ]
  },
  {
   "cell_type": "code",
   "execution_count": 167,
   "id": "f5005672",
   "metadata": {},
   "outputs": [],
   "source": [
    "my_lst = list(range(1,11))"
   ]
  },
  {
   "cell_type": "code",
   "execution_count": 171,
   "id": "85498641",
   "metadata": {},
   "outputs": [
    {
     "data": {
      "text/plain": [
       "[1, 2, 3, 4, 5, 6, 7, 8, 9, 10]"
      ]
     },
     "execution_count": 171,
     "metadata": {},
     "output_type": "execute_result"
    }
   ],
   "source": [
    "my_lst"
   ]
  },
  {
   "cell_type": "code",
   "execution_count": 173,
   "id": "ea7f63da",
   "metadata": {},
   "outputs": [
    {
     "name": "stdout",
     "output_type": "stream",
     "text": [
      "[1, 4, 27, 16, 125, 36, 343, 64, 729, 100]\n"
     ]
    }
   ],
   "source": [
    "new_lst = []\n",
    "for i in my_lst:\n",
    "    if i%2==0:\n",
    "        new_lst.append(i**2)\n",
    "    else:\n",
    "        new_lst.append(i**3)\n",
    "print(new_lst)\n",
    "        "
   ]
  },
  {
   "cell_type": "code",
   "execution_count": 174,
   "id": "1e4d5744",
   "metadata": {},
   "outputs": [
    {
     "data": {
      "text/plain": [
       "[8, 16, 24, 32, 40]"
      ]
     },
     "execution_count": 174,
     "metadata": {},
     "output_type": "execute_result"
    }
   ],
   "source": [
    "[i*4 for i in my_lst if i%2==0]"
   ]
  },
  {
   "cell_type": "code",
   "execution_count": 175,
   "id": "ed0de7df",
   "metadata": {},
   "outputs": [
    {
     "data": {
      "text/plain": [
       "[11, 10, 33, 20, 55, 30, 77, 40, 99, 50]"
      ]
     },
     "execution_count": 175,
     "metadata": {},
     "output_type": "execute_result"
    }
   ],
   "source": [
    "[i*5 if i%2==0 else i*11 for i in my_lst]"
   ]
  },
  {
   "cell_type": "code",
   "execution_count": 176,
   "id": "ef5d7b30",
   "metadata": {},
   "outputs": [],
   "source": [
    "lst4 = [[1,2,3], [4,5,6],[7,8,9],[10,11,12]]"
   ]
  },
  {
   "cell_type": "code",
   "execution_count": 177,
   "id": "5bcef2ef",
   "metadata": {},
   "outputs": [
    {
     "data": {
      "text/plain": [
       "[[1, 2, 3], [4, 5, 6], [7, 8, 9], [10, 11, 12]]"
      ]
     },
     "execution_count": 177,
     "metadata": {},
     "output_type": "execute_result"
    }
   ],
   "source": [
    "lst4"
   ]
  },
  {
   "cell_type": "code",
   "execution_count": 179,
   "id": "e6ce0b12",
   "metadata": {},
   "outputs": [
    {
     "data": {
      "text/plain": [
       "9"
      ]
     },
     "execution_count": 179,
     "metadata": {},
     "output_type": "execute_result"
    }
   ],
   "source": [
    "lst4[2][2]"
   ]
  },
  {
   "cell_type": "code",
   "execution_count": 181,
   "id": "dbfec095",
   "metadata": {},
   "outputs": [
    {
     "data": {
      "text/plain": [
       "9"
      ]
     },
     "execution_count": 181,
     "metadata": {},
     "output_type": "execute_result"
    }
   ],
   "source": [
    "lst4[-2][-1]"
   ]
  },
  {
   "cell_type": "code",
   "execution_count": 182,
   "id": "652acfdf",
   "metadata": {},
   "outputs": [],
   "source": [
    "a = [[1,2],\n",
    "    [3,4]]"
   ]
  },
  {
   "cell_type": "code",
   "execution_count": 183,
   "id": "62a28e26",
   "metadata": {},
   "outputs": [
    {
     "data": {
      "text/plain": [
       "[[1, 2], [3, 4]]"
      ]
     },
     "execution_count": 183,
     "metadata": {},
     "output_type": "execute_result"
    }
   ],
   "source": [
    "a"
   ]
  },
  {
   "cell_type": "code",
   "execution_count": 184,
   "id": "7ae89530",
   "metadata": {},
   "outputs": [],
   "source": [
    "b = [[5,6],\n",
    "    [7,8]]"
   ]
  },
  {
   "cell_type": "code",
   "execution_count": 185,
   "id": "0c04ad4b",
   "metadata": {},
   "outputs": [
    {
     "data": {
      "text/plain": [
       "[[5, 6], [7, 8]]"
      ]
     },
     "execution_count": 185,
     "metadata": {},
     "output_type": "execute_result"
    }
   ],
   "source": [
    "b"
   ]
  },
  {
   "cell_type": "code",
   "execution_count": 187,
   "id": "e6cd998c",
   "metadata": {},
   "outputs": [],
   "source": [
    "n = [[None,None],\n",
    "    [None,None]]"
   ]
  },
  {
   "cell_type": "code",
   "execution_count": 188,
   "id": "c5918418",
   "metadata": {},
   "outputs": [],
   "source": [
    "for i in range(2):\n",
    "    for j in range(2):\n",
    "        n[i][j]=a[i][j]+b[i][j]"
   ]
  },
  {
   "cell_type": "code",
   "execution_count": 189,
   "id": "860fc471",
   "metadata": {},
   "outputs": [
    {
     "data": {
      "text/plain": [
       "[[6, 8], [10, 12]]"
      ]
     },
     "execution_count": 189,
     "metadata": {},
     "output_type": "execute_result"
    }
   ],
   "source": [
    "n"
   ]
  },
  {
   "cell_type": "code",
   "execution_count": 191,
   "id": "bb56d3b0",
   "metadata": {},
   "outputs": [
    {
     "data": {
      "text/plain": [
       "'hellohellohellohellohellohellohellohellohellohello'"
      ]
     },
     "execution_count": 191,
     "metadata": {},
     "output_type": "execute_result"
    }
   ],
   "source": [
    "\"hello\"*10"
   ]
  },
  {
   "cell_type": "code",
   "execution_count": 193,
   "id": "ec267a6e",
   "metadata": {},
   "outputs": [
    {
     "data": {
      "text/plain": [
       "[[None, None, None, None, None, None, None, None, None, None],\n",
       " [None, None, None, None, None, None, None, None, None, None],\n",
       " [None, None, None, None, None, None, None, None, None, None],\n",
       " [None, None, None, None, None, None, None, None, None, None],\n",
       " [None, None, None, None, None, None, None, None, None, None],\n",
       " [None, None, None, None, None, None, None, None, None, None],\n",
       " [None, None, None, None, None, None, None, None, None, None],\n",
       " [None, None, None, None, None, None, None, None, None, None],\n",
       " [None, None, None, None, None, None, None, None, None, None],\n",
       " [None, None, None, None, None, None, None, None, None, None]]"
      ]
     },
     "execution_count": 193,
     "metadata": {},
     "output_type": "execute_result"
    }
   ],
   "source": [
    "[[None]*10]*10"
   ]
  },
  {
   "cell_type": "code",
   "execution_count": 202,
   "id": "c5160268",
   "metadata": {},
   "outputs": [],
   "source": [
    "lst = [4,5,6]\n",
    "\n",
    "a = lst.copy()"
   ]
  },
  {
   "cell_type": "code",
   "execution_count": 206,
   "id": "ac14ddf7",
   "metadata": {},
   "outputs": [],
   "source": [
    "a.append(50)"
   ]
  },
  {
   "cell_type": "code",
   "execution_count": 207,
   "id": "2529badf",
   "metadata": {},
   "outputs": [
    {
     "data": {
      "text/plain": [
       "[4, 5, 6]"
      ]
     },
     "execution_count": 207,
     "metadata": {},
     "output_type": "execute_result"
    }
   ],
   "source": [
    "lst"
   ]
  },
  {
   "cell_type": "code",
   "execution_count": 208,
   "id": "b9a66635",
   "metadata": {},
   "outputs": [
    {
     "data": {
      "text/plain": [
       "[4, 5, 6, 48, 50]"
      ]
     },
     "execution_count": 208,
     "metadata": {},
     "output_type": "execute_result"
    }
   ],
   "source": [
    "a"
   ]
  },
  {
   "cell_type": "code",
   "execution_count": 231,
   "id": "25fb1f25",
   "metadata": {},
   "outputs": [],
   "source": [
    "lst = [3,5,2,7,8,9]\n",
    "steps = 2"
   ]
  },
  {
   "cell_type": "code",
   "execution_count": 232,
   "id": "f50095cd",
   "metadata": {},
   "outputs": [
    {
     "data": {
      "text/plain": [
       "6"
      ]
     },
     "execution_count": 232,
     "metadata": {},
     "output_type": "execute_result"
    }
   ],
   "source": [
    "len(lst)"
   ]
  },
  {
   "cell_type": "code",
   "execution_count": 233,
   "id": "c1eb6e5b",
   "metadata": {},
   "outputs": [],
   "source": [
    "n = len(lst)"
   ]
  },
  {
   "cell_type": "code",
   "execution_count": 236,
   "id": "d5c26bcd",
   "metadata": {},
   "outputs": [],
   "source": [
    "for _ in range(steps):\n",
    "    key = lst[-1]\n",
    "\n",
    "    for i in range(n-1, 0, -1):\n",
    "        lst[i]= lst[i-1]\n",
    "\n",
    "    lst[0]=key"
   ]
  },
  {
   "cell_type": "code",
   "execution_count": 237,
   "id": "a42444fc",
   "metadata": {},
   "outputs": [
    {
     "data": {
      "text/plain": [
       "[2, 7, 8, 9, 3, 5]"
      ]
     },
     "execution_count": 237,
     "metadata": {},
     "output_type": "execute_result"
    }
   ],
   "source": [
    "lst"
   ]
  },
  {
   "cell_type": "markdown",
   "id": "70cc21b5",
   "metadata": {},
   "source": [
    "# Tuples"
   ]
  },
  {
   "cell_type": "code",
   "execution_count": 238,
   "id": "3aee54f0",
   "metadata": {},
   "outputs": [],
   "source": [
    "t = ()"
   ]
  },
  {
   "cell_type": "code",
   "execution_count": 239,
   "id": "4471abe2",
   "metadata": {},
   "outputs": [
    {
     "data": {
      "text/plain": [
       "tuple"
      ]
     },
     "execution_count": 239,
     "metadata": {},
     "output_type": "execute_result"
    }
   ],
   "source": [
    "type(t)"
   ]
  },
  {
   "cell_type": "code",
   "execution_count": 240,
   "id": "ab7c604d",
   "metadata": {},
   "outputs": [],
   "source": [
    "tu = tuple()"
   ]
  },
  {
   "cell_type": "code",
   "execution_count": 241,
   "id": "72d76f69",
   "metadata": {},
   "outputs": [
    {
     "data": {
      "text/plain": [
       "tuple"
      ]
     },
     "execution_count": 241,
     "metadata": {},
     "output_type": "execute_result"
    }
   ],
   "source": [
    "type(tu)"
   ]
  },
  {
   "cell_type": "code",
   "execution_count": 242,
   "id": "835dec59",
   "metadata": {},
   "outputs": [],
   "source": [
    "tu = (10,12,30,45.23,25.36,5+2j, True,False, \"python\")"
   ]
  },
  {
   "cell_type": "code",
   "execution_count": 243,
   "id": "0adaff5e",
   "metadata": {},
   "outputs": [
    {
     "data": {
      "text/plain": [
       "tuple"
      ]
     },
     "execution_count": 243,
     "metadata": {},
     "output_type": "execute_result"
    }
   ],
   "source": [
    "type(tu)"
   ]
  },
  {
   "cell_type": "code",
   "execution_count": 253,
   "id": "9c50a41a",
   "metadata": {},
   "outputs": [],
   "source": [
    "t = \"computer\","
   ]
  },
  {
   "cell_type": "code",
   "execution_count": 254,
   "id": "a44528c7",
   "metadata": {},
   "outputs": [
    {
     "data": {
      "text/plain": [
       "tuple"
      ]
     },
     "execution_count": 254,
     "metadata": {},
     "output_type": "execute_result"
    }
   ],
   "source": [
    "type(t)"
   ]
  },
  {
   "cell_type": "code",
   "execution_count": 255,
   "id": "0c80449d",
   "metadata": {},
   "outputs": [
    {
     "data": {
      "text/plain": [
       "(10, 12, 30, 45.23, 25.36, (5+2j), True, False, 'python')"
      ]
     },
     "execution_count": 255,
     "metadata": {},
     "output_type": "execute_result"
    }
   ],
   "source": [
    "tu"
   ]
  },
  {
   "cell_type": "code",
   "execution_count": 256,
   "id": "2dd1ded2",
   "metadata": {},
   "outputs": [
    {
     "data": {
      "text/plain": [
       "10"
      ]
     },
     "execution_count": 256,
     "metadata": {},
     "output_type": "execute_result"
    }
   ],
   "source": [
    "tu[0]"
   ]
  },
  {
   "cell_type": "code",
   "execution_count": 257,
   "id": "cdc0e9a3",
   "metadata": {},
   "outputs": [
    {
     "data": {
      "text/plain": [
       "(5+2j)"
      ]
     },
     "execution_count": 257,
     "metadata": {},
     "output_type": "execute_result"
    }
   ],
   "source": [
    "tu[5]"
   ]
  },
  {
   "cell_type": "code",
   "execution_count": 258,
   "id": "532aecd6",
   "metadata": {},
   "outputs": [
    {
     "data": {
      "text/plain": [
       "(10, 12, 30, 45.23, 25.36, (5+2j), True, False, 'python')"
      ]
     },
     "execution_count": 258,
     "metadata": {},
     "output_type": "execute_result"
    }
   ],
   "source": [
    "tu[0:]"
   ]
  },
  {
   "cell_type": "code",
   "execution_count": 259,
   "id": "46916e44",
   "metadata": {},
   "outputs": [
    {
     "data": {
      "text/plain": [
       "(12, 30, 45.23, 25.36, (5+2j), True)"
      ]
     },
     "execution_count": 259,
     "metadata": {},
     "output_type": "execute_result"
    }
   ],
   "source": [
    "tu[1:-2]"
   ]
  },
  {
   "cell_type": "code",
   "execution_count": 260,
   "id": "29f47f8b",
   "metadata": {},
   "outputs": [
    {
     "data": {
      "text/plain": [
       "('python', False, True, (5+2j), 25.36, 45.23, 30, 12, 10)"
      ]
     },
     "execution_count": 260,
     "metadata": {},
     "output_type": "execute_result"
    }
   ],
   "source": [
    "tu[::-1]"
   ]
  },
  {
   "cell_type": "code",
   "execution_count": 261,
   "id": "8e82b666",
   "metadata": {},
   "outputs": [
    {
     "ename": "TypeError",
     "evalue": "'tuple' object does not support item assignment",
     "output_type": "error",
     "traceback": [
      "\u001b[1;31m---------------------------------------------------------------------------\u001b[0m",
      "\u001b[1;31mTypeError\u001b[0m                                 Traceback (most recent call last)",
      "\u001b[1;32m<ipython-input-261-56b570ae7af9>\u001b[0m in \u001b[0;36m<module>\u001b[1;34m\u001b[0m\n\u001b[1;32m----> 1\u001b[1;33m \u001b[0mtu\u001b[0m\u001b[1;33m[\u001b[0m\u001b[1;36m2\u001b[0m\u001b[1;33m]\u001b[0m\u001b[1;33m=\u001b[0m\u001b[1;36m200\u001b[0m\u001b[1;33m\u001b[0m\u001b[1;33m\u001b[0m\u001b[0m\n\u001b[0m",
      "\u001b[1;31mTypeError\u001b[0m: 'tuple' object does not support item assignment"
     ]
    }
   ],
   "source": [
    "tu[2]=200"
   ]
  },
  {
   "cell_type": "code",
   "execution_count": 262,
   "id": "3663e590",
   "metadata": {},
   "outputs": [],
   "source": [
    "lst = [\"python\", \"sql\", \"statictics\"]"
   ]
  },
  {
   "cell_type": "code",
   "execution_count": 263,
   "id": "384c64af",
   "metadata": {},
   "outputs": [],
   "source": [
    "t = (10,14,lst,15,36)"
   ]
  },
  {
   "cell_type": "code",
   "execution_count": 264,
   "id": "edb31e31",
   "metadata": {},
   "outputs": [
    {
     "data": {
      "text/plain": [
       "10"
      ]
     },
     "execution_count": 264,
     "metadata": {},
     "output_type": "execute_result"
    }
   ],
   "source": [
    "t[0]"
   ]
  },
  {
   "cell_type": "code",
   "execution_count": 267,
   "id": "f1da8c02",
   "metadata": {},
   "outputs": [],
   "source": [
    "t[2][1]=\"power bi\""
   ]
  },
  {
   "cell_type": "code",
   "execution_count": 268,
   "id": "47832ed6",
   "metadata": {},
   "outputs": [
    {
     "data": {
      "text/plain": [
       "(10, 14, ['python', 'power bi', 'statictics'], 15, 36)"
      ]
     },
     "execution_count": 268,
     "metadata": {},
     "output_type": "execute_result"
    }
   ],
   "source": [
    "t"
   ]
  },
  {
   "cell_type": "code",
   "execution_count": 269,
   "id": "58006a5a",
   "metadata": {},
   "outputs": [
    {
     "data": {
      "text/plain": [
       "(10, 12, 30, 45.23, 25.36, (5+2j), True, False, 'python')"
      ]
     },
     "execution_count": 269,
     "metadata": {},
     "output_type": "execute_result"
    }
   ],
   "source": [
    "tu"
   ]
  },
  {
   "cell_type": "code",
   "execution_count": 271,
   "id": "2035d711",
   "metadata": {},
   "outputs": [
    {
     "name": "stdout",
     "output_type": "stream",
     "text": [
      "20\n",
      "24\n",
      "60\n",
      "90.46\n",
      "50.72\n",
      "(10+4j)\n",
      "2\n",
      "0\n",
      "pythonpython\n"
     ]
    }
   ],
   "source": [
    "for i in tu:\n",
    "    print(i*2)"
   ]
  },
  {
   "cell_type": "code",
   "execution_count": 273,
   "id": "c7db746c",
   "metadata": {},
   "outputs": [],
   "source": [
    "y = (1,2,3)+(4,5,6)"
   ]
  },
  {
   "cell_type": "code",
   "execution_count": 274,
   "id": "3e7e1020",
   "metadata": {},
   "outputs": [
    {
     "name": "stdout",
     "output_type": "stream",
     "text": [
      "(1, 2, 3, 4, 5, 6)\n"
     ]
    }
   ],
   "source": [
    "print(y)"
   ]
  },
  {
   "cell_type": "code",
   "execution_count": 277,
   "id": "6117a2bf",
   "metadata": {},
   "outputs": [
    {
     "data": {
      "text/plain": [
       "('0', '0', '0', '0', '0', '0', '0', '0', '0', '0')"
      ]
     },
     "execution_count": 277,
     "metadata": {},
     "output_type": "execute_result"
    }
   ],
   "source": [
    "(\"0\",)*10"
   ]
  },
  {
   "cell_type": "code",
   "execution_count": 280,
   "id": "39402dce",
   "metadata": {},
   "outputs": [
    {
     "data": {
      "text/plain": [
       "('0', '0', '0', '0', '0')"
      ]
     },
     "execution_count": 280,
     "metadata": {},
     "output_type": "execute_result"
    }
   ],
   "source": [
    "(\"0\",)*5"
   ]
  },
  {
   "cell_type": "code",
   "execution_count": 281,
   "id": "d5ab3622",
   "metadata": {},
   "outputs": [
    {
     "data": {
      "text/plain": [
       "(0, 0, 0, 0, 0, 0, 0, 0, 0, 0, 0, 0, 0, 0, 0)"
      ]
     },
     "execution_count": 281,
     "metadata": {},
     "output_type": "execute_result"
    }
   ],
   "source": [
    "(0,)*15"
   ]
  },
  {
   "cell_type": "code",
   "execution_count": 282,
   "id": "08b5b450",
   "metadata": {},
   "outputs": [],
   "source": [
    "t = (1,2,3,4,5,6)"
   ]
  },
  {
   "cell_type": "code",
   "execution_count": 283,
   "id": "13cd53db",
   "metadata": {},
   "outputs": [
    {
     "data": {
      "text/plain": [
       "(1, 2, 3, 4, 5, 6)"
      ]
     },
     "execution_count": 283,
     "metadata": {},
     "output_type": "execute_result"
    }
   ],
   "source": [
    "t"
   ]
  },
  {
   "cell_type": "code",
   "execution_count": 284,
   "id": "8c7c7844",
   "metadata": {},
   "outputs": [],
   "source": [
    "del t"
   ]
  },
  {
   "cell_type": "code",
   "execution_count": 285,
   "id": "d3cf007c",
   "metadata": {},
   "outputs": [
    {
     "ename": "NameError",
     "evalue": "name 't' is not defined",
     "output_type": "error",
     "traceback": [
      "\u001b[1;31m---------------------------------------------------------------------------\u001b[0m",
      "\u001b[1;31mNameError\u001b[0m                                 Traceback (most recent call last)",
      "\u001b[1;32m<ipython-input-285-34fc7a11cb38>\u001b[0m in \u001b[0;36m<module>\u001b[1;34m\u001b[0m\n\u001b[1;32m----> 1\u001b[1;33m \u001b[0mt\u001b[0m\u001b[1;33m\u001b[0m\u001b[1;33m\u001b[0m\u001b[0m\n\u001b[0m",
      "\u001b[1;31mNameError\u001b[0m: name 't' is not defined"
     ]
    }
   ],
   "source": [
    "t"
   ]
  },
  {
   "cell_type": "code",
   "execution_count": 286,
   "id": "5356a9ff",
   "metadata": {},
   "outputs": [
    {
     "data": {
      "text/plain": [
       "(10, 12, 30, 45.23, 25.36, (5+2j), True, False, 'python')"
      ]
     },
     "execution_count": 286,
     "metadata": {},
     "output_type": "execute_result"
    }
   ],
   "source": [
    "tu"
   ]
  },
  {
   "cell_type": "code",
   "execution_count": 289,
   "id": "d3ed2cbc",
   "metadata": {},
   "outputs": [
    {
     "data": {
      "text/plain": [
       "1"
      ]
     },
     "execution_count": 289,
     "metadata": {},
     "output_type": "execute_result"
    }
   ],
   "source": [
    "tu.count(10)"
   ]
  },
  {
   "cell_type": "code",
   "execution_count": 290,
   "id": "6bf81a42",
   "metadata": {},
   "outputs": [],
   "source": [
    "t = (1,2,3,1,3,3,4,1)"
   ]
  },
  {
   "cell_type": "code",
   "execution_count": 291,
   "id": "1bb890ab",
   "metadata": {},
   "outputs": [
    {
     "data": {
      "text/plain": [
       "3"
      ]
     },
     "execution_count": 291,
     "metadata": {},
     "output_type": "execute_result"
    }
   ],
   "source": [
    "t.count(1)"
   ]
  },
  {
   "cell_type": "code",
   "execution_count": 292,
   "id": "f6a70de2",
   "metadata": {},
   "outputs": [
    {
     "data": {
      "text/plain": [
       "3"
      ]
     },
     "execution_count": 292,
     "metadata": {},
     "output_type": "execute_result"
    }
   ],
   "source": [
    "t.count(3)"
   ]
  },
  {
   "cell_type": "code",
   "execution_count": 293,
   "id": "b9a0e8d7",
   "metadata": {},
   "outputs": [
    {
     "data": {
      "text/plain": [
       "2"
      ]
     },
     "execution_count": 293,
     "metadata": {},
     "output_type": "execute_result"
    }
   ],
   "source": [
    "t.index(3)"
   ]
  },
  {
   "cell_type": "code",
   "execution_count": 295,
   "id": "f16190fa",
   "metadata": {},
   "outputs": [
    {
     "data": {
      "text/plain": [
       "0"
      ]
     },
     "execution_count": 295,
     "metadata": {},
     "output_type": "execute_result"
    }
   ],
   "source": [
    "t.index(1)"
   ]
  },
  {
   "cell_type": "code",
   "execution_count": 296,
   "id": "f0efbec1",
   "metadata": {},
   "outputs": [
    {
     "data": {
      "text/plain": [
       "(10, 12, 30, 45.23, 25.36, (5+2j), True, False, 'python')"
      ]
     },
     "execution_count": 296,
     "metadata": {},
     "output_type": "execute_result"
    }
   ],
   "source": [
    "tu"
   ]
  },
  {
   "cell_type": "code",
   "execution_count": 297,
   "id": "95638dd4",
   "metadata": {},
   "outputs": [
    {
     "data": {
      "text/plain": [
       "True"
      ]
     },
     "execution_count": 297,
     "metadata": {},
     "output_type": "execute_result"
    }
   ],
   "source": [
    "12 in tu"
   ]
  },
  {
   "cell_type": "code",
   "execution_count": 298,
   "id": "10b4e5ad",
   "metadata": {},
   "outputs": [
    {
     "data": {
      "text/plain": [
       "True"
      ]
     },
     "execution_count": 298,
     "metadata": {},
     "output_type": "execute_result"
    }
   ],
   "source": [
    "30 in tu"
   ]
  },
  {
   "cell_type": "code",
   "execution_count": 299,
   "id": "965a2e89",
   "metadata": {},
   "outputs": [
    {
     "data": {
      "text/plain": [
       "True"
      ]
     },
     "execution_count": 299,
     "metadata": {},
     "output_type": "execute_result"
    }
   ],
   "source": [
    "50 not in tu"
   ]
  },
  {
   "cell_type": "code",
   "execution_count": 300,
   "id": "ef0c86bc",
   "metadata": {},
   "outputs": [
    {
     "data": {
      "text/plain": [
       "False"
      ]
     },
     "execution_count": 300,
     "metadata": {},
     "output_type": "execute_result"
    }
   ],
   "source": [
    "60 in tu"
   ]
  },
  {
   "cell_type": "code",
   "execution_count": 303,
   "id": "d995f454",
   "metadata": {},
   "outputs": [],
   "source": [
    "t = (4,2,1)"
   ]
  },
  {
   "cell_type": "code",
   "execution_count": 305,
   "id": "88ffd13b",
   "metadata": {},
   "outputs": [
    {
     "name": "stdout",
     "output_type": "stream",
     "text": [
      "4 2 1\n"
     ]
    }
   ],
   "source": [
    "print(*t)"
   ]
  },
  {
   "cell_type": "code",
   "execution_count": 307,
   "id": "71aec729",
   "metadata": {},
   "outputs": [],
   "source": [
    "a,b,c = t"
   ]
  },
  {
   "cell_type": "code",
   "execution_count": 308,
   "id": "fe068d6e",
   "metadata": {},
   "outputs": [
    {
     "data": {
      "text/plain": [
       "4"
      ]
     },
     "execution_count": 308,
     "metadata": {},
     "output_type": "execute_result"
    }
   ],
   "source": [
    "a"
   ]
  },
  {
   "cell_type": "code",
   "execution_count": 309,
   "id": "5a4b0743",
   "metadata": {},
   "outputs": [
    {
     "data": {
      "text/plain": [
       "2"
      ]
     },
     "execution_count": 309,
     "metadata": {},
     "output_type": "execute_result"
    }
   ],
   "source": [
    "b"
   ]
  },
  {
   "cell_type": "code",
   "execution_count": 310,
   "id": "5f7903a6",
   "metadata": {},
   "outputs": [
    {
     "data": {
      "text/plain": [
       "1"
      ]
     },
     "execution_count": 310,
     "metadata": {},
     "output_type": "execute_result"
    }
   ],
   "source": [
    "c"
   ]
  },
  {
   "cell_type": "markdown",
   "id": "949c88bb",
   "metadata": {},
   "source": [
    "# Set "
   ]
  },
  {
   "cell_type": "code",
   "execution_count": 313,
   "id": "7f39e074",
   "metadata": {},
   "outputs": [],
   "source": [
    "s = set()"
   ]
  },
  {
   "cell_type": "code",
   "execution_count": 314,
   "id": "53a2de3f",
   "metadata": {},
   "outputs": [
    {
     "data": {
      "text/plain": [
       "set"
      ]
     },
     "execution_count": 314,
     "metadata": {},
     "output_type": "execute_result"
    }
   ],
   "source": [
    "type(s)"
   ]
  },
  {
   "cell_type": "code",
   "execution_count": 317,
   "id": "6492a590",
   "metadata": {},
   "outputs": [],
   "source": [
    "si = {2}"
   ]
  },
  {
   "cell_type": "code",
   "execution_count": 318,
   "id": "cfea57df",
   "metadata": {},
   "outputs": [
    {
     "data": {
      "text/plain": [
       "set"
      ]
     },
     "execution_count": 318,
     "metadata": {},
     "output_type": "execute_result"
    }
   ],
   "source": [
    "type(si)"
   ]
  },
  {
   "cell_type": "code",
   "execution_count": 319,
   "id": "d41f6540",
   "metadata": {},
   "outputs": [],
   "source": [
    "my_set = {1,2,3,4,1,2,3,4,5,2,1,6,7,1,2,9,1,2,3,4}"
   ]
  },
  {
   "cell_type": "code",
   "execution_count": 320,
   "id": "896bd56c",
   "metadata": {},
   "outputs": [
    {
     "data": {
      "text/plain": [
       "{1, 2, 3, 4, 5, 6, 7, 9}"
      ]
     },
     "execution_count": 320,
     "metadata": {},
     "output_type": "execute_result"
    }
   ],
   "source": [
    "my_set"
   ]
  },
  {
   "cell_type": "code",
   "execution_count": 321,
   "id": "59364d2f",
   "metadata": {},
   "outputs": [
    {
     "data": {
      "text/plain": [
       "set"
      ]
     },
     "execution_count": 321,
     "metadata": {},
     "output_type": "execute_result"
    }
   ],
   "source": [
    "type(my_set)"
   ]
  },
  {
   "cell_type": "code",
   "execution_count": 322,
   "id": "e4b863a6",
   "metadata": {},
   "outputs": [],
   "source": [
    "my_set.add(15)"
   ]
  },
  {
   "cell_type": "code",
   "execution_count": 323,
   "id": "b02717fc",
   "metadata": {},
   "outputs": [
    {
     "data": {
      "text/plain": [
       "{1, 2, 3, 4, 5, 6, 7, 9, 15}"
      ]
     },
     "execution_count": 323,
     "metadata": {},
     "output_type": "execute_result"
    }
   ],
   "source": [
    "my_set"
   ]
  },
  {
   "cell_type": "code",
   "execution_count": 325,
   "id": "873fe30f",
   "metadata": {},
   "outputs": [],
   "source": [
    "my_set.add(15)"
   ]
  },
  {
   "cell_type": "code",
   "execution_count": 326,
   "id": "d62d6192",
   "metadata": {},
   "outputs": [
    {
     "data": {
      "text/plain": [
       "{1, 2, 3, 4, 5, 6, 7, 9, 15}"
      ]
     },
     "execution_count": 326,
     "metadata": {},
     "output_type": "execute_result"
    }
   ],
   "source": [
    "my_set"
   ]
  },
  {
   "cell_type": "code",
   "execution_count": 327,
   "id": "47066e9e",
   "metadata": {},
   "outputs": [],
   "source": [
    "my_set.discard(6)"
   ]
  },
  {
   "cell_type": "code",
   "execution_count": 328,
   "id": "507dfe68",
   "metadata": {},
   "outputs": [
    {
     "data": {
      "text/plain": [
       "{1, 2, 3, 4, 5, 7, 9, 15}"
      ]
     },
     "execution_count": 328,
     "metadata": {},
     "output_type": "execute_result"
    }
   ],
   "source": [
    "my_set"
   ]
  },
  {
   "cell_type": "code",
   "execution_count": 329,
   "id": "c02f3058",
   "metadata": {},
   "outputs": [],
   "source": [
    "my_set.discard(20)"
   ]
  },
  {
   "cell_type": "code",
   "execution_count": 330,
   "id": "4adc3c0f",
   "metadata": {},
   "outputs": [
    {
     "data": {
      "text/plain": [
       "{1, 2, 3, 4, 5, 7, 9, 15}"
      ]
     },
     "execution_count": 330,
     "metadata": {},
     "output_type": "execute_result"
    }
   ],
   "source": [
    "my_set"
   ]
  },
  {
   "cell_type": "code",
   "execution_count": 331,
   "id": "abec8427",
   "metadata": {},
   "outputs": [],
   "source": [
    "my_set.remove(9)"
   ]
  },
  {
   "cell_type": "code",
   "execution_count": 332,
   "id": "4fd790af",
   "metadata": {},
   "outputs": [
    {
     "data": {
      "text/plain": [
       "{1, 2, 3, 4, 5, 7, 15}"
      ]
     },
     "execution_count": 332,
     "metadata": {},
     "output_type": "execute_result"
    }
   ],
   "source": [
    "my_set"
   ]
  },
  {
   "cell_type": "code",
   "execution_count": 334,
   "id": "24b17986",
   "metadata": {},
   "outputs": [],
   "source": [
    "my_set.remove(7)"
   ]
  },
  {
   "cell_type": "code",
   "execution_count": 335,
   "id": "e90d6522",
   "metadata": {},
   "outputs": [
    {
     "data": {
      "text/plain": [
       "{1, 2, 3, 4, 5, 15}"
      ]
     },
     "execution_count": 335,
     "metadata": {},
     "output_type": "execute_result"
    }
   ],
   "source": [
    "my_set"
   ]
  },
  {
   "cell_type": "code",
   "execution_count": 338,
   "id": "edb83810",
   "metadata": {},
   "outputs": [
    {
     "data": {
      "text/plain": [
       "3"
      ]
     },
     "execution_count": 338,
     "metadata": {},
     "output_type": "execute_result"
    }
   ],
   "source": [
    "my_set.pop()"
   ]
  },
  {
   "cell_type": "code",
   "execution_count": 339,
   "id": "ddefe5a5",
   "metadata": {},
   "outputs": [
    {
     "data": {
      "text/plain": [
       "{4, 5, 15}"
      ]
     },
     "execution_count": 339,
     "metadata": {},
     "output_type": "execute_result"
    }
   ],
   "source": [
    "my_set"
   ]
  },
  {
   "cell_type": "code",
   "execution_count": 340,
   "id": "bf3b3eb0",
   "metadata": {},
   "outputs": [
    {
     "ename": "TypeError",
     "evalue": "'set' object is not subscriptable",
     "output_type": "error",
     "traceback": [
      "\u001b[1;31m---------------------------------------------------------------------------\u001b[0m",
      "\u001b[1;31mTypeError\u001b[0m                                 Traceback (most recent call last)",
      "\u001b[1;32m<ipython-input-340-158c424478a1>\u001b[0m in \u001b[0;36m<module>\u001b[1;34m\u001b[0m\n\u001b[1;32m----> 1\u001b[1;33m \u001b[0mmy_set\u001b[0m\u001b[1;33m[\u001b[0m\u001b[1;36m0\u001b[0m\u001b[1;33m]\u001b[0m\u001b[1;33m\u001b[0m\u001b[1;33m\u001b[0m\u001b[0m\n\u001b[0m",
      "\u001b[1;31mTypeError\u001b[0m: 'set' object is not subscriptable"
     ]
    }
   ],
   "source": [
    "my_set[0]"
   ]
  },
  {
   "cell_type": "code",
   "execution_count": 341,
   "id": "43d68cb8",
   "metadata": {},
   "outputs": [
    {
     "data": {
      "text/plain": [
       "{4, 5, 15}"
      ]
     },
     "execution_count": 341,
     "metadata": {},
     "output_type": "execute_result"
    }
   ],
   "source": [
    "my_set"
   ]
  },
  {
   "cell_type": "code",
   "execution_count": 343,
   "id": "200ba412",
   "metadata": {},
   "outputs": [],
   "source": [
    "my_set.update([14,12,13,0,1,4,7,19])"
   ]
  },
  {
   "cell_type": "code",
   "execution_count": 344,
   "id": "8f451ff4",
   "metadata": {},
   "outputs": [
    {
     "data": {
      "text/plain": [
       "{0, 1, 4, 5, 7, 12, 13, 14, 15, 19}"
      ]
     },
     "execution_count": 344,
     "metadata": {},
     "output_type": "execute_result"
    }
   ],
   "source": [
    "my_set"
   ]
  },
  {
   "cell_type": "code",
   "execution_count": 345,
   "id": "bc2a4aa2",
   "metadata": {},
   "outputs": [],
   "source": [
    "s1 = {1, 3, 4, 5, 8}\n",
    "s2 = {4, 5, 6, 7, 1, 9}"
   ]
  },
  {
   "cell_type": "code",
   "execution_count": 346,
   "id": "2f0a57c8",
   "metadata": {},
   "outputs": [
    {
     "data": {
      "text/plain": [
       "{1, 3, 4, 5, 6, 7, 8, 9}"
      ]
     },
     "execution_count": 346,
     "metadata": {},
     "output_type": "execute_result"
    }
   ],
   "source": [
    "s1.union(s2)"
   ]
  },
  {
   "cell_type": "code",
   "execution_count": 347,
   "id": "68c4e227",
   "metadata": {},
   "outputs": [
    {
     "data": {
      "text/plain": [
       "{1, 3, 4, 5, 6, 7, 8, 9}"
      ]
     },
     "execution_count": 347,
     "metadata": {},
     "output_type": "execute_result"
    }
   ],
   "source": [
    "s1 | s2"
   ]
  },
  {
   "cell_type": "code",
   "execution_count": 348,
   "id": "4cdcfb14",
   "metadata": {},
   "outputs": [
    {
     "data": {
      "text/plain": [
       "{1, 4, 5}"
      ]
     },
     "execution_count": 348,
     "metadata": {},
     "output_type": "execute_result"
    }
   ],
   "source": [
    "s1.intersection(s2)"
   ]
  },
  {
   "cell_type": "code",
   "execution_count": 349,
   "id": "e43d20f1",
   "metadata": {},
   "outputs": [
    {
     "data": {
      "text/plain": [
       "{1, 4, 5}"
      ]
     },
     "execution_count": 349,
     "metadata": {},
     "output_type": "execute_result"
    }
   ],
   "source": [
    "s1 & s2"
   ]
  },
  {
   "cell_type": "code",
   "execution_count": 350,
   "id": "600d8c8d",
   "metadata": {},
   "outputs": [
    {
     "data": {
      "text/plain": [
       "{3, 8}"
      ]
     },
     "execution_count": 350,
     "metadata": {},
     "output_type": "execute_result"
    }
   ],
   "source": [
    "s1 -s2"
   ]
  },
  {
   "cell_type": "code",
   "execution_count": 351,
   "id": "3733589d",
   "metadata": {},
   "outputs": [
    {
     "data": {
      "text/plain": [
       "{6, 7, 9}"
      ]
     },
     "execution_count": 351,
     "metadata": {},
     "output_type": "execute_result"
    }
   ],
   "source": [
    "s2- s1"
   ]
  },
  {
   "cell_type": "code",
   "execution_count": 352,
   "id": "9a6cf7c2",
   "metadata": {},
   "outputs": [
    {
     "data": {
      "text/plain": [
       "{3, 8}"
      ]
     },
     "execution_count": 352,
     "metadata": {},
     "output_type": "execute_result"
    }
   ],
   "source": [
    "s1.difference(s2)"
   ]
  },
  {
   "cell_type": "code",
   "execution_count": 353,
   "id": "3f522be4",
   "metadata": {},
   "outputs": [
    {
     "data": {
      "text/plain": [
       "{3, 6, 7, 8, 9}"
      ]
     },
     "execution_count": 353,
     "metadata": {},
     "output_type": "execute_result"
    }
   ],
   "source": [
    "s1.symmetric_difference(s2)"
   ]
  },
  {
   "cell_type": "code",
   "execution_count": 354,
   "id": "fb88b4cd",
   "metadata": {},
   "outputs": [
    {
     "data": {
      "text/plain": [
       "{3, 6, 7, 8, 9}"
      ]
     },
     "execution_count": 354,
     "metadata": {},
     "output_type": "execute_result"
    }
   ],
   "source": [
    "(s1|s2) - (s1&s2)"
   ]
  },
  {
   "cell_type": "code",
   "execution_count": 355,
   "id": "8135746a",
   "metadata": {},
   "outputs": [],
   "source": [
    "some_list = [6,3,7,6,4,1,0,9,2,1,0,8,6,4,7]"
   ]
  },
  {
   "cell_type": "code",
   "execution_count": 357,
   "id": "a84127f8",
   "metadata": {},
   "outputs": [],
   "source": [
    "some_list = set(some_list)"
   ]
  },
  {
   "cell_type": "code",
   "execution_count": 358,
   "id": "db1de29d",
   "metadata": {},
   "outputs": [],
   "source": [
    "some_list = list(some_list)"
   ]
  },
  {
   "cell_type": "code",
   "execution_count": 359,
   "id": "dfdf7c8d",
   "metadata": {},
   "outputs": [
    {
     "data": {
      "text/plain": [
       "[0, 1, 2, 3, 4, 6, 7, 8, 9]"
      ]
     },
     "execution_count": 359,
     "metadata": {},
     "output_type": "execute_result"
    }
   ],
   "source": [
    "some_list"
   ]
  },
  {
   "cell_type": "code",
   "execution_count": 360,
   "id": "4908ca24",
   "metadata": {},
   "outputs": [],
   "source": [
    "s2 = {4, 5, 6, 7, 1, 9}"
   ]
  },
  {
   "cell_type": "code",
   "execution_count": 361,
   "id": "9ffb7677",
   "metadata": {},
   "outputs": [
    {
     "data": {
      "text/plain": [
       "True"
      ]
     },
     "execution_count": 361,
     "metadata": {},
     "output_type": "execute_result"
    }
   ],
   "source": [
    "4 in s2"
   ]
  },
  {
   "cell_type": "code",
   "execution_count": 362,
   "id": "8c837833",
   "metadata": {},
   "outputs": [
    {
     "data": {
      "text/plain": [
       "False"
      ]
     },
     "execution_count": 362,
     "metadata": {},
     "output_type": "execute_result"
    }
   ],
   "source": [
    "4 not in s2"
   ]
  },
  {
   "cell_type": "code",
   "execution_count": 363,
   "id": "bb8b7178",
   "metadata": {},
   "outputs": [
    {
     "data": {
      "text/plain": [
       "True"
      ]
     },
     "execution_count": 363,
     "metadata": {},
     "output_type": "execute_result"
    }
   ],
   "source": [
    "1 in s2"
   ]
  },
  {
   "cell_type": "code",
   "execution_count": 364,
   "id": "190b80d6",
   "metadata": {},
   "outputs": [
    {
     "data": {
      "text/plain": [
       "{1, 4, 5, 6, 7, 9}"
      ]
     },
     "execution_count": 364,
     "metadata": {},
     "output_type": "execute_result"
    }
   ],
   "source": [
    "s2"
   ]
  },
  {
   "cell_type": "markdown",
   "id": "353905f7",
   "metadata": {},
   "source": [
    "# Dictionary"
   ]
  },
  {
   "cell_type": "code",
   "execution_count": 366,
   "id": "9fa2c073",
   "metadata": {},
   "outputs": [],
   "source": [
    "dic = {}"
   ]
  },
  {
   "cell_type": "code",
   "execution_count": 367,
   "id": "75b4c2c7",
   "metadata": {},
   "outputs": [
    {
     "data": {
      "text/plain": [
       "dict"
      ]
     },
     "execution_count": 367,
     "metadata": {},
     "output_type": "execute_result"
    }
   ],
   "source": [
    "type(dic)"
   ]
  },
  {
   "cell_type": "code",
   "execution_count": 369,
   "id": "f1cfb98b",
   "metadata": {},
   "outputs": [],
   "source": [
    "dicc = dict()"
   ]
  },
  {
   "cell_type": "code",
   "execution_count": 370,
   "id": "02a9e0a1",
   "metadata": {},
   "outputs": [
    {
     "data": {
      "text/plain": [
       "dict"
      ]
     },
     "execution_count": 370,
     "metadata": {},
     "output_type": "execute_result"
    }
   ],
   "source": [
    "type(dicc)"
   ]
  },
  {
   "cell_type": "code",
   "execution_count": 371,
   "id": "be20dc01",
   "metadata": {},
   "outputs": [],
   "source": [
    "d = dict([(1,\"abc\"), (2, \"xyz\")])"
   ]
  },
  {
   "cell_type": "code",
   "execution_count": 372,
   "id": "37e3c43f",
   "metadata": {},
   "outputs": [
    {
     "data": {
      "text/plain": [
       "{1: 'abc', 2: 'xyz'}"
      ]
     },
     "execution_count": 372,
     "metadata": {},
     "output_type": "execute_result"
    }
   ],
   "source": [
    "d"
   ]
  },
  {
   "cell_type": "code",
   "execution_count": 374,
   "id": "3f86c33b",
   "metadata": {},
   "outputs": [],
   "source": [
    "user_info = {\n",
    "    \"name\" : \"sanjay kumar\",\n",
    "    \"age\" : 30,\n",
    "    \"nationality\":\"indian\"\n",
    "    \n",
    "}"
   ]
  },
  {
   "cell_type": "code",
   "execution_count": 375,
   "id": "8308181c",
   "metadata": {},
   "outputs": [
    {
     "data": {
      "text/plain": [
       "{'name': 'sanjay kumar', 'age': 30, 'nationality': 'indian'}"
      ]
     },
     "execution_count": 375,
     "metadata": {},
     "output_type": "execute_result"
    }
   ],
   "source": [
    "user_info"
   ]
  },
  {
   "cell_type": "code",
   "execution_count": 376,
   "id": "819f0be5",
   "metadata": {},
   "outputs": [
    {
     "data": {
      "text/plain": [
       "dict"
      ]
     },
     "execution_count": 376,
     "metadata": {},
     "output_type": "execute_result"
    }
   ],
   "source": [
    "type(user_info)"
   ]
  },
  {
   "cell_type": "code",
   "execution_count": 377,
   "id": "cc47c2eb",
   "metadata": {},
   "outputs": [
    {
     "data": {
      "text/plain": [
       "{'name': 'sanjay kumar', 'age': 30, 'nationality': 'indian'}"
      ]
     },
     "execution_count": 377,
     "metadata": {},
     "output_type": "execute_result"
    }
   ],
   "source": [
    "user_info"
   ]
  },
  {
   "cell_type": "code",
   "execution_count": 378,
   "id": "fefc1741",
   "metadata": {},
   "outputs": [
    {
     "data": {
      "text/plain": [
       "'sanjay kumar'"
      ]
     },
     "execution_count": 378,
     "metadata": {},
     "output_type": "execute_result"
    }
   ],
   "source": [
    "user_info[\"name\"]"
   ]
  },
  {
   "cell_type": "code",
   "execution_count": 379,
   "id": "1c48c96e",
   "metadata": {},
   "outputs": [
    {
     "data": {
      "text/plain": [
       "'indian'"
      ]
     },
     "execution_count": 379,
     "metadata": {},
     "output_type": "execute_result"
    }
   ],
   "source": [
    "user_info[\"nationality\"]"
   ]
  },
  {
   "cell_type": "code",
   "execution_count": 381,
   "id": "f6753ef4",
   "metadata": {},
   "outputs": [],
   "source": [
    "user_info[\"hobby\"] = [\"coding\", \"singing\", \"dancing\"]"
   ]
  },
  {
   "cell_type": "code",
   "execution_count": 382,
   "id": "3b416958",
   "metadata": {},
   "outputs": [
    {
     "data": {
      "text/plain": [
       "{'name': 'sanjay kumar',\n",
       " 'age': 30,\n",
       " 'nationality': 'indian',\n",
       " 'hobby': ['coding', 'singing', 'dancing']}"
      ]
     },
     "execution_count": 382,
     "metadata": {},
     "output_type": "execute_result"
    }
   ],
   "source": [
    "user_info"
   ]
  },
  {
   "cell_type": "code",
   "execution_count": 383,
   "id": "7a354780",
   "metadata": {},
   "outputs": [
    {
     "ename": "KeyError",
     "evalue": "'id'",
     "output_type": "error",
     "traceback": [
      "\u001b[1;31m---------------------------------------------------------------------------\u001b[0m",
      "\u001b[1;31mKeyError\u001b[0m                                  Traceback (most recent call last)",
      "\u001b[1;32m<ipython-input-383-5581606c324e>\u001b[0m in \u001b[0;36m<module>\u001b[1;34m\u001b[0m\n\u001b[1;32m----> 1\u001b[1;33m \u001b[0muser_info\u001b[0m\u001b[1;33m[\u001b[0m\u001b[1;34m\"id\"\u001b[0m\u001b[1;33m]\u001b[0m\u001b[1;33m\u001b[0m\u001b[1;33m\u001b[0m\u001b[0m\n\u001b[0m",
      "\u001b[1;31mKeyError\u001b[0m: 'id'"
     ]
    }
   ],
   "source": [
    "user_info[\"id\"]"
   ]
  },
  {
   "cell_type": "code",
   "execution_count": 384,
   "id": "4e77eb18",
   "metadata": {},
   "outputs": [
    {
     "data": {
      "text/plain": [
       "'sanjay kumar'"
      ]
     },
     "execution_count": 384,
     "metadata": {},
     "output_type": "execute_result"
    }
   ],
   "source": [
    "user_info.get(\"name\")"
   ]
  },
  {
   "cell_type": "code",
   "execution_count": 385,
   "id": "2d30291e",
   "metadata": {},
   "outputs": [],
   "source": [
    "user_info.get(\"id\")"
   ]
  },
  {
   "cell_type": "code",
   "execution_count": 386,
   "id": "b80a9817",
   "metadata": {},
   "outputs": [
    {
     "data": {
      "text/plain": [
       "['coding', 'singing', 'dancing']"
      ]
     },
     "execution_count": 386,
     "metadata": {},
     "output_type": "execute_result"
    }
   ],
   "source": [
    "user_info.get(\"hobby\")"
   ]
  },
  {
   "cell_type": "code",
   "execution_count": 387,
   "id": "fdb081d9",
   "metadata": {},
   "outputs": [],
   "source": [
    "user_info[\"name\"] = \"rohit sharma\""
   ]
  },
  {
   "cell_type": "code",
   "execution_count": 388,
   "id": "39b50f74",
   "metadata": {},
   "outputs": [
    {
     "data": {
      "text/plain": [
       "{'name': 'rohit sharma',\n",
       " 'age': 30,\n",
       " 'nationality': 'indian',\n",
       " 'hobby': ['coding', 'singing', 'dancing']}"
      ]
     },
     "execution_count": 388,
     "metadata": {},
     "output_type": "execute_result"
    }
   ],
   "source": [
    "user_info\n",
    "\n"
   ]
  },
  {
   "cell_type": "code",
   "execution_count": 389,
   "id": "3df160c7",
   "metadata": {},
   "outputs": [
    {
     "data": {
      "text/plain": [
       "dict_keys(['name', 'age', 'nationality', 'hobby'])"
      ]
     },
     "execution_count": 389,
     "metadata": {},
     "output_type": "execute_result"
    }
   ],
   "source": [
    "user_info.keys()"
   ]
  },
  {
   "cell_type": "code",
   "execution_count": 390,
   "id": "7d7dc030",
   "metadata": {},
   "outputs": [
    {
     "data": {
      "text/plain": [
       "dict_values(['rohit sharma', 30, 'indian', ['coding', 'singing', 'dancing']])"
      ]
     },
     "execution_count": 390,
     "metadata": {},
     "output_type": "execute_result"
    }
   ],
   "source": [
    "user_info.values()"
   ]
  },
  {
   "cell_type": "code",
   "execution_count": 391,
   "id": "e64d26ee",
   "metadata": {},
   "outputs": [
    {
     "data": {
      "text/plain": [
       "dict_items([('name', 'rohit sharma'), ('age', 30), ('nationality', 'indian'), ('hobby', ['coding', 'singing', 'dancing'])])"
      ]
     },
     "execution_count": 391,
     "metadata": {},
     "output_type": "execute_result"
    }
   ],
   "source": [
    "user_info.items()"
   ]
  },
  {
   "cell_type": "code",
   "execution_count": 397,
   "id": "35b0779e",
   "metadata": {},
   "outputs": [
    {
     "name": "stdout",
     "output_type": "stream",
     "text": [
      "name : rohit sharma\n",
      "age : 30\n",
      "nationality : indian\n",
      "hobby : ['coding', 'singing', 'dancing']\n"
     ]
    }
   ],
   "source": [
    "for k,v in user_info.items():\n",
    "    print(k,\":\",v)"
   ]
  },
  {
   "cell_type": "code",
   "execution_count": 398,
   "id": "5ea02ca3",
   "metadata": {},
   "outputs": [
    {
     "data": {
      "text/plain": [
       "5"
      ]
     },
     "execution_count": 398,
     "metadata": {},
     "output_type": "execute_result"
    }
   ],
   "source": [
    "hash(5)"
   ]
  },
  {
   "cell_type": "code",
   "execution_count": 399,
   "id": "68b5f45a",
   "metadata": {},
   "outputs": [
    {
     "data": {
      "text/plain": [
       "25"
      ]
     },
     "execution_count": 399,
     "metadata": {},
     "output_type": "execute_result"
    }
   ],
   "source": [
    "hash(25)"
   ]
  },
  {
   "cell_type": "code",
   "execution_count": 400,
   "id": "8f8e53c5",
   "metadata": {},
   "outputs": [
    {
     "data": {
      "text/plain": [
       "8670666660497907621"
      ]
     },
     "execution_count": 400,
     "metadata": {},
     "output_type": "execute_result"
    }
   ],
   "source": [
    "hash(\"python\")"
   ]
  },
  {
   "cell_type": "code",
   "execution_count": 402,
   "id": "23d58d79",
   "metadata": {},
   "outputs": [
    {
     "data": {
      "text/plain": [
       "-1350146935415579984"
      ]
     },
     "execution_count": 402,
     "metadata": {},
     "output_type": "execute_result"
    }
   ],
   "source": [
    "hash((5,6,7))"
   ]
  },
  {
   "cell_type": "code",
   "execution_count": 403,
   "id": "36559b95",
   "metadata": {},
   "outputs": [
    {
     "ename": "TypeError",
     "evalue": "unhashable type: 'list'",
     "output_type": "error",
     "traceback": [
      "\u001b[1;31m---------------------------------------------------------------------------\u001b[0m",
      "\u001b[1;31mTypeError\u001b[0m                                 Traceback (most recent call last)",
      "\u001b[1;32m<ipython-input-403-35e31e935e9e>\u001b[0m in \u001b[0;36m<module>\u001b[1;34m\u001b[0m\n\u001b[1;32m----> 1\u001b[1;33m \u001b[0mhash\u001b[0m\u001b[1;33m(\u001b[0m\u001b[1;33m[\u001b[0m\u001b[1;36m1\u001b[0m\u001b[1;33m,\u001b[0m\u001b[1;36m2\u001b[0m\u001b[1;33m,\u001b[0m\u001b[1;36m3\u001b[0m\u001b[1;33m]\u001b[0m\u001b[1;33m)\u001b[0m\u001b[1;33m\u001b[0m\u001b[1;33m\u001b[0m\u001b[0m\n\u001b[0m",
      "\u001b[1;31mTypeError\u001b[0m: unhashable type: 'list'"
     ]
    }
   ],
   "source": [
    "hash([1,2,3])"
   ]
  },
  {
   "cell_type": "code",
   "execution_count": 404,
   "id": "b84cf849",
   "metadata": {},
   "outputs": [
    {
     "data": {
      "text/plain": [
       "{'name': 'rohit sharma',\n",
       " 'age': 30,\n",
       " 'nationality': 'indian',\n",
       " 'hobby': ['coding', 'singing', 'dancing']}"
      ]
     },
     "execution_count": 404,
     "metadata": {},
     "output_type": "execute_result"
    }
   ],
   "source": [
    "user_info"
   ]
  },
  {
   "cell_type": "code",
   "execution_count": 406,
   "id": "eb8372a4",
   "metadata": {},
   "outputs": [
    {
     "data": {
      "text/plain": [
       "'indian'"
      ]
     },
     "execution_count": 406,
     "metadata": {},
     "output_type": "execute_result"
    }
   ],
   "source": [
    "user_info.pop(\"nationality\")"
   ]
  },
  {
   "cell_type": "code",
   "execution_count": 407,
   "id": "c60ffd45",
   "metadata": {},
   "outputs": [
    {
     "data": {
      "text/plain": [
       "{'name': 'rohit sharma', 'age': 30, 'hobby': ['coding', 'singing', 'dancing']}"
      ]
     },
     "execution_count": 407,
     "metadata": {},
     "output_type": "execute_result"
    }
   ],
   "source": [
    "user_info"
   ]
  },
  {
   "cell_type": "code",
   "execution_count": 409,
   "id": "ae0f8795",
   "metadata": {},
   "outputs": [],
   "source": [
    "del user_info[\"age\"]"
   ]
  },
  {
   "cell_type": "code",
   "execution_count": 410,
   "id": "47b8e9b2",
   "metadata": {},
   "outputs": [
    {
     "data": {
      "text/plain": [
       "{'name': 'rohit sharma', 'hobby': ['coding', 'singing', 'dancing']}"
      ]
     },
     "execution_count": 410,
     "metadata": {},
     "output_type": "execute_result"
    }
   ],
   "source": [
    "user_info"
   ]
  },
  {
   "cell_type": "code",
   "execution_count": 411,
   "id": "4203330d",
   "metadata": {},
   "outputs": [],
   "source": [
    "canteen_menu = {\n",
    "    \"samosa\": 30,\n",
    "    \"pizza\": 200,\n",
    "    \"cold drink\": 45,\n",
    "    \"fruits\":{\n",
    "        \"apple\":12,\n",
    "        \"mango\":20,\n",
    "        \"graps\":36\n",
    "    }\n",
    "}"
   ]
  },
  {
   "cell_type": "code",
   "execution_count": 412,
   "id": "2f614d3c",
   "metadata": {},
   "outputs": [
    {
     "data": {
      "text/plain": [
       "{'samosa': 30,\n",
       " 'pizza': 200,\n",
       " 'cold drink': 45,\n",
       " 'fruits': {'apple': 12, 'mango': 20, 'graps': 36}}"
      ]
     },
     "execution_count": 412,
     "metadata": {},
     "output_type": "execute_result"
    }
   ],
   "source": [
    "canteen_menu"
   ]
  },
  {
   "cell_type": "code",
   "execution_count": 414,
   "id": "9dcf59f6",
   "metadata": {},
   "outputs": [
    {
     "data": {
      "text/plain": [
       "20"
      ]
     },
     "execution_count": 414,
     "metadata": {},
     "output_type": "execute_result"
    }
   ],
   "source": [
    "canteen_menu[\"fruits\"][\"mango\"]"
   ]
  },
  {
   "cell_type": "code",
   "execution_count": 416,
   "id": "2e7c0ef1",
   "metadata": {},
   "outputs": [],
   "source": [
    "canteen_menu[\"juice\"] = [50,100,150]"
   ]
  },
  {
   "cell_type": "code",
   "execution_count": 417,
   "id": "7d5b1fd5",
   "metadata": {},
   "outputs": [
    {
     "data": {
      "text/plain": [
       "{'samosa': 30,\n",
       " 'pizza': 200,\n",
       " 'cold drink': 45,\n",
       " 'fruits': {'apple': 12, 'mango': 20, 'graps': 36},\n",
       " 'juice': [50, 100, 150]}"
      ]
     },
     "execution_count": 417,
     "metadata": {},
     "output_type": "execute_result"
    }
   ],
   "source": [
    "canteen_menu"
   ]
  },
  {
   "cell_type": "code",
   "execution_count": 419,
   "id": "6b9c6a1d",
   "metadata": {},
   "outputs": [
    {
     "data": {
      "text/plain": [
       "150"
      ]
     },
     "execution_count": 419,
     "metadata": {},
     "output_type": "execute_result"
    }
   ],
   "source": [
    "canteen_menu[\"juice\"][-1]"
   ]
  },
  {
   "cell_type": "code",
   "execution_count": 420,
   "id": "7fef3b68",
   "metadata": {},
   "outputs": [],
   "source": [
    "d = {'a' :1, 'b': 2, 'c': 3}"
   ]
  },
  {
   "cell_type": "code",
   "execution_count": 421,
   "id": "e37fcdca",
   "metadata": {},
   "outputs": [
    {
     "name": "stdout",
     "output_type": "stream",
     "text": [
      "{'a': 1, 'b': 2, 'c': 3}\n"
     ]
    }
   ],
   "source": [
    "print(d)"
   ]
  },
  {
   "cell_type": "code",
   "execution_count": 422,
   "id": "3448469d",
   "metadata": {},
   "outputs": [
    {
     "name": "stdout",
     "output_type": "stream",
     "text": [
      "a : 1\n",
      "b : 2\n",
      "c : 3\n"
     ]
    }
   ],
   "source": [
    "for k,v in d.items():\n",
    "    print(k,\":\",v)"
   ]
  },
  {
   "cell_type": "code",
   "execution_count": 423,
   "id": "7423dd9e",
   "metadata": {},
   "outputs": [],
   "source": [
    "d = {'a' :1, 'b': 2, 'c': 3, 'd' : 4}"
   ]
  },
  {
   "cell_type": "code",
   "execution_count": 427,
   "id": "f472750a",
   "metadata": {},
   "outputs": [],
   "source": [
    "n = {k:v for k,v in d.items() if v>=2}"
   ]
  },
  {
   "cell_type": "code",
   "execution_count": 428,
   "id": "131e87d6",
   "metadata": {},
   "outputs": [
    {
     "name": "stdout",
     "output_type": "stream",
     "text": [
      "{'b': 2, 'c': 3, 'd': 4}\n"
     ]
    }
   ],
   "source": [
    "print(n)"
   ]
  },
  {
   "cell_type": "code",
   "execution_count": 429,
   "id": "e37772b4",
   "metadata": {},
   "outputs": [
    {
     "data": {
      "text/plain": [
       "{'bz': 4, 'cz': 9, 'dz': 16}"
      ]
     },
     "execution_count": 429,
     "metadata": {},
     "output_type": "execute_result"
    }
   ],
   "source": [
    "{k + \"z\" : v**2 for k,v in d.items() if v>=2}"
   ]
  },
  {
   "cell_type": "code",
   "execution_count": 430,
   "id": "40db5bb3",
   "metadata": {},
   "outputs": [],
   "source": [
    "d = {'a' :1, 'b': 2, 'c': 3, 'd' : 4}"
   ]
  },
  {
   "cell_type": "code",
   "execution_count": 431,
   "id": "5b954107",
   "metadata": {},
   "outputs": [
    {
     "data": {
      "text/plain": [
       "{1: 'a', 2: 'b', 3: 'c', 4: 'd'}"
      ]
     },
     "execution_count": 431,
     "metadata": {},
     "output_type": "execute_result"
    }
   ],
   "source": [
    "{v:k for k,v in d.items()}"
   ]
  },
  {
   "cell_type": "code",
   "execution_count": 432,
   "id": "3ce95b86",
   "metadata": {},
   "outputs": [
    {
     "data": {
      "text/plain": [
       "{'a': 1, 'b': 2, 'c': 3, 'd': 4}"
      ]
     },
     "execution_count": 432,
     "metadata": {},
     "output_type": "execute_result"
    }
   ],
   "source": [
    "d"
   ]
  },
  {
   "cell_type": "code",
   "execution_count": 433,
   "id": "e9da101e",
   "metadata": {},
   "outputs": [],
   "source": [
    "re_dic = {}"
   ]
  },
  {
   "cell_type": "code",
   "execution_count": null,
   "id": "610f765b",
   "metadata": {},
   "outputs": [],
   "source": [
    "for k,v in d.i"
   ]
  }
 ],
 "metadata": {
  "kernelspec": {
   "display_name": "Python 3",
   "language": "python",
   "name": "python3"
  },
  "language_info": {
   "codemirror_mode": {
    "name": "ipython",
    "version": 3
   },
   "file_extension": ".py",
   "mimetype": "text/x-python",
   "name": "python",
   "nbconvert_exporter": "python",
   "pygments_lexer": "ipython3",
   "version": "3.8.8"
  }
 },
 "nbformat": 4,
 "nbformat_minor": 5
}
