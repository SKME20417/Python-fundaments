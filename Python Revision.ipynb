{
 "cells": [
  {
   "cell_type": "code",
   "execution_count": 1,
   "id": "55e50f4d",
   "metadata": {},
   "outputs": [],
   "source": [
    "import sys\n",
    "import keyword\n",
    "import operator\n",
    "from datetime import datetime\n",
    "import os"
   ]
  },
  {
   "cell_type": "code",
   "execution_count": 3,
   "id": "3ce1ff94",
   "metadata": {},
   "outputs": [
    {
     "name": "stdout",
     "output_type": "stream",
     "text": [
      "['False', 'None', 'True', 'and', 'as', 'assert', 'async', 'await', 'break', 'class', 'continue', 'def', 'del', 'elif', 'else', 'except', 'finally', 'for', 'from', 'global', 'if', 'import', 'in', 'is', 'lambda', 'nonlocal', 'not', 'or', 'pass', 'raise', 'return', 'try', 'while', 'with', 'yield']\n"
     ]
    }
   ],
   "source": [
    "print(keyword.kwlist)"
   ]
  },
  {
   "cell_type": "code",
   "execution_count": 5,
   "id": "98e74fa7",
   "metadata": {},
   "outputs": [
    {
     "data": {
      "text/plain": [
       "35"
      ]
     },
     "execution_count": 5,
     "metadata": {},
     "output_type": "execute_result"
    }
   ],
   "source": [
    "len(keyword.kwlist)"
   ]
  },
  {
   "cell_type": "code",
   "execution_count": 6,
   "id": "ff950690",
   "metadata": {},
   "outputs": [
    {
     "ename": "SyntaxError",
     "evalue": "invalid syntax (<ipython-input-6-52bebf41550a>, line 1)",
     "output_type": "error",
     "traceback": [
      "\u001b[1;36m  File \u001b[1;32m\"<ipython-input-6-52bebf41550a>\"\u001b[1;36m, line \u001b[1;32m1\u001b[0m\n\u001b[1;33m    1sep = 10\u001b[0m\n\u001b[1;37m     ^\u001b[0m\n\u001b[1;31mSyntaxError\u001b[0m\u001b[1;31m:\u001b[0m invalid syntax\n"
     ]
    }
   ],
   "source": [
    "1sep = 10"
   ]
  },
  {
   "cell_type": "code",
   "execution_count": 7,
   "id": "91fb3937",
   "metadata": {},
   "outputs": [
    {
     "ename": "SyntaxError",
     "evalue": "cannot assign to operator (<ipython-input-7-3d432d314933>, line 1)",
     "output_type": "error",
     "traceback": [
      "\u001b[1;36m  File \u001b[1;32m\"<ipython-input-7-3d432d314933>\"\u001b[1;36m, line \u001b[1;32m1\u001b[0m\n\u001b[1;33m    dec@men = 15\u001b[0m\n\u001b[1;37m    ^\u001b[0m\n\u001b[1;31mSyntaxError\u001b[0m\u001b[1;31m:\u001b[0m cannot assign to operator\n"
     ]
    }
   ],
   "source": [
    "dec@men = 15"
   ]
  },
  {
   "cell_type": "code",
   "execution_count": 8,
   "id": "0091adcd",
   "metadata": {},
   "outputs": [
    {
     "ename": "SyntaxError",
     "evalue": "invalid syntax (<ipython-input-8-03e3655cd3a8>, line 1)",
     "output_type": "error",
     "traceback": [
      "\u001b[1;36m  File \u001b[1;32m\"<ipython-input-8-03e3655cd3a8>\"\u001b[1;36m, line \u001b[1;32m1\u001b[0m\n\u001b[1;33m    def = 145\u001b[0m\n\u001b[1;37m        ^\u001b[0m\n\u001b[1;31mSyntaxError\u001b[0m\u001b[1;31m:\u001b[0m invalid syntax\n"
     ]
    }
   ],
   "source": [
    "def = 145"
   ]
  },
  {
   "cell_type": "code",
   "execution_count": 9,
   "id": "af8a1c36",
   "metadata": {},
   "outputs": [],
   "source": [
    "jan2 = 156"
   ]
  },
  {
   "cell_type": "code",
   "execution_count": 10,
   "id": "e1d91399",
   "metadata": {},
   "outputs": [],
   "source": [
    "_grd = 56"
   ]
  },
  {
   "cell_type": "code",
   "execution_count": 11,
   "id": "06b30df6",
   "metadata": {},
   "outputs": [],
   "source": [
    "rt_ = 78"
   ]
  },
  {
   "cell_type": "code",
   "execution_count": 12,
   "id": "8baa34a2",
   "metadata": {},
   "outputs": [],
   "source": [
    "p1 = 10+20"
   ]
  },
  {
   "cell_type": "code",
   "execution_count": 13,
   "id": "88ddd58c",
   "metadata": {},
   "outputs": [],
   "source": [
    "p1 = ['a', 'b', 'c', 'd']"
   ]
  },
  {
   "cell_type": "code",
   "execution_count": 14,
   "id": "af4fadde",
   "metadata": {},
   "outputs": [],
   "source": [
    "p2 = 10+20+30+\\\n",
    "    40+50+60+\\\n",
    "    70"
   ]
  },
  {
   "cell_type": "code",
   "execution_count": 15,
   "id": "04e43e93",
   "metadata": {},
   "outputs": [
    {
     "data": {
      "text/plain": [
       "280"
      ]
     },
     "execution_count": 15,
     "metadata": {},
     "output_type": "execute_result"
    }
   ],
   "source": [
    "p2"
   ]
  },
  {
   "cell_type": "code",
   "execution_count": 16,
   "id": "506a22db",
   "metadata": {},
   "outputs": [],
   "source": [
    "p2 = ['a',\n",
    "     'b',\n",
    "     'c']"
   ]
  },
  {
   "cell_type": "code",
   "execution_count": 17,
   "id": "35a45cab",
   "metadata": {},
   "outputs": [
    {
     "data": {
      "text/plain": [
       "['a', 'b', 'c']"
      ]
     },
     "execution_count": 17,
     "metadata": {},
     "output_type": "execute_result"
    }
   ],
   "source": [
    "p2"
   ]
  },
  {
   "cell_type": "code",
   "execution_count": 19,
   "id": "1d96c2b1",
   "metadata": {},
   "outputs": [
    {
     "ename": "IndentationError",
     "evalue": "expected an indented block (<ipython-input-19-f2fcee6c350b>, line 4)",
     "output_type": "error",
     "traceback": [
      "\u001b[1;36m  File \u001b[1;32m\"<ipython-input-19-f2fcee6c350b>\"\u001b[1;36m, line \u001b[1;32m4\u001b[0m\n\u001b[1;33m    print('p is equal to 120')\u001b[0m\n\u001b[1;37m    ^\u001b[0m\n\u001b[1;31mIndentationError\u001b[0m\u001b[1;31m:\u001b[0m expected an indented block\n"
     ]
    }
   ],
   "source": [
    "p = 120\n",
    "\n",
    "if p==120:\n",
    "print('p is equal to 120')"
   ]
  },
  {
   "cell_type": "code",
   "execution_count": 21,
   "id": "90d1bd74",
   "metadata": {},
   "outputs": [
    {
     "data": {
      "text/plain": [
       "[0, 1, 2, 3, 4]"
      ]
     },
     "execution_count": 21,
     "metadata": {},
     "output_type": "execute_result"
    }
   ],
   "source": [
    "list(range(5))"
   ]
  },
  {
   "cell_type": "code",
   "execution_count": 23,
   "id": "a50684bb",
   "metadata": {},
   "outputs": [
    {
     "ename": "IndentationError",
     "evalue": "expected an indented block (<ipython-input-23-ff840fecd491>, line 2)",
     "output_type": "error",
     "traceback": [
      "\u001b[1;36m  File \u001b[1;32m\"<ipython-input-23-ff840fecd491>\"\u001b[1;36m, line \u001b[1;32m2\u001b[0m\n\u001b[1;33m    print(i)\u001b[0m\n\u001b[1;37m    ^\u001b[0m\n\u001b[1;31mIndentationError\u001b[0m\u001b[1;31m:\u001b[0m expected an indented block\n"
     ]
    }
   ],
   "source": [
    "for i in range(5):\n",
    "print(i)"
   ]
  },
  {
   "cell_type": "code",
   "execution_count": 24,
   "id": "ba9235f8",
   "metadata": {},
   "outputs": [
    {
     "name": "stdout",
     "output_type": "stream",
     "text": [
      "0\n",
      "1\n",
      "2\n",
      "3\n",
      "4\n"
     ]
    }
   ],
   "source": [
    "for i in range(5): print(i)"
   ]
  },
  {
   "cell_type": "code",
   "execution_count": 25,
   "id": "d57ecc76",
   "metadata": {},
   "outputs": [
    {
     "name": "stdout",
     "output_type": "stream",
     "text": [
      "0\n",
      "1\n",
      "2\n",
      "3\n",
      "4\n",
      "20\n"
     ]
    }
   ],
   "source": [
    "j = 20\n",
    "for i in range(5):\n",
    "    print(i)\n",
    "print(j)"
   ]
  },
  {
   "cell_type": "code",
   "execution_count": 27,
   "id": "ddb83da7",
   "metadata": {},
   "outputs": [],
   "source": [
    "def square(num):\n",
    "    \"\"\" square_function : This will return square of a number\"\"\"\n",
    "    return num**2"
   ]
  },
  {
   "cell_type": "code",
   "execution_count": 30,
   "id": "972d2c33",
   "metadata": {},
   "outputs": [
    {
     "data": {
      "text/plain": [
       "4"
      ]
     },
     "execution_count": 30,
     "metadata": {},
     "output_type": "execute_result"
    }
   ],
   "source": [
    "square(2)\n"
   ]
  },
  {
   "cell_type": "code",
   "execution_count": 32,
   "id": "514f03c4",
   "metadata": {},
   "outputs": [
    {
     "data": {
      "text/plain": [
       "' square_function : This will return square of a number'"
      ]
     },
     "execution_count": 32,
     "metadata": {},
     "output_type": "execute_result"
    }
   ],
   "source": [
    "square.__doc__"
   ]
  },
  {
   "cell_type": "code",
   "execution_count": 33,
   "id": "811226b1",
   "metadata": {},
   "outputs": [],
   "source": [
    "def evenodd(num):\n",
    "    \"\"\"evenodd function : This function will test wheather a number is even or odd\"\"\"\n",
    "    if num%2==0:\n",
    "        print('even number')\n",
    "    else:\n",
    "        print('odd number')"
   ]
  },
  {
   "cell_type": "code",
   "execution_count": 35,
   "id": "95aa248b",
   "metadata": {},
   "outputs": [
    {
     "data": {
      "text/plain": [
       "'evenodd function : This function will test wheather a number is even or odd'"
      ]
     },
     "execution_count": 35,
     "metadata": {},
     "output_type": "execute_result"
    }
   ],
   "source": [
    "evenodd.__doc__"
   ]
  },
  {
   "cell_type": "code",
   "execution_count": 36,
   "id": "a00d1da8",
   "metadata": {},
   "outputs": [
    {
     "name": "stdout",
     "output_type": "stream",
     "text": [
      "odd number\n"
     ]
    }
   ],
   "source": [
    "evenodd(3)"
   ]
  },
  {
   "cell_type": "code",
   "execution_count": 37,
   "id": "1f7b3114",
   "metadata": {},
   "outputs": [
    {
     "name": "stdout",
     "output_type": "stream",
     "text": [
      "even number\n"
     ]
    }
   ],
   "source": [
    "evenodd(2)"
   ]
  },
  {
   "cell_type": "code",
   "execution_count": 38,
   "id": "2d52d595",
   "metadata": {},
   "outputs": [],
   "source": [
    "p = 30"
   ]
  },
  {
   "cell_type": "code",
   "execution_count": 39,
   "id": "2330c482",
   "metadata": {},
   "outputs": [
    {
     "data": {
      "text/plain": [
       "140709526514384"
      ]
     },
     "execution_count": 39,
     "metadata": {},
     "output_type": "execute_result"
    }
   ],
   "source": [
    "id(p)"
   ]
  },
  {
   "cell_type": "code",
   "execution_count": 41,
   "id": "d6bf340b",
   "metadata": {},
   "outputs": [
    {
     "data": {
      "text/plain": [
       "'0x7ff97d582ad0'"
      ]
     },
     "execution_count": 41,
     "metadata": {},
     "output_type": "execute_result"
    }
   ],
   "source": [
    "hex(id(p))"
   ]
  },
  {
   "cell_type": "code",
   "execution_count": 42,
   "id": "96d66461",
   "metadata": {},
   "outputs": [],
   "source": [
    "p = 20"
   ]
  },
  {
   "cell_type": "code",
   "execution_count": 43,
   "id": "a1fc47f9",
   "metadata": {},
   "outputs": [],
   "source": [
    "q = 20"
   ]
  },
  {
   "cell_type": "code",
   "execution_count": 44,
   "id": "6850d194",
   "metadata": {},
   "outputs": [],
   "source": [
    "r = q"
   ]
  },
  {
   "cell_type": "code",
   "execution_count": 45,
   "id": "b9873a39",
   "metadata": {},
   "outputs": [
    {
     "data": {
      "text/plain": [
       "(20, int, 140709526514064, '0x7ff97d582990')"
      ]
     },
     "execution_count": 45,
     "metadata": {},
     "output_type": "execute_result"
    }
   ],
   "source": [
    "p,type(p), id(p), hex(id(p))"
   ]
  },
  {
   "cell_type": "code",
   "execution_count": 46,
   "id": "07fbedf1",
   "metadata": {},
   "outputs": [
    {
     "data": {
      "text/plain": [
       "(20, int, 140709526514064, '0x7ff97d582990')"
      ]
     },
     "execution_count": 46,
     "metadata": {},
     "output_type": "execute_result"
    }
   ],
   "source": [
    "q, type(q), id(q), hex(id(q))"
   ]
  },
  {
   "cell_type": "code",
   "execution_count": 47,
   "id": "61443064",
   "metadata": {},
   "outputs": [
    {
     "data": {
      "text/plain": [
       "(20, int, 140709526514064, '0x7ff97d582990')"
      ]
     },
     "execution_count": 47,
     "metadata": {},
     "output_type": "execute_result"
    }
   ],
   "source": [
    "r, type(r), id(r), hex(id(r))"
   ]
  },
  {
   "cell_type": "code",
   "execution_count": 48,
   "id": "36320925",
   "metadata": {},
   "outputs": [],
   "source": [
    "p = 20"
   ]
  },
  {
   "cell_type": "code",
   "execution_count": 49,
   "id": "d6c82b03",
   "metadata": {},
   "outputs": [],
   "source": [
    "p = p+10"
   ]
  },
  {
   "cell_type": "code",
   "execution_count": 50,
   "id": "a24f0b94",
   "metadata": {},
   "outputs": [
    {
     "data": {
      "text/plain": [
       "30"
      ]
     },
     "execution_count": 50,
     "metadata": {},
     "output_type": "execute_result"
    }
   ],
   "source": [
    "p"
   ]
  },
  {
   "cell_type": "code",
   "execution_count": 51,
   "id": "3ef20d0f",
   "metadata": {},
   "outputs": [],
   "source": [
    "intvar = 10"
   ]
  },
  {
   "cell_type": "code",
   "execution_count": 52,
   "id": "8ddc808d",
   "metadata": {},
   "outputs": [],
   "source": [
    "floatvar = 2.57"
   ]
  },
  {
   "cell_type": "code",
   "execution_count": 53,
   "id": "edefad0f",
   "metadata": {},
   "outputs": [],
   "source": [
    "strvar = 'Python language is fun'"
   ]
  },
  {
   "cell_type": "code",
   "execution_count": 56,
   "id": "2fc97e19",
   "metadata": {},
   "outputs": [
    {
     "name": "stdout",
     "output_type": "stream",
     "text": [
      "10 : 2.57 : Python language is fun\n"
     ]
    }
   ],
   "source": [
    "print(intvar, \":\", floatvar,\":\",strvar)"
   ]
  },
  {
   "cell_type": "code",
   "execution_count": 57,
   "id": "1cf48c2b",
   "metadata": {},
   "outputs": [],
   "source": [
    "intvar, fvar, svar = 15,2.65,\"machiner learning\""
   ]
  },
  {
   "cell_type": "code",
   "execution_count": 58,
   "id": "33889a06",
   "metadata": {},
   "outputs": [
    {
     "data": {
      "text/plain": [
       "15"
      ]
     },
     "execution_count": 58,
     "metadata": {},
     "output_type": "execute_result"
    }
   ],
   "source": [
    "intvar"
   ]
  },
  {
   "cell_type": "code",
   "execution_count": 59,
   "id": "36280aeb",
   "metadata": {},
   "outputs": [
    {
     "data": {
      "text/plain": [
       "2.65"
      ]
     },
     "execution_count": 59,
     "metadata": {},
     "output_type": "execute_result"
    }
   ],
   "source": [
    "fvar"
   ]
  },
  {
   "cell_type": "code",
   "execution_count": 60,
   "id": "98a9965a",
   "metadata": {},
   "outputs": [
    {
     "data": {
      "text/plain": [
       "'machiner learning'"
      ]
     },
     "execution_count": 60,
     "metadata": {},
     "output_type": "execute_result"
    }
   ],
   "source": [
    "svar"
   ]
  },
  {
   "cell_type": "code",
   "execution_count": 61,
   "id": "714bff02",
   "metadata": {},
   "outputs": [],
   "source": [
    "p1 = p2 = p3 = p4 = 44"
   ]
  },
  {
   "cell_type": "code",
   "execution_count": 62,
   "id": "27bdeb37",
   "metadata": {},
   "outputs": [
    {
     "data": {
      "text/plain": [
       "44"
      ]
     },
     "execution_count": 62,
     "metadata": {},
     "output_type": "execute_result"
    }
   ],
   "source": [
    "p1"
   ]
  },
  {
   "cell_type": "code",
   "execution_count": 63,
   "id": "28146bf5",
   "metadata": {},
   "outputs": [
    {
     "data": {
      "text/plain": [
       "44"
      ]
     },
     "execution_count": 63,
     "metadata": {},
     "output_type": "execute_result"
    }
   ],
   "source": [
    "p2"
   ]
  },
  {
   "cell_type": "code",
   "execution_count": 64,
   "id": "5d774edf",
   "metadata": {},
   "outputs": [
    {
     "data": {
      "text/plain": [
       "44"
      ]
     },
     "execution_count": 64,
     "metadata": {},
     "output_type": "execute_result"
    }
   ],
   "source": [
    "p3"
   ]
  },
  {
   "cell_type": "code",
   "execution_count": 65,
   "id": "13a25b98",
   "metadata": {},
   "outputs": [
    {
     "data": {
      "text/plain": [
       "44"
      ]
     },
     "execution_count": 65,
     "metadata": {},
     "output_type": "execute_result"
    }
   ],
   "source": [
    "p4"
   ]
  },
  {
   "cell_type": "code",
   "execution_count": 66,
   "id": "494acdaa",
   "metadata": {},
   "outputs": [
    {
     "name": "stdout",
     "output_type": "stream",
     "text": [
      "10\n"
     ]
    }
   ],
   "source": [
    "val1 = 10\n",
    "print(val1)"
   ]
  },
  {
   "cell_type": "code",
   "execution_count": 68,
   "id": "82c1e494",
   "metadata": {},
   "outputs": [
    {
     "name": "stdout",
     "output_type": "stream",
     "text": [
      "<class 'int'>\n"
     ]
    }
   ],
   "source": [
    "print(type(val1))"
   ]
  },
  {
   "cell_type": "code",
   "execution_count": 69,
   "id": "c769a519",
   "metadata": {},
   "outputs": [
    {
     "data": {
      "text/plain": [
       "28"
      ]
     },
     "execution_count": 69,
     "metadata": {},
     "output_type": "execute_result"
    }
   ],
   "source": [
    "sys.getsizeof(val1)"
   ]
  },
  {
   "cell_type": "code",
   "execution_count": 71,
   "id": "11f5d114",
   "metadata": {},
   "outputs": [
    {
     "data": {
      "text/plain": [
       "True"
      ]
     },
     "execution_count": 71,
     "metadata": {},
     "output_type": "execute_result"
    }
   ],
   "source": [
    "isinstance(val1,int)"
   ]
  },
  {
   "cell_type": "code",
   "execution_count": 72,
   "id": "08fcb1da",
   "metadata": {},
   "outputs": [],
   "source": [
    "val2 = 92.78"
   ]
  },
  {
   "cell_type": "code",
   "execution_count": 73,
   "id": "c235f36a",
   "metadata": {},
   "outputs": [
    {
     "name": "stdout",
     "output_type": "stream",
     "text": [
      "92.78\n"
     ]
    }
   ],
   "source": [
    "print(val2)"
   ]
  },
  {
   "cell_type": "code",
   "execution_count": 75,
   "id": "f2528ce8",
   "metadata": {},
   "outputs": [
    {
     "name": "stdout",
     "output_type": "stream",
     "text": [
      "<class 'float'>\n"
     ]
    }
   ],
   "source": [
    "print(type(val2))"
   ]
  },
  {
   "cell_type": "code",
   "execution_count": 76,
   "id": "2452ce89",
   "metadata": {},
   "outputs": [
    {
     "data": {
      "text/plain": [
       "24"
      ]
     },
     "execution_count": 76,
     "metadata": {},
     "output_type": "execute_result"
    }
   ],
   "source": [
    "sys.getsizeof(val2)"
   ]
  },
  {
   "cell_type": "code",
   "execution_count": 77,
   "id": "fc9a94c1",
   "metadata": {},
   "outputs": [
    {
     "data": {
      "text/plain": [
       "True"
      ]
     },
     "execution_count": 77,
     "metadata": {},
     "output_type": "execute_result"
    }
   ],
   "source": [
    "isinstance(val2,float)"
   ]
  },
  {
   "cell_type": "code",
   "execution_count": 82,
   "id": "f45a0985",
   "metadata": {},
   "outputs": [],
   "source": [
    "val3 = 25+10j"
   ]
  },
  {
   "cell_type": "code",
   "execution_count": 83,
   "id": "7d39d14a",
   "metadata": {},
   "outputs": [
    {
     "name": "stdout",
     "output_type": "stream",
     "text": [
      "(25+10j)\n"
     ]
    }
   ],
   "source": [
    "print(val3)"
   ]
  },
  {
   "cell_type": "code",
   "execution_count": 85,
   "id": "fd5a5184",
   "metadata": {},
   "outputs": [
    {
     "name": "stdout",
     "output_type": "stream",
     "text": [
      "<class 'complex'>\n"
     ]
    }
   ],
   "source": [
    "print(type(val3))"
   ]
  },
  {
   "cell_type": "code",
   "execution_count": 86,
   "id": "dfda030c",
   "metadata": {},
   "outputs": [
    {
     "data": {
      "text/plain": [
       "32"
      ]
     },
     "execution_count": 86,
     "metadata": {},
     "output_type": "execute_result"
    }
   ],
   "source": [
    "sys.getsizeof(val3)"
   ]
  },
  {
   "cell_type": "code",
   "execution_count": 87,
   "id": "080a89cf",
   "metadata": {},
   "outputs": [
    {
     "data": {
      "text/plain": [
       "True"
      ]
     },
     "execution_count": 87,
     "metadata": {},
     "output_type": "execute_result"
    }
   ],
   "source": [
    "isinstance(val3,complex)"
   ]
  },
  {
   "cell_type": "code",
   "execution_count": 88,
   "id": "813846e3",
   "metadata": {},
   "outputs": [
    {
     "data": {
      "text/plain": [
       "24"
      ]
     },
     "execution_count": 88,
     "metadata": {},
     "output_type": "execute_result"
    }
   ],
   "source": [
    "sys.getsizeof(int())"
   ]
  },
  {
   "cell_type": "code",
   "execution_count": 89,
   "id": "6cf01457",
   "metadata": {},
   "outputs": [
    {
     "data": {
      "text/plain": [
       "24"
      ]
     },
     "execution_count": 89,
     "metadata": {},
     "output_type": "execute_result"
    }
   ],
   "source": [
    "sys.getsizeof(float())"
   ]
  },
  {
   "cell_type": "code",
   "execution_count": 90,
   "id": "db74eb80",
   "metadata": {},
   "outputs": [
    {
     "data": {
      "text/plain": [
       "32"
      ]
     },
     "execution_count": 90,
     "metadata": {},
     "output_type": "execute_result"
    }
   ],
   "source": [
    "sys.getsizeof(complex())"
   ]
  },
  {
   "cell_type": "code",
   "execution_count": 91,
   "id": "14c55e24",
   "metadata": {},
   "outputs": [],
   "source": [
    "bool1 = True"
   ]
  },
  {
   "cell_type": "code",
   "execution_count": 92,
   "id": "9995a4e3",
   "metadata": {},
   "outputs": [],
   "source": [
    "bool2 = False"
   ]
  },
  {
   "cell_type": "code",
   "execution_count": 94,
   "id": "28af35ef",
   "metadata": {},
   "outputs": [
    {
     "name": "stdout",
     "output_type": "stream",
     "text": [
      "<class 'bool'>\n"
     ]
    }
   ],
   "source": [
    "print(type(bool1))"
   ]
  },
  {
   "cell_type": "code",
   "execution_count": 96,
   "id": "7de59261",
   "metadata": {},
   "outputs": [
    {
     "name": "stdout",
     "output_type": "stream",
     "text": [
      "<class 'bool'>\n"
     ]
    }
   ],
   "source": [
    "print(type(bool2))"
   ]
  },
  {
   "cell_type": "code",
   "execution_count": 97,
   "id": "54dcd393",
   "metadata": {},
   "outputs": [
    {
     "data": {
      "text/plain": [
       "True"
      ]
     },
     "execution_count": 97,
     "metadata": {},
     "output_type": "execute_result"
    }
   ],
   "source": [
    "isinstance(bool2, bool)"
   ]
  },
  {
   "cell_type": "code",
   "execution_count": 98,
   "id": "dcc61216",
   "metadata": {},
   "outputs": [
    {
     "data": {
      "text/plain": [
       "False"
      ]
     },
     "execution_count": 98,
     "metadata": {},
     "output_type": "execute_result"
    }
   ],
   "source": [
    "bool(0)"
   ]
  },
  {
   "cell_type": "code",
   "execution_count": 99,
   "id": "5dcbc616",
   "metadata": {},
   "outputs": [
    {
     "data": {
      "text/plain": [
       "True"
      ]
     },
     "execution_count": 99,
     "metadata": {},
     "output_type": "execute_result"
    }
   ],
   "source": [
    "bool(1)"
   ]
  },
  {
   "cell_type": "code",
   "execution_count": 100,
   "id": "bac853dd",
   "metadata": {},
   "outputs": [
    {
     "data": {
      "text/plain": [
       "False"
      ]
     },
     "execution_count": 100,
     "metadata": {},
     "output_type": "execute_result"
    }
   ],
   "source": [
    "bool(None)"
   ]
  },
  {
   "cell_type": "code",
   "execution_count": 101,
   "id": "db8678f9",
   "metadata": {},
   "outputs": [
    {
     "data": {
      "text/plain": [
       "True"
      ]
     },
     "execution_count": 101,
     "metadata": {},
     "output_type": "execute_result"
    }
   ],
   "source": [
    "bool(True)"
   ]
  },
  {
   "cell_type": "code",
   "execution_count": 102,
   "id": "8ac04e66",
   "metadata": {},
   "outputs": [
    {
     "data": {
      "text/plain": [
       "False"
      ]
     },
     "execution_count": 102,
     "metadata": {},
     "output_type": "execute_result"
    }
   ],
   "source": [
    "bool(False)"
   ]
  },
  {
   "cell_type": "code",
   "execution_count": 103,
   "id": "066f53fc",
   "metadata": {},
   "outputs": [],
   "source": [
    "str1 = 'Hello python'"
   ]
  },
  {
   "cell_type": "code",
   "execution_count": 104,
   "id": "42b81210",
   "metadata": {},
   "outputs": [
    {
     "name": "stdout",
     "output_type": "stream",
     "text": [
      "Hello python\n"
     ]
    }
   ],
   "source": [
    "print(str1)"
   ]
  },
  {
   "cell_type": "code",
   "execution_count": 105,
   "id": "d9b6bdfb",
   "metadata": {},
   "outputs": [],
   "source": [
    "mystr = \"Hello worrld\""
   ]
  },
  {
   "cell_type": "code",
   "execution_count": 106,
   "id": "d1462a81",
   "metadata": {},
   "outputs": [
    {
     "name": "stdout",
     "output_type": "stream",
     "text": [
      "Hello worrld\n"
     ]
    }
   ],
   "source": [
    "print(mystr)"
   ]
  },
  {
   "cell_type": "code",
   "execution_count": 111,
   "id": "9b010b70",
   "metadata": {},
   "outputs": [],
   "source": [
    "mystr = \"\"\"hello \n",
    "\n",
    "\n",
    "            world\"\"\""
   ]
  },
  {
   "cell_type": "code",
   "execution_count": 112,
   "id": "dda7defd",
   "metadata": {},
   "outputs": [
    {
     "name": "stdout",
     "output_type": "stream",
     "text": [
      "hello \n",
      "\n",
      "\n",
      "            world\n"
     ]
    }
   ],
   "source": [
    "print(mystr)"
   ]
  },
  {
   "cell_type": "code",
   "execution_count": 113,
   "id": "fd09c351",
   "metadata": {},
   "outputs": [],
   "source": [
    "mystr = ('Happy',\n",
    "        'monday',\n",
    "        'Everyone')"
   ]
  },
  {
   "cell_type": "code",
   "execution_count": 114,
   "id": "81132713",
   "metadata": {},
   "outputs": [
    {
     "name": "stdout",
     "output_type": "stream",
     "text": [
      "('Happy', 'monday', 'Everyone')\n"
     ]
    }
   ],
   "source": [
    "print(mystr)"
   ]
  },
  {
   "cell_type": "code",
   "execution_count": 117,
   "id": "14bb1ad8",
   "metadata": {},
   "outputs": [],
   "source": [
    "mystr2 = 'woohoo '\n",
    "mystr2 = mystr2*5"
   ]
  },
  {
   "cell_type": "code",
   "execution_count": 118,
   "id": "27f1b419",
   "metadata": {},
   "outputs": [
    {
     "data": {
      "text/plain": [
       "'woohoo woohoo woohoo woohoo woohoo '"
      ]
     },
     "execution_count": 118,
     "metadata": {},
     "output_type": "execute_result"
    }
   ],
   "source": [
    "mystr2"
   ]
  },
  {
   "cell_type": "code",
   "execution_count": 119,
   "id": "66a6bae4",
   "metadata": {},
   "outputs": [
    {
     "data": {
      "text/plain": [
       "35"
      ]
     },
     "execution_count": 119,
     "metadata": {},
     "output_type": "execute_result"
    }
   ],
   "source": [
    "len(mystr2)\n"
   ]
  },
  {
   "cell_type": "code",
   "execution_count": 120,
   "id": "f92d5f93",
   "metadata": {},
   "outputs": [
    {
     "data": {
      "text/plain": [
       "'Hello python'"
      ]
     },
     "execution_count": 120,
     "metadata": {},
     "output_type": "execute_result"
    }
   ],
   "source": [
    "str1"
   ]
  },
  {
   "cell_type": "code",
   "execution_count": 121,
   "id": "a0aa8a8a",
   "metadata": {},
   "outputs": [
    {
     "data": {
      "text/plain": [
       "'H'"
      ]
     },
     "execution_count": 121,
     "metadata": {},
     "output_type": "execute_result"
    }
   ],
   "source": [
    "str1[0]"
   ]
  },
  {
   "cell_type": "code",
   "execution_count": 122,
   "id": "f4228406",
   "metadata": {},
   "outputs": [
    {
     "data": {
      "text/plain": [
       "'n'"
      ]
     },
     "execution_count": 122,
     "metadata": {},
     "output_type": "execute_result"
    }
   ],
   "source": [
    "str1[-1]"
   ]
  },
  {
   "cell_type": "code",
   "execution_count": 125,
   "id": "6bb165da",
   "metadata": {},
   "outputs": [
    {
     "data": {
      "text/plain": [
       "'n'"
      ]
     },
     "execution_count": 125,
     "metadata": {},
     "output_type": "execute_result"
    }
   ],
   "source": [
    "str1[len(str1)-1]"
   ]
  },
  {
   "cell_type": "code",
   "execution_count": 126,
   "id": "f21b66a5",
   "metadata": {},
   "outputs": [
    {
     "data": {
      "text/plain": [
       "'p'"
      ]
     },
     "execution_count": 126,
     "metadata": {},
     "output_type": "execute_result"
    }
   ],
   "source": [
    "str1[6]"
   ]
  },
  {
   "cell_type": "code",
   "execution_count": 127,
   "id": "1bab7f52",
   "metadata": {},
   "outputs": [
    {
     "data": {
      "text/plain": [
       "' '"
      ]
     },
     "execution_count": 127,
     "metadata": {},
     "output_type": "execute_result"
    }
   ],
   "source": [
    "str1[5]"
   ]
  },
  {
   "cell_type": "code",
   "execution_count": 128,
   "id": "2e60ba27",
   "metadata": {},
   "outputs": [
    {
     "data": {
      "text/plain": [
       "'Hello'"
      ]
     },
     "execution_count": 128,
     "metadata": {},
     "output_type": "execute_result"
    }
   ],
   "source": [
    "str1[0:5]"
   ]
  },
  {
   "cell_type": "code",
   "execution_count": 129,
   "id": "97bb8253",
   "metadata": {},
   "outputs": [
    {
     "data": {
      "text/plain": [
       "'python'"
      ]
     },
     "execution_count": 129,
     "metadata": {},
     "output_type": "execute_result"
    }
   ],
   "source": [
    "str1[6:12]"
   ]
  },
  {
   "cell_type": "code",
   "execution_count": 131,
   "id": "8910ce84",
   "metadata": {},
   "outputs": [
    {
     "data": {
      "text/plain": [
       "'thon'"
      ]
     },
     "execution_count": 131,
     "metadata": {},
     "output_type": "execute_result"
    }
   ],
   "source": [
    "str1[-4:]"
   ]
  },
  {
   "cell_type": "code",
   "execution_count": 132,
   "id": "f85156aa",
   "metadata": {},
   "outputs": [
    {
     "data": {
      "text/plain": [
       "'Hello py'"
      ]
     },
     "execution_count": 132,
     "metadata": {},
     "output_type": "execute_result"
    }
   ],
   "source": [
    "str1[:-4]"
   ]
  },
  {
   "cell_type": "code",
   "execution_count": 133,
   "id": "62e3b380",
   "metadata": {},
   "outputs": [
    {
     "data": {
      "text/plain": [
       "'python'"
      ]
     },
     "execution_count": 133,
     "metadata": {},
     "output_type": "execute_result"
    }
   ],
   "source": [
    "str1[-6:]"
   ]
  },
  {
   "cell_type": "code",
   "execution_count": 134,
   "id": "1f8e8734",
   "metadata": {},
   "outputs": [
    {
     "data": {
      "text/plain": [
       "'Hell'"
      ]
     },
     "execution_count": 134,
     "metadata": {},
     "output_type": "execute_result"
    }
   ],
   "source": [
    "str1[:4]"
   ]
  },
  {
   "cell_type": "code",
   "execution_count": 135,
   "id": "ffafefb5",
   "metadata": {},
   "outputs": [
    {
     "data": {
      "text/plain": [
       "'Hello '"
      ]
     },
     "execution_count": 135,
     "metadata": {},
     "output_type": "execute_result"
    }
   ],
   "source": [
    "str1[:6]"
   ]
  },
  {
   "cell_type": "code",
   "execution_count": 136,
   "id": "a6376880",
   "metadata": {},
   "outputs": [
    {
     "data": {
      "text/plain": [
       "'Hello python'"
      ]
     },
     "execution_count": 136,
     "metadata": {},
     "output_type": "execute_result"
    }
   ],
   "source": [
    "str1"
   ]
  },
  {
   "cell_type": "code",
   "execution_count": 138,
   "id": "fbb09e40",
   "metadata": {},
   "outputs": [
    {
     "ename": "TypeError",
     "evalue": "'str' object does not support item assignment",
     "output_type": "error",
     "traceback": [
      "\u001b[1;31m---------------------------------------------------------------------------\u001b[0m",
      "\u001b[1;31mTypeError\u001b[0m                                 Traceback (most recent call last)",
      "\u001b[1;32m<ipython-input-138-19059556dc13>\u001b[0m in \u001b[0;36m<module>\u001b[1;34m\u001b[0m\n\u001b[1;32m----> 1\u001b[1;33m \u001b[0mstr1\u001b[0m\u001b[1;33m[\u001b[0m\u001b[1;36m0\u001b[0m\u001b[1;33m:\u001b[0m\u001b[1;36m5\u001b[0m\u001b[1;33m]\u001b[0m \u001b[1;33m=\u001b[0m \u001b[1;34m'india'\u001b[0m\u001b[1;33m\u001b[0m\u001b[1;33m\u001b[0m\u001b[0m\n\u001b[0m",
      "\u001b[1;31mTypeError\u001b[0m: 'str' object does not support item assignment"
     ]
    }
   ],
   "source": [
    "str1[0:5] = 'india'"
   ]
  },
  {
   "cell_type": "code",
   "execution_count": 139,
   "id": "08929906",
   "metadata": {},
   "outputs": [],
   "source": [
    "del str1"
   ]
  },
  {
   "cell_type": "code",
   "execution_count": 140,
   "id": "bb495709",
   "metadata": {},
   "outputs": [
    {
     "ename": "NameError",
     "evalue": "name 'str1' is not defined",
     "output_type": "error",
     "traceback": [
      "\u001b[1;31m---------------------------------------------------------------------------\u001b[0m",
      "\u001b[1;31mNameError\u001b[0m                                 Traceback (most recent call last)",
      "\u001b[1;32m<ipython-input-140-3a5be569e6ba>\u001b[0m in \u001b[0;36m<module>\u001b[1;34m\u001b[0m\n\u001b[1;32m----> 1\u001b[1;33m \u001b[0mstr1\u001b[0m\u001b[1;33m\u001b[0m\u001b[1;33m\u001b[0m\u001b[0m\n\u001b[0m",
      "\u001b[1;31mNameError\u001b[0m: name 'str1' is not defined"
     ]
    }
   ],
   "source": [
    "str1"
   ]
  },
  {
   "cell_type": "code",
   "execution_count": 149,
   "id": "be103533",
   "metadata": {},
   "outputs": [],
   "source": [
    "s1 = \"Hello\"\n",
    "s2 = \"Sanjay\"\n",
    "\n",
    "s3 = s1 + \" + \" + s2"
   ]
  },
  {
   "cell_type": "code",
   "execution_count": 150,
   "id": "b0789da2",
   "metadata": {},
   "outputs": [
    {
     "name": "stdout",
     "output_type": "stream",
     "text": [
      "Hello + Sanjay\n"
     ]
    }
   ],
   "source": [
    "print(s3)"
   ]
  },
  {
   "cell_type": "code",
   "execution_count": 151,
   "id": "80fee483",
   "metadata": {},
   "outputs": [],
   "source": [
    "mystr1 = \"Hello Everyone\""
   ]
  },
  {
   "cell_type": "code",
   "execution_count": 152,
   "id": "f068386c",
   "metadata": {},
   "outputs": [
    {
     "name": "stdout",
     "output_type": "stream",
     "text": [
      "H\n",
      "e\n",
      "l\n",
      "l\n",
      "o\n",
      " \n",
      "E\n",
      "v\n",
      "e\n",
      "r\n",
      "y\n",
      "o\n",
      "n\n",
      "e\n"
     ]
    }
   ],
   "source": [
    "for i in mystr1:\n",
    "    print(i)"
   ]
  },
  {
   "cell_type": "code",
   "execution_count": 154,
   "id": "917ea1c3",
   "metadata": {},
   "outputs": [
    {
     "name": "stdout",
     "output_type": "stream",
     "text": [
      "(0, 'H')\n",
      "(1, 'e')\n",
      "(2, 'l')\n",
      "(3, 'l')\n",
      "(4, 'o')\n",
      "(5, ' ')\n",
      "(6, 'E')\n",
      "(7, 'v')\n",
      "(8, 'e')\n",
      "(9, 'r')\n",
      "(10, 'y')\n",
      "(11, 'o')\n",
      "(12, 'n')\n",
      "(13, 'e')\n"
     ]
    }
   ],
   "source": [
    "for i in enumerate(mystr1):\n",
    "    print(i)"
   ]
  },
  {
   "cell_type": "code",
   "execution_count": 157,
   "id": "3d146f9f",
   "metadata": {},
   "outputs": [
    {
     "data": {
      "text/plain": [
       "[(0, 'H'),\n",
       " (1, 'e'),\n",
       " (2, 'l'),\n",
       " (3, 'l'),\n",
       " (4, 'o'),\n",
       " (5, ' '),\n",
       " (6, 'E'),\n",
       " (7, 'v'),\n",
       " (8, 'e'),\n",
       " (9, 'r'),\n",
       " (10, 'y'),\n",
       " (11, 'o'),\n",
       " (12, 'n'),\n",
       " (13, 'e')]"
      ]
     },
     "execution_count": 157,
     "metadata": {},
     "output_type": "execute_result"
    }
   ],
   "source": [
    "list(enumerate(mystr1))"
   ]
  },
  {
   "cell_type": "code",
   "execution_count": 158,
   "id": "77215589",
   "metadata": {},
   "outputs": [
    {
     "data": {
      "text/plain": [
       "'Hello Everyone'"
      ]
     },
     "execution_count": 158,
     "metadata": {},
     "output_type": "execute_result"
    }
   ],
   "source": [
    "mystr1"
   ]
  },
  {
   "cell_type": "code",
   "execution_count": 160,
   "id": "6a24ef8c",
   "metadata": {},
   "outputs": [
    {
     "name": "stdout",
     "output_type": "stream",
     "text": [
      "True\n"
     ]
    }
   ],
   "source": [
    "print('Hello' in mystr1)"
   ]
  },
  {
   "cell_type": "code",
   "execution_count": 161,
   "id": "996b8d8f",
   "metadata": {},
   "outputs": [
    {
     "data": {
      "text/plain": [
       "True"
      ]
     },
     "execution_count": 161,
     "metadata": {},
     "output_type": "execute_result"
    }
   ],
   "source": [
    "'l' in mystr1"
   ]
  },
  {
   "cell_type": "code",
   "execution_count": 162,
   "id": "ab5dea16",
   "metadata": {},
   "outputs": [
    {
     "data": {
      "text/plain": [
       "True"
      ]
     },
     "execution_count": 162,
     "metadata": {},
     "output_type": "execute_result"
    }
   ],
   "source": [
    "'Everyone' in  mystr1"
   ]
  },
  {
   "cell_type": "code",
   "execution_count": 163,
   "id": "efdca190",
   "metadata": {},
   "outputs": [
    {
     "data": {
      "text/plain": [
       "False"
      ]
     },
     "execution_count": 163,
     "metadata": {},
     "output_type": "execute_result"
    }
   ],
   "source": [
    "'Hi' in mystr1"
   ]
  },
  {
   "cell_type": "code",
   "execution_count": 164,
   "id": "7c01781f",
   "metadata": {},
   "outputs": [],
   "source": [
    "str5 = \"Natural language processing with Python and R and Java\""
   ]
  },
  {
   "cell_type": "code",
   "execution_count": 166,
   "id": "46c070ef",
   "metadata": {},
   "outputs": [
    {
     "data": {
      "text/plain": [
       "('Natural language processing with Python ', 'and', ' R and Java')"
      ]
     },
     "execution_count": 166,
     "metadata": {},
     "output_type": "execute_result"
    }
   ],
   "source": [
    "str5.partition('and')"
   ]
  },
  {
   "cell_type": "code",
   "execution_count": 167,
   "id": "a8499cc5",
   "metadata": {},
   "outputs": [
    {
     "data": {
      "text/plain": [
       "('Natural language processing with Python and R ', 'and', ' Java')"
      ]
     },
     "execution_count": 167,
     "metadata": {},
     "output_type": "execute_result"
    }
   ],
   "source": [
    "str5.rpartition('and')"
   ]
  },
  {
   "cell_type": "code",
   "execution_count": 168,
   "id": "76671032",
   "metadata": {},
   "outputs": [],
   "source": [
    "mystr2 = \"   Heello Everyone   \""
   ]
  },
  {
   "cell_type": "code",
   "execution_count": 169,
   "id": "4ae541b9",
   "metadata": {},
   "outputs": [
    {
     "data": {
      "text/plain": [
       "'Heello Everyone   '"
      ]
     },
     "execution_count": 169,
     "metadata": {},
     "output_type": "execute_result"
    }
   ],
   "source": [
    "mystr2.lstrip()"
   ]
  },
  {
   "cell_type": "code",
   "execution_count": 170,
   "id": "1cbae11e",
   "metadata": {},
   "outputs": [
    {
     "data": {
      "text/plain": [
       "'   Heello Everyone   '"
      ]
     },
     "execution_count": 170,
     "metadata": {},
     "output_type": "execute_result"
    }
   ],
   "source": [
    "mystr2"
   ]
  },
  {
   "cell_type": "code",
   "execution_count": 172,
   "id": "3303f7db",
   "metadata": {},
   "outputs": [
    {
     "data": {
      "text/plain": [
       "'   Heello Everyone'"
      ]
     },
     "execution_count": 172,
     "metadata": {},
     "output_type": "execute_result"
    }
   ],
   "source": [
    "mystr2.rstrip()"
   ]
  },
  {
   "cell_type": "code",
   "execution_count": 173,
   "id": "02cb842a",
   "metadata": {},
   "outputs": [
    {
     "data": {
      "text/plain": [
       "'Heello Everyone'"
      ]
     },
     "execution_count": 173,
     "metadata": {},
     "output_type": "execute_result"
    }
   ],
   "source": [
    "mystr2.strip()"
   ]
  },
  {
   "cell_type": "code",
   "execution_count": 176,
   "id": "5834d943",
   "metadata": {},
   "outputs": [],
   "source": [
    "mystr2 = \"***************Hello everyone**********All the best*************\""
   ]
  },
  {
   "cell_type": "code",
   "execution_count": 177,
   "id": "e6bd0c9d",
   "metadata": {},
   "outputs": [
    {
     "data": {
      "text/plain": [
       "'***************Hello everyone**********All the best*************'"
      ]
     },
     "execution_count": 177,
     "metadata": {},
     "output_type": "execute_result"
    }
   ],
   "source": [
    "mystr2"
   ]
  },
  {
   "cell_type": "code",
   "execution_count": 179,
   "id": "e1bc3fcd",
   "metadata": {},
   "outputs": [
    {
     "data": {
      "text/plain": [
       "'Hello everyone**********All the best'"
      ]
     },
     "execution_count": 179,
     "metadata": {},
     "output_type": "execute_result"
    }
   ],
   "source": [
    "mystr2.strip('*')"
   ]
  },
  {
   "cell_type": "code",
   "execution_count": 181,
   "id": "39552d50",
   "metadata": {},
   "outputs": [
    {
     "data": {
      "text/plain": [
       "'Hello everyone**********All the best*************'"
      ]
     },
     "execution_count": 181,
     "metadata": {},
     "output_type": "execute_result"
    }
   ],
   "source": [
    "mystr2.lstrip('*')"
   ]
  },
  {
   "cell_type": "code",
   "execution_count": 182,
   "id": "8adc36b0",
   "metadata": {},
   "outputs": [
    {
     "data": {
      "text/plain": [
       "'***************Hello everyone**********All the best'"
      ]
     },
     "execution_count": 182,
     "metadata": {},
     "output_type": "execute_result"
    }
   ],
   "source": [
    "mystr2.rstrip('*')"
   ]
  },
  {
   "cell_type": "code",
   "execution_count": 183,
   "id": "cbeef59c",
   "metadata": {},
   "outputs": [],
   "source": [
    "mystr2 = 'Hello Everyone'"
   ]
  },
  {
   "cell_type": "code",
   "execution_count": 184,
   "id": "7ee9fb53",
   "metadata": {},
   "outputs": [
    {
     "data": {
      "text/plain": [
       "'hello everyone'"
      ]
     },
     "execution_count": 184,
     "metadata": {},
     "output_type": "execute_result"
    }
   ],
   "source": [
    "mystr2.lower()"
   ]
  },
  {
   "cell_type": "code",
   "execution_count": 185,
   "id": "2304a643",
   "metadata": {},
   "outputs": [
    {
     "data": {
      "text/plain": [
       "'HELLO EVERYONE'"
      ]
     },
     "execution_count": 185,
     "metadata": {},
     "output_type": "execute_result"
    }
   ],
   "source": [
    "mystr2.upper()"
   ]
  },
  {
   "cell_type": "code",
   "execution_count": 186,
   "id": "b0c044e8",
   "metadata": {},
   "outputs": [
    {
     "data": {
      "text/plain": [
       "'Hello everyone'"
      ]
     },
     "execution_count": 186,
     "metadata": {},
     "output_type": "execute_result"
    }
   ],
   "source": [
    "mystr2.capitalize()"
   ]
  },
  {
   "cell_type": "code",
   "execution_count": 187,
   "id": "298549b9",
   "metadata": {},
   "outputs": [
    {
     "data": {
      "text/plain": [
       "'Goodmorning Everyone'"
      ]
     },
     "execution_count": 187,
     "metadata": {},
     "output_type": "execute_result"
    }
   ],
   "source": [
    "mystr2.replace('Hello', 'Goodmorning')"
   ]
  },
  {
   "cell_type": "code",
   "execution_count": 188,
   "id": "71089de8",
   "metadata": {},
   "outputs": [
    {
     "data": {
      "text/plain": [
       "'HelloEveryone'"
      ]
     },
     "execution_count": 188,
     "metadata": {},
     "output_type": "execute_result"
    }
   ],
   "source": [
    "mystr2.replace(\" \", \"\")"
   ]
  },
  {
   "cell_type": "code",
   "execution_count": 191,
   "id": "054c2ec6",
   "metadata": {},
   "outputs": [],
   "source": [
    "mystr5 = \"one two Three one two two three\""
   ]
  },
  {
   "cell_type": "code",
   "execution_count": 192,
   "id": "2d9bf10f",
   "metadata": {},
   "outputs": [
    {
     "data": {
      "text/plain": [
       "2"
      ]
     },
     "execution_count": 192,
     "metadata": {},
     "output_type": "execute_result"
    }
   ],
   "source": [
    "mystr5.count('one')"
   ]
  },
  {
   "cell_type": "code",
   "execution_count": 193,
   "id": "51fc63e6",
   "metadata": {},
   "outputs": [
    {
     "data": {
      "text/plain": [
       "3"
      ]
     },
     "execution_count": 193,
     "metadata": {},
     "output_type": "execute_result"
    }
   ],
   "source": [
    "mystr5.count('two')"
   ]
  },
  {
   "cell_type": "code",
   "execution_count": 194,
   "id": "4f4c1060",
   "metadata": {},
   "outputs": [
    {
     "data": {
      "text/plain": [
       "True"
      ]
     },
     "execution_count": 194,
     "metadata": {},
     "output_type": "execute_result"
    }
   ],
   "source": [
    "mystr5.startswith('one')"
   ]
  },
  {
   "cell_type": "code",
   "execution_count": 195,
   "id": "b00a2066",
   "metadata": {},
   "outputs": [
    {
     "data": {
      "text/plain": [
       "False"
      ]
     },
     "execution_count": 195,
     "metadata": {},
     "output_type": "execute_result"
    }
   ],
   "source": [
    "mystr5.startswith('two')"
   ]
  },
  {
   "cell_type": "code",
   "execution_count": 196,
   "id": "9a9c2f1c",
   "metadata": {},
   "outputs": [
    {
     "data": {
      "text/plain": [
       "False"
      ]
     },
     "execution_count": 196,
     "metadata": {},
     "output_type": "execute_result"
    }
   ],
   "source": [
    "mystr5.endswith('two')"
   ]
  },
  {
   "cell_type": "code",
   "execution_count": 197,
   "id": "fdfc4fc8",
   "metadata": {},
   "outputs": [
    {
     "data": {
      "text/plain": [
       "True"
      ]
     },
     "execution_count": 197,
     "metadata": {},
     "output_type": "execute_result"
    }
   ],
   "source": [
    "mystr5.endswith('three')"
   ]
  },
  {
   "cell_type": "code",
   "execution_count": 198,
   "id": "93b0c755",
   "metadata": {},
   "outputs": [],
   "source": [
    "mystr4 = \"one two three four one two two three five five six seven six seven one\""
   ]
  },
  {
   "cell_type": "code",
   "execution_count": 199,
   "id": "9aaf47eb",
   "metadata": {},
   "outputs": [
    {
     "data": {
      "text/plain": [
       "['one',\n",
       " 'two',\n",
       " 'three',\n",
       " 'four',\n",
       " 'one',\n",
       " 'two',\n",
       " 'two',\n",
       " 'three',\n",
       " 'five',\n",
       " 'five',\n",
       " 'six',\n",
       " 'seven',\n",
       " 'six',\n",
       " 'seven',\n",
       " 'one']"
      ]
     },
     "execution_count": 199,
     "metadata": {},
     "output_type": "execute_result"
    }
   ],
   "source": [
    "mystr4.split()"
   ]
  },
  {
   "cell_type": "code",
   "execution_count": 200,
   "id": "0f365572",
   "metadata": {},
   "outputs": [],
   "source": [
    "item1 = 40\n",
    "item2 = 55\n",
    "item3 = 77"
   ]
  },
  {
   "cell_type": "code",
   "execution_count": 201,
   "id": "5a684141",
   "metadata": {},
   "outputs": [
    {
     "name": "stdout",
     "output_type": "stream",
     "text": [
      "cost of item1 40, item2 55, and item3 are 77\n"
     ]
    }
   ],
   "source": [
    "print(\"cost of item1 {}, item2 {}, and item3 are {}\".format(item1,item2,item3))"
   ]
  },
  {
   "cell_type": "code",
   "execution_count": 2,
   "id": "c9b0fb7f",
   "metadata": {},
   "outputs": [],
   "source": [
    "mytuple=('one','two','three','four','five','six','seven','eight')"
   ]
  },
  {
   "cell_type": "code",
   "execution_count": 3,
   "id": "55efea10",
   "metadata": {},
   "outputs": [
    {
     "data": {
      "text/plain": [
       "True"
      ]
     },
     "execution_count": 3,
     "metadata": {},
     "output_type": "execute_result"
    }
   ],
   "source": [
    "\"one\" in mytuple"
   ]
  },
  {
   "cell_type": "code",
   "execution_count": 4,
   "id": "ae97c556",
   "metadata": {},
   "outputs": [
    {
     "data": {
      "text/plain": [
       "False"
      ]
     },
     "execution_count": 4,
     "metadata": {},
     "output_type": "execute_result"
    }
   ],
   "source": [
    "'nine' in mytuple"
   ]
  },
  {
   "cell_type": "code",
   "execution_count": 6,
   "id": "b214d4e3",
   "metadata": {},
   "outputs": [
    {
     "name": "stdout",
     "output_type": "stream",
     "text": [
      "three is not presrentr\n"
     ]
    }
   ],
   "source": [
    "if 'twelve' in mytuple:\n",
    "    print(\"thtree is presemt in yjhe tuple\")\n",
    "else:\n",
    "    print('three is not presrentr')"
   ]
  },
  {
   "cell_type": "code",
   "execution_count": 7,
   "id": "c04deddd",
   "metadata": {},
   "outputs": [
    {
     "data": {
      "text/plain": [
       "('one', 'two', 'three', 'four', 'five', 'six', 'seven', 'eight')"
      ]
     },
     "execution_count": 7,
     "metadata": {},
     "output_type": "execute_result"
    }
   ],
   "source": [
    "mytuple"
   ]
  },
  {
   "cell_type": "code",
   "execution_count": 8,
   "id": "8be909f1",
   "metadata": {},
   "outputs": [
    {
     "data": {
      "text/plain": [
       "1"
      ]
     },
     "execution_count": 8,
     "metadata": {},
     "output_type": "execute_result"
    }
   ],
   "source": [
    "mytuple.count('four')"
   ]
  },
  {
   "cell_type": "code",
   "execution_count": 9,
   "id": "2402b89c",
   "metadata": {},
   "outputs": [
    {
     "data": {
      "text/plain": [
       "3"
      ]
     },
     "execution_count": 9,
     "metadata": {},
     "output_type": "execute_result"
    }
   ],
   "source": [
    "mytuple.index('four')"
   ]
  },
  {
   "cell_type": "code",
   "execution_count": 10,
   "id": "e05ead58",
   "metadata": {},
   "outputs": [
    {
     "data": {
      "text/plain": [
       "4"
      ]
     },
     "execution_count": 10,
     "metadata": {},
     "output_type": "execute_result"
    }
   ],
   "source": [
    "mytuple.index('five')"
   ]
  },
  {
   "cell_type": "code",
   "execution_count": 11,
   "id": "2f6d6c07",
   "metadata": {},
   "outputs": [
    {
     "data": {
      "text/plain": [
       "0"
      ]
     },
     "execution_count": 11,
     "metadata": {},
     "output_type": "execute_result"
    }
   ],
   "source": [
    "mytuple.index('one')"
   ]
  },
  {
   "cell_type": "code",
   "execution_count": 12,
   "id": "32bbe86e",
   "metadata": {},
   "outputs": [],
   "source": [
    "mytuple2 = [43,66,25,38,90,45,0,7]"
   ]
  },
  {
   "cell_type": "code",
   "execution_count": 13,
   "id": "2a90c23c",
   "metadata": {},
   "outputs": [
    {
     "data": {
      "text/plain": [
       "[0, 7, 25, 38, 43, 45, 66, 90]"
      ]
     },
     "execution_count": 13,
     "metadata": {},
     "output_type": "execute_result"
    }
   ],
   "source": [
    "sorted(mytuple2)"
   ]
  },
  {
   "cell_type": "code",
   "execution_count": 14,
   "id": "94a0998e",
   "metadata": {},
   "outputs": [
    {
     "data": {
      "text/plain": [
       "[43, 66, 25, 38, 90, 45, 0, 7]"
      ]
     },
     "execution_count": 14,
     "metadata": {},
     "output_type": "execute_result"
    }
   ],
   "source": [
    "mytuple2"
   ]
  },
  {
   "cell_type": "code",
   "execution_count": 15,
   "id": "b27fa884",
   "metadata": {},
   "outputs": [
    {
     "data": {
      "text/plain": [
       "[90, 66, 45, 43, 38, 25, 7, 0]"
      ]
     },
     "execution_count": 15,
     "metadata": {},
     "output_type": "execute_result"
    }
   ],
   "source": [
    "sorted(mytuple2,reverse=True)"
   ]
  },
  {
   "cell_type": "code",
   "execution_count": 20,
   "id": "d1f8a4f5",
   "metadata": {},
   "outputs": [],
   "source": [
    "myset = {1}"
   ]
  },
  {
   "cell_type": "code",
   "execution_count": 21,
   "id": "40fd266c",
   "metadata": {},
   "outputs": [
    {
     "data": {
      "text/plain": [
       "set"
      ]
     },
     "execution_count": 21,
     "metadata": {},
     "output_type": "execute_result"
    }
   ],
   "source": [
    "type(myset)"
   ]
  },
  {
   "cell_type": "code",
   "execution_count": 22,
   "id": "1fcc59d1",
   "metadata": {},
   "outputs": [],
   "source": [
    "myset = set()"
   ]
  },
  {
   "cell_type": "code",
   "execution_count": 23,
   "id": "12db0a07",
   "metadata": {},
   "outputs": [
    {
     "data": {
      "text/plain": [
       "set"
      ]
     },
     "execution_count": 23,
     "metadata": {},
     "output_type": "execute_result"
    }
   ],
   "source": [
    "type(myset)"
   ]
  },
  {
   "cell_type": "code",
   "execution_count": 26,
   "id": "38595898",
   "metadata": {},
   "outputs": [],
   "source": [
    "myset = {1,2,3,4,45,45,4,3,2,2}"
   ]
  },
  {
   "cell_type": "code",
   "execution_count": 27,
   "id": "bc2f4479",
   "metadata": {},
   "outputs": [
    {
     "data": {
      "text/plain": [
       "5"
      ]
     },
     "execution_count": 27,
     "metadata": {},
     "output_type": "execute_result"
    }
   ],
   "source": [
    "len(myset)"
   ]
  },
  {
   "cell_type": "code",
   "execution_count": 28,
   "id": "3c3a6fc8",
   "metadata": {},
   "outputs": [
    {
     "data": {
      "text/plain": [
       "{1, 2, 3, 4, 45}"
      ]
     },
     "execution_count": 28,
     "metadata": {},
     "output_type": "execute_result"
    }
   ],
   "source": [
    "myset"
   ]
  },
  {
   "cell_type": "code",
   "execution_count": 33,
   "id": "f3c219b2",
   "metadata": {},
   "outputs": [],
   "source": [
    "my_set1=set(('one','two','three','four'))"
   ]
  },
  {
   "cell_type": "code",
   "execution_count": 34,
   "id": "eb8dadda",
   "metadata": {},
   "outputs": [
    {
     "data": {
      "text/plain": [
       "{'four', 'one', 'three', 'two'}"
      ]
     },
     "execution_count": 34,
     "metadata": {},
     "output_type": "execute_result"
    }
   ],
   "source": [
    "my_set1"
   ]
  },
  {
   "cell_type": "code",
   "execution_count": 75,
   "id": "76be7ba6",
   "metadata": {},
   "outputs": [],
   "source": [
    "myset = {'one', 'two', 'three', 'four', 'five', 'six', 'seven', 'eight'}"
   ]
  },
  {
   "cell_type": "code",
   "execution_count": 41,
   "id": "01f40277",
   "metadata": {},
   "outputs": [
    {
     "name": "stdout",
     "output_type": "stream",
     "text": [
      "(0, 'six')\n",
      "(1, 'seven')\n",
      "(2, 'five')\n",
      "(3, 'one')\n",
      "(4, 'two')\n",
      "(5, 'three')\n",
      "(6, 'eight')\n",
      "(7, 'four')\n"
     ]
    }
   ],
   "source": [
    "for i in enumerate(myset):\n",
    "    print(i)"
   ]
  },
  {
   "cell_type": "code",
   "execution_count": 42,
   "id": "801f01e5",
   "metadata": {},
   "outputs": [
    {
     "data": {
      "text/plain": [
       "True"
      ]
     },
     "execution_count": 42,
     "metadata": {},
     "output_type": "execute_result"
    }
   ],
   "source": [
    "'one' in myset"
   ]
  },
  {
   "cell_type": "code",
   "execution_count": 43,
   "id": "6399e5bf",
   "metadata": {},
   "outputs": [
    {
     "data": {
      "text/plain": [
       "True"
      ]
     },
     "execution_count": 43,
     "metadata": {},
     "output_type": "execute_result"
    }
   ],
   "source": [
    "\n",
    "'eight' in myset"
   ]
  },
  {
   "cell_type": "code",
   "execution_count": 44,
   "id": "484ea6ef",
   "metadata": {},
   "outputs": [
    {
     "data": {
      "text/plain": [
       "False"
      ]
     },
     "execution_count": 44,
     "metadata": {},
     "output_type": "execute_result"
    }
   ],
   "source": [
    "'twelve' in myset"
   ]
  },
  {
   "cell_type": "code",
   "execution_count": 46,
   "id": "22465658",
   "metadata": {},
   "outputs": [
    {
     "name": "stdout",
     "output_type": "stream",
     "text": [
      "not availble\n"
     ]
    }
   ],
   "source": [
    "if 'ten' in myset:\n",
    "    print('three is available')\n",
    "else:\n",
    "    print('not availble')"
   ]
  },
  {
   "cell_type": "code",
   "execution_count": 58,
   "id": "b6d65306",
   "metadata": {},
   "outputs": [],
   "source": [
    "myset.add('nine')"
   ]
  },
  {
   "cell_type": "code",
   "execution_count": 59,
   "id": "53665be9",
   "metadata": {},
   "outputs": [
    {
     "data": {
      "text/plain": [
       "{'eight', 'five', 'four', 'nine', 'one', 'seven', 'six', 'three', 'two'}"
      ]
     },
     "execution_count": 59,
     "metadata": {},
     "output_type": "execute_result"
    }
   ],
   "source": [
    "myset"
   ]
  },
  {
   "cell_type": "code",
   "execution_count": 60,
   "id": "018c3420",
   "metadata": {},
   "outputs": [],
   "source": [
    "myset.update([ 'eleven','twelve'])"
   ]
  },
  {
   "cell_type": "code",
   "execution_count": 61,
   "id": "0fe0c9b0",
   "metadata": {},
   "outputs": [
    {
     "data": {
      "text/plain": [
       "{'eight',\n",
       " 'eleven',\n",
       " 'five',\n",
       " 'four',\n",
       " 'nine',\n",
       " 'one',\n",
       " 'seven',\n",
       " 'six',\n",
       " 'three',\n",
       " 'twelve',\n",
       " 'two'}"
      ]
     },
     "execution_count": 61,
     "metadata": {},
     "output_type": "execute_result"
    }
   ],
   "source": [
    "myset"
   ]
  },
  {
   "cell_type": "code",
   "execution_count": 62,
   "id": "8503bdff",
   "metadata": {},
   "outputs": [],
   "source": [
    "myset.remove('two')"
   ]
  },
  {
   "cell_type": "code",
   "execution_count": 63,
   "id": "afbff449",
   "metadata": {},
   "outputs": [
    {
     "data": {
      "text/plain": [
       "{'eight',\n",
       " 'eleven',\n",
       " 'five',\n",
       " 'four',\n",
       " 'nine',\n",
       " 'one',\n",
       " 'seven',\n",
       " 'six',\n",
       " 'three',\n",
       " 'twelve'}"
      ]
     },
     "execution_count": 63,
     "metadata": {},
     "output_type": "execute_result"
    }
   ],
   "source": [
    "myset"
   ]
  },
  {
   "cell_type": "code",
   "execution_count": 64,
   "id": "bfa4f42e",
   "metadata": {},
   "outputs": [],
   "source": [
    "myset.discard('seven')"
   ]
  },
  {
   "cell_type": "code",
   "execution_count": 65,
   "id": "7ef1f22f",
   "metadata": {},
   "outputs": [
    {
     "data": {
      "text/plain": [
       "{'eight', 'eleven', 'five', 'four', 'nine', 'one', 'six', 'three', 'twelve'}"
      ]
     },
     "execution_count": 65,
     "metadata": {},
     "output_type": "execute_result"
    }
   ],
   "source": [
    "myset"
   ]
  },
  {
   "cell_type": "code",
   "execution_count": 67,
   "id": "de5dc2d5",
   "metadata": {},
   "outputs": [],
   "source": [
    "myset.clear()"
   ]
  },
  {
   "cell_type": "code",
   "execution_count": 68,
   "id": "a1efac5f",
   "metadata": {},
   "outputs": [
    {
     "data": {
      "text/plain": [
       "set()"
      ]
     },
     "execution_count": 68,
     "metadata": {},
     "output_type": "execute_result"
    }
   ],
   "source": [
    "myset"
   ]
  },
  {
   "cell_type": "code",
   "execution_count": 69,
   "id": "b4a03122",
   "metadata": {},
   "outputs": [],
   "source": [
    "del myset"
   ]
  },
  {
   "cell_type": "code",
   "execution_count": 70,
   "id": "e25aa05e",
   "metadata": {},
   "outputs": [
    {
     "ename": "NameError",
     "evalue": "name 'myset' is not defined",
     "output_type": "error",
     "traceback": [
      "\u001b[1;31m---------------------------------------------------------------------------\u001b[0m",
      "\u001b[1;31mNameError\u001b[0m                                 Traceback (most recent call last)",
      "\u001b[1;32m<ipython-input-70-0bed7c2fb20c>\u001b[0m in \u001b[0;36m<module>\u001b[1;34m\u001b[0m\n\u001b[1;32m----> 1\u001b[1;33m \u001b[0mmyset\u001b[0m\u001b[1;33m\u001b[0m\u001b[1;33m\u001b[0m\u001b[0m\n\u001b[0m",
      "\u001b[1;31mNameError\u001b[0m: name 'myset' is not defined"
     ]
    }
   ],
   "source": [
    "myset"
   ]
  },
  {
   "cell_type": "code",
   "execution_count": 76,
   "id": "27b7832f",
   "metadata": {},
   "outputs": [],
   "source": [
    "myset1 = myset"
   ]
  },
  {
   "cell_type": "code",
   "execution_count": 77,
   "id": "7df9d4a1",
   "metadata": {},
   "outputs": [
    {
     "data": {
      "text/plain": [
       "1434239598368"
      ]
     },
     "execution_count": 77,
     "metadata": {},
     "output_type": "execute_result"
    }
   ],
   "source": [
    "id(myset1)"
   ]
  },
  {
   "cell_type": "code",
   "execution_count": 78,
   "id": "44069380",
   "metadata": {},
   "outputs": [
    {
     "data": {
      "text/plain": [
       "1434239598368"
      ]
     },
     "execution_count": 78,
     "metadata": {},
     "output_type": "execute_result"
    }
   ],
   "source": [
    "id(myset)"
   ]
  },
  {
   "cell_type": "code",
   "execution_count": 79,
   "id": "fc366283",
   "metadata": {},
   "outputs": [],
   "source": [
    "myset2 = myset.copy()"
   ]
  },
  {
   "cell_type": "code",
   "execution_count": 80,
   "id": "3a780da5",
   "metadata": {},
   "outputs": [
    {
     "data": {
      "text/plain": [
       "1434246831008"
      ]
     },
     "execution_count": 80,
     "metadata": {},
     "output_type": "execute_result"
    }
   ],
   "source": [
    "id(myset2)"
   ]
  },
  {
   "cell_type": "code",
   "execution_count": 81,
   "id": "7b81218c",
   "metadata": {},
   "outputs": [
    {
     "data": {
      "text/plain": [
       "{'eight', 'five', 'four', 'one', 'seven', 'six', 'three', 'two'}"
      ]
     },
     "execution_count": 81,
     "metadata": {},
     "output_type": "execute_result"
    }
   ],
   "source": [
    "myset"
   ]
  },
  {
   "cell_type": "code",
   "execution_count": 82,
   "id": "bc7eb77a",
   "metadata": {},
   "outputs": [],
   "source": [
    "myset.add('twenty')"
   ]
  },
  {
   "cell_type": "code",
   "execution_count": 83,
   "id": "267551eb",
   "metadata": {},
   "outputs": [
    {
     "data": {
      "text/plain": [
       "{'eight', 'five', 'four', 'one', 'seven', 'six', 'three', 'twenty', 'two'}"
      ]
     },
     "execution_count": 83,
     "metadata": {},
     "output_type": "execute_result"
    }
   ],
   "source": [
    "myset1"
   ]
  },
  {
   "cell_type": "code",
   "execution_count": 84,
   "id": "6b1bed7d",
   "metadata": {},
   "outputs": [
    {
     "data": {
      "text/plain": [
       "{'eight', 'five', 'four', 'one', 'seven', 'six', 'three', 'two'}"
      ]
     },
     "execution_count": 84,
     "metadata": {},
     "output_type": "execute_result"
    }
   ],
   "source": [
    "myset2"
   ]
  },
  {
   "cell_type": "code",
   "execution_count": 106,
   "id": "92a057db",
   "metadata": {},
   "outputs": [],
   "source": [
    "A = {1,2,3,4,5}\n",
    "B = {4,5,6,7,8}\n",
    "C = {8,9,10}"
   ]
  },
  {
   "cell_type": "code",
   "execution_count": 86,
   "id": "e4ae8a61",
   "metadata": {},
   "outputs": [
    {
     "data": {
      "text/plain": [
       "{1, 2, 3, 4, 5, 6, 7, 8}"
      ]
     },
     "execution_count": 86,
     "metadata": {},
     "output_type": "execute_result"
    }
   ],
   "source": [
    "A.union(B)"
   ]
  },
  {
   "cell_type": "code",
   "execution_count": 87,
   "id": "ad62223a",
   "metadata": {},
   "outputs": [
    {
     "data": {
      "text/plain": [
       "{4, 5}"
      ]
     },
     "execution_count": 87,
     "metadata": {},
     "output_type": "execute_result"
    }
   ],
   "source": [
    "A.intersection(B)"
   ]
  },
  {
   "cell_type": "code",
   "execution_count": 88,
   "id": "b65ced13",
   "metadata": {},
   "outputs": [
    {
     "data": {
      "text/plain": [
       "{1, 2, 3, 4, 5, 6, 7, 8}"
      ]
     },
     "execution_count": 88,
     "metadata": {},
     "output_type": "execute_result"
    }
   ],
   "source": [
    "A|B"
   ]
  },
  {
   "cell_type": "code",
   "execution_count": 89,
   "id": "2dc03f54",
   "metadata": {},
   "outputs": [
    {
     "data": {
      "text/plain": [
       "{4, 5}"
      ]
     },
     "execution_count": 89,
     "metadata": {},
     "output_type": "execute_result"
    }
   ],
   "source": [
    "A&B"
   ]
  },
  {
   "cell_type": "code",
   "execution_count": 90,
   "id": "e0cafa7a",
   "metadata": {},
   "outputs": [
    {
     "data": {
      "text/plain": [
       "{4, 5, 6, 7, 8, 9, 10}"
      ]
     },
     "execution_count": 90,
     "metadata": {},
     "output_type": "execute_result"
    }
   ],
   "source": [
    "B|C"
   ]
  },
  {
   "cell_type": "code",
   "execution_count": 92,
   "id": "b9a3dcf0",
   "metadata": {},
   "outputs": [
    {
     "data": {
      "text/plain": [
       "{1, 2, 3, 4, 5, 6, 7, 8, 9, 10}"
      ]
     },
     "execution_count": 92,
     "metadata": {},
     "output_type": "execute_result"
    }
   ],
   "source": [
    "A.union(B,C)"
   ]
  },
  {
   "cell_type": "code",
   "execution_count": 93,
   "id": "5de5df83",
   "metadata": {},
   "outputs": [],
   "source": [
    "A.update(B,C)"
   ]
  },
  {
   "cell_type": "code",
   "execution_count": 94,
   "id": "33898942",
   "metadata": {},
   "outputs": [
    {
     "data": {
      "text/plain": [
       "{1, 2, 3, 4, 5, 6, 7, 8, 9, 10}"
      ]
     },
     "execution_count": 94,
     "metadata": {},
     "output_type": "execute_result"
    }
   ],
   "source": [
    "A"
   ]
  },
  {
   "cell_type": "code",
   "execution_count": 95,
   "id": "89035b0b",
   "metadata": {},
   "outputs": [],
   "source": [
    "A.intersection_update(B)"
   ]
  },
  {
   "cell_type": "code",
   "execution_count": 96,
   "id": "20316279",
   "metadata": {},
   "outputs": [
    {
     "data": {
      "text/plain": [
       "{4, 5, 6, 7, 8}"
      ]
     },
     "execution_count": 96,
     "metadata": {},
     "output_type": "execute_result"
    }
   ],
   "source": [
    "A"
   ]
  },
  {
   "cell_type": "code",
   "execution_count": 97,
   "id": "5375da77",
   "metadata": {},
   "outputs": [
    {
     "data": {
      "text/plain": [
       "{4, 5, 6, 7, 8}"
      ]
     },
     "execution_count": 97,
     "metadata": {},
     "output_type": "execute_result"
    }
   ],
   "source": [
    "A"
   ]
  },
  {
   "cell_type": "code",
   "execution_count": 99,
   "id": "de99eb17",
   "metadata": {},
   "outputs": [
    {
     "data": {
      "text/plain": [
       "{1, 2, 3}"
      ]
     },
     "execution_count": 99,
     "metadata": {},
     "output_type": "execute_result"
    }
   ],
   "source": [
    "A-B"
   ]
  },
  {
   "cell_type": "code",
   "execution_count": 100,
   "id": "ff597a0b",
   "metadata": {},
   "outputs": [
    {
     "data": {
      "text/plain": [
       "{1, 2, 3}"
      ]
     },
     "execution_count": 100,
     "metadata": {},
     "output_type": "execute_result"
    }
   ],
   "source": [
    "A.difference(B)"
   ]
  },
  {
   "cell_type": "code",
   "execution_count": 101,
   "id": "5a224df8",
   "metadata": {},
   "outputs": [
    {
     "data": {
      "text/plain": [
       "{4, 5, 6, 7}"
      ]
     },
     "execution_count": 101,
     "metadata": {},
     "output_type": "execute_result"
    }
   ],
   "source": [
    "B-C"
   ]
  },
  {
   "cell_type": "code",
   "execution_count": 102,
   "id": "0c2934ec",
   "metadata": {},
   "outputs": [
    {
     "data": {
      "text/plain": [
       "{6, 7, 8}"
      ]
     },
     "execution_count": 102,
     "metadata": {},
     "output_type": "execute_result"
    }
   ],
   "source": [
    "B-A"
   ]
  },
  {
   "cell_type": "code",
   "execution_count": 103,
   "id": "972f4cb7",
   "metadata": {},
   "outputs": [
    {
     "data": {
      "text/plain": [
       "{6, 7, 8}"
      ]
     },
     "execution_count": 103,
     "metadata": {},
     "output_type": "execute_result"
    }
   ],
   "source": [
    "B.difference(A)"
   ]
  },
  {
   "cell_type": "code",
   "execution_count": 104,
   "id": "858092cd",
   "metadata": {},
   "outputs": [],
   "source": [
    "B.difference_update(A)"
   ]
  },
  {
   "cell_type": "code",
   "execution_count": 105,
   "id": "7d44b4c9",
   "metadata": {},
   "outputs": [
    {
     "data": {
      "text/plain": [
       "{6, 7, 8}"
      ]
     },
     "execution_count": 105,
     "metadata": {},
     "output_type": "execute_result"
    }
   ],
   "source": [
    "B"
   ]
  },
  {
   "cell_type": "code",
   "execution_count": 107,
   "id": "ffc19d85",
   "metadata": {},
   "outputs": [
    {
     "data": {
      "text/plain": [
       "{1, 2, 3, 6, 7, 8}"
      ]
     },
     "execution_count": 107,
     "metadata": {},
     "output_type": "execute_result"
    }
   ],
   "source": [
    "A.symmetric_difference(B)"
   ]
  },
  {
   "cell_type": "code",
   "execution_count": 108,
   "id": "cd314893",
   "metadata": {},
   "outputs": [
    {
     "data": {
      "text/plain": [
       "{1, 2, 3, 6, 7, 8}"
      ]
     },
     "execution_count": 108,
     "metadata": {},
     "output_type": "execute_result"
    }
   ],
   "source": [
    "A^B"
   ]
  },
  {
   "cell_type": "code",
   "execution_count": 109,
   "id": "509c3ef7",
   "metadata": {},
   "outputs": [],
   "source": [
    "A.symmetric_difference_update(B)"
   ]
  },
  {
   "cell_type": "code",
   "execution_count": 110,
   "id": "90320c52",
   "metadata": {},
   "outputs": [
    {
     "data": {
      "text/plain": [
       "{1, 2, 3, 6, 7, 8}"
      ]
     },
     "execution_count": 110,
     "metadata": {},
     "output_type": "execute_result"
    }
   ],
   "source": [
    "A"
   ]
  },
  {
   "cell_type": "code",
   "execution_count": 111,
   "id": "7a5fb800",
   "metadata": {},
   "outputs": [],
   "source": [
    "A = {1,2,3,4,5,6,7,8,9}"
   ]
  },
  {
   "cell_type": "code",
   "execution_count": 112,
   "id": "abdb328e",
   "metadata": {},
   "outputs": [],
   "source": [
    "B = {4,5,6,7,8}"
   ]
  },
  {
   "cell_type": "code",
   "execution_count": 113,
   "id": "10d7df4e",
   "metadata": {},
   "outputs": [],
   "source": [
    "C = {10,20,30,40}"
   ]
  },
  {
   "cell_type": "code",
   "execution_count": 114,
   "id": "adbca683",
   "metadata": {},
   "outputs": [
    {
     "data": {
      "text/plain": [
       "True"
      ]
     },
     "execution_count": 114,
     "metadata": {},
     "output_type": "execute_result"
    }
   ],
   "source": [
    "B.issubset(A)"
   ]
  },
  {
   "cell_type": "code",
   "execution_count": 115,
   "id": "95fd9a8b",
   "metadata": {},
   "outputs": [
    {
     "data": {
      "text/plain": [
       "False"
      ]
     },
     "execution_count": 115,
     "metadata": {},
     "output_type": "execute_result"
    }
   ],
   "source": [
    "B.issubset(C)"
   ]
  },
  {
   "cell_type": "code",
   "execution_count": 116,
   "id": "5cde3bb5",
   "metadata": {},
   "outputs": [
    {
     "data": {
      "text/plain": [
       "True"
      ]
     },
     "execution_count": 116,
     "metadata": {},
     "output_type": "execute_result"
    }
   ],
   "source": [
    "A.issuperset(B)"
   ]
  },
  {
   "cell_type": "code",
   "execution_count": 117,
   "id": "25cad34f",
   "metadata": {},
   "outputs": [
    {
     "data": {
      "text/plain": [
       "False"
      ]
     },
     "execution_count": 117,
     "metadata": {},
     "output_type": "execute_result"
    }
   ],
   "source": [
    "A.issuperset(C)"
   ]
  },
  {
   "cell_type": "code",
   "execution_count": 118,
   "id": "5b0e2686",
   "metadata": {},
   "outputs": [
    {
     "data": {
      "text/plain": [
       "True"
      ]
     },
     "execution_count": 118,
     "metadata": {},
     "output_type": "execute_result"
    }
   ],
   "source": [
    "A.isdisjoint(C)"
   ]
  },
  {
   "cell_type": "code",
   "execution_count": 119,
   "id": "1543b47f",
   "metadata": {},
   "outputs": [
    {
     "data": {
      "text/plain": [
       "False"
      ]
     },
     "execution_count": 119,
     "metadata": {},
     "output_type": "execute_result"
    }
   ],
   "source": [
    "A.isdisjoint(B)"
   ]
  },
  {
   "cell_type": "code",
   "execution_count": 120,
   "id": "296b43ed",
   "metadata": {},
   "outputs": [
    {
     "data": {
      "text/plain": [
       "{1, 2, 3, 4, 5, 6, 7, 8, 9}"
      ]
     },
     "execution_count": 120,
     "metadata": {},
     "output_type": "execute_result"
    }
   ],
   "source": [
    "A"
   ]
  },
  {
   "cell_type": "code",
   "execution_count": 121,
   "id": "252755e9",
   "metadata": {},
   "outputs": [
    {
     "data": {
      "text/plain": [
       "45"
      ]
     },
     "execution_count": 121,
     "metadata": {},
     "output_type": "execute_result"
    }
   ],
   "source": [
    "sum(A)"
   ]
  },
  {
   "cell_type": "code",
   "execution_count": 122,
   "id": "b783cffe",
   "metadata": {},
   "outputs": [
    {
     "data": {
      "text/plain": [
       "9"
      ]
     },
     "execution_count": 122,
     "metadata": {},
     "output_type": "execute_result"
    }
   ],
   "source": [
    "max(A)"
   ]
  },
  {
   "cell_type": "code",
   "execution_count": 123,
   "id": "f576cc69",
   "metadata": {},
   "outputs": [
    {
     "data": {
      "text/plain": [
       "1"
      ]
     },
     "execution_count": 123,
     "metadata": {},
     "output_type": "execute_result"
    }
   ],
   "source": [
    "min(A)"
   ]
  },
  {
   "cell_type": "code",
   "execution_count": 124,
   "id": "eefdafe2",
   "metadata": {},
   "outputs": [
    {
     "data": {
      "text/plain": [
       "9"
      ]
     },
     "execution_count": 124,
     "metadata": {},
     "output_type": "execute_result"
    }
   ],
   "source": [
    "len(A)"
   ]
  },
  {
   "cell_type": "code",
   "execution_count": 126,
   "id": "1cde5fb6",
   "metadata": {},
   "outputs": [
    {
     "data": {
      "text/plain": [
       "[(0, 1), (1, 2), (2, 3), (3, 4), (4, 5), (5, 6), (6, 7), (7, 8), (8, 9)]"
      ]
     },
     "execution_count": 126,
     "metadata": {},
     "output_type": "execute_result"
    }
   ],
   "source": [
    "list(enumerate(A))"
   ]
  },
  {
   "cell_type": "code",
   "execution_count": 129,
   "id": "f38270d4",
   "metadata": {},
   "outputs": [],
   "source": [
    "d = sorted(A, reverse=True)"
   ]
  },
  {
   "cell_type": "code",
   "execution_count": 130,
   "id": "4d7e1c9c",
   "metadata": {},
   "outputs": [
    {
     "data": {
      "text/plain": [
       "[1, 2, 3, 4, 5, 6, 7, 8, 9]"
      ]
     },
     "execution_count": 130,
     "metadata": {},
     "output_type": "execute_result"
    }
   ],
   "source": [
    "sorted(d)"
   ]
  },
  {
   "cell_type": "code",
   "execution_count": 133,
   "id": "48510cd8",
   "metadata": {},
   "outputs": [],
   "source": [
    "mydict = dict()"
   ]
  },
  {
   "cell_type": "code",
   "execution_count": 134,
   "id": "2173c508",
   "metadata": {},
   "outputs": [
    {
     "data": {
      "text/plain": [
       "dict"
      ]
     },
     "execution_count": 134,
     "metadata": {},
     "output_type": "execute_result"
    }
   ],
   "source": [
    "type(mydict)"
   ]
  },
  {
   "cell_type": "code",
   "execution_count": 137,
   "id": "876cc82b",
   "metadata": {},
   "outputs": [],
   "source": [
    "d = dict({'A':'one', \"B\":\"two\"})"
   ]
  },
  {
   "cell_type": "code",
   "execution_count": 138,
   "id": "2ab68e77",
   "metadata": {},
   "outputs": [
    {
     "data": {
      "text/plain": [
       "{'A': 'one', 'B': 'two'}"
      ]
     },
     "execution_count": 138,
     "metadata": {},
     "output_type": "execute_result"
    }
   ],
   "source": [
    "d"
   ]
  },
  {
   "cell_type": "code",
   "execution_count": 139,
   "id": "e0fb0de6",
   "metadata": {},
   "outputs": [
    {
     "data": {
      "text/plain": [
       "dict_keys(['A', 'B'])"
      ]
     },
     "execution_count": 139,
     "metadata": {},
     "output_type": "execute_result"
    }
   ],
   "source": [
    "d.keys()"
   ]
  },
  {
   "cell_type": "code",
   "execution_count": 140,
   "id": "00ddf805",
   "metadata": {},
   "outputs": [
    {
     "data": {
      "text/plain": [
       "dict_values(['one', 'two'])"
      ]
     },
     "execution_count": 140,
     "metadata": {},
     "output_type": "execute_result"
    }
   ],
   "source": [
    "d.values()"
   ]
  },
  {
   "cell_type": "code",
   "execution_count": 141,
   "id": "17159a72",
   "metadata": {},
   "outputs": [
    {
     "data": {
      "text/plain": [
       "dict_items([('A', 'one'), ('B', 'two')])"
      ]
     },
     "execution_count": 141,
     "metadata": {},
     "output_type": "execute_result"
    }
   ],
   "source": [
    "d.items()"
   ]
  },
  {
   "cell_type": "code",
   "execution_count": 190,
   "id": "bba35859",
   "metadata": {},
   "outputs": [],
   "source": [
    "e = {12:'twelve',36:\"chtisish\", \"three\":[\"four\", 'five',25], \"six\":(25,23.69,\"sanjay\"),'fruit':{'mango':20,'apple':25}}"
   ]
  },
  {
   "cell_type": "code",
   "execution_count": 149,
   "id": "3fdfd814",
   "metadata": {},
   "outputs": [
    {
     "data": {
      "text/plain": [
       "dict"
      ]
     },
     "execution_count": 149,
     "metadata": {},
     "output_type": "execute_result"
    }
   ],
   "source": [
    "type(e)"
   ]
  },
  {
   "cell_type": "code",
   "execution_count": 154,
   "id": "602a97b9",
   "metadata": {},
   "outputs": [],
   "source": [
    "k = {'a', 'b', 'c', 'd'}"
   ]
  },
  {
   "cell_type": "code",
   "execution_count": 151,
   "id": "d66f3639",
   "metadata": {},
   "outputs": [
    {
     "data": {
      "text/plain": [
       "{'a': None, 'b': None, 'c': None, 'd': None}"
      ]
     },
     "execution_count": 151,
     "metadata": {},
     "output_type": "execute_result"
    }
   ],
   "source": [
    "dict.fromkeys(k)"
   ]
  },
  {
   "cell_type": "code",
   "execution_count": 155,
   "id": "9865a3a7",
   "metadata": {},
   "outputs": [],
   "source": [
    "v = [25,36,45]"
   ]
  },
  {
   "cell_type": "code",
   "execution_count": 157,
   "id": "dc86ffc0",
   "metadata": {},
   "outputs": [],
   "source": [
    "mydict = dict.fromkeys(k,v)"
   ]
  },
  {
   "cell_type": "code",
   "execution_count": 158,
   "id": "f0fd5084",
   "metadata": {},
   "outputs": [
    {
     "data": {
      "text/plain": [
       "{'c': [25, 36, 45], 'd': [25, 36, 45], 'b': [25, 36, 45], 'a': [25, 36, 45]}"
      ]
     },
     "execution_count": 158,
     "metadata": {},
     "output_type": "execute_result"
    }
   ],
   "source": [
    "mydict"
   ]
  },
  {
   "cell_type": "code",
   "execution_count": 159,
   "id": "04fc55a4",
   "metadata": {},
   "outputs": [],
   "source": [
    "v.append(100)"
   ]
  },
  {
   "cell_type": "code",
   "execution_count": 160,
   "id": "88192e3f",
   "metadata": {},
   "outputs": [
    {
     "data": {
      "text/plain": [
       "{'c': [25, 36, 45, 100],\n",
       " 'd': [25, 36, 45, 100],\n",
       " 'b': [25, 36, 45, 100],\n",
       " 'a': [25, 36, 45, 100]}"
      ]
     },
     "execution_count": 160,
     "metadata": {},
     "output_type": "execute_result"
    }
   ],
   "source": [
    "mydict"
   ]
  },
  {
   "cell_type": "code",
   "execution_count": 161,
   "id": "9a1e00ed",
   "metadata": {},
   "outputs": [
    {
     "data": {
      "text/plain": [
       "{12: 'twelve',\n",
       " 36: 'chtisish',\n",
       " 'three': ['four', 'five', 25],\n",
       " 'six': (25, 23.69, 'sanjay'),\n",
       " 'fruit': {'mango': 20, 'apple': 25}}"
      ]
     },
     "execution_count": 161,
     "metadata": {},
     "output_type": "execute_result"
    }
   ],
   "source": [
    "e"
   ]
  },
  {
   "cell_type": "code",
   "execution_count": 162,
   "id": "627b1ad3",
   "metadata": {},
   "outputs": [
    {
     "data": {
      "text/plain": [
       "'twelve'"
      ]
     },
     "execution_count": 162,
     "metadata": {},
     "output_type": "execute_result"
    }
   ],
   "source": [
    "e[12]"
   ]
  },
  {
   "cell_type": "code",
   "execution_count": 164,
   "id": "696d54ac",
   "metadata": {},
   "outputs": [
    {
     "data": {
      "text/plain": [
       "(25, 23.69, 'sanjay')"
      ]
     },
     "execution_count": 164,
     "metadata": {},
     "output_type": "execute_result"
    }
   ],
   "source": [
    "e['six']"
   ]
  },
  {
   "cell_type": "code",
   "execution_count": 165,
   "id": "b56772d2",
   "metadata": {},
   "outputs": [
    {
     "ename": "KeyError",
     "evalue": "2",
     "output_type": "error",
     "traceback": [
      "\u001b[1;31m---------------------------------------------------------------------------\u001b[0m",
      "\u001b[1;31mKeyError\u001b[0m                                  Traceback (most recent call last)",
      "\u001b[1;32m<ipython-input-165-4505f42e6b2f>\u001b[0m in \u001b[0;36m<module>\u001b[1;34m\u001b[0m\n\u001b[1;32m----> 1\u001b[1;33m \u001b[0me\u001b[0m\u001b[1;33m[\u001b[0m\u001b[1;36m2\u001b[0m\u001b[1;33m]\u001b[0m\u001b[1;33m\u001b[0m\u001b[1;33m\u001b[0m\u001b[0m\n\u001b[0m",
      "\u001b[1;31mKeyError\u001b[0m: 2"
     ]
    }
   ],
   "source": [
    "e[2]"
   ]
  },
  {
   "cell_type": "code",
   "execution_count": 166,
   "id": "a498e804",
   "metadata": {},
   "outputs": [],
   "source": [
    "e.get(2)"
   ]
  },
  {
   "cell_type": "code",
   "execution_count": 167,
   "id": "ef0bf7f8",
   "metadata": {},
   "outputs": [
    {
     "data": {
      "text/plain": [
       "'chtisish'"
      ]
     },
     "execution_count": 167,
     "metadata": {},
     "output_type": "execute_result"
    }
   ],
   "source": [
    "e.get(36)"
   ]
  },
  {
   "cell_type": "code",
   "execution_count": 168,
   "id": "9f504472",
   "metadata": {},
   "outputs": [
    {
     "data": {
      "text/plain": [
       "{12: 'twelve',\n",
       " 36: 'chtisish',\n",
       " 'three': ['four', 'five', 25],\n",
       " 'six': (25, 23.69, 'sanjay'),\n",
       " 'fruit': {'mango': 20, 'apple': 25}}"
      ]
     },
     "execution_count": 168,
     "metadata": {},
     "output_type": "execute_result"
    }
   ],
   "source": [
    "e"
   ]
  },
  {
   "cell_type": "code",
   "execution_count": 169,
   "id": "0c9a4d7a",
   "metadata": {},
   "outputs": [],
   "source": [
    "e[12] = 'first'\n",
    "\n",
    "e['fruit'] = 'my fruits'"
   ]
  },
  {
   "cell_type": "code",
   "execution_count": 170,
   "id": "d4f2030c",
   "metadata": {},
   "outputs": [
    {
     "data": {
      "text/plain": [
       "{12: 'first',\n",
       " 36: 'chtisish',\n",
       " 'three': ['four', 'five', 25],\n",
       " 'six': (25, 23.69, 'sanjay'),\n",
       " 'fruit': 'my fruits'}"
      ]
     },
     "execution_count": 170,
     "metadata": {},
     "output_type": "execute_result"
    }
   ],
   "source": [
    "e"
   ]
  },
  {
   "cell_type": "code",
   "execution_count": 171,
   "id": "5aab7d1f",
   "metadata": {},
   "outputs": [],
   "source": [
    "w = {'DOB':1995}"
   ]
  },
  {
   "cell_type": "code",
   "execution_count": 172,
   "id": "587d9bd1",
   "metadata": {},
   "outputs": [],
   "source": [
    "e.update(w)"
   ]
  },
  {
   "cell_type": "code",
   "execution_count": 173,
   "id": "896604d2",
   "metadata": {},
   "outputs": [
    {
     "data": {
      "text/plain": [
       "{12: 'first',\n",
       " 36: 'chtisish',\n",
       " 'three': ['four', 'five', 25],\n",
       " 'six': (25, 23.69, 'sanjay'),\n",
       " 'fruit': 'my fruits',\n",
       " 'DOB': 1995}"
      ]
     },
     "execution_count": 173,
     "metadata": {},
     "output_type": "execute_result"
    }
   ],
   "source": [
    "e"
   ]
  },
  {
   "cell_type": "code",
   "execution_count": 174,
   "id": "77cd52dc",
   "metadata": {},
   "outputs": [],
   "source": [
    "e['job'] = 'Data analyst'"
   ]
  },
  {
   "cell_type": "code",
   "execution_count": 175,
   "id": "48290abb",
   "metadata": {},
   "outputs": [
    {
     "data": {
      "text/plain": [
       "{12: 'first',\n",
       " 36: 'chtisish',\n",
       " 'three': ['four', 'five', 25],\n",
       " 'six': (25, 23.69, 'sanjay'),\n",
       " 'fruit': 'my fruits',\n",
       " 'DOB': 1995,\n",
       " 'job': 'Data analyst'}"
      ]
     },
     "execution_count": 175,
     "metadata": {},
     "output_type": "execute_result"
    }
   ],
   "source": [
    "e"
   ]
  },
  {
   "cell_type": "code",
   "execution_count": 177,
   "id": "f1563ddd",
   "metadata": {},
   "outputs": [
    {
     "data": {
      "text/plain": [
       "<function dict.pop>"
      ]
     },
     "execution_count": 177,
     "metadata": {},
     "output_type": "execute_result"
    }
   ],
   "source": [
    "e.pop"
   ]
  },
  {
   "cell_type": "code",
   "execution_count": 178,
   "id": "cdcfefff",
   "metadata": {},
   "outputs": [
    {
     "data": {
      "text/plain": [
       "{12: 'first',\n",
       " 36: 'chtisish',\n",
       " 'three': ['four', 'five', 25],\n",
       " 'six': (25, 23.69, 'sanjay'),\n",
       " 'fruit': 'my fruits',\n",
       " 'DOB': 1995,\n",
       " 'job': 'Data analyst'}"
      ]
     },
     "execution_count": 178,
     "metadata": {},
     "output_type": "execute_result"
    }
   ],
   "source": [
    "e"
   ]
  },
  {
   "cell_type": "code",
   "execution_count": 179,
   "id": "13e9c48a",
   "metadata": {},
   "outputs": [
    {
     "data": {
      "text/plain": [
       "('job', 'Data analyst')"
      ]
     },
     "execution_count": 179,
     "metadata": {},
     "output_type": "execute_result"
    }
   ],
   "source": [
    "e.popitem()"
   ]
  },
  {
   "cell_type": "code",
   "execution_count": 180,
   "id": "86f96f61",
   "metadata": {},
   "outputs": [
    {
     "data": {
      "text/plain": [
       "{12: 'first',\n",
       " 36: 'chtisish',\n",
       " 'three': ['four', 'five', 25],\n",
       " 'six': (25, 23.69, 'sanjay'),\n",
       " 'fruit': 'my fruits',\n",
       " 'DOB': 1995}"
      ]
     },
     "execution_count": 180,
     "metadata": {},
     "output_type": "execute_result"
    }
   ],
   "source": [
    "e"
   ]
  },
  {
   "cell_type": "code",
   "execution_count": 181,
   "id": "4cbf75a8",
   "metadata": {},
   "outputs": [
    {
     "data": {
      "text/plain": [
       "'first'"
      ]
     },
     "execution_count": 181,
     "metadata": {},
     "output_type": "execute_result"
    }
   ],
   "source": [
    "e.pop(12)"
   ]
  },
  {
   "cell_type": "code",
   "execution_count": 182,
   "id": "de602594",
   "metadata": {},
   "outputs": [
    {
     "data": {
      "text/plain": [
       "{36: 'chtisish',\n",
       " 'three': ['four', 'five', 25],\n",
       " 'six': (25, 23.69, 'sanjay'),\n",
       " 'fruit': 'my fruits',\n",
       " 'DOB': 1995}"
      ]
     },
     "execution_count": 182,
     "metadata": {},
     "output_type": "execute_result"
    }
   ],
   "source": [
    "e"
   ]
  },
  {
   "cell_type": "code",
   "execution_count": 183,
   "id": "05918c13",
   "metadata": {},
   "outputs": [],
   "source": [
    "del e[36]"
   ]
  },
  {
   "cell_type": "code",
   "execution_count": 184,
   "id": "875b62ab",
   "metadata": {},
   "outputs": [
    {
     "data": {
      "text/plain": [
       "{'three': ['four', 'five', 25],\n",
       " 'six': (25, 23.69, 'sanjay'),\n",
       " 'fruit': 'my fruits',\n",
       " 'DOB': 1995}"
      ]
     },
     "execution_count": 184,
     "metadata": {},
     "output_type": "execute_result"
    }
   ],
   "source": [
    "e"
   ]
  },
  {
   "cell_type": "code",
   "execution_count": 185,
   "id": "fb95316b",
   "metadata": {},
   "outputs": [],
   "source": [
    "e.clear()"
   ]
  },
  {
   "cell_type": "code",
   "execution_count": 186,
   "id": "f35e83cd",
   "metadata": {},
   "outputs": [
    {
     "data": {
      "text/plain": [
       "{}"
      ]
     },
     "execution_count": 186,
     "metadata": {},
     "output_type": "execute_result"
    }
   ],
   "source": [
    "e"
   ]
  },
  {
   "cell_type": "code",
   "execution_count": 187,
   "id": "1d02c0f5",
   "metadata": {},
   "outputs": [],
   "source": [
    "del e"
   ]
  },
  {
   "cell_type": "code",
   "execution_count": 188,
   "id": "0a5fb937",
   "metadata": {},
   "outputs": [
    {
     "ename": "NameError",
     "evalue": "name 'e' is not defined",
     "output_type": "error",
     "traceback": [
      "\u001b[1;31m---------------------------------------------------------------------------\u001b[0m",
      "\u001b[1;31mNameError\u001b[0m                                 Traceback (most recent call last)",
      "\u001b[1;32m<ipython-input-188-094e3afb2fe8>\u001b[0m in \u001b[0;36m<module>\u001b[1;34m\u001b[0m\n\u001b[1;32m----> 1\u001b[1;33m \u001b[0me\u001b[0m\u001b[1;33m\u001b[0m\u001b[1;33m\u001b[0m\u001b[0m\n\u001b[0m",
      "\u001b[1;31mNameError\u001b[0m: name 'e' is not defined"
     ]
    }
   ],
   "source": [
    "e"
   ]
  },
  {
   "cell_type": "code",
   "execution_count": 189,
   "id": "055e92a4",
   "metadata": {},
   "outputs": [
    {
     "ename": "NameError",
     "evalue": "name 'e' is not defined",
     "output_type": "error",
     "traceback": [
      "\u001b[1;31m---------------------------------------------------------------------------\u001b[0m",
      "\u001b[1;31mNameError\u001b[0m                                 Traceback (most recent call last)",
      "\u001b[1;32m<ipython-input-189-094e3afb2fe8>\u001b[0m in \u001b[0;36m<module>\u001b[1;34m\u001b[0m\n\u001b[1;32m----> 1\u001b[1;33m \u001b[0me\u001b[0m\u001b[1;33m\u001b[0m\u001b[1;33m\u001b[0m\u001b[0m\n\u001b[0m",
      "\u001b[1;31mNameError\u001b[0m: name 'e' is not defined"
     ]
    }
   ],
   "source": [
    "e"
   ]
  },
  {
   "cell_type": "code",
   "execution_count": 191,
   "id": "50da6091",
   "metadata": {},
   "outputs": [
    {
     "data": {
      "text/plain": [
       "{12: 'twelve',\n",
       " 36: 'chtisish',\n",
       " 'three': ['four', 'five', 25],\n",
       " 'six': (25, 23.69, 'sanjay'),\n",
       " 'fruit': {'mango': 20, 'apple': 25}}"
      ]
     },
     "execution_count": 191,
     "metadata": {},
     "output_type": "execute_result"
    }
   ],
   "source": [
    "e"
   ]
  },
  {
   "cell_type": "code",
   "execution_count": 194,
   "id": "3235525e",
   "metadata": {},
   "outputs": [
    {
     "name": "stdout",
     "output_type": "stream",
     "text": [
      "twelve\n",
      "chtisish\n",
      "['four', 'five', 25]\n",
      "(25, 23.69, 'sanjay')\n",
      "{'mango': 20, 'apple': 25}\n"
     ]
    }
   ],
   "source": [
    "for i in e:\n",
    "    print( e[i])"
   ]
  },
  {
   "cell_type": "code",
   "execution_count": 195,
   "id": "208fe749",
   "metadata": {},
   "outputs": [
    {
     "data": {
      "text/plain": [
       "True"
      ]
     },
     "execution_count": 195,
     "metadata": {},
     "output_type": "execute_result"
    }
   ],
   "source": [
    "all(e)"
   ]
  },
  {
   "cell_type": "code",
   "execution_count": 196,
   "id": "bc752961",
   "metadata": {},
   "outputs": [
    {
     "data": {
      "text/plain": [
       "True"
      ]
     },
     "execution_count": 196,
     "metadata": {},
     "output_type": "execute_result"
    }
   ],
   "source": [
    "any(e)"
   ]
  },
  {
   "cell_type": "code",
   "execution_count": 197,
   "id": "a864a3b1",
   "metadata": {},
   "outputs": [],
   "source": [
    "e[0] = 'test'"
   ]
  },
  {
   "cell_type": "code",
   "execution_count": 198,
   "id": "43d15552",
   "metadata": {},
   "outputs": [
    {
     "data": {
      "text/plain": [
       "{12: 'twelve',\n",
       " 36: 'chtisish',\n",
       " 'three': ['four', 'five', 25],\n",
       " 'six': (25, 23.69, 'sanjay'),\n",
       " 'fruit': {'mango': 20, 'apple': 25},\n",
       " 0: 'test'}"
      ]
     },
     "execution_count": 198,
     "metadata": {},
     "output_type": "execute_result"
    }
   ],
   "source": [
    "e"
   ]
  },
  {
   "cell_type": "code",
   "execution_count": 199,
   "id": "f8294823",
   "metadata": {},
   "outputs": [
    {
     "data": {
      "text/plain": [
       "False"
      ]
     },
     "execution_count": 199,
     "metadata": {},
     "output_type": "execute_result"
    }
   ],
   "source": [
    "all(e)"
   ]
  },
  {
   "cell_type": "code",
   "execution_count": 200,
   "id": "83d2d98f",
   "metadata": {},
   "outputs": [
    {
     "data": {
      "text/plain": [
       "True"
      ]
     },
     "execution_count": 200,
     "metadata": {},
     "output_type": "execute_result"
    }
   ],
   "source": [
    "any(e)"
   ]
  },
  {
   "cell_type": "code",
   "execution_count": 201,
   "id": "18381631",
   "metadata": {},
   "outputs": [
    {
     "data": {
      "text/plain": [
       "{0: 0,\n",
       " 1: 3,\n",
       " 2: 6,\n",
       " 3: 9,\n",
       " 4: 12,\n",
       " 5: 15,\n",
       " 6: 18,\n",
       " 7: 21,\n",
       " 8: 24,\n",
       " 9: 27,\n",
       " 10: 30,\n",
       " 11: 33,\n",
       " 12: 36,\n",
       " 13: 39,\n",
       " 14: 42,\n",
       " 15: 45,\n",
       " 16: 48,\n",
       " 17: 51,\n",
       " 18: 54,\n",
       " 19: 57}"
      ]
     },
     "execution_count": 201,
     "metadata": {},
     "output_type": "execute_result"
    }
   ],
   "source": [
    "{i:i*3 for i in range(20)}"
   ]
  },
  {
   "cell_type": "code",
   "execution_count": 202,
   "id": "286d4865",
   "metadata": {},
   "outputs": [
    {
     "data": {
      "text/plain": [
       "{0: 0, 1: 1, 2: 4, 3: 9, 4: 16, 5: 25, 6: 36, 7: 49, 8: 64, 9: 81}"
      ]
     },
     "execution_count": 202,
     "metadata": {},
     "output_type": "execute_result"
    }
   ],
   "source": [
    "{i : i**2 for i in range(10)}"
   ]
  },
  {
   "cell_type": "code",
   "execution_count": 203,
   "id": "884ec562",
   "metadata": {},
   "outputs": [],
   "source": [
    "key=['one','two','three','four','five']\n",
    "value=[1,2,3,4,5]"
   ]
  },
  {
   "cell_type": "code",
   "execution_count": 206,
   "id": "6d6fc289",
   "metadata": {},
   "outputs": [
    {
     "data": {
      "text/plain": [
       "{'one': 1, 'two': 2, 'three': 3, 'four': 4, 'five': 5}"
      ]
     },
     "execution_count": 206,
     "metadata": {},
     "output_type": "execute_result"
    }
   ],
   "source": [
    "{k:v for k,v in (zip(key,value))}"
   ]
  },
  {
   "cell_type": "code",
   "execution_count": 207,
   "id": "21ed2e1b",
   "metadata": {},
   "outputs": [],
   "source": [
    "str ='natural language provessing'"
   ]
  },
  {
   "cell_type": "code",
   "execution_count": 210,
   "id": "dae2dfe0",
   "metadata": {},
   "outputs": [
    {
     "data": {
      "text/plain": [
       "{0: 'n',\n",
       " 1: 'a',\n",
       " 2: 't',\n",
       " 3: 'u',\n",
       " 4: 'r',\n",
       " 5: 'a',\n",
       " 6: 'l',\n",
       " 7: ' ',\n",
       " 8: 'l',\n",
       " 9: 'a',\n",
       " 10: 'n',\n",
       " 11: 'g',\n",
       " 12: 'u',\n",
       " 13: 'a',\n",
       " 14: 'g',\n",
       " 15: 'e',\n",
       " 16: ' ',\n",
       " 17: 'p',\n",
       " 18: 'r',\n",
       " 19: 'o',\n",
       " 20: 'v',\n",
       " 21: 'e',\n",
       " 22: 's',\n",
       " 23: 's',\n",
       " 24: 'i',\n",
       " 25: 'n',\n",
       " 26: 'g'}"
      ]
     },
     "execution_count": 210,
     "metadata": {},
     "output_type": "execute_result"
    }
   ],
   "source": [
    "{k:v for k,v in (enumerate(str))}"
   ]
  },
  {
   "cell_type": "code",
   "execution_count": 211,
   "id": "69ccdb61",
   "metadata": {},
   "outputs": [],
   "source": [
    "s = 'abcdefghijklmnopqrstuvwxyz'"
   ]
  },
  {
   "cell_type": "code",
   "execution_count": 213,
   "id": "a4b97790",
   "metadata": {},
   "outputs": [
    {
     "data": {
      "text/plain": [
       "['abcdefghijklmnopqrstuvwxyz']"
      ]
     },
     "execution_count": 213,
     "metadata": {},
     "output_type": "execute_result"
    }
   ],
   "source": [
    "s.split()"
   ]
  },
  {
   "cell_type": "code",
   "execution_count": 212,
   "id": "b0ec1a61",
   "metadata": {},
   "outputs": [
    {
     "data": {
      "text/plain": [
       "{'a': 'A',\n",
       " 'b': 'B',\n",
       " 'c': 'C',\n",
       " 'd': 'D',\n",
       " 'e': 'E',\n",
       " 'f': 'F',\n",
       " 'g': 'G',\n",
       " 'h': 'H',\n",
       " 'i': 'I',\n",
       " 'j': 'J',\n",
       " 'k': 'K',\n",
       " 'l': 'L',\n",
       " 'm': 'M',\n",
       " 'n': 'N',\n",
       " 'o': 'O',\n",
       " 'p': 'P',\n",
       " 'q': 'Q',\n",
       " 'r': 'R',\n",
       " 's': 'S',\n",
       " 't': 'T',\n",
       " 'u': 'U',\n",
       " 'v': 'V',\n",
       " 'w': 'W',\n",
       " 'x': 'X',\n",
       " 'y': 'Y',\n",
       " 'z': 'Z'}"
      ]
     },
     "execution_count": 212,
     "metadata": {},
     "output_type": "execute_result"
    }
   ],
   "source": [
    "{i:i.upper() for i in s}"
   ]
  },
  {
   "cell_type": "code",
   "execution_count": 220,
   "id": "fda7b9c7",
   "metadata": {},
   "outputs": [],
   "source": [
    "mylist = ['one', 'two', 'three', 'four', 'one', 'two', 'two', 'three', 'five', 'five', 'six', 'seven', 'six', 'seven', 'one', 'one', 'one', 'ten', 'eight', 'ten', 'nine', 'eleven', 'ten', 'ten', 'nine']"
   ]
  },
  {
   "cell_type": "code",
   "execution_count": 224,
   "id": "e1d3d668",
   "metadata": {},
   "outputs": [],
   "source": [
    "mylist1 = set(mylist)\n",
    "mylist1 = list(mylist1)"
   ]
  },
  {
   "cell_type": "code",
   "execution_count": 218,
   "id": "2cff89aa",
   "metadata": {},
   "outputs": [],
   "source": [
    "mystr4 = \"one two three four one two two three five five six seven six seven one\""
   ]
  },
  {
   "cell_type": "code",
   "execution_count": 219,
   "id": "3fcff970",
   "metadata": {},
   "outputs": [
    {
     "data": {
      "text/plain": [
       "['one',\n",
       " 'two',\n",
       " 'three',\n",
       " 'four',\n",
       " 'one',\n",
       " 'two',\n",
       " 'two',\n",
       " 'three',\n",
       " 'five',\n",
       " 'five',\n",
       " 'six',\n",
       " 'seven',\n",
       " 'six',\n",
       " 'seven',\n",
       " 'one']"
      ]
     },
     "execution_count": 219,
     "metadata": {},
     "output_type": "execute_result"
    }
   ],
   "source": [
    "mystr4.split()"
   ]
  },
  {
   "cell_type": "code",
   "execution_count": 228,
   "id": "25d17714",
   "metadata": {},
   "outputs": [
    {
     "name": "stdout",
     "output_type": "stream",
     "text": [
      "{'ten': 4, 'six': 2, 'seven': 2, 'five': 2, 'one': 5, 'two': 3, 'nine': 2, 'three': 2, 'eight': 1, 'eleven': 1, 'four': 1}\n"
     ]
    }
   ],
   "source": [
    "count = [0]*len(mylist1)\n",
    "my = dict()\n",
    "for i in range(len(mylist1)):\n",
    "    for j in range(len(mylist)):\n",
    "        if mylist1[i] == mylist[j]:\n",
    "            count[i] +=1\n",
    "    my[mylist1[i]] = count[i]\n",
    "    \n",
    "print(my)\n",
    "            \n",
    "            "
   ]
  },
  {
   "cell_type": "code",
   "execution_count": 1,
   "id": "bd4384ab",
   "metadata": {},
   "outputs": [],
   "source": [
    "a = 10\n",
    "b = 20"
   ]
  },
  {
   "cell_type": "code",
   "execution_count": 2,
   "id": "273655cd",
   "metadata": {},
   "outputs": [
    {
     "data": {
      "text/plain": [
       "30"
      ]
     },
     "execution_count": 2,
     "metadata": {},
     "output_type": "execute_result"
    }
   ],
   "source": [
    "a+b"
   ]
  },
  {
   "cell_type": "code",
   "execution_count": 3,
   "id": "f70e0d61",
   "metadata": {},
   "outputs": [
    {
     "data": {
      "text/plain": [
       "-10"
      ]
     },
     "execution_count": 3,
     "metadata": {},
     "output_type": "execute_result"
    }
   ],
   "source": [
    "a-b"
   ]
  },
  {
   "cell_type": "code",
   "execution_count": 4,
   "id": "3ede7787",
   "metadata": {},
   "outputs": [
    {
     "data": {
      "text/plain": [
       "0.5"
      ]
     },
     "execution_count": 4,
     "metadata": {},
     "output_type": "execute_result"
    }
   ],
   "source": [
    "a/b"
   ]
  },
  {
   "cell_type": "code",
   "execution_count": 5,
   "id": "27986baa",
   "metadata": {},
   "outputs": [
    {
     "data": {
      "text/plain": [
       "0"
      ]
     },
     "execution_count": 5,
     "metadata": {},
     "output_type": "execute_result"
    }
   ],
   "source": [
    "a//b"
   ]
  },
  {
   "cell_type": "code",
   "execution_count": 6,
   "id": "5707e5e2",
   "metadata": {},
   "outputs": [
    {
     "data": {
      "text/plain": [
       "100000000000000000000"
      ]
     },
     "execution_count": 6,
     "metadata": {},
     "output_type": "execute_result"
    }
   ],
   "source": [
    "a**b"
   ]
  },
  {
   "cell_type": "code",
   "execution_count": 10,
   "id": "d259945a",
   "metadata": {},
   "outputs": [
    {
     "data": {
      "text/plain": [
       "10"
      ]
     },
     "execution_count": 10,
     "metadata": {},
     "output_type": "execute_result"
    }
   ],
   "source": [
    "(a) % (b)"
   ]
  },
  {
   "cell_type": "code",
   "execution_count": 11,
   "id": "b3a2e4a3",
   "metadata": {},
   "outputs": [
    {
     "data": {
      "text/plain": [
       "1"
      ]
     },
     "execution_count": 11,
     "metadata": {},
     "output_type": "execute_result"
    }
   ],
   "source": [
    "5%2"
   ]
  },
  {
   "cell_type": "code",
   "execution_count": 12,
   "id": "815e703e",
   "metadata": {},
   "outputs": [
    {
     "data": {
      "text/plain": [
       "200"
      ]
     },
     "execution_count": 12,
     "metadata": {},
     "output_type": "execute_result"
    }
   ],
   "source": [
    "a*b"
   ]
  },
  {
   "cell_type": "code",
   "execution_count": 13,
   "id": "84b4dbd0",
   "metadata": {},
   "outputs": [],
   "source": [
    "a = 10\n",
    "b = 20"
   ]
  },
  {
   "cell_type": "code",
   "execution_count": 14,
   "id": "8baac1bc",
   "metadata": {},
   "outputs": [
    {
     "data": {
      "text/plain": [
       "False"
      ]
     },
     "execution_count": 14,
     "metadata": {},
     "output_type": "execute_result"
    }
   ],
   "source": [
    "a>b"
   ]
  },
  {
   "cell_type": "code",
   "execution_count": 15,
   "id": "d3529087",
   "metadata": {},
   "outputs": [
    {
     "data": {
      "text/plain": [
       "True"
      ]
     },
     "execution_count": 15,
     "metadata": {},
     "output_type": "execute_result"
    }
   ],
   "source": [
    "a<b"
   ]
  },
  {
   "cell_type": "code",
   "execution_count": 16,
   "id": "1a3aa977",
   "metadata": {},
   "outputs": [
    {
     "data": {
      "text/plain": [
       "False"
      ]
     },
     "execution_count": 16,
     "metadata": {},
     "output_type": "execute_result"
    }
   ],
   "source": [
    "a>=b"
   ]
  },
  {
   "cell_type": "code",
   "execution_count": 17,
   "id": "210c872c",
   "metadata": {},
   "outputs": [
    {
     "data": {
      "text/plain": [
       "True"
      ]
     },
     "execution_count": 17,
     "metadata": {},
     "output_type": "execute_result"
    }
   ],
   "source": [
    "a<=b"
   ]
  },
  {
   "cell_type": "code",
   "execution_count": 18,
   "id": "271b66e8",
   "metadata": {},
   "outputs": [
    {
     "data": {
      "text/plain": [
       "False"
      ]
     },
     "execution_count": 18,
     "metadata": {},
     "output_type": "execute_result"
    }
   ],
   "source": [
    "a==b"
   ]
  },
  {
   "cell_type": "code",
   "execution_count": 19,
   "id": "94f5816f",
   "metadata": {},
   "outputs": [
    {
     "data": {
      "text/plain": [
       "True"
      ]
     },
     "execution_count": 19,
     "metadata": {},
     "output_type": "execute_result"
    }
   ],
   "source": [
    "a!=b"
   ]
  },
  {
   "cell_type": "code",
   "execution_count": 20,
   "id": "e40652ad",
   "metadata": {},
   "outputs": [],
   "source": [
    "x = 18\n",
    "y = 6"
   ]
  },
  {
   "cell_type": "code",
   "execution_count": 21,
   "id": "fc020d3d",
   "metadata": {},
   "outputs": [
    {
     "data": {
      "text/plain": [
       "2"
      ]
     },
     "execution_count": 21,
     "metadata": {},
     "output_type": "execute_result"
    }
   ],
   "source": [
    "x&y"
   ]
  },
  {
   "cell_type": "code",
   "execution_count": 22,
   "id": "4bb5cfd0",
   "metadata": {},
   "outputs": [
    {
     "data": {
      "text/plain": [
       "22"
      ]
     },
     "execution_count": 22,
     "metadata": {},
     "output_type": "execute_result"
    }
   ],
   "source": [
    "x|y"
   ]
  },
  {
   "cell_type": "code",
   "execution_count": 23,
   "id": "1b2b2703",
   "metadata": {},
   "outputs": [
    {
     "data": {
      "text/plain": [
       "20"
      ]
     },
     "execution_count": 23,
     "metadata": {},
     "output_type": "execute_result"
    }
   ],
   "source": [
    "x^y"
   ]
  },
  {
   "cell_type": "code",
   "execution_count": 25,
   "id": "48b694fb",
   "metadata": {},
   "outputs": [
    {
     "data": {
      "text/plain": [
       "-19"
      ]
     },
     "execution_count": 25,
     "metadata": {},
     "output_type": "execute_result"
    }
   ],
   "source": [
    "~x"
   ]
  },
  {
   "cell_type": "code",
   "execution_count": 29,
   "id": "f6880d7a",
   "metadata": {},
   "outputs": [
    {
     "data": {
      "text/plain": [
       "4"
      ]
     },
     "execution_count": 29,
     "metadata": {},
     "output_type": "execute_result"
    }
   ],
   "source": [
    "x>>2"
   ]
  },
  {
   "cell_type": "code",
   "execution_count": 28,
   "id": "cb1a76d3",
   "metadata": {},
   "outputs": [
    {
     "data": {
      "text/plain": [
       "72"
      ]
     },
     "execution_count": 28,
     "metadata": {},
     "output_type": "execute_result"
    }
   ],
   "source": [
    "x<<2"
   ]
  },
  {
   "cell_type": "code",
   "execution_count": 30,
   "id": "f01656c9",
   "metadata": {},
   "outputs": [],
   "source": [
    "x = 20"
   ]
  },
  {
   "cell_type": "code",
   "execution_count": 31,
   "id": "1d99c4cb",
   "metadata": {},
   "outputs": [],
   "source": [
    "x+=10"
   ]
  },
  {
   "cell_type": "code",
   "execution_count": 32,
   "id": "d7d1370a",
   "metadata": {},
   "outputs": [
    {
     "data": {
      "text/plain": [
       "30"
      ]
     },
     "execution_count": 32,
     "metadata": {},
     "output_type": "execute_result"
    }
   ],
   "source": [
    "x"
   ]
  },
  {
   "cell_type": "code",
   "execution_count": 33,
   "id": "a0453325",
   "metadata": {},
   "outputs": [],
   "source": [
    "x-=20"
   ]
  },
  {
   "cell_type": "code",
   "execution_count": 34,
   "id": "be6fd728",
   "metadata": {},
   "outputs": [
    {
     "data": {
      "text/plain": [
       "10"
      ]
     },
     "execution_count": 34,
     "metadata": {},
     "output_type": "execute_result"
    }
   ],
   "source": [
    "x"
   ]
  },
  {
   "cell_type": "code",
   "execution_count": 35,
   "id": "cd4e301c",
   "metadata": {},
   "outputs": [],
   "source": [
    "x*=5"
   ]
  },
  {
   "cell_type": "code",
   "execution_count": 36,
   "id": "b8a3d48d",
   "metadata": {},
   "outputs": [
    {
     "data": {
      "text/plain": [
       "50"
      ]
     },
     "execution_count": 36,
     "metadata": {},
     "output_type": "execute_result"
    }
   ],
   "source": [
    "x"
   ]
  },
  {
   "cell_type": "code",
   "execution_count": 37,
   "id": "576f6134",
   "metadata": {},
   "outputs": [],
   "source": [
    "x/=10"
   ]
  },
  {
   "cell_type": "code",
   "execution_count": 38,
   "id": "eabd37c9",
   "metadata": {},
   "outputs": [
    {
     "data": {
      "text/plain": [
       "5.0"
      ]
     },
     "execution_count": 38,
     "metadata": {},
     "output_type": "execute_result"
    }
   ],
   "source": [
    "x"
   ]
  },
  {
   "cell_type": "code",
   "execution_count": 39,
   "id": "baf6c2f2",
   "metadata": {},
   "outputs": [],
   "source": [
    "x**=2"
   ]
  },
  {
   "cell_type": "code",
   "execution_count": 40,
   "id": "c5c67111",
   "metadata": {},
   "outputs": [
    {
     "data": {
      "text/plain": [
       "25.0"
      ]
     },
     "execution_count": 40,
     "metadata": {},
     "output_type": "execute_result"
    }
   ],
   "source": [
    "x"
   ]
  },
  {
   "cell_type": "code",
   "execution_count": 41,
   "id": "7bc32eed",
   "metadata": {},
   "outputs": [],
   "source": [
    "x%=5"
   ]
  },
  {
   "cell_type": "code",
   "execution_count": 42,
   "id": "00594e95",
   "metadata": {},
   "outputs": [
    {
     "data": {
      "text/plain": [
       "0.0"
      ]
     },
     "execution_count": 42,
     "metadata": {},
     "output_type": "execute_result"
    }
   ],
   "source": [
    "x"
   ]
  },
  {
   "cell_type": "code",
   "execution_count": 43,
   "id": "ba81e6c9",
   "metadata": {},
   "outputs": [],
   "source": [
    "x= 20"
   ]
  },
  {
   "cell_type": "code",
   "execution_count": 44,
   "id": "767c10e6",
   "metadata": {},
   "outputs": [],
   "source": [
    "x//=2"
   ]
  },
  {
   "cell_type": "code",
   "execution_count": 45,
   "id": "13726ebd",
   "metadata": {},
   "outputs": [
    {
     "data": {
      "text/plain": [
       "10"
      ]
     },
     "execution_count": 45,
     "metadata": {},
     "output_type": "execute_result"
    }
   ],
   "source": [
    "x"
   ]
  },
  {
   "cell_type": "code",
   "execution_count": 46,
   "id": "0308cb35",
   "metadata": {},
   "outputs": [],
   "source": [
    "x&=2"
   ]
  },
  {
   "cell_type": "code",
   "execution_count": 47,
   "id": "38833190",
   "metadata": {},
   "outputs": [
    {
     "data": {
      "text/plain": [
       "2"
      ]
     },
     "execution_count": 47,
     "metadata": {},
     "output_type": "execute_result"
    }
   ],
   "source": [
    "x"
   ]
  },
  {
   "cell_type": "code",
   "execution_count": 48,
   "id": "3fff7e3e",
   "metadata": {},
   "outputs": [],
   "source": [
    "x|=2"
   ]
  },
  {
   "cell_type": "code",
   "execution_count": 49,
   "id": "4a649846",
   "metadata": {},
   "outputs": [
    {
     "data": {
      "text/plain": [
       "2"
      ]
     },
     "execution_count": 49,
     "metadata": {},
     "output_type": "execute_result"
    }
   ],
   "source": [
    "x"
   ]
  },
  {
   "cell_type": "code",
   "execution_count": 50,
   "id": "56e6a413",
   "metadata": {},
   "outputs": [],
   "source": [
    "x^=3"
   ]
  },
  {
   "cell_type": "code",
   "execution_count": 51,
   "id": "29ef8960",
   "metadata": {},
   "outputs": [
    {
     "data": {
      "text/plain": [
       "1"
      ]
     },
     "execution_count": 51,
     "metadata": {},
     "output_type": "execute_result"
    }
   ],
   "source": [
    "x"
   ]
  },
  {
   "cell_type": "code",
   "execution_count": 52,
   "id": "6438ffda",
   "metadata": {},
   "outputs": [],
   "source": [
    "x= 10"
   ]
  },
  {
   "cell_type": "code",
   "execution_count": 53,
   "id": "703a5273",
   "metadata": {},
   "outputs": [],
   "source": [
    "x<<=10"
   ]
  },
  {
   "cell_type": "code",
   "execution_count": 54,
   "id": "3e39006d",
   "metadata": {},
   "outputs": [
    {
     "data": {
      "text/plain": [
       "10240"
      ]
     },
     "execution_count": 54,
     "metadata": {},
     "output_type": "execute_result"
    }
   ],
   "source": [
    "x"
   ]
  },
  {
   "cell_type": "code",
   "execution_count": 55,
   "id": "030f0847",
   "metadata": {},
   "outputs": [],
   "source": [
    "x>>=2"
   ]
  },
  {
   "cell_type": "code",
   "execution_count": 56,
   "id": "8ee16a4a",
   "metadata": {},
   "outputs": [
    {
     "data": {
      "text/plain": [
       "2560"
      ]
     },
     "execution_count": 56,
     "metadata": {},
     "output_type": "execute_result"
    }
   ],
   "source": [
    "x"
   ]
  },
  {
   "cell_type": "code",
   "execution_count": 57,
   "id": "02d21fad",
   "metadata": {},
   "outputs": [],
   "source": [
    "mystr = 'machine lesrning is fumn'"
   ]
  },
  {
   "cell_type": "code",
   "execution_count": 58,
   "id": "024edd0b",
   "metadata": {},
   "outputs": [
    {
     "data": {
      "text/plain": [
       "True"
      ]
     },
     "execution_count": 58,
     "metadata": {},
     "output_type": "execute_result"
    }
   ],
   "source": [
    "'machine' in mystr"
   ]
  },
  {
   "cell_type": "code",
   "execution_count": 59,
   "id": "d2ecf719",
   "metadata": {},
   "outputs": [
    {
     "data": {
      "text/plain": [
       "False"
      ]
     },
     "execution_count": 59,
     "metadata": {},
     "output_type": "execute_result"
    }
   ],
   "source": [
    "'z' in mystr"
   ]
  },
  {
   "cell_type": "code",
   "execution_count": 60,
   "id": "9cf5d54c",
   "metadata": {},
   "outputs": [
    {
     "data": {
      "text/plain": [
       "True"
      ]
     },
     "execution_count": 60,
     "metadata": {},
     "output_type": "execute_result"
    }
   ],
   "source": [
    "'z' not in mystr"
   ]
  },
  {
   "cell_type": "code",
   "execution_count": 61,
   "id": "cac5d73a",
   "metadata": {},
   "outputs": [],
   "source": [
    "def myfunc():\n",
    "    print('hello python lovers')"
   ]
  },
  {
   "cell_type": "code",
   "execution_count": 62,
   "id": "7dbbc492",
   "metadata": {},
   "outputs": [
    {
     "name": "stdout",
     "output_type": "stream",
     "text": [
      "hello python lovers\n"
     ]
    }
   ],
   "source": [
    "myfunc()"
   ]
  },
  {
   "cell_type": "code",
   "execution_count": 64,
   "id": "7995441b",
   "metadata": {},
   "outputs": [],
   "source": [
    "def details(name,userid,email):\n",
    "    print(\"name is : \", name)\n",
    "    print('userid id : ', userid )\n",
    "    print('email id is :', email)"
   ]
  },
  {
   "cell_type": "code",
   "execution_count": 67,
   "id": "effd880b",
   "metadata": {},
   "outputs": [
    {
     "name": "stdout",
     "output_type": "stream",
     "text": [
      "name is :  sanjay\n",
      "userid id :  101\n",
      "email id is : abc@gmail.com\n"
     ]
    }
   ],
   "source": [
    "details('sanjay', 101,'abc@gmail.com')"
   ]
  },
  {
   "cell_type": "code",
   "execution_count": 68,
   "id": "6549b146",
   "metadata": {},
   "outputs": [],
   "source": [
    "def square(n):\n",
    "    n = n*n\n",
    "    return n"
   ]
  },
  {
   "cell_type": "code",
   "execution_count": 69,
   "id": "ffddde2c",
   "metadata": {},
   "outputs": [
    {
     "data": {
      "text/plain": [
       "4"
      ]
     },
     "execution_count": 69,
     "metadata": {},
     "output_type": "execute_result"
    }
   ],
   "source": [
    "square(2)"
   ]
  },
  {
   "cell_type": "code",
   "execution_count": 73,
   "id": "49654ab6",
   "metadata": {},
   "outputs": [],
   "source": [
    "def even_odd(num):\n",
    "    \"\"\"This function will check odd even functality\"\"\"\n",
    "    if num%2==0:\n",
    "        print('number is even')\n",
    "    else:\n",
    "        print('numer is odd')"
   ]
  },
  {
   "cell_type": "code",
   "execution_count": 74,
   "id": "5180cc07",
   "metadata": {},
   "outputs": [
    {
     "name": "stdout",
     "output_type": "stream",
     "text": [
      "numer is odd\n"
     ]
    }
   ],
   "source": [
    "even_odd(5)"
   ]
  },
  {
   "cell_type": "code",
   "execution_count": 75,
   "id": "9be848c4",
   "metadata": {},
   "outputs": [
    {
     "name": "stdout",
     "output_type": "stream",
     "text": [
      "number is even\n"
     ]
    }
   ],
   "source": [
    "even_odd(6)"
   ]
  },
  {
   "cell_type": "code",
   "execution_count": 77,
   "id": "d66e335a",
   "metadata": {},
   "outputs": [
    {
     "data": {
      "text/plain": [
       "'This function will check odd even functality'"
      ]
     },
     "execution_count": 77,
     "metadata": {},
     "output_type": "execute_result"
    }
   ],
   "source": [
    "even_odd.__doc__"
   ]
  },
  {
   "cell_type": "code",
   "execution_count": 83,
   "id": "4c4a1860",
   "metadata": {},
   "outputs": [],
   "source": [
    "def fullname(fname,mname,lname):\n",
    "    r = \"{} {} {}\".format(fname,mname,lname)\n",
    "    return r"
   ]
  },
  {
   "cell_type": "code",
   "execution_count": 84,
   "id": "0cb7177d",
   "metadata": {},
   "outputs": [
    {
     "data": {
      "text/plain": [
       "'ravi kumar sharma'"
      ]
     },
     "execution_count": 84,
     "metadata": {},
     "output_type": "execute_result"
    }
   ],
   "source": [
    "fullname('ravi', 'kumar', 'sharma')"
   ]
  },
  {
   "cell_type": "code",
   "execution_count": 85,
   "id": "4f67bdbc",
   "metadata": {},
   "outputs": [],
   "source": [
    "def mycity(city = 'Mumbai'):\n",
    "    print('my favourate city is :', city)"
   ]
  },
  {
   "cell_type": "code",
   "execution_count": 86,
   "id": "34dc214e",
   "metadata": {},
   "outputs": [
    {
     "name": "stdout",
     "output_type": "stream",
     "text": [
      "my favourate city is : Mumbai\n"
     ]
    }
   ],
   "source": [
    "mycity()"
   ]
  },
  {
   "cell_type": "code",
   "execution_count": 87,
   "id": "69928b13",
   "metadata": {},
   "outputs": [
    {
     "name": "stdout",
     "output_type": "stream",
     "text": [
      "my favourate city is : new delhi\n"
     ]
    }
   ],
   "source": [
    "mycity('new delhi')"
   ]
  },
  {
   "cell_type": "code",
   "execution_count": 94,
   "id": "a6097ec3",
   "metadata": {},
   "outputs": [],
   "source": [
    "var1 = 100\n",
    "def func():\n",
    "    print(var1)\n",
    "    \n",
    "def func2():\n",
    "    var2 = 10\n",
    "    print(var1)\n",
    "    print(var2)\n",
    "    \n",
    "def fun3():\n",
    "    print(var2)\n",
    "    \n",
    "    "
   ]
  },
  {
   "cell_type": "code",
   "execution_count": 95,
   "id": "36bd42ab",
   "metadata": {},
   "outputs": [
    {
     "name": "stdout",
     "output_type": "stream",
     "text": [
      "100\n"
     ]
    }
   ],
   "source": [
    "func()"
   ]
  },
  {
   "cell_type": "code",
   "execution_count": 96,
   "id": "4152fae1",
   "metadata": {},
   "outputs": [
    {
     "name": "stdout",
     "output_type": "stream",
     "text": [
      "100\n",
      "10\n"
     ]
    }
   ],
   "source": [
    "func2()"
   ]
  },
  {
   "cell_type": "code",
   "execution_count": 97,
   "id": "99c0899b",
   "metadata": {},
   "outputs": [
    {
     "ename": "NameError",
     "evalue": "name 'var2' is not defined",
     "output_type": "error",
     "traceback": [
      "\u001b[1;31m---------------------------------------------------------------------------\u001b[0m",
      "\u001b[1;31mNameError\u001b[0m                                 Traceback (most recent call last)",
      "\u001b[1;32m<ipython-input-97-745ef96b98eb>\u001b[0m in \u001b[0;36m<module>\u001b[1;34m\u001b[0m\n\u001b[1;32m----> 1\u001b[1;33m \u001b[0mfun3\u001b[0m\u001b[1;33m(\u001b[0m\u001b[1;33m)\u001b[0m\u001b[1;33m\u001b[0m\u001b[1;33m\u001b[0m\u001b[0m\n\u001b[0m",
      "\u001b[1;32m<ipython-input-94-0ac5e0de8f7b>\u001b[0m in \u001b[0;36mfun3\u001b[1;34m()\u001b[0m\n\u001b[0;32m      9\u001b[0m \u001b[1;33m\u001b[0m\u001b[0m\n\u001b[0;32m     10\u001b[0m \u001b[1;32mdef\u001b[0m \u001b[0mfun3\u001b[0m\u001b[1;33m(\u001b[0m\u001b[1;33m)\u001b[0m\u001b[1;33m:\u001b[0m\u001b[1;33m\u001b[0m\u001b[1;33m\u001b[0m\u001b[0m\n\u001b[1;32m---> 11\u001b[1;33m     \u001b[0mprint\u001b[0m\u001b[1;33m(\u001b[0m\u001b[0mvar2\u001b[0m\u001b[1;33m)\u001b[0m\u001b[1;33m\u001b[0m\u001b[1;33m\u001b[0m\u001b[0m\n\u001b[0m\u001b[0;32m     12\u001b[0m \u001b[1;33m\u001b[0m\u001b[0m\n\u001b[0;32m     13\u001b[0m \u001b[1;33m\u001b[0m\u001b[0m\n",
      "\u001b[1;31mNameError\u001b[0m: name 'var2' is not defined"
     ]
    }
   ],
   "source": [
    "fun3()"
   ]
  },
  {
   "cell_type": "code",
   "execution_count": 98,
   "id": "79499f7f",
   "metadata": {},
   "outputs": [],
   "source": [
    "var1 = 100\n",
    "def fun4():\n",
    "    var1 = 99\n",
    "    print(var1)"
   ]
  },
  {
   "cell_type": "code",
   "execution_count": 99,
   "id": "081d47fe",
   "metadata": {},
   "outputs": [
    {
     "name": "stdout",
     "output_type": "stream",
     "text": [
      "99\n"
     ]
    }
   ],
   "source": [
    "fun4()"
   ]
  },
  {
   "cell_type": "code",
   "execution_count": 100,
   "id": "597268a2",
   "metadata": {},
   "outputs": [
    {
     "data": {
      "text/plain": [
       "100"
      ]
     },
     "execution_count": 100,
     "metadata": {},
     "output_type": "execute_result"
    }
   ],
   "source": [
    "var1"
   ]
  },
  {
   "cell_type": "code",
   "execution_count": 110,
   "id": "bad8faab",
   "metadata": {},
   "outputs": [
    {
     "name": "stdout",
     "output_type": "stream",
     "text": [
      "[11, 22, 33, 44, 55]\n",
      "[11, 33, 44, 55]\n"
     ]
    }
   ],
   "source": [
    "list1 = [11,22,33,44,55]\n",
    "def l(list1):\n",
    "    del list1[1]\n",
    "print(list1)    \n",
    "l(list1)\n",
    "\n",
    "print(list1)"
   ]
  },
  {
   "cell_type": "code",
   "execution_count": 114,
   "id": "80d9bd03",
   "metadata": {},
   "outputs": [
    {
     "name": "stdout",
     "output_type": "stream",
     "text": [
      "[11, 22, 33, 44, 55]\n",
      "[11, 22, 33, 44, 55]\n"
     ]
    },
    {
     "data": {
      "text/plain": [
       "[11, 22, 33, 44, 55]"
      ]
     },
     "execution_count": 114,
     "metadata": {},
     "output_type": "execute_result"
    }
   ],
   "source": [
    "list1 = [11,22,33,44,55]\n",
    "def myfunc(list1):\n",
    "    list1 = [10,100,1000,10000]\n",
    "    \n",
    "    \n",
    "print(list1)\n",
    "\n",
    "myfunc(list1)\n",
    "\n",
    "print(list1)\n",
    "\n",
    "list1"
   ]
  },
  {
   "cell_type": "code",
   "execution_count": 116,
   "id": "6d2ab282",
   "metadata": {},
   "outputs": [
    {
     "data": {
      "text/plain": [
       "(10, 20)"
      ]
     },
     "execution_count": 116,
     "metadata": {},
     "output_type": "execute_result"
    }
   ],
   "source": [
    "def swap(a,b):\n",
    "    temp = a\n",
    "    a = b\n",
    "    b = temp\n",
    "    \n",
    "a = 10\n",
    "b = 20\n",
    "\n",
    "swap(a,b)\n",
    "a,b"
   ]
  },
  {
   "cell_type": "code",
   "execution_count": 117,
   "id": "ac6ad638",
   "metadata": {},
   "outputs": [],
   "source": [
    "def factorial(num):\n",
    "    if num<=1:\n",
    "        return 1\n",
    "    else:\n",
    "        return num*factorial(num-1)"
   ]
  },
  {
   "cell_type": "code",
   "execution_count": 118,
   "id": "b75565f3",
   "metadata": {},
   "outputs": [
    {
     "data": {
      "text/plain": [
       "1"
      ]
     },
     "execution_count": 118,
     "metadata": {},
     "output_type": "execute_result"
    }
   ],
   "source": [
    "factorial(1)"
   ]
  },
  {
   "cell_type": "code",
   "execution_count": 119,
   "id": "b2569b7e",
   "metadata": {},
   "outputs": [
    {
     "data": {
      "text/plain": [
       "2"
      ]
     },
     "execution_count": 119,
     "metadata": {},
     "output_type": "execute_result"
    }
   ],
   "source": [
    "factorial(2)"
   ]
  },
  {
   "cell_type": "code",
   "execution_count": 120,
   "id": "57d94b05",
   "metadata": {},
   "outputs": [
    {
     "data": {
      "text/plain": [
       "24"
      ]
     },
     "execution_count": 120,
     "metadata": {},
     "output_type": "execute_result"
    }
   ],
   "source": [
    "factorial(4)"
   ]
  },
  {
   "cell_type": "code",
   "execution_count": 121,
   "id": "712c7e91",
   "metadata": {},
   "outputs": [],
   "source": [
    "def add(num):\n",
    "    if num==0:\n",
    "        return 0\n",
    "    else:\n",
    "        return num + add(num-1)"
   ]
  },
  {
   "cell_type": "code",
   "execution_count": 122,
   "id": "1a599aa1",
   "metadata": {},
   "outputs": [
    {
     "data": {
      "text/plain": [
       "0"
      ]
     },
     "execution_count": 122,
     "metadata": {},
     "output_type": "execute_result"
    }
   ],
   "source": [
    "add(0)"
   ]
  },
  {
   "cell_type": "code",
   "execution_count": 123,
   "id": "ab22fa7e",
   "metadata": {},
   "outputs": [
    {
     "data": {
      "text/plain": [
       "15"
      ]
     },
     "execution_count": 123,
     "metadata": {},
     "output_type": "execute_result"
    }
   ],
   "source": [
    "add(5)"
   ]
  },
  {
   "cell_type": "code",
   "execution_count": 124,
   "id": "51c07fd7",
   "metadata": {},
   "outputs": [
    {
     "data": {
      "text/plain": [
       "10"
      ]
     },
     "execution_count": 124,
     "metadata": {},
     "output_type": "execute_result"
    }
   ],
   "source": [
    "add(4)"
   ]
  },
  {
   "cell_type": "code",
   "execution_count": 125,
   "id": "eacadfe4",
   "metadata": {},
   "outputs": [
    {
     "name": "stdout",
     "output_type": "stream",
     "text": [
      "how many fibonacci numbers you want to generate - 25\n",
      "0\n",
      "1\n",
      "1\n",
      "2\n",
      "3\n",
      "5\n",
      "8\n",
      "13\n",
      "21\n",
      "34\n",
      "55\n",
      "89\n",
      "144\n",
      "233\n",
      "377\n",
      "610\n",
      "987\n",
      "1597\n",
      "2584\n",
      "4181\n",
      "6765\n",
      "10946\n",
      "17711\n",
      "28657\n",
      "46368\n"
     ]
    }
   ],
   "source": [
    "def fiboacci(num):\n",
    "    if num<=1:\n",
    "        return num\n",
    "    if num==2:\n",
    "        return 1\n",
    "    else:\n",
    "        return (fiboacci(num-1)+fiboacci(num-2))\n",
    "    \n",
    "    \n",
    "nums = int(input(\"how many fibonacci numbers you want to generate - \"))\n",
    "\n",
    "\n",
    "for i in range(nums):\n",
    "    print(fiboacci(i))"
   ]
  },
  {
   "cell_type": "code",
   "execution_count": 129,
   "id": "e70b28b6",
   "metadata": {},
   "outputs": [
    {
     "data": {
      "text/plain": [
       "75025"
      ]
     },
     "execution_count": 129,
     "metadata": {},
     "output_type": "execute_result"
    }
   ],
   "source": [
    "fiboacci(25)"
   ]
  },
  {
   "cell_type": "code",
   "execution_count": 136,
   "id": "5a5f4a1d",
   "metadata": {},
   "outputs": [
    {
     "name": "stdout",
     "output_type": "stream",
     "text": [
      "1\n",
      "2\n",
      "3\n"
     ]
    }
   ],
   "source": [
    "def some_args(args1,args2,args3):\n",
    "    print(args1)\n",
    "    print(args2)\n",
    "    print(args3)\n",
    "my_list = [2,3]\n",
    "\n",
    "some_args(1,*my_list)"
   ]
  },
  {
   "cell_type": "code",
   "execution_count": 137,
   "id": "da88ff33",
   "metadata": {},
   "outputs": [],
   "source": [
    "def addone(*args):\n",
    "    return sum(args)"
   ]
  },
  {
   "cell_type": "code",
   "execution_count": 138,
   "id": "aad228cf",
   "metadata": {},
   "outputs": [
    {
     "data": {
      "text/plain": [
       "6"
      ]
     },
     "execution_count": 138,
     "metadata": {},
     "output_type": "execute_result"
    }
   ],
   "source": [
    "addone(1,2,3)"
   ]
  },
  {
   "cell_type": "code",
   "execution_count": 139,
   "id": "93f2fc4f",
   "metadata": {},
   "outputs": [
    {
     "data": {
      "text/plain": [
       "28"
      ]
     },
     "execution_count": 139,
     "metadata": {},
     "output_type": "execute_result"
    }
   ],
   "source": [
    "addone(7,8,5,2,6)"
   ]
  },
  {
   "cell_type": "code",
   "execution_count": 145,
   "id": "ab793860",
   "metadata": {},
   "outputs": [],
   "source": [
    "l1 = [1,2,3,4,5,6,7]\n",
    "l2 = [9,8,7,2,6]"
   ]
  },
  {
   "cell_type": "code",
   "execution_count": 141,
   "id": "a817d876",
   "metadata": {},
   "outputs": [],
   "source": [
    "t1 = (1,2,3,4,5,6,7)"
   ]
  },
  {
   "cell_type": "code",
   "execution_count": 143,
   "id": "b95d292a",
   "metadata": {},
   "outputs": [
    {
     "data": {
      "text/plain": [
       "28"
      ]
     },
     "execution_count": 143,
     "metadata": {},
     "output_type": "execute_result"
    }
   ],
   "source": [
    "addone(*l1)"
   ]
  },
  {
   "cell_type": "code",
   "execution_count": 144,
   "id": "87eaf0b8",
   "metadata": {},
   "outputs": [
    {
     "data": {
      "text/plain": [
       "28"
      ]
     },
     "execution_count": 144,
     "metadata": {},
     "output_type": "execute_result"
    }
   ],
   "source": [
    "addone(*t1)"
   ]
  },
  {
   "cell_type": "code",
   "execution_count": 147,
   "id": "0b8b1755",
   "metadata": {},
   "outputs": [
    {
     "data": {
      "text/plain": [
       "60"
      ]
     },
     "execution_count": 147,
     "metadata": {},
     "output_type": "execute_result"
    }
   ],
   "source": [
    "addone(*l1,*l2)"
   ]
  },
  {
   "cell_type": "code",
   "execution_count": 148,
   "id": "fb3cfcab",
   "metadata": {},
   "outputs": [],
   "source": [
    "def userdetails(*args):\n",
    "    return args"
   ]
  },
  {
   "cell_type": "code",
   "execution_count": 149,
   "id": "dc848b35",
   "metadata": {},
   "outputs": [
    {
     "data": {
      "text/plain": [
       "('sanjay', 201, 'abc@gmail', 'data_analyst')"
      ]
     },
     "execution_count": 149,
     "metadata": {},
     "output_type": "execute_result"
    }
   ],
   "source": [
    "userdetails('sanjay', 201, 'abc@gmail', 'data_analyst')"
   ]
  },
  {
   "cell_type": "code",
   "execution_count": 150,
   "id": "184acd22",
   "metadata": {},
   "outputs": [],
   "source": [
    "def userdetails(**kwargs):\n",
    "    return kwargs"
   ]
  },
  {
   "cell_type": "code",
   "execution_count": 153,
   "id": "ccc79860",
   "metadata": {},
   "outputs": [
    {
     "data": {
      "text/plain": [
       "{'name': 'sanjay', 'id': 201, 'email': 'abc@gmail', 'job': 'data_analyst'}"
      ]
     },
     "execution_count": 153,
     "metadata": {},
     "output_type": "execute_result"
    }
   ],
   "source": [
    "userdetails(name='sanjay', id= 201, email= 'abc@gmail', job='data_analyst')"
   ]
  },
  {
   "cell_type": "code",
   "execution_count": 154,
   "id": "bcacec8a",
   "metadata": {},
   "outputs": [],
   "source": [
    "def userdetails(**kwargs):\n",
    "    for k,v in kwargs.items():\n",
    "        print(\"{}-{}\".format(k,v))"
   ]
  },
  {
   "cell_type": "code",
   "execution_count": 155,
   "id": "5ccea052",
   "metadata": {},
   "outputs": [
    {
     "name": "stdout",
     "output_type": "stream",
     "text": [
      "name-sanjay\n",
      "id-201\n",
      "email-abc@gmail\n",
      "job-data_analyst\n"
     ]
    }
   ],
   "source": [
    "userdetails(name='sanjay', id= 201, email= 'abc@gmail', job='data_analyst')"
   ]
  },
  {
   "cell_type": "code",
   "execution_count": 156,
   "id": "f054188d",
   "metadata": {},
   "outputs": [],
   "source": [
    "my_dict = {'name':'sanjay', 'id': 201, 'email': 'abc@gmail', 'job':'data_analyst'}"
   ]
  },
  {
   "cell_type": "code",
   "execution_count": 158,
   "id": "e48b8377",
   "metadata": {},
   "outputs": [
    {
     "name": "stdout",
     "output_type": "stream",
     "text": [
      "name-sanjay\n",
      "id-201\n",
      "email-abc@gmail\n",
      "job-data_analyst\n"
     ]
    }
   ],
   "source": [
    "userdetails(**my_dict)"
   ]
  },
  {
   "cell_type": "code",
   "execution_count": 163,
   "id": "9dbe3990",
   "metadata": {},
   "outputs": [],
   "source": [
    "def userdetails(licenceno , phoneno , *args, **kwargs ):\n",
    "    print(\"licenceno :\", licenceno)\n",
    "    print(\"phoneno :\", phoneno)\n",
    "    j = ''\n",
    "    for i in args:\n",
    "        j+=i\n",
    "    print('full name :', j)\n",
    "        \n",
    "    for k,v in kwargs.items():\n",
    "        print(\"{}: {}\".format(k,v))\n",
    "    "
   ]
  },
  {
   "cell_type": "code",
   "execution_count": 166,
   "id": "e01f1f32",
   "metadata": {},
   "outputs": [
    {
     "name": "stdout",
     "output_type": "stream",
     "text": [
      "licenceno : tyhup78l\n",
      "phoneno : 7896541236\n",
      "full name : sanjay rohit kumar\n",
      "name: sanjay\n",
      "id: 201\n",
      "email: abc@gmail\n",
      "job: data_analyst\n"
     ]
    }
   ],
   "source": [
    "name = ['sanjay', \" \", \"rohit\", \" \", \"kumar\"]\n",
    "my_dict = {'name':'sanjay', 'id': 201, 'email': 'abc@gmail', 'job':'data_analyst'}\n",
    "\n",
    "userdetails('tyhup78l',7896541236, *name, **my_dict)"
   ]
  },
  {
   "cell_type": "code",
   "execution_count": 167,
   "id": "bc33ffe6",
   "metadata": {},
   "outputs": [],
   "source": [
    "def userdetails(licenceno , phoneno , *args, **kwargs ):\n",
    "    print('nothing')"
   ]
  },
  {
   "cell_type": "code",
   "execution_count": 168,
   "id": "256faebd",
   "metadata": {},
   "outputs": [
    {
     "ename": "SyntaxError",
     "evalue": "invalid syntax (<ipython-input-168-500da062f57b>, line 1)",
     "output_type": "error",
     "traceback": [
      "\u001b[1;36m  File \u001b[1;32m\"<ipython-input-168-500da062f57b>\"\u001b[1;36m, line \u001b[1;32m1\u001b[0m\n\u001b[1;33m    def userdetails(licenceno , phoneno ,**kwargs, *args ):\u001b[0m\n\u001b[1;37m                                                   ^\u001b[0m\n\u001b[1;31mSyntaxError\u001b[0m\u001b[1;31m:\u001b[0m invalid syntax\n"
     ]
    }
   ],
   "source": [
    "def userdetails(licenceno , phoneno ,**kwargs, *args ):\n",
    "    print('nothing')"
   ]
  },
  {
   "cell_type": "code",
   "execution_count": 172,
   "id": "11d41af5",
   "metadata": {},
   "outputs": [],
   "source": [
    "product = lambda x,y:x*y"
   ]
  },
  {
   "cell_type": "code",
   "execution_count": 173,
   "id": "83dc323d",
   "metadata": {},
   "outputs": [
    {
     "data": {
      "text/plain": [
       "30"
      ]
     },
     "execution_count": 173,
     "metadata": {},
     "output_type": "execute_result"
    }
   ],
   "source": [
    "product(5,6)"
   ]
  },
  {
   "cell_type": "code",
   "execution_count": 174,
   "id": "4e766622",
   "metadata": {},
   "outputs": [],
   "source": [
    "addi  = lambda  a,b,c : a+b+c"
   ]
  },
  {
   "cell_type": "code",
   "execution_count": 175,
   "id": "ef6ecc30",
   "metadata": {},
   "outputs": [
    {
     "data": {
      "text/plain": [
       "22"
      ]
     },
     "execution_count": 175,
     "metadata": {},
     "output_type": "execute_result"
    }
   ],
   "source": [
    "addi(5,8,9)"
   ]
  },
  {
   "cell_type": "code",
   "execution_count": 183,
   "id": "aace449b",
   "metadata": {},
   "outputs": [],
   "source": [
    "u = lambda **kwargs: sum(kwargs.values())"
   ]
  },
  {
   "cell_type": "code",
   "execution_count": 185,
   "id": "63a12806",
   "metadata": {},
   "outputs": [
    {
     "data": {
      "text/plain": [
       "149"
      ]
     },
     "execution_count": 185,
     "metadata": {},
     "output_type": "execute_result"
    }
   ],
   "source": [
    "u(a = 10, b = 20, c = 30, d = 89)"
   ]
  },
  {
   "cell_type": "code",
   "execution_count": 191,
   "id": "a3d66f6d",
   "metadata": {},
   "outputs": [],
   "source": [
    "def product(nums):\n",
    "    total = 1\n",
    "    for i in range(nums):\n",
    "        total*=i\n",
    "    return total"
   ]
  },
  {
   "cell_type": "code",
   "execution_count": 192,
   "id": "a3998f24",
   "metadata": {},
   "outputs": [
    {
     "data": {
      "text/plain": [
       "0"
      ]
     },
     "execution_count": 192,
     "metadata": {},
     "output_type": "execute_result"
    }
   ],
   "source": [
    "product(10)"
   ]
  },
  {
   "cell_type": "code",
   "execution_count": 193,
   "id": "2cb0f49c",
   "metadata": {},
   "outputs": [],
   "source": [
    "def my_fun(n):\n",
    "    return lambda a: a+n"
   ]
  },
  {
   "cell_type": "code",
   "execution_count": 195,
   "id": "d73c62fc",
   "metadata": {},
   "outputs": [],
   "source": [
    "d = my_fun(20)"
   ]
  },
  {
   "cell_type": "code",
   "execution_count": 196,
   "id": "a42e2047",
   "metadata": {},
   "outputs": [
    {
     "data": {
      "text/plain": [
       "25"
      ]
     },
     "execution_count": 196,
     "metadata": {},
     "output_type": "execute_result"
    }
   ],
   "source": [
    "d(5)"
   ]
  },
  {
   "cell_type": "code",
   "execution_count": 197,
   "id": "78207408",
   "metadata": {},
   "outputs": [],
   "source": [
    "l1 = [1,2,3,4,5,6,7,8,9]"
   ]
  },
  {
   "cell_type": "code",
   "execution_count": 1,
   "id": "fd967c4c",
   "metadata": {},
   "outputs": [],
   "source": [
    "l1 = [1,2,3,4,5,6,7,8,9]\n",
    "def odd(n):\n",
    "    if n%2 == 1:\n",
    "        return True\n",
    "    else:\n",
    "        return False\n"
   ]
  },
  {
   "cell_type": "code",
   "execution_count": 2,
   "id": "91bb9b69",
   "metadata": {},
   "outputs": [
    {
     "data": {
      "text/plain": [
       "[1, 3, 5, 7, 9]"
      ]
     },
     "execution_count": 2,
     "metadata": {},
     "output_type": "execute_result"
    }
   ],
   "source": [
    "list(filter(odd,l1))"
   ]
  },
  {
   "cell_type": "code",
   "execution_count": 5,
   "id": "e1e0785a",
   "metadata": {},
   "outputs": [
    {
     "data": {
      "text/plain": [
       "[1, 3, 5, 7, 9]"
      ]
     },
     "execution_count": 5,
     "metadata": {},
     "output_type": "execute_result"
    }
   ],
   "source": [
    "list(filter(lambda x:x%2==1, l1))"
   ]
  },
  {
   "cell_type": "code",
   "execution_count": 2,
   "id": "e3010b40",
   "metadata": {},
   "outputs": [],
   "source": [
    "list1 = [1,2,3,4,5,6,7,8,9,10]"
   ]
  },
  {
   "cell_type": "code",
   "execution_count": 4,
   "id": "87ff03ad",
   "metadata": {},
   "outputs": [],
   "source": [
    "even = list(filter(lambda x:x%2==0, list1))"
   ]
  },
  {
   "cell_type": "code",
   "execution_count": 6,
   "id": "22892579",
   "metadata": {},
   "outputs": [
    {
     "data": {
      "text/plain": [
       "[1, 3, 5, 7, 9]"
      ]
     },
     "execution_count": 6,
     "metadata": {},
     "output_type": "execute_result"
    }
   ],
   "source": [
    "list(filter(lambda x:x%2!=0, list1))"
   ]
  },
  {
   "cell_type": "code",
   "execution_count": 22,
   "id": "23c5e1bc",
   "metadata": {},
   "outputs": [],
   "source": [
    "list3 = ['one', 'TWO2', 'three3', 'FOUR', 'five', '88','99','102' ]"
   ]
  },
  {
   "cell_type": "code",
   "execution_count": 16,
   "id": "e2972484",
   "metadata": {},
   "outputs": [
    {
     "data": {
      "text/plain": [
       "['TWO', 'FOUR']"
      ]
     },
     "execution_count": 16,
     "metadata": {},
     "output_type": "execute_result"
    }
   ],
   "source": [
    "list(filter(lambda x:x.isupper(), list2))"
   ]
  },
  {
   "cell_type": "code",
   "execution_count": 17,
   "id": "3d6639cd",
   "metadata": {},
   "outputs": [
    {
     "data": {
      "text/plain": [
       "['one', 'three']"
      ]
     },
     "execution_count": 17,
     "metadata": {},
     "output_type": "execute_result"
    }
   ],
   "source": [
    "list(filter(lambda x:x.islower(), list2))"
   ]
  },
  {
   "cell_type": "code",
   "execution_count": 23,
   "id": "0919301b",
   "metadata": {},
   "outputs": [
    {
     "data": {
      "text/plain": [
       "['one', 'FOUR', 'five']"
      ]
     },
     "execution_count": 23,
     "metadata": {},
     "output_type": "execute_result"
    }
   ],
   "source": [
    "list(filter(lambda x:x.isalpha(), list3))"
   ]
  },
  {
   "cell_type": "code",
   "execution_count": 27,
   "id": "99873060",
   "metadata": {},
   "outputs": [
    {
     "data": {
      "text/plain": [
       "['one', 'TWO2', 'three3', 'FOUR', 'five', '88', '99', '102']"
      ]
     },
     "execution_count": 27,
     "metadata": {},
     "output_type": "execute_result"
    }
   ],
   "source": [
    "list(filter(lambda x:x.isalnum(), list3))"
   ]
  },
  {
   "cell_type": "code",
   "execution_count": 31,
   "id": "68ac0a8f",
   "metadata": {},
   "outputs": [
    {
     "data": {
      "text/plain": [
       "['88', '99', '102']"
      ]
     },
     "execution_count": 31,
     "metadata": {},
     "output_type": "execute_result"
    }
   ],
   "source": [
    "list(filter(lambda x:x.isnumeric(), list3))"
   ]
  },
  {
   "cell_type": "code",
   "execution_count": 32,
   "id": "13b17399",
   "metadata": {},
   "outputs": [],
   "source": [
    "list1 = [1,2,3,4]"
   ]
  },
  {
   "cell_type": "code",
   "execution_count": 33,
   "id": "10f8b3f5",
   "metadata": {},
   "outputs": [],
   "source": [
    "list2 = [5,6,7,8]"
   ]
  },
  {
   "cell_type": "code",
   "execution_count": 34,
   "id": "5615a47b",
   "metadata": {},
   "outputs": [],
   "source": [
    "def double(x):\n",
    "    return x+x"
   ]
  },
  {
   "cell_type": "code",
   "execution_count": 35,
   "id": "07418b15",
   "metadata": {},
   "outputs": [],
   "source": [
    "def square(x):\n",
    "    return x*x"
   ]
  },
  {
   "cell_type": "code",
   "execution_count": 36,
   "id": "83078e36",
   "metadata": {},
   "outputs": [],
   "source": [
    "def add(x,y):\n",
    "    return x+y"
   ]
  },
  {
   "cell_type": "code",
   "execution_count": 38,
   "id": "77bc14b5",
   "metadata": {},
   "outputs": [
    {
     "data": {
      "text/plain": [
       "[2, 4, 6, 8]"
      ]
     },
     "execution_count": 38,
     "metadata": {},
     "output_type": "execute_result"
    }
   ],
   "source": [
    "list(map(double,list1))"
   ]
  },
  {
   "cell_type": "code",
   "execution_count": 40,
   "id": "a1ee7db7",
   "metadata": {},
   "outputs": [
    {
     "data": {
      "text/plain": [
       "[25, 36, 49, 64]"
      ]
     },
     "execution_count": 40,
     "metadata": {},
     "output_type": "execute_result"
    }
   ],
   "source": [
    "list(map(square,list2))"
   ]
  },
  {
   "cell_type": "code",
   "execution_count": 42,
   "id": "2e4170c4",
   "metadata": {},
   "outputs": [
    {
     "data": {
      "text/plain": [
       "[6, 8, 10, 12]"
      ]
     },
     "execution_count": 42,
     "metadata": {},
     "output_type": "execute_result"
    }
   ],
   "source": [
    "list(map(add, list1, list2))"
   ]
  },
  {
   "cell_type": "code",
   "execution_count": 45,
   "id": "b3b8c41c",
   "metadata": {},
   "outputs": [
    {
     "data": {
      "text/plain": [
       "[25, 36, 49, 64]"
      ]
     },
     "execution_count": 45,
     "metadata": {},
     "output_type": "execute_result"
    }
   ],
   "source": [
    "list(map(lambda x:x*x, list2))"
   ]
  },
  {
   "cell_type": "code",
   "execution_count": 49,
   "id": "b7ae36bb",
   "metadata": {},
   "outputs": [
    {
     "data": {
      "text/plain": [
       "[2, 4, 6, 8]"
      ]
     },
     "execution_count": 49,
     "metadata": {},
     "output_type": "execute_result"
    }
   ],
   "source": [
    "list(map(lambda x:x+x, list1))"
   ]
  },
  {
   "cell_type": "code",
   "execution_count": 53,
   "id": "65d1f010",
   "metadata": {},
   "outputs": [
    {
     "data": {
      "text/plain": [
       "[6, 8, 10, 12]"
      ]
     },
     "execution_count": 53,
     "metadata": {},
     "output_type": "execute_result"
    }
   ],
   "source": [
    "list(map(lambda x,y:x+y, list1, list2))"
   ]
  },
  {
   "cell_type": "code",
   "execution_count": 54,
   "id": "fe807266",
   "metadata": {},
   "outputs": [
    {
     "data": {
      "text/plain": [
       "[1, 2, 3, 4]"
      ]
     },
     "execution_count": 54,
     "metadata": {},
     "output_type": "execute_result"
    }
   ],
   "source": [
    "list1"
   ]
  },
  {
   "cell_type": "code",
   "execution_count": 55,
   "id": "761e6b82",
   "metadata": {},
   "outputs": [],
   "source": [
    "from functools import reduce"
   ]
  },
  {
   "cell_type": "code",
   "execution_count": null,
   "id": "432f9380",
   "metadata": {},
   "outputs": [],
   "source": [
    "reduce(open)"
   ]
  },
  {
   "cell_type": "code",
   "execution_count": 58,
   "id": "753734cd",
   "metadata": {},
   "outputs": [
    {
     "data": {
      "text/plain": [
       "1"
      ]
     },
     "execution_count": 58,
     "metadata": {},
     "output_type": "execute_result"
    }
   ],
   "source": [
    "reduce(lambda a,b : a if a<b else b, list1)"
   ]
  },
  {
   "cell_type": "code",
   "execution_count": 61,
   "id": "32ec16b2",
   "metadata": {},
   "outputs": [
    {
     "data": {
      "text/plain": [
       "4"
      ]
     },
     "execution_count": 61,
     "metadata": {},
     "output_type": "execute_result"
    }
   ],
   "source": [
    "reduce(lambda a,b : a if a>b else b, list1)"
   ]
  },
  {
   "cell_type": "code",
   "execution_count": 62,
   "id": "6614a467",
   "metadata": {},
   "outputs": [
    {
     "data": {
      "text/plain": [
       "0"
      ]
     },
     "execution_count": 62,
     "metadata": {},
     "output_type": "execute_result"
    }
   ],
   "source": [
    "0 and 0"
   ]
  },
  {
   "cell_type": "code",
   "execution_count": 65,
   "id": "05ccce7b",
   "metadata": {},
   "outputs": [
    {
     "data": {
      "text/plain": [
       "False"
      ]
     },
     "execution_count": 65,
     "metadata": {},
     "output_type": "execute_result"
    }
   ],
   "source": [
    "reduce(lambda a,b: bool(a and b), [0,1,0,0,1])"
   ]
  },
  {
   "cell_type": "code",
   "execution_count": 68,
   "id": "e62d5802",
   "metadata": {},
   "outputs": [
    {
     "data": {
      "text/plain": [
       "True"
      ]
     },
     "execution_count": 68,
     "metadata": {},
     "output_type": "execute_result"
    }
   ],
   "source": [
    "reduce(lambda a,b : bool(a or b), [0,1,0,0,1])"
   ]
  },
  {
   "cell_type": "code",
   "execution_count": 69,
   "id": "c787dd92",
   "metadata": {},
   "outputs": [],
   "source": [
    "class myclass():\n",
    "    var = 10"
   ]
  },
  {
   "cell_type": "code",
   "execution_count": 71,
   "id": "25bb53d8",
   "metadata": {},
   "outputs": [],
   "source": [
    "obj1 = myclass()"
   ]
  },
  {
   "cell_type": "code",
   "execution_count": 73,
   "id": "a56b7f5c",
   "metadata": {},
   "outputs": [
    {
     "name": "stdout",
     "output_type": "stream",
     "text": [
      "10\n"
     ]
    }
   ],
   "source": [
    "print(obj1.var)"
   ]
  },
  {
   "cell_type": "code",
   "execution_count": 74,
   "id": "7c84c899",
   "metadata": {},
   "outputs": [],
   "source": [
    "class Employee:\n",
    "    def __init__(self,name,empid):\n",
    "        self.name = name\n",
    "        self.empid = empid\n",
    "        \n",
    "    def greet(self):\n",
    "        print(\"Thank you for joining the company mar. {}\".format(self.name))"
   ]
  },
  {
   "cell_type": "code",
   "execution_count": 77,
   "id": "32193a86",
   "metadata": {},
   "outputs": [],
   "source": [
    "emp1 = Employee('sanjay', 101)"
   ]
  },
  {
   "cell_type": "code",
   "execution_count": 78,
   "id": "d37e0652",
   "metadata": {},
   "outputs": [
    {
     "data": {
      "text/plain": [
       "101"
      ]
     },
     "execution_count": 78,
     "metadata": {},
     "output_type": "execute_result"
    }
   ],
   "source": [
    "emp1.empid"
   ]
  },
  {
   "cell_type": "code",
   "execution_count": 80,
   "id": "97f223e1",
   "metadata": {},
   "outputs": [
    {
     "name": "stdout",
     "output_type": "stream",
     "text": [
      "Thank you for joining the company mar. sanjay\n"
     ]
    }
   ],
   "source": [
    "emp1.greet()"
   ]
  },
  {
   "cell_type": "code",
   "execution_count": 81,
   "id": "76aeb7b3",
   "metadata": {},
   "outputs": [
    {
     "data": {
      "text/plain": [
       "'sanjay'"
      ]
     },
     "execution_count": 81,
     "metadata": {},
     "output_type": "execute_result"
    }
   ],
   "source": [
    "emp1.name"
   ]
  },
  {
   "cell_type": "code",
   "execution_count": 83,
   "id": "02d63e3f",
   "metadata": {},
   "outputs": [],
   "source": [
    "emp1.name = 'kumar'"
   ]
  },
  {
   "cell_type": "code",
   "execution_count": 84,
   "id": "e77489a0",
   "metadata": {},
   "outputs": [
    {
     "data": {
      "text/plain": [
       "'kumar'"
      ]
     },
     "execution_count": 84,
     "metadata": {},
     "output_type": "execute_result"
    }
   ],
   "source": [
    "emp1.name"
   ]
  },
  {
   "cell_type": "code",
   "execution_count": 85,
   "id": "209113cb",
   "metadata": {},
   "outputs": [],
   "source": [
    "del emp1.empid"
   ]
  },
  {
   "cell_type": "code",
   "execution_count": 86,
   "id": "679e937c",
   "metadata": {},
   "outputs": [],
   "source": [
    "del emp1"
   ]
  },
  {
   "cell_type": "code",
   "execution_count": 87,
   "id": "36ec0cbb",
   "metadata": {},
   "outputs": [
    {
     "ename": "NameError",
     "evalue": "name 'emp1' is not defined",
     "output_type": "error",
     "traceback": [
      "\u001b[1;31m---------------------------------------------------------------------------\u001b[0m",
      "\u001b[1;31mNameError\u001b[0m                                 Traceback (most recent call last)",
      "\u001b[1;32m<ipython-input-87-c52c86cb6dcc>\u001b[0m in \u001b[0;36m<module>\u001b[1;34m\u001b[0m\n\u001b[1;32m----> 1\u001b[1;33m \u001b[0memp1\u001b[0m\u001b[1;33m\u001b[0m\u001b[1;33m\u001b[0m\u001b[0m\n\u001b[0m",
      "\u001b[1;31mNameError\u001b[0m: name 'emp1' is not defined"
     ]
    }
   ],
   "source": [
    "emp1"
   ]
  },
  {
   "cell_type": "code",
   "execution_count": 88,
   "id": "001cff06",
   "metadata": {},
   "outputs": [],
   "source": [
    "emp2 = Employee('rohit', 121)"
   ]
  },
  {
   "cell_type": "code",
   "execution_count": 89,
   "id": "9efcfc3f",
   "metadata": {},
   "outputs": [
    {
     "data": {
      "text/plain": [
       "121"
      ]
     },
     "execution_count": 89,
     "metadata": {},
     "output_type": "execute_result"
    }
   ],
   "source": [
    "emp2.empid"
   ]
  },
  {
   "cell_type": "code",
   "execution_count": 92,
   "id": "f7017a47",
   "metadata": {},
   "outputs": [
    {
     "name": "stdout",
     "output_type": "stream",
     "text": [
      "Thank you for joining the company mar. rohit\n"
     ]
    }
   ],
   "source": [
    "emp2.greet()"
   ]
  },
  {
   "cell_type": "code",
   "execution_count": 93,
   "id": "341be0e0",
   "metadata": {},
   "outputs": [
    {
     "data": {
      "text/plain": [
       "'rohit'"
      ]
     },
     "execution_count": 93,
     "metadata": {},
     "output_type": "execute_result"
    }
   ],
   "source": [
    "emp2.name"
   ]
  },
  {
   "cell_type": "code",
   "execution_count": 94,
   "id": "c366d70e",
   "metadata": {},
   "outputs": [],
   "source": [
    "emp2.country = 'india'"
   ]
  },
  {
   "cell_type": "code",
   "execution_count": 95,
   "id": "80e173ce",
   "metadata": {},
   "outputs": [
    {
     "data": {
      "text/plain": [
       "'india'"
      ]
     },
     "execution_count": 95,
     "metadata": {},
     "output_type": "execute_result"
    }
   ],
   "source": [
    "emp2.country"
   ]
  },
  {
   "cell_type": "code",
   "execution_count": 116,
   "id": "91d58af3",
   "metadata": {},
   "outputs": [],
   "source": [
    " class Person:\n",
    "        def __init__(self,name,age,gender):\n",
    "            self.name = name\n",
    "            self.age = age\n",
    "            self.gender = gender\n",
    "            \n",
    "        def personinfo(self):\n",
    "            print('the name {}'.format(self.name))\n",
    "            print('the age {}'.format(self.age))\n",
    "            print('the gender {}'.format(self.gender))\n",
    "            \n",
    "        "
   ]
  },
  {
   "cell_type": "code",
   "execution_count": 127,
   "id": "b996f6c7",
   "metadata": {},
   "outputs": [],
   "source": [
    "class Student(Person):\n",
    "    def __init__(self, name,age,gender,studentid, fee):\n",
    "        super().__init__(name,age,gender)\n",
    "        self.studentid = studentid\n",
    "        self.fee = fee\n",
    "        \n",
    "    def studentinfo(self):\n",
    "        super().personinfo()\n",
    "        print(\"the studentid id id {}\".format(self.studentid))\n",
    "        print('the feee of student is {}'.format(self.fee))\n",
    "        \n",
    "        \n",
    "        "
   ]
  },
  {
   "cell_type": "code",
   "execution_count": 118,
   "id": "ae17513e",
   "metadata": {},
   "outputs": [],
   "source": [
    "class Teacher(Person):\n",
    "    def __init__(self, name,age,gender,salary,empid):\n",
    "        person.__init__(self, name,age,gender)\n",
    "        self.salary = salary\n",
    "        self.empid = empid\n",
    "        \n",
    "    def teacherinfo(self):\n",
    "        print('the salary is {}'.format(self.salary))\n",
    "        print('the empd id is {}'.format(self.empid))"
   ]
  },
  {
   "cell_type": "code",
   "execution_count": 129,
   "id": "7a293070",
   "metadata": {},
   "outputs": [],
   "source": [
    "stud1 = Student('sanjay kumar', 35,'male', 105,55000)"
   ]
  },
  {
   "cell_type": "code",
   "execution_count": 130,
   "id": "1a6c331b",
   "metadata": {},
   "outputs": [
    {
     "name": "stdout",
     "output_type": "stream",
     "text": [
      "the name sanjay kumar\n",
      "the age 35\n",
      "the gender male\n"
     ]
    }
   ],
   "source": [
    "stud1.personinfo()"
   ]
  },
  {
   "cell_type": "code",
   "execution_count": 131,
   "id": "f2fc7f16",
   "metadata": {},
   "outputs": [
    {
     "name": "stdout",
     "output_type": "stream",
     "text": [
      "the name sanjay kumar\n",
      "the age 35\n",
      "the gender male\n",
      "the studentid id id 105\n",
      "the feee of student is 55000\n"
     ]
    }
   ],
   "source": [
    "stud1.studentinfo()"
   ]
  },
  {
   "cell_type": "code",
   "execution_count": 123,
   "id": "98eedf5f",
   "metadata": {},
   "outputs": [],
   "source": [
    "tea = Teacher('ravi', 32,'female', 65000, 101)"
   ]
  },
  {
   "cell_type": "code",
   "execution_count": 124,
   "id": "d7fbaaff",
   "metadata": {},
   "outputs": [
    {
     "name": "stdout",
     "output_type": "stream",
     "text": [
      "the name ravi\n",
      "the age 32\n",
      "the gender female\n"
     ]
    }
   ],
   "source": [
    "tea.personinfo()"
   ]
  },
  {
   "cell_type": "code",
   "execution_count": 125,
   "id": "89979c7d",
   "metadata": {},
   "outputs": [
    {
     "name": "stdout",
     "output_type": "stream",
     "text": [
      "the salary is 65000\n",
      "the empd id is 101\n"
     ]
    }
   ],
   "source": [
    "\n",
    "tea.teacherinfo()"
   ]
  },
  {
   "cell_type": "code",
   "execution_count": 159,
   "id": "19e99eee",
   "metadata": {},
   "outputs": [],
   "source": [
    "class Person():\n",
    "    def __init__(self, name,age,gender):\n",
    "        self.name = name\n",
    "        self.age = age\n",
    "        self.gender = gender\n",
    "    def personinfo(self):\n",
    "        print(\"person name {}\".format(self.name))\n",
    "        print('person age  {}'.format(self.age))\n",
    "        print('person gender {}'.format(self.gender))\n",
    "        \n",
    "        \n",
    "class Employee(Person):\n",
    "    def __init__(self,name,age,gender,empid, salary):\n",
    "        super().__init__(name,age,gender)\n",
    "        self.salary = salary\n",
    "        self.empid = empid\n",
    "        \n",
    "    def employeeInfo(self):\n",
    "        super().personinfo()\n",
    "        print('employee salary {}'.format(self.salary))\n",
    "        print(\"employee id {}\".format(self.empid))\n",
    "        \n",
    "        \n",
    "        \n",
    "class Fulltime(Employee):\n",
    "    def __init__(self,name,age,gender,empid,salary,experience):\n",
    "        Employee.__init__(self,name,age,gender,empid,salary)\n",
    "        self.experience = experience\n",
    "        \n",
    "    def fulltimeInfo(self):\n",
    "        print(\"full timne informatrion {}\".format(self.experience))\n",
    "        \n",
    "        \n",
    "    \n",
    "    \n",
    "    \n",
    "class Contractual(Employee):\n",
    "    def __init__(self,name,age,gender,empid,salary,contractexpiry):\n",
    "        Employee.__init__(self,name,age,gender,empid,salary)\n",
    "        self.contractexpiry = contractexpiry\n",
    "        \n",
    "    def contractInfo(self):\n",
    "        print(\"The expiry date is {}\".format(self.contractexpiry))\n",
    "    \n",
    "    "
   ]
  },
  {
   "cell_type": "code",
   "execution_count": 160,
   "id": "ef686bb1",
   "metadata": {},
   "outputs": [],
   "source": [
    "con1 = Contractual('kishor', 25, 'male', 123, 45000, '12-01-2025')"
   ]
  },
  {
   "cell_type": "code",
   "execution_count": 161,
   "id": "d5670348",
   "metadata": {},
   "outputs": [
    {
     "name": "stdout",
     "output_type": "stream",
     "text": [
      "person name kishor\n",
      "person age  25\n",
      "person gender male\n"
     ]
    }
   ],
   "source": [
    "con1.personinfo()"
   ]
  },
  {
   "cell_type": "code",
   "execution_count": 162,
   "id": "bc5ff328",
   "metadata": {},
   "outputs": [
    {
     "name": "stdout",
     "output_type": "stream",
     "text": [
      "person name kishor\n",
      "person age  25\n",
      "person gender male\n",
      "employee salary 45000\n",
      "employee id 123\n"
     ]
    }
   ],
   "source": [
    "con1.employeeInfo()"
   ]
  },
  {
   "cell_type": "code",
   "execution_count": 163,
   "id": "f1f0f46e",
   "metadata": {},
   "outputs": [
    {
     "name": "stdout",
     "output_type": "stream",
     "text": [
      "The expiry date is 12-01-2025\n"
     ]
    }
   ],
   "source": [
    "con1.contractInfo()"
   ]
  },
  {
   "cell_type": "code",
   "execution_count": null,
   "id": "5fe24a01",
   "metadata": {},
   "outputs": [],
   "source": []
  },
  {
   "cell_type": "code",
   "execution_count": 164,
   "id": "7247fd18",
   "metadata": {},
   "outputs": [],
   "source": [
    "ful = Fulltime('rohit', 32,'female', 258,78000,'04')"
   ]
  },
  {
   "cell_type": "code",
   "execution_count": 165,
   "id": "8a9cf07f",
   "metadata": {},
   "outputs": [
    {
     "name": "stdout",
     "output_type": "stream",
     "text": [
      "person name rohit\n",
      "person age  32\n",
      "person gender female\n"
     ]
    }
   ],
   "source": [
    "ful.personinfo()"
   ]
  },
  {
   "cell_type": "code",
   "execution_count": 166,
   "id": "568cb9dc",
   "metadata": {},
   "outputs": [
    {
     "name": "stdout",
     "output_type": "stream",
     "text": [
      "person name rohit\n",
      "person age  32\n",
      "person gender female\n",
      "employee salary 78000\n",
      "employee id 258\n"
     ]
    }
   ],
   "source": [
    "ful.employeeInfo()"
   ]
  },
  {
   "cell_type": "code",
   "execution_count": 167,
   "id": "b47aa018",
   "metadata": {},
   "outputs": [
    {
     "name": "stdout",
     "output_type": "stream",
     "text": [
      "full timne informatrion 04\n"
     ]
    }
   ],
   "source": [
    "ful.fulltimeInfo()"
   ]
  },
  {
   "cell_type": "code",
   "execution_count": 18,
   "id": "f0b6fb5e",
   "metadata": {},
   "outputs": [],
   "source": [
    "class Father:\n",
    "    def __init__(self):\n",
    "        self.fathername=str()\n",
    "        \n",
    "class Mother:\n",
    "    def __init__(self):\n",
    "        self.mothername = str()\n",
    "        \n",
    "class Son(Father , Mother):\n",
    "    name = str()\n",
    "    def show(self):\n",
    "        print('my name', self.name)\n",
    "        print(\"father name\", self.fathername)\n",
    "        print(\"mother name\", self.mothername)\n",
    "        \n",
    "        \n",
    "s1 =  Son()"
   ]
  },
  {
   "cell_type": "code",
   "execution_count": 19,
   "id": "40cb362b",
   "metadata": {},
   "outputs": [],
   "source": [
    "s1.fathername = 'john'"
   ]
  },
  {
   "cell_type": "code",
   "execution_count": 20,
   "id": "68e02c19",
   "metadata": {},
   "outputs": [],
   "source": [
    "s1.name = 'bill'"
   ]
  },
  {
   "cell_type": "code",
   "execution_count": 21,
   "id": "5a94312a",
   "metadata": {},
   "outputs": [
    {
     "name": "stdout",
     "output_type": "stream",
     "text": [
      "my name bill\n",
      "father name john\n"
     ]
    },
    {
     "ename": "AttributeError",
     "evalue": "'Son' object has no attribute 'mothername'",
     "output_type": "error",
     "traceback": [
      "\u001b[1;31m---------------------------------------------------------------------------\u001b[0m",
      "\u001b[1;31mAttributeError\u001b[0m                            Traceback (most recent call last)",
      "\u001b[1;32m<ipython-input-21-61f9a117e707>\u001b[0m in \u001b[0;36m<module>\u001b[1;34m\u001b[0m\n\u001b[1;32m----> 1\u001b[1;33m \u001b[0ms1\u001b[0m\u001b[1;33m.\u001b[0m\u001b[0mshow\u001b[0m\u001b[1;33m(\u001b[0m\u001b[1;33m)\u001b[0m\u001b[1;33m\u001b[0m\u001b[1;33m\u001b[0m\u001b[0m\n\u001b[0m",
      "\u001b[1;32m<ipython-input-18-a337d25511bf>\u001b[0m in \u001b[0;36mshow\u001b[1;34m(self)\u001b[0m\n\u001b[0;32m     12\u001b[0m         \u001b[0mprint\u001b[0m\u001b[1;33m(\u001b[0m\u001b[1;34m'my name'\u001b[0m\u001b[1;33m,\u001b[0m \u001b[0mself\u001b[0m\u001b[1;33m.\u001b[0m\u001b[0mname\u001b[0m\u001b[1;33m)\u001b[0m\u001b[1;33m\u001b[0m\u001b[1;33m\u001b[0m\u001b[0m\n\u001b[0;32m     13\u001b[0m         \u001b[0mprint\u001b[0m\u001b[1;33m(\u001b[0m\u001b[1;34m\"father name\"\u001b[0m\u001b[1;33m,\u001b[0m \u001b[0mself\u001b[0m\u001b[1;33m.\u001b[0m\u001b[0mfathername\u001b[0m\u001b[1;33m)\u001b[0m\u001b[1;33m\u001b[0m\u001b[1;33m\u001b[0m\u001b[0m\n\u001b[1;32m---> 14\u001b[1;33m         \u001b[0mprint\u001b[0m\u001b[1;33m(\u001b[0m\u001b[1;34m\"mother name\"\u001b[0m\u001b[1;33m,\u001b[0m \u001b[0mself\u001b[0m\u001b[1;33m.\u001b[0m\u001b[0mmothername\u001b[0m\u001b[1;33m)\u001b[0m\u001b[1;33m\u001b[0m\u001b[1;33m\u001b[0m\u001b[0m\n\u001b[0m\u001b[0;32m     15\u001b[0m \u001b[1;33m\u001b[0m\u001b[0m\n\u001b[0;32m     16\u001b[0m \u001b[1;33m\u001b[0m\u001b[0m\n",
      "\u001b[1;31mAttributeError\u001b[0m: 'Son' object has no attribute 'mothername'"
     ]
    }
   ],
   "source": [
    "s1.show()"
   ]
  },
  {
   "cell_type": "code",
   "execution_count": 25,
   "id": "4102265d",
   "metadata": {},
   "outputs": [],
   "source": [
    "class CurrentDate:\n",
    "    def __init__(self,date):\n",
    "        self.date = date"
   ]
  },
  {
   "cell_type": "code",
   "execution_count": 26,
   "id": "c3af79ce",
   "metadata": {},
   "outputs": [],
   "source": [
    "class CurrentTime:\n",
    "    def __init__(self,time):\n",
    "        self.time = time"
   ]
  },
  {
   "cell_type": "code",
   "execution_count": 27,
   "id": "776d1ee1",
   "metadata": {},
   "outputs": [],
   "source": [
    "class timestamp(CurrentDate,CurrentTime):\n",
    "    def __init__(self,date,time):\n",
    "        CurrentDate.__init__(self,date)\n",
    "        CurrentTime.__init__(self,time)\n",
    "        Datetime = self.date + \" \" + self.time\n",
    "        print(Datetime)"
   ]
  },
  {
   "cell_type": "code",
   "execution_count": 28,
   "id": "571ee6ca",
   "metadata": {},
   "outputs": [],
   "source": [
    "import time"
   ]
  },
  {
   "cell_type": "code",
   "execution_count": 30,
   "id": "5f944c63",
   "metadata": {},
   "outputs": [],
   "source": [
    "from datetime import datetime"
   ]
  },
  {
   "cell_type": "code",
   "execution_count": 31,
   "id": "d2b2240b",
   "metadata": {},
   "outputs": [
    {
     "data": {
      "text/plain": [
       "datetime.datetime(2022, 5, 23, 17, 17, 29, 63064)"
      ]
     },
     "execution_count": 31,
     "metadata": {},
     "output_type": "execute_result"
    }
   ],
   "source": [
    "datetime.now()"
   ]
  },
  {
   "cell_type": "code",
   "execution_count": 34,
   "id": "503db7fe",
   "metadata": {},
   "outputs": [
    {
     "name": "stdout",
     "output_type": "stream",
     "text": [
      "23-05-2022 17:18:29:63064\n"
     ]
    }
   ],
   "source": [
    "t1 =timestamp('23-05-2022', '17:18:29:63064')"
   ]
  },
  {
   "cell_type": "code",
   "execution_count": 35,
   "id": "30b55d08",
   "metadata": {},
   "outputs": [
    {
     "name": "stdout",
     "output_type": "stream",
     "text": [
      "Object `assert` not found.\n"
     ]
    }
   ],
   "source": [
    "assert?"
   ]
  },
  {
   "cell_type": "code",
   "execution_count": 37,
   "id": "0922f0b5",
   "metadata": {},
   "outputs": [],
   "source": [
    "l = [2,5,6]"
   ]
  },
  {
   "cell_type": "code",
   "execution_count": 38,
   "id": "f892f4e6",
   "metadata": {},
   "outputs": [
    {
     "data": {
      "text/plain": [
       "True"
      ]
     },
     "execution_count": 38,
     "metadata": {},
     "output_type": "execute_result"
    }
   ],
   "source": [
    "2 in l"
   ]
  },
  {
   "cell_type": "code",
   "execution_count": 39,
   "id": "aaa921f4",
   "metadata": {},
   "outputs": [],
   "source": [
    "assert 2 in l"
   ]
  },
  {
   "cell_type": "code",
   "execution_count": 40,
   "id": "f239a93e",
   "metadata": {},
   "outputs": [
    {
     "ename": "AssertionError",
     "evalue": "",
     "output_type": "error",
     "traceback": [
      "\u001b[1;31m---------------------------------------------------------------------------\u001b[0m",
      "\u001b[1;31mAssertionError\u001b[0m                            Traceback (most recent call last)",
      "\u001b[1;32m<ipython-input-40-b33d857bc43b>\u001b[0m in \u001b[0;36m<module>\u001b[1;34m\u001b[0m\n\u001b[1;32m----> 1\u001b[1;33m \u001b[1;32massert\u001b[0m \u001b[1;36m9\u001b[0m \u001b[1;32min\u001b[0m \u001b[0ml\u001b[0m\u001b[1;33m\u001b[0m\u001b[1;33m\u001b[0m\u001b[0m\n\u001b[0m",
      "\u001b[1;31mAssertionError\u001b[0m: "
     ]
    }
   ],
   "source": [
    "assert 9 in l"
   ]
  },
  {
   "cell_type": "code",
   "execution_count": 42,
   "id": "4bcbe067",
   "metadata": {},
   "outputs": [
    {
     "data": {
      "text/plain": [
       "True"
      ]
     },
     "execution_count": 42,
     "metadata": {},
     "output_type": "execute_result"
    }
   ],
   "source": [
    "'d'  in \"dfghjkl\""
   ]
  },
  {
   "cell_type": "code",
   "execution_count": 57,
   "id": "b5daf842",
   "metadata": {},
   "outputs": [],
   "source": [
    "mytuple=('Asif','Basit','John','Michael')"
   ]
  },
  {
   "cell_type": "code",
   "execution_count": 45,
   "id": "cd66537a",
   "metadata": {},
   "outputs": [],
   "source": [
    "iter_list = iter(mylist)"
   ]
  },
  {
   "cell_type": "code",
   "execution_count": 46,
   "id": "8b372499",
   "metadata": {},
   "outputs": [
    {
     "data": {
      "text/plain": [
       "'Asif'"
      ]
     },
     "execution_count": 46,
     "metadata": {},
     "output_type": "execute_result"
    }
   ],
   "source": [
    "next(iter_list)"
   ]
  },
  {
   "cell_type": "code",
   "execution_count": 47,
   "id": "e8a98520",
   "metadata": {},
   "outputs": [
    {
     "data": {
      "text/plain": [
       "'Basit'"
      ]
     },
     "execution_count": 47,
     "metadata": {},
     "output_type": "execute_result"
    }
   ],
   "source": [
    "next(iter_list)"
   ]
  },
  {
   "cell_type": "code",
   "execution_count": 48,
   "id": "dce71771",
   "metadata": {},
   "outputs": [
    {
     "data": {
      "text/plain": [
       "'John'"
      ]
     },
     "execution_count": 48,
     "metadata": {},
     "output_type": "execute_result"
    }
   ],
   "source": [
    "next(iter_list)"
   ]
  },
  {
   "cell_type": "code",
   "execution_count": 51,
   "id": "0cc3de3b",
   "metadata": {},
   "outputs": [
    {
     "ename": "StopIteration",
     "evalue": "",
     "output_type": "error",
     "traceback": [
      "\u001b[1;31m---------------------------------------------------------------------------\u001b[0m",
      "\u001b[1;31mStopIteration\u001b[0m                             Traceback (most recent call last)",
      "\u001b[1;32m<ipython-input-51-542aba6637ba>\u001b[0m in \u001b[0;36m<module>\u001b[1;34m\u001b[0m\n\u001b[1;32m----> 1\u001b[1;33m \u001b[0miter_list\u001b[0m\u001b[1;33m.\u001b[0m\u001b[0m__next__\u001b[0m\u001b[1;33m(\u001b[0m\u001b[1;33m)\u001b[0m\u001b[1;33m\u001b[0m\u001b[1;33m\u001b[0m\u001b[0m\n\u001b[0m",
      "\u001b[1;31mStopIteration\u001b[0m: "
     ]
    }
   ],
   "source": [
    "iter_list.__next__()"
   ]
  },
  {
   "cell_type": "code",
   "execution_count": 54,
   "id": "1f9150db",
   "metadata": {},
   "outputs": [],
   "source": [
    "iter_list = iter(mylist)"
   ]
  },
  {
   "cell_type": "code",
   "execution_count": 55,
   "id": "8e624590",
   "metadata": {},
   "outputs": [
    {
     "name": "stdout",
     "output_type": "stream",
     "text": [
      "Asif\n",
      "Basit\n",
      "John\n",
      "Michael\n"
     ]
    }
   ],
   "source": [
    "for i in iter_list:\n",
    "    print(i)"
   ]
  },
  {
   "cell_type": "code",
   "execution_count": 56,
   "id": "4ff308c6",
   "metadata": {},
   "outputs": [
    {
     "name": "stdout",
     "output_type": "stream",
     "text": [
      "Asif\n",
      "Basit\n",
      "John\n",
      "Michael\n"
     ]
    }
   ],
   "source": [
    "for i in mylist:\n",
    "    print(i)"
   ]
  },
  {
   "cell_type": "code",
   "execution_count": 58,
   "id": "d06f159d",
   "metadata": {},
   "outputs": [
    {
     "name": "stdout",
     "output_type": "stream",
     "text": [
      "Asif\n",
      "Basit\n",
      "John\n",
      "Michael\n"
     ]
    }
   ],
   "source": [
    "for i in mytuple:\n",
    "    print(i)"
   ]
  },
  {
   "cell_type": "code",
   "execution_count": 65,
   "id": "ad2bfbba",
   "metadata": {},
   "outputs": [],
   "source": [
    "class myiter:\n",
    "    def __init__(self):\n",
    "        self.num = 0\n",
    "        \n",
    "    def __iter__(self):\n",
    "        self.num = 1\n",
    "        return self\n",
    "    \n",
    "    def __next__(self):\n",
    "        if self.num<=10:\n",
    "            self.num+=1\n",
    "            var = self.num\n",
    "            return var\n",
    "        else:\n",
    "            raise StopIteration"
   ]
  },
  {
   "cell_type": "code",
   "execution_count": 66,
   "id": "a7f01f93",
   "metadata": {},
   "outputs": [],
   "source": [
    "mynum = myiter()"
   ]
  },
  {
   "cell_type": "code",
   "execution_count": 67,
   "id": "9f00b4ad",
   "metadata": {},
   "outputs": [],
   "source": [
    "iter1 = iter(mynum)"
   ]
  },
  {
   "cell_type": "code",
   "execution_count": 68,
   "id": "a95e3704",
   "metadata": {},
   "outputs": [
    {
     "name": "stdout",
     "output_type": "stream",
     "text": [
      "2\n",
      "3\n",
      "4\n",
      "5\n",
      "6\n",
      "7\n",
      "8\n",
      "9\n",
      "10\n",
      "11\n"
     ]
    }
   ],
   "source": [
    "for i in iter1:\n",
    "    print(i)"
   ]
  },
  {
   "cell_type": "code",
   "execution_count": 69,
   "id": "5dd58522",
   "metadata": {},
   "outputs": [],
   "source": [
    "class myiter:\n",
    "    def __init__(self):\n",
    "        self.num = 0\n",
    "        \n",
    "    def __iter__(self):\n",
    "        self.num = 1\n",
    "        return self\n",
    "    \n",
    "    def __next__(self):\n",
    "        if self.num<=20:\n",
    "            val = self.num\n",
    "            self.num+=2\n",
    "            return val\n",
    "        else:\n",
    "            raise StopIteration"
   ]
  },
  {
   "cell_type": "code",
   "execution_count": 70,
   "id": "7b59d9f7",
   "metadata": {},
   "outputs": [],
   "source": [
    "mynum1 = myiter()"
   ]
  },
  {
   "cell_type": "code",
   "execution_count": 72,
   "id": "de723511",
   "metadata": {},
   "outputs": [],
   "source": [
    "iter2 = iter(mynum1)"
   ]
  },
  {
   "cell_type": "code",
   "execution_count": 73,
   "id": "1dc8026f",
   "metadata": {},
   "outputs": [
    {
     "name": "stdout",
     "output_type": "stream",
     "text": [
      "1\n",
      "3\n",
      "5\n",
      "7\n",
      "9\n",
      "11\n",
      "13\n",
      "15\n",
      "17\n",
      "19\n"
     ]
    }
   ],
   "source": [
    "for i in iter2:\n",
    "    print(i)"
   ]
  },
  {
   "cell_type": "code",
   "execution_count": 2,
   "id": "c9a077d9",
   "metadata": {},
   "outputs": [],
   "source": [
    "def mygen():\n",
    "    n = 1\n",
    "    yield n\n",
    "    \n",
    "    n+=1\n",
    "    yield n\n",
    "    \n",
    "    n+=1\n",
    "    yield n\n",
    "    \n",
    "    n+=1\n",
    "    yield n\n",
    "    \n",
    "    n+=1\n",
    "    yield\n",
    "    \n",
    "    "
   ]
  },
  {
   "cell_type": "code",
   "execution_count": 4,
   "id": "ee267426",
   "metadata": {},
   "outputs": [],
   "source": [
    "mygen1 = mygen()"
   ]
  },
  {
   "cell_type": "code",
   "execution_count": 5,
   "id": "9111f186",
   "metadata": {},
   "outputs": [
    {
     "data": {
      "text/plain": [
       "1"
      ]
     },
     "execution_count": 5,
     "metadata": {},
     "output_type": "execute_result"
    }
   ],
   "source": [
    "next(mygen1)"
   ]
  },
  {
   "cell_type": "code",
   "execution_count": 6,
   "id": "4377355c",
   "metadata": {},
   "outputs": [
    {
     "data": {
      "text/plain": [
       "2"
      ]
     },
     "execution_count": 6,
     "metadata": {},
     "output_type": "execute_result"
    }
   ],
   "source": [
    "next(mygen1)"
   ]
  },
  {
   "cell_type": "code",
   "execution_count": 7,
   "id": "d40ba88c",
   "metadata": {},
   "outputs": [
    {
     "data": {
      "text/plain": [
       "3"
      ]
     },
     "execution_count": 7,
     "metadata": {},
     "output_type": "execute_result"
    }
   ],
   "source": [
    "next(mygen1)"
   ]
  },
  {
   "cell_type": "code",
   "execution_count": 8,
   "id": "cf81475e",
   "metadata": {},
   "outputs": [
    {
     "data": {
      "text/plain": [
       "4"
      ]
     },
     "execution_count": 8,
     "metadata": {},
     "output_type": "execute_result"
    }
   ],
   "source": [
    "next(mygen1)"
   ]
  },
  {
   "cell_type": "code",
   "execution_count": 10,
   "id": "7104bbee",
   "metadata": {},
   "outputs": [
    {
     "ename": "StopIteration",
     "evalue": "",
     "output_type": "error",
     "traceback": [
      "\u001b[1;31m---------------------------------------------------------------------------\u001b[0m",
      "\u001b[1;31mStopIteration\u001b[0m                             Traceback (most recent call last)",
      "\u001b[1;32m<ipython-input-10-d6bff125f4e4>\u001b[0m in \u001b[0;36m<module>\u001b[1;34m\u001b[0m\n\u001b[1;32m----> 1\u001b[1;33m \u001b[0mnext\u001b[0m\u001b[1;33m(\u001b[0m\u001b[0mmygen1\u001b[0m\u001b[1;33m)\u001b[0m\u001b[1;33m\u001b[0m\u001b[1;33m\u001b[0m\u001b[0m\n\u001b[0m",
      "\u001b[1;31mStopIteration\u001b[0m: "
     ]
    }
   ],
   "source": [
    "next(mygen1)"
   ]
  },
  {
   "cell_type": "code",
   "execution_count": 11,
   "id": "af049ef7",
   "metadata": {},
   "outputs": [],
   "source": [
    "def mygen():\n",
    "    for i in range(20):\n",
    "        yield i\n",
    "        "
   ]
  },
  {
   "cell_type": "code",
   "execution_count": 12,
   "id": "6eff4293",
   "metadata": {},
   "outputs": [],
   "source": [
    "mygen1 = mygen()"
   ]
  },
  {
   "cell_type": "code",
   "execution_count": 13,
   "id": "f8b2db54",
   "metadata": {},
   "outputs": [
    {
     "name": "stdout",
     "output_type": "stream",
     "text": [
      "0\n",
      "1\n",
      "2\n",
      "3\n",
      "4\n",
      "5\n",
      "6\n",
      "7\n",
      "8\n",
      "9\n",
      "10\n",
      "11\n",
      "12\n",
      "13\n",
      "14\n",
      "15\n",
      "16\n",
      "17\n",
      "18\n",
      "19\n"
     ]
    }
   ],
   "source": [
    "for i in mygen1:\n",
    "    print(i)"
   ]
  },
  {
   "cell_type": "code",
   "execution_count": 16,
   "id": "ebaff19a",
   "metadata": {},
   "outputs": [],
   "source": [
    "num = list(mygen())"
   ]
  },
  {
   "cell_type": "code",
   "execution_count": 17,
   "id": "781605c5",
   "metadata": {},
   "outputs": [],
   "source": [
    "def mygen():\n",
    "    for i in range(20):\n",
    "        if i%2==0:\n",
    "            yield i"
   ]
  },
  {
   "cell_type": "code",
   "execution_count": 18,
   "id": "224b270b",
   "metadata": {},
   "outputs": [],
   "source": [
    "mygen1 = mygen()"
   ]
  },
  {
   "cell_type": "code",
   "execution_count": 19,
   "id": "d09a76cf",
   "metadata": {},
   "outputs": [
    {
     "name": "stdout",
     "output_type": "stream",
     "text": [
      "0\n",
      "2\n",
      "4\n",
      "6\n",
      "8\n",
      "10\n",
      "12\n",
      "14\n",
      "16\n",
      "18\n"
     ]
    }
   ],
   "source": [
    "for i in mygen1:\n",
    "    print(i)"
   ]
  },
  {
   "cell_type": "code",
   "execution_count": 20,
   "id": "f5ea4565",
   "metadata": {},
   "outputs": [],
   "source": [
    "def myfibo():\n",
    "    num1, num2 = 0,1\n",
    "    count = 0\n",
    "    while count<10:\n",
    "        yield num1\n",
    "        num1, num2 =  num2, num1+num2\n",
    "        count+=1"
   ]
  },
  {
   "cell_type": "code",
   "execution_count": 21,
   "id": "a86e9690",
   "metadata": {},
   "outputs": [],
   "source": [
    "fibo = myfibo()"
   ]
  },
  {
   "cell_type": "code",
   "execution_count": 22,
   "id": "9b04d83e",
   "metadata": {},
   "outputs": [
    {
     "name": "stdout",
     "output_type": "stream",
     "text": [
      "0\n",
      "1\n",
      "1\n",
      "2\n",
      "3\n",
      "5\n",
      "8\n",
      "13\n",
      "21\n",
      "34\n"
     ]
    }
   ],
   "source": [
    "for i in fibo:\n",
    "    print(i)"
   ]
  },
  {
   "cell_type": "code",
   "execution_count": 24,
   "id": "51b1c1bd",
   "metadata": {},
   "outputs": [
    {
     "data": {
      "text/plain": [
       "[0, 1, 1, 2, 3, 5, 8, 13, 21, 34]"
      ]
     },
     "execution_count": 24,
     "metadata": {},
     "output_type": "execute_result"
    }
   ],
   "source": [
    "list(myfibo())"
   ]
  },
  {
   "cell_type": "code",
   "execution_count": 31,
   "id": "fa02eb8f",
   "metadata": {},
   "outputs": [],
   "source": [
    "gen = (i**2 for i in range(20))"
   ]
  },
  {
   "cell_type": "code",
   "execution_count": 29,
   "id": "4390708b",
   "metadata": {},
   "outputs": [
    {
     "name": "stdout",
     "output_type": "stream",
     "text": [
      "0\n",
      "1\n",
      "4\n",
      "9\n",
      "16\n",
      "25\n",
      "36\n",
      "49\n",
      "64\n",
      "81\n",
      "100\n",
      "121\n",
      "144\n",
      "169\n",
      "196\n",
      "225\n",
      "256\n",
      "289\n",
      "324\n",
      "361\n"
     ]
    }
   ],
   "source": [
    "for i in gen:\n",
    "    print(i)"
   ]
  },
  {
   "cell_type": "code",
   "execution_count": 43,
   "id": "6ef66653",
   "metadata": {},
   "outputs": [
    {
     "data": {
      "text/plain": [
       "121"
      ]
     },
     "execution_count": 43,
     "metadata": {},
     "output_type": "execute_result"
    }
   ],
   "source": [
    "next(gen)"
   ]
  },
  {
   "cell_type": "code",
   "execution_count": 45,
   "id": "322902b2",
   "metadata": {},
   "outputs": [],
   "source": [
    "gen = (i for i in range(10) if i%2==0)"
   ]
  },
  {
   "cell_type": "code",
   "execution_count": 51,
   "id": "8baacf0b",
   "metadata": {},
   "outputs": [
    {
     "ename": "StopIteration",
     "evalue": "",
     "output_type": "error",
     "traceback": [
      "\u001b[1;31m---------------------------------------------------------------------------\u001b[0m",
      "\u001b[1;31mStopIteration\u001b[0m                             Traceback (most recent call last)",
      "\u001b[1;32m<ipython-input-51-6e72e47198db>\u001b[0m in \u001b[0;36m<module>\u001b[1;34m\u001b[0m\n\u001b[1;32m----> 1\u001b[1;33m \u001b[0mnext\u001b[0m\u001b[1;33m(\u001b[0m\u001b[0mgen\u001b[0m\u001b[1;33m)\u001b[0m\u001b[1;33m\u001b[0m\u001b[1;33m\u001b[0m\u001b[0m\n\u001b[0m",
      "\u001b[1;31mStopIteration\u001b[0m: "
     ]
    }
   ],
   "source": [
    "next(gen)"
   ]
  },
  {
   "cell_type": "code",
   "execution_count": 53,
   "id": "40615ae3",
   "metadata": {},
   "outputs": [],
   "source": [
    "def subtract(num1, num2):\n",
    "    res = num1 - num2 \n",
    "    print('the result is :', res)"
   ]
  },
  {
   "cell_type": "code",
   "execution_count": 54,
   "id": "9a462830",
   "metadata": {},
   "outputs": [
    {
     "name": "stdout",
     "output_type": "stream",
     "text": [
      "the result is : 2\n"
     ]
    }
   ],
   "source": [
    "subtract(4,2)"
   ]
  },
  {
   "cell_type": "code",
   "execution_count": 55,
   "id": "23396f75",
   "metadata": {},
   "outputs": [
    {
     "name": "stdout",
     "output_type": "stream",
     "text": [
      "the result is : -2\n"
     ]
    }
   ],
   "source": [
    "subtract(2,4)"
   ]
  },
  {
   "cell_type": "code",
   "execution_count": 56,
   "id": "fd8caee5",
   "metadata": {},
   "outputs": [],
   "source": [
    "def sub_decorator(func):\n",
    "    def wrapper(num1, num2):\n",
    "        if num1<num2:\n",
    "            num1, num2 = num2, num1\n",
    "            return func(num1,num2)\n",
    "    return wrapper\n",
    "    "
   ]
  },
  {
   "cell_type": "code",
   "execution_count": 58,
   "id": "2d889cdb",
   "metadata": {},
   "outputs": [],
   "source": [
    "dec = sub_decorator(subtract)"
   ]
  },
  {
   "cell_type": "code",
   "execution_count": 59,
   "id": "1868a99e",
   "metadata": {},
   "outputs": [
    {
     "name": "stdout",
     "output_type": "stream",
     "text": [
      "the result is : 2\n"
     ]
    }
   ],
   "source": [
    "dec(2,4)"
   ]
  },
  {
   "cell_type": "code",
   "execution_count": 60,
   "id": "47fd2587",
   "metadata": {},
   "outputs": [],
   "source": [
    "@sub_decorator\n",
    "def subtract(num1, num2):\n",
    "    res = num1 - num2 \n",
    "    print('the result is :', res)"
   ]
  },
  {
   "cell_type": "code",
   "execution_count": 61,
   "id": "a0853e1f",
   "metadata": {},
   "outputs": [
    {
     "name": "stdout",
     "output_type": "stream",
     "text": [
      "the result is : 2\n"
     ]
    }
   ],
   "source": [
    "subtract(2,4)"
   ]
  },
  {
   "cell_type": "code",
   "execution_count": 73,
   "id": "6acf8e10",
   "metadata": {},
   "outputs": [],
   "source": [
    "@installdecorator\n",
    "def installlinux():\n",
    "    print('linux installation has started')\n",
    "    \n"
   ]
  },
  {
   "cell_type": "code",
   "execution_count": 69,
   "id": "e78eaf0d",
   "metadata": {},
   "outputs": [],
   "source": [
    "def installdecorator(func):\n",
    "    def wrapper():\n",
    "        print('Please accept terms and conditions')\n",
    "        return func()\n",
    "    return wrapper"
   ]
  },
  {
   "cell_type": "code",
   "execution_count": 70,
   "id": "99ab4f82",
   "metadata": {},
   "outputs": [],
   "source": [
    "@installdecorator\n",
    "def installwindow():\n",
    "    print('windows installation has started')"
   ]
  },
  {
   "cell_type": "code",
   "execution_count": 71,
   "id": "20e133a2",
   "metadata": {},
   "outputs": [],
   "source": [
    "@installdecorator\n",
    "def installlac():\n",
    "    print('lac installion has started')"
   ]
  },
  {
   "cell_type": "code",
   "execution_count": 74,
   "id": "cf0b232f",
   "metadata": {},
   "outputs": [
    {
     "name": "stdout",
     "output_type": "stream",
     "text": [
      "Please accept terms and conditions\n",
      "linux installation has started\n"
     ]
    }
   ],
   "source": [
    "installlinux()"
   ]
  },
  {
   "cell_type": "code",
   "execution_count": 75,
   "id": "b6e6c3e9",
   "metadata": {},
   "outputs": [
    {
     "name": "stdout",
     "output_type": "stream",
     "text": [
      "Please accept terms and conditions\n",
      "windows installation has started\n"
     ]
    }
   ],
   "source": [
    "installwindow()"
   ]
  },
  {
   "cell_type": "code",
   "execution_count": 77,
   "id": "5d76b5e2",
   "metadata": {},
   "outputs": [
    {
     "name": "stdout",
     "output_type": "stream",
     "text": [
      "Please accept terms and conditions\n",
      "lac installion has started\n"
     ]
    }
   ],
   "source": [
    "installlac()"
   ]
  },
  {
   "cell_type": "code",
   "execution_count": 84,
   "id": "03a46ca7",
   "metadata": {},
   "outputs": [],
   "source": [
    "def dec1(func):\n",
    "    def wrapper():\n",
    "        print('please provide lincence number as well')\n",
    "        return func()\n",
    "    return wrapper"
   ]
  },
  {
   "cell_type": "code",
   "execution_count": 85,
   "id": "b32803a6",
   "metadata": {},
   "outputs": [],
   "source": [
    "def dec2(func):\n",
    "    def wrapper():\n",
    "        print('please provide key number as well')\n",
    "        return func()\n",
    "    return wrapper"
   ]
  },
  {
   "cell_type": "code",
   "execution_count": 86,
   "id": "8e61c59e",
   "metadata": {},
   "outputs": [],
   "source": [
    "def dec3(func):\n",
    "    def wrapper():\n",
    "        print('please provide value number as well')\n",
    "        return func()\n",
    "    return wrapper"
   ]
  },
  {
   "cell_type": "code",
   "execution_count": 89,
   "id": "03a21c97",
   "metadata": {},
   "outputs": [],
   "source": [
    "@dec3\n",
    "@dec1\n",
    "@dec2\n",
    "@installdecorator\n",
    "def installwindow():\n",
    "    print('windows installation has started')"
   ]
  },
  {
   "cell_type": "code",
   "execution_count": 90,
   "id": "e951c439",
   "metadata": {},
   "outputs": [
    {
     "name": "stdout",
     "output_type": "stream",
     "text": [
      "please provide value number as well\n",
      "please provide lincence number as well\n",
      "please provide key number as well\n",
      "Please accept terms and conditions\n",
      "windows installation has started\n"
     ]
    }
   ],
   "source": [
    "installwindow()"
   ]
  },
  {
   "cell_type": "code",
   "execution_count": 97,
   "id": "fbbfacf3",
   "metadata": {},
   "outputs": [],
   "source": [
    "f = open('test1.txt', 'a')"
   ]
  },
  {
   "cell_type": "code",
   "execution_count": 98,
   "id": "4a59eaa3",
   "metadata": {},
   "outputs": [],
   "source": [
    "f.close()"
   ]
  },
  {
   "cell_type": "code",
   "execution_count": 100,
   "id": "f6b8c432",
   "metadata": {},
   "outputs": [],
   "source": [
    "t = open('test1.txt', 'r')"
   ]
  },
  {
   "cell_type": "code",
   "execution_count": 101,
   "id": "fc17146c",
   "metadata": {},
   "outputs": [
    {
     "data": {
      "text/plain": [
       "'qwertyuiosdfghjklsdfghjkl\\nqwertyuisdfghjkxcvbnm,\\nqwertyuiosdfghjklxcvbnm,.\\nertyuidfghjkl aasdfghjk zxcvbnm, qwertyuio '"
      ]
     },
     "execution_count": 101,
     "metadata": {},
     "output_type": "execute_result"
    }
   ],
   "source": [
    "t.read()"
   ]
  },
  {
   "cell_type": "code",
   "execution_count": 102,
   "id": "4149f978",
   "metadata": {},
   "outputs": [
    {
     "data": {
      "text/plain": [
       "''"
      ]
     },
     "execution_count": 102,
     "metadata": {},
     "output_type": "execute_result"
    }
   ],
   "source": [
    "t.read()"
   ]
  },
  {
   "cell_type": "code",
   "execution_count": 114,
   "id": "f902c270",
   "metadata": {},
   "outputs": [
    {
     "data": {
      "text/plain": [
       "9"
      ]
     },
     "execution_count": 114,
     "metadata": {},
     "output_type": "execute_result"
    }
   ],
   "source": [
    "t.seek(9)"
   ]
  },
  {
   "cell_type": "code",
   "execution_count": 115,
   "id": "c8129916",
   "metadata": {},
   "outputs": [
    {
     "data": {
      "text/plain": [
       "'sdfghjklsd'"
      ]
     },
     "execution_count": 115,
     "metadata": {},
     "output_type": "execute_result"
    }
   ],
   "source": [
    "t.read(10)"
   ]
  },
  {
   "cell_type": "code",
   "execution_count": 116,
   "id": "6a444246",
   "metadata": {},
   "outputs": [
    {
     "data": {
      "text/plain": [
       "19"
      ]
     },
     "execution_count": 116,
     "metadata": {},
     "output_type": "execute_result"
    }
   ],
   "source": [
    "t.tell()"
   ]
  },
  {
   "cell_type": "code",
   "execution_count": 117,
   "id": "3d4d8430",
   "metadata": {},
   "outputs": [
    {
     "data": {
      "text/plain": [
       "0"
      ]
     },
     "execution_count": 117,
     "metadata": {},
     "output_type": "execute_result"
    }
   ],
   "source": [
    "t.seek(0)"
   ]
  },
  {
   "cell_type": "code",
   "execution_count": 118,
   "id": "d3e0c171",
   "metadata": {},
   "outputs": [
    {
     "data": {
      "text/plain": [
       "'qwertyuiosdfghjklsdfghjkl\\n'"
      ]
     },
     "execution_count": 118,
     "metadata": {},
     "output_type": "execute_result"
    }
   ],
   "source": [
    "t.readline()"
   ]
  },
  {
   "cell_type": "code",
   "execution_count": 119,
   "id": "902e61b0",
   "metadata": {},
   "outputs": [
    {
     "data": {
      "text/plain": [
       "'qwertyuisdfghjkxcvbnm,\\n'"
      ]
     },
     "execution_count": 119,
     "metadata": {},
     "output_type": "execute_result"
    }
   ],
   "source": [
    "t.readline()"
   ]
  },
  {
   "cell_type": "code",
   "execution_count": 120,
   "id": "6a1e0a43",
   "metadata": {},
   "outputs": [
    {
     "data": {
      "text/plain": [
       "'qwertyuiosdfghjklxcvbnm,.\\n'"
      ]
     },
     "execution_count": 120,
     "metadata": {},
     "output_type": "execute_result"
    }
   ],
   "source": [
    "t.readline()"
   ]
  },
  {
   "cell_type": "code",
   "execution_count": 122,
   "id": "5267294b",
   "metadata": {},
   "outputs": [
    {
     "data": {
      "text/plain": [
       "0"
      ]
     },
     "execution_count": 122,
     "metadata": {},
     "output_type": "execute_result"
    }
   ],
   "source": [
    "t.seek(0)"
   ]
  },
  {
   "cell_type": "code",
   "execution_count": 123,
   "id": "a7b9ae1f",
   "metadata": {},
   "outputs": [
    {
     "data": {
      "text/plain": [
       "['qwertyuiosdfghjklsdfghjkl\\n',\n",
       " 'qwertyuisdfghjkxcvbnm,\\n',\n",
       " 'qwertyuiosdfghjklxcvbnm,.\\n',\n",
       " 'ertyuidfghjkl aasdfghjk zxcvbnm, qwertyuio ']"
      ]
     },
     "execution_count": 123,
     "metadata": {},
     "output_type": "execute_result"
    }
   ],
   "source": [
    "t.readlines()"
   ]
  },
  {
   "cell_type": "code",
   "execution_count": 125,
   "id": "6287d5c7",
   "metadata": {},
   "outputs": [
    {
     "name": "stdout",
     "output_type": "stream",
     "text": [
      "qwertyuiosdfghjklsdfghjkl\n",
      "\n",
      "qwertyuisdfghjkxcvbnm,\n",
      "\n",
      "qwertyuiosdfghjklxcvbnm,.\n",
      "\n",
      "ertyuidfghjkl aasdfghjk zxcvbnm, qwertyuio \n",
      "\n"
     ]
    }
   ],
   "source": [
    "t.seek(0)\n",
    "\n",
    "count = 0\n",
    "\n",
    "for i in range(5):\n",
    "    if count<5:\n",
    "        print(t.readline())\n",
    "    else:\n",
    "        break\n",
    "    count+=1"
   ]
  },
  {
   "cell_type": "code",
   "execution_count": 126,
   "id": "78a4be9b",
   "metadata": {},
   "outputs": [
    {
     "name": "stdout",
     "output_type": "stream",
     "text": [
      "qwertyuiosdfghjklsdfghjkl\n",
      "\n",
      "qwertyuisdfghjkxcvbnm,\n",
      "\n",
      "qwertyuiosdfghjklxcvbnm,.\n",
      "\n",
      "ertyuidfghjkl aasdfghjk zxcvbnm, qwertyuio \n"
     ]
    }
   ],
   "source": [
    "t.seek(0)\n",
    "\n",
    "count =  0\n",
    "\n",
    "for i in t.readlines():\n",
    "    if count<5:\n",
    "        print(i)\n",
    "    else:\n",
    "        break\n",
    "        \n",
    "    count+=1"
   ]
  },
  {
   "cell_type": "code",
   "execution_count": 137,
   "id": "7c7cff9d",
   "metadata": {},
   "outputs": [],
   "source": [
    "fileobje = open('test1.txt', 'a')"
   ]
  },
  {
   "cell_type": "code",
   "execution_count": 138,
   "id": "b8b38359",
   "metadata": {},
   "outputs": [
    {
     "data": {
      "text/plain": [
       "32"
      ]
     },
     "execution_count": 138,
     "metadata": {},
     "output_type": "execute_result"
    }
   ],
   "source": [
    "fileobje.write('\\n this content is being appended')"
   ]
  },
  {
   "cell_type": "code",
   "execution_count": 139,
   "id": "d1b6c6b4",
   "metadata": {},
   "outputs": [
    {
     "data": {
      "text/plain": [
       "False"
      ]
     },
     "execution_count": 139,
     "metadata": {},
     "output_type": "execute_result"
    }
   ],
   "source": [
    "fileobje.closed"
   ]
  },
  {
   "cell_type": "code",
   "execution_count": 140,
   "id": "47a95dd3",
   "metadata": {},
   "outputs": [],
   "source": [
    "fileobje.close()"
   ]
  },
  {
   "cell_type": "code",
   "execution_count": 141,
   "id": "c6d2ff03",
   "metadata": {},
   "outputs": [],
   "source": [
    "y = open('test1.txt', 'r')"
   ]
  },
  {
   "cell_type": "code",
   "execution_count": 142,
   "id": "53001252",
   "metadata": {},
   "outputs": [
    {
     "data": {
      "text/plain": [
       "['qwertyuiosdfghjklsdfghjkl\\n',\n",
       " 'qwertyuisdfghjkxcvbnm,\\n',\n",
       " 'qwertyuiosdfghjklxcvbnm,.\\n',\n",
       " 'ertyuidfghjkl aasdfghjk zxcvbnm, qwertyuio this content is being appended\\n',\n",
       " ' this content is being appended']"
      ]
     },
     "execution_count": 142,
     "metadata": {},
     "output_type": "execute_result"
    }
   ],
   "source": [
    "y.readlines()"
   ]
  },
  {
   "cell_type": "code",
   "execution_count": 143,
   "id": "87a74209",
   "metadata": {},
   "outputs": [],
   "source": [
    "y.close()"
   ]
  },
  {
   "cell_type": "code",
   "execution_count": 144,
   "id": "354be7fd",
   "metadata": {},
   "outputs": [],
   "source": [
    "y = open('test1.txt', 'w')"
   ]
  },
  {
   "cell_type": "code",
   "execution_count": 145,
   "id": "0dd17137",
   "metadata": {},
   "outputs": [
    {
     "data": {
      "text/plain": [
       "30"
      ]
     },
     "execution_count": 145,
     "metadata": {},
     "output_type": "execute_result"
    }
   ],
   "source": [
    "y.write('new content is being overwrite')"
   ]
  },
  {
   "cell_type": "code",
   "execution_count": 150,
   "id": "4a8ff908",
   "metadata": {},
   "outputs": [],
   "source": [
    "y.close()"
   ]
  },
  {
   "cell_type": "code",
   "execution_count": 152,
   "id": "cb6d85c7",
   "metadata": {},
   "outputs": [],
   "source": [
    "y = open('test1.txt')"
   ]
  },
  {
   "cell_type": "code",
   "execution_count": 153,
   "id": "68a5c219",
   "metadata": {},
   "outputs": [
    {
     "data": {
      "text/plain": [
       "'new content is being overwrite'"
      ]
     },
     "execution_count": 153,
     "metadata": {},
     "output_type": "execute_result"
    }
   ],
   "source": [
    "y.read()"
   ]
  },
  {
   "cell_type": "code",
   "execution_count": 154,
   "id": "7802be73",
   "metadata": {},
   "outputs": [],
   "source": [
    "u = open('test2.txt', 'w')"
   ]
  },
  {
   "cell_type": "code",
   "execution_count": 155,
   "id": "f36d186d",
   "metadata": {},
   "outputs": [
    {
     "data": {
      "text/plain": [
       "12"
      ]
     },
     "execution_count": 155,
     "metadata": {},
     "output_type": "execute_result"
    }
   ],
   "source": [
    "u.write('first line \\n')\n",
    "u.write('second line \\n')\n",
    "u.write('third line \\n')\n",
    "u.write('fourth line \\n')\n",
    "u.write('fifth line \\n')"
   ]
  },
  {
   "cell_type": "code",
   "execution_count": 156,
   "id": "393e3005",
   "metadata": {},
   "outputs": [],
   "source": [
    "u.close()"
   ]
  },
  {
   "cell_type": "code",
   "execution_count": 158,
   "id": "2ff46d47",
   "metadata": {},
   "outputs": [],
   "source": [
    "u = open('test2.txt')"
   ]
  },
  {
   "cell_type": "code",
   "execution_count": 159,
   "id": "bb1f1c3b",
   "metadata": {},
   "outputs": [
    {
     "data": {
      "text/plain": [
       "['first line \\n',\n",
       " 'second line \\n',\n",
       " 'third line \\n',\n",
       " 'fourth line \\n',\n",
       " 'fifth line \\n']"
      ]
     },
     "execution_count": 159,
     "metadata": {},
     "output_type": "execute_result"
    }
   ],
   "source": [
    "u.readlines()"
   ]
  },
  {
   "cell_type": "code",
   "execution_count": 160,
   "id": "cfcbaff4",
   "metadata": {},
   "outputs": [],
   "source": [
    "import os"
   ]
  },
  {
   "cell_type": "code",
   "execution_count": 172,
   "id": "708751d0",
   "metadata": {},
   "outputs": [
    {
     "ename": "PermissionError",
     "evalue": "[WinError 32] The process cannot access the file because it is being used by another process: 'test1.txt'",
     "output_type": "error",
     "traceback": [
      "\u001b[1;31m---------------------------------------------------------------------------\u001b[0m",
      "\u001b[1;31mPermissionError\u001b[0m                           Traceback (most recent call last)",
      "\u001b[1;32m<ipython-input-172-82bdca9d8f94>\u001b[0m in \u001b[0;36m<module>\u001b[1;34m\u001b[0m\n\u001b[1;32m----> 1\u001b[1;33m \u001b[0mos\u001b[0m\u001b[1;33m.\u001b[0m\u001b[0mremove\u001b[0m\u001b[1;33m(\u001b[0m\u001b[1;34m'test1.txt'\u001b[0m\u001b[1;33m)\u001b[0m\u001b[1;33m\u001b[0m\u001b[1;33m\u001b[0m\u001b[0m\n\u001b[0m",
      "\u001b[1;31mPermissionError\u001b[0m: [WinError 32] The process cannot access the file because it is being used by another process: 'test1.txt'"
     ]
    }
   ],
   "source": [
    "os.remove('test1.txt')"
   ]
  },
  {
   "cell_type": "code",
   "execution_count": 163,
   "id": "eed9bb3e",
   "metadata": {},
   "outputs": [
    {
     "data": {
      "text/plain": [
       "False"
      ]
     },
     "execution_count": 163,
     "metadata": {},
     "output_type": "execute_result"
    }
   ],
   "source": [
    "y.closed"
   ]
  },
  {
   "cell_type": "code",
   "execution_count": 164,
   "id": "030170ba",
   "metadata": {},
   "outputs": [],
   "source": [
    "y.close()"
   ]
  },
  {
   "cell_type": "code",
   "execution_count": 166,
   "id": "d409ceda",
   "metadata": {},
   "outputs": [],
   "source": [
    "u.close()"
   ]
  },
  {
   "cell_type": "code",
   "execution_count": 171,
   "id": "5aee756e",
   "metadata": {},
   "outputs": [
    {
     "ename": "PermissionError",
     "evalue": "[WinError 32] The process cannot access the file because it is being used by another process: 'test2.txt'",
     "output_type": "error",
     "traceback": [
      "\u001b[1;31m---------------------------------------------------------------------------\u001b[0m",
      "\u001b[1;31mPermissionError\u001b[0m                           Traceback (most recent call last)",
      "\u001b[1;32m<ipython-input-171-1b9c7d4a7058>\u001b[0m in \u001b[0;36m<module>\u001b[1;34m\u001b[0m\n\u001b[1;32m----> 1\u001b[1;33m \u001b[0mos\u001b[0m\u001b[1;33m.\u001b[0m\u001b[0mremove\u001b[0m\u001b[1;33m(\u001b[0m\u001b[1;34m'test2.txt'\u001b[0m\u001b[1;33m)\u001b[0m\u001b[1;33m\u001b[0m\u001b[1;33m\u001b[0m\u001b[0m\n\u001b[0m",
      "\u001b[1;31mPermissionError\u001b[0m: [WinError 32] The process cannot access the file because it is being used by another process: 'test2.txt'"
     ]
    }
   ],
   "source": [
    "os.remove('test2.txt')"
   ]
  },
  {
   "cell_type": "code",
   "execution_count": 169,
   "id": "41943414",
   "metadata": {},
   "outputs": [],
   "source": [
    "t.close()"
   ]
  },
  {
   "cell_type": "code",
   "execution_count": 170,
   "id": "04c86a1a",
   "metadata": {},
   "outputs": [],
   "source": [
    "f.close()"
   ]
  },
  {
   "cell_type": "code",
   "execution_count": 173,
   "id": "8e9b3b2f",
   "metadata": {},
   "outputs": [],
   "source": [
    "os.remove('test.csv')"
   ]
  },
  {
   "cell_type": "code",
   "execution_count": 174,
   "id": "b26b7929",
   "metadata": {},
   "outputs": [],
   "source": [
    "os.rmdir('mlfolder/')"
   ]
  },
  {
   "cell_type": "code",
   "execution_count": 184,
   "id": "bde650f7",
   "metadata": {},
   "outputs": [
    {
     "name": "stdout",
     "output_type": "stream",
     "text": [
      "100.0\n",
      "no exception occured\n",
      "run this code of block always\n"
     ]
    }
   ],
   "source": [
    "try:\n",
    "    print(100/1)\n",
    "except:\n",
    "    print(sys.exc_info()[1], 'Exception occured')\n",
    "else:\n",
    "    print('no exception occured')\n",
    "finally:\n",
    "    print('run this code of block always')"
   ]
  },
  {
   "cell_type": "code",
   "execution_count": 177,
   "id": "8e015881",
   "metadata": {},
   "outputs": [],
   "source": [
    "import sys"
   ]
  },
  {
   "cell_type": "code",
   "execution_count": 190,
   "id": "dff2e676",
   "metadata": {},
   "outputs": [
    {
     "name": "stdout",
     "output_type": "stream",
     "text": [
      "name 'x' is not defined variable error occured\n"
     ]
    }
   ],
   "source": [
    "try:\n",
    "    print(x)\n",
    "except:\n",
    "    print(sys.exc_info()[1],'variable error occured')"
   ]
  },
  {
   "cell_type": "code",
   "execution_count": 197,
   "id": "86f4631c",
   "metadata": {},
   "outputs": [
    {
     "name": "stdout",
     "output_type": "stream",
     "text": [
      "Below error occured\n",
      "[WinError 2] The system cannot find the file specified: 'new1.txt'\n",
      "run this code block always\n"
     ]
    }
   ],
   "source": [
    "try:\n",
    "    os.remove('new1.txt')\n",
    "except:\n",
    "    print('Below error occured')\n",
    "    print(sys.exc_info()[1])\n",
    "else:\n",
    "    print('no exception occured')\n",
    "finally:\n",
    "    print('run this code block always')"
   ]
  },
  {
   "cell_type": "code",
   "execution_count": 205,
   "id": "21ddd325",
   "metadata": {},
   "outputs": [
    {
     "name": "stdout",
     "output_type": "stream",
     "text": [
      "Enter your first number :10\n",
      "Enter your first number :0\n",
      "zero division error\n"
     ]
    }
   ],
   "source": [
    "try:\n",
    "    x = int(input('Enter your first number :', ))\n",
    "    y = int(input('Enter your first number :', ))\n",
    "    print(x/y)\n",
    "    os.remove('u.txt')\n",
    "except NameError:\n",
    "    print('name error exception error occured')\n",
    "except FileNotFoundError:\n",
    "    print('file not found error')\n",
    "except ZeroDivisionError:\n",
    "    print('zero division error')"
   ]
  },
  {
   "cell_type": "code",
   "execution_count": 211,
   "id": "dfc1eea3",
   "metadata": {},
   "outputs": [
    {
     "name": "stdout",
     "output_type": "stream",
     "text": [
      "enter first number: 100\n",
      "<class 'ValueError'>\n"
     ]
    }
   ],
   "source": [
    "try:\n",
    "    x = int(input('enter first number: '))\n",
    "    if x>50:\n",
    "        raise ValueError(x)\n",
    "except:\n",
    "    print(sys.exc_info()[0])"
   ]
  },
  {
   "cell_type": "code",
   "execution_count": 217,
   "id": "2775f7d8",
   "metadata": {},
   "outputs": [
    {
     "name": "stdout",
     "output_type": "stream",
     "text": [
      "(<class 'OverflowError'>, OverflowError('math range error'), <traceback object at 0x000002AC063C53C0>)\n"
     ]
    }
   ],
   "source": [
    "try:\n",
    "    import math\n",
    "    print(math.exp(1000))\n",
    "except OverflowError:\n",
    "    print(sys.exc_info())\n",
    "else:\n",
    "    print('success', 'no error')"
   ]
  },
  {
   "cell_type": "code",
   "execution_count": 218,
   "id": "fc8176cd",
   "metadata": {},
   "outputs": [
    {
     "name": "stdout",
     "output_type": "stream",
     "text": [
      "assertion error occured\n"
     ]
    }
   ],
   "source": [
    "try:\n",
    "    a = 50\n",
    "    b = 'sanjay'\n",
    "    assert a==b\n",
    "except AssertionError:\n",
    "    print('assertion error occured')"
   ]
  },
  {
   "cell_type": "code",
   "execution_count": 219,
   "id": "0f940ea9",
   "metadata": {},
   "outputs": [
    {
     "name": "stdout",
     "output_type": "stream",
     "text": [
      "module error\n"
     ]
    }
   ],
   "source": [
    "try:\n",
    "    import mymodule\n",
    "except ModuleNotFoundError:\n",
    "    print('module error')"
   ]
  },
  {
   "cell_type": "code",
   "execution_count": 221,
   "id": "934e540a",
   "metadata": {},
   "outputs": [
    {
     "name": "stdout",
     "output_type": "stream",
     "text": [
      "error\n"
     ]
    }
   ],
   "source": [
    "try:\n",
    "    dic = {1:'machine', 2:'learning', 3:'computer'}\n",
    "    print(dic[4])\n",
    "except KeyError:\n",
    "    print('error')"
   ]
  },
  {
   "cell_type": "code",
   "execution_count": 222,
   "id": "aeaf4aa8",
   "metadata": {},
   "outputs": [
    {
     "name": "stdout",
     "output_type": "stream",
     "text": [
      "error\n"
     ]
    }
   ],
   "source": [
    "try:\n",
    "    ltt = [1,2,3,4]\n",
    "    print(ltt[6])\n",
    "except IndexError:\n",
    "    print('error')"
   ]
  },
  {
   "cell_type": "code",
   "execution_count": 223,
   "id": "afda5cf4",
   "metadata": {},
   "outputs": [
    {
     "name": "stdout",
     "output_type": "stream",
     "text": [
      "error1\n"
     ]
    }
   ],
   "source": [
    "try:\n",
    "    a = 50\n",
    "    b = 'sanjay'\n",
    "    print(a/b)\n",
    "except TypeError:\n",
    "    print('error1')"
   ]
  },
  {
   "cell_type": "code",
   "execution_count": 224,
   "id": "fcf00467",
   "metadata": {},
   "outputs": [
    {
     "name": "stdout",
     "output_type": "stream",
     "text": [
      "error\n"
     ]
    }
   ],
   "source": [
    "try:\n",
    "    a = 10\n",
    "    b = a.upper()\n",
    "    print(b)\n",
    "except AttributeError:\n",
    "    print('error')"
   ]
  },
  {
   "cell_type": "code",
   "execution_count": null,
   "id": "d360b666",
   "metadata": {},
   "outputs": [],
   "source": []
  }
 ],
 "metadata": {
  "kernelspec": {
   "display_name": "Python 3",
   "language": "python",
   "name": "python3"
  },
  "language_info": {
   "codemirror_mode": {
    "name": "ipython",
    "version": 3
   },
   "file_extension": ".py",
   "mimetype": "text/x-python",
   "name": "python",
   "nbconvert_exporter": "python",
   "pygments_lexer": "ipython3",
   "version": "3.8.8"
  }
 },
 "nbformat": 4,
 "nbformat_minor": 5
}
