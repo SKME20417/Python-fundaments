{
 "cells": [
  {
   "cell_type": "code",
   "execution_count": 6,
   "id": "e893c7a1",
   "metadata": {},
   "outputs": [
    {
     "name": "stdout",
     "output_type": "stream",
     "text": [
      "Requirement already satisfied: numpy in c:\\users\\skme2\\anaconda3\\lib\\site-packages (1.22.4)\n"
     ]
    },
    {
     "name": "stderr",
     "output_type": "stream",
     "text": [
      "WARNING: Ignoring invalid distribution -atplotlib (c:\\users\\skme2\\anaconda3\\lib\\site-packages)\n",
      "WARNING: Ignoring invalid distribution -atplotlib (c:\\users\\skme2\\anaconda3\\lib\\site-packages)\n",
      "\n",
      "[notice] A new release of pip is available: 23.1.2 -> 23.2.1\n",
      "[notice] To update, run: python.exe -m pip install --upgrade pip\n"
     ]
    }
   ],
   "source": [
    "!pip install numpy\n"
   ]
  },
  {
   "cell_type": "code",
   "execution_count": 7,
   "id": "022c8abc",
   "metadata": {},
   "outputs": [
    {
     "name": "stderr",
     "output_type": "stream",
     "text": [
      "C:\\Users\\skme2\\anaconda3\\lib\\site-packages\\numpy\\_distributor_init.py:30: UserWarning: loaded more than 1 DLL from .libs:\n",
      "C:\\Users\\skme2\\anaconda3\\lib\\site-packages\\numpy\\.libs\\libopenblas.EL2C6PLE4ZYW3ECEVIV3OXXGRN2NRFM2.gfortran-win_amd64.dll\n",
      "C:\\Users\\skme2\\anaconda3\\lib\\site-packages\\numpy\\.libs\\libopenblas.FB5AE2TYXYH2IJRDKGDGQ3XBKLKTF43H.gfortran-win_amd64.dll\n",
      "  warnings.warn(\"loaded more than 1 DLL from .libs:\"\n"
     ]
    }
   ],
   "source": [
    "import numpy as np"
   ]
  },
  {
   "cell_type": "code",
   "execution_count": 8,
   "id": "4d241218",
   "metadata": {},
   "outputs": [],
   "source": [
    "lst = [5,7,9,10,15,16,17]"
   ]
  },
  {
   "cell_type": "code",
   "execution_count": 9,
   "id": "a02126d6",
   "metadata": {},
   "outputs": [],
   "source": [
    "s = []\n",
    "for i in lst:\n",
    "    s.append(i+1)"
   ]
  },
  {
   "cell_type": "code",
   "execution_count": 10,
   "id": "0ef41444",
   "metadata": {},
   "outputs": [
    {
     "data": {
      "text/plain": [
       "[6, 8, 10, 11, 16, 17, 18]"
      ]
     },
     "execution_count": 10,
     "metadata": {},
     "output_type": "execute_result"
    }
   ],
   "source": [
    "s\n"
   ]
  },
  {
   "cell_type": "code",
   "execution_count": 13,
   "id": "167a938a",
   "metadata": {},
   "outputs": [
    {
     "name": "stdout",
     "output_type": "stream",
     "text": [
      "1.42 µs ± 113 ns per loop (mean ± std. dev. of 7 runs, 1000000 loops each)\n"
     ]
    }
   ],
   "source": [
    "%timeit [i**2 for i in lst]"
   ]
  },
  {
   "cell_type": "code",
   "execution_count": 15,
   "id": "a434e8bd",
   "metadata": {},
   "outputs": [],
   "source": [
    "arr = np.array(lst)"
   ]
  },
  {
   "cell_type": "code",
   "execution_count": 16,
   "id": "553b900f",
   "metadata": {},
   "outputs": [
    {
     "data": {
      "text/plain": [
       "array([ 6,  8, 10, 11, 16, 17, 18])"
      ]
     },
     "execution_count": 16,
     "metadata": {},
     "output_type": "execute_result"
    }
   ],
   "source": [
    "arr+1"
   ]
  },
  {
   "cell_type": "code",
   "execution_count": 18,
   "id": "37c6d31c",
   "metadata": {},
   "outputs": [
    {
     "name": "stdout",
     "output_type": "stream",
     "text": [
      "487 ns ± 77.5 ns per loop (mean ± std. dev. of 7 runs, 1000000 loops each)\n"
     ]
    }
   ],
   "source": [
    "%timeit (arr**2)"
   ]
  },
  {
   "cell_type": "code",
   "execution_count": 19,
   "id": "76aedadf",
   "metadata": {},
   "outputs": [
    {
     "ename": "TypeError",
     "evalue": "can only concatenate list (not \"int\") to list",
     "output_type": "error",
     "traceback": [
      "\u001b[1;31m---------------------------------------------------------------------------\u001b[0m",
      "\u001b[1;31mTypeError\u001b[0m                                 Traceback (most recent call last)",
      "\u001b[1;32m<ipython-input-19-4be592ddf9d9>\u001b[0m in \u001b[0;36m<module>\u001b[1;34m\u001b[0m\n\u001b[1;32m----> 1\u001b[1;33m \u001b[0mlst\u001b[0m \u001b[1;33m+\u001b[0m \u001b[1;36m5\u001b[0m\u001b[1;33m\u001b[0m\u001b[1;33m\u001b[0m\u001b[0m\n\u001b[0m",
      "\u001b[1;31mTypeError\u001b[0m: can only concatenate list (not \"int\") to list"
     ]
    }
   ],
   "source": [
    "lst + 5"
   ]
  },
  {
   "cell_type": "code",
   "execution_count": 20,
   "id": "55be3b84",
   "metadata": {},
   "outputs": [
    {
     "data": {
      "text/plain": [
       "[5, 7, 9, 10, 15, 16, 17, 5]"
      ]
     },
     "execution_count": 20,
     "metadata": {},
     "output_type": "execute_result"
    }
   ],
   "source": [
    "lst + [5]"
   ]
  },
  {
   "cell_type": "code",
   "execution_count": 21,
   "id": "c45d5dc8",
   "metadata": {},
   "outputs": [
    {
     "data": {
      "text/plain": [
       "array([10, 12, 14, 15, 20, 21, 22])"
      ]
     },
     "execution_count": 21,
     "metadata": {},
     "output_type": "execute_result"
    }
   ],
   "source": [
    "arr + 5"
   ]
  },
  {
   "cell_type": "code",
   "execution_count": null,
   "id": "fd6cd323",
   "metadata": {},
   "outputs": [],
   "source": []
  },
  {
   "cell_type": "code",
   "execution_count": 23,
   "id": "6d9e2c21",
   "metadata": {},
   "outputs": [
    {
     "data": {
      "text/plain": [
       "{1, 2, 3, 4, 5, 6, 7, 8, 9}"
      ]
     },
     "execution_count": 23,
     "metadata": {},
     "output_type": "execute_result"
    }
   ],
   "source": [
    "set(range(1,10))"
   ]
  },
  {
   "cell_type": "code",
   "execution_count": null,
   "id": "8f3aa07c",
   "metadata": {},
   "outputs": [],
   "source": []
  },
  {
   "cell_type": "code",
   "execution_count": 26,
   "id": "b3d4a0c7",
   "metadata": {},
   "outputs": [],
   "source": [
    "arr1 = np.arange(1,31,5)"
   ]
  },
  {
   "cell_type": "code",
   "execution_count": 27,
   "id": "1db3a59c",
   "metadata": {},
   "outputs": [],
   "source": [
    "lst = [1,5,8,9,10,15,16]"
   ]
  },
  {
   "cell_type": "code",
   "execution_count": 29,
   "id": "52b038a4",
   "metadata": {},
   "outputs": [],
   "source": [
    "arr2 = np.array(lst)"
   ]
  },
  {
   "cell_type": "code",
   "execution_count": 30,
   "id": "83daa753",
   "metadata": {},
   "outputs": [
    {
     "data": {
      "text/plain": [
       "(7,)"
      ]
     },
     "execution_count": 30,
     "metadata": {},
     "output_type": "execute_result"
    }
   ],
   "source": [
    "arr2.shape"
   ]
  },
  {
   "cell_type": "code",
   "execution_count": 31,
   "id": "93d69e39",
   "metadata": {},
   "outputs": [
    {
     "data": {
      "text/plain": [
       "1"
      ]
     },
     "execution_count": 31,
     "metadata": {},
     "output_type": "execute_result"
    }
   ],
   "source": [
    "arr2.ndim"
   ]
  },
  {
   "cell_type": "code",
   "execution_count": 32,
   "id": "9a6cd6c2",
   "metadata": {},
   "outputs": [
    {
     "data": {
      "text/plain": [
       "numpy.ndarray"
      ]
     },
     "execution_count": 32,
     "metadata": {},
     "output_type": "execute_result"
    }
   ],
   "source": [
    "type(arr2)"
   ]
  },
  {
   "cell_type": "code",
   "execution_count": 34,
   "id": "c5a945a1",
   "metadata": {},
   "outputs": [
    {
     "data": {
      "text/plain": [
       "(1, 2, 3, 4, 5, 6, 7, 8, 9, 10, 11, 12, 13, 14, 15, 16, 17, 18, 19, 20)"
      ]
     },
     "execution_count": 34,
     "metadata": {},
     "output_type": "execute_result"
    }
   ],
   "source": [
    "tuple(range(1,21))"
   ]
  },
  {
   "cell_type": "code",
   "execution_count": 36,
   "id": "a10779ed",
   "metadata": {},
   "outputs": [],
   "source": [
    "new_arr = np.arange(1,21,3)"
   ]
  },
  {
   "cell_type": "code",
   "execution_count": 37,
   "id": "b5a16e92",
   "metadata": {},
   "outputs": [
    {
     "data": {
      "text/plain": [
       "array([ 1,  4,  7, 10, 13, 16, 19])"
      ]
     },
     "execution_count": 37,
     "metadata": {},
     "output_type": "execute_result"
    }
   ],
   "source": [
    "new_arr"
   ]
  },
  {
   "cell_type": "code",
   "execution_count": 39,
   "id": "24331219",
   "metadata": {},
   "outputs": [],
   "source": [
    "new_arr3 = np.arange(3,21,3)"
   ]
  },
  {
   "cell_type": "code",
   "execution_count": 40,
   "id": "4b5fe939",
   "metadata": {},
   "outputs": [
    {
     "data": {
      "text/plain": [
       "array([ 3,  6,  9, 12, 15, 18])"
      ]
     },
     "execution_count": 40,
     "metadata": {},
     "output_type": "execute_result"
    }
   ],
   "source": [
    "new_arr3"
   ]
  },
  {
   "cell_type": "code",
   "execution_count": 41,
   "id": "829dbd43",
   "metadata": {},
   "outputs": [],
   "source": [
    "lst_2d = [[1,2,3], [4,5,6], [7,8,9], [10,11,12]]"
   ]
  },
  {
   "cell_type": "code",
   "execution_count": 42,
   "id": "95b1bf59",
   "metadata": {},
   "outputs": [
    {
     "data": {
      "text/plain": [
       "[[1, 2, 3], [4, 5, 6], [7, 8, 9], [10, 11, 12]]"
      ]
     },
     "execution_count": 42,
     "metadata": {},
     "output_type": "execute_result"
    }
   ],
   "source": [
    "lst_2d"
   ]
  },
  {
   "cell_type": "code",
   "execution_count": 44,
   "id": "ee4a2755",
   "metadata": {},
   "outputs": [],
   "source": [
    "arr4 = np.array(lst_2d)"
   ]
  },
  {
   "cell_type": "code",
   "execution_count": 45,
   "id": "a9b7dad5",
   "metadata": {},
   "outputs": [
    {
     "data": {
      "text/plain": [
       "array([[ 1,  2,  3],\n",
       "       [ 4,  5,  6],\n",
       "       [ 7,  8,  9],\n",
       "       [10, 11, 12]])"
      ]
     },
     "execution_count": 45,
     "metadata": {},
     "output_type": "execute_result"
    }
   ],
   "source": [
    "arr4"
   ]
  },
  {
   "cell_type": "code",
   "execution_count": 46,
   "id": "d07b4bf5",
   "metadata": {},
   "outputs": [
    {
     "data": {
      "text/plain": [
       "(4, 3)"
      ]
     },
     "execution_count": 46,
     "metadata": {},
     "output_type": "execute_result"
    }
   ],
   "source": [
    "arr4.shape"
   ]
  },
  {
   "cell_type": "code",
   "execution_count": 47,
   "id": "7dfd0fa6",
   "metadata": {},
   "outputs": [
    {
     "data": {
      "text/plain": [
       "2"
      ]
     },
     "execution_count": 47,
     "metadata": {},
     "output_type": "execute_result"
    }
   ],
   "source": [
    "arr4.ndim"
   ]
  },
  {
   "cell_type": "code",
   "execution_count": 48,
   "id": "ccd2f33b",
   "metadata": {},
   "outputs": [
    {
     "data": {
      "text/plain": [
       "48"
      ]
     },
     "execution_count": 48,
     "metadata": {},
     "output_type": "execute_result"
    }
   ],
   "source": [
    "arr4.nbytes"
   ]
  },
  {
   "cell_type": "code",
   "execution_count": 49,
   "id": "0594913c",
   "metadata": {},
   "outputs": [
    {
     "data": {
      "text/plain": [
       "numpy.ndarray"
      ]
     },
     "execution_count": 49,
     "metadata": {},
     "output_type": "execute_result"
    }
   ],
   "source": [
    "type(arr4)"
   ]
  },
  {
   "cell_type": "code",
   "execution_count": 50,
   "id": "6627e323",
   "metadata": {},
   "outputs": [
    {
     "data": {
      "text/plain": [
       "array([0., 0., 0., 0., 0.])"
      ]
     },
     "execution_count": 50,
     "metadata": {},
     "output_type": "execute_result"
    }
   ],
   "source": [
    "np.zeros(5)"
   ]
  },
  {
   "cell_type": "code",
   "execution_count": 52,
   "id": "86b977bc",
   "metadata": {},
   "outputs": [
    {
     "data": {
      "text/plain": [
       "array([[0., 0., 0., 0., 0.],\n",
       "       [0., 0., 0., 0., 0.],\n",
       "       [0., 0., 0., 0., 0.],\n",
       "       [0., 0., 0., 0., 0.],\n",
       "       [0., 0., 0., 0., 0.]])"
      ]
     },
     "execution_count": 52,
     "metadata": {},
     "output_type": "execute_result"
    }
   ],
   "source": [
    "np.zeros((5,5))"
   ]
  },
  {
   "cell_type": "code",
   "execution_count": 53,
   "id": "c496419b",
   "metadata": {},
   "outputs": [
    {
     "data": {
      "text/plain": [
       "array([[0., 0., 0., 0., 0.],\n",
       "       [0., 0., 0., 0., 0.],\n",
       "       [0., 0., 0., 0., 0.],\n",
       "       [0., 0., 0., 0., 0.],\n",
       "       [0., 0., 0., 0., 0.]])"
      ]
     },
     "execution_count": 53,
     "metadata": {},
     "output_type": "execute_result"
    }
   ],
   "source": [
    "np.zeros([5,5])"
   ]
  },
  {
   "cell_type": "code",
   "execution_count": 55,
   "id": "f072d62f",
   "metadata": {},
   "outputs": [
    {
     "data": {
      "text/plain": [
       "array([1., 1., 1., 1., 1., 1., 1., 1., 1.])"
      ]
     },
     "execution_count": 55,
     "metadata": {},
     "output_type": "execute_result"
    }
   ],
   "source": [
    "np.ones(9)"
   ]
  },
  {
   "cell_type": "code",
   "execution_count": 56,
   "id": "2221616e",
   "metadata": {},
   "outputs": [
    {
     "data": {
      "text/plain": [
       "array([[1., 1., 1., 1., 1., 1., 1., 1., 1.],\n",
       "       [1., 1., 1., 1., 1., 1., 1., 1., 1.],\n",
       "       [1., 1., 1., 1., 1., 1., 1., 1., 1.],\n",
       "       [1., 1., 1., 1., 1., 1., 1., 1., 1.],\n",
       "       [1., 1., 1., 1., 1., 1., 1., 1., 1.],\n",
       "       [1., 1., 1., 1., 1., 1., 1., 1., 1.],\n",
       "       [1., 1., 1., 1., 1., 1., 1., 1., 1.],\n",
       "       [1., 1., 1., 1., 1., 1., 1., 1., 1.],\n",
       "       [1., 1., 1., 1., 1., 1., 1., 1., 1.]])"
      ]
     },
     "execution_count": 56,
     "metadata": {},
     "output_type": "execute_result"
    }
   ],
   "source": [
    "np.ones((9,9))"
   ]
  },
  {
   "cell_type": "code",
   "execution_count": 58,
   "id": "bf918ca9",
   "metadata": {},
   "outputs": [
    {
     "data": {
      "text/plain": [
       "array([[1., 1., 1., 1., 1.],\n",
       "       [1., 1., 1., 1., 1.],\n",
       "       [1., 1., 1., 1., 1.],\n",
       "       [1., 1., 1., 1., 1.],\n",
       "       [1., 1., 1., 1., 1.]])"
      ]
     },
     "execution_count": 58,
     "metadata": {},
     "output_type": "execute_result"
    }
   ],
   "source": [
    "np.ones([5,5])"
   ]
  },
  {
   "cell_type": "code",
   "execution_count": 60,
   "id": "27e3c799",
   "metadata": {},
   "outputs": [
    {
     "data": {
      "text/plain": [
       "array([[8]])"
      ]
     },
     "execution_count": 60,
     "metadata": {},
     "output_type": "execute_result"
    }
   ],
   "source": [
    "np.diag([8])"
   ]
  },
  {
   "cell_type": "code",
   "execution_count": 61,
   "id": "1660d8fb",
   "metadata": {},
   "outputs": [
    {
     "data": {
      "text/plain": [
       "array([[1, 0, 0],\n",
       "       [0, 2, 0],\n",
       "       [0, 0, 3]])"
      ]
     },
     "execution_count": 61,
     "metadata": {},
     "output_type": "execute_result"
    }
   ],
   "source": [
    "np.diag([1,2,3])"
   ]
  },
  {
   "cell_type": "code",
   "execution_count": 64,
   "id": "4ccd4358",
   "metadata": {},
   "outputs": [
    {
     "data": {
      "text/plain": [
       "array([[7, 0, 0],\n",
       "       [0, 5, 0],\n",
       "       [0, 0, 3]])"
      ]
     },
     "execution_count": 64,
     "metadata": {},
     "output_type": "execute_result"
    }
   ],
   "source": [
    "np.diag((7,5,3))"
   ]
  },
  {
   "cell_type": "code",
   "execution_count": 65,
   "id": "082ea955",
   "metadata": {},
   "outputs": [
    {
     "data": {
      "text/plain": [
       "array([[1., 0., 0., 0., 0., 0., 0., 0., 0.],\n",
       "       [0., 1., 0., 0., 0., 0., 0., 0., 0.],\n",
       "       [0., 0., 1., 0., 0., 0., 0., 0., 0.],\n",
       "       [0., 0., 0., 1., 0., 0., 0., 0., 0.],\n",
       "       [0., 0., 0., 0., 1., 0., 0., 0., 0.],\n",
       "       [0., 0., 0., 0., 0., 1., 0., 0., 0.],\n",
       "       [0., 0., 0., 0., 0., 0., 1., 0., 0.],\n",
       "       [0., 0., 0., 0., 0., 0., 0., 1., 0.],\n",
       "       [0., 0., 0., 0., 0., 0., 0., 0., 1.]])"
      ]
     },
     "execution_count": 65,
     "metadata": {},
     "output_type": "execute_result"
    }
   ],
   "source": [
    "np.identity(9)"
   ]
  },
  {
   "cell_type": "code",
   "execution_count": 66,
   "id": "76d9499f",
   "metadata": {},
   "outputs": [
    {
     "data": {
      "text/plain": [
       "array([[1., 0., 0., 0.],\n",
       "       [0., 1., 0., 0.],\n",
       "       [0., 0., 1., 0.],\n",
       "       [0., 0., 0., 1.]])"
      ]
     },
     "execution_count": 66,
     "metadata": {},
     "output_type": "execute_result"
    }
   ],
   "source": [
    "np.eye(4)"
   ]
  },
  {
   "cell_type": "code",
   "execution_count": 67,
   "id": "30d63d5f",
   "metadata": {},
   "outputs": [
    {
     "data": {
      "text/plain": [
       "76"
      ]
     },
     "execution_count": 67,
     "metadata": {},
     "output_type": "execute_result"
    }
   ],
   "source": [
    "np.random.randint(10,100)"
   ]
  },
  {
   "cell_type": "code",
   "execution_count": 69,
   "id": "d595ce55",
   "metadata": {},
   "outputs": [],
   "source": [
    "new_arr = np.random.randint(1,100, (8,6))"
   ]
  },
  {
   "cell_type": "code",
   "execution_count": 70,
   "id": "ae4b1461",
   "metadata": {},
   "outputs": [
    {
     "data": {
      "text/plain": [
       "(8, 6)"
      ]
     },
     "execution_count": 70,
     "metadata": {},
     "output_type": "execute_result"
    }
   ],
   "source": [
    "new_arr.shape"
   ]
  },
  {
   "cell_type": "code",
   "execution_count": 71,
   "id": "1aa5918a",
   "metadata": {},
   "outputs": [
    {
     "data": {
      "text/plain": [
       "numpy.ndarray"
      ]
     },
     "execution_count": 71,
     "metadata": {},
     "output_type": "execute_result"
    }
   ],
   "source": [
    "type(new_arr)"
   ]
  },
  {
   "cell_type": "code",
   "execution_count": 72,
   "id": "21c185bf",
   "metadata": {},
   "outputs": [
    {
     "name": "stdout",
     "output_type": "stream",
     "text": [
      "[[ 7 27 29 66 97  4]\n",
      " [65 40 13  4 29 14]\n",
      " [58 75 17 20 81 44]\n",
      " [44 98 85 89 27 93]\n",
      " [76 12 11 49 30 80]\n",
      " [32 73 34 64 58 52]\n",
      " [57 39 37 57 31 62]\n",
      " [97 96 77 14 16 45]]\n"
     ]
    }
   ],
   "source": [
    "print(new_arr)"
   ]
  },
  {
   "cell_type": "code",
   "execution_count": 73,
   "id": "b8d756d8",
   "metadata": {},
   "outputs": [
    {
     "data": {
      "text/plain": [
       "array([ 7, 27, 29, 66, 97,  4])"
      ]
     },
     "execution_count": 73,
     "metadata": {},
     "output_type": "execute_result"
    }
   ],
   "source": [
    "new_arr[0]"
   ]
  },
  {
   "cell_type": "code",
   "execution_count": 74,
   "id": "8106f238",
   "metadata": {},
   "outputs": [
    {
     "data": {
      "text/plain": [
       "array([65, 40, 13,  4, 29, 14])"
      ]
     },
     "execution_count": 74,
     "metadata": {},
     "output_type": "execute_result"
    }
   ],
   "source": [
    "new_arr[1]"
   ]
  },
  {
   "cell_type": "code",
   "execution_count": 75,
   "id": "59006a68",
   "metadata": {},
   "outputs": [
    {
     "data": {
      "text/plain": [
       "array([32, 73, 34, 64, 58, 52])"
      ]
     },
     "execution_count": 75,
     "metadata": {},
     "output_type": "execute_result"
    }
   ],
   "source": [
    "new_arr[5]"
   ]
  },
  {
   "cell_type": "code",
   "execution_count": 76,
   "id": "95f794b8",
   "metadata": {},
   "outputs": [
    {
     "data": {
      "text/plain": [
       "array([97, 96, 77, 14, 16, 45])"
      ]
     },
     "execution_count": 76,
     "metadata": {},
     "output_type": "execute_result"
    }
   ],
   "source": [
    "new_arr[-1]"
   ]
  },
  {
   "cell_type": "code",
   "execution_count": 77,
   "id": "d356ac09",
   "metadata": {},
   "outputs": [
    {
     "data": {
      "text/plain": [
       "array([57, 39, 37, 57, 31, 62])"
      ]
     },
     "execution_count": 77,
     "metadata": {},
     "output_type": "execute_result"
    }
   ],
   "source": [
    "new_arr[-2]"
   ]
  },
  {
   "cell_type": "code",
   "execution_count": 78,
   "id": "650642f5",
   "metadata": {},
   "outputs": [
    {
     "data": {
      "text/plain": [
       "array([[ 7, 27, 29, 66, 97,  4],\n",
       "       [65, 40, 13,  4, 29, 14],\n",
       "       [58, 75, 17, 20, 81, 44],\n",
       "       [44, 98, 85, 89, 27, 93],\n",
       "       [76, 12, 11, 49, 30, 80],\n",
       "       [32, 73, 34, 64, 58, 52],\n",
       "       [57, 39, 37, 57, 31, 62],\n",
       "       [97, 96, 77, 14, 16, 45]])"
      ]
     },
     "execution_count": 78,
     "metadata": {},
     "output_type": "execute_result"
    }
   ],
   "source": [
    "new_arr"
   ]
  },
  {
   "cell_type": "code",
   "execution_count": 79,
   "id": "c46a1efa",
   "metadata": {},
   "outputs": [
    {
     "data": {
      "text/plain": [
       "array([ 7, 65, 58, 44, 76, 32, 57, 97])"
      ]
     },
     "execution_count": 79,
     "metadata": {},
     "output_type": "execute_result"
    }
   ],
   "source": [
    "new_arr[:,0]"
   ]
  },
  {
   "cell_type": "code",
   "execution_count": 80,
   "id": "ffd49fb6",
   "metadata": {},
   "outputs": [
    {
     "data": {
      "text/plain": [
       "array([27, 40, 75, 98, 12, 73, 39, 96])"
      ]
     },
     "execution_count": 80,
     "metadata": {},
     "output_type": "execute_result"
    }
   ],
   "source": [
    "new_arr[:,1]"
   ]
  },
  {
   "cell_type": "code",
   "execution_count": 81,
   "id": "cf05f62e",
   "metadata": {},
   "outputs": [
    {
     "data": {
      "text/plain": [
       "array([ 4, 14, 44, 93, 80, 52, 62, 45])"
      ]
     },
     "execution_count": 81,
     "metadata": {},
     "output_type": "execute_result"
    }
   ],
   "source": [
    "new_arr[:, -1]"
   ]
  },
  {
   "cell_type": "code",
   "execution_count": 82,
   "id": "d646495a",
   "metadata": {},
   "outputs": [
    {
     "data": {
      "text/plain": [
       "array([97, 29, 81, 27, 30, 58, 31, 16])"
      ]
     },
     "execution_count": 82,
     "metadata": {},
     "output_type": "execute_result"
    }
   ],
   "source": [
    "new_arr[:,-2]"
   ]
  },
  {
   "cell_type": "code",
   "execution_count": 83,
   "id": "e137b7e3",
   "metadata": {},
   "outputs": [
    {
     "data": {
      "text/plain": [
       "array([[ 7, 27, 29, 66, 97,  4],\n",
       "       [65, 40, 13,  4, 29, 14],\n",
       "       [58, 75, 17, 20, 81, 44],\n",
       "       [44, 98, 85, 89, 27, 93],\n",
       "       [76, 12, 11, 49, 30, 80],\n",
       "       [32, 73, 34, 64, 58, 52],\n",
       "       [57, 39, 37, 57, 31, 62],\n",
       "       [97, 96, 77, 14, 16, 45]])"
      ]
     },
     "execution_count": 83,
     "metadata": {},
     "output_type": "execute_result"
    }
   ],
   "source": [
    "new_arr\n"
   ]
  },
  {
   "cell_type": "code",
   "execution_count": 85,
   "id": "92d57869",
   "metadata": {},
   "outputs": [
    {
     "data": {
      "text/plain": [
       "7"
      ]
     },
     "execution_count": 85,
     "metadata": {},
     "output_type": "execute_result"
    }
   ],
   "source": [
    "new_arr[0,0]"
   ]
  },
  {
   "cell_type": "code",
   "execution_count": 87,
   "id": "7c57c0f7",
   "metadata": {},
   "outputs": [
    {
     "data": {
      "text/plain": [
       "85"
      ]
     },
     "execution_count": 87,
     "metadata": {},
     "output_type": "execute_result"
    }
   ],
   "source": [
    "new_arr[3,2]"
   ]
  },
  {
   "cell_type": "code",
   "execution_count": 89,
   "id": "fbadfc83",
   "metadata": {},
   "outputs": [
    {
     "data": {
      "text/plain": [
       "45"
      ]
     },
     "execution_count": 89,
     "metadata": {},
     "output_type": "execute_result"
    }
   ],
   "source": [
    "new_arr[-1,-1]"
   ]
  },
  {
   "cell_type": "code",
   "execution_count": 92,
   "id": "4ec8a013",
   "metadata": {},
   "outputs": [
    {
     "data": {
      "text/plain": [
       "array([[49, 30, 80],\n",
       "       [64, 58, 52],\n",
       "       [57, 31, 62],\n",
       "       [14, 16, 45]])"
      ]
     },
     "execution_count": 92,
     "metadata": {},
     "output_type": "execute_result"
    }
   ],
   "source": [
    "new_arr[4:, 3:]"
   ]
  },
  {
   "cell_type": "code",
   "execution_count": 93,
   "id": "7f7505bc",
   "metadata": {},
   "outputs": [
    {
     "data": {
      "text/plain": [
       "array([29, 13, 17, 85, 11, 34, 37, 77])"
      ]
     },
     "execution_count": 93,
     "metadata": {},
     "output_type": "execute_result"
    }
   ],
   "source": [
    "new_arr[:,2]"
   ]
  },
  {
   "cell_type": "code",
   "execution_count": 94,
   "id": "8dab8e34",
   "metadata": {},
   "outputs": [
    {
     "data": {
      "text/plain": [
       "array([ 4, 14, 44, 93, 80, 52, 62, 45])"
      ]
     },
     "execution_count": 94,
     "metadata": {},
     "output_type": "execute_result"
    }
   ],
   "source": [
    "new_arr[:,-1]"
   ]
  },
  {
   "cell_type": "code",
   "execution_count": 98,
   "id": "416ee99a",
   "metadata": {},
   "outputs": [],
   "source": [
    "new_arr[0,0] = 0"
   ]
  },
  {
   "cell_type": "code",
   "execution_count": 99,
   "id": "6585c677",
   "metadata": {},
   "outputs": [
    {
     "data": {
      "text/plain": [
       "array([[ 0, 27, 29, 66, 97,  4],\n",
       "       [65, 40, 13,  4, 29, 14],\n",
       "       [58, 75, 17, 20, 81, 44],\n",
       "       [44, 98, 85, 89, 27, 93],\n",
       "       [76, 12, 11, 49, 30, 80],\n",
       "       [32, 73, 34, 64, 58, 52],\n",
       "       [57, 39, 37, 57, 31, 62],\n",
       "       [97, 96, 77, 14, 16, 45]])"
      ]
     },
     "execution_count": 99,
     "metadata": {},
     "output_type": "execute_result"
    }
   ],
   "source": [
    "new_arr"
   ]
  },
  {
   "cell_type": "code",
   "execution_count": 100,
   "id": "34cbc2f5",
   "metadata": {},
   "outputs": [],
   "source": [
    "# masking"
   ]
  },
  {
   "cell_type": "code",
   "execution_count": 102,
   "id": "46ffd5db",
   "metadata": {},
   "outputs": [
    {
     "data": {
      "text/plain": [
       "array([27, 29, 66, 97, 65, 40, 13, 29, 14, 58, 75, 17, 20, 81, 44, 44, 98,\n",
       "       85, 89, 27, 93, 76, 12, 11, 49, 30, 80, 32, 73, 34, 64, 58, 52, 57,\n",
       "       39, 37, 57, 31, 62, 97, 96, 77, 14, 16, 45])"
      ]
     },
     "execution_count": 102,
     "metadata": {},
     "output_type": "execute_result"
    }
   ],
   "source": [
    "new_arr[new_arr>10]"
   ]
  },
  {
   "cell_type": "code",
   "execution_count": 104,
   "id": "01b5bc75",
   "metadata": {},
   "outputs": [],
   "source": [
    "mask = new_arr>50"
   ]
  },
  {
   "cell_type": "code",
   "execution_count": 105,
   "id": "5459ad35",
   "metadata": {},
   "outputs": [
    {
     "name": "stdout",
     "output_type": "stream",
     "text": [
      "[[False False False  True  True False]\n",
      " [ True False False False False False]\n",
      " [ True  True False False  True False]\n",
      " [False  True  True  True False  True]\n",
      " [ True False False False False  True]\n",
      " [False  True False  True  True  True]\n",
      " [ True False False  True False  True]\n",
      " [ True  True  True False False False]]\n"
     ]
    }
   ],
   "source": [
    "print(mask)"
   ]
  },
  {
   "cell_type": "code",
   "execution_count": 107,
   "id": "7181155c",
   "metadata": {},
   "outputs": [
    {
     "data": {
      "text/plain": [
       "22"
      ]
     },
     "execution_count": 107,
     "metadata": {},
     "output_type": "execute_result"
    }
   ],
   "source": [
    "np.sum(new_arr>50)"
   ]
  },
  {
   "cell_type": "code",
   "execution_count": 109,
   "id": "595cf1c7",
   "metadata": {},
   "outputs": [
    {
     "data": {
      "text/plain": [
       "array([66, 97, 65, 58, 75, 81, 98, 85, 89, 93, 76, 80, 73, 64, 58, 52, 57,\n",
       "       57, 62, 97, 96, 77])"
      ]
     },
     "execution_count": 109,
     "metadata": {},
     "output_type": "execute_result"
    }
   ],
   "source": [
    "new_arr[new_arr>50]"
   ]
  },
  {
   "cell_type": "code",
   "execution_count": 114,
   "id": "25c1dd47",
   "metadata": {},
   "outputs": [],
   "source": [
    "new_arr[-2:, -2:] = 0"
   ]
  },
  {
   "cell_type": "code",
   "execution_count": 115,
   "id": "862690f7",
   "metadata": {},
   "outputs": [
    {
     "data": {
      "text/plain": [
       "array([[ 0, 27, 29, 66, 97,  4],\n",
       "       [65, 40, 13,  4, 29, 14],\n",
       "       [58, 75, 17, 20, 81, 44],\n",
       "       [44, 98, 85, 89, 27, 93],\n",
       "       [76, 12, 11, 49, 30, 80],\n",
       "       [32, 73, 34, 64, 58, 52],\n",
       "       [57, 39, 37, 57,  0,  0],\n",
       "       [97, 96, 77, 14,  0,  0]])"
      ]
     },
     "execution_count": 115,
     "metadata": {},
     "output_type": "execute_result"
    }
   ],
   "source": [
    "new_arr"
   ]
  },
  {
   "cell_type": "code",
   "execution_count": 116,
   "id": "5bad36e0",
   "metadata": {},
   "outputs": [],
   "source": [
    "# Basic opeartions in array"
   ]
  },
  {
   "cell_type": "code",
   "execution_count": 117,
   "id": "4cedb8a6",
   "metadata": {},
   "outputs": [],
   "source": [
    "a = np.array([10,20,30,40])"
   ]
  },
  {
   "cell_type": "code",
   "execution_count": 119,
   "id": "a4607d38",
   "metadata": {},
   "outputs": [],
   "source": [
    "b = np.arange(1,5)"
   ]
  },
  {
   "cell_type": "code",
   "execution_count": 120,
   "id": "24d51099",
   "metadata": {},
   "outputs": [
    {
     "data": {
      "text/plain": [
       "array([10, 20, 30, 40])"
      ]
     },
     "execution_count": 120,
     "metadata": {},
     "output_type": "execute_result"
    }
   ],
   "source": [
    "a"
   ]
  },
  {
   "cell_type": "code",
   "execution_count": 121,
   "id": "567ce665",
   "metadata": {},
   "outputs": [
    {
     "data": {
      "text/plain": [
       "array([1, 2, 3, 4])"
      ]
     },
     "execution_count": 121,
     "metadata": {},
     "output_type": "execute_result"
    }
   ],
   "source": [
    "\n",
    "b"
   ]
  },
  {
   "cell_type": "code",
   "execution_count": 122,
   "id": "7d5a5c9b",
   "metadata": {},
   "outputs": [
    {
     "data": {
      "text/plain": [
       "array([11, 22, 33, 44])"
      ]
     },
     "execution_count": 122,
     "metadata": {},
     "output_type": "execute_result"
    }
   ],
   "source": [
    "a+b"
   ]
  },
  {
   "cell_type": "code",
   "execution_count": 123,
   "id": "c1b511f5",
   "metadata": {},
   "outputs": [
    {
     "data": {
      "text/plain": [
       "array([ 9, 18, 27, 36])"
      ]
     },
     "execution_count": 123,
     "metadata": {},
     "output_type": "execute_result"
    }
   ],
   "source": [
    "a-b"
   ]
  },
  {
   "cell_type": "code",
   "execution_count": 124,
   "id": "2e5f0fe5",
   "metadata": {},
   "outputs": [
    {
     "data": {
      "text/plain": [
       "array([ 10,  40,  90, 160])"
      ]
     },
     "execution_count": 124,
     "metadata": {},
     "output_type": "execute_result"
    }
   ],
   "source": [
    "a*b"
   ]
  },
  {
   "cell_type": "code",
   "execution_count": 125,
   "id": "d3dd3d4f",
   "metadata": {},
   "outputs": [
    {
     "data": {
      "text/plain": [
       "array([10., 10., 10., 10.])"
      ]
     },
     "execution_count": 125,
     "metadata": {},
     "output_type": "execute_result"
    }
   ],
   "source": [
    "a/b"
   ]
  },
  {
   "cell_type": "code",
   "execution_count": 126,
   "id": "a9655261",
   "metadata": {},
   "outputs": [
    {
     "data": {
      "text/plain": [
       "array([0, 0, 0, 0])"
      ]
     },
     "execution_count": 126,
     "metadata": {},
     "output_type": "execute_result"
    }
   ],
   "source": [
    "a%b"
   ]
  },
  {
   "cell_type": "code",
   "execution_count": 127,
   "id": "df69f951",
   "metadata": {},
   "outputs": [
    {
     "data": {
      "text/plain": [
       "array([ 1,  4,  9, 16])"
      ]
     },
     "execution_count": 127,
     "metadata": {},
     "output_type": "execute_result"
    }
   ],
   "source": [
    "b**2"
   ]
  },
  {
   "cell_type": "code",
   "execution_count": 129,
   "id": "a1346d29",
   "metadata": {},
   "outputs": [
    {
     "data": {
      "text/plain": [
       "3"
      ]
     },
     "execution_count": 129,
     "metadata": {},
     "output_type": "execute_result"
    }
   ],
   "source": [
    "np.sum(a>15)"
   ]
  },
  {
   "cell_type": "code",
   "execution_count": 130,
   "id": "279c8362",
   "metadata": {},
   "outputs": [
    {
     "data": {
      "text/plain": [
       "array([2.30258509, 2.99573227, 3.40119738, 3.68887945])"
      ]
     },
     "execution_count": 130,
     "metadata": {},
     "output_type": "execute_result"
    }
   ],
   "source": [
    "np.log(a)"
   ]
  },
  {
   "cell_type": "code",
   "execution_count": 131,
   "id": "435b37f2",
   "metadata": {},
   "outputs": [
    {
     "data": {
      "text/plain": [
       "array([ 0.84147098,  0.90929743,  0.14112001, -0.7568025 ])"
      ]
     },
     "execution_count": 131,
     "metadata": {},
     "output_type": "execute_result"
    }
   ],
   "source": [
    "np.sin(b)"
   ]
  },
  {
   "cell_type": "code",
   "execution_count": 132,
   "id": "199b3704",
   "metadata": {},
   "outputs": [],
   "source": [
    "A = np.random.randint(1,100,(4,3))"
   ]
  },
  {
   "cell_type": "code",
   "execution_count": 133,
   "id": "2221a3c6",
   "metadata": {},
   "outputs": [],
   "source": [
    "B  =np.random.randint(15,150,(3,5))"
   ]
  },
  {
   "cell_type": "code",
   "execution_count": 134,
   "id": "2196b0c3",
   "metadata": {},
   "outputs": [
    {
     "data": {
      "text/plain": [
       "array([[15495, 16344, 16584, 12168, 12359],\n",
       "       [15818, 15916, 17388, 12236, 12574],\n",
       "       [22238, 20344, 21666, 14552, 16867],\n",
       "       [ 8230,  6750,  7390,  4606,  6008]])"
      ]
     },
     "execution_count": 134,
     "metadata": {},
     "output_type": "execute_result"
    }
   ],
   "source": [
    "np.dot(A,B)"
   ]
  },
  {
   "cell_type": "code",
   "execution_count": null,
   "id": "65c81568",
   "metadata": {},
   "outputs": [],
   "source": []
  },
  {
   "cell_type": "code",
   "execution_count": 135,
   "id": "9445b8f8",
   "metadata": {},
   "outputs": [],
   "source": [
    "# More operations on Arrays"
   ]
  },
  {
   "cell_type": "code",
   "execution_count": 136,
   "id": "06e83b11",
   "metadata": {},
   "outputs": [],
   "source": [
    "arr = np.arange(0,24)"
   ]
  },
  {
   "cell_type": "code",
   "execution_count": 137,
   "id": "250349c8",
   "metadata": {},
   "outputs": [
    {
     "data": {
      "text/plain": [
       "array([ 0,  1,  2,  3,  4,  5,  6,  7,  8,  9, 10, 11, 12, 13, 14, 15, 16,\n",
       "       17, 18, 19, 20, 21, 22, 23])"
      ]
     },
     "execution_count": 137,
     "metadata": {},
     "output_type": "execute_result"
    }
   ],
   "source": [
    "arr"
   ]
  },
  {
   "cell_type": "code",
   "execution_count": 139,
   "id": "edfcf6ba",
   "metadata": {},
   "outputs": [],
   "source": [
    "A = arr.reshape(6,4)"
   ]
  },
  {
   "cell_type": "code",
   "execution_count": 140,
   "id": "544b7882",
   "metadata": {},
   "outputs": [
    {
     "data": {
      "text/plain": [
       "array([[ 0,  1,  2,  3],\n",
       "       [ 4,  5,  6,  7],\n",
       "       [ 8,  9, 10, 11],\n",
       "       [12, 13, 14, 15],\n",
       "       [16, 17, 18, 19],\n",
       "       [20, 21, 22, 23]])"
      ]
     },
     "execution_count": 140,
     "metadata": {},
     "output_type": "execute_result"
    }
   ],
   "source": [
    "A"
   ]
  },
  {
   "cell_type": "code",
   "execution_count": 141,
   "id": "c459c793",
   "metadata": {},
   "outputs": [
    {
     "data": {
      "text/plain": [
       "array([[0.        , 1.        , 1.41421356, 1.73205081],\n",
       "       [2.        , 2.23606798, 2.44948974, 2.64575131],\n",
       "       [2.82842712, 3.        , 3.16227766, 3.31662479],\n",
       "       [3.46410162, 3.60555128, 3.74165739, 3.87298335],\n",
       "       [4.        , 4.12310563, 4.24264069, 4.35889894],\n",
       "       [4.47213595, 4.58257569, 4.69041576, 4.79583152]])"
      ]
     },
     "execution_count": 141,
     "metadata": {},
     "output_type": "execute_result"
    }
   ],
   "source": [
    "np.sqrt(A)"
   ]
  },
  {
   "cell_type": "code",
   "execution_count": 143,
   "id": "b4769c68",
   "metadata": {},
   "outputs": [
    {
     "data": {
      "text/plain": [
       "276"
      ]
     },
     "execution_count": 143,
     "metadata": {},
     "output_type": "execute_result"
    }
   ],
   "source": [
    "np.sum(A)"
   ]
  },
  {
   "cell_type": "code",
   "execution_count": 144,
   "id": "1178c6d5",
   "metadata": {},
   "outputs": [
    {
     "data": {
      "text/plain": [
       "array([[ 0,  1,  2,  3],\n",
       "       [ 4,  5,  6,  7],\n",
       "       [ 8,  9, 10, 11],\n",
       "       [12, 13, 14, 15],\n",
       "       [16, 17, 18, 19],\n",
       "       [20, 21, 22, 23]])"
      ]
     },
     "execution_count": 144,
     "metadata": {},
     "output_type": "execute_result"
    }
   ],
   "source": [
    "A"
   ]
  },
  {
   "cell_type": "code",
   "execution_count": 145,
   "id": "f5ac85f7",
   "metadata": {},
   "outputs": [
    {
     "data": {
      "text/plain": [
       "array([60, 66, 72, 78])"
      ]
     },
     "execution_count": 145,
     "metadata": {},
     "output_type": "execute_result"
    }
   ],
   "source": [
    "np.sum(A, axis=0)"
   ]
  },
  {
   "cell_type": "code",
   "execution_count": 146,
   "id": "3fedda52",
   "metadata": {},
   "outputs": [
    {
     "data": {
      "text/plain": [
       "array([ 6, 22, 38, 54, 70, 86])"
      ]
     },
     "execution_count": 146,
     "metadata": {},
     "output_type": "execute_result"
    }
   ],
   "source": [
    "np.sum(A, axis=1)"
   ]
  },
  {
   "cell_type": "code",
   "execution_count": 147,
   "id": "1de99543",
   "metadata": {},
   "outputs": [
    {
     "data": {
      "text/plain": [
       "11.5"
      ]
     },
     "execution_count": 147,
     "metadata": {},
     "output_type": "execute_result"
    }
   ],
   "source": [
    "np.mean(A)"
   ]
  },
  {
   "cell_type": "code",
   "execution_count": 148,
   "id": "3b7bb89c",
   "metadata": {},
   "outputs": [
    {
     "data": {
      "text/plain": [
       "array([10., 11., 12., 13.])"
      ]
     },
     "execution_count": 148,
     "metadata": {},
     "output_type": "execute_result"
    }
   ],
   "source": [
    "np.mean(A, axis=0)"
   ]
  },
  {
   "cell_type": "code",
   "execution_count": 149,
   "id": "3b4e6039",
   "metadata": {},
   "outputs": [
    {
     "data": {
      "text/plain": [
       "array([ 1.5,  5.5,  9.5, 13.5, 17.5, 21.5])"
      ]
     },
     "execution_count": 149,
     "metadata": {},
     "output_type": "execute_result"
    }
   ],
   "source": [
    "np.mean(A, axis=1)"
   ]
  },
  {
   "cell_type": "code",
   "execution_count": 150,
   "id": "e23d95ed",
   "metadata": {},
   "outputs": [
    {
     "data": {
      "text/plain": [
       "23"
      ]
     },
     "execution_count": 150,
     "metadata": {},
     "output_type": "execute_result"
    }
   ],
   "source": [
    "np.max(A)"
   ]
  },
  {
   "cell_type": "code",
   "execution_count": 151,
   "id": "9ad18454",
   "metadata": {},
   "outputs": [
    {
     "data": {
      "text/plain": [
       "array([20, 21, 22, 23])"
      ]
     },
     "execution_count": 151,
     "metadata": {},
     "output_type": "execute_result"
    }
   ],
   "source": [
    "np.max(A, axis=0)"
   ]
  },
  {
   "cell_type": "code",
   "execution_count": 152,
   "id": "2ad0d4b7",
   "metadata": {},
   "outputs": [
    {
     "data": {
      "text/plain": [
       "array([ 0,  4,  8, 12, 16, 20])"
      ]
     },
     "execution_count": 152,
     "metadata": {},
     "output_type": "execute_result"
    }
   ],
   "source": [
    "np.min(A, axis=1)"
   ]
  },
  {
   "cell_type": "code",
   "execution_count": 155,
   "id": "61e62993",
   "metadata": {},
   "outputs": [
    {
     "data": {
      "text/plain": [
       "6.92"
      ]
     },
     "execution_count": 155,
     "metadata": {},
     "output_type": "execute_result"
    }
   ],
   "source": [
    "np.round(np.std(A), 2)"
   ]
  },
  {
   "cell_type": "code",
   "execution_count": 156,
   "id": "45a09be4",
   "metadata": {},
   "outputs": [
    {
     "data": {
      "text/plain": [
       "array([[ 0,  1,  2,  3],\n",
       "       [ 4,  5,  6,  7],\n",
       "       [ 8,  9, 10, 11],\n",
       "       [12, 13, 14, 15],\n",
       "       [16, 17, 18, 19],\n",
       "       [20, 21, 22, 23]])"
      ]
     },
     "execution_count": 156,
     "metadata": {},
     "output_type": "execute_result"
    }
   ],
   "source": [
    "A"
   ]
  },
  {
   "cell_type": "code",
   "execution_count": 158,
   "id": "47b85e1f",
   "metadata": {},
   "outputs": [],
   "source": [
    "A = A.reshape(8,3)"
   ]
  },
  {
   "cell_type": "code",
   "execution_count": 159,
   "id": "3490efc7",
   "metadata": {},
   "outputs": [
    {
     "data": {
      "text/plain": [
       "array([ 0,  1,  2,  3,  4,  5,  6,  7,  8,  9, 10, 11, 12, 13, 14, 15, 16,\n",
       "       17, 18, 19, 20, 21, 22, 23])"
      ]
     },
     "execution_count": 159,
     "metadata": {},
     "output_type": "execute_result"
    }
   ],
   "source": [
    "A.flatten()"
   ]
  },
  {
   "cell_type": "code",
   "execution_count": 160,
   "id": "1cdd1c15",
   "metadata": {},
   "outputs": [
    {
     "data": {
      "text/plain": [
       "array([[ 0,  1,  2],\n",
       "       [ 3,  4,  5],\n",
       "       [ 6,  7,  8],\n",
       "       [ 9, 10, 11],\n",
       "       [12, 13, 14],\n",
       "       [15, 16, 17],\n",
       "       [18, 19, 20],\n",
       "       [21, 22, 23]])"
      ]
     },
     "execution_count": 160,
     "metadata": {},
     "output_type": "execute_result"
    }
   ],
   "source": [
    "A"
   ]
  },
  {
   "cell_type": "code",
   "execution_count": 161,
   "id": "e8de3595",
   "metadata": {},
   "outputs": [
    {
     "data": {
      "text/plain": [
       "array([[ 0,  3,  6,  9, 12, 15, 18, 21],\n",
       "       [ 1,  4,  7, 10, 13, 16, 19, 22],\n",
       "       [ 2,  5,  8, 11, 14, 17, 20, 23]])"
      ]
     },
     "execution_count": 161,
     "metadata": {},
     "output_type": "execute_result"
    }
   ],
   "source": [
    "A.T"
   ]
  },
  {
   "cell_type": "code",
   "execution_count": 162,
   "id": "2547c8ec",
   "metadata": {},
   "outputs": [
    {
     "data": {
      "text/plain": [
       "array([[ 0,  1,  2],\n",
       "       [ 3,  4,  5],\n",
       "       [ 6,  7,  8],\n",
       "       [ 9, 10, 11],\n",
       "       [12, 13, 14],\n",
       "       [15, 16, 17],\n",
       "       [18, 19, 20],\n",
       "       [21, 22, 23]])"
      ]
     },
     "execution_count": 162,
     "metadata": {},
     "output_type": "execute_result"
    }
   ],
   "source": [
    "A"
   ]
  },
  {
   "cell_type": "code",
   "execution_count": 163,
   "id": "0b63a2f5",
   "metadata": {},
   "outputs": [
    {
     "data": {
      "text/plain": [
       "array([[ 0,  3,  6,  9, 12, 15, 18, 21],\n",
       "       [ 1,  4,  7, 10, 13, 16, 19, 22],\n",
       "       [ 2,  5,  8, 11, 14, 17, 20, 23]])"
      ]
     },
     "execution_count": 163,
     "metadata": {},
     "output_type": "execute_result"
    }
   ],
   "source": [
    "np.transpose(A)"
   ]
  },
  {
   "cell_type": "code",
   "execution_count": 164,
   "id": "607b8d61",
   "metadata": {},
   "outputs": [],
   "source": [
    "# staccking"
   ]
  },
  {
   "cell_type": "code",
   "execution_count": 166,
   "id": "be8db71d",
   "metadata": {},
   "outputs": [],
   "source": [
    "d =np.random.randint(1,500,(3,3))"
   ]
  },
  {
   "cell_type": "code",
   "execution_count": 168,
   "id": "b3e3477a",
   "metadata": {},
   "outputs": [],
   "source": [
    "w = np.random.randint(500,2000,(3,3))"
   ]
  },
  {
   "cell_type": "code",
   "execution_count": 169,
   "id": "563c92a9",
   "metadata": {},
   "outputs": [
    {
     "data": {
      "text/plain": [
       "array([[1764, 1533, 1725],\n",
       "       [1040,  822, 1979],\n",
       "       [ 776,  617, 1023]])"
      ]
     },
     "execution_count": 169,
     "metadata": {},
     "output_type": "execute_result"
    }
   ],
   "source": [
    "w"
   ]
  },
  {
   "cell_type": "code",
   "execution_count": 170,
   "id": "df6aa2fb",
   "metadata": {},
   "outputs": [
    {
     "data": {
      "text/plain": [
       "array([[425, 322, 101],\n",
       "       [310, 349, 321],\n",
       "       [410,  55, 405]])"
      ]
     },
     "execution_count": 170,
     "metadata": {},
     "output_type": "execute_result"
    }
   ],
   "source": [
    "d"
   ]
  },
  {
   "cell_type": "code",
   "execution_count": 171,
   "id": "6731be3f",
   "metadata": {},
   "outputs": [
    {
     "data": {
      "text/plain": [
       "array([[1764, 1533, 1725],\n",
       "       [1040,  822, 1979],\n",
       "       [ 776,  617, 1023],\n",
       "       [ 425,  322,  101],\n",
       "       [ 310,  349,  321],\n",
       "       [ 410,   55,  405]])"
      ]
     },
     "execution_count": 171,
     "metadata": {},
     "output_type": "execute_result"
    }
   ],
   "source": [
    "np.vstack((w,d))"
   ]
  },
  {
   "cell_type": "code",
   "execution_count": 172,
   "id": "f198b66c",
   "metadata": {},
   "outputs": [
    {
     "data": {
      "text/plain": [
       "array([[ 425,  322,  101, 1764, 1533, 1725],\n",
       "       [ 310,  349,  321, 1040,  822, 1979],\n",
       "       [ 410,   55,  405,  776,  617, 1023]])"
      ]
     },
     "execution_count": 172,
     "metadata": {},
     "output_type": "execute_result"
    }
   ],
   "source": [
    "np.hstack((d,w))"
   ]
  },
  {
   "cell_type": "code",
   "execution_count": 173,
   "id": "ed1c2f2b",
   "metadata": {},
   "outputs": [],
   "source": [
    "a = np.random.randint(1,10,(3,3))"
   ]
  },
  {
   "cell_type": "code",
   "execution_count": 174,
   "id": "47e16463",
   "metadata": {},
   "outputs": [],
   "source": [
    "b = np.array([1,2,3])"
   ]
  },
  {
   "cell_type": "code",
   "execution_count": 175,
   "id": "f30090fd",
   "metadata": {},
   "outputs": [
    {
     "data": {
      "text/plain": [
       "array([[7, 9, 7],\n",
       "       [3, 1, 4],\n",
       "       [7, 2, 5]])"
      ]
     },
     "execution_count": 175,
     "metadata": {},
     "output_type": "execute_result"
    }
   ],
   "source": [
    "a"
   ]
  },
  {
   "cell_type": "code",
   "execution_count": 176,
   "id": "c658d205",
   "metadata": {},
   "outputs": [
    {
     "data": {
      "text/plain": [
       "array([1, 2, 3])"
      ]
     },
     "execution_count": 176,
     "metadata": {},
     "output_type": "execute_result"
    }
   ],
   "source": [
    "b"
   ]
  },
  {
   "cell_type": "code",
   "execution_count": 177,
   "id": "64b71aa2",
   "metadata": {},
   "outputs": [
    {
     "data": {
      "text/plain": [
       "array([[ 8, 11, 10],\n",
       "       [ 4,  3,  7],\n",
       "       [ 8,  4,  8]])"
      ]
     },
     "execution_count": 177,
     "metadata": {},
     "output_type": "execute_result"
    }
   ],
   "source": [
    "a + b"
   ]
  },
  {
   "cell_type": "code",
   "execution_count": 178,
   "id": "7699967d",
   "metadata": {},
   "outputs": [
    {
     "data": {
      "text/plain": [
       "array([[7, 3, 7],\n",
       "       [9, 1, 2],\n",
       "       [7, 4, 5]])"
      ]
     },
     "execution_count": 178,
     "metadata": {},
     "output_type": "execute_result"
    }
   ],
   "source": [
    "a.T"
   ]
  },
  {
   "cell_type": "code",
   "execution_count": 179,
   "id": "76f6801d",
   "metadata": {},
   "outputs": [
    {
     "data": {
      "text/plain": [
       "array([[14, 12, 14],\n",
       "       [12,  2,  6],\n",
       "       [14,  6, 10]])"
      ]
     },
     "execution_count": 179,
     "metadata": {},
     "output_type": "execute_result"
    }
   ],
   "source": [
    "a + a.T"
   ]
  },
  {
   "cell_type": "code",
   "execution_count": 180,
   "id": "a47c7d99",
   "metadata": {},
   "outputs": [
    {
     "data": {
      "text/plain": [
       "array([[7, 9, 7],\n",
       "       [3, 1, 4],\n",
       "       [7, 2, 5]])"
      ]
     },
     "execution_count": 180,
     "metadata": {},
     "output_type": "execute_result"
    }
   ],
   "source": [
    "a"
   ]
  },
  {
   "cell_type": "code",
   "execution_count": 181,
   "id": "a391c0d1",
   "metadata": {},
   "outputs": [
    {
     "data": {
      "text/plain": [
       "array([[15, 17, 15],\n",
       "       [11,  9, 12],\n",
       "       [15, 10, 13]])"
      ]
     },
     "execution_count": 181,
     "metadata": {},
     "output_type": "execute_result"
    }
   ],
   "source": [
    "a + 8"
   ]
  },
  {
   "cell_type": "code",
   "execution_count": null,
   "id": "028a8190",
   "metadata": {},
   "outputs": [],
   "source": []
  },
  {
   "cell_type": "code",
   "execution_count": null,
   "id": "0cb95e1e",
   "metadata": {},
   "outputs": [],
   "source": []
  },
  {
   "cell_type": "code",
   "execution_count": 205,
   "id": "764cac67",
   "metadata": {},
   "outputs": [],
   "source": [
    "p1 = np.random.randint(1,100,(8))"
   ]
  },
  {
   "cell_type": "code",
   "execution_count": 206,
   "id": "a93bab1c",
   "metadata": {},
   "outputs": [],
   "source": [
    "p2 = np.array([5,5,8,2,-9,2,1,6])"
   ]
  },
  {
   "cell_type": "code",
   "execution_count": 207,
   "id": "98230e04",
   "metadata": {},
   "outputs": [],
   "source": [
    "def distance(p1,p2):\n",
    "    return np.sqrt(np.sum((p2-p1)**2))"
   ]
  },
  {
   "cell_type": "code",
   "execution_count": 208,
   "id": "68667fca",
   "metadata": {},
   "outputs": [
    {
     "data": {
      "text/plain": [
       "129.73819792181484"
      ]
     },
     "execution_count": 208,
     "metadata": {},
     "output_type": "execute_result"
    }
   ],
   "source": [
    "distance(p1,p2)"
   ]
  },
  {
   "cell_type": "code",
   "execution_count": null,
   "id": "90b57bd4",
   "metadata": {},
   "outputs": [],
   "source": []
  },
  {
   "cell_type": "code",
   "execution_count": 192,
   "id": "02358305",
   "metadata": {},
   "outputs": [
    {
     "data": {
      "text/plain": [
       "array([40, 14, 61, 83, 28, 93, 59, 81])"
      ]
     },
     "execution_count": 192,
     "metadata": {},
     "output_type": "execute_result"
    }
   ],
   "source": [
    "p1"
   ]
  },
  {
   "cell_type": "code",
   "execution_count": 193,
   "id": "eb7053ce",
   "metadata": {},
   "outputs": [
    {
     "data": {
      "text/plain": [
       "array([ 5,  5,  8,  2, -9,  2,  1,  6])"
      ]
     },
     "execution_count": 193,
     "metadata": {},
     "output_type": "execute_result"
    }
   ],
   "source": [
    "p2"
   ]
  },
  {
   "cell_type": "code",
   "execution_count": 209,
   "id": "76bb3851",
   "metadata": {},
   "outputs": [],
   "source": [
    "sum__ = 0\n",
    "for i in range(len(p1)):\n",
    "    sum__+=(p2[i]-p1[i])**2"
   ]
  },
  {
   "cell_type": "code",
   "execution_count": 210,
   "id": "06002125",
   "metadata": {},
   "outputs": [
    {
     "data": {
      "text/plain": [
       "16832"
      ]
     },
     "execution_count": 210,
     "metadata": {},
     "output_type": "execute_result"
    }
   ],
   "source": [
    "sum__"
   ]
  },
  {
   "cell_type": "code",
   "execution_count": 211,
   "id": "6ae19ead",
   "metadata": {},
   "outputs": [
    {
     "data": {
      "text/plain": [
       "129.73819792181484"
      ]
     },
     "execution_count": 211,
     "metadata": {},
     "output_type": "execute_result"
    }
   ],
   "source": [
    "sum__**0.5"
   ]
  },
  {
   "cell_type": "code",
   "execution_count": null,
   "id": "03d4b130",
   "metadata": {},
   "outputs": [],
   "source": []
  },
  {
   "cell_type": "code",
   "execution_count": 212,
   "id": "12ef3bf1",
   "metadata": {},
   "outputs": [],
   "source": [
    "p1 = np.array([1,2, 4, 7, -2, 9, 6, 0])\n",
    "p2 = np.array([5,5, 8, 2, -9, 2, 1, 6])"
   ]
  },
  {
   "cell_type": "code",
   "execution_count": 213,
   "id": "51cfbca2",
   "metadata": {},
   "outputs": [
    {
     "data": {
      "text/plain": [
       "15.0"
      ]
     },
     "execution_count": 213,
     "metadata": {},
     "output_type": "execute_result"
    }
   ],
   "source": [
    "distance(p1,p2)"
   ]
  },
  {
   "cell_type": "code",
   "execution_count": 214,
   "id": "c5db1c5b",
   "metadata": {},
   "outputs": [],
   "source": [
    "sum__ = 0\n",
    "for i in range(len(p1)):\n",
    "    sum__+=(p2[i]-p1[i])**2"
   ]
  },
  {
   "cell_type": "code",
   "execution_count": 215,
   "id": "4ce3f873",
   "metadata": {},
   "outputs": [
    {
     "data": {
      "text/plain": [
       "225"
      ]
     },
     "execution_count": 215,
     "metadata": {},
     "output_type": "execute_result"
    }
   ],
   "source": [
    "sum__"
   ]
  },
  {
   "cell_type": "code",
   "execution_count": 216,
   "id": "ec7c1dcb",
   "metadata": {},
   "outputs": [
    {
     "data": {
      "text/plain": [
       "15.0"
      ]
     },
     "execution_count": 216,
     "metadata": {},
     "output_type": "execute_result"
    }
   ],
   "source": [
    "sum__**0.5"
   ]
  },
  {
   "cell_type": "code",
   "execution_count": null,
   "id": "fb61ef06",
   "metadata": {},
   "outputs": [],
   "source": []
  },
  {
   "cell_type": "code",
   "execution_count": 217,
   "id": "b82971b7",
   "metadata": {},
   "outputs": [],
   "source": [
    "# Pandas"
   ]
  },
  {
   "cell_type": "code",
   "execution_count": 218,
   "id": "bc06b465",
   "metadata": {},
   "outputs": [
    {
     "name": "stdout",
     "output_type": "stream",
     "text": [
      "Requirement already satisfied: pandas in c:\\users\\skme2\\anaconda3\\lib\\site-packages (1.2.4)\n",
      "Requirement already satisfied: python-dateutil>=2.7.3 in c:\\users\\skme2\\anaconda3\\lib\\site-packages (from pandas) (2.8.1)\n",
      "Requirement already satisfied: pytz>=2017.3 in c:\\users\\skme2\\anaconda3\\lib\\site-packages (from pandas) (2021.1)\n",
      "Requirement already satisfied: numpy>=1.16.5 in c:\\users\\skme2\\anaconda3\\lib\\site-packages (from pandas) (1.22.4)\n",
      "Requirement already satisfied: six>=1.5 in c:\\users\\skme2\\anaconda3\\lib\\site-packages (from python-dateutil>=2.7.3->pandas) (1.15.0)\n"
     ]
    },
    {
     "name": "stderr",
     "output_type": "stream",
     "text": [
      "WARNING: Ignoring invalid distribution -atplotlib (c:\\users\\skme2\\anaconda3\\lib\\site-packages)\n",
      "WARNING: Ignoring invalid distribution -atplotlib (c:\\users\\skme2\\anaconda3\\lib\\site-packages)\n",
      "\n",
      "[notice] A new release of pip is available: 23.1.2 -> 23.2.1\n",
      "[notice] To update, run: python.exe -m pip install --upgrade pip\n"
     ]
    }
   ],
   "source": [
    "!pip install pandas"
   ]
  },
  {
   "cell_type": "code",
   "execution_count": 219,
   "id": "8c9ae5f1",
   "metadata": {},
   "outputs": [],
   "source": [
    "import pandas as pd"
   ]
  },
  {
   "cell_type": "code",
   "execution_count": 220,
   "id": "ef095ba2",
   "metadata": {},
   "outputs": [],
   "source": [
    "lst = ['c', 'c++', 'python', 'java', 'HTML']"
   ]
  },
  {
   "cell_type": "code",
   "execution_count": 222,
   "id": "ab285d5c",
   "metadata": {},
   "outputs": [],
   "source": [
    "book_title = pd.Series(lst)"
   ]
  },
  {
   "cell_type": "code",
   "execution_count": 223,
   "id": "2f7b7fa5",
   "metadata": {},
   "outputs": [
    {
     "data": {
      "text/plain": [
       "0         c\n",
       "1       c++\n",
       "2    python\n",
       "3      java\n",
       "4      HTML\n",
       "dtype: object"
      ]
     },
     "execution_count": 223,
     "metadata": {},
     "output_type": "execute_result"
    }
   ],
   "source": [
    "book_title"
   ]
  },
  {
   "cell_type": "code",
   "execution_count": 224,
   "id": "0370bd01",
   "metadata": {},
   "outputs": [
    {
     "data": {
      "text/plain": [
       "pandas.core.series.Series"
      ]
     },
     "execution_count": 224,
     "metadata": {},
     "output_type": "execute_result"
    }
   ],
   "source": [
    "type(book_title)"
   ]
  },
  {
   "cell_type": "code",
   "execution_count": 225,
   "id": "2e9cc548",
   "metadata": {},
   "outputs": [
    {
     "data": {
      "text/plain": [
       "'c'"
      ]
     },
     "execution_count": 225,
     "metadata": {},
     "output_type": "execute_result"
    }
   ],
   "source": [
    "book_title[0]"
   ]
  },
  {
   "cell_type": "code",
   "execution_count": 227,
   "id": "1cb4d93a",
   "metadata": {},
   "outputs": [
    {
     "data": {
      "text/plain": [
       "'java'"
      ]
     },
     "execution_count": 227,
     "metadata": {},
     "output_type": "execute_result"
    }
   ],
   "source": [
    "book_title[3]"
   ]
  },
  {
   "cell_type": "code",
   "execution_count": 228,
   "id": "2b43169c",
   "metadata": {},
   "outputs": [
    {
     "data": {
      "text/plain": [
       "'c++'"
      ]
     },
     "execution_count": 228,
     "metadata": {},
     "output_type": "execute_result"
    }
   ],
   "source": [
    "book_title[1]"
   ]
  },
  {
   "cell_type": "code",
   "execution_count": 231,
   "id": "87c4a13c",
   "metadata": {},
   "outputs": [],
   "source": [
    "book_title.index = ['a', 'b', 'c', 'd', 'e']"
   ]
  },
  {
   "cell_type": "code",
   "execution_count": 232,
   "id": "c6f8d42f",
   "metadata": {},
   "outputs": [
    {
     "data": {
      "text/plain": [
       "a         c\n",
       "b       c++\n",
       "c    python\n",
       "d      java\n",
       "e      HTML\n",
       "dtype: object"
      ]
     },
     "execution_count": 232,
     "metadata": {},
     "output_type": "execute_result"
    }
   ],
   "source": [
    "book_title"
   ]
  },
  {
   "cell_type": "code",
   "execution_count": 234,
   "id": "f99d7799",
   "metadata": {},
   "outputs": [
    {
     "data": {
      "text/plain": [
       "'python'"
      ]
     },
     "execution_count": 234,
     "metadata": {},
     "output_type": "execute_result"
    }
   ],
   "source": [
    "book_title[2]"
   ]
  },
  {
   "cell_type": "code",
   "execution_count": 235,
   "id": "2573e01c",
   "metadata": {},
   "outputs": [
    {
     "data": {
      "text/plain": [
       "'python'"
      ]
     },
     "execution_count": 235,
     "metadata": {},
     "output_type": "execute_result"
    }
   ],
   "source": [
    "book_title['c']"
   ]
  },
  {
   "cell_type": "code",
   "execution_count": 236,
   "id": "a434ad55",
   "metadata": {},
   "outputs": [],
   "source": [
    "import numpy as np"
   ]
  },
  {
   "cell_type": "code",
   "execution_count": 238,
   "id": "7a3d9dbd",
   "metadata": {},
   "outputs": [],
   "source": [
    "arr = np.random.randint(10,100, size = (8,6))"
   ]
  },
  {
   "cell_type": "code",
   "execution_count": 242,
   "id": "886261df",
   "metadata": {},
   "outputs": [],
   "source": [
    "df = pd.DataFrame(data=arr)"
   ]
  },
  {
   "cell_type": "code",
   "execution_count": 243,
   "id": "626429c2",
   "metadata": {},
   "outputs": [
    {
     "data": {
      "text/html": [
       "<div>\n",
       "<style scoped>\n",
       "    .dataframe tbody tr th:only-of-type {\n",
       "        vertical-align: middle;\n",
       "    }\n",
       "\n",
       "    .dataframe tbody tr th {\n",
       "        vertical-align: top;\n",
       "    }\n",
       "\n",
       "    .dataframe thead th {\n",
       "        text-align: right;\n",
       "    }\n",
       "</style>\n",
       "<table border=\"1\" class=\"dataframe\">\n",
       "  <thead>\n",
       "    <tr style=\"text-align: right;\">\n",
       "      <th></th>\n",
       "      <th>0</th>\n",
       "      <th>1</th>\n",
       "      <th>2</th>\n",
       "      <th>3</th>\n",
       "      <th>4</th>\n",
       "      <th>5</th>\n",
       "    </tr>\n",
       "  </thead>\n",
       "  <tbody>\n",
       "    <tr>\n",
       "      <th>0</th>\n",
       "      <td>64</td>\n",
       "      <td>44</td>\n",
       "      <td>51</td>\n",
       "      <td>97</td>\n",
       "      <td>14</td>\n",
       "      <td>74</td>\n",
       "    </tr>\n",
       "    <tr>\n",
       "      <th>1</th>\n",
       "      <td>27</td>\n",
       "      <td>58</td>\n",
       "      <td>16</td>\n",
       "      <td>56</td>\n",
       "      <td>81</td>\n",
       "      <td>18</td>\n",
       "    </tr>\n",
       "    <tr>\n",
       "      <th>2</th>\n",
       "      <td>71</td>\n",
       "      <td>84</td>\n",
       "      <td>65</td>\n",
       "      <td>77</td>\n",
       "      <td>66</td>\n",
       "      <td>73</td>\n",
       "    </tr>\n",
       "    <tr>\n",
       "      <th>3</th>\n",
       "      <td>22</td>\n",
       "      <td>69</td>\n",
       "      <td>46</td>\n",
       "      <td>32</td>\n",
       "      <td>82</td>\n",
       "      <td>82</td>\n",
       "    </tr>\n",
       "    <tr>\n",
       "      <th>4</th>\n",
       "      <td>72</td>\n",
       "      <td>86</td>\n",
       "      <td>99</td>\n",
       "      <td>77</td>\n",
       "      <td>26</td>\n",
       "      <td>69</td>\n",
       "    </tr>\n",
       "    <tr>\n",
       "      <th>5</th>\n",
       "      <td>35</td>\n",
       "      <td>47</td>\n",
       "      <td>21</td>\n",
       "      <td>28</td>\n",
       "      <td>27</td>\n",
       "      <td>93</td>\n",
       "    </tr>\n",
       "    <tr>\n",
       "      <th>6</th>\n",
       "      <td>11</td>\n",
       "      <td>25</td>\n",
       "      <td>53</td>\n",
       "      <td>71</td>\n",
       "      <td>56</td>\n",
       "      <td>21</td>\n",
       "    </tr>\n",
       "    <tr>\n",
       "      <th>7</th>\n",
       "      <td>57</td>\n",
       "      <td>75</td>\n",
       "      <td>19</td>\n",
       "      <td>52</td>\n",
       "      <td>63</td>\n",
       "      <td>28</td>\n",
       "    </tr>\n",
       "  </tbody>\n",
       "</table>\n",
       "</div>"
      ],
      "text/plain": [
       "    0   1   2   3   4   5\n",
       "0  64  44  51  97  14  74\n",
       "1  27  58  16  56  81  18\n",
       "2  71  84  65  77  66  73\n",
       "3  22  69  46  32  82  82\n",
       "4  72  86  99  77  26  69\n",
       "5  35  47  21  28  27  93\n",
       "6  11  25  53  71  56  21\n",
       "7  57  75  19  52  63  28"
      ]
     },
     "execution_count": 243,
     "metadata": {},
     "output_type": "execute_result"
    }
   ],
   "source": [
    "df"
   ]
  },
  {
   "cell_type": "code",
   "execution_count": 244,
   "id": "14e02db8",
   "metadata": {},
   "outputs": [
    {
     "data": {
      "text/plain": [
       "pandas.core.frame.DataFrame"
      ]
     },
     "execution_count": 244,
     "metadata": {},
     "output_type": "execute_result"
    }
   ],
   "source": [
    "type(df)"
   ]
  },
  {
   "cell_type": "code",
   "execution_count": 246,
   "id": "33ac795b",
   "metadata": {},
   "outputs": [
    {
     "data": {
      "text/plain": [
       "0    64\n",
       "1    27\n",
       "2    71\n",
       "3    22\n",
       "4    72\n",
       "5    35\n",
       "6    11\n",
       "7    57\n",
       "Name: 0, dtype: int32"
      ]
     },
     "execution_count": 246,
     "metadata": {},
     "output_type": "execute_result"
    }
   ],
   "source": [
    "df[0]"
   ]
  },
  {
   "cell_type": "code",
   "execution_count": 248,
   "id": "b32626e9",
   "metadata": {},
   "outputs": [
    {
     "data": {
      "text/plain": [
       "0    51\n",
       "1    16\n",
       "2    65\n",
       "3    46\n",
       "4    99\n",
       "5    21\n",
       "6    53\n",
       "7    19\n",
       "Name: 2, dtype: int32"
      ]
     },
     "execution_count": 248,
     "metadata": {},
     "output_type": "execute_result"
    }
   ],
   "source": [
    "df[2]"
   ]
  },
  {
   "cell_type": "code",
   "execution_count": 252,
   "id": "9ccb394d",
   "metadata": {},
   "outputs": [
    {
     "data": {
      "text/plain": [
       "pandas.core.series.Series"
      ]
     },
     "execution_count": 252,
     "metadata": {},
     "output_type": "execute_result"
    }
   ],
   "source": [
    "type(df[5])"
   ]
  },
  {
   "cell_type": "code",
   "execution_count": 255,
   "id": "923dee1f",
   "metadata": {},
   "outputs": [],
   "source": [
    "df.columns = ['A','B', 'C', 'D', 'E','F']"
   ]
  },
  {
   "cell_type": "code",
   "execution_count": 256,
   "id": "8897a71e",
   "metadata": {},
   "outputs": [
    {
     "data": {
      "text/html": [
       "<div>\n",
       "<style scoped>\n",
       "    .dataframe tbody tr th:only-of-type {\n",
       "        vertical-align: middle;\n",
       "    }\n",
       "\n",
       "    .dataframe tbody tr th {\n",
       "        vertical-align: top;\n",
       "    }\n",
       "\n",
       "    .dataframe thead th {\n",
       "        text-align: right;\n",
       "    }\n",
       "</style>\n",
       "<table border=\"1\" class=\"dataframe\">\n",
       "  <thead>\n",
       "    <tr style=\"text-align: right;\">\n",
       "      <th></th>\n",
       "      <th>A</th>\n",
       "      <th>B</th>\n",
       "      <th>C</th>\n",
       "      <th>D</th>\n",
       "      <th>E</th>\n",
       "      <th>F</th>\n",
       "    </tr>\n",
       "  </thead>\n",
       "  <tbody>\n",
       "    <tr>\n",
       "      <th>0</th>\n",
       "      <td>64</td>\n",
       "      <td>44</td>\n",
       "      <td>51</td>\n",
       "      <td>97</td>\n",
       "      <td>14</td>\n",
       "      <td>74</td>\n",
       "    </tr>\n",
       "    <tr>\n",
       "      <th>1</th>\n",
       "      <td>27</td>\n",
       "      <td>58</td>\n",
       "      <td>16</td>\n",
       "      <td>56</td>\n",
       "      <td>81</td>\n",
       "      <td>18</td>\n",
       "    </tr>\n",
       "    <tr>\n",
       "      <th>2</th>\n",
       "      <td>71</td>\n",
       "      <td>84</td>\n",
       "      <td>65</td>\n",
       "      <td>77</td>\n",
       "      <td>66</td>\n",
       "      <td>73</td>\n",
       "    </tr>\n",
       "    <tr>\n",
       "      <th>3</th>\n",
       "      <td>22</td>\n",
       "      <td>69</td>\n",
       "      <td>46</td>\n",
       "      <td>32</td>\n",
       "      <td>82</td>\n",
       "      <td>82</td>\n",
       "    </tr>\n",
       "    <tr>\n",
       "      <th>4</th>\n",
       "      <td>72</td>\n",
       "      <td>86</td>\n",
       "      <td>99</td>\n",
       "      <td>77</td>\n",
       "      <td>26</td>\n",
       "      <td>69</td>\n",
       "    </tr>\n",
       "    <tr>\n",
       "      <th>5</th>\n",
       "      <td>35</td>\n",
       "      <td>47</td>\n",
       "      <td>21</td>\n",
       "      <td>28</td>\n",
       "      <td>27</td>\n",
       "      <td>93</td>\n",
       "    </tr>\n",
       "    <tr>\n",
       "      <th>6</th>\n",
       "      <td>11</td>\n",
       "      <td>25</td>\n",
       "      <td>53</td>\n",
       "      <td>71</td>\n",
       "      <td>56</td>\n",
       "      <td>21</td>\n",
       "    </tr>\n",
       "    <tr>\n",
       "      <th>7</th>\n",
       "      <td>57</td>\n",
       "      <td>75</td>\n",
       "      <td>19</td>\n",
       "      <td>52</td>\n",
       "      <td>63</td>\n",
       "      <td>28</td>\n",
       "    </tr>\n",
       "  </tbody>\n",
       "</table>\n",
       "</div>"
      ],
      "text/plain": [
       "    A   B   C   D   E   F\n",
       "0  64  44  51  97  14  74\n",
       "1  27  58  16  56  81  18\n",
       "2  71  84  65  77  66  73\n",
       "3  22  69  46  32  82  82\n",
       "4  72  86  99  77  26  69\n",
       "5  35  47  21  28  27  93\n",
       "6  11  25  53  71  56  21\n",
       "7  57  75  19  52  63  28"
      ]
     },
     "execution_count": 256,
     "metadata": {},
     "output_type": "execute_result"
    }
   ],
   "source": [
    "df"
   ]
  },
  {
   "cell_type": "code",
   "execution_count": 257,
   "id": "e2d49891",
   "metadata": {},
   "outputs": [
    {
     "data": {
      "text/plain": [
       "0    64\n",
       "1    27\n",
       "2    71\n",
       "3    22\n",
       "4    72\n",
       "5    35\n",
       "6    11\n",
       "7    57\n",
       "Name: A, dtype: int32"
      ]
     },
     "execution_count": 257,
     "metadata": {},
     "output_type": "execute_result"
    }
   ],
   "source": [
    "df['A']"
   ]
  },
  {
   "cell_type": "code",
   "execution_count": 258,
   "id": "e49b700f",
   "metadata": {},
   "outputs": [
    {
     "data": {
      "text/plain": [
       "0    51\n",
       "1    16\n",
       "2    65\n",
       "3    46\n",
       "4    99\n",
       "5    21\n",
       "6    53\n",
       "7    19\n",
       "Name: C, dtype: int32"
      ]
     },
     "execution_count": 258,
     "metadata": {},
     "output_type": "execute_result"
    }
   ],
   "source": [
    "df['C']"
   ]
  },
  {
   "cell_type": "code",
   "execution_count": 259,
   "id": "fe5b3adc",
   "metadata": {},
   "outputs": [
    {
     "data": {
      "text/html": [
       "<div>\n",
       "<style scoped>\n",
       "    .dataframe tbody tr th:only-of-type {\n",
       "        vertical-align: middle;\n",
       "    }\n",
       "\n",
       "    .dataframe tbody tr th {\n",
       "        vertical-align: top;\n",
       "    }\n",
       "\n",
       "    .dataframe thead th {\n",
       "        text-align: right;\n",
       "    }\n",
       "</style>\n",
       "<table border=\"1\" class=\"dataframe\">\n",
       "  <thead>\n",
       "    <tr style=\"text-align: right;\">\n",
       "      <th></th>\n",
       "      <th>A</th>\n",
       "      <th>B</th>\n",
       "      <th>C</th>\n",
       "      <th>D</th>\n",
       "      <th>E</th>\n",
       "      <th>F</th>\n",
       "    </tr>\n",
       "  </thead>\n",
       "  <tbody>\n",
       "    <tr>\n",
       "      <th>0</th>\n",
       "      <td>64</td>\n",
       "      <td>44</td>\n",
       "      <td>51</td>\n",
       "      <td>97</td>\n",
       "      <td>14</td>\n",
       "      <td>74</td>\n",
       "    </tr>\n",
       "    <tr>\n",
       "      <th>1</th>\n",
       "      <td>27</td>\n",
       "      <td>58</td>\n",
       "      <td>16</td>\n",
       "      <td>56</td>\n",
       "      <td>81</td>\n",
       "      <td>18</td>\n",
       "    </tr>\n",
       "    <tr>\n",
       "      <th>2</th>\n",
       "      <td>71</td>\n",
       "      <td>84</td>\n",
       "      <td>65</td>\n",
       "      <td>77</td>\n",
       "      <td>66</td>\n",
       "      <td>73</td>\n",
       "    </tr>\n",
       "    <tr>\n",
       "      <th>3</th>\n",
       "      <td>22</td>\n",
       "      <td>69</td>\n",
       "      <td>46</td>\n",
       "      <td>32</td>\n",
       "      <td>82</td>\n",
       "      <td>82</td>\n",
       "    </tr>\n",
       "    <tr>\n",
       "      <th>4</th>\n",
       "      <td>72</td>\n",
       "      <td>86</td>\n",
       "      <td>99</td>\n",
       "      <td>77</td>\n",
       "      <td>26</td>\n",
       "      <td>69</td>\n",
       "    </tr>\n",
       "    <tr>\n",
       "      <th>5</th>\n",
       "      <td>35</td>\n",
       "      <td>47</td>\n",
       "      <td>21</td>\n",
       "      <td>28</td>\n",
       "      <td>27</td>\n",
       "      <td>93</td>\n",
       "    </tr>\n",
       "    <tr>\n",
       "      <th>6</th>\n",
       "      <td>11</td>\n",
       "      <td>25</td>\n",
       "      <td>53</td>\n",
       "      <td>71</td>\n",
       "      <td>56</td>\n",
       "      <td>21</td>\n",
       "    </tr>\n",
       "    <tr>\n",
       "      <th>7</th>\n",
       "      <td>57</td>\n",
       "      <td>75</td>\n",
       "      <td>19</td>\n",
       "      <td>52</td>\n",
       "      <td>63</td>\n",
       "      <td>28</td>\n",
       "    </tr>\n",
       "  </tbody>\n",
       "</table>\n",
       "</div>"
      ],
      "text/plain": [
       "    A   B   C   D   E   F\n",
       "0  64  44  51  97  14  74\n",
       "1  27  58  16  56  81  18\n",
       "2  71  84  65  77  66  73\n",
       "3  22  69  46  32  82  82\n",
       "4  72  86  99  77  26  69\n",
       "5  35  47  21  28  27  93\n",
       "6  11  25  53  71  56  21\n",
       "7  57  75  19  52  63  28"
      ]
     },
     "execution_count": 259,
     "metadata": {},
     "output_type": "execute_result"
    }
   ],
   "source": [
    "df"
   ]
  },
  {
   "cell_type": "code",
   "execution_count": 260,
   "id": "615ee278",
   "metadata": {},
   "outputs": [
    {
     "data": {
      "text/plain": [
       "(8, 6)"
      ]
     },
     "execution_count": 260,
     "metadata": {},
     "output_type": "execute_result"
    }
   ],
   "source": [
    "df.shape"
   ]
  },
  {
   "cell_type": "code",
   "execution_count": 262,
   "id": "f8a7007f",
   "metadata": {},
   "outputs": [
    {
     "data": {
      "text/html": [
       "<div>\n",
       "<style scoped>\n",
       "    .dataframe tbody tr th:only-of-type {\n",
       "        vertical-align: middle;\n",
       "    }\n",
       "\n",
       "    .dataframe tbody tr th {\n",
       "        vertical-align: top;\n",
       "    }\n",
       "\n",
       "    .dataframe thead th {\n",
       "        text-align: right;\n",
       "    }\n",
       "</style>\n",
       "<table border=\"1\" class=\"dataframe\">\n",
       "  <thead>\n",
       "    <tr style=\"text-align: right;\">\n",
       "      <th></th>\n",
       "      <th>A</th>\n",
       "      <th>B</th>\n",
       "      <th>C</th>\n",
       "      <th>D</th>\n",
       "      <th>E</th>\n",
       "      <th>F</th>\n",
       "    </tr>\n",
       "  </thead>\n",
       "  <tbody>\n",
       "    <tr>\n",
       "      <th>0</th>\n",
       "      <td>64</td>\n",
       "      <td>44</td>\n",
       "      <td>51</td>\n",
       "      <td>97</td>\n",
       "      <td>14</td>\n",
       "      <td>74</td>\n",
       "    </tr>\n",
       "    <tr>\n",
       "      <th>1</th>\n",
       "      <td>27</td>\n",
       "      <td>58</td>\n",
       "      <td>16</td>\n",
       "      <td>56</td>\n",
       "      <td>81</td>\n",
       "      <td>18</td>\n",
       "    </tr>\n",
       "    <tr>\n",
       "      <th>2</th>\n",
       "      <td>71</td>\n",
       "      <td>84</td>\n",
       "      <td>65</td>\n",
       "      <td>77</td>\n",
       "      <td>66</td>\n",
       "      <td>73</td>\n",
       "    </tr>\n",
       "  </tbody>\n",
       "</table>\n",
       "</div>"
      ],
      "text/plain": [
       "    A   B   C   D   E   F\n",
       "0  64  44  51  97  14  74\n",
       "1  27  58  16  56  81  18\n",
       "2  71  84  65  77  66  73"
      ]
     },
     "execution_count": 262,
     "metadata": {},
     "output_type": "execute_result"
    }
   ],
   "source": [
    "df.head(3)"
   ]
  },
  {
   "cell_type": "code",
   "execution_count": 265,
   "id": "2dc09534",
   "metadata": {},
   "outputs": [
    {
     "data": {
      "text/html": [
       "<div>\n",
       "<style scoped>\n",
       "    .dataframe tbody tr th:only-of-type {\n",
       "        vertical-align: middle;\n",
       "    }\n",
       "\n",
       "    .dataframe tbody tr th {\n",
       "        vertical-align: top;\n",
       "    }\n",
       "\n",
       "    .dataframe thead th {\n",
       "        text-align: right;\n",
       "    }\n",
       "</style>\n",
       "<table border=\"1\" class=\"dataframe\">\n",
       "  <thead>\n",
       "    <tr style=\"text-align: right;\">\n",
       "      <th></th>\n",
       "      <th>A</th>\n",
       "      <th>B</th>\n",
       "      <th>C</th>\n",
       "      <th>D</th>\n",
       "      <th>E</th>\n",
       "      <th>F</th>\n",
       "    </tr>\n",
       "  </thead>\n",
       "  <tbody>\n",
       "    <tr>\n",
       "      <th>6</th>\n",
       "      <td>11</td>\n",
       "      <td>25</td>\n",
       "      <td>53</td>\n",
       "      <td>71</td>\n",
       "      <td>56</td>\n",
       "      <td>21</td>\n",
       "    </tr>\n",
       "    <tr>\n",
       "      <th>7</th>\n",
       "      <td>57</td>\n",
       "      <td>75</td>\n",
       "      <td>19</td>\n",
       "      <td>52</td>\n",
       "      <td>63</td>\n",
       "      <td>28</td>\n",
       "    </tr>\n",
       "  </tbody>\n",
       "</table>\n",
       "</div>"
      ],
      "text/plain": [
       "    A   B   C   D   E   F\n",
       "6  11  25  53  71  56  21\n",
       "7  57  75  19  52  63  28"
      ]
     },
     "execution_count": 265,
     "metadata": {},
     "output_type": "execute_result"
    }
   ],
   "source": [
    "df.tail(2)"
   ]
  },
  {
   "cell_type": "code",
   "execution_count": 269,
   "id": "46e62775",
   "metadata": {},
   "outputs": [
    {
     "data": {
      "text/html": [
       "<div>\n",
       "<style scoped>\n",
       "    .dataframe tbody tr th:only-of-type {\n",
       "        vertical-align: middle;\n",
       "    }\n",
       "\n",
       "    .dataframe tbody tr th {\n",
       "        vertical-align: top;\n",
       "    }\n",
       "\n",
       "    .dataframe thead th {\n",
       "        text-align: right;\n",
       "    }\n",
       "</style>\n",
       "<table border=\"1\" class=\"dataframe\">\n",
       "  <thead>\n",
       "    <tr style=\"text-align: right;\">\n",
       "      <th></th>\n",
       "      <th>A</th>\n",
       "      <th>B</th>\n",
       "      <th>C</th>\n",
       "      <th>D</th>\n",
       "      <th>E</th>\n",
       "      <th>F</th>\n",
       "    </tr>\n",
       "  </thead>\n",
       "  <tbody>\n",
       "    <tr>\n",
       "      <th>0</th>\n",
       "      <td>64</td>\n",
       "      <td>44</td>\n",
       "      <td>51</td>\n",
       "      <td>97</td>\n",
       "      <td>14</td>\n",
       "      <td>74</td>\n",
       "    </tr>\n",
       "    <tr>\n",
       "      <th>4</th>\n",
       "      <td>72</td>\n",
       "      <td>86</td>\n",
       "      <td>99</td>\n",
       "      <td>77</td>\n",
       "      <td>26</td>\n",
       "      <td>69</td>\n",
       "    </tr>\n",
       "    <tr>\n",
       "      <th>5</th>\n",
       "      <td>35</td>\n",
       "      <td>47</td>\n",
       "      <td>21</td>\n",
       "      <td>28</td>\n",
       "      <td>27</td>\n",
       "      <td>93</td>\n",
       "    </tr>\n",
       "  </tbody>\n",
       "</table>\n",
       "</div>"
      ],
      "text/plain": [
       "    A   B   C   D   E   F\n",
       "0  64  44  51  97  14  74\n",
       "4  72  86  99  77  26  69\n",
       "5  35  47  21  28  27  93"
      ]
     },
     "execution_count": 269,
     "metadata": {},
     "output_type": "execute_result"
    }
   ],
   "source": [
    "df.sample(3)"
   ]
  },
  {
   "cell_type": "code",
   "execution_count": 271,
   "id": "a36d8aec",
   "metadata": {},
   "outputs": [
    {
     "data": {
      "text/plain": [
       "0    97\n",
       "1    56\n",
       "2    77\n",
       "3    32\n",
       "4    77\n",
       "5    28\n",
       "6    71\n",
       "7    52\n",
       "Name: D, dtype: int32"
      ]
     },
     "execution_count": 271,
     "metadata": {},
     "output_type": "execute_result"
    }
   ],
   "source": [
    "df['D']"
   ]
  },
  {
   "cell_type": "code",
   "execution_count": 275,
   "id": "857e93ed",
   "metadata": {},
   "outputs": [
    {
     "data": {
      "text/html": [
       "<div>\n",
       "<style scoped>\n",
       "    .dataframe tbody tr th:only-of-type {\n",
       "        vertical-align: middle;\n",
       "    }\n",
       "\n",
       "    .dataframe tbody tr th {\n",
       "        vertical-align: top;\n",
       "    }\n",
       "\n",
       "    .dataframe thead th {\n",
       "        text-align: right;\n",
       "    }\n",
       "</style>\n",
       "<table border=\"1\" class=\"dataframe\">\n",
       "  <thead>\n",
       "    <tr style=\"text-align: right;\">\n",
       "      <th></th>\n",
       "      <th>C</th>\n",
       "      <th>D</th>\n",
       "    </tr>\n",
       "  </thead>\n",
       "  <tbody>\n",
       "    <tr>\n",
       "      <th>0</th>\n",
       "      <td>51</td>\n",
       "      <td>97</td>\n",
       "    </tr>\n",
       "    <tr>\n",
       "      <th>1</th>\n",
       "      <td>16</td>\n",
       "      <td>56</td>\n",
       "    </tr>\n",
       "    <tr>\n",
       "      <th>2</th>\n",
       "      <td>65</td>\n",
       "      <td>77</td>\n",
       "    </tr>\n",
       "    <tr>\n",
       "      <th>3</th>\n",
       "      <td>46</td>\n",
       "      <td>32</td>\n",
       "    </tr>\n",
       "    <tr>\n",
       "      <th>4</th>\n",
       "      <td>99</td>\n",
       "      <td>77</td>\n",
       "    </tr>\n",
       "    <tr>\n",
       "      <th>5</th>\n",
       "      <td>21</td>\n",
       "      <td>28</td>\n",
       "    </tr>\n",
       "    <tr>\n",
       "      <th>6</th>\n",
       "      <td>53</td>\n",
       "      <td>71</td>\n",
       "    </tr>\n",
       "    <tr>\n",
       "      <th>7</th>\n",
       "      <td>19</td>\n",
       "      <td>52</td>\n",
       "    </tr>\n",
       "  </tbody>\n",
       "</table>\n",
       "</div>"
      ],
      "text/plain": [
       "    C   D\n",
       "0  51  97\n",
       "1  16  56\n",
       "2  65  77\n",
       "3  46  32\n",
       "4  99  77\n",
       "5  21  28\n",
       "6  53  71\n",
       "7  19  52"
      ]
     },
     "execution_count": 275,
     "metadata": {},
     "output_type": "execute_result"
    }
   ],
   "source": [
    "df[['C', 'D']]"
   ]
  },
  {
   "cell_type": "code",
   "execution_count": 277,
   "id": "5d07913f",
   "metadata": {},
   "outputs": [
    {
     "data": {
      "text/html": [
       "<div>\n",
       "<style scoped>\n",
       "    .dataframe tbody tr th:only-of-type {\n",
       "        vertical-align: middle;\n",
       "    }\n",
       "\n",
       "    .dataframe tbody tr th {\n",
       "        vertical-align: top;\n",
       "    }\n",
       "\n",
       "    .dataframe thead th {\n",
       "        text-align: right;\n",
       "    }\n",
       "</style>\n",
       "<table border=\"1\" class=\"dataframe\">\n",
       "  <thead>\n",
       "    <tr style=\"text-align: right;\">\n",
       "      <th></th>\n",
       "      <th>D</th>\n",
       "      <th>A</th>\n",
       "      <th>B</th>\n",
       "    </tr>\n",
       "  </thead>\n",
       "  <tbody>\n",
       "    <tr>\n",
       "      <th>0</th>\n",
       "      <td>97</td>\n",
       "      <td>64</td>\n",
       "      <td>44</td>\n",
       "    </tr>\n",
       "    <tr>\n",
       "      <th>1</th>\n",
       "      <td>56</td>\n",
       "      <td>27</td>\n",
       "      <td>58</td>\n",
       "    </tr>\n",
       "    <tr>\n",
       "      <th>2</th>\n",
       "      <td>77</td>\n",
       "      <td>71</td>\n",
       "      <td>84</td>\n",
       "    </tr>\n",
       "    <tr>\n",
       "      <th>3</th>\n",
       "      <td>32</td>\n",
       "      <td>22</td>\n",
       "      <td>69</td>\n",
       "    </tr>\n",
       "    <tr>\n",
       "      <th>4</th>\n",
       "      <td>77</td>\n",
       "      <td>72</td>\n",
       "      <td>86</td>\n",
       "    </tr>\n",
       "    <tr>\n",
       "      <th>5</th>\n",
       "      <td>28</td>\n",
       "      <td>35</td>\n",
       "      <td>47</td>\n",
       "    </tr>\n",
       "    <tr>\n",
       "      <th>6</th>\n",
       "      <td>71</td>\n",
       "      <td>11</td>\n",
       "      <td>25</td>\n",
       "    </tr>\n",
       "    <tr>\n",
       "      <th>7</th>\n",
       "      <td>52</td>\n",
       "      <td>57</td>\n",
       "      <td>75</td>\n",
       "    </tr>\n",
       "  </tbody>\n",
       "</table>\n",
       "</div>"
      ],
      "text/plain": [
       "    D   A   B\n",
       "0  97  64  44\n",
       "1  56  27  58\n",
       "2  77  71  84\n",
       "3  32  22  69\n",
       "4  77  72  86\n",
       "5  28  35  47\n",
       "6  71  11  25\n",
       "7  52  57  75"
      ]
     },
     "execution_count": 277,
     "metadata": {},
     "output_type": "execute_result"
    }
   ],
   "source": [
    "df[['D', 'A','B']]"
   ]
  },
  {
   "cell_type": "code",
   "execution_count": 279,
   "id": "7ada1414",
   "metadata": {},
   "outputs": [
    {
     "data": {
      "text/plain": [
       "0    64\n",
       "1    27\n",
       "2    71\n",
       "3    22\n",
       "4    72\n",
       "5    35\n",
       "6    11\n",
       "7    57\n",
       "Name: A, dtype: int32"
      ]
     },
     "execution_count": 279,
     "metadata": {},
     "output_type": "execute_result"
    }
   ],
   "source": [
    "df['A']"
   ]
  },
  {
   "cell_type": "code",
   "execution_count": 280,
   "id": "93fc73c1",
   "metadata": {},
   "outputs": [
    {
     "data": {
      "text/plain": [
       "0    44\n",
       "1    58\n",
       "2    84\n",
       "3    69\n",
       "4    86\n",
       "5    47\n",
       "6    25\n",
       "7    75\n",
       "Name: B, dtype: int32"
      ]
     },
     "execution_count": 280,
     "metadata": {},
     "output_type": "execute_result"
    }
   ],
   "source": [
    "df['B']"
   ]
  },
  {
   "cell_type": "code",
   "execution_count": 282,
   "id": "033cb575",
   "metadata": {},
   "outputs": [],
   "source": [
    "df['A+B'] =  df['A'] + df['B']"
   ]
  },
  {
   "cell_type": "code",
   "execution_count": 283,
   "id": "222e3622",
   "metadata": {},
   "outputs": [
    {
     "data": {
      "text/html": [
       "<div>\n",
       "<style scoped>\n",
       "    .dataframe tbody tr th:only-of-type {\n",
       "        vertical-align: middle;\n",
       "    }\n",
       "\n",
       "    .dataframe tbody tr th {\n",
       "        vertical-align: top;\n",
       "    }\n",
       "\n",
       "    .dataframe thead th {\n",
       "        text-align: right;\n",
       "    }\n",
       "</style>\n",
       "<table border=\"1\" class=\"dataframe\">\n",
       "  <thead>\n",
       "    <tr style=\"text-align: right;\">\n",
       "      <th></th>\n",
       "      <th>A</th>\n",
       "      <th>B</th>\n",
       "      <th>C</th>\n",
       "      <th>D</th>\n",
       "      <th>E</th>\n",
       "      <th>F</th>\n",
       "      <th>A+B</th>\n",
       "    </tr>\n",
       "  </thead>\n",
       "  <tbody>\n",
       "    <tr>\n",
       "      <th>0</th>\n",
       "      <td>64</td>\n",
       "      <td>44</td>\n",
       "      <td>51</td>\n",
       "      <td>97</td>\n",
       "      <td>14</td>\n",
       "      <td>74</td>\n",
       "      <td>108</td>\n",
       "    </tr>\n",
       "    <tr>\n",
       "      <th>1</th>\n",
       "      <td>27</td>\n",
       "      <td>58</td>\n",
       "      <td>16</td>\n",
       "      <td>56</td>\n",
       "      <td>81</td>\n",
       "      <td>18</td>\n",
       "      <td>85</td>\n",
       "    </tr>\n",
       "    <tr>\n",
       "      <th>2</th>\n",
       "      <td>71</td>\n",
       "      <td>84</td>\n",
       "      <td>65</td>\n",
       "      <td>77</td>\n",
       "      <td>66</td>\n",
       "      <td>73</td>\n",
       "      <td>155</td>\n",
       "    </tr>\n",
       "    <tr>\n",
       "      <th>3</th>\n",
       "      <td>22</td>\n",
       "      <td>69</td>\n",
       "      <td>46</td>\n",
       "      <td>32</td>\n",
       "      <td>82</td>\n",
       "      <td>82</td>\n",
       "      <td>91</td>\n",
       "    </tr>\n",
       "    <tr>\n",
       "      <th>4</th>\n",
       "      <td>72</td>\n",
       "      <td>86</td>\n",
       "      <td>99</td>\n",
       "      <td>77</td>\n",
       "      <td>26</td>\n",
       "      <td>69</td>\n",
       "      <td>158</td>\n",
       "    </tr>\n",
       "    <tr>\n",
       "      <th>5</th>\n",
       "      <td>35</td>\n",
       "      <td>47</td>\n",
       "      <td>21</td>\n",
       "      <td>28</td>\n",
       "      <td>27</td>\n",
       "      <td>93</td>\n",
       "      <td>82</td>\n",
       "    </tr>\n",
       "    <tr>\n",
       "      <th>6</th>\n",
       "      <td>11</td>\n",
       "      <td>25</td>\n",
       "      <td>53</td>\n",
       "      <td>71</td>\n",
       "      <td>56</td>\n",
       "      <td>21</td>\n",
       "      <td>36</td>\n",
       "    </tr>\n",
       "    <tr>\n",
       "      <th>7</th>\n",
       "      <td>57</td>\n",
       "      <td>75</td>\n",
       "      <td>19</td>\n",
       "      <td>52</td>\n",
       "      <td>63</td>\n",
       "      <td>28</td>\n",
       "      <td>132</td>\n",
       "    </tr>\n",
       "  </tbody>\n",
       "</table>\n",
       "</div>"
      ],
      "text/plain": [
       "    A   B   C   D   E   F  A+B\n",
       "0  64  44  51  97  14  74  108\n",
       "1  27  58  16  56  81  18   85\n",
       "2  71  84  65  77  66  73  155\n",
       "3  22  69  46  32  82  82   91\n",
       "4  72  86  99  77  26  69  158\n",
       "5  35  47  21  28  27  93   82\n",
       "6  11  25  53  71  56  21   36\n",
       "7  57  75  19  52  63  28  132"
      ]
     },
     "execution_count": 283,
     "metadata": {},
     "output_type": "execute_result"
    }
   ],
   "source": [
    "\n",
    "df"
   ]
  },
  {
   "cell_type": "code",
   "execution_count": 286,
   "id": "706a00db",
   "metadata": {},
   "outputs": [],
   "source": [
    "df['A*B'] =df['A'] *  df['B']"
   ]
  },
  {
   "cell_type": "code",
   "execution_count": 287,
   "id": "0a5335cf",
   "metadata": {},
   "outputs": [
    {
     "data": {
      "text/html": [
       "<div>\n",
       "<style scoped>\n",
       "    .dataframe tbody tr th:only-of-type {\n",
       "        vertical-align: middle;\n",
       "    }\n",
       "\n",
       "    .dataframe tbody tr th {\n",
       "        vertical-align: top;\n",
       "    }\n",
       "\n",
       "    .dataframe thead th {\n",
       "        text-align: right;\n",
       "    }\n",
       "</style>\n",
       "<table border=\"1\" class=\"dataframe\">\n",
       "  <thead>\n",
       "    <tr style=\"text-align: right;\">\n",
       "      <th></th>\n",
       "      <th>A</th>\n",
       "      <th>B</th>\n",
       "      <th>C</th>\n",
       "      <th>D</th>\n",
       "      <th>E</th>\n",
       "      <th>F</th>\n",
       "      <th>A+B</th>\n",
       "      <th>A*B</th>\n",
       "    </tr>\n",
       "  </thead>\n",
       "  <tbody>\n",
       "    <tr>\n",
       "      <th>0</th>\n",
       "      <td>64</td>\n",
       "      <td>44</td>\n",
       "      <td>51</td>\n",
       "      <td>97</td>\n",
       "      <td>14</td>\n",
       "      <td>74</td>\n",
       "      <td>108</td>\n",
       "      <td>2816</td>\n",
       "    </tr>\n",
       "    <tr>\n",
       "      <th>1</th>\n",
       "      <td>27</td>\n",
       "      <td>58</td>\n",
       "      <td>16</td>\n",
       "      <td>56</td>\n",
       "      <td>81</td>\n",
       "      <td>18</td>\n",
       "      <td>85</td>\n",
       "      <td>1566</td>\n",
       "    </tr>\n",
       "    <tr>\n",
       "      <th>2</th>\n",
       "      <td>71</td>\n",
       "      <td>84</td>\n",
       "      <td>65</td>\n",
       "      <td>77</td>\n",
       "      <td>66</td>\n",
       "      <td>73</td>\n",
       "      <td>155</td>\n",
       "      <td>5964</td>\n",
       "    </tr>\n",
       "    <tr>\n",
       "      <th>3</th>\n",
       "      <td>22</td>\n",
       "      <td>69</td>\n",
       "      <td>46</td>\n",
       "      <td>32</td>\n",
       "      <td>82</td>\n",
       "      <td>82</td>\n",
       "      <td>91</td>\n",
       "      <td>1518</td>\n",
       "    </tr>\n",
       "    <tr>\n",
       "      <th>4</th>\n",
       "      <td>72</td>\n",
       "      <td>86</td>\n",
       "      <td>99</td>\n",
       "      <td>77</td>\n",
       "      <td>26</td>\n",
       "      <td>69</td>\n",
       "      <td>158</td>\n",
       "      <td>6192</td>\n",
       "    </tr>\n",
       "    <tr>\n",
       "      <th>5</th>\n",
       "      <td>35</td>\n",
       "      <td>47</td>\n",
       "      <td>21</td>\n",
       "      <td>28</td>\n",
       "      <td>27</td>\n",
       "      <td>93</td>\n",
       "      <td>82</td>\n",
       "      <td>1645</td>\n",
       "    </tr>\n",
       "    <tr>\n",
       "      <th>6</th>\n",
       "      <td>11</td>\n",
       "      <td>25</td>\n",
       "      <td>53</td>\n",
       "      <td>71</td>\n",
       "      <td>56</td>\n",
       "      <td>21</td>\n",
       "      <td>36</td>\n",
       "      <td>275</td>\n",
       "    </tr>\n",
       "    <tr>\n",
       "      <th>7</th>\n",
       "      <td>57</td>\n",
       "      <td>75</td>\n",
       "      <td>19</td>\n",
       "      <td>52</td>\n",
       "      <td>63</td>\n",
       "      <td>28</td>\n",
       "      <td>132</td>\n",
       "      <td>4275</td>\n",
       "    </tr>\n",
       "  </tbody>\n",
       "</table>\n",
       "</div>"
      ],
      "text/plain": [
       "    A   B   C   D   E   F  A+B   A*B\n",
       "0  64  44  51  97  14  74  108  2816\n",
       "1  27  58  16  56  81  18   85  1566\n",
       "2  71  84  65  77  66  73  155  5964\n",
       "3  22  69  46  32  82  82   91  1518\n",
       "4  72  86  99  77  26  69  158  6192\n",
       "5  35  47  21  28  27  93   82  1645\n",
       "6  11  25  53  71  56  21   36   275\n",
       "7  57  75  19  52  63  28  132  4275"
      ]
     },
     "execution_count": 287,
     "metadata": {},
     "output_type": "execute_result"
    }
   ],
   "source": [
    "df"
   ]
  },
  {
   "cell_type": "code",
   "execution_count": 292,
   "id": "0884a0d4",
   "metadata": {},
   "outputs": [],
   "source": [
    "df.drop(labels='D', axis=1, inplace=True)"
   ]
  },
  {
   "cell_type": "code",
   "execution_count": 293,
   "id": "1759cee9",
   "metadata": {},
   "outputs": [
    {
     "data": {
      "text/html": [
       "<div>\n",
       "<style scoped>\n",
       "    .dataframe tbody tr th:only-of-type {\n",
       "        vertical-align: middle;\n",
       "    }\n",
       "\n",
       "    .dataframe tbody tr th {\n",
       "        vertical-align: top;\n",
       "    }\n",
       "\n",
       "    .dataframe thead th {\n",
       "        text-align: right;\n",
       "    }\n",
       "</style>\n",
       "<table border=\"1\" class=\"dataframe\">\n",
       "  <thead>\n",
       "    <tr style=\"text-align: right;\">\n",
       "      <th></th>\n",
       "      <th>A</th>\n",
       "      <th>B</th>\n",
       "      <th>C</th>\n",
       "      <th>E</th>\n",
       "      <th>F</th>\n",
       "      <th>A+B</th>\n",
       "      <th>A*B</th>\n",
       "    </tr>\n",
       "  </thead>\n",
       "  <tbody>\n",
       "    <tr>\n",
       "      <th>0</th>\n",
       "      <td>64</td>\n",
       "      <td>44</td>\n",
       "      <td>51</td>\n",
       "      <td>14</td>\n",
       "      <td>74</td>\n",
       "      <td>108</td>\n",
       "      <td>2816</td>\n",
       "    </tr>\n",
       "    <tr>\n",
       "      <th>1</th>\n",
       "      <td>27</td>\n",
       "      <td>58</td>\n",
       "      <td>16</td>\n",
       "      <td>81</td>\n",
       "      <td>18</td>\n",
       "      <td>85</td>\n",
       "      <td>1566</td>\n",
       "    </tr>\n",
       "    <tr>\n",
       "      <th>2</th>\n",
       "      <td>71</td>\n",
       "      <td>84</td>\n",
       "      <td>65</td>\n",
       "      <td>66</td>\n",
       "      <td>73</td>\n",
       "      <td>155</td>\n",
       "      <td>5964</td>\n",
       "    </tr>\n",
       "    <tr>\n",
       "      <th>3</th>\n",
       "      <td>22</td>\n",
       "      <td>69</td>\n",
       "      <td>46</td>\n",
       "      <td>82</td>\n",
       "      <td>82</td>\n",
       "      <td>91</td>\n",
       "      <td>1518</td>\n",
       "    </tr>\n",
       "    <tr>\n",
       "      <th>4</th>\n",
       "      <td>72</td>\n",
       "      <td>86</td>\n",
       "      <td>99</td>\n",
       "      <td>26</td>\n",
       "      <td>69</td>\n",
       "      <td>158</td>\n",
       "      <td>6192</td>\n",
       "    </tr>\n",
       "    <tr>\n",
       "      <th>5</th>\n",
       "      <td>35</td>\n",
       "      <td>47</td>\n",
       "      <td>21</td>\n",
       "      <td>27</td>\n",
       "      <td>93</td>\n",
       "      <td>82</td>\n",
       "      <td>1645</td>\n",
       "    </tr>\n",
       "    <tr>\n",
       "      <th>6</th>\n",
       "      <td>11</td>\n",
       "      <td>25</td>\n",
       "      <td>53</td>\n",
       "      <td>56</td>\n",
       "      <td>21</td>\n",
       "      <td>36</td>\n",
       "      <td>275</td>\n",
       "    </tr>\n",
       "    <tr>\n",
       "      <th>7</th>\n",
       "      <td>57</td>\n",
       "      <td>75</td>\n",
       "      <td>19</td>\n",
       "      <td>63</td>\n",
       "      <td>28</td>\n",
       "      <td>132</td>\n",
       "      <td>4275</td>\n",
       "    </tr>\n",
       "  </tbody>\n",
       "</table>\n",
       "</div>"
      ],
      "text/plain": [
       "    A   B   C   E   F  A+B   A*B\n",
       "0  64  44  51  14  74  108  2816\n",
       "1  27  58  16  81  18   85  1566\n",
       "2  71  84  65  66  73  155  5964\n",
       "3  22  69  46  82  82   91  1518\n",
       "4  72  86  99  26  69  158  6192\n",
       "5  35  47  21  27  93   82  1645\n",
       "6  11  25  53  56  21   36   275\n",
       "7  57  75  19  63  28  132  4275"
      ]
     },
     "execution_count": 293,
     "metadata": {},
     "output_type": "execute_result"
    }
   ],
   "source": [
    "df"
   ]
  },
  {
   "cell_type": "code",
   "execution_count": 298,
   "id": "7a7c3954",
   "metadata": {},
   "outputs": [
    {
     "data": {
      "text/html": [
       "<div>\n",
       "<style scoped>\n",
       "    .dataframe tbody tr th:only-of-type {\n",
       "        vertical-align: middle;\n",
       "    }\n",
       "\n",
       "    .dataframe tbody tr th {\n",
       "        vertical-align: top;\n",
       "    }\n",
       "\n",
       "    .dataframe thead th {\n",
       "        text-align: right;\n",
       "    }\n",
       "</style>\n",
       "<table border=\"1\" class=\"dataframe\">\n",
       "  <thead>\n",
       "    <tr style=\"text-align: right;\">\n",
       "      <th></th>\n",
       "      <th>A</th>\n",
       "      <th>B</th>\n",
       "      <th>C</th>\n",
       "      <th>E</th>\n",
       "      <th>F</th>\n",
       "    </tr>\n",
       "  </thead>\n",
       "  <tbody>\n",
       "    <tr>\n",
       "      <th>0</th>\n",
       "      <td>64</td>\n",
       "      <td>44</td>\n",
       "      <td>51</td>\n",
       "      <td>14</td>\n",
       "      <td>74</td>\n",
       "    </tr>\n",
       "    <tr>\n",
       "      <th>1</th>\n",
       "      <td>27</td>\n",
       "      <td>58</td>\n",
       "      <td>16</td>\n",
       "      <td>81</td>\n",
       "      <td>18</td>\n",
       "    </tr>\n",
       "    <tr>\n",
       "      <th>2</th>\n",
       "      <td>71</td>\n",
       "      <td>84</td>\n",
       "      <td>65</td>\n",
       "      <td>66</td>\n",
       "      <td>73</td>\n",
       "    </tr>\n",
       "    <tr>\n",
       "      <th>3</th>\n",
       "      <td>22</td>\n",
       "      <td>69</td>\n",
       "      <td>46</td>\n",
       "      <td>82</td>\n",
       "      <td>82</td>\n",
       "    </tr>\n",
       "    <tr>\n",
       "      <th>4</th>\n",
       "      <td>72</td>\n",
       "      <td>86</td>\n",
       "      <td>99</td>\n",
       "      <td>26</td>\n",
       "      <td>69</td>\n",
       "    </tr>\n",
       "    <tr>\n",
       "      <th>5</th>\n",
       "      <td>35</td>\n",
       "      <td>47</td>\n",
       "      <td>21</td>\n",
       "      <td>27</td>\n",
       "      <td>93</td>\n",
       "    </tr>\n",
       "    <tr>\n",
       "      <th>6</th>\n",
       "      <td>11</td>\n",
       "      <td>25</td>\n",
       "      <td>53</td>\n",
       "      <td>56</td>\n",
       "      <td>21</td>\n",
       "    </tr>\n",
       "    <tr>\n",
       "      <th>7</th>\n",
       "      <td>57</td>\n",
       "      <td>75</td>\n",
       "      <td>19</td>\n",
       "      <td>63</td>\n",
       "      <td>28</td>\n",
       "    </tr>\n",
       "  </tbody>\n",
       "</table>\n",
       "</div>"
      ],
      "text/plain": [
       "    A   B   C   E   F\n",
       "0  64  44  51  14  74\n",
       "1  27  58  16  81  18\n",
       "2  71  84  65  66  73\n",
       "3  22  69  46  82  82\n",
       "4  72  86  99  26  69\n",
       "5  35  47  21  27  93\n",
       "6  11  25  53  56  21\n",
       "7  57  75  19  63  28"
      ]
     },
     "execution_count": 298,
     "metadata": {},
     "output_type": "execute_result"
    }
   ],
   "source": [
    "df.drop(columns=['A+B', 'A*B'])"
   ]
  },
  {
   "cell_type": "code",
   "execution_count": 302,
   "id": "eeb20967",
   "metadata": {},
   "outputs": [
    {
     "data": {
      "text/html": [
       "<div>\n",
       "<style scoped>\n",
       "    .dataframe tbody tr th:only-of-type {\n",
       "        vertical-align: middle;\n",
       "    }\n",
       "\n",
       "    .dataframe tbody tr th {\n",
       "        vertical-align: top;\n",
       "    }\n",
       "\n",
       "    .dataframe thead th {\n",
       "        text-align: right;\n",
       "    }\n",
       "</style>\n",
       "<table border=\"1\" class=\"dataframe\">\n",
       "  <thead>\n",
       "    <tr style=\"text-align: right;\">\n",
       "      <th></th>\n",
       "      <th>A</th>\n",
       "      <th>B</th>\n",
       "      <th>C</th>\n",
       "      <th>E</th>\n",
       "      <th>F</th>\n",
       "      <th>A+B</th>\n",
       "      <th>A*B</th>\n",
       "    </tr>\n",
       "  </thead>\n",
       "  <tbody>\n",
       "    <tr>\n",
       "      <th>2</th>\n",
       "      <td>71</td>\n",
       "      <td>84</td>\n",
       "      <td>65</td>\n",
       "      <td>66</td>\n",
       "      <td>73</td>\n",
       "      <td>155</td>\n",
       "      <td>5964</td>\n",
       "    </tr>\n",
       "    <tr>\n",
       "      <th>3</th>\n",
       "      <td>22</td>\n",
       "      <td>69</td>\n",
       "      <td>46</td>\n",
       "      <td>82</td>\n",
       "      <td>82</td>\n",
       "      <td>91</td>\n",
       "      <td>1518</td>\n",
       "    </tr>\n",
       "    <tr>\n",
       "      <th>4</th>\n",
       "      <td>72</td>\n",
       "      <td>86</td>\n",
       "      <td>99</td>\n",
       "      <td>26</td>\n",
       "      <td>69</td>\n",
       "      <td>158</td>\n",
       "      <td>6192</td>\n",
       "    </tr>\n",
       "    <tr>\n",
       "      <th>5</th>\n",
       "      <td>35</td>\n",
       "      <td>47</td>\n",
       "      <td>21</td>\n",
       "      <td>27</td>\n",
       "      <td>93</td>\n",
       "      <td>82</td>\n",
       "      <td>1645</td>\n",
       "    </tr>\n",
       "    <tr>\n",
       "      <th>6</th>\n",
       "      <td>11</td>\n",
       "      <td>25</td>\n",
       "      <td>53</td>\n",
       "      <td>56</td>\n",
       "      <td>21</td>\n",
       "      <td>36</td>\n",
       "      <td>275</td>\n",
       "    </tr>\n",
       "    <tr>\n",
       "      <th>7</th>\n",
       "      <td>57</td>\n",
       "      <td>75</td>\n",
       "      <td>19</td>\n",
       "      <td>63</td>\n",
       "      <td>28</td>\n",
       "      <td>132</td>\n",
       "      <td>4275</td>\n",
       "    </tr>\n",
       "  </tbody>\n",
       "</table>\n",
       "</div>"
      ],
      "text/plain": [
       "    A   B   C   E   F  A+B   A*B\n",
       "2  71  84  65  66  73  155  5964\n",
       "3  22  69  46  82  82   91  1518\n",
       "4  72  86  99  26  69  158  6192\n",
       "5  35  47  21  27  93   82  1645\n",
       "6  11  25  53  56  21   36   275\n",
       "7  57  75  19  63  28  132  4275"
      ]
     },
     "execution_count": 302,
     "metadata": {},
     "output_type": "execute_result"
    }
   ],
   "source": [
    "df.drop(index=[0,1])"
   ]
  },
  {
   "cell_type": "code",
   "execution_count": 305,
   "id": "78c8d172",
   "metadata": {},
   "outputs": [
    {
     "data": {
      "text/html": [
       "<div>\n",
       "<style scoped>\n",
       "    .dataframe tbody tr th:only-of-type {\n",
       "        vertical-align: middle;\n",
       "    }\n",
       "\n",
       "    .dataframe tbody tr th {\n",
       "        vertical-align: top;\n",
       "    }\n",
       "\n",
       "    .dataframe thead th {\n",
       "        text-align: right;\n",
       "    }\n",
       "</style>\n",
       "<table border=\"1\" class=\"dataframe\">\n",
       "  <thead>\n",
       "    <tr style=\"text-align: right;\">\n",
       "      <th></th>\n",
       "      <th>A</th>\n",
       "      <th>B</th>\n",
       "      <th>C</th>\n",
       "      <th>E</th>\n",
       "      <th>F</th>\n",
       "      <th>A+B</th>\n",
       "      <th>A*B</th>\n",
       "    </tr>\n",
       "  </thead>\n",
       "  <tbody>\n",
       "    <tr>\n",
       "      <th>2</th>\n",
       "      <td>71</td>\n",
       "      <td>84</td>\n",
       "      <td>65</td>\n",
       "      <td>66</td>\n",
       "      <td>73</td>\n",
       "      <td>155</td>\n",
       "      <td>5964</td>\n",
       "    </tr>\n",
       "    <tr>\n",
       "      <th>3</th>\n",
       "      <td>22</td>\n",
       "      <td>69</td>\n",
       "      <td>46</td>\n",
       "      <td>82</td>\n",
       "      <td>82</td>\n",
       "      <td>91</td>\n",
       "      <td>1518</td>\n",
       "    </tr>\n",
       "    <tr>\n",
       "      <th>4</th>\n",
       "      <td>72</td>\n",
       "      <td>86</td>\n",
       "      <td>99</td>\n",
       "      <td>26</td>\n",
       "      <td>69</td>\n",
       "      <td>158</td>\n",
       "      <td>6192</td>\n",
       "    </tr>\n",
       "    <tr>\n",
       "      <th>5</th>\n",
       "      <td>35</td>\n",
       "      <td>47</td>\n",
       "      <td>21</td>\n",
       "      <td>27</td>\n",
       "      <td>93</td>\n",
       "      <td>82</td>\n",
       "      <td>1645</td>\n",
       "    </tr>\n",
       "    <tr>\n",
       "      <th>6</th>\n",
       "      <td>11</td>\n",
       "      <td>25</td>\n",
       "      <td>53</td>\n",
       "      <td>56</td>\n",
       "      <td>21</td>\n",
       "      <td>36</td>\n",
       "      <td>275</td>\n",
       "    </tr>\n",
       "    <tr>\n",
       "      <th>7</th>\n",
       "      <td>57</td>\n",
       "      <td>75</td>\n",
       "      <td>19</td>\n",
       "      <td>63</td>\n",
       "      <td>28</td>\n",
       "      <td>132</td>\n",
       "      <td>4275</td>\n",
       "    </tr>\n",
       "  </tbody>\n",
       "</table>\n",
       "</div>"
      ],
      "text/plain": [
       "    A   B   C   E   F  A+B   A*B\n",
       "2  71  84  65  66  73  155  5964\n",
       "3  22  69  46  82  82   91  1518\n",
       "4  72  86  99  26  69  158  6192\n",
       "5  35  47  21  27  93   82  1645\n",
       "6  11  25  53  56  21   36   275\n",
       "7  57  75  19  63  28  132  4275"
      ]
     },
     "execution_count": 305,
     "metadata": {},
     "output_type": "execute_result"
    }
   ],
   "source": [
    "df.drop(labels=[0,1])"
   ]
  },
  {
   "cell_type": "code",
   "execution_count": 308,
   "id": "432c3d56",
   "metadata": {},
   "outputs": [],
   "source": [
    "df = df.drop(columns=['A+B', 'A*B'])"
   ]
  },
  {
   "cell_type": "code",
   "execution_count": 309,
   "id": "93ae3d2b",
   "metadata": {},
   "outputs": [
    {
     "data": {
      "text/html": [
       "<div>\n",
       "<style scoped>\n",
       "    .dataframe tbody tr th:only-of-type {\n",
       "        vertical-align: middle;\n",
       "    }\n",
       "\n",
       "    .dataframe tbody tr th {\n",
       "        vertical-align: top;\n",
       "    }\n",
       "\n",
       "    .dataframe thead th {\n",
       "        text-align: right;\n",
       "    }\n",
       "</style>\n",
       "<table border=\"1\" class=\"dataframe\">\n",
       "  <thead>\n",
       "    <tr style=\"text-align: right;\">\n",
       "      <th></th>\n",
       "      <th>A</th>\n",
       "      <th>B</th>\n",
       "      <th>C</th>\n",
       "      <th>E</th>\n",
       "      <th>F</th>\n",
       "    </tr>\n",
       "  </thead>\n",
       "  <tbody>\n",
       "    <tr>\n",
       "      <th>0</th>\n",
       "      <td>64</td>\n",
       "      <td>44</td>\n",
       "      <td>51</td>\n",
       "      <td>14</td>\n",
       "      <td>74</td>\n",
       "    </tr>\n",
       "    <tr>\n",
       "      <th>1</th>\n",
       "      <td>27</td>\n",
       "      <td>58</td>\n",
       "      <td>16</td>\n",
       "      <td>81</td>\n",
       "      <td>18</td>\n",
       "    </tr>\n",
       "    <tr>\n",
       "      <th>2</th>\n",
       "      <td>71</td>\n",
       "      <td>84</td>\n",
       "      <td>65</td>\n",
       "      <td>66</td>\n",
       "      <td>73</td>\n",
       "    </tr>\n",
       "    <tr>\n",
       "      <th>3</th>\n",
       "      <td>22</td>\n",
       "      <td>69</td>\n",
       "      <td>46</td>\n",
       "      <td>82</td>\n",
       "      <td>82</td>\n",
       "    </tr>\n",
       "    <tr>\n",
       "      <th>4</th>\n",
       "      <td>72</td>\n",
       "      <td>86</td>\n",
       "      <td>99</td>\n",
       "      <td>26</td>\n",
       "      <td>69</td>\n",
       "    </tr>\n",
       "    <tr>\n",
       "      <th>5</th>\n",
       "      <td>35</td>\n",
       "      <td>47</td>\n",
       "      <td>21</td>\n",
       "      <td>27</td>\n",
       "      <td>93</td>\n",
       "    </tr>\n",
       "    <tr>\n",
       "      <th>6</th>\n",
       "      <td>11</td>\n",
       "      <td>25</td>\n",
       "      <td>53</td>\n",
       "      <td>56</td>\n",
       "      <td>21</td>\n",
       "    </tr>\n",
       "    <tr>\n",
       "      <th>7</th>\n",
       "      <td>57</td>\n",
       "      <td>75</td>\n",
       "      <td>19</td>\n",
       "      <td>63</td>\n",
       "      <td>28</td>\n",
       "    </tr>\n",
       "  </tbody>\n",
       "</table>\n",
       "</div>"
      ],
      "text/plain": [
       "    A   B   C   E   F\n",
       "0  64  44  51  14  74\n",
       "1  27  58  16  81  18\n",
       "2  71  84  65  66  73\n",
       "3  22  69  46  82  82\n",
       "4  72  86  99  26  69\n",
       "5  35  47  21  27  93\n",
       "6  11  25  53  56  21\n",
       "7  57  75  19  63  28"
      ]
     },
     "execution_count": 309,
     "metadata": {},
     "output_type": "execute_result"
    }
   ],
   "source": [
    "df"
   ]
  },
  {
   "cell_type": "code",
   "execution_count": 312,
   "id": "80c1219d",
   "metadata": {},
   "outputs": [],
   "source": [
    "df.index = 'p q r s t u v w'.split()"
   ]
  },
  {
   "cell_type": "code",
   "execution_count": 313,
   "id": "996f89c9",
   "metadata": {},
   "outputs": [
    {
     "data": {
      "text/html": [
       "<div>\n",
       "<style scoped>\n",
       "    .dataframe tbody tr th:only-of-type {\n",
       "        vertical-align: middle;\n",
       "    }\n",
       "\n",
       "    .dataframe tbody tr th {\n",
       "        vertical-align: top;\n",
       "    }\n",
       "\n",
       "    .dataframe thead th {\n",
       "        text-align: right;\n",
       "    }\n",
       "</style>\n",
       "<table border=\"1\" class=\"dataframe\">\n",
       "  <thead>\n",
       "    <tr style=\"text-align: right;\">\n",
       "      <th></th>\n",
       "      <th>A</th>\n",
       "      <th>B</th>\n",
       "      <th>C</th>\n",
       "      <th>E</th>\n",
       "      <th>F</th>\n",
       "    </tr>\n",
       "  </thead>\n",
       "  <tbody>\n",
       "    <tr>\n",
       "      <th>p</th>\n",
       "      <td>64</td>\n",
       "      <td>44</td>\n",
       "      <td>51</td>\n",
       "      <td>14</td>\n",
       "      <td>74</td>\n",
       "    </tr>\n",
       "    <tr>\n",
       "      <th>q</th>\n",
       "      <td>27</td>\n",
       "      <td>58</td>\n",
       "      <td>16</td>\n",
       "      <td>81</td>\n",
       "      <td>18</td>\n",
       "    </tr>\n",
       "    <tr>\n",
       "      <th>r</th>\n",
       "      <td>71</td>\n",
       "      <td>84</td>\n",
       "      <td>65</td>\n",
       "      <td>66</td>\n",
       "      <td>73</td>\n",
       "    </tr>\n",
       "    <tr>\n",
       "      <th>s</th>\n",
       "      <td>22</td>\n",
       "      <td>69</td>\n",
       "      <td>46</td>\n",
       "      <td>82</td>\n",
       "      <td>82</td>\n",
       "    </tr>\n",
       "    <tr>\n",
       "      <th>t</th>\n",
       "      <td>72</td>\n",
       "      <td>86</td>\n",
       "      <td>99</td>\n",
       "      <td>26</td>\n",
       "      <td>69</td>\n",
       "    </tr>\n",
       "    <tr>\n",
       "      <th>u</th>\n",
       "      <td>35</td>\n",
       "      <td>47</td>\n",
       "      <td>21</td>\n",
       "      <td>27</td>\n",
       "      <td>93</td>\n",
       "    </tr>\n",
       "    <tr>\n",
       "      <th>v</th>\n",
       "      <td>11</td>\n",
       "      <td>25</td>\n",
       "      <td>53</td>\n",
       "      <td>56</td>\n",
       "      <td>21</td>\n",
       "    </tr>\n",
       "    <tr>\n",
       "      <th>w</th>\n",
       "      <td>57</td>\n",
       "      <td>75</td>\n",
       "      <td>19</td>\n",
       "      <td>63</td>\n",
       "      <td>28</td>\n",
       "    </tr>\n",
       "  </tbody>\n",
       "</table>\n",
       "</div>"
      ],
      "text/plain": [
       "    A   B   C   E   F\n",
       "p  64  44  51  14  74\n",
       "q  27  58  16  81  18\n",
       "r  71  84  65  66  73\n",
       "s  22  69  46  82  82\n",
       "t  72  86  99  26  69\n",
       "u  35  47  21  27  93\n",
       "v  11  25  53  56  21\n",
       "w  57  75  19  63  28"
      ]
     },
     "execution_count": 313,
     "metadata": {},
     "output_type": "execute_result"
    }
   ],
   "source": [
    "df"
   ]
  },
  {
   "cell_type": "code",
   "execution_count": 315,
   "id": "e1afe310",
   "metadata": {},
   "outputs": [
    {
     "data": {
      "text/plain": [
       "A    64\n",
       "B    44\n",
       "C    51\n",
       "E    14\n",
       "F    74\n",
       "Name: p, dtype: int32"
      ]
     },
     "execution_count": 315,
     "metadata": {},
     "output_type": "execute_result"
    }
   ],
   "source": [
    "df.loc['p']"
   ]
  },
  {
   "cell_type": "code",
   "execution_count": 318,
   "id": "0dd93490",
   "metadata": {},
   "outputs": [
    {
     "data": {
      "text/plain": [
       "A    64\n",
       "B    44\n",
       "C    51\n",
       "E    14\n",
       "F    74\n",
       "Name: p, dtype: int32"
      ]
     },
     "execution_count": 318,
     "metadata": {},
     "output_type": "execute_result"
    }
   ],
   "source": [
    "df.iloc[0]"
   ]
  },
  {
   "cell_type": "code",
   "execution_count": 320,
   "id": "fdfe4605",
   "metadata": {},
   "outputs": [
    {
     "data": {
      "text/plain": [
       "A    27\n",
       "B    58\n",
       "C    16\n",
       "E    81\n",
       "F    18\n",
       "Name: q, dtype: int32"
      ]
     },
     "execution_count": 320,
     "metadata": {},
     "output_type": "execute_result"
    }
   ],
   "source": [
    "df.loc['q']"
   ]
  },
  {
   "cell_type": "code",
   "execution_count": 324,
   "id": "955da21e",
   "metadata": {},
   "outputs": [
    {
     "data": {
      "text/plain": [
       "A    22\n",
       "B    69\n",
       "C    46\n",
       "E    82\n",
       "F    82\n",
       "Name: s, dtype: int32"
      ]
     },
     "execution_count": 324,
     "metadata": {},
     "output_type": "execute_result"
    }
   ],
   "source": [
    "df.loc['s']"
   ]
  },
  {
   "cell_type": "code",
   "execution_count": 326,
   "id": "8762f998",
   "metadata": {},
   "outputs": [
    {
     "data": {
      "text/plain": [
       "A    22\n",
       "B    69\n",
       "C    46\n",
       "E    82\n",
       "F    82\n",
       "Name: s, dtype: int32"
      ]
     },
     "execution_count": 326,
     "metadata": {},
     "output_type": "execute_result"
    }
   ],
   "source": [
    "df.iloc[3]"
   ]
  },
  {
   "cell_type": "code",
   "execution_count": 328,
   "id": "1dbf726a",
   "metadata": {},
   "outputs": [
    {
     "data": {
      "text/plain": [
       "A    57\n",
       "B    75\n",
       "C    19\n",
       "E    63\n",
       "F    28\n",
       "Name: w, dtype: int32"
      ]
     },
     "execution_count": 328,
     "metadata": {},
     "output_type": "execute_result"
    }
   ],
   "source": [
    "df.loc['w']"
   ]
  },
  {
   "cell_type": "code",
   "execution_count": 329,
   "id": "a96b0e83",
   "metadata": {},
   "outputs": [
    {
     "data": {
      "text/html": [
       "<div>\n",
       "<style scoped>\n",
       "    .dataframe tbody tr th:only-of-type {\n",
       "        vertical-align: middle;\n",
       "    }\n",
       "\n",
       "    .dataframe tbody tr th {\n",
       "        vertical-align: top;\n",
       "    }\n",
       "\n",
       "    .dataframe thead th {\n",
       "        text-align: right;\n",
       "    }\n",
       "</style>\n",
       "<table border=\"1\" class=\"dataframe\">\n",
       "  <thead>\n",
       "    <tr style=\"text-align: right;\">\n",
       "      <th></th>\n",
       "      <th>A</th>\n",
       "      <th>B</th>\n",
       "      <th>C</th>\n",
       "      <th>E</th>\n",
       "      <th>F</th>\n",
       "    </tr>\n",
       "  </thead>\n",
       "  <tbody>\n",
       "    <tr>\n",
       "      <th>p</th>\n",
       "      <td>64</td>\n",
       "      <td>44</td>\n",
       "      <td>51</td>\n",
       "      <td>14</td>\n",
       "      <td>74</td>\n",
       "    </tr>\n",
       "    <tr>\n",
       "      <th>q</th>\n",
       "      <td>27</td>\n",
       "      <td>58</td>\n",
       "      <td>16</td>\n",
       "      <td>81</td>\n",
       "      <td>18</td>\n",
       "    </tr>\n",
       "    <tr>\n",
       "      <th>r</th>\n",
       "      <td>71</td>\n",
       "      <td>84</td>\n",
       "      <td>65</td>\n",
       "      <td>66</td>\n",
       "      <td>73</td>\n",
       "    </tr>\n",
       "    <tr>\n",
       "      <th>s</th>\n",
       "      <td>22</td>\n",
       "      <td>69</td>\n",
       "      <td>46</td>\n",
       "      <td>82</td>\n",
       "      <td>82</td>\n",
       "    </tr>\n",
       "    <tr>\n",
       "      <th>t</th>\n",
       "      <td>72</td>\n",
       "      <td>86</td>\n",
       "      <td>99</td>\n",
       "      <td>26</td>\n",
       "      <td>69</td>\n",
       "    </tr>\n",
       "    <tr>\n",
       "      <th>u</th>\n",
       "      <td>35</td>\n",
       "      <td>47</td>\n",
       "      <td>21</td>\n",
       "      <td>27</td>\n",
       "      <td>93</td>\n",
       "    </tr>\n",
       "    <tr>\n",
       "      <th>v</th>\n",
       "      <td>11</td>\n",
       "      <td>25</td>\n",
       "      <td>53</td>\n",
       "      <td>56</td>\n",
       "      <td>21</td>\n",
       "    </tr>\n",
       "    <tr>\n",
       "      <th>w</th>\n",
       "      <td>57</td>\n",
       "      <td>75</td>\n",
       "      <td>19</td>\n",
       "      <td>63</td>\n",
       "      <td>28</td>\n",
       "    </tr>\n",
       "  </tbody>\n",
       "</table>\n",
       "</div>"
      ],
      "text/plain": [
       "    A   B   C   E   F\n",
       "p  64  44  51  14  74\n",
       "q  27  58  16  81  18\n",
       "r  71  84  65  66  73\n",
       "s  22  69  46  82  82\n",
       "t  72  86  99  26  69\n",
       "u  35  47  21  27  93\n",
       "v  11  25  53  56  21\n",
       "w  57  75  19  63  28"
      ]
     },
     "execution_count": 329,
     "metadata": {},
     "output_type": "execute_result"
    }
   ],
   "source": [
    "df"
   ]
  },
  {
   "cell_type": "code",
   "execution_count": 330,
   "id": "fd7a5cf4",
   "metadata": {},
   "outputs": [
    {
     "data": {
      "text/plain": [
       "A    57\n",
       "B    75\n",
       "C    19\n",
       "E    63\n",
       "F    28\n",
       "Name: w, dtype: int32"
      ]
     },
     "execution_count": 330,
     "metadata": {},
     "output_type": "execute_result"
    }
   ],
   "source": [
    "df.iloc[-1]"
   ]
  },
  {
   "cell_type": "code",
   "execution_count": 333,
   "id": "c61088ea",
   "metadata": {},
   "outputs": [
    {
     "data": {
      "text/html": [
       "<div>\n",
       "<style scoped>\n",
       "    .dataframe tbody tr th:only-of-type {\n",
       "        vertical-align: middle;\n",
       "    }\n",
       "\n",
       "    .dataframe tbody tr th {\n",
       "        vertical-align: top;\n",
       "    }\n",
       "\n",
       "    .dataframe thead th {\n",
       "        text-align: right;\n",
       "    }\n",
       "</style>\n",
       "<table border=\"1\" class=\"dataframe\">\n",
       "  <thead>\n",
       "    <tr style=\"text-align: right;\">\n",
       "      <th></th>\n",
       "      <th>C</th>\n",
       "      <th>E</th>\n",
       "      <th>F</th>\n",
       "    </tr>\n",
       "  </thead>\n",
       "  <tbody>\n",
       "    <tr>\n",
       "      <th>u</th>\n",
       "      <td>21</td>\n",
       "      <td>27</td>\n",
       "      <td>93</td>\n",
       "    </tr>\n",
       "    <tr>\n",
       "      <th>v</th>\n",
       "      <td>53</td>\n",
       "      <td>56</td>\n",
       "      <td>21</td>\n",
       "    </tr>\n",
       "    <tr>\n",
       "      <th>w</th>\n",
       "      <td>19</td>\n",
       "      <td>63</td>\n",
       "      <td>28</td>\n",
       "    </tr>\n",
       "  </tbody>\n",
       "</table>\n",
       "</div>"
      ],
      "text/plain": [
       "    C   E   F\n",
       "u  21  27  93\n",
       "v  53  56  21\n",
       "w  19  63  28"
      ]
     },
     "execution_count": 333,
     "metadata": {},
     "output_type": "execute_result"
    }
   ],
   "source": [
    "df.iloc[5:, 2:]"
   ]
  },
  {
   "cell_type": "code",
   "execution_count": 339,
   "id": "ffab8f5f",
   "metadata": {},
   "outputs": [
    {
     "data": {
      "text/html": [
       "<div>\n",
       "<style scoped>\n",
       "    .dataframe tbody tr th:only-of-type {\n",
       "        vertical-align: middle;\n",
       "    }\n",
       "\n",
       "    .dataframe tbody tr th {\n",
       "        vertical-align: top;\n",
       "    }\n",
       "\n",
       "    .dataframe thead th {\n",
       "        text-align: right;\n",
       "    }\n",
       "</style>\n",
       "<table border=\"1\" class=\"dataframe\">\n",
       "  <thead>\n",
       "    <tr style=\"text-align: right;\">\n",
       "      <th></th>\n",
       "      <th>E</th>\n",
       "      <th>F</th>\n",
       "    </tr>\n",
       "  </thead>\n",
       "  <tbody>\n",
       "    <tr>\n",
       "      <th>u</th>\n",
       "      <td>27</td>\n",
       "      <td>93</td>\n",
       "    </tr>\n",
       "    <tr>\n",
       "      <th>v</th>\n",
       "      <td>56</td>\n",
       "      <td>21</td>\n",
       "    </tr>\n",
       "    <tr>\n",
       "      <th>w</th>\n",
       "      <td>63</td>\n",
       "      <td>28</td>\n",
       "    </tr>\n",
       "  </tbody>\n",
       "</table>\n",
       "</div>"
      ],
      "text/plain": [
       "    E   F\n",
       "u  27  93\n",
       "v  56  21\n",
       "w  63  28"
      ]
     },
     "execution_count": 339,
     "metadata": {},
     "output_type": "execute_result"
    }
   ],
   "source": [
    "df.iloc[-3:, -3:][['E', 'F']]"
   ]
  },
  {
   "cell_type": "code",
   "execution_count": 344,
   "id": "f7fb2e2c",
   "metadata": {},
   "outputs": [
    {
     "data": {
      "text/html": [
       "<div>\n",
       "<style scoped>\n",
       "    .dataframe tbody tr th:only-of-type {\n",
       "        vertical-align: middle;\n",
       "    }\n",
       "\n",
       "    .dataframe tbody tr th {\n",
       "        vertical-align: top;\n",
       "    }\n",
       "\n",
       "    .dataframe thead th {\n",
       "        text-align: right;\n",
       "    }\n",
       "</style>\n",
       "<table border=\"1\" class=\"dataframe\">\n",
       "  <thead>\n",
       "    <tr style=\"text-align: right;\">\n",
       "      <th></th>\n",
       "      <th>A</th>\n",
       "      <th>B</th>\n",
       "    </tr>\n",
       "  </thead>\n",
       "  <tbody>\n",
       "    <tr>\n",
       "      <th>v</th>\n",
       "      <td>11</td>\n",
       "      <td>25</td>\n",
       "    </tr>\n",
       "    <tr>\n",
       "      <th>w</th>\n",
       "      <td>57</td>\n",
       "      <td>75</td>\n",
       "    </tr>\n",
       "  </tbody>\n",
       "</table>\n",
       "</div>"
      ],
      "text/plain": [
       "    A   B\n",
       "v  11  25\n",
       "w  57  75"
      ]
     },
     "execution_count": 344,
     "metadata": {},
     "output_type": "execute_result"
    }
   ],
   "source": [
    "df.iloc[-2:][['A', 'B']]"
   ]
  },
  {
   "cell_type": "code",
   "execution_count": 348,
   "id": "38d7d27b",
   "metadata": {},
   "outputs": [
    {
     "data": {
      "text/html": [
       "<div>\n",
       "<style scoped>\n",
       "    .dataframe tbody tr th:only-of-type {\n",
       "        vertical-align: middle;\n",
       "    }\n",
       "\n",
       "    .dataframe tbody tr th {\n",
       "        vertical-align: top;\n",
       "    }\n",
       "\n",
       "    .dataframe thead th {\n",
       "        text-align: right;\n",
       "    }\n",
       "</style>\n",
       "<table border=\"1\" class=\"dataframe\">\n",
       "  <thead>\n",
       "    <tr style=\"text-align: right;\">\n",
       "      <th></th>\n",
       "      <th>E</th>\n",
       "      <th>F</th>\n",
       "    </tr>\n",
       "  </thead>\n",
       "  <tbody>\n",
       "    <tr>\n",
       "      <th>v</th>\n",
       "      <td>56</td>\n",
       "      <td>21</td>\n",
       "    </tr>\n",
       "    <tr>\n",
       "      <th>w</th>\n",
       "      <td>63</td>\n",
       "      <td>28</td>\n",
       "    </tr>\n",
       "  </tbody>\n",
       "</table>\n",
       "</div>"
      ],
      "text/plain": [
       "    E   F\n",
       "v  56  21\n",
       "w  63  28"
      ]
     },
     "execution_count": 348,
     "metadata": {},
     "output_type": "execute_result"
    }
   ],
   "source": [
    "df.iloc[-2:, -2:]"
   ]
  },
  {
   "cell_type": "code",
   "execution_count": null,
   "id": "8125bbb8",
   "metadata": {},
   "outputs": [],
   "source": []
  },
  {
   "cell_type": "code",
   "execution_count": 349,
   "id": "e0a14b61",
   "metadata": {},
   "outputs": [],
   "source": [
    "# Masking - Boolean masking"
   ]
  },
  {
   "cell_type": "code",
   "execution_count": 352,
   "id": "96aec354",
   "metadata": {},
   "outputs": [
    {
     "data": {
      "text/html": [
       "<div>\n",
       "<style scoped>\n",
       "    .dataframe tbody tr th:only-of-type {\n",
       "        vertical-align: middle;\n",
       "    }\n",
       "\n",
       "    .dataframe tbody tr th {\n",
       "        vertical-align: top;\n",
       "    }\n",
       "\n",
       "    .dataframe thead th {\n",
       "        text-align: right;\n",
       "    }\n",
       "</style>\n",
       "<table border=\"1\" class=\"dataframe\">\n",
       "  <thead>\n",
       "    <tr style=\"text-align: right;\">\n",
       "      <th></th>\n",
       "      <th>A</th>\n",
       "      <th>B</th>\n",
       "      <th>C</th>\n",
       "      <th>E</th>\n",
       "      <th>F</th>\n",
       "    </tr>\n",
       "  </thead>\n",
       "  <tbody>\n",
       "    <tr>\n",
       "      <th>p</th>\n",
       "      <td>64.0</td>\n",
       "      <td>44</td>\n",
       "      <td>51</td>\n",
       "      <td>NaN</td>\n",
       "      <td>74</td>\n",
       "    </tr>\n",
       "    <tr>\n",
       "      <th>q</th>\n",
       "      <td>27.0</td>\n",
       "      <td>58</td>\n",
       "      <td>16</td>\n",
       "      <td>81.0</td>\n",
       "      <td>18</td>\n",
       "    </tr>\n",
       "    <tr>\n",
       "      <th>r</th>\n",
       "      <td>71.0</td>\n",
       "      <td>84</td>\n",
       "      <td>65</td>\n",
       "      <td>66.0</td>\n",
       "      <td>73</td>\n",
       "    </tr>\n",
       "    <tr>\n",
       "      <th>s</th>\n",
       "      <td>22.0</td>\n",
       "      <td>69</td>\n",
       "      <td>46</td>\n",
       "      <td>82.0</td>\n",
       "      <td>82</td>\n",
       "    </tr>\n",
       "    <tr>\n",
       "      <th>t</th>\n",
       "      <td>72.0</td>\n",
       "      <td>86</td>\n",
       "      <td>99</td>\n",
       "      <td>26.0</td>\n",
       "      <td>69</td>\n",
       "    </tr>\n",
       "    <tr>\n",
       "      <th>u</th>\n",
       "      <td>35.0</td>\n",
       "      <td>47</td>\n",
       "      <td>21</td>\n",
       "      <td>27.0</td>\n",
       "      <td>93</td>\n",
       "    </tr>\n",
       "    <tr>\n",
       "      <th>v</th>\n",
       "      <td>NaN</td>\n",
       "      <td>25</td>\n",
       "      <td>53</td>\n",
       "      <td>56.0</td>\n",
       "      <td>21</td>\n",
       "    </tr>\n",
       "    <tr>\n",
       "      <th>w</th>\n",
       "      <td>57.0</td>\n",
       "      <td>75</td>\n",
       "      <td>19</td>\n",
       "      <td>63.0</td>\n",
       "      <td>28</td>\n",
       "    </tr>\n",
       "  </tbody>\n",
       "</table>\n",
       "</div>"
      ],
      "text/plain": [
       "      A   B   C     E   F\n",
       "p  64.0  44  51   NaN  74\n",
       "q  27.0  58  16  81.0  18\n",
       "r  71.0  84  65  66.0  73\n",
       "s  22.0  69  46  82.0  82\n",
       "t  72.0  86  99  26.0  69\n",
       "u  35.0  47  21  27.0  93\n",
       "v   NaN  25  53  56.0  21\n",
       "w  57.0  75  19  63.0  28"
      ]
     },
     "execution_count": 352,
     "metadata": {},
     "output_type": "execute_result"
    }
   ],
   "source": [
    "df[df>15]"
   ]
  },
  {
   "cell_type": "code",
   "execution_count": 355,
   "id": "b0e87aa3",
   "metadata": {},
   "outputs": [
    {
     "data": {
      "text/html": [
       "<div>\n",
       "<style scoped>\n",
       "    .dataframe tbody tr th:only-of-type {\n",
       "        vertical-align: middle;\n",
       "    }\n",
       "\n",
       "    .dataframe tbody tr th {\n",
       "        vertical-align: top;\n",
       "    }\n",
       "\n",
       "    .dataframe thead th {\n",
       "        text-align: right;\n",
       "    }\n",
       "</style>\n",
       "<table border=\"1\" class=\"dataframe\">\n",
       "  <thead>\n",
       "    <tr style=\"text-align: right;\">\n",
       "      <th></th>\n",
       "      <th>A</th>\n",
       "      <th>B</th>\n",
       "      <th>C</th>\n",
       "      <th>E</th>\n",
       "      <th>F</th>\n",
       "    </tr>\n",
       "  </thead>\n",
       "  <tbody>\n",
       "    <tr>\n",
       "      <th>p</th>\n",
       "      <td>64.0</td>\n",
       "      <td>44.0</td>\n",
       "      <td>51.0</td>\n",
       "      <td>NaN</td>\n",
       "      <td>74.0</td>\n",
       "    </tr>\n",
       "    <tr>\n",
       "      <th>q</th>\n",
       "      <td>NaN</td>\n",
       "      <td>58.0</td>\n",
       "      <td>NaN</td>\n",
       "      <td>81.0</td>\n",
       "      <td>NaN</td>\n",
       "    </tr>\n",
       "    <tr>\n",
       "      <th>r</th>\n",
       "      <td>71.0</td>\n",
       "      <td>84.0</td>\n",
       "      <td>65.0</td>\n",
       "      <td>66.0</td>\n",
       "      <td>73.0</td>\n",
       "    </tr>\n",
       "    <tr>\n",
       "      <th>s</th>\n",
       "      <td>NaN</td>\n",
       "      <td>69.0</td>\n",
       "      <td>46.0</td>\n",
       "      <td>82.0</td>\n",
       "      <td>82.0</td>\n",
       "    </tr>\n",
       "    <tr>\n",
       "      <th>t</th>\n",
       "      <td>72.0</td>\n",
       "      <td>86.0</td>\n",
       "      <td>99.0</td>\n",
       "      <td>NaN</td>\n",
       "      <td>69.0</td>\n",
       "    </tr>\n",
       "    <tr>\n",
       "      <th>u</th>\n",
       "      <td>35.0</td>\n",
       "      <td>47.0</td>\n",
       "      <td>NaN</td>\n",
       "      <td>NaN</td>\n",
       "      <td>93.0</td>\n",
       "    </tr>\n",
       "    <tr>\n",
       "      <th>v</th>\n",
       "      <td>NaN</td>\n",
       "      <td>NaN</td>\n",
       "      <td>53.0</td>\n",
       "      <td>56.0</td>\n",
       "      <td>NaN</td>\n",
       "    </tr>\n",
       "    <tr>\n",
       "      <th>w</th>\n",
       "      <td>57.0</td>\n",
       "      <td>75.0</td>\n",
       "      <td>NaN</td>\n",
       "      <td>63.0</td>\n",
       "      <td>NaN</td>\n",
       "    </tr>\n",
       "  </tbody>\n",
       "</table>\n",
       "</div>"
      ],
      "text/plain": [
       "      A     B     C     E     F\n",
       "p  64.0  44.0  51.0   NaN  74.0\n",
       "q   NaN  58.0   NaN  81.0   NaN\n",
       "r  71.0  84.0  65.0  66.0  73.0\n",
       "s   NaN  69.0  46.0  82.0  82.0\n",
       "t  72.0  86.0  99.0   NaN  69.0\n",
       "u  35.0  47.0   NaN   NaN  93.0\n",
       "v   NaN   NaN  53.0  56.0   NaN\n",
       "w  57.0  75.0   NaN  63.0   NaN"
      ]
     },
     "execution_count": 355,
     "metadata": {},
     "output_type": "execute_result"
    }
   ],
   "source": [
    "df[df>30]"
   ]
  },
  {
   "cell_type": "code",
   "execution_count": 362,
   "id": "e94e44e0",
   "metadata": {},
   "outputs": [
    {
     "data": {
      "text/html": [
       "<div>\n",
       "<style scoped>\n",
       "    .dataframe tbody tr th:only-of-type {\n",
       "        vertical-align: middle;\n",
       "    }\n",
       "\n",
       "    .dataframe tbody tr th {\n",
       "        vertical-align: top;\n",
       "    }\n",
       "\n",
       "    .dataframe thead th {\n",
       "        text-align: right;\n",
       "    }\n",
       "</style>\n",
       "<table border=\"1\" class=\"dataframe\">\n",
       "  <thead>\n",
       "    <tr style=\"text-align: right;\">\n",
       "      <th></th>\n",
       "      <th>B</th>\n",
       "      <th>C</th>\n",
       "    </tr>\n",
       "  </thead>\n",
       "  <tbody>\n",
       "    <tr>\n",
       "      <th>p</th>\n",
       "      <td>44</td>\n",
       "      <td>51</td>\n",
       "    </tr>\n",
       "    <tr>\n",
       "      <th>q</th>\n",
       "      <td>58</td>\n",
       "      <td>16</td>\n",
       "    </tr>\n",
       "    <tr>\n",
       "      <th>r</th>\n",
       "      <td>84</td>\n",
       "      <td>65</td>\n",
       "    </tr>\n",
       "    <tr>\n",
       "      <th>s</th>\n",
       "      <td>69</td>\n",
       "      <td>46</td>\n",
       "    </tr>\n",
       "    <tr>\n",
       "      <th>t</th>\n",
       "      <td>86</td>\n",
       "      <td>99</td>\n",
       "    </tr>\n",
       "    <tr>\n",
       "      <th>u</th>\n",
       "      <td>47</td>\n",
       "      <td>21</td>\n",
       "    </tr>\n",
       "    <tr>\n",
       "      <th>w</th>\n",
       "      <td>75</td>\n",
       "      <td>19</td>\n",
       "    </tr>\n",
       "  </tbody>\n",
       "</table>\n",
       "</div>"
      ],
      "text/plain": [
       "    B   C\n",
       "p  44  51\n",
       "q  58  16\n",
       "r  84  65\n",
       "s  69  46\n",
       "t  86  99\n",
       "u  47  21\n",
       "w  75  19"
      ]
     },
     "execution_count": 362,
     "metadata": {},
     "output_type": "execute_result"
    }
   ],
   "source": [
    "df[df['B']>40][['B', 'C']]"
   ]
  },
  {
   "cell_type": "code",
   "execution_count": 369,
   "id": "61628aad",
   "metadata": {},
   "outputs": [
    {
     "data": {
      "text/html": [
       "<div>\n",
       "<style scoped>\n",
       "    .dataframe tbody tr th:only-of-type {\n",
       "        vertical-align: middle;\n",
       "    }\n",
       "\n",
       "    .dataframe tbody tr th {\n",
       "        vertical-align: top;\n",
       "    }\n",
       "\n",
       "    .dataframe thead th {\n",
       "        text-align: right;\n",
       "    }\n",
       "</style>\n",
       "<table border=\"1\" class=\"dataframe\">\n",
       "  <thead>\n",
       "    <tr style=\"text-align: right;\">\n",
       "      <th></th>\n",
       "      <th>A</th>\n",
       "      <th>B</th>\n",
       "    </tr>\n",
       "  </thead>\n",
       "  <tbody>\n",
       "    <tr>\n",
       "      <th>p</th>\n",
       "      <td>64</td>\n",
       "      <td>44</td>\n",
       "    </tr>\n",
       "    <tr>\n",
       "      <th>r</th>\n",
       "      <td>71</td>\n",
       "      <td>84</td>\n",
       "    </tr>\n",
       "    <tr>\n",
       "      <th>t</th>\n",
       "      <td>72</td>\n",
       "      <td>86</td>\n",
       "    </tr>\n",
       "    <tr>\n",
       "      <th>w</th>\n",
       "      <td>57</td>\n",
       "      <td>75</td>\n",
       "    </tr>\n",
       "  </tbody>\n",
       "</table>\n",
       "</div>"
      ],
      "text/plain": [
       "    A   B\n",
       "p  64  44\n",
       "r  71  84\n",
       "t  72  86\n",
       "w  57  75"
      ]
     },
     "execution_count": 369,
     "metadata": {},
     "output_type": "execute_result"
    }
   ],
   "source": [
    "df[df['A']>40][['A','B']]"
   ]
  },
  {
   "cell_type": "code",
   "execution_count": 373,
   "id": "e5c47280",
   "metadata": {},
   "outputs": [
    {
     "data": {
      "text/plain": [
       "p    51\n",
       "q    16\n",
       "r    65\n",
       "s    46\n",
       "t    99\n",
       "u    21\n",
       "v    53\n",
       "w    19\n",
       "Name: C, dtype: int32"
      ]
     },
     "execution_count": 373,
     "metadata": {},
     "output_type": "execute_result"
    }
   ],
   "source": [
    "df['C']"
   ]
  },
  {
   "cell_type": "code",
   "execution_count": 377,
   "id": "837efeff",
   "metadata": {},
   "outputs": [
    {
     "data": {
      "text/html": [
       "<div>\n",
       "<style scoped>\n",
       "    .dataframe tbody tr th:only-of-type {\n",
       "        vertical-align: middle;\n",
       "    }\n",
       "\n",
       "    .dataframe tbody tr th {\n",
       "        vertical-align: top;\n",
       "    }\n",
       "\n",
       "    .dataframe thead th {\n",
       "        text-align: right;\n",
       "    }\n",
       "</style>\n",
       "<table border=\"1\" class=\"dataframe\">\n",
       "  <thead>\n",
       "    <tr style=\"text-align: right;\">\n",
       "      <th></th>\n",
       "      <th>A</th>\n",
       "      <th>B</th>\n",
       "      <th>C</th>\n",
       "      <th>E</th>\n",
       "      <th>F</th>\n",
       "    </tr>\n",
       "  </thead>\n",
       "  <tbody>\n",
       "    <tr>\n",
       "      <th>q</th>\n",
       "      <td>27</td>\n",
       "      <td>58</td>\n",
       "      <td>16</td>\n",
       "      <td>81</td>\n",
       "      <td>18</td>\n",
       "    </tr>\n",
       "    <tr>\n",
       "      <th>s</th>\n",
       "      <td>22</td>\n",
       "      <td>69</td>\n",
       "      <td>46</td>\n",
       "      <td>82</td>\n",
       "      <td>82</td>\n",
       "    </tr>\n",
       "    <tr>\n",
       "      <th>u</th>\n",
       "      <td>35</td>\n",
       "      <td>47</td>\n",
       "      <td>21</td>\n",
       "      <td>27</td>\n",
       "      <td>93</td>\n",
       "    </tr>\n",
       "    <tr>\n",
       "      <th>w</th>\n",
       "      <td>57</td>\n",
       "      <td>75</td>\n",
       "      <td>19</td>\n",
       "      <td>63</td>\n",
       "      <td>28</td>\n",
       "    </tr>\n",
       "  </tbody>\n",
       "</table>\n",
       "</div>"
      ],
      "text/plain": [
       "    A   B   C   E   F\n",
       "q  27  58  16  81  18\n",
       "s  22  69  46  82  82\n",
       "u  35  47  21  27  93\n",
       "w  57  75  19  63  28"
      ]
     },
     "execution_count": 377,
     "metadata": {},
     "output_type": "execute_result"
    }
   ],
   "source": [
    "df[df.C<50]"
   ]
  },
  {
   "cell_type": "code",
   "execution_count": 383,
   "id": "bd94d631",
   "metadata": {},
   "outputs": [
    {
     "data": {
      "text/html": [
       "<div>\n",
       "<style scoped>\n",
       "    .dataframe tbody tr th:only-of-type {\n",
       "        vertical-align: middle;\n",
       "    }\n",
       "\n",
       "    .dataframe tbody tr th {\n",
       "        vertical-align: top;\n",
       "    }\n",
       "\n",
       "    .dataframe thead th {\n",
       "        text-align: right;\n",
       "    }\n",
       "</style>\n",
       "<table border=\"1\" class=\"dataframe\">\n",
       "  <thead>\n",
       "    <tr style=\"text-align: right;\">\n",
       "      <th></th>\n",
       "      <th>A</th>\n",
       "      <th>B</th>\n",
       "      <th>C</th>\n",
       "      <th>E</th>\n",
       "      <th>F</th>\n",
       "    </tr>\n",
       "  </thead>\n",
       "  <tbody>\n",
       "    <tr>\n",
       "      <th>w</th>\n",
       "      <td>57</td>\n",
       "      <td>75</td>\n",
       "      <td>19</td>\n",
       "      <td>63</td>\n",
       "      <td>28</td>\n",
       "    </tr>\n",
       "  </tbody>\n",
       "</table>\n",
       "</div>"
      ],
      "text/plain": [
       "    A   B   C   E   F\n",
       "w  57  75  19  63  28"
      ]
     },
     "execution_count": 383,
     "metadata": {},
     "output_type": "execute_result"
    }
   ],
   "source": [
    "df[(df['A']>40) & (df['C']<50)]"
   ]
  },
  {
   "cell_type": "code",
   "execution_count": 381,
   "id": "96c47383",
   "metadata": {},
   "outputs": [
    {
     "data": {
      "text/plain": [
       "p    False\n",
       "q     True\n",
       "r    False\n",
       "s     True\n",
       "t    False\n",
       "u     True\n",
       "v    False\n",
       "w     True\n",
       "Name: C, dtype: bool"
      ]
     },
     "execution_count": 381,
     "metadata": {},
     "output_type": "execute_result"
    }
   ],
   "source": [
    "df['C']<50"
   ]
  },
  {
   "cell_type": "code",
   "execution_count": 385,
   "id": "258dc424",
   "metadata": {},
   "outputs": [
    {
     "data": {
      "text/plain": [
       "array([[64, 44, 51, 14, 74],\n",
       "       [27, 58, 16, 81, 18],\n",
       "       [71, 84, 65, 66, 73],\n",
       "       [22, 69, 46, 82, 82],\n",
       "       [72, 86, 99, 26, 69],\n",
       "       [35, 47, 21, 27, 93],\n",
       "       [11, 25, 53, 56, 21],\n",
       "       [57, 75, 19, 63, 28]])"
      ]
     },
     "execution_count": 385,
     "metadata": {},
     "output_type": "execute_result"
    }
   ],
   "source": [
    "df.values"
   ]
  },
  {
   "cell_type": "code",
   "execution_count": null,
   "id": "4389ef80",
   "metadata": {},
   "outputs": [],
   "source": []
  },
  {
   "cell_type": "code",
   "execution_count": 386,
   "id": "3f6fa7d8",
   "metadata": {},
   "outputs": [],
   "source": [
    "# iris data"
   ]
  },
  {
   "cell_type": "code",
   "execution_count": 389,
   "id": "ea997a00",
   "metadata": {},
   "outputs": [
    {
     "name": "stdout",
     "output_type": "stream",
     "text": [
      " Volume in drive C is OS\n",
      " Volume Serial Number is 0CC1-C20F\n",
      "\n",
      " Directory of C:\\Users\\skme2\\Downloads\n",
      "\n",
      "14-09-2023  23:32    <DIR>          .\n",
      "04-09-2023  00:15    <DIR>          ..\n",
      "14-09-2023  21:43    <DIR>          .ipynb_checkpoints\n",
      "02-11-2022  15:49           410,816 0211resume.pdf\n",
      "03-09-2023  14:20            54,756 03_09_1_pm_Functions.ipynb\n",
      "20-03-2023  16:51           118,844 04_06.ipynb\n",
      "05-08-2023  17:33       144,122,096 05_08_1PM.zip\n",
      "05-08-2023  17:32            28,266 05_08_firoj_tapan.ipynb\n",
      "08-04-2023  17:46             6,413 08_04_2023_window functions__damini_04_06.sql\n",
      "08-05-2023  17:43           453,229 08_05_power bi.pbix\n",
      "08-11-2022  11:41           412,631 08novresume.pdf\n",
      "09-04-2023  17:37             2,262 09_damini stored_processor.sql\n",
      "08-10-2022  12:44               582 1.0.5\n",
      "11-04-2023  14:25       279,467,547 10_04_2023.mp4\n",
      "16-09-2022  19:48         7,070,153 100-Business-English-Expressions.pdf\n",
      "23-09-2022  08:41         1,139,062 101-Essays-That-Will-Change-The-Way-You-Think_.pdf\n",
      "03-01-2023  14:28    <DIR>          1071244354_9761672683050\n",
      "03-01-2023  14:23            27,403 1071244354_9761672683050.rar\n",
      "14-12-2022  23:53    <DIR>          1081876154_needhelp\n",
      "14-12-2022  23:49        16,781,691 1081876154_needhelp.zip\n",
      "03-04-2023  15:02    <DIR>          10thAprilDeploymentSteps-20230403T093128Z-001\n",
      "09-06-2023  23:28    <DIR>          10thAprilDeploymentSteps-20230609T175740Z-001\n",
      "09-06-2023  23:27         1,879,584 10thAprilDeploymentSteps-20230609T175740Z-001.zip\n",
      "31-03-2023  17:05    <DIR>          10thOctBA-20230331T112251Z-001\n",
      "02-05-2023  23:02    <DIR>          10thOctBA-20230502T173034Z-001\n",
      "02-05-2023  23:00         4,290,115 10thOctBA-20230502T173034Z-001.zip\n",
      "19-03-2023  14:58           136,129 11_03_2023_Saurabh .ipynb\n",
      "01-04-2023  14:11             7,548 11_04_matplotlib.ipynb\n",
      "04-07-2023  12:00            16,100 11AM_04_07.ipynb\n",
      "07-01-2023  11:15           251,753 1215725943_2151672927494.rar\n",
      "12-12-2022  21:33             3,972 1236247724_attach-file-1670846640142.zip\n",
      "03-01-2023  15:27            94,784 1257579810_9101672689580.xlsx\n",
      "03-01-2023  15:27            94,784 1277482325_7351672689456.xlsx\n",
      "05-03-2023  17:24    <DIR>          12thSep-20230305T115045Z-001\n",
      "05-03-2023  17:21         1,800,263 12thSep-20230305T115045Z-001.zip\n",
      "03-01-2023  15:27            94,784 132808084_2671672689536.xlsx\n",
      "03-01-2023  15:29            68,516 1346113162_attach-file-1672689878840.xlsx\n",
      "14-03-2023  09:44                63 14_textfile.txt\n",
      "06-01-2023  08:59         4,894,621 1472359526_2145622_1839731_6302138.docx.pdf\n",
      "07-01-2023  11:15            40,869 1622747648_4091673022377.PNG\n",
      "16-06-2022  12:41           821,305 1655303783088.pdf\n",
      "16-06-2022  12:42           805,584 1655361164152.pdf\n",
      "24-06-2022  11:57         1,554,236 1655729738530.pdf\n",
      "22-06-2022  11:00         2,858,697 1655808683836.pdf\n",
      "22-06-2022  10:01           474,528 1655817362570.pdf\n",
      "31-07-2022  23:27           194,662 1659268223394.pdf\n",
      "01-08-2022  12:03           202,563 1659327300591.pdf\n",
      "19-08-2022  11:56            95,777 1660554784534.pdf\n",
      "31-08-2022  14:56            76,256 1660633425891.pdf\n",
      "20-08-2022  13:03           278,174 1660706504763.pdf\n",
      "18-08-2022  12:25         2,285,675 1660796239124.pdf\n",
      "20-08-2022  13:03           290,834 1660964997593.pdf\n",
      "28-08-2022  23:57            84,072 1661491570743.pdf\n",
      "03-09-2022  11:57        24,347,918 1662176194924.pdf\n",
      "11-09-2022  19:15         3,089,241 1662895783938.pdf\n",
      "16-10-2022  19:04            25,278 1665927254292T5LGVZEqHRtY18DM.pdf\n",
      "02-11-2022  15:29         1,348,909 1667367903949.pdf\n",
      "24-03-2023  20:17           346,341 1679666303576.pdf\n",
      "24-11-2022  10:04           245,499 1733335575_2126730_1816551_6245808.docx.pdf\n",
      "08-10-2022  23:14    <DIR>          18.3.Plotly.7z (Unzipped Files)-20221008T174315Z-001\n",
      "08-10-2022  23:13         4,688,447 18.3.Plotly.7z (Unzipped Files)-20221008T174315Z-001.zip\n",
      "10-10-2022  16:40         2,879,041 18_4_Cufflinks_checkpoint.ipynb\n",
      "24-11-2022  15:10           243,853 1813334027_2126730_1817076_6247183.docx.pdf\n",
      "07-01-2023  12:30         4,890,890 1835446948_Updated_solution_06012023.docx.pdf\n",
      "03-01-2023  14:32    <DIR>          1867855190_9251672678839\n",
      "03-01-2023  14:23            47,736 1867855190_9251672678839.rar\n",
      "03-01-2023  15:24            17,779 1900425184_attach-file-16726896538021.docx\n",
      "03-01-2023  15:27            94,784 1925709743_4951672689567.xlsx\n",
      "07-01-2023  16:26            30,201 1964090971_attach-file-1672220444499.docx\n",
      "03-01-2023  15:29            63,488 1976883288_attach-file-1672689879136.doc\n",
      "29-09-2022  05:57         5,227,782 1-deep learning (1).pdf\n",
      "18-08-2022  17:45         5,227,782 1-deep learning.pdf\n",
      "19-07-2022  21:09         5,812,051 1-Simple Linearregression.pdf\n",
      "07-10-2022  21:35           694,907 1st Oct Data Science industry(3-Git ).pdf\n",
      "10-03-2023  16:06        26,300,953 1st Oct FSDA-20230310T103630Z-001.zip\n",
      "08-01-2023  13:06            31,186 2009659.docx\n",
      "03-01-2023  14:23            41,767 2049695533_1501672678817.PNG\n",
      "03-01-2023  20:53         2,991,850 2050840287_6571672736572.rar\n",
      "30-11-2022  10:51    <DIR>          2057936858_1521669747194\n",
      "25-11-2022  20:59           282,615 2064437649_6111669265346 (1).xlsx\n",
      "25-11-2022  12:53           282,615 2064437649_6111669265346.xlsx\n",
      "21-03-2023  13:56             5,943 21_03_ruda_utkarsh.sql\n",
      "26-11-2022  17:43           207,304 2119999.zip\n",
      "24-11-2022  10:30    <DIR>          2126730\n",
      "16-09-2022  19:46         1,477,146 2127.pdf\n",
      "26-11-2022  17:34    <DIR>          2127053\n",
      "26-11-2022  17:25        10,955,424 2127053 (2).zip\n",
      "24-11-2022  12:41           154,637 2127053.zip\n",
      "28-02-2023  15:05    <DIR>          2129919\n",
      "29-11-2022  16:40         9,059,733 2129919.zip\n",
      "03-07-2022  11:53    <DIR>          21stMay-20220702T055745Z-001\n",
      "30-07-2023  16:12         6,863,802 21stMay-20220702T055745Z-001.zip\n",
      "24-04-2023  13:01           375,712 22b01038ed616ac43165687bedaaee45ee8fbebc93c75e197f48c529c415222e-2023-04-24-07-31-10.zip\n",
      "30-08-2023  20:49           114,114 22b01038ed616ac43165687bedaaee45ee8fbebc93c75e197f48c529c415222e-2023-08-30-15-19-02.zip\n",
      "07-09-2023  10:31    <DIR>          22b01038ed616ac43165687bedaaee45ee8fbebc93c75e197f48c529c415222e-2023-09-07-05-00-53\n",
      "07-09-2023  10:31           132,147 22b01038ed616ac43165687bedaaee45ee8fbebc93c75e197f48c529c415222e-2023-09-07-05-00-53.zip\n",
      "03-07-2022  11:53    <DIR>          22ndmay-20220702T055801Z-001\n",
      "10-09-2022  23:12    <DIR>          23. Django-20220910T174146Z-001\n",
      "10-09-2022  23:12           635,343 23. Django-20220910T174146Z-001.zip\n",
      "25-12-2022  23:08           402,470 25resume.pdf\n",
      "07-10-2022  21:35         2,513,681 25th Sept Industry ready 1-DS Project Flow.pdf\n",
      "26-11-2022  17:58             9,280 26-11-2022.png\n",
      "28-07-2023  21:29            24,900 28.ipynb\n",
      "29-11-2022  14:00            12,498 28-11-2022.png\n",
      "03-07-2022  11:53    <DIR>          28thmay-20220702T055846Z-001\n",
      "09-02-2023  12:22           401,917 29resumefinal (1).pdf\n",
      "09-02-2023  12:28           401,917 29resumefinal (2).pdf\n",
      "09-02-2023  19:44           401,917 29resumefinal (3).pdf\n",
      "12-02-2023  12:00           401,917 29resumefinal (4).pdf\n",
      "29-01-2023  20:16           401,917 29resumefinal.pdf\n",
      "03-07-2022  11:53    <DIR>          29thMay-20220702T055900Z-001\n",
      "29-09-2022  05:58         4,936,410 2-Deep Learning-Activation Function,Loss Function,vanishing gradient problems.pdf\n",
      "19-07-2022  22:15         6,177,864 2-RidgeLassoelasticLogistic.pdf\n",
      "29-09-2022  06:00         3,811,002 3- Deep Learning optimizers.pdf\n",
      "31-05-2023  16:29            53,051 30 May.rar\n",
      "30-07-2023  15:18            23,986 30_07_firoj_tapan.ipynb\n",
      "31-12-2022  22:15           310,589 31december-2022_production.png\n",
      "03-01-2023  12:54         1,021,563 322231446_2145949_1838688_6299658.docx.pdf\n",
      "16-12-2022  09:38         1,088,545 3494407_924284817_5221671127587.pdf\n",
      "20-07-2022  20:30         4,476,715 3-NaiveBayes&KNN (1).pdf\n",
      "06-01-2023  13:43    <DIR>          4000_2145811\n",
      "29-12-2022  13:04             1,014 486285524_report.PNG\n",
      "06-08-2022  20:04            46,783 48d054d7-9ca9-41a2-af20-6da22f7b1687.pdf\n",
      "26-11-2022  09:50           371,264 57-Full Manuscript-303-1-10-20210101.pdf\n",
      "05-09-2023  16:16           115,254 5-sep-23..Matplotlib.ipynb\n",
      "03-07-2022  11:53    <DIR>          5thJune-20220702T060018Z-001\n",
      "07-01-2023  11:15            40,869 610424553_8661673022502.PNG\n",
      "03-01-2023  15:26            94,784 611890008_attach-file-1672689653245.xlsx\n",
      "08-01-2023  13:05            32,708 6174694_2019475483_ITSecurityofAssetsAuditReport.docx\n",
      "08-01-2023  13:05            52,373 6174695_773413174_answersheet.docx\n",
      "30-11-2022  10:10    <DIR>          6202146_557902306_1711667066232\n",
      "30-11-2022  10:08         4,336,189 6202146_557902306_1711667066232.zip\n",
      "29-11-2022  17:08           192,888 6213366_724256128_8881667618211.pdf\n",
      "29-11-2022  17:08           192,888 6213367_42476707_7311667618413.pdf\n",
      "25-11-2022  10:06           319,905 6214359_1000821664_ISYS40251DerivingBusinessValue (1).docx\n",
      "08-01-2023  13:04           319,905 6214359_1000821664_ISYS40251DerivingBusinessValue (2).docx\n",
      "15-11-2022  21:58           319,905 6214359_1000821664_ISYS40251DerivingBusinessValue.docx\n",
      "19-11-2022  20:37            17,603 6226585_977810161_ForecastingProjectFall20221 (1).docx\n",
      "26-11-2022  17:33            20,243 6226585_977810161_ForecastingProjectFall20221 (2).docx\n",
      "19-11-2022  20:03            17,603 6226585_977810161_ForecastingProjectFall20221.docx\n",
      "26-11-2022  18:03           178,331 6227997_804850198_4311668368487 (1).pdf\n",
      "25-11-2022  20:54           178,331 6227997_804850198_4311668368487.pdf\n",
      "15-11-2022  21:59           376,297 6228599_713001643_606D817C-0AE9-4AF8-9679-8AC576.jpeg\n",
      "24-11-2022  10:35           169,788 6244932_594254105_lab3.pdf\n",
      "24-11-2022  16:13            63,116 6246945_1997681302_1571669247673 (1).docx\n",
      "24-11-2022  10:33            63,116 6246945_1997681302_1571669247673.docx\n",
      "25-11-2022  10:01           172,719 6248251_1610762773_5221669311232.pdf\n",
      "26-11-2022  12:02            27,462 6248737_15177946_AssignmentRoverPart2.docx\n",
      "29-11-2022  17:18           156,402 6253046_1015605848_Rawdata-assignment-20221116.zip\n",
      "29-11-2022  10:49           187,004 6255566_1848008959_6871669689685 (1).rar\n",
      "29-11-2022  10:49           187,004 6255566_1848008959_6871669689685.rar\n",
      "30-11-2022  10:16            34,337 6256887_1144032372_4721669744820.docx\n",
      "30-11-2022  10:31            17,680 6256973_658864227_3561669747930.docx\n",
      "02-12-2022  09:40    <DIR>          6257614_970114486_CMSC733Assignment5\n",
      "02-12-2022  09:37            40,181 6257614_970114486_CMSC733Assignment5.zip\n",
      "02-01-2023  16:47           153,635 6284500_324218519_4231671106208 (1).pdf\n",
      "02-01-2023  16:46           153,635 6284500_324218519_4231671106208.pdf\n",
      "29-12-2022  12:08            14,023 6293639_1144537252_task3.docx\n",
      "29-12-2022  17:33           232,403 6296326_1215288445_9411672312163.pdf\n",
      "29-12-2022  17:30            57,383 6296343_971359209_6011672312673 (1).docx\n",
      "29-12-2022  17:34            57,383 6296343_971359209_6011672312673 (2).docx\n",
      "06-01-2023  14:04            57,383 6296343_971359209_6011672312673 (3).docx\n",
      "29-12-2022  17:15            57,383 6296343_971359209_6011672312673.docx\n",
      "30-12-2022  18:05             4,998 6297173_1069742042_9271672401337 (1).rar\n",
      "30-12-2022  18:04             4,998 6297173_1069742042_9271672401337.rar\n",
      "30-12-2022  18:07             3,000 6297175_1552145183_2901672401396.rar\n",
      "02-01-2023  17:05            26,914 6298281_303235459_62978852120552226SCI442Coursew (1).docx\n",
      "03-01-2023  12:07            26,914 6298281_303235459_62978852120552226SCI442Coursew (2).docx\n",
      "02-01-2023  16:56            26,914 6298281_303235459_62978852120552226SCI442Coursew.docx\n",
      "03-01-2023  14:01           143,842 6299068_948091880_5831672665101.png\n",
      "03-01-2023  14:01           354,285 6299069_207794875_6801672665102.pdf\n",
      "03-01-2023  15:32            13,303 6299357_465611549_7671672685975.docx\n",
      "03-01-2023  15:32         5,057,999 6299358_68953781_8531672685976.xlsx\n",
      "03-01-2023  15:32        50,512,925 6299359_1675536243_3811672685978.xlsx\n",
      "03-01-2023  15:23            94,784 6299371_175633961_6431672687293.xlsx\n",
      "03-01-2023  20:50            22,089 6299849_410794984_5291672744220.docx\n",
      "03-01-2023  20:52           581,082 6299990_898942029_6041672751306.pdf\n",
      "05-01-2023  16:37           239,959 6301385_1625681581_2191672881498.pdf\n",
      "07-01-2023  16:25           261,717 6301425_1448130059_7801672890194.docx\n",
      "07-01-2023  16:25           212,207 6301426_654502130_9391672890196.docx\n",
      "07-01-2023  16:23       201,617,580 6301722_238167626_4761672913933 (1).docx\n",
      "05-01-2023  22:18       201,617,580 6301722_238167626_4761672913933.docx\n",
      "07-01-2023  16:18           168,819 6303202_1793967889_8071673025731.gif\n",
      "07-01-2023  16:18           179,000 6303203_1296589249_8851673025731.gif\n",
      "07-01-2023  16:17           208,620 6303204_300042897_4791673025732.gif\n",
      "07-01-2023  16:17           178,322 6303206_1885821677_5561673025733.gif\n",
      "07-01-2023  15:18           231,559 6303420_654443766_5141673049427.pdf\n",
      "03-09-2022  11:53           543,608 6a2d2d74-fd47-4c8e-9305-83c33f35b46f.pdf\n",
      "03-01-2023  20:53         2,991,850 719257568_2871672743580.rar\n",
      "07-01-2023  12:31        37,137,379 881577687_marketing_campaign.csv.pdf\n",
      "02-07-2022  11:30         7,136,886 8-Gradientboosting-kmeanshierarichal.pdf\n",
      "29-06-2022  17:02         6,328,057 8thJanStats3.pdf\n",
      "29-06-2022  17:02         6,662,750 9thJanStats4.pdf\n",
      "06-06-2023  13:31            54,013 abc.pdf\n",
      "10-06-2023  13:49           261,128 Account_Statement_100323_090623.pdf\n",
      "10-06-2023  13:52           282,455 Account_Statement_3month.pdf\n",
      "10-06-2023  13:50           261,128 Account_Statement_last3month.pdf\n",
      "29-09-2022  05:59         3,253,779 activation function.zip\n",
      "12-10-2022  21:35            21,390 Advanced+Excel+Analytics+in+Excel.xlsx\n",
      "27-10-2022  13:15            61,223 AI ENGINEER MATRIX.xlsx\n",
      "16-07-2023  14:46         3,999,366 airbanb.pdf\n",
      "31-03-2023  18:45             1,746 AirPassengers.csv\n",
      "08-01-2023  13:06            28,742 annotated bibliography.docx\n",
      "04-08-2022  21:13           510,875 aPI.pdf\n",
      "29-09-2022  06:11         1,416,716 Apple+quarterly+balance+sheet.pdf\n",
      "29-09-2022  06:11         1,429,366 Apple+quarterly+balance+sheet+1.pdf\n",
      "10-06-2023  13:53           427,017 Apr'23 (1).pdf\n",
      "08-06-2023  09:39           427,017 Apr'23.pdf\n",
      "02-09-2022  17:49    <DIR>          archive\n",
      "03-09-2022  13:06    <DIR>          archive (1)\n",
      "03-09-2022  13:05           641,269 archive (1).zip\n",
      "02-09-2022  17:48         5,732,543 archive.zip\n",
      "12-12-2022  15:08           524,200 AReM.zip\n",
      "10-03-2023  18:49         1,103,184 arnaud-jaegers-Al7IoQ74-LU-unsplash.jpg\n",
      "12-03-2023  14:33    <DIR>          asd.py\n",
      "31-05-2023  17:05                89 asdf.txt\n",
      "10-03-2023  21:49    <DIR>          ASSIGNMENT\n",
      "29-09-2022  19:54        10,401,953 assignment (2) (2).xlsx\n",
      "30-07-2022  22:27           104,846 atlassian-git-cheatsheet.pdf\n",
      "19-04-2023  09:58    <DIR>          AWS\n",
      "07-06-2023  11:22           579,043 bank.zip\n",
      "07-06-2023  11:22           444,572 bank-additional.zip\n",
      "23-01-2023  22:29           391,059 bas_resume23.pdf\n",
      "08-01-2023  13:06            15,587 Basics.docx\n",
      "01-12-2022  16:05    <DIR>          Big_Data_Analytics_UZH-master\n",
      "01-12-2022  16:04           744,774 Big_Data_Analytics_UZH-master.zip\n",
      "17-12-2022  13:54    <DIR>          book_rating_prediction\n",
      "17-12-2022  14:45       101,781,720 book_rating_prediction17.zip\n",
      "27-01-2023  11:24            17,462 Book1.xlsx\n",
      "17-12-2022  13:44    <DIR>          bookprediction\n",
      "16-12-2022  13:22         1,032,922 books_model.pkl\n",
      "16-12-2022  14:01         1,346,128 bostonhousepricing-main.zip\n",
      "27-06-2023  20:36    <DIR>          BUSINESS\n",
      "27-06-2023  21:32        97,291,742 BUSINESS (2).zip\n",
      "25-06-2023  14:14        97,109,862 BUSINESS.zip\n",
      "23-03-2023  19:56           555,360 c76bb6b8-8d0d-42ca-8438-976e438247bf.pdf\n",
      "04-07-2023  12:14            53,593 car_evaluation.csv\n",
      "07-10-2022  17:33            26,717 CarPrice_Assignment.csv\n",
      "07-01-2023  13:24    <DIR>          case notes\n",
      "16-10-2022  12:44           808,213 CCI02252019_0005.jpg\n",
      "16-10-2022  12:46           706,992 CCI02252019_0005-min.jpg\n",
      "16-10-2022  12:48           655,726 CCI02252019_0005-minedi.jpg\n",
      "27-04-2023  11:19             5,132 chatgpt.jpeg\n",
      "03-04-2023  15:51    <DIR>          chromedriver_win32\n",
      "09-06-2023  21:49    <DIR>          chromedriver_win32 (1)\n",
      "09-06-2023  21:47         6,603,303 chromedriver_win32 (1).zip\n",
      "03-04-2023  15:51         7,117,143 chromedriver_win32.zip\n",
      "14-04-2023  15:23                57 Class schedule.csv\n",
      "14-04-2023  15:14            25,600 Class schedule.xls\n",
      "27-09-2022  15:06    <DIR>          Class_notebooks-20220927T091839Z-001\n",
      "27-09-2022  14:49         3,661,484 Class_notebooks-20220927T091839Z-001.zip\n",
      "22-04-2023  16:39             3,516 cleaneddata (1).csv\n",
      "22-04-2023  16:38             4,007 cleaneddata.csv\n",
      "29-05-2023  14:39    <DIR>          code\n",
      "29-05-2023  12:43        42,822,011 code.zip\n",
      "08-06-2023  09:42         1,282,675 combinepdf.pdf\n",
      "12-03-2023  14:34    <DIR>          computer vision\n",
      "10-09-2023  22:53                 0 computer.txt\n",
      "03-09-2022  17:55           299,120 conda-cheatsheet (1).pdf\n",
      "05-06-2023  12:14           299,120 conda-cheatsheet (2).pdf\n",
      "03-09-2022  17:55           787,695 conda-cheatsheet.pdf\n",
      "29-01-2023  13:56             1,083 Configuration.xml\n",
      "01-08-2022  14:05         2,434,564 Crop Recommendation System Project.pdf\n",
      "20-04-2023  20:42         3,014,476 Customer Profitability Sample PBIX.pbix\n",
      "20-04-2023  20:43         2,906,427 Customer Profitability Sample-no-PV.xlsx\n",
      "25-05-2023  14:03    <DIR>          cv2\n",
      "24-09-2022  21:51    <DIR>          Data\n",
      "07-10-2022  17:17            14,884 Data Dictionary - carprices.xlsx\n",
      "24-09-2022  21:50           709,466 Data.zip\n",
      "10-09-2023  22:50                 0 data10.txt\n",
      "13-03-2023  11:52           379,397 data-analytics iamge.html\n",
      "12-10-2022  17:54    <DIR>          database.sqlite\n",
      "18-03-2023  11:34       133,811,040 database.sqlite.zip\n",
      "31-07-2022  18:17       372,798,464 database1.sqlite\n",
      "12-10-2022  17:46                 0 database5.sqlite\n",
      "22-04-2023  16:43             8,347 dataexcel (1).xlsx\n",
      "22-04-2023  16:42             9,286 dataexcel.xlsx\n",
      "13-09-2022  21:40        24,741,696 dataset (1).rar\n"
     ]
    },
    {
     "name": "stdout",
     "output_type": "stream",
     "text": [
      "02-01-2023  15:48            28,209 dataset issue.png\n",
      "13-09-2022  21:39        24,741,696 dataset.rar\n",
      "27-04-2023  16:32    <DIR>          data-society-global-terrorism-data\n",
      "31-03-2023  20:14           118,690 Dax 2.pbix\n",
      "31-03-2023  18:08           430,086 DAX.pbix\n",
      "11-10-2022  13:38         2,493,152 Day04-Docker-20221011T080805Z-001.zip\n",
      "07-01-2023  13:33            31,303 ddddddWRrrrrrrr.png\n",
      "05-08-2022  11:46         1,569,899 Deep learning (2).pdf\n",
      "01-08-2022  14:05           378,488 Deep Learning.pdf\n",
      "06-12-2022  14:50    <DIR>          Deployement\n",
      "27-09-2022  18:35    <DIR>          Diabetes-prediction-project-main\n",
      "27-09-2022  18:35         1,576,224 Diabetes-prediction-project-main.zip\n",
      "27-09-2022  18:34           510,271 diabetes-prediction-rfc-model.pkl\n",
      "16-07-2023  14:46           970,487 diamond price.pdf\n",
      "08-01-2023  13:06           546,634 Dissertation.pptx\n",
      "09-09-2022  21:49    <DIR>          Django-Socialauth-master\n",
      "09-09-2022  21:49           146,954 Django-Socialauth-master.zip\n",
      "11-10-2022  12:49    <DIR>          DL_Tensor_Flow.7z (Unzipped Files)-20221011T071416Z-001\n",
      "11-10-2022  12:44            15,979 DL_Tensor_Flow.7z (Unzipped Files)-20221011T071416Z-001.zip\n",
      "27-09-2022  15:06    <DIR>          DL1-20220927T091704Z-001\n",
      "27-09-2022  14:47           134,638 DL1-20220927T091704Z-001.zip\n",
      "23-09-2022  12:45       548,820,824 Docker Desktop Installer.exe\n",
      "03-09-2022  19:23           143,755 docker-cheat-sheet.pdf\n",
      "21-04-2023  21:32    <DIR>          Docker-For-Data-Science-main\n",
      "21-04-2023  21:32         1,987,474 Docker-For-Data-Science-main.zip\n",
      "08-01-2023  13:06           973,700 document.pdf\n",
      "04-11-2022  15:52         4,447,549 DOCUMENTS FOR GLOBAL LOGIC.pdf\n",
      "04-11-2022  15:53         4,446,281 DOCUMENTS FOR GLOBAL LOGIC-1-11.pdf\n",
      "04-11-2022  15:26         4,970,179 Documents_samatrix.zip\n",
      "11-06-2023  15:05             7,255 dog_image_11.jpeg\n",
      "08-05-2023  16:46             5,712 dogimage.jpeg\n",
      "03-01-2023  16:24            33,894 DWRRRRRRR03012023.png\n",
      "29-12-2022  18:29            28,405 dwrrrrrrrrrrrr29122022.png\n",
      "01-04-2023  10:01    <DIR>          EDA\n",
      "16-10-2022  19:11             4,363 Email_OTP_RU380328.pdf\n",
      "29-09-2022  06:11            20,859 employee_ctc_pdf_load_solved.xlsx\n",
      "29-09-2022  06:12           203,553 Employee+data.pdf\n",
      "14-07-2023  20:37            59,175 employees.csv\n",
      "31-08-2022  20:11    <DIR>          End-to-End-Diabetes-Prediction-Application-Using-Machine-Learning-master\n",
      "08-01-2023  13:06            18,508 Essay template.docx\n",
      "03-11-2022  13:04                63 Example.txt\n",
      "03-06-2023  13:10                 0 example03.txt\n",
      "10-09-2023  23:26               245 example10.txt\n",
      "22-05-2023  17:04    <DIR>          Excel\n",
      "19-08-2022  14:20         1,513,112 Excel Analyticxs.pdf\n",
      "31-05-2023  11:23    <DIR>          Excel_Notes\n",
      "22-05-2023  17:04        52,764,710 Excel_Notes.zip\n",
      "24-09-2022  22:50    <DIR>          Exercise\n",
      "24-09-2022  21:52        24,431,113 Exercise.zip\n",
      "22-03-2023  13:29    <DIR>          export_data\n",
      "22-03-2023  13:30           166,341 export_data (1)\n",
      "05-06-2023  10:32        13,091,720 F&B Sales -20230605T050228Z-001.zip\n",
      "19-08-2022  13:38               230 Fabionacci.py\n",
      "27-04-2023  11:18             3,717 Facebook.jpeg\n",
      "10-06-2023  13:53           428,601 Feb'23 (1).pdf\n",
      "08-06-2023  09:39           428,601 Feb'23.pdf\n",
      "16-09-2022  19:48        14,064,278 FifteenThousandUsefulPhrases_10777354.pdf\n",
      "14-10-2022  14:06    <DIR>          fig_code\n",
      "21-02-2023  13:56            22,016 file_example_XLS_10.xls\n",
      "20-11-2022  08:12           189,963 Final Solution.xlsx\n",
      "19-03-2023  13:15             1,709 final_data.csv\n",
      "27-02-2023  13:56             8,949 final_file.xlsx\n",
      "19-04-2023  13:26           414,671 Final_updated_resume19.pdf\n",
      "14-10-2022  10:50             1,417 finalised_kmeans_model.sav\n",
      "13-01-2023  22:01             1,613 finalized_model.pickle\n",
      "14-10-2022  23:45             3,856 finalized_model1456.pickle\n",
      "23-01-2023  15:22           401,602 finalresume2301.pdf\n",
      "27-01-2023  11:45           394,597 finalteleresume.pdf\n",
      "07-06-2023  11:19           392,434 Financial Analytics.pdf\n",
      "09-10-2022  22:15         3,663,063 firstfigure.html\n",
      "06-05-2023  17:13    <DIR>          Flask\n",
      "05-06-2023  11:28    <DIR>          Flask (1)\n",
      "05-06-2023  11:24           716,535 Flask (1).zip\n",
      "06-05-2023  17:10           716,535 Flask.zip\n",
      "06-09-2022  06:08    <DIR>          flask_demo-20220905T235450Z-001\n",
      "06-09-2022  05:25             7,623 flask_demo-20220905T235450Z-001.zip\n",
      "06-09-2022  15:06    <DIR>          Flaskpractice\n",
      "31-12-2022  20:31       101,827,904 flickr_logos_27_dataset.tar.gz\n",
      "05-09-2022  15:06    <DIR>          Flight-Price-Prediction-master\n",
      "12-12-2022  14:10       200,911,530 flights.zip\n",
      "27-02-2023  13:59            25,478 forestfires.csv\n",
      "26-01-2023  17:24            16,947 Formatting+data+and+tables.xlsx\n",
      "29-12-2022  17:53           173,585 General instructions (1).pptx\n",
      "08-01-2023  13:06           173,585 General instructions (2).pptx\n",
      "02-12-2022  17:43           173,585 General instructions.pptx\n",
      "25-03-2023  22:12         2,574,273 get-pip.py\n",
      "30-07-2022  22:24        49,381,480 Git-2.37.1-64-bit (1).exe\n",
      "30-07-2022  13:08        49,381,480 Git-2.37.1-64-bit.exe\n",
      "01-10-2022  10:14        49,375,864 Git-2.37.3-64-bit.exe\n",
      "30-07-2022  22:26           100,194 git-cheat-sheet-education.pdf\n",
      "12-09-2022  19:34                29 gog.py\n",
      "27-04-2023  11:18             3,326 Google.png\n",
      "23-11-2022  13:42        14,599,992 GrammarlyInstaller.c000000702OBVqdpuIdS.exe\n",
      "17-06-2023  14:45           489,998 group_photo.jpg\n",
      "19-08-2022  13:40                41 hello.py\n",
      "21-04-2023  23:42    <DIR>          Hello_my_world\n",
      "14-09-2022  13:24                32 helloworld.py\n",
      "01-09-2023  22:02            67,646 home_icon-icons.com_73532.ico\n",
      "13-06-2023  09:27    <DIR>          HR-Dashboard-MySQL-PowerBI-main\n",
      "12-06-2023  12:08         1,462,559 HR-Dashboard-MySQL-PowerBI-main.zip\n",
      "19-05-2023  17:14            17,981 i5.jpg\n",
      "11-10-2022  22:35           720,864 ib sig 2021.jpg\n",
      "08-06-2023  12:00           308,099 ilovepdf_merged.pdf\n",
      "17-06-2023  16:03            54,610 img1.jpg\n",
      "17-06-2023  16:03            52,849 img2.jpg\n",
      "17-06-2023  16:03            48,395 img3.jpg\n",
      "17-06-2023  16:03            41,330 img4.jpg\n",
      "17-06-2023  16:04            96,862 img5.jpeg.jpg\n",
      "13-12-2022  12:01               105 Index\n",
      "26-01-2023  22:50            22,730 Indirect+Function.xlsx\n",
      "05-06-2023  10:46    <DIR>          iNeuron_FSDA-main-20230605T051534Z-001\n",
      "05-06-2023  10:46        12,630,373 iNeuron_FSDA-main-20230605T051534Z-001.zip\n",
      "12-06-2023  10:05    <DIR>          iNeuron_FSDA-main-20230612T042137Z-001\n",
      "12-06-2023  10:04        12,630,373 iNeuron_FSDA-main-20230612T042137Z-001.zip\n",
      "10-03-2023  20:15    <DIR>          iNeuron-Full-Stack-Data-Science-Assignments-main\n",
      "10-03-2023  20:12       144,869,666 iNeuron-Full-Stack-Data-Science-Assignments-main.zip\n",
      "19-08-2022  17:17                29 infile.py\n",
      "18-08-2022  22:59            73,216 inter.jfif\n",
      "10-08-2022  20:13           277,130 Internship Certificate internship certi.pdf\n",
      "13-09-2022  21:58         1,160,337 introduction.pptx\n",
      "28-10-2022  12:49             4,633 invite.ics\n",
      "23-06-2023  20:39             3,858 iris.csv\n",
      "25-02-2023  13:12             2,998 iris.names\n",
      "30-07-2023  11:16             3,858 iris30.csv\n",
      "27-10-2022  13:15            13,275 JD AI ENGINEER.docx\n",
      "05-09-2022  17:49           644,465 JD Python Developer Speech  - Ozonetel - Sudhamay Maity.pdf\n",
      "15-04-2023  12:11               947 JioMeet Invite.ics\n",
      "16-09-2022  19:47           447,946 Job-Interviews-In-English_Series-One-Pack.pdf\n",
      "16-09-2022  19:44           582,510 KEY_PHRASES_FOR_INTERVIEWS.pdf\n",
      "20-09-2022  19:22         6,631,527 KMS_Pico_Full_Setup.zip\n",
      "03-12-2022  14:38         1,480,659 konect-handbook (1).pdf\n",
      "03-12-2022  14:05         1,480,659 konect-handbook.pdf\n",
      "08-10-2022  14:55    <DIR>          latestversion\n",
      "26-01-2023  22:51            11,907 Lecture_Maps_Unsolved.xlsx\n",
      "06-11-2022  21:22         2,014,901 Linear Regression on Algerian Forest Fire Dataset.pdf\n",
      "25-10-2022  21:51         1,574,096 Linear_Regression_Task.pdf\n",
      "16-07-2023  15:28    <DIR>          Linear-Regression-Prediction-Project-Part-1-master\n",
      "16-07-2023  14:58            46,173 Linear-Regression-Prediction-Project-Part-1-master.zip\n",
      "23-09-2022  14:12           412,306 Linkresume.pdf\n",
      "07-10-2022  12:34           469,423 Linuc commands.pdf\n",
      "25-08-2022  11:13           469,423 Linux commands.pdf\n",
      "30-07-2023  16:11    <DIR>          Logistic-Regression-master\n",
      "30-07-2023  16:10             4,872 Logistic-Regression-master.zip\n",
      "20-04-2023  16:24               440 loss.txt\n",
      "16-04-2023  10:29        21,573,975 Machine Learning Module 1-20230416T045929Z-001.zip\n",
      "19-06-2023  15:27        21,573,975 Machine Learning Module 1-20230619T095712Z-001.zip\n",
      "06-05-2023  10:00        58,202,095 Machine Learning Module 2-20230506T042824Z-001.zip\n",
      "06-05-2023  10:01         6,134,873 Machine Learning Module 3-20230506T043140Z-001.zip\n",
      "06-05-2023  10:00         6,815,512 Machine Learning Module 4-20230506T042949Z-001.zip\n",
      "06-05-2023  10:01        72,129,159 Machine Learning Module 5-20230506T043049Z-001.zip\n",
      "12-03-2023  14:35                 0 machine learning.txt\n",
      "31-08-2022  19:46    <DIR>          Machine-Learning-Projects-master\n",
      "31-08-2022  19:41       122,583,229 Machine-Learning-Projects-master.zip\n",
      "30-07-2023  16:08        59,444,333 Machine-Learning-with-Python-master.zip\n",
      "12-10-2022  21:14            28,246 Macros.xlsm\n",
      "09-02-2023  19:42           402,072 Main_resume.pdf\n",
      "10-06-2023  13:53           427,926 Mar'23 (1).pdf\n",
      "08-06-2023  09:39           427,926 Mar'23.pdf\n",
      "25-03-2023  18:13           465,112 Markov_Chain_project.ipynb\n",
      "26-06-2023  00:41           893,466 matplotlib_revision (1).ipynb\n",
      "26-06-2023  00:24           797,968 matplotlib_revision.ipynb\n",
      "02-07-2023  11:51            57,345 may_salary_bank_statment_unlocked.pdf\n",
      "04-01-2023  16:52            85,263 message section is not availble.png\n",
      "03-12-2022  13:56         1,706,855 metro-trips-2022-q3 (1).zip\n",
      "02-12-2022  17:31         1,706,855 metro-trips-2022-q3.zip\n",
      "06-05-2023  09:10    <DIR>          ML\n",
      "06-08-2023  15:00    <DIR>          ML Notes\n",
      "03-09-2022  14:26         4,115,949 ML NOtes.pdf\n",
      "06-05-2023  09:10        52,847,990 ML Notes.zip\n",
      "23-09-2022  14:34    <DIR>          ML11 4-20220923T083136Z-001\n",
      "08-01-2023  13:05           245,359 mla-referencing-guide.pdf\n",
      "12-02-2023  11:29                 0 mlfile.txt\n",
      "27-04-2023  11:19             6,911 MLimage.jpeg\n",
      "12-09-2022  19:35    <DIR>          mod1\n",
      "14-10-2022  23:09               815 modelForPrediction145.sav\n",
      "23-06-2023  21:37             4,009 modified2306.csv\n",
      "01-05-2023  15:13            10,156 Module 4 - Outline.docx\n",
      "13-03-2023  14:44    <DIR>          Moduls_13\n",
      "02-11-2022  17:33           150,206 Mr. Sanjay Kumar- Employment Offer.pdf\n",
      "01-12-2022  11:24    <DIR>          MushroomDataset\n",
      "01-12-2022  11:20           473,175 MushroomDataset.zip\n",
      "12-06-2023  11:56           173,473 Music_Store_database (1).sql\n",
      "12-06-2023  11:45           173,473 Music_Store_database.sql\n",
      "19-03-2023  13:39    <DIR>          my_cleaned_data\n",
      "20-03-2023  10:36    <DIR>          my_expoted_file\n",
      "26-06-2023  00:07            42,775 my_modified_img.jpg\n",
      "03-11-2022  11:31                96 My_newcustom0311.py\n",
      "25-06-2023  23:48             7,944 my_pic_face.jpg\n",
      "30-04-2023  14:54             8,100 my_pikachu_image.jpg\n",
      "04-06-2023  17:19    <DIR>          my_project\n",
      "16-12-2022  14:02    <DIR>          mybostonhousepricing-main\n",
      "07-10-2022  17:41            27,405 mycsv.csv\n",
      "15-10-2022  19:15    <DIR>          Myenvirement\n",
      "22-03-2023  13:28           147,525 myexported_data.csv\n",
      "08-05-2023  07:20               145 myfile.py\n",
      "03-06-2023  13:13                 0 myfile0306.txt\n",
      "05-06-2023  11:47    <DIR>          myflask_practice\n",
      "23-06-2023  21:39             8,666 myirisexcel.xlsx\n",
      "12-02-2023  12:55               236 mymlfile2023.txt\n",
      "17-09-2022  13:06               219 mymodule.py\n",
      "12-10-2022  13:40    <DIR>          mynlp\n",
      "02-04-2023  14:57             7,923 mypicachuface.jpg\n",
      "24-03-2023  13:46        16,117,760 mysql-connector-net-8.0.32.msi\n",
      "02-03-2023  14:03         2,506,752 mysql-installer-web-community-8.0.32.0 (1).msi\n",
      "04-03-2023  13:27         2,506,752 mysql-installer-web-community-8.0.32.0 (2).msi\n",
      "23-03-2023  16:29         2,506,752 mysql-installer-web-community-8.0.32.0 (3).msi\n",
      "02-03-2023  14:02         2,506,752 mysql-installer-web-community-8.0.32.0.msi\n",
      "16-03-2023  21:31    <DIR>          mysqlsampledatabase\n",
      "22-04-2023  16:59    <DIR>          mysqlsampledatabase (1)\n",
      "22-04-2023  16:58            54,335 mysqlsampledatabase (1).zip\n",
      "16-03-2023  21:31            54,335 mysqlsampledatabase.zip\n",
      "27-02-2023  13:55             4,309 myupdatedfile123.csv\n",
      "30-11-2022  11:49    <DIR>          myZip_s2131748\n",
      "02-01-2023  15:27         2,569,544 myZip_s2145892.zip\n",
      "03-01-2023  12:29    <DIR>          myZip_s2146433\n",
      "03-01-2023  12:28       151,723,886 myZip_s2146433.zip\n",
      "05-01-2023  16:38    <DIR>          myZip_s2147122\n",
      "05-01-2023  16:37           304,892 myZip_s2147122.zip\n",
      "27-01-2023  11:24            17,734 Named+Ranges.xlsx\n",
      "14-11-2022  07:32    <DIR>          NerdyTurtlez\n",
      "14-03-2023  09:42                 0 New Text Document.txt\n",
      "04-11-2022  10:42           411,545 new_link resume (1).pdf\n",
      "15-09-2022  21:22           411,545 new_link resume.pdf\n",
      "24-09-2022  18:39           774,608 new_link resume_page-0001.jpg\n",
      "18-06-2023  14:52            40,904 new_my_image.jpg\n",
      "11-09-2022  11:16    <DIR>          newdjango\n",
      "03-11-2022  14:42                79 newfile.txt\n",
      "12-02-2023  11:24                 0 newfile12022023.txt\n",
      "23-07-2022  12:59               133 newonefile.txt\n",
      "09-06-2023  19:37               256 newtestfile03.txt\n",
      "19-04-2023  14:43           420,626 NewUpdated_resume19.pdf\n",
      "02-01-2023  16:25            22,464 newyearDWR2023.png\n",
      "30-05-2023  15:13    <DIR>          NLP Projectsss\n",
      "30-05-2023  15:06    18,966,330,907 NLP Projectsss.zip\n",
      "16-04-2023  17:06    <DIR>          NLP-20230416T101243Z-001\n",
      "16-04-2023  15:44       534,675,109 NLP-20230416T101243Z-001.zip\n",
      "07-01-2023  13:33    <DIR>          nnerdytutlez\n",
      "16-10-2022  19:11            61,554 noname\n",
      "16-10-2022  19:11            23,770 noname (1)\n",
      "20-09-2022  18:33           170,384 nresume.pdf\n",
      "30-07-2022  11:40           280,866 NUMPY Cheatsheet.pdf\n",
      "29-01-2023  13:59         3,664,056 officedeploymenttool_15928-20216 (1).exe\n",
      "29-01-2023  13:48         3,664,056 officedeploymenttool_15928-20216.exe\n",
      "05-06-2023  10:59         3,674,056 officedeploymenttool_16327-20214.exe\n",
      "02-09-2023  22:52             5,330 One_liners.ipynb\n",
      "08-05-2023  11:44       464,763,552 On-premises data gateway (personal mode).exe\n",
      "13-09-2023  00:23            38,832 OOPs_13.ipynb\n",
      "20-05-2023  12:57         1,399,205 Open_cv_07_05_2023 (1).ipynb\n",
      "20-05-2023  10:57         1,388,571 Open_cv_07_05_2023.ipynb\n",
      "27-07-2022  19:31        10,269,576 opencv_haarcascade_frontalface_default.xml at master ú opencv_opencv.html\n",
      "27-07-2022  19:31    <DIR>          opencv_haarcascade_frontalface_default.xml at master ú opencv_opencv_files\n",
      "07-01-2023  16:10    <DIR>          Orde_rId_2145311_7\n",
      "29-11-2022  16:30         2,531,769 Order_Id_2129919.html\n",
      "14-08-2023  14:05         1,863,231 Order_Id_2129919.ipynb\n",
      "01-12-2022  12:47         2,311,913 Order_Id_2129919_a.pdf\n",
      "29-11-2022  16:30         2,262,677 Order_Id_2129919_final_pdf.pdf\n",
      "05-01-2023  16:02    <DIR>          Order_Id_2145622\n",
      "02-01-2023  16:37         1,372,132 Order_Id_2145721_3100_02012022.html\n",
      "04-01-2023  17:19    <DIR>          Order_Id_2145892_5540\n",
      "03-01-2023  13:21    <DIR>          Order_Id_2145949_1200_maths\n",
      "02-12-2022  18:18           562,344 order_no_2132070.zip\n",
      "19-08-2022  17:21                51 outfile.py\n",
      "24-09-2022  10:20    <DIR>          p1\n",
      "03-09-2022  19:21           118,785 p2.jpeg\n",
      "25-10-2022  21:51           611,052 Pandas Cheat Sheet.pdf\n",
      "06-11-2022  21:37         6,345,977 Pandas Dataframe Complete Cheatsheet.pdf\n",
      "04-07-2023  13:18           296,843 Pandas_12PM_04_07.ipynb\n",
      "14-09-2023  23:32           144,705 Pandas_numpy_revision_14.ipynb\n",
      "01-12-2022  11:51        25,219,072 pandoc-2.19.2-windows-x86_64.msi\n",
      "10-03-2023  16:35       482,003,928 PBIDesktopSetup_x64.exe\n",
      "29-09-2022  06:11            17,654 PDF_import_solved.xlsx\n",
      "16-12-2022  13:41            17,291 penalty grid (1).docx\n",
      "12-12-2022  12:47            17,291 penalty grid.docx\n",
      "15-01-2023  16:06    <DIR>          Phishing-Website-Detection-by-Machine-Learning-Techniques-master\n",
      "15-01-2023  15:59         2,843,304 Phishing-Website-Detection-by-Machine-Learning-Techniques-master.zip\n",
      "18-12-2022  11:25    <DIR>          phising\n",
      "26-04-2023  11:16            63,214 photo-1611003228941-98852ba62227.jpeg\n",
      "16-10-2022  12:06            46,240 pic1.jpg\n",
      "19-09-2022  18:42         1,180,881 Pima_diabetes_Tree.png\n",
      "26-01-2023  22:51           117,644 Pivot+Tables.xlsx\n",
      "19-05-2023  20:59         3,376,352 Plotly and Cufflinks Crash Course.ipynb.zip\n",
      "10-03-2023  19:15    <DIR>          Power Bi\n",
      "23-03-2023  14:51    <DIR>          Power BI Assignment\n",
      "18-05-2023  10:14    <DIR>          Power BI DAX-20230508T020104Z-001\n",
      "08-05-2023  07:31        15,004,554 Power BI DAX-20230508T020104Z-001.zip\n",
      "14-03-2023  09:12    <DIR>          Power BI Material-20230314T034136Z-001\n",
      "14-03-2023  09:12        90,687,244 Power BI Material-20230314T034136Z-001.zip\n",
      "05-06-2023  11:16            20,082 Power_BI_Project.zip\n",
      "17-09-2022  10:41    <DIR>          PowerBi Project-20220917T050125Z-001\n",
      "05-06-2023  10:20    <DIR>          PowerBi Project-20230605T044903Z-001\n",
      "05-06-2023  10:19           216,335 PowerBi Project-20230605T044903Z-001.zip\n",
      "20-04-2023  20:54    <DIR>          Power-BI-raw-data-master\n",
      "20-04-2023  20:54         9,833,575 Power-BI-raw-data-master.zip\n",
      "13-01-2023  16:48    <DIR>          Practice\n",
      "04-08-2023  19:47            30,813 practice day 1.ipynb\n",
      "24-09-2022  21:52    <DIR>          Presentations\n",
      "24-09-2022  21:52         1,317,567 Presentations.zip\n",
      "24-09-2022  16:20    <DIR>          Product-20211124T053757Z-001\n",
      "24-09-2022  16:19        19,548,195 Product-20211124T053757Z-001.zip\n",
      "20-04-2023  11:10                 0 profit.txt\n",
      "29-07-2022  20:09         2,161,950 project discussion.pdf\n",
      "05-09-2022  15:16    <DIR>          Projects\n",
      "03-09-2022  12:31            17,861 Proposal 8 26.docx\n",
      "24-03-2023  15:03       423,849,032 pycharm-community-2022.3.3.exe\n",
      "18-03-2023  15:17    <DIR>          Python Basic Assignment\n",
      "04-04-2023  16:01        24,381,614 Python Programming.zip\n",
      "27-04-2023  11:39             2,842 python.jpeg\n",
      "03-09-2023  00:40        31,830,944 python-3.6.8-amd64 (1).exe\n",
      "14-08-2023  00:59        31,830,944 python-3.6.8-amd64.exe\n",
      "13-03-2023  10:01                85 pythoncustom.py\n",
      "25-02-2023  11:09    <DIR>          python-data-science-mastercourse-main\n",
      "24-03-2023  15:41    <DIR>          python-programming-master-course-main\n",
      "13-03-2023  10:01                57 pythonproject.py\n",
      "20-04-2023  21:09    <DIR>          Python-Tutorial-2022--main\n",
      "20-04-2023  21:08        26,839,563 Python-Tutorial-2022--main.zip\n",
      "11-10-2022  12:47            45,893 PyTorch 1.1.ipynb\n",
      "05-09-2023  01:19            39,989 Question_Practice.ipynb\n",
      "08-01-2023  13:05           109,841 reference-examples.pdf\n",
      "08-01-2023  13:05           225,724 reference-guide.pdf\n",
      "08-01-2023  13:06            16,422 Report and article.docx\n",
      "11-12-2022  20:51        17,759,562 Report_bike_sharing_data.docx\n",
      "08-01-2023  13:07           543,960 research proposal template.pdf\n",
      "08-01-2023  13:04            83,430 research report.docx\n",
      "08-01-2023  13:04            21,086 research report_management.docx\n",
      "02-06-2023  11:09           414,671 resume_nov_27.pdf\n",
      "01-09-2023  17:59           454,759 Resume29_08.pdf\n",
      "05-06-2023  12:57         1,774,288 review scrapper (1).ipynb\n",
      "24-03-2023  15:15         1,766,609 review scrapper.ipynb\n",
      "25-03-2023  15:46           126,011 salary negotiation.jpg\n",
      "22-03-2023  13:32    <DIR>          Sales_data\n",
      "20-04-2023  11:03                 0 salesfile.txt\n",
      "30-08-2022  21:07                56 samplejson.json\n",
      "09-11-2022  12:07           410,816 Sanjay Kumar (1).pdf\n",
      "04-11-2022  15:56           301,712 Sanjay Kumar.pdf\n",
      "27-01-2023  11:45           394,597 Sanjay_Kumar_Machine_Learning_Engineer (1).pdf\n",
      "29-01-2023  20:16           401,917 Sanjay_Kumar_Machine_Learning_Engineer (2).pdf\n",
      "09-02-2023  19:41           402,072 Sanjay_Kumar_Machine_Learning_Engineer (3).pdf\n",
      "23-01-2023  22:28           391,059 Sanjay_Kumar_Machine_Learning_Engineer.pdf\n",
      "19-04-2023  16:19                 0 sanjay19file.txt\n",
      "14-10-2022  00:16               621 Scaler_model_for.sav\n",
      "08-12-2022  18:27         3,369,928 scientific poster template.pptx\n",
      "24-03-2023  15:13    <DIR>          Scraper-20230324T092720Z-001\n",
      "05-06-2023  11:23    <DIR>          Scraper-20230605T055135Z-001\n",
      "05-06-2023  11:21        17,052,049 Scraper-20230605T055135Z-001.zip\n",
      "14-03-2023  11:43            87,613 sdfghjkl.csv\n",
      "03-12-2022  14:04             9,300 seeds_dataset (1).txt\n",
      "03-12-2022  13:57             9,300 seeds_dataset.txt\n",
      "10-03-2023  16:06           453,367 Selecting+the+right+Visuals(1st Oct_FSDA).pdf\n",
      "29-12-2022  13:00            26,084 sentiment_Analysis_updated.docx\n",
      "26-01-2023  17:00            13,813 Session7_Exercise.xlsx\n",
      "26-09-2022  05:51            26,456 Session9_Exercise.xlsx\n",
      "26-09-2022  14:42            73,387 Session9_Solution.xlsx\n",
      "27-01-2023  10:36            21,982 Shortcuts.xlsx\n",
      "11-10-2022  22:35            14,460 sign sanjay.jpg\n",
      "13-03-2023  11:53            16,281 site-stats-concept-illustration_114360-1434.avif\n",
      "16-07-2023  14:41           944,546 sklearn.pdf\n",
      "14-10-2022  14:05    <DIR>          sklearn_tutorial-master\n",
      "14-10-2022  14:05           164,891 sklearn_tutorial-master.zip\n",
      "12-12-2022  11:28            10,942 social.png\n",
      "23-12-2021  00:06         1,733,053 speech.txt\n",
      "17-09-2022  11:03    <DIR>          Spend-20211123T045440Z-001.zip (Unzipped Files)-20220917T052232Z-001\n",
      "18-04-2023  10:12         1,090,767 SQL - ppt.pdf\n",
      "28-06-2022  15:57         1,563,052 SQL EXCLUSIVE NOTES .pdf\n",
      "01-08-2022  14:05         1,000,464 SQL interview preparation sheet.pdf\n",
      "13-08-2022  11:16         3,677,483 SQL.pdf\n",
      "24-06-2023  00:42             9,717 sql_24_10_23.sql\n",
      "18-03-2023  15:38    <DIR>          SQL_ASSIGNMENT\n",
      "26-02-2023  13:57             3,823 SQL_Commands.sql\n",
      "24-06-2023  00:44             3,823 SQL_Commands_24_06.sql\n",
      "13-09-2023  00:23    <DIR>          Sql_docs\n",
      "22-07-2023  10:45        10,379,713 Sql_docs.zip\n",
      "09-04-2023  17:28           131,441 SQL_pytyhon_25.ipynb\n",
      "25-03-2023  22:52            43,075 SQL-Python.ipynb\n",
      "11-10-2022  22:49    <DIR>          SSC2022\n",
      "14-10-2022  23:09               621 standardScalar145.sav\n",
      "11-04-2023  09:39    <DIR>          Statistics\n",
      "15-04-2023  13:21            37,839 Stats and probability.ipynb\n",
      "29-06-2022  17:01         5,760,923 stats1.pdf\n",
      "05-04-2023  12:40            22,654 Stats10_12.ipynb\n",
      "29-06-2022  17:02         5,964,062 stats2.pdf\n",
      "29-06-2022  17:02         6,829,549 stats5.pdf\n",
      "26-03-2023  16:26             2,936 Stored_procedure.sql\n",
      "24-06-2023  17:32    <DIR>          Study_matirial\n",
      "08-05-2023  16:59        10,931,184 Sublime Text Build 3211 x64 Setup.exe\n",
      "19-06-2023  12:35         1,345,429 Superstore_12.xlsx\n",
      "30-07-2022  13:19            71,399 SWTM-2088_Atlassian-Git-Cheatsheet.pdf\n",
      "07-11-2022  12:54           777,410 t spaCy, NER(Named Entity Recognition),.pdf\n",
      "03-05-2023  11:38            66,887 table (1).pdf\n",
      "04-04-2023  15:09            66,887 table.pdf\n",
      "14-08-2022  18:48           479,882 Task Details.pdf\n",
      "30-04-2023  14:34    <DIR>          Task_submission_modified\n",
      "30-04-2023  14:33         3,325,384 Task_submission_modified.zip\n",
      "01-10-2022  21:34    <DIR>          Telegram Desktop\n",
      "27-01-2023  11:23           397,382 teleresume.pdf\n",
      "11-10-2022  12:47            56,889 Tensorflow_1.1.ipynb\n",
      "27-02-2023  11:47            34,313 Tensorflow_1.2.ipynb\n",
      "03-11-2022  13:04                83 test.txt\n",
      "26-08-2022  22:20                33 test.txt.txt\n",
      "17-04-2023  10:49            21,957 test_Y3wMUE5_7gLdaTN.csv\n",
      "03-11-2022  13:28                 0 Test0211.txt\n",
      "19-04-2023  16:35               164 test1904.txt\n",
      "16-02-2023  18:08    <DIR>          TGC\n",
      "14-03-2023  14:56               152 tgc.txt\n",
      "02-07-2023  11:31    <DIR>          TGC_docs_15\n",
      "02-07-2023  11:30         7,012,024 TGC_docs_15.zip\n",
      "07-09-2023  12:02    <DIR>          TGC_Machine_learning\n",
      "23-09-2022  17:37    <DIR>          time series-20220923T120550Z-001\n",
      "23-09-2022  14:34    <DIR>          timeSeries-20220923T083150Z-001\n",
      "04-03-2023  12:27             9,729 tips.csv\n",
      "19-04-2023  16:10                 0 Todayfile.txt\n",
      "18-11-1996  21:06        47,040,016 train-images.idx3-ubyte\n",
      "18-12-2022  12:17           800,920 Training Dataset.arff\n",
      "01-10-2022  21:27        37,431,504 tsetup-x64.4.2.4.exe\n",
      "08-01-2023  13:06         1,426,315 UNDRIP analysis (1).pptx\n",
      "23-11-2022  16:08         1,426,315 UNDRIP analysis.pptx\n",
      "19-08-2022  13:36                 0 untitled\n",
      "26-03-2023  14:10    <DIR>          Untitled Folder\n",
      "22-08-2022  13:56                 0 untitled.txt\n",
      "10-06-2023  00:10           413,994 updated_resume_10_06_23.pdf\n",
      "10-06-2023  00:09           413,994 Updatedresume.pdf\n",
      "31-03-2023  22:43           414,011 Updatedresume31.pdf\n",
      "08-01-2023  13:05            76,015 vancouver-style-guide.pdf\n",
      "04-03-2023  14:06        87,996,385 video1452294375.mp4\n",
      "20-05-2023  15:19         9,487,893 visualization_20_05_2023.zip\n",
      "19-05-2023  23:26    <DIR>          visualization-20230519T175447Z-001\n",
      "19-05-2023  23:24         2,680,457 visualization-20230519T175447Z-001.zip\n",
      "01-05-2023  15:41         8,602,951 Visuals.pbix\n",
      "01-05-2023  11:51           536,533 Visuals.pdf\n",
      "01-05-2023  11:51         3,054,791 Visuals.pptx\n",
      "24-08-2023  22:46        93,351,472 VSCodeUserSetup-x64-1.81.1 (1).exe\n",
      "14-08-2023  01:21        93,351,472 VSCodeUserSetup-x64-1.81.1.exe\n",
      "24-08-2023  22:49        93,974,920 VSCodeUserSetup-x64-1.82.0-insider.exe\n",
      "09-05-2023  13:28           977,501 WA_Fn-UseC_-Telco-Customer-Churn (1).csv\n",
      "31-03-2023  17:06           977,501 WA_Fn-UseC_-Telco-Customer-Churn.csv\n",
      "04-06-2023  16:46    <DIR>          waferFaultDetection-20230604T083021Z-001\n",
      "04-06-2023  16:46       322,209,256 waferFaultDetection-20230604T083021Z-001.zip\n",
      "11-10-2022  23:34         3,151,765 Weekly Beepedia 1st-8th October 2022.pdf\n",
      "03-09-2022  19:18           133,642 WhatsApp Image 2022-09-03 at 7.18.32 PM.jpeg\n",
      "12-12-2022  13:17            10,782 wine.data\n",
      "12-12-2022  13:17             3,036 wine.names\n",
      "16-07-2023  14:36         4,080,433 wine_classification.pdf\n",
      "30-12-2022  18:10         3,473,784 winrar-x64-611.exe\n",
      "10-03-2023  18:51           207,176 world-political-map-2020.jpg\n",
      "14-10-2022  00:12            45,749 XGboost_model.pickle\n",
      "05-06-2023  10:24           624,647 Youtube End to End Project Material-20230605T045355Z-001.zip\n",
      "18-03-2023  10:45       264,758,791 zoom (1).apk\n",
      "16-02-2023  13:08       261,370,621 zoom.apk\n",
      "             587 File(s) 26,737,108,291 bytes\n",
      "             138 Dir(s)  681,474,318,336 bytes free\n"
     ]
    }
   ],
   "source": [
    "ls"
   ]
  },
  {
   "cell_type": "code",
   "execution_count": 392,
   "id": "fa89bb20",
   "metadata": {},
   "outputs": [],
   "source": [
    "df = pd.read_csv('./iris.csv')"
   ]
  },
  {
   "cell_type": "code",
   "execution_count": 393,
   "id": "e8d18b46",
   "metadata": {},
   "outputs": [
    {
     "data": {
      "text/html": [
       "<div>\n",
       "<style scoped>\n",
       "    .dataframe tbody tr th:only-of-type {\n",
       "        vertical-align: middle;\n",
       "    }\n",
       "\n",
       "    .dataframe tbody tr th {\n",
       "        vertical-align: top;\n",
       "    }\n",
       "\n",
       "    .dataframe thead th {\n",
       "        text-align: right;\n",
       "    }\n",
       "</style>\n",
       "<table border=\"1\" class=\"dataframe\">\n",
       "  <thead>\n",
       "    <tr style=\"text-align: right;\">\n",
       "      <th></th>\n",
       "      <th>sepal_length</th>\n",
       "      <th>sepal_width</th>\n",
       "      <th>petal_length</th>\n",
       "      <th>petal_width</th>\n",
       "      <th>species</th>\n",
       "    </tr>\n",
       "  </thead>\n",
       "  <tbody>\n",
       "    <tr>\n",
       "      <th>0</th>\n",
       "      <td>5.1</td>\n",
       "      <td>3.5</td>\n",
       "      <td>1.4</td>\n",
       "      <td>0.2</td>\n",
       "      <td>setosa</td>\n",
       "    </tr>\n",
       "    <tr>\n",
       "      <th>1</th>\n",
       "      <td>4.9</td>\n",
       "      <td>3.0</td>\n",
       "      <td>1.4</td>\n",
       "      <td>0.2</td>\n",
       "      <td>setosa</td>\n",
       "    </tr>\n",
       "    <tr>\n",
       "      <th>2</th>\n",
       "      <td>4.7</td>\n",
       "      <td>3.2</td>\n",
       "      <td>1.3</td>\n",
       "      <td>0.2</td>\n",
       "      <td>setosa</td>\n",
       "    </tr>\n",
       "    <tr>\n",
       "      <th>3</th>\n",
       "      <td>4.6</td>\n",
       "      <td>3.1</td>\n",
       "      <td>1.5</td>\n",
       "      <td>0.2</td>\n",
       "      <td>setosa</td>\n",
       "    </tr>\n",
       "    <tr>\n",
       "      <th>4</th>\n",
       "      <td>5.0</td>\n",
       "      <td>3.6</td>\n",
       "      <td>1.4</td>\n",
       "      <td>0.2</td>\n",
       "      <td>setosa</td>\n",
       "    </tr>\n",
       "    <tr>\n",
       "      <th>...</th>\n",
       "      <td>...</td>\n",
       "      <td>...</td>\n",
       "      <td>...</td>\n",
       "      <td>...</td>\n",
       "      <td>...</td>\n",
       "    </tr>\n",
       "    <tr>\n",
       "      <th>145</th>\n",
       "      <td>6.7</td>\n",
       "      <td>3.0</td>\n",
       "      <td>5.2</td>\n",
       "      <td>2.3</td>\n",
       "      <td>virginica</td>\n",
       "    </tr>\n",
       "    <tr>\n",
       "      <th>146</th>\n",
       "      <td>6.3</td>\n",
       "      <td>2.5</td>\n",
       "      <td>5.0</td>\n",
       "      <td>1.9</td>\n",
       "      <td>virginica</td>\n",
       "    </tr>\n",
       "    <tr>\n",
       "      <th>147</th>\n",
       "      <td>6.5</td>\n",
       "      <td>3.0</td>\n",
       "      <td>5.2</td>\n",
       "      <td>2.0</td>\n",
       "      <td>virginica</td>\n",
       "    </tr>\n",
       "    <tr>\n",
       "      <th>148</th>\n",
       "      <td>6.2</td>\n",
       "      <td>3.4</td>\n",
       "      <td>5.4</td>\n",
       "      <td>2.3</td>\n",
       "      <td>virginica</td>\n",
       "    </tr>\n",
       "    <tr>\n",
       "      <th>149</th>\n",
       "      <td>5.9</td>\n",
       "      <td>3.0</td>\n",
       "      <td>5.1</td>\n",
       "      <td>1.8</td>\n",
       "      <td>virginica</td>\n",
       "    </tr>\n",
       "  </tbody>\n",
       "</table>\n",
       "<p>150 rows × 5 columns</p>\n",
       "</div>"
      ],
      "text/plain": [
       "     sepal_length  sepal_width  petal_length  petal_width    species\n",
       "0             5.1          3.5           1.4          0.2     setosa\n",
       "1             4.9          3.0           1.4          0.2     setosa\n",
       "2             4.7          3.2           1.3          0.2     setosa\n",
       "3             4.6          3.1           1.5          0.2     setosa\n",
       "4             5.0          3.6           1.4          0.2     setosa\n",
       "..            ...          ...           ...          ...        ...\n",
       "145           6.7          3.0           5.2          2.3  virginica\n",
       "146           6.3          2.5           5.0          1.9  virginica\n",
       "147           6.5          3.0           5.2          2.0  virginica\n",
       "148           6.2          3.4           5.4          2.3  virginica\n",
       "149           5.9          3.0           5.1          1.8  virginica\n",
       "\n",
       "[150 rows x 5 columns]"
      ]
     },
     "execution_count": 393,
     "metadata": {},
     "output_type": "execute_result"
    }
   ],
   "source": [
    "df"
   ]
  },
  {
   "cell_type": "code",
   "execution_count": 394,
   "id": "04b6cd57",
   "metadata": {},
   "outputs": [
    {
     "data": {
      "text/plain": [
       "pandas.core.frame.DataFrame"
      ]
     },
     "execution_count": 394,
     "metadata": {},
     "output_type": "execute_result"
    }
   ],
   "source": [
    "type(df)"
   ]
  },
  {
   "cell_type": "code",
   "execution_count": 395,
   "id": "18cd420c",
   "metadata": {},
   "outputs": [
    {
     "data": {
      "text/html": [
       "<div>\n",
       "<style scoped>\n",
       "    .dataframe tbody tr th:only-of-type {\n",
       "        vertical-align: middle;\n",
       "    }\n",
       "\n",
       "    .dataframe tbody tr th {\n",
       "        vertical-align: top;\n",
       "    }\n",
       "\n",
       "    .dataframe thead th {\n",
       "        text-align: right;\n",
       "    }\n",
       "</style>\n",
       "<table border=\"1\" class=\"dataframe\">\n",
       "  <thead>\n",
       "    <tr style=\"text-align: right;\">\n",
       "      <th></th>\n",
       "      <th>sepal_length</th>\n",
       "      <th>sepal_width</th>\n",
       "      <th>petal_length</th>\n",
       "      <th>petal_width</th>\n",
       "      <th>species</th>\n",
       "    </tr>\n",
       "  </thead>\n",
       "  <tbody>\n",
       "    <tr>\n",
       "      <th>0</th>\n",
       "      <td>5.1</td>\n",
       "      <td>3.5</td>\n",
       "      <td>1.4</td>\n",
       "      <td>0.2</td>\n",
       "      <td>setosa</td>\n",
       "    </tr>\n",
       "    <tr>\n",
       "      <th>1</th>\n",
       "      <td>4.9</td>\n",
       "      <td>3.0</td>\n",
       "      <td>1.4</td>\n",
       "      <td>0.2</td>\n",
       "      <td>setosa</td>\n",
       "    </tr>\n",
       "    <tr>\n",
       "      <th>2</th>\n",
       "      <td>4.7</td>\n",
       "      <td>3.2</td>\n",
       "      <td>1.3</td>\n",
       "      <td>0.2</td>\n",
       "      <td>setosa</td>\n",
       "    </tr>\n",
       "    <tr>\n",
       "      <th>3</th>\n",
       "      <td>4.6</td>\n",
       "      <td>3.1</td>\n",
       "      <td>1.5</td>\n",
       "      <td>0.2</td>\n",
       "      <td>setosa</td>\n",
       "    </tr>\n",
       "    <tr>\n",
       "      <th>4</th>\n",
       "      <td>5.0</td>\n",
       "      <td>3.6</td>\n",
       "      <td>1.4</td>\n",
       "      <td>0.2</td>\n",
       "      <td>setosa</td>\n",
       "    </tr>\n",
       "  </tbody>\n",
       "</table>\n",
       "</div>"
      ],
      "text/plain": [
       "   sepal_length  sepal_width  petal_length  petal_width species\n",
       "0           5.1          3.5           1.4          0.2  setosa\n",
       "1           4.9          3.0           1.4          0.2  setosa\n",
       "2           4.7          3.2           1.3          0.2  setosa\n",
       "3           4.6          3.1           1.5          0.2  setosa\n",
       "4           5.0          3.6           1.4          0.2  setosa"
      ]
     },
     "execution_count": 395,
     "metadata": {},
     "output_type": "execute_result"
    }
   ],
   "source": [
    "df.head()"
   ]
  },
  {
   "cell_type": "code",
   "execution_count": 396,
   "id": "a7c678e6",
   "metadata": {},
   "outputs": [
    {
     "data": {
      "text/html": [
       "<div>\n",
       "<style scoped>\n",
       "    .dataframe tbody tr th:only-of-type {\n",
       "        vertical-align: middle;\n",
       "    }\n",
       "\n",
       "    .dataframe tbody tr th {\n",
       "        vertical-align: top;\n",
       "    }\n",
       "\n",
       "    .dataframe thead th {\n",
       "        text-align: right;\n",
       "    }\n",
       "</style>\n",
       "<table border=\"1\" class=\"dataframe\">\n",
       "  <thead>\n",
       "    <tr style=\"text-align: right;\">\n",
       "      <th></th>\n",
       "      <th>sepal_length</th>\n",
       "      <th>sepal_width</th>\n",
       "      <th>petal_length</th>\n",
       "      <th>petal_width</th>\n",
       "      <th>species</th>\n",
       "    </tr>\n",
       "  </thead>\n",
       "  <tbody>\n",
       "    <tr>\n",
       "      <th>145</th>\n",
       "      <td>6.7</td>\n",
       "      <td>3.0</td>\n",
       "      <td>5.2</td>\n",
       "      <td>2.3</td>\n",
       "      <td>virginica</td>\n",
       "    </tr>\n",
       "    <tr>\n",
       "      <th>146</th>\n",
       "      <td>6.3</td>\n",
       "      <td>2.5</td>\n",
       "      <td>5.0</td>\n",
       "      <td>1.9</td>\n",
       "      <td>virginica</td>\n",
       "    </tr>\n",
       "    <tr>\n",
       "      <th>147</th>\n",
       "      <td>6.5</td>\n",
       "      <td>3.0</td>\n",
       "      <td>5.2</td>\n",
       "      <td>2.0</td>\n",
       "      <td>virginica</td>\n",
       "    </tr>\n",
       "    <tr>\n",
       "      <th>148</th>\n",
       "      <td>6.2</td>\n",
       "      <td>3.4</td>\n",
       "      <td>5.4</td>\n",
       "      <td>2.3</td>\n",
       "      <td>virginica</td>\n",
       "    </tr>\n",
       "    <tr>\n",
       "      <th>149</th>\n",
       "      <td>5.9</td>\n",
       "      <td>3.0</td>\n",
       "      <td>5.1</td>\n",
       "      <td>1.8</td>\n",
       "      <td>virginica</td>\n",
       "    </tr>\n",
       "  </tbody>\n",
       "</table>\n",
       "</div>"
      ],
      "text/plain": [
       "     sepal_length  sepal_width  petal_length  petal_width    species\n",
       "145           6.7          3.0           5.2          2.3  virginica\n",
       "146           6.3          2.5           5.0          1.9  virginica\n",
       "147           6.5          3.0           5.2          2.0  virginica\n",
       "148           6.2          3.4           5.4          2.3  virginica\n",
       "149           5.9          3.0           5.1          1.8  virginica"
      ]
     },
     "execution_count": 396,
     "metadata": {},
     "output_type": "execute_result"
    }
   ],
   "source": [
    "df.tail()"
   ]
  },
  {
   "cell_type": "code",
   "execution_count": 397,
   "id": "10630996",
   "metadata": {},
   "outputs": [
    {
     "data": {
      "text/plain": [
       "(150, 5)"
      ]
     },
     "execution_count": 397,
     "metadata": {},
     "output_type": "execute_result"
    }
   ],
   "source": [
    "df.shape"
   ]
  },
  {
   "cell_type": "code",
   "execution_count": 398,
   "id": "605bd567",
   "metadata": {},
   "outputs": [
    {
     "data": {
      "text/plain": [
       "Index(['sepal_length', 'sepal_width', 'petal_length', 'petal_width',\n",
       "       'species'],\n",
       "      dtype='object')"
      ]
     },
     "execution_count": 398,
     "metadata": {},
     "output_type": "execute_result"
    }
   ],
   "source": [
    "df.columns"
   ]
  },
  {
   "cell_type": "code",
   "execution_count": 399,
   "id": "30f88b20",
   "metadata": {},
   "outputs": [
    {
     "data": {
      "text/plain": [
       "RangeIndex(start=0, stop=150, step=1)"
      ]
     },
     "execution_count": 399,
     "metadata": {},
     "output_type": "execute_result"
    }
   ],
   "source": [
    "df.index"
   ]
  },
  {
   "cell_type": "code",
   "execution_count": 400,
   "id": "61435665",
   "metadata": {},
   "outputs": [
    {
     "data": {
      "text/plain": [
       "sepal_length    float64\n",
       "sepal_width     float64\n",
       "petal_length    float64\n",
       "petal_width     float64\n",
       "species          object\n",
       "dtype: object"
      ]
     },
     "execution_count": 400,
     "metadata": {},
     "output_type": "execute_result"
    }
   ],
   "source": [
    "df.dtypes"
   ]
  },
  {
   "cell_type": "code",
   "execution_count": 402,
   "id": "5bc780a2",
   "metadata": {},
   "outputs": [
    {
     "name": "stdout",
     "output_type": "stream",
     "text": [
      "<class 'pandas.core.frame.DataFrame'>\n",
      "RangeIndex: 150 entries, 0 to 149\n",
      "Data columns (total 5 columns):\n",
      " #   Column        Non-Null Count  Dtype  \n",
      "---  ------        --------------  -----  \n",
      " 0   sepal_length  150 non-null    float64\n",
      " 1   sepal_width   150 non-null    float64\n",
      " 2   petal_length  150 non-null    float64\n",
      " 3   petal_width   150 non-null    float64\n",
      " 4   species       150 non-null    object \n",
      "dtypes: float64(4), object(1)\n",
      "memory usage: 6.0+ KB\n"
     ]
    }
   ],
   "source": [
    "df.info()"
   ]
  },
  {
   "cell_type": "code",
   "execution_count": 403,
   "id": "130b2bdf",
   "metadata": {},
   "outputs": [
    {
     "data": {
      "text/html": [
       "<div>\n",
       "<style scoped>\n",
       "    .dataframe tbody tr th:only-of-type {\n",
       "        vertical-align: middle;\n",
       "    }\n",
       "\n",
       "    .dataframe tbody tr th {\n",
       "        vertical-align: top;\n",
       "    }\n",
       "\n",
       "    .dataframe thead th {\n",
       "        text-align: right;\n",
       "    }\n",
       "</style>\n",
       "<table border=\"1\" class=\"dataframe\">\n",
       "  <thead>\n",
       "    <tr style=\"text-align: right;\">\n",
       "      <th></th>\n",
       "      <th>sepal_length</th>\n",
       "      <th>sepal_width</th>\n",
       "      <th>petal_length</th>\n",
       "      <th>petal_width</th>\n",
       "    </tr>\n",
       "  </thead>\n",
       "  <tbody>\n",
       "    <tr>\n",
       "      <th>count</th>\n",
       "      <td>150.000000</td>\n",
       "      <td>150.000000</td>\n",
       "      <td>150.000000</td>\n",
       "      <td>150.000000</td>\n",
       "    </tr>\n",
       "    <tr>\n",
       "      <th>mean</th>\n",
       "      <td>5.843333</td>\n",
       "      <td>3.054000</td>\n",
       "      <td>3.758667</td>\n",
       "      <td>1.198667</td>\n",
       "    </tr>\n",
       "    <tr>\n",
       "      <th>std</th>\n",
       "      <td>0.828066</td>\n",
       "      <td>0.433594</td>\n",
       "      <td>1.764420</td>\n",
       "      <td>0.763161</td>\n",
       "    </tr>\n",
       "    <tr>\n",
       "      <th>min</th>\n",
       "      <td>4.300000</td>\n",
       "      <td>2.000000</td>\n",
       "      <td>1.000000</td>\n",
       "      <td>0.100000</td>\n",
       "    </tr>\n",
       "    <tr>\n",
       "      <th>25%</th>\n",
       "      <td>5.100000</td>\n",
       "      <td>2.800000</td>\n",
       "      <td>1.600000</td>\n",
       "      <td>0.300000</td>\n",
       "    </tr>\n",
       "    <tr>\n",
       "      <th>50%</th>\n",
       "      <td>5.800000</td>\n",
       "      <td>3.000000</td>\n",
       "      <td>4.350000</td>\n",
       "      <td>1.300000</td>\n",
       "    </tr>\n",
       "    <tr>\n",
       "      <th>75%</th>\n",
       "      <td>6.400000</td>\n",
       "      <td>3.300000</td>\n",
       "      <td>5.100000</td>\n",
       "      <td>1.800000</td>\n",
       "    </tr>\n",
       "    <tr>\n",
       "      <th>max</th>\n",
       "      <td>7.900000</td>\n",
       "      <td>4.400000</td>\n",
       "      <td>6.900000</td>\n",
       "      <td>2.500000</td>\n",
       "    </tr>\n",
       "  </tbody>\n",
       "</table>\n",
       "</div>"
      ],
      "text/plain": [
       "       sepal_length  sepal_width  petal_length  petal_width\n",
       "count    150.000000   150.000000    150.000000   150.000000\n",
       "mean       5.843333     3.054000      3.758667     1.198667\n",
       "std        0.828066     0.433594      1.764420     0.763161\n",
       "min        4.300000     2.000000      1.000000     0.100000\n",
       "25%        5.100000     2.800000      1.600000     0.300000\n",
       "50%        5.800000     3.000000      4.350000     1.300000\n",
       "75%        6.400000     3.300000      5.100000     1.800000\n",
       "max        7.900000     4.400000      6.900000     2.500000"
      ]
     },
     "execution_count": 403,
     "metadata": {},
     "output_type": "execute_result"
    }
   ],
   "source": [
    "df.describe()"
   ]
  },
  {
   "cell_type": "code",
   "execution_count": 404,
   "id": "494fc3be",
   "metadata": {},
   "outputs": [
    {
     "data": {
      "text/html": [
       "<div>\n",
       "<style scoped>\n",
       "    .dataframe tbody tr th:only-of-type {\n",
       "        vertical-align: middle;\n",
       "    }\n",
       "\n",
       "    .dataframe tbody tr th {\n",
       "        vertical-align: top;\n",
       "    }\n",
       "\n",
       "    .dataframe thead th {\n",
       "        text-align: right;\n",
       "    }\n",
       "</style>\n",
       "<table border=\"1\" class=\"dataframe\">\n",
       "  <thead>\n",
       "    <tr style=\"text-align: right;\">\n",
       "      <th></th>\n",
       "      <th>sepal_length</th>\n",
       "      <th>sepal_width</th>\n",
       "      <th>petal_length</th>\n",
       "      <th>petal_width</th>\n",
       "      <th>species</th>\n",
       "    </tr>\n",
       "  </thead>\n",
       "  <tbody>\n",
       "    <tr>\n",
       "      <th>count</th>\n",
       "      <td>150.000000</td>\n",
       "      <td>150.000000</td>\n",
       "      <td>150.000000</td>\n",
       "      <td>150.000000</td>\n",
       "      <td>150</td>\n",
       "    </tr>\n",
       "    <tr>\n",
       "      <th>unique</th>\n",
       "      <td>NaN</td>\n",
       "      <td>NaN</td>\n",
       "      <td>NaN</td>\n",
       "      <td>NaN</td>\n",
       "      <td>3</td>\n",
       "    </tr>\n",
       "    <tr>\n",
       "      <th>top</th>\n",
       "      <td>NaN</td>\n",
       "      <td>NaN</td>\n",
       "      <td>NaN</td>\n",
       "      <td>NaN</td>\n",
       "      <td>setosa</td>\n",
       "    </tr>\n",
       "    <tr>\n",
       "      <th>freq</th>\n",
       "      <td>NaN</td>\n",
       "      <td>NaN</td>\n",
       "      <td>NaN</td>\n",
       "      <td>NaN</td>\n",
       "      <td>50</td>\n",
       "    </tr>\n",
       "    <tr>\n",
       "      <th>mean</th>\n",
       "      <td>5.843333</td>\n",
       "      <td>3.054000</td>\n",
       "      <td>3.758667</td>\n",
       "      <td>1.198667</td>\n",
       "      <td>NaN</td>\n",
       "    </tr>\n",
       "    <tr>\n",
       "      <th>std</th>\n",
       "      <td>0.828066</td>\n",
       "      <td>0.433594</td>\n",
       "      <td>1.764420</td>\n",
       "      <td>0.763161</td>\n",
       "      <td>NaN</td>\n",
       "    </tr>\n",
       "    <tr>\n",
       "      <th>min</th>\n",
       "      <td>4.300000</td>\n",
       "      <td>2.000000</td>\n",
       "      <td>1.000000</td>\n",
       "      <td>0.100000</td>\n",
       "      <td>NaN</td>\n",
       "    </tr>\n",
       "    <tr>\n",
       "      <th>25%</th>\n",
       "      <td>5.100000</td>\n",
       "      <td>2.800000</td>\n",
       "      <td>1.600000</td>\n",
       "      <td>0.300000</td>\n",
       "      <td>NaN</td>\n",
       "    </tr>\n",
       "    <tr>\n",
       "      <th>50%</th>\n",
       "      <td>5.800000</td>\n",
       "      <td>3.000000</td>\n",
       "      <td>4.350000</td>\n",
       "      <td>1.300000</td>\n",
       "      <td>NaN</td>\n",
       "    </tr>\n",
       "    <tr>\n",
       "      <th>75%</th>\n",
       "      <td>6.400000</td>\n",
       "      <td>3.300000</td>\n",
       "      <td>5.100000</td>\n",
       "      <td>1.800000</td>\n",
       "      <td>NaN</td>\n",
       "    </tr>\n",
       "    <tr>\n",
       "      <th>max</th>\n",
       "      <td>7.900000</td>\n",
       "      <td>4.400000</td>\n",
       "      <td>6.900000</td>\n",
       "      <td>2.500000</td>\n",
       "      <td>NaN</td>\n",
       "    </tr>\n",
       "  </tbody>\n",
       "</table>\n",
       "</div>"
      ],
      "text/plain": [
       "        sepal_length  sepal_width  petal_length  petal_width species\n",
       "count     150.000000   150.000000    150.000000   150.000000     150\n",
       "unique           NaN          NaN           NaN          NaN       3\n",
       "top              NaN          NaN           NaN          NaN  setosa\n",
       "freq             NaN          NaN           NaN          NaN      50\n",
       "mean        5.843333     3.054000      3.758667     1.198667     NaN\n",
       "std         0.828066     0.433594      1.764420     0.763161     NaN\n",
       "min         4.300000     2.000000      1.000000     0.100000     NaN\n",
       "25%         5.100000     2.800000      1.600000     0.300000     NaN\n",
       "50%         5.800000     3.000000      4.350000     1.300000     NaN\n",
       "75%         6.400000     3.300000      5.100000     1.800000     NaN\n",
       "max         7.900000     4.400000      6.900000     2.500000     NaN"
      ]
     },
     "execution_count": 404,
     "metadata": {},
     "output_type": "execute_result"
    }
   ],
   "source": [
    "df.describe(include='all')"
   ]
  },
  {
   "cell_type": "code",
   "execution_count": 405,
   "id": "831069eb",
   "metadata": {},
   "outputs": [
    {
     "data": {
      "text/html": [
       "<div>\n",
       "<style scoped>\n",
       "    .dataframe tbody tr th:only-of-type {\n",
       "        vertical-align: middle;\n",
       "    }\n",
       "\n",
       "    .dataframe tbody tr th {\n",
       "        vertical-align: top;\n",
       "    }\n",
       "\n",
       "    .dataframe thead th {\n",
       "        text-align: right;\n",
       "    }\n",
       "</style>\n",
       "<table border=\"1\" class=\"dataframe\">\n",
       "  <thead>\n",
       "    <tr style=\"text-align: right;\">\n",
       "      <th></th>\n",
       "      <th>species</th>\n",
       "    </tr>\n",
       "  </thead>\n",
       "  <tbody>\n",
       "    <tr>\n",
       "      <th>count</th>\n",
       "      <td>150</td>\n",
       "    </tr>\n",
       "    <tr>\n",
       "      <th>unique</th>\n",
       "      <td>3</td>\n",
       "    </tr>\n",
       "    <tr>\n",
       "      <th>top</th>\n",
       "      <td>setosa</td>\n",
       "    </tr>\n",
       "    <tr>\n",
       "      <th>freq</th>\n",
       "      <td>50</td>\n",
       "    </tr>\n",
       "  </tbody>\n",
       "</table>\n",
       "</div>"
      ],
      "text/plain": [
       "       species\n",
       "count      150\n",
       "unique       3\n",
       "top     setosa\n",
       "freq        50"
      ]
     },
     "execution_count": 405,
     "metadata": {},
     "output_type": "execute_result"
    }
   ],
   "source": [
    "df.describe(include='object')"
   ]
  },
  {
   "cell_type": "code",
   "execution_count": 407,
   "id": "ec8b7b67",
   "metadata": {},
   "outputs": [
    {
     "data": {
      "text/plain": [
       "array(['setosa', 'versicolor', 'virginica'], dtype=object)"
      ]
     },
     "execution_count": 407,
     "metadata": {},
     "output_type": "execute_result"
    }
   ],
   "source": [
    "df.species.unique()"
   ]
  },
  {
   "cell_type": "code",
   "execution_count": 409,
   "id": "89f082fa",
   "metadata": {},
   "outputs": [
    {
     "data": {
      "text/plain": [
       "3"
      ]
     },
     "execution_count": 409,
     "metadata": {},
     "output_type": "execute_result"
    }
   ],
   "source": [
    "df.species.nunique()"
   ]
  },
  {
   "cell_type": "code",
   "execution_count": 413,
   "id": "1535c429",
   "metadata": {},
   "outputs": [
    {
     "data": {
      "text/plain": [
       "(50, 5)"
      ]
     },
     "execution_count": 413,
     "metadata": {},
     "output_type": "execute_result"
    }
   ],
   "source": [
    "df[df.species == 'versicolor'].shape"
   ]
  },
  {
   "cell_type": "code",
   "execution_count": 417,
   "id": "a0025e99",
   "metadata": {},
   "outputs": [
    {
     "data": {
      "text/plain": [
       "50"
      ]
     },
     "execution_count": 417,
     "metadata": {},
     "output_type": "execute_result"
    }
   ],
   "source": [
    "df.species.value_counts()['setosa']"
   ]
  },
  {
   "cell_type": "code",
   "execution_count": 419,
   "id": "6fb661d5",
   "metadata": {},
   "outputs": [
    {
     "data": {
      "text/plain": [
       "1.0"
      ]
     },
     "execution_count": 419,
     "metadata": {},
     "output_type": "execute_result"
    }
   ],
   "source": [
    "df.petal_length.min()"
   ]
  },
  {
   "cell_type": "code",
   "execution_count": 420,
   "id": "5f5e520c",
   "metadata": {},
   "outputs": [
    {
     "data": {
      "text/plain": [
       "179.8"
      ]
     },
     "execution_count": 420,
     "metadata": {},
     "output_type": "execute_result"
    }
   ],
   "source": [
    "df.petal_width.sum()"
   ]
  },
  {
   "cell_type": "code",
   "execution_count": 421,
   "id": "fd8ed372",
   "metadata": {},
   "outputs": [
    {
     "data": {
      "text/plain": [
       "7.9"
      ]
     },
     "execution_count": 421,
     "metadata": {},
     "output_type": "execute_result"
    }
   ],
   "source": [
    "df.sepal_length.max()"
   ]
  },
  {
   "cell_type": "code",
   "execution_count": 423,
   "id": "80fe12c3",
   "metadata": {},
   "outputs": [
    {
     "data": {
      "text/plain": [
       "3"
      ]
     },
     "execution_count": 423,
     "metadata": {},
     "output_type": "execute_result"
    }
   ],
   "source": [
    "round(df.sepal_width.mean())"
   ]
  },
  {
   "cell_type": "code",
   "execution_count": 424,
   "id": "2cb540ba",
   "metadata": {},
   "outputs": [
    {
     "data": {
      "text/plain": [
       "0      0.2\n",
       "1      0.2\n",
       "2      0.2\n",
       "3      0.2\n",
       "4      0.2\n",
       "      ... \n",
       "145    2.3\n",
       "146    1.9\n",
       "147    2.0\n",
       "148    2.3\n",
       "149    1.8\n",
       "Name: petal_width, Length: 150, dtype: float64"
      ]
     },
     "execution_count": 424,
     "metadata": {},
     "output_type": "execute_result"
    }
   ],
   "source": [
    "df['petal_width']"
   ]
  },
  {
   "cell_type": "code",
   "execution_count": 425,
   "id": "971fe9c3",
   "metadata": {},
   "outputs": [
    {
     "data": {
      "text/html": [
       "<div>\n",
       "<style scoped>\n",
       "    .dataframe tbody tr th:only-of-type {\n",
       "        vertical-align: middle;\n",
       "    }\n",
       "\n",
       "    .dataframe tbody tr th {\n",
       "        vertical-align: top;\n",
       "    }\n",
       "\n",
       "    .dataframe thead th {\n",
       "        text-align: right;\n",
       "    }\n",
       "</style>\n",
       "<table border=\"1\" class=\"dataframe\">\n",
       "  <thead>\n",
       "    <tr style=\"text-align: right;\">\n",
       "      <th></th>\n",
       "      <th>sepal_length</th>\n",
       "      <th>sepal_width</th>\n",
       "      <th>petal_length</th>\n",
       "      <th>petal_width</th>\n",
       "      <th>species</th>\n",
       "    </tr>\n",
       "  </thead>\n",
       "  <tbody>\n",
       "    <tr>\n",
       "      <th>0</th>\n",
       "      <td>5.1</td>\n",
       "      <td>3.5</td>\n",
       "      <td>1.4</td>\n",
       "      <td>0.2</td>\n",
       "      <td>setosa</td>\n",
       "    </tr>\n",
       "    <tr>\n",
       "      <th>1</th>\n",
       "      <td>4.9</td>\n",
       "      <td>3.0</td>\n",
       "      <td>1.4</td>\n",
       "      <td>0.2</td>\n",
       "      <td>setosa</td>\n",
       "    </tr>\n",
       "    <tr>\n",
       "      <th>2</th>\n",
       "      <td>4.7</td>\n",
       "      <td>3.2</td>\n",
       "      <td>1.3</td>\n",
       "      <td>0.2</td>\n",
       "      <td>setosa</td>\n",
       "    </tr>\n",
       "    <tr>\n",
       "      <th>3</th>\n",
       "      <td>4.6</td>\n",
       "      <td>3.1</td>\n",
       "      <td>1.5</td>\n",
       "      <td>0.2</td>\n",
       "      <td>setosa</td>\n",
       "    </tr>\n",
       "    <tr>\n",
       "      <th>4</th>\n",
       "      <td>5.0</td>\n",
       "      <td>3.6</td>\n",
       "      <td>1.4</td>\n",
       "      <td>0.2</td>\n",
       "      <td>setosa</td>\n",
       "    </tr>\n",
       "    <tr>\n",
       "      <th>...</th>\n",
       "      <td>...</td>\n",
       "      <td>...</td>\n",
       "      <td>...</td>\n",
       "      <td>...</td>\n",
       "      <td>...</td>\n",
       "    </tr>\n",
       "    <tr>\n",
       "      <th>145</th>\n",
       "      <td>6.7</td>\n",
       "      <td>3.0</td>\n",
       "      <td>5.2</td>\n",
       "      <td>2.3</td>\n",
       "      <td>virginica</td>\n",
       "    </tr>\n",
       "    <tr>\n",
       "      <th>146</th>\n",
       "      <td>6.3</td>\n",
       "      <td>2.5</td>\n",
       "      <td>5.0</td>\n",
       "      <td>1.9</td>\n",
       "      <td>virginica</td>\n",
       "    </tr>\n",
       "    <tr>\n",
       "      <th>147</th>\n",
       "      <td>6.5</td>\n",
       "      <td>3.0</td>\n",
       "      <td>5.2</td>\n",
       "      <td>2.0</td>\n",
       "      <td>virginica</td>\n",
       "    </tr>\n",
       "    <tr>\n",
       "      <th>148</th>\n",
       "      <td>6.2</td>\n",
       "      <td>3.4</td>\n",
       "      <td>5.4</td>\n",
       "      <td>2.3</td>\n",
       "      <td>virginica</td>\n",
       "    </tr>\n",
       "    <tr>\n",
       "      <th>149</th>\n",
       "      <td>5.9</td>\n",
       "      <td>3.0</td>\n",
       "      <td>5.1</td>\n",
       "      <td>1.8</td>\n",
       "      <td>virginica</td>\n",
       "    </tr>\n",
       "  </tbody>\n",
       "</table>\n",
       "<p>150 rows × 5 columns</p>\n",
       "</div>"
      ],
      "text/plain": [
       "     sepal_length  sepal_width  petal_length  petal_width    species\n",
       "0             5.1          3.5           1.4          0.2     setosa\n",
       "1             4.9          3.0           1.4          0.2     setosa\n",
       "2             4.7          3.2           1.3          0.2     setosa\n",
       "3             4.6          3.1           1.5          0.2     setosa\n",
       "4             5.0          3.6           1.4          0.2     setosa\n",
       "..            ...          ...           ...          ...        ...\n",
       "145           6.7          3.0           5.2          2.3  virginica\n",
       "146           6.3          2.5           5.0          1.9  virginica\n",
       "147           6.5          3.0           5.2          2.0  virginica\n",
       "148           6.2          3.4           5.4          2.3  virginica\n",
       "149           5.9          3.0           5.1          1.8  virginica\n",
       "\n",
       "[150 rows x 5 columns]"
      ]
     },
     "execution_count": 425,
     "metadata": {},
     "output_type": "execute_result"
    }
   ],
   "source": [
    "df"
   ]
  },
  {
   "cell_type": "code",
   "execution_count": 434,
   "id": "d0b80839",
   "metadata": {},
   "outputs": [
    {
     "data": {
      "text/html": [
       "<div>\n",
       "<style scoped>\n",
       "    .dataframe tbody tr th:only-of-type {\n",
       "        vertical-align: middle;\n",
       "    }\n",
       "\n",
       "    .dataframe tbody tr th {\n",
       "        vertical-align: top;\n",
       "    }\n",
       "\n",
       "    .dataframe thead th {\n",
       "        text-align: right;\n",
       "    }\n",
       "</style>\n",
       "<table border=\"1\" class=\"dataframe\">\n",
       "  <thead>\n",
       "    <tr style=\"text-align: right;\">\n",
       "      <th></th>\n",
       "      <th>sepal_length</th>\n",
       "      <th>sepal_width</th>\n",
       "      <th>petal_length</th>\n",
       "      <th>petal_width</th>\n",
       "      <th>species</th>\n",
       "    </tr>\n",
       "  </thead>\n",
       "  <tbody>\n",
       "    <tr>\n",
       "      <th>13</th>\n",
       "      <td>4.3</td>\n",
       "      <td>3.0</td>\n",
       "      <td>1.1</td>\n",
       "      <td>0.1</td>\n",
       "      <td>setosa</td>\n",
       "    </tr>\n",
       "    <tr>\n",
       "      <th>42</th>\n",
       "      <td>4.4</td>\n",
       "      <td>3.2</td>\n",
       "      <td>1.3</td>\n",
       "      <td>0.2</td>\n",
       "      <td>setosa</td>\n",
       "    </tr>\n",
       "    <tr>\n",
       "      <th>38</th>\n",
       "      <td>4.4</td>\n",
       "      <td>3.0</td>\n",
       "      <td>1.3</td>\n",
       "      <td>0.2</td>\n",
       "      <td>setosa</td>\n",
       "    </tr>\n",
       "    <tr>\n",
       "      <th>8</th>\n",
       "      <td>4.4</td>\n",
       "      <td>2.9</td>\n",
       "      <td>1.4</td>\n",
       "      <td>0.2</td>\n",
       "      <td>setosa</td>\n",
       "    </tr>\n",
       "    <tr>\n",
       "      <th>41</th>\n",
       "      <td>4.5</td>\n",
       "      <td>2.3</td>\n",
       "      <td>1.3</td>\n",
       "      <td>0.3</td>\n",
       "      <td>setosa</td>\n",
       "    </tr>\n",
       "    <tr>\n",
       "      <th>...</th>\n",
       "      <td>...</td>\n",
       "      <td>...</td>\n",
       "      <td>...</td>\n",
       "      <td>...</td>\n",
       "      <td>...</td>\n",
       "    </tr>\n",
       "    <tr>\n",
       "      <th>117</th>\n",
       "      <td>7.7</td>\n",
       "      <td>3.8</td>\n",
       "      <td>6.7</td>\n",
       "      <td>2.2</td>\n",
       "      <td>virginica</td>\n",
       "    </tr>\n",
       "    <tr>\n",
       "      <th>135</th>\n",
       "      <td>7.7</td>\n",
       "      <td>3.0</td>\n",
       "      <td>6.1</td>\n",
       "      <td>2.3</td>\n",
       "      <td>virginica</td>\n",
       "    </tr>\n",
       "    <tr>\n",
       "      <th>122</th>\n",
       "      <td>7.7</td>\n",
       "      <td>2.8</td>\n",
       "      <td>6.7</td>\n",
       "      <td>2.0</td>\n",
       "      <td>virginica</td>\n",
       "    </tr>\n",
       "    <tr>\n",
       "      <th>118</th>\n",
       "      <td>7.7</td>\n",
       "      <td>2.6</td>\n",
       "      <td>6.9</td>\n",
       "      <td>2.3</td>\n",
       "      <td>virginica</td>\n",
       "    </tr>\n",
       "    <tr>\n",
       "      <th>131</th>\n",
       "      <td>7.9</td>\n",
       "      <td>3.8</td>\n",
       "      <td>6.4</td>\n",
       "      <td>2.0</td>\n",
       "      <td>virginica</td>\n",
       "    </tr>\n",
       "  </tbody>\n",
       "</table>\n",
       "<p>150 rows × 5 columns</p>\n",
       "</div>"
      ],
      "text/plain": [
       "     sepal_length  sepal_width  petal_length  petal_width    species\n",
       "13            4.3          3.0           1.1          0.1     setosa\n",
       "42            4.4          3.2           1.3          0.2     setosa\n",
       "38            4.4          3.0           1.3          0.2     setosa\n",
       "8             4.4          2.9           1.4          0.2     setosa\n",
       "41            4.5          2.3           1.3          0.3     setosa\n",
       "..            ...          ...           ...          ...        ...\n",
       "117           7.7          3.8           6.7          2.2  virginica\n",
       "135           7.7          3.0           6.1          2.3  virginica\n",
       "122           7.7          2.8           6.7          2.0  virginica\n",
       "118           7.7          2.6           6.9          2.3  virginica\n",
       "131           7.9          3.8           6.4          2.0  virginica\n",
       "\n",
       "[150 rows x 5 columns]"
      ]
     },
     "execution_count": 434,
     "metadata": {},
     "output_type": "execute_result"
    }
   ],
   "source": [
    "df.sort_values(by=['sepal_length','sepal_width'], ascending=[True, False])"
   ]
  },
  {
   "cell_type": "code",
   "execution_count": 438,
   "id": "faa66d04",
   "metadata": {},
   "outputs": [],
   "source": [
    "df = df.sort_values(by='petal_length', ascending=False)"
   ]
  },
  {
   "cell_type": "code",
   "execution_count": 440,
   "id": "ea80f2b6",
   "metadata": {},
   "outputs": [
    {
     "data": {
      "text/html": [
       "<div>\n",
       "<style scoped>\n",
       "    .dataframe tbody tr th:only-of-type {\n",
       "        vertical-align: middle;\n",
       "    }\n",
       "\n",
       "    .dataframe tbody tr th {\n",
       "        vertical-align: top;\n",
       "    }\n",
       "\n",
       "    .dataframe thead th {\n",
       "        text-align: right;\n",
       "    }\n",
       "</style>\n",
       "<table border=\"1\" class=\"dataframe\">\n",
       "  <thead>\n",
       "    <tr style=\"text-align: right;\">\n",
       "      <th></th>\n",
       "      <th>sepal_length</th>\n",
       "      <th>sepal_width</th>\n",
       "      <th>petal_length</th>\n",
       "      <th>petal_width</th>\n",
       "      <th>species</th>\n",
       "    </tr>\n",
       "  </thead>\n",
       "  <tbody>\n",
       "    <tr>\n",
       "      <th>0</th>\n",
       "      <td>5.1</td>\n",
       "      <td>3.5</td>\n",
       "      <td>1.4</td>\n",
       "      <td>0.2</td>\n",
       "      <td>setosa</td>\n",
       "    </tr>\n",
       "    <tr>\n",
       "      <th>1</th>\n",
       "      <td>4.9</td>\n",
       "      <td>3.0</td>\n",
       "      <td>1.4</td>\n",
       "      <td>0.2</td>\n",
       "      <td>setosa</td>\n",
       "    </tr>\n",
       "    <tr>\n",
       "      <th>2</th>\n",
       "      <td>4.7</td>\n",
       "      <td>3.2</td>\n",
       "      <td>1.3</td>\n",
       "      <td>0.2</td>\n",
       "      <td>setosa</td>\n",
       "    </tr>\n",
       "    <tr>\n",
       "      <th>3</th>\n",
       "      <td>4.6</td>\n",
       "      <td>3.1</td>\n",
       "      <td>1.5</td>\n",
       "      <td>0.2</td>\n",
       "      <td>setosa</td>\n",
       "    </tr>\n",
       "    <tr>\n",
       "      <th>4</th>\n",
       "      <td>5.0</td>\n",
       "      <td>3.6</td>\n",
       "      <td>1.4</td>\n",
       "      <td>0.2</td>\n",
       "      <td>setosa</td>\n",
       "    </tr>\n",
       "    <tr>\n",
       "      <th>...</th>\n",
       "      <td>...</td>\n",
       "      <td>...</td>\n",
       "      <td>...</td>\n",
       "      <td>...</td>\n",
       "      <td>...</td>\n",
       "    </tr>\n",
       "    <tr>\n",
       "      <th>145</th>\n",
       "      <td>6.7</td>\n",
       "      <td>3.0</td>\n",
       "      <td>5.2</td>\n",
       "      <td>2.3</td>\n",
       "      <td>virginica</td>\n",
       "    </tr>\n",
       "    <tr>\n",
       "      <th>146</th>\n",
       "      <td>6.3</td>\n",
       "      <td>2.5</td>\n",
       "      <td>5.0</td>\n",
       "      <td>1.9</td>\n",
       "      <td>virginica</td>\n",
       "    </tr>\n",
       "    <tr>\n",
       "      <th>147</th>\n",
       "      <td>6.5</td>\n",
       "      <td>3.0</td>\n",
       "      <td>5.2</td>\n",
       "      <td>2.0</td>\n",
       "      <td>virginica</td>\n",
       "    </tr>\n",
       "    <tr>\n",
       "      <th>148</th>\n",
       "      <td>6.2</td>\n",
       "      <td>3.4</td>\n",
       "      <td>5.4</td>\n",
       "      <td>2.3</td>\n",
       "      <td>virginica</td>\n",
       "    </tr>\n",
       "    <tr>\n",
       "      <th>149</th>\n",
       "      <td>5.9</td>\n",
       "      <td>3.0</td>\n",
       "      <td>5.1</td>\n",
       "      <td>1.8</td>\n",
       "      <td>virginica</td>\n",
       "    </tr>\n",
       "  </tbody>\n",
       "</table>\n",
       "<p>150 rows × 5 columns</p>\n",
       "</div>"
      ],
      "text/plain": [
       "     sepal_length  sepal_width  petal_length  petal_width    species\n",
       "0             5.1          3.5           1.4          0.2     setosa\n",
       "1             4.9          3.0           1.4          0.2     setosa\n",
       "2             4.7          3.2           1.3          0.2     setosa\n",
       "3             4.6          3.1           1.5          0.2     setosa\n",
       "4             5.0          3.6           1.4          0.2     setosa\n",
       "..            ...          ...           ...          ...        ...\n",
       "145           6.7          3.0           5.2          2.3  virginica\n",
       "146           6.3          2.5           5.0          1.9  virginica\n",
       "147           6.5          3.0           5.2          2.0  virginica\n",
       "148           6.2          3.4           5.4          2.3  virginica\n",
       "149           5.9          3.0           5.1          1.8  virginica\n",
       "\n",
       "[150 rows x 5 columns]"
      ]
     },
     "execution_count": 440,
     "metadata": {},
     "output_type": "execute_result"
    }
   ],
   "source": [
    "df.sort_index()"
   ]
  },
  {
   "cell_type": "code",
   "execution_count": 441,
   "id": "f743d098",
   "metadata": {},
   "outputs": [],
   "source": [
    "import pandas as pd"
   ]
  },
  {
   "cell_type": "code",
   "execution_count": 442,
   "id": "71e51f9b",
   "metadata": {},
   "outputs": [],
   "source": [
    "df = pd.read_csv('https://gist.githubusercontent.com/curran/a08a1080b88344b0c8a7/raw/0e7a9b0a5d22642a06d3d5b9bcbad9890c8ee534/iris.csv')"
   ]
  },
  {
   "cell_type": "code",
   "execution_count": 446,
   "id": "f0bedc97",
   "metadata": {},
   "outputs": [],
   "source": [
    "df.sepal_length = df.sepal_length.apply(lambda x:round(x))"
   ]
  },
  {
   "cell_type": "code",
   "execution_count": 447,
   "id": "57bce9a8",
   "metadata": {},
   "outputs": [
    {
     "data": {
      "text/html": [
       "<div>\n",
       "<style scoped>\n",
       "    .dataframe tbody tr th:only-of-type {\n",
       "        vertical-align: middle;\n",
       "    }\n",
       "\n",
       "    .dataframe tbody tr th {\n",
       "        vertical-align: top;\n",
       "    }\n",
       "\n",
       "    .dataframe thead th {\n",
       "        text-align: right;\n",
       "    }\n",
       "</style>\n",
       "<table border=\"1\" class=\"dataframe\">\n",
       "  <thead>\n",
       "    <tr style=\"text-align: right;\">\n",
       "      <th></th>\n",
       "      <th>sepal_length</th>\n",
       "      <th>sepal_width</th>\n",
       "      <th>petal_length</th>\n",
       "      <th>petal_width</th>\n",
       "      <th>species</th>\n",
       "    </tr>\n",
       "  </thead>\n",
       "  <tbody>\n",
       "    <tr>\n",
       "      <th>0</th>\n",
       "      <td>5</td>\n",
       "      <td>3.5</td>\n",
       "      <td>1.4</td>\n",
       "      <td>0.2</td>\n",
       "      <td>setosa</td>\n",
       "    </tr>\n",
       "    <tr>\n",
       "      <th>1</th>\n",
       "      <td>5</td>\n",
       "      <td>3.0</td>\n",
       "      <td>1.4</td>\n",
       "      <td>0.2</td>\n",
       "      <td>setosa</td>\n",
       "    </tr>\n",
       "    <tr>\n",
       "      <th>2</th>\n",
       "      <td>5</td>\n",
       "      <td>3.2</td>\n",
       "      <td>1.3</td>\n",
       "      <td>0.2</td>\n",
       "      <td>setosa</td>\n",
       "    </tr>\n",
       "    <tr>\n",
       "      <th>3</th>\n",
       "      <td>5</td>\n",
       "      <td>3.1</td>\n",
       "      <td>1.5</td>\n",
       "      <td>0.2</td>\n",
       "      <td>setosa</td>\n",
       "    </tr>\n",
       "    <tr>\n",
       "      <th>4</th>\n",
       "      <td>5</td>\n",
       "      <td>3.6</td>\n",
       "      <td>1.4</td>\n",
       "      <td>0.2</td>\n",
       "      <td>setosa</td>\n",
       "    </tr>\n",
       "    <tr>\n",
       "      <th>...</th>\n",
       "      <td>...</td>\n",
       "      <td>...</td>\n",
       "      <td>...</td>\n",
       "      <td>...</td>\n",
       "      <td>...</td>\n",
       "    </tr>\n",
       "    <tr>\n",
       "      <th>145</th>\n",
       "      <td>7</td>\n",
       "      <td>3.0</td>\n",
       "      <td>5.2</td>\n",
       "      <td>2.3</td>\n",
       "      <td>virginica</td>\n",
       "    </tr>\n",
       "    <tr>\n",
       "      <th>146</th>\n",
       "      <td>6</td>\n",
       "      <td>2.5</td>\n",
       "      <td>5.0</td>\n",
       "      <td>1.9</td>\n",
       "      <td>virginica</td>\n",
       "    </tr>\n",
       "    <tr>\n",
       "      <th>147</th>\n",
       "      <td>6</td>\n",
       "      <td>3.0</td>\n",
       "      <td>5.2</td>\n",
       "      <td>2.0</td>\n",
       "      <td>virginica</td>\n",
       "    </tr>\n",
       "    <tr>\n",
       "      <th>148</th>\n",
       "      <td>6</td>\n",
       "      <td>3.4</td>\n",
       "      <td>5.4</td>\n",
       "      <td>2.3</td>\n",
       "      <td>virginica</td>\n",
       "    </tr>\n",
       "    <tr>\n",
       "      <th>149</th>\n",
       "      <td>6</td>\n",
       "      <td>3.0</td>\n",
       "      <td>5.1</td>\n",
       "      <td>1.8</td>\n",
       "      <td>virginica</td>\n",
       "    </tr>\n",
       "  </tbody>\n",
       "</table>\n",
       "<p>150 rows × 5 columns</p>\n",
       "</div>"
      ],
      "text/plain": [
       "     sepal_length  sepal_width  petal_length  petal_width    species\n",
       "0               5          3.5           1.4          0.2     setosa\n",
       "1               5          3.0           1.4          0.2     setosa\n",
       "2               5          3.2           1.3          0.2     setosa\n",
       "3               5          3.1           1.5          0.2     setosa\n",
       "4               5          3.6           1.4          0.2     setosa\n",
       "..            ...          ...           ...          ...        ...\n",
       "145             7          3.0           5.2          2.3  virginica\n",
       "146             6          2.5           5.0          1.9  virginica\n",
       "147             6          3.0           5.2          2.0  virginica\n",
       "148             6          3.4           5.4          2.3  virginica\n",
       "149             6          3.0           5.1          1.8  virginica\n",
       "\n",
       "[150 rows x 5 columns]"
      ]
     },
     "execution_count": 447,
     "metadata": {},
     "output_type": "execute_result"
    }
   ],
   "source": [
    "df"
   ]
  },
  {
   "cell_type": "code",
   "execution_count": 450,
   "id": "3827a0bf",
   "metadata": {},
   "outputs": [
    {
     "data": {
      "text/plain": [
       "0      6\n",
       "1      6\n",
       "2      6\n",
       "3      6\n",
       "4      6\n",
       "      ..\n",
       "145    9\n",
       "146    9\n",
       "147    9\n",
       "148    9\n",
       "149    9\n",
       "Name: species, Length: 150, dtype: int64"
      ]
     },
     "execution_count": 450,
     "metadata": {},
     "output_type": "execute_result"
    }
   ],
   "source": [
    "df.species.apply(len)"
   ]
  },
  {
   "cell_type": "code",
   "execution_count": 452,
   "id": "242959aa",
   "metadata": {},
   "outputs": [
    {
     "data": {
      "text/html": [
       "<div>\n",
       "<style scoped>\n",
       "    .dataframe tbody tr th:only-of-type {\n",
       "        vertical-align: middle;\n",
       "    }\n",
       "\n",
       "    .dataframe tbody tr th {\n",
       "        vertical-align: top;\n",
       "    }\n",
       "\n",
       "    .dataframe thead th {\n",
       "        text-align: right;\n",
       "    }\n",
       "</style>\n",
       "<table border=\"1\" class=\"dataframe\">\n",
       "  <thead>\n",
       "    <tr style=\"text-align: right;\">\n",
       "      <th></th>\n",
       "      <th>sepal_length</th>\n",
       "      <th>sepal_width</th>\n",
       "      <th>petal_length</th>\n",
       "      <th>petal_width</th>\n",
       "      <th>species</th>\n",
       "    </tr>\n",
       "  </thead>\n",
       "  <tbody>\n",
       "    <tr>\n",
       "      <th>0</th>\n",
       "      <td>10</td>\n",
       "      <td>7.0</td>\n",
       "      <td>2.8</td>\n",
       "      <td>0.4</td>\n",
       "      <td>setosasetosa</td>\n",
       "    </tr>\n",
       "    <tr>\n",
       "      <th>1</th>\n",
       "      <td>10</td>\n",
       "      <td>6.0</td>\n",
       "      <td>2.8</td>\n",
       "      <td>0.4</td>\n",
       "      <td>setosasetosa</td>\n",
       "    </tr>\n",
       "    <tr>\n",
       "      <th>2</th>\n",
       "      <td>10</td>\n",
       "      <td>6.4</td>\n",
       "      <td>2.6</td>\n",
       "      <td>0.4</td>\n",
       "      <td>setosasetosa</td>\n",
       "    </tr>\n",
       "    <tr>\n",
       "      <th>3</th>\n",
       "      <td>10</td>\n",
       "      <td>6.2</td>\n",
       "      <td>3.0</td>\n",
       "      <td>0.4</td>\n",
       "      <td>setosasetosa</td>\n",
       "    </tr>\n",
       "    <tr>\n",
       "      <th>4</th>\n",
       "      <td>10</td>\n",
       "      <td>7.2</td>\n",
       "      <td>2.8</td>\n",
       "      <td>0.4</td>\n",
       "      <td>setosasetosa</td>\n",
       "    </tr>\n",
       "    <tr>\n",
       "      <th>...</th>\n",
       "      <td>...</td>\n",
       "      <td>...</td>\n",
       "      <td>...</td>\n",
       "      <td>...</td>\n",
       "      <td>...</td>\n",
       "    </tr>\n",
       "    <tr>\n",
       "      <th>145</th>\n",
       "      <td>14</td>\n",
       "      <td>6.0</td>\n",
       "      <td>10.4</td>\n",
       "      <td>4.6</td>\n",
       "      <td>virginicavirginica</td>\n",
       "    </tr>\n",
       "    <tr>\n",
       "      <th>146</th>\n",
       "      <td>12</td>\n",
       "      <td>5.0</td>\n",
       "      <td>10.0</td>\n",
       "      <td>3.8</td>\n",
       "      <td>virginicavirginica</td>\n",
       "    </tr>\n",
       "    <tr>\n",
       "      <th>147</th>\n",
       "      <td>12</td>\n",
       "      <td>6.0</td>\n",
       "      <td>10.4</td>\n",
       "      <td>4.0</td>\n",
       "      <td>virginicavirginica</td>\n",
       "    </tr>\n",
       "    <tr>\n",
       "      <th>148</th>\n",
       "      <td>12</td>\n",
       "      <td>6.8</td>\n",
       "      <td>10.8</td>\n",
       "      <td>4.6</td>\n",
       "      <td>virginicavirginica</td>\n",
       "    </tr>\n",
       "    <tr>\n",
       "      <th>149</th>\n",
       "      <td>12</td>\n",
       "      <td>6.0</td>\n",
       "      <td>10.2</td>\n",
       "      <td>3.6</td>\n",
       "      <td>virginicavirginica</td>\n",
       "    </tr>\n",
       "  </tbody>\n",
       "</table>\n",
       "<p>150 rows × 5 columns</p>\n",
       "</div>"
      ],
      "text/plain": [
       "     sepal_length  sepal_width  petal_length  petal_width             species\n",
       "0              10          7.0           2.8          0.4        setosasetosa\n",
       "1              10          6.0           2.8          0.4        setosasetosa\n",
       "2              10          6.4           2.6          0.4        setosasetosa\n",
       "3              10          6.2           3.0          0.4        setosasetosa\n",
       "4              10          7.2           2.8          0.4        setosasetosa\n",
       "..            ...          ...           ...          ...                 ...\n",
       "145            14          6.0          10.4          4.6  virginicavirginica\n",
       "146            12          5.0          10.0          3.8  virginicavirginica\n",
       "147            12          6.0          10.4          4.0  virginicavirginica\n",
       "148            12          6.8          10.8          4.6  virginicavirginica\n",
       "149            12          6.0          10.2          3.6  virginicavirginica\n",
       "\n",
       "[150 rows x 5 columns]"
      ]
     },
     "execution_count": 452,
     "metadata": {},
     "output_type": "execute_result"
    }
   ],
   "source": [
    "df.apply(lambda x:x+x)"
   ]
  },
  {
   "cell_type": "code",
   "execution_count": 453,
   "id": "54eb69a3",
   "metadata": {},
   "outputs": [],
   "source": [
    "# Grouping data together"
   ]
  },
  {
   "cell_type": "code",
   "execution_count": 454,
   "id": "81581fa5",
   "metadata": {},
   "outputs": [
    {
     "data": {
      "text/html": [
       "<div>\n",
       "<style scoped>\n",
       "    .dataframe tbody tr th:only-of-type {\n",
       "        vertical-align: middle;\n",
       "    }\n",
       "\n",
       "    .dataframe tbody tr th {\n",
       "        vertical-align: top;\n",
       "    }\n",
       "\n",
       "    .dataframe thead th {\n",
       "        text-align: right;\n",
       "    }\n",
       "</style>\n",
       "<table border=\"1\" class=\"dataframe\">\n",
       "  <thead>\n",
       "    <tr style=\"text-align: right;\">\n",
       "      <th></th>\n",
       "      <th>sepal_length</th>\n",
       "      <th>sepal_width</th>\n",
       "      <th>petal_length</th>\n",
       "      <th>petal_width</th>\n",
       "      <th>species</th>\n",
       "    </tr>\n",
       "  </thead>\n",
       "  <tbody>\n",
       "    <tr>\n",
       "      <th>0</th>\n",
       "      <td>5</td>\n",
       "      <td>3.5</td>\n",
       "      <td>1.4</td>\n",
       "      <td>0.2</td>\n",
       "      <td>setosa</td>\n",
       "    </tr>\n",
       "    <tr>\n",
       "      <th>1</th>\n",
       "      <td>5</td>\n",
       "      <td>3.0</td>\n",
       "      <td>1.4</td>\n",
       "      <td>0.2</td>\n",
       "      <td>setosa</td>\n",
       "    </tr>\n",
       "    <tr>\n",
       "      <th>2</th>\n",
       "      <td>5</td>\n",
       "      <td>3.2</td>\n",
       "      <td>1.3</td>\n",
       "      <td>0.2</td>\n",
       "      <td>setosa</td>\n",
       "    </tr>\n",
       "    <tr>\n",
       "      <th>3</th>\n",
       "      <td>5</td>\n",
       "      <td>3.1</td>\n",
       "      <td>1.5</td>\n",
       "      <td>0.2</td>\n",
       "      <td>setosa</td>\n",
       "    </tr>\n",
       "    <tr>\n",
       "      <th>4</th>\n",
       "      <td>5</td>\n",
       "      <td>3.6</td>\n",
       "      <td>1.4</td>\n",
       "      <td>0.2</td>\n",
       "      <td>setosa</td>\n",
       "    </tr>\n",
       "    <tr>\n",
       "      <th>...</th>\n",
       "      <td>...</td>\n",
       "      <td>...</td>\n",
       "      <td>...</td>\n",
       "      <td>...</td>\n",
       "      <td>...</td>\n",
       "    </tr>\n",
       "    <tr>\n",
       "      <th>145</th>\n",
       "      <td>7</td>\n",
       "      <td>3.0</td>\n",
       "      <td>5.2</td>\n",
       "      <td>2.3</td>\n",
       "      <td>virginica</td>\n",
       "    </tr>\n",
       "    <tr>\n",
       "      <th>146</th>\n",
       "      <td>6</td>\n",
       "      <td>2.5</td>\n",
       "      <td>5.0</td>\n",
       "      <td>1.9</td>\n",
       "      <td>virginica</td>\n",
       "    </tr>\n",
       "    <tr>\n",
       "      <th>147</th>\n",
       "      <td>6</td>\n",
       "      <td>3.0</td>\n",
       "      <td>5.2</td>\n",
       "      <td>2.0</td>\n",
       "      <td>virginica</td>\n",
       "    </tr>\n",
       "    <tr>\n",
       "      <th>148</th>\n",
       "      <td>6</td>\n",
       "      <td>3.4</td>\n",
       "      <td>5.4</td>\n",
       "      <td>2.3</td>\n",
       "      <td>virginica</td>\n",
       "    </tr>\n",
       "    <tr>\n",
       "      <th>149</th>\n",
       "      <td>6</td>\n",
       "      <td>3.0</td>\n",
       "      <td>5.1</td>\n",
       "      <td>1.8</td>\n",
       "      <td>virginica</td>\n",
       "    </tr>\n",
       "  </tbody>\n",
       "</table>\n",
       "<p>150 rows × 5 columns</p>\n",
       "</div>"
      ],
      "text/plain": [
       "     sepal_length  sepal_width  petal_length  petal_width    species\n",
       "0               5          3.5           1.4          0.2     setosa\n",
       "1               5          3.0           1.4          0.2     setosa\n",
       "2               5          3.2           1.3          0.2     setosa\n",
       "3               5          3.1           1.5          0.2     setosa\n",
       "4               5          3.6           1.4          0.2     setosa\n",
       "..            ...          ...           ...          ...        ...\n",
       "145             7          3.0           5.2          2.3  virginica\n",
       "146             6          2.5           5.0          1.9  virginica\n",
       "147             6          3.0           5.2          2.0  virginica\n",
       "148             6          3.4           5.4          2.3  virginica\n",
       "149             6          3.0           5.1          1.8  virginica\n",
       "\n",
       "[150 rows x 5 columns]"
      ]
     },
     "execution_count": 454,
     "metadata": {},
     "output_type": "execute_result"
    }
   ],
   "source": [
    "df"
   ]
  },
  {
   "cell_type": "code",
   "execution_count": 461,
   "id": "bfbe2388",
   "metadata": {},
   "outputs": [
    {
     "data": {
      "text/plain": [
       "sepal_length         4\n",
       "sepal_width        2.0\n",
       "petal_length       1.0\n",
       "petal_width        0.1\n",
       "species         setosa\n",
       "dtype: object"
      ]
     },
     "execution_count": 461,
     "metadata": {},
     "output_type": "execute_result"
    }
   ],
   "source": [
    "df.aggregate('min')"
   ]
  },
  {
   "cell_type": "code",
   "execution_count": 462,
   "id": "6345cc03",
   "metadata": {},
   "outputs": [
    {
     "data": {
      "text/plain": [
       "sepal_length         4\n",
       "sepal_width        2.0\n",
       "petal_length       1.0\n",
       "petal_width        0.1\n",
       "species         setosa\n",
       "dtype: object"
      ]
     },
     "execution_count": 462,
     "metadata": {},
     "output_type": "execute_result"
    }
   ],
   "source": [
    "df.agg('min')"
   ]
  },
  {
   "cell_type": "code",
   "execution_count": 464,
   "id": "0783442e",
   "metadata": {},
   "outputs": [
    {
     "name": "stderr",
     "output_type": "stream",
     "text": [
      "<ipython-input-464-025d06ef7e78>:1: FutureWarning: ['species'] did not aggregate successfully. If any error is raised this will raise in a future version of pandas. Drop these columns/ops to avoid this warning.\n",
      "  df.agg(['min', 'max', 'median', 'mean'])\n"
     ]
    },
    {
     "data": {
      "text/html": [
       "<div>\n",
       "<style scoped>\n",
       "    .dataframe tbody tr th:only-of-type {\n",
       "        vertical-align: middle;\n",
       "    }\n",
       "\n",
       "    .dataframe tbody tr th {\n",
       "        vertical-align: top;\n",
       "    }\n",
       "\n",
       "    .dataframe thead th {\n",
       "        text-align: right;\n",
       "    }\n",
       "</style>\n",
       "<table border=\"1\" class=\"dataframe\">\n",
       "  <thead>\n",
       "    <tr style=\"text-align: right;\">\n",
       "      <th></th>\n",
       "      <th>sepal_length</th>\n",
       "      <th>sepal_width</th>\n",
       "      <th>petal_length</th>\n",
       "      <th>petal_width</th>\n",
       "      <th>species</th>\n",
       "    </tr>\n",
       "  </thead>\n",
       "  <tbody>\n",
       "    <tr>\n",
       "      <th>min</th>\n",
       "      <td>4.00</td>\n",
       "      <td>2.000</td>\n",
       "      <td>1.000000</td>\n",
       "      <td>0.100000</td>\n",
       "      <td>setosa</td>\n",
       "    </tr>\n",
       "    <tr>\n",
       "      <th>max</th>\n",
       "      <td>8.00</td>\n",
       "      <td>4.400</td>\n",
       "      <td>6.900000</td>\n",
       "      <td>2.500000</td>\n",
       "      <td>virginica</td>\n",
       "    </tr>\n",
       "    <tr>\n",
       "      <th>median</th>\n",
       "      <td>6.00</td>\n",
       "      <td>3.000</td>\n",
       "      <td>4.350000</td>\n",
       "      <td>1.300000</td>\n",
       "      <td>NaN</td>\n",
       "    </tr>\n",
       "    <tr>\n",
       "      <th>mean</th>\n",
       "      <td>5.86</td>\n",
       "      <td>3.054</td>\n",
       "      <td>3.758667</td>\n",
       "      <td>1.198667</td>\n",
       "      <td>NaN</td>\n",
       "    </tr>\n",
       "  </tbody>\n",
       "</table>\n",
       "</div>"
      ],
      "text/plain": [
       "        sepal_length  sepal_width  petal_length  petal_width    species\n",
       "min             4.00        2.000      1.000000     0.100000     setosa\n",
       "max             8.00        4.400      6.900000     2.500000  virginica\n",
       "median          6.00        3.000      4.350000     1.300000        NaN\n",
       "mean            5.86        3.054      3.758667     1.198667        NaN"
      ]
     },
     "execution_count": 464,
     "metadata": {},
     "output_type": "execute_result"
    }
   ],
   "source": [
    "df.agg(['min', 'max', 'median', 'mean'])"
   ]
  },
  {
   "cell_type": "code",
   "execution_count": 466,
   "id": "f0259fe8",
   "metadata": {},
   "outputs": [
    {
     "name": "stderr",
     "output_type": "stream",
     "text": [
      "<ipython-input-466-ffcb6e11e7e8>:1: FutureWarning: ['species'] did not aggregate successfully. If any error is raised this will raise in a future version of pandas. Drop these columns/ops to avoid this warning.\n",
      "  df.aggregate(['min', 'max', 'mean', 'median'])\n"
     ]
    },
    {
     "data": {
      "text/html": [
       "<div>\n",
       "<style scoped>\n",
       "    .dataframe tbody tr th:only-of-type {\n",
       "        vertical-align: middle;\n",
       "    }\n",
       "\n",
       "    .dataframe tbody tr th {\n",
       "        vertical-align: top;\n",
       "    }\n",
       "\n",
       "    .dataframe thead th {\n",
       "        text-align: right;\n",
       "    }\n",
       "</style>\n",
       "<table border=\"1\" class=\"dataframe\">\n",
       "  <thead>\n",
       "    <tr style=\"text-align: right;\">\n",
       "      <th></th>\n",
       "      <th>sepal_length</th>\n",
       "      <th>sepal_width</th>\n",
       "      <th>petal_length</th>\n",
       "      <th>petal_width</th>\n",
       "      <th>species</th>\n",
       "    </tr>\n",
       "  </thead>\n",
       "  <tbody>\n",
       "    <tr>\n",
       "      <th>min</th>\n",
       "      <td>4.00</td>\n",
       "      <td>2.000</td>\n",
       "      <td>1.000000</td>\n",
       "      <td>0.100000</td>\n",
       "      <td>setosa</td>\n",
       "    </tr>\n",
       "    <tr>\n",
       "      <th>max</th>\n",
       "      <td>8.00</td>\n",
       "      <td>4.400</td>\n",
       "      <td>6.900000</td>\n",
       "      <td>2.500000</td>\n",
       "      <td>virginica</td>\n",
       "    </tr>\n",
       "    <tr>\n",
       "      <th>mean</th>\n",
       "      <td>5.86</td>\n",
       "      <td>3.054</td>\n",
       "      <td>3.758667</td>\n",
       "      <td>1.198667</td>\n",
       "      <td>NaN</td>\n",
       "    </tr>\n",
       "    <tr>\n",
       "      <th>median</th>\n",
       "      <td>6.00</td>\n",
       "      <td>3.000</td>\n",
       "      <td>4.350000</td>\n",
       "      <td>1.300000</td>\n",
       "      <td>NaN</td>\n",
       "    </tr>\n",
       "  </tbody>\n",
       "</table>\n",
       "</div>"
      ],
      "text/plain": [
       "        sepal_length  sepal_width  petal_length  petal_width    species\n",
       "min             4.00        2.000      1.000000     0.100000     setosa\n",
       "max             8.00        4.400      6.900000     2.500000  virginica\n",
       "mean            5.86        3.054      3.758667     1.198667        NaN\n",
       "median          6.00        3.000      4.350000     1.300000        NaN"
      ]
     },
     "execution_count": 466,
     "metadata": {},
     "output_type": "execute_result"
    }
   ],
   "source": [
    "df.aggregate(['min', 'max', 'mean', 'median'])"
   ]
  },
  {
   "cell_type": "code",
   "execution_count": 469,
   "id": "1183c733",
   "metadata": {},
   "outputs": [],
   "source": [
    "groupby_obj = df.groupby('species')"
   ]
  },
  {
   "cell_type": "code",
   "execution_count": 470,
   "id": "d3300463",
   "metadata": {},
   "outputs": [
    {
     "data": {
      "text/plain": [
       "<pandas.core.groupby.generic.DataFrameGroupBy object at 0x0000015EC4D04D00>"
      ]
     },
     "execution_count": 470,
     "metadata": {},
     "output_type": "execute_result"
    }
   ],
   "source": [
    "groupby_obj"
   ]
  },
  {
   "cell_type": "code",
   "execution_count": 471,
   "id": "803d41f2",
   "metadata": {},
   "outputs": [
    {
     "data": {
      "text/html": [
       "<div>\n",
       "<style scoped>\n",
       "    .dataframe tbody tr th:only-of-type {\n",
       "        vertical-align: middle;\n",
       "    }\n",
       "\n",
       "    .dataframe tbody tr th {\n",
       "        vertical-align: top;\n",
       "    }\n",
       "\n",
       "    .dataframe thead th {\n",
       "        text-align: right;\n",
       "    }\n",
       "</style>\n",
       "<table border=\"1\" class=\"dataframe\">\n",
       "  <thead>\n",
       "    <tr style=\"text-align: right;\">\n",
       "      <th></th>\n",
       "      <th>sepal_length</th>\n",
       "      <th>sepal_width</th>\n",
       "      <th>petal_length</th>\n",
       "      <th>petal_width</th>\n",
       "    </tr>\n",
       "    <tr>\n",
       "      <th>species</th>\n",
       "      <th></th>\n",
       "      <th></th>\n",
       "      <th></th>\n",
       "      <th></th>\n",
       "    </tr>\n",
       "  </thead>\n",
       "  <tbody>\n",
       "    <tr>\n",
       "      <th>setosa</th>\n",
       "      <td>4</td>\n",
       "      <td>2.3</td>\n",
       "      <td>1.0</td>\n",
       "      <td>0.1</td>\n",
       "    </tr>\n",
       "    <tr>\n",
       "      <th>versicolor</th>\n",
       "      <td>5</td>\n",
       "      <td>2.0</td>\n",
       "      <td>3.0</td>\n",
       "      <td>1.0</td>\n",
       "    </tr>\n",
       "    <tr>\n",
       "      <th>virginica</th>\n",
       "      <td>5</td>\n",
       "      <td>2.2</td>\n",
       "      <td>4.5</td>\n",
       "      <td>1.4</td>\n",
       "    </tr>\n",
       "  </tbody>\n",
       "</table>\n",
       "</div>"
      ],
      "text/plain": [
       "            sepal_length  sepal_width  petal_length  petal_width\n",
       "species                                                         \n",
       "setosa                 4          2.3           1.0          0.1\n",
       "versicolor             5          2.0           3.0          1.0\n",
       "virginica              5          2.2           4.5          1.4"
      ]
     },
     "execution_count": 471,
     "metadata": {},
     "output_type": "execute_result"
    }
   ],
   "source": [
    "groupby_obj.min()"
   ]
  },
  {
   "cell_type": "code",
   "execution_count": 472,
   "id": "3ef53e9c",
   "metadata": {},
   "outputs": [
    {
     "data": {
      "text/html": [
       "<div>\n",
       "<style scoped>\n",
       "    .dataframe tbody tr th:only-of-type {\n",
       "        vertical-align: middle;\n",
       "    }\n",
       "\n",
       "    .dataframe tbody tr th {\n",
       "        vertical-align: top;\n",
       "    }\n",
       "\n",
       "    .dataframe thead th {\n",
       "        text-align: right;\n",
       "    }\n",
       "</style>\n",
       "<table border=\"1\" class=\"dataframe\">\n",
       "  <thead>\n",
       "    <tr style=\"text-align: right;\">\n",
       "      <th></th>\n",
       "      <th>sepal_length</th>\n",
       "      <th>sepal_width</th>\n",
       "      <th>petal_length</th>\n",
       "      <th>petal_width</th>\n",
       "    </tr>\n",
       "    <tr>\n",
       "      <th>species</th>\n",
       "      <th></th>\n",
       "      <th></th>\n",
       "      <th></th>\n",
       "      <th></th>\n",
       "    </tr>\n",
       "  </thead>\n",
       "  <tbody>\n",
       "    <tr>\n",
       "      <th>setosa</th>\n",
       "      <td>50</td>\n",
       "      <td>50</td>\n",
       "      <td>50</td>\n",
       "      <td>50</td>\n",
       "    </tr>\n",
       "    <tr>\n",
       "      <th>versicolor</th>\n",
       "      <td>50</td>\n",
       "      <td>50</td>\n",
       "      <td>50</td>\n",
       "      <td>50</td>\n",
       "    </tr>\n",
       "    <tr>\n",
       "      <th>virginica</th>\n",
       "      <td>50</td>\n",
       "      <td>50</td>\n",
       "      <td>50</td>\n",
       "      <td>50</td>\n",
       "    </tr>\n",
       "  </tbody>\n",
       "</table>\n",
       "</div>"
      ],
      "text/plain": [
       "            sepal_length  sepal_width  petal_length  petal_width\n",
       "species                                                         \n",
       "setosa                50           50            50           50\n",
       "versicolor            50           50            50           50\n",
       "virginica             50           50            50           50"
      ]
     },
     "execution_count": 472,
     "metadata": {},
     "output_type": "execute_result"
    }
   ],
   "source": [
    "groupby_obj.count()"
   ]
  },
  {
   "cell_type": "code",
   "execution_count": 473,
   "id": "6935ad96",
   "metadata": {},
   "outputs": [
    {
     "data": {
      "text/html": [
       "<div>\n",
       "<style scoped>\n",
       "    .dataframe tbody tr th:only-of-type {\n",
       "        vertical-align: middle;\n",
       "    }\n",
       "\n",
       "    .dataframe tbody tr th {\n",
       "        vertical-align: top;\n",
       "    }\n",
       "\n",
       "    .dataframe thead th {\n",
       "        text-align: right;\n",
       "    }\n",
       "</style>\n",
       "<table border=\"1\" class=\"dataframe\">\n",
       "  <thead>\n",
       "    <tr style=\"text-align: right;\">\n",
       "      <th></th>\n",
       "      <th></th>\n",
       "      <th>sepal_length</th>\n",
       "      <th>sepal_width</th>\n",
       "      <th>petal_length</th>\n",
       "      <th>petal_width</th>\n",
       "    </tr>\n",
       "    <tr>\n",
       "      <th>species</th>\n",
       "      <th></th>\n",
       "      <th></th>\n",
       "      <th></th>\n",
       "      <th></th>\n",
       "      <th></th>\n",
       "    </tr>\n",
       "  </thead>\n",
       "  <tbody>\n",
       "    <tr>\n",
       "      <th rowspan=\"4\" valign=\"top\">setosa</th>\n",
       "      <th>sepal_length</th>\n",
       "      <td>1.000000</td>\n",
       "      <td>0.652096</td>\n",
       "      <td>0.182252</td>\n",
       "      <td>0.126412</td>\n",
       "    </tr>\n",
       "    <tr>\n",
       "      <th>sepal_width</th>\n",
       "      <td>0.652096</td>\n",
       "      <td>1.000000</td>\n",
       "      <td>0.176695</td>\n",
       "      <td>0.279973</td>\n",
       "    </tr>\n",
       "    <tr>\n",
       "      <th>petal_length</th>\n",
       "      <td>0.182252</td>\n",
       "      <td>0.176695</td>\n",
       "      <td>1.000000</td>\n",
       "      <td>0.306308</td>\n",
       "    </tr>\n",
       "    <tr>\n",
       "      <th>petal_width</th>\n",
       "      <td>0.126412</td>\n",
       "      <td>0.279973</td>\n",
       "      <td>0.306308</td>\n",
       "      <td>1.000000</td>\n",
       "    </tr>\n",
       "    <tr>\n",
       "      <th rowspan=\"4\" valign=\"top\">versicolor</th>\n",
       "      <th>sepal_length</th>\n",
       "      <td>1.000000</td>\n",
       "      <td>0.458796</td>\n",
       "      <td>0.609492</td>\n",
       "      <td>0.377180</td>\n",
       "    </tr>\n",
       "    <tr>\n",
       "      <th>sepal_width</th>\n",
       "      <td>0.458796</td>\n",
       "      <td>1.000000</td>\n",
       "      <td>0.560522</td>\n",
       "      <td>0.663999</td>\n",
       "    </tr>\n",
       "    <tr>\n",
       "      <th>petal_length</th>\n",
       "      <td>0.609492</td>\n",
       "      <td>0.560522</td>\n",
       "      <td>1.000000</td>\n",
       "      <td>0.786668</td>\n",
       "    </tr>\n",
       "    <tr>\n",
       "      <th>petal_width</th>\n",
       "      <td>0.377180</td>\n",
       "      <td>0.663999</td>\n",
       "      <td>0.786668</td>\n",
       "      <td>1.000000</td>\n",
       "    </tr>\n",
       "    <tr>\n",
       "      <th rowspan=\"4\" valign=\"top\">virginica</th>\n",
       "      <th>sepal_length</th>\n",
       "      <td>1.000000</td>\n",
       "      <td>0.387986</td>\n",
       "      <td>0.815619</td>\n",
       "      <td>0.333739</td>\n",
       "    </tr>\n",
       "    <tr>\n",
       "      <th>sepal_width</th>\n",
       "      <td>0.387986</td>\n",
       "      <td>1.000000</td>\n",
       "      <td>0.401045</td>\n",
       "      <td>0.537728</td>\n",
       "    </tr>\n",
       "    <tr>\n",
       "      <th>petal_length</th>\n",
       "      <td>0.815619</td>\n",
       "      <td>0.401045</td>\n",
       "      <td>1.000000</td>\n",
       "      <td>0.322108</td>\n",
       "    </tr>\n",
       "    <tr>\n",
       "      <th>petal_width</th>\n",
       "      <td>0.333739</td>\n",
       "      <td>0.537728</td>\n",
       "      <td>0.322108</td>\n",
       "      <td>1.000000</td>\n",
       "    </tr>\n",
       "  </tbody>\n",
       "</table>\n",
       "</div>"
      ],
      "text/plain": [
       "                         sepal_length  sepal_width  petal_length  petal_width\n",
       "species                                                                      \n",
       "setosa     sepal_length      1.000000     0.652096      0.182252     0.126412\n",
       "           sepal_width       0.652096     1.000000      0.176695     0.279973\n",
       "           petal_length      0.182252     0.176695      1.000000     0.306308\n",
       "           petal_width       0.126412     0.279973      0.306308     1.000000\n",
       "versicolor sepal_length      1.000000     0.458796      0.609492     0.377180\n",
       "           sepal_width       0.458796     1.000000      0.560522     0.663999\n",
       "           petal_length      0.609492     0.560522      1.000000     0.786668\n",
       "           petal_width       0.377180     0.663999      0.786668     1.000000\n",
       "virginica  sepal_length      1.000000     0.387986      0.815619     0.333739\n",
       "           sepal_width       0.387986     1.000000      0.401045     0.537728\n",
       "           petal_length      0.815619     0.401045      1.000000     0.322108\n",
       "           petal_width       0.333739     0.537728      0.322108     1.000000"
      ]
     },
     "execution_count": 473,
     "metadata": {},
     "output_type": "execute_result"
    }
   ],
   "source": [
    "groupby_obj.corr()"
   ]
  },
  {
   "cell_type": "code",
   "execution_count": 474,
   "id": "47fed0de",
   "metadata": {},
   "outputs": [
    {
     "data": {
      "text/html": [
       "<div>\n",
       "<style scoped>\n",
       "    .dataframe tbody tr th:only-of-type {\n",
       "        vertical-align: middle;\n",
       "    }\n",
       "\n",
       "    .dataframe tbody tr th {\n",
       "        vertical-align: top;\n",
       "    }\n",
       "\n",
       "    .dataframe thead th {\n",
       "        text-align: right;\n",
       "    }\n",
       "</style>\n",
       "<table border=\"1\" class=\"dataframe\">\n",
       "  <thead>\n",
       "    <tr style=\"text-align: right;\">\n",
       "      <th></th>\n",
       "      <th>sepal_length</th>\n",
       "      <th>sepal_width</th>\n",
       "      <th>petal_length</th>\n",
       "      <th>petal_width</th>\n",
       "    </tr>\n",
       "    <tr>\n",
       "      <th>species</th>\n",
       "      <th></th>\n",
       "      <th></th>\n",
       "      <th></th>\n",
       "      <th></th>\n",
       "    </tr>\n",
       "  </thead>\n",
       "  <tbody>\n",
       "    <tr>\n",
       "      <th>setosa</th>\n",
       "      <td>250</td>\n",
       "      <td>170.9</td>\n",
       "      <td>73.2</td>\n",
       "      <td>12.2</td>\n",
       "    </tr>\n",
       "    <tr>\n",
       "      <th>versicolor</th>\n",
       "      <td>302</td>\n",
       "      <td>138.5</td>\n",
       "      <td>213.0</td>\n",
       "      <td>66.3</td>\n",
       "    </tr>\n",
       "    <tr>\n",
       "      <th>virginica</th>\n",
       "      <td>327</td>\n",
       "      <td>148.7</td>\n",
       "      <td>277.6</td>\n",
       "      <td>101.3</td>\n",
       "    </tr>\n",
       "  </tbody>\n",
       "</table>\n",
       "</div>"
      ],
      "text/plain": [
       "            sepal_length  sepal_width  petal_length  petal_width\n",
       "species                                                         \n",
       "setosa               250        170.9          73.2         12.2\n",
       "versicolor           302        138.5         213.0         66.3\n",
       "virginica            327        148.7         277.6        101.3"
      ]
     },
     "execution_count": 474,
     "metadata": {},
     "output_type": "execute_result"
    }
   ],
   "source": [
    "groupby_obj.sum()"
   ]
  },
  {
   "cell_type": "code",
   "execution_count": 475,
   "id": "38f5406d",
   "metadata": {},
   "outputs": [
    {
     "data": {
      "text/html": [
       "<div>\n",
       "<style scoped>\n",
       "    .dataframe tbody tr th:only-of-type {\n",
       "        vertical-align: middle;\n",
       "    }\n",
       "\n",
       "    .dataframe tbody tr th {\n",
       "        vertical-align: top;\n",
       "    }\n",
       "\n",
       "    .dataframe thead th {\n",
       "        text-align: right;\n",
       "    }\n",
       "</style>\n",
       "<table border=\"1\" class=\"dataframe\">\n",
       "  <thead>\n",
       "    <tr style=\"text-align: right;\">\n",
       "      <th></th>\n",
       "      <th>sepal_length</th>\n",
       "      <th>sepal_width</th>\n",
       "      <th>petal_length</th>\n",
       "      <th>petal_width</th>\n",
       "    </tr>\n",
       "    <tr>\n",
       "      <th>species</th>\n",
       "      <th></th>\n",
       "      <th></th>\n",
       "      <th></th>\n",
       "      <th></th>\n",
       "    </tr>\n",
       "  </thead>\n",
       "  <tbody>\n",
       "    <tr>\n",
       "      <th>setosa</th>\n",
       "      <td>5.00</td>\n",
       "      <td>3.418</td>\n",
       "      <td>1.464</td>\n",
       "      <td>0.244</td>\n",
       "    </tr>\n",
       "    <tr>\n",
       "      <th>versicolor</th>\n",
       "      <td>6.04</td>\n",
       "      <td>2.770</td>\n",
       "      <td>4.260</td>\n",
       "      <td>1.326</td>\n",
       "    </tr>\n",
       "    <tr>\n",
       "      <th>virginica</th>\n",
       "      <td>6.54</td>\n",
       "      <td>2.974</td>\n",
       "      <td>5.552</td>\n",
       "      <td>2.026</td>\n",
       "    </tr>\n",
       "  </tbody>\n",
       "</table>\n",
       "</div>"
      ],
      "text/plain": [
       "            sepal_length  sepal_width  petal_length  petal_width\n",
       "species                                                         \n",
       "setosa              5.00        3.418         1.464        0.244\n",
       "versicolor          6.04        2.770         4.260        1.326\n",
       "virginica           6.54        2.974         5.552        2.026"
      ]
     },
     "execution_count": 475,
     "metadata": {},
     "output_type": "execute_result"
    }
   ],
   "source": [
    "groupby_obj.mean()"
   ]
  },
  {
   "cell_type": "code",
   "execution_count": 481,
   "id": "95253bc8",
   "metadata": {},
   "outputs": [
    {
     "data": {
      "text/plain": [
       "3.418"
      ]
     },
     "execution_count": 481,
     "metadata": {},
     "output_type": "execute_result"
    }
   ],
   "source": [
    "df[df.species=='setosa']['sepal_width'].mean()"
   ]
  },
  {
   "cell_type": "code",
   "execution_count": 484,
   "id": "9ce8e440",
   "metadata": {},
   "outputs": [
    {
     "data": {
      "text/html": [
       "<div>\n",
       "<style scoped>\n",
       "    .dataframe tbody tr th:only-of-type {\n",
       "        vertical-align: middle;\n",
       "    }\n",
       "\n",
       "    .dataframe tbody tr th {\n",
       "        vertical-align: top;\n",
       "    }\n",
       "\n",
       "    .dataframe thead th {\n",
       "        text-align: right;\n",
       "    }\n",
       "</style>\n",
       "<table border=\"1\" class=\"dataframe\">\n",
       "  <thead>\n",
       "    <tr style=\"text-align: right;\">\n",
       "      <th></th>\n",
       "      <th>species</th>\n",
       "      <th>setosa</th>\n",
       "      <th>versicolor</th>\n",
       "      <th>virginica</th>\n",
       "    </tr>\n",
       "  </thead>\n",
       "  <tbody>\n",
       "    <tr>\n",
       "      <th rowspan=\"8\" valign=\"top\">sepal_length</th>\n",
       "      <th>count</th>\n",
       "      <td>50.000000</td>\n",
       "      <td>50.000000</td>\n",
       "      <td>50.000000</td>\n",
       "    </tr>\n",
       "    <tr>\n",
       "      <th>mean</th>\n",
       "      <td>5.000000</td>\n",
       "      <td>6.040000</td>\n",
       "      <td>6.540000</td>\n",
       "    </tr>\n",
       "    <tr>\n",
       "      <th>std</th>\n",
       "      <td>0.451754</td>\n",
       "      <td>0.532993</td>\n",
       "      <td>0.734291</td>\n",
       "    </tr>\n",
       "    <tr>\n",
       "      <th>min</th>\n",
       "      <td>4.000000</td>\n",
       "      <td>5.000000</td>\n",
       "      <td>5.000000</td>\n",
       "    </tr>\n",
       "    <tr>\n",
       "      <th>25%</th>\n",
       "      <td>5.000000</td>\n",
       "      <td>6.000000</td>\n",
       "      <td>6.000000</td>\n",
       "    </tr>\n",
       "    <tr>\n",
       "      <th>50%</th>\n",
       "      <td>5.000000</td>\n",
       "      <td>6.000000</td>\n",
       "      <td>6.000000</td>\n",
       "    </tr>\n",
       "    <tr>\n",
       "      <th>75%</th>\n",
       "      <td>5.000000</td>\n",
       "      <td>6.000000</td>\n",
       "      <td>7.000000</td>\n",
       "    </tr>\n",
       "    <tr>\n",
       "      <th>max</th>\n",
       "      <td>6.000000</td>\n",
       "      <td>7.000000</td>\n",
       "      <td>8.000000</td>\n",
       "    </tr>\n",
       "    <tr>\n",
       "      <th rowspan=\"8\" valign=\"top\">sepal_width</th>\n",
       "      <th>count</th>\n",
       "      <td>50.000000</td>\n",
       "      <td>50.000000</td>\n",
       "      <td>50.000000</td>\n",
       "    </tr>\n",
       "    <tr>\n",
       "      <th>mean</th>\n",
       "      <td>3.418000</td>\n",
       "      <td>2.770000</td>\n",
       "      <td>2.974000</td>\n",
       "    </tr>\n",
       "    <tr>\n",
       "      <th>std</th>\n",
       "      <td>0.381024</td>\n",
       "      <td>0.313798</td>\n",
       "      <td>0.322497</td>\n",
       "    </tr>\n",
       "    <tr>\n",
       "      <th>min</th>\n",
       "      <td>2.300000</td>\n",
       "      <td>2.000000</td>\n",
       "      <td>2.200000</td>\n",
       "    </tr>\n",
       "    <tr>\n",
       "      <th>25%</th>\n",
       "      <td>3.125000</td>\n",
       "      <td>2.525000</td>\n",
       "      <td>2.800000</td>\n",
       "    </tr>\n",
       "    <tr>\n",
       "      <th>50%</th>\n",
       "      <td>3.400000</td>\n",
       "      <td>2.800000</td>\n",
       "      <td>3.000000</td>\n",
       "    </tr>\n",
       "    <tr>\n",
       "      <th>75%</th>\n",
       "      <td>3.675000</td>\n",
       "      <td>3.000000</td>\n",
       "      <td>3.175000</td>\n",
       "    </tr>\n",
       "    <tr>\n",
       "      <th>max</th>\n",
       "      <td>4.400000</td>\n",
       "      <td>3.400000</td>\n",
       "      <td>3.800000</td>\n",
       "    </tr>\n",
       "    <tr>\n",
       "      <th rowspan=\"8\" valign=\"top\">petal_length</th>\n",
       "      <th>count</th>\n",
       "      <td>50.000000</td>\n",
       "      <td>50.000000</td>\n",
       "      <td>50.000000</td>\n",
       "    </tr>\n",
       "    <tr>\n",
       "      <th>mean</th>\n",
       "      <td>1.464000</td>\n",
       "      <td>4.260000</td>\n",
       "      <td>5.552000</td>\n",
       "    </tr>\n",
       "    <tr>\n",
       "      <th>std</th>\n",
       "      <td>0.173511</td>\n",
       "      <td>0.469911</td>\n",
       "      <td>0.551895</td>\n",
       "    </tr>\n",
       "    <tr>\n",
       "      <th>min</th>\n",
       "      <td>1.000000</td>\n",
       "      <td>3.000000</td>\n",
       "      <td>4.500000</td>\n",
       "    </tr>\n",
       "    <tr>\n",
       "      <th>25%</th>\n",
       "      <td>1.400000</td>\n",
       "      <td>4.000000</td>\n",
       "      <td>5.100000</td>\n",
       "    </tr>\n",
       "    <tr>\n",
       "      <th>50%</th>\n",
       "      <td>1.500000</td>\n",
       "      <td>4.350000</td>\n",
       "      <td>5.550000</td>\n",
       "    </tr>\n",
       "    <tr>\n",
       "      <th>75%</th>\n",
       "      <td>1.575000</td>\n",
       "      <td>4.600000</td>\n",
       "      <td>5.875000</td>\n",
       "    </tr>\n",
       "    <tr>\n",
       "      <th>max</th>\n",
       "      <td>1.900000</td>\n",
       "      <td>5.100000</td>\n",
       "      <td>6.900000</td>\n",
       "    </tr>\n",
       "    <tr>\n",
       "      <th rowspan=\"8\" valign=\"top\">petal_width</th>\n",
       "      <th>count</th>\n",
       "      <td>50.000000</td>\n",
       "      <td>50.000000</td>\n",
       "      <td>50.000000</td>\n",
       "    </tr>\n",
       "    <tr>\n",
       "      <th>mean</th>\n",
       "      <td>0.244000</td>\n",
       "      <td>1.326000</td>\n",
       "      <td>2.026000</td>\n",
       "    </tr>\n",
       "    <tr>\n",
       "      <th>std</th>\n",
       "      <td>0.107210</td>\n",
       "      <td>0.197753</td>\n",
       "      <td>0.274650</td>\n",
       "    </tr>\n",
       "    <tr>\n",
       "      <th>min</th>\n",
       "      <td>0.100000</td>\n",
       "      <td>1.000000</td>\n",
       "      <td>1.400000</td>\n",
       "    </tr>\n",
       "    <tr>\n",
       "      <th>25%</th>\n",
       "      <td>0.200000</td>\n",
       "      <td>1.200000</td>\n",
       "      <td>1.800000</td>\n",
       "    </tr>\n",
       "    <tr>\n",
       "      <th>50%</th>\n",
       "      <td>0.200000</td>\n",
       "      <td>1.300000</td>\n",
       "      <td>2.000000</td>\n",
       "    </tr>\n",
       "    <tr>\n",
       "      <th>75%</th>\n",
       "      <td>0.300000</td>\n",
       "      <td>1.500000</td>\n",
       "      <td>2.300000</td>\n",
       "    </tr>\n",
       "    <tr>\n",
       "      <th>max</th>\n",
       "      <td>0.600000</td>\n",
       "      <td>1.800000</td>\n",
       "      <td>2.500000</td>\n",
       "    </tr>\n",
       "  </tbody>\n",
       "</table>\n",
       "</div>"
      ],
      "text/plain": [
       "species                setosa  versicolor  virginica\n",
       "sepal_length count  50.000000   50.000000  50.000000\n",
       "             mean    5.000000    6.040000   6.540000\n",
       "             std     0.451754    0.532993   0.734291\n",
       "             min     4.000000    5.000000   5.000000\n",
       "             25%     5.000000    6.000000   6.000000\n",
       "             50%     5.000000    6.000000   6.000000\n",
       "             75%     5.000000    6.000000   7.000000\n",
       "             max     6.000000    7.000000   8.000000\n",
       "sepal_width  count  50.000000   50.000000  50.000000\n",
       "             mean    3.418000    2.770000   2.974000\n",
       "             std     0.381024    0.313798   0.322497\n",
       "             min     2.300000    2.000000   2.200000\n",
       "             25%     3.125000    2.525000   2.800000\n",
       "             50%     3.400000    2.800000   3.000000\n",
       "             75%     3.675000    3.000000   3.175000\n",
       "             max     4.400000    3.400000   3.800000\n",
       "petal_length count  50.000000   50.000000  50.000000\n",
       "             mean    1.464000    4.260000   5.552000\n",
       "             std     0.173511    0.469911   0.551895\n",
       "             min     1.000000    3.000000   4.500000\n",
       "             25%     1.400000    4.000000   5.100000\n",
       "             50%     1.500000    4.350000   5.550000\n",
       "             75%     1.575000    4.600000   5.875000\n",
       "             max     1.900000    5.100000   6.900000\n",
       "petal_width  count  50.000000   50.000000  50.000000\n",
       "             mean    0.244000    1.326000   2.026000\n",
       "             std     0.107210    0.197753   0.274650\n",
       "             min     0.100000    1.000000   1.400000\n",
       "             25%     0.200000    1.200000   1.800000\n",
       "             50%     0.200000    1.300000   2.000000\n",
       "             75%     0.300000    1.500000   2.300000\n",
       "             max     0.600000    1.800000   2.500000"
      ]
     },
     "execution_count": 484,
     "metadata": {},
     "output_type": "execute_result"
    }
   ],
   "source": [
    "groupby_obj.describe().T"
   ]
  },
  {
   "cell_type": "code",
   "execution_count": 487,
   "id": "9d3b20d8",
   "metadata": {},
   "outputs": [
    {
     "data": {
      "text/plain": [
       "0         SETOSA\n",
       "1         SETOSA\n",
       "2         SETOSA\n",
       "3         SETOSA\n",
       "4         SETOSA\n",
       "         ...    \n",
       "145    VIRGINICA\n",
       "146    VIRGINICA\n",
       "147    VIRGINICA\n",
       "148    VIRGINICA\n",
       "149    VIRGINICA\n",
       "Name: species, Length: 150, dtype: object"
      ]
     },
     "execution_count": 487,
     "metadata": {},
     "output_type": "execute_result"
    }
   ],
   "source": [
    "df.species.apply(lambda x:x.upper())"
   ]
  },
  {
   "cell_type": "code",
   "execution_count": null,
   "id": "23786f9e",
   "metadata": {},
   "outputs": [],
   "source": []
  },
  {
   "cell_type": "code",
   "execution_count": 488,
   "id": "23b5e059",
   "metadata": {},
   "outputs": [],
   "source": [
    "# Handling missing data"
   ]
  },
  {
   "cell_type": "code",
   "execution_count": 489,
   "id": "d950aa03",
   "metadata": {},
   "outputs": [],
   "source": [
    "import numpy as np"
   ]
  },
  {
   "cell_type": "code",
   "execution_count": 492,
   "id": "1e2130e5",
   "metadata": {},
   "outputs": [],
   "source": [
    "idx = np.random.randint(1,100, 15)"
   ]
  },
  {
   "cell_type": "code",
   "execution_count": 495,
   "id": "25af22e6",
   "metadata": {},
   "outputs": [],
   "source": [
    "import warnings\n",
    "warnings.filterwarnings('ignore')"
   ]
  },
  {
   "cell_type": "code",
   "execution_count": 496,
   "id": "13d6c1cd",
   "metadata": {},
   "outputs": [],
   "source": [
    "df.sepal_length[idx] = np.nan"
   ]
  },
  {
   "cell_type": "code",
   "execution_count": 497,
   "id": "90f068d8",
   "metadata": {},
   "outputs": [
    {
     "data": {
      "text/html": [
       "<div>\n",
       "<style scoped>\n",
       "    .dataframe tbody tr th:only-of-type {\n",
       "        vertical-align: middle;\n",
       "    }\n",
       "\n",
       "    .dataframe tbody tr th {\n",
       "        vertical-align: top;\n",
       "    }\n",
       "\n",
       "    .dataframe thead th {\n",
       "        text-align: right;\n",
       "    }\n",
       "</style>\n",
       "<table border=\"1\" class=\"dataframe\">\n",
       "  <thead>\n",
       "    <tr style=\"text-align: right;\">\n",
       "      <th></th>\n",
       "      <th>sepal_length</th>\n",
       "      <th>sepal_width</th>\n",
       "      <th>petal_length</th>\n",
       "      <th>petal_width</th>\n",
       "      <th>species</th>\n",
       "    </tr>\n",
       "  </thead>\n",
       "  <tbody>\n",
       "    <tr>\n",
       "      <th>0</th>\n",
       "      <td>5.0</td>\n",
       "      <td>3.5</td>\n",
       "      <td>1.4</td>\n",
       "      <td>0.2</td>\n",
       "      <td>setosa</td>\n",
       "    </tr>\n",
       "    <tr>\n",
       "      <th>1</th>\n",
       "      <td>NaN</td>\n",
       "      <td>3.0</td>\n",
       "      <td>1.4</td>\n",
       "      <td>0.2</td>\n",
       "      <td>setosa</td>\n",
       "    </tr>\n",
       "    <tr>\n",
       "      <th>2</th>\n",
       "      <td>5.0</td>\n",
       "      <td>3.2</td>\n",
       "      <td>1.3</td>\n",
       "      <td>0.2</td>\n",
       "      <td>setosa</td>\n",
       "    </tr>\n",
       "    <tr>\n",
       "      <th>3</th>\n",
       "      <td>5.0</td>\n",
       "      <td>3.1</td>\n",
       "      <td>1.5</td>\n",
       "      <td>0.2</td>\n",
       "      <td>setosa</td>\n",
       "    </tr>\n",
       "    <tr>\n",
       "      <th>4</th>\n",
       "      <td>5.0</td>\n",
       "      <td>3.6</td>\n",
       "      <td>1.4</td>\n",
       "      <td>0.2</td>\n",
       "      <td>setosa</td>\n",
       "    </tr>\n",
       "    <tr>\n",
       "      <th>...</th>\n",
       "      <td>...</td>\n",
       "      <td>...</td>\n",
       "      <td>...</td>\n",
       "      <td>...</td>\n",
       "      <td>...</td>\n",
       "    </tr>\n",
       "    <tr>\n",
       "      <th>145</th>\n",
       "      <td>7.0</td>\n",
       "      <td>3.0</td>\n",
       "      <td>5.2</td>\n",
       "      <td>2.3</td>\n",
       "      <td>virginica</td>\n",
       "    </tr>\n",
       "    <tr>\n",
       "      <th>146</th>\n",
       "      <td>6.0</td>\n",
       "      <td>2.5</td>\n",
       "      <td>5.0</td>\n",
       "      <td>1.9</td>\n",
       "      <td>virginica</td>\n",
       "    </tr>\n",
       "    <tr>\n",
       "      <th>147</th>\n",
       "      <td>6.0</td>\n",
       "      <td>3.0</td>\n",
       "      <td>5.2</td>\n",
       "      <td>2.0</td>\n",
       "      <td>virginica</td>\n",
       "    </tr>\n",
       "    <tr>\n",
       "      <th>148</th>\n",
       "      <td>6.0</td>\n",
       "      <td>3.4</td>\n",
       "      <td>5.4</td>\n",
       "      <td>2.3</td>\n",
       "      <td>virginica</td>\n",
       "    </tr>\n",
       "    <tr>\n",
       "      <th>149</th>\n",
       "      <td>6.0</td>\n",
       "      <td>3.0</td>\n",
       "      <td>5.1</td>\n",
       "      <td>1.8</td>\n",
       "      <td>virginica</td>\n",
       "    </tr>\n",
       "  </tbody>\n",
       "</table>\n",
       "<p>150 rows × 5 columns</p>\n",
       "</div>"
      ],
      "text/plain": [
       "     sepal_length  sepal_width  petal_length  petal_width    species\n",
       "0             5.0          3.5           1.4          0.2     setosa\n",
       "1             NaN          3.0           1.4          0.2     setosa\n",
       "2             5.0          3.2           1.3          0.2     setosa\n",
       "3             5.0          3.1           1.5          0.2     setosa\n",
       "4             5.0          3.6           1.4          0.2     setosa\n",
       "..            ...          ...           ...          ...        ...\n",
       "145           7.0          3.0           5.2          2.3  virginica\n",
       "146           6.0          2.5           5.0          1.9  virginica\n",
       "147           6.0          3.0           5.2          2.0  virginica\n",
       "148           6.0          3.4           5.4          2.3  virginica\n",
       "149           6.0          3.0           5.1          1.8  virginica\n",
       "\n",
       "[150 rows x 5 columns]"
      ]
     },
     "execution_count": 497,
     "metadata": {},
     "output_type": "execute_result"
    }
   ],
   "source": [
    "df"
   ]
  },
  {
   "cell_type": "code",
   "execution_count": 502,
   "id": "45add44c",
   "metadata": {},
   "outputs": [],
   "source": [
    "idx = np.random.randint(1,100,20)"
   ]
  },
  {
   "cell_type": "code",
   "execution_count": 504,
   "id": "e93d87bc",
   "metadata": {},
   "outputs": [],
   "source": [
    "df.petal_length[idx] = np.nan"
   ]
  },
  {
   "cell_type": "code",
   "execution_count": 505,
   "id": "2f4dd694",
   "metadata": {},
   "outputs": [
    {
     "data": {
      "text/html": [
       "<div>\n",
       "<style scoped>\n",
       "    .dataframe tbody tr th:only-of-type {\n",
       "        vertical-align: middle;\n",
       "    }\n",
       "\n",
       "    .dataframe tbody tr th {\n",
       "        vertical-align: top;\n",
       "    }\n",
       "\n",
       "    .dataframe thead th {\n",
       "        text-align: right;\n",
       "    }\n",
       "</style>\n",
       "<table border=\"1\" class=\"dataframe\">\n",
       "  <thead>\n",
       "    <tr style=\"text-align: right;\">\n",
       "      <th></th>\n",
       "      <th>sepal_length</th>\n",
       "      <th>sepal_width</th>\n",
       "      <th>petal_length</th>\n",
       "      <th>petal_width</th>\n",
       "      <th>species</th>\n",
       "    </tr>\n",
       "  </thead>\n",
       "  <tbody>\n",
       "    <tr>\n",
       "      <th>0</th>\n",
       "      <td>5.0</td>\n",
       "      <td>3.5</td>\n",
       "      <td>1.4</td>\n",
       "      <td>0.2</td>\n",
       "      <td>setosa</td>\n",
       "    </tr>\n",
       "    <tr>\n",
       "      <th>1</th>\n",
       "      <td>NaN</td>\n",
       "      <td>3.0</td>\n",
       "      <td>1.4</td>\n",
       "      <td>0.2</td>\n",
       "      <td>setosa</td>\n",
       "    </tr>\n",
       "    <tr>\n",
       "      <th>2</th>\n",
       "      <td>5.0</td>\n",
       "      <td>3.2</td>\n",
       "      <td>1.3</td>\n",
       "      <td>0.2</td>\n",
       "      <td>setosa</td>\n",
       "    </tr>\n",
       "    <tr>\n",
       "      <th>3</th>\n",
       "      <td>5.0</td>\n",
       "      <td>3.1</td>\n",
       "      <td>1.5</td>\n",
       "      <td>0.2</td>\n",
       "      <td>setosa</td>\n",
       "    </tr>\n",
       "    <tr>\n",
       "      <th>4</th>\n",
       "      <td>5.0</td>\n",
       "      <td>3.6</td>\n",
       "      <td>NaN</td>\n",
       "      <td>0.2</td>\n",
       "      <td>setosa</td>\n",
       "    </tr>\n",
       "    <tr>\n",
       "      <th>...</th>\n",
       "      <td>...</td>\n",
       "      <td>...</td>\n",
       "      <td>...</td>\n",
       "      <td>...</td>\n",
       "      <td>...</td>\n",
       "    </tr>\n",
       "    <tr>\n",
       "      <th>145</th>\n",
       "      <td>7.0</td>\n",
       "      <td>3.0</td>\n",
       "      <td>5.2</td>\n",
       "      <td>2.3</td>\n",
       "      <td>virginica</td>\n",
       "    </tr>\n",
       "    <tr>\n",
       "      <th>146</th>\n",
       "      <td>6.0</td>\n",
       "      <td>2.5</td>\n",
       "      <td>5.0</td>\n",
       "      <td>1.9</td>\n",
       "      <td>virginica</td>\n",
       "    </tr>\n",
       "    <tr>\n",
       "      <th>147</th>\n",
       "      <td>6.0</td>\n",
       "      <td>3.0</td>\n",
       "      <td>5.2</td>\n",
       "      <td>2.0</td>\n",
       "      <td>virginica</td>\n",
       "    </tr>\n",
       "    <tr>\n",
       "      <th>148</th>\n",
       "      <td>6.0</td>\n",
       "      <td>3.4</td>\n",
       "      <td>5.4</td>\n",
       "      <td>2.3</td>\n",
       "      <td>virginica</td>\n",
       "    </tr>\n",
       "    <tr>\n",
       "      <th>149</th>\n",
       "      <td>6.0</td>\n",
       "      <td>3.0</td>\n",
       "      <td>5.1</td>\n",
       "      <td>1.8</td>\n",
       "      <td>virginica</td>\n",
       "    </tr>\n",
       "  </tbody>\n",
       "</table>\n",
       "<p>150 rows × 5 columns</p>\n",
       "</div>"
      ],
      "text/plain": [
       "     sepal_length  sepal_width  petal_length  petal_width    species\n",
       "0             5.0          3.5           1.4          0.2     setosa\n",
       "1             NaN          3.0           1.4          0.2     setosa\n",
       "2             5.0          3.2           1.3          0.2     setosa\n",
       "3             5.0          3.1           1.5          0.2     setosa\n",
       "4             5.0          3.6           NaN          0.2     setosa\n",
       "..            ...          ...           ...          ...        ...\n",
       "145           7.0          3.0           5.2          2.3  virginica\n",
       "146           6.0          2.5           5.0          1.9  virginica\n",
       "147           6.0          3.0           5.2          2.0  virginica\n",
       "148           6.0          3.4           5.4          2.3  virginica\n",
       "149           6.0          3.0           5.1          1.8  virginica\n",
       "\n",
       "[150 rows x 5 columns]"
      ]
     },
     "execution_count": 505,
     "metadata": {},
     "output_type": "execute_result"
    }
   ],
   "source": [
    "df"
   ]
  },
  {
   "cell_type": "code",
   "execution_count": 507,
   "id": "3b3a8883",
   "metadata": {},
   "outputs": [
    {
     "data": {
      "text/plain": [
       "sepal_length    14\n",
       "sepal_width      0\n",
       "petal_length    19\n",
       "petal_width      0\n",
       "species          0\n",
       "dtype: int64"
      ]
     },
     "execution_count": 507,
     "metadata": {},
     "output_type": "execute_result"
    }
   ],
   "source": [
    "df.isnull().sum()"
   ]
  },
  {
   "cell_type": "code",
   "execution_count": 509,
   "id": "74d71123",
   "metadata": {},
   "outputs": [
    {
     "data": {
      "text/html": [
       "<div>\n",
       "<style scoped>\n",
       "    .dataframe tbody tr th:only-of-type {\n",
       "        vertical-align: middle;\n",
       "    }\n",
       "\n",
       "    .dataframe tbody tr th {\n",
       "        vertical-align: top;\n",
       "    }\n",
       "\n",
       "    .dataframe thead th {\n",
       "        text-align: right;\n",
       "    }\n",
       "</style>\n",
       "<table border=\"1\" class=\"dataframe\">\n",
       "  <thead>\n",
       "    <tr style=\"text-align: right;\">\n",
       "      <th></th>\n",
       "      <th>sepal_length</th>\n",
       "      <th>sepal_width</th>\n",
       "      <th>petal_length</th>\n",
       "      <th>petal_width</th>\n",
       "      <th>species</th>\n",
       "    </tr>\n",
       "  </thead>\n",
       "  <tbody>\n",
       "    <tr>\n",
       "      <th>0</th>\n",
       "      <td>5.0</td>\n",
       "      <td>3.5</td>\n",
       "      <td>1.4</td>\n",
       "      <td>0.2</td>\n",
       "      <td>setosa</td>\n",
       "    </tr>\n",
       "    <tr>\n",
       "      <th>2</th>\n",
       "      <td>5.0</td>\n",
       "      <td>3.2</td>\n",
       "      <td>1.3</td>\n",
       "      <td>0.2</td>\n",
       "      <td>setosa</td>\n",
       "    </tr>\n",
       "    <tr>\n",
       "      <th>3</th>\n",
       "      <td>5.0</td>\n",
       "      <td>3.1</td>\n",
       "      <td>1.5</td>\n",
       "      <td>0.2</td>\n",
       "      <td>setosa</td>\n",
       "    </tr>\n",
       "    <tr>\n",
       "      <th>5</th>\n",
       "      <td>5.0</td>\n",
       "      <td>3.9</td>\n",
       "      <td>1.7</td>\n",
       "      <td>0.4</td>\n",
       "      <td>setosa</td>\n",
       "    </tr>\n",
       "    <tr>\n",
       "      <th>8</th>\n",
       "      <td>4.0</td>\n",
       "      <td>2.9</td>\n",
       "      <td>1.4</td>\n",
       "      <td>0.2</td>\n",
       "      <td>setosa</td>\n",
       "    </tr>\n",
       "    <tr>\n",
       "      <th>...</th>\n",
       "      <td>...</td>\n",
       "      <td>...</td>\n",
       "      <td>...</td>\n",
       "      <td>...</td>\n",
       "      <td>...</td>\n",
       "    </tr>\n",
       "    <tr>\n",
       "      <th>145</th>\n",
       "      <td>7.0</td>\n",
       "      <td>3.0</td>\n",
       "      <td>5.2</td>\n",
       "      <td>2.3</td>\n",
       "      <td>virginica</td>\n",
       "    </tr>\n",
       "    <tr>\n",
       "      <th>146</th>\n",
       "      <td>6.0</td>\n",
       "      <td>2.5</td>\n",
       "      <td>5.0</td>\n",
       "      <td>1.9</td>\n",
       "      <td>virginica</td>\n",
       "    </tr>\n",
       "    <tr>\n",
       "      <th>147</th>\n",
       "      <td>6.0</td>\n",
       "      <td>3.0</td>\n",
       "      <td>5.2</td>\n",
       "      <td>2.0</td>\n",
       "      <td>virginica</td>\n",
       "    </tr>\n",
       "    <tr>\n",
       "      <th>148</th>\n",
       "      <td>6.0</td>\n",
       "      <td>3.4</td>\n",
       "      <td>5.4</td>\n",
       "      <td>2.3</td>\n",
       "      <td>virginica</td>\n",
       "    </tr>\n",
       "    <tr>\n",
       "      <th>149</th>\n",
       "      <td>6.0</td>\n",
       "      <td>3.0</td>\n",
       "      <td>5.1</td>\n",
       "      <td>1.8</td>\n",
       "      <td>virginica</td>\n",
       "    </tr>\n",
       "  </tbody>\n",
       "</table>\n",
       "<p>117 rows × 5 columns</p>\n",
       "</div>"
      ],
      "text/plain": [
       "     sepal_length  sepal_width  petal_length  petal_width    species\n",
       "0             5.0          3.5           1.4          0.2     setosa\n",
       "2             5.0          3.2           1.3          0.2     setosa\n",
       "3             5.0          3.1           1.5          0.2     setosa\n",
       "5             5.0          3.9           1.7          0.4     setosa\n",
       "8             4.0          2.9           1.4          0.2     setosa\n",
       "..            ...          ...           ...          ...        ...\n",
       "145           7.0          3.0           5.2          2.3  virginica\n",
       "146           6.0          2.5           5.0          1.9  virginica\n",
       "147           6.0          3.0           5.2          2.0  virginica\n",
       "148           6.0          3.4           5.4          2.3  virginica\n",
       "149           6.0          3.0           5.1          1.8  virginica\n",
       "\n",
       "[117 rows x 5 columns]"
      ]
     },
     "execution_count": 509,
     "metadata": {},
     "output_type": "execute_result"
    }
   ],
   "source": [
    "#df.dropna()"
   ]
  },
  {
   "cell_type": "code",
   "execution_count": 510,
   "id": "e2b5bf7f",
   "metadata": {},
   "outputs": [
    {
     "data": {
      "text/html": [
       "<div>\n",
       "<style scoped>\n",
       "    .dataframe tbody tr th:only-of-type {\n",
       "        vertical-align: middle;\n",
       "    }\n",
       "\n",
       "    .dataframe tbody tr th {\n",
       "        vertical-align: top;\n",
       "    }\n",
       "\n",
       "    .dataframe thead th {\n",
       "        text-align: right;\n",
       "    }\n",
       "</style>\n",
       "<table border=\"1\" class=\"dataframe\">\n",
       "  <thead>\n",
       "    <tr style=\"text-align: right;\">\n",
       "      <th></th>\n",
       "      <th>sepal_length</th>\n",
       "      <th>sepal_width</th>\n",
       "      <th>petal_length</th>\n",
       "      <th>petal_width</th>\n",
       "      <th>species</th>\n",
       "    </tr>\n",
       "  </thead>\n",
       "  <tbody>\n",
       "    <tr>\n",
       "      <th>0</th>\n",
       "      <td>5.0</td>\n",
       "      <td>3.5</td>\n",
       "      <td>1.4</td>\n",
       "      <td>0.2</td>\n",
       "      <td>setosa</td>\n",
       "    </tr>\n",
       "    <tr>\n",
       "      <th>1</th>\n",
       "      <td>NaN</td>\n",
       "      <td>3.0</td>\n",
       "      <td>1.4</td>\n",
       "      <td>0.2</td>\n",
       "      <td>setosa</td>\n",
       "    </tr>\n",
       "    <tr>\n",
       "      <th>2</th>\n",
       "      <td>5.0</td>\n",
       "      <td>3.2</td>\n",
       "      <td>1.3</td>\n",
       "      <td>0.2</td>\n",
       "      <td>setosa</td>\n",
       "    </tr>\n",
       "    <tr>\n",
       "      <th>3</th>\n",
       "      <td>5.0</td>\n",
       "      <td>3.1</td>\n",
       "      <td>1.5</td>\n",
       "      <td>0.2</td>\n",
       "      <td>setosa</td>\n",
       "    </tr>\n",
       "    <tr>\n",
       "      <th>4</th>\n",
       "      <td>5.0</td>\n",
       "      <td>3.6</td>\n",
       "      <td>NaN</td>\n",
       "      <td>0.2</td>\n",
       "      <td>setosa</td>\n",
       "    </tr>\n",
       "    <tr>\n",
       "      <th>...</th>\n",
       "      <td>...</td>\n",
       "      <td>...</td>\n",
       "      <td>...</td>\n",
       "      <td>...</td>\n",
       "      <td>...</td>\n",
       "    </tr>\n",
       "    <tr>\n",
       "      <th>145</th>\n",
       "      <td>7.0</td>\n",
       "      <td>3.0</td>\n",
       "      <td>5.2</td>\n",
       "      <td>2.3</td>\n",
       "      <td>virginica</td>\n",
       "    </tr>\n",
       "    <tr>\n",
       "      <th>146</th>\n",
       "      <td>6.0</td>\n",
       "      <td>2.5</td>\n",
       "      <td>5.0</td>\n",
       "      <td>1.9</td>\n",
       "      <td>virginica</td>\n",
       "    </tr>\n",
       "    <tr>\n",
       "      <th>147</th>\n",
       "      <td>6.0</td>\n",
       "      <td>3.0</td>\n",
       "      <td>5.2</td>\n",
       "      <td>2.0</td>\n",
       "      <td>virginica</td>\n",
       "    </tr>\n",
       "    <tr>\n",
       "      <th>148</th>\n",
       "      <td>6.0</td>\n",
       "      <td>3.4</td>\n",
       "      <td>5.4</td>\n",
       "      <td>2.3</td>\n",
       "      <td>virginica</td>\n",
       "    </tr>\n",
       "    <tr>\n",
       "      <th>149</th>\n",
       "      <td>6.0</td>\n",
       "      <td>3.0</td>\n",
       "      <td>5.1</td>\n",
       "      <td>1.8</td>\n",
       "      <td>virginica</td>\n",
       "    </tr>\n",
       "  </tbody>\n",
       "</table>\n",
       "<p>150 rows × 5 columns</p>\n",
       "</div>"
      ],
      "text/plain": [
       "     sepal_length  sepal_width  petal_length  petal_width    species\n",
       "0             5.0          3.5           1.4          0.2     setosa\n",
       "1             NaN          3.0           1.4          0.2     setosa\n",
       "2             5.0          3.2           1.3          0.2     setosa\n",
       "3             5.0          3.1           1.5          0.2     setosa\n",
       "4             5.0          3.6           NaN          0.2     setosa\n",
       "..            ...          ...           ...          ...        ...\n",
       "145           7.0          3.0           5.2          2.3  virginica\n",
       "146           6.0          2.5           5.0          1.9  virginica\n",
       "147           6.0          3.0           5.2          2.0  virginica\n",
       "148           6.0          3.4           5.4          2.3  virginica\n",
       "149           6.0          3.0           5.1          1.8  virginica\n",
       "\n",
       "[150 rows x 5 columns]"
      ]
     },
     "execution_count": 510,
     "metadata": {},
     "output_type": "execute_result"
    }
   ],
   "source": [
    "df"
   ]
  },
  {
   "cell_type": "code",
   "execution_count": 512,
   "id": "93e9e02d",
   "metadata": {},
   "outputs": [
    {
     "data": {
      "text/html": [
       "<div>\n",
       "<style scoped>\n",
       "    .dataframe tbody tr th:only-of-type {\n",
       "        vertical-align: middle;\n",
       "    }\n",
       "\n",
       "    .dataframe tbody tr th {\n",
       "        vertical-align: top;\n",
       "    }\n",
       "\n",
       "    .dataframe thead th {\n",
       "        text-align: right;\n",
       "    }\n",
       "</style>\n",
       "<table border=\"1\" class=\"dataframe\">\n",
       "  <thead>\n",
       "    <tr style=\"text-align: right;\">\n",
       "      <th></th>\n",
       "      <th>sepal_length</th>\n",
       "      <th>sepal_width</th>\n",
       "      <th>petal_length</th>\n",
       "      <th>petal_width</th>\n",
       "      <th>species</th>\n",
       "    </tr>\n",
       "  </thead>\n",
       "  <tbody>\n",
       "    <tr>\n",
       "      <th>0</th>\n",
       "      <td>5.0</td>\n",
       "      <td>3.5</td>\n",
       "      <td>1.4</td>\n",
       "      <td>0.2</td>\n",
       "      <td>setosa</td>\n",
       "    </tr>\n",
       "    <tr>\n",
       "      <th>1</th>\n",
       "      <td>this</td>\n",
       "      <td>3.0</td>\n",
       "      <td>1.4</td>\n",
       "      <td>0.2</td>\n",
       "      <td>setosa</td>\n",
       "    </tr>\n",
       "    <tr>\n",
       "      <th>2</th>\n",
       "      <td>5.0</td>\n",
       "      <td>3.2</td>\n",
       "      <td>1.3</td>\n",
       "      <td>0.2</td>\n",
       "      <td>setosa</td>\n",
       "    </tr>\n",
       "    <tr>\n",
       "      <th>3</th>\n",
       "      <td>5.0</td>\n",
       "      <td>3.1</td>\n",
       "      <td>1.5</td>\n",
       "      <td>0.2</td>\n",
       "      <td>setosa</td>\n",
       "    </tr>\n",
       "    <tr>\n",
       "      <th>4</th>\n",
       "      <td>5.0</td>\n",
       "      <td>3.6</td>\n",
       "      <td>this</td>\n",
       "      <td>0.2</td>\n",
       "      <td>setosa</td>\n",
       "    </tr>\n",
       "    <tr>\n",
       "      <th>...</th>\n",
       "      <td>...</td>\n",
       "      <td>...</td>\n",
       "      <td>...</td>\n",
       "      <td>...</td>\n",
       "      <td>...</td>\n",
       "    </tr>\n",
       "    <tr>\n",
       "      <th>145</th>\n",
       "      <td>7.0</td>\n",
       "      <td>3.0</td>\n",
       "      <td>5.2</td>\n",
       "      <td>2.3</td>\n",
       "      <td>virginica</td>\n",
       "    </tr>\n",
       "    <tr>\n",
       "      <th>146</th>\n",
       "      <td>6.0</td>\n",
       "      <td>2.5</td>\n",
       "      <td>5.0</td>\n",
       "      <td>1.9</td>\n",
       "      <td>virginica</td>\n",
       "    </tr>\n",
       "    <tr>\n",
       "      <th>147</th>\n",
       "      <td>6.0</td>\n",
       "      <td>3.0</td>\n",
       "      <td>5.2</td>\n",
       "      <td>2.0</td>\n",
       "      <td>virginica</td>\n",
       "    </tr>\n",
       "    <tr>\n",
       "      <th>148</th>\n",
       "      <td>6.0</td>\n",
       "      <td>3.4</td>\n",
       "      <td>5.4</td>\n",
       "      <td>2.3</td>\n",
       "      <td>virginica</td>\n",
       "    </tr>\n",
       "    <tr>\n",
       "      <th>149</th>\n",
       "      <td>6.0</td>\n",
       "      <td>3.0</td>\n",
       "      <td>5.1</td>\n",
       "      <td>1.8</td>\n",
       "      <td>virginica</td>\n",
       "    </tr>\n",
       "  </tbody>\n",
       "</table>\n",
       "<p>150 rows × 5 columns</p>\n",
       "</div>"
      ],
      "text/plain": [
       "    sepal_length  sepal_width petal_length  petal_width    species\n",
       "0            5.0          3.5          1.4          0.2     setosa\n",
       "1           this          3.0          1.4          0.2     setosa\n",
       "2            5.0          3.2          1.3          0.2     setosa\n",
       "3            5.0          3.1          1.5          0.2     setosa\n",
       "4            5.0          3.6         this          0.2     setosa\n",
       "..           ...          ...          ...          ...        ...\n",
       "145          7.0          3.0          5.2          2.3  virginica\n",
       "146          6.0          2.5          5.0          1.9  virginica\n",
       "147          6.0          3.0          5.2          2.0  virginica\n",
       "148          6.0          3.4          5.4          2.3  virginica\n",
       "149          6.0          3.0          5.1          1.8  virginica\n",
       "\n",
       "[150 rows x 5 columns]"
      ]
     },
     "execution_count": 512,
     "metadata": {},
     "output_type": "execute_result"
    }
   ],
   "source": [
    "df.fillna('this')"
   ]
  },
  {
   "cell_type": "code",
   "execution_count": 516,
   "id": "3c45c74d",
   "metadata": {},
   "outputs": [
    {
     "data": {
      "text/plain": [
       "0        5.0\n",
       "1     sanjay\n",
       "2        5.0\n",
       "3        5.0\n",
       "4        5.0\n",
       "5        5.0\n",
       "6     sanjay\n",
       "7        5.0\n",
       "8        4.0\n",
       "9        5.0\n",
       "10       5.0\n",
       "11       5.0\n",
       "12       5.0\n",
       "13       4.0\n",
       "14    sanjay\n",
       "15       6.0\n",
       "16       5.0\n",
       "17       5.0\n",
       "18    sanjay\n",
       "19       5.0\n",
       "20       5.0\n",
       "21       5.0\n",
       "22       5.0\n",
       "23       5.0\n",
       "24       5.0\n",
       "25       5.0\n",
       "26       5.0\n",
       "27       5.0\n",
       "28    sanjay\n",
       "29       5.0\n",
       "30       5.0\n",
       "31    sanjay\n",
       "32       5.0\n",
       "33       6.0\n",
       "34       5.0\n",
       "35    sanjay\n",
       "36       6.0\n",
       "37       5.0\n",
       "38       4.0\n",
       "39       5.0\n",
       "40       5.0\n",
       "41       4.0\n",
       "42       4.0\n",
       "43       5.0\n",
       "44    sanjay\n",
       "45       5.0\n",
       "46       5.0\n",
       "47       5.0\n",
       "48       5.0\n",
       "49       5.0\n",
       "Name: sepal_length, dtype: object"
      ]
     },
     "execution_count": 516,
     "metadata": {},
     "output_type": "execute_result"
    }
   ],
   "source": [
    "df.sepal_length.fillna(value='sanjay')[:50]"
   ]
  },
  {
   "cell_type": "code",
   "execution_count": 521,
   "id": "be176de9",
   "metadata": {},
   "outputs": [
    {
     "data": {
      "text/plain": [
       "5.88"
      ]
     },
     "execution_count": 521,
     "metadata": {},
     "output_type": "execute_result"
    }
   ],
   "source": [
    "round(df.sepal_length.mean(), 2)"
   ]
  },
  {
   "cell_type": "code",
   "execution_count": 524,
   "id": "f4132f0b",
   "metadata": {},
   "outputs": [],
   "source": [
    "df.sepal_length.fillna(value=round(df.sepal_length.mean(), 2), inplace=True)"
   ]
  },
  {
   "cell_type": "code",
   "execution_count": 527,
   "id": "fbafe9f1",
   "metadata": {},
   "outputs": [
    {
     "data": {
      "text/plain": [
       "0     5.00\n",
       "1     5.88\n",
       "2     5.00\n",
       "3     5.00\n",
       "4     5.00\n",
       "5     5.00\n",
       "6     5.88\n",
       "7     5.00\n",
       "8     4.00\n",
       "9     5.00\n",
       "10    5.00\n",
       "11    5.00\n",
       "12    5.00\n",
       "13    4.00\n",
       "14    5.88\n",
       "15    6.00\n",
       "16    5.00\n",
       "17    5.00\n",
       "18    5.88\n",
       "19    5.00\n",
       "20    5.00\n",
       "21    5.00\n",
       "22    5.00\n",
       "23    5.00\n",
       "24    5.00\n",
       "25    5.00\n",
       "26    5.00\n",
       "27    5.00\n",
       "28    5.88\n",
       "29    5.00\n",
       "30    5.00\n",
       "31    5.88\n",
       "32    5.00\n",
       "33    6.00\n",
       "34    5.00\n",
       "35    5.88\n",
       "36    6.00\n",
       "37    5.00\n",
       "38    4.00\n",
       "39    5.00\n",
       "40    5.00\n",
       "41    4.00\n",
       "42    4.00\n",
       "43    5.00\n",
       "44    5.88\n",
       "45    5.00\n",
       "46    5.00\n",
       "47    5.00\n",
       "48    5.00\n",
       "49    5.00\n",
       "Name: sepal_length, dtype: float64"
      ]
     },
     "execution_count": 527,
     "metadata": {},
     "output_type": "execute_result"
    }
   ],
   "source": [
    "df['sepal_length'][:50]"
   ]
  },
  {
   "cell_type": "code",
   "execution_count": 532,
   "id": "e49ff62e",
   "metadata": {},
   "outputs": [
    {
     "data": {
      "text/plain": [
       "3.84"
      ]
     },
     "execution_count": 532,
     "metadata": {},
     "output_type": "execute_result"
    }
   ],
   "source": [
    "round(df.petal_length.mean(),2)"
   ]
  },
  {
   "cell_type": "code",
   "execution_count": 535,
   "id": "7c155c7c",
   "metadata": {},
   "outputs": [],
   "source": [
    "df.petal_length = df.petal_length.fillna(value=round(df.petal_length.mean(),2))"
   ]
  },
  {
   "cell_type": "code",
   "execution_count": 536,
   "id": "389105f7",
   "metadata": {},
   "outputs": [
    {
     "data": {
      "text/html": [
       "<div>\n",
       "<style scoped>\n",
       "    .dataframe tbody tr th:only-of-type {\n",
       "        vertical-align: middle;\n",
       "    }\n",
       "\n",
       "    .dataframe tbody tr th {\n",
       "        vertical-align: top;\n",
       "    }\n",
       "\n",
       "    .dataframe thead th {\n",
       "        text-align: right;\n",
       "    }\n",
       "</style>\n",
       "<table border=\"1\" class=\"dataframe\">\n",
       "  <thead>\n",
       "    <tr style=\"text-align: right;\">\n",
       "      <th></th>\n",
       "      <th>sepal_length</th>\n",
       "      <th>sepal_width</th>\n",
       "      <th>petal_length</th>\n",
       "      <th>petal_width</th>\n",
       "      <th>species</th>\n",
       "    </tr>\n",
       "  </thead>\n",
       "  <tbody>\n",
       "    <tr>\n",
       "      <th>0</th>\n",
       "      <td>5.00</td>\n",
       "      <td>3.5</td>\n",
       "      <td>1.40</td>\n",
       "      <td>0.2</td>\n",
       "      <td>setosa</td>\n",
       "    </tr>\n",
       "    <tr>\n",
       "      <th>1</th>\n",
       "      <td>5.88</td>\n",
       "      <td>3.0</td>\n",
       "      <td>1.40</td>\n",
       "      <td>0.2</td>\n",
       "      <td>setosa</td>\n",
       "    </tr>\n",
       "    <tr>\n",
       "      <th>2</th>\n",
       "      <td>5.00</td>\n",
       "      <td>3.2</td>\n",
       "      <td>1.30</td>\n",
       "      <td>0.2</td>\n",
       "      <td>setosa</td>\n",
       "    </tr>\n",
       "    <tr>\n",
       "      <th>3</th>\n",
       "      <td>5.00</td>\n",
       "      <td>3.1</td>\n",
       "      <td>1.50</td>\n",
       "      <td>0.2</td>\n",
       "      <td>setosa</td>\n",
       "    </tr>\n",
       "    <tr>\n",
       "      <th>4</th>\n",
       "      <td>5.00</td>\n",
       "      <td>3.6</td>\n",
       "      <td>3.84</td>\n",
       "      <td>0.2</td>\n",
       "      <td>setosa</td>\n",
       "    </tr>\n",
       "    <tr>\n",
       "      <th>...</th>\n",
       "      <td>...</td>\n",
       "      <td>...</td>\n",
       "      <td>...</td>\n",
       "      <td>...</td>\n",
       "      <td>...</td>\n",
       "    </tr>\n",
       "    <tr>\n",
       "      <th>145</th>\n",
       "      <td>7.00</td>\n",
       "      <td>3.0</td>\n",
       "      <td>5.20</td>\n",
       "      <td>2.3</td>\n",
       "      <td>virginica</td>\n",
       "    </tr>\n",
       "    <tr>\n",
       "      <th>146</th>\n",
       "      <td>6.00</td>\n",
       "      <td>2.5</td>\n",
       "      <td>5.00</td>\n",
       "      <td>1.9</td>\n",
       "      <td>virginica</td>\n",
       "    </tr>\n",
       "    <tr>\n",
       "      <th>147</th>\n",
       "      <td>6.00</td>\n",
       "      <td>3.0</td>\n",
       "      <td>5.20</td>\n",
       "      <td>2.0</td>\n",
       "      <td>virginica</td>\n",
       "    </tr>\n",
       "    <tr>\n",
       "      <th>148</th>\n",
       "      <td>6.00</td>\n",
       "      <td>3.4</td>\n",
       "      <td>5.40</td>\n",
       "      <td>2.3</td>\n",
       "      <td>virginica</td>\n",
       "    </tr>\n",
       "    <tr>\n",
       "      <th>149</th>\n",
       "      <td>6.00</td>\n",
       "      <td>3.0</td>\n",
       "      <td>5.10</td>\n",
       "      <td>1.8</td>\n",
       "      <td>virginica</td>\n",
       "    </tr>\n",
       "  </tbody>\n",
       "</table>\n",
       "<p>150 rows × 5 columns</p>\n",
       "</div>"
      ],
      "text/plain": [
       "     sepal_length  sepal_width  petal_length  petal_width    species\n",
       "0            5.00          3.5          1.40          0.2     setosa\n",
       "1            5.88          3.0          1.40          0.2     setosa\n",
       "2            5.00          3.2          1.30          0.2     setosa\n",
       "3            5.00          3.1          1.50          0.2     setosa\n",
       "4            5.00          3.6          3.84          0.2     setosa\n",
       "..            ...          ...           ...          ...        ...\n",
       "145          7.00          3.0          5.20          2.3  virginica\n",
       "146          6.00          2.5          5.00          1.9  virginica\n",
       "147          6.00          3.0          5.20          2.0  virginica\n",
       "148          6.00          3.4          5.40          2.3  virginica\n",
       "149          6.00          3.0          5.10          1.8  virginica\n",
       "\n",
       "[150 rows x 5 columns]"
      ]
     },
     "execution_count": 536,
     "metadata": {},
     "output_type": "execute_result"
    }
   ],
   "source": [
    "df"
   ]
  },
  {
   "cell_type": "code",
   "execution_count": 538,
   "id": "978ad628",
   "metadata": {},
   "outputs": [
    {
     "data": {
      "text/plain": [
       "sepal_length    0\n",
       "sepal_width     0\n",
       "petal_length    0\n",
       "petal_width     0\n",
       "species         0\n",
       "dtype: int64"
      ]
     },
     "execution_count": 538,
     "metadata": {},
     "output_type": "execute_result"
    }
   ],
   "source": [
    "df.isna().sum()"
   ]
  },
  {
   "cell_type": "code",
   "execution_count": null,
   "id": "a7984228",
   "metadata": {},
   "outputs": [],
   "source": []
  },
  {
   "cell_type": "code",
   "execution_count": 539,
   "id": "8d53451b",
   "metadata": {},
   "outputs": [],
   "source": [
    "# concat/ merge dataframes"
   ]
  },
  {
   "cell_type": "code",
   "execution_count": 545,
   "id": "4d63ee97",
   "metadata": {},
   "outputs": [],
   "source": [
    "new_df = pd.DataFrame(np.random.randint(0,7, (10,4)))"
   ]
  },
  {
   "cell_type": "code",
   "execution_count": 548,
   "id": "5a0d647d",
   "metadata": {},
   "outputs": [],
   "source": [
    "new_df['species']  = 'new-species14'\n"
   ]
  },
  {
   "cell_type": "code",
   "execution_count": 549,
   "id": "47ebd94c",
   "metadata": {},
   "outputs": [
    {
     "data": {
      "text/html": [
       "<div>\n",
       "<style scoped>\n",
       "    .dataframe tbody tr th:only-of-type {\n",
       "        vertical-align: middle;\n",
       "    }\n",
       "\n",
       "    .dataframe tbody tr th {\n",
       "        vertical-align: top;\n",
       "    }\n",
       "\n",
       "    .dataframe thead th {\n",
       "        text-align: right;\n",
       "    }\n",
       "</style>\n",
       "<table border=\"1\" class=\"dataframe\">\n",
       "  <thead>\n",
       "    <tr style=\"text-align: right;\">\n",
       "      <th></th>\n",
       "      <th>0</th>\n",
       "      <th>1</th>\n",
       "      <th>2</th>\n",
       "      <th>3</th>\n",
       "      <th>species</th>\n",
       "    </tr>\n",
       "  </thead>\n",
       "  <tbody>\n",
       "    <tr>\n",
       "      <th>0</th>\n",
       "      <td>5</td>\n",
       "      <td>4</td>\n",
       "      <td>4</td>\n",
       "      <td>0</td>\n",
       "      <td>new-species14</td>\n",
       "    </tr>\n",
       "    <tr>\n",
       "      <th>1</th>\n",
       "      <td>4</td>\n",
       "      <td>5</td>\n",
       "      <td>2</td>\n",
       "      <td>6</td>\n",
       "      <td>new-species14</td>\n",
       "    </tr>\n",
       "    <tr>\n",
       "      <th>2</th>\n",
       "      <td>6</td>\n",
       "      <td>2</td>\n",
       "      <td>1</td>\n",
       "      <td>4</td>\n",
       "      <td>new-species14</td>\n",
       "    </tr>\n",
       "    <tr>\n",
       "      <th>3</th>\n",
       "      <td>1</td>\n",
       "      <td>4</td>\n",
       "      <td>3</td>\n",
       "      <td>4</td>\n",
       "      <td>new-species14</td>\n",
       "    </tr>\n",
       "    <tr>\n",
       "      <th>4</th>\n",
       "      <td>1</td>\n",
       "      <td>4</td>\n",
       "      <td>4</td>\n",
       "      <td>5</td>\n",
       "      <td>new-species14</td>\n",
       "    </tr>\n",
       "    <tr>\n",
       "      <th>5</th>\n",
       "      <td>4</td>\n",
       "      <td>0</td>\n",
       "      <td>5</td>\n",
       "      <td>3</td>\n",
       "      <td>new-species14</td>\n",
       "    </tr>\n",
       "    <tr>\n",
       "      <th>6</th>\n",
       "      <td>2</td>\n",
       "      <td>3</td>\n",
       "      <td>1</td>\n",
       "      <td>6</td>\n",
       "      <td>new-species14</td>\n",
       "    </tr>\n",
       "    <tr>\n",
       "      <th>7</th>\n",
       "      <td>4</td>\n",
       "      <td>4</td>\n",
       "      <td>4</td>\n",
       "      <td>4</td>\n",
       "      <td>new-species14</td>\n",
       "    </tr>\n",
       "    <tr>\n",
       "      <th>8</th>\n",
       "      <td>1</td>\n",
       "      <td>4</td>\n",
       "      <td>0</td>\n",
       "      <td>6</td>\n",
       "      <td>new-species14</td>\n",
       "    </tr>\n",
       "    <tr>\n",
       "      <th>9</th>\n",
       "      <td>4</td>\n",
       "      <td>0</td>\n",
       "      <td>3</td>\n",
       "      <td>2</td>\n",
       "      <td>new-species14</td>\n",
       "    </tr>\n",
       "  </tbody>\n",
       "</table>\n",
       "</div>"
      ],
      "text/plain": [
       "   0  1  2  3        species\n",
       "0  5  4  4  0  new-species14\n",
       "1  4  5  2  6  new-species14\n",
       "2  6  2  1  4  new-species14\n",
       "3  1  4  3  4  new-species14\n",
       "4  1  4  4  5  new-species14\n",
       "5  4  0  5  3  new-species14\n",
       "6  2  3  1  6  new-species14\n",
       "7  4  4  4  4  new-species14\n",
       "8  1  4  0  6  new-species14\n",
       "9  4  0  3  2  new-species14"
      ]
     },
     "execution_count": 549,
     "metadata": {},
     "output_type": "execute_result"
    }
   ],
   "source": [
    "new_df"
   ]
  },
  {
   "cell_type": "code",
   "execution_count": 550,
   "id": "b3508e0c",
   "metadata": {},
   "outputs": [
    {
     "data": {
      "text/plain": [
       "Index(['sepal_length', 'sepal_width', 'petal_length', 'petal_width',\n",
       "       'species'],\n",
       "      dtype='object')"
      ]
     },
     "execution_count": 550,
     "metadata": {},
     "output_type": "execute_result"
    }
   ],
   "source": [
    "df.columns"
   ]
  },
  {
   "cell_type": "code",
   "execution_count": 552,
   "id": "d9ab87f8",
   "metadata": {},
   "outputs": [],
   "source": [
    "new_df.columns = df.columns"
   ]
  },
  {
   "cell_type": "code",
   "execution_count": 553,
   "id": "9fffe9b0",
   "metadata": {},
   "outputs": [
    {
     "data": {
      "text/html": [
       "<div>\n",
       "<style scoped>\n",
       "    .dataframe tbody tr th:only-of-type {\n",
       "        vertical-align: middle;\n",
       "    }\n",
       "\n",
       "    .dataframe tbody tr th {\n",
       "        vertical-align: top;\n",
       "    }\n",
       "\n",
       "    .dataframe thead th {\n",
       "        text-align: right;\n",
       "    }\n",
       "</style>\n",
       "<table border=\"1\" class=\"dataframe\">\n",
       "  <thead>\n",
       "    <tr style=\"text-align: right;\">\n",
       "      <th></th>\n",
       "      <th>sepal_length</th>\n",
       "      <th>sepal_width</th>\n",
       "      <th>petal_length</th>\n",
       "      <th>petal_width</th>\n",
       "      <th>species</th>\n",
       "    </tr>\n",
       "  </thead>\n",
       "  <tbody>\n",
       "    <tr>\n",
       "      <th>0</th>\n",
       "      <td>5</td>\n",
       "      <td>4</td>\n",
       "      <td>4</td>\n",
       "      <td>0</td>\n",
       "      <td>new-species14</td>\n",
       "    </tr>\n",
       "    <tr>\n",
       "      <th>1</th>\n",
       "      <td>4</td>\n",
       "      <td>5</td>\n",
       "      <td>2</td>\n",
       "      <td>6</td>\n",
       "      <td>new-species14</td>\n",
       "    </tr>\n",
       "    <tr>\n",
       "      <th>2</th>\n",
       "      <td>6</td>\n",
       "      <td>2</td>\n",
       "      <td>1</td>\n",
       "      <td>4</td>\n",
       "      <td>new-species14</td>\n",
       "    </tr>\n",
       "    <tr>\n",
       "      <th>3</th>\n",
       "      <td>1</td>\n",
       "      <td>4</td>\n",
       "      <td>3</td>\n",
       "      <td>4</td>\n",
       "      <td>new-species14</td>\n",
       "    </tr>\n",
       "    <tr>\n",
       "      <th>4</th>\n",
       "      <td>1</td>\n",
       "      <td>4</td>\n",
       "      <td>4</td>\n",
       "      <td>5</td>\n",
       "      <td>new-species14</td>\n",
       "    </tr>\n",
       "    <tr>\n",
       "      <th>5</th>\n",
       "      <td>4</td>\n",
       "      <td>0</td>\n",
       "      <td>5</td>\n",
       "      <td>3</td>\n",
       "      <td>new-species14</td>\n",
       "    </tr>\n",
       "    <tr>\n",
       "      <th>6</th>\n",
       "      <td>2</td>\n",
       "      <td>3</td>\n",
       "      <td>1</td>\n",
       "      <td>6</td>\n",
       "      <td>new-species14</td>\n",
       "    </tr>\n",
       "    <tr>\n",
       "      <th>7</th>\n",
       "      <td>4</td>\n",
       "      <td>4</td>\n",
       "      <td>4</td>\n",
       "      <td>4</td>\n",
       "      <td>new-species14</td>\n",
       "    </tr>\n",
       "    <tr>\n",
       "      <th>8</th>\n",
       "      <td>1</td>\n",
       "      <td>4</td>\n",
       "      <td>0</td>\n",
       "      <td>6</td>\n",
       "      <td>new-species14</td>\n",
       "    </tr>\n",
       "    <tr>\n",
       "      <th>9</th>\n",
       "      <td>4</td>\n",
       "      <td>0</td>\n",
       "      <td>3</td>\n",
       "      <td>2</td>\n",
       "      <td>new-species14</td>\n",
       "    </tr>\n",
       "  </tbody>\n",
       "</table>\n",
       "</div>"
      ],
      "text/plain": [
       "   sepal_length  sepal_width  petal_length  petal_width        species\n",
       "0             5            4             4            0  new-species14\n",
       "1             4            5             2            6  new-species14\n",
       "2             6            2             1            4  new-species14\n",
       "3             1            4             3            4  new-species14\n",
       "4             1            4             4            5  new-species14\n",
       "5             4            0             5            3  new-species14\n",
       "6             2            3             1            6  new-species14\n",
       "7             4            4             4            4  new-species14\n",
       "8             1            4             0            6  new-species14\n",
       "9             4            0             3            2  new-species14"
      ]
     },
     "execution_count": 553,
     "metadata": {},
     "output_type": "execute_result"
    }
   ],
   "source": [
    "new_df"
   ]
  },
  {
   "cell_type": "code",
   "execution_count": 556,
   "id": "ec1ea2ef",
   "metadata": {},
   "outputs": [],
   "source": [
    "df1 = pd.concat((df,new_df))"
   ]
  },
  {
   "cell_type": "code",
   "execution_count": 557,
   "id": "274b64fc",
   "metadata": {},
   "outputs": [
    {
     "data": {
      "text/plain": [
       "(160, 5)"
      ]
     },
     "execution_count": 557,
     "metadata": {},
     "output_type": "execute_result"
    }
   ],
   "source": [
    "df1.shape"
   ]
  },
  {
   "cell_type": "code",
   "execution_count": 558,
   "id": "185153e2",
   "metadata": {},
   "outputs": [
    {
     "data": {
      "text/html": [
       "<div>\n",
       "<style scoped>\n",
       "    .dataframe tbody tr th:only-of-type {\n",
       "        vertical-align: middle;\n",
       "    }\n",
       "\n",
       "    .dataframe tbody tr th {\n",
       "        vertical-align: top;\n",
       "    }\n",
       "\n",
       "    .dataframe thead th {\n",
       "        text-align: right;\n",
       "    }\n",
       "</style>\n",
       "<table border=\"1\" class=\"dataframe\">\n",
       "  <thead>\n",
       "    <tr style=\"text-align: right;\">\n",
       "      <th></th>\n",
       "      <th>sepal_length</th>\n",
       "      <th>sepal_width</th>\n",
       "      <th>petal_length</th>\n",
       "      <th>petal_width</th>\n",
       "      <th>species</th>\n",
       "    </tr>\n",
       "  </thead>\n",
       "  <tbody>\n",
       "    <tr>\n",
       "      <th>0</th>\n",
       "      <td>5.00</td>\n",
       "      <td>3.5</td>\n",
       "      <td>1.40</td>\n",
       "      <td>0.2</td>\n",
       "      <td>setosa</td>\n",
       "    </tr>\n",
       "    <tr>\n",
       "      <th>1</th>\n",
       "      <td>5.88</td>\n",
       "      <td>3.0</td>\n",
       "      <td>1.40</td>\n",
       "      <td>0.2</td>\n",
       "      <td>setosa</td>\n",
       "    </tr>\n",
       "    <tr>\n",
       "      <th>2</th>\n",
       "      <td>5.00</td>\n",
       "      <td>3.2</td>\n",
       "      <td>1.30</td>\n",
       "      <td>0.2</td>\n",
       "      <td>setosa</td>\n",
       "    </tr>\n",
       "    <tr>\n",
       "      <th>3</th>\n",
       "      <td>5.00</td>\n",
       "      <td>3.1</td>\n",
       "      <td>1.50</td>\n",
       "      <td>0.2</td>\n",
       "      <td>setosa</td>\n",
       "    </tr>\n",
       "    <tr>\n",
       "      <th>4</th>\n",
       "      <td>5.00</td>\n",
       "      <td>3.6</td>\n",
       "      <td>3.84</td>\n",
       "      <td>0.2</td>\n",
       "      <td>setosa</td>\n",
       "    </tr>\n",
       "  </tbody>\n",
       "</table>\n",
       "</div>"
      ],
      "text/plain": [
       "   sepal_length  sepal_width  petal_length  petal_width species\n",
       "0          5.00          3.5          1.40          0.2  setosa\n",
       "1          5.88          3.0          1.40          0.2  setosa\n",
       "2          5.00          3.2          1.30          0.2  setosa\n",
       "3          5.00          3.1          1.50          0.2  setosa\n",
       "4          5.00          3.6          3.84          0.2  setosa"
      ]
     },
     "execution_count": 558,
     "metadata": {},
     "output_type": "execute_result"
    }
   ],
   "source": [
    "df1.head()"
   ]
  },
  {
   "cell_type": "code",
   "execution_count": 560,
   "id": "5fb07cb9",
   "metadata": {},
   "outputs": [],
   "source": [
    "df2 = pd.concat((df,new_df), axis=1)"
   ]
  },
  {
   "cell_type": "code",
   "execution_count": 561,
   "id": "4940bb10",
   "metadata": {},
   "outputs": [
    {
     "data": {
      "text/html": [
       "<div>\n",
       "<style scoped>\n",
       "    .dataframe tbody tr th:only-of-type {\n",
       "        vertical-align: middle;\n",
       "    }\n",
       "\n",
       "    .dataframe tbody tr th {\n",
       "        vertical-align: top;\n",
       "    }\n",
       "\n",
       "    .dataframe thead th {\n",
       "        text-align: right;\n",
       "    }\n",
       "</style>\n",
       "<table border=\"1\" class=\"dataframe\">\n",
       "  <thead>\n",
       "    <tr style=\"text-align: right;\">\n",
       "      <th></th>\n",
       "      <th>sepal_length</th>\n",
       "      <th>sepal_width</th>\n",
       "      <th>petal_length</th>\n",
       "      <th>petal_width</th>\n",
       "      <th>species</th>\n",
       "      <th>sepal_length</th>\n",
       "      <th>sepal_width</th>\n",
       "      <th>petal_length</th>\n",
       "      <th>petal_width</th>\n",
       "      <th>species</th>\n",
       "    </tr>\n",
       "  </thead>\n",
       "  <tbody>\n",
       "    <tr>\n",
       "      <th>0</th>\n",
       "      <td>5.00</td>\n",
       "      <td>3.5</td>\n",
       "      <td>1.40</td>\n",
       "      <td>0.2</td>\n",
       "      <td>setosa</td>\n",
       "      <td>5.0</td>\n",
       "      <td>4.0</td>\n",
       "      <td>4.0</td>\n",
       "      <td>0.0</td>\n",
       "      <td>new-species14</td>\n",
       "    </tr>\n",
       "    <tr>\n",
       "      <th>1</th>\n",
       "      <td>5.88</td>\n",
       "      <td>3.0</td>\n",
       "      <td>1.40</td>\n",
       "      <td>0.2</td>\n",
       "      <td>setosa</td>\n",
       "      <td>4.0</td>\n",
       "      <td>5.0</td>\n",
       "      <td>2.0</td>\n",
       "      <td>6.0</td>\n",
       "      <td>new-species14</td>\n",
       "    </tr>\n",
       "    <tr>\n",
       "      <th>2</th>\n",
       "      <td>5.00</td>\n",
       "      <td>3.2</td>\n",
       "      <td>1.30</td>\n",
       "      <td>0.2</td>\n",
       "      <td>setosa</td>\n",
       "      <td>6.0</td>\n",
       "      <td>2.0</td>\n",
       "      <td>1.0</td>\n",
       "      <td>4.0</td>\n",
       "      <td>new-species14</td>\n",
       "    </tr>\n",
       "    <tr>\n",
       "      <th>3</th>\n",
       "      <td>5.00</td>\n",
       "      <td>3.1</td>\n",
       "      <td>1.50</td>\n",
       "      <td>0.2</td>\n",
       "      <td>setosa</td>\n",
       "      <td>1.0</td>\n",
       "      <td>4.0</td>\n",
       "      <td>3.0</td>\n",
       "      <td>4.0</td>\n",
       "      <td>new-species14</td>\n",
       "    </tr>\n",
       "    <tr>\n",
       "      <th>4</th>\n",
       "      <td>5.00</td>\n",
       "      <td>3.6</td>\n",
       "      <td>3.84</td>\n",
       "      <td>0.2</td>\n",
       "      <td>setosa</td>\n",
       "      <td>1.0</td>\n",
       "      <td>4.0</td>\n",
       "      <td>4.0</td>\n",
       "      <td>5.0</td>\n",
       "      <td>new-species14</td>\n",
       "    </tr>\n",
       "    <tr>\n",
       "      <th>...</th>\n",
       "      <td>...</td>\n",
       "      <td>...</td>\n",
       "      <td>...</td>\n",
       "      <td>...</td>\n",
       "      <td>...</td>\n",
       "      <td>...</td>\n",
       "      <td>...</td>\n",
       "      <td>...</td>\n",
       "      <td>...</td>\n",
       "      <td>...</td>\n",
       "    </tr>\n",
       "    <tr>\n",
       "      <th>145</th>\n",
       "      <td>7.00</td>\n",
       "      <td>3.0</td>\n",
       "      <td>5.20</td>\n",
       "      <td>2.3</td>\n",
       "      <td>virginica</td>\n",
       "      <td>NaN</td>\n",
       "      <td>NaN</td>\n",
       "      <td>NaN</td>\n",
       "      <td>NaN</td>\n",
       "      <td>NaN</td>\n",
       "    </tr>\n",
       "    <tr>\n",
       "      <th>146</th>\n",
       "      <td>6.00</td>\n",
       "      <td>2.5</td>\n",
       "      <td>5.00</td>\n",
       "      <td>1.9</td>\n",
       "      <td>virginica</td>\n",
       "      <td>NaN</td>\n",
       "      <td>NaN</td>\n",
       "      <td>NaN</td>\n",
       "      <td>NaN</td>\n",
       "      <td>NaN</td>\n",
       "    </tr>\n",
       "    <tr>\n",
       "      <th>147</th>\n",
       "      <td>6.00</td>\n",
       "      <td>3.0</td>\n",
       "      <td>5.20</td>\n",
       "      <td>2.0</td>\n",
       "      <td>virginica</td>\n",
       "      <td>NaN</td>\n",
       "      <td>NaN</td>\n",
       "      <td>NaN</td>\n",
       "      <td>NaN</td>\n",
       "      <td>NaN</td>\n",
       "    </tr>\n",
       "    <tr>\n",
       "      <th>148</th>\n",
       "      <td>6.00</td>\n",
       "      <td>3.4</td>\n",
       "      <td>5.40</td>\n",
       "      <td>2.3</td>\n",
       "      <td>virginica</td>\n",
       "      <td>NaN</td>\n",
       "      <td>NaN</td>\n",
       "      <td>NaN</td>\n",
       "      <td>NaN</td>\n",
       "      <td>NaN</td>\n",
       "    </tr>\n",
       "    <tr>\n",
       "      <th>149</th>\n",
       "      <td>6.00</td>\n",
       "      <td>3.0</td>\n",
       "      <td>5.10</td>\n",
       "      <td>1.8</td>\n",
       "      <td>virginica</td>\n",
       "      <td>NaN</td>\n",
       "      <td>NaN</td>\n",
       "      <td>NaN</td>\n",
       "      <td>NaN</td>\n",
       "      <td>NaN</td>\n",
       "    </tr>\n",
       "  </tbody>\n",
       "</table>\n",
       "<p>150 rows × 10 columns</p>\n",
       "</div>"
      ],
      "text/plain": [
       "     sepal_length  sepal_width  petal_length  petal_width    species  \\\n",
       "0            5.00          3.5          1.40          0.2     setosa   \n",
       "1            5.88          3.0          1.40          0.2     setosa   \n",
       "2            5.00          3.2          1.30          0.2     setosa   \n",
       "3            5.00          3.1          1.50          0.2     setosa   \n",
       "4            5.00          3.6          3.84          0.2     setosa   \n",
       "..            ...          ...           ...          ...        ...   \n",
       "145          7.00          3.0          5.20          2.3  virginica   \n",
       "146          6.00          2.5          5.00          1.9  virginica   \n",
       "147          6.00          3.0          5.20          2.0  virginica   \n",
       "148          6.00          3.4          5.40          2.3  virginica   \n",
       "149          6.00          3.0          5.10          1.8  virginica   \n",
       "\n",
       "     sepal_length  sepal_width  petal_length  petal_width        species  \n",
       "0             5.0          4.0           4.0          0.0  new-species14  \n",
       "1             4.0          5.0           2.0          6.0  new-species14  \n",
       "2             6.0          2.0           1.0          4.0  new-species14  \n",
       "3             1.0          4.0           3.0          4.0  new-species14  \n",
       "4             1.0          4.0           4.0          5.0  new-species14  \n",
       "..            ...          ...           ...          ...            ...  \n",
       "145           NaN          NaN           NaN          NaN            NaN  \n",
       "146           NaN          NaN           NaN          NaN            NaN  \n",
       "147           NaN          NaN           NaN          NaN            NaN  \n",
       "148           NaN          NaN           NaN          NaN            NaN  \n",
       "149           NaN          NaN           NaN          NaN            NaN  \n",
       "\n",
       "[150 rows x 10 columns]"
      ]
     },
     "execution_count": 561,
     "metadata": {},
     "output_type": "execute_result"
    }
   ],
   "source": [
    "df2"
   ]
  },
  {
   "cell_type": "code",
   "execution_count": 562,
   "id": "64ffa97f",
   "metadata": {},
   "outputs": [
    {
     "data": {
      "text/plain": [
       "(150, 10)"
      ]
     },
     "execution_count": 562,
     "metadata": {},
     "output_type": "execute_result"
    }
   ],
   "source": [
    "df2.shape"
   ]
  },
  {
   "cell_type": "code",
   "execution_count": null,
   "id": "9a728773",
   "metadata": {},
   "outputs": [],
   "source": []
  },
  {
   "cell_type": "code",
   "execution_count": 563,
   "id": "591445e9",
   "metadata": {},
   "outputs": [],
   "source": [
    "# merging dataframes"
   ]
  },
  {
   "cell_type": "code",
   "execution_count": 565,
   "id": "e8108768",
   "metadata": {},
   "outputs": [],
   "source": [
    "df1 = pd.DataFrame({\n",
    "    'S_Name':['Mohit', 'Jatin', 'Prateek', 'Mohit'],\n",
    "    'CGPA':[2,4,5,3]\n",
    "})"
   ]
  },
  {
   "cell_type": "code",
   "execution_count": 566,
   "id": "e337bd8c",
   "metadata": {},
   "outputs": [
    {
     "data": {
      "text/html": [
       "<div>\n",
       "<style scoped>\n",
       "    .dataframe tbody tr th:only-of-type {\n",
       "        vertical-align: middle;\n",
       "    }\n",
       "\n",
       "    .dataframe tbody tr th {\n",
       "        vertical-align: top;\n",
       "    }\n",
       "\n",
       "    .dataframe thead th {\n",
       "        text-align: right;\n",
       "    }\n",
       "</style>\n",
       "<table border=\"1\" class=\"dataframe\">\n",
       "  <thead>\n",
       "    <tr style=\"text-align: right;\">\n",
       "      <th></th>\n",
       "      <th>S_Name</th>\n",
       "      <th>CGPA</th>\n",
       "    </tr>\n",
       "  </thead>\n",
       "  <tbody>\n",
       "    <tr>\n",
       "      <th>0</th>\n",
       "      <td>Mohit</td>\n",
       "      <td>2</td>\n",
       "    </tr>\n",
       "    <tr>\n",
       "      <th>1</th>\n",
       "      <td>Jatin</td>\n",
       "      <td>4</td>\n",
       "    </tr>\n",
       "    <tr>\n",
       "      <th>2</th>\n",
       "      <td>Prateek</td>\n",
       "      <td>5</td>\n",
       "    </tr>\n",
       "    <tr>\n",
       "      <th>3</th>\n",
       "      <td>Mohit</td>\n",
       "      <td>3</td>\n",
       "    </tr>\n",
       "  </tbody>\n",
       "</table>\n",
       "</div>"
      ],
      "text/plain": [
       "    S_Name  CGPA\n",
       "0    Mohit     2\n",
       "1    Jatin     4\n",
       "2  Prateek     5\n",
       "3    Mohit     3"
      ]
     },
     "execution_count": 566,
     "metadata": {},
     "output_type": "execute_result"
    }
   ],
   "source": [
    "df1"
   ]
  },
  {
   "cell_type": "code",
   "execution_count": 567,
   "id": "137fb98c",
   "metadata": {},
   "outputs": [],
   "source": [
    "df2 = pd.DataFrame({\n",
    "    'T_Name':[\"Mohit\",'Jatin' ,'Prateek', 'Mohit'],\n",
    "    'CGPA':[3,6,8,9]\n",
    "})"
   ]
  },
  {
   "cell_type": "code",
   "execution_count": 568,
   "id": "9364c93f",
   "metadata": {},
   "outputs": [
    {
     "data": {
      "text/html": [
       "<div>\n",
       "<style scoped>\n",
       "    .dataframe tbody tr th:only-of-type {\n",
       "        vertical-align: middle;\n",
       "    }\n",
       "\n",
       "    .dataframe tbody tr th {\n",
       "        vertical-align: top;\n",
       "    }\n",
       "\n",
       "    .dataframe thead th {\n",
       "        text-align: right;\n",
       "    }\n",
       "</style>\n",
       "<table border=\"1\" class=\"dataframe\">\n",
       "  <thead>\n",
       "    <tr style=\"text-align: right;\">\n",
       "      <th></th>\n",
       "      <th>T_Name</th>\n",
       "      <th>CGPA</th>\n",
       "    </tr>\n",
       "  </thead>\n",
       "  <tbody>\n",
       "    <tr>\n",
       "      <th>0</th>\n",
       "      <td>Mohit</td>\n",
       "      <td>3</td>\n",
       "    </tr>\n",
       "    <tr>\n",
       "      <th>1</th>\n",
       "      <td>Jatin</td>\n",
       "      <td>6</td>\n",
       "    </tr>\n",
       "    <tr>\n",
       "      <th>2</th>\n",
       "      <td>Prateek</td>\n",
       "      <td>8</td>\n",
       "    </tr>\n",
       "    <tr>\n",
       "      <th>3</th>\n",
       "      <td>Mohit</td>\n",
       "      <td>9</td>\n",
       "    </tr>\n",
       "  </tbody>\n",
       "</table>\n",
       "</div>"
      ],
      "text/plain": [
       "    T_Name  CGPA\n",
       "0    Mohit     3\n",
       "1    Jatin     6\n",
       "2  Prateek     8\n",
       "3    Mohit     9"
      ]
     },
     "execution_count": 568,
     "metadata": {},
     "output_type": "execute_result"
    }
   ],
   "source": [
    "df2"
   ]
  },
  {
   "cell_type": "code",
   "execution_count": 569,
   "id": "de545588",
   "metadata": {},
   "outputs": [
    {
     "data": {
      "text/html": [
       "<div>\n",
       "<style scoped>\n",
       "    .dataframe tbody tr th:only-of-type {\n",
       "        vertical-align: middle;\n",
       "    }\n",
       "\n",
       "    .dataframe tbody tr th {\n",
       "        vertical-align: top;\n",
       "    }\n",
       "\n",
       "    .dataframe thead th {\n",
       "        text-align: right;\n",
       "    }\n",
       "</style>\n",
       "<table border=\"1\" class=\"dataframe\">\n",
       "  <thead>\n",
       "    <tr style=\"text-align: right;\">\n",
       "      <th></th>\n",
       "      <th>S_Name</th>\n",
       "      <th>CGPA</th>\n",
       "      <th>T_Name</th>\n",
       "    </tr>\n",
       "  </thead>\n",
       "  <tbody>\n",
       "    <tr>\n",
       "      <th>0</th>\n",
       "      <td>Mohit</td>\n",
       "      <td>3</td>\n",
       "      <td>Mohit</td>\n",
       "    </tr>\n",
       "  </tbody>\n",
       "</table>\n",
       "</div>"
      ],
      "text/plain": [
       "  S_Name  CGPA T_Name\n",
       "0  Mohit     3  Mohit"
      ]
     },
     "execution_count": 569,
     "metadata": {},
     "output_type": "execute_result"
    }
   ],
   "source": [
    "df1.merge(df2)"
   ]
  },
  {
   "cell_type": "code",
   "execution_count": 570,
   "id": "2c5e32fa",
   "metadata": {},
   "outputs": [
    {
     "data": {
      "text/html": [
       "<div>\n",
       "<style scoped>\n",
       "    .dataframe tbody tr th:only-of-type {\n",
       "        vertical-align: middle;\n",
       "    }\n",
       "\n",
       "    .dataframe tbody tr th {\n",
       "        vertical-align: top;\n",
       "    }\n",
       "\n",
       "    .dataframe thead th {\n",
       "        text-align: right;\n",
       "    }\n",
       "</style>\n",
       "<table border=\"1\" class=\"dataframe\">\n",
       "  <thead>\n",
       "    <tr style=\"text-align: right;\">\n",
       "      <th></th>\n",
       "      <th>S_Name</th>\n",
       "      <th>CGPA</th>\n",
       "      <th>T_Name</th>\n",
       "    </tr>\n",
       "  </thead>\n",
       "  <tbody>\n",
       "    <tr>\n",
       "      <th>0</th>\n",
       "      <td>Mohit</td>\n",
       "      <td>2</td>\n",
       "      <td>NaN</td>\n",
       "    </tr>\n",
       "    <tr>\n",
       "      <th>1</th>\n",
       "      <td>Jatin</td>\n",
       "      <td>4</td>\n",
       "      <td>NaN</td>\n",
       "    </tr>\n",
       "    <tr>\n",
       "      <th>2</th>\n",
       "      <td>Prateek</td>\n",
       "      <td>5</td>\n",
       "      <td>NaN</td>\n",
       "    </tr>\n",
       "    <tr>\n",
       "      <th>3</th>\n",
       "      <td>Mohit</td>\n",
       "      <td>3</td>\n",
       "      <td>Mohit</td>\n",
       "    </tr>\n",
       "  </tbody>\n",
       "</table>\n",
       "</div>"
      ],
      "text/plain": [
       "    S_Name  CGPA T_Name\n",
       "0    Mohit     2    NaN\n",
       "1    Jatin     4    NaN\n",
       "2  Prateek     5    NaN\n",
       "3    Mohit     3  Mohit"
      ]
     },
     "execution_count": 570,
     "metadata": {},
     "output_type": "execute_result"
    }
   ],
   "source": [
    "df1.merge(df2, how='left')"
   ]
  },
  {
   "cell_type": "code",
   "execution_count": 571,
   "id": "0508babc",
   "metadata": {},
   "outputs": [
    {
     "data": {
      "text/html": [
       "<div>\n",
       "<style scoped>\n",
       "    .dataframe tbody tr th:only-of-type {\n",
       "        vertical-align: middle;\n",
       "    }\n",
       "\n",
       "    .dataframe tbody tr th {\n",
       "        vertical-align: top;\n",
       "    }\n",
       "\n",
       "    .dataframe thead th {\n",
       "        text-align: right;\n",
       "    }\n",
       "</style>\n",
       "<table border=\"1\" class=\"dataframe\">\n",
       "  <thead>\n",
       "    <tr style=\"text-align: right;\">\n",
       "      <th></th>\n",
       "      <th>S_Name</th>\n",
       "      <th>CGPA</th>\n",
       "      <th>T_Name</th>\n",
       "    </tr>\n",
       "  </thead>\n",
       "  <tbody>\n",
       "    <tr>\n",
       "      <th>0</th>\n",
       "      <td>Mohit</td>\n",
       "      <td>3</td>\n",
       "      <td>Mohit</td>\n",
       "    </tr>\n",
       "    <tr>\n",
       "      <th>1</th>\n",
       "      <td>NaN</td>\n",
       "      <td>6</td>\n",
       "      <td>Jatin</td>\n",
       "    </tr>\n",
       "    <tr>\n",
       "      <th>2</th>\n",
       "      <td>NaN</td>\n",
       "      <td>8</td>\n",
       "      <td>Prateek</td>\n",
       "    </tr>\n",
       "    <tr>\n",
       "      <th>3</th>\n",
       "      <td>NaN</td>\n",
       "      <td>9</td>\n",
       "      <td>Mohit</td>\n",
       "    </tr>\n",
       "  </tbody>\n",
       "</table>\n",
       "</div>"
      ],
      "text/plain": [
       "  S_Name  CGPA   T_Name\n",
       "0  Mohit     3    Mohit\n",
       "1    NaN     6    Jatin\n",
       "2    NaN     8  Prateek\n",
       "3    NaN     9    Mohit"
      ]
     },
     "execution_count": 571,
     "metadata": {},
     "output_type": "execute_result"
    }
   ],
   "source": [
    "df1.merge(df2, how='right')"
   ]
  },
  {
   "cell_type": "code",
   "execution_count": 572,
   "id": "7f92970a",
   "metadata": {},
   "outputs": [
    {
     "data": {
      "text/html": [
       "<div>\n",
       "<style scoped>\n",
       "    .dataframe tbody tr th:only-of-type {\n",
       "        vertical-align: middle;\n",
       "    }\n",
       "\n",
       "    .dataframe tbody tr th {\n",
       "        vertical-align: top;\n",
       "    }\n",
       "\n",
       "    .dataframe thead th {\n",
       "        text-align: right;\n",
       "    }\n",
       "</style>\n",
       "<table border=\"1\" class=\"dataframe\">\n",
       "  <thead>\n",
       "    <tr style=\"text-align: right;\">\n",
       "      <th></th>\n",
       "      <th>S_Name</th>\n",
       "      <th>CGPA_x</th>\n",
       "      <th>T_Name</th>\n",
       "      <th>CGPA_y</th>\n",
       "    </tr>\n",
       "  </thead>\n",
       "  <tbody>\n",
       "    <tr>\n",
       "      <th>0</th>\n",
       "      <td>Mohit</td>\n",
       "      <td>2</td>\n",
       "      <td>Mohit</td>\n",
       "      <td>3</td>\n",
       "    </tr>\n",
       "    <tr>\n",
       "      <th>1</th>\n",
       "      <td>Mohit</td>\n",
       "      <td>2</td>\n",
       "      <td>Jatin</td>\n",
       "      <td>6</td>\n",
       "    </tr>\n",
       "    <tr>\n",
       "      <th>2</th>\n",
       "      <td>Mohit</td>\n",
       "      <td>2</td>\n",
       "      <td>Prateek</td>\n",
       "      <td>8</td>\n",
       "    </tr>\n",
       "    <tr>\n",
       "      <th>3</th>\n",
       "      <td>Mohit</td>\n",
       "      <td>2</td>\n",
       "      <td>Mohit</td>\n",
       "      <td>9</td>\n",
       "    </tr>\n",
       "    <tr>\n",
       "      <th>4</th>\n",
       "      <td>Jatin</td>\n",
       "      <td>4</td>\n",
       "      <td>Mohit</td>\n",
       "      <td>3</td>\n",
       "    </tr>\n",
       "    <tr>\n",
       "      <th>5</th>\n",
       "      <td>Jatin</td>\n",
       "      <td>4</td>\n",
       "      <td>Jatin</td>\n",
       "      <td>6</td>\n",
       "    </tr>\n",
       "    <tr>\n",
       "      <th>6</th>\n",
       "      <td>Jatin</td>\n",
       "      <td>4</td>\n",
       "      <td>Prateek</td>\n",
       "      <td>8</td>\n",
       "    </tr>\n",
       "    <tr>\n",
       "      <th>7</th>\n",
       "      <td>Jatin</td>\n",
       "      <td>4</td>\n",
       "      <td>Mohit</td>\n",
       "      <td>9</td>\n",
       "    </tr>\n",
       "    <tr>\n",
       "      <th>8</th>\n",
       "      <td>Prateek</td>\n",
       "      <td>5</td>\n",
       "      <td>Mohit</td>\n",
       "      <td>3</td>\n",
       "    </tr>\n",
       "    <tr>\n",
       "      <th>9</th>\n",
       "      <td>Prateek</td>\n",
       "      <td>5</td>\n",
       "      <td>Jatin</td>\n",
       "      <td>6</td>\n",
       "    </tr>\n",
       "    <tr>\n",
       "      <th>10</th>\n",
       "      <td>Prateek</td>\n",
       "      <td>5</td>\n",
       "      <td>Prateek</td>\n",
       "      <td>8</td>\n",
       "    </tr>\n",
       "    <tr>\n",
       "      <th>11</th>\n",
       "      <td>Prateek</td>\n",
       "      <td>5</td>\n",
       "      <td>Mohit</td>\n",
       "      <td>9</td>\n",
       "    </tr>\n",
       "    <tr>\n",
       "      <th>12</th>\n",
       "      <td>Mohit</td>\n",
       "      <td>3</td>\n",
       "      <td>Mohit</td>\n",
       "      <td>3</td>\n",
       "    </tr>\n",
       "    <tr>\n",
       "      <th>13</th>\n",
       "      <td>Mohit</td>\n",
       "      <td>3</td>\n",
       "      <td>Jatin</td>\n",
       "      <td>6</td>\n",
       "    </tr>\n",
       "    <tr>\n",
       "      <th>14</th>\n",
       "      <td>Mohit</td>\n",
       "      <td>3</td>\n",
       "      <td>Prateek</td>\n",
       "      <td>8</td>\n",
       "    </tr>\n",
       "    <tr>\n",
       "      <th>15</th>\n",
       "      <td>Mohit</td>\n",
       "      <td>3</td>\n",
       "      <td>Mohit</td>\n",
       "      <td>9</td>\n",
       "    </tr>\n",
       "  </tbody>\n",
       "</table>\n",
       "</div>"
      ],
      "text/plain": [
       "     S_Name  CGPA_x   T_Name  CGPA_y\n",
       "0     Mohit       2    Mohit       3\n",
       "1     Mohit       2    Jatin       6\n",
       "2     Mohit       2  Prateek       8\n",
       "3     Mohit       2    Mohit       9\n",
       "4     Jatin       4    Mohit       3\n",
       "5     Jatin       4    Jatin       6\n",
       "6     Jatin       4  Prateek       8\n",
       "7     Jatin       4    Mohit       9\n",
       "8   Prateek       5    Mohit       3\n",
       "9   Prateek       5    Jatin       6\n",
       "10  Prateek       5  Prateek       8\n",
       "11  Prateek       5    Mohit       9\n",
       "12    Mohit       3    Mohit       3\n",
       "13    Mohit       3    Jatin       6\n",
       "14    Mohit       3  Prateek       8\n",
       "15    Mohit       3    Mohit       9"
      ]
     },
     "execution_count": 572,
     "metadata": {},
     "output_type": "execute_result"
    }
   ],
   "source": [
    "df1.merge(df2, how='cross')"
   ]
  },
  {
   "cell_type": "code",
   "execution_count": 573,
   "id": "106e59fe",
   "metadata": {},
   "outputs": [
    {
     "data": {
      "text/html": [
       "<div>\n",
       "<style scoped>\n",
       "    .dataframe tbody tr th:only-of-type {\n",
       "        vertical-align: middle;\n",
       "    }\n",
       "\n",
       "    .dataframe tbody tr th {\n",
       "        vertical-align: top;\n",
       "    }\n",
       "\n",
       "    .dataframe thead th {\n",
       "        text-align: right;\n",
       "    }\n",
       "</style>\n",
       "<table border=\"1\" class=\"dataframe\">\n",
       "  <thead>\n",
       "    <tr style=\"text-align: right;\">\n",
       "      <th></th>\n",
       "      <th>S_Name</th>\n",
       "      <th>CGPA</th>\n",
       "      <th>T_Name</th>\n",
       "    </tr>\n",
       "  </thead>\n",
       "  <tbody>\n",
       "    <tr>\n",
       "      <th>0</th>\n",
       "      <td>Mohit</td>\n",
       "      <td>2</td>\n",
       "      <td>NaN</td>\n",
       "    </tr>\n",
       "    <tr>\n",
       "      <th>1</th>\n",
       "      <td>Jatin</td>\n",
       "      <td>4</td>\n",
       "      <td>NaN</td>\n",
       "    </tr>\n",
       "    <tr>\n",
       "      <th>2</th>\n",
       "      <td>Prateek</td>\n",
       "      <td>5</td>\n",
       "      <td>NaN</td>\n",
       "    </tr>\n",
       "    <tr>\n",
       "      <th>3</th>\n",
       "      <td>Mohit</td>\n",
       "      <td>3</td>\n",
       "      <td>Mohit</td>\n",
       "    </tr>\n",
       "    <tr>\n",
       "      <th>4</th>\n",
       "      <td>NaN</td>\n",
       "      <td>6</td>\n",
       "      <td>Jatin</td>\n",
       "    </tr>\n",
       "    <tr>\n",
       "      <th>5</th>\n",
       "      <td>NaN</td>\n",
       "      <td>8</td>\n",
       "      <td>Prateek</td>\n",
       "    </tr>\n",
       "    <tr>\n",
       "      <th>6</th>\n",
       "      <td>NaN</td>\n",
       "      <td>9</td>\n",
       "      <td>Mohit</td>\n",
       "    </tr>\n",
       "  </tbody>\n",
       "</table>\n",
       "</div>"
      ],
      "text/plain": [
       "    S_Name  CGPA   T_Name\n",
       "0    Mohit     2      NaN\n",
       "1    Jatin     4      NaN\n",
       "2  Prateek     5      NaN\n",
       "3    Mohit     3    Mohit\n",
       "4      NaN     6    Jatin\n",
       "5      NaN     8  Prateek\n",
       "6      NaN     9    Mohit"
      ]
     },
     "execution_count": 573,
     "metadata": {},
     "output_type": "execute_result"
    }
   ],
   "source": [
    "df1.merge(df2, how='outer', on='CGPA')"
   ]
  },
  {
   "cell_type": "code",
   "execution_count": 576,
   "id": "06b32e76",
   "metadata": {},
   "outputs": [
    {
     "data": {
      "text/plain": [
       "sepal_length    0\n",
       "sepal_width     0\n",
       "petal_length    0\n",
       "petal_width     0\n",
       "species         0\n",
       "dtype: int64"
      ]
     },
     "execution_count": 576,
     "metadata": {},
     "output_type": "execute_result"
    }
   ],
   "source": [
    "df.isna().sum()"
   ]
  },
  {
   "cell_type": "code",
   "execution_count": 578,
   "id": "5514c8a9",
   "metadata": {},
   "outputs": [],
   "source": [
    "df.to_csv('my_15_data.csv', index=False)"
   ]
  },
  {
   "cell_type": "code",
   "execution_count": 580,
   "id": "c67f6968",
   "metadata": {},
   "outputs": [],
   "source": [
    "modified_csv= pd.read_csv('my_15_data.csv')"
   ]
  },
  {
   "cell_type": "code",
   "execution_count": 581,
   "id": "29df7ba5",
   "metadata": {},
   "outputs": [
    {
     "data": {
      "text/html": [
       "<div>\n",
       "<style scoped>\n",
       "    .dataframe tbody tr th:only-of-type {\n",
       "        vertical-align: middle;\n",
       "    }\n",
       "\n",
       "    .dataframe tbody tr th {\n",
       "        vertical-align: top;\n",
       "    }\n",
       "\n",
       "    .dataframe thead th {\n",
       "        text-align: right;\n",
       "    }\n",
       "</style>\n",
       "<table border=\"1\" class=\"dataframe\">\n",
       "  <thead>\n",
       "    <tr style=\"text-align: right;\">\n",
       "      <th></th>\n",
       "      <th>sepal_length</th>\n",
       "      <th>sepal_width</th>\n",
       "      <th>petal_length</th>\n",
       "      <th>petal_width</th>\n",
       "      <th>species</th>\n",
       "    </tr>\n",
       "  </thead>\n",
       "  <tbody>\n",
       "    <tr>\n",
       "      <th>0</th>\n",
       "      <td>5.00</td>\n",
       "      <td>3.5</td>\n",
       "      <td>1.40</td>\n",
       "      <td>0.2</td>\n",
       "      <td>setosa</td>\n",
       "    </tr>\n",
       "    <tr>\n",
       "      <th>1</th>\n",
       "      <td>5.88</td>\n",
       "      <td>3.0</td>\n",
       "      <td>1.40</td>\n",
       "      <td>0.2</td>\n",
       "      <td>setosa</td>\n",
       "    </tr>\n",
       "    <tr>\n",
       "      <th>2</th>\n",
       "      <td>5.00</td>\n",
       "      <td>3.2</td>\n",
       "      <td>1.30</td>\n",
       "      <td>0.2</td>\n",
       "      <td>setosa</td>\n",
       "    </tr>\n",
       "    <tr>\n",
       "      <th>3</th>\n",
       "      <td>5.00</td>\n",
       "      <td>3.1</td>\n",
       "      <td>1.50</td>\n",
       "      <td>0.2</td>\n",
       "      <td>setosa</td>\n",
       "    </tr>\n",
       "    <tr>\n",
       "      <th>4</th>\n",
       "      <td>5.00</td>\n",
       "      <td>3.6</td>\n",
       "      <td>3.84</td>\n",
       "      <td>0.2</td>\n",
       "      <td>setosa</td>\n",
       "    </tr>\n",
       "  </tbody>\n",
       "</table>\n",
       "</div>"
      ],
      "text/plain": [
       "   sepal_length  sepal_width  petal_length  petal_width species\n",
       "0          5.00          3.5          1.40          0.2  setosa\n",
       "1          5.88          3.0          1.40          0.2  setosa\n",
       "2          5.00          3.2          1.30          0.2  setosa\n",
       "3          5.00          3.1          1.50          0.2  setosa\n",
       "4          5.00          3.6          3.84          0.2  setosa"
      ]
     },
     "execution_count": 581,
     "metadata": {},
     "output_type": "execute_result"
    }
   ],
   "source": [
    "modified_csv.head()"
   ]
  },
  {
   "cell_type": "code",
   "execution_count": 584,
   "id": "0598c4d7",
   "metadata": {},
   "outputs": [],
   "source": [
    "df.to_excel('my_15_excel.xlsx',sheet_name='sales_data' ,index=False)"
   ]
  },
  {
   "cell_type": "code",
   "execution_count": null,
   "id": "b493c19c",
   "metadata": {},
   "outputs": [],
   "source": []
  }
 ],
 "metadata": {
  "kernelspec": {
   "display_name": "Python 3",
   "language": "python",
   "name": "python3"
  },
  "language_info": {
   "codemirror_mode": {
    "name": "ipython",
    "version": 3
   },
   "file_extension": ".py",
   "mimetype": "text/x-python",
   "name": "python",
   "nbconvert_exporter": "python",
   "pygments_lexer": "ipython3",
   "version": "3.8.8"
  }
 },
 "nbformat": 4,
 "nbformat_minor": 5
}
