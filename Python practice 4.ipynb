{
 "cells": [
  {
   "cell_type": "code",
   "execution_count": 8,
   "id": "2e063d8b",
   "metadata": {},
   "outputs": [],
   "source": [
    "def feb1(n):\n",
    "    a,b = 0,1\n",
    "    while b<n:\n",
    "        print('b', end=\" \")\n",
    "        a,b = b,a+b\n",
    "    print()\n",
    "            "
   ]
  },
  {
   "cell_type": "code",
   "execution_count": 9,
   "id": "db751e33",
   "metadata": {},
   "outputs": [
    {
     "name": "stdout",
     "output_type": "stream",
     "text": [
      "b b b b \n"
     ]
    }
   ],
   "source": [
    "feb1(5)"
   ]
  },
  {
   "cell_type": "code",
   "execution_count": 10,
   "id": "384e0d48",
   "metadata": {},
   "outputs": [],
   "source": [
    "def feb2(n):\n",
    "    a,b = 0,1\n",
    "    result = []\n",
    "    while b<n:\n",
    "        result.append(b)\n",
    "        a,b = b,a+b\n",
    "    return result"
   ]
  },
  {
   "cell_type": "code",
   "execution_count": 12,
   "id": "526c5add",
   "metadata": {},
   "outputs": [
    {
     "data": {
      "text/plain": [
       "[1, 1, 2, 3, 5]"
      ]
     },
     "execution_count": 12,
     "metadata": {},
     "output_type": "execute_result"
    }
   ],
   "source": [
    "feb2(8)"
   ]
  },
  {
   "cell_type": "code",
   "execution_count": 1,
   "id": "7b8451a5",
   "metadata": {},
   "outputs": [],
   "source": [
    "sample_set = {\"Yellow\", \"Orange\", \"Black\"}\n",
    "sample_list = [\"Blue\", \"Green\", \"Red\"]"
   ]
  },
  {
   "cell_type": "code",
   "execution_count": 4,
   "id": "f872994c",
   "metadata": {},
   "outputs": [],
   "source": [
    "sample_set.update(sample_list)"
   ]
  },
  {
   "cell_type": "code",
   "execution_count": 5,
   "id": "eca2e111",
   "metadata": {},
   "outputs": [
    {
     "data": {
      "text/plain": [
       "{'Black', 'Blue', 'Green', 'Orange', 'Red', 'Yellow'}"
      ]
     },
     "execution_count": 5,
     "metadata": {},
     "output_type": "execute_result"
    }
   ],
   "source": [
    "sample_set"
   ]
  },
  {
   "cell_type": "code",
   "execution_count": 18,
   "id": "14c368e8",
   "metadata": {},
   "outputs": [],
   "source": [
    "set1 = {10, 20, 30, 40, 50}\n",
    "set2 = {30, 40, 50, 60, 70}"
   ]
  },
  {
   "cell_type": "code",
   "execution_count": 7,
   "id": "05e201e4",
   "metadata": {},
   "outputs": [
    {
     "data": {
      "text/plain": [
       "{10, 20, 30, 40, 50, 60, 70}"
      ]
     },
     "execution_count": 7,
     "metadata": {},
     "output_type": "execute_result"
    }
   ],
   "source": [
    "set1|set2"
   ]
  },
  {
   "cell_type": "code",
   "execution_count": 8,
   "id": "9a8096ab",
   "metadata": {},
   "outputs": [
    {
     "data": {
      "text/plain": [
       "{10, 20, 60, 70}"
      ]
     },
     "execution_count": 8,
     "metadata": {},
     "output_type": "execute_result"
    }
   ],
   "source": [
    "set1^set2"
   ]
  },
  {
   "cell_type": "code",
   "execution_count": 9,
   "id": "5ade6378",
   "metadata": {},
   "outputs": [
    {
     "data": {
      "text/plain": [
       "{30, 40, 50}"
      ]
     },
     "execution_count": 9,
     "metadata": {},
     "output_type": "execute_result"
    }
   ],
   "source": [
    "set1.intersection(set2)"
   ]
  },
  {
   "cell_type": "code",
   "execution_count": 10,
   "id": "9f64ec65",
   "metadata": {},
   "outputs": [
    {
     "data": {
      "text/plain": [
       "{10, 20, 30, 40, 50, 60, 70}"
      ]
     },
     "execution_count": 10,
     "metadata": {},
     "output_type": "execute_result"
    }
   ],
   "source": [
    "set1.union(set2)"
   ]
  },
  {
   "cell_type": "code",
   "execution_count": 11,
   "id": "4d83276a",
   "metadata": {},
   "outputs": [
    {
     "data": {
      "text/plain": [
       "{10, 20}"
      ]
     },
     "execution_count": 11,
     "metadata": {},
     "output_type": "execute_result"
    }
   ],
   "source": [
    "set1 - set2"
   ]
  },
  {
   "cell_type": "code",
   "execution_count": 16,
   "id": "95977bf5",
   "metadata": {},
   "outputs": [
    {
     "data": {
      "text/plain": [
       "{10, 20}"
      ]
     },
     "execution_count": 16,
     "metadata": {},
     "output_type": "execute_result"
    }
   ],
   "source": [
    "set1.difference(set2)"
   ]
  },
  {
   "cell_type": "code",
   "execution_count": 19,
   "id": "8fb60a9c",
   "metadata": {},
   "outputs": [],
   "source": [
    "set1.difference_update(set2)"
   ]
  },
  {
   "cell_type": "code",
   "execution_count": 20,
   "id": "7799a361",
   "metadata": {},
   "outputs": [
    {
     "data": {
      "text/plain": [
       "{10, 20}"
      ]
     },
     "execution_count": 20,
     "metadata": {},
     "output_type": "execute_result"
    }
   ],
   "source": [
    "set1"
   ]
  },
  {
   "cell_type": "code",
   "execution_count": 17,
   "id": "11adb89d",
   "metadata": {},
   "outputs": [
    {
     "data": {
      "text/plain": [
       "{10, 20, 30, 40, 50}"
      ]
     },
     "execution_count": 17,
     "metadata": {},
     "output_type": "execute_result"
    }
   ],
   "source": [
    "set1"
   ]
  },
  {
   "cell_type": "code",
   "execution_count": 21,
   "id": "663f9613",
   "metadata": {},
   "outputs": [],
   "source": [
    "set1 = {10, 20, 30}\n",
    "set2 = {20, 40, 50}"
   ]
  },
  {
   "cell_type": "code",
   "execution_count": 24,
   "id": "30bb3002",
   "metadata": {},
   "outputs": [],
   "source": [
    "set1.difference_update(set2)"
   ]
  },
  {
   "cell_type": "code",
   "execution_count": 25,
   "id": "cfab80cf",
   "metadata": {},
   "outputs": [
    {
     "data": {
      "text/plain": [
       "{10, 30}"
      ]
     },
     "execution_count": 25,
     "metadata": {},
     "output_type": "execute_result"
    }
   ],
   "source": [
    "set1"
   ]
  },
  {
   "cell_type": "code",
   "execution_count": 26,
   "id": "0520be86",
   "metadata": {},
   "outputs": [],
   "source": [
    "set1 = {10, 20, 30, 40, 50}"
   ]
  },
  {
   "cell_type": "code",
   "execution_count": 29,
   "id": "2076041a",
   "metadata": {},
   "outputs": [],
   "source": [
    "set1.difference_update({10,20,30})"
   ]
  },
  {
   "cell_type": "code",
   "execution_count": 30,
   "id": "0364ebda",
   "metadata": {},
   "outputs": [
    {
     "data": {
      "text/plain": [
       "{40, 50}"
      ]
     },
     "execution_count": 30,
     "metadata": {},
     "output_type": "execute_result"
    }
   ],
   "source": [
    "set1"
   ]
  },
  {
   "cell_type": "code",
   "execution_count": 31,
   "id": "e0792455",
   "metadata": {},
   "outputs": [],
   "source": [
    "set1 = {10, 20, 30, 40, 50}\n",
    "set2 = {30, 40, 50, 60, 70}"
   ]
  },
  {
   "cell_type": "code",
   "execution_count": 32,
   "id": "344c6b77",
   "metadata": {},
   "outputs": [
    {
     "data": {
      "text/plain": [
       "{10, 20, 60, 70}"
      ]
     },
     "execution_count": 32,
     "metadata": {},
     "output_type": "execute_result"
    }
   ],
   "source": [
    "set1^set2"
   ]
  },
  {
   "cell_type": "code",
   "execution_count": 33,
   "id": "439e05d8",
   "metadata": {},
   "outputs": [
    {
     "data": {
      "text/plain": [
       "{10, 20, 60, 70}"
      ]
     },
     "execution_count": 33,
     "metadata": {},
     "output_type": "execute_result"
    }
   ],
   "source": [
    "set1.symmetric_difference(set2)"
   ]
  },
  {
   "cell_type": "code",
   "execution_count": 35,
   "id": "911f15ed",
   "metadata": {},
   "outputs": [
    {
     "data": {
      "text/plain": [
       "{10, 20, 30, 40, 50, 60, 70}"
      ]
     },
     "execution_count": 35,
     "metadata": {},
     "output_type": "execute_result"
    }
   ],
   "source": [
    "set1|set2"
   ]
  },
  {
   "cell_type": "code",
   "execution_count": 36,
   "id": "6d482005",
   "metadata": {},
   "outputs": [
    {
     "data": {
      "text/plain": [
       "{10, 20}"
      ]
     },
     "execution_count": 36,
     "metadata": {},
     "output_type": "execute_result"
    }
   ],
   "source": [
    "set1 - set2"
   ]
  },
  {
   "cell_type": "code",
   "execution_count": 5,
   "id": "7c0b0245",
   "metadata": {},
   "outputs": [],
   "source": [
    "set1 = {10, 20, 30, 40, 50}\n",
    "set2 = {60, 70, 80, 90, 10}"
   ]
  },
  {
   "cell_type": "code",
   "execution_count": 3,
   "id": "8f0fa6f5",
   "metadata": {},
   "outputs": [
    {
     "data": {
      "text/plain": [
       "False"
      ]
     },
     "execution_count": 3,
     "metadata": {},
     "output_type": "execute_result"
    }
   ],
   "source": [
    "set2.isdisjoint(set1)"
   ]
  },
  {
   "cell_type": "code",
   "execution_count": 6,
   "id": "b35dbf3b",
   "metadata": {},
   "outputs": [
    {
     "name": "stdout",
     "output_type": "stream",
     "text": [
      "{10}\n"
     ]
    }
   ],
   "source": [
    "if set1.isdisjoint(set2):\n",
    "    print(\"Two sets have no items in common\")\n",
    "else:\n",
    "    print(set1.intersection(set2))"
   ]
  },
  {
   "cell_type": "code",
   "execution_count": 7,
   "id": "f732524c",
   "metadata": {},
   "outputs": [],
   "source": [
    "set1 = {10, 20, 30, 40, 50}\n",
    "set2 = {30, 40, 50, 60, 70}"
   ]
  },
  {
   "cell_type": "code",
   "execution_count": 9,
   "id": "415993b7",
   "metadata": {},
   "outputs": [],
   "source": [
    "set1.symmetric_difference_update(set2)"
   ]
  },
  {
   "cell_type": "code",
   "execution_count": 10,
   "id": "76faf273",
   "metadata": {},
   "outputs": [
    {
     "data": {
      "text/plain": [
       "{10, 20, 60, 70}"
      ]
     },
     "execution_count": 10,
     "metadata": {},
     "output_type": "execute_result"
    }
   ],
   "source": [
    "set1"
   ]
  },
  {
   "cell_type": "code",
   "execution_count": 11,
   "id": "b05a97c6",
   "metadata": {},
   "outputs": [],
   "source": [
    "set1 = {10, 20, 30, 40, 50}\n",
    "set2 = {30, 40, 50, 60, 70}"
   ]
  },
  {
   "cell_type": "code",
   "execution_count": 12,
   "id": "d4b6e706",
   "metadata": {},
   "outputs": [],
   "source": [
    "set1.intersection_update(set2)"
   ]
  },
  {
   "cell_type": "code",
   "execution_count": 13,
   "id": "33deb17c",
   "metadata": {},
   "outputs": [
    {
     "data": {
      "text/plain": [
       "{30, 40, 50}"
      ]
     },
     "execution_count": 13,
     "metadata": {},
     "output_type": "execute_result"
    }
   ],
   "source": [
    "set1"
   ]
  },
  {
   "cell_type": "code",
   "execution_count": 14,
   "id": "fae16812",
   "metadata": {},
   "outputs": [],
   "source": [
    "tuple1 = (10, 20, 30, 40, 50)"
   ]
  },
  {
   "cell_type": "code",
   "execution_count": 15,
   "id": "b8ccf893",
   "metadata": {},
   "outputs": [
    {
     "data": {
      "text/plain": [
       "(50, 40, 30, 20, 10)"
      ]
     },
     "execution_count": 15,
     "metadata": {},
     "output_type": "execute_result"
    }
   ],
   "source": [
    "tuple1[::-1]"
   ]
  },
  {
   "cell_type": "code",
   "execution_count": 18,
   "id": "7b1ca562",
   "metadata": {},
   "outputs": [
    {
     "data": {
      "text/plain": [
       "(50, 40, 30, 20, 10)"
      ]
     },
     "execution_count": 18,
     "metadata": {},
     "output_type": "execute_result"
    }
   ],
   "source": [
    "tuple(reversed(tuple1))"
   ]
  },
  {
   "cell_type": "code",
   "execution_count": 19,
   "id": "49398118",
   "metadata": {},
   "outputs": [],
   "source": [
    "tuple1 = (\"Orange\", [10, 20, 30], (5, 15, 25))"
   ]
  },
  {
   "cell_type": "code",
   "execution_count": 21,
   "id": "67da9443",
   "metadata": {},
   "outputs": [
    {
     "data": {
      "text/plain": [
       "20"
      ]
     },
     "execution_count": 21,
     "metadata": {},
     "output_type": "execute_result"
    }
   ],
   "source": [
    "tuple1[1][1]"
   ]
  },
  {
   "cell_type": "code",
   "execution_count": 22,
   "id": "85db1568",
   "metadata": {},
   "outputs": [],
   "source": [
    "tuple2 = 50,"
   ]
  },
  {
   "cell_type": "code",
   "execution_count": 23,
   "id": "224e38b9",
   "metadata": {},
   "outputs": [
    {
     "data": {
      "text/plain": [
       "tuple"
      ]
     },
     "execution_count": 23,
     "metadata": {},
     "output_type": "execute_result"
    }
   ],
   "source": [
    "type(tuple2)"
   ]
  },
  {
   "cell_type": "code",
   "execution_count": 24,
   "id": "b41fa657",
   "metadata": {},
   "outputs": [],
   "source": [
    "tuple1 = (10, 20, 30, 40)"
   ]
  },
  {
   "cell_type": "code",
   "execution_count": 25,
   "id": "0cb8741a",
   "metadata": {},
   "outputs": [],
   "source": [
    "a,b,c,d = tuple1"
   ]
  },
  {
   "cell_type": "code",
   "execution_count": 26,
   "id": "07cc1436",
   "metadata": {},
   "outputs": [
    {
     "data": {
      "text/plain": [
       "10"
      ]
     },
     "execution_count": 26,
     "metadata": {},
     "output_type": "execute_result"
    }
   ],
   "source": [
    "a"
   ]
  },
  {
   "cell_type": "code",
   "execution_count": 27,
   "id": "37e9ef86",
   "metadata": {},
   "outputs": [
    {
     "data": {
      "text/plain": [
       "20"
      ]
     },
     "execution_count": 27,
     "metadata": {},
     "output_type": "execute_result"
    }
   ],
   "source": [
    "b"
   ]
  },
  {
   "cell_type": "code",
   "execution_count": 28,
   "id": "db3f5167",
   "metadata": {},
   "outputs": [
    {
     "data": {
      "text/plain": [
       "30"
      ]
     },
     "execution_count": 28,
     "metadata": {},
     "output_type": "execute_result"
    }
   ],
   "source": [
    "c"
   ]
  },
  {
   "cell_type": "code",
   "execution_count": 29,
   "id": "13dfad7d",
   "metadata": {},
   "outputs": [
    {
     "data": {
      "text/plain": [
       "40"
      ]
     },
     "execution_count": 29,
     "metadata": {},
     "output_type": "execute_result"
    }
   ],
   "source": [
    "d"
   ]
  },
  {
   "cell_type": "code",
   "execution_count": 30,
   "id": "7cc9532e",
   "metadata": {},
   "outputs": [],
   "source": [
    "tuple1 = (11, 22)\n",
    "tuple2 = (99, 88)"
   ]
  },
  {
   "cell_type": "code",
   "execution_count": 34,
   "id": "9f0fbef3",
   "metadata": {},
   "outputs": [],
   "source": [
    "tuple1 = list(tuple1)"
   ]
  },
  {
   "cell_type": "code",
   "execution_count": 35,
   "id": "715357e0",
   "metadata": {},
   "outputs": [],
   "source": [
    "tuple2 = list(tuple2)"
   ]
  },
  {
   "cell_type": "code",
   "execution_count": 36,
   "id": "beb0c220",
   "metadata": {},
   "outputs": [],
   "source": [
    "tuple1 = tuple2"
   ]
  },
  {
   "cell_type": "code",
   "execution_count": 37,
   "id": "c28f479f",
   "metadata": {},
   "outputs": [],
   "source": [
    "tuple2 = tuple1"
   ]
  },
  {
   "cell_type": "code",
   "execution_count": 40,
   "id": "7130968b",
   "metadata": {},
   "outputs": [],
   "source": [
    "tuple1 = tuple(tuple1)"
   ]
  },
  {
   "cell_type": "code",
   "execution_count": 41,
   "id": "7ad2ba5e",
   "metadata": {},
   "outputs": [
    {
     "data": {
      "text/plain": [
       "[99, 88]"
      ]
     },
     "execution_count": 41,
     "metadata": {},
     "output_type": "execute_result"
    }
   ],
   "source": [
    "tuple2"
   ]
  },
  {
   "cell_type": "code",
   "execution_count": 42,
   "id": "7d9e1a7a",
   "metadata": {},
   "outputs": [],
   "source": [
    "tuple1 = (11, 22)\n",
    "tuple2 = (99, 88)"
   ]
  },
  {
   "cell_type": "code",
   "execution_count": 43,
   "id": "f16737bc",
   "metadata": {},
   "outputs": [],
   "source": [
    "tuple1, tuple2 = tuple2, tuple1"
   ]
  },
  {
   "cell_type": "code",
   "execution_count": 44,
   "id": "8f6814db",
   "metadata": {},
   "outputs": [
    {
     "data": {
      "text/plain": [
       "(99, 88)"
      ]
     },
     "execution_count": 44,
     "metadata": {},
     "output_type": "execute_result"
    }
   ],
   "source": [
    "tuple1"
   ]
  },
  {
   "cell_type": "code",
   "execution_count": 45,
   "id": "4bd827a8",
   "metadata": {},
   "outputs": [
    {
     "data": {
      "text/plain": [
       "(11, 22)"
      ]
     },
     "execution_count": 45,
     "metadata": {},
     "output_type": "execute_result"
    }
   ],
   "source": [
    "tuple2"
   ]
  },
  {
   "cell_type": "code",
   "execution_count": 46,
   "id": "e6f51a4b",
   "metadata": {},
   "outputs": [],
   "source": [
    "tuple1 = (11, 22, 33, 44, 55, 66)"
   ]
  },
  {
   "cell_type": "code",
   "execution_count": 48,
   "id": "0dd7729d",
   "metadata": {},
   "outputs": [],
   "source": [
    "a,b,c,d,e,f = tuple1"
   ]
  },
  {
   "cell_type": "code",
   "execution_count": 49,
   "id": "02f71659",
   "metadata": {},
   "outputs": [
    {
     "data": {
      "text/plain": [
       "(44, 55)"
      ]
     },
     "execution_count": 49,
     "metadata": {},
     "output_type": "execute_result"
    }
   ],
   "source": [
    "(d,e)"
   ]
  },
  {
   "cell_type": "code",
   "execution_count": 52,
   "id": "066b0712",
   "metadata": {},
   "outputs": [],
   "source": [
    "tuple2 = tuple1[3:5]"
   ]
  },
  {
   "cell_type": "code",
   "execution_count": 53,
   "id": "9ed6df93",
   "metadata": {},
   "outputs": [
    {
     "data": {
      "text/plain": [
       "(44, 55)"
      ]
     },
     "execution_count": 53,
     "metadata": {},
     "output_type": "execute_result"
    }
   ],
   "source": [
    "tuple2\n"
   ]
  },
  {
   "cell_type": "code",
   "execution_count": 57,
   "id": "d4877603",
   "metadata": {},
   "outputs": [
    {
     "data": {
      "text/plain": [
       "(44, 55)"
      ]
     },
     "execution_count": 57,
     "metadata": {},
     "output_type": "execute_result"
    }
   ],
   "source": [
    "tuple1[3:-1]\n"
   ]
  },
  {
   "cell_type": "code",
   "execution_count": 58,
   "id": "045b1d22",
   "metadata": {},
   "outputs": [],
   "source": [
    "tuple1 = (11, [22, 33], 44, 55)"
   ]
  },
  {
   "cell_type": "code",
   "execution_count": 61,
   "id": "32187f3a",
   "metadata": {},
   "outputs": [],
   "source": [
    "tuple1[1][0] = 222"
   ]
  },
  {
   "cell_type": "code",
   "execution_count": 62,
   "id": "fc28c2a4",
   "metadata": {},
   "outputs": [
    {
     "data": {
      "text/plain": [
       "(11, [222, 33], 44, 55)"
      ]
     },
     "execution_count": 62,
     "metadata": {},
     "output_type": "execute_result"
    }
   ],
   "source": [
    "tuple1"
   ]
  },
  {
   "cell_type": "code",
   "execution_count": 63,
   "id": "6900ef7a",
   "metadata": {},
   "outputs": [
    {
     "data": {
      "text/plain": [
       "(11, [222, 33], 44, 55)"
      ]
     },
     "execution_count": 63,
     "metadata": {},
     "output_type": "execute_result"
    }
   ],
   "source": [
    "tuple1"
   ]
  },
  {
   "cell_type": "code",
   "execution_count": 64,
   "id": "199fe90a",
   "metadata": {},
   "outputs": [],
   "source": [
    "tuple1 = (('a', 23),('b', 37),('c', 11), ('d',29))"
   ]
  },
  {
   "cell_type": "code",
   "execution_count": 69,
   "id": "22fffce7",
   "metadata": {},
   "outputs": [
    {
     "data": {
      "text/plain": [
       "[('b', 37), ('d', 29), ('a', 23), ('c', 11)]"
      ]
     },
     "execution_count": 69,
     "metadata": {},
     "output_type": "execute_result"
    }
   ],
   "source": [
    "sorted(tuple1, key=lambda x:x[1], reverse=True)"
   ]
  },
  {
   "cell_type": "code",
   "execution_count": 70,
   "id": "55d9949b",
   "metadata": {},
   "outputs": [],
   "source": [
    "tuple1 = (50, 10, 60, 70, 50)"
   ]
  },
  {
   "cell_type": "code",
   "execution_count": 71,
   "id": "47c96fc4",
   "metadata": {},
   "outputs": [
    {
     "data": {
      "text/plain": [
       "2"
      ]
     },
     "execution_count": 71,
     "metadata": {},
     "output_type": "execute_result"
    }
   ],
   "source": [
    "tuple1.count(50)"
   ]
  },
  {
   "cell_type": "code",
   "execution_count": 72,
   "id": "6f8a8706",
   "metadata": {},
   "outputs": [],
   "source": [
    "tuple1 = (45, 45, 45, 45)"
   ]
  },
  {
   "cell_type": "code",
   "execution_count": 73,
   "id": "f5002109",
   "metadata": {},
   "outputs": [],
   "source": [
    "def check(t):\n",
    "    return all(i==t[0] for i in t)"
   ]
  },
  {
   "cell_type": "code",
   "execution_count": 74,
   "id": "dc4eb0ba",
   "metadata": {},
   "outputs": [
    {
     "data": {
      "text/plain": [
       "True"
      ]
     },
     "execution_count": 74,
     "metadata": {},
     "output_type": "execute_result"
    }
   ],
   "source": [
    "check(tuple1)"
   ]
  },
  {
   "cell_type": "code",
   "execution_count": 75,
   "id": "eb24b762",
   "metadata": {},
   "outputs": [],
   "source": [
    "import time"
   ]
  },
  {
   "cell_type": "code",
   "execution_count": 76,
   "id": "aa1ad038",
   "metadata": {},
   "outputs": [
    {
     "ename": "TypeError",
     "evalue": "get_clock_info() takes exactly 1 argument (0 given)",
     "output_type": "error",
     "traceback": [
      "\u001b[1;31m---------------------------------------------------------------------------\u001b[0m",
      "\u001b[1;31mTypeError\u001b[0m                                 Traceback (most recent call last)",
      "Input \u001b[1;32mIn [76]\u001b[0m, in \u001b[0;36m<cell line: 1>\u001b[1;34m()\u001b[0m\n\u001b[1;32m----> 1\u001b[0m \u001b[43mtime\u001b[49m\u001b[38;5;241;43m.\u001b[39;49m\u001b[43mget_clock_info\u001b[49m\u001b[43m(\u001b[49m\u001b[43m)\u001b[49m\n",
      "\u001b[1;31mTypeError\u001b[0m: get_clock_info() takes exactly 1 argument (0 given)"
     ]
    }
   ],
   "source": [
    "time.get_clock_info()"
   ]
  },
  {
   "cell_type": "code",
   "execution_count": 77,
   "id": "3a313293",
   "metadata": {},
   "outputs": [],
   "source": [
    "import datetime"
   ]
  },
  {
   "cell_type": "code",
   "execution_count": 85,
   "id": "5a921e83",
   "metadata": {},
   "outputs": [
    {
     "data": {
      "text/plain": [
       "datetime.time(1, 1, 4, 213272)"
      ]
     },
     "execution_count": 85,
     "metadata": {},
     "output_type": "execute_result"
    }
   ],
   "source": [
    "datetime.datetime.now().time()"
   ]
  },
  {
   "cell_type": "code",
   "execution_count": 91,
   "id": "622f4842",
   "metadata": {},
   "outputs": [
    {
     "data": {
      "text/plain": [
       "'2022,08'"
      ]
     },
     "execution_count": 91,
     "metadata": {},
     "output_type": "execute_result"
    }
   ],
   "source": [
    "time.strftime(\"%Y,%m\")"
   ]
  },
  {
   "cell_type": "code",
   "execution_count": 92,
   "id": "1e8b986b",
   "metadata": {},
   "outputs": [],
   "source": [
    "date_string = \"Feb 25 2020 4:20PM\""
   ]
  },
  {
   "cell_type": "code",
   "execution_count": 96,
   "id": "4261a886",
   "metadata": {},
   "outputs": [],
   "source": [
    "datetime_object  = datetime.datetime.strptime(date_string, '%b %d %Y %I:%M%p')"
   ]
  },
  {
   "cell_type": "code",
   "execution_count": 97,
   "id": "87d0798a",
   "metadata": {},
   "outputs": [
    {
     "name": "stdout",
     "output_type": "stream",
     "text": [
      "2020-02-25 16:20:00\n"
     ]
    }
   ],
   "source": [
    "print(datetime_object)"
   ]
  },
  {
   "cell_type": "code",
   "execution_count": 1,
   "id": "9ab7b061",
   "metadata": {},
   "outputs": [],
   "source": [
    "import datetime"
   ]
  },
  {
   "cell_type": "code",
   "execution_count": 6,
   "id": "5c8ff3f7",
   "metadata": {},
   "outputs": [
    {
     "data": {
      "text/plain": [
       "datetime.time(20, 0, 5, 662272)"
      ]
     },
     "execution_count": 6,
     "metadata": {},
     "output_type": "execute_result"
    }
   ],
   "source": [
    "datetime.datetime.now().time()"
   ]
  },
  {
   "cell_type": "code",
   "execution_count": 3,
   "id": "6ef87ee8",
   "metadata": {},
   "outputs": [],
   "source": [
    "import time"
   ]
  },
  {
   "cell_type": "code",
   "execution_count": 9,
   "id": "83f8a6d1",
   "metadata": {},
   "outputs": [
    {
     "data": {
      "text/plain": [
       "'2022-08-30 14:30:48'"
      ]
     },
     "execution_count": 9,
     "metadata": {},
     "output_type": "execute_result"
    }
   ],
   "source": [
    "time.strftime(\"%Y-%m-%d %H:%M:%S\", time.gmtime())"
   ]
  },
  {
   "cell_type": "code",
   "execution_count": 10,
   "id": "bf508e35",
   "metadata": {},
   "outputs": [],
   "source": [
    "date_string = \"Feb 25 2020 4:20PM\""
   ]
  },
  {
   "cell_type": "code",
   "execution_count": 14,
   "id": "7e189fb4",
   "metadata": {},
   "outputs": [
    {
     "name": "stdout",
     "output_type": "stream",
     "text": [
      "2020-02-25 16:20:00\n"
     ]
    }
   ],
   "source": [
    "datetime_object  = datetime.datetime.strptime(date_string,'%b %d %Y %I:%M%p')\n",
    "print(datetime_object)"
   ]
  },
  {
   "cell_type": "code",
   "execution_count": 16,
   "id": "08bf2a42",
   "metadata": {},
   "outputs": [],
   "source": [
    "given_date = datetime.datetime(2020, 2, 25)"
   ]
  },
  {
   "cell_type": "code",
   "execution_count": 17,
   "id": "fd2df088",
   "metadata": {},
   "outputs": [
    {
     "name": "stdout",
     "output_type": "stream",
     "text": [
      "2020-02-25 00:00:00\n"
     ]
    }
   ],
   "source": [
    "print(given_date)"
   ]
  },
  {
   "cell_type": "code",
   "execution_count": 18,
   "id": "ec66fce4",
   "metadata": {},
   "outputs": [],
   "source": [
    "days_to_subtract = 7"
   ]
  },
  {
   "cell_type": "code",
   "execution_count": 24,
   "id": "6b7de504",
   "metadata": {},
   "outputs": [],
   "source": [
    "res_date  = given_date+datetime.timedelta(days_to_subtract)"
   ]
  },
  {
   "cell_type": "code",
   "execution_count": 25,
   "id": "f6a31ba2",
   "metadata": {},
   "outputs": [
    {
     "name": "stdout",
     "output_type": "stream",
     "text": [
      "2020-03-03 00:00:00\n"
     ]
    }
   ],
   "source": [
    "print(res_date)"
   ]
  },
  {
   "cell_type": "code",
   "execution_count": 26,
   "id": "e3b95104",
   "metadata": {},
   "outputs": [
    {
     "ename": "SyntaxError",
     "evalue": "invalid syntax (1960519643.py, line 1)",
     "output_type": "error",
     "traceback": [
      "\u001b[1;36m  Input \u001b[1;32mIn [26]\u001b[1;36m\u001b[0m\n\u001b[1;33m    Day_name  Day_number  Month_name  Year\u001b[0m\n\u001b[1;37m              ^\u001b[0m\n\u001b[1;31mSyntaxError\u001b[0m\u001b[1;31m:\u001b[0m invalid syntax\n"
     ]
    }
   ],
   "source": [
    "Day_name  Day_number  Month_name  Year"
   ]
  },
  {
   "cell_type": "code",
   "execution_count": 28,
   "id": "cf4cff48",
   "metadata": {},
   "outputs": [],
   "source": [
    "given_date = datetime.datetime(2020, 2, 25)"
   ]
  },
  {
   "cell_type": "code",
   "execution_count": 35,
   "id": "cb604e02",
   "metadata": {},
   "outputs": [
    {
     "data": {
      "text/plain": [
       "'Tuesday 25 February 2020'"
      ]
     },
     "execution_count": 35,
     "metadata": {},
     "output_type": "execute_result"
    }
   ],
   "source": [
    "datetime.datetime.strftime(given_date, \"%A %d %B %Y\")"
   ]
  },
  {
   "cell_type": "code",
   "execution_count": 37,
   "id": "5f0859f7",
   "metadata": {},
   "outputs": [],
   "source": [
    "given_date = datetime.datetime(2020, 7, 26)"
   ]
  },
  {
   "cell_type": "code",
   "execution_count": 38,
   "id": "a75be767",
   "metadata": {},
   "outputs": [
    {
     "data": {
      "text/plain": [
       "'Sunday'"
      ]
     },
     "execution_count": 38,
     "metadata": {},
     "output_type": "execute_result"
    }
   ],
   "source": [
    "datetime.datetime.strftime(given_date, \"%A\")"
   ]
  },
  {
   "cell_type": "code",
   "execution_count": 39,
   "id": "adea2c7b",
   "metadata": {},
   "outputs": [
    {
     "data": {
      "text/plain": [
       "'Sunday'"
      ]
     },
     "execution_count": 39,
     "metadata": {},
     "output_type": "execute_result"
    }
   ],
   "source": [
    "given_date.strftime(\"%A\")"
   ]
  },
  {
   "cell_type": "code",
   "execution_count": 41,
   "id": "9cc1734f",
   "metadata": {},
   "outputs": [
    {
     "data": {
      "text/plain": [
       "1"
      ]
     },
     "execution_count": 41,
     "metadata": {},
     "output_type": "execute_result"
    }
   ],
   "source": [
    "given_date.today().weekday()"
   ]
  },
  {
   "cell_type": "code",
   "execution_count": 42,
   "id": "ef3aeeac",
   "metadata": {},
   "outputs": [],
   "source": [
    "import calendar"
   ]
  },
  {
   "cell_type": "code",
   "execution_count": 47,
   "id": "df3d6014",
   "metadata": {},
   "outputs": [],
   "source": [
    "weekday  = calendar.day_name[given_date.weekday()]"
   ]
  },
  {
   "cell_type": "code",
   "execution_count": 48,
   "id": "a7a63da7",
   "metadata": {},
   "outputs": [
    {
     "name": "stdout",
     "output_type": "stream",
     "text": [
      "Sunday\n"
     ]
    }
   ],
   "source": [
    "print(weekday)"
   ]
  },
  {
   "cell_type": "code",
   "execution_count": 50,
   "id": "5bf43753",
   "metadata": {},
   "outputs": [],
   "source": [
    "given_date = datetime.datetime(2020, 3, 22, 10, 0, 0)"
   ]
  },
  {
   "cell_type": "code",
   "execution_count": 51,
   "id": "79cfa3d3",
   "metadata": {},
   "outputs": [
    {
     "data": {
      "text/plain": [
       "datetime.datetime(2020, 3, 22, 10, 0)"
      ]
     },
     "execution_count": 51,
     "metadata": {},
     "output_type": "execute_result"
    }
   ],
   "source": [
    "given_date"
   ]
  },
  {
   "cell_type": "code",
   "execution_count": 54,
   "id": "b1b2188c",
   "metadata": {},
   "outputs": [],
   "source": [
    "res_date  = given_date + datetime.timedelta(days = 7, hours = 12)"
   ]
  },
  {
   "cell_type": "code",
   "execution_count": 55,
   "id": "844933dd",
   "metadata": {},
   "outputs": [
    {
     "name": "stdout",
     "output_type": "stream",
     "text": [
      "2020-03-29 22:00:00\n"
     ]
    }
   ],
   "source": [
    "print(res_date)"
   ]
  },
  {
   "cell_type": "code",
   "execution_count": 59,
   "id": "9b2a442f",
   "metadata": {},
   "outputs": [
    {
     "data": {
      "text/plain": [
       "datetime.time(20, 42, 37, 826627)"
      ]
     },
     "execution_count": 59,
     "metadata": {},
     "output_type": "execute_result"
    }
   ],
   "source": [
    "datetime.datetime.now().time()"
   ]
  },
  {
   "cell_type": "code",
   "execution_count": 65,
   "id": "1480a123",
   "metadata": {},
   "outputs": [
    {
     "name": "stdout",
     "output_type": "stream",
     "text": [
      "1661872434432\n"
     ]
    }
   ],
   "source": [
    "milliseconds  = int(round(time.time()*1000))\n",
    "print(milliseconds)"
   ]
  },
  {
   "cell_type": "code",
   "execution_count": 67,
   "id": "01eccc36",
   "metadata": {},
   "outputs": [],
   "source": [
    "given_date = datetime.datetime(2020, 2, 25)"
   ]
  },
  {
   "cell_type": "code",
   "execution_count": 68,
   "id": "6261d469",
   "metadata": {},
   "outputs": [
    {
     "data": {
      "text/plain": [
       "datetime.datetime(2020, 2, 25, 0, 0)"
      ]
     },
     "execution_count": 68,
     "metadata": {},
     "output_type": "execute_result"
    }
   ],
   "source": [
    "given_date"
   ]
  },
  {
   "cell_type": "code",
   "execution_count": 70,
   "id": "b5c83801",
   "metadata": {},
   "outputs": [],
   "source": [
    "str_date = datetime.datetime.strftime(given_date,'%Y-%m-%d %H:%M:%S' )"
   ]
  },
  {
   "cell_type": "code",
   "execution_count": 71,
   "id": "fef3bf9e",
   "metadata": {},
   "outputs": [
    {
     "data": {
      "text/plain": [
       "str"
      ]
     },
     "execution_count": 71,
     "metadata": {},
     "output_type": "execute_result"
    }
   ],
   "source": [
    "type(str_date)"
   ]
  },
  {
   "cell_type": "code",
   "execution_count": 73,
   "id": "d521f5a5",
   "metadata": {},
   "outputs": [
    {
     "data": {
      "text/plain": [
       "'2020-02-25 00:00:00'"
      ]
     },
     "execution_count": 73,
     "metadata": {},
     "output_type": "execute_result"
    }
   ],
   "source": [
    "str_date"
   ]
  },
  {
   "cell_type": "code",
   "execution_count": 74,
   "id": "6558f791",
   "metadata": {},
   "outputs": [
    {
     "data": {
      "text/plain": [
       "'2020-02-25 00:00:00'"
      ]
     },
     "execution_count": 74,
     "metadata": {},
     "output_type": "execute_result"
    }
   ],
   "source": [
    "given_date.strftime('%Y-%m-%d %H:%M:%S')"
   ]
  },
  {
   "cell_type": "code",
   "execution_count": 76,
   "id": "eb8a979c",
   "metadata": {},
   "outputs": [],
   "source": [
    "given_date = datetime.datetime(2020, 2, 25).date()"
   ]
  },
  {
   "cell_type": "code",
   "execution_count": 77,
   "id": "1a8e28a3",
   "metadata": {},
   "outputs": [
    {
     "data": {
      "text/plain": [
       "datetime.date(2020, 2, 25)"
      ]
     },
     "execution_count": 77,
     "metadata": {},
     "output_type": "execute_result"
    }
   ],
   "source": [
    "given_date"
   ]
  },
  {
   "cell_type": "code",
   "execution_count": 79,
   "id": "263da18d",
   "metadata": {},
   "outputs": [
    {
     "data": {
      "text/plain": [
       "datetime.date(2020, 3, 24)"
      ]
     },
     "execution_count": 79,
     "metadata": {},
     "output_type": "execute_result"
    }
   ],
   "source": [
    "given_date + datetime.timedelta(days = 28)"
   ]
  },
  {
   "cell_type": "code",
   "execution_count": 80,
   "id": "665f0939",
   "metadata": {},
   "outputs": [],
   "source": [
    "from dateutil.relativedelta import relativedelta"
   ]
  },
  {
   "cell_type": "code",
   "execution_count": 81,
   "id": "d0f33fce",
   "metadata": {},
   "outputs": [
    {
     "data": {
      "text/plain": [
       "datetime.date(2020, 6, 25)"
      ]
     },
     "execution_count": 81,
     "metadata": {},
     "output_type": "execute_result"
    }
   ],
   "source": [
    "given_date + relativedelta(months=+4)"
   ]
  },
  {
   "cell_type": "code",
   "execution_count": 86,
   "id": "77c6f20d",
   "metadata": {},
   "outputs": [],
   "source": [
    "# 2020-02-25\n",
    "date_1 = datetime.datetime(2020, 2, 25).date()\n",
    "\n",
    "# 2020-09-17\n",
    "date_2 = datetime.datetime(2020, 9, 17).date()"
   ]
  },
  {
   "cell_type": "code",
   "execution_count": 88,
   "id": "a682fbc3",
   "metadata": {},
   "outputs": [],
   "source": [
    "delta = None\n",
    "\n",
    "if date_1>date_2:\n",
    "    delta = date_1-date_2\n",
    "    \n",
    "else:\n",
    "    delta = date_2-date_1"
   ]
  },
  {
   "cell_type": "code",
   "execution_count": 91,
   "id": "8dab7cea",
   "metadata": {},
   "outputs": [
    {
     "data": {
      "text/plain": [
       "205"
      ]
     },
     "execution_count": 91,
     "metadata": {},
     "output_type": "execute_result"
    }
   ],
   "source": [
    "delta.days"
   ]
  },
  {
   "cell_type": "code",
   "execution_count": 92,
   "id": "808ac32b",
   "metadata": {},
   "outputs": [],
   "source": [
    "data = {\"key1\" : \"value1\", \"key2\" : \"value2\"}"
   ]
  },
  {
   "cell_type": "code",
   "execution_count": 93,
   "id": "da7fa28f",
   "metadata": {},
   "outputs": [],
   "source": [
    "import json"
   ]
  },
  {
   "cell_type": "code",
   "execution_count": 94,
   "id": "18e8cba8",
   "metadata": {},
   "outputs": [],
   "source": [
    "jsonData  = json.dumps(data)"
   ]
  },
  {
   "cell_type": "code",
   "execution_count": 95,
   "id": "eb73c71a",
   "metadata": {},
   "outputs": [
    {
     "name": "stdout",
     "output_type": "stream",
     "text": [
      "{\"key1\": \"value1\", \"key2\": \"value2\"}\n"
     ]
    }
   ],
   "source": [
    "print(jsonData)"
   ]
  },
  {
   "cell_type": "code",
   "execution_count": 96,
   "id": "726ab939",
   "metadata": {},
   "outputs": [],
   "source": [
    "import json\n",
    "\n",
    "sampleJson = \"\"\"{\"key1\": \"value1\", \"key2\": \"value2\"}\"\"\""
   ]
  },
  {
   "cell_type": "code",
   "execution_count": 97,
   "id": "2c508b64",
   "metadata": {},
   "outputs": [
    {
     "data": {
      "text/plain": [
       "str"
      ]
     },
     "execution_count": 97,
     "metadata": {},
     "output_type": "execute_result"
    }
   ],
   "source": [
    "type(sampleJson)"
   ]
  },
  {
   "cell_type": "code",
   "execution_count": 104,
   "id": "c1fb2eb4",
   "metadata": {},
   "outputs": [],
   "source": [
    "data  = json.loads(sampleJson)"
   ]
  },
  {
   "cell_type": "code",
   "execution_count": 105,
   "id": "6ab64672",
   "metadata": {},
   "outputs": [
    {
     "data": {
      "text/plain": [
       "'value2'"
      ]
     },
     "execution_count": 105,
     "metadata": {},
     "output_type": "execute_result"
    }
   ],
   "source": [
    "data['key2']"
   ]
  },
  {
   "cell_type": "code",
   "execution_count": 106,
   "id": "880c0e8d",
   "metadata": {},
   "outputs": [],
   "source": [
    "sampleJson = {\"key1\": \"value1\", \"key2\": \"value2\"}"
   ]
  },
  {
   "cell_type": "code",
   "execution_count": 108,
   "id": "40131bbc",
   "metadata": {},
   "outputs": [],
   "source": [
    "prettyPrintedJson   = json.dumps(sampleJson,indent=2, separators=(\",\", \" = \") )"
   ]
  },
  {
   "cell_type": "code",
   "execution_count": 109,
   "id": "97a78b24",
   "metadata": {},
   "outputs": [
    {
     "name": "stdout",
     "output_type": "stream",
     "text": [
      "{\n",
      "  \"key1\" = \"value1\",\n",
      "  \"key2\" = \"value2\"\n",
      "}\n"
     ]
    }
   ],
   "source": [
    "print(prettyPrintedJson)"
   ]
  },
  {
   "cell_type": "code",
   "execution_count": 110,
   "id": "76306d67",
   "metadata": {},
   "outputs": [],
   "source": [
    "sampleJson = {\"id\" : 1, \"name\" : \"value2\", \"age\" : 29}"
   ]
  },
  {
   "cell_type": "code",
   "execution_count": 112,
   "id": "4485fe19",
   "metadata": {},
   "outputs": [],
   "source": [
    "with open(\"samplejson.json\", \"w\") as fp:\n",
    "    json.dump(sampleJson,fp, indent=4, sort_keys=True)"
   ]
  },
  {
   "cell_type": "code",
   "execution_count": 113,
   "id": "d8badd57",
   "metadata": {},
   "outputs": [],
   "source": [
    "sampleJson = \"\"\"{ \n",
    "   \"company\":{ \n",
    "      \"employee\":{ \n",
    "         \"name\":\"emma\",\n",
    "         \"payble\":{ \n",
    "            \"salary\":7000,\n",
    "            \"bonus\":800\n",
    "         }\n",
    "      }\n",
    "   }\n",
    "}\"\"\""
   ]
  },
  {
   "cell_type": "code",
   "execution_count": 121,
   "id": "91d912d1",
   "metadata": {},
   "outputs": [],
   "source": [
    "d = json.loads(sampleJson)"
   ]
  },
  {
   "cell_type": "code",
   "execution_count": 126,
   "id": "40798392",
   "metadata": {},
   "outputs": [
    {
     "data": {
      "text/plain": [
       "7000"
      ]
     },
     "execution_count": 126,
     "metadata": {},
     "output_type": "execute_result"
    }
   ],
   "source": [
    "d['company']['employee']['payble']['salary']"
   ]
  },
  {
   "cell_type": "code",
   "execution_count": 127,
   "id": "587d84ea",
   "metadata": {},
   "outputs": [],
   "source": [
    "class Vehicle:\n",
    "    def __init__(self, name, engine, price):\n",
    "        self.name = name\n",
    "        self.engine = engine\n",
    "        self.price = price\n",
    "\n",
    "vehicle = Vehicle(\"Toyota Rav4\", \"2.5L\", 32000)"
   ]
  },
  {
   "cell_type": "code",
   "execution_count": 132,
   "id": "164c0e44",
   "metadata": {},
   "outputs": [],
   "source": [
    "class Vehicle:\n",
    "    def __init__(self, name, engine, price):\n",
    "        self.name = name\n",
    "        self.engine = engine\n",
    "        self.price = price\n",
    "        \n",
    "        \n",
    "class vehicalencoder(json.JSONEncoder):\n",
    "    def default(self,o):\n",
    "        return o.__dict__"
   ]
  },
  {
   "cell_type": "code",
   "execution_count": 133,
   "id": "bc11f5db",
   "metadata": {},
   "outputs": [],
   "source": [
    "vehicle = Vehicle(\"Toyota Rav4\", \"2.5L\", 32000)"
   ]
  },
  {
   "cell_type": "code",
   "execution_count": 136,
   "id": "eb988a9c",
   "metadata": {},
   "outputs": [],
   "source": [
    "vehicleJson  = json.dumps(vehicle, indent=4, cls= vehicalencoder)"
   ]
  },
  {
   "cell_type": "code",
   "execution_count": 137,
   "id": "75a01519",
   "metadata": {},
   "outputs": [
    {
     "name": "stdout",
     "output_type": "stream",
     "text": [
      "{\n",
      "    \"name\": \"Toyota Rav4\",\n",
      "    \"engine\": \"2.5L\",\n",
      "    \"price\": 32000\n",
      "}\n"
     ]
    }
   ],
   "source": [
    "print(vehicleJson)"
   ]
  },
  {
   "cell_type": "code",
   "execution_count": 138,
   "id": "83253c2e",
   "metadata": {},
   "outputs": [
    {
     "data": {
      "text/plain": [
       "{'name': 'Toyota Rav4', 'engine': '2.5L', 'price': 32000}"
      ]
     },
     "execution_count": 138,
     "metadata": {},
     "output_type": "execute_result"
    }
   ],
   "source": [
    "{ \"name\": \"Toyota Rav4\", \"engine\": \"2.5L\", \"price\": 32000 }"
   ]
  },
  {
   "cell_type": "code",
   "execution_count": 146,
   "id": "e5b33f7b",
   "metadata": {},
   "outputs": [],
   "source": [
    "class Vehical:\n",
    "    def __init__(self,name,engine,price):\n",
    "        self.name = name\n",
    "        self.engine = engine\n",
    "        self.price = price\n",
    "        \n",
    "def vehicleDecoder(obj):\n",
    "    return Vehical(obj['name'], obj['engine'], obj['price'])  "
   ]
  },
  {
   "cell_type": "code",
   "execution_count": 147,
   "id": "1f8c8ef8",
   "metadata": {},
   "outputs": [],
   "source": [
    "vehicleObj  = json.loads('{ \"name\": \"Toyota Rav4\", \"engine\": \"2.5L\", \"price\": 32000 }', object_hook = vehicleDecoder)"
   ]
  },
  {
   "cell_type": "code",
   "execution_count": 152,
   "id": "0ecaeaed",
   "metadata": {},
   "outputs": [
    {
     "name": "stdout",
     "output_type": "stream",
     "text": [
      "2.5L Toyota Rav4 32000\n"
     ]
    }
   ],
   "source": [
    "print(vehicleObj.engine, vehicleObj.name, vehicleObj.price)"
   ]
  },
  {
   "cell_type": "code",
   "execution_count": 159,
   "id": "d27803f5",
   "metadata": {},
   "outputs": [],
   "source": [
    "d =\"\"\"{ \n",
    "   \"company\":{ \n",
    "      \"employee\":{ \n",
    "         \"name\":\"emma\",\n",
    "         \"payble\":{ \n",
    "            \"salary\":7000,\n",
    "            \"bonus\":800\n",
    "         }\n",
    "      }\n",
    "   }\n",
    "}\"\"\""
   ]
  },
  {
   "cell_type": "code",
   "execution_count": 160,
   "id": "96c78d42",
   "metadata": {},
   "outputs": [],
   "source": [
    "def jsondatcheck(jsondata):\n",
    "    try:\n",
    "        json.loads(jsondata)\n",
    "    except Exception as err:\n",
    "        return False\n",
    "    return True"
   ]
  },
  {
   "cell_type": "code",
   "execution_count": 161,
   "id": "6fdddc4c",
   "metadata": {},
   "outputs": [
    {
     "data": {
      "text/plain": [
       "True"
      ]
     },
     "execution_count": 161,
     "metadata": {},
     "output_type": "execute_result"
    }
   ],
   "source": [
    "jsondatcheck(d)"
   ]
  },
  {
   "cell_type": "code",
   "execution_count": 162,
   "id": "e4e068b7",
   "metadata": {},
   "outputs": [
    {
     "data": {
      "text/plain": [
       "{'company': {'employee': {'name': 'emma',\n",
       "   'payble': {'salary': 7000, 'bonus': 800}}}}"
      ]
     },
     "execution_count": 162,
     "metadata": {},
     "output_type": "execute_result"
    }
   ],
   "source": [
    "json.loads(d)"
   ]
  },
  {
   "cell_type": "code",
   "execution_count": 163,
   "id": "49b58701",
   "metadata": {},
   "outputs": [],
   "source": [
    "f = \"\"\"[ \n",
    "   { \n",
    "      \"id\":1,\n",
    "      \"name\":\"name1\",\n",
    "      \"color\":[ \n",
    "         \"red\",\n",
    "         \"green\"\n",
    "      ]\n",
    "   },\n",
    "   { \n",
    "      \"id\":2,\n",
    "      \"name\":\"name2\",\n",
    "      \"color\":[ \n",
    "         \"pink\",\n",
    "         \"yellow\"\n",
    "      ]\n",
    "   }\n",
    "]\"\"\""
   ]
  },
  {
   "cell_type": "code",
   "execution_count": 164,
   "id": "9f95ab91",
   "metadata": {},
   "outputs": [],
   "source": [
    "try:\n",
    "    data = json.loads(f)\n",
    "except Exception as err:\n",
    "    print(err)\n",
    "    "
   ]
  },
  {
   "cell_type": "code",
   "execution_count": 167,
   "id": "5ec643b3",
   "metadata": {},
   "outputs": [],
   "source": [
    "dataList  = [i.get('name') for i in data]"
   ]
  },
  {
   "cell_type": "code",
   "execution_count": 168,
   "id": "33b7e3e0",
   "metadata": {},
   "outputs": [
    {
     "name": "stdout",
     "output_type": "stream",
     "text": [
      "['name1', 'name2']\n"
     ]
    }
   ],
   "source": [
    "print(dataList)"
   ]
  },
  {
   "cell_type": "code",
   "execution_count": 220,
   "id": "d252b662",
   "metadata": {},
   "outputs": [
    {
     "name": "stdout",
     "output_type": "stream",
     "text": [
      "enter your number:12\n"
     ]
    }
   ],
   "source": [
    "p = int(input('enter your number:', ))"
   ]
  },
  {
   "cell_type": "code",
   "execution_count": 221,
   "id": "605b9f84",
   "metadata": {},
   "outputs": [],
   "source": [
    "def primecheck(n):\n",
    "    is_prime = True\n",
    "    if n>0:\n",
    "        for j in range(2,n):\n",
    "            if n%j==0:\n",
    "                is_prime = False\n",
    "                break\n",
    "    return is_prime\n",
    "                \n",
    "            \n",
    "            \n",
    "        "
   ]
  },
  {
   "cell_type": "code",
   "execution_count": 222,
   "id": "0cff0115",
   "metadata": {},
   "outputs": [
    {
     "data": {
      "text/plain": [
       "False"
      ]
     },
     "execution_count": 222,
     "metadata": {},
     "output_type": "execute_result"
    }
   ],
   "source": [
    "primecheck(p)"
   ]
  },
  {
   "cell_type": "code",
   "execution_count": 214,
   "id": "d0e35386",
   "metadata": {},
   "outputs": [],
   "source": [
    "a = [[1,2,3], [4,5,6]]\n"
   ]
  },
  {
   "cell_type": "code",
   "execution_count": 215,
   "id": "339073c1",
   "metadata": {},
   "outputs": [],
   "source": [
    "def trans(n):\n",
    "    return [list(i) for i in list(zip(*a))]\n",
    "    "
   ]
  },
  {
   "cell_type": "code",
   "execution_count": 216,
   "id": "47a3430c",
   "metadata": {},
   "outputs": [
    {
     "data": {
      "text/plain": [
       "[[1, 4], [2, 5], [3, 6]]"
      ]
     },
     "execution_count": 216,
     "metadata": {},
     "output_type": "execute_result"
    }
   ],
   "source": [
    "trans(a)"
   ]
  },
  {
   "cell_type": "code",
   "execution_count": 223,
   "id": "b5ef6689",
   "metadata": {},
   "outputs": [],
   "source": [
    "a = [[1,2,3], [4,5,6]]"
   ]
  },
  {
   "cell_type": "code",
   "execution_count": 224,
   "id": "e015c369",
   "metadata": {},
   "outputs": [],
   "source": [
    "def transposesee(n):\n",
    "    return [list(i)for i in list(zip(*n))]"
   ]
  },
  {
   "cell_type": "code",
   "execution_count": 225,
   "id": "47c37689",
   "metadata": {},
   "outputs": [
    {
     "data": {
      "text/plain": [
       "[[1, 4], [2, 5], [3, 6]]"
      ]
     },
     "execution_count": 225,
     "metadata": {},
     "output_type": "execute_result"
    }
   ],
   "source": [
    "transposesee(a)"
   ]
  },
  {
   "cell_type": "code",
   "execution_count": 243,
   "id": "da9000e4",
   "metadata": {},
   "outputs": [],
   "source": [
    "n = [12,15,13,8,19,25]\n"
   ]
  },
  {
   "cell_type": "code",
   "execution_count": 244,
   "id": "73ce3639",
   "metadata": {},
   "outputs": [],
   "source": [
    "def secondmax(n):\n",
    "    d1 = [i for i in n if i!=max(n)]\n",
    "    d2 = max(d1)\n",
    "    return d2"
   ]
  },
  {
   "cell_type": "code",
   "execution_count": 245,
   "id": "8670fd05",
   "metadata": {},
   "outputs": [
    {
     "data": {
      "text/plain": [
       "19"
      ]
     },
     "execution_count": 245,
     "metadata": {},
     "output_type": "execute_result"
    }
   ],
   "source": [
    "secondmax(n)"
   ]
  },
  {
   "cell_type": "code",
   "execution_count": 246,
   "id": "a61d9b47",
   "metadata": {},
   "outputs": [],
   "source": [
    "l = [1,2,2,3,4,5,5,5,6,7,7,8,8]"
   ]
  },
  {
   "cell_type": "code",
   "execution_count": 247,
   "id": "6b6be267",
   "metadata": {},
   "outputs": [
    {
     "data": {
      "text/plain": [
       "{1, 2, 3, 4, 5, 6, 7, 8}"
      ]
     },
     "execution_count": 247,
     "metadata": {},
     "output_type": "execute_result"
    }
   ],
   "source": [
    "set(l)"
   ]
  },
  {
   "cell_type": "code",
   "execution_count": 251,
   "id": "b84eec3f",
   "metadata": {},
   "outputs": [
    {
     "data": {
      "text/plain": [
       "[1, 2, 2, 3, 4, 5, 5, 5, 6, 7, 7, 8, 8]"
      ]
     },
     "execution_count": 251,
     "metadata": {},
     "output_type": "execute_result"
    }
   ],
   "source": [
    "l"
   ]
  },
  {
   "cell_type": "code",
   "execution_count": 252,
   "id": "1212bf24",
   "metadata": {},
   "outputs": [
    {
     "data": {
      "text/plain": [
       "[1, 2, 3, 4, 5, 6, 7, 8]"
      ]
     },
     "execution_count": 252,
     "metadata": {},
     "output_type": "execute_result"
    }
   ],
   "source": [
    "newlst = []\n",
    "for i in l:\n",
    "    if i not in newlst:\n",
    "        newlst.append(i)\n",
    "    else:\n",
    "        pass\n",
    "newlst"
   ]
  },
  {
   "cell_type": "code",
   "execution_count": null,
   "id": "ec08c9b3",
   "metadata": {},
   "outputs": [],
   "source": []
  },
  {
   "cell_type": "code",
   "execution_count": 264,
   "id": "de5901b1",
   "metadata": {},
   "outputs": [],
   "source": [
    "l1 = [1,2,3,4,7,2,3,5,6,7,8,9,11,12,13]"
   ]
  },
  {
   "cell_type": "code",
   "execution_count": 267,
   "id": "83d785f9",
   "metadata": {},
   "outputs": [
    {
     "name": "stdout",
     "output_type": "stream",
     "text": [
      "1\n",
      "2\n",
      "3\n",
      "4\n",
      "7\n",
      "2\n",
      "3\n",
      "5\n",
      "6\n",
      "7\n",
      "8\n",
      "9\n",
      "11\n",
      "12\n",
      "13\n"
     ]
    }
   ],
   "source": [
    "for i in l1:\n",
    "    if i+=1\n",
    "    print(i)"
   ]
  },
  {
   "cell_type": "code",
   "execution_count": 275,
   "id": "07cbe741",
   "metadata": {},
   "outputs": [],
   "source": [
    "import random"
   ]
  },
  {
   "cell_type": "code",
   "execution_count": 277,
   "id": "64f9ba3d",
   "metadata": {},
   "outputs": [
    {
     "name": "stdout",
     "output_type": "stream",
     "text": [
      "195,155,100,"
     ]
    }
   ],
   "source": [
    "for i in range(3):\n",
    "    print(random.randrange(100,199,5), end=\",\")"
   ]
  },
  {
   "cell_type": "code",
   "execution_count": 284,
   "id": "e729c345",
   "metadata": {},
   "outputs": [],
   "source": [
    "newlst = []\n",
    "for i in range(100):\n",
    "    newlst.append(random.randrange(1000000000,9999999999))\n",
    "    \n",
    "    "
   ]
  },
  {
   "cell_type": "code",
   "execution_count": 288,
   "id": "eeda43bf",
   "metadata": {},
   "outputs": [
    {
     "name": "stdout",
     "output_type": "stream",
     "text": [
      "[9318583145, 8462760907]\n"
     ]
    }
   ],
   "source": [
    "print(random.sample(newlst,2))"
   ]
  },
  {
   "cell_type": "code",
   "execution_count": 289,
   "id": "02590280",
   "metadata": {},
   "outputs": [],
   "source": [
    "import secrets"
   ]
  },
  {
   "cell_type": "code",
   "execution_count": 291,
   "id": "c4b8ace1",
   "metadata": {},
   "outputs": [
    {
     "data": {
      "text/plain": [
       "'ee7b3a4460cc'"
      ]
     },
     "execution_count": 291,
     "metadata": {},
     "output_type": "execute_result"
    }
   ],
   "source": [
    "secrets.token_hex(6)"
   ]
  },
  {
   "cell_type": "code",
   "execution_count": 293,
   "id": "2ee05778",
   "metadata": {},
   "outputs": [],
   "source": [
    "secretsGenerator  = secrets.SystemRandom()"
   ]
  },
  {
   "cell_type": "code",
   "execution_count": 299,
   "id": "45edc00e",
   "metadata": {},
   "outputs": [],
   "source": [
    "otp = secretsGenerator.randrange(10000,999999)"
   ]
  },
  {
   "cell_type": "code",
   "execution_count": 300,
   "id": "c2e6e0de",
   "metadata": {},
   "outputs": [
    {
     "name": "stdout",
     "output_type": "stream",
     "text": [
      "secure otp is: 752971\n"
     ]
    }
   ],
   "source": [
    "print('secure otp is:', otp)"
   ]
  },
  {
   "cell_type": "code",
   "execution_count": 304,
   "id": "841e6e52",
   "metadata": {},
   "outputs": [
    {
     "name": "stdout",
     "output_type": "stream",
     "text": [
      "494262\n"
     ]
    }
   ],
   "source": [
    "print(secrets.SystemRandom().randrange(10000,999999))"
   ]
  },
  {
   "cell_type": "code",
   "execution_count": 305,
   "id": "2e977508",
   "metadata": {},
   "outputs": [],
   "source": [
    "S1 = 'secretsGenerator'"
   ]
  },
  {
   "cell_type": "code",
   "execution_count": 310,
   "id": "c76cdeac",
   "metadata": {},
   "outputs": [
    {
     "data": {
      "text/plain": [
       "'s'"
      ]
     },
     "execution_count": 310,
     "metadata": {},
     "output_type": "execute_result"
    }
   ],
   "source": [
    "random.choice(S1)"
   ]
  },
  {
   "cell_type": "code",
   "execution_count": 311,
   "id": "d8fadbec",
   "metadata": {},
   "outputs": [
    {
     "data": {
      "text/plain": [
       "'74c698324398e47549e7321c14478e9739689bd01bbfead4db03b82cf0ee7aeb'"
      ]
     },
     "execution_count": 311,
     "metadata": {},
     "output_type": "execute_result"
    }
   ],
   "source": [
    "secrets.token_hex()"
   ]
  },
  {
   "cell_type": "code",
   "execution_count": 312,
   "id": "64711432",
   "metadata": {},
   "outputs": [],
   "source": [
    "import random\n",
    "import string"
   ]
  },
  {
   "cell_type": "code",
   "execution_count": 313,
   "id": "e0b0d458",
   "metadata": {},
   "outputs": [],
   "source": [
    "def stringlenght(n):\n",
    "    letters = string.ascii_letters\n",
    "    return \" \".join(random.choice(letters) for i in range(n))"
   ]
  },
  {
   "cell_type": "code",
   "execution_count": 314,
   "id": "3c6f9024",
   "metadata": {},
   "outputs": [
    {
     "data": {
      "text/plain": [
       "'F n n e e'"
      ]
     },
     "execution_count": 314,
     "metadata": {},
     "output_type": "execute_result"
    }
   ],
   "source": [
    "stringlenght(5)"
   ]
  },
  {
   "cell_type": "code",
   "execution_count": null,
   "id": "9e33cfdd",
   "metadata": {},
   "outputs": [],
   "source": []
  }
 ],
 "metadata": {
  "kernelspec": {
   "display_name": "Python 3 (ipykernel)",
   "language": "python",
   "name": "python3"
  },
  "language_info": {
   "codemirror_mode": {
    "name": "ipython",
    "version": 3
   },
   "file_extension": ".py",
   "mimetype": "text/x-python",
   "name": "python",
   "nbconvert_exporter": "python",
   "pygments_lexer": "ipython3",
   "version": "3.8.8"
  }
 },
 "nbformat": 4,
 "nbformat_minor": 5
}
